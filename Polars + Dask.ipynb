{
 "cells": [
  {
   "cell_type": "code",
   "execution_count": 1,
   "id": "3790c573-63ff-4d31-a3c2-8cc5eeeb5a7b",
   "metadata": {},
   "outputs": [],
   "source": [
    "# https://www.youtube.com/watch?v=66ndJeFeaXw\n",
    "import polars as pl"
   ]
  },
  {
   "cell_type": "code",
   "execution_count": null,
   "id": "7310b895-dc4a-47a1-97f6-4e8e7a82fc5e",
   "metadata": {},
   "outputs": [],
   "source": [
    "http://www.check-mot.service.gov.uk/results/registration?cn05hjc"
   ]
  }
 ],
 "metadata": {
  "kernelspec": {
   "display_name": "Python 3 (ipykernel)",
   "language": "python",
   "name": "python3"
  },
  "language_info": {
   "codemirror_mode": {
    "name": "ipython",
    "version": 3
   },
   "file_extension": ".py",
   "mimetype": "text/x-python",
   "name": "python",
   "nbconvert_exporter": "python",
   "pygments_lexer": "ipython3",
   "version": "3.12.1"
  }
 },
 "nbformat": 4,
 "nbformat_minor": 5
}
