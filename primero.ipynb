{
 "cells": [
  {
   "cell_type": "code",
   "execution_count": 206,
   "metadata": {},
   "outputs": [],
   "source": [
    "import polars as pl\n",
    "from datetime import datetime\n",
    "import numpy as np\n"
   ]
  },
  {
   "cell_type": "markdown",
   "metadata": {},
   "source": [
    "# Declarar"
   ]
  },
  {
   "cell_type": "code",
   "execution_count": 207,
   "metadata": {},
   "outputs": [],
   "source": [
    "df = pl.DataFrame(\n",
    "    {\n",
    "        \"a\": range(8),\n",
    "        \"b\": np.random.rand(8),\n",
    "        \"d\": [1.0, 2.0, float(\"nan\"), float(\"nan\"), 0.0, -5.0, -42.0, None],\n",
    "    }\n",
    ")\n",
    "\n",
    "df.write_csv(\"output.csv\")"
   ]
  },
  {
   "cell_type": "code",
   "execution_count": 208,
   "metadata": {},
   "outputs": [
    {
     "name": "stdout",
     "output_type": "stream",
     "text": [
      "shape: (3, 4)\n",
      "┌─────────┬─────────────────────┬───────┬────────┐\n",
      "│ integer ┆ date                ┆ float ┆ string │\n",
      "│ ---     ┆ ---                 ┆ ---   ┆ ---    │\n",
      "│ i64     ┆ datetime[μs]        ┆ f64   ┆ str    │\n",
      "╞═════════╪═════════════════════╪═══════╪════════╡\n",
      "│ 1       ┆ 2025-01-01 00:00:00 ┆ 4.0   ┆ a      │\n",
      "│ 2       ┆ 2025-01-02 00:00:00 ┆ 5.0   ┆ b      │\n",
      "│ 3       ┆ 2025-01-03 00:00:00 ┆ 6.0   ┆ c      │\n",
      "└─────────┴─────────────────────┴───────┴────────┘\n"
     ]
    }
   ],
   "source": [
    "df = pl.DataFrame(\n",
    "    {\n",
    "        \"integer\": [1, 2, 3],\n",
    "        \"date\": [\n",
    "            datetime(2025, 1, 1),\n",
    "            datetime(2025, 1, 2),\n",
    "            datetime(2025, 1, 3),\n",
    "        ],\n",
    "        \"float\": [4.0, 5.0, 6.0],\n",
    "        \"string\": [\"a\", \"b\", \"c\"],\n",
    "    }\n",
    ")\n",
    "\n",
    "print(df)"
   ]
  },
  {
   "cell_type": "markdown",
   "metadata": {},
   "source": [
    "# Grabar y leer"
   ]
  },
  {
   "cell_type": "code",
   "execution_count": 209,
   "metadata": {},
   "outputs": [
    {
     "name": "stdout",
     "output_type": "stream",
     "text": [
      "shape: (3, 4)\n",
      "┌─────────┬────────────────────────────┬───────┬────────┐\n",
      "│ integer ┆ date                       ┆ float ┆ string │\n",
      "│ ---     ┆ ---                        ┆ ---   ┆ ---    │\n",
      "│ i64     ┆ str                        ┆ f64   ┆ str    │\n",
      "╞═════════╪════════════════════════════╪═══════╪════════╡\n",
      "│ 1       ┆ 2025-01-01T00:00:00.000000 ┆ 4.0   ┆ a      │\n",
      "│ 2       ┆ 2025-01-02T00:00:00.000000 ┆ 5.0   ┆ b      │\n",
      "│ 3       ┆ 2025-01-03T00:00:00.000000 ┆ 6.0   ┆ c      │\n",
      "└─────────┴────────────────────────────┴───────┴────────┘\n"
     ]
    }
   ],
   "source": [
    "archivo = \"output.csv\"\n",
    "df.write_csv(archivo)\n",
    "df_csv = pl.read_csv(archivo)\n",
    "print(df_csv)"
   ]
  },
  {
   "cell_type": "markdown",
   "metadata": {},
   "source": [
    "# Expresiones"
   ]
  },
  {
   "cell_type": "markdown",
   "metadata": {},
   "source": [
    "* select\n",
    "* filter\n",
    "* with_columns\n",
    "* group_by"
   ]
  },
  {
   "cell_type": "markdown",
   "metadata": {},
   "source": [
    "## Select\n",
    "Esto selecciona la o las columnas donde queremos la info, tiene dos partes, primero el df y después la o las columnas"
   ]
  },
  {
   "cell_type": "code",
   "execution_count": 210,
   "metadata": {},
   "outputs": [
    {
     "data": {
      "text/html": [
       "<div><style>\n",
       ".dataframe > thead > tr,\n",
       ".dataframe > tbody > tr {\n",
       "  text-align: right;\n",
       "  white-space: pre-wrap;\n",
       "}\n",
       "</style>\n",
       "<small>shape: (3, 4)</small><table border=\"1\" class=\"dataframe\"><thead><tr><th>integer</th><th>date</th><th>float</th><th>string</th></tr><tr><td>i64</td><td>datetime[μs]</td><td>f64</td><td>str</td></tr></thead><tbody><tr><td>1</td><td>2025-01-01 00:00:00</td><td>4.0</td><td>&quot;a&quot;</td></tr><tr><td>2</td><td>2025-01-02 00:00:00</td><td>5.0</td><td>&quot;b&quot;</td></tr><tr><td>3</td><td>2025-01-03 00:00:00</td><td>6.0</td><td>&quot;c&quot;</td></tr></tbody></table></div>"
      ],
      "text/plain": [
       "shape: (3, 4)\n",
       "┌─────────┬─────────────────────┬───────┬────────┐\n",
       "│ integer ┆ date                ┆ float ┆ string │\n",
       "│ ---     ┆ ---                 ┆ ---   ┆ ---    │\n",
       "│ i64     ┆ datetime[μs]        ┆ f64   ┆ str    │\n",
       "╞═════════╪═════════════════════╪═══════╪════════╡\n",
       "│ 1       ┆ 2025-01-01 00:00:00 ┆ 4.0   ┆ a      │\n",
       "│ 2       ┆ 2025-01-02 00:00:00 ┆ 5.0   ┆ b      │\n",
       "│ 3       ┆ 2025-01-03 00:00:00 ┆ 6.0   ┆ c      │\n",
       "└─────────┴─────────────────────┴───────┴────────┘"
      ]
     },
     "execution_count": 210,
     "metadata": {},
     "output_type": "execute_result"
    }
   ],
   "source": [
    "df.select(pl.col(\"*\"))"
   ]
  },
  {
   "cell_type": "code",
   "execution_count": 211,
   "metadata": {},
   "outputs": [
    {
     "data": {
      "text/html": [
       "<div><style>\n",
       ".dataframe > thead > tr,\n",
       ".dataframe > tbody > tr {\n",
       "  text-align: right;\n",
       "  white-space: pre-wrap;\n",
       "}\n",
       "</style>\n",
       "<small>shape: (3, 2)</small><table border=\"1\" class=\"dataframe\"><thead><tr><th>date</th><th>string</th></tr><tr><td>datetime[μs]</td><td>str</td></tr></thead><tbody><tr><td>2025-01-01 00:00:00</td><td>&quot;a&quot;</td></tr><tr><td>2025-01-02 00:00:00</td><td>&quot;b&quot;</td></tr><tr><td>2025-01-03 00:00:00</td><td>&quot;c&quot;</td></tr></tbody></table></div>"
      ],
      "text/plain": [
       "shape: (3, 2)\n",
       "┌─────────────────────┬────────┐\n",
       "│ date                ┆ string │\n",
       "│ ---                 ┆ ---    │\n",
       "│ datetime[μs]        ┆ str    │\n",
       "╞═════════════════════╪════════╡\n",
       "│ 2025-01-01 00:00:00 ┆ a      │\n",
       "│ 2025-01-02 00:00:00 ┆ b      │\n",
       "│ 2025-01-03 00:00:00 ┆ c      │\n",
       "└─────────────────────┴────────┘"
      ]
     },
     "execution_count": 211,
     "metadata": {},
     "output_type": "execute_result"
    }
   ],
   "source": [
    "df.select(pl.col(\"date\", \"string\"))"
   ]
  },
  {
   "cell_type": "markdown",
   "metadata": {},
   "source": [
    "## Filter\n",
    "Crea un subconjunto del DF"
   ]
  },
  {
   "cell_type": "code",
   "execution_count": 212,
   "metadata": {},
   "outputs": [
    {
     "data": {
      "text/html": [
       "<div><style>\n",
       ".dataframe > thead > tr,\n",
       ".dataframe > tbody > tr {\n",
       "  text-align: right;\n",
       "  white-space: pre-wrap;\n",
       "}\n",
       "</style>\n",
       "<small>shape: (2, 4)</small><table border=\"1\" class=\"dataframe\"><thead><tr><th>integer</th><th>date</th><th>float</th><th>string</th></tr><tr><td>i64</td><td>datetime[μs]</td><td>f64</td><td>str</td></tr></thead><tbody><tr><td>2</td><td>2025-01-02 00:00:00</td><td>5.0</td><td>&quot;b&quot;</td></tr><tr><td>3</td><td>2025-01-03 00:00:00</td><td>6.0</td><td>&quot;c&quot;</td></tr></tbody></table></div>"
      ],
      "text/plain": [
       "shape: (2, 4)\n",
       "┌─────────┬─────────────────────┬───────┬────────┐\n",
       "│ integer ┆ date                ┆ float ┆ string │\n",
       "│ ---     ┆ ---                 ┆ ---   ┆ ---    │\n",
       "│ i64     ┆ datetime[μs]        ┆ f64   ┆ str    │\n",
       "╞═════════╪═════════════════════╪═══════╪════════╡\n",
       "│ 2       ┆ 2025-01-02 00:00:00 ┆ 5.0   ┆ b      │\n",
       "│ 3       ┆ 2025-01-03 00:00:00 ┆ 6.0   ┆ c      │\n",
       "└─────────┴─────────────────────┴───────┴────────┘"
      ]
     },
     "execution_count": 212,
     "metadata": {},
     "output_type": "execute_result"
    }
   ],
   "source": [
    "df.filter(\n",
    "    pl.col(\"date\").is_between(datetime(2025, 1, 2), datetime(2025, 1, 3)),\n",
    ")"
   ]
  },
  {
   "cell_type": "code",
   "execution_count": 213,
   "metadata": {},
   "outputs": [
    {
     "data": {
      "text/html": [
       "<div><style>\n",
       ".dataframe > thead > tr,\n",
       ".dataframe > tbody > tr {\n",
       "  text-align: right;\n",
       "  white-space: pre-wrap;\n",
       "}\n",
       "</style>\n",
       "<small>shape: (1, 4)</small><table border=\"1\" class=\"dataframe\"><thead><tr><th>integer</th><th>date</th><th>float</th><th>string</th></tr><tr><td>i64</td><td>datetime[μs]</td><td>f64</td><td>str</td></tr></thead><tbody><tr><td>3</td><td>2025-01-03 00:00:00</td><td>6.0</td><td>&quot;c&quot;</td></tr></tbody></table></div>"
      ],
      "text/plain": [
       "shape: (1, 4)\n",
       "┌─────────┬─────────────────────┬───────┬────────┐\n",
       "│ integer ┆ date                ┆ float ┆ string │\n",
       "│ ---     ┆ ---                 ┆ ---   ┆ ---    │\n",
       "│ i64     ┆ datetime[μs]        ┆ f64   ┆ str    │\n",
       "╞═════════╪═════════════════════╪═══════╪════════╡\n",
       "│ 3       ┆ 2025-01-03 00:00:00 ┆ 6.0   ┆ c      │\n",
       "└─────────┴─────────────────────┴───────┴────────┘"
      ]
     },
     "execution_count": 213,
     "metadata": {},
     "output_type": "execute_result"
    }
   ],
   "source": [
    "df.filter((pl.col(\"date\").is_between(datetime(2025, 1, 2), datetime(2025, 1, 3))) & (pl.col(\"float\") > 5))"
   ]
  },
  {
   "cell_type": "markdown",
   "metadata": {},
   "source": [
    "## With Columns\n",
    "Esto sirve para crear nuevas columnas para analizar. "
   ]
  },
  {
   "cell_type": "code",
   "execution_count": 214,
   "metadata": {},
   "outputs": [
    {
     "data": {
      "text/html": [
       "<div><style>\n",
       ".dataframe > thead > tr,\n",
       ".dataframe > tbody > tr {\n",
       "  text-align: right;\n",
       "  white-space: pre-wrap;\n",
       "}\n",
       "</style>\n",
       "<small>shape: (3, 6)</small><table border=\"1\" class=\"dataframe\"><thead><tr><th>integer</th><th>date</th><th>float</th><th>string</th><th>e</th><th>float+42</th></tr><tr><td>i64</td><td>datetime[μs]</td><td>f64</td><td>str</td><td>f64</td><td>f64</td></tr></thead><tbody><tr><td>1</td><td>2025-01-01 00:00:00</td><td>4.0</td><td>&quot;a&quot;</td><td>15.0</td><td>46.0</td></tr><tr><td>2</td><td>2025-01-02 00:00:00</td><td>5.0</td><td>&quot;b&quot;</td><td>15.0</td><td>47.0</td></tr><tr><td>3</td><td>2025-01-03 00:00:00</td><td>6.0</td><td>&quot;c&quot;</td><td>15.0</td><td>48.0</td></tr></tbody></table></div>"
      ],
      "text/plain": [
       "shape: (3, 6)\n",
       "┌─────────┬─────────────────────┬───────┬────────┬──────┬──────────┐\n",
       "│ integer ┆ date                ┆ float ┆ string ┆ e    ┆ float+42 │\n",
       "│ ---     ┆ ---                 ┆ ---   ┆ ---    ┆ ---  ┆ ---      │\n",
       "│ i64     ┆ datetime[μs]        ┆ f64   ┆ str    ┆ f64  ┆ f64      │\n",
       "╞═════════╪═════════════════════╪═══════╪════════╪══════╪══════════╡\n",
       "│ 1       ┆ 2025-01-01 00:00:00 ┆ 4.0   ┆ a      ┆ 15.0 ┆ 46.0     │\n",
       "│ 2       ┆ 2025-01-02 00:00:00 ┆ 5.0   ┆ b      ┆ 15.0 ┆ 47.0     │\n",
       "│ 3       ┆ 2025-01-03 00:00:00 ┆ 6.0   ┆ c      ┆ 15.0 ┆ 48.0     │\n",
       "└─────────┴─────────────────────┴───────┴────────┴──────┴──────────┘"
      ]
     },
     "execution_count": 214,
     "metadata": {},
     "output_type": "execute_result"
    }
   ],
   "source": [
    "df.with_columns(pl.col(\"float\").sum().alias(\"e\"), (pl.col(\"float\") + 42).alias(\"float+42\"))"
   ]
  },
  {
   "cell_type": "markdown",
   "metadata": {},
   "source": [
    "## Group by\n",
    "Agrupa"
   ]
  },
  {
   "cell_type": "code",
   "execution_count": 215,
   "metadata": {},
   "outputs": [
    {
     "data": {
      "text/html": [
       "<div><style>\n",
       ".dataframe > thead > tr,\n",
       ".dataframe > tbody > tr {\n",
       "  text-align: right;\n",
       "  white-space: pre-wrap;\n",
       "}\n",
       "</style>\n",
       "<small>shape: (8, 2)</small><table border=\"1\" class=\"dataframe\"><thead><tr><th>x</th><th>y</th></tr><tr><td>i64</td><td>str</td></tr></thead><tbody><tr><td>0</td><td>&quot;A&quot;</td></tr><tr><td>1</td><td>&quot;A&quot;</td></tr><tr><td>2</td><td>&quot;A&quot;</td></tr><tr><td>3</td><td>&quot;B&quot;</td></tr><tr><td>4</td><td>&quot;B&quot;</td></tr><tr><td>5</td><td>&quot;C&quot;</td></tr><tr><td>6</td><td>&quot;X&quot;</td></tr><tr><td>7</td><td>&quot;X&quot;</td></tr></tbody></table></div>"
      ],
      "text/plain": [
       "shape: (8, 2)\n",
       "┌─────┬─────┐\n",
       "│ x   ┆ y   │\n",
       "│ --- ┆ --- │\n",
       "│ i64 ┆ str │\n",
       "╞═════╪═════╡\n",
       "│ 0   ┆ A   │\n",
       "│ 1   ┆ A   │\n",
       "│ 2   ┆ A   │\n",
       "│ 3   ┆ B   │\n",
       "│ 4   ┆ B   │\n",
       "│ 5   ┆ C   │\n",
       "│ 6   ┆ X   │\n",
       "│ 7   ┆ X   │\n",
       "└─────┴─────┘"
      ]
     },
     "execution_count": 215,
     "metadata": {},
     "output_type": "execute_result"
    }
   ],
   "source": [
    "df2 = pl.DataFrame(\n",
    "    {\n",
    "        \"x\": range(8),\n",
    "        \"y\": [\"A\", \"A\", \"A\", \"B\", \"B\", \"C\", \"X\", \"X\"],\n",
    "    }\n",
    ")\n",
    "df2"
   ]
  },
  {
   "cell_type": "code",
   "execution_count": 216,
   "metadata": {},
   "outputs": [
    {
     "data": {
      "text/html": [
       "<div><style>\n",
       ".dataframe > thead > tr,\n",
       ".dataframe > tbody > tr {\n",
       "  text-align: right;\n",
       "  white-space: pre-wrap;\n",
       "}\n",
       "</style>\n",
       "<small>shape: (4, 2)</small><table border=\"1\" class=\"dataframe\"><thead><tr><th>y</th><th>len</th></tr><tr><td>str</td><td>u32</td></tr></thead><tbody><tr><td>&quot;A&quot;</td><td>3</td></tr><tr><td>&quot;B&quot;</td><td>2</td></tr><tr><td>&quot;C&quot;</td><td>1</td></tr><tr><td>&quot;X&quot;</td><td>2</td></tr></tbody></table></div>"
      ],
      "text/plain": [
       "shape: (4, 2)\n",
       "┌─────┬─────┐\n",
       "│ y   ┆ len │\n",
       "│ --- ┆ --- │\n",
       "│ str ┆ u32 │\n",
       "╞═════╪═════╡\n",
       "│ A   ┆ 3   │\n",
       "│ B   ┆ 2   │\n",
       "│ C   ┆ 1   │\n",
       "│ X   ┆ 2   │\n",
       "└─────┴─────┘"
      ]
     },
     "execution_count": 216,
     "metadata": {},
     "output_type": "execute_result"
    }
   ],
   "source": [
    "df2.group_by(\"y\", maintain_order=True).len()"
   ]
  },
  {
   "cell_type": "code",
   "execution_count": 217,
   "metadata": {},
   "outputs": [
    {
     "data": {
      "text/html": [
       "<div><style>\n",
       ".dataframe > thead > tr,\n",
       ".dataframe > tbody > tr {\n",
       "  text-align: right;\n",
       "  white-space: pre-wrap;\n",
       "}\n",
       "</style>\n",
       "<small>shape: (4, 3)</small><table border=\"1\" class=\"dataframe\"><thead><tr><th>y</th><th>count</th><th>sum</th></tr><tr><td>str</td><td>u32</td><td>i64</td></tr></thead><tbody><tr><td>&quot;A&quot;</td><td>3</td><td>3</td></tr><tr><td>&quot;B&quot;</td><td>2</td><td>7</td></tr><tr><td>&quot;C&quot;</td><td>1</td><td>5</td></tr><tr><td>&quot;X&quot;</td><td>2</td><td>13</td></tr></tbody></table></div>"
      ],
      "text/plain": [
       "shape: (4, 3)\n",
       "┌─────┬───────┬─────┐\n",
       "│ y   ┆ count ┆ sum │\n",
       "│ --- ┆ ---   ┆ --- │\n",
       "│ str ┆ u32   ┆ i64 │\n",
       "╞═════╪═══════╪═════╡\n",
       "│ A   ┆ 3     ┆ 3   │\n",
       "│ B   ┆ 2     ┆ 7   │\n",
       "│ C   ┆ 1     ┆ 5   │\n",
       "│ X   ┆ 2     ┆ 13  │\n",
       "└─────┴───────┴─────┘"
      ]
     },
     "execution_count": 217,
     "metadata": {},
     "output_type": "execute_result"
    }
   ],
   "source": [
    "df2.group_by(\"y\", maintain_order=True).agg(\n",
    "    pl.col(\"*\").count().alias(\"count\"),\n",
    "    pl.col(\"*\").sum().alias(\"sum\"),\n",
    ")"
   ]
  },
  {
   "cell_type": "markdown",
   "metadata": {},
   "source": [
    "## Combinación de operaciones"
   ]
  },
  {
   "cell_type": "code",
   "execution_count": 218,
   "metadata": {},
   "outputs": [],
   "source": [
    "df = pl.DataFrame(\n",
    "    {\n",
    "        \"a\": range(5),\n",
    "        \"b\":np.random.rand(5),\n",
    "        \"c\": [\n",
    "            datetime(2025, 12, 1),\n",
    "            datetime(2025, 12, 2),\n",
    "            datetime(2025, 12, 3),\n",
    "            datetime(2025, 12, 4),\n",
    "            datetime(2025, 12, 5),            \n",
    "        ],\n",
    "        \"d\": [1., 2., np.nan, -42, None]\n",
    "    }\n",
    ")"
   ]
  },
  {
   "cell_type": "code",
   "execution_count": 219,
   "metadata": {},
   "outputs": [
    {
     "data": {
      "text/html": [
       "<div><style>\n",
       ".dataframe > thead > tr,\n",
       ".dataframe > tbody > tr {\n",
       "  text-align: right;\n",
       "  white-space: pre-wrap;\n",
       "}\n",
       "</style>\n",
       "<small>shape: (5, 4)</small><table border=\"1\" class=\"dataframe\"><thead><tr><th>a</th><th>b</th><th>c</th><th>d</th></tr><tr><td>i64</td><td>f64</td><td>datetime[μs]</td><td>f64</td></tr></thead><tbody><tr><td>0</td><td>0.639316</td><td>2025-12-01 00:00:00</td><td>1.0</td></tr><tr><td>1</td><td>0.246934</td><td>2025-12-02 00:00:00</td><td>2.0</td></tr><tr><td>2</td><td>0.563067</td><td>2025-12-03 00:00:00</td><td>NaN</td></tr><tr><td>3</td><td>0.765095</td><td>2025-12-04 00:00:00</td><td>-42.0</td></tr><tr><td>4</td><td>0.167124</td><td>2025-12-05 00:00:00</td><td>null</td></tr></tbody></table></div>"
      ],
      "text/plain": [
       "shape: (5, 4)\n",
       "┌─────┬──────────┬─────────────────────┬───────┐\n",
       "│ a   ┆ b        ┆ c                   ┆ d     │\n",
       "│ --- ┆ ---      ┆ ---                 ┆ ---   │\n",
       "│ i64 ┆ f64      ┆ datetime[μs]        ┆ f64   │\n",
       "╞═════╪══════════╪═════════════════════╪═══════╡\n",
       "│ 0   ┆ 0.639316 ┆ 2025-12-01 00:00:00 ┆ 1.0   │\n",
       "│ 1   ┆ 0.246934 ┆ 2025-12-02 00:00:00 ┆ 2.0   │\n",
       "│ 2   ┆ 0.563067 ┆ 2025-12-03 00:00:00 ┆ NaN   │\n",
       "│ 3   ┆ 0.765095 ┆ 2025-12-04 00:00:00 ┆ -42.0 │\n",
       "│ 4   ┆ 0.167124 ┆ 2025-12-05 00:00:00 ┆ null  │\n",
       "└─────┴──────────┴─────────────────────┴───────┘"
      ]
     },
     "execution_count": 219,
     "metadata": {},
     "output_type": "execute_result"
    }
   ],
   "source": [
    "df"
   ]
  },
  {
   "cell_type": "code",
   "execution_count": 220,
   "metadata": {},
   "outputs": [
    {
     "name": "stdout",
     "output_type": "stream",
     "text": [
      "shape: (5, 3)\n",
      "┌─────┬──────────┬──────────┐\n",
      "│ a   ┆ b        ┆ a * b    │\n",
      "│ --- ┆ ---      ┆ ---      │\n",
      "│ i64 ┆ f64      ┆ f64      │\n",
      "╞═════╪══════════╪══════════╡\n",
      "│ 0   ┆ 0.639316 ┆ 0.0      │\n",
      "│ 1   ┆ 0.246934 ┆ 0.246934 │\n",
      "│ 2   ┆ 0.563067 ┆ 1.126135 │\n",
      "│ 3   ┆ 0.765095 ┆ 2.295286 │\n",
      "│ 4   ┆ 0.167124 ┆ 0.668495 │\n",
      "└─────┴──────────┴──────────┘\n"
     ]
    }
   ],
   "source": [
    "df_x = df.with_columns((pl.col(\"a\") * pl.col(\"b\")).alias(\"a * b\")).select(\n",
    "    pl.all().exclude([\"c\", \"d\"])\n",
    ")\n",
    "\n",
    "print(df_x)"
   ]
  },
  {
   "cell_type": "code",
   "execution_count": 221,
   "metadata": {},
   "outputs": [
    {
     "name": "stdout",
     "output_type": "stream",
     "text": [
      "shape: (5, 4)\n",
      "┌─────┬──────────┬─────────────────────┬──────────┐\n",
      "│ a   ┆ b        ┆ c                   ┆ a * b    │\n",
      "│ --- ┆ ---      ┆ ---                 ┆ ---      │\n",
      "│ i64 ┆ f64      ┆ datetime[μs]        ┆ f64      │\n",
      "╞═════╪══════════╪═════════════════════╪══════════╡\n",
      "│ 0   ┆ 0.639316 ┆ 2025-12-01 00:00:00 ┆ 0.0      │\n",
      "│ 1   ┆ 0.246934 ┆ 2025-12-02 00:00:00 ┆ 0.246934 │\n",
      "│ 2   ┆ 0.563067 ┆ 2025-12-03 00:00:00 ┆ 1.126135 │\n",
      "│ 3   ┆ 0.765095 ┆ 2025-12-04 00:00:00 ┆ 2.295286 │\n",
      "│ 4   ┆ 0.167124 ┆ 2025-12-05 00:00:00 ┆ 0.668495 │\n",
      "└─────┴──────────┴─────────────────────┴──────────┘\n"
     ]
    }
   ],
   "source": [
    "df_y = df.with_columns((pl.col(\"a\") * pl.col(\"b\")).alias(\"a * b\")).select(\n",
    "    pl.all().exclude(\"d\")\n",
    ")\n",
    "\n",
    "print(df_y)"
   ]
  },
  {
   "cell_type": "markdown",
   "metadata": {},
   "source": [
    "# Combinación de DataFrames"
   ]
  },
  {
   "cell_type": "markdown",
   "metadata": {},
   "source": [
    "## Join"
   ]
  },
  {
   "cell_type": "code",
   "execution_count": 222,
   "metadata": {},
   "outputs": [],
   "source": [
    "df = pl.DataFrame(\n",
    "    {\n",
    "        \"a\": range(8),\n",
    "        \"b\": np.random.rand(8),\n",
    "        \"d\": [1.0, 2.0, float(\"nan\"), float(\"nan\"), 0.0, -5.0, -42.0, None],\n",
    "    }\n",
    ")\n",
    "\n",
    "df2 = pl.DataFrame(\n",
    "    {\n",
    "        \"x\": range(8),\n",
    "        \"y\": [\"A\", \"A\", \"A\", \"B\", \"B\", \"C\", \"X\", \"X\"],\n",
    "    }\n",
    ")"
   ]
  },
  {
   "cell_type": "code",
   "execution_count": 223,
   "metadata": {},
   "outputs": [
    {
     "data": {
      "text/html": [
       "<div><style>\n",
       ".dataframe > thead > tr,\n",
       ".dataframe > tbody > tr {\n",
       "  text-align: right;\n",
       "  white-space: pre-wrap;\n",
       "}\n",
       "</style>\n",
       "<small>shape: (8, 3)</small><table border=\"1\" class=\"dataframe\"><thead><tr><th>a</th><th>b</th><th>d</th></tr><tr><td>i64</td><td>f64</td><td>f64</td></tr></thead><tbody><tr><td>0</td><td>0.908194</td><td>1.0</td></tr><tr><td>1</td><td>0.98036</td><td>2.0</td></tr><tr><td>2</td><td>0.948344</td><td>NaN</td></tr><tr><td>3</td><td>0.89787</td><td>NaN</td></tr><tr><td>4</td><td>0.964528</td><td>0.0</td></tr><tr><td>5</td><td>0.693571</td><td>-5.0</td></tr><tr><td>6</td><td>0.642649</td><td>-42.0</td></tr><tr><td>7</td><td>0.563708</td><td>null</td></tr></tbody></table></div>"
      ],
      "text/plain": [
       "shape: (8, 3)\n",
       "┌─────┬──────────┬───────┐\n",
       "│ a   ┆ b        ┆ d     │\n",
       "│ --- ┆ ---      ┆ ---   │\n",
       "│ i64 ┆ f64      ┆ f64   │\n",
       "╞═════╪══════════╪═══════╡\n",
       "│ 0   ┆ 0.908194 ┆ 1.0   │\n",
       "│ 1   ┆ 0.98036  ┆ 2.0   │\n",
       "│ 2   ┆ 0.948344 ┆ NaN   │\n",
       "│ 3   ┆ 0.89787  ┆ NaN   │\n",
       "│ 4   ┆ 0.964528 ┆ 0.0   │\n",
       "│ 5   ┆ 0.693571 ┆ -5.0  │\n",
       "│ 6   ┆ 0.642649 ┆ -42.0 │\n",
       "│ 7   ┆ 0.563708 ┆ null  │\n",
       "└─────┴──────────┴───────┘"
      ]
     },
     "execution_count": 223,
     "metadata": {},
     "output_type": "execute_result"
    }
   ],
   "source": [
    "df"
   ]
  },
  {
   "cell_type": "code",
   "execution_count": 224,
   "metadata": {},
   "outputs": [
    {
     "data": {
      "text/html": [
       "<div><style>\n",
       ".dataframe > thead > tr,\n",
       ".dataframe > tbody > tr {\n",
       "  text-align: right;\n",
       "  white-space: pre-wrap;\n",
       "}\n",
       "</style>\n",
       "<small>shape: (8, 2)</small><table border=\"1\" class=\"dataframe\"><thead><tr><th>x</th><th>y</th></tr><tr><td>i64</td><td>str</td></tr></thead><tbody><tr><td>0</td><td>&quot;A&quot;</td></tr><tr><td>1</td><td>&quot;A&quot;</td></tr><tr><td>2</td><td>&quot;A&quot;</td></tr><tr><td>3</td><td>&quot;B&quot;</td></tr><tr><td>4</td><td>&quot;B&quot;</td></tr><tr><td>5</td><td>&quot;C&quot;</td></tr><tr><td>6</td><td>&quot;X&quot;</td></tr><tr><td>7</td><td>&quot;X&quot;</td></tr></tbody></table></div>"
      ],
      "text/plain": [
       "shape: (8, 2)\n",
       "┌─────┬─────┐\n",
       "│ x   ┆ y   │\n",
       "│ --- ┆ --- │\n",
       "│ i64 ┆ str │\n",
       "╞═════╪═════╡\n",
       "│ 0   ┆ A   │\n",
       "│ 1   ┆ A   │\n",
       "│ 2   ┆ A   │\n",
       "│ 3   ┆ B   │\n",
       "│ 4   ┆ B   │\n",
       "│ 5   ┆ C   │\n",
       "│ 6   ┆ X   │\n",
       "│ 7   ┆ X   │\n",
       "└─────┴─────┘"
      ]
     },
     "execution_count": 224,
     "metadata": {},
     "output_type": "execute_result"
    }
   ],
   "source": [
    "df2"
   ]
  },
  {
   "cell_type": "code",
   "execution_count": 225,
   "metadata": {},
   "outputs": [
    {
     "name": "stdout",
     "output_type": "stream",
     "text": [
      "shape: (8, 4)\n",
      "┌─────┬──────────┬───────┬─────┐\n",
      "│ a   ┆ b        ┆ d     ┆ y   │\n",
      "│ --- ┆ ---      ┆ ---   ┆ --- │\n",
      "│ i64 ┆ f64      ┆ f64   ┆ str │\n",
      "╞═════╪══════════╪═══════╪═════╡\n",
      "│ 0   ┆ 0.908194 ┆ 1.0   ┆ A   │\n",
      "│ 1   ┆ 0.98036  ┆ 2.0   ┆ A   │\n",
      "│ 2   ┆ 0.948344 ┆ NaN   ┆ A   │\n",
      "│ 3   ┆ 0.89787  ┆ NaN   ┆ B   │\n",
      "│ 4   ┆ 0.964528 ┆ 0.0   ┆ B   │\n",
      "│ 5   ┆ 0.693571 ┆ -5.0  ┆ C   │\n",
      "│ 6   ┆ 0.642649 ┆ -42.0 ┆ X   │\n",
      "│ 7   ┆ 0.563708 ┆ null  ┆ X   │\n",
      "└─────┴──────────┴───────┴─────┘\n"
     ]
    }
   ],
   "source": [
    "joined = df.join(df2, left_on=\"a\", right_on=\"x\")\n",
    "print(joined)"
   ]
  },
  {
   "cell_type": "markdown",
   "metadata": {},
   "source": [
    "## Join"
   ]
  },
  {
   "cell_type": "code",
   "execution_count": 226,
   "metadata": {},
   "outputs": [
    {
     "name": "stdout",
     "output_type": "stream",
     "text": [
      "shape: (8, 5)\n",
      "┌─────┬──────────┬───────┬─────┬─────┐\n",
      "│ a   ┆ b        ┆ d     ┆ x   ┆ y   │\n",
      "│ --- ┆ ---      ┆ ---   ┆ --- ┆ --- │\n",
      "│ i64 ┆ f64      ┆ f64   ┆ i64 ┆ str │\n",
      "╞═════╪══════════╪═══════╪═════╪═════╡\n",
      "│ 0   ┆ 0.908194 ┆ 1.0   ┆ 0   ┆ A   │\n",
      "│ 1   ┆ 0.98036  ┆ 2.0   ┆ 1   ┆ A   │\n",
      "│ 2   ┆ 0.948344 ┆ NaN   ┆ 2   ┆ A   │\n",
      "│ 3   ┆ 0.89787  ┆ NaN   ┆ 3   ┆ B   │\n",
      "│ 4   ┆ 0.964528 ┆ 0.0   ┆ 4   ┆ B   │\n",
      "│ 5   ┆ 0.693571 ┆ -5.0  ┆ 5   ┆ C   │\n",
      "│ 6   ┆ 0.642649 ┆ -42.0 ┆ 6   ┆ X   │\n",
      "│ 7   ┆ 0.563708 ┆ null  ┆ 7   ┆ X   │\n",
      "└─────┴──────────┴───────┴─────┴─────┘\n"
     ]
    }
   ],
   "source": [
    "stacked = df.hstack(df2)\n",
    "print(stacked)"
   ]
  },
  {
   "cell_type": "markdown",
   "metadata": {},
   "source": [
    "# Tipos de datos\n",
    "Polars se basa en tipos de datos de Arrow , son ene , hay una lista en https://docs.pola.rs/user-guide/concepts/data-types/overview/"
   ]
  },
  {
   "cell_type": "markdown",
   "metadata": {},
   "source": [
    "# Categorical\n",
    "Data en *string* que tiene número finito de valores. Esto sirve para ahorrar memoria, igual que en *pandas*. \n",
    "Existe un tipo Enum que se usa cuando se conoce de antemano las categorías. En Categorical es más flexible y se pueden ir agregando más categorías ex post, con mayor uso de memoria "
   ]
  },
  {
   "cell_type": "code",
   "execution_count": 227,
   "metadata": {},
   "outputs": [],
   "source": [
    "enum_dtype = pl.Enum([\"Polar\", \"Panda\", \"Brown\"])\n",
    "enum_series = pl.Series([\"Polar\", \"Panda\", \"Brown\", \"Brown\", \"Polar\"], dtype=enum_dtype)\n",
    "cat_series = pl.Series(\n",
    "    [\"Polar\", \"Panda\", \"Brown\", \"Brown\", \"Polar\"], dtype=pl.Categorical\n",
    ")"
   ]
  },
  {
   "cell_type": "code",
   "execution_count": 228,
   "metadata": {},
   "outputs": [
    {
     "data": {
      "text/plain": [
       "Enum(categories=['Polar', 'Panda', 'Brown'])"
      ]
     },
     "execution_count": 228,
     "metadata": {},
     "output_type": "execute_result"
    }
   ],
   "source": [
    "enum_dtype"
   ]
  },
  {
   "cell_type": "code",
   "execution_count": 229,
   "metadata": {},
   "outputs": [
    {
     "data": {
      "text/html": [
       "<div><style>\n",
       ".dataframe > thead > tr,\n",
       ".dataframe > tbody > tr {\n",
       "  text-align: right;\n",
       "  white-space: pre-wrap;\n",
       "}\n",
       "</style>\n",
       "<small>shape: (5,)</small><table border=\"1\" class=\"dataframe\"><thead><tr><th></th></tr><tr><td>cat</td></tr></thead><tbody><tr><td>&quot;Polar&quot;</td></tr><tr><td>&quot;Panda&quot;</td></tr><tr><td>&quot;Brown&quot;</td></tr><tr><td>&quot;Brown&quot;</td></tr><tr><td>&quot;Polar&quot;</td></tr></tbody></table></div>"
      ],
      "text/plain": [
       "shape: (5,)\n",
       "Series: '' [cat]\n",
       "[\n",
       "\t\"Polar\"\n",
       "\t\"Panda\"\n",
       "\t\"Brown\"\n",
       "\t\"Brown\"\n",
       "\t\"Polar\"\n",
       "]"
      ]
     },
     "execution_count": 229,
     "metadata": {},
     "output_type": "execute_result"
    }
   ],
   "source": [
    "cat_series"
   ]
  },
  {
   "cell_type": "markdown",
   "metadata": {},
   "source": [
    "# Estructuras de datos\n",
    "## Series\n",
    "Igual que las series de pandas, tiene una dimensión y el mismo tipo de datos"
   ]
  },
  {
   "cell_type": "code",
   "execution_count": 230,
   "metadata": {},
   "outputs": [
    {
     "name": "stdout",
     "output_type": "stream",
     "text": [
      "shape: (5,)\n",
      "Series: 'a' [i64]\n",
      "[\n",
      "\t1\n",
      "\t2\n",
      "\t3\n",
      "\t4\n",
      "\t5\n",
      "]\n"
     ]
    }
   ],
   "source": [
    "import polars as pl\n",
    "\n",
    "s = pl.Series(\"a\", [1, 2, 3, 4, 5])\n",
    "print(s)"
   ]
  },
  {
   "cell_type": "markdown",
   "metadata": {},
   "source": [
    "## DataFrame\n",
    "Tiene 2 dimensiones, que por detrás son Series, como abstracción es una colección de series."
   ]
  },
  {
   "cell_type": "code",
   "execution_count": 231,
   "metadata": {},
   "outputs": [
    {
     "name": "stdout",
     "output_type": "stream",
     "text": [
      "shape: (5, 3)\n",
      "┌─────────┬─────────────────────┬───────┐\n",
      "│ integer ┆ date                ┆ float │\n",
      "│ ---     ┆ ---                 ┆ ---   │\n",
      "│ i64     ┆ datetime[μs]        ┆ f64   │\n",
      "╞═════════╪═════════════════════╪═══════╡\n",
      "│ 1       ┆ 2022-01-01 00:00:00 ┆ 4.0   │\n",
      "│ 2       ┆ 2022-01-02 00:00:00 ┆ 5.0   │\n",
      "│ 3       ┆ 2022-01-03 00:00:00 ┆ 6.0   │\n",
      "│ 4       ┆ 2022-01-04 00:00:00 ┆ 7.0   │\n",
      "│ 5       ┆ 2022-01-05 00:00:00 ┆ 8.0   │\n",
      "└─────────┴─────────────────────┴───────┘\n"
     ]
    }
   ],
   "source": [
    "from datetime import datetime\n",
    "\n",
    "df = pl.DataFrame(\n",
    "    {\n",
    "        \"integer\": [1, 2, 3, 4, 5],\n",
    "        \"date\": [\n",
    "            datetime(2022, 1, 1),\n",
    "            datetime(2022, 1, 2),\n",
    "            datetime(2022, 1, 3),\n",
    "            datetime(2022, 1, 4),\n",
    "            datetime(2022, 1, 5),\n",
    "        ],\n",
    "        \"float\": [4.0, 5.0, 6.0, 7.0, 8.0],\n",
    "    }\n",
    ")\n",
    "\n",
    "print(df)"
   ]
  },
  {
   "cell_type": "markdown",
   "metadata": {},
   "source": [
    "## Mirando datos\n",
    "Igual que en pandas"
   ]
  },
  {
   "cell_type": "code",
   "execution_count": 232,
   "metadata": {},
   "outputs": [
    {
     "name": "stdout",
     "output_type": "stream",
     "text": [
      "shape: (5, 3)\n",
      "┌─────────┬─────────────────────┬───────┐\n",
      "│ integer ┆ date                ┆ float │\n",
      "│ ---     ┆ ---                 ┆ ---   │\n",
      "│ i64     ┆ datetime[μs]        ┆ f64   │\n",
      "╞═════════╪═════════════════════╪═══════╡\n",
      "│ 1       ┆ 2022-01-01 00:00:00 ┆ 4.0   │\n",
      "│ 2       ┆ 2022-01-02 00:00:00 ┆ 5.0   │\n",
      "│ 3       ┆ 2022-01-03 00:00:00 ┆ 6.0   │\n",
      "│ 4       ┆ 2022-01-04 00:00:00 ┆ 7.0   │\n",
      "│ 5       ┆ 2022-01-05 00:00:00 ┆ 8.0   │\n",
      "└─────────┴─────────────────────┴───────┘\n"
     ]
    }
   ],
   "source": [
    "print(df.head())"
   ]
  },
  {
   "cell_type": "code",
   "execution_count": 233,
   "metadata": {},
   "outputs": [
    {
     "name": "stdout",
     "output_type": "stream",
     "text": [
      "shape: (3, 3)\n",
      "┌─────────┬─────────────────────┬───────┐\n",
      "│ integer ┆ date                ┆ float │\n",
      "│ ---     ┆ ---                 ┆ ---   │\n",
      "│ i64     ┆ datetime[μs]        ┆ f64   │\n",
      "╞═════════╪═════════════════════╪═══════╡\n",
      "│ 1       ┆ 2022-01-01 00:00:00 ┆ 4.0   │\n",
      "│ 2       ┆ 2022-01-02 00:00:00 ┆ 5.0   │\n",
      "│ 3       ┆ 2022-01-03 00:00:00 ┆ 6.0   │\n",
      "└─────────┴─────────────────────┴───────┘\n"
     ]
    }
   ],
   "source": [
    "print(df.head(3))"
   ]
  },
  {
   "cell_type": "code",
   "execution_count": 234,
   "metadata": {},
   "outputs": [
    {
     "name": "stdout",
     "output_type": "stream",
     "text": [
      "shape: (5, 3)\n",
      "┌─────────┬─────────────────────┬───────┐\n",
      "│ integer ┆ date                ┆ float │\n",
      "│ ---     ┆ ---                 ┆ ---   │\n",
      "│ i64     ┆ datetime[μs]        ┆ f64   │\n",
      "╞═════════╪═════════════════════╪═══════╡\n",
      "│ 1       ┆ 2022-01-01 00:00:00 ┆ 4.0   │\n",
      "│ 2       ┆ 2022-01-02 00:00:00 ┆ 5.0   │\n",
      "│ 3       ┆ 2022-01-03 00:00:00 ┆ 6.0   │\n",
      "│ 4       ┆ 2022-01-04 00:00:00 ┆ 7.0   │\n",
      "│ 5       ┆ 2022-01-05 00:00:00 ┆ 8.0   │\n",
      "└─────────┴─────────────────────┴───────┘\n"
     ]
    }
   ],
   "source": [
    "print(df.tail())"
   ]
  },
  {
   "cell_type": "code",
   "execution_count": 235,
   "metadata": {},
   "outputs": [
    {
     "name": "stdout",
     "output_type": "stream",
     "text": [
      "shape: (2, 3)\n",
      "┌─────────┬─────────────────────┬───────┐\n",
      "│ integer ┆ date                ┆ float │\n",
      "│ ---     ┆ ---                 ┆ ---   │\n",
      "│ i64     ┆ datetime[μs]        ┆ f64   │\n",
      "╞═════════╪═════════════════════╪═══════╡\n",
      "│ 4       ┆ 2022-01-04 00:00:00 ┆ 7.0   │\n",
      "│ 5       ┆ 2022-01-05 00:00:00 ┆ 8.0   │\n",
      "└─────────┴─────────────────────┴───────┘\n"
     ]
    }
   ],
   "source": [
    "print(df.tail(2))"
   ]
  },
  {
   "cell_type": "code",
   "execution_count": 236,
   "metadata": {},
   "outputs": [
    {
     "data": {
      "text/html": [
       "<div><style>\n",
       ".dataframe > thead > tr,\n",
       ".dataframe > tbody > tr {\n",
       "  text-align: right;\n",
       "  white-space: pre-wrap;\n",
       "}\n",
       "</style>\n",
       "<small>shape: (1, 3)</small><table border=\"1\" class=\"dataframe\"><thead><tr><th>integer</th><th>date</th><th>float</th></tr><tr><td>i64</td><td>datetime[μs]</td><td>f64</td></tr></thead><tbody><tr><td>1</td><td>2022-01-01 00:00:00</td><td>4.0</td></tr></tbody></table></div>"
      ],
      "text/plain": [
       "shape: (1, 3)\n",
       "┌─────────┬─────────────────────┬───────┐\n",
       "│ integer ┆ date                ┆ float │\n",
       "│ ---     ┆ ---                 ┆ ---   │\n",
       "│ i64     ┆ datetime[μs]        ┆ f64   │\n",
       "╞═════════╪═════════════════════╪═══════╡\n",
       "│ 1       ┆ 2022-01-01 00:00:00 ┆ 4.0   │\n",
       "└─────────┴─────────────────────┴───────┘"
      ]
     },
     "execution_count": 236,
     "metadata": {},
     "output_type": "execute_result"
    }
   ],
   "source": [
    "df.sample()"
   ]
  },
  {
   "cell_type": "code",
   "execution_count": 237,
   "metadata": {},
   "outputs": [
    {
     "data": {
      "text/html": [
       "<div><style>\n",
       ".dataframe > thead > tr,\n",
       ".dataframe > tbody > tr {\n",
       "  text-align: right;\n",
       "  white-space: pre-wrap;\n",
       "}\n",
       "</style>\n",
       "<small>shape: (3, 3)</small><table border=\"1\" class=\"dataframe\"><thead><tr><th>integer</th><th>date</th><th>float</th></tr><tr><td>i64</td><td>datetime[μs]</td><td>f64</td></tr></thead><tbody><tr><td>1</td><td>2022-01-01 00:00:00</td><td>4.0</td></tr><tr><td>3</td><td>2022-01-03 00:00:00</td><td>6.0</td></tr><tr><td>2</td><td>2022-01-02 00:00:00</td><td>5.0</td></tr></tbody></table></div>"
      ],
      "text/plain": [
       "shape: (3, 3)\n",
       "┌─────────┬─────────────────────┬───────┐\n",
       "│ integer ┆ date                ┆ float │\n",
       "│ ---     ┆ ---                 ┆ ---   │\n",
       "│ i64     ┆ datetime[μs]        ┆ f64   │\n",
       "╞═════════╪═════════════════════╪═══════╡\n",
       "│ 1       ┆ 2022-01-01 00:00:00 ┆ 4.0   │\n",
       "│ 3       ┆ 2022-01-03 00:00:00 ┆ 6.0   │\n",
       "│ 2       ┆ 2022-01-02 00:00:00 ┆ 5.0   │\n",
       "└─────────┴─────────────────────┴───────┘"
      ]
     },
     "execution_count": 237,
     "metadata": {},
     "output_type": "execute_result"
    }
   ],
   "source": [
    "df.sample(3)"
   ]
  },
  {
   "cell_type": "code",
   "execution_count": 238,
   "metadata": {},
   "outputs": [
    {
     "data": {
      "text/html": [
       "<div><style>\n",
       ".dataframe > thead > tr,\n",
       ".dataframe > tbody > tr {\n",
       "  text-align: right;\n",
       "  white-space: pre-wrap;\n",
       "}\n",
       "</style>\n",
       "<small>shape: (9, 4)</small><table border=\"1\" class=\"dataframe\"><thead><tr><th>statistic</th><th>integer</th><th>date</th><th>float</th></tr><tr><td>str</td><td>f64</td><td>str</td><td>f64</td></tr></thead><tbody><tr><td>&quot;count&quot;</td><td>5.0</td><td>&quot;5&quot;</td><td>5.0</td></tr><tr><td>&quot;null_count&quot;</td><td>0.0</td><td>&quot;0&quot;</td><td>0.0</td></tr><tr><td>&quot;mean&quot;</td><td>3.0</td><td>&quot;2022-01-03 00:00:00&quot;</td><td>6.0</td></tr><tr><td>&quot;std&quot;</td><td>1.581139</td><td>null</td><td>1.581139</td></tr><tr><td>&quot;min&quot;</td><td>1.0</td><td>&quot;2022-01-01 00:00:00&quot;</td><td>4.0</td></tr><tr><td>&quot;25%&quot;</td><td>2.0</td><td>&quot;2022-01-02 00:00:00&quot;</td><td>5.0</td></tr><tr><td>&quot;50%&quot;</td><td>3.0</td><td>&quot;2022-01-03 00:00:00&quot;</td><td>6.0</td></tr><tr><td>&quot;75%&quot;</td><td>4.0</td><td>&quot;2022-01-04 00:00:00&quot;</td><td>7.0</td></tr><tr><td>&quot;max&quot;</td><td>5.0</td><td>&quot;2022-01-05 00:00:00&quot;</td><td>8.0</td></tr></tbody></table></div>"
      ],
      "text/plain": [
       "shape: (9, 4)\n",
       "┌────────────┬──────────┬─────────────────────┬──────────┐\n",
       "│ statistic  ┆ integer  ┆ date                ┆ float    │\n",
       "│ ---        ┆ ---      ┆ ---                 ┆ ---      │\n",
       "│ str        ┆ f64      ┆ str                 ┆ f64      │\n",
       "╞════════════╪══════════╪═════════════════════╪══════════╡\n",
       "│ count      ┆ 5.0      ┆ 5                   ┆ 5.0      │\n",
       "│ null_count ┆ 0.0      ┆ 0                   ┆ 0.0      │\n",
       "│ mean       ┆ 3.0      ┆ 2022-01-03 00:00:00 ┆ 6.0      │\n",
       "│ std        ┆ 1.581139 ┆ null                ┆ 1.581139 │\n",
       "│ min        ┆ 1.0      ┆ 2022-01-01 00:00:00 ┆ 4.0      │\n",
       "│ 25%        ┆ 2.0      ┆ 2022-01-02 00:00:00 ┆ 5.0      │\n",
       "│ 50%        ┆ 3.0      ┆ 2022-01-03 00:00:00 ┆ 6.0      │\n",
       "│ 75%        ┆ 4.0      ┆ 2022-01-04 00:00:00 ┆ 7.0      │\n",
       "│ max        ┆ 5.0      ┆ 2022-01-05 00:00:00 ┆ 8.0      │\n",
       "└────────────┴──────────┴─────────────────────┴──────────┘"
      ]
     },
     "execution_count": 238,
     "metadata": {},
     "output_type": "execute_result"
    }
   ],
   "source": [
    "df.describe()"
   ]
  },
  {
   "cell_type": "markdown",
   "metadata": {},
   "source": [
    "# Contextos\n",
    "Para transformar y leer datos existen contextos y expresiones. Un contexto se refiere al contexto (?) en el cual la expresión debe ser evaluada. Existen 3 contextos principales:\n",
    "* Selección: df.select, df.with_columns\n",
    "* Filtro: df.filter()\n",
    "* Agrupación: df.group_by(..).agg(...)"
   ]
  },
  {
   "cell_type": "code",
   "execution_count": 239,
   "metadata": {},
   "outputs": [
    {
     "name": "stdout",
     "output_type": "stream",
     "text": [
      "shape: (5, 4)\n",
      "┌──────┬───────┬──────────┬────────┐\n",
      "│ nrs  ┆ names ┆ random   ┆ groups │\n",
      "│ ---  ┆ ---   ┆ ---      ┆ ---    │\n",
      "│ i64  ┆ str   ┆ f64      ┆ str    │\n",
      "╞══════╪═══════╪══════════╪════════╡\n",
      "│ 1    ┆ foo   ┆ 0.04727  ┆ A      │\n",
      "│ 2    ┆ ham   ┆ 0.659535 ┆ A      │\n",
      "│ 3    ┆ spam  ┆ 0.121668 ┆ B      │\n",
      "│ null ┆ egg   ┆ 0.016698 ┆ C      │\n",
      "│ 5    ┆ null  ┆ 0.046269 ┆ B      │\n",
      "└──────┴───────┴──────────┴────────┘\n"
     ]
    }
   ],
   "source": [
    "df = pl.DataFrame(\n",
    "    {\n",
    "        \"nrs\": [1, 2, 3, None, 5],\n",
    "        \"names\": [\"foo\", \"ham\", \"spam\", \"egg\", None],\n",
    "        \"random\": np.random.rand(5),\n",
    "        \"groups\": [\"A\", \"A\", \"B\", \"C\", \"B\"],\n",
    "    }\n",
    ")\n",
    "print(df)"
   ]
  },
  {
   "cell_type": "markdown",
   "metadata": {},
   "source": [
    "## Selección\n",
    "Expresiones sobre columnas, un select puede generar nuevas columnas"
   ]
  },
  {
   "cell_type": "code",
   "execution_count": 240,
   "metadata": {},
   "outputs": [
    {
     "name": "stdout",
     "output_type": "stream",
     "text": [
      "shape: (5, 4)\n",
      "┌─────┬───────┬────────────┬────────┐\n",
      "│ nrs ┆ names ┆ first name ┆ 10xnrs │\n",
      "│ --- ┆ ---   ┆ ---        ┆ ---    │\n",
      "│ i64 ┆ str   ┆ str        ┆ f64    │\n",
      "╞═════╪═══════╪════════════╪════════╡\n",
      "│ 11  ┆ null  ┆ foo        ┆ 27.5   │\n",
      "│ 11  ┆ egg   ┆ foo        ┆ 27.5   │\n",
      "│ 11  ┆ foo   ┆ foo        ┆ 27.5   │\n",
      "│ 11  ┆ ham   ┆ foo        ┆ 27.5   │\n",
      "│ 11  ┆ spam  ┆ foo        ┆ 27.5   │\n",
      "└─────┴───────┴────────────┴────────┘\n"
     ]
    }
   ],
   "source": [
    "out = df.select(\n",
    "    pl.sum(\"nrs\"),\n",
    "    pl.col(\"names\").sort(),\n",
    "    pl.col(\"names\").first().alias(\"first name\"),\n",
    "    (pl.mean(\"nrs\") * 10).alias(\"10xnrs\"),\n",
    ")\n",
    "print(out)"
   ]
  },
  {
   "cell_type": "markdown",
   "metadata": {},
   "source": [
    "with_Columns mantiene las columnas originales y agrega nuevas, mientras que select bota las originales"
   ]
  },
  {
   "cell_type": "code",
   "execution_count": 241,
   "metadata": {},
   "outputs": [
    {
     "name": "stdout",
     "output_type": "stream",
     "text": [
      "shape: (5, 6)\n",
      "┌──────┬───────┬──────────┬────────┬─────────┬───────┐\n",
      "│ nrs  ┆ names ┆ random   ┆ groups ┆ nrs_sum ┆ count │\n",
      "│ ---  ┆ ---   ┆ ---      ┆ ---    ┆ ---     ┆ ---   │\n",
      "│ i64  ┆ str   ┆ f64      ┆ str    ┆ i64     ┆ u32   │\n",
      "╞══════╪═══════╪══════════╪════════╪═════════╪═══════╡\n",
      "│ 1    ┆ foo   ┆ 0.04727  ┆ A      ┆ 11      ┆ 5     │\n",
      "│ 2    ┆ ham   ┆ 0.659535 ┆ A      ┆ 11      ┆ 5     │\n",
      "│ 3    ┆ spam  ┆ 0.121668 ┆ B      ┆ 11      ┆ 5     │\n",
      "│ null ┆ egg   ┆ 0.016698 ┆ C      ┆ 11      ┆ 5     │\n",
      "│ 5    ┆ null  ┆ 0.046269 ┆ B      ┆ 11      ┆ 5     │\n",
      "└──────┴───────┴──────────┴────────┴─────────┴───────┘\n"
     ]
    }
   ],
   "source": [
    "df = df.with_columns(\n",
    "    pl.sum(\"nrs\").alias(\"nrs_sum\"),\n",
    "    pl.col(\"random\").count().alias(\"count\"),\n",
    ")\n",
    "print(df)"
   ]
  },
  {
   "cell_type": "markdown",
   "metadata": {},
   "source": [
    "## Filtrado\n",
    "Evalua sobre boolean"
   ]
  },
  {
   "cell_type": "code",
   "execution_count": 242,
   "metadata": {},
   "outputs": [
    {
     "name": "stdout",
     "output_type": "stream",
     "text": [
      "shape: (2, 6)\n",
      "┌─────┬───────┬──────────┬────────┬─────────┬───────┐\n",
      "│ nrs ┆ names ┆ random   ┆ groups ┆ nrs_sum ┆ count │\n",
      "│ --- ┆ ---   ┆ ---      ┆ ---    ┆ ---     ┆ ---   │\n",
      "│ i64 ┆ str   ┆ f64      ┆ str    ┆ i64     ┆ u32   │\n",
      "╞═════╪═══════╪══════════╪════════╪═════════╪═══════╡\n",
      "│ 3   ┆ spam  ┆ 0.121668 ┆ B      ┆ 11      ┆ 5     │\n",
      "│ 5   ┆ null  ┆ 0.046269 ┆ B      ┆ 11      ┆ 5     │\n",
      "└─────┴───────┴──────────┴────────┴─────────┴───────┘\n"
     ]
    }
   ],
   "source": [
    "out = df.filter(pl.col(\"nrs\") > 2)\n",
    "print(out)"
   ]
  },
  {
   "cell_type": "markdown",
   "metadata": {},
   "source": [
    "## Agregación"
   ]
  },
  {
   "cell_type": "code",
   "execution_count": 243,
   "metadata": {},
   "outputs": [
    {
     "name": "stdout",
     "output_type": "stream",
     "text": [
      "shape: (3, 5)\n",
      "┌────────┬─────┬───────┬────────────┬────────────────┐\n",
      "│ groups ┆ nrs ┆ count ┆ random_sum ┆ reversed names │\n",
      "│ ---    ┆ --- ┆ ---   ┆ ---        ┆ ---            │\n",
      "│ str    ┆ i64 ┆ u32   ┆ f64        ┆ list[str]      │\n",
      "╞════════╪═════╪═══════╪════════════╪════════════════╡\n",
      "│ A      ┆ 3   ┆ 2     ┆ 0.706806   ┆ [\"ham\", \"foo\"] │\n",
      "│ C      ┆ 0   ┆ 1     ┆ 0.016698   ┆ [\"egg\"]        │\n",
      "│ B      ┆ 8   ┆ 2     ┆ 0.121668   ┆ [null, \"spam\"] │\n",
      "└────────┴─────┴───────┴────────────┴────────────────┘\n"
     ]
    }
   ],
   "source": [
    "out = df.group_by(\"groups\").agg(\n",
    "    pl.sum(\"nrs\"),  # sum nrs by groups\n",
    "    pl.col(\"random\").count().alias(\"count\"),  # count group members\n",
    "    # sum random where name != null\n",
    "    pl.col(\"random\").filter(pl.col(\"names\").is_not_null()).sum().name.suffix(\"_sum\"),\n",
    "    pl.col(\"names\").reverse().alias(\"reversed names\"),\n",
    ")\n",
    "print(out)"
   ]
  },
  {
   "cell_type": "markdown",
   "metadata": {},
   "source": [
    "# Expresiones\n",
    "Sirve para hacer varias cosas\n",
    "* Una muestra de columnas\n",
    "* multiplicar valores en columna\n",
    "* extrar columna de años en fechas\n",
    "* convertir columna a mayúsculas\n",
    "\n",
    "La siguiente expresión selecciona la columna foo, la ordena y toma los dos primeros datos\n"
   ]
  },
  {
   "cell_type": "code",
   "execution_count": 244,
   "metadata": {},
   "outputs": [
    {
     "data": {
      "text/html": [
       "col(\"foo\").sort(asc).slice(offset=dyn int: 0, length=dyn int: 2)"
      ],
      "text/plain": [
       "<Expr ['col(\"foo\").sort(asc).slice(off…'] at 0x10CFC06B0>"
      ]
     },
     "execution_count": 244,
     "metadata": {},
     "output_type": "execute_result"
    }
   ],
   "source": [
    "pl.col(\"foo\").sort().head(2)"
   ]
  },
  {
   "cell_type": "markdown",
   "metadata": {},
   "source": [
    "# API Floja / Ágil\n",
    "Hay dos modos de operación: floja ( lazy) y ágil. En la API ágil, la consulta se ejecuta inmediatamente, mientras que en la API floja la consulta solo se evalúa cuando es ‘necesaria’. Postergar la ejecución hasta el último momento puede tener ventajas significativas en el rendimiento y es por eso que en la mayoría de los casos se prefiere la API floja."
   ]
  },
  {
   "cell_type": "code",
   "execution_count": 245,
   "metadata": {},
   "outputs": [
    {
     "name": "stdout",
     "output_type": "stream",
     "text": [
      "shape: (3, 2)\n",
      "┌────────────┬─────────────┐\n",
      "│ variety    ┆ sepal.width │\n",
      "│ ---        ┆ ---         │\n",
      "│ str        ┆ f64         │\n",
      "╞════════════╪═════════════╡\n",
      "│ Versicolor ┆ 2.804255    │\n",
      "│ Setosa     ┆ 3.713636    │\n",
      "│ Virginica  ┆ 2.983673    │\n",
      "└────────────┴─────────────┘\n"
     ]
    }
   ],
   "source": [
    "iris_filename = \"iris/iris.csv\"\n",
    "df = pl.read_csv(iris_filename)\n",
    "df_small = df.filter(pl.col(\"sepal.length\") > 5)\n",
    "df_agg = df_small.group_by(\"variety\").agg(pl.col(\"sepal.width\").mean())\n",
    "print(df_agg)"
   ]
  },
  {
   "cell_type": "markdown",
   "metadata": {},
   "source": [
    "En este ejemplo usamos la API ágil para:\n",
    "\n",
    "\t1.\tLeer el conjunto de datos iris.\n",
    "\t2.\tFiltrar el conjunto de datos en función de la longitud del sépalo.\n",
    "\t3.\tCalcular la media del ancho del sépalo por especie.\n",
    "\n",
    "Cada paso se ejecuta inmediatamente devolviendo los resultados intermedios. Esto puede ser muy ineficiente ya que podríamos estar realizando trabajo o cargando datos adicionales que no se están utilizando. Si en su lugar usamos la API perezosa y esperamos a la ejecución hasta que todos los pasos estén definidos, el planificador de consultas podría realizar varias optimizaciones\n",
    "\n",
    "La ejecución la hace al llamar collect"
   ]
  },
  {
   "cell_type": "code",
   "execution_count": 246,
   "metadata": {},
   "outputs": [],
   "source": [
    "q = (\n",
    "    pl.scan_csv(iris_filename)\n",
    "    .filter(pl.col(\"sepal.length\") > 5)\n",
    "    .group_by(\"variety\")\n",
    "    .agg(pl.col(\"sepal.width\").mean())\n",
    ")\n",
    "\n",
    "df = q.collect()"
   ]
  },
  {
   "cell_type": "code",
   "execution_count": 247,
   "metadata": {},
   "outputs": [
    {
     "data": {
      "text/html": [
       "<div><style>\n",
       ".dataframe > thead > tr,\n",
       ".dataframe > tbody > tr {\n",
       "  text-align: right;\n",
       "  white-space: pre-wrap;\n",
       "}\n",
       "</style>\n",
       "<small>shape: (3, 2)</small><table border=\"1\" class=\"dataframe\"><thead><tr><th>variety</th><th>sepal.width</th></tr><tr><td>str</td><td>f64</td></tr></thead><tbody><tr><td>&quot;Setosa&quot;</td><td>3.713636</td></tr><tr><td>&quot;Versicolor&quot;</td><td>2.804255</td></tr><tr><td>&quot;Virginica&quot;</td><td>2.983673</td></tr></tbody></table></div>"
      ],
      "text/plain": [
       "shape: (3, 2)\n",
       "┌────────────┬─────────────┐\n",
       "│ variety    ┆ sepal.width │\n",
       "│ ---        ┆ ---         │\n",
       "│ str        ┆ f64         │\n",
       "╞════════════╪═════════════╡\n",
       "│ Setosa     ┆ 3.713636    │\n",
       "│ Versicolor ┆ 2.804255    │\n",
       "│ Virginica  ┆ 2.983673    │\n",
       "└────────────┴─────────────┘"
      ]
     },
     "execution_count": 247,
     "metadata": {},
     "output_type": "execute_result"
    }
   ],
   "source": [
    "df"
   ]
  },
  {
   "cell_type": "markdown",
   "metadata": {},
   "source": [
    "# API de Streaming\n",
    "Un beneficio adicional de la API floja es que permite que las consultas se ejecuten de manera continua (streaming). En lugar de procesar todos los datos de una vez, Polars puede ejecutar la consulta en lotes, lo que te permite procesar conjuntos de datos que son más grandes que la memoria disponible.\n",
    "\n",
    "Para indicarle a Polars que queremos ejecutar una consulta en modo de streaming, pasamos el argumento streaming=True a la función collect.\n",
    "\n",
    "Esto todavía está en desarrollo"
   ]
  },
  {
   "cell_type": "code",
   "execution_count": 248,
   "metadata": {},
   "outputs": [],
   "source": [
    "q = (\n",
    "    pl.scan_csv(iris_filename)\n",
    "    .filter(pl.col(\"sepal.length\") > 5)\n",
    "    .group_by(\"variety\")\n",
    "    .agg(pl.col(\"sepal.width\").mean())\n",
    ")\n",
    "\n",
    "df = q.collect(streaming=True)"
   ]
  },
  {
   "cell_type": "code",
   "execution_count": 249,
   "metadata": {},
   "outputs": [
    {
     "data": {
      "text/html": [
       "<div><style>\n",
       ".dataframe > thead > tr,\n",
       ".dataframe > tbody > tr {\n",
       "  text-align: right;\n",
       "  white-space: pre-wrap;\n",
       "}\n",
       "</style>\n",
       "<small>shape: (3, 2)</small><table border=\"1\" class=\"dataframe\"><thead><tr><th>variety</th><th>sepal.width</th></tr><tr><td>str</td><td>f64</td></tr></thead><tbody><tr><td>&quot;Virginica&quot;</td><td>2.983673</td></tr><tr><td>&quot;Versicolor&quot;</td><td>2.804255</td></tr><tr><td>&quot;Setosa&quot;</td><td>3.713636</td></tr></tbody></table></div>"
      ],
      "text/plain": [
       "shape: (3, 2)\n",
       "┌────────────┬─────────────┐\n",
       "│ variety    ┆ sepal.width │\n",
       "│ ---        ┆ ---         │\n",
       "│ str        ┆ f64         │\n",
       "╞════════════╪═════════════╡\n",
       "│ Virginica  ┆ 2.983673    │\n",
       "│ Versicolor ┆ 2.804255    │\n",
       "│ Setosa     ┆ 3.713636    │\n",
       "└────────────┴─────────────┘"
      ]
     },
     "execution_count": 249,
     "metadata": {},
     "output_type": "execute_result"
    }
   ],
   "source": [
    "df"
   ]
  },
  {
   "cell_type": "code",
   "execution_count": 250,
   "metadata": {},
   "outputs": [
    {
     "name": "stdout",
     "output_type": "stream",
     "text": [
      "STREAMING:\n",
      "  AGGREGATE\n",
      "  \t[col(\"sepal.width\").mean()] BY [col(\"variety\")] FROM\n",
      "    Csv SCAN [iris/iris.csv]\n",
      "    PROJECT 3/5 COLUMNS\n",
      "    SELECTION: [(col(\"sepal.length\")) > (5.0)]\n"
     ]
    }
   ],
   "source": [
    "print(q.explain(streaming=True))"
   ]
  },
  {
   "cell_type": "code",
   "execution_count": 251,
   "metadata": {},
   "outputs": [
    {
     "name": "stdout",
     "output_type": "stream",
     "text": [
      " WITH_COLUMNS:\n",
      " [col(\"sepal.length\").mean().over([col(\"variety\")])] \n",
      "  STREAMING:\n",
      "    Csv SCAN [iris/iris.csv]\n",
      "    PROJECT */5 COLUMNS\n"
     ]
    }
   ],
   "source": [
    "q2 = pl.scan_csv(iris_filename).with_columns(\n",
    "    pl.col(\"sepal.length\").mean().over(\"variety\")\n",
    ")\n",
    "\n",
    "print(q2.explain(streaming=True))"
   ]
  },
  {
   "cell_type": "markdown",
   "metadata": {},
   "source": [
    "# Expresiones\n",
    "## Básicas"
   ]
  },
  {
   "cell_type": "code",
   "execution_count": 252,
   "metadata": {},
   "outputs": [
    {
     "name": "stdout",
     "output_type": "stream",
     "text": [
      "shape: (5, 4)\n",
      "┌──────┬───────┬──────────┬────────┐\n",
      "│ nrs  ┆ names ┆ random   ┆ groups │\n",
      "│ ---  ┆ ---   ┆ ---      ┆ ---    │\n",
      "│ i64  ┆ str   ┆ f64      ┆ str    │\n",
      "╞══════╪═══════╪══════════╪════════╡\n",
      "│ 1    ┆ foo   ┆ 0.661616 ┆ A      │\n",
      "│ 2    ┆ ham   ┆ 0.638222 ┆ A      │\n",
      "│ 3    ┆ spam  ┆ 0.909572 ┆ B      │\n",
      "│ null ┆ egg   ┆ 0.953746 ┆ C      │\n",
      "│ 5    ┆ null  ┆ 0.872299 ┆ B      │\n",
      "└──────┴───────┴──────────┴────────┘\n"
     ]
    }
   ],
   "source": [
    "df = pl.DataFrame(\n",
    "    {\n",
    "        \"nrs\": [1, 2, 3, None, 5],\n",
    "        \"names\": [\"foo\", \"ham\", \"spam\", \"egg\", None],\n",
    "        \"random\": np.random.rand(5),\n",
    "        \"groups\": [\"A\", \"A\", \"B\", \"C\", \"B\"],\n",
    "    }\n",
    ")\n",
    "print(df)"
   ]
  },
  {
   "cell_type": "code",
   "execution_count": 253,
   "metadata": {},
   "outputs": [
    {
     "name": "stdout",
     "output_type": "stream",
     "text": [
      "shape: (5, 4)\n",
      "┌─────────┬─────────┬──────────────┬──────────────┐\n",
      "│ nrs + 5 ┆ nrs - 5 ┆ nrs * random ┆ nrs / random │\n",
      "│ ---     ┆ ---     ┆ ---          ┆ ---          │\n",
      "│ i64     ┆ i64     ┆ f64          ┆ f64          │\n",
      "╞═════════╪═════════╪══════════════╪══════════════╡\n",
      "│ 6       ┆ -4      ┆ 0.661616     ┆ 1.511451     │\n",
      "│ 7       ┆ -3      ┆ 1.276445     ┆ 3.133704     │\n",
      "│ 8       ┆ -2      ┆ 2.728716     ┆ 3.298254     │\n",
      "│ null    ┆ null    ┆ null         ┆ null         │\n",
      "│ 10      ┆ 0       ┆ 4.361494     ┆ 5.73198      │\n",
      "└─────────┴─────────┴──────────────┴──────────────┘\n"
     ]
    }
   ],
   "source": [
    "df_numerical = df.select(\n",
    "    (pl.col(\"nrs\") + 5).alias(\"nrs + 5\"),\n",
    "    (pl.col(\"nrs\") - 5).alias(\"nrs - 5\"),\n",
    "    (pl.col(\"nrs\") * pl.col(\"random\")).alias(\"nrs * random\"),\n",
    "    (pl.col(\"nrs\") / pl.col(\"random\")).alias(\"nrs / random\"),\n",
    ")\n",
    "print(df_numerical)"
   ]
  },
  {
   "cell_type": "code",
   "execution_count": 254,
   "metadata": {},
   "outputs": [
    {
     "name": "stdout",
     "output_type": "stream",
     "text": [
      "shape: (5, 6)\n",
      "┌─────────┬──────────────┬──────────┬──────────┬──────────┬─────────┐\n",
      "│ nrs > 1 ┆ random <= .5 ┆ nrs != 1 ┆ nrs == 1 ┆ and_expr ┆ or_expr │\n",
      "│ ---     ┆ ---          ┆ ---      ┆ ---      ┆ ---      ┆ ---     │\n",
      "│ bool    ┆ bool         ┆ bool     ┆ bool     ┆ bool     ┆ bool    │\n",
      "╞═════════╪══════════════╪══════════╪══════════╪══════════╪═════════╡\n",
      "│ false   ┆ false        ┆ false    ┆ true     ┆ false    ┆ false   │\n",
      "│ true    ┆ false        ┆ true     ┆ false    ┆ false    ┆ true    │\n",
      "│ true    ┆ false        ┆ true     ┆ false    ┆ false    ┆ true    │\n",
      "│ null    ┆ false        ┆ null     ┆ null     ┆ false    ┆ null    │\n",
      "│ true    ┆ false        ┆ true     ┆ false    ┆ false    ┆ true    │\n",
      "└─────────┴──────────────┴──────────┴──────────┴──────────┴─────────┘\n"
     ]
    }
   ],
   "source": [
    "df_logical = df.select(\n",
    "    (pl.col(\"nrs\") > 1).alias(\"nrs > 1\"),\n",
    "    (pl.col(\"random\") <= 0.5).alias(\"random <= .5\"),\n",
    "    (pl.col(\"nrs\") != 1).alias(\"nrs != 1\"),\n",
    "    (pl.col(\"nrs\") == 1).alias(\"nrs == 1\"),\n",
    "    ((pl.col(\"random\") <= 0.5) & (pl.col(\"nrs\") > 1)).alias(\"and_expr\"),  # and\n",
    "    ((pl.col(\"random\") <= 0.5) | (pl.col(\"nrs\") > 1)).alias(\"or_expr\"),  # or\n",
    ")\n",
    "print(df_logical)"
   ]
  },
  {
   "cell_type": "markdown",
   "metadata": {},
   "source": [
    "## Selección columnas"
   ]
  },
  {
   "cell_type": "code",
   "execution_count": 255,
   "metadata": {},
   "outputs": [
    {
     "name": "stdout",
     "output_type": "stream",
     "text": [
      "shape: (3, 7)\n",
      "┌───────┬─────┬────────┬────────────┬───────────┬────────────┬─────────────────────┐\n",
      "│ index ┆ id  ┆ place  ┆ date       ┆ sales     ┆ has_people ┆ logged_at           │\n",
      "│ ---   ┆ --- ┆ ---    ┆ ---        ┆ ---       ┆ ---        ┆ ---                 │\n",
      "│ u32   ┆ i64 ┆ str    ┆ date       ┆ f64       ┆ bool       ┆ datetime[μs]        │\n",
      "╞═══════╪═════╪════════╪════════════╪═══════════╪════════════╪═════════════════════╡\n",
      "│ 0     ┆ 9   ┆ Mars   ┆ 2022-01-01 ┆ 33.4      ┆ false      ┆ 2022-12-01 00:00:00 │\n",
      "│ 1     ┆ 4   ┆ Earth  ┆ 2022-01-02 ┆ 2142134.1 ┆ true       ┆ 2022-12-01 00:00:01 │\n",
      "│ 2     ┆ 2   ┆ Saturn ┆ 2022-01-03 ┆ 44.7      ┆ false      ┆ 2022-12-01 00:00:02 │\n",
      "└───────┴─────┴────────┴────────────┴───────────┴────────────┴─────────────────────┘\n"
     ]
    }
   ],
   "source": [
    "from datetime import date, datetime\n",
    "\n",
    "import polars as pl\n",
    "\n",
    "df = pl.DataFrame(\n",
    "    {\n",
    "        \"id\": [9, 4, 2],\n",
    "        \"place\": [\"Mars\", \"Earth\", \"Saturn\"],\n",
    "        \"date\": pl.date_range(date(2022, 1, 1), date(2022, 1, 3), \"1d\", eager=True),\n",
    "        \"sales\": [33.4, 2142134.1, 44.7],\n",
    "        \"has_people\": [False, True, False],\n",
    "        \"logged_at\": pl.datetime_range(\n",
    "            datetime(2022, 12, 1), datetime(2022, 12, 1, 0, 0, 2), \"1s\", eager=True\n",
    "        ),\n",
    "    }\n",
    ").with_row_index(\"index\")\n",
    "print(df)"
   ]
  },
  {
   "cell_type": "code",
   "execution_count": 256,
   "metadata": {},
   "outputs": [
    {
     "name": "stdout",
     "output_type": "stream",
     "text": [
      "shape: (3, 7)\n",
      "┌───────┬─────┬────────┬────────────┬───────────┬────────────┬─────────────────────┐\n",
      "│ index ┆ id  ┆ place  ┆ date       ┆ sales     ┆ has_people ┆ logged_at           │\n",
      "│ ---   ┆ --- ┆ ---    ┆ ---        ┆ ---       ┆ ---        ┆ ---                 │\n",
      "│ u32   ┆ i64 ┆ str    ┆ date       ┆ f64       ┆ bool       ┆ datetime[μs]        │\n",
      "╞═══════╪═════╪════════╪════════════╪═══════════╪════════════╪═════════════════════╡\n",
      "│ 0     ┆ 9   ┆ Mars   ┆ 2022-01-01 ┆ 33.4      ┆ false      ┆ 2022-12-01 00:00:00 │\n",
      "│ 1     ┆ 4   ┆ Earth  ┆ 2022-01-02 ┆ 2142134.1 ┆ true       ┆ 2022-12-01 00:00:01 │\n",
      "│ 2     ┆ 2   ┆ Saturn ┆ 2022-01-03 ┆ 44.7      ┆ false      ┆ 2022-12-01 00:00:02 │\n",
      "└───────┴─────┴────────┴────────────┴───────────┴────────────┴─────────────────────┘\n"
     ]
    }
   ],
   "source": [
    "out = df.select(pl.col(\"*\"))\n",
    "\n",
    "# Is equivalent to\n",
    "out = df.select(pl.all())\n",
    "print(out)"
   ]
  },
  {
   "cell_type": "code",
   "execution_count": 257,
   "metadata": {},
   "outputs": [
    {
     "name": "stdout",
     "output_type": "stream",
     "text": [
      "shape: (3, 5)\n",
      "┌─────┬────────┬────────────┬───────────┬────────────┐\n",
      "│ id  ┆ place  ┆ date       ┆ sales     ┆ has_people │\n",
      "│ --- ┆ ---    ┆ ---        ┆ ---       ┆ ---        │\n",
      "│ i64 ┆ str    ┆ date       ┆ f64       ┆ bool       │\n",
      "╞═════╪════════╪════════════╪═══════════╪════════════╡\n",
      "│ 9   ┆ Mars   ┆ 2022-01-01 ┆ 33.4      ┆ false      │\n",
      "│ 4   ┆ Earth  ┆ 2022-01-02 ┆ 2142134.1 ┆ true       │\n",
      "│ 2   ┆ Saturn ┆ 2022-01-03 ┆ 44.7      ┆ false      │\n",
      "└─────┴────────┴────────────┴───────────┴────────────┘\n"
     ]
    }
   ],
   "source": [
    "out = df.select(pl.col(\"*\").exclude(\"logged_at\", \"index\"))\n",
    "print(out)"
   ]
  },
  {
   "cell_type": "code",
   "execution_count": 258,
   "metadata": {},
   "outputs": [
    {
     "name": "stdout",
     "output_type": "stream",
     "text": [
      "shape: (3, 2)\n",
      "┌─────────────┬─────────────┐\n",
      "│ date        ┆ logged_at   │\n",
      "│ ---         ┆ ---         │\n",
      "│ str         ┆ str         │\n",
      "╞═════════════╪═════════════╡\n",
      "│ 2022-Jan-01 ┆ 2022-Dec-01 │\n",
      "│ 2022-Jan-02 ┆ 2022-Dec-01 │\n",
      "│ 2022-Jan-03 ┆ 2022-Dec-01 │\n",
      "└─────────────┴─────────────┘\n"
     ]
    }
   ],
   "source": [
    "out = df.select(pl.col(\"date\", \"logged_at\").dt.to_string(\"%Y-%h-%d\"))\n",
    "print(out)"
   ]
  },
  {
   "cell_type": "code",
   "execution_count": 259,
   "metadata": {},
   "outputs": [
    {
     "name": "stdout",
     "output_type": "stream",
     "text": [
      "shape: (3, 2)\n",
      "┌───────────┬────────────┐\n",
      "│ sales     ┆ has_people │\n",
      "│ ---       ┆ ---        │\n",
      "│ f64       ┆ bool       │\n",
      "╞═══════════╪════════════╡\n",
      "│ 33.4      ┆ false      │\n",
      "│ 2142134.1 ┆ true       │\n",
      "│ 44.7      ┆ false      │\n",
      "└───────────┴────────────┘\n"
     ]
    }
   ],
   "source": [
    "out = df.select(pl.col(\"^.*(as|sa).*$\"))\n",
    "print(out)"
   ]
  },
  {
   "cell_type": "code",
   "execution_count": 260,
   "metadata": {},
   "outputs": [
    {
     "name": "stdout",
     "output_type": "stream",
     "text": [
      "shape: (1, 3)\n",
      "┌───────┬─────┬────────────┐\n",
      "│ index ┆ id  ┆ has_people │\n",
      "│ ---   ┆ --- ┆ ---        │\n",
      "│ u32   ┆ u32 ┆ u32        │\n",
      "╞═══════╪═════╪════════════╡\n",
      "│ 3     ┆ 3   ┆ 2          │\n",
      "└───────┴─────┴────────────┘\n"
     ]
    }
   ],
   "source": [
    "out = df.select(pl.col(pl.Int64, pl.UInt32, pl.Boolean).n_unique())\n",
    "print(out)"
   ]
  },
  {
   "cell_type": "code",
   "execution_count": 261,
   "metadata": {},
   "outputs": [
    {
     "name": "stdout",
     "output_type": "stream",
     "text": [
      "shape: (3, 3)\n",
      "┌───────┬─────┬────────┐\n",
      "│ index ┆ id  ┆ place  │\n",
      "│ ---   ┆ --- ┆ ---    │\n",
      "│ u32   ┆ i64 ┆ str    │\n",
      "╞═══════╪═════╪════════╡\n",
      "│ 0     ┆ 9   ┆ Mars   │\n",
      "│ 1     ┆ 4   ┆ Earth  │\n",
      "│ 2     ┆ 2   ┆ Saturn │\n",
      "└───────┴─────┴────────┘\n"
     ]
    }
   ],
   "source": [
    "import polars.selectors as cs\n",
    "\n",
    "#Para seleccionar solo las columnas de tipo entero y cadena.\n",
    "out = df.select(cs.integer(), cs.string())\n",
    "print(out)"
   ]
  },
  {
   "cell_type": "code",
   "execution_count": 262,
   "metadata": {},
   "outputs": [
    {
     "name": "stdout",
     "output_type": "stream",
     "text": [
      "shape: (3, 2)\n",
      "┌─────┬───────────┐\n",
      "│ id  ┆ sales     │\n",
      "│ --- ┆ ---       │\n",
      "│ i64 ┆ f64       │\n",
      "╞═════╪═══════════╡\n",
      "│ 9   ┆ 33.4      │\n",
      "│ 4   ┆ 2142134.1 │\n",
      "│ 2   ┆ 44.7      │\n",
      "└─────┴───────────┘\n"
     ]
    }
   ],
   "source": [
    "# Selecciona las columnas numéricas excepto la primera columna que indica el número de fila.\n",
    "out = df.select(cs.numeric() - cs.first())\n",
    "print(out)"
   ]
  },
  {
   "cell_type": "code",
   "execution_count": 263,
   "metadata": {},
   "outputs": [
    {
     "name": "stdout",
     "output_type": "stream",
     "text": [
      "shape: (3, 2)\n",
      "┌─────┬───────────┐\n",
      "│ id  ┆ sales     │\n",
      "│ --- ┆ ---       │\n",
      "│ i64 ┆ f64       │\n",
      "╞═════╪═══════════╡\n",
      "│ 9   ┆ 33.4      │\n",
      "│ 4   ┆ 2142134.1 │\n",
      "│ 2   ┆ 44.7      │\n",
      "└─────┴───────────┘\n"
     ]
    }
   ],
   "source": [
    "#Selecciona las columnas numéricas, excepto la primera columna que indica los números de fila.\n",
    "out = df.select(cs.numeric() - cs.first())\n",
    "print(out)"
   ]
  },
  {
   "cell_type": "code",
   "execution_count": 264,
   "metadata": {},
   "outputs": [
    {
     "name": "stdout",
     "output_type": "stream",
     "text": [
      "shape: (3, 5)\n",
      "┌───────┬────────┬────────────┬────────────┬─────────────────────┐\n",
      "│ index ┆ place  ┆ date       ┆ has_people ┆ logged_at           │\n",
      "│ ---   ┆ ---    ┆ ---        ┆ ---        ┆ ---                 │\n",
      "│ u32   ┆ str    ┆ date       ┆ bool       ┆ datetime[μs]        │\n",
      "╞═══════╪════════╪════════════╪════════════╪═════════════════════╡\n",
      "│ 0     ┆ Mars   ┆ 2022-01-01 ┆ false      ┆ 2022-12-01 00:00:00 │\n",
      "│ 1     ┆ Earth  ┆ 2022-01-02 ┆ true       ┆ 2022-12-01 00:00:01 │\n",
      "│ 2     ┆ Saturn ┆ 2022-01-03 ┆ false      ┆ 2022-12-01 00:00:02 │\n",
      "└───────┴────────┴────────────┴────────────┴─────────────────────┘\n"
     ]
    }
   ],
   "source": [
    "#También podemos seleccionar el número de fila por nombre y cualquier columna no numérica.\n",
    "out = df.select(cs.by_name(\"index\") | ~cs.numeric())\n",
    "print(out)"
   ]
  },
  {
   "cell_type": "code",
   "execution_count": 265,
   "metadata": {},
   "outputs": [
    {
     "data": {
      "text/html": [
       "<div><style>\n",
       ".dataframe > thead > tr,\n",
       ".dataframe > tbody > tr {\n",
       "  text-align: right;\n",
       "  white-space: pre-wrap;\n",
       "}\n",
       "</style>\n",
       "<small>shape: (3, 3)</small><table border=\"1\" class=\"dataframe\"><thead><tr><th>index</th><th>has_people</th><th>logged_at</th></tr><tr><td>u32</td><td>bool</td><td>datetime[μs]</td></tr></thead><tbody><tr><td>0</td><td>false</td><td>2022-12-01 00:00:00</td></tr><tr><td>1</td><td>true</td><td>2022-12-01 00:00:01</td></tr><tr><td>2</td><td>false</td><td>2022-12-01 00:00:02</td></tr></tbody></table></div>"
      ],
      "text/plain": [
       "shape: (3, 3)\n",
       "┌───────┬────────────┬─────────────────────┐\n",
       "│ index ┆ has_people ┆ logged_at           │\n",
       "│ ---   ┆ ---        ┆ ---                 │\n",
       "│ u32   ┆ bool       ┆ datetime[μs]        │\n",
       "╞═══════╪════════════╪═════════════════════╡\n",
       "│ 0     ┆ false      ┆ 2022-12-01 00:00:00 │\n",
       "│ 1     ┆ true       ┆ 2022-12-01 00:00:01 │\n",
       "│ 2     ┆ false      ┆ 2022-12-01 00:00:02 │\n",
       "└───────┴────────────┴─────────────────────┘"
      ]
     },
     "execution_count": 265,
     "metadata": {},
     "output_type": "execute_result"
    }
   ],
   "source": [
    "# Por patrones\n",
    "out = df.select(cs.contains(\"index\"), cs.matches(\".*_.*\"))\n",
    "out"
   ]
  },
  {
   "cell_type": "code",
   "execution_count": 266,
   "metadata": {},
   "outputs": [
    {
     "data": {
      "text/html": [
       "<div><style>\n",
       ".dataframe > thead > tr,\n",
       ".dataframe > tbody > tr {\n",
       "  text-align: right;\n",
       "  white-space: pre-wrap;\n",
       "}\n",
       "</style>\n",
       "<small>shape: (3, 2)</small><table border=\"1\" class=\"dataframe\"><thead><tr><th>date</th><th>logged_at</th></tr><tr><td>str</td><td>str</td></tr></thead><tbody><tr><td>&quot;2022-Jan-01&quot;</td><td>&quot;2022-Dec-01&quot;</td></tr><tr><td>&quot;2022-Jan-02&quot;</td><td>&quot;2022-Dec-01&quot;</td></tr><tr><td>&quot;2022-Jan-03&quot;</td><td>&quot;2022-Dec-01&quot;</td></tr></tbody></table></div>"
      ],
      "text/plain": [
       "shape: (3, 2)\n",
       "┌─────────────┬─────────────┐\n",
       "│ date        ┆ logged_at   │\n",
       "│ ---         ┆ ---         │\n",
       "│ str         ┆ str         │\n",
       "╞═════════════╪═════════════╡\n",
       "│ 2022-Jan-01 ┆ 2022-Dec-01 │\n",
       "│ 2022-Jan-02 ┆ 2022-Dec-01 │\n",
       "│ 2022-Jan-03 ┆ 2022-Dec-01 │\n",
       "└─────────────┴─────────────┘"
      ]
     },
     "execution_count": 266,
     "metadata": {},
     "output_type": "execute_result"
    }
   ],
   "source": [
    "\n",
    "out = df.select(cs.temporal().as_expr().dt.to_string(\"%Y-%h-%d\"))\n",
    "out"
   ]
  },
  {
   "cell_type": "code",
   "execution_count": 267,
   "metadata": {},
   "outputs": [
    {
     "name": "stdout",
     "output_type": "stream",
     "text": [
      "True\n",
      "True\n",
      "False\n"
     ]
    }
   ],
   "source": [
    "# Para debug\n",
    "\n",
    "from polars.selectors import is_selector\n",
    "\n",
    "out = cs.numeric()\n",
    "print (is_selector(out))\n",
    "\n",
    "out = cs.boolean() | cs.numeric()\n",
    "print (is_selector(out))\n",
    " \n",
    "out = cs.numeric() + pl.lit(123)\n",
    "print (is_selector(out))\n"
   ]
  },
  {
   "cell_type": "code",
   "execution_count": 268,
   "metadata": {},
   "outputs": [
    {
     "data": {
      "text/plain": [
       "\u001b[0;31mSignature:\u001b[0m\n",
       "\u001b[0mpl\u001b[0m\u001b[0;34m.\u001b[0m\u001b[0mlit\u001b[0m\u001b[0;34m(\u001b[0m\u001b[0;34m\u001b[0m\n",
       "\u001b[0;34m\u001b[0m    \u001b[0mvalue\u001b[0m\u001b[0;34m:\u001b[0m \u001b[0;34m'Any'\u001b[0m\u001b[0;34m,\u001b[0m\u001b[0;34m\u001b[0m\n",
       "\u001b[0;34m\u001b[0m    \u001b[0mdtype\u001b[0m\u001b[0;34m:\u001b[0m \u001b[0;34m'PolarsDataType | None'\u001b[0m \u001b[0;34m=\u001b[0m \u001b[0;32mNone\u001b[0m\u001b[0;34m,\u001b[0m\u001b[0;34m\u001b[0m\n",
       "\u001b[0;34m\u001b[0m    \u001b[0;34m*\u001b[0m\u001b[0;34m,\u001b[0m\u001b[0;34m\u001b[0m\n",
       "\u001b[0;34m\u001b[0m    \u001b[0mallow_object\u001b[0m\u001b[0;34m:\u001b[0m \u001b[0;34m'bool'\u001b[0m \u001b[0;34m=\u001b[0m \u001b[0;32mFalse\u001b[0m\u001b[0;34m,\u001b[0m\u001b[0;34m\u001b[0m\n",
       "\u001b[0;34m\u001b[0m\u001b[0;34m)\u001b[0m \u001b[0;34m->\u001b[0m \u001b[0;34m'Expr'\u001b[0m\u001b[0;34m\u001b[0m\u001b[0;34m\u001b[0m\u001b[0m\n",
       "\u001b[0;31mDocstring:\u001b[0m\n",
       "Return an expression representing a literal value.\n",
       "\n",
       "Parameters\n",
       "----------\n",
       "value\n",
       "    Value that should be used as a `literal`.\n",
       "dtype\n",
       "    The data type of the resulting expression.\n",
       "    If set to `None` (default), the data type is inferred from the `value` input.\n",
       "allow_object\n",
       "    If type is unknown use an 'object' type.\n",
       "    By default, we will raise a `ValueException`\n",
       "    if the type is unknown.\n",
       "\n",
       "Notes\n",
       "-----\n",
       "Expected datatypes:\n",
       "\n",
       "- `pl.lit([])` -> empty  Series Float32\n",
       "- `pl.lit([1, 2, 3])` -> Series Int64\n",
       "- `pl.lit([[]])`-> empty  Series List<Null>\n",
       "- `pl.lit([[1, 2, 3]])` -> Series List<i64>\n",
       "- `pl.lit(None)` -> Series Null\n",
       "\n",
       "Examples\n",
       "--------\n",
       "Literal scalar values:\n",
       "\n",
       ">>> pl.lit(1)  # doctest: +IGNORE_RESULT\n",
       ">>> pl.lit(5.5)  # doctest: +IGNORE_RESULT\n",
       ">>> pl.lit(None)  # doctest: +IGNORE_RESULT\n",
       ">>> pl.lit(\"foo_bar\")  # doctest: +IGNORE_RESULT\n",
       ">>> pl.lit(date(2021, 1, 20))  # doctest: +IGNORE_RESULT\n",
       ">>> pl.lit(datetime(2023, 3, 31, 10, 30, 45))  # doctest: +IGNORE_RESULT\n",
       "\n",
       "Literal list/Series data (1D):\n",
       "\n",
       ">>> pl.lit([1, 2, 3])  # doctest: +SKIP\n",
       ">>> pl.lit(pl.Series(\"x\", [1, 2, 3]))  # doctest: +IGNORE_RESULT\n",
       "\n",
       "Literal list/Series data (2D):\n",
       "\n",
       ">>> pl.lit([[1, 2], [3, 4]])  # doctest: +SKIP\n",
       ">>> pl.lit(pl.Series(\"y\", [[1, 2], [3, 4]]))  # doctest: +IGNORE_RESULT\n",
       "\u001b[0;31mFile:\u001b[0m      ~/Library/Caches/pypoetry/virtualenvs/polars-tut-M8eQ2xum-py3.12/lib/python3.12/site-packages/polars/functions/lit.py\n",
       "\u001b[0;31mType:\u001b[0m      function"
      ]
     },
     "metadata": {},
     "output_type": "display_data"
    }
   ],
   "source": [
    "pl.lit?"
   ]
  },
  {
   "cell_type": "code",
   "execution_count": 269,
   "metadata": {},
   "outputs": [
    {
     "name": "stdout",
     "output_type": "stream",
     "text": [
      "('date', 'logged_at')\n",
      "('place', 'has_people')\n",
      "<class 'tuple'>\n"
     ]
    }
   ],
   "source": [
    "from polars.selectors import expand_selector\n",
    "\n",
    "out = cs.temporal()\n",
    "print (expand_selector(df, out))\n",
    "\n",
    "out = ~(cs.temporal() | cs.numeric())\n",
    "print (expand_selector(df, out))\n",
    "print (type(expand_selector(df, out)))"
   ]
  },
  {
   "cell_type": "code",
   "execution_count": 270,
   "metadata": {},
   "outputs": [
    {
     "data": {
      "text/plain": [
       "\u001b[0;31mSignature:\u001b[0m \u001b[0mcs\u001b[0m\u001b[0;34m.\u001b[0m\u001b[0mtemporal\u001b[0m\u001b[0;34m(\u001b[0m\u001b[0;34m)\u001b[0m \u001b[0;34m->\u001b[0m \u001b[0;34m'SelectorType'\u001b[0m\u001b[0;34m\u001b[0m\u001b[0;34m\u001b[0m\u001b[0m\n",
       "\u001b[0;31mDocstring:\u001b[0m\n",
       "Select all temporal columns.\n",
       "\n",
       "See Also\n",
       "--------\n",
       "by_dtype : Select all columns matching the given dtype(s).\n",
       "date : Select all date columns.\n",
       "datetime : Select all datetime columns, optionally filtering by time unit/zone.\n",
       "duration : Select all duration columns, optionally filtering by time unit.\n",
       "time : Select all time columns.\n",
       "\n",
       "Examples\n",
       "--------\n",
       ">>> from datetime import date, time\n",
       ">>> import polars.selectors as cs\n",
       ">>> df = pl.DataFrame(\n",
       "...     {\n",
       "...         \"dt\": [date(2021, 1, 1), date(2021, 1, 2)],\n",
       "...         \"tm\": [time(12, 0, 0), time(20, 30, 45)],\n",
       "...         \"value\": [1.2345, 2.3456],\n",
       "...     }\n",
       "... )\n",
       "\n",
       "Match all temporal columns:\n",
       "\n",
       ">>> df.select(cs.temporal())\n",
       "shape: (2, 2)\n",
       "┌────────────┬──────────┐\n",
       "│ dt         ┆ tm       │\n",
       "│ ---        ┆ ---      │\n",
       "│ date       ┆ time     │\n",
       "╞════════════╪══════════╡\n",
       "│ 2021-01-01 ┆ 12:00:00 │\n",
       "│ 2021-01-02 ┆ 20:30:45 │\n",
       "└────────────┴──────────┘\n",
       "\n",
       "Match all temporal columns *except* for time columns:\n",
       "\n",
       ">>> df.select(cs.temporal() - cs.time())\n",
       "shape: (2, 1)\n",
       "┌────────────┐\n",
       "│ dt         │\n",
       "│ ---        │\n",
       "│ date       │\n",
       "╞════════════╡\n",
       "│ 2021-01-01 │\n",
       "│ 2021-01-02 │\n",
       "└────────────┘\n",
       "\n",
       "Match all columns *except* for temporal columns:\n",
       "\n",
       ">>> df.select(~cs.temporal())\n",
       "shape: (2, 1)\n",
       "┌────────┐\n",
       "│ value  │\n",
       "│ ---    │\n",
       "│ f64    │\n",
       "╞════════╡\n",
       "│ 1.2345 │\n",
       "│ 2.3456 │\n",
       "└────────┘\n",
       "\u001b[0;31mFile:\u001b[0m      ~/Library/Caches/pypoetry/virtualenvs/polars-tut-M8eQ2xum-py3.12/lib/python3.12/site-packages/polars/selectors.py\n",
       "\u001b[0;31mType:\u001b[0m      function"
      ]
     },
     "metadata": {},
     "output_type": "display_data"
    }
   ],
   "source": [
    "cs.temporal?"
   ]
  },
  {
   "cell_type": "markdown",
   "metadata": {},
   "source": [
    "## Funciones"
   ]
  },
  {
   "cell_type": "code",
   "execution_count": 271,
   "metadata": {},
   "outputs": [
    {
     "name": "stdout",
     "output_type": "stream",
     "text": [
      "shape: (5, 4)\n",
      "┌──────┬───────┬──────────┬────────┐\n",
      "│ nrs  ┆ names ┆ random   ┆ groups │\n",
      "│ ---  ┆ ---   ┆ ---      ┆ ---    │\n",
      "│ i64  ┆ str   ┆ f64      ┆ str    │\n",
      "╞══════╪═══════╪══════════╪════════╡\n",
      "│ 1    ┆ foo   ┆ 0.568712 ┆ A      │\n",
      "│ 2    ┆ ham   ┆ 0.130073 ┆ A      │\n",
      "│ 3    ┆ spam  ┆ 0.384082 ┆ B      │\n",
      "│ null ┆ egg   ┆ 0.018753 ┆ C      │\n",
      "│ 5    ┆ spam  ┆ 0.041167 ┆ B      │\n",
      "└──────┴───────┴──────────┴────────┘\n"
     ]
    }
   ],
   "source": [
    "df = pl.DataFrame(\n",
    "    {\n",
    "        \"nrs\": [1, 2, 3, None, 5],\n",
    "        \"names\": [\"foo\", \"ham\", \"spam\", \"egg\", \"spam\"],\n",
    "        \"random\": np.random.rand(5),\n",
    "        \"groups\": [\"A\", \"A\", \"B\", \"C\", \"B\"],\n",
    "    }\n",
    ")\n",
    "print(df)"
   ]
  },
  {
   "cell_type": "markdown",
   "metadata": {},
   "source": [
    "### Nombre columnas\n",
    "Por defecto si usamos una expresión, va a mantener el mismo nombre que la columna original"
   ]
  },
  {
   "cell_type": "code",
   "execution_count": 272,
   "metadata": {},
   "outputs": [
    {
     "data": {
      "text/html": [
       "<div><style>\n",
       ".dataframe > thead > tr,\n",
       ".dataframe > tbody > tr {\n",
       "  text-align: right;\n",
       "  white-space: pre-wrap;\n",
       "}\n",
       "</style>\n",
       "<small>shape: (5, 1)</small><table border=\"1\" class=\"dataframe\"><thead><tr><th>nrs</th></tr><tr><td>i64</td></tr></thead><tbody><tr><td>6</td></tr><tr><td>7</td></tr><tr><td>8</td></tr><tr><td>null</td></tr><tr><td>10</td></tr></tbody></table></div>"
      ],
      "text/plain": [
       "shape: (5, 1)\n",
       "┌──────┐\n",
       "│ nrs  │\n",
       "│ ---  │\n",
       "│ i64  │\n",
       "╞══════╡\n",
       "│ 6    │\n",
       "│ 7    │\n",
       "│ 8    │\n",
       "│ null │\n",
       "│ 10   │\n",
       "└──────┘"
      ]
     },
     "execution_count": 272,
     "metadata": {},
     "output_type": "execute_result"
    }
   ],
   "source": [
    "df.select(pl.col(\"nrs\")+5)"
   ]
  },
  {
   "cell_type": "markdown",
   "metadata": {},
   "source": [
    "Esto puecde ser un problema si hacemos dos operaciones sobre la misma columna, entonces se usa alias"
   ]
  },
  {
   "cell_type": "code",
   "execution_count": 273,
   "metadata": {},
   "outputs": [
    {
     "name": "stdout",
     "output_type": "stream",
     "text": [
      "shape: (5, 2)\n",
      "┌─────────┬─────────┐\n",
      "│ nrs + 5 ┆ nrs - 5 │\n",
      "│ ---     ┆ ---     │\n",
      "│ i64     ┆ i64     │\n",
      "╞═════════╪═════════╡\n",
      "│ 6       ┆ -4      │\n",
      "│ 7       ┆ -3      │\n",
      "│ 8       ┆ -2      │\n",
      "│ null    ┆ null    │\n",
      "│ 10      ┆ 0       │\n",
      "└─────────┴─────────┘\n"
     ]
    }
   ],
   "source": [
    "df_alias = df.select(\n",
    "    (pl.col(\"nrs\") + 5).alias(\"nrs + 5\"),\n",
    "    (pl.col(\"nrs\") - 5).alias(\"nrs - 5\"),\n",
    ")\n",
    "print(df_alias)"
   ]
  },
  {
   "cell_type": "code",
   "execution_count": 274,
   "metadata": {},
   "outputs": [
    {
     "name": "stdout",
     "output_type": "stream",
     "text": [
      "shape: (5, 2)\n",
      "┌─────────┬──────┐\n",
      "│ nrs + 5 ┆ nrs  │\n",
      "│ ---     ┆ ---  │\n",
      "│ i64     ┆ i64  │\n",
      "╞═════════╪══════╡\n",
      "│ 6       ┆ -4   │\n",
      "│ 7       ┆ -3   │\n",
      "│ 8       ┆ -2   │\n",
      "│ null    ┆ null │\n",
      "│ 10      ┆ 0    │\n",
      "└─────────┴──────┘\n"
     ]
    }
   ],
   "source": [
    "df_alias = df.select(\n",
    "    (pl.col(\"nrs\") + 5).alias(\"nrs + 5\"),\n",
    "    (pl.col(\"nrs\") - 5),\n",
    ")\n",
    "print(df_alias)"
   ]
  },
  {
   "cell_type": "markdown",
   "metadata": {},
   "source": [
    "Podemos contar valores únicos"
   ]
  },
  {
   "cell_type": "code",
   "execution_count": 275,
   "metadata": {},
   "outputs": [
    {
     "data": {
      "text/html": [
       "<div><style>\n",
       ".dataframe > thead > tr,\n",
       ".dataframe > tbody > tr {\n",
       "  text-align: right;\n",
       "  white-space: pre-wrap;\n",
       "}\n",
       "</style>\n",
       "<small>shape: (1, 1)</small><table border=\"1\" class=\"dataframe\"><thead><tr><th>names</th></tr><tr><td>u32</td></tr></thead><tbody><tr><td>4</td></tr></tbody></table></div>"
      ],
      "text/plain": [
       "shape: (1, 1)\n",
       "┌───────┐\n",
       "│ names │\n",
       "│ ---   │\n",
       "│ u32   │\n",
       "╞═══════╡\n",
       "│ 4     │\n",
       "└───────┘"
      ]
     },
     "execution_count": 275,
     "metadata": {},
     "output_type": "execute_result"
    }
   ],
   "source": [
    "df.select(pl.col(\"names\").n_unique())"
   ]
  },
  {
   "cell_type": "code",
   "execution_count": 276,
   "metadata": {},
   "outputs": [
    {
     "name": "stdout",
     "output_type": "stream",
     "text": [
      "shape: (1, 2)\n",
      "┌────────┬───────────────┐\n",
      "│ unique ┆ unique_approx │\n",
      "│ ---    ┆ ---           │\n",
      "│ u32    ┆ u32           │\n",
      "╞════════╪═══════════════╡\n",
      "│ 4      ┆ 4             │\n",
      "└────────┴───────────────┘\n"
     ]
    }
   ],
   "source": [
    "df_alias = df.select(\n",
    "    pl.col(\"names\").n_unique().alias(\"unique\"),\n",
    "    pl.approx_n_unique(\"names\").alias(\"unique_approx\"),\n",
    ")\n",
    "print(df_alias)"
   ]
  },
  {
   "cell_type": "markdown",
   "metadata": {},
   "source": [
    "Podemos aplicar condicionales con when, then, otherwise. "
   ]
  },
  {
   "cell_type": "code",
   "execution_count": 277,
   "metadata": {},
   "outputs": [
    {
     "name": "stdout",
     "output_type": "stream",
     "text": [
      "shape: (5, 2)\n",
      "┌──────┬─────────────┐\n",
      "│ nrs  ┆ conditional │\n",
      "│ ---  ┆ ---         │\n",
      "│ i64  ┆ bool        │\n",
      "╞══════╪═════════════╡\n",
      "│ 1    ┆ false       │\n",
      "│ 2    ┆ false       │\n",
      "│ 3    ┆ true        │\n",
      "│ null ┆ false       │\n",
      "│ 5    ┆ true        │\n",
      "└──────┴─────────────┘\n"
     ]
    }
   ],
   "source": [
    "df_conditional = df.select(\n",
    "    pl.col(\"nrs\"),\n",
    "    pl.when(pl.col(\"nrs\") > 2)\n",
    "    .then(pl.lit(True))\n",
    "    .otherwise(pl.lit(False))\n",
    "    .alias(\"conditional\"),\n",
    ")\n",
    "print(df_conditional)"
   ]
  },
  {
   "cell_type": "markdown",
   "metadata": {},
   "source": [
    "\t•\tpl.col(\"nrs\"): Selecciona la columna \"nrs\" del DataFrame original.\n",
    "\t•\tpl.when(pl.col(\"nrs\") > 2): Evalúa si los valores de la columna \"nrs\" son mayores que 2.\n",
    "\t•\t.then(pl.lit(True)): Si la condición es verdadera, el valor será True.\n",
    "\t•\t.otherwise(pl.lit(False)): Si la condición es falsa, el valor será False.\n",
    "\t•\t.alias(\"conditional\"): La columna resultante se renombra a \"conditional\"."
   ]
  },
  {
   "cell_type": "markdown",
   "metadata": {},
   "source": [
    "## Casting\n",
    "### Numéricos"
   ]
  },
  {
   "cell_type": "code",
   "execution_count": 278,
   "metadata": {},
   "outputs": [
    {
     "name": "stdout",
     "output_type": "stream",
     "text": [
      "shape: (5, 4)\n",
      "┌──────────┬──────────────┬────────┬─────────────────────┐\n",
      "│ integers ┆ big_integers ┆ floats ┆ floats_with_decimal │\n",
      "│ ---      ┆ ---          ┆ ---    ┆ ---                 │\n",
      "│ i64      ┆ i64          ┆ f64    ┆ f64                 │\n",
      "╞══════════╪══════════════╪════════╪═════════════════════╡\n",
      "│ 1        ┆ 1            ┆ 4.0    ┆ 4.532               │\n",
      "│ 2        ┆ 10000002     ┆ 5.0    ┆ 5.5                 │\n",
      "│ 3        ┆ 3            ┆ 6.0    ┆ 6.5                 │\n",
      "│ 4        ┆ 10000004     ┆ 7.0    ┆ 7.5                 │\n",
      "│ 5        ┆ 10000005     ┆ 8.0    ┆ 8.5                 │\n",
      "└──────────┴──────────────┴────────┴─────────────────────┘\n"
     ]
    }
   ],
   "source": [
    "df = pl.DataFrame(\n",
    "    {\n",
    "        \"integers\": [1, 2, 3, 4, 5],\n",
    "        \"big_integers\": [1, 10000002, 3, 10000004, 10000005],\n",
    "        \"floats\": [4.0, 5.0, 6.0, 7.0, 8.0],\n",
    "        \"floats_with_decimal\": [4.532, 5.5, 6.5, 7.5, 8.5],\n",
    "    }\n",
    ")\n",
    "\n",
    "print(df)"
   ]
  },
  {
   "cell_type": "code",
   "execution_count": 279,
   "metadata": {},
   "outputs": [
    {
     "name": "stdout",
     "output_type": "stream",
     "text": [
      "shape: (5, 3)\n",
      "┌────────────────────┬────────────────────┬─────────────────────────────────┐\n",
      "│ integers_as_floats ┆ floats_as_integers ┆ floats_with_decimal_as_integer… │\n",
      "│ ---                ┆ ---                ┆ ---                             │\n",
      "│ f32                ┆ i32                ┆ i32                             │\n",
      "╞════════════════════╪════════════════════╪═════════════════════════════════╡\n",
      "│ 1.0                ┆ 4                  ┆ 4                               │\n",
      "│ 2.0                ┆ 5                  ┆ 5                               │\n",
      "│ 3.0                ┆ 6                  ┆ 6                               │\n",
      "│ 4.0                ┆ 7                  ┆ 7                               │\n",
      "│ 5.0                ┆ 8                  ┆ 8                               │\n",
      "└────────────────────┴────────────────────┴─────────────────────────────────┘\n"
     ]
    }
   ],
   "source": [
    "out = df.select(\n",
    "    pl.col(\"integers\").cast(pl.Float32).alias(\"integers_as_floats\"),\n",
    "    pl.col(\"floats\").cast(pl.Int32).alias(\"floats_as_integers\"),\n",
    "    pl.col(\"floats_with_decimal\")\n",
    "    .cast(pl.Int32)\n",
    "    .alias(\"floats_with_decimal_as_integers\"),\n",
    ")\n",
    "print(out)\n"
   ]
  },
  {
   "cell_type": "code",
   "execution_count": 280,
   "metadata": {},
   "outputs": [
    {
     "name": "stdout",
     "output_type": "stream",
     "text": [
      "shape: (5, 2)\n",
      "┌─────────────────────────┬───────────────────────┐\n",
      "│ integers_smallfootprint ┆ floats_smallfootprint │\n",
      "│ ---                     ┆ ---                   │\n",
      "│ i16                     ┆ f32                   │\n",
      "╞═════════════════════════╪═══════════════════════╡\n",
      "│ 1                       ┆ 4.0                   │\n",
      "│ 2                       ┆ 5.0                   │\n",
      "│ 3                       ┆ 6.0                   │\n",
      "│ 4                       ┆ 7.0                   │\n",
      "│ 5                       ┆ 8.0                   │\n",
      "└─────────────────────────┴───────────────────────┘\n"
     ]
    }
   ],
   "source": [
    "out = df.select(\n",
    "    pl.col(\"integers\").cast(pl.Int16).alias(\"integers_smallfootprint\"),\n",
    "    pl.col(\"floats\").cast(pl.Float32).alias(\"floats_smallfootprint\"),\n",
    ")\n",
    "print(out)\n"
   ]
  },
  {
   "cell_type": "code",
   "execution_count": 281,
   "metadata": {},
   "outputs": [
    {
     "name": "stdout",
     "output_type": "stream",
     "text": [
      "conversion from `i64` to `i8` failed in column 'big_integers' for 3 out of 5 values: [10000002, 10000004, 10000005]\n"
     ]
    }
   ],
   "source": [
    "try:\n",
    "    out = df.select(pl.col(\"big_integers\").cast(pl.Int8))\n",
    "    print(out)\n",
    "except Exception as e:\n",
    "    print(e)"
   ]
  },
  {
   "cell_type": "code",
   "execution_count": 282,
   "metadata": {},
   "outputs": [
    {
     "name": "stdout",
     "output_type": "stream",
     "text": [
      "shape: (5, 1)\n",
      "┌──────────────┐\n",
      "│ big_integers │\n",
      "│ ---          │\n",
      "│ i8           │\n",
      "╞══════════════╡\n",
      "│ 1            │\n",
      "│ null         │\n",
      "│ 3            │\n",
      "│ null         │\n",
      "│ null         │\n",
      "└──────────────┘\n"
     ]
    }
   ],
   "source": [
    "out = df.select(pl.col(\"big_integers\").cast(pl.Int8, strict=False))\n",
    "print(out)"
   ]
  },
  {
   "cell_type": "code",
   "execution_count": null,
   "metadata": {},
   "outputs": [],
   "source": [
    "t"
   ]
  }
 ],
 "metadata": {
  "kernelspec": {
   "display_name": "Python 3 (ipykernel)",
   "language": "python",
   "name": "python3"
  },
  "language_info": {
   "codemirror_mode": {
    "name": "ipython",
    "version": 3
   },
   "file_extension": ".py",
   "mimetype": "text/x-python",
   "name": "python",
   "nbconvert_exporter": "python",
   "pygments_lexer": "ipython3",
   "version": "3.12.1"
  }
 },
 "nbformat": 4,
 "nbformat_minor": 4
}
