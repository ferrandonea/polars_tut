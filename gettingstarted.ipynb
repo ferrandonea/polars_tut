{
 "cells": [
  {
   "cell_type": "code",
   "execution_count": 1,
   "metadata": {},
   "outputs": [],
   "source": [
    "import polars as pl\n",
    "import numpy as np\n",
    "from datetime import datetime"
   ]
  },
  {
   "cell_type": "markdown",
   "metadata": {},
   "source": [
    "# Declarando"
   ]
  },
  {
   "cell_type": "code",
   "execution_count": 2,
   "metadata": {},
   "outputs": [
    {
     "data": {
      "text/html": [
       "<div><style>\n",
       ".dataframe > thead > tr,\n",
       ".dataframe > tbody > tr {\n",
       "  text-align: right;\n",
       "  white-space: pre-wrap;\n",
       "}\n",
       "</style>\n",
       "<small>shape: (5_000, 3)</small><table border=\"1\" class=\"dataframe\"><thead><tr><th>metraje</th><th>año</th><th>tipo</th></tr><tr><td>f64</td><td>i64</td><td>str</td></tr></thead><tbody><tr><td>212.258777</td><td>1982</td><td>&quot;C&quot;</td></tr><tr><td>307.561004</td><td>2019</td><td>&quot;C&quot;</td></tr><tr><td>170.564597</td><td>2007</td><td>&quot;A&quot;</td></tr><tr><td>268.532959</td><td>1988</td><td>&quot;A&quot;</td></tr><tr><td>61.959826</td><td>2006</td><td>&quot;A&quot;</td></tr><tr><td>&hellip;</td><td>&hellip;</td><td>&hellip;</td></tr><tr><td>213.130726</td><td>1993</td><td>&quot;C&quot;</td></tr><tr><td>122.661835</td><td>2003</td><td>&quot;C&quot;</td></tr><tr><td>17.268618</td><td>2018</td><td>&quot;C&quot;</td></tr><tr><td>1118.426685</td><td>2019</td><td>&quot;C&quot;</td></tr><tr><td>206.003503</td><td>2006</td><td>&quot;C&quot;</td></tr></tbody></table></div>"
      ],
      "text/plain": [
       "shape: (5_000, 3)\n",
       "┌─────────────┬──────┬──────┐\n",
       "│ metraje     ┆ año  ┆ tipo │\n",
       "│ ---         ┆ ---  ┆ ---  │\n",
       "│ f64         ┆ i64  ┆ str  │\n",
       "╞═════════════╪══════╪══════╡\n",
       "│ 212.258777  ┆ 1982 ┆ C    │\n",
       "│ 307.561004  ┆ 2019 ┆ C    │\n",
       "│ 170.564597  ┆ 2007 ┆ A    │\n",
       "│ 268.532959  ┆ 1988 ┆ A    │\n",
       "│ 61.959826   ┆ 2006 ┆ A    │\n",
       "│ …           ┆ …    ┆ …    │\n",
       "│ 213.130726  ┆ 1993 ┆ C    │\n",
       "│ 122.661835  ┆ 2003 ┆ C    │\n",
       "│ 17.268618   ┆ 2018 ┆ C    │\n",
       "│ 1118.426685 ┆ 2019 ┆ C    │\n",
       "│ 206.003503  ┆ 2006 ┆ C    │\n",
       "└─────────────┴──────┴──────┘"
      ]
     },
     "execution_count": 2,
     "metadata": {},
     "output_type": "execute_result"
    }
   ],
   "source": [
    "num_filas = 5_000\n",
    "rng = np.random.default_rng(seed=7)\n",
    "\n",
    "datos_edificios = {\n",
    "    \"metraje\" : rng.exponential(scale = 300, size=num_filas),\n",
    "    \"año\": rng.integers(low=1980, high=2024, size= num_filas),\n",
    "    \"tipo\": rng.choice([\"A\", \"B\", \"C\"], size = num_filas)\n",
    "}\n",
    "\n",
    "edificios = pl.DataFrame(data=datos_edificios)\n",
    "edificios"
   ]
  },
  {
   "cell_type": "markdown",
   "metadata": {},
   "source": [
    "Existen métodos para explorar datos, que muchos son similares a ```pandas```. Los tipos de datos son de ```pyarrow```."
   ]
  },
  {
   "cell_type": "code",
   "execution_count": 3,
   "metadata": {},
   "outputs": [
    {
     "data": {
      "text/plain": [
       "Schema([('metraje', Float64), ('año', Int64), ('tipo', String)])"
      ]
     },
     "execution_count": 3,
     "metadata": {},
     "output_type": "execute_result"
    }
   ],
   "source": [
    "edificios.schema"
   ]
  },
  {
   "cell_type": "code",
   "execution_count": 4,
   "metadata": {},
   "outputs": [
    {
     "data": {
      "text/html": [
       "<div><style>\n",
       ".dataframe > thead > tr,\n",
       ".dataframe > tbody > tr {\n",
       "  text-align: right;\n",
       "  white-space: pre-wrap;\n",
       "}\n",
       "</style>\n",
       "<small>shape: (5, 3)</small><table border=\"1\" class=\"dataframe\"><thead><tr><th>metraje</th><th>año</th><th>tipo</th></tr><tr><td>f64</td><td>i64</td><td>str</td></tr></thead><tbody><tr><td>212.258777</td><td>1982</td><td>&quot;C&quot;</td></tr><tr><td>307.561004</td><td>2019</td><td>&quot;C&quot;</td></tr><tr><td>170.564597</td><td>2007</td><td>&quot;A&quot;</td></tr><tr><td>268.532959</td><td>1988</td><td>&quot;A&quot;</td></tr><tr><td>61.959826</td><td>2006</td><td>&quot;A&quot;</td></tr></tbody></table></div>"
      ],
      "text/plain": [
       "shape: (5, 3)\n",
       "┌────────────┬──────┬──────┐\n",
       "│ metraje    ┆ año  ┆ tipo │\n",
       "│ ---        ┆ ---  ┆ ---  │\n",
       "│ f64        ┆ i64  ┆ str  │\n",
       "╞════════════╪══════╪══════╡\n",
       "│ 212.258777 ┆ 1982 ┆ C    │\n",
       "│ 307.561004 ┆ 2019 ┆ C    │\n",
       "│ 170.564597 ┆ 2007 ┆ A    │\n",
       "│ 268.532959 ┆ 1988 ┆ A    │\n",
       "│ 61.959826  ┆ 2006 ┆ A    │\n",
       "└────────────┴──────┴──────┘"
      ]
     },
     "execution_count": 4,
     "metadata": {},
     "output_type": "execute_result"
    }
   ],
   "source": [
    "edificios.head()"
   ]
  },
  {
   "cell_type": "code",
   "execution_count": 5,
   "metadata": {},
   "outputs": [
    {
     "data": {
      "text/html": [
       "<div><style>\n",
       ".dataframe > thead > tr,\n",
       ".dataframe > tbody > tr {\n",
       "  text-align: right;\n",
       "  white-space: pre-wrap;\n",
       "}\n",
       "</style>\n",
       "<small>shape: (9, 4)</small><table border=\"1\" class=\"dataframe\"><thead><tr><th>statistic</th><th>metraje</th><th>año</th><th>tipo</th></tr><tr><td>str</td><td>f64</td><td>f64</td><td>str</td></tr></thead><tbody><tr><td>&quot;count&quot;</td><td>5000.0</td><td>5000.0</td><td>&quot;5000&quot;</td></tr><tr><td>&quot;null_count&quot;</td><td>0.0</td><td>0.0</td><td>&quot;0&quot;</td></tr><tr><td>&quot;mean&quot;</td><td>298.228337</td><td>2001.5494</td><td>null</td></tr><tr><td>&quot;std&quot;</td><td>304.992471</td><td>12.676312</td><td>null</td></tr><tr><td>&quot;min&quot;</td><td>0.339977</td><td>1980.0</td><td>&quot;A&quot;</td></tr><tr><td>&quot;25%&quot;</td><td>86.042265</td><td>1990.0</td><td>null</td></tr><tr><td>&quot;50%&quot;</td><td>200.822089</td><td>2002.0</td><td>null</td></tr><tr><td>&quot;75%&quot;</td><td>402.872935</td><td>2012.0</td><td>null</td></tr><tr><td>&quot;max&quot;</td><td>2792.338175</td><td>2023.0</td><td>&quot;C&quot;</td></tr></tbody></table></div>"
      ],
      "text/plain": [
       "shape: (9, 4)\n",
       "┌────────────┬─────────────┬───────────┬──────┐\n",
       "│ statistic  ┆ metraje     ┆ año       ┆ tipo │\n",
       "│ ---        ┆ ---         ┆ ---       ┆ ---  │\n",
       "│ str        ┆ f64         ┆ f64       ┆ str  │\n",
       "╞════════════╪═════════════╪═══════════╪══════╡\n",
       "│ count      ┆ 5000.0      ┆ 5000.0    ┆ 5000 │\n",
       "│ null_count ┆ 0.0         ┆ 0.0       ┆ 0    │\n",
       "│ mean       ┆ 298.228337  ┆ 2001.5494 ┆ null │\n",
       "│ std        ┆ 304.992471  ┆ 12.676312 ┆ null │\n",
       "│ min        ┆ 0.339977    ┆ 1980.0    ┆ A    │\n",
       "│ 25%        ┆ 86.042265   ┆ 1990.0    ┆ null │\n",
       "│ 50%        ┆ 200.822089  ┆ 2002.0    ┆ null │\n",
       "│ 75%        ┆ 402.872935  ┆ 2012.0    ┆ null │\n",
       "│ max        ┆ 2792.338175 ┆ 2023.0    ┆ C    │\n",
       "└────────────┴─────────────┴───────────┴──────┘"
      ]
     },
     "execution_count": 5,
     "metadata": {},
     "output_type": "execute_result"
    }
   ],
   "source": [
    "edificios.describe()"
   ]
  },
  {
   "cell_type": "markdown",
   "metadata": {},
   "source": [
    "# Contexto y expresiones\n",
    "Expresiones son las transformaciones que se hacen en las columnas de datos, incluyendo operaciones matemáticas, agregaciones, comparaciones, manipulación de texto, etc\n",
    "\n",
    "Un contexto se refiere al ambiente específico en que una expresión es evaluada. Existen 3 contextos principales:\n",
    "* **Selección**: Seleccionar columnas de un dataframe.\n",
    "* **Filtro**: Reducir al dataframe extrayendo filas que cumplan una condición.\n",
    "* **Agrupación**: Hacer resúmenes de subgrupos de los datos."
   ]
  },
  {
   "cell_type": "code",
   "execution_count": 6,
   "metadata": {},
   "outputs": [
    {
     "data": {
      "text/html": [
       "<div><style>\n",
       ".dataframe > thead > tr,\n",
       ".dataframe > tbody > tr {\n",
       "  text-align: right;\n",
       "  white-space: pre-wrap;\n",
       "}\n",
       "</style>\n",
       "<small>shape: (5_000, 1)</small><table border=\"1\" class=\"dataframe\"><thead><tr><th>metraje</th></tr><tr><td>f64</td></tr></thead><tbody><tr><td>212.258777</td></tr><tr><td>307.561004</td></tr><tr><td>170.564597</td></tr><tr><td>268.532959</td></tr><tr><td>61.959826</td></tr><tr><td>&hellip;</td></tr><tr><td>213.130726</td></tr><tr><td>122.661835</td></tr><tr><td>17.268618</td></tr><tr><td>1118.426685</td></tr><tr><td>206.003503</td></tr></tbody></table></div>"
      ],
      "text/plain": [
       "shape: (5_000, 1)\n",
       "┌─────────────┐\n",
       "│ metraje     │\n",
       "│ ---         │\n",
       "│ f64         │\n",
       "╞═════════════╡\n",
       "│ 212.258777  │\n",
       "│ 307.561004  │\n",
       "│ 170.564597  │\n",
       "│ 268.532959  │\n",
       "│ 61.959826   │\n",
       "│ …           │\n",
       "│ 213.130726  │\n",
       "│ 122.661835  │\n",
       "│ 17.268618   │\n",
       "│ 1118.426685 │\n",
       "│ 206.003503  │\n",
       "└─────────────┘"
      ]
     },
     "execution_count": 6,
     "metadata": {},
     "output_type": "execute_result"
    }
   ],
   "source": [
    "edificios.select(\"metraje\")"
   ]
  },
  {
   "cell_type": "code",
   "execution_count": 7,
   "metadata": {},
   "outputs": [
    {
     "data": {
      "text/html": [
       "<div><style>\n",
       ".dataframe > thead > tr,\n",
       ".dataframe > tbody > tr {\n",
       "  text-align: right;\n",
       "  white-space: pre-wrap;\n",
       "}\n",
       "</style>\n",
       "<small>shape: (5_000, 1)</small><table border=\"1\" class=\"dataframe\"><thead><tr><th>metraje</th></tr><tr><td>f64</td></tr></thead><tbody><tr><td>212.258777</td></tr><tr><td>307.561004</td></tr><tr><td>170.564597</td></tr><tr><td>268.532959</td></tr><tr><td>61.959826</td></tr><tr><td>&hellip;</td></tr><tr><td>213.130726</td></tr><tr><td>122.661835</td></tr><tr><td>17.268618</td></tr><tr><td>1118.426685</td></tr><tr><td>206.003503</td></tr></tbody></table></div>"
      ],
      "text/plain": [
       "shape: (5_000, 1)\n",
       "┌─────────────┐\n",
       "│ metraje     │\n",
       "│ ---         │\n",
       "│ f64         │\n",
       "╞═════════════╡\n",
       "│ 212.258777  │\n",
       "│ 307.561004  │\n",
       "│ 170.564597  │\n",
       "│ 268.532959  │\n",
       "│ 61.959826   │\n",
       "│ …           │\n",
       "│ 213.130726  │\n",
       "│ 122.661835  │\n",
       "│ 17.268618   │\n",
       "│ 1118.426685 │\n",
       "│ 206.003503  │\n",
       "└─────────────┘"
      ]
     },
     "execution_count": 7,
     "metadata": {},
     "output_type": "execute_result"
    }
   ],
   "source": [
    "edificios.select(pl.col(\"metraje\"))"
   ]
  },
  {
   "cell_type": "markdown",
   "metadata": {},
   "source": [
    "La segunda forma usando ```pl.col``` te permite encadenar manipulaciones en la columna, por ejemplo dividir el metraje por 100"
   ]
  },
  {
   "cell_type": "code",
   "execution_count": 8,
   "metadata": {},
   "outputs": [
    {
     "data": {
      "text/html": [
       "<div><style>\n",
       ".dataframe > thead > tr,\n",
       ".dataframe > tbody > tr {\n",
       "  text-align: right;\n",
       "  white-space: pre-wrap;\n",
       "}\n",
       "</style>\n",
       "<small>shape: (5_000, 1)</small><table border=\"1\" class=\"dataframe\"><thead><tr><th>metraje</th></tr><tr><td>f64</td></tr></thead><tbody><tr><td>0.0034</td></tr><tr><td>0.003456</td></tr><tr><td>0.004287</td></tr><tr><td>0.004316</td></tr><tr><td>0.004514</td></tr><tr><td>&hellip;</td></tr><tr><td>20.79575</td></tr><tr><td>21.742617</td></tr><tr><td>22.888708</td></tr><tr><td>24.941827</td></tr><tr><td>27.923382</td></tr></tbody></table></div>"
      ],
      "text/plain": [
       "shape: (5_000, 1)\n",
       "┌───────────┐\n",
       "│ metraje   │\n",
       "│ ---       │\n",
       "│ f64       │\n",
       "╞═══════════╡\n",
       "│ 0.0034    │\n",
       "│ 0.003456  │\n",
       "│ 0.004287  │\n",
       "│ 0.004316  │\n",
       "│ 0.004514  │\n",
       "│ …         │\n",
       "│ 20.79575  │\n",
       "│ 21.742617 │\n",
       "│ 22.888708 │\n",
       "│ 24.941827 │\n",
       "│ 27.923382 │\n",
       "└───────────┘"
      ]
     },
     "execution_count": 8,
     "metadata": {},
     "output_type": "execute_result"
    }
   ],
   "source": [
    "edificios.select(pl.col(\"metraje\").sort() / 100)"
   ]
  },
  {
   "cell_type": "markdown",
   "metadata": {},
   "source": [
    "Podemos también filtrar"
   ]
  },
  {
   "cell_type": "code",
   "execution_count": 9,
   "metadata": {},
   "outputs": [
    {
     "data": {
      "text/html": [
       "<div><style>\n",
       ".dataframe > thead > tr,\n",
       ".dataframe > tbody > tr {\n",
       "  text-align: right;\n",
       "  white-space: pre-wrap;\n",
       "}\n",
       "</style>\n",
       "<small>shape: (902, 3)</small><table border=\"1\" class=\"dataframe\"><thead><tr><th>metraje</th><th>año</th><th>tipo</th></tr><tr><td>f64</td><td>i64</td><td>str</td></tr></thead><tbody><tr><td>307.561004</td><td>2019</td><td>&quot;C&quot;</td></tr><tr><td>1015.091205</td><td>2016</td><td>&quot;B&quot;</td></tr><tr><td>172.599827</td><td>2022</td><td>&quot;A&quot;</td></tr><tr><td>220.757182</td><td>2020</td><td>&quot;A&quot;</td></tr><tr><td>75.103604</td><td>2016</td><td>&quot;C&quot;</td></tr><tr><td>&hellip;</td><td>&hellip;</td><td>&hellip;</td></tr><tr><td>95.661883</td><td>2019</td><td>&quot;B&quot;</td></tr><tr><td>516.747999</td><td>2016</td><td>&quot;C&quot;</td></tr><tr><td>740.445452</td><td>2023</td><td>&quot;B&quot;</td></tr><tr><td>17.268618</td><td>2018</td><td>&quot;C&quot;</td></tr><tr><td>1118.426685</td><td>2019</td><td>&quot;C&quot;</td></tr></tbody></table></div>"
      ],
      "text/plain": [
       "shape: (902, 3)\n",
       "┌─────────────┬──────┬──────┐\n",
       "│ metraje     ┆ año  ┆ tipo │\n",
       "│ ---         ┆ ---  ┆ ---  │\n",
       "│ f64         ┆ i64  ┆ str  │\n",
       "╞═════════════╪══════╪══════╡\n",
       "│ 307.561004  ┆ 2019 ┆ C    │\n",
       "│ 1015.091205 ┆ 2016 ┆ B    │\n",
       "│ 172.599827  ┆ 2022 ┆ A    │\n",
       "│ 220.757182  ┆ 2020 ┆ A    │\n",
       "│ 75.103604   ┆ 2016 ┆ C    │\n",
       "│ …           ┆ …    ┆ …    │\n",
       "│ 95.661883   ┆ 2019 ┆ B    │\n",
       "│ 516.747999  ┆ 2016 ┆ C    │\n",
       "│ 740.445452  ┆ 2023 ┆ B    │\n",
       "│ 17.268618   ┆ 2018 ┆ C    │\n",
       "│ 1118.426685 ┆ 2019 ┆ C    │\n",
       "└─────────────┴──────┴──────┘"
      ]
     },
     "execution_count": 9,
     "metadata": {},
     "output_type": "execute_result"
    }
   ],
   "source": [
    "edificios.filter(pl.col(\"año\") > 2015)"
   ]
  },
  {
   "cell_type": "code",
   "execution_count": 10,
   "metadata": {},
   "outputs": [
    {
     "data": {
      "text/html": [
       "<div><style>\n",
       ".dataframe > thead > tr,\n",
       ".dataframe > tbody > tr {\n",
       "  text-align: right;\n",
       "  white-space: pre-wrap;\n",
       "}\n",
       "</style>\n",
       "<small>shape: (1, 1)</small><table border=\"1\" class=\"dataframe\"><thead><tr><th>año</th></tr><tr><td>i64</td></tr></thead><tbody><tr><td>2016</td></tr></tbody></table></div>"
      ],
      "text/plain": [
       "shape: (1, 1)\n",
       "┌──────┐\n",
       "│ año  │\n",
       "│ ---  │\n",
       "│ i64  │\n",
       "╞══════╡\n",
       "│ 2016 │\n",
       "└──────┘"
      ]
     },
     "execution_count": 10,
     "metadata": {},
     "output_type": "execute_result"
    }
   ],
   "source": [
    "edificios.filter(pl.col(\"año\") > 2015).select(pl.col(\"año\").min())"
   ]
  },
  {
   "cell_type": "markdown",
   "metadata": {},
   "source": [
    "Puedo hacer agrupaciones o ```group_by```"
   ]
  },
  {
   "cell_type": "code",
   "execution_count": 11,
   "metadata": {},
   "outputs": [
    {
     "data": {
      "text/html": [
       "<div><style>\n",
       ".dataframe > thead > tr,\n",
       ".dataframe > tbody > tr {\n",
       "  text-align: right;\n",
       "  white-space: pre-wrap;\n",
       "}\n",
       "</style>\n",
       "<small>shape: (3, 4)</small><table border=\"1\" class=\"dataframe\"><thead><tr><th>tipo</th><th>mts promedio</th><th>año medio</th><th>len</th></tr><tr><td>str</td><td>f64</td><td>f64</td><td>u32</td></tr></thead><tbody><tr><td>&quot;B&quot;</td><td>297.8</td><td>2002.0</td><td>1655</td></tr><tr><td>&quot;A&quot;</td><td>296.9</td><td>2003.0</td><td>1653</td></tr><tr><td>&quot;C&quot;</td><td>300.0</td><td>2002.0</td><td>1692</td></tr></tbody></table></div>"
      ],
      "text/plain": [
       "shape: (3, 4)\n",
       "┌──────┬──────────────┬───────────┬──────┐\n",
       "│ tipo ┆ mts promedio ┆ año medio ┆ len  │\n",
       "│ ---  ┆ ---          ┆ ---       ┆ ---  │\n",
       "│ str  ┆ f64          ┆ f64       ┆ u32  │\n",
       "╞══════╪══════════════╪═══════════╪══════╡\n",
       "│ B    ┆ 297.8        ┆ 2002.0    ┆ 1655 │\n",
       "│ A    ┆ 296.9        ┆ 2003.0    ┆ 1653 │\n",
       "│ C    ┆ 300.0        ┆ 2002.0    ┆ 1692 │\n",
       "└──────┴──────────────┴───────────┴──────┘"
      ]
     },
     "execution_count": 11,
     "metadata": {},
     "output_type": "execute_result"
    }
   ],
   "source": [
    "(edificios.group_by(\"tipo\")\n",
    " .agg([\n",
    "     pl.mean(\"metraje\").round(1).alias(\"mts promedio\"),\n",
    "     pl.median(\"año\").round(1).alias(\"año medio\"),\n",
    "     pl.len()\n",
    " ])\n",
    ")"
   ]
  },
  {
   "cell_type": "markdown",
   "metadata": {},
   "source": [
    "# Lazy API\n",
    "Permite hacer operaciones sin correrlas inmediatamente, eso permite optimizarlas antes de ejecución y ver potenciales errores. Además permite hacer consultas en dataframes que no caben dentro de la memoria de manera más eficiente.\n",
    "\n",
    "```LazyFrame``` es el objeto que se usa y existen diferentes formas de crearlos"
   ]
  },
  {
   "cell_type": "code",
   "execution_count": 12,
   "metadata": {},
   "outputs": [
    {
     "data": {
      "text/html": [
       "<h4>NAIVE QUERY PLAN</h4><p>run <b>LazyFrame.show_graph()</b> to see the optimized version</p><?xml version=\"1.0\" encoding=\"UTF-8\" standalone=\"no\"?>\n",
       "<!DOCTYPE svg PUBLIC \"-//W3C//DTD SVG 1.1//EN\"\n",
       " \"http://www.w3.org/Graphics/SVG/1.1/DTD/svg11.dtd\">\n",
       "<!-- Generated by graphviz version 12.1.0 (20240811.2233)\n",
       " -->\n",
       "<!-- Title: polars_query Pages: 1 -->\n",
       "<svg width=\"68pt\" height=\"66pt\"\n",
       " viewBox=\"0.00 0.00 67.50 65.50\" xmlns=\"http://www.w3.org/2000/svg\" xmlns:xlink=\"http://www.w3.org/1999/xlink\">\n",
       "<g id=\"graph0\" class=\"graph\" transform=\"scale(1 1) rotate(0) translate(4 61.5)\">\n",
       "<title>polars_query</title>\n",
       "<polygon fill=\"white\" stroke=\"none\" points=\"-4,4 -4,-61.5 63.5,-61.5 63.5,4 -4,4\"/>\n",
       "<!-- p1 -->\n",
       "<g id=\"node1\" class=\"node\">\n",
       "<title>p1</title>\n",
       "<polygon fill=\"none\" stroke=\"black\" points=\"59.5,-57.5 0,-57.5 0,0 59.5,0 59.5,-57.5\"/>\n",
       "<text text-anchor=\"middle\" x=\"29.75\" y=\"-40.2\" font-family=\"Times,serif\" font-size=\"14.00\">TABLE</text>\n",
       "<text text-anchor=\"middle\" x=\"29.75\" y=\"-23.7\" font-family=\"Times,serif\" font-size=\"14.00\">π */4;</text>\n",
       "<text text-anchor=\"middle\" x=\"29.75\" y=\"-7.2\" font-family=\"Times,serif\" font-size=\"14.00\">σ None</text>\n",
       "</g>\n",
       "</g>\n",
       "</svg>\n"
      ],
      "text/plain": [
       "<LazyFrame at 0x106FC7D10>"
      ]
     },
     "execution_count": 12,
     "metadata": {},
     "output_type": "execute_result"
    }
   ],
   "source": [
    "# creamos variable precio\n",
    "datos_edificios[\"precio\"] = rng.exponential(scale=100_000_000, size = num_filas)\n",
    "\n",
    "edificios_lazy = pl.LazyFrame(datos_edificios)\n",
    "edificios_lazy"
   ]
  },
  {
   "cell_type": "code",
   "execution_count": 13,
   "metadata": {},
   "outputs": [
    {
     "data": {
      "text/html": [
       "<h4>NAIVE QUERY PLAN</h4><p>run <b>LazyFrame.show_graph()</b> to see the optimized version</p><?xml version=\"1.0\" encoding=\"UTF-8\" standalone=\"no\"?>\n",
       "<!DOCTYPE svg PUBLIC \"-//W3C//DTD SVG 1.1//EN\"\n",
       " \"http://www.w3.org/Graphics/SVG/1.1/DTD/svg11.dtd\">\n",
       "<!-- Generated by graphviz version 12.1.0 (20240811.2233)\n",
       " -->\n",
       "<!-- Title: polars_query Pages: 1 -->\n",
       "<svg width=\"440pt\" height=\"282pt\"\n",
       " viewBox=\"0.00 0.00 439.50 281.50\" xmlns=\"http://www.w3.org/2000/svg\" xmlns:xlink=\"http://www.w3.org/1999/xlink\">\n",
       "<g id=\"graph0\" class=\"graph\" transform=\"scale(1 1) rotate(0) translate(4 277.5)\">\n",
       "<title>polars_query</title>\n",
       "<polygon fill=\"white\" stroke=\"none\" points=\"-4,4 -4,-277.5 435.5,-277.5 435.5,4 -4,4\"/>\n",
       "<!-- p1 -->\n",
       "<g id=\"node1\" class=\"node\">\n",
       "<title>p1</title>\n",
       "<polygon fill=\"none\" stroke=\"black\" points=\"322.75,-273.5 108.75,-273.5 108.75,-237.5 322.75,-237.5 322.75,-273.5\"/>\n",
       "<text text-anchor=\"middle\" x=\"215.75\" y=\"-250.45\" font-family=\"Times,serif\" font-size=\"14.00\">FILTER BY [(col(&quot;año&quot;)) &lt; (2010)]</text>\n",
       "</g>\n",
       "<!-- p2 -->\n",
       "<g id=\"node2\" class=\"node\">\n",
       "<title>p2</title>\n",
       "<polygon fill=\"none\" stroke=\"black\" points=\"354.25,-201.5 77.25,-201.5 77.25,-165.5 354.25,-165.5 354.25,-201.5\"/>\n",
       "<text text-anchor=\"middle\" x=\"215.75\" y=\"-178.45\" font-family=\"Times,serif\" font-size=\"14.00\">FILTER BY [(col(&quot;precio_m2&quot;)) &gt; (100000.0)]</text>\n",
       "</g>\n",
       "<!-- p1&#45;&#45;p2 -->\n",
       "<g id=\"edge1\" class=\"edge\">\n",
       "<title>p1&#45;&#45;p2</title>\n",
       "<path fill=\"none\" stroke=\"black\" d=\"M215.75,-237.2C215.75,-226.35 215.75,-212.42 215.75,-201.6\"/>\n",
       "</g>\n",
       "<!-- p3 -->\n",
       "<g id=\"node3\" class=\"node\">\n",
       "<title>p3</title>\n",
       "<polygon fill=\"none\" stroke=\"black\" points=\"431.5,-129.5 0,-129.5 0,-93.5 431.5,-93.5 431.5,-129.5\"/>\n",
       "<text text-anchor=\"middle\" x=\"215.75\" y=\"-106.45\" font-family=\"Times,serif\" font-size=\"14.00\">WITH COLUMNS [[(col(&quot;precio&quot;)) / (col(&quot;metraje&quot;))].alias(&quot;precio_m2&quot;)]</text>\n",
       "</g>\n",
       "<!-- p2&#45;&#45;p3 -->\n",
       "<g id=\"edge2\" class=\"edge\">\n",
       "<title>p2&#45;&#45;p3</title>\n",
       "<path fill=\"none\" stroke=\"black\" d=\"M215.75,-165.2C215.75,-154.35 215.75,-140.42 215.75,-129.6\"/>\n",
       "</g>\n",
       "<!-- p4 -->\n",
       "<g id=\"node4\" class=\"node\">\n",
       "<title>p4</title>\n",
       "<polygon fill=\"none\" stroke=\"black\" points=\"245.5,-57.5 186,-57.5 186,0 245.5,0 245.5,-57.5\"/>\n",
       "<text text-anchor=\"middle\" x=\"215.75\" y=\"-40.2\" font-family=\"Times,serif\" font-size=\"14.00\">TABLE</text>\n",
       "<text text-anchor=\"middle\" x=\"215.75\" y=\"-23.7\" font-family=\"Times,serif\" font-size=\"14.00\">π */4;</text>\n",
       "<text text-anchor=\"middle\" x=\"215.75\" y=\"-7.2\" font-family=\"Times,serif\" font-size=\"14.00\">σ None</text>\n",
       "</g>\n",
       "<!-- p3&#45;&#45;p4 -->\n",
       "<g id=\"edge3\" class=\"edge\">\n",
       "<title>p3&#45;&#45;p4</title>\n",
       "<path fill=\"none\" stroke=\"black\" d=\"M215.75,-93.38C215.75,-83.1 215.75,-69.77 215.75,-57.97\"/>\n",
       "</g>\n",
       "</g>\n",
       "</svg>\n"
      ],
      "text/plain": [
       "<LazyFrame at 0x106FC7DD0>"
      ]
     },
     "execution_count": 13,
     "metadata": {},
     "output_type": "execute_result"
    }
   ],
   "source": [
    "lazy_query = (\n",
    "    edificios_lazy\n",
    "    .with_columns(\n",
    "        (pl.col(\"precio\") / pl.col(\"metraje\")).alias(\"precio_m2\")\n",
    "    )\n",
    "    .filter(pl.col(\"precio_m2\") > 100_000)\n",
    "    .filter(pl.col(\"año\") < 2010)\n",
    ")\n",
    "lazy_query"
   ]
  },
  {
   "cell_type": "code",
   "execution_count": 14,
   "metadata": {},
   "outputs": [
    {
     "data": {
      "image/svg+xml": [
       "<svg xmlns=\"http://www.w3.org/2000/svg\" xmlns:xlink=\"http://www.w3.org/1999/xlink\" width=\"440pt\" height=\"210pt\" viewBox=\"0.00 0.00 439.50 209.50\">\n",
       "<g id=\"graph0\" class=\"graph\" transform=\"scale(1 1) rotate(0) translate(4 205.5)\">\n",
       "<title>polars_query</title>\n",
       "<polygon fill=\"white\" stroke=\"none\" points=\"-4,4 -4,-205.5 435.5,-205.5 435.5,4 -4,4\"/>\n",
       "<!-- p1 -->\n",
       "<g id=\"node1\" class=\"node\">\n",
       "<title>p1</title>\n",
       "<polygon fill=\"none\" stroke=\"black\" points=\"354.25,-201.5 77.25,-201.5 77.25,-165.5 354.25,-165.5 354.25,-201.5\"/>\n",
       "<text text-anchor=\"middle\" x=\"215.75\" y=\"-178.45\" font-family=\"Times,serif\" font-size=\"14.00\">FILTER BY [(col(&quot;precio_m2&quot;)) &gt; (100000.0)]</text>\n",
       "</g>\n",
       "<!-- p2 -->\n",
       "<g id=\"node2\" class=\"node\">\n",
       "<title>p2</title>\n",
       "<polygon fill=\"none\" stroke=\"black\" points=\"431.5,-129.5 0,-129.5 0,-93.5 431.5,-93.5 431.5,-129.5\"/>\n",
       "<text text-anchor=\"middle\" x=\"215.75\" y=\"-106.45\" font-family=\"Times,serif\" font-size=\"14.00\">WITH COLUMNS [[(col(&quot;precio&quot;)) / (col(&quot;metraje&quot;))].alias(&quot;precio_m2&quot;)]</text>\n",
       "</g>\n",
       "<!-- p1&#45;&#45;p2 -->\n",
       "<g id=\"edge1\" class=\"edge\">\n",
       "<title>p1--p2</title>\n",
       "<path fill=\"none\" stroke=\"black\" d=\"M215.75,-165.2C215.75,-154.35 215.75,-140.42 215.75,-129.6\"/>\n",
       "</g>\n",
       "<!-- p3 -->\n",
       "<g id=\"node3\" class=\"node\">\n",
       "<title>p3</title>\n",
       "<polygon fill=\"none\" stroke=\"black\" points=\"292.75,-57.5 138.75,-57.5 138.75,0 292.75,0 292.75,-57.5\"/>\n",
       "<text text-anchor=\"middle\" x=\"215.75\" y=\"-40.2\" font-family=\"Times,serif\" font-size=\"14.00\">TABLE</text>\n",
       "<text text-anchor=\"middle\" x=\"215.75\" y=\"-23.7\" font-family=\"Times,serif\" font-size=\"14.00\">π */4;</text>\n",
       "<text text-anchor=\"middle\" x=\"215.75\" y=\"-7.2\" font-family=\"Times,serif\" font-size=\"14.00\">σ [(col(&quot;año&quot;)) &lt; (2010)]</text>\n",
       "</g>\n",
       "<!-- p2&#45;&#45;p3 -->\n",
       "<g id=\"edge2\" class=\"edge\">\n",
       "<title>p2--p3</title>\n",
       "<path fill=\"none\" stroke=\"black\" d=\"M215.75,-93.38C215.75,-83.1 215.75,-69.77 215.75,-57.97\"/>\n",
       "</g>\n",
       "</g>\n",
       "</svg>"
      ],
      "text/plain": [
       "<IPython.core.display.SVG object>"
      ]
     },
     "metadata": {},
     "output_type": "display_data"
    }
   ],
   "source": [
    "lazy_query.show_graph()"
   ]
  },
  {
   "cell_type": "markdown",
   "metadata": {},
   "source": [
    "Esto explica que hace internamente ```polars``` para hacer la consulta.\n",
    "\n",
    "Para ejecutarla se usa ```collect()```"
   ]
  },
  {
   "cell_type": "code",
   "execution_count": 15,
   "metadata": {},
   "outputs": [
    {
     "data": {
      "text/html": [
       "<div><style>\n",
       ".dataframe > thead > tr,\n",
       ".dataframe > tbody > tr {\n",
       "  text-align: right;\n",
       "  white-space: pre-wrap;\n",
       "}\n",
       "</style>\n",
       "<small>shape: (2_678, 5)</small><table border=\"1\" class=\"dataframe\"><thead><tr><th>metraje</th><th>año</th><th>tipo</th><th>precio</th><th>precio_m2</th></tr><tr><td>f64</td><td>i64</td><td>str</td><td>f64</td><td>f64</td></tr></thead><tbody><tr><td>212.258777</td><td>1982</td><td>&quot;C&quot;</td><td>2.2064e7</td><td>103950.853854</td></tr><tr><td>170.564597</td><td>2007</td><td>&quot;A&quot;</td><td>2.9574e7</td><td>173387.199516</td></tr><tr><td>61.959826</td><td>2006</td><td>&quot;A&quot;</td><td>2.3924e8</td><td>3.8612e6</td></tr><tr><td>2.926088</td><td>1999</td><td>&quot;A&quot;</td><td>2.0970e8</td><td>7.1666e7</td></tr><tr><td>842.764729</td><td>1994</td><td>&quot;B&quot;</td><td>9.0218e7</td><td>107050.139414</td></tr><tr><td>&hellip;</td><td>&hellip;</td><td>&hellip;</td><td>&hellip;</td><td>&hellip;</td></tr><tr><td>27.066478</td><td>1998</td><td>&quot;B&quot;</td><td>1.1429e8</td><td>4.2225e6</td></tr><tr><td>279.834009</td><td>1991</td><td>&quot;A&quot;</td><td>1.1977e8</td><td>428018.490627</td></tr><tr><td>213.130726</td><td>1993</td><td>&quot;C&quot;</td><td>3.7365e7</td><td>175316.233029</td></tr><tr><td>122.661835</td><td>2003</td><td>&quot;C&quot;</td><td>3.8405e7</td><td>313099.658009</td></tr><tr><td>206.003503</td><td>2006</td><td>&quot;C&quot;</td><td>1.2064e8</td><td>585597.427767</td></tr></tbody></table></div>"
      ],
      "text/plain": [
       "shape: (2_678, 5)\n",
       "┌────────────┬──────┬──────┬──────────┬───────────────┐\n",
       "│ metraje    ┆ año  ┆ tipo ┆ precio   ┆ precio_m2     │\n",
       "│ ---        ┆ ---  ┆ ---  ┆ ---      ┆ ---           │\n",
       "│ f64        ┆ i64  ┆ str  ┆ f64      ┆ f64           │\n",
       "╞════════════╪══════╪══════╪══════════╪═══════════════╡\n",
       "│ 212.258777 ┆ 1982 ┆ C    ┆ 2.2064e7 ┆ 103950.853854 │\n",
       "│ 170.564597 ┆ 2007 ┆ A    ┆ 2.9574e7 ┆ 173387.199516 │\n",
       "│ 61.959826  ┆ 2006 ┆ A    ┆ 2.3924e8 ┆ 3.8612e6      │\n",
       "│ 2.926088   ┆ 1999 ┆ A    ┆ 2.0970e8 ┆ 7.1666e7      │\n",
       "│ 842.764729 ┆ 1994 ┆ B    ┆ 9.0218e7 ┆ 107050.139414 │\n",
       "│ …          ┆ …    ┆ …    ┆ …        ┆ …             │\n",
       "│ 27.066478  ┆ 1998 ┆ B    ┆ 1.1429e8 ┆ 4.2225e6      │\n",
       "│ 279.834009 ┆ 1991 ┆ A    ┆ 1.1977e8 ┆ 428018.490627 │\n",
       "│ 213.130726 ┆ 1993 ┆ C    ┆ 3.7365e7 ┆ 175316.233029 │\n",
       "│ 122.661835 ┆ 2003 ┆ C    ┆ 3.8405e7 ┆ 313099.658009 │\n",
       "│ 206.003503 ┆ 2006 ┆ C    ┆ 1.2064e8 ┆ 585597.427767 │\n",
       "└────────────┴──────┴──────┴──────────┴───────────────┘"
      ]
     },
     "execution_count": 15,
     "metadata": {},
     "output_type": "execute_result"
    }
   ],
   "source": [
    "(lazy_query.collect())"
   ]
  },
  {
   "cell_type": "code",
   "execution_count": 16,
   "metadata": {},
   "outputs": [
    {
     "data": {
      "text/html": [
       "<div><style>\n",
       ".dataframe > thead > tr,\n",
       ".dataframe > tbody > tr {\n",
       "  text-align: right;\n",
       "  white-space: pre-wrap;\n",
       "}\n",
       "</style>\n",
       "<small>shape: (2_678, 2)</small><table border=\"1\" class=\"dataframe\"><thead><tr><th>precio_m2</th><th>año</th></tr><tr><td>f64</td><td>i64</td></tr></thead><tbody><tr><td>103950.853854</td><td>1982</td></tr><tr><td>173387.199516</td><td>2007</td></tr><tr><td>3.8612e6</td><td>2006</td></tr><tr><td>7.1666e7</td><td>1999</td></tr><tr><td>107050.139414</td><td>1994</td></tr><tr><td>&hellip;</td><td>&hellip;</td></tr><tr><td>4.2225e6</td><td>1998</td></tr><tr><td>428018.490627</td><td>1991</td></tr><tr><td>175316.233029</td><td>1993</td></tr><tr><td>313099.658009</td><td>2003</td></tr><tr><td>585597.427767</td><td>2006</td></tr></tbody></table></div>"
      ],
      "text/plain": [
       "shape: (2_678, 2)\n",
       "┌───────────────┬──────┐\n",
       "│ precio_m2     ┆ año  │\n",
       "│ ---           ┆ ---  │\n",
       "│ f64           ┆ i64  │\n",
       "╞═══════════════╪══════╡\n",
       "│ 103950.853854 ┆ 1982 │\n",
       "│ 173387.199516 ┆ 2007 │\n",
       "│ 3.8612e6      ┆ 2006 │\n",
       "│ 7.1666e7      ┆ 1999 │\n",
       "│ 107050.139414 ┆ 1994 │\n",
       "│ …             ┆ …    │\n",
       "│ 4.2225e6      ┆ 1998 │\n",
       "│ 428018.490627 ┆ 1991 │\n",
       "│ 175316.233029 ┆ 1993 │\n",
       "│ 313099.658009 ┆ 2003 │\n",
       "│ 585597.427767 ┆ 2006 │\n",
       "└───────────────┴──────┘"
      ]
     },
     "execution_count": 16,
     "metadata": {},
     "output_type": "execute_result"
    }
   ],
   "source": [
    "(lazy_query\n",
    " .collect()\n",
    " .select(pl.col([\"precio_m2\", \"año\"]))\n",
    ")"
   ]
  },
  {
   "cell_type": "code",
   "execution_count": 17,
   "metadata": {},
   "outputs": [
    {
     "data": {
      "text/html": [
       "<div><style>\n",
       ".dataframe > thead > tr,\n",
       ".dataframe > tbody > tr {\n",
       "  text-align: right;\n",
       "  white-space: pre-wrap;\n",
       "}\n",
       "</style>\n",
       "<small>shape: (9, 3)</small><table border=\"1\" class=\"dataframe\"><thead><tr><th>statistic</th><th>precio_m2</th><th>año</th></tr><tr><td>str</td><td>f64</td><td>f64</td></tr></thead><tbody><tr><td>&quot;count&quot;</td><td>2678.0</td><td>2678.0</td></tr><tr><td>&quot;null_count&quot;</td><td>0.0</td><td>0.0</td></tr><tr><td>&quot;mean&quot;</td><td>3.4124e6</td><td>1994.714712</td></tr><tr><td>&quot;std&quot;</td><td>2.4323e7</td><td>8.796034</td></tr><tr><td>&quot;min&quot;</td><td>100027.263081</td><td>1980.0</td></tr><tr><td>&quot;25%&quot;</td><td>241045.156977</td><td>1987.0</td></tr><tr><td>&quot;50%&quot;</td><td>543350.608691</td><td>1995.0</td></tr><tr><td>&quot;75%&quot;</td><td>1.4526e6</td><td>2003.0</td></tr><tr><td>&quot;max&quot;</td><td>8.1156e8</td><td>2009.0</td></tr></tbody></table></div>"
      ],
      "text/plain": [
       "shape: (9, 3)\n",
       "┌────────────┬───────────────┬─────────────┐\n",
       "│ statistic  ┆ precio_m2     ┆ año         │\n",
       "│ ---        ┆ ---           ┆ ---         │\n",
       "│ str        ┆ f64           ┆ f64         │\n",
       "╞════════════╪═══════════════╪═════════════╡\n",
       "│ count      ┆ 2678.0        ┆ 2678.0      │\n",
       "│ null_count ┆ 0.0           ┆ 0.0         │\n",
       "│ mean       ┆ 3.4124e6      ┆ 1994.714712 │\n",
       "│ std        ┆ 2.4323e7      ┆ 8.796034    │\n",
       "│ min        ┆ 100027.263081 ┆ 1980.0      │\n",
       "│ 25%        ┆ 241045.156977 ┆ 1987.0      │\n",
       "│ 50%        ┆ 543350.608691 ┆ 1995.0      │\n",
       "│ 75%        ┆ 1.4526e6      ┆ 2003.0      │\n",
       "│ max        ┆ 8.1156e8      ┆ 2009.0      │\n",
       "└────────────┴───────────────┴─────────────┘"
      ]
     },
     "execution_count": 17,
     "metadata": {},
     "output_type": "execute_result"
    }
   ],
   "source": [
    "(lazy_query\n",
    " .collect()\n",
    " .select(pl.col([\"precio_m2\", \"año\"]))\n",
    " .describe()\n",
    ")"
   ]
  },
  {
   "cell_type": "markdown",
   "metadata": {},
   "source": [
    "## Datos externos lazy\n",
    "Tradicionalmente se leen todos los datos del csv o fuente externa antes de hacer cualquier procesamiento, pero con el formato lazy se minimiza lo que se lee y se procesa sólo cuando es necesario.\n",
    "\n",
    "Ejemplo con datos de autos eléctricos yankis"
   ]
  },
  {
   "cell_type": "code",
   "execution_count": 18,
   "metadata": {},
   "outputs": [],
   "source": [
    "# Bajando datos\n",
    "import requests, pathlib\n",
    "\n",
    "def bajar_archivo(file_url: str, local_file_path: pathlib.Path) -> None:\n",
    "    response = requests.get(file_url)\n",
    "    if response: \n",
    "        local_file_path.write_bytes(response.content)\n",
    "        print (f\"Archivo bajado en {local_file_path}\")\n",
    "    else:\n",
    "        raise requests.exceptions.RequestException(f\"Fallo en la descarga, código HTTP: {response.status_code}\")"
   ]
  },
  {
   "cell_type": "code",
   "execution_count": 19,
   "metadata": {},
   "outputs": [
    {
     "name": "stdout",
     "output_type": "stream",
     "text": [
      "Archivo data/electric_cars.csv ya existe\n"
     ]
    }
   ],
   "source": [
    "url = \"https://data.wa.gov/api/views/f6w7-q2d2/rows.csv?accessType=DOWNLOAD\"\n",
    "nombre_archivo = \"data/electric_cars.csv\"\n",
    "local_file_path = pathlib.Path(nombre_archivo)\n",
    "if not local_file_path.exists():\n",
    "    bajar_archivo(url, local_file_path)\n",
    "else:\n",
    "    print (f\"Archivo {nombre_archivo} ya existe\")"
   ]
  },
  {
   "cell_type": "code",
   "execution_count": 20,
   "metadata": {},
   "outputs": [
    {
     "data": {
      "text/html": [
       "<h4>NAIVE QUERY PLAN</h4><p>run <b>LazyFrame.show_graph()</b> to see the optimized version</p><?xml version=\"1.0\" encoding=\"UTF-8\" standalone=\"no\"?>\n",
       "<!DOCTYPE svg PUBLIC \"-//W3C//DTD SVG 1.1//EN\"\n",
       " \"http://www.w3.org/Graphics/SVG/1.1/DTD/svg11.dtd\">\n",
       "<!-- Generated by graphviz version 12.1.0 (20240811.2233)\n",
       " -->\n",
       "<!-- Title: polars_query Pages: 1 -->\n",
       "<svg width=\"214pt\" height=\"49pt\"\n",
       " viewBox=\"0.00 0.00 213.75 49.00\" xmlns=\"http://www.w3.org/2000/svg\" xmlns:xlink=\"http://www.w3.org/1999/xlink\">\n",
       "<g id=\"graph0\" class=\"graph\" transform=\"scale(1 1) rotate(0) translate(4 45)\">\n",
       "<title>polars_query</title>\n",
       "<polygon fill=\"white\" stroke=\"none\" points=\"-4,4 -4,-45 209.75,-45 209.75,4 -4,4\"/>\n",
       "<!-- p1 -->\n",
       "<g id=\"node1\" class=\"node\">\n",
       "<title>p1</title>\n",
       "<polygon fill=\"none\" stroke=\"black\" points=\"205.75,-41 0,-41 0,0 205.75,0 205.75,-41\"/>\n",
       "<text text-anchor=\"middle\" x=\"102.88\" y=\"-23.7\" font-family=\"Times,serif\" font-size=\"14.00\">Csv SCAN [data/electric_cars.csv]</text>\n",
       "<text text-anchor=\"middle\" x=\"102.88\" y=\"-7.2\" font-family=\"Times,serif\" font-size=\"14.00\">π */17;</text>\n",
       "</g>\n",
       "</g>\n",
       "</svg>\n"
      ],
      "text/plain": [
       "<LazyFrame at 0x119467A40>"
      ]
     },
     "execution_count": 20,
     "metadata": {},
     "output_type": "execute_result"
    }
   ],
   "source": [
    "lazy_car_data = pl.scan_csv(local_file_path)\n",
    "lazy_car_data"
   ]
  },
  {
   "cell_type": "code",
   "execution_count": 21,
   "metadata": {},
   "outputs": [
    {
     "name": "stderr",
     "output_type": "stream",
     "text": [
      "/var/folders/tx/knx9c43n5fd4_nn752k9dxs00000gn/T/ipykernel_1961/3946365031.py:1: PerformanceWarning: Resolving the schema of a LazyFrame is a potentially expensive operation. Use `LazyFrame.collect_schema()` to get the schema without this warning.\n",
      "  lazy_car_data.schema\n"
     ]
    },
    {
     "data": {
      "text/plain": [
       "Schema([('VIN (1-10)', String),\n",
       "        ('County', String),\n",
       "        ('City', String),\n",
       "        ('State', String),\n",
       "        ('Postal Code', Int64),\n",
       "        ('Model Year', Int64),\n",
       "        ('Make', String),\n",
       "        ('Model', String),\n",
       "        ('Electric Vehicle Type', String),\n",
       "        ('Clean Alternative Fuel Vehicle (CAFV) Eligibility', String),\n",
       "        ('Electric Range', Int64),\n",
       "        ('Base MSRP', Int64),\n",
       "        ('Legislative District', Int64),\n",
       "        ('DOL Vehicle ID', Int64),\n",
       "        ('Vehicle Location', String),\n",
       "        ('Electric Utility', String),\n",
       "        ('2020 Census Tract', Int64)])"
      ]
     },
     "execution_count": 21,
     "metadata": {},
     "output_type": "execute_result"
    }
   ],
   "source": [
    "lazy_car_data.schema"
   ]
  },
  {
   "cell_type": "code",
   "execution_count": 22,
   "metadata": {},
   "outputs": [
    {
     "data": {
      "text/html": [
       "<div><style>\n",
       ".dataframe > thead > tr,\n",
       ".dataframe > tbody > tr {\n",
       "  text-align: right;\n",
       "  white-space: pre-wrap;\n",
       "}\n",
       "</style>\n",
       "<small>shape: (3, 5)</small><table border=\"1\" class=\"dataframe\"><thead><tr><th>State</th><th>Make</th><th>Average Electric Range</th><th>Oldest Model Year</th><th>Number of Cars</th></tr><tr><td>str</td><td>str</td><td>f64</td><td>i64</td><td>u32</td></tr></thead><tbody><tr><td>&quot;WA&quot;</td><td>&quot;JAGUAR&quot;</td><td>204.504202</td><td>2019</td><td>238</td></tr><tr><td>&quot;TX&quot;</td><td>&quot;TESLA&quot;</td><td>113.923077</td><td>2018</td><td>13</td></tr><tr><td>&quot;FL&quot;</td><td>&quot;TESLA&quot;</td><td>104.428571</td><td>2019</td><td>7</td></tr></tbody></table></div>"
      ],
      "text/plain": [
       "shape: (3, 5)\n",
       "┌───────┬────────┬────────────────────────┬───────────────────┬────────────────┐\n",
       "│ State ┆ Make   ┆ Average Electric Range ┆ Oldest Model Year ┆ Number of Cars │\n",
       "│ ---   ┆ ---    ┆ ---                    ┆ ---               ┆ ---            │\n",
       "│ str   ┆ str    ┆ f64                    ┆ i64               ┆ u32            │\n",
       "╞═══════╪════════╪════════════════════════╪═══════════════════╪════════════════╡\n",
       "│ WA    ┆ JAGUAR ┆ 204.504202             ┆ 2019              ┆ 238            │\n",
       "│ TX    ┆ TESLA  ┆ 113.923077             ┆ 2018              ┆ 13             │\n",
       "│ FL    ┆ TESLA  ┆ 104.428571             ┆ 2019              ┆ 7              │\n",
       "└───────┴────────┴────────────────────────┴───────────────────┴────────────────┘"
      ]
     },
     "execution_count": 22,
     "metadata": {},
     "output_type": "execute_result"
    }
   ],
   "source": [
    "lazy_car_query = (\n",
    "    lazy_car_data\n",
    "    .filter((pl.col(\"Model Year\") >= 2018))\n",
    "    .filter(\n",
    "        pl.col(\"Electric Vehicle Type\") == \"Battery Electric Vehicle (BEV)\"\n",
    "    )\n",
    "    .group_by([\"State\", \"Make\"])\n",
    "    .agg(\n",
    "        pl.mean(\"Electric Range\").alias(\"Average Electric Range\"),\n",
    "        pl.min(\"Model Year\").alias(\"Oldest Model Year\"),\n",
    "        pl.len().alias(\"Number of Cars\"),\n",
    "    )\n",
    "    .filter(pl.col(\"Average Electric Range\") > 100)\n",
    "    .filter(pl.col(\"Number of Cars\") > 5)\n",
    "    .sort(pl.col(\"Number of Cars\"), descending=True)\n",
    ")\n",
    "\n",
    "lazy_car_query.collect()"
   ]
  },
  {
   "cell_type": "markdown",
   "metadata": {},
   "source": [
    "No se hace ningún cálculo pesado hasta que llamamos a ```collect()```"
   ]
  },
  {
   "cell_type": "markdown",
   "metadata": {},
   "source": [
    "# Integraciones\n",
    "## Fuentes de datos"
   ]
  },
  {
   "cell_type": "code",
   "execution_count": 23,
   "metadata": {},
   "outputs": [],
   "source": [
    "import polars as pl\n",
    "\n",
    "data = pl.DataFrame({\n",
    "    \"A\": [1, 2, 3, 4, 5],\n",
    "    \"B\": [6, 7, 8, 9, 10],\n",
    "})\n",
    "\n",
    "data.write_csv(\"data.csv\")\n",
    "data.write_ndjson(\"data.json\")\n",
    "data.write_parquet(\"data.parquet\")"
   ]
  },
  {
   "cell_type": "code",
   "execution_count": 24,
   "metadata": {},
   "outputs": [
    {
     "name": "stderr",
     "output_type": "stream",
     "text": [
      "/var/folders/tx/knx9c43n5fd4_nn752k9dxs00000gn/T/ipykernel_1961/2993282625.py:3: PerformanceWarning: Resolving the schema of a LazyFrame is a potentially expensive operation. Use `LazyFrame.collect_schema()` to get the schema without this warning.\n",
      "  data_csv_lazy.schema\n"
     ]
    },
    {
     "data": {
      "text/plain": [
       "Schema([('A', Int64), ('B', Int64)])"
      ]
     },
     "execution_count": 24,
     "metadata": {},
     "output_type": "execute_result"
    }
   ],
   "source": [
    "data_csv = pl.read_csv(\"data.csv\")\n",
    "data_csv_lazy = pl.scan_csv(\"data.csv\")\n",
    "data_csv_lazy.schema\n"
   ]
  },
  {
   "cell_type": "code",
   "execution_count": 25,
   "metadata": {},
   "outputs": [
    {
     "name": "stderr",
     "output_type": "stream",
     "text": [
      "/var/folders/tx/knx9c43n5fd4_nn752k9dxs00000gn/T/ipykernel_1961/32618361.py:3: PerformanceWarning: Resolving the schema of a LazyFrame is a potentially expensive operation. Use `LazyFrame.collect_schema()` to get the schema without this warning.\n",
      "  data_json_lazy.schema\n"
     ]
    },
    {
     "data": {
      "text/plain": [
       "Schema([('A', Int64), ('B', Int64)])"
      ]
     },
     "execution_count": 25,
     "metadata": {},
     "output_type": "execute_result"
    }
   ],
   "source": [
    "data_json = pl.read_ndjson(\"data.json\")\n",
    "data_json_lazy = pl.scan_ndjson(\"data.json\")\n",
    "data_json_lazy.schema"
   ]
  },
  {
   "cell_type": "code",
   "execution_count": 26,
   "metadata": {},
   "outputs": [
    {
     "name": "stderr",
     "output_type": "stream",
     "text": [
      "/var/folders/tx/knx9c43n5fd4_nn752k9dxs00000gn/T/ipykernel_1961/1889960607.py:3: PerformanceWarning: Resolving the schema of a LazyFrame is a potentially expensive operation. Use `LazyFrame.collect_schema()` to get the schema without this warning.\n",
      "  data_parquet_lazy.schema\n"
     ]
    },
    {
     "data": {
      "text/plain": [
       "Schema([('A', Int64), ('B', Int64)])"
      ]
     },
     "execution_count": 26,
     "metadata": {},
     "output_type": "execute_result"
    }
   ],
   "source": [
    "data_parquet = pl.read_parquet(\"data.parquet\")\n",
    "data_parquet_lazy = pl.scan_parquet(\"data.parquet\")\n",
    "data_parquet_lazy.schema\n"
   ]
  },
  {
   "cell_type": "markdown",
   "metadata": {},
   "source": [
    "## Objetos python"
   ]
  },
  {
   "cell_type": "code",
   "execution_count": 27,
   "metadata": {},
   "outputs": [],
   "source": [
    "import numpy as np\n",
    "import pandas as pd\n",
    "import polars as pl\n",
    "\n",
    "polars_data = pl.DataFrame({\n",
    "    \"A\": [1, 2, 3, 4, 5],\n",
    "    \"B\": [6, 7, 8, 9, 10]\n",
    "})\n",
    "\n",
    "pandas_data = pd.DataFrame({\n",
    "    \"A\": [1, 2, 3, 4, 5],\n",
    "    \"B\": [6, 7, 8, 9, 10]\n",
    "})\n",
    "\n",
    "numpy_data = np.array([\n",
    "    [1, 2, 3, 4, 5],\n",
    "    [6, 7, 8, 9, 10]\n",
    "]).T"
   ]
  },
  {
   "cell_type": "code",
   "execution_count": 28,
   "metadata": {},
   "outputs": [
    {
     "data": {
      "text/html": [
       "<div><style>\n",
       ".dataframe > thead > tr,\n",
       ".dataframe > tbody > tr {\n",
       "  text-align: right;\n",
       "  white-space: pre-wrap;\n",
       "}\n",
       "</style>\n",
       "<small>shape: (5, 2)</small><table border=\"1\" class=\"dataframe\"><thead><tr><th>A</th><th>B</th></tr><tr><td>i64</td><td>i64</td></tr></thead><tbody><tr><td>1</td><td>6</td></tr><tr><td>2</td><td>7</td></tr><tr><td>3</td><td>8</td></tr><tr><td>4</td><td>9</td></tr><tr><td>5</td><td>10</td></tr></tbody></table></div>"
      ],
      "text/plain": [
       "shape: (5, 2)\n",
       "┌─────┬─────┐\n",
       "│ A   ┆ B   │\n",
       "│ --- ┆ --- │\n",
       "│ i64 ┆ i64 │\n",
       "╞═════╪═════╡\n",
       "│ 1   ┆ 6   │\n",
       "│ 2   ┆ 7   │\n",
       "│ 3   ┆ 8   │\n",
       "│ 4   ┆ 9   │\n",
       "│ 5   ┆ 10  │\n",
       "└─────┴─────┘"
      ]
     },
     "execution_count": 28,
     "metadata": {},
     "output_type": "execute_result"
    }
   ],
   "source": [
    "pl.from_pandas(pandas_data)"
   ]
  },
  {
   "cell_type": "code",
   "execution_count": 29,
   "metadata": {},
   "outputs": [
    {
     "data": {
      "text/html": [
       "<div><style>\n",
       ".dataframe > thead > tr,\n",
       ".dataframe > tbody > tr {\n",
       "  text-align: right;\n",
       "  white-space: pre-wrap;\n",
       "}\n",
       "</style>\n",
       "<small>shape: (5, 2)</small><table border=\"1\" class=\"dataframe\"><thead><tr><th>column_0</th><th>column_1</th></tr><tr><td>i64</td><td>i64</td></tr></thead><tbody><tr><td>1</td><td>6</td></tr><tr><td>2</td><td>7</td></tr><tr><td>3</td><td>8</td></tr><tr><td>4</td><td>9</td></tr><tr><td>5</td><td>10</td></tr></tbody></table></div>"
      ],
      "text/plain": [
       "shape: (5, 2)\n",
       "┌──────────┬──────────┐\n",
       "│ column_0 ┆ column_1 │\n",
       "│ ---      ┆ ---      │\n",
       "│ i64      ┆ i64      │\n",
       "╞══════════╪══════════╡\n",
       "│ 1        ┆ 6        │\n",
       "│ 2        ┆ 7        │\n",
       "│ 3        ┆ 8        │\n",
       "│ 4        ┆ 9        │\n",
       "│ 5        ┆ 10       │\n",
       "└──────────┴──────────┘"
      ]
     },
     "execution_count": 29,
     "metadata": {},
     "output_type": "execute_result"
    }
   ],
   "source": [
    "pl.from_numpy(numpy_data)"
   ]
  },
  {
   "cell_type": "code",
   "execution_count": 30,
   "metadata": {},
   "outputs": [
    {
     "data": {
      "text/html": [
       "<div><style>\n",
       ".dataframe > thead > tr,\n",
       ".dataframe > tbody > tr {\n",
       "  text-align: right;\n",
       "  white-space: pre-wrap;\n",
       "}\n",
       "</style>\n",
       "<small>shape: (5, 2)</small><table border=\"1\" class=\"dataframe\"><thead><tr><th>A</th><th>B</th></tr><tr><td>i16</td><td>i16</td></tr></thead><tbody><tr><td>1</td><td>6</td></tr><tr><td>2</td><td>7</td></tr><tr><td>3</td><td>8</td></tr><tr><td>4</td><td>9</td></tr><tr><td>5</td><td>10</td></tr></tbody></table></div>"
      ],
      "text/plain": [
       "shape: (5, 2)\n",
       "┌─────┬─────┐\n",
       "│ A   ┆ B   │\n",
       "│ --- ┆ --- │\n",
       "│ i16 ┆ i16 │\n",
       "╞═════╪═════╡\n",
       "│ 1   ┆ 6   │\n",
       "│ 2   ┆ 7   │\n",
       "│ 3   ┆ 8   │\n",
       "│ 4   ┆ 9   │\n",
       "│ 5   ┆ 10  │\n",
       "└─────┴─────┘"
      ]
     },
     "execution_count": 30,
     "metadata": {},
     "output_type": "execute_result"
    }
   ],
   "source": [
    "pl.from_numpy(numpy_data, schema={\"A\": pl.Int16, \"B\": pl.Int16})"
   ]
  },
  {
   "cell_type": "code",
   "execution_count": 31,
   "metadata": {},
   "outputs": [
    {
     "data": {
      "text/html": [
       "<div>\n",
       "<style scoped>\n",
       "    .dataframe tbody tr th:only-of-type {\n",
       "        vertical-align: middle;\n",
       "    }\n",
       "\n",
       "    .dataframe tbody tr th {\n",
       "        vertical-align: top;\n",
       "    }\n",
       "\n",
       "    .dataframe thead th {\n",
       "        text-align: right;\n",
       "    }\n",
       "</style>\n",
       "<table border=\"1\" class=\"dataframe\">\n",
       "  <thead>\n",
       "    <tr style=\"text-align: right;\">\n",
       "      <th></th>\n",
       "      <th>A</th>\n",
       "      <th>B</th>\n",
       "    </tr>\n",
       "  </thead>\n",
       "  <tbody>\n",
       "    <tr>\n",
       "      <th>0</th>\n",
       "      <td>1</td>\n",
       "      <td>6</td>\n",
       "    </tr>\n",
       "    <tr>\n",
       "      <th>1</th>\n",
       "      <td>2</td>\n",
       "      <td>7</td>\n",
       "    </tr>\n",
       "    <tr>\n",
       "      <th>2</th>\n",
       "      <td>3</td>\n",
       "      <td>8</td>\n",
       "    </tr>\n",
       "    <tr>\n",
       "      <th>3</th>\n",
       "      <td>4</td>\n",
       "      <td>9</td>\n",
       "    </tr>\n",
       "    <tr>\n",
       "      <th>4</th>\n",
       "      <td>5</td>\n",
       "      <td>10</td>\n",
       "    </tr>\n",
       "  </tbody>\n",
       "</table>\n",
       "</div>"
      ],
      "text/plain": [
       "   A   B\n",
       "0  1   6\n",
       "1  2   7\n",
       "2  3   8\n",
       "3  4   9\n",
       "4  5  10"
      ]
     },
     "execution_count": 31,
     "metadata": {},
     "output_type": "execute_result"
    }
   ],
   "source": [
    "polars_data.to_pandas()"
   ]
  },
  {
   "cell_type": "code",
   "execution_count": 32,
   "metadata": {},
   "outputs": [
    {
     "data": {
      "text/plain": [
       "array([[ 1,  6],\n",
       "       [ 2,  7],\n",
       "       [ 3,  8],\n",
       "       [ 4,  9],\n",
       "       [ 5, 10]])"
      ]
     },
     "execution_count": 32,
     "metadata": {},
     "output_type": "execute_result"
    }
   ],
   "source": [
    "polars_data.to_numpy()"
   ]
  },
  {
   "cell_type": "markdown",
   "metadata": {},
   "source": [
    "# Joins\n",
    "## Inner\n",
    "Produce un DataFrame que contiene solo las filas donde la clave de unión existe en ambos DataFrames."
   ]
  },
  {
   "cell_type": "code",
   "execution_count": 33,
   "metadata": {},
   "outputs": [
    {
     "name": "stdout",
     "output_type": "stream",
     "text": [
      "shape: (3, 2)\n",
      "┌─────────────┬─────────┐\n",
      "│ customer_id ┆ name    │\n",
      "│ ---         ┆ ---     │\n",
      "│ i64         ┆ str     │\n",
      "╞═════════════╪═════════╡\n",
      "│ 1           ┆ Alice   │\n",
      "│ 2           ┆ Bob     │\n",
      "│ 3           ┆ Charlie │\n",
      "└─────────────┴─────────┘\n"
     ]
    }
   ],
   "source": [
    "df_customers = pl.DataFrame(\n",
    "    {\n",
    "        \"customer_id\": [1, 2, 3],\n",
    "        \"name\": [\"Alice\", \"Bob\", \"Charlie\"],\n",
    "    }\n",
    ")\n",
    "print(df_customers)"
   ]
  },
  {
   "cell_type": "code",
   "execution_count": 34,
   "metadata": {},
   "outputs": [
    {
     "name": "stdout",
     "output_type": "stream",
     "text": [
      "shape: (3, 3)\n",
      "┌──────────┬─────────────┬────────┐\n",
      "│ order_id ┆ customer_id ┆ amount │\n",
      "│ ---      ┆ ---         ┆ ---    │\n",
      "│ str      ┆ i64         ┆ i64    │\n",
      "╞══════════╪═════════════╪════════╡\n",
      "│ a        ┆ 1           ┆ 100    │\n",
      "│ b        ┆ 2           ┆ 200    │\n",
      "│ c        ┆ 2           ┆ 300    │\n",
      "└──────────┴─────────────┴────────┘\n"
     ]
    }
   ],
   "source": [
    "df_orders = pl.DataFrame(\n",
    "    {\n",
    "        \"order_id\": [\"a\", \"b\", \"c\"],\n",
    "        \"customer_id\": [1, 2, 2],\n",
    "        \"amount\": [100, 200, 300],\n",
    "    }\n",
    ")\n",
    "print(df_orders)"
   ]
  },
  {
   "cell_type": "code",
   "execution_count": 35,
   "metadata": {},
   "outputs": [
    {
     "data": {
      "text/html": [
       "<div><style>\n",
       ".dataframe > thead > tr,\n",
       ".dataframe > tbody > tr {\n",
       "  text-align: right;\n",
       "  white-space: pre-wrap;\n",
       "}\n",
       "</style>\n",
       "<small>shape: (3, 4)</small><table border=\"1\" class=\"dataframe\"><thead><tr><th>customer_id</th><th>name</th><th>order_id</th><th>amount</th></tr><tr><td>i64</td><td>str</td><td>str</td><td>i64</td></tr></thead><tbody><tr><td>1</td><td>&quot;Alice&quot;</td><td>&quot;a&quot;</td><td>100</td></tr><tr><td>2</td><td>&quot;Bob&quot;</td><td>&quot;b&quot;</td><td>200</td></tr><tr><td>2</td><td>&quot;Bob&quot;</td><td>&quot;c&quot;</td><td>300</td></tr></tbody></table></div>"
      ],
      "text/plain": [
       "shape: (3, 4)\n",
       "┌─────────────┬───────┬──────────┬────────┐\n",
       "│ customer_id ┆ name  ┆ order_id ┆ amount │\n",
       "│ ---         ┆ ---   ┆ ---      ┆ ---    │\n",
       "│ i64         ┆ str   ┆ str      ┆ i64    │\n",
       "╞═════════════╪═══════╪══════════╪════════╡\n",
       "│ 1           ┆ Alice ┆ a        ┆ 100    │\n",
       "│ 2           ┆ Bob   ┆ b        ┆ 200    │\n",
       "│ 2           ┆ Bob   ┆ c        ┆ 300    │\n",
       "└─────────────┴───────┴──────────┴────────┘"
      ]
     },
     "execution_count": 35,
     "metadata": {},
     "output_type": "execute_result"
    }
   ],
   "source": [
    "df_customers.join(df_orders, on=\"customer_id\", how=\"inner\")"
   ]
  },
  {
   "cell_type": "markdown",
   "metadata": {},
   "source": [
    "## Left (outer) join\n",
    "Produce un DataFrame que contiene todas las filas del DataFrame de la izquierda y solo las filas del DataFrame de la derecha donde la clave de unión existe en el DataFrame de la izquierda. Si tomamos el ejemplo anterior y queremos obtener un DataFrame con todos los clientes y sus pedidos asociados (independientemente de si han realizado un pedido o no), podemos hacer una unión izquierda:"
   ]
  },
  {
   "cell_type": "code",
   "execution_count": 36,
   "metadata": {},
   "outputs": [
    {
     "data": {
      "text/html": [
       "<div><style>\n",
       ".dataframe > thead > tr,\n",
       ".dataframe > tbody > tr {\n",
       "  text-align: right;\n",
       "  white-space: pre-wrap;\n",
       "}\n",
       "</style>\n",
       "<small>shape: (4, 4)</small><table border=\"1\" class=\"dataframe\"><thead><tr><th>customer_id</th><th>name</th><th>order_id</th><th>amount</th></tr><tr><td>i64</td><td>str</td><td>str</td><td>i64</td></tr></thead><tbody><tr><td>1</td><td>&quot;Alice&quot;</td><td>&quot;a&quot;</td><td>100</td></tr><tr><td>2</td><td>&quot;Bob&quot;</td><td>&quot;b&quot;</td><td>200</td></tr><tr><td>2</td><td>&quot;Bob&quot;</td><td>&quot;c&quot;</td><td>300</td></tr><tr><td>3</td><td>&quot;Charlie&quot;</td><td>null</td><td>null</td></tr></tbody></table></div>"
      ],
      "text/plain": [
       "shape: (4, 4)\n",
       "┌─────────────┬─────────┬──────────┬────────┐\n",
       "│ customer_id ┆ name    ┆ order_id ┆ amount │\n",
       "│ ---         ┆ ---     ┆ ---      ┆ ---    │\n",
       "│ i64         ┆ str     ┆ str      ┆ i64    │\n",
       "╞═════════════╪═════════╪══════════╪════════╡\n",
       "│ 1           ┆ Alice   ┆ a        ┆ 100    │\n",
       "│ 2           ┆ Bob     ┆ b        ┆ 200    │\n",
       "│ 2           ┆ Bob     ┆ c        ┆ 300    │\n",
       "│ 3           ┆ Charlie ┆ null     ┆ null   │\n",
       "└─────────────┴─────────┴──────────┴────────┘"
      ]
     },
     "execution_count": 36,
     "metadata": {},
     "output_type": "execute_result"
    }
   ],
   "source": [
    "df_customers.join(df_orders, on=\"customer_id\", how=\"left\")"
   ]
  },
  {
   "cell_type": "markdown",
   "metadata": {},
   "source": [
    "## Right (outer) join"
   ]
  },
  {
   "cell_type": "code",
   "execution_count": 37,
   "metadata": {},
   "outputs": [
    {
     "data": {
      "text/html": [
       "<div><style>\n",
       ".dataframe > thead > tr,\n",
       ".dataframe > tbody > tr {\n",
       "  text-align: right;\n",
       "  white-space: pre-wrap;\n",
       "}\n",
       "</style>\n",
       "<small>shape: (4, 4)</small><table border=\"1\" class=\"dataframe\"><thead><tr><th>order_id</th><th>amount</th><th>customer_id</th><th>name</th></tr><tr><td>str</td><td>i64</td><td>i64</td><td>str</td></tr></thead><tbody><tr><td>&quot;a&quot;</td><td>100</td><td>1</td><td>&quot;Alice&quot;</td></tr><tr><td>&quot;b&quot;</td><td>200</td><td>2</td><td>&quot;Bob&quot;</td></tr><tr><td>&quot;c&quot;</td><td>300</td><td>2</td><td>&quot;Bob&quot;</td></tr><tr><td>null</td><td>null</td><td>3</td><td>&quot;Charlie&quot;</td></tr></tbody></table></div>"
      ],
      "text/plain": [
       "shape: (4, 4)\n",
       "┌──────────┬────────┬─────────────┬─────────┐\n",
       "│ order_id ┆ amount ┆ customer_id ┆ name    │\n",
       "│ ---      ┆ ---    ┆ ---         ┆ ---     │\n",
       "│ str      ┆ i64    ┆ i64         ┆ str     │\n",
       "╞══════════╪════════╪═════════════╪═════════╡\n",
       "│ a        ┆ 100    ┆ 1           ┆ Alice   │\n",
       "│ b        ┆ 200    ┆ 2           ┆ Bob     │\n",
       "│ c        ┆ 300    ┆ 2           ┆ Bob     │\n",
       "│ null     ┆ null   ┆ 3           ┆ Charlie │\n",
       "└──────────┴────────┴─────────────┴─────────┘"
      ]
     },
     "execution_count": 37,
     "metadata": {},
     "output_type": "execute_result"
    }
   ],
   "source": [
    "df_orders.join(df_customers, on=\"customer_id\", how=\"right\")"
   ]
  },
  {
   "cell_type": "markdown",
   "metadata": {},
   "source": [
    "## Outer join\n",
    "Produce un DataFrame que contiene todas las filas de ambos DataFrames. Las columnas son nulas si la clave de unión no existe en el DataFrame de origen. Realizar una unión externa completa en los dos DataFrames anteriores produce un DataFrame similar a la unión izquierda:"
   ]
  },
  {
   "cell_type": "code",
   "execution_count": 38,
   "metadata": {},
   "outputs": [
    {
     "data": {
      "text/html": [
       "<div><style>\n",
       ".dataframe > thead > tr,\n",
       ".dataframe > tbody > tr {\n",
       "  text-align: right;\n",
       "  white-space: pre-wrap;\n",
       "}\n",
       "</style>\n",
       "<small>shape: (4, 5)</small><table border=\"1\" class=\"dataframe\"><thead><tr><th>customer_id</th><th>name</th><th>order_id</th><th>customer_id_right</th><th>amount</th></tr><tr><td>i64</td><td>str</td><td>str</td><td>i64</td><td>i64</td></tr></thead><tbody><tr><td>1</td><td>&quot;Alice&quot;</td><td>&quot;a&quot;</td><td>1</td><td>100</td></tr><tr><td>2</td><td>&quot;Bob&quot;</td><td>&quot;b&quot;</td><td>2</td><td>200</td></tr><tr><td>2</td><td>&quot;Bob&quot;</td><td>&quot;c&quot;</td><td>2</td><td>300</td></tr><tr><td>3</td><td>&quot;Charlie&quot;</td><td>null</td><td>null</td><td>null</td></tr></tbody></table></div>"
      ],
      "text/plain": [
       "shape: (4, 5)\n",
       "┌─────────────┬─────────┬──────────┬───────────────────┬────────┐\n",
       "│ customer_id ┆ name    ┆ order_id ┆ customer_id_right ┆ amount │\n",
       "│ ---         ┆ ---     ┆ ---      ┆ ---               ┆ ---    │\n",
       "│ i64         ┆ str     ┆ str      ┆ i64               ┆ i64    │\n",
       "╞═════════════╪═════════╪══════════╪═══════════════════╪════════╡\n",
       "│ 1           ┆ Alice   ┆ a        ┆ 1                 ┆ 100    │\n",
       "│ 2           ┆ Bob     ┆ b        ┆ 2                 ┆ 200    │\n",
       "│ 2           ┆ Bob     ┆ c        ┆ 2                 ┆ 300    │\n",
       "│ 3           ┆ Charlie ┆ null     ┆ null              ┆ null   │\n",
       "└─────────────┴─────────┴──────────┴───────────────────┴────────┘"
      ]
     },
     "execution_count": 38,
     "metadata": {},
     "output_type": "execute_result"
    }
   ],
   "source": [
    "df_customers.join(df_orders, on=\"customer_id\", how=\"full\")"
   ]
  },
  {
   "cell_type": "code",
   "execution_count": 39,
   "metadata": {},
   "outputs": [
    {
     "data": {
      "text/html": [
       "<div><style>\n",
       ".dataframe > thead > tr,\n",
       ".dataframe > tbody > tr {\n",
       "  text-align: right;\n",
       "  white-space: pre-wrap;\n",
       "}\n",
       "</style>\n",
       "<small>shape: (4, 4)</small><table border=\"1\" class=\"dataframe\"><thead><tr><th>customer_id</th><th>name</th><th>order_id</th><th>amount</th></tr><tr><td>i64</td><td>str</td><td>str</td><td>i64</td></tr></thead><tbody><tr><td>1</td><td>&quot;Alice&quot;</td><td>&quot;a&quot;</td><td>100</td></tr><tr><td>2</td><td>&quot;Bob&quot;</td><td>&quot;b&quot;</td><td>200</td></tr><tr><td>2</td><td>&quot;Bob&quot;</td><td>&quot;c&quot;</td><td>300</td></tr><tr><td>3</td><td>&quot;Charlie&quot;</td><td>null</td><td>null</td></tr></tbody></table></div>"
      ],
      "text/plain": [
       "shape: (4, 4)\n",
       "┌─────────────┬─────────┬──────────┬────────┐\n",
       "│ customer_id ┆ name    ┆ order_id ┆ amount │\n",
       "│ ---         ┆ ---     ┆ ---      ┆ ---    │\n",
       "│ i64         ┆ str     ┆ str      ┆ i64    │\n",
       "╞═════════════╪═════════╪══════════╪════════╡\n",
       "│ 1           ┆ Alice   ┆ a        ┆ 100    │\n",
       "│ 2           ┆ Bob     ┆ b        ┆ 200    │\n",
       "│ 2           ┆ Bob     ┆ c        ┆ 300    │\n",
       "│ 3           ┆ Charlie ┆ null     ┆ null   │\n",
       "└─────────────┴─────────┴──────────┴────────┘"
      ]
     },
     "execution_count": 39,
     "metadata": {},
     "output_type": "execute_result"
    }
   ],
   "source": [
    "df_customers.join(\n",
    "    df_orders, on=\"customer_id\", how=\"full\", coalesce=True\n",
    ")"
   ]
  },
  {
   "cell_type": "markdown",
   "metadata": {},
   "source": [
    "## Cross join"
   ]
  },
  {
   "cell_type": "code",
   "execution_count": 40,
   "metadata": {},
   "outputs": [
    {
     "data": {
      "text/html": [
       "<div><style>\n",
       ".dataframe > thead > tr,\n",
       ".dataframe > tbody > tr {\n",
       "  text-align: right;\n",
       "  white-space: pre-wrap;\n",
       "}\n",
       "</style>\n",
       "<small>shape: (3, 1)</small><table border=\"1\" class=\"dataframe\"><thead><tr><th>color</th></tr><tr><td>str</td></tr></thead><tbody><tr><td>&quot;red&quot;</td></tr><tr><td>&quot;blue&quot;</td></tr><tr><td>&quot;green&quot;</td></tr></tbody></table></div>"
      ],
      "text/plain": [
       "shape: (3, 1)\n",
       "┌───────┐\n",
       "│ color │\n",
       "│ ---   │\n",
       "│ str   │\n",
       "╞═══════╡\n",
       "│ red   │\n",
       "│ blue  │\n",
       "│ green │\n",
       "└───────┘"
      ]
     },
     "execution_count": 40,
     "metadata": {},
     "output_type": "execute_result"
    }
   ],
   "source": [
    "df_colors = pl.DataFrame(\n",
    "    {\n",
    "        \"color\": [\"red\", \"blue\", \"green\"],\n",
    "    }\n",
    ")\n",
    "df_colors"
   ]
  },
  {
   "cell_type": "code",
   "execution_count": 41,
   "metadata": {},
   "outputs": [
    {
     "data": {
      "text/html": [
       "<div><style>\n",
       ".dataframe > thead > tr,\n",
       ".dataframe > tbody > tr {\n",
       "  text-align: right;\n",
       "  white-space: pre-wrap;\n",
       "}\n",
       "</style>\n",
       "<small>shape: (3, 1)</small><table border=\"1\" class=\"dataframe\"><thead><tr><th>size</th></tr><tr><td>str</td></tr></thead><tbody><tr><td>&quot;S&quot;</td></tr><tr><td>&quot;M&quot;</td></tr><tr><td>&quot;L&quot;</td></tr></tbody></table></div>"
      ],
      "text/plain": [
       "shape: (3, 1)\n",
       "┌──────┐\n",
       "│ size │\n",
       "│ ---  │\n",
       "│ str  │\n",
       "╞══════╡\n",
       "│ S    │\n",
       "│ M    │\n",
       "│ L    │\n",
       "└──────┘"
      ]
     },
     "execution_count": 41,
     "metadata": {},
     "output_type": "execute_result"
    }
   ],
   "source": [
    "df_sizes = pl.DataFrame(\n",
    "    {\n",
    "        \"size\": [\"S\", \"M\", \"L\"],\n",
    "    }\n",
    ")\n",
    "df_sizes"
   ]
  },
  {
   "cell_type": "code",
   "execution_count": 42,
   "metadata": {},
   "outputs": [
    {
     "data": {
      "text/html": [
       "<div><style>\n",
       ".dataframe > thead > tr,\n",
       ".dataframe > tbody > tr {\n",
       "  text-align: right;\n",
       "  white-space: pre-wrap;\n",
       "}\n",
       "</style>\n",
       "<small>shape: (9, 2)</small><table border=\"1\" class=\"dataframe\"><thead><tr><th>color</th><th>size</th></tr><tr><td>str</td><td>str</td></tr></thead><tbody><tr><td>&quot;red&quot;</td><td>&quot;S&quot;</td></tr><tr><td>&quot;red&quot;</td><td>&quot;M&quot;</td></tr><tr><td>&quot;red&quot;</td><td>&quot;L&quot;</td></tr><tr><td>&quot;blue&quot;</td><td>&quot;S&quot;</td></tr><tr><td>&quot;blue&quot;</td><td>&quot;M&quot;</td></tr><tr><td>&quot;blue&quot;</td><td>&quot;L&quot;</td></tr><tr><td>&quot;green&quot;</td><td>&quot;S&quot;</td></tr><tr><td>&quot;green&quot;</td><td>&quot;M&quot;</td></tr><tr><td>&quot;green&quot;</td><td>&quot;L&quot;</td></tr></tbody></table></div>"
      ],
      "text/plain": [
       "shape: (9, 2)\n",
       "┌───────┬──────┐\n",
       "│ color ┆ size │\n",
       "│ ---   ┆ ---  │\n",
       "│ str   ┆ str  │\n",
       "╞═══════╪══════╡\n",
       "│ red   ┆ S    │\n",
       "│ red   ┆ M    │\n",
       "│ red   ┆ L    │\n",
       "│ blue  ┆ S    │\n",
       "│ blue  ┆ M    │\n",
       "│ blue  ┆ L    │\n",
       "│ green ┆ S    │\n",
       "│ green ┆ M    │\n",
       "│ green ┆ L    │\n",
       "└───────┴──────┘"
      ]
     },
     "execution_count": 42,
     "metadata": {},
     "output_type": "execute_result"
    }
   ],
   "source": [
    "df_colors.join(df_sizes, how=\"cross\")"
   ]
  },
  {
   "cell_type": "markdown",
   "metadata": {},
   "source": [
    "## Semi join\n",
    "Devuelve todas las filas del DataFrame de la izquierda en las que la clave de unión también está presente en el DataFrame de la derecha. Considera el siguiente escenario: una empresa de alquiler de autos tiene un DataFrame que muestra los autos que posee, donde cada auto tiene un ID único."
   ]
  },
  {
   "cell_type": "code",
   "execution_count": 43,
   "metadata": {},
   "outputs": [
    {
     "data": {
      "text/html": [
       "<div><style>\n",
       ".dataframe > thead > tr,\n",
       ".dataframe > tbody > tr {\n",
       "  text-align: right;\n",
       "  white-space: pre-wrap;\n",
       "}\n",
       "</style>\n",
       "<small>shape: (3, 2)</small><table border=\"1\" class=\"dataframe\"><thead><tr><th>id</th><th>make</th></tr><tr><td>str</td><td>str</td></tr></thead><tbody><tr><td>&quot;a&quot;</td><td>&quot;ford&quot;</td></tr><tr><td>&quot;b&quot;</td><td>&quot;toyota&quot;</td></tr><tr><td>&quot;c&quot;</td><td>&quot;bmw&quot;</td></tr></tbody></table></div>"
      ],
      "text/plain": [
       "shape: (3, 2)\n",
       "┌─────┬────────┐\n",
       "│ id  ┆ make   │\n",
       "│ --- ┆ ---    │\n",
       "│ str ┆ str    │\n",
       "╞═════╪════════╡\n",
       "│ a   ┆ ford   │\n",
       "│ b   ┆ toyota │\n",
       "│ c   ┆ bmw    │\n",
       "└─────┴────────┘"
      ]
     },
     "execution_count": 43,
     "metadata": {},
     "output_type": "execute_result"
    }
   ],
   "source": [
    "df_cars = pl.DataFrame(\n",
    "    {\n",
    "        \"id\": [\"a\", \"b\", \"c\"],\n",
    "        \"make\": [\"ford\", \"toyota\", \"bmw\"],\n",
    "    }\n",
    ")\n",
    "df_cars"
   ]
  },
  {
   "cell_type": "code",
   "execution_count": 44,
   "metadata": {},
   "outputs": [
    {
     "data": {
      "text/html": [
       "<div><style>\n",
       ".dataframe > thead > tr,\n",
       ".dataframe > tbody > tr {\n",
       "  text-align: right;\n",
       "  white-space: pre-wrap;\n",
       "}\n",
       "</style>\n",
       "<small>shape: (2, 2)</small><table border=\"1\" class=\"dataframe\"><thead><tr><th>id</th><th>cost</th></tr><tr><td>str</td><td>i64</td></tr></thead><tbody><tr><td>&quot;c&quot;</td><td>100</td></tr><tr><td>&quot;c&quot;</td><td>200</td></tr></tbody></table></div>"
      ],
      "text/plain": [
       "shape: (2, 2)\n",
       "┌─────┬──────┐\n",
       "│ id  ┆ cost │\n",
       "│ --- ┆ ---  │\n",
       "│ str ┆ i64  │\n",
       "╞═════╪══════╡\n",
       "│ c   ┆ 100  │\n",
       "│ c   ┆ 200  │\n",
       "└─────┴──────┘"
      ]
     },
     "execution_count": 44,
     "metadata": {},
     "output_type": "execute_result"
    }
   ],
   "source": [
    "df_repairs = pl.DataFrame(\n",
    "    {\n",
    "        \"id\": [\"c\", \"c\"],\n",
    "        \"cost\": [100, 200],\n",
    "    }\n",
    ")\n",
    "df_repairs"
   ]
  },
  {
   "cell_type": "markdown",
   "metadata": {},
   "source": [
    "Quieres responder a esta pregunta: ¿cuáles de los autos han tenido reparaciones realizadas?\n",
    "\n",
    "Una inner join no responde directamente a esta pregunta, ya que produce un DataFrame con múltiples filas para cada auto que ha tenido múltiples trabajos de reparación."
   ]
  },
  {
   "cell_type": "code",
   "execution_count": 45,
   "metadata": {},
   "outputs": [
    {
     "data": {
      "text/html": [
       "<div><style>\n",
       ".dataframe > thead > tr,\n",
       ".dataframe > tbody > tr {\n",
       "  text-align: right;\n",
       "  white-space: pre-wrap;\n",
       "}\n",
       "</style>\n",
       "<small>shape: (2, 3)</small><table border=\"1\" class=\"dataframe\"><thead><tr><th>id</th><th>make</th><th>cost</th></tr><tr><td>str</td><td>str</td><td>i64</td></tr></thead><tbody><tr><td>&quot;c&quot;</td><td>&quot;bmw&quot;</td><td>100</td></tr><tr><td>&quot;c&quot;</td><td>&quot;bmw&quot;</td><td>200</td></tr></tbody></table></div>"
      ],
      "text/plain": [
       "shape: (2, 3)\n",
       "┌─────┬──────┬──────┐\n",
       "│ id  ┆ make ┆ cost │\n",
       "│ --- ┆ ---  ┆ ---  │\n",
       "│ str ┆ str  ┆ i64  │\n",
       "╞═════╪══════╪══════╡\n",
       "│ c   ┆ bmw  ┆ 100  │\n",
       "│ c   ┆ bmw  ┆ 200  │\n",
       "└─────┴──────┴──────┘"
      ]
     },
     "execution_count": 45,
     "metadata": {},
     "output_type": "execute_result"
    }
   ],
   "source": [
    "df_cars.join(df_repairs, on=\"id\", how=\"inner\")"
   ]
  },
  {
   "cell_type": "code",
   "execution_count": 46,
   "metadata": {},
   "outputs": [
    {
     "data": {
      "text/html": [
       "<div><style>\n",
       ".dataframe > thead > tr,\n",
       ".dataframe > tbody > tr {\n",
       "  text-align: right;\n",
       "  white-space: pre-wrap;\n",
       "}\n",
       "</style>\n",
       "<small>shape: (1, 2)</small><table border=\"1\" class=\"dataframe\"><thead><tr><th>id</th><th>make</th></tr><tr><td>str</td><td>str</td></tr></thead><tbody><tr><td>&quot;c&quot;</td><td>&quot;bmw&quot;</td></tr></tbody></table></div>"
      ],
      "text/plain": [
       "shape: (1, 2)\n",
       "┌─────┬──────┐\n",
       "│ id  ┆ make │\n",
       "│ --- ┆ ---  │\n",
       "│ str ┆ str  │\n",
       "╞═════╪══════╡\n",
       "│ c   ┆ bmw  │\n",
       "└─────┴──────┘"
      ]
     },
     "execution_count": 46,
     "metadata": {},
     "output_type": "execute_result"
    }
   ],
   "source": [
    "df_cars.join(df_repairs, on=\"id\", how=\"semi\")"
   ]
  },
  {
   "cell_type": "markdown",
   "metadata": {},
   "source": [
    "## Anti join\n",
    "Continuando con este ejemplo, una pregunta alternativa podría ser: ¿cuáles de los autos no han tenido un trabajo de reparación realizado? Una unión anti produce un DataFrame que muestra todos los autos de df_cars donde el ID no está presente en el DataFrame df_repairs."
   ]
  },
  {
   "cell_type": "code",
   "execution_count": 47,
   "metadata": {},
   "outputs": [
    {
     "data": {
      "text/html": [
       "<div><style>\n",
       ".dataframe > thead > tr,\n",
       ".dataframe > tbody > tr {\n",
       "  text-align: right;\n",
       "  white-space: pre-wrap;\n",
       "}\n",
       "</style>\n",
       "<small>shape: (2, 2)</small><table border=\"1\" class=\"dataframe\"><thead><tr><th>id</th><th>make</th></tr><tr><td>str</td><td>str</td></tr></thead><tbody><tr><td>&quot;a&quot;</td><td>&quot;ford&quot;</td></tr><tr><td>&quot;b&quot;</td><td>&quot;toyota&quot;</td></tr></tbody></table></div>"
      ],
      "text/plain": [
       "shape: (2, 2)\n",
       "┌─────┬────────┐\n",
       "│ id  ┆ make   │\n",
       "│ --- ┆ ---    │\n",
       "│ str ┆ str    │\n",
       "╞═════╪════════╡\n",
       "│ a   ┆ ford   │\n",
       "│ b   ┆ toyota │\n",
       "└─────┴────────┘"
      ]
     },
     "execution_count": 47,
     "metadata": {},
     "output_type": "execute_result"
    }
   ],
   "source": [
    "df_cars.join(df_repairs, on=\"id\", how=\"anti\")"
   ]
  },
  {
   "cell_type": "markdown",
   "metadata": {},
   "source": [
    "## Asof join\n",
    "Es similar a una left join, excepto que se empareja con la clave más cercana en lugar de claves iguales. En Polars, podemos hacer una unión “asof” con el método join_asof.\n",
    "\n",
    "Considera el siguiente escenario: un corredor de bolsa tiene un DataFrame llamado df_trades que muestra las transacciones que ha realizado para diferentes acciones."
   ]
  },
  {
   "cell_type": "code",
   "execution_count": 48,
   "metadata": {},
   "outputs": [
    {
     "data": {
      "text/html": [
       "<div><style>\n",
       ".dataframe > thead > tr,\n",
       ".dataframe > tbody > tr {\n",
       "  text-align: right;\n",
       "  white-space: pre-wrap;\n",
       "}\n",
       "</style>\n",
       "<small>shape: (4, 3)</small><table border=\"1\" class=\"dataframe\"><thead><tr><th>time</th><th>stock</th><th>trade</th></tr><tr><td>datetime[μs]</td><td>str</td><td>i64</td></tr></thead><tbody><tr><td>2020-01-01 09:01:00</td><td>&quot;A&quot;</td><td>101</td></tr><tr><td>2020-01-01 09:01:00</td><td>&quot;B&quot;</td><td>299</td></tr><tr><td>2020-01-01 09:03:00</td><td>&quot;B&quot;</td><td>301</td></tr><tr><td>2020-01-01 09:06:00</td><td>&quot;C&quot;</td><td>500</td></tr></tbody></table></div>"
      ],
      "text/plain": [
       "shape: (4, 3)\n",
       "┌─────────────────────┬───────┬───────┐\n",
       "│ time                ┆ stock ┆ trade │\n",
       "│ ---                 ┆ ---   ┆ ---   │\n",
       "│ datetime[μs]        ┆ str   ┆ i64   │\n",
       "╞═════════════════════╪═══════╪═══════╡\n",
       "│ 2020-01-01 09:01:00 ┆ A     ┆ 101   │\n",
       "│ 2020-01-01 09:01:00 ┆ B     ┆ 299   │\n",
       "│ 2020-01-01 09:03:00 ┆ B     ┆ 301   │\n",
       "│ 2020-01-01 09:06:00 ┆ C     ┆ 500   │\n",
       "└─────────────────────┴───────┴───────┘"
      ]
     },
     "execution_count": 48,
     "metadata": {},
     "output_type": "execute_result"
    }
   ],
   "source": [
    "df_trades = pl.DataFrame(\n",
    "    {\n",
    "        \"time\": [\n",
    "            datetime(2020, 1, 1, 9, 1, 0),\n",
    "            datetime(2020, 1, 1, 9, 1, 0),\n",
    "            datetime(2020, 1, 1, 9, 3, 0),\n",
    "            datetime(2020, 1, 1, 9, 6, 0),\n",
    "        ],\n",
    "        \"stock\": [\"A\", \"B\", \"B\", \"C\"],\n",
    "        \"trade\": [101, 299, 301, 500],\n",
    "    }\n",
    ")\n",
    "df_trades"
   ]
  },
  {
   "cell_type": "markdown",
   "metadata": {},
   "source": [
    "El corredor de bolsa tiene otro DataFrame llamado df_quotes que muestra los precios que ha cotizado para estas acciones."
   ]
  },
  {
   "cell_type": "code",
   "execution_count": 49,
   "metadata": {},
   "outputs": [
    {
     "data": {
      "text/html": [
       "<div><style>\n",
       ".dataframe > thead > tr,\n",
       ".dataframe > tbody > tr {\n",
       "  text-align: right;\n",
       "  white-space: pre-wrap;\n",
       "}\n",
       "</style>\n",
       "<small>shape: (4, 3)</small><table border=\"1\" class=\"dataframe\"><thead><tr><th>time</th><th>stock</th><th>quote</th></tr><tr><td>datetime[μs]</td><td>str</td><td>i64</td></tr></thead><tbody><tr><td>2020-01-01 09:00:00</td><td>&quot;A&quot;</td><td>100</td></tr><tr><td>2020-01-01 09:02:00</td><td>&quot;B&quot;</td><td>300</td></tr><tr><td>2020-01-01 09:04:00</td><td>&quot;C&quot;</td><td>501</td></tr><tr><td>2020-01-01 09:06:00</td><td>&quot;A&quot;</td><td>102</td></tr></tbody></table></div>"
      ],
      "text/plain": [
       "shape: (4, 3)\n",
       "┌─────────────────────┬───────┬───────┐\n",
       "│ time                ┆ stock ┆ quote │\n",
       "│ ---                 ┆ ---   ┆ ---   │\n",
       "│ datetime[μs]        ┆ str   ┆ i64   │\n",
       "╞═════════════════════╪═══════╪═══════╡\n",
       "│ 2020-01-01 09:00:00 ┆ A     ┆ 100   │\n",
       "│ 2020-01-01 09:02:00 ┆ B     ┆ 300   │\n",
       "│ 2020-01-01 09:04:00 ┆ C     ┆ 501   │\n",
       "│ 2020-01-01 09:06:00 ┆ A     ┆ 102   │\n",
       "└─────────────────────┴───────┴───────┘"
      ]
     },
     "execution_count": 49,
     "metadata": {},
     "output_type": "execute_result"
    }
   ],
   "source": [
    "df_quotes = pl.DataFrame(\n",
    "    {\n",
    "        \"time\": [\n",
    "            datetime(2020, 1, 1, 9, 0, 0),\n",
    "            datetime(2020, 1, 1, 9, 2, 0),\n",
    "            datetime(2020, 1, 1, 9, 4, 0),\n",
    "            datetime(2020, 1, 1, 9, 6, 0),\n",
    "        ],\n",
    "        \"stock\": [\"A\", \"B\", \"C\", \"A\"],\n",
    "        \"quote\": [100, 300, 501, 102],\n",
    "    }\n",
    ")\n",
    "df_quotes"
   ]
  },
  {
   "cell_type": "markdown",
   "metadata": {},
   "source": [
    "Queremos producir un DataFrame que muestre, para cada transacción, la cotización más reciente proporcionada antes de la transacción. Haces esto con join_asof (usando la estrategia predeterminada strategy=\"backward\"). Para evitar unir transacciones de una acción con una cotización de otra, debes especificar una unión preliminar exacta en la columna de acciones con by=\"stock\"."
   ]
  },
  {
   "cell_type": "code",
   "execution_count": 50,
   "metadata": {},
   "outputs": [
    {
     "data": {
      "text/html": [
       "<div><style>\n",
       ".dataframe > thead > tr,\n",
       ".dataframe > tbody > tr {\n",
       "  text-align: right;\n",
       "  white-space: pre-wrap;\n",
       "}\n",
       "</style>\n",
       "<small>shape: (4, 4)</small><table border=\"1\" class=\"dataframe\"><thead><tr><th>time</th><th>stock</th><th>trade</th><th>quote</th></tr><tr><td>datetime[μs]</td><td>str</td><td>i64</td><td>i64</td></tr></thead><tbody><tr><td>2020-01-01 09:01:00</td><td>&quot;A&quot;</td><td>101</td><td>100</td></tr><tr><td>2020-01-01 09:01:00</td><td>&quot;B&quot;</td><td>299</td><td>null</td></tr><tr><td>2020-01-01 09:03:00</td><td>&quot;B&quot;</td><td>301</td><td>300</td></tr><tr><td>2020-01-01 09:06:00</td><td>&quot;C&quot;</td><td>500</td><td>501</td></tr></tbody></table></div>"
      ],
      "text/plain": [
       "shape: (4, 4)\n",
       "┌─────────────────────┬───────┬───────┬───────┐\n",
       "│ time                ┆ stock ┆ trade ┆ quote │\n",
       "│ ---                 ┆ ---   ┆ ---   ┆ ---   │\n",
       "│ datetime[μs]        ┆ str   ┆ i64   ┆ i64   │\n",
       "╞═════════════════════╪═══════╪═══════╪═══════╡\n",
       "│ 2020-01-01 09:01:00 ┆ A     ┆ 101   ┆ 100   │\n",
       "│ 2020-01-01 09:01:00 ┆ B     ┆ 299   ┆ null  │\n",
       "│ 2020-01-01 09:03:00 ┆ B     ┆ 301   ┆ 300   │\n",
       "│ 2020-01-01 09:06:00 ┆ C     ┆ 500   ┆ 501   │\n",
       "└─────────────────────┴───────┴───────┴───────┘"
      ]
     },
     "execution_count": 50,
     "metadata": {},
     "output_type": "execute_result"
    }
   ],
   "source": [
    "df_trades.join_asof(df_quotes, on=\"time\", by=\"stock\")"
   ]
  },
  {
   "cell_type": "markdown",
   "metadata": {},
   "source": [
    "Si queremos asegurar de que solo se unan las cotizaciones dentro de un cierto rango de tiempo a las transacciones, especificamos el argumento tolerance. En este caso, queremos asegurarnos de que la última cotización anterior esté dentro de 1 minuto de la transacción, por lo que establecemos tolerance = \"1m\"."
   ]
  },
  {
   "cell_type": "code",
   "execution_count": 51,
   "metadata": {},
   "outputs": [
    {
     "data": {
      "text/html": [
       "<div><style>\n",
       ".dataframe > thead > tr,\n",
       ".dataframe > tbody > tr {\n",
       "  text-align: right;\n",
       "  white-space: pre-wrap;\n",
       "}\n",
       "</style>\n",
       "<small>shape: (4, 4)</small><table border=\"1\" class=\"dataframe\"><thead><tr><th>time</th><th>stock</th><th>trade</th><th>quote</th></tr><tr><td>datetime[μs]</td><td>str</td><td>i64</td><td>i64</td></tr></thead><tbody><tr><td>2020-01-01 09:01:00</td><td>&quot;A&quot;</td><td>101</td><td>100</td></tr><tr><td>2020-01-01 09:01:00</td><td>&quot;B&quot;</td><td>299</td><td>null</td></tr><tr><td>2020-01-01 09:03:00</td><td>&quot;B&quot;</td><td>301</td><td>300</td></tr><tr><td>2020-01-01 09:06:00</td><td>&quot;C&quot;</td><td>500</td><td>null</td></tr></tbody></table></div>"
      ],
      "text/plain": [
       "shape: (4, 4)\n",
       "┌─────────────────────┬───────┬───────┬───────┐\n",
       "│ time                ┆ stock ┆ trade ┆ quote │\n",
       "│ ---                 ┆ ---   ┆ ---   ┆ ---   │\n",
       "│ datetime[μs]        ┆ str   ┆ i64   ┆ i64   │\n",
       "╞═════════════════════╪═══════╪═══════╪═══════╡\n",
       "│ 2020-01-01 09:01:00 ┆ A     ┆ 101   ┆ 100   │\n",
       "│ 2020-01-01 09:01:00 ┆ B     ┆ 299   ┆ null  │\n",
       "│ 2020-01-01 09:03:00 ┆ B     ┆ 301   ┆ 300   │\n",
       "│ 2020-01-01 09:06:00 ┆ C     ┆ 500   ┆ null  │\n",
       "└─────────────────────┴───────┴───────┴───────┘"
      ]
     },
     "execution_count": 51,
     "metadata": {},
     "output_type": "execute_result"
    }
   ],
   "source": [
    "df_trades.join_asof(\n",
    "    df_quotes, on=\"time\", by=\"stock\", tolerance=\"1m\"\n",
    ")"
   ]
  },
  {
   "cell_type": "markdown",
   "metadata": {
    "editable": true,
    "slideshow": {
     "slide_type": ""
    },
    "tags": []
   },
   "source": [
    "# Concatenación\n",
    "## Vertical\n",
    "La concatenación vertical falla cuando los DataFrames no tienen los mismos nombres de columnas."
   ]
  },
  {
   "cell_type": "code",
   "execution_count": 52,
   "metadata": {},
   "outputs": [
    {
     "data": {
      "text/plain": [
       "(shape: (1, 2)\n",
       " ┌─────┬─────┐\n",
       " │ a   ┆ b   │\n",
       " │ --- ┆ --- │\n",
       " │ i64 ┆ i64 │\n",
       " ╞═════╪═════╡\n",
       " │ 1   ┆ 3   │\n",
       " └─────┴─────┘,\n",
       " shape: (1, 2)\n",
       " ┌─────┬─────┐\n",
       " │ a   ┆ b   │\n",
       " │ --- ┆ --- │\n",
       " │ i64 ┆ i64 │\n",
       " ╞═════╪═════╡\n",
       " │ 2   ┆ 4   │\n",
       " └─────┴─────┘)"
      ]
     },
     "execution_count": 52,
     "metadata": {},
     "output_type": "execute_result"
    }
   ],
   "source": [
    "df_v1 = pl.DataFrame(\n",
    "    {\n",
    "        \"a\": [1],\n",
    "        \"b\": [3],\n",
    "    }\n",
    ")\n",
    "df_v2 = pl.DataFrame(\n",
    "    {\n",
    "        \"a\": [2],\n",
    "        \"b\": [4],\n",
    "    }\n",
    ")\n",
    "df_v1, df_v2"
   ]
  },
  {
   "cell_type": "code",
   "execution_count": 53,
   "metadata": {},
   "outputs": [
    {
     "name": "stdout",
     "output_type": "stream",
     "text": [
      "shape: (2, 2)\n",
      "┌─────┬─────┐\n",
      "│ a   ┆ b   │\n",
      "│ --- ┆ --- │\n",
      "│ i64 ┆ i64 │\n",
      "╞═════╪═════╡\n",
      "│ 1   ┆ 3   │\n",
      "│ 2   ┆ 4   │\n",
      "└─────┴─────┘\n"
     ]
    }
   ],
   "source": [
    "df_vertical_concat = pl.concat(\n",
    "    [\n",
    "        df_v1,\n",
    "        df_v2,\n",
    "    ],\n",
    "    how=\"vertical\",\n",
    ")\n",
    "print(df_vertical_concat)"
   ]
  },
  {
   "cell_type": "markdown",
   "metadata": {},
   "source": [
    "## Horizontal\n",
    "La concatenación horizontal falla cuando los DataFrames tienen columnas que se superponen."
   ]
  },
  {
   "cell_type": "code",
   "execution_count": 54,
   "metadata": {},
   "outputs": [],
   "source": [
    "df_h1 = pl.DataFrame(\n",
    "    {\n",
    "        \"l1\": [1, 2],\n",
    "        \"l2\": [3, 4],\n",
    "    }\n",
    ")\n",
    "df_h2 = pl.DataFrame(\n",
    "    {\n",
    "        \"r1\": [5, 6],\n",
    "        \"r2\": [7, 8],\n",
    "        \"r3\": [9, 10],\n",
    "    }\n",
    ")"
   ]
  },
  {
   "cell_type": "code",
   "execution_count": 55,
   "metadata": {},
   "outputs": [
    {
     "data": {
      "text/plain": [
       "(shape: (2, 2)\n",
       " ┌─────┬─────┐\n",
       " │ l1  ┆ l2  │\n",
       " │ --- ┆ --- │\n",
       " │ i64 ┆ i64 │\n",
       " ╞═════╪═════╡\n",
       " │ 1   ┆ 3   │\n",
       " │ 2   ┆ 4   │\n",
       " └─────┴─────┘,\n",
       " shape: (2, 3)\n",
       " ┌─────┬─────┬─────┐\n",
       " │ r1  ┆ r2  ┆ r3  │\n",
       " │ --- ┆ --- ┆ --- │\n",
       " │ i64 ┆ i64 ┆ i64 │\n",
       " ╞═════╪═════╪═════╡\n",
       " │ 5   ┆ 7   ┆ 9   │\n",
       " │ 6   ┆ 8   ┆ 10  │\n",
       " └─────┴─────┴─────┘)"
      ]
     },
     "execution_count": 55,
     "metadata": {},
     "output_type": "execute_result"
    }
   ],
   "source": [
    "df_h1, df_h2"
   ]
  },
  {
   "cell_type": "code",
   "execution_count": 56,
   "metadata": {},
   "outputs": [
    {
     "name": "stdout",
     "output_type": "stream",
     "text": [
      "shape: (2, 5)\n",
      "┌─────┬─────┬─────┬─────┬─────┐\n",
      "│ l1  ┆ l2  ┆ r1  ┆ r2  ┆ r3  │\n",
      "│ --- ┆ --- ┆ --- ┆ --- ┆ --- │\n",
      "│ i64 ┆ i64 ┆ i64 ┆ i64 ┆ i64 │\n",
      "╞═════╪═════╪═════╪═════╪═════╡\n",
      "│ 1   ┆ 3   ┆ 5   ┆ 7   ┆ 9   │\n",
      "│ 2   ┆ 4   ┆ 6   ┆ 8   ┆ 10  │\n",
      "└─────┴─────┴─────┴─────┴─────┘\n"
     ]
    }
   ],
   "source": [
    "df_horizontal_concat = pl.concat(\n",
    "    [\n",
    "        df_h1,\n",
    "        df_h2,\n",
    "    ],\n",
    "    how=\"horizontal\",\n",
    ")\n",
    "print(df_horizontal_concat)"
   ]
  },
  {
   "cell_type": "markdown",
   "metadata": {},
   "source": [
    "Cuando los DataFrames tienen un número diferente de filas, las columnas se rellenarán con valores nulos al final hasta alcanzar la longitud máxima."
   ]
  },
  {
   "cell_type": "code",
   "execution_count": 57,
   "metadata": {},
   "outputs": [
    {
     "name": "stdout",
     "output_type": "stream",
     "text": [
      "shape: (3, 4)\n",
      "┌──────┬──────┬─────┬─────┐\n",
      "│ l1   ┆ l2   ┆ r1  ┆ r2  │\n",
      "│ ---  ┆ ---  ┆ --- ┆ --- │\n",
      "│ i64  ┆ i64  ┆ i64 ┆ i64 │\n",
      "╞══════╪══════╪═════╪═════╡\n",
      "│ 1    ┆ 3    ┆ 5   ┆ 8   │\n",
      "│ 2    ┆ 4    ┆ 6   ┆ 9   │\n",
      "│ null ┆ null ┆ 7   ┆ 10  │\n",
      "└──────┴──────┴─────┴─────┘\n"
     ]
    }
   ],
   "source": [
    "df_h1 = pl.DataFrame(\n",
    "    {\n",
    "        \"l1\": [1, 2],\n",
    "        \"l2\": [3, 4],\n",
    "    }\n",
    ")\n",
    "df_h2 = pl.DataFrame(\n",
    "    {\n",
    "        \"r1\": [5, 6, 7],\n",
    "        \"r2\": [8, 9, 10],\n",
    "    }\n",
    ")\n",
    "df_horizontal_concat = pl.concat(\n",
    "    [\n",
    "        df_h1,\n",
    "        df_h2,\n",
    "    ],\n",
    "    how=\"horizontal\",\n",
    ")\n",
    "print(df_horizontal_concat)"
   ]
  },
  {
   "cell_type": "markdown",
   "metadata": {},
   "source": [
    "## Diagonal\n",
    "En una concatenación diagonal, combinas todas las filas y columnas de una lista de DataFrames en un solo DataFrame más largo y/o más ancho."
   ]
  },
  {
   "cell_type": "code",
   "execution_count": 58,
   "metadata": {},
   "outputs": [],
   "source": [
    "df_d1 = pl.DataFrame(\n",
    "    {\n",
    "        \"a\": [1],\n",
    "        \"b\": [3],\n",
    "    }\n",
    ")\n",
    "df_d2 = pl.DataFrame(\n",
    "    {\n",
    "        \"a\": [2],\n",
    "        \"d\": [4],\n",
    "    }\n",
    ")\n"
   ]
  },
  {
   "cell_type": "code",
   "execution_count": 59,
   "metadata": {},
   "outputs": [
    {
     "data": {
      "text/plain": [
       "(shape: (1, 2)\n",
       " ┌─────┬─────┐\n",
       " │ a   ┆ b   │\n",
       " │ --- ┆ --- │\n",
       " │ i64 ┆ i64 │\n",
       " ╞═════╪═════╡\n",
       " │ 1   ┆ 3   │\n",
       " └─────┴─────┘,\n",
       " shape: (1, 2)\n",
       " ┌─────┬─────┐\n",
       " │ a   ┆ d   │\n",
       " │ --- ┆ --- │\n",
       " │ i64 ┆ i64 │\n",
       " ╞═════╪═════╡\n",
       " │ 2   ┆ 4   │\n",
       " └─────┴─────┘)"
      ]
     },
     "execution_count": 59,
     "metadata": {},
     "output_type": "execute_result"
    }
   ],
   "source": [
    "df_d1, df_d2"
   ]
  },
  {
   "cell_type": "code",
   "execution_count": 60,
   "metadata": {},
   "outputs": [
    {
     "name": "stdout",
     "output_type": "stream",
     "text": [
      "shape: (2, 3)\n",
      "┌─────┬──────┬──────┐\n",
      "│ a   ┆ b    ┆ d    │\n",
      "│ --- ┆ ---  ┆ ---  │\n",
      "│ i64 ┆ i64  ┆ i64  │\n",
      "╞═════╪══════╪══════╡\n",
      "│ 1   ┆ 3    ┆ null │\n",
      "│ 2   ┆ null ┆ 4    │\n",
      "└─────┴──────┴──────┘\n"
     ]
    }
   ],
   "source": [
    "df_diagonal_concat = pl.concat(\n",
    "    [\n",
    "        df_d1,\n",
    "        df_d2,\n",
    "    ],\n",
    "    how=\"diagonal\",\n",
    ")\n",
    "print(df_diagonal_concat)"
   ]
  },
  {
   "cell_type": "markdown",
   "metadata": {},
   "source": [
    "# Pivotes\n",
    "La operación de pivoteo consiste en agrupar por una o varias columnas (estas serán el nuevo eje y), la columna que se pivotará (esta será el nuevo eje x) y una agregación."
   ]
  },
  {
   "cell_type": "code",
   "execution_count": 61,
   "metadata": {},
   "outputs": [
    {
     "name": "stdout",
     "output_type": "stream",
     "text": [
      "shape: (5, 3)\n",
      "┌─────┬─────┬─────┐\n",
      "│ foo ┆ N   ┆ bar │\n",
      "│ --- ┆ --- ┆ --- │\n",
      "│ str ┆ i64 ┆ str │\n",
      "╞═════╪═════╪═════╡\n",
      "│ A   ┆ 1   ┆ k   │\n",
      "│ A   ┆ 2   ┆ l   │\n",
      "│ B   ┆ 2   ┆ m   │\n",
      "│ B   ┆ 4   ┆ n   │\n",
      "│ C   ┆ 2   ┆ o   │\n",
      "└─────┴─────┴─────┘\n"
     ]
    }
   ],
   "source": [
    "df = pl.DataFrame(\n",
    "    {\n",
    "        \"foo\": [\"A\", \"A\", \"B\", \"B\", \"C\"],\n",
    "        \"N\": [1, 2, 2, 4, 2],\n",
    "        \"bar\": [\"k\", \"l\", \"m\", \"n\", \"o\"],\n",
    "    }\n",
    ")\n",
    "print(df)"
   ]
  },
  {
   "cell_type": "markdown",
   "metadata": {},
   "source": [
    "## Eager (Pivot)"
   ]
  },
  {
   "cell_type": "code",
   "execution_count": 62,
   "metadata": {},
   "outputs": [
    {
     "name": "stdout",
     "output_type": "stream",
     "text": [
      "shape: (3, 6)\n",
      "┌─────┬──────┬──────┬──────┬──────┬──────┐\n",
      "│ foo ┆ k    ┆ l    ┆ m    ┆ n    ┆ o    │\n",
      "│ --- ┆ ---  ┆ ---  ┆ ---  ┆ ---  ┆ ---  │\n",
      "│ str ┆ i64  ┆ i64  ┆ i64  ┆ i64  ┆ i64  │\n",
      "╞═════╪══════╪══════╪══════╪══════╪══════╡\n",
      "│ A   ┆ 1    ┆ 2    ┆ null ┆ null ┆ null │\n",
      "│ B   ┆ null ┆ null ┆ 2    ┆ 4    ┆ null │\n",
      "│ C   ┆ null ┆ null ┆ null ┆ null ┆ 2    │\n",
      "└─────┴──────┴──────┴──────┴──────┴──────┘\n"
     ]
    }
   ],
   "source": [
    "out = df.pivot(\"bar\", index=\"foo\", values=\"N\", aggregate_function=\"first\")\n",
    "print(out)"
   ]
  },
  {
   "cell_type": "markdown",
   "metadata": {},
   "source": [
    "## Lazy\n",
    "Un LazyFrame en Polars siempre necesita conocer el esquema de manera estática (antes de recolectar la consulta). Dado que el esquema de salida de un pivote depende de los datos, es imposible determinar el esquema sin ejecutar la consulta."
   ]
  },
  {
   "cell_type": "code",
   "execution_count": 63,
   "metadata": {},
   "outputs": [
    {
     "name": "stdout",
     "output_type": "stream",
     "text": [
      "shape: (3, 6)\n",
      "┌─────┬──────┬──────┬──────┬──────┬──────┐\n",
      "│ foo ┆ k    ┆ l    ┆ m    ┆ n    ┆ o    │\n",
      "│ --- ┆ ---  ┆ ---  ┆ ---  ┆ ---  ┆ ---  │\n",
      "│ str ┆ i64  ┆ i64  ┆ i64  ┆ i64  ┆ i64  │\n",
      "╞═════╪══════╪══════╪══════╪══════╪══════╡\n",
      "│ A   ┆ 1    ┆ 2    ┆ null ┆ null ┆ null │\n",
      "│ B   ┆ null ┆ null ┆ 2    ┆ 4    ┆ null │\n",
      "│ C   ┆ null ┆ null ┆ null ┆ null ┆ 2    │\n",
      "└─────┴──────┴──────┴──────┴──────┴──────┘\n"
     ]
    }
   ],
   "source": [
    "q = (\n",
    "    df.lazy()\n",
    "    .collect()\n",
    "    .pivot(index=\"foo\", on=\"bar\", values=\"N\", aggregate_function=\"first\")\n",
    "    .lazy()\n",
    ")\n",
    "out = q.collect()\n",
    "print(out)"
   ]
  },
  {
   "cell_type": "markdown",
   "metadata": {},
   "source": [
    "# Unpivot"
   ]
  },
  {
   "cell_type": "code",
   "execution_count": 64,
   "metadata": {},
   "outputs": [
    {
     "name": "stdout",
     "output_type": "stream",
     "text": [
      "shape: (3, 4)\n",
      "┌─────┬─────┬─────┬─────┐\n",
      "│ A   ┆ B   ┆ C   ┆ D   │\n",
      "│ --- ┆ --- ┆ --- ┆ --- │\n",
      "│ str ┆ i64 ┆ i64 ┆ i64 │\n",
      "╞═════╪═════╪═════╪═════╡\n",
      "│ a   ┆ 1   ┆ 10  ┆ 2   │\n",
      "│ b   ┆ 3   ┆ 11  ┆ 4   │\n",
      "│ a   ┆ 5   ┆ 12  ┆ 6   │\n",
      "└─────┴─────┴─────┴─────┘\n"
     ]
    }
   ],
   "source": [
    "df = pl.DataFrame(\n",
    "    {\n",
    "        \"A\": [\"a\", \"b\", \"a\"],\n",
    "        \"B\": [1, 3, 5],\n",
    "        \"C\": [10, 11, 12],\n",
    "        \"D\": [2, 4, 6],\n",
    "    }\n",
    ")\n",
    "print(df)"
   ]
  },
  {
   "cell_type": "markdown",
   "metadata": {},
   "source": [
    "## Eager y Lazy\n",
    "Tienen la misma API"
   ]
  },
  {
   "cell_type": "code",
   "execution_count": 65,
   "metadata": {},
   "outputs": [
    {
     "name": "stdout",
     "output_type": "stream",
     "text": [
      "shape: (6, 4)\n",
      "┌─────┬─────┬──────────┬───────┐\n",
      "│ A   ┆ B   ┆ variable ┆ value │\n",
      "│ --- ┆ --- ┆ ---      ┆ ---   │\n",
      "│ str ┆ i64 ┆ str      ┆ i64   │\n",
      "╞═════╪═════╪══════════╪═══════╡\n",
      "│ a   ┆ 1   ┆ C        ┆ 10    │\n",
      "│ b   ┆ 3   ┆ C        ┆ 11    │\n",
      "│ a   ┆ 5   ┆ C        ┆ 12    │\n",
      "│ a   ┆ 1   ┆ D        ┆ 2     │\n",
      "│ b   ┆ 3   ┆ D        ┆ 4     │\n",
      "│ a   ┆ 5   ┆ D        ┆ 6     │\n",
      "└─────┴─────┴──────────┴───────┘\n"
     ]
    }
   ],
   "source": [
    "out = df.unpivot([\"C\", \"D\"], index=[\"A\", \"B\"])\n",
    "print(out)"
   ]
  },
  {
   "cell_type": "markdown",
   "metadata": {},
   "source": [
    "# Series de tiempo\n",
    "## Parsing (lectura?)\n",
    "### Tipos de datos\n",
    "Polars tiene los siguientes tipos de datos para fechas y horas:\n",
    "\n",
    "\t•\tDate: Representación de fecha, por ejemplo, 2014-07-08. Internamente se representa como días desde la época UNIX, codificados por un entero con signo de 32 bits.\n",
    "\t•\tDatetime: Representación de fecha y hora, por ejemplo, 2014-07-08 07:00:00. Internamente se representa como un entero de 64 bits desde la época Unix y puede tener diferentes unidades como ns, us, ms.\n",
    "\t•\tDuration: Un tipo de diferencia de tiempo que se crea al restar Date/Datetime. Similar a timedelta en Python.\n",
    "\t•\tTime: Representación de tiempo, internamente representada como nanosegundos desde la medianoche."
   ]
  },
  {
   "cell_type": "markdown",
   "metadata": {},
   "source": [
    "### Desde archivo"
   ]
  },
  {
   "cell_type": "code",
   "execution_count": 66,
   "metadata": {},
   "outputs": [
    {
     "name": "stdout",
     "output_type": "stream",
     "text": [
      "shape: (6_953, 7)\n",
      "┌────────────┬────────┬────────┬────────┬────────┬──────────┬───────────┐\n",
      "│ Date       ┆ Open   ┆ High   ┆ Low    ┆ Close  ┆ Volume   ┆ Adj Close │\n",
      "│ ---        ┆ ---    ┆ ---    ┆ ---    ┆ ---    ┆ ---      ┆ ---       │\n",
      "│ date       ┆ f64    ┆ f64    ┆ f64    ┆ f64    ┆ i64      ┆ f64       │\n",
      "╞════════════╪════════╪════════╪════════╪════════╪══════════╪═══════════╡\n",
      "│ 2012-03-30 ┆ 608.77 ┆ 610.56 ┆ 597.94 ┆ 599.55 ┆ 26050900 ┆ 599.55    │\n",
      "│ 2012-03-29 ┆ 612.78 ┆ 616.56 ┆ 607.23 ┆ 609.86 ┆ 21668300 ┆ 609.86    │\n",
      "│ 2012-03-28 ┆ 618.38 ┆ 621.45 ┆ 610.31 ┆ 617.62 ┆ 23385200 ┆ 617.62    │\n",
      "│ 2012-03-27 ┆ 606.18 ┆ 616.28 ┆ 606.06 ┆ 614.48 ┆ 21628200 ┆ 614.48    │\n",
      "│ 2012-03-26 ┆ 599.79 ┆ 607.15 ┆ 595.26 ┆ 606.98 ┆ 21259900 ┆ 606.98    │\n",
      "│ …          ┆ …      ┆ …      ┆ …      ┆ …      ┆ …        ┆ …         │\n",
      "│ 1984-09-13 ┆ 27.5   ┆ 27.62  ┆ 27.5   ┆ 27.5   ┆ 7429600  ┆ 3.14      │\n",
      "│ 1984-09-12 ┆ 26.87  ┆ 27.0   ┆ 26.12  ┆ 26.12  ┆ 4773600  ┆ 2.98      │\n",
      "│ 1984-09-11 ┆ 26.62  ┆ 27.37  ┆ 26.62  ┆ 26.87  ┆ 5444000  ┆ 3.07      │\n",
      "│ 1984-09-10 ┆ 26.5   ┆ 26.62  ┆ 25.87  ┆ 26.37  ┆ 2346400  ┆ 3.01      │\n",
      "│ 1984-09-07 ┆ 26.5   ┆ 26.87  ┆ 26.25  ┆ 26.5   ┆ 2981600  ┆ 3.02      │\n",
      "└────────────┴────────┴────────┴────────┴────────┴──────────┴───────────┘\n"
     ]
    }
   ],
   "source": [
    "archivo = \"data/apple_stock_data.csv\"\n",
    "df = pl.read_csv(archivo, try_parse_dates=True)\n",
    "print(df)"
   ]
  },
  {
   "cell_type": "markdown",
   "metadata": {},
   "source": [
    "### Texto a fechas"
   ]
  },
  {
   "cell_type": "code",
   "execution_count": 67,
   "metadata": {},
   "outputs": [
    {
     "name": "stdout",
     "output_type": "stream",
     "text": [
      "shape: (6_953, 7)\n",
      "┌────────────┬────────┬────────┬────────┬────────┬──────────┬───────────┐\n",
      "│ Date       ┆ Open   ┆ High   ┆ Low    ┆ Close  ┆ Volume   ┆ Adj Close │\n",
      "│ ---        ┆ ---    ┆ ---    ┆ ---    ┆ ---    ┆ ---      ┆ ---       │\n",
      "│ date       ┆ f64    ┆ f64    ┆ f64    ┆ f64    ┆ i64      ┆ f64       │\n",
      "╞════════════╪════════╪════════╪════════╪════════╪══════════╪═══════════╡\n",
      "│ 2012-03-30 ┆ 608.77 ┆ 610.56 ┆ 597.94 ┆ 599.55 ┆ 26050900 ┆ 599.55    │\n",
      "│ 2012-03-29 ┆ 612.78 ┆ 616.56 ┆ 607.23 ┆ 609.86 ┆ 21668300 ┆ 609.86    │\n",
      "│ 2012-03-28 ┆ 618.38 ┆ 621.45 ┆ 610.31 ┆ 617.62 ┆ 23385200 ┆ 617.62    │\n",
      "│ 2012-03-27 ┆ 606.18 ┆ 616.28 ┆ 606.06 ┆ 614.48 ┆ 21628200 ┆ 614.48    │\n",
      "│ 2012-03-26 ┆ 599.79 ┆ 607.15 ┆ 595.26 ┆ 606.98 ┆ 21259900 ┆ 606.98    │\n",
      "│ …          ┆ …      ┆ …      ┆ …      ┆ …      ┆ …        ┆ …         │\n",
      "│ 1984-09-13 ┆ 27.5   ┆ 27.62  ┆ 27.5   ┆ 27.5   ┆ 7429600  ┆ 3.14      │\n",
      "│ 1984-09-12 ┆ 26.87  ┆ 27.0   ┆ 26.12  ┆ 26.12  ┆ 4773600  ┆ 2.98      │\n",
      "│ 1984-09-11 ┆ 26.62  ┆ 27.37  ┆ 26.62  ┆ 26.87  ┆ 5444000  ┆ 3.07      │\n",
      "│ 1984-09-10 ┆ 26.5   ┆ 26.62  ┆ 25.87  ┆ 26.37  ┆ 2346400  ┆ 3.01      │\n",
      "│ 1984-09-07 ┆ 26.5   ┆ 26.87  ┆ 26.25  ┆ 26.5   ┆ 2981600  ┆ 3.02      │\n",
      "└────────────┴────────┴────────┴────────┴────────┴──────────┴───────────┘\n"
     ]
    }
   ],
   "source": [
    "df = pl.read_csv(archivo, try_parse_dates=False)\n",
    "\n",
    "df = df.with_columns(pl.col(\"Date\").str.to_date(\"%Y-%m-%d\"))\n",
    "print(df)"
   ]
  },
  {
   "cell_type": "markdown",
   "metadata": {},
   "source": [
    "### Extraer características de fecha"
   ]
  },
  {
   "cell_type": "code",
   "execution_count": 68,
   "metadata": {},
   "outputs": [
    {
     "name": "stdout",
     "output_type": "stream",
     "text": [
      "shape: (6_953, 8)\n",
      "┌────────────┬────────┬────────┬────────┬────────┬──────────┬───────────┬──────┐\n",
      "│ Date       ┆ Open   ┆ High   ┆ Low    ┆ Close  ┆ Volume   ┆ Adj Close ┆ year │\n",
      "│ ---        ┆ ---    ┆ ---    ┆ ---    ┆ ---    ┆ ---      ┆ ---       ┆ ---  │\n",
      "│ date       ┆ f64    ┆ f64    ┆ f64    ┆ f64    ┆ i64      ┆ f64       ┆ i32  │\n",
      "╞════════════╪════════╪════════╪════════╪════════╪══════════╪═══════════╪══════╡\n",
      "│ 2012-03-30 ┆ 608.77 ┆ 610.56 ┆ 597.94 ┆ 599.55 ┆ 26050900 ┆ 599.55    ┆ 2012 │\n",
      "│ 2012-03-29 ┆ 612.78 ┆ 616.56 ┆ 607.23 ┆ 609.86 ┆ 21668300 ┆ 609.86    ┆ 2012 │\n",
      "│ 2012-03-28 ┆ 618.38 ┆ 621.45 ┆ 610.31 ┆ 617.62 ┆ 23385200 ┆ 617.62    ┆ 2012 │\n",
      "│ 2012-03-27 ┆ 606.18 ┆ 616.28 ┆ 606.06 ┆ 614.48 ┆ 21628200 ┆ 614.48    ┆ 2012 │\n",
      "│ 2012-03-26 ┆ 599.79 ┆ 607.15 ┆ 595.26 ┆ 606.98 ┆ 21259900 ┆ 606.98    ┆ 2012 │\n",
      "│ …          ┆ …      ┆ …      ┆ …      ┆ …      ┆ …        ┆ …         ┆ …    │\n",
      "│ 1984-09-13 ┆ 27.5   ┆ 27.62  ┆ 27.5   ┆ 27.5   ┆ 7429600  ┆ 3.14      ┆ 1984 │\n",
      "│ 1984-09-12 ┆ 26.87  ┆ 27.0   ┆ 26.12  ┆ 26.12  ┆ 4773600  ┆ 2.98      ┆ 1984 │\n",
      "│ 1984-09-11 ┆ 26.62  ┆ 27.37  ┆ 26.62  ┆ 26.87  ┆ 5444000  ┆ 3.07      ┆ 1984 │\n",
      "│ 1984-09-10 ┆ 26.5   ┆ 26.62  ┆ 25.87  ┆ 26.37  ┆ 2346400  ┆ 3.01      ┆ 1984 │\n",
      "│ 1984-09-07 ┆ 26.5   ┆ 26.87  ┆ 26.25  ┆ 26.5   ┆ 2981600  ┆ 3.02      ┆ 1984 │\n",
      "└────────────┴────────┴────────┴────────┴────────┴──────────┴───────────┴──────┘\n"
     ]
    }
   ],
   "source": [
    "df_with_year = df.with_columns(pl.col(\"Date\").dt.year().alias(\"year\"))\n",
    "print(df_with_year)"
   ]
  },
  {
   "cell_type": "markdown",
   "metadata": {},
   "source": [
    "### Zonas horarias mezcladas\n"
   ]
  },
  {
   "cell_type": "code",
   "execution_count": 69,
   "metadata": {},
   "outputs": [
    {
     "name": "stdout",
     "output_type": "stream",
     "text": [
      "shape: (4,)\n",
      "Series: '' [datetime[μs, America/Santiago]]\n",
      "[\n",
      "\t2021-03-26 20:00:00 -03\n",
      "\t2021-03-27 20:00:00 -03\n",
      "\t2021-03-28 19:00:00 -03\n",
      "\t2021-03-29 19:00:00 -03\n",
      "]\n"
     ]
    }
   ],
   "source": [
    "data = [\n",
    "    \"2021-03-27T00:00:00+0100\",\n",
    "    \"2021-03-28T00:00:00+0100\",\n",
    "    \"2021-03-29T00:00:00+0200\",\n",
    "    \"2021-03-30T00:00:00+0200\",\n",
    "]\n",
    "mixed_parsed = (\n",
    "    pl.Series(data)\n",
    "    .str.to_datetime(\"%Y-%m-%dT%H:%M:%S%z\")\n",
    "    .dt.convert_time_zone(\"America/Santiago\")\n",
    ")\n",
    "print(mixed_parsed)"
   ]
  },
  {
   "cell_type": "markdown",
   "metadata": {},
   "source": [
    "## Filtro"
   ]
  },
  {
   "cell_type": "code",
   "execution_count": 70,
   "metadata": {},
   "outputs": [
    {
     "data": {
      "text/html": [
       "<div><style>\n",
       ".dataframe > thead > tr,\n",
       ".dataframe > tbody > tr {\n",
       "  text-align: right;\n",
       "  white-space: pre-wrap;\n",
       "}\n",
       "</style>\n",
       "<small>shape: (6_953, 2)</small><table border=\"1\" class=\"dataframe\"><thead><tr><th>Date</th><th>Close</th></tr><tr><td>date</td><td>f64</td></tr></thead><tbody><tr><td>2012-03-30</td><td>599.55</td></tr><tr><td>2012-03-29</td><td>609.86</td></tr><tr><td>2012-03-28</td><td>617.62</td></tr><tr><td>2012-03-27</td><td>614.48</td></tr><tr><td>2012-03-26</td><td>606.98</td></tr><tr><td>&hellip;</td><td>&hellip;</td></tr><tr><td>1984-09-13</td><td>27.5</td></tr><tr><td>1984-09-12</td><td>26.12</td></tr><tr><td>1984-09-11</td><td>26.87</td></tr><tr><td>1984-09-10</td><td>26.37</td></tr><tr><td>1984-09-07</td><td>26.5</td></tr></tbody></table></div>"
      ],
      "text/plain": [
       "shape: (6_953, 2)\n",
       "┌────────────┬────────┐\n",
       "│ Date       ┆ Close  │\n",
       "│ ---        ┆ ---    │\n",
       "│ date       ┆ f64    │\n",
       "╞════════════╪════════╡\n",
       "│ 2012-03-30 ┆ 599.55 │\n",
       "│ 2012-03-29 ┆ 609.86 │\n",
       "│ 2012-03-28 ┆ 617.62 │\n",
       "│ 2012-03-27 ┆ 614.48 │\n",
       "│ 2012-03-26 ┆ 606.98 │\n",
       "│ …          ┆ …      │\n",
       "│ 1984-09-13 ┆ 27.5   │\n",
       "│ 1984-09-12 ┆ 26.12  │\n",
       "│ 1984-09-11 ┆ 26.87  │\n",
       "│ 1984-09-10 ┆ 26.37  │\n",
       "│ 1984-09-07 ┆ 26.5   │\n",
       "└────────────┴────────┘"
      ]
     },
     "execution_count": 70,
     "metadata": {},
     "output_type": "execute_result"
    }
   ],
   "source": [
    "df = df.select(\"Date\", \"Close\")\n",
    "df"
   ]
  },
  {
   "cell_type": "markdown",
   "metadata": {},
   "source": [
    "### Fecha única"
   ]
  },
  {
   "cell_type": "code",
   "execution_count": 71,
   "metadata": {},
   "outputs": [
    {
     "name": "stdout",
     "output_type": "stream",
     "text": [
      "shape: (1, 2)\n",
      "┌────────────┬───────┐\n",
      "│ Date       ┆ Close │\n",
      "│ ---        ┆ ---   │\n",
      "│ date       ┆ f64   │\n",
      "╞════════════╪═══════╡\n",
      "│ 1995-10-16 ┆ 36.13 │\n",
      "└────────────┴───────┘\n"
     ]
    }
   ],
   "source": [
    "filtered_df = df.filter(\n",
    "    pl.col(\"Date\") == datetime(1995, 10, 16),\n",
    ")\n",
    "print(filtered_df)"
   ]
  },
  {
   "cell_type": "markdown",
   "metadata": {},
   "source": [
    "### Rango de fechas"
   ]
  },
  {
   "cell_type": "code",
   "execution_count": 72,
   "metadata": {},
   "outputs": [
    {
     "name": "stdout",
     "output_type": "stream",
     "text": [
      "shape: (86, 2)\n",
      "┌────────────┬───────┐\n",
      "│ Date       ┆ Close │\n",
      "│ ---        ┆ ---   │\n",
      "│ date       ┆ f64   │\n",
      "╞════════════╪═══════╡\n",
      "│ 1995-11-01 ┆ 36.63 │\n",
      "│ 1995-10-31 ┆ 36.31 │\n",
      "│ 1995-10-30 ┆ 35.25 │\n",
      "│ 1995-10-27 ┆ 34.75 │\n",
      "│ 1995-10-26 ┆ 34.88 │\n",
      "│ …          ┆ …     │\n",
      "│ 1995-07-10 ┆ 48.63 │\n",
      "│ 1995-07-07 ┆ 48.63 │\n",
      "│ 1995-07-06 ┆ 47.0  │\n",
      "│ 1995-07-05 ┆ 46.5  │\n",
      "│ 1995-07-03 ┆ 46.94 │\n",
      "└────────────┴───────┘\n"
     ]
    }
   ],
   "source": [
    "filtered_range_df = df.filter(\n",
    "    pl.col(\"Date\").is_between(datetime(1995, 7, 1), datetime(1995, 11, 1)),\n",
    ")\n",
    "print(filtered_range_df)\n"
   ]
  },
  {
   "cell_type": "markdown",
   "metadata": {},
   "source": [
    "### Fechas negativas"
   ]
  },
  {
   "cell_type": "code",
   "execution_count": 73,
   "metadata": {},
   "outputs": [
    {
     "name": "stdout",
     "output_type": "stream",
     "text": [
      "shape: (1, 2)\n",
      "┌─────────────┬────────┐\n",
      "│ ts          ┆ values │\n",
      "│ ---         ┆ ---    │\n",
      "│ date        ┆ i64    │\n",
      "╞═════════════╪════════╡\n",
      "│ -1400-03-02 ┆ 4      │\n",
      "└─────────────┴────────┘\n"
     ]
    }
   ],
   "source": [
    "ts = pl.Series([\"-1300-05-23\", \"-1400-03-02\"]).str.to_date()\n",
    "\n",
    "negative_dates_df = pl.DataFrame({\"ts\": ts, \"values\": [3, 4]})\n",
    "\n",
    "negative_dates_filtered_df = negative_dates_df.filter(pl.col(\"ts\").dt.year() < -1300)\n",
    "print(negative_dates_filtered_df)"
   ]
  },
  {
   "cell_type": "markdown",
   "metadata": {},
   "source": [
    "## Agrupaciones"
   ]
  },
  {
   "cell_type": "markdown",
   "metadata": {},
   "source": [
    "### Ventana fija\n",
    "Las fechas deben ser  ordenadas en orden ascendente; si no están ordenadas de esta manera, la salida de group_by_dynamic no será correcta"
   ]
  },
  {
   "cell_type": "code",
   "execution_count": 74,
   "metadata": {},
   "outputs": [
    {
     "name": "stdout",
     "output_type": "stream",
     "text": [
      "shape: (6_953, 2)\n",
      "┌────────────┬────────┐\n",
      "│ Date       ┆ Close  │\n",
      "│ ---        ┆ ---    │\n",
      "│ date       ┆ f64    │\n",
      "╞════════════╪════════╡\n",
      "│ 1984-09-07 ┆ 26.5   │\n",
      "│ 1984-09-10 ┆ 26.37  │\n",
      "│ 1984-09-11 ┆ 26.87  │\n",
      "│ 1984-09-12 ┆ 26.12  │\n",
      "│ 1984-09-13 ┆ 27.5   │\n",
      "│ …          ┆ …      │\n",
      "│ 2012-03-26 ┆ 606.98 │\n",
      "│ 2012-03-27 ┆ 614.48 │\n",
      "│ 2012-03-28 ┆ 617.62 │\n",
      "│ 2012-03-29 ┆ 609.86 │\n",
      "│ 2012-03-30 ┆ 599.55 │\n",
      "└────────────┴────────┘\n"
     ]
    }
   ],
   "source": [
    "df = df.sort(\"Date\")\n",
    "print(df)"
   ]
  },
  {
   "cell_type": "code",
   "execution_count": 75,
   "metadata": {},
   "outputs": [
    {
     "name": "stdout",
     "output_type": "stream",
     "text": [
      "shape: (29, 3)\n",
      "┌────────────┬────────────┬──────┐\n",
      "│ Date       ┆ Close      ┆ year │\n",
      "│ ---        ┆ ---        ┆ ---  │\n",
      "│ date       ┆ f64        ┆ i32  │\n",
      "╞════════════╪════════════╪══════╡\n",
      "│ 1984-01-01 ┆ 25.578625  ┆ 1984 │\n",
      "│ 1985-01-01 ┆ 20.193676  ┆ 1985 │\n",
      "│ 1986-01-01 ┆ 32.461028  ┆ 1986 │\n",
      "│ 1987-01-01 ┆ 53.889684  ┆ 1987 │\n",
      "│ 1988-01-01 ┆ 41.540079  ┆ 1988 │\n",
      "│ …          ┆ …          ┆ …    │\n",
      "│ 2008-01-01 ┆ 141.979012 ┆ 2008 │\n",
      "│ 2009-01-01 ┆ 146.814127 ┆ 2009 │\n",
      "│ 2010-01-01 ┆ 259.84246  ┆ 2010 │\n",
      "│ 2011-01-01 ┆ 364.004325 ┆ 2011 │\n",
      "│ 2012-01-01 ┆ 503.679839 ┆ 2012 │\n",
      "└────────────┴────────────┴──────┘\n"
     ]
    }
   ],
   "source": [
    "annual_average_df = df.group_by_dynamic(\"Date\", every=\"1y\").agg(pl.col(\"Close\").mean())\n",
    "\n",
    "df_with_year = annual_average_df.with_columns(pl.col(\"Date\").dt.year().alias(\"year\"))\n",
    "print(df_with_year)"
   ]
  },
  {
   "cell_type": "markdown",
   "metadata": {},
   "source": [
    "### group_by dinamic\n",
    "\n",
    "Se define por:\n",
    "\n",
    "\t•\tevery: indica el intervalo de la ventana.\n",
    "\t•\tperiod: indica la duración de la ventana.\n",
    "\t•\toffset: se puede usar para desplazar el inicio de las ventanas.\n",
    "\n",
    "El valor de every establece con qué frecuencia comienzan los grupos. Los valores de los períodos de tiempo son flexibles; por ejemplo, podríamos tomar:\n",
    "\n",
    "\t•\tEl promedio en intervalos de 2 años reemplazando 1y por 2y.\n",
    "\t•\tEl promedio en períodos de 18 meses reemplazando 1y por 1y6mo.\n",
    "\n",
    "También podemos usar el parámetro period para establecer cuánto tiempo dura el período de cada grupo. Por ejemplo, si configuramos el parámetro every en 1y y el parámetro period en 2y, obtendríamos grupos en intervalos de un año donde cada grupo abarcaría dos años.\n",
    "\n",
    "Si no se especifica el parámetro period, entonces se establece igual al parámetro every, de modo que si el parámetro every se establece en 1y, cada grupo también abarca 1y.\n",
    "\n",
    "Dado que every no tiene que ser igual a period, podemos crear muchos grupos de manera muy flexible. Estos grupos pueden superponerse o dejar espacios entre ellos.\n",
    "\n",
    "El parámetro truncate es una variable booleana que determina qué valor de fecha y hora se asocia con cada grupo en la salida. En el ejemplo anterior, el primer dato es del 23 de febrero de 1981. Si truncate = True (el valor predeterminado), la fecha para el primer año en el promedio anual es el 1 de enero de 1981. Sin embargo, si truncate = False, la fecha para el primer año en el promedio anual es la fecha del primer punto de datos, el 23 de febrero de 1981. Es importante señalar que truncate solo afecta lo que se muestra en la columna de fecha y no afecta los límites de la ventana."
   ]
  },
  {
   "cell_type": "markdown",
   "metadata": {},
   "source": [
    "### Combinaciones"
   ]
  },
  {
   "cell_type": "code",
   "execution_count": 76,
   "metadata": {},
   "outputs": [
    {
     "name": "stdout",
     "output_type": "stream",
     "text": [
      "shape: (7, 2)\n",
      "┌─────────────────────┬────────┐\n",
      "│ time                ┆ groups │\n",
      "│ ---                 ┆ ---    │\n",
      "│ datetime[μs]        ┆ str    │\n",
      "╞═════════════════════╪════════╡\n",
      "│ 2021-12-16 00:00:00 ┆ a      │\n",
      "│ 2021-12-16 00:30:00 ┆ a      │\n",
      "│ 2021-12-16 01:00:00 ┆ a      │\n",
      "│ 2021-12-16 01:30:00 ┆ b      │\n",
      "│ 2021-12-16 02:00:00 ┆ b      │\n",
      "│ 2021-12-16 02:30:00 ┆ a      │\n",
      "│ 2021-12-16 03:00:00 ┆ a      │\n",
      "└─────────────────────┴────────┘\n"
     ]
    }
   ],
   "source": [
    "df = pl.DataFrame(\n",
    "    {\n",
    "        \"time\": pl.datetime_range(\n",
    "            start=datetime(2021, 12, 16),\n",
    "            end=datetime(2021, 12, 16, 3),\n",
    "            interval=\"30m\",\n",
    "            eager=True,\n",
    "        ),\n",
    "        \"groups\": [\"a\", \"a\", \"a\", \"b\", \"b\", \"a\", \"a\"],\n",
    "    }\n",
    ")\n",
    "print(df)"
   ]
  },
  {
   "cell_type": "code",
   "execution_count": 77,
   "metadata": {},
   "outputs": [
    {
     "name": "stdout",
     "output_type": "stream",
     "text": [
      "shape: (6, 5)\n",
      "┌────────┬─────────────────────┬─────────────────────┬─────────────────────┬─────┐\n",
      "│ groups ┆ _lower_boundary     ┆ _upper_boundary     ┆ time                ┆ len │\n",
      "│ ---    ┆ ---                 ┆ ---                 ┆ ---                 ┆ --- │\n",
      "│ str    ┆ datetime[μs]        ┆ datetime[μs]        ┆ datetime[μs]        ┆ u32 │\n",
      "╞════════╪═════════════════════╪═════════════════════╪═════════════════════╪═════╡\n",
      "│ a      ┆ 2021-12-16 00:00:00 ┆ 2021-12-16 01:00:00 ┆ 2021-12-16 00:00:00 ┆ 3   │\n",
      "│ a      ┆ 2021-12-16 01:00:00 ┆ 2021-12-16 02:00:00 ┆ 2021-12-16 01:00:00 ┆ 1   │\n",
      "│ a      ┆ 2021-12-16 02:00:00 ┆ 2021-12-16 03:00:00 ┆ 2021-12-16 02:00:00 ┆ 2   │\n",
      "│ a      ┆ 2021-12-16 03:00:00 ┆ 2021-12-16 04:00:00 ┆ 2021-12-16 03:00:00 ┆ 1   │\n",
      "│ b      ┆ 2021-12-16 01:00:00 ┆ 2021-12-16 02:00:00 ┆ 2021-12-16 01:00:00 ┆ 2   │\n",
      "│ b      ┆ 2021-12-16 02:00:00 ┆ 2021-12-16 03:00:00 ┆ 2021-12-16 02:00:00 ┆ 1   │\n",
      "└────────┴─────────────────────┴─────────────────────┴─────────────────────┴─────┘\n"
     ]
    }
   ],
   "source": [
    "out = df.group_by_dynamic(\n",
    "    \"time\",\n",
    "    every=\"1h\",\n",
    "    closed=\"both\",\n",
    "    group_by=\"groups\",\n",
    "    include_boundaries=True,\n",
    ").agg(pl.len())\n",
    "print(out)"
   ]
  },
  {
   "cell_type": "markdown",
   "metadata": {},
   "source": [
    "## Resampling\n",
    "### Downsampling\n",
    "Polars considera el muestreo por reducción (“downsampling”) como un caso especial de la operación group_by, y se puede hacer utilizando group_by_dynamic y group_by_rolling.\n",
    "\n",
    "## Upsampling"
   ]
  },
  {
   "cell_type": "code",
   "execution_count": 78,
   "metadata": {},
   "outputs": [
    {
     "name": "stdout",
     "output_type": "stream",
     "text": [
      "shape: (7, 3)\n",
      "┌─────────────────────┬────────┬────────┐\n",
      "│ time                ┆ groups ┆ values │\n",
      "│ ---                 ┆ ---    ┆ ---    │\n",
      "│ datetime[μs]        ┆ str    ┆ f64    │\n",
      "╞═════════════════════╪════════╪════════╡\n",
      "│ 2021-12-16 00:00:00 ┆ a      ┆ 1.0    │\n",
      "│ 2021-12-16 00:30:00 ┆ a      ┆ 2.0    │\n",
      "│ 2021-12-16 01:00:00 ┆ a      ┆ 3.0    │\n",
      "│ 2021-12-16 01:30:00 ┆ b      ┆ 4.0    │\n",
      "│ 2021-12-16 02:00:00 ┆ b      ┆ 5.0    │\n",
      "│ 2021-12-16 02:30:00 ┆ a      ┆ 6.0    │\n",
      "│ 2021-12-16 03:00:00 ┆ a      ┆ 7.0    │\n",
      "└─────────────────────┴────────┴────────┘\n"
     ]
    }
   ],
   "source": [
    "df = pl.DataFrame(\n",
    "    {\n",
    "        \"time\": pl.datetime_range(\n",
    "            start=datetime(2021, 12, 16),\n",
    "            end=datetime(2021, 12, 16, 3),\n",
    "            interval=\"30m\",\n",
    "            eager=True,\n",
    "        ),\n",
    "        \"groups\": [\"a\", \"a\", \"a\", \"b\", \"b\", \"a\", \"a\"],\n",
    "        \"values\": [1.0, 2.0, 3.0, 4.0, 5.0, 6.0, 7.0],\n",
    "    }\n",
    ")\n",
    "print(df)"
   ]
  },
  {
   "cell_type": "code",
   "execution_count": 79,
   "metadata": {},
   "outputs": [
    {
     "name": "stdout",
     "output_type": "stream",
     "text": [
      "shape: (13, 3)\n",
      "┌─────────────────────┬────────┬────────┐\n",
      "│ time                ┆ groups ┆ values │\n",
      "│ ---                 ┆ ---    ┆ ---    │\n",
      "│ datetime[μs]        ┆ str    ┆ f64    │\n",
      "╞═════════════════════╪════════╪════════╡\n",
      "│ 2021-12-16 00:00:00 ┆ a      ┆ 1.0    │\n",
      "│ 2021-12-16 00:15:00 ┆ a      ┆ 1.0    │\n",
      "│ 2021-12-16 00:30:00 ┆ a      ┆ 2.0    │\n",
      "│ 2021-12-16 00:45:00 ┆ a      ┆ 2.0    │\n",
      "│ 2021-12-16 01:00:00 ┆ a      ┆ 3.0    │\n",
      "│ …                   ┆ …      ┆ …      │\n",
      "│ 2021-12-16 02:00:00 ┆ b      ┆ 5.0    │\n",
      "│ 2021-12-16 02:15:00 ┆ b      ┆ 5.0    │\n",
      "│ 2021-12-16 02:30:00 ┆ a      ┆ 6.0    │\n",
      "│ 2021-12-16 02:45:00 ┆ a      ┆ 6.0    │\n",
      "│ 2021-12-16 03:00:00 ┆ a      ┆ 7.0    │\n",
      "└─────────────────────┴────────┴────────┘\n"
     ]
    }
   ],
   "source": [
    "out1 = df.upsample(time_column=\"time\", every=\"15m\").fill_null(strategy=\"forward\")\n",
    "print(out1)"
   ]
  },
  {
   "cell_type": "code",
   "execution_count": 80,
   "metadata": {},
   "outputs": [
    {
     "name": "stdout",
     "output_type": "stream",
     "text": [
      "shape: (13, 3)\n",
      "┌─────────────────────┬────────┬────────┐\n",
      "│ time                ┆ groups ┆ values │\n",
      "│ ---                 ┆ ---    ┆ ---    │\n",
      "│ datetime[μs]        ┆ str    ┆ f64    │\n",
      "╞═════════════════════╪════════╪════════╡\n",
      "│ 2021-12-16 00:00:00 ┆ a      ┆ 1.0    │\n",
      "│ 2021-12-16 00:15:00 ┆ a      ┆ 1.5    │\n",
      "│ 2021-12-16 00:30:00 ┆ a      ┆ 2.0    │\n",
      "│ 2021-12-16 00:45:00 ┆ a      ┆ 2.5    │\n",
      "│ 2021-12-16 01:00:00 ┆ a      ┆ 3.0    │\n",
      "│ …                   ┆ …      ┆ …      │\n",
      "│ 2021-12-16 02:00:00 ┆ b      ┆ 5.0    │\n",
      "│ 2021-12-16 02:15:00 ┆ b      ┆ 5.5    │\n",
      "│ 2021-12-16 02:30:00 ┆ a      ┆ 6.0    │\n",
      "│ 2021-12-16 02:45:00 ┆ a      ┆ 6.5    │\n",
      "│ 2021-12-16 03:00:00 ┆ a      ┆ 7.0    │\n",
      "└─────────────────────┴────────┴────────┘\n"
     ]
    }
   ],
   "source": [
    "out2 = (\n",
    "    df.upsample(time_column=\"time\", every=\"15m\")\n",
    "    .interpolate()\n",
    "    .fill_null(strategy=\"forward\")\n",
    ")\n",
    "print(out2)"
   ]
  },
  {
   "cell_type": "markdown",
   "metadata": {},
   "source": [
    "### Zona horaria\n",
    "El tipo de dato Datetime puede tener una zona horaria asociada. Ejemplos de zonas horarias válidas son:\n",
    "\n",
    "\t•\tNone: sin zona horaria, también conocida como “naive” o sin conciencia de zona horaria.\n",
    "\t•\tUTC: Tiempo Universal Coordinado.\n",
    "\t•\tAsia/Kathmandu: zona horaria en el formato “área/ubicación”. \n",
    "\n",
    "[Zonas horarias](https://en.wikipedia.org/wiki/List_of_tz_database_time_zones)\n",
    "\n",
    "Debido a que un Datetime solo puede tener una única zona horaria, es imposible tener una columna con múltiples zonas horarias. Si estás analizando datos con múltiples desplazamientos, es posible que desees pasar utc=True para convertirlos todos a una zona horaria común (UTC). Consulta la sección de análisis de fechas y horas para más detalles.\n",
    "\n",
    "Los métodos principales para establecer y convertir entre zonas horarias son:\n",
    "\n",
    "\t•\tdt.convert_time_zone: convierte de una zona horaria a otra.\n",
    "\t•\tdt.replace_time_zone: establece, elimina o cambia la zona horaria."
   ]
  },
  {
   "cell_type": "code",
   "execution_count": 81,
   "metadata": {},
   "outputs": [
    {
     "name": "stdout",
     "output_type": "stream",
     "text": [
      "shape: (2, 2)\n",
      "┌─────────────────────┬─────────────────────────┐\n",
      "│ tz_naive            ┆ tz_aware                │\n",
      "│ ---                 ┆ ---                     │\n",
      "│ datetime[μs]        ┆ datetime[μs, UTC]       │\n",
      "╞═════════════════════╪═════════════════════════╡\n",
      "│ 2021-03-27 03:00:00 ┆ 2021-03-27 03:00:00 UTC │\n",
      "│ 2021-03-28 03:00:00 ┆ 2021-03-28 03:00:00 UTC │\n",
      "└─────────────────────┴─────────────────────────┘\n"
     ]
    }
   ],
   "source": [
    "ts = [\"2021-03-27 03:00\", \"2021-03-28 03:00\"]\n",
    "tz_naive = pl.Series(\"tz_naive\", ts).str.to_datetime()\n",
    "tz_aware = tz_naive.dt.replace_time_zone(\"UTC\").rename(\"tz_aware\")\n",
    "time_zones_df = pl.DataFrame([tz_naive, tz_aware])\n",
    "print(time_zones_df)"
   ]
  },
  {
   "cell_type": "code",
   "execution_count": 82,
   "metadata": {},
   "outputs": [
    {
     "name": "stdout",
     "output_type": "stream",
     "text": [
      "shape: (2, 3)\n",
      "┌───────────────────────────────┬────────────────────────────────┬─────────────────────┐\n",
      "│ replace time zone             ┆ convert time zone              ┆ unset time zone     │\n",
      "│ ---                           ┆ ---                            ┆ ---                 │\n",
      "│ datetime[μs, Europe/Brussels] ┆ datetime[μs, America/Santiago] ┆ datetime[μs]        │\n",
      "╞═══════════════════════════════╪════════════════════════════════╪═════════════════════╡\n",
      "│ 2021-03-27 03:00:00 CET       ┆ 2021-03-27 00:00:00 -03        ┆ 2021-03-27 03:00:00 │\n",
      "│ 2021-03-28 03:00:00 CEST      ┆ 2021-03-28 00:00:00 -03        ┆ 2021-03-28 03:00:00 │\n",
      "└───────────────────────────────┴────────────────────────────────┴─────────────────────┘\n"
     ]
    }
   ],
   "source": [
    "time_zones_operations = time_zones_df.select(\n",
    "    [\n",
    "        pl.col(\"tz_aware\")\n",
    "        .dt.replace_time_zone(\"Europe/Brussels\")\n",
    "        .alias(\"replace time zone\"),\n",
    "        pl.col(\"tz_aware\")\n",
    "        .dt.convert_time_zone(\"America/Santiago\")\n",
    "        .alias(\"convert time zone\"),\n",
    "        pl.col(\"tz_aware\").dt.replace_time_zone(None).alias(\"unset time zone\"),\n",
    "    ]\n",
    ")\n",
    "print(time_zones_operations)"
   ]
  },
  {
   "cell_type": "markdown",
   "metadata": {},
   "source": [
    "# LazyFrames - Lazy"
   ]
  },
  {
   "cell_type": "markdown",
   "metadata": {},
   "source": [
    "Con la API lazy, Polars no ejecuta cada consulta línea por línea, sino que procesa la consulta completa de principio a fin. Para aprovechar al máximo Polars, es importante utilizar la API lazy porque:\n",
    "\n",
    "\t•\tLa API lazy permite que Polars aplique optimización automática de consultas con el optimizador de consultas.\n",
    "\t•\tLa API lazy  permite trabajar con conjuntos de datos más grandes que la memoria utilizando el streaming.\n",
    "\t•\tLa API lazy puede detectar errores de esquema antes de procesar los datos.\n",
    "\n",
    "A continuación, veremos cómo usar la API lazy partiendo de un archivo o un DataFrame existente."
   ]
  },
  {
   "cell_type": "markdown",
   "metadata": {},
   "source": [
    "## Desde archivo"
   ]
  },
  {
   "cell_type": "code",
   "execution_count": 83,
   "metadata": {},
   "outputs": [],
   "source": [
    "archivo = \"data/reddit.csv\"\n",
    "q1 = (\n",
    "    pl.scan_csv(archivo)\n",
    "    .with_columns(pl.col(\"name\").str.to_uppercase())\n",
    "    .filter(pl.col(\"comment_karma\") > 0)\n",
    ")"
   ]
  },
  {
   "cell_type": "code",
   "execution_count": 84,
   "metadata": {},
   "outputs": [
    {
     "data": {
      "text/html": [
       "<h4>NAIVE QUERY PLAN</h4><p>run <b>LazyFrame.show_graph()</b> to see the optimized version</p><?xml version=\"1.0\" encoding=\"UTF-8\" standalone=\"no\"?>\n",
       "<!DOCTYPE svg PUBLIC \"-//W3C//DTD SVG 1.1//EN\"\n",
       " \"http://www.w3.org/Graphics/SVG/1.1/DTD/svg11.dtd\">\n",
       "<!-- Generated by graphviz version 12.1.0 (20240811.2233)\n",
       " -->\n",
       "<!-- Title: polars_query Pages: 1 -->\n",
       "<svg width=\"294pt\" height=\"193pt\"\n",
       " viewBox=\"0.00 0.00 294.00 193.00\" xmlns=\"http://www.w3.org/2000/svg\" xmlns:xlink=\"http://www.w3.org/1999/xlink\">\n",
       "<g id=\"graph0\" class=\"graph\" transform=\"scale(1 1) rotate(0) translate(4 189)\">\n",
       "<title>polars_query</title>\n",
       "<polygon fill=\"white\" stroke=\"none\" points=\"-4,4 -4,-189 290,-189 290,4 -4,4\"/>\n",
       "<!-- p1 -->\n",
       "<g id=\"node1\" class=\"node\">\n",
       "<title>p1</title>\n",
       "<polygon fill=\"none\" stroke=\"black\" points=\"276.62,-185 9.38,-185 9.38,-149 276.62,-149 276.62,-185\"/>\n",
       "<text text-anchor=\"middle\" x=\"143\" y=\"-161.95\" font-family=\"Times,serif\" font-size=\"14.00\">FILTER BY [(col(&quot;comment_karma&quot;)) &gt; (0)]</text>\n",
       "</g>\n",
       "<!-- p2 -->\n",
       "<g id=\"node2\" class=\"node\">\n",
       "<title>p2</title>\n",
       "<polygon fill=\"none\" stroke=\"black\" points=\"286,-113 0,-113 0,-77 286,-77 286,-113\"/>\n",
       "<text text-anchor=\"middle\" x=\"143\" y=\"-89.95\" font-family=\"Times,serif\" font-size=\"14.00\">WITH COLUMNS [col(&quot;name&quot;).str.uppercase()]</text>\n",
       "</g>\n",
       "<!-- p1&#45;&#45;p2 -->\n",
       "<g id=\"edge1\" class=\"edge\">\n",
       "<title>p1&#45;&#45;p2</title>\n",
       "<path fill=\"none\" stroke=\"black\" d=\"M143,-148.7C143,-137.85 143,-123.92 143,-113.1\"/>\n",
       "</g>\n",
       "<!-- p3 -->\n",
       "<g id=\"node3\" class=\"node\">\n",
       "<title>p3</title>\n",
       "<polygon fill=\"none\" stroke=\"black\" points=\"227.5,-41 58.5,-41 58.5,0 227.5,0 227.5,-41\"/>\n",
       "<text text-anchor=\"middle\" x=\"143\" y=\"-23.7\" font-family=\"Times,serif\" font-size=\"14.00\">Csv SCAN [data/reddit.csv]</text>\n",
       "<text text-anchor=\"middle\" x=\"143\" y=\"-7.2\" font-family=\"Times,serif\" font-size=\"14.00\">π */6;</text>\n",
       "</g>\n",
       "<!-- p2&#45;&#45;p3 -->\n",
       "<g id=\"edge2\" class=\"edge\">\n",
       "<title>p2&#45;&#45;p3</title>\n",
       "<path fill=\"none\" stroke=\"black\" d=\"M143,-76.82C143,-66.18 143,-52.49 143,-41.38\"/>\n",
       "</g>\n",
       "</g>\n",
       "</svg>\n"
      ],
      "text/plain": [
       "<LazyFrame at 0x1194B3CE0>"
      ]
     },
     "execution_count": 84,
     "metadata": {},
     "output_type": "execute_result"
    }
   ],
   "source": [
    "q1"
   ]
  },
  {
   "cell_type": "markdown",
   "metadata": {},
   "source": [
    "Una función pl.scan_ existe para diferentes formatos como CSV, IPC, Parquet y JSON. \n",
    "\n",
    "En el ejemplo la query no se ejecuta, sino se planea y aplica optimizaciones (https://docs.pola.rs/user-guide/lazy/optimizations/)."
   ]
  },
  {
   "cell_type": "code",
   "execution_count": 85,
   "metadata": {},
   "outputs": [],
   "source": [
    "q3 = pl.DataFrame({\"foo\": [\"a\", \"b\", \"c\"], \"bar\": [0, 1, 2]}).lazy()"
   ]
  },
  {
   "cell_type": "code",
   "execution_count": 86,
   "metadata": {},
   "outputs": [
    {
     "name": "stdout",
     "output_type": "stream",
     "text": [
      "Schema({'foo': String, 'bar': Int64})\n"
     ]
    }
   ],
   "source": [
    "print(q3.collect_schema())"
   ]
  },
  {
   "cell_type": "code",
   "execution_count": 87,
   "metadata": {},
   "outputs": [],
   "source": [
    "lf = pl.LazyFrame({\"foo\": [\"a\", \"b\", \"c\"], \"bar\": [0, 1, 2]}).with_columns(\n",
    "    pl.col(\"bar\").round(0)\n",
    ")"
   ]
  },
  {
   "cell_type": "code",
   "execution_count": 88,
   "metadata": {},
   "outputs": [
    {
     "data": {
      "text/html": [
       "<h4>NAIVE QUERY PLAN</h4><p>run <b>LazyFrame.show_graph()</b> to see the optimized version</p><?xml version=\"1.0\" encoding=\"UTF-8\" standalone=\"no\"?>\n",
       "<!DOCTYPE svg PUBLIC \"-//W3C//DTD SVG 1.1//EN\"\n",
       " \"http://www.w3.org/Graphics/SVG/1.1/DTD/svg11.dtd\">\n",
       "<!-- Generated by graphviz version 12.1.0 (20240811.2233)\n",
       " -->\n",
       "<!-- Title: polars_query Pages: 1 -->\n",
       "<svg width=\"242pt\" height=\"138pt\"\n",
       " viewBox=\"0.00 0.00 242.25 137.50\" xmlns=\"http://www.w3.org/2000/svg\" xmlns:xlink=\"http://www.w3.org/1999/xlink\">\n",
       "<g id=\"graph0\" class=\"graph\" transform=\"scale(1 1) rotate(0) translate(4 133.5)\">\n",
       "<title>polars_query</title>\n",
       "<polygon fill=\"white\" stroke=\"none\" points=\"-4,4 -4,-133.5 238.25,-133.5 238.25,4 -4,4\"/>\n",
       "<!-- p1 -->\n",
       "<g id=\"node1\" class=\"node\">\n",
       "<title>p1</title>\n",
       "<polygon fill=\"none\" stroke=\"black\" points=\"234.25,-129.5 0,-129.5 0,-93.5 234.25,-93.5 234.25,-129.5\"/>\n",
       "<text text-anchor=\"middle\" x=\"117.12\" y=\"-106.45\" font-family=\"Times,serif\" font-size=\"14.00\">WITH COLUMNS [col(&quot;bar&quot;).round()]</text>\n",
       "</g>\n",
       "<!-- p2 -->\n",
       "<g id=\"node2\" class=\"node\">\n",
       "<title>p2</title>\n",
       "<polygon fill=\"none\" stroke=\"black\" points=\"146.88,-57.5 87.38,-57.5 87.38,0 146.88,0 146.88,-57.5\"/>\n",
       "<text text-anchor=\"middle\" x=\"117.12\" y=\"-40.2\" font-family=\"Times,serif\" font-size=\"14.00\">TABLE</text>\n",
       "<text text-anchor=\"middle\" x=\"117.12\" y=\"-23.7\" font-family=\"Times,serif\" font-size=\"14.00\">π */2;</text>\n",
       "<text text-anchor=\"middle\" x=\"117.12\" y=\"-7.2\" font-family=\"Times,serif\" font-size=\"14.00\">σ None</text>\n",
       "</g>\n",
       "<!-- p1&#45;&#45;p2 -->\n",
       "<g id=\"edge1\" class=\"edge\">\n",
       "<title>p1&#45;&#45;p2</title>\n",
       "<path fill=\"none\" stroke=\"black\" d=\"M117.12,-93.38C117.12,-83.1 117.12,-69.77 117.12,-57.97\"/>\n",
       "</g>\n",
       "</g>\n",
       "</svg>\n"
      ],
      "text/plain": [
       "<LazyFrame at 0x106F943B0>"
      ]
     },
     "execution_count": 88,
     "metadata": {},
     "output_type": "execute_result"
    }
   ],
   "source": [
    "lf"
   ]
  },
  {
   "cell_type": "code",
   "execution_count": 89,
   "metadata": {},
   "outputs": [
    {
     "name": "stdout",
     "output_type": "stream",
     "text": [
      "shape: (3, 2)\n",
      "┌─────┬─────┐\n",
      "│ foo ┆ bar │\n",
      "│ --- ┆ --- │\n",
      "│ str ┆ i64 │\n",
      "╞═════╪═════╡\n",
      "│ a   ┆ 0   │\n",
      "│ b   ┆ 1   │\n",
      "│ c   ┆ 2   │\n",
      "└─────┴─────┘\n"
     ]
    }
   ],
   "source": [
    "try:\n",
    "    print(lf.collect())\n",
    "except Exception as e:\n",
    "    print(e)"
   ]
  },
  {
   "cell_type": "markdown",
   "metadata": {},
   "source": [
    "En la API lazy, el optimizador de consultas de Polars debe ser capaz de inferir el esquema en cada paso de un plan de consulta. Esto significa que las operaciones donde el esquema no es predecible de antemano no pueden utilizarse con la API lazy.\n",
    "\n",
    "El ejemplo clásico de una operación donde el esquema no es predecible es una operación .pivot. En un .pivot, los nuevos nombres de columnas provienen de datos en una de las columnas. Como estos nombres de columnas no se pueden conocer de antemano, una operación .pivot no está disponible en la API lazy."
   ]
  },
  {
   "cell_type": "markdown",
   "metadata": {},
   "source": [
    "## Operaciones que no tienen lazy disponible \n",
    "Si el pipeline incluye una operación que no está disponible en la API lazy, lo mejor es:\n",
    "\n",
    "\t1.\tEjecutar el pipeline en modo lazy hasta ese punto.\n",
    "\t2.\tEjecutar el pipeline con .collect para materializar un DataFrame.\n",
    "\t3.\tRealizar la operación no-lazy en el DataFrame.\n",
    "\t4.\tConvertir la salida nuevamente a un LazyFrame con .lazy y continuar en modo lazy.\n",
    "\n",
    "A continuación, mostramos cómo manejar una operación no-lazy en este ejemplo donde:\n",
    "\n",
    "\t1.\tCreamos un DataFrame simple.\n",
    "\t2.\tLo convertimos a un LazyFrame con .lazy.\n",
    "\t3.\tRealizamos una transformación usando .with_columns.\n",
    "\t4.\tEjecutamos la consulta antes del pivot con .collect para obtener un DataFrame.\n",
    "\t5.\tRealizamos el .pivot en el DataFrame.\n",
    "\t6.\tConvertimos nuevamente al modo lazy.\n",
    "\t7.\tRealizamos un .filter.\n",
    "\t8.\tFinalizamos ejecutando la consulta con .collect para obtener un DataFrame."
   ]
  },
  {
   "cell_type": "code",
   "execution_count": 90,
   "metadata": {},
   "outputs": [
    {
     "name": "stdout",
     "output_type": "stream",
     "text": [
      "shape: (2, 4)\n",
      "┌─────┬──────┬──────┬──────┐\n",
      "│ id  ┆ jan  ┆ feb  ┆ mar  │\n",
      "│ --- ┆ ---  ┆ ---  ┆ ---  │\n",
      "│ str ┆ i64  ┆ i64  ┆ i64  │\n",
      "╞═════╪══════╪══════╪══════╡\n",
      "│ a   ┆ 0    ┆ null ┆ null │\n",
      "│ b   ┆ null ┆ 2    ┆ null │\n",
      "└─────┴──────┴──────┴──────┘\n"
     ]
    }
   ],
   "source": [
    "lazy_eager_query = (\n",
    "    pl.LazyFrame(\n",
    "        {\n",
    "            \"id\": [\"a\", \"b\", \"c\"],\n",
    "            \"month\": [\"jan\", \"feb\", \"mar\"],\n",
    "            \"values\": [0, 1, 2],\n",
    "        }\n",
    "    )\n",
    "    .with_columns((2 * pl.col(\"values\")).alias(\"double_values\"))\n",
    "    .collect()\n",
    "    .pivot(index=\"id\", on=\"month\", values=\"double_values\", aggregate_function=\"first\")\n",
    "    .lazy()\n",
    "    .filter(pl.col(\"mar\").is_null())\n",
    "    .collect()\n",
    ")\n",
    "print(lazy_eager_query)"
   ]
  },
  {
   "cell_type": "markdown",
   "metadata": {},
   "source": [
    "## Plan de query"
   ]
  },
  {
   "cell_type": "code",
   "execution_count": 91,
   "metadata": {},
   "outputs": [],
   "source": [
    "q1 = (\n",
    "    pl.scan_csv(\"data/reddit.csv\")\n",
    "    .with_columns(pl.col(\"name\").str.to_uppercase())\n",
    "    .filter(pl.col(\"comment_karma\") > 0)\n",
    ")"
   ]
  },
  {
   "cell_type": "code",
   "execution_count": 92,
   "metadata": {},
   "outputs": [
    {
     "data": {
      "image/svg+xml": [
       "<svg xmlns=\"http://www.w3.org/2000/svg\" xmlns:xlink=\"http://www.w3.org/1999/xlink\" width=\"294pt\" height=\"193pt\" viewBox=\"0.00 0.00 294.00 193.00\">\n",
       "<g id=\"graph0\" class=\"graph\" transform=\"scale(1 1) rotate(0) translate(4 189)\">\n",
       "<title>polars_query</title>\n",
       "<polygon fill=\"white\" stroke=\"none\" points=\"-4,4 -4,-189 290,-189 290,4 -4,4\"/>\n",
       "<!-- p1 -->\n",
       "<g id=\"node1\" class=\"node\">\n",
       "<title>p1</title>\n",
       "<polygon fill=\"none\" stroke=\"black\" points=\"276.62,-185 9.38,-185 9.38,-149 276.62,-149 276.62,-185\"/>\n",
       "<text text-anchor=\"middle\" x=\"143\" y=\"-161.95\" font-family=\"Times,serif\" font-size=\"14.00\">FILTER BY [(col(&quot;comment_karma&quot;)) &gt; (0)]</text>\n",
       "</g>\n",
       "<!-- p2 -->\n",
       "<g id=\"node2\" class=\"node\">\n",
       "<title>p2</title>\n",
       "<polygon fill=\"none\" stroke=\"black\" points=\"286,-113 0,-113 0,-77 286,-77 286,-113\"/>\n",
       "<text text-anchor=\"middle\" x=\"143\" y=\"-89.95\" font-family=\"Times,serif\" font-size=\"14.00\">WITH COLUMNS [col(&quot;name&quot;).str.uppercase()]</text>\n",
       "</g>\n",
       "<!-- p1&#45;&#45;p2 -->\n",
       "<g id=\"edge1\" class=\"edge\">\n",
       "<title>p1--p2</title>\n",
       "<path fill=\"none\" stroke=\"black\" d=\"M143,-148.7C143,-137.85 143,-123.92 143,-113.1\"/>\n",
       "</g>\n",
       "<!-- p3 -->\n",
       "<g id=\"node3\" class=\"node\">\n",
       "<title>p3</title>\n",
       "<polygon fill=\"none\" stroke=\"black\" points=\"227.5,-41 58.5,-41 58.5,0 227.5,0 227.5,-41\"/>\n",
       "<text text-anchor=\"middle\" x=\"143\" y=\"-23.7\" font-family=\"Times,serif\" font-size=\"14.00\">Csv SCAN [data/reddit.csv]</text>\n",
       "<text text-anchor=\"middle\" x=\"143\" y=\"-7.2\" font-family=\"Times,serif\" font-size=\"14.00\">π */6;</text>\n",
       "</g>\n",
       "<!-- p2&#45;&#45;p3 -->\n",
       "<g id=\"edge2\" class=\"edge\">\n",
       "<title>p2--p3</title>\n",
       "<path fill=\"none\" stroke=\"black\" d=\"M143,-76.82C143,-66.18 143,-52.49 143,-41.38\"/>\n",
       "</g>\n",
       "</g>\n",
       "</svg>"
      ],
      "text/plain": [
       "<IPython.core.display.SVG object>"
      ]
     },
     "metadata": {},
     "output_type": "display_data"
    }
   ],
   "source": [
    "q1.show_graph(optimized=False)"
   ]
  },
  {
   "cell_type": "code",
   "execution_count": 93,
   "metadata": {},
   "outputs": [
    {
     "data": {
      "image/svg+xml": [
       "<svg xmlns=\"http://www.w3.org/2000/svg\" xmlns:xlink=\"http://www.w3.org/1999/xlink\" width=\"294pt\" height=\"138pt\" viewBox=\"0.00 0.00 294.00 137.50\">\n",
       "<g id=\"graph0\" class=\"graph\" transform=\"scale(1 1) rotate(0) translate(4 133.5)\">\n",
       "<title>polars_query</title>\n",
       "<polygon fill=\"white\" stroke=\"none\" points=\"-4,4 -4,-133.5 290,-133.5 290,4 -4,4\"/>\n",
       "<!-- p1 -->\n",
       "<g id=\"node1\" class=\"node\">\n",
       "<title>p1</title>\n",
       "<polygon fill=\"none\" stroke=\"black\" points=\"286,-129.5 0,-129.5 0,-93.5 286,-93.5 286,-129.5\"/>\n",
       "<text text-anchor=\"middle\" x=\"143\" y=\"-106.45\" font-family=\"Times,serif\" font-size=\"14.00\">WITH COLUMNS [col(&quot;name&quot;).str.uppercase()]</text>\n",
       "</g>\n",
       "<!-- p2 -->\n",
       "<g id=\"node2\" class=\"node\">\n",
       "<title>p2</title>\n",
       "<polygon fill=\"none\" stroke=\"black\" points=\"246.62,-57.5 39.37,-57.5 39.37,0 246.62,0 246.62,-57.5\"/>\n",
       "<text text-anchor=\"middle\" x=\"143\" y=\"-40.2\" font-family=\"Times,serif\" font-size=\"14.00\">Csv SCAN [data/reddit.csv]</text>\n",
       "<text text-anchor=\"middle\" x=\"143\" y=\"-23.7\" font-family=\"Times,serif\" font-size=\"14.00\">π */6;</text>\n",
       "<text text-anchor=\"middle\" x=\"143\" y=\"-7.2\" font-family=\"Times,serif\" font-size=\"14.00\">σ [(col(&quot;comment_karma&quot;)) &gt; (0)]</text>\n",
       "</g>\n",
       "<!-- p1&#45;&#45;p2 -->\n",
       "<g id=\"edge1\" class=\"edge\">\n",
       "<title>p1--p2</title>\n",
       "<path fill=\"none\" stroke=\"black\" d=\"M143,-93.38C143,-83.1 143,-69.77 143,-57.97\"/>\n",
       "</g>\n",
       "</g>\n",
       "</svg>"
      ],
      "text/plain": [
       "<IPython.core.display.SVG object>"
      ]
     },
     "metadata": {},
     "output_type": "display_data"
    }
   ],
   "source": [
    "q1.show_graph(optimized=True)"
   ]
  },
  {
   "cell_type": "code",
   "execution_count": 94,
   "metadata": {},
   "outputs": [
    {
     "data": {
      "text/plain": [
       "'FILTER [(col(\"comment_karma\")) > (0)] FROM\\n   WITH_COLUMNS:\\n   [col(\"name\").str.uppercase()] \\n    Csv SCAN [data/reddit.csv]\\n    PROJECT */6 COLUMNS'"
      ]
     },
     "execution_count": 94,
     "metadata": {},
     "output_type": "execute_result"
    }
   ],
   "source": [
    "q1.explain(optimized=False)"
   ]
  },
  {
   "cell_type": "markdown",
   "metadata": {},
   "source": [
    "## Ejecución de query\n",
    "Si ejecutáramos el código siguiente en el archivo CSV de Reddit, la consulta no se evaluaría de inmediato. En lugar de eso, Polars toma cada línea de código, la agrega al grafo de consulta interno y optimiza dicho grafo.\n",
    "\n",
    "Cuando ejecutamos el código, Polars ejecuta el grafo de consulta optimizado de manera predeterminada."
   ]
  },
  {
   "cell_type": "code",
   "execution_count": 95,
   "metadata": {},
   "outputs": [],
   "source": [
    "q1 = (\n",
    "    pl.scan_csv(\"data/reddit.csv\")\n",
    "    .with_columns(pl.col(\"name\").str.to_uppercase())\n",
    "    .filter(pl.col(\"comment_karma\") > 0)\n",
    ")"
   ]
  },
  {
   "cell_type": "markdown",
   "metadata": {},
   "source": [
    "### Ejecución en todo el dataset\n",
    "Podemos ejecutar nuestra consulta en el conjunto de datos completo llamando al método .collect en la consulta."
   ]
  },
  {
   "cell_type": "code",
   "execution_count": 96,
   "metadata": {},
   "outputs": [],
   "source": [
    "q4 = (\n",
    "    pl.scan_csv(f\"data/reddit.csv\")\n",
    "    .with_columns(pl.col(\"name\").str.to_uppercase())\n",
    "    .filter(pl.col(\"comment_karma\") > 0)\n",
    "    .collect()\n",
    ")"
   ]
  },
  {
   "cell_type": "code",
   "execution_count": 97,
   "metadata": {},
   "outputs": [
    {
     "data": {
      "text/html": [
       "<div><style>\n",
       ".dataframe > thead > tr,\n",
       ".dataframe > tbody > tr {\n",
       "  text-align: right;\n",
       "  white-space: pre-wrap;\n",
       "}\n",
       "</style>\n",
       "<small>shape: (27, 6)</small><table border=\"1\" class=\"dataframe\"><thead><tr><th>id</th><th>name</th><th>created_utc</th><th>updated_on</th><th>comment_karma</th><th>link_karma</th></tr><tr><td>i64</td><td>str</td><td>i64</td><td>i64</td><td>i64</td><td>i64</td></tr></thead><tbody><tr><td>6</td><td>&quot;TAOJIANLONG_JASONBROKEN&quot;</td><td>1397113510</td><td>1536527864</td><td>4</td><td>0</td></tr><tr><td>17</td><td>&quot;SSAIG_JASONBROKEN&quot;</td><td>1397113544</td><td>1536527864</td><td>1</td><td>0</td></tr><tr><td>19</td><td>&quot;FDBVFDSSDGFDS_JASONBROKEN&quot;</td><td>1397113552</td><td>1536527864</td><td>3</td><td>0</td></tr><tr><td>37</td><td>&quot;IHATEWHOWEARE_JASONBROKEN&quot;</td><td>1397113636</td><td>1536527864</td><td>61</td><td>0</td></tr><tr><td>77714</td><td>&quot;HOCKEYSCHTICK&quot;</td><td>1137474000</td><td>1536497404</td><td>11104</td><td>451</td></tr><tr><td>&hellip;</td><td>&hellip;</td><td>&hellip;</td><td>&hellip;</td><td>&hellip;</td><td>&hellip;</td></tr><tr><td>77762</td><td>&quot;COOLIN86&quot;</td><td>1138303196</td><td>1536528275</td><td>40</td><td>7</td></tr><tr><td>77763</td><td>&quot;LUNCHY&quot;</td><td>1137599510</td><td>1536528275</td><td>65</td><td>0</td></tr><tr><td>77765</td><td>&quot;COMPOSTELLAS&quot;</td><td>1137474000</td><td>1536528276</td><td>6</td><td>0</td></tr><tr><td>77766</td><td>&quot;GENERICBOB&quot;</td><td>1137474000</td><td>1536528276</td><td>291</td><td>14</td></tr><tr><td>77768</td><td>&quot;TINHEADNED&quot;</td><td>1139665457</td><td>1536497404</td><td>4434</td><td>103</td></tr></tbody></table></div>"
      ],
      "text/plain": [
       "shape: (27, 6)\n",
       "┌───────┬───────────────────────────┬─────────────┬────────────┬───────────────┬────────────┐\n",
       "│ id    ┆ name                      ┆ created_utc ┆ updated_on ┆ comment_karma ┆ link_karma │\n",
       "│ ---   ┆ ---                       ┆ ---         ┆ ---        ┆ ---           ┆ ---        │\n",
       "│ i64   ┆ str                       ┆ i64         ┆ i64        ┆ i64           ┆ i64        │\n",
       "╞═══════╪═══════════════════════════╪═════════════╪════════════╪═══════════════╪════════════╡\n",
       "│ 6     ┆ TAOJIANLONG_JASONBROKEN   ┆ 1397113510  ┆ 1536527864 ┆ 4             ┆ 0          │\n",
       "│ 17    ┆ SSAIG_JASONBROKEN         ┆ 1397113544  ┆ 1536527864 ┆ 1             ┆ 0          │\n",
       "│ 19    ┆ FDBVFDSSDGFDS_JASONBROKEN ┆ 1397113552  ┆ 1536527864 ┆ 3             ┆ 0          │\n",
       "│ 37    ┆ IHATEWHOWEARE_JASONBROKEN ┆ 1397113636  ┆ 1536527864 ┆ 61            ┆ 0          │\n",
       "│ 77714 ┆ HOCKEYSCHTICK             ┆ 1137474000  ┆ 1536497404 ┆ 11104         ┆ 451        │\n",
       "│ …     ┆ …                         ┆ …           ┆ …          ┆ …             ┆ …          │\n",
       "│ 77762 ┆ COOLIN86                  ┆ 1138303196  ┆ 1536528275 ┆ 40            ┆ 7          │\n",
       "│ 77763 ┆ LUNCHY                    ┆ 1137599510  ┆ 1536528275 ┆ 65            ┆ 0          │\n",
       "│ 77765 ┆ COMPOSTELLAS              ┆ 1137474000  ┆ 1536528276 ┆ 6             ┆ 0          │\n",
       "│ 77766 ┆ GENERICBOB                ┆ 1137474000  ┆ 1536528276 ┆ 291           ┆ 14         │\n",
       "│ 77768 ┆ TINHEADNED                ┆ 1139665457  ┆ 1536497404 ┆ 4434          ┆ 103        │\n",
       "└───────┴───────────────────────────┴─────────────┴────────────┴───────────────┴────────────┘"
      ]
     },
     "execution_count": 97,
     "metadata": {},
     "output_type": "execute_result"
    }
   ],
   "source": [
    "q4"
   ]
  },
  {
   "cell_type": "markdown",
   "metadata": {},
   "source": [
    "Con el método predeterminado .collect, Polars procesa todos tus datos como un solo lote. Esto significa que todos los datos deben caber en la memoria disponible en el punto de mayor uso de memoria durante la consulta.\n",
    "\n",
    "Si tus datos requieren más memoria de la que tienes disponible, Polars puede procesar los datos en lotes utilizando el modo de streaming. Para usar el modo de streaming, simplemente debes pasar el argumento streaming=True al método .collect."
   ]
  },
  {
   "cell_type": "markdown",
   "metadata": {},
   "source": [
    "### Ejecución en datos parciales\n",
    "Mientras escribes, optimizas o verificas tu consulta en un conjunto de datos grande, consultar todos los datos disponibles puede llevar a un proceso de desarrollo lento.\n",
    "\n",
    "En su lugar, puedes ejecutar la consulta con el método .fetch. El método .fetch toma un parámetro n_rows e intenta “obtener” esa cantidad de filas de la fuente de datos. Sin embargo, el número de filas no puede garantizarse, ya que la API lazy no cuenta cuántas filas hay en cada etapa de la consulta.\n"
   ]
  },
  {
   "cell_type": "code",
   "execution_count": 98,
   "metadata": {},
   "outputs": [
    {
     "name": "stderr",
     "output_type": "stream",
     "text": [
      "/var/folders/tx/knx9c43n5fd4_nn752k9dxs00000gn/T/ipykernel_1961/595868360.py:5: DeprecationWarning: `LazyFrame.fetch` is deprecated. `LazyFrame.fetch` is deprecated; use `LazyFrame.collect` instead, in conjunction with a call to `head`.\n",
      "  .fetch(n_rows=int(100))\n"
     ]
    },
    {
     "data": {
      "text/html": [
       "<div><style>\n",
       ".dataframe > thead > tr,\n",
       ".dataframe > tbody > tr {\n",
       "  text-align: right;\n",
       "  white-space: pre-wrap;\n",
       "}\n",
       "</style>\n",
       "<small>shape: (27, 6)</small><table border=\"1\" class=\"dataframe\"><thead><tr><th>id</th><th>name</th><th>created_utc</th><th>updated_on</th><th>comment_karma</th><th>link_karma</th></tr><tr><td>i64</td><td>str</td><td>i64</td><td>i64</td><td>i64</td><td>i64</td></tr></thead><tbody><tr><td>6</td><td>&quot;TAOJIANLONG_JASONBROKEN&quot;</td><td>1397113510</td><td>1536527864</td><td>4</td><td>0</td></tr><tr><td>17</td><td>&quot;SSAIG_JASONBROKEN&quot;</td><td>1397113544</td><td>1536527864</td><td>1</td><td>0</td></tr><tr><td>19</td><td>&quot;FDBVFDSSDGFDS_JASONBROKEN&quot;</td><td>1397113552</td><td>1536527864</td><td>3</td><td>0</td></tr><tr><td>37</td><td>&quot;IHATEWHOWEARE_JASONBROKEN&quot;</td><td>1397113636</td><td>1536527864</td><td>61</td><td>0</td></tr><tr><td>77714</td><td>&quot;HOCKEYSCHTICK&quot;</td><td>1137474000</td><td>1536497404</td><td>11104</td><td>451</td></tr><tr><td>&hellip;</td><td>&hellip;</td><td>&hellip;</td><td>&hellip;</td><td>&hellip;</td><td>&hellip;</td></tr><tr><td>77762</td><td>&quot;COOLIN86&quot;</td><td>1138303196</td><td>1536528275</td><td>40</td><td>7</td></tr><tr><td>77763</td><td>&quot;LUNCHY&quot;</td><td>1137599510</td><td>1536528275</td><td>65</td><td>0</td></tr><tr><td>77765</td><td>&quot;COMPOSTELLAS&quot;</td><td>1137474000</td><td>1536528276</td><td>6</td><td>0</td></tr><tr><td>77766</td><td>&quot;GENERICBOB&quot;</td><td>1137474000</td><td>1536528276</td><td>291</td><td>14</td></tr><tr><td>77768</td><td>&quot;TINHEADNED&quot;</td><td>1139665457</td><td>1536497404</td><td>4434</td><td>103</td></tr></tbody></table></div>"
      ],
      "text/plain": [
       "shape: (27, 6)\n",
       "┌───────┬───────────────────────────┬─────────────┬────────────┬───────────────┬────────────┐\n",
       "│ id    ┆ name                      ┆ created_utc ┆ updated_on ┆ comment_karma ┆ link_karma │\n",
       "│ ---   ┆ ---                       ┆ ---         ┆ ---        ┆ ---           ┆ ---        │\n",
       "│ i64   ┆ str                       ┆ i64         ┆ i64        ┆ i64           ┆ i64        │\n",
       "╞═══════╪═══════════════════════════╪═════════════╪════════════╪═══════════════╪════════════╡\n",
       "│ 6     ┆ TAOJIANLONG_JASONBROKEN   ┆ 1397113510  ┆ 1536527864 ┆ 4             ┆ 0          │\n",
       "│ 17    ┆ SSAIG_JASONBROKEN         ┆ 1397113544  ┆ 1536527864 ┆ 1             ┆ 0          │\n",
       "│ 19    ┆ FDBVFDSSDGFDS_JASONBROKEN ┆ 1397113552  ┆ 1536527864 ┆ 3             ┆ 0          │\n",
       "│ 37    ┆ IHATEWHOWEARE_JASONBROKEN ┆ 1397113636  ┆ 1536527864 ┆ 61            ┆ 0          │\n",
       "│ 77714 ┆ HOCKEYSCHTICK             ┆ 1137474000  ┆ 1536497404 ┆ 11104         ┆ 451        │\n",
       "│ …     ┆ …                         ┆ …           ┆ …          ┆ …             ┆ …          │\n",
       "│ 77762 ┆ COOLIN86                  ┆ 1138303196  ┆ 1536528275 ┆ 40            ┆ 7          │\n",
       "│ 77763 ┆ LUNCHY                    ┆ 1137599510  ┆ 1536528275 ┆ 65            ┆ 0          │\n",
       "│ 77765 ┆ COMPOSTELLAS              ┆ 1137474000  ┆ 1536528276 ┆ 6             ┆ 0          │\n",
       "│ 77766 ┆ GENERICBOB                ┆ 1137474000  ┆ 1536528276 ┆ 291           ┆ 14         │\n",
       "│ 77768 ┆ TINHEADNED                ┆ 1139665457  ┆ 1536497404 ┆ 4434          ┆ 103        │\n",
       "└───────┴───────────────────────────┴─────────────┴────────────┴───────────────┴────────────┘"
      ]
     },
     "execution_count": 98,
     "metadata": {},
     "output_type": "execute_result"
    }
   ],
   "source": [
    "q9 = (\n",
    "    pl.scan_csv(f\"data/reddit.csv\")\n",
    "    .with_columns(pl.col(\"name\").str.to_uppercase())\n",
    "    .filter(pl.col(\"comment_karma\") > 0)\n",
    "    .fetch(n_rows=int(100))\n",
    ")\n",
    "q9"
   ]
  },
  {
   "cell_type": "code",
   "execution_count": 99,
   "metadata": {},
   "outputs": [
    {
     "data": {
      "text/html": [
       "<div><style>\n",
       ".dataframe > thead > tr,\n",
       ".dataframe > tbody > tr {\n",
       "  text-align: right;\n",
       "  white-space: pre-wrap;\n",
       "}\n",
       "</style>\n",
       "<small>shape: (27, 6)</small><table border=\"1\" class=\"dataframe\"><thead><tr><th>id</th><th>name</th><th>created_utc</th><th>updated_on</th><th>comment_karma</th><th>link_karma</th></tr><tr><td>i64</td><td>str</td><td>i64</td><td>i64</td><td>i64</td><td>i64</td></tr></thead><tbody><tr><td>6</td><td>&quot;TAOJIANLONG_JASONBROKEN&quot;</td><td>1397113510</td><td>1536527864</td><td>4</td><td>0</td></tr><tr><td>17</td><td>&quot;SSAIG_JASONBROKEN&quot;</td><td>1397113544</td><td>1536527864</td><td>1</td><td>0</td></tr><tr><td>19</td><td>&quot;FDBVFDSSDGFDS_JASONBROKEN&quot;</td><td>1397113552</td><td>1536527864</td><td>3</td><td>0</td></tr><tr><td>37</td><td>&quot;IHATEWHOWEARE_JASONBROKEN&quot;</td><td>1397113636</td><td>1536527864</td><td>61</td><td>0</td></tr><tr><td>77714</td><td>&quot;HOCKEYSCHTICK&quot;</td><td>1137474000</td><td>1536497404</td><td>11104</td><td>451</td></tr><tr><td>&hellip;</td><td>&hellip;</td><td>&hellip;</td><td>&hellip;</td><td>&hellip;</td><td>&hellip;</td></tr><tr><td>77762</td><td>&quot;COOLIN86&quot;</td><td>1138303196</td><td>1536528275</td><td>40</td><td>7</td></tr><tr><td>77763</td><td>&quot;LUNCHY&quot;</td><td>1137599510</td><td>1536528275</td><td>65</td><td>0</td></tr><tr><td>77765</td><td>&quot;COMPOSTELLAS&quot;</td><td>1137474000</td><td>1536528276</td><td>6</td><td>0</td></tr><tr><td>77766</td><td>&quot;GENERICBOB&quot;</td><td>1137474000</td><td>1536528276</td><td>291</td><td>14</td></tr><tr><td>77768</td><td>&quot;TINHEADNED&quot;</td><td>1139665457</td><td>1536497404</td><td>4434</td><td>103</td></tr></tbody></table></div>"
      ],
      "text/plain": [
       "shape: (27, 6)\n",
       "┌───────┬───────────────────────────┬─────────────┬────────────┬───────────────┬────────────┐\n",
       "│ id    ┆ name                      ┆ created_utc ┆ updated_on ┆ comment_karma ┆ link_karma │\n",
       "│ ---   ┆ ---                       ┆ ---         ┆ ---        ┆ ---           ┆ ---        │\n",
       "│ i64   ┆ str                       ┆ i64         ┆ i64        ┆ i64           ┆ i64        │\n",
       "╞═══════╪═══════════════════════════╪═════════════╪════════════╪═══════════════╪════════════╡\n",
       "│ 6     ┆ TAOJIANLONG_JASONBROKEN   ┆ 1397113510  ┆ 1536527864 ┆ 4             ┆ 0          │\n",
       "│ 17    ┆ SSAIG_JASONBROKEN         ┆ 1397113544  ┆ 1536527864 ┆ 1             ┆ 0          │\n",
       "│ 19    ┆ FDBVFDSSDGFDS_JASONBROKEN ┆ 1397113552  ┆ 1536527864 ┆ 3             ┆ 0          │\n",
       "│ 37    ┆ IHATEWHOWEARE_JASONBROKEN ┆ 1397113636  ┆ 1536527864 ┆ 61            ┆ 0          │\n",
       "│ 77714 ┆ HOCKEYSCHTICK             ┆ 1137474000  ┆ 1536497404 ┆ 11104         ┆ 451        │\n",
       "│ …     ┆ …                         ┆ …           ┆ …          ┆ …             ┆ …          │\n",
       "│ 77762 ┆ COOLIN86                  ┆ 1138303196  ┆ 1536528275 ┆ 40            ┆ 7          │\n",
       "│ 77763 ┆ LUNCHY                    ┆ 1137599510  ┆ 1536528275 ┆ 65            ┆ 0          │\n",
       "│ 77765 ┆ COMPOSTELLAS              ┆ 1137474000  ┆ 1536528276 ┆ 6             ┆ 0          │\n",
       "│ 77766 ┆ GENERICBOB                ┆ 1137474000  ┆ 1536528276 ┆ 291           ┆ 14         │\n",
       "│ 77768 ┆ TINHEADNED                ┆ 1139665457  ┆ 1536497404 ┆ 4434          ┆ 103        │\n",
       "└───────┴───────────────────────────┴─────────────┴────────────┴───────────────┴────────────┘"
      ]
     },
     "execution_count": 99,
     "metadata": {},
     "output_type": "execute_result"
    }
   ],
   "source": [
    "q9_2 = (\n",
    "    pl.scan_csv(f\"data/reddit.csv\")\n",
    "    .with_columns(pl.col(\"name\").str.to_uppercase())\n",
    "    .filter(pl.col(\"comment_karma\") > 0)\n",
    "    .collect()\n",
    "    .head(100)\n",
    ")\n",
    "q9_2"
   ]
  },
  {
   "cell_type": "markdown",
   "metadata": {},
   "source": [
    "# IO\n",
    "## csv"
   ]
  },
  {
   "cell_type": "code",
   "execution_count": 100,
   "metadata": {},
   "outputs": [],
   "source": [
    "df = pl.read_csv(\"data/reddit.csv\")"
   ]
  },
  {
   "cell_type": "code",
   "execution_count": 101,
   "metadata": {},
   "outputs": [],
   "source": [
    "df = pl.DataFrame({\"foo\": [1, 2, 3], \"bar\": [None, \"bak\", \"baz\"]})\n",
    "df.write_csv(\"data/ejemplo.csv\")"
   ]
  },
  {
   "cell_type": "code",
   "execution_count": 102,
   "metadata": {},
   "outputs": [],
   "source": [
    "df = pl.scan_csv(\"data/reddit.csv\")"
   ]
  },
  {
   "cell_type": "markdown",
   "metadata": {},
   "source": [
    "## Excel\n",
    "Polars no tiene un lector nativo de archivos excel, los motores disponibles son:\n",
    "* [xlsx2csv](https://github.com/dilshod/xlsx2csv): Este es el valor predeterminado actual.\n",
    "* [openpyxl](https://openpyxl.readthedocs.io/en/stable/): Generalmente más lento que xls2csv, pero puede ofrecer más flexibilidad para archivos que son difíciles de analizar.\n",
    "* [fastexcel](https://pypi.org/project/fastexcel/): Este lector está basado en [calamine](https://docs.rs/calamine/latest/calamine/) y suele ser el lector más rápido, pero tiene menos características que xls2csv.\n",
    "\n",
    "Aunque fastexcel no es el valor predeterminado en este momento, se recomienda intentar usar fastexcel primero y recurrir a xlsx2csv o openpyxl si encuentras problemas.\n",
    "\n",
    "Para utilizar uno de estos motores, el paquete de Python correspondiente debe estar instalado como una dependencia adicional."
   ]
  },
  {
   "cell_type": "code",
   "execution_count": 103,
   "metadata": {},
   "outputs": [],
   "source": [
    "archivo_excel = \"data/ejemplo.xlsx\"\n",
    "df = pl.read_excel(archivo_excel) #esto creo que es con fastexcel (calamine) ahora y no xlsx2csv"
   ]
  },
  {
   "cell_type": "code",
   "execution_count": 104,
   "metadata": {},
   "outputs": [
    {
     "name": "stdout",
     "output_type": "stream",
     "text": [
      "257 ms ± 4.04 ms per loop (mean ± std. dev. of 7 runs, 1 loop each)\n"
     ]
    }
   ],
   "source": [
    "%timeit pl.read_excel(archivo_excel)"
   ]
  },
  {
   "cell_type": "code",
   "execution_count": 105,
   "metadata": {},
   "outputs": [
    {
     "name": "stdout",
     "output_type": "stream",
     "text": [
      "2.3 s ± 118 ms per loop (mean ± std. dev. of 7 runs, 1 loop each)\n"
     ]
    }
   ],
   "source": [
    "%timeit pl.read_excel(archivo_excel, engine=\"xlsx2csv\")"
   ]
  },
  {
   "cell_type": "code",
   "execution_count": 106,
   "metadata": {},
   "outputs": [
    {
     "name": "stdout",
     "output_type": "stream",
     "text": [
      "3.35 s ± 157 ms per loop (mean ± std. dev. of 7 runs, 1 loop each)\n"
     ]
    }
   ],
   "source": [
    "%timeit pl.read_excel(archivo_excel, engine=\"openpyxl\")"
   ]
  },
  {
   "cell_type": "code",
   "execution_count": 107,
   "metadata": {},
   "outputs": [
    {
     "name": "stdout",
     "output_type": "stream",
     "text": [
      "253 ms ± 4.24 ms per loop (mean ± std. dev. of 7 runs, 1 loop each)\n"
     ]
    }
   ],
   "source": [
    "%timeit pl.read_excel(archivo_excel, engine=\"calamine\")"
   ]
  },
  {
   "cell_type": "code",
   "execution_count": 108,
   "metadata": {},
   "outputs": [
    {
     "data": {
      "text/html": [
       "<div><style>\n",
       ".dataframe > thead > tr,\n",
       ".dataframe > tbody > tr {\n",
       "  text-align: right;\n",
       "  white-space: pre-wrap;\n",
       "}\n",
       "</style>\n",
       "<small>shape: (144_384, 3)</small><table border=\"1\" class=\"dataframe\"><thead><tr><th>ID</th><th>FECHA</th><th>Resultado</th></tr><tr><td>i64</td><td>date</td><td>i64</td></tr></thead><tbody><tr><td>220918</td><td>2007-10-14</td><td>45756347</td></tr><tr><td>8006374</td><td>1999-04-09</td><td>41813113</td></tr><tr><td>2569010</td><td>1990-08-25</td><td>-26451348</td></tr><tr><td>263755</td><td>1993-04-25</td><td>11464181</td></tr><tr><td>3161483</td><td>2019-09-28</td><td>-29730597</td></tr><tr><td>&hellip;</td><td>&hellip;</td><td>&hellip;</td></tr><tr><td>2845943</td><td>1997-09-17</td><td>-48793896</td></tr><tr><td>4792999</td><td>1991-01-08</td><td>74785351</td></tr><tr><td>9530846</td><td>2001-06-23</td><td>80838619</td></tr><tr><td>8977863</td><td>1992-05-04</td><td>9668436</td></tr><tr><td>316294</td><td>2021-06-09</td><td>-62274799</td></tr></tbody></table></div>"
      ],
      "text/plain": [
       "shape: (144_384, 3)\n",
       "┌─────────┬────────────┬───────────┐\n",
       "│ ID      ┆ FECHA      ┆ Resultado │\n",
       "│ ---     ┆ ---        ┆ ---       │\n",
       "│ i64     ┆ date       ┆ i64       │\n",
       "╞═════════╪════════════╪═══════════╡\n",
       "│ 220918  ┆ 2007-10-14 ┆ 45756347  │\n",
       "│ 8006374 ┆ 1999-04-09 ┆ 41813113  │\n",
       "│ 2569010 ┆ 1990-08-25 ┆ -26451348 │\n",
       "│ 263755  ┆ 1993-04-25 ┆ 11464181  │\n",
       "│ 3161483 ┆ 2019-09-28 ┆ -29730597 │\n",
       "│ …       ┆ …          ┆ …         │\n",
       "│ 2845943 ┆ 1997-09-17 ┆ -48793896 │\n",
       "│ 4792999 ┆ 1991-01-08 ┆ 74785351  │\n",
       "│ 9530846 ┆ 2001-06-23 ┆ 80838619  │\n",
       "│ 8977863 ┆ 1992-05-04 ┆ 9668436   │\n",
       "│ 316294  ┆ 2021-06-09 ┆ -62274799 │\n",
       "└─────────┴────────────┴───────────┘"
      ]
     },
     "execution_count": 108,
     "metadata": {},
     "output_type": "execute_result"
    }
   ],
   "source": [
    "df"
   ]
  },
  {
   "cell_type": "markdown",
   "metadata": {},
   "source": [
    "Para escribir excel se usa xlsxwriter"
   ]
  },
  {
   "cell_type": "code",
   "execution_count": 109,
   "metadata": {},
   "outputs": [
    {
     "data": {
      "text/plain": [
       "<xlsxwriter.workbook.Workbook at 0x11f0aed80>"
      ]
     },
     "execution_count": 109,
     "metadata": {},
     "output_type": "execute_result"
    }
   ],
   "source": [
    "df = pl.DataFrame({\"foo\": [1, 2, 3], \"bar\": [None, \"bak\", \"baz\"]})\n",
    "df.write_excel(\"data/salida.xlsx\")"
   ]
  },
  {
   "cell_type": "code",
   "execution_count": 110,
   "metadata": {},
   "outputs": [
    {
     "data": {
      "text/plain": [
       "<xlsxwriter.workbook.Workbook at 0x14caeb650>"
      ]
     },
     "execution_count": 110,
     "metadata": {},
     "output_type": "execute_result"
    }
   ],
   "source": [
    "df.write_excel(\"data/salida2.xlsx\")"
   ]
  },
  {
   "cell_type": "markdown",
   "metadata": {},
   "source": [
    "## Parquet\n",
    "Cargar o escribir archivos Parquet es extremadamente rápido, ya que la disposición de los datos en un DataFrame de Polars en memoria refleja la disposición de un archivo Parquet en el disco en muchos aspectos.\n",
    "\n",
    "A diferencia de CSV, Parquet es un formato columnar. Esto significa que los datos se almacenan en columnas en lugar de filas. Esta forma de almacenamiento es más eficiente, ya que permite una mejor compresión y un acceso más rápido a los datos"
   ]
  },
  {
   "cell_type": "code",
   "execution_count": 111,
   "metadata": {},
   "outputs": [],
   "source": [
    "df = pl.read_parquet(\"data/flights.parquet\")"
   ]
  },
  {
   "cell_type": "code",
   "execution_count": 112,
   "metadata": {},
   "outputs": [
    {
     "data": {
      "text/html": [
       "<div><style>\n",
       ".dataframe > thead > tr,\n",
       ".dataframe > tbody > tr {\n",
       "  text-align: right;\n",
       "  white-space: pre-wrap;\n",
       "}\n",
       "</style>\n",
       "<small>shape: (5, 7)</small><table border=\"1\" class=\"dataframe\"><thead><tr><th>FL_DATE</th><th>DEP_DELAY</th><th>ARR_DELAY</th><th>AIR_TIME</th><th>DISTANCE</th><th>DEP_TIME</th><th>ARR_TIME</th></tr><tr><td>date</td><td>i16</td><td>i16</td><td>i16</td><td>i16</td><td>f32</td><td>f32</td></tr></thead><tbody><tr><td>2006-01-01</td><td>5</td><td>19</td><td>350</td><td>2475</td><td>9.083333</td><td>12.483334</td></tr><tr><td>2006-01-02</td><td>167</td><td>216</td><td>343</td><td>2475</td><td>11.783334</td><td>15.766666</td></tr><tr><td>2006-01-03</td><td>-7</td><td>-2</td><td>344</td><td>2475</td><td>8.883333</td><td>12.133333</td></tr><tr><td>2006-01-04</td><td>-5</td><td>-13</td><td>331</td><td>2475</td><td>8.916667</td><td>11.95</td></tr><tr><td>2006-01-05</td><td>-3</td><td>-17</td><td>321</td><td>2475</td><td>8.95</td><td>11.883333</td></tr></tbody></table></div>"
      ],
      "text/plain": [
       "shape: (5, 7)\n",
       "┌────────────┬───────────┬───────────┬──────────┬──────────┬───────────┬───────────┐\n",
       "│ FL_DATE    ┆ DEP_DELAY ┆ ARR_DELAY ┆ AIR_TIME ┆ DISTANCE ┆ DEP_TIME  ┆ ARR_TIME  │\n",
       "│ ---        ┆ ---       ┆ ---       ┆ ---      ┆ ---      ┆ ---       ┆ ---       │\n",
       "│ date       ┆ i16       ┆ i16       ┆ i16      ┆ i16      ┆ f32       ┆ f32       │\n",
       "╞════════════╪═══════════╪═══════════╪══════════╪══════════╪═══════════╪═══════════╡\n",
       "│ 2006-01-01 ┆ 5         ┆ 19        ┆ 350      ┆ 2475     ┆ 9.083333  ┆ 12.483334 │\n",
       "│ 2006-01-02 ┆ 167       ┆ 216       ┆ 343      ┆ 2475     ┆ 11.783334 ┆ 15.766666 │\n",
       "│ 2006-01-03 ┆ -7        ┆ -2        ┆ 344      ┆ 2475     ┆ 8.883333  ┆ 12.133333 │\n",
       "│ 2006-01-04 ┆ -5        ┆ -13       ┆ 331      ┆ 2475     ┆ 8.916667  ┆ 11.95     │\n",
       "│ 2006-01-05 ┆ -3        ┆ -17       ┆ 321      ┆ 2475     ┆ 8.95      ┆ 11.883333 │\n",
       "└────────────┴───────────┴───────────┴──────────┴──────────┴───────────┴───────────┘"
      ]
     },
     "execution_count": 112,
     "metadata": {},
     "output_type": "execute_result"
    }
   ],
   "source": [
    "df.head()"
   ]
  },
  {
   "cell_type": "code",
   "execution_count": 113,
   "metadata": {},
   "outputs": [],
   "source": [
    "df = pl.DataFrame({\"foo\": [1, 2, 3], \"bar\": [None, \"bak\", \"baz\"]})\n",
    "df.write_parquet(\"data/ejemplo.parquet\")"
   ]
  },
  {
   "cell_type": "code",
   "execution_count": 114,
   "metadata": {},
   "outputs": [],
   "source": [
    "df = pl.scan_parquet(\"data/flights.parquet\")"
   ]
  },
  {
   "cell_type": "code",
   "execution_count": 115,
   "metadata": {},
   "outputs": [
    {
     "data": {
      "text/html": [
       "<h4>NAIVE QUERY PLAN</h4><p>run <b>LazyFrame.show_graph()</b> to see the optimized version</p><?xml version=\"1.0\" encoding=\"UTF-8\" standalone=\"no\"?>\n",
       "<!DOCTYPE svg PUBLIC \"-//W3C//DTD SVG 1.1//EN\"\n",
       " \"http://www.w3.org/Graphics/SVG/1.1/DTD/svg11.dtd\">\n",
       "<!-- Generated by graphviz version 12.1.0 (20240811.2233)\n",
       " -->\n",
       "<!-- Title: polars_query Pages: 1 -->\n",
       "<svg width=\"223pt\" height=\"49pt\"\n",
       " viewBox=\"0.00 0.00 222.75 49.00\" xmlns=\"http://www.w3.org/2000/svg\" xmlns:xlink=\"http://www.w3.org/1999/xlink\">\n",
       "<g id=\"graph0\" class=\"graph\" transform=\"scale(1 1) rotate(0) translate(4 45)\">\n",
       "<title>polars_query</title>\n",
       "<polygon fill=\"white\" stroke=\"none\" points=\"-4,4 -4,-45 218.75,-45 218.75,4 -4,4\"/>\n",
       "<!-- p1 -->\n",
       "<g id=\"node1\" class=\"node\">\n",
       "<title>p1</title>\n",
       "<polygon fill=\"none\" stroke=\"black\" points=\"214.75,-41 0,-41 0,0 214.75,0 214.75,-41\"/>\n",
       "<text text-anchor=\"middle\" x=\"107.38\" y=\"-23.7\" font-family=\"Times,serif\" font-size=\"14.00\">Parquet SCAN [data/flights.parquet]</text>\n",
       "<text text-anchor=\"middle\" x=\"107.38\" y=\"-7.2\" font-family=\"Times,serif\" font-size=\"14.00\">π */7;</text>\n",
       "</g>\n",
       "</g>\n",
       "</svg>\n"
      ],
      "text/plain": [
       "<LazyFrame at 0x163B32C90>"
      ]
     },
     "execution_count": 115,
     "metadata": {},
     "output_type": "execute_result"
    }
   ],
   "source": [
    "df"
   ]
  },
  {
   "cell_type": "markdown",
   "metadata": {},
   "source": [
    "## JSON"
   ]
  },
  {
   "cell_type": "code",
   "execution_count": 116,
   "metadata": {},
   "outputs": [],
   "source": [
    "json_file = \"data/testjson.json\"\n",
    "df = pl.read_json(json_file)"
   ]
  },
  {
   "cell_type": "code",
   "execution_count": 117,
   "metadata": {},
   "outputs": [
    {
     "data": {
      "text/html": [
       "<div><style>\n",
       ".dataframe > thead > tr,\n",
       ".dataframe > tbody > tr {\n",
       "  text-align: right;\n",
       "  white-space: pre-wrap;\n",
       "}\n",
       "</style>\n",
       "<small>shape: (1_584, 5)</small><table border=\"1\" class=\"dataframe\"><thead><tr><th>name</th><th>language</th><th>id</th><th>bio</th><th>version</th></tr><tr><td>str</td><td>str</td><td>str</td><td>str</td><td>f64</td></tr></thead><tbody><tr><td>&quot;Adeel Solangi&quot;</td><td>&quot;Sindhi&quot;</td><td>&quot;V59OF92YF627HFY0&quot;</td><td>&quot;Donec lobortis eleifend condim…</td><td>6.1</td></tr><tr><td>&quot;Afzal Ghaffar&quot;</td><td>&quot;Sindhi&quot;</td><td>&quot;ENTOCR13RSCLZ6KU&quot;</td><td>&quot;Aliquam sollicitudin ante ligu…</td><td>1.88</td></tr><tr><td>&quot;Aamir Solangi&quot;</td><td>&quot;Sindhi&quot;</td><td>&quot;IAKPO3R4761JDRVG&quot;</td><td>&quot;Vestibulum pharetra libero et …</td><td>7.27</td></tr><tr><td>&quot;Abla Dilmurat&quot;</td><td>&quot;Uyghur&quot;</td><td>&quot;5ZVOEPMJUI4MB4EN&quot;</td><td>&quot;Donec lobortis eleifend condim…</td><td>2.53</td></tr><tr><td>&quot;Adil Eli&quot;</td><td>&quot;Uyghur&quot;</td><td>&quot;6VTI8X6LL0MMPJCC&quot;</td><td>&quot;Vivamus id faucibus velit, id …</td><td>6.49</td></tr><tr><td>&hellip;</td><td>&hellip;</td><td>&hellip;</td><td>&hellip;</td><td>&hellip;</td></tr><tr><td>&quot;Bhupesh Menon&quot;</td><td>&quot;Hindi&quot;</td><td>&quot;0CEPNRDV98KT3ORP&quot;</td><td>&quot;Maecenas tempus neque ut portt…</td><td>2.69</td></tr><tr><td>&quot;Rohini Vasav&quot;</td><td>&quot;Hindi&quot;</td><td>&quot;UEFML43TCGS04KWM&quot;</td><td>&quot;Ut accumsan, est vel fringilla…</td><td>9.3</td></tr><tr><td>&quot;Sunil Kapoor&quot;</td><td>&quot;Hindi&quot;</td><td>&quot;VY2A0APGVHK5NAW2&quot;</td><td>&quot;Proin tempus eu risus nec matt…</td><td>8.04</td></tr><tr><td>&quot;Zamokuhle Zulu&quot;</td><td>&quot;isiZulu&quot;</td><td>&quot;XU7BX2F8M5PVZ1EF&quot;</td><td>&quot;Etiam congue dignissim volutpa…</td><td>8.39</td></tr><tr><td>&quot;Bhupesh Menon&quot;</td><td>&quot;Hindi&quot;</td><td>&quot;0CEPNRDV98KT3ORP&quot;</td><td>&quot;Maecenas tempus neque ut portt…</td><td>2.69</td></tr></tbody></table></div>"
      ],
      "text/plain": [
       "shape: (1_584, 5)\n",
       "┌────────────────┬──────────┬──────────────────┬─────────────────────────────────┬─────────┐\n",
       "│ name           ┆ language ┆ id               ┆ bio                             ┆ version │\n",
       "│ ---            ┆ ---      ┆ ---              ┆ ---                             ┆ ---     │\n",
       "│ str            ┆ str      ┆ str              ┆ str                             ┆ f64     │\n",
       "╞════════════════╪══════════╪══════════════════╪═════════════════════════════════╪═════════╡\n",
       "│ Adeel Solangi  ┆ Sindhi   ┆ V59OF92YF627HFY0 ┆ Donec lobortis eleifend condim… ┆ 6.1     │\n",
       "│ Afzal Ghaffar  ┆ Sindhi   ┆ ENTOCR13RSCLZ6KU ┆ Aliquam sollicitudin ante ligu… ┆ 1.88    │\n",
       "│ Aamir Solangi  ┆ Sindhi   ┆ IAKPO3R4761JDRVG ┆ Vestibulum pharetra libero et … ┆ 7.27    │\n",
       "│ Abla Dilmurat  ┆ Uyghur   ┆ 5ZVOEPMJUI4MB4EN ┆ Donec lobortis eleifend condim… ┆ 2.53    │\n",
       "│ Adil Eli       ┆ Uyghur   ┆ 6VTI8X6LL0MMPJCC ┆ Vivamus id faucibus velit, id … ┆ 6.49    │\n",
       "│ …              ┆ …        ┆ …                ┆ …                               ┆ …       │\n",
       "│ Bhupesh Menon  ┆ Hindi    ┆ 0CEPNRDV98KT3ORP ┆ Maecenas tempus neque ut portt… ┆ 2.69    │\n",
       "│ Rohini Vasav   ┆ Hindi    ┆ UEFML43TCGS04KWM ┆ Ut accumsan, est vel fringilla… ┆ 9.3     │\n",
       "│ Sunil Kapoor   ┆ Hindi    ┆ VY2A0APGVHK5NAW2 ┆ Proin tempus eu risus nec matt… ┆ 8.04    │\n",
       "│ Zamokuhle Zulu ┆ isiZulu  ┆ XU7BX2F8M5PVZ1EF ┆ Etiam congue dignissim volutpa… ┆ 8.39    │\n",
       "│ Bhupesh Menon  ┆ Hindi    ┆ 0CEPNRDV98KT3ORP ┆ Maecenas tempus neque ut portt… ┆ 2.69    │\n",
       "└────────────────┴──────────┴──────────────────┴─────────────────────────────────┴─────────┘"
      ]
     },
     "execution_count": 117,
     "metadata": {},
     "output_type": "execute_result"
    }
   ],
   "source": [
    "df"
   ]
  },
  {
   "cell_type": "code",
   "execution_count": 118,
   "metadata": {},
   "outputs": [
    {
     "data": {
      "text/html": [
       "<div><style>\n",
       ".dataframe > thead > tr,\n",
       ".dataframe > tbody > tr {\n",
       "  text-align: right;\n",
       "  white-space: pre-wrap;\n",
       "}\n",
       "</style>\n",
       "<small>shape: (5, 2)</small><table border=\"1\" class=\"dataframe\"><thead><tr><th>url</th><th>result</th></tr><tr><td>str</td><td>struct[4]</td></tr></thead><tbody><tr><td>&quot;https://www.yelp.com/search?fi…</td><td>{{&quot;https://www.yelp.com/search?find_desc=Desserts&amp;find_loc=San+Jose,+CA&amp;start=0&quot;,[{[{[{&quot;https://www.yelp.com/biz/milk-and-wood-san-jose?osq=Desserts&quot;,&quot;Milk &amp; Wood&quot;}]}, {[{&quot;https://www.yelp.com/biz/dzuis-cakes-and-desserts-san-jose?osq=Desserts&quot;,&quot;Dzui’s Cakes &amp; Desserts&quot;}]}, … {[{&quot;https://www.yelp.com/biz/anton-sv-p%C3%A2tisserie-san-jose-2?osq=Desserts&quot;,&quot;Anton SV Pâtisserie&quot;}]}]}]},{200,1513286383006},1513286383006,0}</td></tr><tr><td>&quot;https://www.yelp.com/search?fi…</td><td>{{&quot;https://www.yelp.com/search?find_desc=Desserts&amp;find_loc=San+Jose,+CA&amp;start=10&quot;,[{[{[{&quot;https://www.yelp.com/biz/oooh-san-jose-4?osq=Desserts&quot;,&quot;Oooh&quot;}]}, {[{&quot;https://www.yelp.com/biz/hannah-san-jose?osq=Desserts&quot;,&quot;Hannah&quot;}]}, … {[{&quot;https://www.yelp.com/biz/blackball-desserts-san-jose-san-jose?osq=Desserts&quot;,&quot;BlackBall Desserts San Jose&quot;}]}]}]},{200,1513286384917},1513286384917,1}</td></tr><tr><td>&quot;https://www.yelp.com/search?fi…</td><td>{{&quot;https://www.yelp.com/search?find_desc=Desserts&amp;find_loc=San+Jose,+CA&amp;start=20&quot;,[{[{[{&quot;https://www.yelp.com/biz/anton-sv-p%C3%A2tisserie-san-jose-2?osq=Desserts&quot;,&quot;Anton SV Pâtisserie&quot;}]}, {[{&quot;https://www.yelp.com/biz/soyful-desserts-san-jose-8?osq=Desserts&quot;,&quot;Soyful Desserts&quot;}]}, … {[{&quot;https://www.yelp.com/biz/j-sweets-san-jose-3?osq=Desserts&quot;,&quot;J.Sweets&quot;}]}]}]},{200,1513286395948},1513286395948,2}</td></tr><tr><td>&quot;https://www.yelp.com/search?fi…</td><td>{{&quot;https://www.yelp.com/search?find_desc=Desserts&amp;find_loc=San+Jose,+CA&amp;start=30&quot;,[{[{[{&quot;https://www.yelp.com/biz/treatbot-san-jose-2?osq=Desserts&quot;,&quot;Treatbot&quot;}]}, {[{&quot;https://www.yelp.com/biz/cream-san-jose?osq=Desserts&quot;,&quot;CREAM&quot;}]}, … {[{&quot;https://www.yelp.com/biz/san-jose-tofu-company-san-jose?osq=Desserts&quot;,&quot;San Jose Tofu Company&quot;}]}]}]},{200,1513286386420},1513286386420,3}</td></tr><tr><td>&quot;https://www.yelp.com/search?fi…</td><td>{{&quot;https://www.yelp.com/search?find_desc=Desserts&amp;find_loc=San+Jose,+CA&amp;start=40&quot;,[{[{[{&quot;https://www.yelp.com/biz/the-sweet-corner-san-jose?osq=Desserts&quot;,&quot;The Sweet Corner&quot;}]}, {[{&quot;https://www.yelp.com/biz/marco-polo-italian-ice-cream-san-jose-4?osq=Desserts&quot;,&quot;Marco Polo Italian Ice Cream&quot;}]}, … {[{&quot;https://www.yelp.com/biz/la-original-paleteria-y-neveria-san-jose?osq=Desserts&quot;,&quot;La Original Paleteria Y Neveria&quot;}]}]}]},{200,1513286387763},1513286387763,4}</td></tr></tbody></table></div>"
      ],
      "text/plain": [
       "shape: (5, 2)\n",
       "┌─────────────────────────────────┬─────────────────────────────────┐\n",
       "│ url                             ┆ result                          │\n",
       "│ ---                             ┆ ---                             │\n",
       "│ str                             ┆ struct[4]                       │\n",
       "╞═════════════════════════════════╪═════════════════════════════════╡\n",
       "│ https://www.yelp.com/search?fi… ┆ {{\"https://www.yelp.com/search… │\n",
       "│ https://www.yelp.com/search?fi… ┆ {{\"https://www.yelp.com/search… │\n",
       "│ https://www.yelp.com/search?fi… ┆ {{\"https://www.yelp.com/search… │\n",
       "│ https://www.yelp.com/search?fi… ┆ {{\"https://www.yelp.com/search… │\n",
       "│ https://www.yelp.com/search?fi… ┆ {{\"https://www.yelp.com/search… │\n",
       "└─────────────────────────────────┴─────────────────────────────────┘"
      ]
     },
     "execution_count": 118,
     "metadata": {},
     "output_type": "execute_result"
    }
   ],
   "source": [
    "ndjson_file = \"data/ndjson-sample.json\"\n",
    "df = pl.read_ndjson(ndjson_file) # \n",
    "df"
   ]
  },
  {
   "cell_type": "code",
   "execution_count": 119,
   "metadata": {},
   "outputs": [],
   "source": [
    "df = pl.DataFrame({\"foo\": [1, 2, 3], \"bar\": [None, \"bak\", \"baz\"]})\n",
    "df.write_json(\"data/prueba.json\")"
   ]
  },
  {
   "cell_type": "code",
   "execution_count": 120,
   "metadata": {},
   "outputs": [],
   "source": [
    "df = pl.scan_ndjson(ndjson_file) # SOLO PARA NDJSON"
   ]
  },
  {
   "cell_type": "code",
   "execution_count": 121,
   "metadata": {},
   "outputs": [
    {
     "data": {
      "text/html": [
       "<h4>NAIVE QUERY PLAN</h4><p>run <b>LazyFrame.show_graph()</b> to see the optimized version</p><?xml version=\"1.0\" encoding=\"UTF-8\" standalone=\"no\"?>\n",
       "<!DOCTYPE svg PUBLIC \"-//W3C//DTD SVG 1.1//EN\"\n",
       " \"http://www.w3.org/Graphics/SVG/1.1/DTD/svg11.dtd\">\n",
       "<!-- Generated by graphviz version 12.1.0 (20240811.2233)\n",
       " -->\n",
       "<!-- Title: polars_query Pages: 1 -->\n",
       "<svg width=\"252pt\" height=\"49pt\"\n",
       " viewBox=\"0.00 0.00 252.00 49.00\" xmlns=\"http://www.w3.org/2000/svg\" xmlns:xlink=\"http://www.w3.org/1999/xlink\">\n",
       "<g id=\"graph0\" class=\"graph\" transform=\"scale(1 1) rotate(0) translate(4 45)\">\n",
       "<title>polars_query</title>\n",
       "<polygon fill=\"white\" stroke=\"none\" points=\"-4,4 -4,-45 248,-45 248,4 -4,4\"/>\n",
       "<!-- p1 -->\n",
       "<g id=\"node1\" class=\"node\">\n",
       "<title>p1</title>\n",
       "<polygon fill=\"none\" stroke=\"black\" points=\"244,-41 0,-41 0,0 244,0 244,-41\"/>\n",
       "<text text-anchor=\"middle\" x=\"122\" y=\"-23.7\" font-family=\"Times,serif\" font-size=\"14.00\">NDJson SCAN [data/ndjson&#45;sample.json]</text>\n",
       "<text text-anchor=\"middle\" x=\"122\" y=\"-7.2\" font-family=\"Times,serif\" font-size=\"14.00\">π */2;</text>\n",
       "</g>\n",
       "</g>\n",
       "</svg>\n"
      ],
      "text/plain": [
       "<LazyFrame at 0x163B30830>"
      ]
     },
     "execution_count": 121,
     "metadata": {},
     "output_type": "execute_result"
    }
   ],
   "source": [
    "df"
   ]
  },
  {
   "cell_type": "markdown",
   "metadata": {},
   "source": [
    "## Multiple files"
   ]
  },
  {
   "cell_type": "code",
   "execution_count": 122,
   "metadata": {},
   "outputs": [],
   "source": [
    "# creando archivos\n",
    "for i in range(10):\n",
    "    archivo = f\"data/test_csv{i}.csv\"\n",
    "    df = pl.DataFrame({\"foo\": [1*(i+1), 2*(i+1), 3*(i+1)], \"bar\": [None, \"bak\", \"baz\"]})\n",
    "    df.write_csv(archivo)"
   ]
  },
  {
   "cell_type": "code",
   "execution_count": 123,
   "metadata": {},
   "outputs": [
    {
     "name": "stdout",
     "output_type": "stream",
     "text": [
      "shape: (30, 2)\n",
      "┌─────┬──────┐\n",
      "│ foo ┆ bar  │\n",
      "│ --- ┆ ---  │\n",
      "│ i64 ┆ str  │\n",
      "╞═════╪══════╡\n",
      "│ 1   ┆ null │\n",
      "│ 2   ┆ bak  │\n",
      "│ 3   ┆ baz  │\n",
      "│ 2   ┆ null │\n",
      "│ 4   ┆ bak  │\n",
      "│ …   ┆ …    │\n",
      "│ 18  ┆ bak  │\n",
      "│ 27  ┆ baz  │\n",
      "│ 10  ┆ null │\n",
      "│ 20  ┆ bak  │\n",
      "│ 30  ┆ baz  │\n",
      "└─────┴──────┘\n"
     ]
    }
   ],
   "source": [
    "df = pl.read_csv(\"data/test_csv*.csv\")\n",
    "print(df)"
   ]
  },
  {
   "cell_type": "code",
   "execution_count": 124,
   "metadata": {},
   "outputs": [
    {
     "data": {
      "image/svg+xml": [
       "<svg xmlns=\"http://www.w3.org/2000/svg\" xmlns:xlink=\"http://www.w3.org/1999/xlink\" width=\"283pt\" height=\"49pt\" viewBox=\"0.00 0.00 282.75 49.00\">\n",
       "<g id=\"graph0\" class=\"graph\" transform=\"scale(1 1) rotate(0) translate(4 45)\">\n",
       "<title>polars_query</title>\n",
       "<polygon fill=\"white\" stroke=\"none\" points=\"-4,4 -4,-45 278.75,-45 278.75,4 -4,4\"/>\n",
       "<!-- p1 -->\n",
       "<g id=\"node1\" class=\"node\">\n",
       "<title>p1</title>\n",
       "<polygon fill=\"none\" stroke=\"black\" points=\"274.75,-41 0,-41 0,0 274.75,0 274.75,-41\"/>\n",
       "<text text-anchor=\"middle\" x=\"137.38\" y=\"-23.7\" font-family=\"Times,serif\" font-size=\"14.00\">Csv SCAN [data/test_csv0.csv, ... 9 other files]</text>\n",
       "<text text-anchor=\"middle\" x=\"137.38\" y=\"-7.2\" font-family=\"Times,serif\" font-size=\"14.00\">π */2;</text>\n",
       "</g>\n",
       "</g>\n",
       "</svg>"
      ],
      "text/plain": [
       "<IPython.core.display.SVG object>"
      ]
     },
     "metadata": {},
     "output_type": "display_data"
    }
   ],
   "source": [
    "pl.scan_csv(\"data/test_csv*.csv\").show_graph()"
   ]
  },
  {
   "cell_type": "markdown",
   "metadata": {},
   "source": [
    "### Leyendo en paralelo"
   ]
  },
  {
   "cell_type": "code",
   "execution_count": 125,
   "metadata": {},
   "outputs": [
    {
     "name": "stdout",
     "output_type": "stream",
     "text": [
      "[shape: (3, 3)\n",
      "┌──────┬─────┬─────┐\n",
      "│ bar  ┆ len ┆ foo │\n",
      "│ ---  ┆ --- ┆ --- │\n",
      "│ str  ┆ u32 ┆ i64 │\n",
      "╞══════╪═════╪═════╡\n",
      "│ null ┆ 1   ┆ 1   │\n",
      "│ bak  ┆ 1   ┆ 2   │\n",
      "│ baz  ┆ 1   ┆ 3   │\n",
      "└──────┴─────┴─────┘, shape: (3, 3)\n",
      "┌──────┬─────┬─────┐\n",
      "│ bar  ┆ len ┆ foo │\n",
      "│ ---  ┆ --- ┆ --- │\n",
      "│ str  ┆ u32 ┆ i64 │\n",
      "╞══════╪═════╪═════╡\n",
      "│ null ┆ 1   ┆ 2   │\n",
      "│ bak  ┆ 1   ┆ 4   │\n",
      "│ baz  ┆ 1   ┆ 6   │\n",
      "└──────┴─────┴─────┘, shape: (3, 3)\n",
      "┌──────┬─────┬─────┐\n",
      "│ bar  ┆ len ┆ foo │\n",
      "│ ---  ┆ --- ┆ --- │\n",
      "│ str  ┆ u32 ┆ i64 │\n",
      "╞══════╪═════╪═════╡\n",
      "│ baz  ┆ 1   ┆ 12  │\n",
      "│ bak  ┆ 1   ┆ 8   │\n",
      "│ null ┆ 1   ┆ 4   │\n",
      "└──────┴─────┴─────┘, shape: (3, 3)\n",
      "┌──────┬─────┬─────┐\n",
      "│ bar  ┆ len ┆ foo │\n",
      "│ ---  ┆ --- ┆ --- │\n",
      "│ str  ┆ u32 ┆ i64 │\n",
      "╞══════╪═════╪═════╡\n",
      "│ bak  ┆ 1   ┆ 6   │\n",
      "│ null ┆ 1   ┆ 3   │\n",
      "│ baz  ┆ 1   ┆ 9   │\n",
      "└──────┴─────┴─────┘, shape: (3, 3)\n",
      "┌──────┬─────┬─────┐\n",
      "│ bar  ┆ len ┆ foo │\n",
      "│ ---  ┆ --- ┆ --- │\n",
      "│ str  ┆ u32 ┆ i64 │\n",
      "╞══════╪═════╪═════╡\n",
      "│ baz  ┆ 1   ┆ 21  │\n",
      "│ bak  ┆ 1   ┆ 14  │\n",
      "│ null ┆ 1   ┆ 7   │\n",
      "└──────┴─────┴─────┘, shape: (3, 3)\n",
      "┌──────┬─────┬─────┐\n",
      "│ bar  ┆ len ┆ foo │\n",
      "│ ---  ┆ --- ┆ --- │\n",
      "│ str  ┆ u32 ┆ i64 │\n",
      "╞══════╪═════╪═════╡\n",
      "│ null ┆ 1   ┆ 8   │\n",
      "│ baz  ┆ 1   ┆ 24  │\n",
      "│ bak  ┆ 1   ┆ 16  │\n",
      "└──────┴─────┴─────┘, shape: (3, 3)\n",
      "┌──────┬─────┬─────┐\n",
      "│ bar  ┆ len ┆ foo │\n",
      "│ ---  ┆ --- ┆ --- │\n",
      "│ str  ┆ u32 ┆ i64 │\n",
      "╞══════╪═════╪═════╡\n",
      "│ bak  ┆ 1   ┆ 12  │\n",
      "│ null ┆ 1   ┆ 6   │\n",
      "│ baz  ┆ 1   ┆ 18  │\n",
      "└──────┴─────┴─────┘, shape: (3, 3)\n",
      "┌──────┬─────┬─────┐\n",
      "│ bar  ┆ len ┆ foo │\n",
      "│ ---  ┆ --- ┆ --- │\n",
      "│ str  ┆ u32 ┆ i64 │\n",
      "╞══════╪═════╪═════╡\n",
      "│ bak  ┆ 1   ┆ 10  │\n",
      "│ null ┆ 1   ┆ 5   │\n",
      "│ baz  ┆ 1   ┆ 15  │\n",
      "└──────┴─────┴─────┘, shape: (3, 3)\n",
      "┌──────┬─────┬─────┐\n",
      "│ bar  ┆ len ┆ foo │\n",
      "│ ---  ┆ --- ┆ --- │\n",
      "│ str  ┆ u32 ┆ i64 │\n",
      "╞══════╪═════╪═════╡\n",
      "│ baz  ┆ 1   ┆ 30  │\n",
      "│ bak  ┆ 1   ┆ 20  │\n",
      "│ null ┆ 1   ┆ 10  │\n",
      "└──────┴─────┴─────┘, shape: (3, 3)\n",
      "┌──────┬─────┬─────┐\n",
      "│ bar  ┆ len ┆ foo │\n",
      "│ ---  ┆ --- ┆ --- │\n",
      "│ str  ┆ u32 ┆ i64 │\n",
      "╞══════╪═════╪═════╡\n",
      "│ null ┆ 1   ┆ 9   │\n",
      "│ bak  ┆ 1   ┆ 18  │\n",
      "│ baz  ┆ 1   ┆ 27  │\n",
      "└──────┴─────┴─────┘]\n"
     ]
    }
   ],
   "source": [
    "import glob\n",
    "\n",
    "import polars as pl\n",
    "\n",
    "queries = []\n",
    "for file in glob.glob(\"data/test_csv*.csv\"):\n",
    "    q = pl.scan_csv(file).group_by(\"bar\").agg(pl.len(), pl.sum(\"foo\"))\n",
    "    queries.append(q)\n",
    "\n",
    "dataframes = pl.collect_all(queries)\n",
    "print(dataframes)"
   ]
  },
  {
   "cell_type": "markdown",
   "metadata": {},
   "source": [
    "Si los archivos no necesitan estar en una sola tabla, se puede construir un plan de consulta para cada archivo y ejecutarlos en paralelo en el pool de hilos de Polars.\n",
    "\n",
    "Toda la ejecución del plan de consulta es altamente paralela y no requiere ninguna comunicación entre los procesos."
   ]
  },
  {
   "cell_type": "markdown",
   "metadata": {},
   "source": [
    "## Otros formatos\n",
    "* https://docs.pola.rs/user-guide/io/hive/\n",
    "* https://docs.pola.rs/user-guide/io/database/\n",
    "* https://docs.pola.rs/user-guide/io/cloud-storage/\n",
    "* https://docs.pola.rs/user-guide/io/bigquery/\n",
    "* https://docs.pola.rs/user-guide/io/hugging-face/"
   ]
  },
  {
   "cell_type": "markdown",
   "metadata": {},
   "source": [
    "## SQL"
   ]
  },
  {
   "cell_type": "markdown",
   "metadata": {},
   "source": [
    "Polars utiliza el objeto SQLContext para gestionar consultas SQL. El contexto contiene un mapeo de nombres de identificadores de DataFrame y LazyFrame a sus conjuntos de datos correspondientes. El ejemplo a continuación inicia un SQLContext:"
   ]
  },
  {
   "cell_type": "code",
   "execution_count": 126,
   "metadata": {},
   "outputs": [],
   "source": [
    "ctx = pl.SQLContext()"
   ]
  },
  {
   "cell_type": "code",
   "execution_count": 127,
   "metadata": {},
   "outputs": [],
   "source": [
    "df = pl.DataFrame({\"a\": [1, 2, 3]})\n",
    "lf = pl.LazyFrame({\"b\": [4, 5, 6]})\n",
    "\n",
    "# Register all dataframes in the global namespace: registers both \"df\" and \"lf\"\n",
    "ctx = pl.SQLContext(register_globals=True)\n",
    "\n",
    "# Register an explicit mapping of identifier name to frame\n",
    "ctx = pl.SQLContext(frames={\"table_one\": df, \"table_two\": lf})\n",
    "\n",
    "# Register frames using kwargs; dataframe df as \"df\" and lazyframe lf as \"lf\"\n",
    "ctx = pl.SQLContext(df=df, lf=lf)"
   ]
  },
  {
   "cell_type": "code",
   "execution_count": 128,
   "metadata": {},
   "outputs": [
    {
     "data": {
      "text/plain": [
       "<SQLContext [tables:2] at 0x167043fb0>"
      ]
     },
     "execution_count": 128,
     "metadata": {},
     "output_type": "execute_result"
    }
   ],
   "source": [
    "ctx"
   ]
  },
  {
   "cell_type": "code",
   "execution_count": 129,
   "metadata": {},
   "outputs": [],
   "source": [
    "import pandas as pd\n",
    "\n",
    "df_pandas = pd.DataFrame({\"c\": [7, 8, 9]})\n",
    "ctx = pl.SQLContext(df_pandas=pl.from_pandas(df_pandas))"
   ]
  },
  {
   "cell_type": "code",
   "execution_count": 130,
   "metadata": {},
   "outputs": [
    {
     "data": {
      "text/plain": [
       "<SQLContext [tables:1] at 0x11f9c3350>"
      ]
     },
     "execution_count": 130,
     "metadata": {},
     "output_type": "execute_result"
    }
   ],
   "source": [
    "ctx"
   ]
  },
  {
   "cell_type": "code",
   "execution_count": 131,
   "metadata": {},
   "outputs": [
    {
     "name": "stdout",
     "output_type": "stream",
     "text": [
      "shape: (5, 13)\n",
      "┌─────┬───────────────────────┬────────┬────────┬───┬─────────┬───────┬────────────┬───────────┐\n",
      "│ #   ┆ Name                  ┆ Type 1 ┆ Type 2 ┆ … ┆ Sp. Def ┆ Speed ┆ Generation ┆ Legendary │\n",
      "│ --- ┆ ---                   ┆ ---    ┆ ---    ┆   ┆ ---     ┆ ---   ┆ ---        ┆ ---       │\n",
      "│ i64 ┆ str                   ┆ str    ┆ str    ┆   ┆ i64     ┆ i64   ┆ i64        ┆ bool      │\n",
      "╞═════╪═══════════════════════╪════════╪════════╪═══╪═════════╪═══════╪════════════╪═══════════╡\n",
      "│ 1   ┆ Bulbasaur             ┆ Grass  ┆ Poison ┆ … ┆ 65      ┆ 45    ┆ 1          ┆ false     │\n",
      "│ 2   ┆ Ivysaur               ┆ Grass  ┆ Poison ┆ … ┆ 80      ┆ 60    ┆ 1          ┆ false     │\n",
      "│ 3   ┆ Venusaur              ┆ Grass  ┆ Poison ┆ … ┆ 100     ┆ 80    ┆ 1          ┆ false     │\n",
      "│ 3   ┆ VenusaurMega Venusaur ┆ Grass  ┆ Poison ┆ … ┆ 120     ┆ 80    ┆ 1          ┆ false     │\n",
      "│ 4   ┆ Charmander            ┆ Fire   ┆ null   ┆ … ┆ 50      ┆ 65    ┆ 1          ┆ false     │\n",
      "└─────┴───────────────────────┴────────┴────────┴───┴─────────┴───────┴────────────┴───────────┘\n"
     ]
    }
   ],
   "source": [
    "# For local files use scan_csv instead\n",
    "pokemon = pl.read_csv(\n",
    "    \"https://gist.githubusercontent.com/ritchie46/cac6b337ea52281aa23c049250a4ff03/raw/89a957ff3919d90e6ef2d34235e6bf22304f3366/pokemon.csv\"\n",
    ")\n",
    "with pl.SQLContext(register_globals=True, eager=True) as ctx:\n",
    "    df_small = ctx.execute(\"SELECT * from pokemon LIMIT 5\")\n",
    "    print(df_small)"
   ]
  },
  {
   "cell_type": "markdown",
   "metadata": {},
   "source": [
    "### Multiples fuentes\n",
    "Ejemplo en https://docs.pola.rs/user-guide/sql/intro/#execute-queries-from-multiple-sources"
   ]
  },
  {
   "cell_type": "markdown",
   "metadata": {},
   "source": [
    "### SHOW TABLES"
   ]
  },
  {
   "cell_type": "code",
   "execution_count": 132,
   "metadata": {},
   "outputs": [
    {
     "name": "stdout",
     "output_type": "stream",
     "text": [
      "shape: (2, 1)\n",
      "┌──────────┐\n",
      "│ name     │\n",
      "│ ---      │\n",
      "│ str      │\n",
      "╞══════════╡\n",
      "│ mytable1 │\n",
      "│ mytable2 │\n",
      "└──────────┘\n"
     ]
    }
   ],
   "source": [
    "# Create some DataFrames and register them with the SQLContext\n",
    "df1 = pl.LazyFrame(\n",
    "    {\n",
    "        \"name\": [\"Alice\", \"Bob\", \"Charlie\", \"David\"],\n",
    "        \"age\": [25, 30, 35, 40],\n",
    "    }\n",
    ")\n",
    "df2 = pl.LazyFrame(\n",
    "    {\n",
    "        \"name\": [\"Ellen\", \"Frank\", \"Gina\", \"Henry\"],\n",
    "        \"age\": [45, 50, 55, 60],\n",
    "    }\n",
    ")\n",
    "ctx = pl.SQLContext(mytable1=df1, mytable2=df2)\n",
    "\n",
    "tables = ctx.execute(\"SHOW TABLES\", eager=True)\n",
    "\n",
    "print(tables)"
   ]
  },
  {
   "cell_type": "markdown",
   "metadata": {},
   "source": [
    "### SELECT"
   ]
  },
  {
   "cell_type": "code",
   "execution_count": 133,
   "metadata": {},
   "outputs": [
    {
     "name": "stdout",
     "output_type": "stream",
     "text": [
      "shape: (6, 3)\n",
      "┌─────────────┬─────────────┬────────────┐\n",
      "│ city        ┆ country     ┆ population │\n",
      "│ ---         ┆ ---         ┆ ---        │\n",
      "│ str         ┆ str         ┆ i64        │\n",
      "╞═════════════╪═════════════╪════════════╡\n",
      "│ New York    ┆ USA         ┆ 8399000    │\n",
      "│ Los Angeles ┆ USA         ┆ 3997000    │\n",
      "│ Chicago     ┆ USA         ┆ 2705000    │\n",
      "│ Houston     ┆ USA         ┆ 2320000    │\n",
      "│ Phoenix     ┆ USA         ┆ 1680000    │\n",
      "│ Amsterdam   ┆ Netherlands ┆ 900000     │\n",
      "└─────────────┴─────────────┴────────────┘\n"
     ]
    }
   ],
   "source": [
    "df = pl.DataFrame(\n",
    "    {\n",
    "        \"city\": [\n",
    "            \"New York\",\n",
    "            \"Los Angeles\",\n",
    "            \"Chicago\",\n",
    "            \"Houston\",\n",
    "            \"Phoenix\",\n",
    "            \"Amsterdam\",\n",
    "        ],\n",
    "        \"country\": [\"USA\", \"USA\", \"USA\", \"USA\", \"USA\", \"Netherlands\"],\n",
    "        \"population\": [8399000, 3997000, 2705000, 2320000, 1680000, 900000],\n",
    "    }\n",
    ")\n",
    "\n",
    "ctx = pl.SQLContext(population=df, eager=True)\n",
    "\n",
    "print(ctx.execute(\"SELECT * FROM population\"))"
   ]
  },
  {
   "cell_type": "code",
   "execution_count": 134,
   "metadata": {},
   "outputs": [
    {
     "name": "stdout",
     "output_type": "stream",
     "text": [
      "shape: (2, 2)\n",
      "┌─────────────┬────────────────┐\n",
      "│ country     ┆ avg_population │\n",
      "│ ---         ┆ ---            │\n",
      "│ str         ┆ f64            │\n",
      "╞═════════════╪════════════════╡\n",
      "│ Netherlands ┆ 900000.0       │\n",
      "│ USA         ┆ 3.8202e6       │\n",
      "└─────────────┴────────────────┘\n"
     ]
    }
   ],
   "source": [
    "result = ctx.execute(\n",
    "    \"\"\"\n",
    "        SELECT country, AVG(population) as avg_population\n",
    "        FROM population\n",
    "        GROUP BY country\n",
    "    \"\"\"\n",
    ")\n",
    "print(result)"
   ]
  },
  {
   "cell_type": "code",
   "execution_count": 135,
   "metadata": {},
   "outputs": [
    {
     "name": "stdout",
     "output_type": "stream",
     "text": [
      "shape: (6, 2)\n",
      "┌─────────────┬────────────┐\n",
      "│ city        ┆ population │\n",
      "│ ---         ┆ ---        │\n",
      "│ str         ┆ i64        │\n",
      "╞═════════════╪════════════╡\n",
      "│ Amsterdam   ┆ 900000     │\n",
      "│ Phoenix     ┆ 1680000    │\n",
      "│ Houston     ┆ 2320000    │\n",
      "│ Chicago     ┆ 2705000    │\n",
      "│ Los Angeles ┆ 3997000    │\n",
      "│ New York    ┆ 8399000    │\n",
      "└─────────────┴────────────┘\n"
     ]
    }
   ],
   "source": [
    "result = ctx.execute(\n",
    "    \"\"\"\n",
    "        SELECT city, population\n",
    "        FROM population\n",
    "        ORDER BY population\n",
    "    \"\"\"\n",
    ")\n",
    "print(result)"
   ]
  },
  {
   "cell_type": "code",
   "execution_count": 136,
   "metadata": {},
   "outputs": [
    {
     "name": "stdout",
     "output_type": "stream",
     "text": [
      "shape: (6, 4)\n",
      "┌─────────────┬─────────────┬────────┬────────────┐\n",
      "│ country     ┆ city        ┆ income ┆ population │\n",
      "│ ---         ┆ ---         ┆ ---    ┆ ---        │\n",
      "│ str         ┆ str         ┆ i64    ┆ i64        │\n",
      "╞═════════════╪═════════════╪════════╪════════════╡\n",
      "│ USA         ┆ New York    ┆ 55000  ┆ 8399000    │\n",
      "│ USA         ┆ Los Angeles ┆ 62000  ┆ 3997000    │\n",
      "│ USA         ┆ Chicago     ┆ 48000  ┆ 2705000    │\n",
      "│ USA         ┆ Houston     ┆ 52000  ┆ 2320000    │\n",
      "│ USA         ┆ Phoenix     ┆ null   ┆ 1680000    │\n",
      "│ Netherlands ┆ Amsterdam   ┆ 42000  ┆ 900000     │\n",
      "└─────────────┴─────────────┴────────┴────────────┘\n"
     ]
    }
   ],
   "source": [
    "income = pl.DataFrame(\n",
    "    {\n",
    "        \"city\": [\n",
    "            \"New York\",\n",
    "            \"Los Angeles\",\n",
    "            \"Chicago\",\n",
    "            \"Houston\",\n",
    "            \"Amsterdam\",\n",
    "            \"Rotterdam\",\n",
    "            \"Utrecht\",\n",
    "        ],\n",
    "        \"country\": [\n",
    "            \"USA\",\n",
    "            \"USA\",\n",
    "            \"USA\",\n",
    "            \"USA\",\n",
    "            \"Netherlands\",\n",
    "            \"Netherlands\",\n",
    "            \"Netherlands\",\n",
    "        ],\n",
    "        \"income\": [55000, 62000, 48000, 52000, 42000, 38000, 41000],\n",
    "    }\n",
    ")\n",
    "ctx.register_many(income=income)\n",
    "result = ctx.execute(\n",
    "    \"\"\"\n",
    "        SELECT country, city, income, population\n",
    "        FROM population\n",
    "        LEFT JOIN income on population.city = income.city\n",
    "    \"\"\"\n",
    ")\n",
    "print(result)"
   ]
  },
  {
   "cell_type": "markdown",
   "metadata": {},
   "source": [
    "### FUNCIONES\n",
    "Lista en https://docs.rs/polars-sql/latest/src/polars_sql/keywords.rs.html"
   ]
  },
  {
   "cell_type": "code",
   "execution_count": 137,
   "metadata": {},
   "outputs": [
    {
     "name": "stdout",
     "output_type": "stream",
     "text": [
      "shape: (5, 2)\n",
      "┌─────────────┬────────────┐\n",
      "│ city        ┆ population │\n",
      "│ ---         ┆ ---        │\n",
      "│ str         ┆ i64        │\n",
      "╞═════════════╪════════════╡\n",
      "│ New York    ┆ 8399000    │\n",
      "│ Los Angeles ┆ 3997000    │\n",
      "│ Chicago     ┆ 2705000    │\n",
      "│ Houston     ┆ 2320000    │\n",
      "│ Phoenix     ┆ 1680000    │\n",
      "└─────────────┴────────────┘\n"
     ]
    }
   ],
   "source": [
    "result = ctx.execute(\n",
    "    \"\"\"\n",
    "        SELECT city, population\n",
    "        FROM population\n",
    "        WHERE STARTS_WITH(country,'U')\n",
    "    \"\"\"\n",
    ")\n",
    "print(result)"
   ]
  },
  {
   "cell_type": "code",
   "execution_count": 138,
   "metadata": {},
   "outputs": [
    {
     "name": "stdout",
     "output_type": "stream",
     "text": [
      "shape: (150, 5)\n",
      "┌──────────────┬─────────────┬──────────────┬─────────────┬───────────┐\n",
      "│ sepal.length ┆ sepal.width ┆ petal.length ┆ petal.width ┆ variety   │\n",
      "│ ---          ┆ ---         ┆ ---          ┆ ---         ┆ ---       │\n",
      "│ f64          ┆ f64         ┆ f64          ┆ f64         ┆ str       │\n",
      "╞══════════════╪═════════════╪══════════════╪═════════════╪═══════════╡\n",
      "│ 5.1          ┆ 3.5         ┆ 1.4          ┆ 0.2         ┆ Setosa    │\n",
      "│ 4.9          ┆ 3.0         ┆ 1.4          ┆ 0.2         ┆ Setosa    │\n",
      "│ 4.7          ┆ 3.2         ┆ 1.3          ┆ 0.2         ┆ Setosa    │\n",
      "│ 4.6          ┆ 3.1         ┆ 1.5          ┆ 0.2         ┆ Setosa    │\n",
      "│ 5.0          ┆ 3.6         ┆ 1.4          ┆ 0.2         ┆ Setosa    │\n",
      "│ …            ┆ …           ┆ …            ┆ …           ┆ …         │\n",
      "│ 6.7          ┆ 3.0         ┆ 5.2          ┆ 2.3         ┆ Virginica │\n",
      "│ 6.3          ┆ 2.5         ┆ 5.0          ┆ 1.9         ┆ Virginica │\n",
      "│ 6.5          ┆ 3.0         ┆ 5.2          ┆ 2.0         ┆ Virginica │\n",
      "│ 6.2          ┆ 3.4         ┆ 5.4          ┆ 2.3         ┆ Virginica │\n",
      "│ 5.9          ┆ 3.0         ┆ 5.1          ┆ 1.8         ┆ Virginica │\n",
      "└──────────────┴─────────────┴──────────────┴─────────────┴───────────┘\n"
     ]
    }
   ],
   "source": [
    "result = ctx.execute(\n",
    "    \"\"\"\n",
    "        SELECT *\n",
    "        FROM read_csv('iris/iris.csv')\n",
    "    \"\"\"\n",
    ")\n",
    "print(result)"
   ]
  },
  {
   "cell_type": "markdown",
   "metadata": {},
   "source": [
    "### CREATE TABLE"
   ]
  },
  {
   "cell_type": "code",
   "execution_count": 139,
   "metadata": {},
   "outputs": [
    {
     "name": "stdout",
     "output_type": "stream",
     "text": [
      "shape: (2, 2)\n",
      "┌─────────┬─────┐\n",
      "│ name    ┆ age │\n",
      "│ ---     ┆ --- │\n",
      "│ str     ┆ i64 │\n",
      "╞═════════╪═════╡\n",
      "│ Charlie ┆ 35  │\n",
      "│ David   ┆ 40  │\n",
      "└─────────┴─────┘\n"
     ]
    }
   ],
   "source": [
    "data = {\"name\": [\"Alice\", \"Bob\", \"Charlie\", \"David\"], \"age\": [25, 30, 35, 40]}\n",
    "df = pl.LazyFrame(data)\n",
    "\n",
    "ctx = pl.SQLContext(my_table=df, eager=True)\n",
    "\n",
    "result = ctx.execute(\n",
    "    \"\"\"\n",
    "    CREATE TABLE older_people\n",
    "    AS\n",
    "    SELECT * FROM my_table WHERE age > 30\n",
    "\"\"\"\n",
    ")\n",
    "\n",
    "print(ctx.execute(\"SELECT * FROM older_people\"))"
   ]
  },
  {
   "cell_type": "markdown",
   "metadata": {},
   "source": [
    "### Common Table Expresions\n",
    "Las Expresiones de Tabla Comunes (CTEs, por sus siglas en inglés) son una característica de SQL que te permiten definir un conjunto de resultados temporal con nombre, que puede ser referenciado dentro de una declaración SQL. Las CTEs proporcionan una manera de desglosar consultas SQL complejas en partes más pequeñas y manejables, lo que facilita su lectura, escritura y mantenimiento.\n",
    "\n",
    "Una CTE se define utilizando la palabra clave WITH, seguida de una lista separada por comas de subconsultas, cada una de las cuales define un conjunto de resultados con nombre que puede ser utilizado en consultas posteriores. La sintaxis para una CTE es la siguiente:"
   ]
  },
  {
   "cell_type": "code",
   "execution_count": 140,
   "metadata": {},
   "outputs": [
    {
     "name": "stdout",
     "output_type": "stream",
     "text": [
      "shape: (1, 2)\n",
      "┌─────────┬─────┐\n",
      "│ name    ┆ age │\n",
      "│ ---     ┆ --- │\n",
      "│ str     ┆ i64 │\n",
      "╞═════════╪═════╡\n",
      "│ Charlie ┆ 35  │\n",
      "└─────────┴─────┘\n"
     ]
    }
   ],
   "source": [
    "ctx = pl.SQLContext()\n",
    "df = pl.LazyFrame(\n",
    "    {\"name\": [\"Alice\", \"Bob\", \"Charlie\", \"David\"], \"age\": [25, 30, 35, 40]}\n",
    ")\n",
    "ctx.register(\"my_table\", df)\n",
    "\n",
    "result = ctx.execute(\n",
    "    \"\"\"\n",
    "    WITH older_people AS (\n",
    "        SELECT * FROM my_table WHERE age > 30\n",
    "    )\n",
    "    SELECT * FROM older_people WHERE STARTS_WITH(name,'C')\n",
    "\"\"\",\n",
    "    eager=True,\n",
    ")\n",
    "\n",
    "print(result)"
   ]
  },
  {
   "cell_type": "markdown",
   "metadata": {},
   "source": [
    "# Visualización"
   ]
  },
  {
   "cell_type": "code",
   "execution_count": 141,
   "metadata": {},
   "outputs": [
    {
     "name": "stdout",
     "output_type": "stream",
     "text": [
      "shape: (3, 2)\n",
      "┌────────────┬──────────────┐\n",
      "│ variety    ┆ petal.length │\n",
      "│ ---        ┆ ---          │\n",
      "│ str        ┆ f64          │\n",
      "╞════════════╪══════════════╡\n",
      "│ Setosa     ┆ 1.462        │\n",
      "│ Versicolor ┆ 4.26         │\n",
      "│ Virginica  ┆ 5.552        │\n",
      "└────────────┴──────────────┘\n"
     ]
    }
   ],
   "source": [
    "import polars as pl\n",
    "\n",
    "path = \"iris/iris.csv\"\n",
    "\n",
    "df = pl.scan_csv(path).group_by(\"variety\").agg(pl.col(\"petal.length\").mean()).collect()\n",
    "print(df)"
   ]
  },
  {
   "cell_type": "code",
   "execution_count": 142,
   "metadata": {},
   "outputs": [
    {
     "data": {
      "text/html": [
       "<script type=\"esms-options\">{\"shimMode\": true}</script><style>*[data-root-id],\n",
       "*[data-root-id] > * {\n",
       "  box-sizing: border-box;\n",
       "  font-family: var(--jp-ui-font-family);\n",
       "  font-size: var(--jp-ui-font-size1);\n",
       "  color: var(--vscode-editor-foreground, var(--jp-ui-font-color1));\n",
       "}\n",
       "\n",
       "/* Override VSCode background color */\n",
       ".cell-output-ipywidget-background:has(\n",
       "    > .cell-output-ipywidget-background > .lm-Widget > *[data-root-id]\n",
       "  ),\n",
       ".cell-output-ipywidget-background:has(> .lm-Widget > *[data-root-id]) {\n",
       "  background-color: transparent !important;\n",
       "}\n",
       "</style>"
      ]
     },
     "metadata": {},
     "output_type": "display_data"
    },
    {
     "data": {
      "application/javascript": [
       "(function(root) {\n",
       "  function now() {\n",
       "    return new Date();\n",
       "  }\n",
       "\n",
       "  var force = true;\n",
       "  var py_version = '3.5.1'.replace('rc', '-rc.').replace('.dev', '-dev.');\n",
       "  var reloading = false;\n",
       "  var Bokeh = root.Bokeh;\n",
       "\n",
       "  if (typeof (root._bokeh_timeout) === \"undefined\" || force) {\n",
       "    root._bokeh_timeout = Date.now() + 5000;\n",
       "    root._bokeh_failed_load = false;\n",
       "  }\n",
       "\n",
       "  function run_callbacks() {\n",
       "    try {\n",
       "      root._bokeh_onload_callbacks.forEach(function(callback) {\n",
       "        if (callback != null)\n",
       "          callback();\n",
       "      });\n",
       "    } finally {\n",
       "      delete root._bokeh_onload_callbacks;\n",
       "    }\n",
       "    console.debug(\"Bokeh: all callbacks have finished\");\n",
       "  }\n",
       "\n",
       "  function load_libs(css_urls, js_urls, js_modules, js_exports, callback) {\n",
       "    if (css_urls == null) css_urls = [];\n",
       "    if (js_urls == null) js_urls = [];\n",
       "    if (js_modules == null) js_modules = [];\n",
       "    if (js_exports == null) js_exports = {};\n",
       "\n",
       "    root._bokeh_onload_callbacks.push(callback);\n",
       "\n",
       "    if (root._bokeh_is_loading > 0) {\n",
       "      console.debug(\"Bokeh: BokehJS is being loaded, scheduling callback at\", now());\n",
       "      return null;\n",
       "    }\n",
       "    if (js_urls.length === 0 && js_modules.length === 0 && Object.keys(js_exports).length === 0) {\n",
       "      run_callbacks();\n",
       "      return null;\n",
       "    }\n",
       "    if (!reloading) {\n",
       "      console.debug(\"Bokeh: BokehJS not loaded, scheduling load and callback at\", now());\n",
       "    }\n",
       "\n",
       "    function on_load() {\n",
       "      root._bokeh_is_loading--;\n",
       "      if (root._bokeh_is_loading === 0) {\n",
       "        console.debug(\"Bokeh: all BokehJS libraries/stylesheets loaded\");\n",
       "        run_callbacks()\n",
       "      }\n",
       "    }\n",
       "    window._bokeh_on_load = on_load\n",
       "\n",
       "    function on_error() {\n",
       "      console.error(\"failed to load \" + url);\n",
       "    }\n",
       "\n",
       "    var skip = [];\n",
       "    if (window.requirejs) {\n",
       "      window.requirejs.config({'packages': {}, 'paths': {}, 'shim': {}});\n",
       "      root._bokeh_is_loading = css_urls.length + 0;\n",
       "    } else {\n",
       "      root._bokeh_is_loading = css_urls.length + js_urls.length + js_modules.length + Object.keys(js_exports).length;\n",
       "    }\n",
       "\n",
       "    var existing_stylesheets = []\n",
       "    var links = document.getElementsByTagName('link')\n",
       "    for (var i = 0; i < links.length; i++) {\n",
       "      var link = links[i]\n",
       "      if (link.href != null) {\n",
       "\texisting_stylesheets.push(link.href)\n",
       "      }\n",
       "    }\n",
       "    for (var i = 0; i < css_urls.length; i++) {\n",
       "      var url = css_urls[i];\n",
       "      if (existing_stylesheets.indexOf(url) !== -1) {\n",
       "\ton_load()\n",
       "\tcontinue;\n",
       "      }\n",
       "      const element = document.createElement(\"link\");\n",
       "      element.onload = on_load;\n",
       "      element.onerror = on_error;\n",
       "      element.rel = \"stylesheet\";\n",
       "      element.type = \"text/css\";\n",
       "      element.href = url;\n",
       "      console.debug(\"Bokeh: injecting link tag for BokehJS stylesheet: \", url);\n",
       "      document.body.appendChild(element);\n",
       "    }    var existing_scripts = []\n",
       "    var scripts = document.getElementsByTagName('script')\n",
       "    for (var i = 0; i < scripts.length; i++) {\n",
       "      var script = scripts[i]\n",
       "      if (script.src != null) {\n",
       "\texisting_scripts.push(script.src)\n",
       "      }\n",
       "    }\n",
       "    for (var i = 0; i < js_urls.length; i++) {\n",
       "      var url = js_urls[i];\n",
       "      if (skip.indexOf(url) !== -1 || existing_scripts.indexOf(url) !== -1) {\n",
       "\tif (!window.requirejs) {\n",
       "\t  on_load();\n",
       "\t}\n",
       "\tcontinue;\n",
       "      }\n",
       "      var element = document.createElement('script');\n",
       "      element.onload = on_load;\n",
       "      element.onerror = on_error;\n",
       "      element.async = false;\n",
       "      element.src = url;\n",
       "      console.debug(\"Bokeh: injecting script tag for BokehJS library: \", url);\n",
       "      document.head.appendChild(element);\n",
       "    }\n",
       "    for (var i = 0; i < js_modules.length; i++) {\n",
       "      var url = js_modules[i];\n",
       "      if (skip.indexOf(url) !== -1 || existing_scripts.indexOf(url) !== -1) {\n",
       "\tif (!window.requirejs) {\n",
       "\t  on_load();\n",
       "\t}\n",
       "\tcontinue;\n",
       "      }\n",
       "      var element = document.createElement('script');\n",
       "      element.onload = on_load;\n",
       "      element.onerror = on_error;\n",
       "      element.async = false;\n",
       "      element.src = url;\n",
       "      element.type = \"module\";\n",
       "      console.debug(\"Bokeh: injecting script tag for BokehJS library: \", url);\n",
       "      document.head.appendChild(element);\n",
       "    }\n",
       "    for (const name in js_exports) {\n",
       "      var url = js_exports[name];\n",
       "      if (skip.indexOf(url) >= 0 || root[name] != null) {\n",
       "\tif (!window.requirejs) {\n",
       "\t  on_load();\n",
       "\t}\n",
       "\tcontinue;\n",
       "      }\n",
       "      var element = document.createElement('script');\n",
       "      element.onerror = on_error;\n",
       "      element.async = false;\n",
       "      element.type = \"module\";\n",
       "      console.debug(\"Bokeh: injecting script tag for BokehJS library: \", url);\n",
       "      element.textContent = `\n",
       "      import ${name} from \"${url}\"\n",
       "      window.${name} = ${name}\n",
       "      window._bokeh_on_load()\n",
       "      `\n",
       "      document.head.appendChild(element);\n",
       "    }\n",
       "    if (!js_urls.length && !js_modules.length) {\n",
       "      on_load()\n",
       "    }\n",
       "  };\n",
       "\n",
       "  function inject_raw_css(css) {\n",
       "    const element = document.createElement(\"style\");\n",
       "    element.appendChild(document.createTextNode(css));\n",
       "    document.body.appendChild(element);\n",
       "  }\n",
       "\n",
       "  var js_urls = [\"https://cdn.bokeh.org/bokeh/release/bokeh-3.5.1.min.js\", \"https://cdn.bokeh.org/bokeh/release/bokeh-gl-3.5.1.min.js\", \"https://cdn.bokeh.org/bokeh/release/bokeh-widgets-3.5.1.min.js\", \"https://cdn.bokeh.org/bokeh/release/bokeh-tables-3.5.1.min.js\", \"https://cdn.holoviz.org/panel/1.5.0-b.4/dist/panel.min.js\"];\n",
       "  var js_modules = [\"https://cdn.holoviz.org/panel/1.5.0-b.4/dist/bundled/reactiveesm/es-module-shims@^1.10.0/dist/es-module-shims.min.js\"];\n",
       "  var js_exports = {};\n",
       "  var css_urls = [];\n",
       "  var inline_js = [    function(Bokeh) {\n",
       "      Bokeh.set_log_level(\"info\");\n",
       "    },\n",
       "function(Bokeh) {} // ensure no trailing comma for IE\n",
       "  ];\n",
       "\n",
       "  function run_inline_js() {\n",
       "    if ((root.Bokeh !== undefined) || (force === true)) {\n",
       "      for (var i = 0; i < inline_js.length; i++) {\n",
       "\ttry {\n",
       "          inline_js[i].call(root, root.Bokeh);\n",
       "\t} catch(e) {\n",
       "\t  if (!reloading) {\n",
       "\t    throw e;\n",
       "\t  }\n",
       "\t}\n",
       "      }\n",
       "      // Cache old bokeh versions\n",
       "      if (Bokeh != undefined && !reloading) {\n",
       "\tvar NewBokeh = root.Bokeh;\n",
       "\tif (Bokeh.versions === undefined) {\n",
       "\t  Bokeh.versions = new Map();\n",
       "\t}\n",
       "\tif (NewBokeh.version !== Bokeh.version) {\n",
       "\t  Bokeh.versions.set(NewBokeh.version, NewBokeh)\n",
       "\t}\n",
       "\troot.Bokeh = Bokeh;\n",
       "      }} else if (Date.now() < root._bokeh_timeout) {\n",
       "      setTimeout(run_inline_js, 100);\n",
       "    } else if (!root._bokeh_failed_load) {\n",
       "      console.log(\"Bokeh: BokehJS failed to load within specified timeout.\");\n",
       "      root._bokeh_failed_load = true;\n",
       "    }\n",
       "    root._bokeh_is_initializing = false\n",
       "  }\n",
       "\n",
       "  function load_or_wait() {\n",
       "    // Implement a backoff loop that tries to ensure we do not load multiple\n",
       "    // versions of Bokeh and its dependencies at the same time.\n",
       "    // In recent versions we use the root._bokeh_is_initializing flag\n",
       "    // to determine whether there is an ongoing attempt to initialize\n",
       "    // bokeh, however for backward compatibility we also try to ensure\n",
       "    // that we do not start loading a newer (Panel>=1.0 and Bokeh>3) version\n",
       "    // before older versions are fully initialized.\n",
       "    if (root._bokeh_is_initializing && Date.now() > root._bokeh_timeout) {\n",
       "      root._bokeh_is_initializing = false;\n",
       "      root._bokeh_onload_callbacks = undefined;\n",
       "      console.log(\"Bokeh: BokehJS was loaded multiple times but one version failed to initialize.\");\n",
       "      load_or_wait();\n",
       "    } else if (root._bokeh_is_initializing || (typeof root._bokeh_is_initializing === \"undefined\" && root._bokeh_onload_callbacks !== undefined)) {\n",
       "      setTimeout(load_or_wait, 100);\n",
       "    } else {\n",
       "      root._bokeh_is_initializing = true\n",
       "      root._bokeh_onload_callbacks = []\n",
       "      var bokeh_loaded = Bokeh != null && (Bokeh.version === py_version || (Bokeh.versions !== undefined && Bokeh.versions.has(py_version)));\n",
       "      if (!reloading && !bokeh_loaded) {\n",
       "\troot.Bokeh = undefined;\n",
       "      }\n",
       "      load_libs(css_urls, js_urls, js_modules, js_exports, function() {\n",
       "\tconsole.debug(\"Bokeh: BokehJS plotting callback run at\", now());\n",
       "\trun_inline_js();\n",
       "      });\n",
       "    }\n",
       "  }\n",
       "  // Give older versions of the autoload script a head-start to ensure\n",
       "  // they initialize before we start loading newer version.\n",
       "  setTimeout(load_or_wait, 100)\n",
       "}(window));"
      ],
      "application/vnd.holoviews_load.v0+json": "(function(root) {\n  function now() {\n    return new Date();\n  }\n\n  var force = true;\n  var py_version = '3.5.1'.replace('rc', '-rc.').replace('.dev', '-dev.');\n  var reloading = false;\n  var Bokeh = root.Bokeh;\n\n  if (typeof (root._bokeh_timeout) === \"undefined\" || force) {\n    root._bokeh_timeout = Date.now() + 5000;\n    root._bokeh_failed_load = false;\n  }\n\n  function run_callbacks() {\n    try {\n      root._bokeh_onload_callbacks.forEach(function(callback) {\n        if (callback != null)\n          callback();\n      });\n    } finally {\n      delete root._bokeh_onload_callbacks;\n    }\n    console.debug(\"Bokeh: all callbacks have finished\");\n  }\n\n  function load_libs(css_urls, js_urls, js_modules, js_exports, callback) {\n    if (css_urls == null) css_urls = [];\n    if (js_urls == null) js_urls = [];\n    if (js_modules == null) js_modules = [];\n    if (js_exports == null) js_exports = {};\n\n    root._bokeh_onload_callbacks.push(callback);\n\n    if (root._bokeh_is_loading > 0) {\n      console.debug(\"Bokeh: BokehJS is being loaded, scheduling callback at\", now());\n      return null;\n    }\n    if (js_urls.length === 0 && js_modules.length === 0 && Object.keys(js_exports).length === 0) {\n      run_callbacks();\n      return null;\n    }\n    if (!reloading) {\n      console.debug(\"Bokeh: BokehJS not loaded, scheduling load and callback at\", now());\n    }\n\n    function on_load() {\n      root._bokeh_is_loading--;\n      if (root._bokeh_is_loading === 0) {\n        console.debug(\"Bokeh: all BokehJS libraries/stylesheets loaded\");\n        run_callbacks()\n      }\n    }\n    window._bokeh_on_load = on_load\n\n    function on_error() {\n      console.error(\"failed to load \" + url);\n    }\n\n    var skip = [];\n    if (window.requirejs) {\n      window.requirejs.config({'packages': {}, 'paths': {}, 'shim': {}});\n      root._bokeh_is_loading = css_urls.length + 0;\n    } else {\n      root._bokeh_is_loading = css_urls.length + js_urls.length + js_modules.length + Object.keys(js_exports).length;\n    }\n\n    var existing_stylesheets = []\n    var links = document.getElementsByTagName('link')\n    for (var i = 0; i < links.length; i++) {\n      var link = links[i]\n      if (link.href != null) {\n\texisting_stylesheets.push(link.href)\n      }\n    }\n    for (var i = 0; i < css_urls.length; i++) {\n      var url = css_urls[i];\n      if (existing_stylesheets.indexOf(url) !== -1) {\n\ton_load()\n\tcontinue;\n      }\n      const element = document.createElement(\"link\");\n      element.onload = on_load;\n      element.onerror = on_error;\n      element.rel = \"stylesheet\";\n      element.type = \"text/css\";\n      element.href = url;\n      console.debug(\"Bokeh: injecting link tag for BokehJS stylesheet: \", url);\n      document.body.appendChild(element);\n    }    var existing_scripts = []\n    var scripts = document.getElementsByTagName('script')\n    for (var i = 0; i < scripts.length; i++) {\n      var script = scripts[i]\n      if (script.src != null) {\n\texisting_scripts.push(script.src)\n      }\n    }\n    for (var i = 0; i < js_urls.length; i++) {\n      var url = js_urls[i];\n      if (skip.indexOf(url) !== -1 || existing_scripts.indexOf(url) !== -1) {\n\tif (!window.requirejs) {\n\t  on_load();\n\t}\n\tcontinue;\n      }\n      var element = document.createElement('script');\n      element.onload = on_load;\n      element.onerror = on_error;\n      element.async = false;\n      element.src = url;\n      console.debug(\"Bokeh: injecting script tag for BokehJS library: \", url);\n      document.head.appendChild(element);\n    }\n    for (var i = 0; i < js_modules.length; i++) {\n      var url = js_modules[i];\n      if (skip.indexOf(url) !== -1 || existing_scripts.indexOf(url) !== -1) {\n\tif (!window.requirejs) {\n\t  on_load();\n\t}\n\tcontinue;\n      }\n      var element = document.createElement('script');\n      element.onload = on_load;\n      element.onerror = on_error;\n      element.async = false;\n      element.src = url;\n      element.type = \"module\";\n      console.debug(\"Bokeh: injecting script tag for BokehJS library: \", url);\n      document.head.appendChild(element);\n    }\n    for (const name in js_exports) {\n      var url = js_exports[name];\n      if (skip.indexOf(url) >= 0 || root[name] != null) {\n\tif (!window.requirejs) {\n\t  on_load();\n\t}\n\tcontinue;\n      }\n      var element = document.createElement('script');\n      element.onerror = on_error;\n      element.async = false;\n      element.type = \"module\";\n      console.debug(\"Bokeh: injecting script tag for BokehJS library: \", url);\n      element.textContent = `\n      import ${name} from \"${url}\"\n      window.${name} = ${name}\n      window._bokeh_on_load()\n      `\n      document.head.appendChild(element);\n    }\n    if (!js_urls.length && !js_modules.length) {\n      on_load()\n    }\n  };\n\n  function inject_raw_css(css) {\n    const element = document.createElement(\"style\");\n    element.appendChild(document.createTextNode(css));\n    document.body.appendChild(element);\n  }\n\n  var js_urls = [\"https://cdn.bokeh.org/bokeh/release/bokeh-3.5.1.min.js\", \"https://cdn.bokeh.org/bokeh/release/bokeh-gl-3.5.1.min.js\", \"https://cdn.bokeh.org/bokeh/release/bokeh-widgets-3.5.1.min.js\", \"https://cdn.bokeh.org/bokeh/release/bokeh-tables-3.5.1.min.js\", \"https://cdn.holoviz.org/panel/1.5.0-b.4/dist/panel.min.js\"];\n  var js_modules = [\"https://cdn.holoviz.org/panel/1.5.0-b.4/dist/bundled/reactiveesm/es-module-shims@^1.10.0/dist/es-module-shims.min.js\"];\n  var js_exports = {};\n  var css_urls = [];\n  var inline_js = [    function(Bokeh) {\n      Bokeh.set_log_level(\"info\");\n    },\nfunction(Bokeh) {} // ensure no trailing comma for IE\n  ];\n\n  function run_inline_js() {\n    if ((root.Bokeh !== undefined) || (force === true)) {\n      for (var i = 0; i < inline_js.length; i++) {\n\ttry {\n          inline_js[i].call(root, root.Bokeh);\n\t} catch(e) {\n\t  if (!reloading) {\n\t    throw e;\n\t  }\n\t}\n      }\n      // Cache old bokeh versions\n      if (Bokeh != undefined && !reloading) {\n\tvar NewBokeh = root.Bokeh;\n\tif (Bokeh.versions === undefined) {\n\t  Bokeh.versions = new Map();\n\t}\n\tif (NewBokeh.version !== Bokeh.version) {\n\t  Bokeh.versions.set(NewBokeh.version, NewBokeh)\n\t}\n\troot.Bokeh = Bokeh;\n      }} else if (Date.now() < root._bokeh_timeout) {\n      setTimeout(run_inline_js, 100);\n    } else if (!root._bokeh_failed_load) {\n      console.log(\"Bokeh: BokehJS failed to load within specified timeout.\");\n      root._bokeh_failed_load = true;\n    }\n    root._bokeh_is_initializing = false\n  }\n\n  function load_or_wait() {\n    // Implement a backoff loop that tries to ensure we do not load multiple\n    // versions of Bokeh and its dependencies at the same time.\n    // In recent versions we use the root._bokeh_is_initializing flag\n    // to determine whether there is an ongoing attempt to initialize\n    // bokeh, however for backward compatibility we also try to ensure\n    // that we do not start loading a newer (Panel>=1.0 and Bokeh>3) version\n    // before older versions are fully initialized.\n    if (root._bokeh_is_initializing && Date.now() > root._bokeh_timeout) {\n      root._bokeh_is_initializing = false;\n      root._bokeh_onload_callbacks = undefined;\n      console.log(\"Bokeh: BokehJS was loaded multiple times but one version failed to initialize.\");\n      load_or_wait();\n    } else if (root._bokeh_is_initializing || (typeof root._bokeh_is_initializing === \"undefined\" && root._bokeh_onload_callbacks !== undefined)) {\n      setTimeout(load_or_wait, 100);\n    } else {\n      root._bokeh_is_initializing = true\n      root._bokeh_onload_callbacks = []\n      var bokeh_loaded = Bokeh != null && (Bokeh.version === py_version || (Bokeh.versions !== undefined && Bokeh.versions.has(py_version)));\n      if (!reloading && !bokeh_loaded) {\n\troot.Bokeh = undefined;\n      }\n      load_libs(css_urls, js_urls, js_modules, js_exports, function() {\n\tconsole.debug(\"Bokeh: BokehJS plotting callback run at\", now());\n\trun_inline_js();\n      });\n    }\n  }\n  // Give older versions of the autoload script a head-start to ensure\n  // they initialize before we start loading newer version.\n  setTimeout(load_or_wait, 100)\n}(window));"
     },
     "metadata": {},
     "output_type": "display_data"
    },
    {
     "data": {
      "application/javascript": [
       "\n",
       "if ((window.PyViz === undefined) || (window.PyViz instanceof HTMLElement)) {\n",
       "  window.PyViz = {comms: {}, comm_status:{}, kernels:{}, receivers: {}, plot_index: []}\n",
       "}\n",
       "\n",
       "\n",
       "    function JupyterCommManager() {\n",
       "    }\n",
       "\n",
       "    JupyterCommManager.prototype.register_target = function(plot_id, comm_id, msg_handler) {\n",
       "      if (window.comm_manager || ((window.Jupyter !== undefined) && (Jupyter.notebook.kernel != null))) {\n",
       "        var comm_manager = window.comm_manager || Jupyter.notebook.kernel.comm_manager;\n",
       "        comm_manager.register_target(comm_id, function(comm) {\n",
       "          comm.on_msg(msg_handler);\n",
       "        });\n",
       "      } else if ((plot_id in window.PyViz.kernels) && (window.PyViz.kernels[plot_id])) {\n",
       "        window.PyViz.kernels[plot_id].registerCommTarget(comm_id, function(comm) {\n",
       "          comm.onMsg = msg_handler;\n",
       "        });\n",
       "      } else if (typeof google != 'undefined' && google.colab.kernel != null) {\n",
       "        google.colab.kernel.comms.registerTarget(comm_id, (comm) => {\n",
       "          var messages = comm.messages[Symbol.asyncIterator]();\n",
       "          function processIteratorResult(result) {\n",
       "            var message = result.value;\n",
       "            console.log(message)\n",
       "            var content = {data: message.data, comm_id};\n",
       "            var buffers = []\n",
       "            for (var buffer of message.buffers || []) {\n",
       "              buffers.push(new DataView(buffer))\n",
       "            }\n",
       "            var metadata = message.metadata || {};\n",
       "            var msg = {content, buffers, metadata}\n",
       "            msg_handler(msg);\n",
       "            return messages.next().then(processIteratorResult);\n",
       "          }\n",
       "          return messages.next().then(processIteratorResult);\n",
       "        })\n",
       "      }\n",
       "    }\n",
       "\n",
       "    JupyterCommManager.prototype.get_client_comm = function(plot_id, comm_id, msg_handler) {\n",
       "      if (comm_id in window.PyViz.comms) {\n",
       "        return window.PyViz.comms[comm_id];\n",
       "      } else if (window.comm_manager || ((window.Jupyter !== undefined) && (Jupyter.notebook.kernel != null))) {\n",
       "        var comm_manager = window.comm_manager || Jupyter.notebook.kernel.comm_manager;\n",
       "        var comm = comm_manager.new_comm(comm_id, {}, {}, {}, comm_id);\n",
       "        if (msg_handler) {\n",
       "          comm.on_msg(msg_handler);\n",
       "        }\n",
       "      } else if ((plot_id in window.PyViz.kernels) && (window.PyViz.kernels[plot_id])) {\n",
       "        var comm = window.PyViz.kernels[plot_id].connectToComm(comm_id);\n",
       "        comm.open();\n",
       "        if (msg_handler) {\n",
       "          comm.onMsg = msg_handler;\n",
       "        }\n",
       "      } else if (typeof google != 'undefined' && google.colab.kernel != null) {\n",
       "        var comm_promise = google.colab.kernel.comms.open(comm_id)\n",
       "        comm_promise.then((comm) => {\n",
       "          window.PyViz.comms[comm_id] = comm;\n",
       "          if (msg_handler) {\n",
       "            var messages = comm.messages[Symbol.asyncIterator]();\n",
       "            function processIteratorResult(result) {\n",
       "              var message = result.value;\n",
       "              var content = {data: message.data};\n",
       "              var metadata = message.metadata || {comm_id};\n",
       "              var msg = {content, metadata}\n",
       "              msg_handler(msg);\n",
       "              return messages.next().then(processIteratorResult);\n",
       "            }\n",
       "            return messages.next().then(processIteratorResult);\n",
       "          }\n",
       "        }) \n",
       "        var sendClosure = (data, metadata, buffers, disposeOnDone) => {\n",
       "          return comm_promise.then((comm) => {\n",
       "            comm.send(data, metadata, buffers, disposeOnDone);\n",
       "          });\n",
       "        };\n",
       "        var comm = {\n",
       "          send: sendClosure\n",
       "        };\n",
       "      }\n",
       "      window.PyViz.comms[comm_id] = comm;\n",
       "      return comm;\n",
       "    }\n",
       "    window.PyViz.comm_manager = new JupyterCommManager();\n",
       "    \n",
       "\n",
       "\n",
       "var JS_MIME_TYPE = 'application/javascript';\n",
       "var HTML_MIME_TYPE = 'text/html';\n",
       "var EXEC_MIME_TYPE = 'application/vnd.holoviews_exec.v0+json';\n",
       "var CLASS_NAME = 'output';\n",
       "\n",
       "/**\n",
       " * Render data to the DOM node\n",
       " */\n",
       "function render(props, node) {\n",
       "  var div = document.createElement(\"div\");\n",
       "  var script = document.createElement(\"script\");\n",
       "  node.appendChild(div);\n",
       "  node.appendChild(script);\n",
       "}\n",
       "\n",
       "/**\n",
       " * Handle when a new output is added\n",
       " */\n",
       "function handle_add_output(event, handle) {\n",
       "  var output_area = handle.output_area;\n",
       "  var output = handle.output;\n",
       "  if ((output.data == undefined) || (!output.data.hasOwnProperty(EXEC_MIME_TYPE))) {\n",
       "    return\n",
       "  }\n",
       "  var id = output.metadata[EXEC_MIME_TYPE][\"id\"];\n",
       "  var toinsert = output_area.element.find(\".\" + CLASS_NAME.split(' ')[0]);\n",
       "  if (id !== undefined) {\n",
       "    var nchildren = toinsert.length;\n",
       "    var html_node = toinsert[nchildren-1].children[0];\n",
       "    html_node.innerHTML = output.data[HTML_MIME_TYPE];\n",
       "    var scripts = [];\n",
       "    var nodelist = html_node.querySelectorAll(\"script\");\n",
       "    for (var i in nodelist) {\n",
       "      if (nodelist.hasOwnProperty(i)) {\n",
       "        scripts.push(nodelist[i])\n",
       "      }\n",
       "    }\n",
       "\n",
       "    scripts.forEach( function (oldScript) {\n",
       "      var newScript = document.createElement(\"script\");\n",
       "      var attrs = [];\n",
       "      var nodemap = oldScript.attributes;\n",
       "      for (var j in nodemap) {\n",
       "        if (nodemap.hasOwnProperty(j)) {\n",
       "          attrs.push(nodemap[j])\n",
       "        }\n",
       "      }\n",
       "      attrs.forEach(function(attr) { newScript.setAttribute(attr.name, attr.value) });\n",
       "      newScript.appendChild(document.createTextNode(oldScript.innerHTML));\n",
       "      oldScript.parentNode.replaceChild(newScript, oldScript);\n",
       "    });\n",
       "    if (JS_MIME_TYPE in output.data) {\n",
       "      toinsert[nchildren-1].children[1].textContent = output.data[JS_MIME_TYPE];\n",
       "    }\n",
       "    output_area._hv_plot_id = id;\n",
       "    if ((window.Bokeh !== undefined) && (id in Bokeh.index)) {\n",
       "      window.PyViz.plot_index[id] = Bokeh.index[id];\n",
       "    } else {\n",
       "      window.PyViz.plot_index[id] = null;\n",
       "    }\n",
       "  } else if (output.metadata[EXEC_MIME_TYPE][\"server_id\"] !== undefined) {\n",
       "    var bk_div = document.createElement(\"div\");\n",
       "    bk_div.innerHTML = output.data[HTML_MIME_TYPE];\n",
       "    var script_attrs = bk_div.children[0].attributes;\n",
       "    for (var i = 0; i < script_attrs.length; i++) {\n",
       "      toinsert[toinsert.length - 1].childNodes[1].setAttribute(script_attrs[i].name, script_attrs[i].value);\n",
       "    }\n",
       "    // store reference to server id on output_area\n",
       "    output_area._bokeh_server_id = output.metadata[EXEC_MIME_TYPE][\"server_id\"];\n",
       "  }\n",
       "}\n",
       "\n",
       "/**\n",
       " * Handle when an output is cleared or removed\n",
       " */\n",
       "function handle_clear_output(event, handle) {\n",
       "  var id = handle.cell.output_area._hv_plot_id;\n",
       "  var server_id = handle.cell.output_area._bokeh_server_id;\n",
       "  if (((id === undefined) || !(id in PyViz.plot_index)) && (server_id !== undefined)) { return; }\n",
       "  var comm = window.PyViz.comm_manager.get_client_comm(\"hv-extension-comm\", \"hv-extension-comm\", function () {});\n",
       "  if (server_id !== null) {\n",
       "    comm.send({event_type: 'server_delete', 'id': server_id});\n",
       "    return;\n",
       "  } else if (comm !== null) {\n",
       "    comm.send({event_type: 'delete', 'id': id});\n",
       "  }\n",
       "  delete PyViz.plot_index[id];\n",
       "  if ((window.Bokeh !== undefined) & (id in window.Bokeh.index)) {\n",
       "    var doc = window.Bokeh.index[id].model.document\n",
       "    doc.clear();\n",
       "    const i = window.Bokeh.documents.indexOf(doc);\n",
       "    if (i > -1) {\n",
       "      window.Bokeh.documents.splice(i, 1);\n",
       "    }\n",
       "  }\n",
       "}\n",
       "\n",
       "/**\n",
       " * Handle kernel restart event\n",
       " */\n",
       "function handle_kernel_cleanup(event, handle) {\n",
       "  delete PyViz.comms[\"hv-extension-comm\"];\n",
       "  window.PyViz.plot_index = {}\n",
       "}\n",
       "\n",
       "/**\n",
       " * Handle update_display_data messages\n",
       " */\n",
       "function handle_update_output(event, handle) {\n",
       "  handle_clear_output(event, {cell: {output_area: handle.output_area}})\n",
       "  handle_add_output(event, handle)\n",
       "}\n",
       "\n",
       "function register_renderer(events, OutputArea) {\n",
       "  function append_mime(data, metadata, element) {\n",
       "    // create a DOM node to render to\n",
       "    var toinsert = this.create_output_subarea(\n",
       "    metadata,\n",
       "    CLASS_NAME,\n",
       "    EXEC_MIME_TYPE\n",
       "    );\n",
       "    this.keyboard_manager.register_events(toinsert);\n",
       "    // Render to node\n",
       "    var props = {data: data, metadata: metadata[EXEC_MIME_TYPE]};\n",
       "    render(props, toinsert[0]);\n",
       "    element.append(toinsert);\n",
       "    return toinsert\n",
       "  }\n",
       "\n",
       "  events.on('output_added.OutputArea', handle_add_output);\n",
       "  events.on('output_updated.OutputArea', handle_update_output);\n",
       "  events.on('clear_output.CodeCell', handle_clear_output);\n",
       "  events.on('delete.Cell', handle_clear_output);\n",
       "  events.on('kernel_ready.Kernel', handle_kernel_cleanup);\n",
       "\n",
       "  OutputArea.prototype.register_mime_type(EXEC_MIME_TYPE, append_mime, {\n",
       "    safe: true,\n",
       "    index: 0\n",
       "  });\n",
       "}\n",
       "\n",
       "if (window.Jupyter !== undefined) {\n",
       "  try {\n",
       "    var events = require('base/js/events');\n",
       "    var OutputArea = require('notebook/js/outputarea').OutputArea;\n",
       "    if (OutputArea.prototype.mime_types().indexOf(EXEC_MIME_TYPE) == -1) {\n",
       "      register_renderer(events, OutputArea);\n",
       "    }\n",
       "  } catch(err) {\n",
       "  }\n",
       "}\n"
      ],
      "application/vnd.holoviews_load.v0+json": "\nif ((window.PyViz === undefined) || (window.PyViz instanceof HTMLElement)) {\n  window.PyViz = {comms: {}, comm_status:{}, kernels:{}, receivers: {}, plot_index: []}\n}\n\n\n    function JupyterCommManager() {\n    }\n\n    JupyterCommManager.prototype.register_target = function(plot_id, comm_id, msg_handler) {\n      if (window.comm_manager || ((window.Jupyter !== undefined) && (Jupyter.notebook.kernel != null))) {\n        var comm_manager = window.comm_manager || Jupyter.notebook.kernel.comm_manager;\n        comm_manager.register_target(comm_id, function(comm) {\n          comm.on_msg(msg_handler);\n        });\n      } else if ((plot_id in window.PyViz.kernels) && (window.PyViz.kernels[plot_id])) {\n        window.PyViz.kernels[plot_id].registerCommTarget(comm_id, function(comm) {\n          comm.onMsg = msg_handler;\n        });\n      } else if (typeof google != 'undefined' && google.colab.kernel != null) {\n        google.colab.kernel.comms.registerTarget(comm_id, (comm) => {\n          var messages = comm.messages[Symbol.asyncIterator]();\n          function processIteratorResult(result) {\n            var message = result.value;\n            console.log(message)\n            var content = {data: message.data, comm_id};\n            var buffers = []\n            for (var buffer of message.buffers || []) {\n              buffers.push(new DataView(buffer))\n            }\n            var metadata = message.metadata || {};\n            var msg = {content, buffers, metadata}\n            msg_handler(msg);\n            return messages.next().then(processIteratorResult);\n          }\n          return messages.next().then(processIteratorResult);\n        })\n      }\n    }\n\n    JupyterCommManager.prototype.get_client_comm = function(plot_id, comm_id, msg_handler) {\n      if (comm_id in window.PyViz.comms) {\n        return window.PyViz.comms[comm_id];\n      } else if (window.comm_manager || ((window.Jupyter !== undefined) && (Jupyter.notebook.kernel != null))) {\n        var comm_manager = window.comm_manager || Jupyter.notebook.kernel.comm_manager;\n        var comm = comm_manager.new_comm(comm_id, {}, {}, {}, comm_id);\n        if (msg_handler) {\n          comm.on_msg(msg_handler);\n        }\n      } else if ((plot_id in window.PyViz.kernels) && (window.PyViz.kernels[plot_id])) {\n        var comm = window.PyViz.kernels[plot_id].connectToComm(comm_id);\n        comm.open();\n        if (msg_handler) {\n          comm.onMsg = msg_handler;\n        }\n      } else if (typeof google != 'undefined' && google.colab.kernel != null) {\n        var comm_promise = google.colab.kernel.comms.open(comm_id)\n        comm_promise.then((comm) => {\n          window.PyViz.comms[comm_id] = comm;\n          if (msg_handler) {\n            var messages = comm.messages[Symbol.asyncIterator]();\n            function processIteratorResult(result) {\n              var message = result.value;\n              var content = {data: message.data};\n              var metadata = message.metadata || {comm_id};\n              var msg = {content, metadata}\n              msg_handler(msg);\n              return messages.next().then(processIteratorResult);\n            }\n            return messages.next().then(processIteratorResult);\n          }\n        }) \n        var sendClosure = (data, metadata, buffers, disposeOnDone) => {\n          return comm_promise.then((comm) => {\n            comm.send(data, metadata, buffers, disposeOnDone);\n          });\n        };\n        var comm = {\n          send: sendClosure\n        };\n      }\n      window.PyViz.comms[comm_id] = comm;\n      return comm;\n    }\n    window.PyViz.comm_manager = new JupyterCommManager();\n    \n\n\nvar JS_MIME_TYPE = 'application/javascript';\nvar HTML_MIME_TYPE = 'text/html';\nvar EXEC_MIME_TYPE = 'application/vnd.holoviews_exec.v0+json';\nvar CLASS_NAME = 'output';\n\n/**\n * Render data to the DOM node\n */\nfunction render(props, node) {\n  var div = document.createElement(\"div\");\n  var script = document.createElement(\"script\");\n  node.appendChild(div);\n  node.appendChild(script);\n}\n\n/**\n * Handle when a new output is added\n */\nfunction handle_add_output(event, handle) {\n  var output_area = handle.output_area;\n  var output = handle.output;\n  if ((output.data == undefined) || (!output.data.hasOwnProperty(EXEC_MIME_TYPE))) {\n    return\n  }\n  var id = output.metadata[EXEC_MIME_TYPE][\"id\"];\n  var toinsert = output_area.element.find(\".\" + CLASS_NAME.split(' ')[0]);\n  if (id !== undefined) {\n    var nchildren = toinsert.length;\n    var html_node = toinsert[nchildren-1].children[0];\n    html_node.innerHTML = output.data[HTML_MIME_TYPE];\n    var scripts = [];\n    var nodelist = html_node.querySelectorAll(\"script\");\n    for (var i in nodelist) {\n      if (nodelist.hasOwnProperty(i)) {\n        scripts.push(nodelist[i])\n      }\n    }\n\n    scripts.forEach( function (oldScript) {\n      var newScript = document.createElement(\"script\");\n      var attrs = [];\n      var nodemap = oldScript.attributes;\n      for (var j in nodemap) {\n        if (nodemap.hasOwnProperty(j)) {\n          attrs.push(nodemap[j])\n        }\n      }\n      attrs.forEach(function(attr) { newScript.setAttribute(attr.name, attr.value) });\n      newScript.appendChild(document.createTextNode(oldScript.innerHTML));\n      oldScript.parentNode.replaceChild(newScript, oldScript);\n    });\n    if (JS_MIME_TYPE in output.data) {\n      toinsert[nchildren-1].children[1].textContent = output.data[JS_MIME_TYPE];\n    }\n    output_area._hv_plot_id = id;\n    if ((window.Bokeh !== undefined) && (id in Bokeh.index)) {\n      window.PyViz.plot_index[id] = Bokeh.index[id];\n    } else {\n      window.PyViz.plot_index[id] = null;\n    }\n  } else if (output.metadata[EXEC_MIME_TYPE][\"server_id\"] !== undefined) {\n    var bk_div = document.createElement(\"div\");\n    bk_div.innerHTML = output.data[HTML_MIME_TYPE];\n    var script_attrs = bk_div.children[0].attributes;\n    for (var i = 0; i < script_attrs.length; i++) {\n      toinsert[toinsert.length - 1].childNodes[1].setAttribute(script_attrs[i].name, script_attrs[i].value);\n    }\n    // store reference to server id on output_area\n    output_area._bokeh_server_id = output.metadata[EXEC_MIME_TYPE][\"server_id\"];\n  }\n}\n\n/**\n * Handle when an output is cleared or removed\n */\nfunction handle_clear_output(event, handle) {\n  var id = handle.cell.output_area._hv_plot_id;\n  var server_id = handle.cell.output_area._bokeh_server_id;\n  if (((id === undefined) || !(id in PyViz.plot_index)) && (server_id !== undefined)) { return; }\n  var comm = window.PyViz.comm_manager.get_client_comm(\"hv-extension-comm\", \"hv-extension-comm\", function () {});\n  if (server_id !== null) {\n    comm.send({event_type: 'server_delete', 'id': server_id});\n    return;\n  } else if (comm !== null) {\n    comm.send({event_type: 'delete', 'id': id});\n  }\n  delete PyViz.plot_index[id];\n  if ((window.Bokeh !== undefined) & (id in window.Bokeh.index)) {\n    var doc = window.Bokeh.index[id].model.document\n    doc.clear();\n    const i = window.Bokeh.documents.indexOf(doc);\n    if (i > -1) {\n      window.Bokeh.documents.splice(i, 1);\n    }\n  }\n}\n\n/**\n * Handle kernel restart event\n */\nfunction handle_kernel_cleanup(event, handle) {\n  delete PyViz.comms[\"hv-extension-comm\"];\n  window.PyViz.plot_index = {}\n}\n\n/**\n * Handle update_display_data messages\n */\nfunction handle_update_output(event, handle) {\n  handle_clear_output(event, {cell: {output_area: handle.output_area}})\n  handle_add_output(event, handle)\n}\n\nfunction register_renderer(events, OutputArea) {\n  function append_mime(data, metadata, element) {\n    // create a DOM node to render to\n    var toinsert = this.create_output_subarea(\n    metadata,\n    CLASS_NAME,\n    EXEC_MIME_TYPE\n    );\n    this.keyboard_manager.register_events(toinsert);\n    // Render to node\n    var props = {data: data, metadata: metadata[EXEC_MIME_TYPE]};\n    render(props, toinsert[0]);\n    element.append(toinsert);\n    return toinsert\n  }\n\n  events.on('output_added.OutputArea', handle_add_output);\n  events.on('output_updated.OutputArea', handle_update_output);\n  events.on('clear_output.CodeCell', handle_clear_output);\n  events.on('delete.Cell', handle_clear_output);\n  events.on('kernel_ready.Kernel', handle_kernel_cleanup);\n\n  OutputArea.prototype.register_mime_type(EXEC_MIME_TYPE, append_mime, {\n    safe: true,\n    index: 0\n  });\n}\n\nif (window.Jupyter !== undefined) {\n  try {\n    var events = require('base/js/events');\n    var OutputArea = require('notebook/js/outputarea').OutputArea;\n    if (OutputArea.prototype.mime_types().indexOf(EXEC_MIME_TYPE) == -1) {\n      register_renderer(events, OutputArea);\n    }\n  } catch(err) {\n  }\n}\n"
     },
     "metadata": {},
     "output_type": "display_data"
    },
    {
     "data": {
      "application/vnd.holoviews_exec.v0+json": "",
      "text/html": [
       "<div id='p1002'>\n",
       "  <div id=\"c22b2f8b-598b-47f5-b6fb-ea7b0999abc2\" data-root-id=\"p1002\" style=\"display: contents;\"></div>\n",
       "</div>\n",
       "<script type=\"application/javascript\">(function(root) {\n",
       "  var docs_json = {\"d3b8084a-8a72-4e4e-a903-b3a30a5f3ca1\":{\"version\":\"3.5.1\",\"title\":\"Bokeh Application\",\"roots\":[{\"type\":\"object\",\"name\":\"panel.models.browser.BrowserInfo\",\"id\":\"p1002\"},{\"type\":\"object\",\"name\":\"panel.models.comm_manager.CommManager\",\"id\":\"p1003\",\"attributes\":{\"plot_id\":\"p1002\",\"comm_id\":\"21ab3df18ae84a9f851073a2a4bba3af\",\"client_comm_id\":\"c6d533b7e253449c8e3ca13b2192eaf2\"}}],\"defs\":[{\"type\":\"model\",\"name\":\"ReactiveHTML1\"},{\"type\":\"model\",\"name\":\"FlexBox1\",\"properties\":[{\"name\":\"align_content\",\"kind\":\"Any\",\"default\":\"flex-start\"},{\"name\":\"align_items\",\"kind\":\"Any\",\"default\":\"flex-start\"},{\"name\":\"flex_direction\",\"kind\":\"Any\",\"default\":\"row\"},{\"name\":\"flex_wrap\",\"kind\":\"Any\",\"default\":\"wrap\"},{\"name\":\"gap\",\"kind\":\"Any\",\"default\":\"\"},{\"name\":\"justify_content\",\"kind\":\"Any\",\"default\":\"flex-start\"}]},{\"type\":\"model\",\"name\":\"FloatPanel1\",\"properties\":[{\"name\":\"config\",\"kind\":\"Any\",\"default\":{\"type\":\"map\"}},{\"name\":\"contained\",\"kind\":\"Any\",\"default\":true},{\"name\":\"position\",\"kind\":\"Any\",\"default\":\"right-top\"},{\"name\":\"offsetx\",\"kind\":\"Any\",\"default\":null},{\"name\":\"offsety\",\"kind\":\"Any\",\"default\":null},{\"name\":\"theme\",\"kind\":\"Any\",\"default\":\"primary\"},{\"name\":\"status\",\"kind\":\"Any\",\"default\":\"normalized\"}]},{\"type\":\"model\",\"name\":\"GridStack1\",\"properties\":[{\"name\":\"mode\",\"kind\":\"Any\",\"default\":\"warn\"},{\"name\":\"ncols\",\"kind\":\"Any\",\"default\":null},{\"name\":\"nrows\",\"kind\":\"Any\",\"default\":null},{\"name\":\"allow_resize\",\"kind\":\"Any\",\"default\":true},{\"name\":\"allow_drag\",\"kind\":\"Any\",\"default\":true},{\"name\":\"state\",\"kind\":\"Any\",\"default\":[]}]},{\"type\":\"model\",\"name\":\"drag1\",\"properties\":[{\"name\":\"slider_width\",\"kind\":\"Any\",\"default\":5},{\"name\":\"slider_color\",\"kind\":\"Any\",\"default\":\"black\"},{\"name\":\"value\",\"kind\":\"Any\",\"default\":50}]},{\"type\":\"model\",\"name\":\"click1\",\"properties\":[{\"name\":\"terminal_output\",\"kind\":\"Any\",\"default\":\"\"},{\"name\":\"debug_name\",\"kind\":\"Any\",\"default\":\"\"},{\"name\":\"clears\",\"kind\":\"Any\",\"default\":0}]},{\"type\":\"model\",\"name\":\"FastWrapper1\",\"properties\":[{\"name\":\"object\",\"kind\":\"Any\",\"default\":null},{\"name\":\"style\",\"kind\":\"Any\",\"default\":null}]},{\"type\":\"model\",\"name\":\"NotificationAreaBase1\",\"properties\":[{\"name\":\"js_events\",\"kind\":\"Any\",\"default\":{\"type\":\"map\"}},{\"name\":\"position\",\"kind\":\"Any\",\"default\":\"bottom-right\"},{\"name\":\"_clear\",\"kind\":\"Any\",\"default\":0}]},{\"type\":\"model\",\"name\":\"NotificationArea1\",\"properties\":[{\"name\":\"js_events\",\"kind\":\"Any\",\"default\":{\"type\":\"map\"}},{\"name\":\"notifications\",\"kind\":\"Any\",\"default\":[]},{\"name\":\"position\",\"kind\":\"Any\",\"default\":\"bottom-right\"},{\"name\":\"_clear\",\"kind\":\"Any\",\"default\":0},{\"name\":\"types\",\"kind\":\"Any\",\"default\":[{\"type\":\"map\",\"entries\":[[\"type\",\"warning\"],[\"background\",\"#ffc107\"],[\"icon\",{\"type\":\"map\",\"entries\":[[\"className\",\"fas fa-exclamation-triangle\"],[\"tagName\",\"i\"],[\"color\",\"white\"]]}]]},{\"type\":\"map\",\"entries\":[[\"type\",\"info\"],[\"background\",\"#007bff\"],[\"icon\",{\"type\":\"map\",\"entries\":[[\"className\",\"fas fa-info-circle\"],[\"tagName\",\"i\"],[\"color\",\"white\"]]}]]}]}]},{\"type\":\"model\",\"name\":\"Notification\",\"properties\":[{\"name\":\"background\",\"kind\":\"Any\",\"default\":null},{\"name\":\"duration\",\"kind\":\"Any\",\"default\":3000},{\"name\":\"icon\",\"kind\":\"Any\",\"default\":null},{\"name\":\"message\",\"kind\":\"Any\",\"default\":\"\"},{\"name\":\"notification_type\",\"kind\":\"Any\",\"default\":null},{\"name\":\"_destroyed\",\"kind\":\"Any\",\"default\":false}]},{\"type\":\"model\",\"name\":\"TemplateActions1\",\"properties\":[{\"name\":\"open_modal\",\"kind\":\"Any\",\"default\":0},{\"name\":\"close_modal\",\"kind\":\"Any\",\"default\":0}]},{\"type\":\"model\",\"name\":\"BootstrapTemplateActions1\",\"properties\":[{\"name\":\"open_modal\",\"kind\":\"Any\",\"default\":0},{\"name\":\"close_modal\",\"kind\":\"Any\",\"default\":0}]},{\"type\":\"model\",\"name\":\"TemplateEditor1\",\"properties\":[{\"name\":\"layout\",\"kind\":\"Any\",\"default\":[]}]},{\"type\":\"model\",\"name\":\"MaterialTemplateActions1\",\"properties\":[{\"name\":\"open_modal\",\"kind\":\"Any\",\"default\":0},{\"name\":\"close_modal\",\"kind\":\"Any\",\"default\":0}]},{\"type\":\"model\",\"name\":\"request_value1\",\"properties\":[{\"name\":\"fill\",\"kind\":\"Any\",\"default\":\"none\"},{\"name\":\"_synced\",\"kind\":\"Any\",\"default\":null},{\"name\":\"_request_sync\",\"kind\":\"Any\",\"default\":0}]}]}};\n",
       "  var render_items = [{\"docid\":\"d3b8084a-8a72-4e4e-a903-b3a30a5f3ca1\",\"roots\":{\"p1002\":\"c22b2f8b-598b-47f5-b6fb-ea7b0999abc2\"},\"root_ids\":[\"p1002\"]}];\n",
       "  var docs = Object.values(docs_json)\n",
       "  if (!docs) {\n",
       "    return\n",
       "  }\n",
       "  const py_version = docs[0].version.replace('rc', '-rc.').replace('.dev', '-dev.')\n",
       "  async function embed_document(root) {\n",
       "    var Bokeh = get_bokeh(root)\n",
       "    await Bokeh.embed.embed_items_notebook(docs_json, render_items);\n",
       "    for (const render_item of render_items) {\n",
       "      for (const root_id of render_item.root_ids) {\n",
       "\tconst id_el = document.getElementById(root_id)\n",
       "\tif (id_el.children.length && id_el.children[0].hasAttribute('data-root-id')) {\n",
       "\t  const root_el = id_el.children[0]\n",
       "\t  root_el.id = root_el.id + '-rendered'\n",
       "\t  for (const child of root_el.children) {\n",
       "            // Ensure JupyterLab does not capture keyboard shortcuts\n",
       "            // see: https://jupyterlab.readthedocs.io/en/4.1.x/extension/notebook.html#keyboard-interaction-model\n",
       "\t    child.setAttribute('data-lm-suppress-shortcuts', 'true')\n",
       "\t  }\n",
       "\t}\n",
       "      }\n",
       "    }\n",
       "  }\n",
       "  function get_bokeh(root) {\n",
       "    if (root.Bokeh === undefined) {\n",
       "      return null\n",
       "    } else if (root.Bokeh.version !== py_version) {\n",
       "      if (root.Bokeh.versions === undefined || !root.Bokeh.versions.has(py_version)) {\n",
       "\treturn null\n",
       "      }\n",
       "      return root.Bokeh.versions.get(py_version);\n",
       "    } else if (root.Bokeh.version === py_version) {\n",
       "      return root.Bokeh\n",
       "    }\n",
       "    return null\n",
       "  }\n",
       "  function is_loaded(root) {\n",
       "    var Bokeh = get_bokeh(root)\n",
       "    return (Bokeh != null && Bokeh.Panel !== undefined)\n",
       "  }\n",
       "  if (is_loaded(root)) {\n",
       "    embed_document(root);\n",
       "  } else {\n",
       "    var attempts = 0;\n",
       "    var timer = setInterval(function(root) {\n",
       "      if (is_loaded(root)) {\n",
       "        clearInterval(timer);\n",
       "        embed_document(root);\n",
       "      } else if (document.readyState == \"complete\") {\n",
       "        attempts++;\n",
       "        if (attempts > 200) {\n",
       "          clearInterval(timer);\n",
       "\t  var Bokeh = get_bokeh(root)\n",
       "\t  if (Bokeh == null || Bokeh.Panel == null) {\n",
       "            console.warn(\"Panel: ERROR: Unable to run Panel code because Bokeh or Panel library is missing\");\n",
       "\t  } else {\n",
       "\t    console.warn(\"Panel: WARNING: Attempting to render but not all required libraries could be resolved.\")\n",
       "\t    embed_document(root)\n",
       "\t  }\n",
       "        }\n",
       "      }\n",
       "    }, 25, root)\n",
       "  }\n",
       "})(window);</script>"
      ]
     },
     "metadata": {
      "application/vnd.holoviews_exec.v0+json": {
       "id": "p1002"
      }
     },
     "output_type": "display_data"
    },
    {
     "data": {},
     "metadata": {},
     "output_type": "display_data"
    },
    {
     "data": {
      "application/vnd.holoviews_exec.v0+json": "",
      "text/html": [
       "<div id='p1004'>\n",
       "  <div id=\"e51ae37b-69b6-4068-a0e2-0d23138e21a1\" data-root-id=\"p1004\" style=\"display: contents;\"></div>\n",
       "</div>\n",
       "<script type=\"application/javascript\">(function(root) {\n",
       "  var docs_json = {\"9260438d-d7d5-446b-adfc-24d222956e32\":{\"version\":\"3.5.1\",\"title\":\"Bokeh Application\",\"roots\":[{\"type\":\"object\",\"name\":\"Row\",\"id\":\"p1004\",\"attributes\":{\"name\":\"Row00943\",\"tags\":[\"embedded\"],\"stylesheets\":[\"\\n:host(.pn-loading):before, .pn-loading:before {\\n  background-color: #c3c3c3;\\n  mask-size: auto calc(min(50%, 400px));\\n  -webkit-mask-size: auto calc(min(50%, 400px));\\n}\",{\"type\":\"object\",\"name\":\"ImportedStyleSheet\",\"id\":\"p1007\",\"attributes\":{\"url\":\"https://cdn.holoviz.org/panel/1.5.0-b.4/dist/css/loading.css\"}},{\"type\":\"object\",\"name\":\"ImportedStyleSheet\",\"id\":\"p1065\",\"attributes\":{\"url\":\"https://cdn.holoviz.org/panel/1.5.0-b.4/dist/css/listpanel.css\"}},{\"type\":\"object\",\"name\":\"ImportedStyleSheet\",\"id\":\"p1005\",\"attributes\":{\"url\":\"https://cdn.holoviz.org/panel/1.5.0-b.4/dist/bundled/theme/default.css\"}},{\"type\":\"object\",\"name\":\"ImportedStyleSheet\",\"id\":\"p1006\",\"attributes\":{\"url\":\"https://cdn.holoviz.org/panel/1.5.0-b.4/dist/bundled/theme/native.css\"}}],\"min_width\":650,\"margin\":0,\"sizing_mode\":\"stretch_width\",\"align\":\"start\",\"children\":[{\"type\":\"object\",\"name\":\"Spacer\",\"id\":\"p1008\",\"attributes\":{\"name\":\"HSpacer00950\",\"stylesheets\":[\"\\n:host(.pn-loading):before, .pn-loading:before {\\n  background-color: #c3c3c3;\\n  mask-size: auto calc(min(50%, 400px));\\n  -webkit-mask-size: auto calc(min(50%, 400px));\\n}\",{\"id\":\"p1007\"},{\"id\":\"p1005\"},{\"id\":\"p1006\"}],\"margin\":0,\"sizing_mode\":\"stretch_width\",\"align\":\"start\"}},{\"type\":\"object\",\"name\":\"Figure\",\"id\":\"p1016\",\"attributes\":{\"width\":650,\"height\":300,\"margin\":[5,10],\"sizing_mode\":\"fixed\",\"align\":\"start\",\"x_range\":{\"type\":\"object\",\"name\":\"FactorRange\",\"id\":\"p1009\",\"attributes\":{\"tags\":[[[\"variety\",null]],[]],\"factors\":[\"Setosa\",\"Versicolor\",\"Virginica\"]}},\"y_range\":{\"type\":\"object\",\"name\":\"Range1d\",\"id\":\"p1010\",\"attributes\":{\"tags\":[[[\"petal.length\",null]],{\"type\":\"map\",\"entries\":[[\"invert_yaxis\",false],[\"autorange\",false]]}],\"end\":5.960999999999999,\"reset_start\":0.0,\"reset_end\":5.960999999999999}},\"x_scale\":{\"type\":\"object\",\"name\":\"CategoricalScale\",\"id\":\"p1026\"},\"y_scale\":{\"type\":\"object\",\"name\":\"LinearScale\",\"id\":\"p1027\"},\"title\":{\"type\":\"object\",\"name\":\"Title\",\"id\":\"p1019\",\"attributes\":{\"text_color\":\"black\",\"text_font_size\":\"12pt\"}},\"renderers\":[{\"type\":\"object\",\"name\":\"GlyphRenderer\",\"id\":\"p1058\",\"attributes\":{\"data_source\":{\"type\":\"object\",\"name\":\"ColumnDataSource\",\"id\":\"p1049\",\"attributes\":{\"selected\":{\"type\":\"object\",\"name\":\"Selection\",\"id\":\"p1050\",\"attributes\":{\"indices\":[],\"line_indices\":[]}},\"selection_policy\":{\"type\":\"object\",\"name\":\"UnionRenderers\",\"id\":\"p1051\"},\"data\":{\"type\":\"map\",\"entries\":[[\"variety\",[\"Setosa\",\"Versicolor\",\"Virginica\"]],[\"petal_full_stop_length\",{\"type\":\"ndarray\",\"array\":{\"type\":\"bytes\",\"data\":\"MgisHFpk9z8K16NwPQoRQGiR7Xw/NRZA\"},\"shape\":[3],\"dtype\":\"float64\",\"order\":\"little\"}]]}}},\"view\":{\"type\":\"object\",\"name\":\"CDSView\",\"id\":\"p1059\",\"attributes\":{\"filter\":{\"type\":\"object\",\"name\":\"AllIndices\",\"id\":\"p1060\"}}},\"glyph\":{\"type\":\"object\",\"name\":\"VBar\",\"id\":\"p1055\",\"attributes\":{\"tags\":[\"apply_ranges\"],\"x\":{\"type\":\"field\",\"field\":\"variety\"},\"width\":{\"type\":\"value\",\"value\":0.8},\"top\":{\"type\":\"field\",\"field\":\"petal_full_stop_length\"},\"fill_color\":{\"type\":\"value\",\"value\":\"#30a2da\"},\"hatch_color\":{\"type\":\"value\",\"value\":\"#30a2da\"}}},\"selection_glyph\":{\"type\":\"object\",\"name\":\"VBar\",\"id\":\"p1061\",\"attributes\":{\"tags\":[\"apply_ranges\"],\"x\":{\"type\":\"field\",\"field\":\"variety\"},\"width\":{\"type\":\"value\",\"value\":0.8},\"bottom\":{\"type\":\"value\",\"value\":0},\"top\":{\"type\":\"field\",\"field\":\"petal_full_stop_length\"},\"line_color\":{\"type\":\"value\",\"value\":\"black\"},\"line_alpha\":{\"type\":\"value\",\"value\":1.0},\"line_width\":{\"type\":\"value\",\"value\":1},\"line_join\":{\"type\":\"value\",\"value\":\"bevel\"},\"line_cap\":{\"type\":\"value\",\"value\":\"butt\"},\"line_dash\":{\"type\":\"value\",\"value\":[]},\"line_dash_offset\":{\"type\":\"value\",\"value\":0},\"fill_color\":{\"type\":\"value\",\"value\":\"#30a2da\"},\"fill_alpha\":{\"type\":\"value\",\"value\":1.0},\"hatch_color\":{\"type\":\"value\",\"value\":\"#30a2da\"},\"hatch_alpha\":{\"type\":\"value\",\"value\":1.0},\"hatch_scale\":{\"type\":\"value\",\"value\":12.0},\"hatch_pattern\":{\"type\":\"value\",\"value\":null},\"hatch_weight\":{\"type\":\"value\",\"value\":1.0}}},\"nonselection_glyph\":{\"type\":\"object\",\"name\":\"VBar\",\"id\":\"p1056\",\"attributes\":{\"tags\":[\"apply_ranges\"],\"x\":{\"type\":\"field\",\"field\":\"variety\"},\"width\":{\"type\":\"value\",\"value\":0.8},\"top\":{\"type\":\"field\",\"field\":\"petal_full_stop_length\"},\"line_alpha\":{\"type\":\"value\",\"value\":0.1},\"fill_color\":{\"type\":\"value\",\"value\":\"#30a2da\"},\"fill_alpha\":{\"type\":\"value\",\"value\":0.1},\"hatch_color\":{\"type\":\"value\",\"value\":\"#30a2da\"},\"hatch_alpha\":{\"type\":\"value\",\"value\":0.1}}},\"muted_glyph\":{\"type\":\"object\",\"name\":\"VBar\",\"id\":\"p1057\",\"attributes\":{\"tags\":[\"apply_ranges\"],\"x\":{\"type\":\"field\",\"field\":\"variety\"},\"width\":{\"type\":\"value\",\"value\":0.8},\"top\":{\"type\":\"field\",\"field\":\"petal_full_stop_length\"},\"line_alpha\":{\"type\":\"value\",\"value\":0.2},\"fill_color\":{\"type\":\"value\",\"value\":\"#30a2da\"},\"fill_alpha\":{\"type\":\"value\",\"value\":0.2},\"hatch_color\":{\"type\":\"value\",\"value\":\"#30a2da\"},\"hatch_alpha\":{\"type\":\"value\",\"value\":0.2}}}}}],\"toolbar\":{\"type\":\"object\",\"name\":\"Toolbar\",\"id\":\"p1025\",\"attributes\":{\"tools\":[{\"type\":\"object\",\"name\":\"WheelZoomTool\",\"id\":\"p1014\",\"attributes\":{\"tags\":[\"hv_created\"],\"renderers\":\"auto\",\"zoom_together\":\"none\"}},{\"type\":\"object\",\"name\":\"HoverTool\",\"id\":\"p1015\",\"attributes\":{\"tags\":[\"hv_created\"],\"renderers\":[{\"id\":\"p1058\"}],\"tooltips\":[[\"variety\",\"@{variety}\"],[\"petal.length\",\"@{petal_full_stop_length}\"]]}},{\"type\":\"object\",\"name\":\"SaveTool\",\"id\":\"p1038\"},{\"type\":\"object\",\"name\":\"PanTool\",\"id\":\"p1039\"},{\"type\":\"object\",\"name\":\"BoxZoomTool\",\"id\":\"p1040\",\"attributes\":{\"overlay\":{\"type\":\"object\",\"name\":\"BoxAnnotation\",\"id\":\"p1041\",\"attributes\":{\"syncable\":false,\"line_color\":\"black\",\"line_alpha\":1.0,\"line_width\":2,\"line_dash\":[4,4],\"fill_color\":\"lightgrey\",\"fill_alpha\":0.5,\"level\":\"overlay\",\"visible\":false,\"left\":{\"type\":\"number\",\"value\":\"nan\"},\"right\":{\"type\":\"number\",\"value\":\"nan\"},\"top\":{\"type\":\"number\",\"value\":\"nan\"},\"bottom\":{\"type\":\"number\",\"value\":\"nan\"},\"left_units\":\"canvas\",\"right_units\":\"canvas\",\"top_units\":\"canvas\",\"bottom_units\":\"canvas\",\"handles\":{\"type\":\"object\",\"name\":\"BoxInteractionHandles\",\"id\":\"p1047\",\"attributes\":{\"all\":{\"type\":\"object\",\"name\":\"AreaVisuals\",\"id\":\"p1046\",\"attributes\":{\"fill_color\":\"white\",\"hover_fill_color\":\"lightgray\"}}}}}}}},{\"type\":\"object\",\"name\":\"ResetTool\",\"id\":\"p1048\"}],\"active_drag\":{\"id\":\"p1039\"},\"active_scroll\":{\"id\":\"p1014\"}}},\"left\":[{\"type\":\"object\",\"name\":\"LinearAxis\",\"id\":\"p1033\",\"attributes\":{\"ticker\":{\"type\":\"object\",\"name\":\"BasicTicker\",\"id\":\"p1034\",\"attributes\":{\"mantissas\":[1,2,5]}},\"formatter\":{\"type\":\"object\",\"name\":\"BasicTickFormatter\",\"id\":\"p1035\"},\"axis_label\":\"petal.length\",\"major_label_policy\":{\"type\":\"object\",\"name\":\"AllLabels\",\"id\":\"p1036\"}}}],\"below\":[{\"type\":\"object\",\"name\":\"CategoricalAxis\",\"id\":\"p1028\",\"attributes\":{\"ticker\":{\"type\":\"object\",\"name\":\"CategoricalTicker\",\"id\":\"p1029\"},\"formatter\":{\"type\":\"object\",\"name\":\"CategoricalTickFormatter\",\"id\":\"p1030\"},\"axis_label\":\"variety\",\"major_label_policy\":{\"type\":\"object\",\"name\":\"AllLabels\",\"id\":\"p1031\"}}}],\"center\":[{\"type\":\"object\",\"name\":\"Grid\",\"id\":\"p1032\",\"attributes\":{\"axis\":{\"id\":\"p1028\"},\"grid_line_color\":null}},{\"type\":\"object\",\"name\":\"Grid\",\"id\":\"p1037\",\"attributes\":{\"dimension\":1,\"axis\":{\"id\":\"p1033\"},\"grid_line_color\":null}}],\"min_border_top\":10,\"min_border_bottom\":10,\"min_border_left\":10,\"min_border_right\":10,\"output_backend\":\"webgl\"}},{\"type\":\"object\",\"name\":\"Spacer\",\"id\":\"p1063\",\"attributes\":{\"name\":\"HSpacer00951\",\"stylesheets\":[\"\\n:host(.pn-loading):before, .pn-loading:before {\\n  background-color: #c3c3c3;\\n  mask-size: auto calc(min(50%, 400px));\\n  -webkit-mask-size: auto calc(min(50%, 400px));\\n}\",{\"id\":\"p1007\"},{\"id\":\"p1005\"},{\"id\":\"p1006\"}],\"margin\":0,\"sizing_mode\":\"stretch_width\",\"align\":\"start\"}}]}}],\"defs\":[{\"type\":\"model\",\"name\":\"ReactiveHTML1\"},{\"type\":\"model\",\"name\":\"FlexBox1\",\"properties\":[{\"name\":\"align_content\",\"kind\":\"Any\",\"default\":\"flex-start\"},{\"name\":\"align_items\",\"kind\":\"Any\",\"default\":\"flex-start\"},{\"name\":\"flex_direction\",\"kind\":\"Any\",\"default\":\"row\"},{\"name\":\"flex_wrap\",\"kind\":\"Any\",\"default\":\"wrap\"},{\"name\":\"gap\",\"kind\":\"Any\",\"default\":\"\"},{\"name\":\"justify_content\",\"kind\":\"Any\",\"default\":\"flex-start\"}]},{\"type\":\"model\",\"name\":\"FloatPanel1\",\"properties\":[{\"name\":\"config\",\"kind\":\"Any\",\"default\":{\"type\":\"map\"}},{\"name\":\"contained\",\"kind\":\"Any\",\"default\":true},{\"name\":\"position\",\"kind\":\"Any\",\"default\":\"right-top\"},{\"name\":\"offsetx\",\"kind\":\"Any\",\"default\":null},{\"name\":\"offsety\",\"kind\":\"Any\",\"default\":null},{\"name\":\"theme\",\"kind\":\"Any\",\"default\":\"primary\"},{\"name\":\"status\",\"kind\":\"Any\",\"default\":\"normalized\"}]},{\"type\":\"model\",\"name\":\"GridStack1\",\"properties\":[{\"name\":\"mode\",\"kind\":\"Any\",\"default\":\"warn\"},{\"name\":\"ncols\",\"kind\":\"Any\",\"default\":null},{\"name\":\"nrows\",\"kind\":\"Any\",\"default\":null},{\"name\":\"allow_resize\",\"kind\":\"Any\",\"default\":true},{\"name\":\"allow_drag\",\"kind\":\"Any\",\"default\":true},{\"name\":\"state\",\"kind\":\"Any\",\"default\":[]}]},{\"type\":\"model\",\"name\":\"drag1\",\"properties\":[{\"name\":\"slider_width\",\"kind\":\"Any\",\"default\":5},{\"name\":\"slider_color\",\"kind\":\"Any\",\"default\":\"black\"},{\"name\":\"value\",\"kind\":\"Any\",\"default\":50}]},{\"type\":\"model\",\"name\":\"click1\",\"properties\":[{\"name\":\"terminal_output\",\"kind\":\"Any\",\"default\":\"\"},{\"name\":\"debug_name\",\"kind\":\"Any\",\"default\":\"\"},{\"name\":\"clears\",\"kind\":\"Any\",\"default\":0}]},{\"type\":\"model\",\"name\":\"FastWrapper1\",\"properties\":[{\"name\":\"object\",\"kind\":\"Any\",\"default\":null},{\"name\":\"style\",\"kind\":\"Any\",\"default\":null}]},{\"type\":\"model\",\"name\":\"NotificationAreaBase1\",\"properties\":[{\"name\":\"js_events\",\"kind\":\"Any\",\"default\":{\"type\":\"map\"}},{\"name\":\"position\",\"kind\":\"Any\",\"default\":\"bottom-right\"},{\"name\":\"_clear\",\"kind\":\"Any\",\"default\":0}]},{\"type\":\"model\",\"name\":\"NotificationArea1\",\"properties\":[{\"name\":\"js_events\",\"kind\":\"Any\",\"default\":{\"type\":\"map\"}},{\"name\":\"notifications\",\"kind\":\"Any\",\"default\":[]},{\"name\":\"position\",\"kind\":\"Any\",\"default\":\"bottom-right\"},{\"name\":\"_clear\",\"kind\":\"Any\",\"default\":0},{\"name\":\"types\",\"kind\":\"Any\",\"default\":[{\"type\":\"map\",\"entries\":[[\"type\",\"warning\"],[\"background\",\"#ffc107\"],[\"icon\",{\"type\":\"map\",\"entries\":[[\"className\",\"fas fa-exclamation-triangle\"],[\"tagName\",\"i\"],[\"color\",\"white\"]]}]]},{\"type\":\"map\",\"entries\":[[\"type\",\"info\"],[\"background\",\"#007bff\"],[\"icon\",{\"type\":\"map\",\"entries\":[[\"className\",\"fas fa-info-circle\"],[\"tagName\",\"i\"],[\"color\",\"white\"]]}]]}]}]},{\"type\":\"model\",\"name\":\"Notification\",\"properties\":[{\"name\":\"background\",\"kind\":\"Any\",\"default\":null},{\"name\":\"duration\",\"kind\":\"Any\",\"default\":3000},{\"name\":\"icon\",\"kind\":\"Any\",\"default\":null},{\"name\":\"message\",\"kind\":\"Any\",\"default\":\"\"},{\"name\":\"notification_type\",\"kind\":\"Any\",\"default\":null},{\"name\":\"_destroyed\",\"kind\":\"Any\",\"default\":false}]},{\"type\":\"model\",\"name\":\"TemplateActions1\",\"properties\":[{\"name\":\"open_modal\",\"kind\":\"Any\",\"default\":0},{\"name\":\"close_modal\",\"kind\":\"Any\",\"default\":0}]},{\"type\":\"model\",\"name\":\"BootstrapTemplateActions1\",\"properties\":[{\"name\":\"open_modal\",\"kind\":\"Any\",\"default\":0},{\"name\":\"close_modal\",\"kind\":\"Any\",\"default\":0}]},{\"type\":\"model\",\"name\":\"TemplateEditor1\",\"properties\":[{\"name\":\"layout\",\"kind\":\"Any\",\"default\":[]}]},{\"type\":\"model\",\"name\":\"MaterialTemplateActions1\",\"properties\":[{\"name\":\"open_modal\",\"kind\":\"Any\",\"default\":0},{\"name\":\"close_modal\",\"kind\":\"Any\",\"default\":0}]},{\"type\":\"model\",\"name\":\"request_value1\",\"properties\":[{\"name\":\"fill\",\"kind\":\"Any\",\"default\":\"none\"},{\"name\":\"_synced\",\"kind\":\"Any\",\"default\":null},{\"name\":\"_request_sync\",\"kind\":\"Any\",\"default\":0}]}]}};\n",
       "  var render_items = [{\"docid\":\"9260438d-d7d5-446b-adfc-24d222956e32\",\"roots\":{\"p1004\":\"e51ae37b-69b6-4068-a0e2-0d23138e21a1\"},\"root_ids\":[\"p1004\"]}];\n",
       "  var docs = Object.values(docs_json)\n",
       "  if (!docs) {\n",
       "    return\n",
       "  }\n",
       "  const py_version = docs[0].version.replace('rc', '-rc.').replace('.dev', '-dev.')\n",
       "  async function embed_document(root) {\n",
       "    var Bokeh = get_bokeh(root)\n",
       "    await Bokeh.embed.embed_items_notebook(docs_json, render_items);\n",
       "    for (const render_item of render_items) {\n",
       "      for (const root_id of render_item.root_ids) {\n",
       "\tconst id_el = document.getElementById(root_id)\n",
       "\tif (id_el.children.length && id_el.children[0].hasAttribute('data-root-id')) {\n",
       "\t  const root_el = id_el.children[0]\n",
       "\t  root_el.id = root_el.id + '-rendered'\n",
       "\t  for (const child of root_el.children) {\n",
       "            // Ensure JupyterLab does not capture keyboard shortcuts\n",
       "            // see: https://jupyterlab.readthedocs.io/en/4.1.x/extension/notebook.html#keyboard-interaction-model\n",
       "\t    child.setAttribute('data-lm-suppress-shortcuts', 'true')\n",
       "\t  }\n",
       "\t}\n",
       "      }\n",
       "    }\n",
       "  }\n",
       "  function get_bokeh(root) {\n",
       "    if (root.Bokeh === undefined) {\n",
       "      return null\n",
       "    } else if (root.Bokeh.version !== py_version) {\n",
       "      if (root.Bokeh.versions === undefined || !root.Bokeh.versions.has(py_version)) {\n",
       "\treturn null\n",
       "      }\n",
       "      return root.Bokeh.versions.get(py_version);\n",
       "    } else if (root.Bokeh.version === py_version) {\n",
       "      return root.Bokeh\n",
       "    }\n",
       "    return null\n",
       "  }\n",
       "  function is_loaded(root) {\n",
       "    var Bokeh = get_bokeh(root)\n",
       "    return (Bokeh != null && Bokeh.Panel !== undefined)\n",
       "  }\n",
       "  if (is_loaded(root)) {\n",
       "    embed_document(root);\n",
       "  } else {\n",
       "    var attempts = 0;\n",
       "    var timer = setInterval(function(root) {\n",
       "      if (is_loaded(root)) {\n",
       "        clearInterval(timer);\n",
       "        embed_document(root);\n",
       "      } else if (document.readyState == \"complete\") {\n",
       "        attempts++;\n",
       "        if (attempts > 200) {\n",
       "          clearInterval(timer);\n",
       "\t  var Bokeh = get_bokeh(root)\n",
       "\t  if (Bokeh == null || Bokeh.Panel == null) {\n",
       "            console.warn(\"Panel: ERROR: Unable to run Panel code because Bokeh or Panel library is missing\");\n",
       "\t  } else {\n",
       "\t    console.warn(\"Panel: WARNING: Attempting to render but not all required libraries could be resolved.\")\n",
       "\t    embed_document(root)\n",
       "\t  }\n",
       "        }\n",
       "      }\n",
       "    }, 25, root)\n",
       "  }\n",
       "})(window);</script>"
      ],
      "text/plain": [
       ":Bars   [variety]   (petal.length)"
      ]
     },
     "execution_count": 142,
     "metadata": {
      "application/vnd.holoviews_exec.v0+json": {
       "id": "p1004"
      }
     },
     "output_type": "execute_result"
    }
   ],
   "source": [
    "df.plot.bar(\n",
    "    x=\"variety\",\n",
    "    y=\"petal.length\",\n",
    "    width=650,\n",
    ")"
   ]
  },
  {
   "cell_type": "code",
   "execution_count": 143,
   "metadata": {},
   "outputs": [
    {
     "data": {
      "text/plain": [
       "<BarContainer object of 3 artists>"
      ]
     },
     "execution_count": 143,
     "metadata": {},
     "output_type": "execute_result"
    },
    {
     "data": {
      "image/png": "[encoded data removed]",
      "text/plain": [
       "<Figure size 640x480 with 1 Axes>"
      ]
     },
     "metadata": {},
     "output_type": "display_data"
    }
   ],
   "source": [
    "import matplotlib.pyplot as plt\n",
    "\n",
    "plt.bar(x=df[\"variety\"], height=df[\"petal.length\"])"
   ]
  },
  {
   "cell_type": "markdown",
   "metadata": {},
   "source": [
    "# Styling"
   ]
  },
  {
   "cell_type": "code",
   "execution_count": 144,
   "metadata": {},
   "outputs": [
    {
     "name": "stdout",
     "output_type": "stream",
     "text": [
      "shape: (3, 3)\n",
      "┌────────────┬──────────────┬─────────────┐\n",
      "│ variety    ┆ petal.length ┆ petal.width │\n",
      "│ ---        ┆ ---          ┆ ---         │\n",
      "│ str        ┆ f64          ┆ f64         │\n",
      "╞════════════╪══════════════╪═════════════╡\n",
      "│ Virginica  ┆ 5.552        ┆ 2.026       │\n",
      "│ Setosa     ┆ 1.462        ┆ 0.246       │\n",
      "│ Versicolor ┆ 4.26         ┆ 1.326       │\n",
      "└────────────┴──────────────┴─────────────┘\n"
     ]
    }
   ],
   "source": [
    "import polars as pl\n",
    "import polars.selectors as cs\n",
    "\n",
    "path = \"iris/iris.csv\"\n",
    "\n",
    "df = (\n",
    "    pl.scan_csv(path)\n",
    "    .group_by(\"variety\")\n",
    "    .agg(cs.starts_with(\"petal\").mean().round(3))\n",
    "    .collect()\n",
    ")\n",
    "print(df)"
   ]
  },
  {
   "cell_type": "code",
   "execution_count": 145,
   "metadata": {},
   "outputs": [
    {
     "data": {
      "text/html": [
       "<div id=\"fpbebqjjmz\" style=\"padding-left:0px;padding-right:0px;padding-top:10px;padding-bottom:10px;overflow-x:auto;overflow-y:auto;width:auto;height:auto;\">\n",
       "<style>\n",
       "#fpbebqjjmz table {\n",
       "          font-family: -apple-system, BlinkMacSystemFont, 'Segoe UI', Roboto, Oxygen, Ubuntu, Cantarell, 'Helvetica Neue', 'Fira Sans', 'Droid Sans', Arial, sans-serif;\n",
       "          -webkit-font-smoothing: antialiased;\n",
       "          -moz-osx-font-smoothing: grayscale;\n",
       "        }\n",
       "\n",
       "#fpbebqjjmz thead, tbody, tfoot, tr, td, th { border-style: none; }\n",
       " tr { background-color: transparent; }\n",
       "#fpbebqjjmz p { margin: 0; padding: 0; }\n",
       " #fpbebqjjmz .gt_table { display: table; border-collapse: collapse; line-height: normal; margin-left: auto; margin-right: auto; color: #333333; font-size: 16px; font-weight: normal; font-style: normal; background-color: #FFFFFF; width: auto; border-top-style: solid; border-top-width: 2px; border-top-color: #A8A8A8; border-right-style: none; border-right-width: 2px; border-right-color: #D3D3D3; border-bottom-style: solid; border-bottom-width: 2px; border-bottom-color: #A8A8A8; border-left-style: none; border-left-width: 2px; border-left-color: #D3D3D3; }\n",
       " #fpbebqjjmz .gt_caption { padding-top: 4px; padding-bottom: 4px; }\n",
       " #fpbebqjjmz .gt_title { color: #333333; font-size: 125%; font-weight: initial; padding-top: 4px; padding-bottom: 4px; padding-left: 5px; padding-right: 5px; border-bottom-color: #FFFFFF; border-bottom-width: 0; }\n",
       " #fpbebqjjmz .gt_subtitle { color: #333333; font-size: 85%; font-weight: initial; padding-top: 3px; padding-bottom: 5px; padding-left: 5px; padding-right: 5px; border-top-color: #FFFFFF; border-top-width: 0; }\n",
       " #fpbebqjjmz .gt_heading { background-color: #FFFFFF; text-align: center; border-bottom-color: #FFFFFF; border-left-style: none; border-left-width: 1px; border-left-color: #D3D3D3; border-right-style: none; border-right-width: 1px; border-right-color: #D3D3D3; }\n",
       " #fpbebqjjmz .gt_bottom_border { border-bottom-style: solid; border-bottom-width: 2px; border-bottom-color: #D3D3D3; }\n",
       " #fpbebqjjmz .gt_col_headings { border-top-style: solid; border-top-width: 2px; border-top-color: #D3D3D3; border-bottom-style: solid; border-bottom-width: 2px; border-bottom-color: #D3D3D3; border-left-style: none; border-left-width: 1px; border-left-color: #D3D3D3; border-right-style: none; border-right-width: 1px; border-right-color: #D3D3D3; }\n",
       " #fpbebqjjmz .gt_col_heading { color: #333333; background-color: #FFFFFF; font-size: 100%; font-weight: normal; text-transform: inherit; border-left-style: none; border-left-width: 1px; border-left-color: #D3D3D3; border-right-style: none; border-right-width: 1px; border-right-color: #D3D3D3; vertical-align: bottom; padding-top: 5px; padding-bottom: 5px; padding-left: 5px; padding-right: 5px; overflow-x: hidden; }\n",
       " #fpbebqjjmz .gt_column_spanner_outer { color: #333333; background-color: #FFFFFF; font-size: 100%; font-weight: normal; text-transform: inherit; padding-top: 0; padding-bottom: 0; padding-left: 4px; padding-right: 4px; }\n",
       " #fpbebqjjmz .gt_column_spanner_outer:first-child { padding-left: 0; }\n",
       " #fpbebqjjmz .gt_column_spanner_outer:last-child { padding-right: 0; }\n",
       " #fpbebqjjmz .gt_column_spanner { border-bottom-style: solid; border-bottom-width: 2px; border-bottom-color: #D3D3D3; vertical-align: bottom; padding-top: 5px; padding-bottom: 5px; overflow-x: hidden; display: inline-block; width: 100%; }\n",
       " #fpbebqjjmz .gt_spanner_row { border-bottom-style: hidden; }\n",
       " #fpbebqjjmz .gt_group_heading { padding-top: 8px; padding-bottom: 8px; padding-left: 5px; padding-right: 5px; color: #333333; background-color: #FFFFFF; font-size: 100%; font-weight: initial; text-transform: inherit; border-top-style: solid; border-top-width: 2px; border-top-color: #D3D3D3; border-bottom-style: solid; border-bottom-width: 2px; border-bottom-color: #D3D3D3; border-left-style: none; border-left-width: 1px; border-left-color: #D3D3D3; border-right-style: none; border-right-width: 1px; border-right-color: #D3D3D3; vertical-align: middle; text-align: left; }\n",
       " #fpbebqjjmz .gt_empty_group_heading { padding: 0.5px; color: #333333; background-color: #FFFFFF; font-size: 100%; font-weight: initial; border-top-style: solid; border-top-width: 2px; border-top-color: #D3D3D3; border-bottom-style: solid; border-bottom-width: 2px; border-bottom-color: #D3D3D3; vertical-align: middle; }\n",
       " #fpbebqjjmz .gt_from_md> :first-child { margin-top: 0; }\n",
       " #fpbebqjjmz .gt_from_md> :last-child { margin-bottom: 0; }\n",
       " #fpbebqjjmz .gt_row { padding-top: 8px; padding-bottom: 8px; padding-left: 5px; padding-right: 5px; margin: 10px; border-top-style: solid; border-top-width: 1px; border-top-color: #D3D3D3; border-left-style: none; border-left-width: 1px; border-left-color: #D3D3D3; border-right-style: none; border-right-width: 1px; border-right-color: #D3D3D3; vertical-align: middle; overflow-x: hidden; }\n",
       " #fpbebqjjmz .gt_stub { color: #333333; background-color: #FFFFFF; font-size: 100%; font-weight: initial; text-transform: inherit; border-right-style: solid; border-right-width: 2px; border-right-color: #D3D3D3; padding-left: 5px; padding-right: 5px; }\n",
       " #fpbebqjjmz .gt_stub_row_group { color: #333333; background-color: #FFFFFF; font-size: 100%; font-weight: initial; text-transform: inherit; border-right-style: solid; border-right-width: 2px; border-right-color: #D3D3D3; padding-left: 5px; padding-right: 5px; vertical-align: top; }\n",
       " #fpbebqjjmz .gt_row_group_first td { border-top-width: 2px; }\n",
       " #fpbebqjjmz .gt_row_group_first th { border-top-width: 2px; }\n",
       " #fpbebqjjmz .gt_table_body { border-top-style: solid; border-top-width: 2px; border-top-color: #D3D3D3; border-bottom-style: solid; border-bottom-width: 2px; border-bottom-color: #D3D3D3; }\n",
       " #fpbebqjjmz .gt_sourcenotes { color: #333333; background-color: #FFFFFF; border-bottom-style: none; border-bottom-width: 2px; border-bottom-color: #D3D3D3; border-left-style: none; border-left-width: 2px; border-left-color: #D3D3D3; border-right-style: none; border-right-width: 2px; border-right-color: #D3D3D3; }\n",
       " #fpbebqjjmz .gt_sourcenote { font-size: 90%; padding-top: 4px; padding-bottom: 4px; padding-left: 5px; padding-right: 5px; text-align: left; }\n",
       " #fpbebqjjmz .gt_left { text-align: left; }\n",
       " #fpbebqjjmz .gt_center { text-align: center; }\n",
       " #fpbebqjjmz .gt_right { text-align: right; font-variant-numeric: tabular-nums; }\n",
       " #fpbebqjjmz .gt_font_normal { font-weight: normal; }\n",
       " #fpbebqjjmz .gt_font_bold { font-weight: bold; }\n",
       " #fpbebqjjmz .gt_font_italic { font-style: italic; }\n",
       " #fpbebqjjmz .gt_super { font-size: 65%; }\n",
       " #fpbebqjjmz .gt_footnote_marks { font-size: 75%; vertical-align: 0.4em; position: initial; }\n",
       " #fpbebqjjmz .gt_asterisk { font-size: 100%; vertical-align: 0; }\n",
       " \n",
       "</style>\n",
       "<table class=\"gt_table\" data-quarto-disable-processing=\"false\" data-quarto-bootstrap=\"false\">\n",
       "<thead class=\"gt_header\">\n",
       "  <tr>\n",
       "    <th colspan=\"3\" class=\"gt_heading gt_title gt_font_normal\">Iris Data</th>\n",
       "  </tr>\n",
       "  <tr>\n",
       "    <th colspan=\"3\" class=\"gt_heading gt_subtitle gt_font_normal gt_bottom_border\">Mean measurement values per species</th>\n",
       "  </tr>\n",
       "</thead>\n",
       "<tr class=\"gt_col_headings\">\n",
       "  <th class=\"gt_col_heading gt_columns_bottom_border gt_left\" rowspan=\"1\" colspan=\"1\" scope=\"col\" id=\"variety\">variety</th>\n",
       "  <th class=\"gt_col_heading gt_columns_bottom_border gt_right\" rowspan=\"1\" colspan=\"1\" scope=\"col\" id=\"petal.length\">petal.length</th>\n",
       "  <th class=\"gt_col_heading gt_columns_bottom_border gt_right\" rowspan=\"1\" colspan=\"1\" scope=\"col\" id=\"petal.width\">petal.width</th>\n",
       "</tr>\n",
       "<tbody class=\"gt_table_body\">\n",
       "  <tr>\n",
       "    <td class=\"gt_row gt_left\">Virginica</td>\n",
       "    <td class=\"gt_row gt_right\">5.552</td>\n",
       "    <td class=\"gt_row gt_right\">2.026</td>\n",
       "  </tr>\n",
       "  <tr>\n",
       "    <td class=\"gt_row gt_left\">Setosa</td>\n",
       "    <td class=\"gt_row gt_right\">1.462</td>\n",
       "    <td class=\"gt_row gt_right\">0.246</td>\n",
       "  </tr>\n",
       "  <tr>\n",
       "    <td class=\"gt_row gt_left\">Versicolor</td>\n",
       "    <td class=\"gt_row gt_right\">4.26</td>\n",
       "    <td class=\"gt_row gt_right\">1.326</td>\n",
       "  </tr>\n",
       "</tbody>\n",
       "\n",
       "\n",
       "</table>\n",
       "\n",
       "</div>\n",
       "        "
      ],
      "text/plain": [
       "GT(_tbl_data=shape: (3, 3)\n",
       "┌────────────┬──────────────┬─────────────┐\n",
       "│ variety    ┆ petal.length ┆ petal.width │\n",
       "│ ---        ┆ ---          ┆ ---         │\n",
       "│ str        ┆ f64          ┆ f64         │\n",
       "╞════════════╪══════════════╪═════════════╡\n",
       "│ Virginica  ┆ 5.552        ┆ 2.026       │\n",
       "│ Setosa     ┆ 1.462        ┆ 0.246       │\n",
       "│ Versicolor ┆ 4.26         ┆ 1.326       │\n",
       "└────────────┴──────────────┴─────────────┘, _body=<great_tables._gt_data.Body object at 0x15cc00350>, _boxhead=Boxhead([ColInfo(var='variety', type=<ColInfoTypeEnum.default: 1>, column_label='variety', column_align='left', column_width=None), ColInfo(var='petal.length', type=<ColInfoTypeEnum.default: 1>, column_label='petal.length', column_align='right', column_width=None), ColInfo(var='petal.width', type=<ColInfoTypeEnum.default: 1>, column_label='petal.width', column_align='right', column_width=None)]), _stub=<great_tables._gt_data.Stub object at 0x15cbf04a0>, _spanners=Spanners([]), _heading=Heading(title='Iris Data', subtitle='Mean measurement values per species', preheader=None), _stubhead=None, _source_notes=[], _footnotes=[], _styles=[], _locale=<great_tables._gt_data.Locale object at 0x15cb776b0>, _formats=[], _substitutions=[], _options=Options(table_id=OptionsInfo(scss=False, category='table', type='value', value=None), table_caption=OptionsInfo(scss=False, category='table', type='value', value=None), table_width=OptionsInfo(scss=True, category='table', type='px', value='auto'), table_layout=OptionsInfo(scss=True, category='table', type='value', value='fixed'), table_margin_left=OptionsInfo(scss=True, category='table', type='px', value='auto'), table_margin_right=OptionsInfo(scss=True, category='table', type='px', value='auto'), table_background_color=OptionsInfo(scss=True, category='table', type='value', value='#FFFFFF'), table_font_names=OptionsInfo(scss=False, category='table', type='values', value=['-apple-system', 'BlinkMacSystemFont', 'Segoe UI', 'Roboto', 'Oxygen', 'Ubuntu', 'Cantarell', 'Helvetica Neue', 'Fira Sans', 'Droid Sans', 'Arial', 'sans-serif']), table_font_size=OptionsInfo(scss=True, category='table', type='px', value='16px'), table_font_weight=OptionsInfo(scss=True, category='table', type='value', value='normal'), table_font_style=OptionsInfo(scss=True, category='table', type='value', value='normal'), table_font_color=OptionsInfo(scss=True, category='table', type='value', value='#333333'), table_font_color_light=OptionsInfo(scss=True, category='table', type='value', value='#FFFFFF'), table_border_top_include=OptionsInfo(scss=False, category='table', type='boolean', value=True), table_border_top_style=OptionsInfo(scss=True, category='table', type='value', value='solid'), table_border_top_width=OptionsInfo(scss=True, category='table', type='px', value='2px'), table_border_top_color=OptionsInfo(scss=True, category='table', type='value', value='#A8A8A8'), table_border_right_style=OptionsInfo(scss=True, category='table', type='value', value='none'), table_border_right_width=OptionsInfo(scss=True, category='table', type='px', value='2px'), table_border_right_color=OptionsInfo(scss=True, category='table', type='value', value='#D3D3D3'), table_border_bottom_include=OptionsInfo(scss=False, category='table', type='boolean', value=True), table_border_bottom_style=OptionsInfo(scss=True, category='table', type='value', value='solid'), table_border_bottom_width=OptionsInfo(scss=True, category='table', type='px', value='2px'), table_border_bottom_color=OptionsInfo(scss=True, category='table', type='value', value='#A8A8A8'), table_border_left_style=OptionsInfo(scss=True, category='table', type='value', value='none'), table_border_left_width=OptionsInfo(scss=True, category='table', type='px', value='2px'), table_border_left_color=OptionsInfo(scss=True, category='table', type='value', value='#D3D3D3'), heading_background_color=OptionsInfo(scss=True, category='heading', type='value', value=None), heading_align=OptionsInfo(scss=True, category='heading', type='value', value='center'), heading_title_font_size=OptionsInfo(scss=True, category='heading', type='px', value='125%'), heading_title_font_weight=OptionsInfo(scss=True, category='heading', type='value', value='initial'), heading_subtitle_font_size=OptionsInfo(scss=True, category='heading', type='px', value='85%'), heading_subtitle_font_weight=OptionsInfo(scss=True, category='heading', type='value', value='initial'), heading_padding=OptionsInfo(scss=True, category='heading', type='px', value='4px'), heading_padding_horizontal=OptionsInfo(scss=True, category='heading', type='px', value='5px'), heading_border_bottom_style=OptionsInfo(scss=True, category='heading', type='value', value='solid'), heading_border_bottom_width=OptionsInfo(scss=True, category='heading', type='px', value='2px'), heading_border_bottom_color=OptionsInfo(scss=True, category='heading', type='value', value='#D3D3D3'), heading_border_lr_style=OptionsInfo(scss=True, category='heading', type='value', value='none'), heading_border_lr_width=OptionsInfo(scss=True, category='heading', type='px', value='1px'), heading_border_lr_color=OptionsInfo(scss=True, category='heading', type='value', value='#D3D3D3'), column_labels_background_color=OptionsInfo(scss=True, category='column_labels', type='value', value=None), column_labels_font_size=OptionsInfo(scss=True, category='column_labels', type='px', value='100%'), column_labels_font_weight=OptionsInfo(scss=True, category='column_labels', type='value', value='normal'), column_labels_text_transform=OptionsInfo(scss=True, category='column_labels', type='value', value='inherit'), column_labels_padding=OptionsInfo(scss=True, category='column_labels', type='px', value='5px'), column_labels_padding_horizontal=OptionsInfo(scss=True, category='column_labels', type='px', value='5px'), column_labels_vlines_style=OptionsInfo(scss=True, category='table_body', type='value', value='none'), column_labels_vlines_width=OptionsInfo(scss=True, category='table_body', type='px', value='1px'), column_labels_vlines_color=OptionsInfo(scss=True, category='table_body', type='value', value='#D3D3D3'), column_labels_border_top_style=OptionsInfo(scss=True, category='column_labels', type='value', value='solid'), column_labels_border_top_width=OptionsInfo(scss=True, category='column_labels', type='px', value='2px'), column_labels_border_top_color=OptionsInfo(scss=True, category='column_labels', type='value', value='#D3D3D3'), column_labels_border_bottom_style=OptionsInfo(scss=True, category='column_labels', type='value', value='solid'), column_labels_border_bottom_width=OptionsInfo(scss=True, category='column_labels', type='px', value='2px'), column_labels_border_bottom_color=OptionsInfo(scss=True, category='column_labels', type='value', value='#D3D3D3'), column_labels_border_lr_style=OptionsInfo(scss=True, category='column_labels', type='value', value='none'), column_labels_border_lr_width=OptionsInfo(scss=True, category='column_labels', type='px', value='1px'), column_labels_border_lr_color=OptionsInfo(scss=True, category='column_labels', type='value', value='#D3D3D3'), column_labels_hidden=OptionsInfo(scss=False, category='column_labels', type='boolean', value=False), row_group_background_color=OptionsInfo(scss=True, category='row_group', type='value', value=None), row_group_font_size=OptionsInfo(scss=True, category='row_group', type='px', value='100%'), row_group_font_weight=OptionsInfo(scss=True, category='row_group', type='value', value='initial'), row_group_text_transform=OptionsInfo(scss=True, category='row_group', type='value', value='inherit'), row_group_padding=OptionsInfo(scss=True, category='row_group', type='px', value='8px'), row_group_padding_horizontal=OptionsInfo(scss=True, category='row_group', type='px', value='5px'), row_group_border_top_style=OptionsInfo(scss=True, category='row_group', type='value', value='solid'), row_group_border_top_width=OptionsInfo(scss=True, category='row_group', type='px', value='2px'), row_group_border_top_color=OptionsInfo(scss=True, category='row_group', type='value', value='#D3D3D3'), row_group_border_right_style=OptionsInfo(scss=True, category='row_group', type='value', value='none'), row_group_border_right_width=OptionsInfo(scss=True, category='row_group', type='px', value='1px'), row_group_border_right_color=OptionsInfo(scss=True, category='row_group', type='value', value='#D3D3D3'), row_group_border_bottom_style=OptionsInfo(scss=True, category='row_group', type='value', value='solid'), row_group_border_bottom_width=OptionsInfo(scss=True, category='row_group', type='px', value='2px'), row_group_border_bottom_color=OptionsInfo(scss=True, category='row_group', type='value', value='#D3D3D3'), row_group_border_left_style=OptionsInfo(scss=True, category='row_group', type='value', value='none'), row_group_border_left_width=OptionsInfo(scss=True, category='row_group', type='px', value='1px'), row_group_border_left_color=OptionsInfo(scss=True, category='row_group', type='value', value='#D3D3D3'), row_group_as_column=OptionsInfo(scss=False, category='row_group', type='boolean', value=False), table_body_hlines_style=OptionsInfo(scss=True, category='table_body', type='value', value='solid'), table_body_hlines_width=OptionsInfo(scss=True, category='table_body', type='px', value='1px'), table_body_hlines_color=OptionsInfo(scss=True, category='table_body', type='value', value='#D3D3D3'), table_body_vlines_style=OptionsInfo(scss=True, category='table_body', type='value', value='none'), table_body_vlines_width=OptionsInfo(scss=True, category='table_body', type='px', value='1px'), table_body_vlines_color=OptionsInfo(scss=True, category='table_body', type='value', value='#D3D3D3'), table_body_border_top_style=OptionsInfo(scss=True, category='table_body', type='value', value='solid'), table_body_border_top_width=OptionsInfo(scss=True, category='table_body', type='px', value='2px'), table_body_border_top_color=OptionsInfo(scss=True, category='table_body', type='value', value='#D3D3D3'), table_body_border_bottom_style=OptionsInfo(scss=True, category='table_body', type='value', value='solid'), table_body_border_bottom_width=OptionsInfo(scss=True, category='table_body', type='px', value='2px'), table_body_border_bottom_color=OptionsInfo(scss=True, category='table_body', type='value', value='#D3D3D3'), data_row_padding=OptionsInfo(scss=True, category='data_row', type='px', value='8px'), data_row_padding_horizontal=OptionsInfo(scss=True, category='data_row', type='px', value='5px'), stub_background_color=OptionsInfo(scss=True, category='stub', type='value', value=None), stub_font_size=OptionsInfo(scss=True, category='stub', type='px', value='100%'), stub_font_weight=OptionsInfo(scss=True, category='stub', type='value', value='initial'), stub_text_transform=OptionsInfo(scss=True, category='stub', type='value', value='inherit'), stub_border_style=OptionsInfo(scss=True, category='stub', type='value', value='solid'), stub_border_width=OptionsInfo(scss=True, category='stub', type='px', value='2px'), stub_border_color=OptionsInfo(scss=True, category='stub', type='value', value='#D3D3D3'), stub_row_group_background_color=OptionsInfo(scss=True, category='stub', type='value', value=None), stub_row_group_font_size=OptionsInfo(scss=True, category='stub', type='px', value='100%'), stub_row_group_font_weight=OptionsInfo(scss=True, category='stub', type='value', value='initial'), stub_row_group_text_transform=OptionsInfo(scss=True, category='stub', type='value', value='inherit'), stub_row_group_border_style=OptionsInfo(scss=True, category='stub', type='value', value='solid'), stub_row_group_border_width=OptionsInfo(scss=True, category='stub', type='px', value='2px'), stub_row_group_border_color=OptionsInfo(scss=True, category='stub', type='value', value='#D3D3D3'), source_notes_padding=OptionsInfo(scss=True, category='source_notes', type='px', value='4px'), source_notes_padding_horizontal=OptionsInfo(scss=True, category='source_notes', type='px', value='5px'), source_notes_background_color=OptionsInfo(scss=True, category='source_notes', type='value', value=None), source_notes_font_size=OptionsInfo(scss=True, category='source_notes', type='px', value='90%'), source_notes_border_bottom_style=OptionsInfo(scss=True, category='source_notes', type='value', value='none'), source_notes_border_bottom_width=OptionsInfo(scss=True, category='source_notes', type='px', value='2px'), source_notes_border_bottom_color=OptionsInfo(scss=True, category='source_notes', type='value', value='#D3D3D3'), source_notes_border_lr_style=OptionsInfo(scss=True, category='source_notes', type='value', value='none'), source_notes_border_lr_width=OptionsInfo(scss=True, category='source_notes', type='px', value='2px'), source_notes_border_lr_color=OptionsInfo(scss=True, category='source_notes', type='value', value='#D3D3D3'), source_notes_multiline=OptionsInfo(scss=False, category='source_notes', type='boolean', value=True), source_notes_sep=OptionsInfo(scss=False, category='source_notes', type='value', value=' '), container_width=OptionsInfo(scss=False, category='container', type='px', value='auto'), container_height=OptionsInfo(scss=False, category='container', type='px', value='auto'), container_padding_x=OptionsInfo(scss=False, category='container', type='px', value='0px'), container_padding_y=OptionsInfo(scss=False, category='container', type='px', value='10px'), container_overflow_x=OptionsInfo(scss=False, category='container', type='overflow', value='auto'), container_overflow_y=OptionsInfo(scss=False, category='container', type='overflow', value='auto'), quarto_disable_processing=OptionsInfo(scss=False, category='quarto', type='logical', value=False), quarto_use_bootstrap=OptionsInfo(scss=False, category='quarto', type='logical', value=False)), _has_built=False)"
      ]
     },
     "execution_count": 145,
     "metadata": {},
     "output_type": "execute_result"
    }
   ],
   "source": [
    "# Si uno baja great_tables puede hacer esto\n",
    "df.style.tab_header(title=\"Iris Data\", subtitle=\"Mean measurement values per species\")"
   ]
  },
  {
   "cell_type": "code",
   "execution_count": 146,
   "metadata": {},
   "outputs": [
    {
     "data": {
      "text/html": [
       "<div id=\"jjtkpbujit\" style=\"padding-left:0px;padding-right:0px;padding-top:10px;padding-bottom:10px;overflow-x:auto;overflow-y:auto;width:auto;height:auto;\">\n",
       "<style>\n",
       "#jjtkpbujit table {\n",
       "          font-family: -apple-system, BlinkMacSystemFont, 'Segoe UI', Roboto, Oxygen, Ubuntu, Cantarell, 'Helvetica Neue', 'Fira Sans', 'Droid Sans', Arial, sans-serif;\n",
       "          -webkit-font-smoothing: antialiased;\n",
       "          -moz-osx-font-smoothing: grayscale;\n",
       "        }\n",
       "\n",
       "#jjtkpbujit thead, tbody, tfoot, tr, td, th { border-style: none; }\n",
       " tr { background-color: transparent; }\n",
       "#jjtkpbujit p { margin: 0; padding: 0; }\n",
       " #jjtkpbujit .gt_table { display: table; border-collapse: collapse; line-height: normal; margin-left: auto; margin-right: auto; color: #333333; font-size: 16px; font-weight: normal; font-style: normal; background-color: #FFFFFF; width: auto; border-top-style: solid; border-top-width: 2px; border-top-color: #A8A8A8; border-right-style: none; border-right-width: 2px; border-right-color: #D3D3D3; border-bottom-style: solid; border-bottom-width: 2px; border-bottom-color: #A8A8A8; border-left-style: none; border-left-width: 2px; border-left-color: #D3D3D3; }\n",
       " #jjtkpbujit .gt_caption { padding-top: 4px; padding-bottom: 4px; }\n",
       " #jjtkpbujit .gt_title { color: #333333; font-size: 125%; font-weight: initial; padding-top: 4px; padding-bottom: 4px; padding-left: 5px; padding-right: 5px; border-bottom-color: #FFFFFF; border-bottom-width: 0; }\n",
       " #jjtkpbujit .gt_subtitle { color: #333333; font-size: 85%; font-weight: initial; padding-top: 3px; padding-bottom: 5px; padding-left: 5px; padding-right: 5px; border-top-color: #FFFFFF; border-top-width: 0; }\n",
       " #jjtkpbujit .gt_heading { background-color: #FFFFFF; text-align: center; border-bottom-color: #FFFFFF; border-left-style: none; border-left-width: 1px; border-left-color: #D3D3D3; border-right-style: none; border-right-width: 1px; border-right-color: #D3D3D3; }\n",
       " #jjtkpbujit .gt_bottom_border { border-bottom-style: solid; border-bottom-width: 2px; border-bottom-color: #D3D3D3; }\n",
       " #jjtkpbujit .gt_col_headings { border-top-style: solid; border-top-width: 2px; border-top-color: #D3D3D3; border-bottom-style: solid; border-bottom-width: 2px; border-bottom-color: #D3D3D3; border-left-style: none; border-left-width: 1px; border-left-color: #D3D3D3; border-right-style: none; border-right-width: 1px; border-right-color: #D3D3D3; }\n",
       " #jjtkpbujit .gt_col_heading { color: #333333; background-color: #FFFFFF; font-size: 100%; font-weight: normal; text-transform: inherit; border-left-style: none; border-left-width: 1px; border-left-color: #D3D3D3; border-right-style: none; border-right-width: 1px; border-right-color: #D3D3D3; vertical-align: bottom; padding-top: 5px; padding-bottom: 5px; padding-left: 5px; padding-right: 5px; overflow-x: hidden; }\n",
       " #jjtkpbujit .gt_column_spanner_outer { color: #333333; background-color: #FFFFFF; font-size: 100%; font-weight: normal; text-transform: inherit; padding-top: 0; padding-bottom: 0; padding-left: 4px; padding-right: 4px; }\n",
       " #jjtkpbujit .gt_column_spanner_outer:first-child { padding-left: 0; }\n",
       " #jjtkpbujit .gt_column_spanner_outer:last-child { padding-right: 0; }\n",
       " #jjtkpbujit .gt_column_spanner { border-bottom-style: solid; border-bottom-width: 2px; border-bottom-color: #D3D3D3; vertical-align: bottom; padding-top: 5px; padding-bottom: 5px; overflow-x: hidden; display: inline-block; width: 100%; }\n",
       " #jjtkpbujit .gt_spanner_row { border-bottom-style: hidden; }\n",
       " #jjtkpbujit .gt_group_heading { padding-top: 8px; padding-bottom: 8px; padding-left: 5px; padding-right: 5px; color: #333333; background-color: #FFFFFF; font-size: 100%; font-weight: initial; text-transform: inherit; border-top-style: solid; border-top-width: 2px; border-top-color: #D3D3D3; border-bottom-style: solid; border-bottom-width: 2px; border-bottom-color: #D3D3D3; border-left-style: none; border-left-width: 1px; border-left-color: #D3D3D3; border-right-style: none; border-right-width: 1px; border-right-color: #D3D3D3; vertical-align: middle; text-align: left; }\n",
       " #jjtkpbujit .gt_empty_group_heading { padding: 0.5px; color: #333333; background-color: #FFFFFF; font-size: 100%; font-weight: initial; border-top-style: solid; border-top-width: 2px; border-top-color: #D3D3D3; border-bottom-style: solid; border-bottom-width: 2px; border-bottom-color: #D3D3D3; vertical-align: middle; }\n",
       " #jjtkpbujit .gt_from_md> :first-child { margin-top: 0; }\n",
       " #jjtkpbujit .gt_from_md> :last-child { margin-bottom: 0; }\n",
       " #jjtkpbujit .gt_row { padding-top: 8px; padding-bottom: 8px; padding-left: 5px; padding-right: 5px; margin: 10px; border-top-style: solid; border-top-width: 1px; border-top-color: #D3D3D3; border-left-style: none; border-left-width: 1px; border-left-color: #D3D3D3; border-right-style: none; border-right-width: 1px; border-right-color: #D3D3D3; vertical-align: middle; overflow-x: hidden; }\n",
       " #jjtkpbujit .gt_stub { color: #333333; background-color: #FFFFFF; font-size: 100%; font-weight: initial; text-transform: inherit; border-right-style: solid; border-right-width: 2px; border-right-color: #D3D3D3; padding-left: 5px; padding-right: 5px; }\n",
       " #jjtkpbujit .gt_stub_row_group { color: #333333; background-color: #FFFFFF; font-size: 100%; font-weight: initial; text-transform: inherit; border-right-style: solid; border-right-width: 2px; border-right-color: #D3D3D3; padding-left: 5px; padding-right: 5px; vertical-align: top; }\n",
       " #jjtkpbujit .gt_row_group_first td { border-top-width: 2px; }\n",
       " #jjtkpbujit .gt_row_group_first th { border-top-width: 2px; }\n",
       " #jjtkpbujit .gt_table_body { border-top-style: solid; border-top-width: 2px; border-top-color: #D3D3D3; border-bottom-style: solid; border-bottom-width: 2px; border-bottom-color: #D3D3D3; }\n",
       " #jjtkpbujit .gt_sourcenotes { color: #333333; background-color: #FFFFFF; border-bottom-style: none; border-bottom-width: 2px; border-bottom-color: #D3D3D3; border-left-style: none; border-left-width: 2px; border-left-color: #D3D3D3; border-right-style: none; border-right-width: 2px; border-right-color: #D3D3D3; }\n",
       " #jjtkpbujit .gt_sourcenote { font-size: 90%; padding-top: 4px; padding-bottom: 4px; padding-left: 5px; padding-right: 5px; text-align: left; }\n",
       " #jjtkpbujit .gt_left { text-align: left; }\n",
       " #jjtkpbujit .gt_center { text-align: center; }\n",
       " #jjtkpbujit .gt_right { text-align: right; font-variant-numeric: tabular-nums; }\n",
       " #jjtkpbujit .gt_font_normal { font-weight: normal; }\n",
       " #jjtkpbujit .gt_font_bold { font-weight: bold; }\n",
       " #jjtkpbujit .gt_font_italic { font-style: italic; }\n",
       " #jjtkpbujit .gt_super { font-size: 65%; }\n",
       " #jjtkpbujit .gt_footnote_marks { font-size: 75%; vertical-align: 0.4em; position: initial; }\n",
       " #jjtkpbujit .gt_asterisk { font-size: 100%; vertical-align: 0; }\n",
       " \n",
       "</style>\n",
       "<table class=\"gt_table\" data-quarto-disable-processing=\"false\" data-quarto-bootstrap=\"false\">\n",
       "\n",
       "<tr class=\"gt_col_headings\">\n",
       "  <th class=\"gt_col_heading gt_columns_bottom_border gt_left\" rowspan=\"1\" colspan=\"1\" scope=\"col\" id=\"variety\">variety</th>\n",
       "  <th class=\"gt_col_heading gt_columns_bottom_border gt_right\" rowspan=\"1\" colspan=\"1\" scope=\"col\" id=\"petal.length\">petal.length</th>\n",
       "  <th class=\"gt_col_heading gt_columns_bottom_border gt_right\" rowspan=\"1\" colspan=\"1\" scope=\"col\" id=\"petal.width\">petal.width</th>\n",
       "</tr>\n",
       "<tbody class=\"gt_table_body\">\n",
       "  <tr>\n",
       "    <td style=\"background-color: yellow;\" class=\"gt_row gt_left\">Virginica</td>\n",
       "    <td style=\"background-color: yellow;\" class=\"gt_row gt_right\">5.552</td>\n",
       "    <td style=\"background-color: yellow;\" class=\"gt_row gt_right\">2.026</td>\n",
       "  </tr>\n",
       "  <tr>\n",
       "    <td class=\"gt_row gt_left\">Setosa</td>\n",
       "    <td class=\"gt_row gt_right\">1.462</td>\n",
       "    <td class=\"gt_row gt_right\">0.246</td>\n",
       "  </tr>\n",
       "  <tr>\n",
       "    <td class=\"gt_row gt_left\">Versicolor</td>\n",
       "    <td class=\"gt_row gt_right\">4.26</td>\n",
       "    <td class=\"gt_row gt_right\">1.326</td>\n",
       "  </tr>\n",
       "</tbody>\n",
       "\n",
       "\n",
       "</table>\n",
       "\n",
       "</div>\n",
       "        "
      ],
      "text/plain": [
       "GT(_tbl_data=shape: (3, 3)\n",
       "┌────────────┬──────────────┬─────────────┐\n",
       "│ variety    ┆ petal.length ┆ petal.width │\n",
       "│ ---        ┆ ---          ┆ ---         │\n",
       "│ str        ┆ f64          ┆ f64         │\n",
       "╞════════════╪══════════════╪═════════════╡\n",
       "│ Virginica  ┆ 5.552        ┆ 2.026       │\n",
       "│ Setosa     ┆ 1.462        ┆ 0.246       │\n",
       "│ Versicolor ┆ 4.26         ┆ 1.326       │\n",
       "└────────────┴──────────────┴─────────────┘, _body=<great_tables._gt_data.Body object at 0x15cc5b8f0>, _boxhead=Boxhead([ColInfo(var='variety', type=<ColInfoTypeEnum.default: 1>, column_label='variety', column_align='left', column_width=None), ColInfo(var='petal.length', type=<ColInfoTypeEnum.default: 1>, column_label='petal.length', column_align='right', column_width=None), ColInfo(var='petal.width', type=<ColInfoTypeEnum.default: 1>, column_label='petal.width', column_align='right', column_width=None)]), _stub=<great_tables._gt_data.Stub object at 0x15cefaba0>, _spanners=Spanners([]), _heading=Heading(title=None, subtitle=None, preheader=None), _stubhead=None, _source_notes=[], _footnotes=[], _styles=[StyleInfo(locname='data', locnum=5, grpname=None, colname='variety', rownum=0, colnum=None, styles=[CellStyleFill(color='yellow')]), StyleInfo(locname='data', locnum=5, grpname=None, colname='petal.length', rownum=0, colnum=None, styles=[CellStyleFill(color='yellow')]), StyleInfo(locname='data', locnum=5, grpname=None, colname='petal.width', rownum=0, colnum=None, styles=[CellStyleFill(color='yellow')])], _locale=<great_tables._gt_data.Locale object at 0x15ce96300>, _formats=[], _substitutions=[], _options=Options(table_id=OptionsInfo(scss=False, category='table', type='value', value=None), table_caption=OptionsInfo(scss=False, category='table', type='value', value=None), table_width=OptionsInfo(scss=True, category='table', type='px', value='auto'), table_layout=OptionsInfo(scss=True, category='table', type='value', value='fixed'), table_margin_left=OptionsInfo(scss=True, category='table', type='px', value='auto'), table_margin_right=OptionsInfo(scss=True, category='table', type='px', value='auto'), table_background_color=OptionsInfo(scss=True, category='table', type='value', value='#FFFFFF'), table_font_names=OptionsInfo(scss=False, category='table', type='values', value=['-apple-system', 'BlinkMacSystemFont', 'Segoe UI', 'Roboto', 'Oxygen', 'Ubuntu', 'Cantarell', 'Helvetica Neue', 'Fira Sans', 'Droid Sans', 'Arial', 'sans-serif']), table_font_size=OptionsInfo(scss=True, category='table', type='px', value='16px'), table_font_weight=OptionsInfo(scss=True, category='table', type='value', value='normal'), table_font_style=OptionsInfo(scss=True, category='table', type='value', value='normal'), table_font_color=OptionsInfo(scss=True, category='table', type='value', value='#333333'), table_font_color_light=OptionsInfo(scss=True, category='table', type='value', value='#FFFFFF'), table_border_top_include=OptionsInfo(scss=False, category='table', type='boolean', value=True), table_border_top_style=OptionsInfo(scss=True, category='table', type='value', value='solid'), table_border_top_width=OptionsInfo(scss=True, category='table', type='px', value='2px'), table_border_top_color=OptionsInfo(scss=True, category='table', type='value', value='#A8A8A8'), table_border_right_style=OptionsInfo(scss=True, category='table', type='value', value='none'), table_border_right_width=OptionsInfo(scss=True, category='table', type='px', value='2px'), table_border_right_color=OptionsInfo(scss=True, category='table', type='value', value='#D3D3D3'), table_border_bottom_include=OptionsInfo(scss=False, category='table', type='boolean', value=True), table_border_bottom_style=OptionsInfo(scss=True, category='table', type='value', value='solid'), table_border_bottom_width=OptionsInfo(scss=True, category='table', type='px', value='2px'), table_border_bottom_color=OptionsInfo(scss=True, category='table', type='value', value='#A8A8A8'), table_border_left_style=OptionsInfo(scss=True, category='table', type='value', value='none'), table_border_left_width=OptionsInfo(scss=True, category='table', type='px', value='2px'), table_border_left_color=OptionsInfo(scss=True, category='table', type='value', value='#D3D3D3'), heading_background_color=OptionsInfo(scss=True, category='heading', type='value', value=None), heading_align=OptionsInfo(scss=True, category='heading', type='value', value='center'), heading_title_font_size=OptionsInfo(scss=True, category='heading', type='px', value='125%'), heading_title_font_weight=OptionsInfo(scss=True, category='heading', type='value', value='initial'), heading_subtitle_font_size=OptionsInfo(scss=True, category='heading', type='px', value='85%'), heading_subtitle_font_weight=OptionsInfo(scss=True, category='heading', type='value', value='initial'), heading_padding=OptionsInfo(scss=True, category='heading', type='px', value='4px'), heading_padding_horizontal=OptionsInfo(scss=True, category='heading', type='px', value='5px'), heading_border_bottom_style=OptionsInfo(scss=True, category='heading', type='value', value='solid'), heading_border_bottom_width=OptionsInfo(scss=True, category='heading', type='px', value='2px'), heading_border_bottom_color=OptionsInfo(scss=True, category='heading', type='value', value='#D3D3D3'), heading_border_lr_style=OptionsInfo(scss=True, category='heading', type='value', value='none'), heading_border_lr_width=OptionsInfo(scss=True, category='heading', type='px', value='1px'), heading_border_lr_color=OptionsInfo(scss=True, category='heading', type='value', value='#D3D3D3'), column_labels_background_color=OptionsInfo(scss=True, category='column_labels', type='value', value=None), column_labels_font_size=OptionsInfo(scss=True, category='column_labels', type='px', value='100%'), column_labels_font_weight=OptionsInfo(scss=True, category='column_labels', type='value', value='normal'), column_labels_text_transform=OptionsInfo(scss=True, category='column_labels', type='value', value='inherit'), column_labels_padding=OptionsInfo(scss=True, category='column_labels', type='px', value='5px'), column_labels_padding_horizontal=OptionsInfo(scss=True, category='column_labels', type='px', value='5px'), column_labels_vlines_style=OptionsInfo(scss=True, category='table_body', type='value', value='none'), column_labels_vlines_width=OptionsInfo(scss=True, category='table_body', type='px', value='1px'), column_labels_vlines_color=OptionsInfo(scss=True, category='table_body', type='value', value='#D3D3D3'), column_labels_border_top_style=OptionsInfo(scss=True, category='column_labels', type='value', value='solid'), column_labels_border_top_width=OptionsInfo(scss=True, category='column_labels', type='px', value='2px'), column_labels_border_top_color=OptionsInfo(scss=True, category='column_labels', type='value', value='#D3D3D3'), column_labels_border_bottom_style=OptionsInfo(scss=True, category='column_labels', type='value', value='solid'), column_labels_border_bottom_width=OptionsInfo(scss=True, category='column_labels', type='px', value='2px'), column_labels_border_bottom_color=OptionsInfo(scss=True, category='column_labels', type='value', value='#D3D3D3'), column_labels_border_lr_style=OptionsInfo(scss=True, category='column_labels', type='value', value='none'), column_labels_border_lr_width=OptionsInfo(scss=True, category='column_labels', type='px', value='1px'), column_labels_border_lr_color=OptionsInfo(scss=True, category='column_labels', type='value', value='#D3D3D3'), column_labels_hidden=OptionsInfo(scss=False, category='column_labels', type='boolean', value=False), row_group_background_color=OptionsInfo(scss=True, category='row_group', type='value', value=None), row_group_font_size=OptionsInfo(scss=True, category='row_group', type='px', value='100%'), row_group_font_weight=OptionsInfo(scss=True, category='row_group', type='value', value='initial'), row_group_text_transform=OptionsInfo(scss=True, category='row_group', type='value', value='inherit'), row_group_padding=OptionsInfo(scss=True, category='row_group', type='px', value='8px'), row_group_padding_horizontal=OptionsInfo(scss=True, category='row_group', type='px', value='5px'), row_group_border_top_style=OptionsInfo(scss=True, category='row_group', type='value', value='solid'), row_group_border_top_width=OptionsInfo(scss=True, category='row_group', type='px', value='2px'), row_group_border_top_color=OptionsInfo(scss=True, category='row_group', type='value', value='#D3D3D3'), row_group_border_right_style=OptionsInfo(scss=True, category='row_group', type='value', value='none'), row_group_border_right_width=OptionsInfo(scss=True, category='row_group', type='px', value='1px'), row_group_border_right_color=OptionsInfo(scss=True, category='row_group', type='value', value='#D3D3D3'), row_group_border_bottom_style=OptionsInfo(scss=True, category='row_group', type='value', value='solid'), row_group_border_bottom_width=OptionsInfo(scss=True, category='row_group', type='px', value='2px'), row_group_border_bottom_color=OptionsInfo(scss=True, category='row_group', type='value', value='#D3D3D3'), row_group_border_left_style=OptionsInfo(scss=True, category='row_group', type='value', value='none'), row_group_border_left_width=OptionsInfo(scss=True, category='row_group', type='px', value='1px'), row_group_border_left_color=OptionsInfo(scss=True, category='row_group', type='value', value='#D3D3D3'), row_group_as_column=OptionsInfo(scss=False, category='row_group', type='boolean', value=False), table_body_hlines_style=OptionsInfo(scss=True, category='table_body', type='value', value='solid'), table_body_hlines_width=OptionsInfo(scss=True, category='table_body', type='px', value='1px'), table_body_hlines_color=OptionsInfo(scss=True, category='table_body', type='value', value='#D3D3D3'), table_body_vlines_style=OptionsInfo(scss=True, category='table_body', type='value', value='none'), table_body_vlines_width=OptionsInfo(scss=True, category='table_body', type='px', value='1px'), table_body_vlines_color=OptionsInfo(scss=True, category='table_body', type='value', value='#D3D3D3'), table_body_border_top_style=OptionsInfo(scss=True, category='table_body', type='value', value='solid'), table_body_border_top_width=OptionsInfo(scss=True, category='table_body', type='px', value='2px'), table_body_border_top_color=OptionsInfo(scss=True, category='table_body', type='value', value='#D3D3D3'), table_body_border_bottom_style=OptionsInfo(scss=True, category='table_body', type='value', value='solid'), table_body_border_bottom_width=OptionsInfo(scss=True, category='table_body', type='px', value='2px'), table_body_border_bottom_color=OptionsInfo(scss=True, category='table_body', type='value', value='#D3D3D3'), data_row_padding=OptionsInfo(scss=True, category='data_row', type='px', value='8px'), data_row_padding_horizontal=OptionsInfo(scss=True, category='data_row', type='px', value='5px'), stub_background_color=OptionsInfo(scss=True, category='stub', type='value', value=None), stub_font_size=OptionsInfo(scss=True, category='stub', type='px', value='100%'), stub_font_weight=OptionsInfo(scss=True, category='stub', type='value', value='initial'), stub_text_transform=OptionsInfo(scss=True, category='stub', type='value', value='inherit'), stub_border_style=OptionsInfo(scss=True, category='stub', type='value', value='solid'), stub_border_width=OptionsInfo(scss=True, category='stub', type='px', value='2px'), stub_border_color=OptionsInfo(scss=True, category='stub', type='value', value='#D3D3D3'), stub_row_group_background_color=OptionsInfo(scss=True, category='stub', type='value', value=None), stub_row_group_font_size=OptionsInfo(scss=True, category='stub', type='px', value='100%'), stub_row_group_font_weight=OptionsInfo(scss=True, category='stub', type='value', value='initial'), stub_row_group_text_transform=OptionsInfo(scss=True, category='stub', type='value', value='inherit'), stub_row_group_border_style=OptionsInfo(scss=True, category='stub', type='value', value='solid'), stub_row_group_border_width=OptionsInfo(scss=True, category='stub', type='px', value='2px'), stub_row_group_border_color=OptionsInfo(scss=True, category='stub', type='value', value='#D3D3D3'), source_notes_padding=OptionsInfo(scss=True, category='source_notes', type='px', value='4px'), source_notes_padding_horizontal=OptionsInfo(scss=True, category='source_notes', type='px', value='5px'), source_notes_background_color=OptionsInfo(scss=True, category='source_notes', type='value', value=None), source_notes_font_size=OptionsInfo(scss=True, category='source_notes', type='px', value='90%'), source_notes_border_bottom_style=OptionsInfo(scss=True, category='source_notes', type='value', value='none'), source_notes_border_bottom_width=OptionsInfo(scss=True, category='source_notes', type='px', value='2px'), source_notes_border_bottom_color=OptionsInfo(scss=True, category='source_notes', type='value', value='#D3D3D3'), source_notes_border_lr_style=OptionsInfo(scss=True, category='source_notes', type='value', value='none'), source_notes_border_lr_width=OptionsInfo(scss=True, category='source_notes', type='px', value='2px'), source_notes_border_lr_color=OptionsInfo(scss=True, category='source_notes', type='value', value='#D3D3D3'), source_notes_multiline=OptionsInfo(scss=False, category='source_notes', type='boolean', value=True), source_notes_sep=OptionsInfo(scss=False, category='source_notes', type='value', value=' '), container_width=OptionsInfo(scss=False, category='container', type='px', value='auto'), container_height=OptionsInfo(scss=False, category='container', type='px', value='auto'), container_padding_x=OptionsInfo(scss=False, category='container', type='px', value='0px'), container_padding_y=OptionsInfo(scss=False, category='container', type='px', value='10px'), container_overflow_x=OptionsInfo(scss=False, category='container', type='overflow', value='auto'), container_overflow_y=OptionsInfo(scss=False, category='container', type='overflow', value='auto'), quarto_disable_processing=OptionsInfo(scss=False, category='quarto', type='logical', value=False), quarto_use_bootstrap=OptionsInfo(scss=False, category='quarto', type='logical', value=False)), _has_built=False)"
      ]
     },
     "execution_count": 146,
     "metadata": {},
     "output_type": "execute_result"
    }
   ],
   "source": [
    "from great_tables import loc, style\n",
    "\n",
    "df.style.tab_style(\n",
    "    style.fill(\"yellow\"),\n",
    "    loc.body(\n",
    "        rows=pl.col(\"petal.length\") == pl.col(\"petal.length\").max(),\n",
    "    ),\n",
    ")"
   ]
  },
  {
   "cell_type": "code",
   "execution_count": 147,
   "metadata": {},
   "outputs": [
    {
     "data": {
      "text/html": [
       "<div id=\"yirrmtxllp\" style=\"padding-left:0px;padding-right:0px;padding-top:10px;padding-bottom:10px;overflow-x:auto;overflow-y:auto;width:auto;height:auto;\">\n",
       "<style>\n",
       "#yirrmtxllp table {\n",
       "          font-family: -apple-system, BlinkMacSystemFont, 'Segoe UI', Roboto, Oxygen, Ubuntu, Cantarell, 'Helvetica Neue', 'Fira Sans', 'Droid Sans', Arial, sans-serif;\n",
       "          -webkit-font-smoothing: antialiased;\n",
       "          -moz-osx-font-smoothing: grayscale;\n",
       "        }\n",
       "\n",
       "#yirrmtxllp thead, tbody, tfoot, tr, td, th { border-style: none; }\n",
       " tr { background-color: transparent; }\n",
       "#yirrmtxllp p { margin: 0; padding: 0; }\n",
       " #yirrmtxllp .gt_table { display: table; border-collapse: collapse; line-height: normal; margin-left: auto; margin-right: auto; color: #333333; font-size: 16px; font-weight: normal; font-style: normal; background-color: #FFFFFF; width: auto; border-top-style: solid; border-top-width: 2px; border-top-color: #A8A8A8; border-right-style: none; border-right-width: 2px; border-right-color: #D3D3D3; border-bottom-style: solid; border-bottom-width: 2px; border-bottom-color: #A8A8A8; border-left-style: none; border-left-width: 2px; border-left-color: #D3D3D3; }\n",
       " #yirrmtxllp .gt_caption { padding-top: 4px; padding-bottom: 4px; }\n",
       " #yirrmtxllp .gt_title { color: #333333; font-size: 125%; font-weight: initial; padding-top: 4px; padding-bottom: 4px; padding-left: 5px; padding-right: 5px; border-bottom-color: #FFFFFF; border-bottom-width: 0; }\n",
       " #yirrmtxllp .gt_subtitle { color: #333333; font-size: 85%; font-weight: initial; padding-top: 3px; padding-bottom: 5px; padding-left: 5px; padding-right: 5px; border-top-color: #FFFFFF; border-top-width: 0; }\n",
       " #yirrmtxllp .gt_heading { background-color: #FFFFFF; text-align: center; border-bottom-color: #FFFFFF; border-left-style: none; border-left-width: 1px; border-left-color: #D3D3D3; border-right-style: none; border-right-width: 1px; border-right-color: #D3D3D3; }\n",
       " #yirrmtxllp .gt_bottom_border { border-bottom-style: solid; border-bottom-width: 2px; border-bottom-color: #D3D3D3; }\n",
       " #yirrmtxllp .gt_col_headings { border-top-style: solid; border-top-width: 2px; border-top-color: #D3D3D3; border-bottom-style: solid; border-bottom-width: 2px; border-bottom-color: #D3D3D3; border-left-style: none; border-left-width: 1px; border-left-color: #D3D3D3; border-right-style: none; border-right-width: 1px; border-right-color: #D3D3D3; }\n",
       " #yirrmtxllp .gt_col_heading { color: #333333; background-color: #FFFFFF; font-size: 100%; font-weight: normal; text-transform: inherit; border-left-style: none; border-left-width: 1px; border-left-color: #D3D3D3; border-right-style: none; border-right-width: 1px; border-right-color: #D3D3D3; vertical-align: bottom; padding-top: 5px; padding-bottom: 5px; padding-left: 5px; padding-right: 5px; overflow-x: hidden; }\n",
       " #yirrmtxllp .gt_column_spanner_outer { color: #333333; background-color: #FFFFFF; font-size: 100%; font-weight: normal; text-transform: inherit; padding-top: 0; padding-bottom: 0; padding-left: 4px; padding-right: 4px; }\n",
       " #yirrmtxllp .gt_column_spanner_outer:first-child { padding-left: 0; }\n",
       " #yirrmtxllp .gt_column_spanner_outer:last-child { padding-right: 0; }\n",
       " #yirrmtxllp .gt_column_spanner { border-bottom-style: solid; border-bottom-width: 2px; border-bottom-color: #D3D3D3; vertical-align: bottom; padding-top: 5px; padding-bottom: 5px; overflow-x: hidden; display: inline-block; width: 100%; }\n",
       " #yirrmtxllp .gt_spanner_row { border-bottom-style: hidden; }\n",
       " #yirrmtxllp .gt_group_heading { padding-top: 8px; padding-bottom: 8px; padding-left: 5px; padding-right: 5px; color: #333333; background-color: #FFFFFF; font-size: 100%; font-weight: initial; text-transform: inherit; border-top-style: solid; border-top-width: 2px; border-top-color: #D3D3D3; border-bottom-style: solid; border-bottom-width: 2px; border-bottom-color: #D3D3D3; border-left-style: none; border-left-width: 1px; border-left-color: #D3D3D3; border-right-style: none; border-right-width: 1px; border-right-color: #D3D3D3; vertical-align: middle; text-align: left; }\n",
       " #yirrmtxllp .gt_empty_group_heading { padding: 0.5px; color: #333333; background-color: #FFFFFF; font-size: 100%; font-weight: initial; border-top-style: solid; border-top-width: 2px; border-top-color: #D3D3D3; border-bottom-style: solid; border-bottom-width: 2px; border-bottom-color: #D3D3D3; vertical-align: middle; }\n",
       " #yirrmtxllp .gt_from_md> :first-child { margin-top: 0; }\n",
       " #yirrmtxllp .gt_from_md> :last-child { margin-bottom: 0; }\n",
       " #yirrmtxllp .gt_row { padding-top: 8px; padding-bottom: 8px; padding-left: 5px; padding-right: 5px; margin: 10px; border-top-style: solid; border-top-width: 1px; border-top-color: #D3D3D3; border-left-style: none; border-left-width: 1px; border-left-color: #D3D3D3; border-right-style: none; border-right-width: 1px; border-right-color: #D3D3D3; vertical-align: middle; overflow-x: hidden; }\n",
       " #yirrmtxllp .gt_stub { color: #333333; background-color: #FFFFFF; font-size: 100%; font-weight: initial; text-transform: inherit; border-right-style: solid; border-right-width: 2px; border-right-color: #D3D3D3; padding-left: 5px; padding-right: 5px; }\n",
       " #yirrmtxllp .gt_stub_row_group { color: #333333; background-color: #FFFFFF; font-size: 100%; font-weight: initial; text-transform: inherit; border-right-style: solid; border-right-width: 2px; border-right-color: #D3D3D3; padding-left: 5px; padding-right: 5px; vertical-align: top; }\n",
       " #yirrmtxllp .gt_row_group_first td { border-top-width: 2px; }\n",
       " #yirrmtxllp .gt_row_group_first th { border-top-width: 2px; }\n",
       " #yirrmtxllp .gt_table_body { border-top-style: solid; border-top-width: 2px; border-top-color: #D3D3D3; border-bottom-style: solid; border-bottom-width: 2px; border-bottom-color: #D3D3D3; }\n",
       " #yirrmtxllp .gt_sourcenotes { color: #333333; background-color: #FFFFFF; border-bottom-style: none; border-bottom-width: 2px; border-bottom-color: #D3D3D3; border-left-style: none; border-left-width: 2px; border-left-color: #D3D3D3; border-right-style: none; border-right-width: 2px; border-right-color: #D3D3D3; }\n",
       " #yirrmtxllp .gt_sourcenote { font-size: 90%; padding-top: 4px; padding-bottom: 4px; padding-left: 5px; padding-right: 5px; text-align: left; }\n",
       " #yirrmtxllp .gt_left { text-align: left; }\n",
       " #yirrmtxllp .gt_center { text-align: center; }\n",
       " #yirrmtxllp .gt_right { text-align: right; font-variant-numeric: tabular-nums; }\n",
       " #yirrmtxllp .gt_font_normal { font-weight: normal; }\n",
       " #yirrmtxllp .gt_font_bold { font-weight: bold; }\n",
       " #yirrmtxllp .gt_font_italic { font-style: italic; }\n",
       " #yirrmtxllp .gt_super { font-size: 65%; }\n",
       " #yirrmtxllp .gt_footnote_marks { font-size: 75%; vertical-align: 0.4em; position: initial; }\n",
       " #yirrmtxllp .gt_asterisk { font-size: 100%; vertical-align: 0; }\n",
       " \n",
       "</style>\n",
       "<table class=\"gt_table\" data-quarto-disable-processing=\"false\" data-quarto-bootstrap=\"false\">\n",
       "\n",
       "<tr class=\"gt_col_headings\">\n",
       "  <th class=\"gt_col_heading gt_columns_bottom_border gt_left\" rowspan=\"1\" colspan=\"1\" scope=\"col\" id=\"variety\">variety</th>\n",
       "  <th class=\"gt_col_heading gt_columns_bottom_border gt_right\" rowspan=\"1\" colspan=\"1\" scope=\"col\" id=\"petal.length\">petal.length</th>\n",
       "  <th class=\"gt_col_heading gt_columns_bottom_border gt_right\" rowspan=\"1\" colspan=\"1\" scope=\"col\" id=\"petal.width\">petal.width</th>\n",
       "</tr>\n",
       "<tbody class=\"gt_table_body\">\n",
       "  <tr>\n",
       "    <td style=\"font-weight: bold;\" class=\"gt_row gt_left\">Virginica</td>\n",
       "    <td class=\"gt_row gt_right\">5.552</td>\n",
       "    <td class=\"gt_row gt_right\">2.026</td>\n",
       "  </tr>\n",
       "  <tr>\n",
       "    <td style=\"font-weight: bold;\" class=\"gt_row gt_left\">Setosa</td>\n",
       "    <td class=\"gt_row gt_right\">1.462</td>\n",
       "    <td class=\"gt_row gt_right\">0.246</td>\n",
       "  </tr>\n",
       "  <tr>\n",
       "    <td style=\"font-weight: bold;\" class=\"gt_row gt_left\">Versicolor</td>\n",
       "    <td class=\"gt_row gt_right\">4.26</td>\n",
       "    <td class=\"gt_row gt_right\">1.326</td>\n",
       "  </tr>\n",
       "</tbody>\n",
       "\n",
       "\n",
       "</table>\n",
       "\n",
       "</div>\n",
       "        "
      ],
      "text/plain": [
       "GT(_tbl_data=shape: (3, 3)\n",
       "┌────────────┬──────────────┬─────────────┐\n",
       "│ variety    ┆ petal.length ┆ petal.width │\n",
       "│ ---        ┆ ---          ┆ ---         │\n",
       "│ str        ┆ f64          ┆ f64         │\n",
       "╞════════════╪══════════════╪═════════════╡\n",
       "│ Virginica  ┆ 5.552        ┆ 2.026       │\n",
       "│ Setosa     ┆ 1.462        ┆ 0.246       │\n",
       "│ Versicolor ┆ 4.26         ┆ 1.326       │\n",
       "└────────────┴──────────────┴─────────────┘, _body=<great_tables._gt_data.Body object at 0x15cbf3050>, _boxhead=Boxhead([ColInfo(var='variety', type=<ColInfoTypeEnum.default: 1>, column_label='variety', column_align='left', column_width=None), ColInfo(var='petal.length', type=<ColInfoTypeEnum.default: 1>, column_label='petal.length', column_align='right', column_width=None), ColInfo(var='petal.width', type=<ColInfoTypeEnum.default: 1>, column_label='petal.width', column_align='right', column_width=None)]), _stub=<great_tables._gt_data.Stub object at 0x15cefb860>, _spanners=Spanners([]), _heading=Heading(title=None, subtitle=None, preheader=None), _stubhead=None, _source_notes=[], _footnotes=[], _styles=[StyleInfo(locname='data', locnum=5, grpname=None, colname='variety', rownum=0, colnum=None, styles=[CellStyleText(color=None, font=None, size=None, align=None, v_align=None, style=None, weight='bold', stretch=None, decorate=None, transform=None, whitespace=None)]), StyleInfo(locname='data', locnum=5, grpname=None, colname='variety', rownum=1, colnum=None, styles=[CellStyleText(color=None, font=None, size=None, align=None, v_align=None, style=None, weight='bold', stretch=None, decorate=None, transform=None, whitespace=None)]), StyleInfo(locname='data', locnum=5, grpname=None, colname='variety', rownum=2, colnum=None, styles=[CellStyleText(color=None, font=None, size=None, align=None, v_align=None, style=None, weight='bold', stretch=None, decorate=None, transform=None, whitespace=None)])], _locale=<great_tables._gt_data.Locale object at 0x15cefb9b0>, _formats=[], _substitutions=[], _options=Options(table_id=OptionsInfo(scss=False, category='table', type='value', value=None), table_caption=OptionsInfo(scss=False, category='table', type='value', value=None), table_width=OptionsInfo(scss=True, category='table', type='px', value='auto'), table_layout=OptionsInfo(scss=True, category='table', type='value', value='fixed'), table_margin_left=OptionsInfo(scss=True, category='table', type='px', value='auto'), table_margin_right=OptionsInfo(scss=True, category='table', type='px', value='auto'), table_background_color=OptionsInfo(scss=True, category='table', type='value', value='#FFFFFF'), table_font_names=OptionsInfo(scss=False, category='table', type='values', value=['-apple-system', 'BlinkMacSystemFont', 'Segoe UI', 'Roboto', 'Oxygen', 'Ubuntu', 'Cantarell', 'Helvetica Neue', 'Fira Sans', 'Droid Sans', 'Arial', 'sans-serif']), table_font_size=OptionsInfo(scss=True, category='table', type='px', value='16px'), table_font_weight=OptionsInfo(scss=True, category='table', type='value', value='normal'), table_font_style=OptionsInfo(scss=True, category='table', type='value', value='normal'), table_font_color=OptionsInfo(scss=True, category='table', type='value', value='#333333'), table_font_color_light=OptionsInfo(scss=True, category='table', type='value', value='#FFFFFF'), table_border_top_include=OptionsInfo(scss=False, category='table', type='boolean', value=True), table_border_top_style=OptionsInfo(scss=True, category='table', type='value', value='solid'), table_border_top_width=OptionsInfo(scss=True, category='table', type='px', value='2px'), table_border_top_color=OptionsInfo(scss=True, category='table', type='value', value='#A8A8A8'), table_border_right_style=OptionsInfo(scss=True, category='table', type='value', value='none'), table_border_right_width=OptionsInfo(scss=True, category='table', type='px', value='2px'), table_border_right_color=OptionsInfo(scss=True, category='table', type='value', value='#D3D3D3'), table_border_bottom_include=OptionsInfo(scss=False, category='table', type='boolean', value=True), table_border_bottom_style=OptionsInfo(scss=True, category='table', type='value', value='solid'), table_border_bottom_width=OptionsInfo(scss=True, category='table', type='px', value='2px'), table_border_bottom_color=OptionsInfo(scss=True, category='table', type='value', value='#A8A8A8'), table_border_left_style=OptionsInfo(scss=True, category='table', type='value', value='none'), table_border_left_width=OptionsInfo(scss=True, category='table', type='px', value='2px'), table_border_left_color=OptionsInfo(scss=True, category='table', type='value', value='#D3D3D3'), heading_background_color=OptionsInfo(scss=True, category='heading', type='value', value=None), heading_align=OptionsInfo(scss=True, category='heading', type='value', value='center'), heading_title_font_size=OptionsInfo(scss=True, category='heading', type='px', value='125%'), heading_title_font_weight=OptionsInfo(scss=True, category='heading', type='value', value='initial'), heading_subtitle_font_size=OptionsInfo(scss=True, category='heading', type='px', value='85%'), heading_subtitle_font_weight=OptionsInfo(scss=True, category='heading', type='value', value='initial'), heading_padding=OptionsInfo(scss=True, category='heading', type='px', value='4px'), heading_padding_horizontal=OptionsInfo(scss=True, category='heading', type='px', value='5px'), heading_border_bottom_style=OptionsInfo(scss=True, category='heading', type='value', value='solid'), heading_border_bottom_width=OptionsInfo(scss=True, category='heading', type='px', value='2px'), heading_border_bottom_color=OptionsInfo(scss=True, category='heading', type='value', value='#D3D3D3'), heading_border_lr_style=OptionsInfo(scss=True, category='heading', type='value', value='none'), heading_border_lr_width=OptionsInfo(scss=True, category='heading', type='px', value='1px'), heading_border_lr_color=OptionsInfo(scss=True, category='heading', type='value', value='#D3D3D3'), column_labels_background_color=OptionsInfo(scss=True, category='column_labels', type='value', value=None), column_labels_font_size=OptionsInfo(scss=True, category='column_labels', type='px', value='100%'), column_labels_font_weight=OptionsInfo(scss=True, category='column_labels', type='value', value='normal'), column_labels_text_transform=OptionsInfo(scss=True, category='column_labels', type='value', value='inherit'), column_labels_padding=OptionsInfo(scss=True, category='column_labels', type='px', value='5px'), column_labels_padding_horizontal=OptionsInfo(scss=True, category='column_labels', type='px', value='5px'), column_labels_vlines_style=OptionsInfo(scss=True, category='table_body', type='value', value='none'), column_labels_vlines_width=OptionsInfo(scss=True, category='table_body', type='px', value='1px'), column_labels_vlines_color=OptionsInfo(scss=True, category='table_body', type='value', value='#D3D3D3'), column_labels_border_top_style=OptionsInfo(scss=True, category='column_labels', type='value', value='solid'), column_labels_border_top_width=OptionsInfo(scss=True, category='column_labels', type='px', value='2px'), column_labels_border_top_color=OptionsInfo(scss=True, category='column_labels', type='value', value='#D3D3D3'), column_labels_border_bottom_style=OptionsInfo(scss=True, category='column_labels', type='value', value='solid'), column_labels_border_bottom_width=OptionsInfo(scss=True, category='column_labels', type='px', value='2px'), column_labels_border_bottom_color=OptionsInfo(scss=True, category='column_labels', type='value', value='#D3D3D3'), column_labels_border_lr_style=OptionsInfo(scss=True, category='column_labels', type='value', value='none'), column_labels_border_lr_width=OptionsInfo(scss=True, category='column_labels', type='px', value='1px'), column_labels_border_lr_color=OptionsInfo(scss=True, category='column_labels', type='value', value='#D3D3D3'), column_labels_hidden=OptionsInfo(scss=False, category='column_labels', type='boolean', value=False), row_group_background_color=OptionsInfo(scss=True, category='row_group', type='value', value=None), row_group_font_size=OptionsInfo(scss=True, category='row_group', type='px', value='100%'), row_group_font_weight=OptionsInfo(scss=True, category='row_group', type='value', value='initial'), row_group_text_transform=OptionsInfo(scss=True, category='row_group', type='value', value='inherit'), row_group_padding=OptionsInfo(scss=True, category='row_group', type='px', value='8px'), row_group_padding_horizontal=OptionsInfo(scss=True, category='row_group', type='px', value='5px'), row_group_border_top_style=OptionsInfo(scss=True, category='row_group', type='value', value='solid'), row_group_border_top_width=OptionsInfo(scss=True, category='row_group', type='px', value='2px'), row_group_border_top_color=OptionsInfo(scss=True, category='row_group', type='value', value='#D3D3D3'), row_group_border_right_style=OptionsInfo(scss=True, category='row_group', type='value', value='none'), row_group_border_right_width=OptionsInfo(scss=True, category='row_group', type='px', value='1px'), row_group_border_right_color=OptionsInfo(scss=True, category='row_group', type='value', value='#D3D3D3'), row_group_border_bottom_style=OptionsInfo(scss=True, category='row_group', type='value', value='solid'), row_group_border_bottom_width=OptionsInfo(scss=True, category='row_group', type='px', value='2px'), row_group_border_bottom_color=OptionsInfo(scss=True, category='row_group', type='value', value='#D3D3D3'), row_group_border_left_style=OptionsInfo(scss=True, category='row_group', type='value', value='none'), row_group_border_left_width=OptionsInfo(scss=True, category='row_group', type='px', value='1px'), row_group_border_left_color=OptionsInfo(scss=True, category='row_group', type='value', value='#D3D3D3'), row_group_as_column=OptionsInfo(scss=False, category='row_group', type='boolean', value=False), table_body_hlines_style=OptionsInfo(scss=True, category='table_body', type='value', value='solid'), table_body_hlines_width=OptionsInfo(scss=True, category='table_body', type='px', value='1px'), table_body_hlines_color=OptionsInfo(scss=True, category='table_body', type='value', value='#D3D3D3'), table_body_vlines_style=OptionsInfo(scss=True, category='table_body', type='value', value='none'), table_body_vlines_width=OptionsInfo(scss=True, category='table_body', type='px', value='1px'), table_body_vlines_color=OptionsInfo(scss=True, category='table_body', type='value', value='#D3D3D3'), table_body_border_top_style=OptionsInfo(scss=True, category='table_body', type='value', value='solid'), table_body_border_top_width=OptionsInfo(scss=True, category='table_body', type='px', value='2px'), table_body_border_top_color=OptionsInfo(scss=True, category='table_body', type='value', value='#D3D3D3'), table_body_border_bottom_style=OptionsInfo(scss=True, category='table_body', type='value', value='solid'), table_body_border_bottom_width=OptionsInfo(scss=True, category='table_body', type='px', value='2px'), table_body_border_bottom_color=OptionsInfo(scss=True, category='table_body', type='value', value='#D3D3D3'), data_row_padding=OptionsInfo(scss=True, category='data_row', type='px', value='8px'), data_row_padding_horizontal=OptionsInfo(scss=True, category='data_row', type='px', value='5px'), stub_background_color=OptionsInfo(scss=True, category='stub', type='value', value=None), stub_font_size=OptionsInfo(scss=True, category='stub', type='px', value='100%'), stub_font_weight=OptionsInfo(scss=True, category='stub', type='value', value='initial'), stub_text_transform=OptionsInfo(scss=True, category='stub', type='value', value='inherit'), stub_border_style=OptionsInfo(scss=True, category='stub', type='value', value='solid'), stub_border_width=OptionsInfo(scss=True, category='stub', type='px', value='2px'), stub_border_color=OptionsInfo(scss=True, category='stub', type='value', value='#D3D3D3'), stub_row_group_background_color=OptionsInfo(scss=True, category='stub', type='value', value=None), stub_row_group_font_size=OptionsInfo(scss=True, category='stub', type='px', value='100%'), stub_row_group_font_weight=OptionsInfo(scss=True, category='stub', type='value', value='initial'), stub_row_group_text_transform=OptionsInfo(scss=True, category='stub', type='value', value='inherit'), stub_row_group_border_style=OptionsInfo(scss=True, category='stub', type='value', value='solid'), stub_row_group_border_width=OptionsInfo(scss=True, category='stub', type='px', value='2px'), stub_row_group_border_color=OptionsInfo(scss=True, category='stub', type='value', value='#D3D3D3'), source_notes_padding=OptionsInfo(scss=True, category='source_notes', type='px', value='4px'), source_notes_padding_horizontal=OptionsInfo(scss=True, category='source_notes', type='px', value='5px'), source_notes_background_color=OptionsInfo(scss=True, category='source_notes', type='value', value=None), source_notes_font_size=OptionsInfo(scss=True, category='source_notes', type='px', value='90%'), source_notes_border_bottom_style=OptionsInfo(scss=True, category='source_notes', type='value', value='none'), source_notes_border_bottom_width=OptionsInfo(scss=True, category='source_notes', type='px', value='2px'), source_notes_border_bottom_color=OptionsInfo(scss=True, category='source_notes', type='value', value='#D3D3D3'), source_notes_border_lr_style=OptionsInfo(scss=True, category='source_notes', type='value', value='none'), source_notes_border_lr_width=OptionsInfo(scss=True, category='source_notes', type='px', value='2px'), source_notes_border_lr_color=OptionsInfo(scss=True, category='source_notes', type='value', value='#D3D3D3'), source_notes_multiline=OptionsInfo(scss=False, category='source_notes', type='boolean', value=True), source_notes_sep=OptionsInfo(scss=False, category='source_notes', type='value', value=' '), container_width=OptionsInfo(scss=False, category='container', type='px', value='auto'), container_height=OptionsInfo(scss=False, category='container', type='px', value='auto'), container_padding_x=OptionsInfo(scss=False, category='container', type='px', value='0px'), container_padding_y=OptionsInfo(scss=False, category='container', type='px', value='10px'), container_overflow_x=OptionsInfo(scss=False, category='container', type='overflow', value='auto'), container_overflow_y=OptionsInfo(scss=False, category='container', type='overflow', value='auto'), quarto_disable_processing=OptionsInfo(scss=False, category='quarto', type='logical', value=False), quarto_use_bootstrap=OptionsInfo(scss=False, category='quarto', type='logical', value=False)), _has_built=False)"
      ]
     },
     "execution_count": 147,
     "metadata": {},
     "output_type": "execute_result"
    }
   ],
   "source": [
    "from great_tables import loc, style\n",
    "\n",
    "df.style.tab_style(\n",
    "    style.text(weight=\"bold\"),\n",
    "    loc.body(columns=\"variety\"),\n",
    ")"
   ]
  },
  {
   "cell_type": "code",
   "execution_count": 148,
   "metadata": {},
   "outputs": [
    {
     "data": {
      "text/html": [
       "<div><style>\n",
       ".dataframe > thead > tr,\n",
       ".dataframe > tbody > tr {\n",
       "  text-align: right;\n",
       "  white-space: pre-wrap;\n",
       "}\n",
       "</style>\n",
       "<small>shape: (3, 3)</small><table border=\"1\" class=\"dataframe\"><thead><tr><th>variety</th><th>petal.length</th><th>petal.width</th></tr><tr><td>str</td><td>f64</td><td>f64</td></tr></thead><tbody><tr><td>&quot;Virginica&quot;</td><td>5.552</td><td>2.026</td></tr><tr><td>&quot;Setosa&quot;</td><td>1.462</td><td>0.246</td></tr><tr><td>&quot;Versicolor&quot;</td><td>4.26</td><td>1.326</td></tr></tbody></table></div>"
      ],
      "text/plain": [
       "shape: (3, 3)\n",
       "┌────────────┬──────────────┬─────────────┐\n",
       "│ variety    ┆ petal.length ┆ petal.width │\n",
       "│ ---        ┆ ---          ┆ ---         │\n",
       "│ str        ┆ f64          ┆ f64         │\n",
       "╞════════════╪══════════════╪═════════════╡\n",
       "│ Virginica  ┆ 5.552        ┆ 2.026       │\n",
       "│ Setosa     ┆ 1.462        ┆ 0.246       │\n",
       "│ Versicolor ┆ 4.26         ┆ 1.326       │\n",
       "└────────────┴──────────────┴─────────────┘"
      ]
     },
     "execution_count": 148,
     "metadata": {},
     "output_type": "execute_result"
    }
   ],
   "source": [
    "df"
   ]
  },
  {
   "cell_type": "code",
   "execution_count": null,
   "metadata": {},
   "outputs": [],
   "source": []
  }
 ],
 "metadata": {
  "kernelspec": {
   "display_name": "Python 3 (ipykernel)",
   "language": "python",
   "name": "python3"
  },
  "language_info": {
   "codemirror_mode": {
    "name": "ipython",
    "version": 3
   },
   "file_extension": ".py",
   "mimetype": "text/x-python",
   "name": "python",
   "nbconvert_exporter": "python",
   "pygments_lexer": "ipython3",
   "version": "3.12.1"
  }
 },
 "nbformat": 4,
 "nbformat_minor": 4
}
