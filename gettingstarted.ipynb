{
 "cells": [
  {
   "cell_type": "code",
   "execution_count": 1,
   "metadata": {},
   "outputs": [],
   "source": [
    "import polars as pl\n",
    "import numpy as np"
   ]
  },
  {
   "cell_type": "markdown",
   "metadata": {},
   "source": [
    "# Declarando"
   ]
  },
  {
   "cell_type": "code",
   "execution_count": 2,
   "metadata": {},
   "outputs": [
    {
     "data": {
      "text/html": [
       "<div><style>\n",
       ".dataframe > thead > tr,\n",
       ".dataframe > tbody > tr {\n",
       "  text-align: right;\n",
       "  white-space: pre-wrap;\n",
       "}\n",
       "</style>\n",
       "<small>shape: (5_000, 3)</small><table border=\"1\" class=\"dataframe\"><thead><tr><th>metraje</th><th>año</th><th>tipo</th></tr><tr><td>f64</td><td>i64</td><td>str</td></tr></thead><tbody><tr><td>212.258777</td><td>1982</td><td>&quot;C&quot;</td></tr><tr><td>307.561004</td><td>2019</td><td>&quot;C&quot;</td></tr><tr><td>170.564597</td><td>2007</td><td>&quot;A&quot;</td></tr><tr><td>268.532959</td><td>1988</td><td>&quot;A&quot;</td></tr><tr><td>61.959826</td><td>2006</td><td>&quot;A&quot;</td></tr><tr><td>&hellip;</td><td>&hellip;</td><td>&hellip;</td></tr><tr><td>213.130726</td><td>1993</td><td>&quot;C&quot;</td></tr><tr><td>122.661835</td><td>2003</td><td>&quot;C&quot;</td></tr><tr><td>17.268618</td><td>2018</td><td>&quot;C&quot;</td></tr><tr><td>1118.426685</td><td>2019</td><td>&quot;C&quot;</td></tr><tr><td>206.003503</td><td>2006</td><td>&quot;C&quot;</td></tr></tbody></table></div>"
      ],
      "text/plain": [
       "shape: (5_000, 3)\n",
       "┌─────────────┬──────┬──────┐\n",
       "│ metraje     ┆ año  ┆ tipo │\n",
       "│ ---         ┆ ---  ┆ ---  │\n",
       "│ f64         ┆ i64  ┆ str  │\n",
       "╞═════════════╪══════╪══════╡\n",
       "│ 212.258777  ┆ 1982 ┆ C    │\n",
       "│ 307.561004  ┆ 2019 ┆ C    │\n",
       "│ 170.564597  ┆ 2007 ┆ A    │\n",
       "│ 268.532959  ┆ 1988 ┆ A    │\n",
       "│ 61.959826   ┆ 2006 ┆ A    │\n",
       "│ …           ┆ …    ┆ …    │\n",
       "│ 213.130726  ┆ 1993 ┆ C    │\n",
       "│ 122.661835  ┆ 2003 ┆ C    │\n",
       "│ 17.268618   ┆ 2018 ┆ C    │\n",
       "│ 1118.426685 ┆ 2019 ┆ C    │\n",
       "│ 206.003503  ┆ 2006 ┆ C    │\n",
       "└─────────────┴──────┴──────┘"
      ]
     },
     "execution_count": 2,
     "metadata": {},
     "output_type": "execute_result"
    }
   ],
   "source": [
    "num_filas = 5_000\n",
    "rng = np.random.default_rng(seed=7)\n",
    "\n",
    "datos_edificios = {\n",
    "    \"metraje\" : rng.exponential(scale = 300, size=num_filas),\n",
    "    \"año\": rng.integers(low=1980, high=2024, size= num_filas),\n",
    "    \"tipo\": rng.choice([\"A\", \"B\", \"C\"], size = num_filas)\n",
    "}\n",
    "\n",
    "edificios = pl.DataFrame(data=datos_edificios)\n",
    "edificios"
   ]
  },
  {
   "cell_type": "markdown",
   "metadata": {},
   "source": [
    "Existen métodos para explorar datos, que muchos son similares a ```pandas```. Los tipos de datos son de ```pyarrow```."
   ]
  },
  {
   "cell_type": "code",
   "execution_count": 3,
   "metadata": {},
   "outputs": [
    {
     "data": {
      "text/plain": [
       "Schema([('metraje', Float64), ('año', Int64), ('tipo', String)])"
      ]
     },
     "execution_count": 3,
     "metadata": {},
     "output_type": "execute_result"
    }
   ],
   "source": [
    "edificios.schema"
   ]
  },
  {
   "cell_type": "code",
   "execution_count": 4,
   "metadata": {},
   "outputs": [
    {
     "data": {
      "text/html": [
       "<div><style>\n",
       ".dataframe > thead > tr,\n",
       ".dataframe > tbody > tr {\n",
       "  text-align: right;\n",
       "  white-space: pre-wrap;\n",
       "}\n",
       "</style>\n",
       "<small>shape: (5, 3)</small><table border=\"1\" class=\"dataframe\"><thead><tr><th>metraje</th><th>año</th><th>tipo</th></tr><tr><td>f64</td><td>i64</td><td>str</td></tr></thead><tbody><tr><td>212.258777</td><td>1982</td><td>&quot;C&quot;</td></tr><tr><td>307.561004</td><td>2019</td><td>&quot;C&quot;</td></tr><tr><td>170.564597</td><td>2007</td><td>&quot;A&quot;</td></tr><tr><td>268.532959</td><td>1988</td><td>&quot;A&quot;</td></tr><tr><td>61.959826</td><td>2006</td><td>&quot;A&quot;</td></tr></tbody></table></div>"
      ],
      "text/plain": [
       "shape: (5, 3)\n",
       "┌────────────┬──────┬──────┐\n",
       "│ metraje    ┆ año  ┆ tipo │\n",
       "│ ---        ┆ ---  ┆ ---  │\n",
       "│ f64        ┆ i64  ┆ str  │\n",
       "╞════════════╪══════╪══════╡\n",
       "│ 212.258777 ┆ 1982 ┆ C    │\n",
       "│ 307.561004 ┆ 2019 ┆ C    │\n",
       "│ 170.564597 ┆ 2007 ┆ A    │\n",
       "│ 268.532959 ┆ 1988 ┆ A    │\n",
       "│ 61.959826  ┆ 2006 ┆ A    │\n",
       "└────────────┴──────┴──────┘"
      ]
     },
     "execution_count": 4,
     "metadata": {},
     "output_type": "execute_result"
    }
   ],
   "source": [
    "edificios.head()"
   ]
  },
  {
   "cell_type": "code",
   "execution_count": 5,
   "metadata": {},
   "outputs": [
    {
     "data": {
      "text/html": [
       "<div><style>\n",
       ".dataframe > thead > tr,\n",
       ".dataframe > tbody > tr {\n",
       "  text-align: right;\n",
       "  white-space: pre-wrap;\n",
       "}\n",
       "</style>\n",
       "<small>shape: (9, 4)</small><table border=\"1\" class=\"dataframe\"><thead><tr><th>statistic</th><th>metraje</th><th>año</th><th>tipo</th></tr><tr><td>str</td><td>f64</td><td>f64</td><td>str</td></tr></thead><tbody><tr><td>&quot;count&quot;</td><td>5000.0</td><td>5000.0</td><td>&quot;5000&quot;</td></tr><tr><td>&quot;null_count&quot;</td><td>0.0</td><td>0.0</td><td>&quot;0&quot;</td></tr><tr><td>&quot;mean&quot;</td><td>298.228337</td><td>2001.5494</td><td>null</td></tr><tr><td>&quot;std&quot;</td><td>304.992471</td><td>12.676312</td><td>null</td></tr><tr><td>&quot;min&quot;</td><td>0.339977</td><td>1980.0</td><td>&quot;A&quot;</td></tr><tr><td>&quot;25%&quot;</td><td>86.042265</td><td>1990.0</td><td>null</td></tr><tr><td>&quot;50%&quot;</td><td>200.822089</td><td>2002.0</td><td>null</td></tr><tr><td>&quot;75%&quot;</td><td>402.872935</td><td>2012.0</td><td>null</td></tr><tr><td>&quot;max&quot;</td><td>2792.338175</td><td>2023.0</td><td>&quot;C&quot;</td></tr></tbody></table></div>"
      ],
      "text/plain": [
       "shape: (9, 4)\n",
       "┌────────────┬─────────────┬───────────┬──────┐\n",
       "│ statistic  ┆ metraje     ┆ año       ┆ tipo │\n",
       "│ ---        ┆ ---         ┆ ---       ┆ ---  │\n",
       "│ str        ┆ f64         ┆ f64       ┆ str  │\n",
       "╞════════════╪═════════════╪═══════════╪══════╡\n",
       "│ count      ┆ 5000.0      ┆ 5000.0    ┆ 5000 │\n",
       "│ null_count ┆ 0.0         ┆ 0.0       ┆ 0    │\n",
       "│ mean       ┆ 298.228337  ┆ 2001.5494 ┆ null │\n",
       "│ std        ┆ 304.992471  ┆ 12.676312 ┆ null │\n",
       "│ min        ┆ 0.339977    ┆ 1980.0    ┆ A    │\n",
       "│ 25%        ┆ 86.042265   ┆ 1990.0    ┆ null │\n",
       "│ 50%        ┆ 200.822089  ┆ 2002.0    ┆ null │\n",
       "│ 75%        ┆ 402.872935  ┆ 2012.0    ┆ null │\n",
       "│ max        ┆ 2792.338175 ┆ 2023.0    ┆ C    │\n",
       "└────────────┴─────────────┴───────────┴──────┘"
      ]
     },
     "execution_count": 5,
     "metadata": {},
     "output_type": "execute_result"
    }
   ],
   "source": [
    "edificios.describe()"
   ]
  },
  {
   "cell_type": "markdown",
   "metadata": {},
   "source": [
    "# Contexto y expresiones\n",
    "Expresiones son las transformaciones que se hacen en las columnas de datos, incluyendo operaciones matemáticas, agregaciones, comparaciones, manipulación de texto, etc\n",
    "\n",
    "Un contexto se refiere al ambiente específico en que una expresión es evaluada. Existen 3 contextos principales:\n",
    "* **Selección**: Seleccionar columnas de un dataframe.\n",
    "* **Filtro**: Reducir al dataframe extrayendo filas que cumplan una condición.\n",
    "* **Agrupación**: Hacer resúmenes de subgrupos de los datos."
   ]
  },
  {
   "cell_type": "code",
   "execution_count": 6,
   "metadata": {},
   "outputs": [
    {
     "data": {
      "text/html": [
       "<div><style>\n",
       ".dataframe > thead > tr,\n",
       ".dataframe > tbody > tr {\n",
       "  text-align: right;\n",
       "  white-space: pre-wrap;\n",
       "}\n",
       "</style>\n",
       "<small>shape: (5_000, 1)</small><table border=\"1\" class=\"dataframe\"><thead><tr><th>metraje</th></tr><tr><td>f64</td></tr></thead><tbody><tr><td>212.258777</td></tr><tr><td>307.561004</td></tr><tr><td>170.564597</td></tr><tr><td>268.532959</td></tr><tr><td>61.959826</td></tr><tr><td>&hellip;</td></tr><tr><td>213.130726</td></tr><tr><td>122.661835</td></tr><tr><td>17.268618</td></tr><tr><td>1118.426685</td></tr><tr><td>206.003503</td></tr></tbody></table></div>"
      ],
      "text/plain": [
       "shape: (5_000, 1)\n",
       "┌─────────────┐\n",
       "│ metraje     │\n",
       "│ ---         │\n",
       "│ f64         │\n",
       "╞═════════════╡\n",
       "│ 212.258777  │\n",
       "│ 307.561004  │\n",
       "│ 170.564597  │\n",
       "│ 268.532959  │\n",
       "│ 61.959826   │\n",
       "│ …           │\n",
       "│ 213.130726  │\n",
       "│ 122.661835  │\n",
       "│ 17.268618   │\n",
       "│ 1118.426685 │\n",
       "│ 206.003503  │\n",
       "└─────────────┘"
      ]
     },
     "execution_count": 6,
     "metadata": {},
     "output_type": "execute_result"
    }
   ],
   "source": [
    "edificios.select(\"metraje\")"
   ]
  },
  {
   "cell_type": "code",
   "execution_count": 7,
   "metadata": {},
   "outputs": [
    {
     "data": {
      "text/html": [
       "<div><style>\n",
       ".dataframe > thead > tr,\n",
       ".dataframe > tbody > tr {\n",
       "  text-align: right;\n",
       "  white-space: pre-wrap;\n",
       "}\n",
       "</style>\n",
       "<small>shape: (5_000, 1)</small><table border=\"1\" class=\"dataframe\"><thead><tr><th>metraje</th></tr><tr><td>f64</td></tr></thead><tbody><tr><td>212.258777</td></tr><tr><td>307.561004</td></tr><tr><td>170.564597</td></tr><tr><td>268.532959</td></tr><tr><td>61.959826</td></tr><tr><td>&hellip;</td></tr><tr><td>213.130726</td></tr><tr><td>122.661835</td></tr><tr><td>17.268618</td></tr><tr><td>1118.426685</td></tr><tr><td>206.003503</td></tr></tbody></table></div>"
      ],
      "text/plain": [
       "shape: (5_000, 1)\n",
       "┌─────────────┐\n",
       "│ metraje     │\n",
       "│ ---         │\n",
       "│ f64         │\n",
       "╞═════════════╡\n",
       "│ 212.258777  │\n",
       "│ 307.561004  │\n",
       "│ 170.564597  │\n",
       "│ 268.532959  │\n",
       "│ 61.959826   │\n",
       "│ …           │\n",
       "│ 213.130726  │\n",
       "│ 122.661835  │\n",
       "│ 17.268618   │\n",
       "│ 1118.426685 │\n",
       "│ 206.003503  │\n",
       "└─────────────┘"
      ]
     },
     "execution_count": 7,
     "metadata": {},
     "output_type": "execute_result"
    }
   ],
   "source": [
    "edificios.select(pl.col(\"metraje\"))"
   ]
  },
  {
   "cell_type": "markdown",
   "metadata": {},
   "source": [
    "La segunda forma usando ```pl.col``` te permite encadenar manipulaciones en la columna, por ejemplo dividir el metraje por 100"
   ]
  },
  {
   "cell_type": "code",
   "execution_count": 8,
   "metadata": {},
   "outputs": [
    {
     "data": {
      "text/html": [
       "<div><style>\n",
       ".dataframe > thead > tr,\n",
       ".dataframe > tbody > tr {\n",
       "  text-align: right;\n",
       "  white-space: pre-wrap;\n",
       "}\n",
       "</style>\n",
       "<small>shape: (5_000, 1)</small><table border=\"1\" class=\"dataframe\"><thead><tr><th>metraje</th></tr><tr><td>f64</td></tr></thead><tbody><tr><td>0.0034</td></tr><tr><td>0.003456</td></tr><tr><td>0.004287</td></tr><tr><td>0.004316</td></tr><tr><td>0.004514</td></tr><tr><td>&hellip;</td></tr><tr><td>20.79575</td></tr><tr><td>21.742617</td></tr><tr><td>22.888708</td></tr><tr><td>24.941827</td></tr><tr><td>27.923382</td></tr></tbody></table></div>"
      ],
      "text/plain": [
       "shape: (5_000, 1)\n",
       "┌───────────┐\n",
       "│ metraje   │\n",
       "│ ---       │\n",
       "│ f64       │\n",
       "╞═══════════╡\n",
       "│ 0.0034    │\n",
       "│ 0.003456  │\n",
       "│ 0.004287  │\n",
       "│ 0.004316  │\n",
       "│ 0.004514  │\n",
       "│ …         │\n",
       "│ 20.79575  │\n",
       "│ 21.742617 │\n",
       "│ 22.888708 │\n",
       "│ 24.941827 │\n",
       "│ 27.923382 │\n",
       "└───────────┘"
      ]
     },
     "execution_count": 8,
     "metadata": {},
     "output_type": "execute_result"
    }
   ],
   "source": [
    "edificios.select(pl.col(\"metraje\").sort() / 100)"
   ]
  },
  {
   "cell_type": "markdown",
   "metadata": {},
   "source": [
    "Podemos también filtrar"
   ]
  },
  {
   "cell_type": "code",
   "execution_count": 9,
   "metadata": {},
   "outputs": [
    {
     "data": {
      "text/html": [
       "<div><style>\n",
       ".dataframe > thead > tr,\n",
       ".dataframe > tbody > tr {\n",
       "  text-align: right;\n",
       "  white-space: pre-wrap;\n",
       "}\n",
       "</style>\n",
       "<small>shape: (902, 3)</small><table border=\"1\" class=\"dataframe\"><thead><tr><th>metraje</th><th>año</th><th>tipo</th></tr><tr><td>f64</td><td>i64</td><td>str</td></tr></thead><tbody><tr><td>307.561004</td><td>2019</td><td>&quot;C&quot;</td></tr><tr><td>1015.091205</td><td>2016</td><td>&quot;B&quot;</td></tr><tr><td>172.599827</td><td>2022</td><td>&quot;A&quot;</td></tr><tr><td>220.757182</td><td>2020</td><td>&quot;A&quot;</td></tr><tr><td>75.103604</td><td>2016</td><td>&quot;C&quot;</td></tr><tr><td>&hellip;</td><td>&hellip;</td><td>&hellip;</td></tr><tr><td>95.661883</td><td>2019</td><td>&quot;B&quot;</td></tr><tr><td>516.747999</td><td>2016</td><td>&quot;C&quot;</td></tr><tr><td>740.445452</td><td>2023</td><td>&quot;B&quot;</td></tr><tr><td>17.268618</td><td>2018</td><td>&quot;C&quot;</td></tr><tr><td>1118.426685</td><td>2019</td><td>&quot;C&quot;</td></tr></tbody></table></div>"
      ],
      "text/plain": [
       "shape: (902, 3)\n",
       "┌─────────────┬──────┬──────┐\n",
       "│ metraje     ┆ año  ┆ tipo │\n",
       "│ ---         ┆ ---  ┆ ---  │\n",
       "│ f64         ┆ i64  ┆ str  │\n",
       "╞═════════════╪══════╪══════╡\n",
       "│ 307.561004  ┆ 2019 ┆ C    │\n",
       "│ 1015.091205 ┆ 2016 ┆ B    │\n",
       "│ 172.599827  ┆ 2022 ┆ A    │\n",
       "│ 220.757182  ┆ 2020 ┆ A    │\n",
       "│ 75.103604   ┆ 2016 ┆ C    │\n",
       "│ …           ┆ …    ┆ …    │\n",
       "│ 95.661883   ┆ 2019 ┆ B    │\n",
       "│ 516.747999  ┆ 2016 ┆ C    │\n",
       "│ 740.445452  ┆ 2023 ┆ B    │\n",
       "│ 17.268618   ┆ 2018 ┆ C    │\n",
       "│ 1118.426685 ┆ 2019 ┆ C    │\n",
       "└─────────────┴──────┴──────┘"
      ]
     },
     "execution_count": 9,
     "metadata": {},
     "output_type": "execute_result"
    }
   ],
   "source": [
    "edificios.filter(pl.col(\"año\") > 2015)"
   ]
  },
  {
   "cell_type": "code",
   "execution_count": 10,
   "metadata": {},
   "outputs": [
    {
     "data": {
      "text/html": [
       "<div><style>\n",
       ".dataframe > thead > tr,\n",
       ".dataframe > tbody > tr {\n",
       "  text-align: right;\n",
       "  white-space: pre-wrap;\n",
       "}\n",
       "</style>\n",
       "<small>shape: (1, 1)</small><table border=\"1\" class=\"dataframe\"><thead><tr><th>año</th></tr><tr><td>i64</td></tr></thead><tbody><tr><td>2016</td></tr></tbody></table></div>"
      ],
      "text/plain": [
       "shape: (1, 1)\n",
       "┌──────┐\n",
       "│ año  │\n",
       "│ ---  │\n",
       "│ i64  │\n",
       "╞══════╡\n",
       "│ 2016 │\n",
       "└──────┘"
      ]
     },
     "execution_count": 10,
     "metadata": {},
     "output_type": "execute_result"
    }
   ],
   "source": [
    "edificios.filter(pl.col(\"año\") > 2015).select(pl.col(\"año\").min())"
   ]
  },
  {
   "cell_type": "markdown",
   "metadata": {},
   "source": [
    "Puedo hacer agrupaciones o ```group_by```"
   ]
  },
  {
   "cell_type": "code",
   "execution_count": 11,
   "metadata": {},
   "outputs": [
    {
     "data": {
      "text/html": [
       "<div><style>\n",
       ".dataframe > thead > tr,\n",
       ".dataframe > tbody > tr {\n",
       "  text-align: right;\n",
       "  white-space: pre-wrap;\n",
       "}\n",
       "</style>\n",
       "<small>shape: (3, 4)</small><table border=\"1\" class=\"dataframe\"><thead><tr><th>tipo</th><th>mts promedio</th><th>año medio</th><th>len</th></tr><tr><td>str</td><td>f64</td><td>f64</td><td>u32</td></tr></thead><tbody><tr><td>&quot;B&quot;</td><td>297.8</td><td>2002.0</td><td>1655</td></tr><tr><td>&quot;A&quot;</td><td>296.9</td><td>2003.0</td><td>1653</td></tr><tr><td>&quot;C&quot;</td><td>300.0</td><td>2002.0</td><td>1692</td></tr></tbody></table></div>"
      ],
      "text/plain": [
       "shape: (3, 4)\n",
       "┌──────┬──────────────┬───────────┬──────┐\n",
       "│ tipo ┆ mts promedio ┆ año medio ┆ len  │\n",
       "│ ---  ┆ ---          ┆ ---       ┆ ---  │\n",
       "│ str  ┆ f64          ┆ f64       ┆ u32  │\n",
       "╞══════╪══════════════╪═══════════╪══════╡\n",
       "│ B    ┆ 297.8        ┆ 2002.0    ┆ 1655 │\n",
       "│ A    ┆ 296.9        ┆ 2003.0    ┆ 1653 │\n",
       "│ C    ┆ 300.0        ┆ 2002.0    ┆ 1692 │\n",
       "└──────┴──────────────┴───────────┴──────┘"
      ]
     },
     "execution_count": 11,
     "metadata": {},
     "output_type": "execute_result"
    }
   ],
   "source": [
    "(edificios.group_by(\"tipo\")\n",
    " .agg([\n",
    "     pl.mean(\"metraje\").round(1).alias(\"mts promedio\"),\n",
    "     pl.median(\"año\").round(1).alias(\"año medio\"),\n",
    "     pl.len()\n",
    " ])\n",
    ")"
   ]
  },
  {
   "cell_type": "markdown",
   "metadata": {},
   "source": [
    "# Lazy API\n",
    "Permite hacer operaciones sin correrlas inmediatamente, eso permite optimizarlas antes de ejecución y ver potenciales errores. Además permite hacer consultas en dataframes que no caben dentro de la memoria de manera más eficiente.\n",
    "\n",
    "```LazyFrame``` es el objeto que se usa y existen diferentes formas de crearlos"
   ]
  },
  {
   "cell_type": "code",
   "execution_count": 12,
   "metadata": {},
   "outputs": [
    {
     "data": {
      "text/html": [
       "<h4>NAIVE QUERY PLAN</h4><p>run <b>LazyFrame.show_graph()</b> to see the optimized version</p><?xml version=\"1.0\" encoding=\"UTF-8\" standalone=\"no\"?>\n",
       "<!DOCTYPE svg PUBLIC \"-//W3C//DTD SVG 1.1//EN\"\n",
       " \"http://www.w3.org/Graphics/SVG/1.1/DTD/svg11.dtd\">\n",
       "<!-- Generated by graphviz version 12.1.0 (20240811.2233)\n",
       " -->\n",
       "<!-- Title: polars_query Pages: 1 -->\n",
       "<svg width=\"68pt\" height=\"66pt\"\n",
       " viewBox=\"0.00 0.00 67.50 65.50\" xmlns=\"http://www.w3.org/2000/svg\" xmlns:xlink=\"http://www.w3.org/1999/xlink\">\n",
       "<g id=\"graph0\" class=\"graph\" transform=\"scale(1 1) rotate(0) translate(4 61.5)\">\n",
       "<title>polars_query</title>\n",
       "<polygon fill=\"white\" stroke=\"none\" points=\"-4,4 -4,-61.5 63.5,-61.5 63.5,4 -4,4\"/>\n",
       "<!-- p1 -->\n",
       "<g id=\"node1\" class=\"node\">\n",
       "<title>p1</title>\n",
       "<polygon fill=\"none\" stroke=\"black\" points=\"59.5,-57.5 0,-57.5 0,0 59.5,0 59.5,-57.5\"/>\n",
       "<text text-anchor=\"middle\" x=\"29.75\" y=\"-40.2\" font-family=\"Times,serif\" font-size=\"14.00\">TABLE</text>\n",
       "<text text-anchor=\"middle\" x=\"29.75\" y=\"-23.7\" font-family=\"Times,serif\" font-size=\"14.00\">π */4;</text>\n",
       "<text text-anchor=\"middle\" x=\"29.75\" y=\"-7.2\" font-family=\"Times,serif\" font-size=\"14.00\">σ None</text>\n",
       "</g>\n",
       "</g>\n",
       "</svg>\n"
      ],
      "text/plain": [
       "<LazyFrame at 0x1142370B0>"
      ]
     },
     "execution_count": 12,
     "metadata": {},
     "output_type": "execute_result"
    }
   ],
   "source": [
    "# creamos variable precio\n",
    "datos_edificios[\"precio\"] = rng.exponential(scale=100_000_000, size = num_filas)\n",
    "\n",
    "edificios_lazy = pl.LazyFrame(datos_edificios)\n",
    "edificios_lazy"
   ]
  },
  {
   "cell_type": "code",
   "execution_count": 19,
   "metadata": {},
   "outputs": [
    {
     "data": {
      "text/html": [
       "<h4>NAIVE QUERY PLAN</h4><p>run <b>LazyFrame.show_graph()</b> to see the optimized version</p><?xml version=\"1.0\" encoding=\"UTF-8\" standalone=\"no\"?>\n",
       "<!DOCTYPE svg PUBLIC \"-//W3C//DTD SVG 1.1//EN\"\n",
       " \"http://www.w3.org/Graphics/SVG/1.1/DTD/svg11.dtd\">\n",
       "<!-- Generated by graphviz version 12.1.0 (20240811.2233)\n",
       " -->\n",
       "<!-- Title: polars_query Pages: 1 -->\n",
       "<svg width=\"440pt\" height=\"282pt\"\n",
       " viewBox=\"0.00 0.00 439.50 281.50\" xmlns=\"http://www.w3.org/2000/svg\" xmlns:xlink=\"http://www.w3.org/1999/xlink\">\n",
       "<g id=\"graph0\" class=\"graph\" transform=\"scale(1 1) rotate(0) translate(4 277.5)\">\n",
       "<title>polars_query</title>\n",
       "<polygon fill=\"white\" stroke=\"none\" points=\"-4,4 -4,-277.5 435.5,-277.5 435.5,4 -4,4\"/>\n",
       "<!-- p1 -->\n",
       "<g id=\"node1\" class=\"node\">\n",
       "<title>p1</title>\n",
       "<polygon fill=\"none\" stroke=\"black\" points=\"322.75,-273.5 108.75,-273.5 108.75,-237.5 322.75,-237.5 322.75,-273.5\"/>\n",
       "<text text-anchor=\"middle\" x=\"215.75\" y=\"-250.45\" font-family=\"Times,serif\" font-size=\"14.00\">FILTER BY [(col(&quot;año&quot;)) &lt; (2010)]</text>\n",
       "</g>\n",
       "<!-- p2 -->\n",
       "<g id=\"node2\" class=\"node\">\n",
       "<title>p2</title>\n",
       "<polygon fill=\"none\" stroke=\"black\" points=\"354.25,-201.5 77.25,-201.5 77.25,-165.5 354.25,-165.5 354.25,-201.5\"/>\n",
       "<text text-anchor=\"middle\" x=\"215.75\" y=\"-178.45\" font-family=\"Times,serif\" font-size=\"14.00\">FILTER BY [(col(&quot;precio_m2&quot;)) &gt; (100000.0)]</text>\n",
       "</g>\n",
       "<!-- p1&#45;&#45;p2 -->\n",
       "<g id=\"edge1\" class=\"edge\">\n",
       "<title>p1&#45;&#45;p2</title>\n",
       "<path fill=\"none\" stroke=\"black\" d=\"M215.75,-237.2C215.75,-226.35 215.75,-212.42 215.75,-201.6\"/>\n",
       "</g>\n",
       "<!-- p3 -->\n",
       "<g id=\"node3\" class=\"node\">\n",
       "<title>p3</title>\n",
       "<polygon fill=\"none\" stroke=\"black\" points=\"431.5,-129.5 0,-129.5 0,-93.5 431.5,-93.5 431.5,-129.5\"/>\n",
       "<text text-anchor=\"middle\" x=\"215.75\" y=\"-106.45\" font-family=\"Times,serif\" font-size=\"14.00\">WITH COLUMNS [[(col(&quot;precio&quot;)) / (col(&quot;metraje&quot;))].alias(&quot;precio_m2&quot;)]</text>\n",
       "</g>\n",
       "<!-- p2&#45;&#45;p3 -->\n",
       "<g id=\"edge2\" class=\"edge\">\n",
       "<title>p2&#45;&#45;p3</title>\n",
       "<path fill=\"none\" stroke=\"black\" d=\"M215.75,-165.2C215.75,-154.35 215.75,-140.42 215.75,-129.6\"/>\n",
       "</g>\n",
       "<!-- p4 -->\n",
       "<g id=\"node4\" class=\"node\">\n",
       "<title>p4</title>\n",
       "<polygon fill=\"none\" stroke=\"black\" points=\"245.5,-57.5 186,-57.5 186,0 245.5,0 245.5,-57.5\"/>\n",
       "<text text-anchor=\"middle\" x=\"215.75\" y=\"-40.2\" font-family=\"Times,serif\" font-size=\"14.00\">TABLE</text>\n",
       "<text text-anchor=\"middle\" x=\"215.75\" y=\"-23.7\" font-family=\"Times,serif\" font-size=\"14.00\">π */4;</text>\n",
       "<text text-anchor=\"middle\" x=\"215.75\" y=\"-7.2\" font-family=\"Times,serif\" font-size=\"14.00\">σ None</text>\n",
       "</g>\n",
       "<!-- p3&#45;&#45;p4 -->\n",
       "<g id=\"edge3\" class=\"edge\">\n",
       "<title>p3&#45;&#45;p4</title>\n",
       "<path fill=\"none\" stroke=\"black\" d=\"M215.75,-93.38C215.75,-83.1 215.75,-69.77 215.75,-57.97\"/>\n",
       "</g>\n",
       "</g>\n",
       "</svg>\n"
      ],
      "text/plain": [
       "<LazyFrame at 0x1200ADAC0>"
      ]
     },
     "execution_count": 19,
     "metadata": {},
     "output_type": "execute_result"
    }
   ],
   "source": [
    "lazy_query = (\n",
    "    edificios_lazy\n",
    "    .with_columns(\n",
    "        (pl.col(\"precio\") / pl.col(\"metraje\")).alias(\"precio_m2\")\n",
    "    )\n",
    "    .filter(pl.col(\"precio_m2\") > 100_000)\n",
    "    .filter(pl.col(\"año\") < 2010)\n",
    ")\n",
    "lazy_query"
   ]
  },
  {
   "cell_type": "code",
   "execution_count": 20,
   "metadata": {},
   "outputs": [
    {
     "data": {
      "image/svg+xml": [
       "<svg xmlns=\"http://www.w3.org/2000/svg\" xmlns:xlink=\"http://www.w3.org/1999/xlink\" width=\"440pt\" height=\"210pt\" viewBox=\"0.00 0.00 439.50 209.50\">\n",
       "<g id=\"graph0\" class=\"graph\" transform=\"scale(1 1) rotate(0) translate(4 205.5)\">\n",
       "<title>polars_query</title>\n",
       "<polygon fill=\"white\" stroke=\"none\" points=\"-4,4 -4,-205.5 435.5,-205.5 435.5,4 -4,4\"/>\n",
       "<!-- p1 -->\n",
       "<g id=\"node1\" class=\"node\">\n",
       "<title>p1</title>\n",
       "<polygon fill=\"none\" stroke=\"black\" points=\"354.25,-201.5 77.25,-201.5 77.25,-165.5 354.25,-165.5 354.25,-201.5\"/>\n",
       "<text text-anchor=\"middle\" x=\"215.75\" y=\"-178.45\" font-family=\"Times,serif\" font-size=\"14.00\">FILTER BY [(col(&quot;precio_m2&quot;)) &gt; (100000.0)]</text>\n",
       "</g>\n",
       "<!-- p2 -->\n",
       "<g id=\"node2\" class=\"node\">\n",
       "<title>p2</title>\n",
       "<polygon fill=\"none\" stroke=\"black\" points=\"431.5,-129.5 0,-129.5 0,-93.5 431.5,-93.5 431.5,-129.5\"/>\n",
       "<text text-anchor=\"middle\" x=\"215.75\" y=\"-106.45\" font-family=\"Times,serif\" font-size=\"14.00\">WITH COLUMNS [[(col(&quot;precio&quot;)) / (col(&quot;metraje&quot;))].alias(&quot;precio_m2&quot;)]</text>\n",
       "</g>\n",
       "<!-- p1&#45;&#45;p2 -->\n",
       "<g id=\"edge1\" class=\"edge\">\n",
       "<title>p1--p2</title>\n",
       "<path fill=\"none\" stroke=\"black\" d=\"M215.75,-165.2C215.75,-154.35 215.75,-140.42 215.75,-129.6\"/>\n",
       "</g>\n",
       "<!-- p3 -->\n",
       "<g id=\"node3\" class=\"node\">\n",
       "<title>p3</title>\n",
       "<polygon fill=\"none\" stroke=\"black\" points=\"292.75,-57.5 138.75,-57.5 138.75,0 292.75,0 292.75,-57.5\"/>\n",
       "<text text-anchor=\"middle\" x=\"215.75\" y=\"-40.2\" font-family=\"Times,serif\" font-size=\"14.00\">TABLE</text>\n",
       "<text text-anchor=\"middle\" x=\"215.75\" y=\"-23.7\" font-family=\"Times,serif\" font-size=\"14.00\">π */4;</text>\n",
       "<text text-anchor=\"middle\" x=\"215.75\" y=\"-7.2\" font-family=\"Times,serif\" font-size=\"14.00\">σ [(col(&quot;año&quot;)) &lt; (2010)]</text>\n",
       "</g>\n",
       "<!-- p2&#45;&#45;p3 -->\n",
       "<g id=\"edge2\" class=\"edge\">\n",
       "<title>p2--p3</title>\n",
       "<path fill=\"none\" stroke=\"black\" d=\"M215.75,-93.38C215.75,-83.1 215.75,-69.77 215.75,-57.97\"/>\n",
       "</g>\n",
       "</g>\n",
       "</svg>"
      ],
      "text/plain": [
       "<IPython.core.display.SVG object>"
      ]
     },
     "metadata": {},
     "output_type": "display_data"
    }
   ],
   "source": [
    "lazy_query.show_graph()"
   ]
  },
  {
   "cell_type": "markdown",
   "metadata": {},
   "source": [
    "Esto explica que hace internamente ```polars``` para hacer la consulta.\n",
    "\n",
    "Para ejecutarla se usa ```collect()```"
   ]
  },
  {
   "cell_type": "code",
   "execution_count": 21,
   "metadata": {},
   "outputs": [
    {
     "data": {
      "text/html": [
       "<div><style>\n",
       ".dataframe > thead > tr,\n",
       ".dataframe > tbody > tr {\n",
       "  text-align: right;\n",
       "  white-space: pre-wrap;\n",
       "}\n",
       "</style>\n",
       "<small>shape: (2_678, 5)</small><table border=\"1\" class=\"dataframe\"><thead><tr><th>metraje</th><th>año</th><th>tipo</th><th>precio</th><th>precio_m2</th></tr><tr><td>f64</td><td>i64</td><td>str</td><td>f64</td><td>f64</td></tr></thead><tbody><tr><td>212.258777</td><td>1982</td><td>&quot;C&quot;</td><td>2.2064e7</td><td>103950.853854</td></tr><tr><td>170.564597</td><td>2007</td><td>&quot;A&quot;</td><td>2.9574e7</td><td>173387.199516</td></tr><tr><td>61.959826</td><td>2006</td><td>&quot;A&quot;</td><td>2.3924e8</td><td>3.8612e6</td></tr><tr><td>2.926088</td><td>1999</td><td>&quot;A&quot;</td><td>2.0970e8</td><td>7.1666e7</td></tr><tr><td>842.764729</td><td>1994</td><td>&quot;B&quot;</td><td>9.0218e7</td><td>107050.139414</td></tr><tr><td>&hellip;</td><td>&hellip;</td><td>&hellip;</td><td>&hellip;</td><td>&hellip;</td></tr><tr><td>27.066478</td><td>1998</td><td>&quot;B&quot;</td><td>1.1429e8</td><td>4.2225e6</td></tr><tr><td>279.834009</td><td>1991</td><td>&quot;A&quot;</td><td>1.1977e8</td><td>428018.490627</td></tr><tr><td>213.130726</td><td>1993</td><td>&quot;C&quot;</td><td>3.7365e7</td><td>175316.233029</td></tr><tr><td>122.661835</td><td>2003</td><td>&quot;C&quot;</td><td>3.8405e7</td><td>313099.658009</td></tr><tr><td>206.003503</td><td>2006</td><td>&quot;C&quot;</td><td>1.2064e8</td><td>585597.427767</td></tr></tbody></table></div>"
      ],
      "text/plain": [
       "shape: (2_678, 5)\n",
       "┌────────────┬──────┬──────┬──────────┬───────────────┐\n",
       "│ metraje    ┆ año  ┆ tipo ┆ precio   ┆ precio_m2     │\n",
       "│ ---        ┆ ---  ┆ ---  ┆ ---      ┆ ---           │\n",
       "│ f64        ┆ i64  ┆ str  ┆ f64      ┆ f64           │\n",
       "╞════════════╪══════╪══════╪══════════╪═══════════════╡\n",
       "│ 212.258777 ┆ 1982 ┆ C    ┆ 2.2064e7 ┆ 103950.853854 │\n",
       "│ 170.564597 ┆ 2007 ┆ A    ┆ 2.9574e7 ┆ 173387.199516 │\n",
       "│ 61.959826  ┆ 2006 ┆ A    ┆ 2.3924e8 ┆ 3.8612e6      │\n",
       "│ 2.926088   ┆ 1999 ┆ A    ┆ 2.0970e8 ┆ 7.1666e7      │\n",
       "│ 842.764729 ┆ 1994 ┆ B    ┆ 9.0218e7 ┆ 107050.139414 │\n",
       "│ …          ┆ …    ┆ …    ┆ …        ┆ …             │\n",
       "│ 27.066478  ┆ 1998 ┆ B    ┆ 1.1429e8 ┆ 4.2225e6      │\n",
       "│ 279.834009 ┆ 1991 ┆ A    ┆ 1.1977e8 ┆ 428018.490627 │\n",
       "│ 213.130726 ┆ 1993 ┆ C    ┆ 3.7365e7 ┆ 175316.233029 │\n",
       "│ 122.661835 ┆ 2003 ┆ C    ┆ 3.8405e7 ┆ 313099.658009 │\n",
       "│ 206.003503 ┆ 2006 ┆ C    ┆ 1.2064e8 ┆ 585597.427767 │\n",
       "└────────────┴──────┴──────┴──────────┴───────────────┘"
      ]
     },
     "execution_count": 21,
     "metadata": {},
     "output_type": "execute_result"
    }
   ],
   "source": [
    "(lazy_query.collect())"
   ]
  },
  {
   "cell_type": "code",
   "execution_count": 22,
   "metadata": {},
   "outputs": [
    {
     "data": {
      "text/html": [
       "<div><style>\n",
       ".dataframe > thead > tr,\n",
       ".dataframe > tbody > tr {\n",
       "  text-align: right;\n",
       "  white-space: pre-wrap;\n",
       "}\n",
       "</style>\n",
       "<small>shape: (2_678, 2)</small><table border=\"1\" class=\"dataframe\"><thead><tr><th>precio_m2</th><th>año</th></tr><tr><td>f64</td><td>i64</td></tr></thead><tbody><tr><td>103950.853854</td><td>1982</td></tr><tr><td>173387.199516</td><td>2007</td></tr><tr><td>3.8612e6</td><td>2006</td></tr><tr><td>7.1666e7</td><td>1999</td></tr><tr><td>107050.139414</td><td>1994</td></tr><tr><td>&hellip;</td><td>&hellip;</td></tr><tr><td>4.2225e6</td><td>1998</td></tr><tr><td>428018.490627</td><td>1991</td></tr><tr><td>175316.233029</td><td>1993</td></tr><tr><td>313099.658009</td><td>2003</td></tr><tr><td>585597.427767</td><td>2006</td></tr></tbody></table></div>"
      ],
      "text/plain": [
       "shape: (2_678, 2)\n",
       "┌───────────────┬──────┐\n",
       "│ precio_m2     ┆ año  │\n",
       "│ ---           ┆ ---  │\n",
       "│ f64           ┆ i64  │\n",
       "╞═══════════════╪══════╡\n",
       "│ 103950.853854 ┆ 1982 │\n",
       "│ 173387.199516 ┆ 2007 │\n",
       "│ 3.8612e6      ┆ 2006 │\n",
       "│ 7.1666e7      ┆ 1999 │\n",
       "│ 107050.139414 ┆ 1994 │\n",
       "│ …             ┆ …    │\n",
       "│ 4.2225e6      ┆ 1998 │\n",
       "│ 428018.490627 ┆ 1991 │\n",
       "│ 175316.233029 ┆ 1993 │\n",
       "│ 313099.658009 ┆ 2003 │\n",
       "│ 585597.427767 ┆ 2006 │\n",
       "└───────────────┴──────┘"
      ]
     },
     "execution_count": 22,
     "metadata": {},
     "output_type": "execute_result"
    }
   ],
   "source": [
    "(lazy_query\n",
    " .collect()\n",
    " .select(pl.col([\"precio_m2\", \"año\"]))\n",
    ")"
   ]
  },
  {
   "cell_type": "code",
   "execution_count": 23,
   "metadata": {},
   "outputs": [
    {
     "data": {
      "text/html": [
       "<div><style>\n",
       ".dataframe > thead > tr,\n",
       ".dataframe > tbody > tr {\n",
       "  text-align: right;\n",
       "  white-space: pre-wrap;\n",
       "}\n",
       "</style>\n",
       "<small>shape: (9, 3)</small><table border=\"1\" class=\"dataframe\"><thead><tr><th>statistic</th><th>precio_m2</th><th>año</th></tr><tr><td>str</td><td>f64</td><td>f64</td></tr></thead><tbody><tr><td>&quot;count&quot;</td><td>2678.0</td><td>2678.0</td></tr><tr><td>&quot;null_count&quot;</td><td>0.0</td><td>0.0</td></tr><tr><td>&quot;mean&quot;</td><td>3.4124e6</td><td>1994.714712</td></tr><tr><td>&quot;std&quot;</td><td>2.4323e7</td><td>8.796034</td></tr><tr><td>&quot;min&quot;</td><td>100027.263081</td><td>1980.0</td></tr><tr><td>&quot;25%&quot;</td><td>241045.156977</td><td>1987.0</td></tr><tr><td>&quot;50%&quot;</td><td>543350.608691</td><td>1995.0</td></tr><tr><td>&quot;75%&quot;</td><td>1.4526e6</td><td>2003.0</td></tr><tr><td>&quot;max&quot;</td><td>8.1156e8</td><td>2009.0</td></tr></tbody></table></div>"
      ],
      "text/plain": [
       "shape: (9, 3)\n",
       "┌────────────┬───────────────┬─────────────┐\n",
       "│ statistic  ┆ precio_m2     ┆ año         │\n",
       "│ ---        ┆ ---           ┆ ---         │\n",
       "│ str        ┆ f64           ┆ f64         │\n",
       "╞════════════╪═══════════════╪═════════════╡\n",
       "│ count      ┆ 2678.0        ┆ 2678.0      │\n",
       "│ null_count ┆ 0.0           ┆ 0.0         │\n",
       "│ mean       ┆ 3.4124e6      ┆ 1994.714712 │\n",
       "│ std        ┆ 2.4323e7      ┆ 8.796034    │\n",
       "│ min        ┆ 100027.263081 ┆ 1980.0      │\n",
       "│ 25%        ┆ 241045.156977 ┆ 1987.0      │\n",
       "│ 50%        ┆ 543350.608691 ┆ 1995.0      │\n",
       "│ 75%        ┆ 1.4526e6      ┆ 2003.0      │\n",
       "│ max        ┆ 8.1156e8      ┆ 2009.0      │\n",
       "└────────────┴───────────────┴─────────────┘"
      ]
     },
     "execution_count": 23,
     "metadata": {},
     "output_type": "execute_result"
    }
   ],
   "source": [
    "(lazy_query\n",
    " .collect()\n",
    " .select(pl.col([\"precio_m2\", \"año\"]))\n",
    " .describe()\n",
    ")"
   ]
  },
  {
   "cell_type": "markdown",
   "metadata": {},
   "source": [
    "## Datos externos lazy\n",
    "Tradicionalmente se leen todos los datos del csv o fuente externa antes de hacer cualquier procesamiento, pero con el formato lazy se minimiza lo que se lee y se procesa sólo cuando es necesario.\n",
    "\n",
    "Ejemplo con datos de autos eléctricos yankis"
   ]
  },
  {
   "cell_type": "code",
   "execution_count": 31,
   "metadata": {},
   "outputs": [],
   "source": [
    "# Bajando datos\n",
    "import requests, pathlib\n",
    "\n",
    "def bajar_archivo(file_url: str, local_file_path: pathlib.Path) -> None:\n",
    "    response = requests.get(file_url)\n",
    "    if response: \n",
    "        local_file_path.write_bytes(response.content)\n",
    "        print (f\"Archivo bajado en {local_file_path}\")\n",
    "    else:\n",
    "        raise requests.exceptions.RequestException(f\"Fallo en la descarga, código HTTP: {response.status_code}\")"
   ]
  },
  {
   "cell_type": "code",
   "execution_count": 32,
   "metadata": {},
   "outputs": [
    {
     "name": "stdout",
     "output_type": "stream",
     "text": [
      "Archivo bajado en electric_cars.csv\n"
     ]
    }
   ],
   "source": [
    "url = \"https://data.wa.gov/api/views/f6w7-q2d2/rows.csv?accessType=DOWNLOAD\"\n",
    "local_file_path = pathlib.Path(\"electric_cars.csv\")\n",
    "bajar_archivo(url, local_file_path)"
   ]
  },
  {
   "cell_type": "code",
   "execution_count": 33,
   "metadata": {},
   "outputs": [
    {
     "data": {
      "text/html": [
       "<h4>NAIVE QUERY PLAN</h4><p>run <b>LazyFrame.show_graph()</b> to see the optimized version</p><?xml version=\"1.0\" encoding=\"UTF-8\" standalone=\"no\"?>\n",
       "<!DOCTYPE svg PUBLIC \"-//W3C//DTD SVG 1.1//EN\"\n",
       " \"http://www.w3.org/Graphics/SVG/1.1/DTD/svg11.dtd\">\n",
       "<!-- Generated by graphviz version 12.1.0 (20240811.2233)\n",
       " -->\n",
       "<!-- Title: polars_query Pages: 1 -->\n",
       "<svg width=\"188pt\" height=\"49pt\"\n",
       " viewBox=\"0.00 0.00 187.50 49.00\" xmlns=\"http://www.w3.org/2000/svg\" xmlns:xlink=\"http://www.w3.org/1999/xlink\">\n",
       "<g id=\"graph0\" class=\"graph\" transform=\"scale(1 1) rotate(0) translate(4 45)\">\n",
       "<title>polars_query</title>\n",
       "<polygon fill=\"white\" stroke=\"none\" points=\"-4,4 -4,-45 183.5,-45 183.5,4 -4,4\"/>\n",
       "<!-- p1 -->\n",
       "<g id=\"node1\" class=\"node\">\n",
       "<title>p1</title>\n",
       "<polygon fill=\"none\" stroke=\"black\" points=\"179.5,-41 0,-41 0,0 179.5,0 179.5,-41\"/>\n",
       "<text text-anchor=\"middle\" x=\"89.75\" y=\"-23.7\" font-family=\"Times,serif\" font-size=\"14.00\">Csv SCAN [electric_cars.csv]</text>\n",
       "<text text-anchor=\"middle\" x=\"89.75\" y=\"-7.2\" font-family=\"Times,serif\" font-size=\"14.00\">π */17;</text>\n",
       "</g>\n",
       "</g>\n",
       "</svg>\n"
      ],
      "text/plain": [
       "<LazyFrame at 0x117CE6090>"
      ]
     },
     "execution_count": 33,
     "metadata": {},
     "output_type": "execute_result"
    }
   ],
   "source": [
    "lazy_car_data = pl.scan_csv(local_file_path)\n",
    "lazy_car_data"
   ]
  },
  {
   "cell_type": "code",
   "execution_count": 34,
   "metadata": {},
   "outputs": [
    {
     "name": "stderr",
     "output_type": "stream",
     "text": [
      "/var/folders/tx/knx9c43n5fd4_nn752k9dxs00000gn/T/ipykernel_18048/3946365031.py:1: PerformanceWarning: Resolving the schema of a LazyFrame is a potentially expensive operation. Use `LazyFrame.collect_schema()` to get the schema without this warning.\n",
      "  lazy_car_data.schema\n"
     ]
    },
    {
     "data": {
      "text/plain": [
       "Schema([('VIN (1-10)', String),\n",
       "        ('County', String),\n",
       "        ('City', String),\n",
       "        ('State', String),\n",
       "        ('Postal Code', Int64),\n",
       "        ('Model Year', Int64),\n",
       "        ('Make', String),\n",
       "        ('Model', String),\n",
       "        ('Electric Vehicle Type', String),\n",
       "        ('Clean Alternative Fuel Vehicle (CAFV) Eligibility', String),\n",
       "        ('Electric Range', Int64),\n",
       "        ('Base MSRP', Int64),\n",
       "        ('Legislative District', Int64),\n",
       "        ('DOL Vehicle ID', Int64),\n",
       "        ('Vehicle Location', String),\n",
       "        ('Electric Utility', String),\n",
       "        ('2020 Census Tract', Int64)])"
      ]
     },
     "execution_count": 34,
     "metadata": {},
     "output_type": "execute_result"
    }
   ],
   "source": [
    "lazy_car_data.schema"
   ]
  },
  {
   "cell_type": "code",
   "execution_count": 38,
   "metadata": {},
   "outputs": [
    {
     "data": {
      "text/html": [
       "<div><style>\n",
       ".dataframe > thead > tr,\n",
       ".dataframe > tbody > tr {\n",
       "  text-align: right;\n",
       "  white-space: pre-wrap;\n",
       "}\n",
       "</style>\n",
       "<small>shape: (3, 5)</small><table border=\"1\" class=\"dataframe\"><thead><tr><th>State</th><th>Make</th><th>Average Electric Range</th><th>Oldest Model Year</th><th>Number of Cars</th></tr><tr><td>str</td><td>str</td><td>f64</td><td>i64</td><td>u32</td></tr></thead><tbody><tr><td>&quot;WA&quot;</td><td>&quot;JAGUAR&quot;</td><td>205.0</td><td>2019</td><td>234</td></tr><tr><td>&quot;TX&quot;</td><td>&quot;TESLA&quot;</td><td>123.416667</td><td>2018</td><td>12</td></tr><tr><td>&quot;FL&quot;</td><td>&quot;TESLA&quot;</td><td>121.833333</td><td>2019</td><td>6</td></tr></tbody></table></div>"
      ],
      "text/plain": [
       "shape: (3, 5)\n",
       "┌───────┬────────┬────────────────────────┬───────────────────┬────────────────┐\n",
       "│ State ┆ Make   ┆ Average Electric Range ┆ Oldest Model Year ┆ Number of Cars │\n",
       "│ ---   ┆ ---    ┆ ---                    ┆ ---               ┆ ---            │\n",
       "│ str   ┆ str    ┆ f64                    ┆ i64               ┆ u32            │\n",
       "╞═══════╪════════╪════════════════════════╪═══════════════════╪════════════════╡\n",
       "│ WA    ┆ JAGUAR ┆ 205.0                  ┆ 2019              ┆ 234            │\n",
       "│ TX    ┆ TESLA  ┆ 123.416667             ┆ 2018              ┆ 12             │\n",
       "│ FL    ┆ TESLA  ┆ 121.833333             ┆ 2019              ┆ 6              │\n",
       "└───────┴────────┴────────────────────────┴───────────────────┴────────────────┘"
      ]
     },
     "execution_count": 38,
     "metadata": {},
     "output_type": "execute_result"
    }
   ],
   "source": [
    "lazy_car_query = (\n",
    "    lazy_car_data\n",
    "    .filter((pl.col(\"Model Year\") >= 2018))\n",
    "    .filter(\n",
    "        pl.col(\"Electric Vehicle Type\") == \"Battery Electric Vehicle (BEV)\"\n",
    "    )\n",
    "    .group_by([\"State\", \"Make\"])\n",
    "    .agg(\n",
    "        pl.mean(\"Electric Range\").alias(\"Average Electric Range\"),\n",
    "        pl.min(\"Model Year\").alias(\"Oldest Model Year\"),\n",
    "        pl.len().alias(\"Number of Cars\"),\n",
    "    )\n",
    "    .filter(pl.col(\"Average Electric Range\") > 100)\n",
    "    .filter(pl.col(\"Number of Cars\") > 5)\n",
    "    .sort(pl.col(\"Number of Cars\"), descending=True)\n",
    ")\n",
    "\n",
    "lazy_car_query.collect()"
   ]
  },
  {
   "cell_type": "markdown",
   "metadata": {},
   "source": [
    "No se hace ningún cálculo pesado hasta que llamamos a ```collect()```"
   ]
  },
  {
   "cell_type": "markdown",
   "metadata": {},
   "source": [
    "# Integraciones\n",
    "## Fuentes de datos"
   ]
  },
  {
   "cell_type": "code",
   "execution_count": 39,
   "metadata": {},
   "outputs": [],
   "source": [
    "import polars as pl\n",
    "\n",
    "data = pl.DataFrame({\n",
    "    \"A\": [1, 2, 3, 4, 5],\n",
    "    \"B\": [6, 7, 8, 9, 10],\n",
    "})\n",
    "\n",
    "data.write_csv(\"data.csv\")\n",
    "data.write_ndjson(\"data.json\")\n",
    "data.write_parquet(\"data.parquet\")"
   ]
  },
  {
   "cell_type": "code",
   "execution_count": 40,
   "metadata": {},
   "outputs": [
    {
     "name": "stderr",
     "output_type": "stream",
     "text": [
      "/var/folders/tx/knx9c43n5fd4_nn752k9dxs00000gn/T/ipykernel_18048/2993282625.py:3: PerformanceWarning: Resolving the schema of a LazyFrame is a potentially expensive operation. Use `LazyFrame.collect_schema()` to get the schema without this warning.\n",
      "  data_csv_lazy.schema\n"
     ]
    },
    {
     "data": {
      "text/plain": [
       "Schema([('A', Int64), ('B', Int64)])"
      ]
     },
     "execution_count": 40,
     "metadata": {},
     "output_type": "execute_result"
    }
   ],
   "source": [
    "data_csv = pl.read_csv(\"data.csv\")\n",
    "data_csv_lazy = pl.scan_csv(\"data.csv\")\n",
    "data_csv_lazy.schema\n"
   ]
  },
  {
   "cell_type": "code",
   "execution_count": 41,
   "metadata": {},
   "outputs": [
    {
     "name": "stderr",
     "output_type": "stream",
     "text": [
      "/var/folders/tx/knx9c43n5fd4_nn752k9dxs00000gn/T/ipykernel_18048/32618361.py:3: PerformanceWarning: Resolving the schema of a LazyFrame is a potentially expensive operation. Use `LazyFrame.collect_schema()` to get the schema without this warning.\n",
      "  data_json_lazy.schema\n"
     ]
    },
    {
     "data": {
      "text/plain": [
       "Schema([('A', Int64), ('B', Int64)])"
      ]
     },
     "execution_count": 41,
     "metadata": {},
     "output_type": "execute_result"
    }
   ],
   "source": [
    "data_json = pl.read_ndjson(\"data.json\")\n",
    "data_json_lazy = pl.scan_ndjson(\"data.json\")\n",
    "data_json_lazy.schema"
   ]
  },
  {
   "cell_type": "code",
   "execution_count": 42,
   "metadata": {},
   "outputs": [
    {
     "name": "stderr",
     "output_type": "stream",
     "text": [
      "/var/folders/tx/knx9c43n5fd4_nn752k9dxs00000gn/T/ipykernel_18048/1889960607.py:3: PerformanceWarning: Resolving the schema of a LazyFrame is a potentially expensive operation. Use `LazyFrame.collect_schema()` to get the schema without this warning.\n",
      "  data_parquet_lazy.schema\n"
     ]
    },
    {
     "data": {
      "text/plain": [
       "Schema([('A', Int64), ('B', Int64)])"
      ]
     },
     "execution_count": 42,
     "metadata": {},
     "output_type": "execute_result"
    }
   ],
   "source": [
    "data_parquet = pl.read_parquet(\"data.parquet\")\n",
    "data_parquet_lazy = pl.scan_parquet(\"data.parquet\")\n",
    "data_parquet_lazy.schema\n"
   ]
  },
  {
   "cell_type": "code",
   "execution_count": null,
   "metadata": {},
   "outputs": [],
   "source": []
  }
 ],
 "metadata": {
  "kernelspec": {
   "display_name": "Python 3 (ipykernel)",
   "language": "python",
   "name": "python3"
  },
  "language_info": {
   "codemirror_mode": {
    "name": "ipython",
    "version": 3
   },
   "file_extension": ".py",
   "mimetype": "text/x-python",
   "name": "python",
   "nbconvert_exporter": "python",
   "pygments_lexer": "ipython3",
   "version": "3.12.1"
  }
 },
 "nbformat": 4,
 "nbformat_minor": 4
}
