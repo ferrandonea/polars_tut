{
 "cells": [
  {
   "cell_type": "code",
   "execution_count": 1,
   "metadata": {},
   "outputs": [],
   "source": [
    "import polars as pl\n",
    "import numpy as np\n",
    "from datetime import datetime"
   ]
  },
  {
   "cell_type": "markdown",
   "metadata": {},
   "source": [
    "# Declarando"
   ]
  },
  {
   "cell_type": "code",
   "execution_count": 2,
   "metadata": {},
   "outputs": [
    {
     "data": {
      "text/html": [
       "<div><style>\n",
       ".dataframe > thead > tr,\n",
       ".dataframe > tbody > tr {\n",
       "  text-align: right;\n",
       "  white-space: pre-wrap;\n",
       "}\n",
       "</style>\n",
       "<small>shape: (5_000, 3)</small><table border=\"1\" class=\"dataframe\"><thead><tr><th>metraje</th><th>año</th><th>tipo</th></tr><tr><td>f64</td><td>i64</td><td>str</td></tr></thead><tbody><tr><td>212.258777</td><td>1982</td><td>&quot;C&quot;</td></tr><tr><td>307.561004</td><td>2019</td><td>&quot;C&quot;</td></tr><tr><td>170.564597</td><td>2007</td><td>&quot;A&quot;</td></tr><tr><td>268.532959</td><td>1988</td><td>&quot;A&quot;</td></tr><tr><td>61.959826</td><td>2006</td><td>&quot;A&quot;</td></tr><tr><td>&hellip;</td><td>&hellip;</td><td>&hellip;</td></tr><tr><td>213.130726</td><td>1993</td><td>&quot;C&quot;</td></tr><tr><td>122.661835</td><td>2003</td><td>&quot;C&quot;</td></tr><tr><td>17.268618</td><td>2018</td><td>&quot;C&quot;</td></tr><tr><td>1118.426685</td><td>2019</td><td>&quot;C&quot;</td></tr><tr><td>206.003503</td><td>2006</td><td>&quot;C&quot;</td></tr></tbody></table></div>"
      ],
      "text/plain": [
       "shape: (5_000, 3)\n",
       "┌─────────────┬──────┬──────┐\n",
       "│ metraje     ┆ año  ┆ tipo │\n",
       "│ ---         ┆ ---  ┆ ---  │\n",
       "│ f64         ┆ i64  ┆ str  │\n",
       "╞═════════════╪══════╪══════╡\n",
       "│ 212.258777  ┆ 1982 ┆ C    │\n",
       "│ 307.561004  ┆ 2019 ┆ C    │\n",
       "│ 170.564597  ┆ 2007 ┆ A    │\n",
       "│ 268.532959  ┆ 1988 ┆ A    │\n",
       "│ 61.959826   ┆ 2006 ┆ A    │\n",
       "│ …           ┆ …    ┆ …    │\n",
       "│ 213.130726  ┆ 1993 ┆ C    │\n",
       "│ 122.661835  ┆ 2003 ┆ C    │\n",
       "│ 17.268618   ┆ 2018 ┆ C    │\n",
       "│ 1118.426685 ┆ 2019 ┆ C    │\n",
       "│ 206.003503  ┆ 2006 ┆ C    │\n",
       "└─────────────┴──────┴──────┘"
      ]
     },
     "execution_count": 2,
     "metadata": {},
     "output_type": "execute_result"
    }
   ],
   "source": [
    "num_filas = 5_000\n",
    "rng = np.random.default_rng(seed=7)\n",
    "\n",
    "datos_edificios = {\n",
    "    \"metraje\" : rng.exponential(scale = 300, size=num_filas),\n",
    "    \"año\": rng.integers(low=1980, high=2024, size= num_filas),\n",
    "    \"tipo\": rng.choice([\"A\", \"B\", \"C\"], size = num_filas)\n",
    "}\n",
    "\n",
    "edificios = pl.DataFrame(data=datos_edificios)\n",
    "edificios"
   ]
  },
  {
   "cell_type": "markdown",
   "metadata": {},
   "source": [
    "Existen métodos para explorar datos, que muchos son similares a ```pandas```. Los tipos de datos son de ```pyarrow```."
   ]
  },
  {
   "cell_type": "code",
   "execution_count": 3,
   "metadata": {},
   "outputs": [
    {
     "data": {
      "text/plain": [
       "Schema([('metraje', Float64), ('año', Int64), ('tipo', String)])"
      ]
     },
     "execution_count": 3,
     "metadata": {},
     "output_type": "execute_result"
    }
   ],
   "source": [
    "edificios.schema"
   ]
  },
  {
   "cell_type": "code",
   "execution_count": 4,
   "metadata": {},
   "outputs": [
    {
     "data": {
      "text/html": [
       "<div><style>\n",
       ".dataframe > thead > tr,\n",
       ".dataframe > tbody > tr {\n",
       "  text-align: right;\n",
       "  white-space: pre-wrap;\n",
       "}\n",
       "</style>\n",
       "<small>shape: (5, 3)</small><table border=\"1\" class=\"dataframe\"><thead><tr><th>metraje</th><th>año</th><th>tipo</th></tr><tr><td>f64</td><td>i64</td><td>str</td></tr></thead><tbody><tr><td>212.258777</td><td>1982</td><td>&quot;C&quot;</td></tr><tr><td>307.561004</td><td>2019</td><td>&quot;C&quot;</td></tr><tr><td>170.564597</td><td>2007</td><td>&quot;A&quot;</td></tr><tr><td>268.532959</td><td>1988</td><td>&quot;A&quot;</td></tr><tr><td>61.959826</td><td>2006</td><td>&quot;A&quot;</td></tr></tbody></table></div>"
      ],
      "text/plain": [
       "shape: (5, 3)\n",
       "┌────────────┬──────┬──────┐\n",
       "│ metraje    ┆ año  ┆ tipo │\n",
       "│ ---        ┆ ---  ┆ ---  │\n",
       "│ f64        ┆ i64  ┆ str  │\n",
       "╞════════════╪══════╪══════╡\n",
       "│ 212.258777 ┆ 1982 ┆ C    │\n",
       "│ 307.561004 ┆ 2019 ┆ C    │\n",
       "│ 170.564597 ┆ 2007 ┆ A    │\n",
       "│ 268.532959 ┆ 1988 ┆ A    │\n",
       "│ 61.959826  ┆ 2006 ┆ A    │\n",
       "└────────────┴──────┴──────┘"
      ]
     },
     "execution_count": 4,
     "metadata": {},
     "output_type": "execute_result"
    }
   ],
   "source": [
    "edificios.head()"
   ]
  },
  {
   "cell_type": "code",
   "execution_count": 5,
   "metadata": {},
   "outputs": [
    {
     "data": {
      "text/html": [
       "<div><style>\n",
       ".dataframe > thead > tr,\n",
       ".dataframe > tbody > tr {\n",
       "  text-align: right;\n",
       "  white-space: pre-wrap;\n",
       "}\n",
       "</style>\n",
       "<small>shape: (9, 4)</small><table border=\"1\" class=\"dataframe\"><thead><tr><th>statistic</th><th>metraje</th><th>año</th><th>tipo</th></tr><tr><td>str</td><td>f64</td><td>f64</td><td>str</td></tr></thead><tbody><tr><td>&quot;count&quot;</td><td>5000.0</td><td>5000.0</td><td>&quot;5000&quot;</td></tr><tr><td>&quot;null_count&quot;</td><td>0.0</td><td>0.0</td><td>&quot;0&quot;</td></tr><tr><td>&quot;mean&quot;</td><td>298.228337</td><td>2001.5494</td><td>null</td></tr><tr><td>&quot;std&quot;</td><td>304.992471</td><td>12.676312</td><td>null</td></tr><tr><td>&quot;min&quot;</td><td>0.339977</td><td>1980.0</td><td>&quot;A&quot;</td></tr><tr><td>&quot;25%&quot;</td><td>86.042265</td><td>1990.0</td><td>null</td></tr><tr><td>&quot;50%&quot;</td><td>200.822089</td><td>2002.0</td><td>null</td></tr><tr><td>&quot;75%&quot;</td><td>402.872935</td><td>2012.0</td><td>null</td></tr><tr><td>&quot;max&quot;</td><td>2792.338175</td><td>2023.0</td><td>&quot;C&quot;</td></tr></tbody></table></div>"
      ],
      "text/plain": [
       "shape: (9, 4)\n",
       "┌────────────┬─────────────┬───────────┬──────┐\n",
       "│ statistic  ┆ metraje     ┆ año       ┆ tipo │\n",
       "│ ---        ┆ ---         ┆ ---       ┆ ---  │\n",
       "│ str        ┆ f64         ┆ f64       ┆ str  │\n",
       "╞════════════╪═════════════╪═══════════╪══════╡\n",
       "│ count      ┆ 5000.0      ┆ 5000.0    ┆ 5000 │\n",
       "│ null_count ┆ 0.0         ┆ 0.0       ┆ 0    │\n",
       "│ mean       ┆ 298.228337  ┆ 2001.5494 ┆ null │\n",
       "│ std        ┆ 304.992471  ┆ 12.676312 ┆ null │\n",
       "│ min        ┆ 0.339977    ┆ 1980.0    ┆ A    │\n",
       "│ 25%        ┆ 86.042265   ┆ 1990.0    ┆ null │\n",
       "│ 50%        ┆ 200.822089  ┆ 2002.0    ┆ null │\n",
       "│ 75%        ┆ 402.872935  ┆ 2012.0    ┆ null │\n",
       "│ max        ┆ 2792.338175 ┆ 2023.0    ┆ C    │\n",
       "└────────────┴─────────────┴───────────┴──────┘"
      ]
     },
     "execution_count": 5,
     "metadata": {},
     "output_type": "execute_result"
    }
   ],
   "source": [
    "edificios.describe()"
   ]
  },
  {
   "cell_type": "markdown",
   "metadata": {},
   "source": [
    "# Contexto y expresiones\n",
    "Expresiones son las transformaciones que se hacen en las columnas de datos, incluyendo operaciones matemáticas, agregaciones, comparaciones, manipulación de texto, etc\n",
    "\n",
    "Un contexto se refiere al ambiente específico en que una expresión es evaluada. Existen 3 contextos principales:\n",
    "* **Selección**: Seleccionar columnas de un dataframe.\n",
    "* **Filtro**: Reducir al dataframe extrayendo filas que cumplan una condición.\n",
    "* **Agrupación**: Hacer resúmenes de subgrupos de los datos."
   ]
  },
  {
   "cell_type": "code",
   "execution_count": 6,
   "metadata": {},
   "outputs": [
    {
     "data": {
      "text/html": [
       "<div><style>\n",
       ".dataframe > thead > tr,\n",
       ".dataframe > tbody > tr {\n",
       "  text-align: right;\n",
       "  white-space: pre-wrap;\n",
       "}\n",
       "</style>\n",
       "<small>shape: (5_000, 1)</small><table border=\"1\" class=\"dataframe\"><thead><tr><th>metraje</th></tr><tr><td>f64</td></tr></thead><tbody><tr><td>212.258777</td></tr><tr><td>307.561004</td></tr><tr><td>170.564597</td></tr><tr><td>268.532959</td></tr><tr><td>61.959826</td></tr><tr><td>&hellip;</td></tr><tr><td>213.130726</td></tr><tr><td>122.661835</td></tr><tr><td>17.268618</td></tr><tr><td>1118.426685</td></tr><tr><td>206.003503</td></tr></tbody></table></div>"
      ],
      "text/plain": [
       "shape: (5_000, 1)\n",
       "┌─────────────┐\n",
       "│ metraje     │\n",
       "│ ---         │\n",
       "│ f64         │\n",
       "╞═════════════╡\n",
       "│ 212.258777  │\n",
       "│ 307.561004  │\n",
       "│ 170.564597  │\n",
       "│ 268.532959  │\n",
       "│ 61.959826   │\n",
       "│ …           │\n",
       "│ 213.130726  │\n",
       "│ 122.661835  │\n",
       "│ 17.268618   │\n",
       "│ 1118.426685 │\n",
       "│ 206.003503  │\n",
       "└─────────────┘"
      ]
     },
     "execution_count": 6,
     "metadata": {},
     "output_type": "execute_result"
    }
   ],
   "source": [
    "edificios.select(\"metraje\")"
   ]
  },
  {
   "cell_type": "code",
   "execution_count": 7,
   "metadata": {},
   "outputs": [
    {
     "data": {
      "text/html": [
       "<div><style>\n",
       ".dataframe > thead > tr,\n",
       ".dataframe > tbody > tr {\n",
       "  text-align: right;\n",
       "  white-space: pre-wrap;\n",
       "}\n",
       "</style>\n",
       "<small>shape: (5_000, 1)</small><table border=\"1\" class=\"dataframe\"><thead><tr><th>metraje</th></tr><tr><td>f64</td></tr></thead><tbody><tr><td>212.258777</td></tr><tr><td>307.561004</td></tr><tr><td>170.564597</td></tr><tr><td>268.532959</td></tr><tr><td>61.959826</td></tr><tr><td>&hellip;</td></tr><tr><td>213.130726</td></tr><tr><td>122.661835</td></tr><tr><td>17.268618</td></tr><tr><td>1118.426685</td></tr><tr><td>206.003503</td></tr></tbody></table></div>"
      ],
      "text/plain": [
       "shape: (5_000, 1)\n",
       "┌─────────────┐\n",
       "│ metraje     │\n",
       "│ ---         │\n",
       "│ f64         │\n",
       "╞═════════════╡\n",
       "│ 212.258777  │\n",
       "│ 307.561004  │\n",
       "│ 170.564597  │\n",
       "│ 268.532959  │\n",
       "│ 61.959826   │\n",
       "│ …           │\n",
       "│ 213.130726  │\n",
       "│ 122.661835  │\n",
       "│ 17.268618   │\n",
       "│ 1118.426685 │\n",
       "│ 206.003503  │\n",
       "└─────────────┘"
      ]
     },
     "execution_count": 7,
     "metadata": {},
     "output_type": "execute_result"
    }
   ],
   "source": [
    "edificios.select(pl.col(\"metraje\"))"
   ]
  },
  {
   "cell_type": "markdown",
   "metadata": {},
   "source": [
    "La segunda forma usando ```pl.col``` te permite encadenar manipulaciones en la columna, por ejemplo dividir el metraje por 100"
   ]
  },
  {
   "cell_type": "code",
   "execution_count": 8,
   "metadata": {},
   "outputs": [
    {
     "data": {
      "text/html": [
       "<div><style>\n",
       ".dataframe > thead > tr,\n",
       ".dataframe > tbody > tr {\n",
       "  text-align: right;\n",
       "  white-space: pre-wrap;\n",
       "}\n",
       "</style>\n",
       "<small>shape: (5_000, 1)</small><table border=\"1\" class=\"dataframe\"><thead><tr><th>metraje</th></tr><tr><td>f64</td></tr></thead><tbody><tr><td>0.0034</td></tr><tr><td>0.003456</td></tr><tr><td>0.004287</td></tr><tr><td>0.004316</td></tr><tr><td>0.004514</td></tr><tr><td>&hellip;</td></tr><tr><td>20.79575</td></tr><tr><td>21.742617</td></tr><tr><td>22.888708</td></tr><tr><td>24.941827</td></tr><tr><td>27.923382</td></tr></tbody></table></div>"
      ],
      "text/plain": [
       "shape: (5_000, 1)\n",
       "┌───────────┐\n",
       "│ metraje   │\n",
       "│ ---       │\n",
       "│ f64       │\n",
       "╞═══════════╡\n",
       "│ 0.0034    │\n",
       "│ 0.003456  │\n",
       "│ 0.004287  │\n",
       "│ 0.004316  │\n",
       "│ 0.004514  │\n",
       "│ …         │\n",
       "│ 20.79575  │\n",
       "│ 21.742617 │\n",
       "│ 22.888708 │\n",
       "│ 24.941827 │\n",
       "│ 27.923382 │\n",
       "└───────────┘"
      ]
     },
     "execution_count": 8,
     "metadata": {},
     "output_type": "execute_result"
    }
   ],
   "source": [
    "edificios.select(pl.col(\"metraje\").sort() / 100)"
   ]
  },
  {
   "cell_type": "markdown",
   "metadata": {},
   "source": [
    "Podemos también filtrar"
   ]
  },
  {
   "cell_type": "code",
   "execution_count": 9,
   "metadata": {},
   "outputs": [
    {
     "data": {
      "text/html": [
       "<div><style>\n",
       ".dataframe > thead > tr,\n",
       ".dataframe > tbody > tr {\n",
       "  text-align: right;\n",
       "  white-space: pre-wrap;\n",
       "}\n",
       "</style>\n",
       "<small>shape: (902, 3)</small><table border=\"1\" class=\"dataframe\"><thead><tr><th>metraje</th><th>año</th><th>tipo</th></tr><tr><td>f64</td><td>i64</td><td>str</td></tr></thead><tbody><tr><td>307.561004</td><td>2019</td><td>&quot;C&quot;</td></tr><tr><td>1015.091205</td><td>2016</td><td>&quot;B&quot;</td></tr><tr><td>172.599827</td><td>2022</td><td>&quot;A&quot;</td></tr><tr><td>220.757182</td><td>2020</td><td>&quot;A&quot;</td></tr><tr><td>75.103604</td><td>2016</td><td>&quot;C&quot;</td></tr><tr><td>&hellip;</td><td>&hellip;</td><td>&hellip;</td></tr><tr><td>95.661883</td><td>2019</td><td>&quot;B&quot;</td></tr><tr><td>516.747999</td><td>2016</td><td>&quot;C&quot;</td></tr><tr><td>740.445452</td><td>2023</td><td>&quot;B&quot;</td></tr><tr><td>17.268618</td><td>2018</td><td>&quot;C&quot;</td></tr><tr><td>1118.426685</td><td>2019</td><td>&quot;C&quot;</td></tr></tbody></table></div>"
      ],
      "text/plain": [
       "shape: (902, 3)\n",
       "┌─────────────┬──────┬──────┐\n",
       "│ metraje     ┆ año  ┆ tipo │\n",
       "│ ---         ┆ ---  ┆ ---  │\n",
       "│ f64         ┆ i64  ┆ str  │\n",
       "╞═════════════╪══════╪══════╡\n",
       "│ 307.561004  ┆ 2019 ┆ C    │\n",
       "│ 1015.091205 ┆ 2016 ┆ B    │\n",
       "│ 172.599827  ┆ 2022 ┆ A    │\n",
       "│ 220.757182  ┆ 2020 ┆ A    │\n",
       "│ 75.103604   ┆ 2016 ┆ C    │\n",
       "│ …           ┆ …    ┆ …    │\n",
       "│ 95.661883   ┆ 2019 ┆ B    │\n",
       "│ 516.747999  ┆ 2016 ┆ C    │\n",
       "│ 740.445452  ┆ 2023 ┆ B    │\n",
       "│ 17.268618   ┆ 2018 ┆ C    │\n",
       "│ 1118.426685 ┆ 2019 ┆ C    │\n",
       "└─────────────┴──────┴──────┘"
      ]
     },
     "execution_count": 9,
     "metadata": {},
     "output_type": "execute_result"
    }
   ],
   "source": [
    "edificios.filter(pl.col(\"año\") > 2015)"
   ]
  },
  {
   "cell_type": "code",
   "execution_count": 10,
   "metadata": {},
   "outputs": [
    {
     "data": {
      "text/html": [
       "<div><style>\n",
       ".dataframe > thead > tr,\n",
       ".dataframe > tbody > tr {\n",
       "  text-align: right;\n",
       "  white-space: pre-wrap;\n",
       "}\n",
       "</style>\n",
       "<small>shape: (1, 1)</small><table border=\"1\" class=\"dataframe\"><thead><tr><th>año</th></tr><tr><td>i64</td></tr></thead><tbody><tr><td>2016</td></tr></tbody></table></div>"
      ],
      "text/plain": [
       "shape: (1, 1)\n",
       "┌──────┐\n",
       "│ año  │\n",
       "│ ---  │\n",
       "│ i64  │\n",
       "╞══════╡\n",
       "│ 2016 │\n",
       "└──────┘"
      ]
     },
     "execution_count": 10,
     "metadata": {},
     "output_type": "execute_result"
    }
   ],
   "source": [
    "edificios.filter(pl.col(\"año\") > 2015).select(pl.col(\"año\").min())"
   ]
  },
  {
   "cell_type": "markdown",
   "metadata": {},
   "source": [
    "Puedo hacer agrupaciones o ```group_by```"
   ]
  },
  {
   "cell_type": "code",
   "execution_count": 11,
   "metadata": {},
   "outputs": [
    {
     "data": {
      "text/html": [
       "<div><style>\n",
       ".dataframe > thead > tr,\n",
       ".dataframe > tbody > tr {\n",
       "  text-align: right;\n",
       "  white-space: pre-wrap;\n",
       "}\n",
       "</style>\n",
       "<small>shape: (3, 4)</small><table border=\"1\" class=\"dataframe\"><thead><tr><th>tipo</th><th>mts promedio</th><th>año medio</th><th>len</th></tr><tr><td>str</td><td>f64</td><td>f64</td><td>u32</td></tr></thead><tbody><tr><td>&quot;B&quot;</td><td>297.8</td><td>2002.0</td><td>1655</td></tr><tr><td>&quot;A&quot;</td><td>296.9</td><td>2003.0</td><td>1653</td></tr><tr><td>&quot;C&quot;</td><td>300.0</td><td>2002.0</td><td>1692</td></tr></tbody></table></div>"
      ],
      "text/plain": [
       "shape: (3, 4)\n",
       "┌──────┬──────────────┬───────────┬──────┐\n",
       "│ tipo ┆ mts promedio ┆ año medio ┆ len  │\n",
       "│ ---  ┆ ---          ┆ ---       ┆ ---  │\n",
       "│ str  ┆ f64          ┆ f64       ┆ u32  │\n",
       "╞══════╪══════════════╪═══════════╪══════╡\n",
       "│ B    ┆ 297.8        ┆ 2002.0    ┆ 1655 │\n",
       "│ A    ┆ 296.9        ┆ 2003.0    ┆ 1653 │\n",
       "│ C    ┆ 300.0        ┆ 2002.0    ┆ 1692 │\n",
       "└──────┴──────────────┴───────────┴──────┘"
      ]
     },
     "execution_count": 11,
     "metadata": {},
     "output_type": "execute_result"
    }
   ],
   "source": [
    "(edificios.group_by(\"tipo\")\n",
    " .agg([\n",
    "     pl.mean(\"metraje\").round(1).alias(\"mts promedio\"),\n",
    "     pl.median(\"año\").round(1).alias(\"año medio\"),\n",
    "     pl.len()\n",
    " ])\n",
    ")"
   ]
  },
  {
   "cell_type": "markdown",
   "metadata": {},
   "source": [
    "# Lazy API\n",
    "Permite hacer operaciones sin correrlas inmediatamente, eso permite optimizarlas antes de ejecución y ver potenciales errores. Además permite hacer consultas en dataframes que no caben dentro de la memoria de manera más eficiente.\n",
    "\n",
    "```LazyFrame``` es el objeto que se usa y existen diferentes formas de crearlos"
   ]
  },
  {
   "cell_type": "code",
   "execution_count": 12,
   "metadata": {},
   "outputs": [
    {
     "data": {
      "text/html": [
       "<h4>NAIVE QUERY PLAN</h4><p>run <b>LazyFrame.show_graph()</b> to see the optimized version</p><?xml version=\"1.0\" encoding=\"UTF-8\" standalone=\"no\"?>\n",
       "<!DOCTYPE svg PUBLIC \"-//W3C//DTD SVG 1.1//EN\"\n",
       " \"http://www.w3.org/Graphics/SVG/1.1/DTD/svg11.dtd\">\n",
       "<!-- Generated by graphviz version 12.1.0 (20240811.2233)\n",
       " -->\n",
       "<!-- Title: polars_query Pages: 1 -->\n",
       "<svg width=\"68pt\" height=\"66pt\"\n",
       " viewBox=\"0.00 0.00 67.50 65.50\" xmlns=\"http://www.w3.org/2000/svg\" xmlns:xlink=\"http://www.w3.org/1999/xlink\">\n",
       "<g id=\"graph0\" class=\"graph\" transform=\"scale(1 1) rotate(0) translate(4 61.5)\">\n",
       "<title>polars_query</title>\n",
       "<polygon fill=\"white\" stroke=\"none\" points=\"-4,4 -4,-61.5 63.5,-61.5 63.5,4 -4,4\"/>\n",
       "<!-- p1 -->\n",
       "<g id=\"node1\" class=\"node\">\n",
       "<title>p1</title>\n",
       "<polygon fill=\"none\" stroke=\"black\" points=\"59.5,-57.5 0,-57.5 0,0 59.5,0 59.5,-57.5\"/>\n",
       "<text text-anchor=\"middle\" x=\"29.75\" y=\"-40.2\" font-family=\"Times,serif\" font-size=\"14.00\">TABLE</text>\n",
       "<text text-anchor=\"middle\" x=\"29.75\" y=\"-23.7\" font-family=\"Times,serif\" font-size=\"14.00\">π */4;</text>\n",
       "<text text-anchor=\"middle\" x=\"29.75\" y=\"-7.2\" font-family=\"Times,serif\" font-size=\"14.00\">σ None</text>\n",
       "</g>\n",
       "</g>\n",
       "</svg>\n"
      ],
      "text/plain": [
       "<LazyFrame at 0x108323A10>"
      ]
     },
     "execution_count": 12,
     "metadata": {},
     "output_type": "execute_result"
    }
   ],
   "source": [
    "# creamos variable precio\n",
    "datos_edificios[\"precio\"] = rng.exponential(scale=100_000_000, size = num_filas)\n",
    "\n",
    "edificios_lazy = pl.LazyFrame(datos_edificios)\n",
    "edificios_lazy"
   ]
  },
  {
   "cell_type": "code",
   "execution_count": 13,
   "metadata": {},
   "outputs": [
    {
     "data": {
      "text/html": [
       "<h4>NAIVE QUERY PLAN</h4><p>run <b>LazyFrame.show_graph()</b> to see the optimized version</p><?xml version=\"1.0\" encoding=\"UTF-8\" standalone=\"no\"?>\n",
       "<!DOCTYPE svg PUBLIC \"-//W3C//DTD SVG 1.1//EN\"\n",
       " \"http://www.w3.org/Graphics/SVG/1.1/DTD/svg11.dtd\">\n",
       "<!-- Generated by graphviz version 12.1.0 (20240811.2233)\n",
       " -->\n",
       "<!-- Title: polars_query Pages: 1 -->\n",
       "<svg width=\"440pt\" height=\"282pt\"\n",
       " viewBox=\"0.00 0.00 439.50 281.50\" xmlns=\"http://www.w3.org/2000/svg\" xmlns:xlink=\"http://www.w3.org/1999/xlink\">\n",
       "<g id=\"graph0\" class=\"graph\" transform=\"scale(1 1) rotate(0) translate(4 277.5)\">\n",
       "<title>polars_query</title>\n",
       "<polygon fill=\"white\" stroke=\"none\" points=\"-4,4 -4,-277.5 435.5,-277.5 435.5,4 -4,4\"/>\n",
       "<!-- p1 -->\n",
       "<g id=\"node1\" class=\"node\">\n",
       "<title>p1</title>\n",
       "<polygon fill=\"none\" stroke=\"black\" points=\"322.75,-273.5 108.75,-273.5 108.75,-237.5 322.75,-237.5 322.75,-273.5\"/>\n",
       "<text text-anchor=\"middle\" x=\"215.75\" y=\"-250.45\" font-family=\"Times,serif\" font-size=\"14.00\">FILTER BY [(col(&quot;año&quot;)) &lt; (2010)]</text>\n",
       "</g>\n",
       "<!-- p2 -->\n",
       "<g id=\"node2\" class=\"node\">\n",
       "<title>p2</title>\n",
       "<polygon fill=\"none\" stroke=\"black\" points=\"354.25,-201.5 77.25,-201.5 77.25,-165.5 354.25,-165.5 354.25,-201.5\"/>\n",
       "<text text-anchor=\"middle\" x=\"215.75\" y=\"-178.45\" font-family=\"Times,serif\" font-size=\"14.00\">FILTER BY [(col(&quot;precio_m2&quot;)) &gt; (100000.0)]</text>\n",
       "</g>\n",
       "<!-- p1&#45;&#45;p2 -->\n",
       "<g id=\"edge1\" class=\"edge\">\n",
       "<title>p1&#45;&#45;p2</title>\n",
       "<path fill=\"none\" stroke=\"black\" d=\"M215.75,-237.2C215.75,-226.35 215.75,-212.42 215.75,-201.6\"/>\n",
       "</g>\n",
       "<!-- p3 -->\n",
       "<g id=\"node3\" class=\"node\">\n",
       "<title>p3</title>\n",
       "<polygon fill=\"none\" stroke=\"black\" points=\"431.5,-129.5 0,-129.5 0,-93.5 431.5,-93.5 431.5,-129.5\"/>\n",
       "<text text-anchor=\"middle\" x=\"215.75\" y=\"-106.45\" font-family=\"Times,serif\" font-size=\"14.00\">WITH COLUMNS [[(col(&quot;precio&quot;)) / (col(&quot;metraje&quot;))].alias(&quot;precio_m2&quot;)]</text>\n",
       "</g>\n",
       "<!-- p2&#45;&#45;p3 -->\n",
       "<g id=\"edge2\" class=\"edge\">\n",
       "<title>p2&#45;&#45;p3</title>\n",
       "<path fill=\"none\" stroke=\"black\" d=\"M215.75,-165.2C215.75,-154.35 215.75,-140.42 215.75,-129.6\"/>\n",
       "</g>\n",
       "<!-- p4 -->\n",
       "<g id=\"node4\" class=\"node\">\n",
       "<title>p4</title>\n",
       "<polygon fill=\"none\" stroke=\"black\" points=\"245.5,-57.5 186,-57.5 186,0 245.5,0 245.5,-57.5\"/>\n",
       "<text text-anchor=\"middle\" x=\"215.75\" y=\"-40.2\" font-family=\"Times,serif\" font-size=\"14.00\">TABLE</text>\n",
       "<text text-anchor=\"middle\" x=\"215.75\" y=\"-23.7\" font-family=\"Times,serif\" font-size=\"14.00\">π */4;</text>\n",
       "<text text-anchor=\"middle\" x=\"215.75\" y=\"-7.2\" font-family=\"Times,serif\" font-size=\"14.00\">σ None</text>\n",
       "</g>\n",
       "<!-- p3&#45;&#45;p4 -->\n",
       "<g id=\"edge3\" class=\"edge\">\n",
       "<title>p3&#45;&#45;p4</title>\n",
       "<path fill=\"none\" stroke=\"black\" d=\"M215.75,-93.38C215.75,-83.1 215.75,-69.77 215.75,-57.97\"/>\n",
       "</g>\n",
       "</g>\n",
       "</svg>\n"
      ],
      "text/plain": [
       "<LazyFrame at 0x10834C560>"
      ]
     },
     "execution_count": 13,
     "metadata": {},
     "output_type": "execute_result"
    }
   ],
   "source": [
    "lazy_query = (\n",
    "    edificios_lazy\n",
    "    .with_columns(\n",
    "        (pl.col(\"precio\") / pl.col(\"metraje\")).alias(\"precio_m2\")\n",
    "    )\n",
    "    .filter(pl.col(\"precio_m2\") > 100_000)\n",
    "    .filter(pl.col(\"año\") < 2010)\n",
    ")\n",
    "lazy_query"
   ]
  },
  {
   "cell_type": "code",
   "execution_count": 14,
   "metadata": {},
   "outputs": [
    {
     "data": {
      "image/svg+xml": [
       "<svg xmlns=\"http://www.w3.org/2000/svg\" xmlns:xlink=\"http://www.w3.org/1999/xlink\" width=\"440pt\" height=\"210pt\" viewBox=\"0.00 0.00 439.50 209.50\">\n",
       "<g id=\"graph0\" class=\"graph\" transform=\"scale(1 1) rotate(0) translate(4 205.5)\">\n",
       "<title>polars_query</title>\n",
       "<polygon fill=\"white\" stroke=\"none\" points=\"-4,4 -4,-205.5 435.5,-205.5 435.5,4 -4,4\"/>\n",
       "<!-- p1 -->\n",
       "<g id=\"node1\" class=\"node\">\n",
       "<title>p1</title>\n",
       "<polygon fill=\"none\" stroke=\"black\" points=\"354.25,-201.5 77.25,-201.5 77.25,-165.5 354.25,-165.5 354.25,-201.5\"/>\n",
       "<text text-anchor=\"middle\" x=\"215.75\" y=\"-178.45\" font-family=\"Times,serif\" font-size=\"14.00\">FILTER BY [(col(&quot;precio_m2&quot;)) &gt; (100000.0)]</text>\n",
       "</g>\n",
       "<!-- p2 -->\n",
       "<g id=\"node2\" class=\"node\">\n",
       "<title>p2</title>\n",
       "<polygon fill=\"none\" stroke=\"black\" points=\"431.5,-129.5 0,-129.5 0,-93.5 431.5,-93.5 431.5,-129.5\"/>\n",
       "<text text-anchor=\"middle\" x=\"215.75\" y=\"-106.45\" font-family=\"Times,serif\" font-size=\"14.00\">WITH COLUMNS [[(col(&quot;precio&quot;)) / (col(&quot;metraje&quot;))].alias(&quot;precio_m2&quot;)]</text>\n",
       "</g>\n",
       "<!-- p1&#45;&#45;p2 -->\n",
       "<g id=\"edge1\" class=\"edge\">\n",
       "<title>p1--p2</title>\n",
       "<path fill=\"none\" stroke=\"black\" d=\"M215.75,-165.2C215.75,-154.35 215.75,-140.42 215.75,-129.6\"/>\n",
       "</g>\n",
       "<!-- p3 -->\n",
       "<g id=\"node3\" class=\"node\">\n",
       "<title>p3</title>\n",
       "<polygon fill=\"none\" stroke=\"black\" points=\"292.75,-57.5 138.75,-57.5 138.75,0 292.75,0 292.75,-57.5\"/>\n",
       "<text text-anchor=\"middle\" x=\"215.75\" y=\"-40.2\" font-family=\"Times,serif\" font-size=\"14.00\">TABLE</text>\n",
       "<text text-anchor=\"middle\" x=\"215.75\" y=\"-23.7\" font-family=\"Times,serif\" font-size=\"14.00\">π */4;</text>\n",
       "<text text-anchor=\"middle\" x=\"215.75\" y=\"-7.2\" font-family=\"Times,serif\" font-size=\"14.00\">σ [(col(&quot;año&quot;)) &lt; (2010)]</text>\n",
       "</g>\n",
       "<!-- p2&#45;&#45;p3 -->\n",
       "<g id=\"edge2\" class=\"edge\">\n",
       "<title>p2--p3</title>\n",
       "<path fill=\"none\" stroke=\"black\" d=\"M215.75,-93.38C215.75,-83.1 215.75,-69.77 215.75,-57.97\"/>\n",
       "</g>\n",
       "</g>\n",
       "</svg>"
      ],
      "text/plain": [
       "<IPython.core.display.SVG object>"
      ]
     },
     "metadata": {},
     "output_type": "display_data"
    }
   ],
   "source": [
    "lazy_query.show_graph()"
   ]
  },
  {
   "cell_type": "markdown",
   "metadata": {},
   "source": [
    "Esto explica que hace internamente ```polars``` para hacer la consulta.\n",
    "\n",
    "Para ejecutarla se usa ```collect()```"
   ]
  },
  {
   "cell_type": "code",
   "execution_count": 15,
   "metadata": {},
   "outputs": [
    {
     "data": {
      "text/html": [
       "<div><style>\n",
       ".dataframe > thead > tr,\n",
       ".dataframe > tbody > tr {\n",
       "  text-align: right;\n",
       "  white-space: pre-wrap;\n",
       "}\n",
       "</style>\n",
       "<small>shape: (2_678, 5)</small><table border=\"1\" class=\"dataframe\"><thead><tr><th>metraje</th><th>año</th><th>tipo</th><th>precio</th><th>precio_m2</th></tr><tr><td>f64</td><td>i64</td><td>str</td><td>f64</td><td>f64</td></tr></thead><tbody><tr><td>212.258777</td><td>1982</td><td>&quot;C&quot;</td><td>2.2064e7</td><td>103950.853854</td></tr><tr><td>170.564597</td><td>2007</td><td>&quot;A&quot;</td><td>2.9574e7</td><td>173387.199516</td></tr><tr><td>61.959826</td><td>2006</td><td>&quot;A&quot;</td><td>2.3924e8</td><td>3.8612e6</td></tr><tr><td>2.926088</td><td>1999</td><td>&quot;A&quot;</td><td>2.0970e8</td><td>7.1666e7</td></tr><tr><td>842.764729</td><td>1994</td><td>&quot;B&quot;</td><td>9.0218e7</td><td>107050.139414</td></tr><tr><td>&hellip;</td><td>&hellip;</td><td>&hellip;</td><td>&hellip;</td><td>&hellip;</td></tr><tr><td>27.066478</td><td>1998</td><td>&quot;B&quot;</td><td>1.1429e8</td><td>4.2225e6</td></tr><tr><td>279.834009</td><td>1991</td><td>&quot;A&quot;</td><td>1.1977e8</td><td>428018.490627</td></tr><tr><td>213.130726</td><td>1993</td><td>&quot;C&quot;</td><td>3.7365e7</td><td>175316.233029</td></tr><tr><td>122.661835</td><td>2003</td><td>&quot;C&quot;</td><td>3.8405e7</td><td>313099.658009</td></tr><tr><td>206.003503</td><td>2006</td><td>&quot;C&quot;</td><td>1.2064e8</td><td>585597.427767</td></tr></tbody></table></div>"
      ],
      "text/plain": [
       "shape: (2_678, 5)\n",
       "┌────────────┬──────┬──────┬──────────┬───────────────┐\n",
       "│ metraje    ┆ año  ┆ tipo ┆ precio   ┆ precio_m2     │\n",
       "│ ---        ┆ ---  ┆ ---  ┆ ---      ┆ ---           │\n",
       "│ f64        ┆ i64  ┆ str  ┆ f64      ┆ f64           │\n",
       "╞════════════╪══════╪══════╪══════════╪═══════════════╡\n",
       "│ 212.258777 ┆ 1982 ┆ C    ┆ 2.2064e7 ┆ 103950.853854 │\n",
       "│ 170.564597 ┆ 2007 ┆ A    ┆ 2.9574e7 ┆ 173387.199516 │\n",
       "│ 61.959826  ┆ 2006 ┆ A    ┆ 2.3924e8 ┆ 3.8612e6      │\n",
       "│ 2.926088   ┆ 1999 ┆ A    ┆ 2.0970e8 ┆ 7.1666e7      │\n",
       "│ 842.764729 ┆ 1994 ┆ B    ┆ 9.0218e7 ┆ 107050.139414 │\n",
       "│ …          ┆ …    ┆ …    ┆ …        ┆ …             │\n",
       "│ 27.066478  ┆ 1998 ┆ B    ┆ 1.1429e8 ┆ 4.2225e6      │\n",
       "│ 279.834009 ┆ 1991 ┆ A    ┆ 1.1977e8 ┆ 428018.490627 │\n",
       "│ 213.130726 ┆ 1993 ┆ C    ┆ 3.7365e7 ┆ 175316.233029 │\n",
       "│ 122.661835 ┆ 2003 ┆ C    ┆ 3.8405e7 ┆ 313099.658009 │\n",
       "│ 206.003503 ┆ 2006 ┆ C    ┆ 1.2064e8 ┆ 585597.427767 │\n",
       "└────────────┴──────┴──────┴──────────┴───────────────┘"
      ]
     },
     "execution_count": 15,
     "metadata": {},
     "output_type": "execute_result"
    }
   ],
   "source": [
    "(lazy_query.collect())"
   ]
  },
  {
   "cell_type": "code",
   "execution_count": 16,
   "metadata": {},
   "outputs": [
    {
     "data": {
      "text/html": [
       "<div><style>\n",
       ".dataframe > thead > tr,\n",
       ".dataframe > tbody > tr {\n",
       "  text-align: right;\n",
       "  white-space: pre-wrap;\n",
       "}\n",
       "</style>\n",
       "<small>shape: (2_678, 2)</small><table border=\"1\" class=\"dataframe\"><thead><tr><th>precio_m2</th><th>año</th></tr><tr><td>f64</td><td>i64</td></tr></thead><tbody><tr><td>103950.853854</td><td>1982</td></tr><tr><td>173387.199516</td><td>2007</td></tr><tr><td>3.8612e6</td><td>2006</td></tr><tr><td>7.1666e7</td><td>1999</td></tr><tr><td>107050.139414</td><td>1994</td></tr><tr><td>&hellip;</td><td>&hellip;</td></tr><tr><td>4.2225e6</td><td>1998</td></tr><tr><td>428018.490627</td><td>1991</td></tr><tr><td>175316.233029</td><td>1993</td></tr><tr><td>313099.658009</td><td>2003</td></tr><tr><td>585597.427767</td><td>2006</td></tr></tbody></table></div>"
      ],
      "text/plain": [
       "shape: (2_678, 2)\n",
       "┌───────────────┬──────┐\n",
       "│ precio_m2     ┆ año  │\n",
       "│ ---           ┆ ---  │\n",
       "│ f64           ┆ i64  │\n",
       "╞═══════════════╪══════╡\n",
       "│ 103950.853854 ┆ 1982 │\n",
       "│ 173387.199516 ┆ 2007 │\n",
       "│ 3.8612e6      ┆ 2006 │\n",
       "│ 7.1666e7      ┆ 1999 │\n",
       "│ 107050.139414 ┆ 1994 │\n",
       "│ …             ┆ …    │\n",
       "│ 4.2225e6      ┆ 1998 │\n",
       "│ 428018.490627 ┆ 1991 │\n",
       "│ 175316.233029 ┆ 1993 │\n",
       "│ 313099.658009 ┆ 2003 │\n",
       "│ 585597.427767 ┆ 2006 │\n",
       "└───────────────┴──────┘"
      ]
     },
     "execution_count": 16,
     "metadata": {},
     "output_type": "execute_result"
    }
   ],
   "source": [
    "(lazy_query\n",
    " .collect()\n",
    " .select(pl.col([\"precio_m2\", \"año\"]))\n",
    ")"
   ]
  },
  {
   "cell_type": "code",
   "execution_count": 17,
   "metadata": {},
   "outputs": [
    {
     "data": {
      "text/html": [
       "<div><style>\n",
       ".dataframe > thead > tr,\n",
       ".dataframe > tbody > tr {\n",
       "  text-align: right;\n",
       "  white-space: pre-wrap;\n",
       "}\n",
       "</style>\n",
       "<small>shape: (9, 3)</small><table border=\"1\" class=\"dataframe\"><thead><tr><th>statistic</th><th>precio_m2</th><th>año</th></tr><tr><td>str</td><td>f64</td><td>f64</td></tr></thead><tbody><tr><td>&quot;count&quot;</td><td>2678.0</td><td>2678.0</td></tr><tr><td>&quot;null_count&quot;</td><td>0.0</td><td>0.0</td></tr><tr><td>&quot;mean&quot;</td><td>3.4124e6</td><td>1994.714712</td></tr><tr><td>&quot;std&quot;</td><td>2.4323e7</td><td>8.796034</td></tr><tr><td>&quot;min&quot;</td><td>100027.263081</td><td>1980.0</td></tr><tr><td>&quot;25%&quot;</td><td>241045.156977</td><td>1987.0</td></tr><tr><td>&quot;50%&quot;</td><td>543350.608691</td><td>1995.0</td></tr><tr><td>&quot;75%&quot;</td><td>1.4526e6</td><td>2003.0</td></tr><tr><td>&quot;max&quot;</td><td>8.1156e8</td><td>2009.0</td></tr></tbody></table></div>"
      ],
      "text/plain": [
       "shape: (9, 3)\n",
       "┌────────────┬───────────────┬─────────────┐\n",
       "│ statistic  ┆ precio_m2     ┆ año         │\n",
       "│ ---        ┆ ---           ┆ ---         │\n",
       "│ str        ┆ f64           ┆ f64         │\n",
       "╞════════════╪═══════════════╪═════════════╡\n",
       "│ count      ┆ 2678.0        ┆ 2678.0      │\n",
       "│ null_count ┆ 0.0           ┆ 0.0         │\n",
       "│ mean       ┆ 3.4124e6      ┆ 1994.714712 │\n",
       "│ std        ┆ 2.4323e7      ┆ 8.796034    │\n",
       "│ min        ┆ 100027.263081 ┆ 1980.0      │\n",
       "│ 25%        ┆ 241045.156977 ┆ 1987.0      │\n",
       "│ 50%        ┆ 543350.608691 ┆ 1995.0      │\n",
       "│ 75%        ┆ 1.4526e6      ┆ 2003.0      │\n",
       "│ max        ┆ 8.1156e8      ┆ 2009.0      │\n",
       "└────────────┴───────────────┴─────────────┘"
      ]
     },
     "execution_count": 17,
     "metadata": {},
     "output_type": "execute_result"
    }
   ],
   "source": [
    "(lazy_query\n",
    " .collect()\n",
    " .select(pl.col([\"precio_m2\", \"año\"]))\n",
    " .describe()\n",
    ")"
   ]
  },
  {
   "cell_type": "markdown",
   "metadata": {},
   "source": [
    "## Datos externos lazy\n",
    "Tradicionalmente se leen todos los datos del csv o fuente externa antes de hacer cualquier procesamiento, pero con el formato lazy se minimiza lo que se lee y se procesa sólo cuando es necesario.\n",
    "\n",
    "Ejemplo con datos de autos eléctricos yankis"
   ]
  },
  {
   "cell_type": "code",
   "execution_count": 18,
   "metadata": {},
   "outputs": [],
   "source": [
    "# Bajando datos\n",
    "import requests, pathlib\n",
    "\n",
    "def bajar_archivo(file_url: str, local_file_path: pathlib.Path) -> None:\n",
    "    response = requests.get(file_url)\n",
    "    if response: \n",
    "        local_file_path.write_bytes(response.content)\n",
    "        print (f\"Archivo bajado en {local_file_path}\")\n",
    "    else:\n",
    "        raise requests.exceptions.RequestException(f\"Fallo en la descarga, código HTTP: {response.status_code}\")"
   ]
  },
  {
   "cell_type": "code",
   "execution_count": 19,
   "metadata": {},
   "outputs": [
    {
     "name": "stdout",
     "output_type": "stream",
     "text": [
      "Archivo data/electric_cars.csv ya existe\n"
     ]
    }
   ],
   "source": [
    "url = \"https://data.wa.gov/api/views/f6w7-q2d2/rows.csv?accessType=DOWNLOAD\"\n",
    "nombre_archivo = \"data/electric_cars.csv\"\n",
    "local_file_path = pathlib.Path(nombre_archivo)\n",
    "if not local_file_path.exists():\n",
    "    bajar_archivo(url, local_file_path)\n",
    "else:\n",
    "    print (f\"Archivo {nombre_archivo} ya existe\")"
   ]
  },
  {
   "cell_type": "code",
   "execution_count": 20,
   "metadata": {},
   "outputs": [
    {
     "data": {
      "text/html": [
       "<h4>NAIVE QUERY PLAN</h4><p>run <b>LazyFrame.show_graph()</b> to see the optimized version</p><?xml version=\"1.0\" encoding=\"UTF-8\" standalone=\"no\"?>\n",
       "<!DOCTYPE svg PUBLIC \"-//W3C//DTD SVG 1.1//EN\"\n",
       " \"http://www.w3.org/Graphics/SVG/1.1/DTD/svg11.dtd\">\n",
       "<!-- Generated by graphviz version 12.1.0 (20240811.2233)\n",
       " -->\n",
       "<!-- Title: polars_query Pages: 1 -->\n",
       "<svg width=\"214pt\" height=\"49pt\"\n",
       " viewBox=\"0.00 0.00 213.75 49.00\" xmlns=\"http://www.w3.org/2000/svg\" xmlns:xlink=\"http://www.w3.org/1999/xlink\">\n",
       "<g id=\"graph0\" class=\"graph\" transform=\"scale(1 1) rotate(0) translate(4 45)\">\n",
       "<title>polars_query</title>\n",
       "<polygon fill=\"white\" stroke=\"none\" points=\"-4,4 -4,-45 209.75,-45 209.75,4 -4,4\"/>\n",
       "<!-- p1 -->\n",
       "<g id=\"node1\" class=\"node\">\n",
       "<title>p1</title>\n",
       "<polygon fill=\"none\" stroke=\"black\" points=\"205.75,-41 0,-41 0,0 205.75,0 205.75,-41\"/>\n",
       "<text text-anchor=\"middle\" x=\"102.88\" y=\"-23.7\" font-family=\"Times,serif\" font-size=\"14.00\">Csv SCAN [data/electric_cars.csv]</text>\n",
       "<text text-anchor=\"middle\" x=\"102.88\" y=\"-7.2\" font-family=\"Times,serif\" font-size=\"14.00\">π */17;</text>\n",
       "</g>\n",
       "</g>\n",
       "</svg>\n"
      ],
      "text/plain": [
       "<LazyFrame at 0x108322DE0>"
      ]
     },
     "execution_count": 20,
     "metadata": {},
     "output_type": "execute_result"
    }
   ],
   "source": [
    "lazy_car_data = pl.scan_csv(local_file_path)\n",
    "lazy_car_data"
   ]
  },
  {
   "cell_type": "code",
   "execution_count": 21,
   "metadata": {},
   "outputs": [
    {
     "name": "stderr",
     "output_type": "stream",
     "text": [
      "/var/folders/tx/knx9c43n5fd4_nn752k9dxs00000gn/T/ipykernel_24162/3946365031.py:1: PerformanceWarning: Resolving the schema of a LazyFrame is a potentially expensive operation. Use `LazyFrame.collect_schema()` to get the schema without this warning.\n",
      "  lazy_car_data.schema\n"
     ]
    },
    {
     "data": {
      "text/plain": [
       "Schema([('VIN (1-10)', String),\n",
       "        ('County', String),\n",
       "        ('City', String),\n",
       "        ('State', String),\n",
       "        ('Postal Code', Int64),\n",
       "        ('Model Year', Int64),\n",
       "        ('Make', String),\n",
       "        ('Model', String),\n",
       "        ('Electric Vehicle Type', String),\n",
       "        ('Clean Alternative Fuel Vehicle (CAFV) Eligibility', String),\n",
       "        ('Electric Range', Int64),\n",
       "        ('Base MSRP', Int64),\n",
       "        ('Legislative District', Int64),\n",
       "        ('DOL Vehicle ID', Int64),\n",
       "        ('Vehicle Location', String),\n",
       "        ('Electric Utility', String),\n",
       "        ('2020 Census Tract', Int64)])"
      ]
     },
     "execution_count": 21,
     "metadata": {},
     "output_type": "execute_result"
    }
   ],
   "source": [
    "lazy_car_data.schema"
   ]
  },
  {
   "cell_type": "code",
   "execution_count": 22,
   "metadata": {},
   "outputs": [
    {
     "data": {
      "text/html": [
       "<div><style>\n",
       ".dataframe > thead > tr,\n",
       ".dataframe > tbody > tr {\n",
       "  text-align: right;\n",
       "  white-space: pre-wrap;\n",
       "}\n",
       "</style>\n",
       "<small>shape: (3, 5)</small><table border=\"1\" class=\"dataframe\"><thead><tr><th>State</th><th>Make</th><th>Average Electric Range</th><th>Oldest Model Year</th><th>Number of Cars</th></tr><tr><td>str</td><td>str</td><td>f64</td><td>i64</td><td>u32</td></tr></thead><tbody><tr><td>&quot;WA&quot;</td><td>&quot;JAGUAR&quot;</td><td>204.504202</td><td>2019</td><td>238</td></tr><tr><td>&quot;TX&quot;</td><td>&quot;TESLA&quot;</td><td>113.923077</td><td>2018</td><td>13</td></tr><tr><td>&quot;FL&quot;</td><td>&quot;TESLA&quot;</td><td>104.428571</td><td>2019</td><td>7</td></tr></tbody></table></div>"
      ],
      "text/plain": [
       "shape: (3, 5)\n",
       "┌───────┬────────┬────────────────────────┬───────────────────┬────────────────┐\n",
       "│ State ┆ Make   ┆ Average Electric Range ┆ Oldest Model Year ┆ Number of Cars │\n",
       "│ ---   ┆ ---    ┆ ---                    ┆ ---               ┆ ---            │\n",
       "│ str   ┆ str    ┆ f64                    ┆ i64               ┆ u32            │\n",
       "╞═══════╪════════╪════════════════════════╪═══════════════════╪════════════════╡\n",
       "│ WA    ┆ JAGUAR ┆ 204.504202             ┆ 2019              ┆ 238            │\n",
       "│ TX    ┆ TESLA  ┆ 113.923077             ┆ 2018              ┆ 13             │\n",
       "│ FL    ┆ TESLA  ┆ 104.428571             ┆ 2019              ┆ 7              │\n",
       "└───────┴────────┴────────────────────────┴───────────────────┴────────────────┘"
      ]
     },
     "execution_count": 22,
     "metadata": {},
     "output_type": "execute_result"
    }
   ],
   "source": [
    "lazy_car_query = (\n",
    "    lazy_car_data\n",
    "    .filter((pl.col(\"Model Year\") >= 2018))\n",
    "    .filter(\n",
    "        pl.col(\"Electric Vehicle Type\") == \"Battery Electric Vehicle (BEV)\"\n",
    "    )\n",
    "    .group_by([\"State\", \"Make\"])\n",
    "    .agg(\n",
    "        pl.mean(\"Electric Range\").alias(\"Average Electric Range\"),\n",
    "        pl.min(\"Model Year\").alias(\"Oldest Model Year\"),\n",
    "        pl.len().alias(\"Number of Cars\"),\n",
    "    )\n",
    "    .filter(pl.col(\"Average Electric Range\") > 100)\n",
    "    .filter(pl.col(\"Number of Cars\") > 5)\n",
    "    .sort(pl.col(\"Number of Cars\"), descending=True)\n",
    ")\n",
    "\n",
    "lazy_car_query.collect()"
   ]
  },
  {
   "cell_type": "markdown",
   "metadata": {},
   "source": [
    "No se hace ningún cálculo pesado hasta que llamamos a ```collect()```"
   ]
  },
  {
   "cell_type": "markdown",
   "metadata": {},
   "source": [
    "# Integraciones\n",
    "## Fuentes de datos"
   ]
  },
  {
   "cell_type": "code",
   "execution_count": 23,
   "metadata": {},
   "outputs": [],
   "source": [
    "import polars as pl\n",
    "\n",
    "data = pl.DataFrame({\n",
    "    \"A\": [1, 2, 3, 4, 5],\n",
    "    \"B\": [6, 7, 8, 9, 10],\n",
    "})\n",
    "\n",
    "data.write_csv(\"data.csv\")\n",
    "data.write_ndjson(\"data.json\")\n",
    "data.write_parquet(\"data.parquet\")"
   ]
  },
  {
   "cell_type": "code",
   "execution_count": 24,
   "metadata": {},
   "outputs": [
    {
     "name": "stderr",
     "output_type": "stream",
     "text": [
      "/var/folders/tx/knx9c43n5fd4_nn752k9dxs00000gn/T/ipykernel_24162/2993282625.py:3: PerformanceWarning: Resolving the schema of a LazyFrame is a potentially expensive operation. Use `LazyFrame.collect_schema()` to get the schema without this warning.\n",
      "  data_csv_lazy.schema\n"
     ]
    },
    {
     "data": {
      "text/plain": [
       "Schema([('A', Int64), ('B', Int64)])"
      ]
     },
     "execution_count": 24,
     "metadata": {},
     "output_type": "execute_result"
    }
   ],
   "source": [
    "data_csv = pl.read_csv(\"data.csv\")\n",
    "data_csv_lazy = pl.scan_csv(\"data.csv\")\n",
    "data_csv_lazy.schema\n"
   ]
  },
  {
   "cell_type": "code",
   "execution_count": 25,
   "metadata": {},
   "outputs": [
    {
     "name": "stderr",
     "output_type": "stream",
     "text": [
      "/var/folders/tx/knx9c43n5fd4_nn752k9dxs00000gn/T/ipykernel_24162/32618361.py:3: PerformanceWarning: Resolving the schema of a LazyFrame is a potentially expensive operation. Use `LazyFrame.collect_schema()` to get the schema without this warning.\n",
      "  data_json_lazy.schema\n"
     ]
    },
    {
     "data": {
      "text/plain": [
       "Schema([('A', Int64), ('B', Int64)])"
      ]
     },
     "execution_count": 25,
     "metadata": {},
     "output_type": "execute_result"
    }
   ],
   "source": [
    "data_json = pl.read_ndjson(\"data.json\")\n",
    "data_json_lazy = pl.scan_ndjson(\"data.json\")\n",
    "data_json_lazy.schema"
   ]
  },
  {
   "cell_type": "code",
   "execution_count": 26,
   "metadata": {},
   "outputs": [
    {
     "name": "stderr",
     "output_type": "stream",
     "text": [
      "/var/folders/tx/knx9c43n5fd4_nn752k9dxs00000gn/T/ipykernel_24162/1889960607.py:3: PerformanceWarning: Resolving the schema of a LazyFrame is a potentially expensive operation. Use `LazyFrame.collect_schema()` to get the schema without this warning.\n",
      "  data_parquet_lazy.schema\n"
     ]
    },
    {
     "data": {
      "text/plain": [
       "Schema([('A', Int64), ('B', Int64)])"
      ]
     },
     "execution_count": 26,
     "metadata": {},
     "output_type": "execute_result"
    }
   ],
   "source": [
    "data_parquet = pl.read_parquet(\"data.parquet\")\n",
    "data_parquet_lazy = pl.scan_parquet(\"data.parquet\")\n",
    "data_parquet_lazy.schema\n"
   ]
  },
  {
   "cell_type": "markdown",
   "metadata": {},
   "source": [
    "## Objetos python"
   ]
  },
  {
   "cell_type": "code",
   "execution_count": 27,
   "metadata": {},
   "outputs": [],
   "source": [
    "import numpy as np\n",
    "import pandas as pd\n",
    "import polars as pl\n",
    "\n",
    "polars_data = pl.DataFrame({\n",
    "    \"A\": [1, 2, 3, 4, 5],\n",
    "    \"B\": [6, 7, 8, 9, 10]\n",
    "})\n",
    "\n",
    "pandas_data = pd.DataFrame({\n",
    "    \"A\": [1, 2, 3, 4, 5],\n",
    "    \"B\": [6, 7, 8, 9, 10]\n",
    "})\n",
    "\n",
    "numpy_data = np.array([\n",
    "    [1, 2, 3, 4, 5],\n",
    "    [6, 7, 8, 9, 10]\n",
    "]).T"
   ]
  },
  {
   "cell_type": "code",
   "execution_count": 28,
   "metadata": {},
   "outputs": [
    {
     "data": {
      "text/html": [
       "<div><style>\n",
       ".dataframe > thead > tr,\n",
       ".dataframe > tbody > tr {\n",
       "  text-align: right;\n",
       "  white-space: pre-wrap;\n",
       "}\n",
       "</style>\n",
       "<small>shape: (5, 2)</small><table border=\"1\" class=\"dataframe\"><thead><tr><th>A</th><th>B</th></tr><tr><td>i64</td><td>i64</td></tr></thead><tbody><tr><td>1</td><td>6</td></tr><tr><td>2</td><td>7</td></tr><tr><td>3</td><td>8</td></tr><tr><td>4</td><td>9</td></tr><tr><td>5</td><td>10</td></tr></tbody></table></div>"
      ],
      "text/plain": [
       "shape: (5, 2)\n",
       "┌─────┬─────┐\n",
       "│ A   ┆ B   │\n",
       "│ --- ┆ --- │\n",
       "│ i64 ┆ i64 │\n",
       "╞═════╪═════╡\n",
       "│ 1   ┆ 6   │\n",
       "│ 2   ┆ 7   │\n",
       "│ 3   ┆ 8   │\n",
       "│ 4   ┆ 9   │\n",
       "│ 5   ┆ 10  │\n",
       "└─────┴─────┘"
      ]
     },
     "execution_count": 28,
     "metadata": {},
     "output_type": "execute_result"
    }
   ],
   "source": [
    "pl.from_pandas(pandas_data)"
   ]
  },
  {
   "cell_type": "code",
   "execution_count": 29,
   "metadata": {},
   "outputs": [
    {
     "data": {
      "text/html": [
       "<div><style>\n",
       ".dataframe > thead > tr,\n",
       ".dataframe > tbody > tr {\n",
       "  text-align: right;\n",
       "  white-space: pre-wrap;\n",
       "}\n",
       "</style>\n",
       "<small>shape: (5, 2)</small><table border=\"1\" class=\"dataframe\"><thead><tr><th>column_0</th><th>column_1</th></tr><tr><td>i64</td><td>i64</td></tr></thead><tbody><tr><td>1</td><td>6</td></tr><tr><td>2</td><td>7</td></tr><tr><td>3</td><td>8</td></tr><tr><td>4</td><td>9</td></tr><tr><td>5</td><td>10</td></tr></tbody></table></div>"
      ],
      "text/plain": [
       "shape: (5, 2)\n",
       "┌──────────┬──────────┐\n",
       "│ column_0 ┆ column_1 │\n",
       "│ ---      ┆ ---      │\n",
       "│ i64      ┆ i64      │\n",
       "╞══════════╪══════════╡\n",
       "│ 1        ┆ 6        │\n",
       "│ 2        ┆ 7        │\n",
       "│ 3        ┆ 8        │\n",
       "│ 4        ┆ 9        │\n",
       "│ 5        ┆ 10       │\n",
       "└──────────┴──────────┘"
      ]
     },
     "execution_count": 29,
     "metadata": {},
     "output_type": "execute_result"
    }
   ],
   "source": [
    "pl.from_numpy(numpy_data)"
   ]
  },
  {
   "cell_type": "code",
   "execution_count": 30,
   "metadata": {},
   "outputs": [
    {
     "data": {
      "text/html": [
       "<div><style>\n",
       ".dataframe > thead > tr,\n",
       ".dataframe > tbody > tr {\n",
       "  text-align: right;\n",
       "  white-space: pre-wrap;\n",
       "}\n",
       "</style>\n",
       "<small>shape: (5, 2)</small><table border=\"1\" class=\"dataframe\"><thead><tr><th>A</th><th>B</th></tr><tr><td>i16</td><td>i16</td></tr></thead><tbody><tr><td>1</td><td>6</td></tr><tr><td>2</td><td>7</td></tr><tr><td>3</td><td>8</td></tr><tr><td>4</td><td>9</td></tr><tr><td>5</td><td>10</td></tr></tbody></table></div>"
      ],
      "text/plain": [
       "shape: (5, 2)\n",
       "┌─────┬─────┐\n",
       "│ A   ┆ B   │\n",
       "│ --- ┆ --- │\n",
       "│ i16 ┆ i16 │\n",
       "╞═════╪═════╡\n",
       "│ 1   ┆ 6   │\n",
       "│ 2   ┆ 7   │\n",
       "│ 3   ┆ 8   │\n",
       "│ 4   ┆ 9   │\n",
       "│ 5   ┆ 10  │\n",
       "└─────┴─────┘"
      ]
     },
     "execution_count": 30,
     "metadata": {},
     "output_type": "execute_result"
    }
   ],
   "source": [
    "pl.from_numpy(numpy_data, schema={\"A\": pl.Int16, \"B\": pl.Int16})"
   ]
  },
  {
   "cell_type": "code",
   "execution_count": 31,
   "metadata": {},
   "outputs": [
    {
     "data": {
      "text/html": [
       "<div>\n",
       "<style scoped>\n",
       "    .dataframe tbody tr th:only-of-type {\n",
       "        vertical-align: middle;\n",
       "    }\n",
       "\n",
       "    .dataframe tbody tr th {\n",
       "        vertical-align: top;\n",
       "    }\n",
       "\n",
       "    .dataframe thead th {\n",
       "        text-align: right;\n",
       "    }\n",
       "</style>\n",
       "<table border=\"1\" class=\"dataframe\">\n",
       "  <thead>\n",
       "    <tr style=\"text-align: right;\">\n",
       "      <th></th>\n",
       "      <th>A</th>\n",
       "      <th>B</th>\n",
       "    </tr>\n",
       "  </thead>\n",
       "  <tbody>\n",
       "    <tr>\n",
       "      <th>0</th>\n",
       "      <td>1</td>\n",
       "      <td>6</td>\n",
       "    </tr>\n",
       "    <tr>\n",
       "      <th>1</th>\n",
       "      <td>2</td>\n",
       "      <td>7</td>\n",
       "    </tr>\n",
       "    <tr>\n",
       "      <th>2</th>\n",
       "      <td>3</td>\n",
       "      <td>8</td>\n",
       "    </tr>\n",
       "    <tr>\n",
       "      <th>3</th>\n",
       "      <td>4</td>\n",
       "      <td>9</td>\n",
       "    </tr>\n",
       "    <tr>\n",
       "      <th>4</th>\n",
       "      <td>5</td>\n",
       "      <td>10</td>\n",
       "    </tr>\n",
       "  </tbody>\n",
       "</table>\n",
       "</div>"
      ],
      "text/plain": [
       "   A   B\n",
       "0  1   6\n",
       "1  2   7\n",
       "2  3   8\n",
       "3  4   9\n",
       "4  5  10"
      ]
     },
     "execution_count": 31,
     "metadata": {},
     "output_type": "execute_result"
    }
   ],
   "source": [
    "polars_data.to_pandas()"
   ]
  },
  {
   "cell_type": "code",
   "execution_count": 32,
   "metadata": {},
   "outputs": [
    {
     "data": {
      "text/plain": [
       "array([[ 1,  6],\n",
       "       [ 2,  7],\n",
       "       [ 3,  8],\n",
       "       [ 4,  9],\n",
       "       [ 5, 10]])"
      ]
     },
     "execution_count": 32,
     "metadata": {},
     "output_type": "execute_result"
    }
   ],
   "source": [
    "polars_data.to_numpy()"
   ]
  },
  {
   "cell_type": "markdown",
   "metadata": {},
   "source": [
    "# Joins\n",
    "## Inner\n",
    "Produce un DataFrame que contiene solo las filas donde la clave de unión existe en ambos DataFrames."
   ]
  },
  {
   "cell_type": "code",
   "execution_count": 33,
   "metadata": {},
   "outputs": [
    {
     "name": "stdout",
     "output_type": "stream",
     "text": [
      "shape: (3, 2)\n",
      "┌─────────────┬─────────┐\n",
      "│ customer_id ┆ name    │\n",
      "│ ---         ┆ ---     │\n",
      "│ i64         ┆ str     │\n",
      "╞═════════════╪═════════╡\n",
      "│ 1           ┆ Alice   │\n",
      "│ 2           ┆ Bob     │\n",
      "│ 3           ┆ Charlie │\n",
      "└─────────────┴─────────┘\n"
     ]
    }
   ],
   "source": [
    "df_customers = pl.DataFrame(\n",
    "    {\n",
    "        \"customer_id\": [1, 2, 3],\n",
    "        \"name\": [\"Alice\", \"Bob\", \"Charlie\"],\n",
    "    }\n",
    ")\n",
    "print(df_customers)"
   ]
  },
  {
   "cell_type": "code",
   "execution_count": 34,
   "metadata": {},
   "outputs": [
    {
     "name": "stdout",
     "output_type": "stream",
     "text": [
      "shape: (3, 3)\n",
      "┌──────────┬─────────────┬────────┐\n",
      "│ order_id ┆ customer_id ┆ amount │\n",
      "│ ---      ┆ ---         ┆ ---    │\n",
      "│ str      ┆ i64         ┆ i64    │\n",
      "╞══════════╪═════════════╪════════╡\n",
      "│ a        ┆ 1           ┆ 100    │\n",
      "│ b        ┆ 2           ┆ 200    │\n",
      "│ c        ┆ 2           ┆ 300    │\n",
      "└──────────┴─────────────┴────────┘\n"
     ]
    }
   ],
   "source": [
    "df_orders = pl.DataFrame(\n",
    "    {\n",
    "        \"order_id\": [\"a\", \"b\", \"c\"],\n",
    "        \"customer_id\": [1, 2, 2],\n",
    "        \"amount\": [100, 200, 300],\n",
    "    }\n",
    ")\n",
    "print(df_orders)"
   ]
  },
  {
   "cell_type": "code",
   "execution_count": 35,
   "metadata": {},
   "outputs": [
    {
     "data": {
      "text/html": [
       "<div><style>\n",
       ".dataframe > thead > tr,\n",
       ".dataframe > tbody > tr {\n",
       "  text-align: right;\n",
       "  white-space: pre-wrap;\n",
       "}\n",
       "</style>\n",
       "<small>shape: (3, 4)</small><table border=\"1\" class=\"dataframe\"><thead><tr><th>customer_id</th><th>name</th><th>order_id</th><th>amount</th></tr><tr><td>i64</td><td>str</td><td>str</td><td>i64</td></tr></thead><tbody><tr><td>1</td><td>&quot;Alice&quot;</td><td>&quot;a&quot;</td><td>100</td></tr><tr><td>2</td><td>&quot;Bob&quot;</td><td>&quot;b&quot;</td><td>200</td></tr><tr><td>2</td><td>&quot;Bob&quot;</td><td>&quot;c&quot;</td><td>300</td></tr></tbody></table></div>"
      ],
      "text/plain": [
       "shape: (3, 4)\n",
       "┌─────────────┬───────┬──────────┬────────┐\n",
       "│ customer_id ┆ name  ┆ order_id ┆ amount │\n",
       "│ ---         ┆ ---   ┆ ---      ┆ ---    │\n",
       "│ i64         ┆ str   ┆ str      ┆ i64    │\n",
       "╞═════════════╪═══════╪══════════╪════════╡\n",
       "│ 1           ┆ Alice ┆ a        ┆ 100    │\n",
       "│ 2           ┆ Bob   ┆ b        ┆ 200    │\n",
       "│ 2           ┆ Bob   ┆ c        ┆ 300    │\n",
       "└─────────────┴───────┴──────────┴────────┘"
      ]
     },
     "execution_count": 35,
     "metadata": {},
     "output_type": "execute_result"
    }
   ],
   "source": [
    "df_customers.join(df_orders, on=\"customer_id\", how=\"inner\")"
   ]
  },
  {
   "cell_type": "markdown",
   "metadata": {},
   "source": [
    "## Left (outer) join\n",
    "Produce un DataFrame que contiene todas las filas del DataFrame de la izquierda y solo las filas del DataFrame de la derecha donde la clave de unión existe en el DataFrame de la izquierda. Si tomamos el ejemplo anterior y queremos obtener un DataFrame con todos los clientes y sus pedidos asociados (independientemente de si han realizado un pedido o no), podemos hacer una unión izquierda:"
   ]
  },
  {
   "cell_type": "code",
   "execution_count": 36,
   "metadata": {},
   "outputs": [
    {
     "data": {
      "text/html": [
       "<div><style>\n",
       ".dataframe > thead > tr,\n",
       ".dataframe > tbody > tr {\n",
       "  text-align: right;\n",
       "  white-space: pre-wrap;\n",
       "}\n",
       "</style>\n",
       "<small>shape: (4, 4)</small><table border=\"1\" class=\"dataframe\"><thead><tr><th>customer_id</th><th>name</th><th>order_id</th><th>amount</th></tr><tr><td>i64</td><td>str</td><td>str</td><td>i64</td></tr></thead><tbody><tr><td>1</td><td>&quot;Alice&quot;</td><td>&quot;a&quot;</td><td>100</td></tr><tr><td>2</td><td>&quot;Bob&quot;</td><td>&quot;b&quot;</td><td>200</td></tr><tr><td>2</td><td>&quot;Bob&quot;</td><td>&quot;c&quot;</td><td>300</td></tr><tr><td>3</td><td>&quot;Charlie&quot;</td><td>null</td><td>null</td></tr></tbody></table></div>"
      ],
      "text/plain": [
       "shape: (4, 4)\n",
       "┌─────────────┬─────────┬──────────┬────────┐\n",
       "│ customer_id ┆ name    ┆ order_id ┆ amount │\n",
       "│ ---         ┆ ---     ┆ ---      ┆ ---    │\n",
       "│ i64         ┆ str     ┆ str      ┆ i64    │\n",
       "╞═════════════╪═════════╪══════════╪════════╡\n",
       "│ 1           ┆ Alice   ┆ a        ┆ 100    │\n",
       "│ 2           ┆ Bob     ┆ b        ┆ 200    │\n",
       "│ 2           ┆ Bob     ┆ c        ┆ 300    │\n",
       "│ 3           ┆ Charlie ┆ null     ┆ null   │\n",
       "└─────────────┴─────────┴──────────┴────────┘"
      ]
     },
     "execution_count": 36,
     "metadata": {},
     "output_type": "execute_result"
    }
   ],
   "source": [
    "df_customers.join(df_orders, on=\"customer_id\", how=\"left\")"
   ]
  },
  {
   "cell_type": "markdown",
   "metadata": {},
   "source": [
    "## Right (outer) join"
   ]
  },
  {
   "cell_type": "code",
   "execution_count": 37,
   "metadata": {},
   "outputs": [
    {
     "data": {
      "text/html": [
       "<div><style>\n",
       ".dataframe > thead > tr,\n",
       ".dataframe > tbody > tr {\n",
       "  text-align: right;\n",
       "  white-space: pre-wrap;\n",
       "}\n",
       "</style>\n",
       "<small>shape: (4, 4)</small><table border=\"1\" class=\"dataframe\"><thead><tr><th>order_id</th><th>amount</th><th>customer_id</th><th>name</th></tr><tr><td>str</td><td>i64</td><td>i64</td><td>str</td></tr></thead><tbody><tr><td>&quot;a&quot;</td><td>100</td><td>1</td><td>&quot;Alice&quot;</td></tr><tr><td>&quot;b&quot;</td><td>200</td><td>2</td><td>&quot;Bob&quot;</td></tr><tr><td>&quot;c&quot;</td><td>300</td><td>2</td><td>&quot;Bob&quot;</td></tr><tr><td>null</td><td>null</td><td>3</td><td>&quot;Charlie&quot;</td></tr></tbody></table></div>"
      ],
      "text/plain": [
       "shape: (4, 4)\n",
       "┌──────────┬────────┬─────────────┬─────────┐\n",
       "│ order_id ┆ amount ┆ customer_id ┆ name    │\n",
       "│ ---      ┆ ---    ┆ ---         ┆ ---     │\n",
       "│ str      ┆ i64    ┆ i64         ┆ str     │\n",
       "╞══════════╪════════╪═════════════╪═════════╡\n",
       "│ a        ┆ 100    ┆ 1           ┆ Alice   │\n",
       "│ b        ┆ 200    ┆ 2           ┆ Bob     │\n",
       "│ c        ┆ 300    ┆ 2           ┆ Bob     │\n",
       "│ null     ┆ null   ┆ 3           ┆ Charlie │\n",
       "└──────────┴────────┴─────────────┴─────────┘"
      ]
     },
     "execution_count": 37,
     "metadata": {},
     "output_type": "execute_result"
    }
   ],
   "source": [
    "df_orders.join(df_customers, on=\"customer_id\", how=\"right\")"
   ]
  },
  {
   "cell_type": "markdown",
   "metadata": {},
   "source": [
    "## Outer join\n",
    "Produce un DataFrame que contiene todas las filas de ambos DataFrames. Las columnas son nulas si la clave de unión no existe en el DataFrame de origen. Realizar una unión externa completa en los dos DataFrames anteriores produce un DataFrame similar a la unión izquierda:"
   ]
  },
  {
   "cell_type": "code",
   "execution_count": 38,
   "metadata": {},
   "outputs": [
    {
     "data": {
      "text/html": [
       "<div><style>\n",
       ".dataframe > thead > tr,\n",
       ".dataframe > tbody > tr {\n",
       "  text-align: right;\n",
       "  white-space: pre-wrap;\n",
       "}\n",
       "</style>\n",
       "<small>shape: (4, 5)</small><table border=\"1\" class=\"dataframe\"><thead><tr><th>customer_id</th><th>name</th><th>order_id</th><th>customer_id_right</th><th>amount</th></tr><tr><td>i64</td><td>str</td><td>str</td><td>i64</td><td>i64</td></tr></thead><tbody><tr><td>1</td><td>&quot;Alice&quot;</td><td>&quot;a&quot;</td><td>1</td><td>100</td></tr><tr><td>2</td><td>&quot;Bob&quot;</td><td>&quot;b&quot;</td><td>2</td><td>200</td></tr><tr><td>2</td><td>&quot;Bob&quot;</td><td>&quot;c&quot;</td><td>2</td><td>300</td></tr><tr><td>3</td><td>&quot;Charlie&quot;</td><td>null</td><td>null</td><td>null</td></tr></tbody></table></div>"
      ],
      "text/plain": [
       "shape: (4, 5)\n",
       "┌─────────────┬─────────┬──────────┬───────────────────┬────────┐\n",
       "│ customer_id ┆ name    ┆ order_id ┆ customer_id_right ┆ amount │\n",
       "│ ---         ┆ ---     ┆ ---      ┆ ---               ┆ ---    │\n",
       "│ i64         ┆ str     ┆ str      ┆ i64               ┆ i64    │\n",
       "╞═════════════╪═════════╪══════════╪═══════════════════╪════════╡\n",
       "│ 1           ┆ Alice   ┆ a        ┆ 1                 ┆ 100    │\n",
       "│ 2           ┆ Bob     ┆ b        ┆ 2                 ┆ 200    │\n",
       "│ 2           ┆ Bob     ┆ c        ┆ 2                 ┆ 300    │\n",
       "│ 3           ┆ Charlie ┆ null     ┆ null              ┆ null   │\n",
       "└─────────────┴─────────┴──────────┴───────────────────┴────────┘"
      ]
     },
     "execution_count": 38,
     "metadata": {},
     "output_type": "execute_result"
    }
   ],
   "source": [
    "df_customers.join(df_orders, on=\"customer_id\", how=\"full\")"
   ]
  },
  {
   "cell_type": "code",
   "execution_count": 39,
   "metadata": {},
   "outputs": [
    {
     "data": {
      "text/html": [
       "<div><style>\n",
       ".dataframe > thead > tr,\n",
       ".dataframe > tbody > tr {\n",
       "  text-align: right;\n",
       "  white-space: pre-wrap;\n",
       "}\n",
       "</style>\n",
       "<small>shape: (4, 4)</small><table border=\"1\" class=\"dataframe\"><thead><tr><th>customer_id</th><th>name</th><th>order_id</th><th>amount</th></tr><tr><td>i64</td><td>str</td><td>str</td><td>i64</td></tr></thead><tbody><tr><td>1</td><td>&quot;Alice&quot;</td><td>&quot;a&quot;</td><td>100</td></tr><tr><td>2</td><td>&quot;Bob&quot;</td><td>&quot;b&quot;</td><td>200</td></tr><tr><td>2</td><td>&quot;Bob&quot;</td><td>&quot;c&quot;</td><td>300</td></tr><tr><td>3</td><td>&quot;Charlie&quot;</td><td>null</td><td>null</td></tr></tbody></table></div>"
      ],
      "text/plain": [
       "shape: (4, 4)\n",
       "┌─────────────┬─────────┬──────────┬────────┐\n",
       "│ customer_id ┆ name    ┆ order_id ┆ amount │\n",
       "│ ---         ┆ ---     ┆ ---      ┆ ---    │\n",
       "│ i64         ┆ str     ┆ str      ┆ i64    │\n",
       "╞═════════════╪═════════╪══════════╪════════╡\n",
       "│ 1           ┆ Alice   ┆ a        ┆ 100    │\n",
       "│ 2           ┆ Bob     ┆ b        ┆ 200    │\n",
       "│ 2           ┆ Bob     ┆ c        ┆ 300    │\n",
       "│ 3           ┆ Charlie ┆ null     ┆ null   │\n",
       "└─────────────┴─────────┴──────────┴────────┘"
      ]
     },
     "execution_count": 39,
     "metadata": {},
     "output_type": "execute_result"
    }
   ],
   "source": [
    "df_customers.join(\n",
    "    df_orders, on=\"customer_id\", how=\"full\", coalesce=True\n",
    ")"
   ]
  },
  {
   "cell_type": "markdown",
   "metadata": {},
   "source": [
    "## Cross join"
   ]
  },
  {
   "cell_type": "code",
   "execution_count": 40,
   "metadata": {},
   "outputs": [
    {
     "data": {
      "text/html": [
       "<div><style>\n",
       ".dataframe > thead > tr,\n",
       ".dataframe > tbody > tr {\n",
       "  text-align: right;\n",
       "  white-space: pre-wrap;\n",
       "}\n",
       "</style>\n",
       "<small>shape: (3, 1)</small><table border=\"1\" class=\"dataframe\"><thead><tr><th>color</th></tr><tr><td>str</td></tr></thead><tbody><tr><td>&quot;red&quot;</td></tr><tr><td>&quot;blue&quot;</td></tr><tr><td>&quot;green&quot;</td></tr></tbody></table></div>"
      ],
      "text/plain": [
       "shape: (3, 1)\n",
       "┌───────┐\n",
       "│ color │\n",
       "│ ---   │\n",
       "│ str   │\n",
       "╞═══════╡\n",
       "│ red   │\n",
       "│ blue  │\n",
       "│ green │\n",
       "└───────┘"
      ]
     },
     "execution_count": 40,
     "metadata": {},
     "output_type": "execute_result"
    }
   ],
   "source": [
    "df_colors = pl.DataFrame(\n",
    "    {\n",
    "        \"color\": [\"red\", \"blue\", \"green\"],\n",
    "    }\n",
    ")\n",
    "df_colors"
   ]
  },
  {
   "cell_type": "code",
   "execution_count": 41,
   "metadata": {},
   "outputs": [
    {
     "data": {
      "text/html": [
       "<div><style>\n",
       ".dataframe > thead > tr,\n",
       ".dataframe > tbody > tr {\n",
       "  text-align: right;\n",
       "  white-space: pre-wrap;\n",
       "}\n",
       "</style>\n",
       "<small>shape: (3, 1)</small><table border=\"1\" class=\"dataframe\"><thead><tr><th>size</th></tr><tr><td>str</td></tr></thead><tbody><tr><td>&quot;S&quot;</td></tr><tr><td>&quot;M&quot;</td></tr><tr><td>&quot;L&quot;</td></tr></tbody></table></div>"
      ],
      "text/plain": [
       "shape: (3, 1)\n",
       "┌──────┐\n",
       "│ size │\n",
       "│ ---  │\n",
       "│ str  │\n",
       "╞══════╡\n",
       "│ S    │\n",
       "│ M    │\n",
       "│ L    │\n",
       "└──────┘"
      ]
     },
     "execution_count": 41,
     "metadata": {},
     "output_type": "execute_result"
    }
   ],
   "source": [
    "df_sizes = pl.DataFrame(\n",
    "    {\n",
    "        \"size\": [\"S\", \"M\", \"L\"],\n",
    "    }\n",
    ")\n",
    "df_sizes"
   ]
  },
  {
   "cell_type": "code",
   "execution_count": 42,
   "metadata": {},
   "outputs": [
    {
     "data": {
      "text/html": [
       "<div><style>\n",
       ".dataframe > thead > tr,\n",
       ".dataframe > tbody > tr {\n",
       "  text-align: right;\n",
       "  white-space: pre-wrap;\n",
       "}\n",
       "</style>\n",
       "<small>shape: (9, 2)</small><table border=\"1\" class=\"dataframe\"><thead><tr><th>color</th><th>size</th></tr><tr><td>str</td><td>str</td></tr></thead><tbody><tr><td>&quot;red&quot;</td><td>&quot;S&quot;</td></tr><tr><td>&quot;red&quot;</td><td>&quot;M&quot;</td></tr><tr><td>&quot;red&quot;</td><td>&quot;L&quot;</td></tr><tr><td>&quot;blue&quot;</td><td>&quot;S&quot;</td></tr><tr><td>&quot;blue&quot;</td><td>&quot;M&quot;</td></tr><tr><td>&quot;blue&quot;</td><td>&quot;L&quot;</td></tr><tr><td>&quot;green&quot;</td><td>&quot;S&quot;</td></tr><tr><td>&quot;green&quot;</td><td>&quot;M&quot;</td></tr><tr><td>&quot;green&quot;</td><td>&quot;L&quot;</td></tr></tbody></table></div>"
      ],
      "text/plain": [
       "shape: (9, 2)\n",
       "┌───────┬──────┐\n",
       "│ color ┆ size │\n",
       "│ ---   ┆ ---  │\n",
       "│ str   ┆ str  │\n",
       "╞═══════╪══════╡\n",
       "│ red   ┆ S    │\n",
       "│ red   ┆ M    │\n",
       "│ red   ┆ L    │\n",
       "│ blue  ┆ S    │\n",
       "│ blue  ┆ M    │\n",
       "│ blue  ┆ L    │\n",
       "│ green ┆ S    │\n",
       "│ green ┆ M    │\n",
       "│ green ┆ L    │\n",
       "└───────┴──────┘"
      ]
     },
     "execution_count": 42,
     "metadata": {},
     "output_type": "execute_result"
    }
   ],
   "source": [
    "df_colors.join(df_sizes, how=\"cross\")"
   ]
  },
  {
   "cell_type": "markdown",
   "metadata": {},
   "source": [
    "## Semi join\n",
    "Devuelve todas las filas del DataFrame de la izquierda en las que la clave de unión también está presente en el DataFrame de la derecha. Considera el siguiente escenario: una empresa de alquiler de autos tiene un DataFrame que muestra los autos que posee, donde cada auto tiene un ID único."
   ]
  },
  {
   "cell_type": "code",
   "execution_count": 43,
   "metadata": {},
   "outputs": [
    {
     "data": {
      "text/html": [
       "<div><style>\n",
       ".dataframe > thead > tr,\n",
       ".dataframe > tbody > tr {\n",
       "  text-align: right;\n",
       "  white-space: pre-wrap;\n",
       "}\n",
       "</style>\n",
       "<small>shape: (3, 2)</small><table border=\"1\" class=\"dataframe\"><thead><tr><th>id</th><th>make</th></tr><tr><td>str</td><td>str</td></tr></thead><tbody><tr><td>&quot;a&quot;</td><td>&quot;ford&quot;</td></tr><tr><td>&quot;b&quot;</td><td>&quot;toyota&quot;</td></tr><tr><td>&quot;c&quot;</td><td>&quot;bmw&quot;</td></tr></tbody></table></div>"
      ],
      "text/plain": [
       "shape: (3, 2)\n",
       "┌─────┬────────┐\n",
       "│ id  ┆ make   │\n",
       "│ --- ┆ ---    │\n",
       "│ str ┆ str    │\n",
       "╞═════╪════════╡\n",
       "│ a   ┆ ford   │\n",
       "│ b   ┆ toyota │\n",
       "│ c   ┆ bmw    │\n",
       "└─────┴────────┘"
      ]
     },
     "execution_count": 43,
     "metadata": {},
     "output_type": "execute_result"
    }
   ],
   "source": [
    "df_cars = pl.DataFrame(\n",
    "    {\n",
    "        \"id\": [\"a\", \"b\", \"c\"],\n",
    "        \"make\": [\"ford\", \"toyota\", \"bmw\"],\n",
    "    }\n",
    ")\n",
    "df_cars"
   ]
  },
  {
   "cell_type": "code",
   "execution_count": 44,
   "metadata": {},
   "outputs": [
    {
     "data": {
      "text/html": [
       "<div><style>\n",
       ".dataframe > thead > tr,\n",
       ".dataframe > tbody > tr {\n",
       "  text-align: right;\n",
       "  white-space: pre-wrap;\n",
       "}\n",
       "</style>\n",
       "<small>shape: (2, 2)</small><table border=\"1\" class=\"dataframe\"><thead><tr><th>id</th><th>cost</th></tr><tr><td>str</td><td>i64</td></tr></thead><tbody><tr><td>&quot;c&quot;</td><td>100</td></tr><tr><td>&quot;c&quot;</td><td>200</td></tr></tbody></table></div>"
      ],
      "text/plain": [
       "shape: (2, 2)\n",
       "┌─────┬──────┐\n",
       "│ id  ┆ cost │\n",
       "│ --- ┆ ---  │\n",
       "│ str ┆ i64  │\n",
       "╞═════╪══════╡\n",
       "│ c   ┆ 100  │\n",
       "│ c   ┆ 200  │\n",
       "└─────┴──────┘"
      ]
     },
     "execution_count": 44,
     "metadata": {},
     "output_type": "execute_result"
    }
   ],
   "source": [
    "df_repairs = pl.DataFrame(\n",
    "    {\n",
    "        \"id\": [\"c\", \"c\"],\n",
    "        \"cost\": [100, 200],\n",
    "    }\n",
    ")\n",
    "df_repairs"
   ]
  },
  {
   "cell_type": "markdown",
   "metadata": {},
   "source": [
    "Quieres responder a esta pregunta: ¿cuáles de los autos han tenido reparaciones realizadas?\n",
    "\n",
    "Una inner join no responde directamente a esta pregunta, ya que produce un DataFrame con múltiples filas para cada auto que ha tenido múltiples trabajos de reparación."
   ]
  },
  {
   "cell_type": "code",
   "execution_count": 45,
   "metadata": {},
   "outputs": [
    {
     "data": {
      "text/html": [
       "<div><style>\n",
       ".dataframe > thead > tr,\n",
       ".dataframe > tbody > tr {\n",
       "  text-align: right;\n",
       "  white-space: pre-wrap;\n",
       "}\n",
       "</style>\n",
       "<small>shape: (2, 3)</small><table border=\"1\" class=\"dataframe\"><thead><tr><th>id</th><th>make</th><th>cost</th></tr><tr><td>str</td><td>str</td><td>i64</td></tr></thead><tbody><tr><td>&quot;c&quot;</td><td>&quot;bmw&quot;</td><td>100</td></tr><tr><td>&quot;c&quot;</td><td>&quot;bmw&quot;</td><td>200</td></tr></tbody></table></div>"
      ],
      "text/plain": [
       "shape: (2, 3)\n",
       "┌─────┬──────┬──────┐\n",
       "│ id  ┆ make ┆ cost │\n",
       "│ --- ┆ ---  ┆ ---  │\n",
       "│ str ┆ str  ┆ i64  │\n",
       "╞═════╪══════╪══════╡\n",
       "│ c   ┆ bmw  ┆ 100  │\n",
       "│ c   ┆ bmw  ┆ 200  │\n",
       "└─────┴──────┴──────┘"
      ]
     },
     "execution_count": 45,
     "metadata": {},
     "output_type": "execute_result"
    }
   ],
   "source": [
    "df_cars.join(df_repairs, on=\"id\", how=\"inner\")"
   ]
  },
  {
   "cell_type": "code",
   "execution_count": 46,
   "metadata": {},
   "outputs": [
    {
     "data": {
      "text/html": [
       "<div><style>\n",
       ".dataframe > thead > tr,\n",
       ".dataframe > tbody > tr {\n",
       "  text-align: right;\n",
       "  white-space: pre-wrap;\n",
       "}\n",
       "</style>\n",
       "<small>shape: (1, 2)</small><table border=\"1\" class=\"dataframe\"><thead><tr><th>id</th><th>make</th></tr><tr><td>str</td><td>str</td></tr></thead><tbody><tr><td>&quot;c&quot;</td><td>&quot;bmw&quot;</td></tr></tbody></table></div>"
      ],
      "text/plain": [
       "shape: (1, 2)\n",
       "┌─────┬──────┐\n",
       "│ id  ┆ make │\n",
       "│ --- ┆ ---  │\n",
       "│ str ┆ str  │\n",
       "╞═════╪══════╡\n",
       "│ c   ┆ bmw  │\n",
       "└─────┴──────┘"
      ]
     },
     "execution_count": 46,
     "metadata": {},
     "output_type": "execute_result"
    }
   ],
   "source": [
    "df_cars.join(df_repairs, on=\"id\", how=\"semi\")"
   ]
  },
  {
   "cell_type": "markdown",
   "metadata": {},
   "source": [
    "## Anti join\n",
    "Continuando con este ejemplo, una pregunta alternativa podría ser: ¿cuáles de los autos no han tenido un trabajo de reparación realizado? Una unión anti produce un DataFrame que muestra todos los autos de df_cars donde el ID no está presente en el DataFrame df_repairs."
   ]
  },
  {
   "cell_type": "code",
   "execution_count": 47,
   "metadata": {},
   "outputs": [
    {
     "data": {
      "text/html": [
       "<div><style>\n",
       ".dataframe > thead > tr,\n",
       ".dataframe > tbody > tr {\n",
       "  text-align: right;\n",
       "  white-space: pre-wrap;\n",
       "}\n",
       "</style>\n",
       "<small>shape: (2, 2)</small><table border=\"1\" class=\"dataframe\"><thead><tr><th>id</th><th>make</th></tr><tr><td>str</td><td>str</td></tr></thead><tbody><tr><td>&quot;a&quot;</td><td>&quot;ford&quot;</td></tr><tr><td>&quot;b&quot;</td><td>&quot;toyota&quot;</td></tr></tbody></table></div>"
      ],
      "text/plain": [
       "shape: (2, 2)\n",
       "┌─────┬────────┐\n",
       "│ id  ┆ make   │\n",
       "│ --- ┆ ---    │\n",
       "│ str ┆ str    │\n",
       "╞═════╪════════╡\n",
       "│ a   ┆ ford   │\n",
       "│ b   ┆ toyota │\n",
       "└─────┴────────┘"
      ]
     },
     "execution_count": 47,
     "metadata": {},
     "output_type": "execute_result"
    }
   ],
   "source": [
    "df_cars.join(df_repairs, on=\"id\", how=\"anti\")"
   ]
  },
  {
   "cell_type": "markdown",
   "metadata": {},
   "source": [
    "## Asof join\n",
    "Es similar a una left join, excepto que se empareja con la clave más cercana en lugar de claves iguales. En Polars, podemos hacer una unión “asof” con el método join_asof.\n",
    "\n",
    "Considera el siguiente escenario: un corredor de bolsa tiene un DataFrame llamado df_trades que muestra las transacciones que ha realizado para diferentes acciones."
   ]
  },
  {
   "cell_type": "code",
   "execution_count": 48,
   "metadata": {},
   "outputs": [
    {
     "data": {
      "text/html": [
       "<div><style>\n",
       ".dataframe > thead > tr,\n",
       ".dataframe > tbody > tr {\n",
       "  text-align: right;\n",
       "  white-space: pre-wrap;\n",
       "}\n",
       "</style>\n",
       "<small>shape: (4, 3)</small><table border=\"1\" class=\"dataframe\"><thead><tr><th>time</th><th>stock</th><th>trade</th></tr><tr><td>datetime[μs]</td><td>str</td><td>i64</td></tr></thead><tbody><tr><td>2020-01-01 09:01:00</td><td>&quot;A&quot;</td><td>101</td></tr><tr><td>2020-01-01 09:01:00</td><td>&quot;B&quot;</td><td>299</td></tr><tr><td>2020-01-01 09:03:00</td><td>&quot;B&quot;</td><td>301</td></tr><tr><td>2020-01-01 09:06:00</td><td>&quot;C&quot;</td><td>500</td></tr></tbody></table></div>"
      ],
      "text/plain": [
       "shape: (4, 3)\n",
       "┌─────────────────────┬───────┬───────┐\n",
       "│ time                ┆ stock ┆ trade │\n",
       "│ ---                 ┆ ---   ┆ ---   │\n",
       "│ datetime[μs]        ┆ str   ┆ i64   │\n",
       "╞═════════════════════╪═══════╪═══════╡\n",
       "│ 2020-01-01 09:01:00 ┆ A     ┆ 101   │\n",
       "│ 2020-01-01 09:01:00 ┆ B     ┆ 299   │\n",
       "│ 2020-01-01 09:03:00 ┆ B     ┆ 301   │\n",
       "│ 2020-01-01 09:06:00 ┆ C     ┆ 500   │\n",
       "└─────────────────────┴───────┴───────┘"
      ]
     },
     "execution_count": 48,
     "metadata": {},
     "output_type": "execute_result"
    }
   ],
   "source": [
    "df_trades = pl.DataFrame(\n",
    "    {\n",
    "        \"time\": [\n",
    "            datetime(2020, 1, 1, 9, 1, 0),\n",
    "            datetime(2020, 1, 1, 9, 1, 0),\n",
    "            datetime(2020, 1, 1, 9, 3, 0),\n",
    "            datetime(2020, 1, 1, 9, 6, 0),\n",
    "        ],\n",
    "        \"stock\": [\"A\", \"B\", \"B\", \"C\"],\n",
    "        \"trade\": [101, 299, 301, 500],\n",
    "    }\n",
    ")\n",
    "df_trades"
   ]
  },
  {
   "cell_type": "markdown",
   "metadata": {},
   "source": [
    "El corredor de bolsa tiene otro DataFrame llamado df_quotes que muestra los precios que ha cotizado para estas acciones."
   ]
  },
  {
   "cell_type": "code",
   "execution_count": 49,
   "metadata": {},
   "outputs": [
    {
     "data": {
      "text/html": [
       "<div><style>\n",
       ".dataframe > thead > tr,\n",
       ".dataframe > tbody > tr {\n",
       "  text-align: right;\n",
       "  white-space: pre-wrap;\n",
       "}\n",
       "</style>\n",
       "<small>shape: (4, 3)</small><table border=\"1\" class=\"dataframe\"><thead><tr><th>time</th><th>stock</th><th>quote</th></tr><tr><td>datetime[μs]</td><td>str</td><td>i64</td></tr></thead><tbody><tr><td>2020-01-01 09:00:00</td><td>&quot;A&quot;</td><td>100</td></tr><tr><td>2020-01-01 09:02:00</td><td>&quot;B&quot;</td><td>300</td></tr><tr><td>2020-01-01 09:04:00</td><td>&quot;C&quot;</td><td>501</td></tr><tr><td>2020-01-01 09:06:00</td><td>&quot;A&quot;</td><td>102</td></tr></tbody></table></div>"
      ],
      "text/plain": [
       "shape: (4, 3)\n",
       "┌─────────────────────┬───────┬───────┐\n",
       "│ time                ┆ stock ┆ quote │\n",
       "│ ---                 ┆ ---   ┆ ---   │\n",
       "│ datetime[μs]        ┆ str   ┆ i64   │\n",
       "╞═════════════════════╪═══════╪═══════╡\n",
       "│ 2020-01-01 09:00:00 ┆ A     ┆ 100   │\n",
       "│ 2020-01-01 09:02:00 ┆ B     ┆ 300   │\n",
       "│ 2020-01-01 09:04:00 ┆ C     ┆ 501   │\n",
       "│ 2020-01-01 09:06:00 ┆ A     ┆ 102   │\n",
       "└─────────────────────┴───────┴───────┘"
      ]
     },
     "execution_count": 49,
     "metadata": {},
     "output_type": "execute_result"
    }
   ],
   "source": [
    "df_quotes = pl.DataFrame(\n",
    "    {\n",
    "        \"time\": [\n",
    "            datetime(2020, 1, 1, 9, 0, 0),\n",
    "            datetime(2020, 1, 1, 9, 2, 0),\n",
    "            datetime(2020, 1, 1, 9, 4, 0),\n",
    "            datetime(2020, 1, 1, 9, 6, 0),\n",
    "        ],\n",
    "        \"stock\": [\"A\", \"B\", \"C\", \"A\"],\n",
    "        \"quote\": [100, 300, 501, 102],\n",
    "    }\n",
    ")\n",
    "df_quotes"
   ]
  },
  {
   "cell_type": "markdown",
   "metadata": {},
   "source": [
    "Queremos producir un DataFrame que muestre, para cada transacción, la cotización más reciente proporcionada antes de la transacción. Haces esto con join_asof (usando la estrategia predeterminada strategy=\"backward\"). Para evitar unir transacciones de una acción con una cotización de otra, debes especificar una unión preliminar exacta en la columna de acciones con by=\"stock\"."
   ]
  },
  {
   "cell_type": "code",
   "execution_count": 50,
   "metadata": {},
   "outputs": [
    {
     "data": {
      "text/html": [
       "<div><style>\n",
       ".dataframe > thead > tr,\n",
       ".dataframe > tbody > tr {\n",
       "  text-align: right;\n",
       "  white-space: pre-wrap;\n",
       "}\n",
       "</style>\n",
       "<small>shape: (4, 4)</small><table border=\"1\" class=\"dataframe\"><thead><tr><th>time</th><th>stock</th><th>trade</th><th>quote</th></tr><tr><td>datetime[μs]</td><td>str</td><td>i64</td><td>i64</td></tr></thead><tbody><tr><td>2020-01-01 09:01:00</td><td>&quot;A&quot;</td><td>101</td><td>100</td></tr><tr><td>2020-01-01 09:01:00</td><td>&quot;B&quot;</td><td>299</td><td>null</td></tr><tr><td>2020-01-01 09:03:00</td><td>&quot;B&quot;</td><td>301</td><td>300</td></tr><tr><td>2020-01-01 09:06:00</td><td>&quot;C&quot;</td><td>500</td><td>501</td></tr></tbody></table></div>"
      ],
      "text/plain": [
       "shape: (4, 4)\n",
       "┌─────────────────────┬───────┬───────┬───────┐\n",
       "│ time                ┆ stock ┆ trade ┆ quote │\n",
       "│ ---                 ┆ ---   ┆ ---   ┆ ---   │\n",
       "│ datetime[μs]        ┆ str   ┆ i64   ┆ i64   │\n",
       "╞═════════════════════╪═══════╪═══════╪═══════╡\n",
       "│ 2020-01-01 09:01:00 ┆ A     ┆ 101   ┆ 100   │\n",
       "│ 2020-01-01 09:01:00 ┆ B     ┆ 299   ┆ null  │\n",
       "│ 2020-01-01 09:03:00 ┆ B     ┆ 301   ┆ 300   │\n",
       "│ 2020-01-01 09:06:00 ┆ C     ┆ 500   ┆ 501   │\n",
       "└─────────────────────┴───────┴───────┴───────┘"
      ]
     },
     "execution_count": 50,
     "metadata": {},
     "output_type": "execute_result"
    }
   ],
   "source": [
    "df_trades.join_asof(df_quotes, on=\"time\", by=\"stock\")"
   ]
  },
  {
   "cell_type": "markdown",
   "metadata": {},
   "source": [
    "Si queremos asegurar de que solo se unan las cotizaciones dentro de un cierto rango de tiempo a las transacciones, especificamos el argumento tolerance. En este caso, queremos asegurarnos de que la última cotización anterior esté dentro de 1 minuto de la transacción, por lo que establecemos tolerance = \"1m\"."
   ]
  },
  {
   "cell_type": "code",
   "execution_count": 51,
   "metadata": {},
   "outputs": [
    {
     "data": {
      "text/html": [
       "<div><style>\n",
       ".dataframe > thead > tr,\n",
       ".dataframe > tbody > tr {\n",
       "  text-align: right;\n",
       "  white-space: pre-wrap;\n",
       "}\n",
       "</style>\n",
       "<small>shape: (4, 4)</small><table border=\"1\" class=\"dataframe\"><thead><tr><th>time</th><th>stock</th><th>trade</th><th>quote</th></tr><tr><td>datetime[μs]</td><td>str</td><td>i64</td><td>i64</td></tr></thead><tbody><tr><td>2020-01-01 09:01:00</td><td>&quot;A&quot;</td><td>101</td><td>100</td></tr><tr><td>2020-01-01 09:01:00</td><td>&quot;B&quot;</td><td>299</td><td>null</td></tr><tr><td>2020-01-01 09:03:00</td><td>&quot;B&quot;</td><td>301</td><td>300</td></tr><tr><td>2020-01-01 09:06:00</td><td>&quot;C&quot;</td><td>500</td><td>null</td></tr></tbody></table></div>"
      ],
      "text/plain": [
       "shape: (4, 4)\n",
       "┌─────────────────────┬───────┬───────┬───────┐\n",
       "│ time                ┆ stock ┆ trade ┆ quote │\n",
       "│ ---                 ┆ ---   ┆ ---   ┆ ---   │\n",
       "│ datetime[μs]        ┆ str   ┆ i64   ┆ i64   │\n",
       "╞═════════════════════╪═══════╪═══════╪═══════╡\n",
       "│ 2020-01-01 09:01:00 ┆ A     ┆ 101   ┆ 100   │\n",
       "│ 2020-01-01 09:01:00 ┆ B     ┆ 299   ┆ null  │\n",
       "│ 2020-01-01 09:03:00 ┆ B     ┆ 301   ┆ 300   │\n",
       "│ 2020-01-01 09:06:00 ┆ C     ┆ 500   ┆ null  │\n",
       "└─────────────────────┴───────┴───────┴───────┘"
      ]
     },
     "execution_count": 51,
     "metadata": {},
     "output_type": "execute_result"
    }
   ],
   "source": [
    "df_trades.join_asof(\n",
    "    df_quotes, on=\"time\", by=\"stock\", tolerance=\"1m\"\n",
    ")"
   ]
  },
  {
   "cell_type": "markdown",
   "metadata": {
    "editable": true,
    "slideshow": {
     "slide_type": ""
    },
    "tags": []
   },
   "source": [
    "# Concatenación\n",
    "## Vertical\n",
    "La concatenación vertical falla cuando los DataFrames no tienen los mismos nombres de columnas."
   ]
  },
  {
   "cell_type": "code",
   "execution_count": 52,
   "metadata": {},
   "outputs": [
    {
     "data": {
      "text/plain": [
       "(shape: (1, 2)\n",
       " ┌─────┬─────┐\n",
       " │ a   ┆ b   │\n",
       " │ --- ┆ --- │\n",
       " │ i64 ┆ i64 │\n",
       " ╞═════╪═════╡\n",
       " │ 1   ┆ 3   │\n",
       " └─────┴─────┘,\n",
       " shape: (1, 2)\n",
       " ┌─────┬─────┐\n",
       " │ a   ┆ b   │\n",
       " │ --- ┆ --- │\n",
       " │ i64 ┆ i64 │\n",
       " ╞═════╪═════╡\n",
       " │ 2   ┆ 4   │\n",
       " └─────┴─────┘)"
      ]
     },
     "execution_count": 52,
     "metadata": {},
     "output_type": "execute_result"
    }
   ],
   "source": [
    "df_v1 = pl.DataFrame(\n",
    "    {\n",
    "        \"a\": [1],\n",
    "        \"b\": [3],\n",
    "    }\n",
    ")\n",
    "df_v2 = pl.DataFrame(\n",
    "    {\n",
    "        \"a\": [2],\n",
    "        \"b\": [4],\n",
    "    }\n",
    ")\n",
    "df_v1, df_v2"
   ]
  },
  {
   "cell_type": "code",
   "execution_count": 53,
   "metadata": {},
   "outputs": [
    {
     "name": "stdout",
     "output_type": "stream",
     "text": [
      "shape: (2, 2)\n",
      "┌─────┬─────┐\n",
      "│ a   ┆ b   │\n",
      "│ --- ┆ --- │\n",
      "│ i64 ┆ i64 │\n",
      "╞═════╪═════╡\n",
      "│ 1   ┆ 3   │\n",
      "│ 2   ┆ 4   │\n",
      "└─────┴─────┘\n"
     ]
    }
   ],
   "source": [
    "df_vertical_concat = pl.concat(\n",
    "    [\n",
    "        df_v1,\n",
    "        df_v2,\n",
    "    ],\n",
    "    how=\"vertical\",\n",
    ")\n",
    "print(df_vertical_concat)"
   ]
  },
  {
   "cell_type": "markdown",
   "metadata": {},
   "source": [
    "## Horizontal\n",
    "La concatenación horizontal falla cuando los DataFrames tienen columnas que se superponen."
   ]
  },
  {
   "cell_type": "code",
   "execution_count": 54,
   "metadata": {},
   "outputs": [],
   "source": [
    "df_h1 = pl.DataFrame(\n",
    "    {\n",
    "        \"l1\": [1, 2],\n",
    "        \"l2\": [3, 4],\n",
    "    }\n",
    ")\n",
    "df_h2 = pl.DataFrame(\n",
    "    {\n",
    "        \"r1\": [5, 6],\n",
    "        \"r2\": [7, 8],\n",
    "        \"r3\": [9, 10],\n",
    "    }\n",
    ")"
   ]
  },
  {
   "cell_type": "code",
   "execution_count": 55,
   "metadata": {},
   "outputs": [
    {
     "data": {
      "text/plain": [
       "(shape: (2, 2)\n",
       " ┌─────┬─────┐\n",
       " │ l1  ┆ l2  │\n",
       " │ --- ┆ --- │\n",
       " │ i64 ┆ i64 │\n",
       " ╞═════╪═════╡\n",
       " │ 1   ┆ 3   │\n",
       " │ 2   ┆ 4   │\n",
       " └─────┴─────┘,\n",
       " shape: (2, 3)\n",
       " ┌─────┬─────┬─────┐\n",
       " │ r1  ┆ r2  ┆ r3  │\n",
       " │ --- ┆ --- ┆ --- │\n",
       " │ i64 ┆ i64 ┆ i64 │\n",
       " ╞═════╪═════╪═════╡\n",
       " │ 5   ┆ 7   ┆ 9   │\n",
       " │ 6   ┆ 8   ┆ 10  │\n",
       " └─────┴─────┴─────┘)"
      ]
     },
     "execution_count": 55,
     "metadata": {},
     "output_type": "execute_result"
    }
   ],
   "source": [
    "df_h1, df_h2"
   ]
  },
  {
   "cell_type": "code",
   "execution_count": 56,
   "metadata": {},
   "outputs": [
    {
     "name": "stdout",
     "output_type": "stream",
     "text": [
      "shape: (2, 5)\n",
      "┌─────┬─────┬─────┬─────┬─────┐\n",
      "│ l1  ┆ l2  ┆ r1  ┆ r2  ┆ r3  │\n",
      "│ --- ┆ --- ┆ --- ┆ --- ┆ --- │\n",
      "│ i64 ┆ i64 ┆ i64 ┆ i64 ┆ i64 │\n",
      "╞═════╪═════╪═════╪═════╪═════╡\n",
      "│ 1   ┆ 3   ┆ 5   ┆ 7   ┆ 9   │\n",
      "│ 2   ┆ 4   ┆ 6   ┆ 8   ┆ 10  │\n",
      "└─────┴─────┴─────┴─────┴─────┘\n"
     ]
    }
   ],
   "source": [
    "df_horizontal_concat = pl.concat(\n",
    "    [\n",
    "        df_h1,\n",
    "        df_h2,\n",
    "    ],\n",
    "    how=\"horizontal\",\n",
    ")\n",
    "print(df_horizontal_concat)"
   ]
  },
  {
   "cell_type": "markdown",
   "metadata": {},
   "source": [
    "Cuando los DataFrames tienen un número diferente de filas, las columnas se rellenarán con valores nulos al final hasta alcanzar la longitud máxima."
   ]
  },
  {
   "cell_type": "code",
   "execution_count": 57,
   "metadata": {},
   "outputs": [
    {
     "name": "stdout",
     "output_type": "stream",
     "text": [
      "shape: (3, 4)\n",
      "┌──────┬──────┬─────┬─────┐\n",
      "│ l1   ┆ l2   ┆ r1  ┆ r2  │\n",
      "│ ---  ┆ ---  ┆ --- ┆ --- │\n",
      "│ i64  ┆ i64  ┆ i64 ┆ i64 │\n",
      "╞══════╪══════╪═════╪═════╡\n",
      "│ 1    ┆ 3    ┆ 5   ┆ 8   │\n",
      "│ 2    ┆ 4    ┆ 6   ┆ 9   │\n",
      "│ null ┆ null ┆ 7   ┆ 10  │\n",
      "└──────┴──────┴─────┴─────┘\n"
     ]
    }
   ],
   "source": [
    "df_h1 = pl.DataFrame(\n",
    "    {\n",
    "        \"l1\": [1, 2],\n",
    "        \"l2\": [3, 4],\n",
    "    }\n",
    ")\n",
    "df_h2 = pl.DataFrame(\n",
    "    {\n",
    "        \"r1\": [5, 6, 7],\n",
    "        \"r2\": [8, 9, 10],\n",
    "    }\n",
    ")\n",
    "df_horizontal_concat = pl.concat(\n",
    "    [\n",
    "        df_h1,\n",
    "        df_h2,\n",
    "    ],\n",
    "    how=\"horizontal\",\n",
    ")\n",
    "print(df_horizontal_concat)"
   ]
  },
  {
   "cell_type": "markdown",
   "metadata": {},
   "source": [
    "## Diagonal\n",
    "En una concatenación diagonal, combinas todas las filas y columnas de una lista de DataFrames en un solo DataFrame más largo y/o más ancho."
   ]
  },
  {
   "cell_type": "code",
   "execution_count": 58,
   "metadata": {},
   "outputs": [],
   "source": [
    "df_d1 = pl.DataFrame(\n",
    "    {\n",
    "        \"a\": [1],\n",
    "        \"b\": [3],\n",
    "    }\n",
    ")\n",
    "df_d2 = pl.DataFrame(\n",
    "    {\n",
    "        \"a\": [2],\n",
    "        \"d\": [4],\n",
    "    }\n",
    ")\n"
   ]
  },
  {
   "cell_type": "code",
   "execution_count": 59,
   "metadata": {},
   "outputs": [
    {
     "data": {
      "text/plain": [
       "(shape: (1, 2)\n",
       " ┌─────┬─────┐\n",
       " │ a   ┆ b   │\n",
       " │ --- ┆ --- │\n",
       " │ i64 ┆ i64 │\n",
       " ╞═════╪═════╡\n",
       " │ 1   ┆ 3   │\n",
       " └─────┴─────┘,\n",
       " shape: (1, 2)\n",
       " ┌─────┬─────┐\n",
       " │ a   ┆ d   │\n",
       " │ --- ┆ --- │\n",
       " │ i64 ┆ i64 │\n",
       " ╞═════╪═════╡\n",
       " │ 2   ┆ 4   │\n",
       " └─────┴─────┘)"
      ]
     },
     "execution_count": 59,
     "metadata": {},
     "output_type": "execute_result"
    }
   ],
   "source": [
    "df_d1, df_d2"
   ]
  },
  {
   "cell_type": "code",
   "execution_count": 60,
   "metadata": {},
   "outputs": [
    {
     "name": "stdout",
     "output_type": "stream",
     "text": [
      "shape: (2, 3)\n",
      "┌─────┬──────┬──────┐\n",
      "│ a   ┆ b    ┆ d    │\n",
      "│ --- ┆ ---  ┆ ---  │\n",
      "│ i64 ┆ i64  ┆ i64  │\n",
      "╞═════╪══════╪══════╡\n",
      "│ 1   ┆ 3    ┆ null │\n",
      "│ 2   ┆ null ┆ 4    │\n",
      "└─────┴──────┴──────┘\n"
     ]
    }
   ],
   "source": [
    "df_diagonal_concat = pl.concat(\n",
    "    [\n",
    "        df_d1,\n",
    "        df_d2,\n",
    "    ],\n",
    "    how=\"diagonal\",\n",
    ")\n",
    "print(df_diagonal_concat)"
   ]
  },
  {
   "cell_type": "markdown",
   "metadata": {},
   "source": [
    "# Pivotes\n",
    "La operación de pivoteo consiste en agrupar por una o varias columnas (estas serán el nuevo eje y), la columna que se pivotará (esta será el nuevo eje x) y una agregación."
   ]
  },
  {
   "cell_type": "code",
   "execution_count": 61,
   "metadata": {},
   "outputs": [
    {
     "name": "stdout",
     "output_type": "stream",
     "text": [
      "shape: (5, 3)\n",
      "┌─────┬─────┬─────┐\n",
      "│ foo ┆ N   ┆ bar │\n",
      "│ --- ┆ --- ┆ --- │\n",
      "│ str ┆ i64 ┆ str │\n",
      "╞═════╪═════╪═════╡\n",
      "│ A   ┆ 1   ┆ k   │\n",
      "│ A   ┆ 2   ┆ l   │\n",
      "│ B   ┆ 2   ┆ m   │\n",
      "│ B   ┆ 4   ┆ n   │\n",
      "│ C   ┆ 2   ┆ o   │\n",
      "└─────┴─────┴─────┘\n"
     ]
    }
   ],
   "source": [
    "df = pl.DataFrame(\n",
    "    {\n",
    "        \"foo\": [\"A\", \"A\", \"B\", \"B\", \"C\"],\n",
    "        \"N\": [1, 2, 2, 4, 2],\n",
    "        \"bar\": [\"k\", \"l\", \"m\", \"n\", \"o\"],\n",
    "    }\n",
    ")\n",
    "print(df)"
   ]
  },
  {
   "cell_type": "markdown",
   "metadata": {},
   "source": [
    "## Eager (Pivot)"
   ]
  },
  {
   "cell_type": "code",
   "execution_count": 62,
   "metadata": {},
   "outputs": [
    {
     "name": "stdout",
     "output_type": "stream",
     "text": [
      "shape: (3, 6)\n",
      "┌─────┬──────┬──────┬──────┬──────┬──────┐\n",
      "│ foo ┆ k    ┆ l    ┆ m    ┆ n    ┆ o    │\n",
      "│ --- ┆ ---  ┆ ---  ┆ ---  ┆ ---  ┆ ---  │\n",
      "│ str ┆ i64  ┆ i64  ┆ i64  ┆ i64  ┆ i64  │\n",
      "╞═════╪══════╪══════╪══════╪══════╪══════╡\n",
      "│ A   ┆ 1    ┆ 2    ┆ null ┆ null ┆ null │\n",
      "│ B   ┆ null ┆ null ┆ 2    ┆ 4    ┆ null │\n",
      "│ C   ┆ null ┆ null ┆ null ┆ null ┆ 2    │\n",
      "└─────┴──────┴──────┴──────┴──────┴──────┘\n"
     ]
    }
   ],
   "source": [
    "out = df.pivot(\"bar\", index=\"foo\", values=\"N\", aggregate_function=\"first\")\n",
    "print(out)"
   ]
  },
  {
   "cell_type": "markdown",
   "metadata": {},
   "source": [
    "## Lazy\n",
    "Un LazyFrame en Polars siempre necesita conocer el esquema de manera estática (antes de recolectar la consulta). Dado que el esquema de salida de un pivote depende de los datos, es imposible determinar el esquema sin ejecutar la consulta."
   ]
  },
  {
   "cell_type": "code",
   "execution_count": 63,
   "metadata": {},
   "outputs": [
    {
     "name": "stdout",
     "output_type": "stream",
     "text": [
      "shape: (3, 6)\n",
      "┌─────┬──────┬──────┬──────┬──────┬──────┐\n",
      "│ foo ┆ k    ┆ l    ┆ m    ┆ n    ┆ o    │\n",
      "│ --- ┆ ---  ┆ ---  ┆ ---  ┆ ---  ┆ ---  │\n",
      "│ str ┆ i64  ┆ i64  ┆ i64  ┆ i64  ┆ i64  │\n",
      "╞═════╪══════╪══════╪══════╪══════╪══════╡\n",
      "│ A   ┆ 1    ┆ 2    ┆ null ┆ null ┆ null │\n",
      "│ B   ┆ null ┆ null ┆ 2    ┆ 4    ┆ null │\n",
      "│ C   ┆ null ┆ null ┆ null ┆ null ┆ 2    │\n",
      "└─────┴──────┴──────┴──────┴──────┴──────┘\n"
     ]
    }
   ],
   "source": [
    "q = (\n",
    "    df.lazy()\n",
    "    .collect()\n",
    "    .pivot(index=\"foo\", on=\"bar\", values=\"N\", aggregate_function=\"first\")\n",
    "    .lazy()\n",
    ")\n",
    "out = q.collect()\n",
    "print(out)"
   ]
  },
  {
   "cell_type": "markdown",
   "metadata": {},
   "source": [
    "# Unpivot"
   ]
  },
  {
   "cell_type": "code",
   "execution_count": 64,
   "metadata": {},
   "outputs": [
    {
     "name": "stdout",
     "output_type": "stream",
     "text": [
      "shape: (3, 4)\n",
      "┌─────┬─────┬─────┬─────┐\n",
      "│ A   ┆ B   ┆ C   ┆ D   │\n",
      "│ --- ┆ --- ┆ --- ┆ --- │\n",
      "│ str ┆ i64 ┆ i64 ┆ i64 │\n",
      "╞═════╪═════╪═════╪═════╡\n",
      "│ a   ┆ 1   ┆ 10  ┆ 2   │\n",
      "│ b   ┆ 3   ┆ 11  ┆ 4   │\n",
      "│ a   ┆ 5   ┆ 12  ┆ 6   │\n",
      "└─────┴─────┴─────┴─────┘\n"
     ]
    }
   ],
   "source": [
    "df = pl.DataFrame(\n",
    "    {\n",
    "        \"A\": [\"a\", \"b\", \"a\"],\n",
    "        \"B\": [1, 3, 5],\n",
    "        \"C\": [10, 11, 12],\n",
    "        \"D\": [2, 4, 6],\n",
    "    }\n",
    ")\n",
    "print(df)"
   ]
  },
  {
   "cell_type": "markdown",
   "metadata": {},
   "source": [
    "## Eager y Lazy\n",
    "Tienen la misma API"
   ]
  },
  {
   "cell_type": "code",
   "execution_count": 65,
   "metadata": {},
   "outputs": [
    {
     "name": "stdout",
     "output_type": "stream",
     "text": [
      "shape: (6, 4)\n",
      "┌─────┬─────┬──────────┬───────┐\n",
      "│ A   ┆ B   ┆ variable ┆ value │\n",
      "│ --- ┆ --- ┆ ---      ┆ ---   │\n",
      "│ str ┆ i64 ┆ str      ┆ i64   │\n",
      "╞═════╪═════╪══════════╪═══════╡\n",
      "│ a   ┆ 1   ┆ C        ┆ 10    │\n",
      "│ b   ┆ 3   ┆ C        ┆ 11    │\n",
      "│ a   ┆ 5   ┆ C        ┆ 12    │\n",
      "│ a   ┆ 1   ┆ D        ┆ 2     │\n",
      "│ b   ┆ 3   ┆ D        ┆ 4     │\n",
      "│ a   ┆ 5   ┆ D        ┆ 6     │\n",
      "└─────┴─────┴──────────┴───────┘\n"
     ]
    }
   ],
   "source": [
    "out = df.unpivot([\"C\", \"D\"], index=[\"A\", \"B\"])\n",
    "print(out)"
   ]
  },
  {
   "cell_type": "markdown",
   "metadata": {},
   "source": [
    "# Series de tiempo\n",
    "## Parsing (lectura?)\n",
    "### Tipos de datos\n",
    "Polars tiene los siguientes tipos de datos para fechas y horas:\n",
    "\n",
    "\t•\tDate: Representación de fecha, por ejemplo, 2014-07-08. Internamente se representa como días desde la época UNIX, codificados por un entero con signo de 32 bits.\n",
    "\t•\tDatetime: Representación de fecha y hora, por ejemplo, 2014-07-08 07:00:00. Internamente se representa como un entero de 64 bits desde la época Unix y puede tener diferentes unidades como ns, us, ms.\n",
    "\t•\tDuration: Un tipo de diferencia de tiempo que se crea al restar Date/Datetime. Similar a timedelta en Python.\n",
    "\t•\tTime: Representación de tiempo, internamente representada como nanosegundos desde la medianoche."
   ]
  },
  {
   "cell_type": "markdown",
   "metadata": {},
   "source": [
    "### Desde archivo"
   ]
  },
  {
   "cell_type": "code",
   "execution_count": 66,
   "metadata": {},
   "outputs": [
    {
     "name": "stdout",
     "output_type": "stream",
     "text": [
      "shape: (6_953, 7)\n",
      "┌────────────┬────────┬────────┬────────┬────────┬──────────┬───────────┐\n",
      "│ Date       ┆ Open   ┆ High   ┆ Low    ┆ Close  ┆ Volume   ┆ Adj Close │\n",
      "│ ---        ┆ ---    ┆ ---    ┆ ---    ┆ ---    ┆ ---      ┆ ---       │\n",
      "│ date       ┆ f64    ┆ f64    ┆ f64    ┆ f64    ┆ i64      ┆ f64       │\n",
      "╞════════════╪════════╪════════╪════════╪════════╪══════════╪═══════════╡\n",
      "│ 2012-03-30 ┆ 608.77 ┆ 610.56 ┆ 597.94 ┆ 599.55 ┆ 26050900 ┆ 599.55    │\n",
      "│ 2012-03-29 ┆ 612.78 ┆ 616.56 ┆ 607.23 ┆ 609.86 ┆ 21668300 ┆ 609.86    │\n",
      "│ 2012-03-28 ┆ 618.38 ┆ 621.45 ┆ 610.31 ┆ 617.62 ┆ 23385200 ┆ 617.62    │\n",
      "│ 2012-03-27 ┆ 606.18 ┆ 616.28 ┆ 606.06 ┆ 614.48 ┆ 21628200 ┆ 614.48    │\n",
      "│ 2012-03-26 ┆ 599.79 ┆ 607.15 ┆ 595.26 ┆ 606.98 ┆ 21259900 ┆ 606.98    │\n",
      "│ …          ┆ …      ┆ …      ┆ …      ┆ …      ┆ …        ┆ …         │\n",
      "│ 1984-09-13 ┆ 27.5   ┆ 27.62  ┆ 27.5   ┆ 27.5   ┆ 7429600  ┆ 3.14      │\n",
      "│ 1984-09-12 ┆ 26.87  ┆ 27.0   ┆ 26.12  ┆ 26.12  ┆ 4773600  ┆ 2.98      │\n",
      "│ 1984-09-11 ┆ 26.62  ┆ 27.37  ┆ 26.62  ┆ 26.87  ┆ 5444000  ┆ 3.07      │\n",
      "│ 1984-09-10 ┆ 26.5   ┆ 26.62  ┆ 25.87  ┆ 26.37  ┆ 2346400  ┆ 3.01      │\n",
      "│ 1984-09-07 ┆ 26.5   ┆ 26.87  ┆ 26.25  ┆ 26.5   ┆ 2981600  ┆ 3.02      │\n",
      "└────────────┴────────┴────────┴────────┴────────┴──────────┴───────────┘\n"
     ]
    }
   ],
   "source": [
    "archivo = \"data/apple_stock_data.csv\"\n",
    "df = pl.read_csv(archivo, try_parse_dates=True)\n",
    "print(df)"
   ]
  },
  {
   "cell_type": "markdown",
   "metadata": {},
   "source": [
    "### Texto a fechas"
   ]
  },
  {
   "cell_type": "code",
   "execution_count": 67,
   "metadata": {},
   "outputs": [
    {
     "name": "stdout",
     "output_type": "stream",
     "text": [
      "shape: (6_953, 7)\n",
      "┌────────────┬────────┬────────┬────────┬────────┬──────────┬───────────┐\n",
      "│ Date       ┆ Open   ┆ High   ┆ Low    ┆ Close  ┆ Volume   ┆ Adj Close │\n",
      "│ ---        ┆ ---    ┆ ---    ┆ ---    ┆ ---    ┆ ---      ┆ ---       │\n",
      "│ date       ┆ f64    ┆ f64    ┆ f64    ┆ f64    ┆ i64      ┆ f64       │\n",
      "╞════════════╪════════╪════════╪════════╪════════╪══════════╪═══════════╡\n",
      "│ 2012-03-30 ┆ 608.77 ┆ 610.56 ┆ 597.94 ┆ 599.55 ┆ 26050900 ┆ 599.55    │\n",
      "│ 2012-03-29 ┆ 612.78 ┆ 616.56 ┆ 607.23 ┆ 609.86 ┆ 21668300 ┆ 609.86    │\n",
      "│ 2012-03-28 ┆ 618.38 ┆ 621.45 ┆ 610.31 ┆ 617.62 ┆ 23385200 ┆ 617.62    │\n",
      "│ 2012-03-27 ┆ 606.18 ┆ 616.28 ┆ 606.06 ┆ 614.48 ┆ 21628200 ┆ 614.48    │\n",
      "│ 2012-03-26 ┆ 599.79 ┆ 607.15 ┆ 595.26 ┆ 606.98 ┆ 21259900 ┆ 606.98    │\n",
      "│ …          ┆ …      ┆ …      ┆ …      ┆ …      ┆ …        ┆ …         │\n",
      "│ 1984-09-13 ┆ 27.5   ┆ 27.62  ┆ 27.5   ┆ 27.5   ┆ 7429600  ┆ 3.14      │\n",
      "│ 1984-09-12 ┆ 26.87  ┆ 27.0   ┆ 26.12  ┆ 26.12  ┆ 4773600  ┆ 2.98      │\n",
      "│ 1984-09-11 ┆ 26.62  ┆ 27.37  ┆ 26.62  ┆ 26.87  ┆ 5444000  ┆ 3.07      │\n",
      "│ 1984-09-10 ┆ 26.5   ┆ 26.62  ┆ 25.87  ┆ 26.37  ┆ 2346400  ┆ 3.01      │\n",
      "│ 1984-09-07 ┆ 26.5   ┆ 26.87  ┆ 26.25  ┆ 26.5   ┆ 2981600  ┆ 3.02      │\n",
      "└────────────┴────────┴────────┴────────┴────────┴──────────┴───────────┘\n"
     ]
    }
   ],
   "source": [
    "df = pl.read_csv(archivo, try_parse_dates=False)\n",
    "\n",
    "df = df.with_columns(pl.col(\"Date\").str.to_date(\"%Y-%m-%d\"))\n",
    "print(df)"
   ]
  },
  {
   "cell_type": "markdown",
   "metadata": {},
   "source": [
    "### Extraer características de fecha"
   ]
  },
  {
   "cell_type": "code",
   "execution_count": 68,
   "metadata": {},
   "outputs": [
    {
     "name": "stdout",
     "output_type": "stream",
     "text": [
      "shape: (6_953, 8)\n",
      "┌────────────┬────────┬────────┬────────┬────────┬──────────┬───────────┬──────┐\n",
      "│ Date       ┆ Open   ┆ High   ┆ Low    ┆ Close  ┆ Volume   ┆ Adj Close ┆ year │\n",
      "│ ---        ┆ ---    ┆ ---    ┆ ---    ┆ ---    ┆ ---      ┆ ---       ┆ ---  │\n",
      "│ date       ┆ f64    ┆ f64    ┆ f64    ┆ f64    ┆ i64      ┆ f64       ┆ i32  │\n",
      "╞════════════╪════════╪════════╪════════╪════════╪══════════╪═══════════╪══════╡\n",
      "│ 2012-03-30 ┆ 608.77 ┆ 610.56 ┆ 597.94 ┆ 599.55 ┆ 26050900 ┆ 599.55    ┆ 2012 │\n",
      "│ 2012-03-29 ┆ 612.78 ┆ 616.56 ┆ 607.23 ┆ 609.86 ┆ 21668300 ┆ 609.86    ┆ 2012 │\n",
      "│ 2012-03-28 ┆ 618.38 ┆ 621.45 ┆ 610.31 ┆ 617.62 ┆ 23385200 ┆ 617.62    ┆ 2012 │\n",
      "│ 2012-03-27 ┆ 606.18 ┆ 616.28 ┆ 606.06 ┆ 614.48 ┆ 21628200 ┆ 614.48    ┆ 2012 │\n",
      "│ 2012-03-26 ┆ 599.79 ┆ 607.15 ┆ 595.26 ┆ 606.98 ┆ 21259900 ┆ 606.98    ┆ 2012 │\n",
      "│ …          ┆ …      ┆ …      ┆ …      ┆ …      ┆ …        ┆ …         ┆ …    │\n",
      "│ 1984-09-13 ┆ 27.5   ┆ 27.62  ┆ 27.5   ┆ 27.5   ┆ 7429600  ┆ 3.14      ┆ 1984 │\n",
      "│ 1984-09-12 ┆ 26.87  ┆ 27.0   ┆ 26.12  ┆ 26.12  ┆ 4773600  ┆ 2.98      ┆ 1984 │\n",
      "│ 1984-09-11 ┆ 26.62  ┆ 27.37  ┆ 26.62  ┆ 26.87  ┆ 5444000  ┆ 3.07      ┆ 1984 │\n",
      "│ 1984-09-10 ┆ 26.5   ┆ 26.62  ┆ 25.87  ┆ 26.37  ┆ 2346400  ┆ 3.01      ┆ 1984 │\n",
      "│ 1984-09-07 ┆ 26.5   ┆ 26.87  ┆ 26.25  ┆ 26.5   ┆ 2981600  ┆ 3.02      ┆ 1984 │\n",
      "└────────────┴────────┴────────┴────────┴────────┴──────────┴───────────┴──────┘\n"
     ]
    }
   ],
   "source": [
    "df_with_year = df.with_columns(pl.col(\"Date\").dt.year().alias(\"year\"))\n",
    "print(df_with_year)"
   ]
  },
  {
   "cell_type": "markdown",
   "metadata": {},
   "source": [
    "### Zonas horarias mezcladas\n"
   ]
  },
  {
   "cell_type": "code",
   "execution_count": 69,
   "metadata": {},
   "outputs": [
    {
     "name": "stdout",
     "output_type": "stream",
     "text": [
      "shape: (4,)\n",
      "Series: '' [datetime[μs, America/Santiago]]\n",
      "[\n",
      "\t2021-03-26 20:00:00 -03\n",
      "\t2021-03-27 20:00:00 -03\n",
      "\t2021-03-28 19:00:00 -03\n",
      "\t2021-03-29 19:00:00 -03\n",
      "]\n"
     ]
    }
   ],
   "source": [
    "data = [\n",
    "    \"2021-03-27T00:00:00+0100\",\n",
    "    \"2021-03-28T00:00:00+0100\",\n",
    "    \"2021-03-29T00:00:00+0200\",\n",
    "    \"2021-03-30T00:00:00+0200\",\n",
    "]\n",
    "mixed_parsed = (\n",
    "    pl.Series(data)\n",
    "    .str.to_datetime(\"%Y-%m-%dT%H:%M:%S%z\")\n",
    "    .dt.convert_time_zone(\"America/Santiago\")\n",
    ")\n",
    "print(mixed_parsed)"
   ]
  },
  {
   "cell_type": "markdown",
   "metadata": {},
   "source": [
    "## Filtro"
   ]
  },
  {
   "cell_type": "code",
   "execution_count": 70,
   "metadata": {},
   "outputs": [
    {
     "data": {
      "text/html": [
       "<div><style>\n",
       ".dataframe > thead > tr,\n",
       ".dataframe > tbody > tr {\n",
       "  text-align: right;\n",
       "  white-space: pre-wrap;\n",
       "}\n",
       "</style>\n",
       "<small>shape: (6_953, 2)</small><table border=\"1\" class=\"dataframe\"><thead><tr><th>Date</th><th>Close</th></tr><tr><td>date</td><td>f64</td></tr></thead><tbody><tr><td>2012-03-30</td><td>599.55</td></tr><tr><td>2012-03-29</td><td>609.86</td></tr><tr><td>2012-03-28</td><td>617.62</td></tr><tr><td>2012-03-27</td><td>614.48</td></tr><tr><td>2012-03-26</td><td>606.98</td></tr><tr><td>&hellip;</td><td>&hellip;</td></tr><tr><td>1984-09-13</td><td>27.5</td></tr><tr><td>1984-09-12</td><td>26.12</td></tr><tr><td>1984-09-11</td><td>26.87</td></tr><tr><td>1984-09-10</td><td>26.37</td></tr><tr><td>1984-09-07</td><td>26.5</td></tr></tbody></table></div>"
      ],
      "text/plain": [
       "shape: (6_953, 2)\n",
       "┌────────────┬────────┐\n",
       "│ Date       ┆ Close  │\n",
       "│ ---        ┆ ---    │\n",
       "│ date       ┆ f64    │\n",
       "╞════════════╪════════╡\n",
       "│ 2012-03-30 ┆ 599.55 │\n",
       "│ 2012-03-29 ┆ 609.86 │\n",
       "│ 2012-03-28 ┆ 617.62 │\n",
       "│ 2012-03-27 ┆ 614.48 │\n",
       "│ 2012-03-26 ┆ 606.98 │\n",
       "│ …          ┆ …      │\n",
       "│ 1984-09-13 ┆ 27.5   │\n",
       "│ 1984-09-12 ┆ 26.12  │\n",
       "│ 1984-09-11 ┆ 26.87  │\n",
       "│ 1984-09-10 ┆ 26.37  │\n",
       "│ 1984-09-07 ┆ 26.5   │\n",
       "└────────────┴────────┘"
      ]
     },
     "execution_count": 70,
     "metadata": {},
     "output_type": "execute_result"
    }
   ],
   "source": [
    "df = df.select(\"Date\", \"Close\")\n",
    "df"
   ]
  },
  {
   "cell_type": "markdown",
   "metadata": {},
   "source": [
    "### Fecha única"
   ]
  },
  {
   "cell_type": "code",
   "execution_count": 71,
   "metadata": {},
   "outputs": [
    {
     "name": "stdout",
     "output_type": "stream",
     "text": [
      "shape: (1, 2)\n",
      "┌────────────┬───────┐\n",
      "│ Date       ┆ Close │\n",
      "│ ---        ┆ ---   │\n",
      "│ date       ┆ f64   │\n",
      "╞════════════╪═══════╡\n",
      "│ 1995-10-16 ┆ 36.13 │\n",
      "└────────────┴───────┘\n"
     ]
    }
   ],
   "source": [
    "filtered_df = df.filter(\n",
    "    pl.col(\"Date\") == datetime(1995, 10, 16),\n",
    ")\n",
    "print(filtered_df)"
   ]
  },
  {
   "cell_type": "markdown",
   "metadata": {},
   "source": [
    "### Rango de fechas"
   ]
  },
  {
   "cell_type": "code",
   "execution_count": 72,
   "metadata": {},
   "outputs": [
    {
     "name": "stdout",
     "output_type": "stream",
     "text": [
      "shape: (86, 2)\n",
      "┌────────────┬───────┐\n",
      "│ Date       ┆ Close │\n",
      "│ ---        ┆ ---   │\n",
      "│ date       ┆ f64   │\n",
      "╞════════════╪═══════╡\n",
      "│ 1995-11-01 ┆ 36.63 │\n",
      "│ 1995-10-31 ┆ 36.31 │\n",
      "│ 1995-10-30 ┆ 35.25 │\n",
      "│ 1995-10-27 ┆ 34.75 │\n",
      "│ 1995-10-26 ┆ 34.88 │\n",
      "│ …          ┆ …     │\n",
      "│ 1995-07-10 ┆ 48.63 │\n",
      "│ 1995-07-07 ┆ 48.63 │\n",
      "│ 1995-07-06 ┆ 47.0  │\n",
      "│ 1995-07-05 ┆ 46.5  │\n",
      "│ 1995-07-03 ┆ 46.94 │\n",
      "└────────────┴───────┘\n"
     ]
    }
   ],
   "source": [
    "filtered_range_df = df.filter(\n",
    "    pl.col(\"Date\").is_between(datetime(1995, 7, 1), datetime(1995, 11, 1)),\n",
    ")\n",
    "print(filtered_range_df)\n"
   ]
  },
  {
   "cell_type": "markdown",
   "metadata": {},
   "source": [
    "### Fechas negativas"
   ]
  },
  {
   "cell_type": "code",
   "execution_count": 73,
   "metadata": {},
   "outputs": [
    {
     "name": "stdout",
     "output_type": "stream",
     "text": [
      "shape: (1, 2)\n",
      "┌─────────────┬────────┐\n",
      "│ ts          ┆ values │\n",
      "│ ---         ┆ ---    │\n",
      "│ date        ┆ i64    │\n",
      "╞═════════════╪════════╡\n",
      "│ -1400-03-02 ┆ 4      │\n",
      "└─────────────┴────────┘\n"
     ]
    }
   ],
   "source": [
    "ts = pl.Series([\"-1300-05-23\", \"-1400-03-02\"]).str.to_date()\n",
    "\n",
    "negative_dates_df = pl.DataFrame({\"ts\": ts, \"values\": [3, 4]})\n",
    "\n",
    "negative_dates_filtered_df = negative_dates_df.filter(pl.col(\"ts\").dt.year() < -1300)\n",
    "print(negative_dates_filtered_df)"
   ]
  },
  {
   "cell_type": "markdown",
   "metadata": {},
   "source": [
    "## Agrupaciones"
   ]
  },
  {
   "cell_type": "markdown",
   "metadata": {},
   "source": [
    "### Ventana fija\n",
    "Las fechas deben ser  ordenadas en orden ascendente; si no están ordenadas de esta manera, la salida de group_by_dynamic no será correcta"
   ]
  },
  {
   "cell_type": "code",
   "execution_count": 74,
   "metadata": {},
   "outputs": [
    {
     "name": "stdout",
     "output_type": "stream",
     "text": [
      "shape: (6_953, 2)\n",
      "┌────────────┬────────┐\n",
      "│ Date       ┆ Close  │\n",
      "│ ---        ┆ ---    │\n",
      "│ date       ┆ f64    │\n",
      "╞════════════╪════════╡\n",
      "│ 1984-09-07 ┆ 26.5   │\n",
      "│ 1984-09-10 ┆ 26.37  │\n",
      "│ 1984-09-11 ┆ 26.87  │\n",
      "│ 1984-09-12 ┆ 26.12  │\n",
      "│ 1984-09-13 ┆ 27.5   │\n",
      "│ …          ┆ …      │\n",
      "│ 2012-03-26 ┆ 606.98 │\n",
      "│ 2012-03-27 ┆ 614.48 │\n",
      "│ 2012-03-28 ┆ 617.62 │\n",
      "│ 2012-03-29 ┆ 609.86 │\n",
      "│ 2012-03-30 ┆ 599.55 │\n",
      "└────────────┴────────┘\n"
     ]
    }
   ],
   "source": [
    "df = df.sort(\"Date\")\n",
    "print(df)"
   ]
  },
  {
   "cell_type": "code",
   "execution_count": 75,
   "metadata": {},
   "outputs": [
    {
     "name": "stdout",
     "output_type": "stream",
     "text": [
      "shape: (29, 3)\n",
      "┌────────────┬────────────┬──────┐\n",
      "│ Date       ┆ Close      ┆ year │\n",
      "│ ---        ┆ ---        ┆ ---  │\n",
      "│ date       ┆ f64        ┆ i32  │\n",
      "╞════════════╪════════════╪══════╡\n",
      "│ 1984-01-01 ┆ 25.578625  ┆ 1984 │\n",
      "│ 1985-01-01 ┆ 20.193676  ┆ 1985 │\n",
      "│ 1986-01-01 ┆ 32.461028  ┆ 1986 │\n",
      "│ 1987-01-01 ┆ 53.889684  ┆ 1987 │\n",
      "│ 1988-01-01 ┆ 41.540079  ┆ 1988 │\n",
      "│ …          ┆ …          ┆ …    │\n",
      "│ 2008-01-01 ┆ 141.979012 ┆ 2008 │\n",
      "│ 2009-01-01 ┆ 146.814127 ┆ 2009 │\n",
      "│ 2010-01-01 ┆ 259.84246  ┆ 2010 │\n",
      "│ 2011-01-01 ┆ 364.004325 ┆ 2011 │\n",
      "│ 2012-01-01 ┆ 503.679839 ┆ 2012 │\n",
      "└────────────┴────────────┴──────┘\n"
     ]
    }
   ],
   "source": [
    "annual_average_df = df.group_by_dynamic(\"Date\", every=\"1y\").agg(pl.col(\"Close\").mean())\n",
    "\n",
    "df_with_year = annual_average_df.with_columns(pl.col(\"Date\").dt.year().alias(\"year\"))\n",
    "print(df_with_year)"
   ]
  },
  {
   "cell_type": "markdown",
   "metadata": {},
   "source": [
    "### group_by dinamic\n",
    "\n",
    "Se define por:\n",
    "\n",
    "\t•\tevery: indica el intervalo de la ventana.\n",
    "\t•\tperiod: indica la duración de la ventana.\n",
    "\t•\toffset: se puede usar para desplazar el inicio de las ventanas.\n",
    "\n",
    "El valor de every establece con qué frecuencia comienzan los grupos. Los valores de los períodos de tiempo son flexibles; por ejemplo, podríamos tomar:\n",
    "\n",
    "\t•\tEl promedio en intervalos de 2 años reemplazando 1y por 2y.\n",
    "\t•\tEl promedio en períodos de 18 meses reemplazando 1y por 1y6mo.\n",
    "\n",
    "También podemos usar el parámetro period para establecer cuánto tiempo dura el período de cada grupo. Por ejemplo, si configuramos el parámetro every en 1y y el parámetro period en 2y, obtendríamos grupos en intervalos de un año donde cada grupo abarcaría dos años.\n",
    "\n",
    "Si no se especifica el parámetro period, entonces se establece igual al parámetro every, de modo que si el parámetro every se establece en 1y, cada grupo también abarca 1y.\n",
    "\n",
    "Dado que every no tiene que ser igual a period, podemos crear muchos grupos de manera muy flexible. Estos grupos pueden superponerse o dejar espacios entre ellos.\n",
    "\n",
    "El parámetro truncate es una variable booleana que determina qué valor de fecha y hora se asocia con cada grupo en la salida. En el ejemplo anterior, el primer dato es del 23 de febrero de 1981. Si truncate = True (el valor predeterminado), la fecha para el primer año en el promedio anual es el 1 de enero de 1981. Sin embargo, si truncate = False, la fecha para el primer año en el promedio anual es la fecha del primer punto de datos, el 23 de febrero de 1981. Es importante señalar que truncate solo afecta lo que se muestra en la columna de fecha y no afecta los límites de la ventana."
   ]
  },
  {
   "cell_type": "markdown",
   "metadata": {},
   "source": [
    "### Combinaciones"
   ]
  },
  {
   "cell_type": "code",
   "execution_count": 76,
   "metadata": {},
   "outputs": [
    {
     "name": "stdout",
     "output_type": "stream",
     "text": [
      "shape: (7, 2)\n",
      "┌─────────────────────┬────────┐\n",
      "│ time                ┆ groups │\n",
      "│ ---                 ┆ ---    │\n",
      "│ datetime[μs]        ┆ str    │\n",
      "╞═════════════════════╪════════╡\n",
      "│ 2021-12-16 00:00:00 ┆ a      │\n",
      "│ 2021-12-16 00:30:00 ┆ a      │\n",
      "│ 2021-12-16 01:00:00 ┆ a      │\n",
      "│ 2021-12-16 01:30:00 ┆ b      │\n",
      "│ 2021-12-16 02:00:00 ┆ b      │\n",
      "│ 2021-12-16 02:30:00 ┆ a      │\n",
      "│ 2021-12-16 03:00:00 ┆ a      │\n",
      "└─────────────────────┴────────┘\n"
     ]
    }
   ],
   "source": [
    "df = pl.DataFrame(\n",
    "    {\n",
    "        \"time\": pl.datetime_range(\n",
    "            start=datetime(2021, 12, 16),\n",
    "            end=datetime(2021, 12, 16, 3),\n",
    "            interval=\"30m\",\n",
    "            eager=True,\n",
    "        ),\n",
    "        \"groups\": [\"a\", \"a\", \"a\", \"b\", \"b\", \"a\", \"a\"],\n",
    "    }\n",
    ")\n",
    "print(df)"
   ]
  },
  {
   "cell_type": "code",
   "execution_count": 77,
   "metadata": {},
   "outputs": [
    {
     "name": "stdout",
     "output_type": "stream",
     "text": [
      "shape: (6, 5)\n",
      "┌────────┬─────────────────────┬─────────────────────┬─────────────────────┬─────┐\n",
      "│ groups ┆ _lower_boundary     ┆ _upper_boundary     ┆ time                ┆ len │\n",
      "│ ---    ┆ ---                 ┆ ---                 ┆ ---                 ┆ --- │\n",
      "│ str    ┆ datetime[μs]        ┆ datetime[μs]        ┆ datetime[μs]        ┆ u32 │\n",
      "╞════════╪═════════════════════╪═════════════════════╪═════════════════════╪═════╡\n",
      "│ a      ┆ 2021-12-16 00:00:00 ┆ 2021-12-16 01:00:00 ┆ 2021-12-16 00:00:00 ┆ 3   │\n",
      "│ a      ┆ 2021-12-16 01:00:00 ┆ 2021-12-16 02:00:00 ┆ 2021-12-16 01:00:00 ┆ 1   │\n",
      "│ a      ┆ 2021-12-16 02:00:00 ┆ 2021-12-16 03:00:00 ┆ 2021-12-16 02:00:00 ┆ 2   │\n",
      "│ a      ┆ 2021-12-16 03:00:00 ┆ 2021-12-16 04:00:00 ┆ 2021-12-16 03:00:00 ┆ 1   │\n",
      "│ b      ┆ 2021-12-16 01:00:00 ┆ 2021-12-16 02:00:00 ┆ 2021-12-16 01:00:00 ┆ 2   │\n",
      "│ b      ┆ 2021-12-16 02:00:00 ┆ 2021-12-16 03:00:00 ┆ 2021-12-16 02:00:00 ┆ 1   │\n",
      "└────────┴─────────────────────┴─────────────────────┴─────────────────────┴─────┘\n"
     ]
    }
   ],
   "source": [
    "out = df.group_by_dynamic(\n",
    "    \"time\",\n",
    "    every=\"1h\",\n",
    "    closed=\"both\",\n",
    "    group_by=\"groups\",\n",
    "    include_boundaries=True,\n",
    ").agg(pl.len())\n",
    "print(out)"
   ]
  },
  {
   "cell_type": "markdown",
   "metadata": {},
   "source": [
    "## Resampling\n",
    "### Downsampling\n",
    "Polars considera el muestreo por reducción (“downsampling”) como un caso especial de la operación group_by, y se puede hacer utilizando group_by_dynamic y group_by_rolling.\n",
    "\n",
    "## Upsampling"
   ]
  },
  {
   "cell_type": "code",
   "execution_count": 78,
   "metadata": {},
   "outputs": [
    {
     "name": "stdout",
     "output_type": "stream",
     "text": [
      "shape: (7, 3)\n",
      "┌─────────────────────┬────────┬────────┐\n",
      "│ time                ┆ groups ┆ values │\n",
      "│ ---                 ┆ ---    ┆ ---    │\n",
      "│ datetime[μs]        ┆ str    ┆ f64    │\n",
      "╞═════════════════════╪════════╪════════╡\n",
      "│ 2021-12-16 00:00:00 ┆ a      ┆ 1.0    │\n",
      "│ 2021-12-16 00:30:00 ┆ a      ┆ 2.0    │\n",
      "│ 2021-12-16 01:00:00 ┆ a      ┆ 3.0    │\n",
      "│ 2021-12-16 01:30:00 ┆ b      ┆ 4.0    │\n",
      "│ 2021-12-16 02:00:00 ┆ b      ┆ 5.0    │\n",
      "│ 2021-12-16 02:30:00 ┆ a      ┆ 6.0    │\n",
      "│ 2021-12-16 03:00:00 ┆ a      ┆ 7.0    │\n",
      "└─────────────────────┴────────┴────────┘\n"
     ]
    }
   ],
   "source": [
    "df = pl.DataFrame(\n",
    "    {\n",
    "        \"time\": pl.datetime_range(\n",
    "            start=datetime(2021, 12, 16),\n",
    "            end=datetime(2021, 12, 16, 3),\n",
    "            interval=\"30m\",\n",
    "            eager=True,\n",
    "        ),\n",
    "        \"groups\": [\"a\", \"a\", \"a\", \"b\", \"b\", \"a\", \"a\"],\n",
    "        \"values\": [1.0, 2.0, 3.0, 4.0, 5.0, 6.0, 7.0],\n",
    "    }\n",
    ")\n",
    "print(df)"
   ]
  },
  {
   "cell_type": "code",
   "execution_count": 79,
   "metadata": {},
   "outputs": [
    {
     "name": "stdout",
     "output_type": "stream",
     "text": [
      "shape: (13, 3)\n",
      "┌─────────────────────┬────────┬────────┐\n",
      "│ time                ┆ groups ┆ values │\n",
      "│ ---                 ┆ ---    ┆ ---    │\n",
      "│ datetime[μs]        ┆ str    ┆ f64    │\n",
      "╞═════════════════════╪════════╪════════╡\n",
      "│ 2021-12-16 00:00:00 ┆ a      ┆ 1.0    │\n",
      "│ 2021-12-16 00:15:00 ┆ a      ┆ 1.0    │\n",
      "│ 2021-12-16 00:30:00 ┆ a      ┆ 2.0    │\n",
      "│ 2021-12-16 00:45:00 ┆ a      ┆ 2.0    │\n",
      "│ 2021-12-16 01:00:00 ┆ a      ┆ 3.0    │\n",
      "│ …                   ┆ …      ┆ …      │\n",
      "│ 2021-12-16 02:00:00 ┆ b      ┆ 5.0    │\n",
      "│ 2021-12-16 02:15:00 ┆ b      ┆ 5.0    │\n",
      "│ 2021-12-16 02:30:00 ┆ a      ┆ 6.0    │\n",
      "│ 2021-12-16 02:45:00 ┆ a      ┆ 6.0    │\n",
      "│ 2021-12-16 03:00:00 ┆ a      ┆ 7.0    │\n",
      "└─────────────────────┴────────┴────────┘\n"
     ]
    }
   ],
   "source": [
    "out1 = df.upsample(time_column=\"time\", every=\"15m\").fill_null(strategy=\"forward\")\n",
    "print(out1)"
   ]
  },
  {
   "cell_type": "code",
   "execution_count": 80,
   "metadata": {},
   "outputs": [
    {
     "name": "stdout",
     "output_type": "stream",
     "text": [
      "shape: (13, 3)\n",
      "┌─────────────────────┬────────┬────────┐\n",
      "│ time                ┆ groups ┆ values │\n",
      "│ ---                 ┆ ---    ┆ ---    │\n",
      "│ datetime[μs]        ┆ str    ┆ f64    │\n",
      "╞═════════════════════╪════════╪════════╡\n",
      "│ 2021-12-16 00:00:00 ┆ a      ┆ 1.0    │\n",
      "│ 2021-12-16 00:15:00 ┆ a      ┆ 1.5    │\n",
      "│ 2021-12-16 00:30:00 ┆ a      ┆ 2.0    │\n",
      "│ 2021-12-16 00:45:00 ┆ a      ┆ 2.5    │\n",
      "│ 2021-12-16 01:00:00 ┆ a      ┆ 3.0    │\n",
      "│ …                   ┆ …      ┆ …      │\n",
      "│ 2021-12-16 02:00:00 ┆ b      ┆ 5.0    │\n",
      "│ 2021-12-16 02:15:00 ┆ b      ┆ 5.5    │\n",
      "│ 2021-12-16 02:30:00 ┆ a      ┆ 6.0    │\n",
      "│ 2021-12-16 02:45:00 ┆ a      ┆ 6.5    │\n",
      "│ 2021-12-16 03:00:00 ┆ a      ┆ 7.0    │\n",
      "└─────────────────────┴────────┴────────┘\n"
     ]
    }
   ],
   "source": [
    "out2 = (\n",
    "    df.upsample(time_column=\"time\", every=\"15m\")\n",
    "    .interpolate()\n",
    "    .fill_null(strategy=\"forward\")\n",
    ")\n",
    "print(out2)"
   ]
  },
  {
   "cell_type": "markdown",
   "metadata": {},
   "source": [
    "### Zona horaria\n",
    "El tipo de dato Datetime puede tener una zona horaria asociada. Ejemplos de zonas horarias válidas son:\n",
    "\n",
    "\t•\tNone: sin zona horaria, también conocida como “naive” o sin conciencia de zona horaria.\n",
    "\t•\tUTC: Tiempo Universal Coordinado.\n",
    "\t•\tAsia/Kathmandu: zona horaria en el formato “área/ubicación”. \n",
    "\n",
    "[Zonas horarias](https://en.wikipedia.org/wiki/List_of_tz_database_time_zones)\n",
    "\n",
    "Debido a que un Datetime solo puede tener una única zona horaria, es imposible tener una columna con múltiples zonas horarias. Si estás analizando datos con múltiples desplazamientos, es posible que desees pasar utc=True para convertirlos todos a una zona horaria común (UTC). Consulta la sección de análisis de fechas y horas para más detalles.\n",
    "\n",
    "Los métodos principales para establecer y convertir entre zonas horarias son:\n",
    "\n",
    "\t•\tdt.convert_time_zone: convierte de una zona horaria a otra.\n",
    "\t•\tdt.replace_time_zone: establece, elimina o cambia la zona horaria."
   ]
  },
  {
   "cell_type": "code",
   "execution_count": 81,
   "metadata": {},
   "outputs": [
    {
     "name": "stdout",
     "output_type": "stream",
     "text": [
      "shape: (2, 2)\n",
      "┌─────────────────────┬─────────────────────────┐\n",
      "│ tz_naive            ┆ tz_aware                │\n",
      "│ ---                 ┆ ---                     │\n",
      "│ datetime[μs]        ┆ datetime[μs, UTC]       │\n",
      "╞═════════════════════╪═════════════════════════╡\n",
      "│ 2021-03-27 03:00:00 ┆ 2021-03-27 03:00:00 UTC │\n",
      "│ 2021-03-28 03:00:00 ┆ 2021-03-28 03:00:00 UTC │\n",
      "└─────────────────────┴─────────────────────────┘\n"
     ]
    }
   ],
   "source": [
    "ts = [\"2021-03-27 03:00\", \"2021-03-28 03:00\"]\n",
    "tz_naive = pl.Series(\"tz_naive\", ts).str.to_datetime()\n",
    "tz_aware = tz_naive.dt.replace_time_zone(\"UTC\").rename(\"tz_aware\")\n",
    "time_zones_df = pl.DataFrame([tz_naive, tz_aware])\n",
    "print(time_zones_df)"
   ]
  },
  {
   "cell_type": "code",
   "execution_count": 82,
   "metadata": {},
   "outputs": [
    {
     "name": "stdout",
     "output_type": "stream",
     "text": [
      "shape: (2, 3)\n",
      "┌───────────────────────────────┬────────────────────────────────┬─────────────────────┐\n",
      "│ replace time zone             ┆ convert time zone              ┆ unset time zone     │\n",
      "│ ---                           ┆ ---                            ┆ ---                 │\n",
      "│ datetime[μs, Europe/Brussels] ┆ datetime[μs, America/Santiago] ┆ datetime[μs]        │\n",
      "╞═══════════════════════════════╪════════════════════════════════╪═════════════════════╡\n",
      "│ 2021-03-27 03:00:00 CET       ┆ 2021-03-27 00:00:00 -03        ┆ 2021-03-27 03:00:00 │\n",
      "│ 2021-03-28 03:00:00 CEST      ┆ 2021-03-28 00:00:00 -03        ┆ 2021-03-28 03:00:00 │\n",
      "└───────────────────────────────┴────────────────────────────────┴─────────────────────┘\n"
     ]
    }
   ],
   "source": [
    "time_zones_operations = time_zones_df.select(\n",
    "    [\n",
    "        pl.col(\"tz_aware\")\n",
    "        .dt.replace_time_zone(\"Europe/Brussels\")\n",
    "        .alias(\"replace time zone\"),\n",
    "        pl.col(\"tz_aware\")\n",
    "        .dt.convert_time_zone(\"America/Santiago\")\n",
    "        .alias(\"convert time zone\"),\n",
    "        pl.col(\"tz_aware\").dt.replace_time_zone(None).alias(\"unset time zone\"),\n",
    "    ]\n",
    ")\n",
    "print(time_zones_operations)"
   ]
  },
  {
   "cell_type": "markdown",
   "metadata": {},
   "source": [
    "# LazyFrames - Lazy"
   ]
  },
  {
   "cell_type": "markdown",
   "metadata": {},
   "source": [
    "Con la API lazy, Polars no ejecuta cada consulta línea por línea, sino que procesa la consulta completa de principio a fin. Para aprovechar al máximo Polars, es importante utilizar la API lazy porque:\n",
    "\n",
    "\t•\tLa API lazy permite que Polars aplique optimización automática de consultas con el optimizador de consultas.\n",
    "\t•\tLa API lazy  permite trabajar con conjuntos de datos más grandes que la memoria utilizando el streaming.\n",
    "\t•\tLa API lazy puede detectar errores de esquema antes de procesar los datos.\n",
    "\n",
    "A continuación, veremos cómo usar la API lazy partiendo de un archivo o un DataFrame existente."
   ]
  },
  {
   "cell_type": "markdown",
   "metadata": {},
   "source": [
    "## Desde archivo"
   ]
  },
  {
   "cell_type": "code",
   "execution_count": 83,
   "metadata": {},
   "outputs": [],
   "source": [
    "archivo = \"data/reddit.csv\"\n",
    "q1 = (\n",
    "    pl.scan_csv(archivo)\n",
    "    .with_columns(pl.col(\"name\").str.to_uppercase())\n",
    "    .filter(pl.col(\"comment_karma\") > 0)\n",
    ")"
   ]
  },
  {
   "cell_type": "code",
   "execution_count": 84,
   "metadata": {},
   "outputs": [
    {
     "data": {
      "text/html": [
       "<h4>NAIVE QUERY PLAN</h4><p>run <b>LazyFrame.show_graph()</b> to see the optimized version</p><?xml version=\"1.0\" encoding=\"UTF-8\" standalone=\"no\"?>\n",
       "<!DOCTYPE svg PUBLIC \"-//W3C//DTD SVG 1.1//EN\"\n",
       " \"http://www.w3.org/Graphics/SVG/1.1/DTD/svg11.dtd\">\n",
       "<!-- Generated by graphviz version 12.1.0 (20240811.2233)\n",
       " -->\n",
       "<!-- Title: polars_query Pages: 1 -->\n",
       "<svg width=\"294pt\" height=\"193pt\"\n",
       " viewBox=\"0.00 0.00 294.00 193.00\" xmlns=\"http://www.w3.org/2000/svg\" xmlns:xlink=\"http://www.w3.org/1999/xlink\">\n",
       "<g id=\"graph0\" class=\"graph\" transform=\"scale(1 1) rotate(0) translate(4 189)\">\n",
       "<title>polars_query</title>\n",
       "<polygon fill=\"white\" stroke=\"none\" points=\"-4,4 -4,-189 290,-189 290,4 -4,4\"/>\n",
       "<!-- p1 -->\n",
       "<g id=\"node1\" class=\"node\">\n",
       "<title>p1</title>\n",
       "<polygon fill=\"none\" stroke=\"black\" points=\"276.62,-185 9.38,-185 9.38,-149 276.62,-149 276.62,-185\"/>\n",
       "<text text-anchor=\"middle\" x=\"143\" y=\"-161.95\" font-family=\"Times,serif\" font-size=\"14.00\">FILTER BY [(col(&quot;comment_karma&quot;)) &gt; (0)]</text>\n",
       "</g>\n",
       "<!-- p2 -->\n",
       "<g id=\"node2\" class=\"node\">\n",
       "<title>p2</title>\n",
       "<polygon fill=\"none\" stroke=\"black\" points=\"286,-113 0,-113 0,-77 286,-77 286,-113\"/>\n",
       "<text text-anchor=\"middle\" x=\"143\" y=\"-89.95\" font-family=\"Times,serif\" font-size=\"14.00\">WITH COLUMNS [col(&quot;name&quot;).str.uppercase()]</text>\n",
       "</g>\n",
       "<!-- p1&#45;&#45;p2 -->\n",
       "<g id=\"edge1\" class=\"edge\">\n",
       "<title>p1&#45;&#45;p2</title>\n",
       "<path fill=\"none\" stroke=\"black\" d=\"M143,-148.7C143,-137.85 143,-123.92 143,-113.1\"/>\n",
       "</g>\n",
       "<!-- p3 -->\n",
       "<g id=\"node3\" class=\"node\">\n",
       "<title>p3</title>\n",
       "<polygon fill=\"none\" stroke=\"black\" points=\"227.5,-41 58.5,-41 58.5,0 227.5,0 227.5,-41\"/>\n",
       "<text text-anchor=\"middle\" x=\"143\" y=\"-23.7\" font-family=\"Times,serif\" font-size=\"14.00\">Csv SCAN [data/reddit.csv]</text>\n",
       "<text text-anchor=\"middle\" x=\"143\" y=\"-7.2\" font-family=\"Times,serif\" font-size=\"14.00\">π */6;</text>\n",
       "</g>\n",
       "<!-- p2&#45;&#45;p3 -->\n",
       "<g id=\"edge2\" class=\"edge\">\n",
       "<title>p2&#45;&#45;p3</title>\n",
       "<path fill=\"none\" stroke=\"black\" d=\"M143,-76.82C143,-66.18 143,-52.49 143,-41.38\"/>\n",
       "</g>\n",
       "</g>\n",
       "</svg>\n"
      ],
      "text/plain": [
       "<LazyFrame at 0x10834CCE0>"
      ]
     },
     "execution_count": 84,
     "metadata": {},
     "output_type": "execute_result"
    }
   ],
   "source": [
    "q1"
   ]
  },
  {
   "cell_type": "markdown",
   "metadata": {},
   "source": [
    "Una función pl.scan_ existe para diferentes formatos como CSV, IPC, Parquet y JSON. \n",
    "\n",
    "En el ejemplo la query no se ejecuta, sino se planea y aplica optimizaciones (https://docs.pola.rs/user-guide/lazy/optimizations/)."
   ]
  },
  {
   "cell_type": "code",
   "execution_count": 85,
   "metadata": {},
   "outputs": [],
   "source": [
    "q3 = pl.DataFrame({\"foo\": [\"a\", \"b\", \"c\"], \"bar\": [0, 1, 2]}).lazy()"
   ]
  },
  {
   "cell_type": "code",
   "execution_count": 86,
   "metadata": {},
   "outputs": [
    {
     "name": "stdout",
     "output_type": "stream",
     "text": [
      "Schema({'foo': String, 'bar': Int64})\n"
     ]
    }
   ],
   "source": [
    "print(q3.collect_schema())"
   ]
  },
  {
   "cell_type": "code",
   "execution_count": 87,
   "metadata": {},
   "outputs": [],
   "source": [
    "lf = pl.LazyFrame({\"foo\": [\"a\", \"b\", \"c\"], \"bar\": [0, 1, 2]}).with_columns(\n",
    "    pl.col(\"bar\").round(0)\n",
    ")"
   ]
  },
  {
   "cell_type": "code",
   "execution_count": 88,
   "metadata": {},
   "outputs": [
    {
     "data": {
      "text/html": [
       "<h4>NAIVE QUERY PLAN</h4><p>run <b>LazyFrame.show_graph()</b> to see the optimized version</p><?xml version=\"1.0\" encoding=\"UTF-8\" standalone=\"no\"?>\n",
       "<!DOCTYPE svg PUBLIC \"-//W3C//DTD SVG 1.1//EN\"\n",
       " \"http://www.w3.org/Graphics/SVG/1.1/DTD/svg11.dtd\">\n",
       "<!-- Generated by graphviz version 12.1.0 (20240811.2233)\n",
       " -->\n",
       "<!-- Title: polars_query Pages: 1 -->\n",
       "<svg width=\"242pt\" height=\"138pt\"\n",
       " viewBox=\"0.00 0.00 242.25 137.50\" xmlns=\"http://www.w3.org/2000/svg\" xmlns:xlink=\"http://www.w3.org/1999/xlink\">\n",
       "<g id=\"graph0\" class=\"graph\" transform=\"scale(1 1) rotate(0) translate(4 133.5)\">\n",
       "<title>polars_query</title>\n",
       "<polygon fill=\"white\" stroke=\"none\" points=\"-4,4 -4,-133.5 238.25,-133.5 238.25,4 -4,4\"/>\n",
       "<!-- p1 -->\n",
       "<g id=\"node1\" class=\"node\">\n",
       "<title>p1</title>\n",
       "<polygon fill=\"none\" stroke=\"black\" points=\"234.25,-129.5 0,-129.5 0,-93.5 234.25,-93.5 234.25,-129.5\"/>\n",
       "<text text-anchor=\"middle\" x=\"117.12\" y=\"-106.45\" font-family=\"Times,serif\" font-size=\"14.00\">WITH COLUMNS [col(&quot;bar&quot;).round()]</text>\n",
       "</g>\n",
       "<!-- p2 -->\n",
       "<g id=\"node2\" class=\"node\">\n",
       "<title>p2</title>\n",
       "<polygon fill=\"none\" stroke=\"black\" points=\"146.88,-57.5 87.38,-57.5 87.38,0 146.88,0 146.88,-57.5\"/>\n",
       "<text text-anchor=\"middle\" x=\"117.12\" y=\"-40.2\" font-family=\"Times,serif\" font-size=\"14.00\">TABLE</text>\n",
       "<text text-anchor=\"middle\" x=\"117.12\" y=\"-23.7\" font-family=\"Times,serif\" font-size=\"14.00\">π */2;</text>\n",
       "<text text-anchor=\"middle\" x=\"117.12\" y=\"-7.2\" font-family=\"Times,serif\" font-size=\"14.00\">σ None</text>\n",
       "</g>\n",
       "<!-- p1&#45;&#45;p2 -->\n",
       "<g id=\"edge1\" class=\"edge\">\n",
       "<title>p1&#45;&#45;p2</title>\n",
       "<path fill=\"none\" stroke=\"black\" d=\"M117.12,-93.38C117.12,-83.1 117.12,-69.77 117.12,-57.97\"/>\n",
       "</g>\n",
       "</g>\n",
       "</svg>\n"
      ],
      "text/plain": [
       "<LazyFrame at 0x11A6852B0>"
      ]
     },
     "execution_count": 88,
     "metadata": {},
     "output_type": "execute_result"
    }
   ],
   "source": [
    "lf"
   ]
  },
  {
   "cell_type": "code",
   "execution_count": 89,
   "metadata": {},
   "outputs": [
    {
     "name": "stdout",
     "output_type": "stream",
     "text": [
      "shape: (3, 2)\n",
      "┌─────┬─────┐\n",
      "│ foo ┆ bar │\n",
      "│ --- ┆ --- │\n",
      "│ str ┆ i64 │\n",
      "╞═════╪═════╡\n",
      "│ a   ┆ 0   │\n",
      "│ b   ┆ 1   │\n",
      "│ c   ┆ 2   │\n",
      "└─────┴─────┘\n"
     ]
    }
   ],
   "source": [
    "try:\n",
    "    print(lf.collect())\n",
    "except Exception as e:\n",
    "    print(e)"
   ]
  },
  {
   "cell_type": "markdown",
   "metadata": {},
   "source": [
    "En la API lazy, el optimizador de consultas de Polars debe ser capaz de inferir el esquema en cada paso de un plan de consulta. Esto significa que las operaciones donde el esquema no es predecible de antemano no pueden utilizarse con la API lazy.\n",
    "\n",
    "El ejemplo clásico de una operación donde el esquema no es predecible es una operación .pivot. En un .pivot, los nuevos nombres de columnas provienen de datos en una de las columnas. Como estos nombres de columnas no se pueden conocer de antemano, una operación .pivot no está disponible en la API lazy."
   ]
  },
  {
   "cell_type": "markdown",
   "metadata": {},
   "source": [
    "## Operaciones que no tienen lazy disponible \n",
    "Si el pipeline incluye una operación que no está disponible en la API lazy, lo mejor es:\n",
    "\n",
    "\t1.\tEjecutar el pipeline en modo lazy hasta ese punto.\n",
    "\t2.\tEjecutar el pipeline con .collect para materializar un DataFrame.\n",
    "\t3.\tRealizar la operación no-lazy en el DataFrame.\n",
    "\t4.\tConvertir la salida nuevamente a un LazyFrame con .lazy y continuar en modo lazy.\n",
    "\n",
    "A continuación, mostramos cómo manejar una operación no-lazy en este ejemplo donde:\n",
    "\n",
    "\t1.\tCreamos un DataFrame simple.\n",
    "\t2.\tLo convertimos a un LazyFrame con .lazy.\n",
    "\t3.\tRealizamos una transformación usando .with_columns.\n",
    "\t4.\tEjecutamos la consulta antes del pivot con .collect para obtener un DataFrame.\n",
    "\t5.\tRealizamos el .pivot en el DataFrame.\n",
    "\t6.\tConvertimos nuevamente al modo lazy.\n",
    "\t7.\tRealizamos un .filter.\n",
    "\t8.\tFinalizamos ejecutando la consulta con .collect para obtener un DataFrame."
   ]
  },
  {
   "cell_type": "code",
   "execution_count": 90,
   "metadata": {},
   "outputs": [
    {
     "name": "stdout",
     "output_type": "stream",
     "text": [
      "shape: (2, 4)\n",
      "┌─────┬──────┬──────┬──────┐\n",
      "│ id  ┆ jan  ┆ feb  ┆ mar  │\n",
      "│ --- ┆ ---  ┆ ---  ┆ ---  │\n",
      "│ str ┆ i64  ┆ i64  ┆ i64  │\n",
      "╞═════╪══════╪══════╪══════╡\n",
      "│ a   ┆ 0    ┆ null ┆ null │\n",
      "│ b   ┆ null ┆ 2    ┆ null │\n",
      "└─────┴──────┴──────┴──────┘\n"
     ]
    }
   ],
   "source": [
    "lazy_eager_query = (\n",
    "    pl.LazyFrame(\n",
    "        {\n",
    "            \"id\": [\"a\", \"b\", \"c\"],\n",
    "            \"month\": [\"jan\", \"feb\", \"mar\"],\n",
    "            \"values\": [0, 1, 2],\n",
    "        }\n",
    "    )\n",
    "    .with_columns((2 * pl.col(\"values\")).alias(\"double_values\"))\n",
    "    .collect()\n",
    "    .pivot(index=\"id\", on=\"month\", values=\"double_values\", aggregate_function=\"first\")\n",
    "    .lazy()\n",
    "    .filter(pl.col(\"mar\").is_null())\n",
    "    .collect()\n",
    ")\n",
    "print(lazy_eager_query)"
   ]
  },
  {
   "cell_type": "markdown",
   "metadata": {},
   "source": [
    "## Plan de query"
   ]
  },
  {
   "cell_type": "code",
   "execution_count": 91,
   "metadata": {},
   "outputs": [],
   "source": [
    "q1 = (\n",
    "    pl.scan_csv(\"data/reddit.csv\")\n",
    "    .with_columns(pl.col(\"name\").str.to_uppercase())\n",
    "    .filter(pl.col(\"comment_karma\") > 0)\n",
    ")"
   ]
  },
  {
   "cell_type": "code",
   "execution_count": 92,
   "metadata": {},
   "outputs": [
    {
     "data": {
      "image/svg+xml": [
       "<svg xmlns=\"http://www.w3.org/2000/svg\" xmlns:xlink=\"http://www.w3.org/1999/xlink\" width=\"294pt\" height=\"193pt\" viewBox=\"0.00 0.00 294.00 193.00\">\n",
       "<g id=\"graph0\" class=\"graph\" transform=\"scale(1 1) rotate(0) translate(4 189)\">\n",
       "<title>polars_query</title>\n",
       "<polygon fill=\"white\" stroke=\"none\" points=\"-4,4 -4,-189 290,-189 290,4 -4,4\"/>\n",
       "<!-- p1 -->\n",
       "<g id=\"node1\" class=\"node\">\n",
       "<title>p1</title>\n",
       "<polygon fill=\"none\" stroke=\"black\" points=\"276.62,-185 9.38,-185 9.38,-149 276.62,-149 276.62,-185\"/>\n",
       "<text text-anchor=\"middle\" x=\"143\" y=\"-161.95\" font-family=\"Times,serif\" font-size=\"14.00\">FILTER BY [(col(&quot;comment_karma&quot;)) &gt; (0)]</text>\n",
       "</g>\n",
       "<!-- p2 -->\n",
       "<g id=\"node2\" class=\"node\">\n",
       "<title>p2</title>\n",
       "<polygon fill=\"none\" stroke=\"black\" points=\"286,-113 0,-113 0,-77 286,-77 286,-113\"/>\n",
       "<text text-anchor=\"middle\" x=\"143\" y=\"-89.95\" font-family=\"Times,serif\" font-size=\"14.00\">WITH COLUMNS [col(&quot;name&quot;).str.uppercase()]</text>\n",
       "</g>\n",
       "<!-- p1&#45;&#45;p2 -->\n",
       "<g id=\"edge1\" class=\"edge\">\n",
       "<title>p1--p2</title>\n",
       "<path fill=\"none\" stroke=\"black\" d=\"M143,-148.7C143,-137.85 143,-123.92 143,-113.1\"/>\n",
       "</g>\n",
       "<!-- p3 -->\n",
       "<g id=\"node3\" class=\"node\">\n",
       "<title>p3</title>\n",
       "<polygon fill=\"none\" stroke=\"black\" points=\"227.5,-41 58.5,-41 58.5,0 227.5,0 227.5,-41\"/>\n",
       "<text text-anchor=\"middle\" x=\"143\" y=\"-23.7\" font-family=\"Times,serif\" font-size=\"14.00\">Csv SCAN [data/reddit.csv]</text>\n",
       "<text text-anchor=\"middle\" x=\"143\" y=\"-7.2\" font-family=\"Times,serif\" font-size=\"14.00\">π */6;</text>\n",
       "</g>\n",
       "<!-- p2&#45;&#45;p3 -->\n",
       "<g id=\"edge2\" class=\"edge\">\n",
       "<title>p2--p3</title>\n",
       "<path fill=\"none\" stroke=\"black\" d=\"M143,-76.82C143,-66.18 143,-52.49 143,-41.38\"/>\n",
       "</g>\n",
       "</g>\n",
       "</svg>"
      ],
      "text/plain": [
       "<IPython.core.display.SVG object>"
      ]
     },
     "metadata": {},
     "output_type": "display_data"
    }
   ],
   "source": [
    "q1.show_graph(optimized=False)"
   ]
  },
  {
   "cell_type": "code",
   "execution_count": 93,
   "metadata": {},
   "outputs": [
    {
     "data": {
      "image/svg+xml": [
       "<svg xmlns=\"http://www.w3.org/2000/svg\" xmlns:xlink=\"http://www.w3.org/1999/xlink\" width=\"294pt\" height=\"138pt\" viewBox=\"0.00 0.00 294.00 137.50\">\n",
       "<g id=\"graph0\" class=\"graph\" transform=\"scale(1 1) rotate(0) translate(4 133.5)\">\n",
       "<title>polars_query</title>\n",
       "<polygon fill=\"white\" stroke=\"none\" points=\"-4,4 -4,-133.5 290,-133.5 290,4 -4,4\"/>\n",
       "<!-- p1 -->\n",
       "<g id=\"node1\" class=\"node\">\n",
       "<title>p1</title>\n",
       "<polygon fill=\"none\" stroke=\"black\" points=\"286,-129.5 0,-129.5 0,-93.5 286,-93.5 286,-129.5\"/>\n",
       "<text text-anchor=\"middle\" x=\"143\" y=\"-106.45\" font-family=\"Times,serif\" font-size=\"14.00\">WITH COLUMNS [col(&quot;name&quot;).str.uppercase()]</text>\n",
       "</g>\n",
       "<!-- p2 -->\n",
       "<g id=\"node2\" class=\"node\">\n",
       "<title>p2</title>\n",
       "<polygon fill=\"none\" stroke=\"black\" points=\"246.62,-57.5 39.37,-57.5 39.37,0 246.62,0 246.62,-57.5\"/>\n",
       "<text text-anchor=\"middle\" x=\"143\" y=\"-40.2\" font-family=\"Times,serif\" font-size=\"14.00\">Csv SCAN [data/reddit.csv]</text>\n",
       "<text text-anchor=\"middle\" x=\"143\" y=\"-23.7\" font-family=\"Times,serif\" font-size=\"14.00\">π */6;</text>\n",
       "<text text-anchor=\"middle\" x=\"143\" y=\"-7.2\" font-family=\"Times,serif\" font-size=\"14.00\">σ [(col(&quot;comment_karma&quot;)) &gt; (0)]</text>\n",
       "</g>\n",
       "<!-- p1&#45;&#45;p2 -->\n",
       "<g id=\"edge1\" class=\"edge\">\n",
       "<title>p1--p2</title>\n",
       "<path fill=\"none\" stroke=\"black\" d=\"M143,-93.38C143,-83.1 143,-69.77 143,-57.97\"/>\n",
       "</g>\n",
       "</g>\n",
       "</svg>"
      ],
      "text/plain": [
       "<IPython.core.display.SVG object>"
      ]
     },
     "metadata": {},
     "output_type": "display_data"
    }
   ],
   "source": [
    "q1.show_graph(optimized=True)"
   ]
  },
  {
   "cell_type": "code",
   "execution_count": 94,
   "metadata": {},
   "outputs": [
    {
     "data": {
      "text/plain": [
       "'FILTER [(col(\"comment_karma\")) > (0)] FROM\\n   WITH_COLUMNS:\\n   [col(\"name\").str.uppercase()] \\n    Csv SCAN [data/reddit.csv]\\n    PROJECT */6 COLUMNS'"
      ]
     },
     "execution_count": 94,
     "metadata": {},
     "output_type": "execute_result"
    }
   ],
   "source": [
    "q1.explain(optimized=False)"
   ]
  },
  {
   "cell_type": "markdown",
   "metadata": {},
   "source": [
    "## Ejecución de query\n",
    "Si ejecutáramos el código siguiente en el archivo CSV de Reddit, la consulta no se evaluaría de inmediato. En lugar de eso, Polars toma cada línea de código, la agrega al grafo de consulta interno y optimiza dicho grafo.\n",
    "\n",
    "Cuando ejecutamos el código, Polars ejecuta el grafo de consulta optimizado de manera predeterminada."
   ]
  },
  {
   "cell_type": "code",
   "execution_count": 95,
   "metadata": {},
   "outputs": [],
   "source": [
    "q1 = (\n",
    "    pl.scan_csv(\"data/reddit.csv\")\n",
    "    .with_columns(pl.col(\"name\").str.to_uppercase())\n",
    "    .filter(pl.col(\"comment_karma\") > 0)\n",
    ")"
   ]
  },
  {
   "cell_type": "markdown",
   "metadata": {},
   "source": [
    "### Ejecución en todo el dataset\n",
    "Podemos ejecutar nuestra consulta en el conjunto de datos completo llamando al método .collect en la consulta."
   ]
  },
  {
   "cell_type": "code",
   "execution_count": 96,
   "metadata": {},
   "outputs": [],
   "source": [
    "q4 = (\n",
    "    pl.scan_csv(f\"data/reddit.csv\")\n",
    "    .with_columns(pl.col(\"name\").str.to_uppercase())\n",
    "    .filter(pl.col(\"comment_karma\") > 0)\n",
    "    .collect()\n",
    ")"
   ]
  },
  {
   "cell_type": "code",
   "execution_count": 97,
   "metadata": {},
   "outputs": [
    {
     "data": {
      "text/html": [
       "<div><style>\n",
       ".dataframe > thead > tr,\n",
       ".dataframe > tbody > tr {\n",
       "  text-align: right;\n",
       "  white-space: pre-wrap;\n",
       "}\n",
       "</style>\n",
       "<small>shape: (27, 6)</small><table border=\"1\" class=\"dataframe\"><thead><tr><th>id</th><th>name</th><th>created_utc</th><th>updated_on</th><th>comment_karma</th><th>link_karma</th></tr><tr><td>i64</td><td>str</td><td>i64</td><td>i64</td><td>i64</td><td>i64</td></tr></thead><tbody><tr><td>6</td><td>&quot;TAOJIANLONG_JASONBROKEN&quot;</td><td>1397113510</td><td>1536527864</td><td>4</td><td>0</td></tr><tr><td>17</td><td>&quot;SSAIG_JASONBROKEN&quot;</td><td>1397113544</td><td>1536527864</td><td>1</td><td>0</td></tr><tr><td>19</td><td>&quot;FDBVFDSSDGFDS_JASONBROKEN&quot;</td><td>1397113552</td><td>1536527864</td><td>3</td><td>0</td></tr><tr><td>37</td><td>&quot;IHATEWHOWEARE_JASONBROKEN&quot;</td><td>1397113636</td><td>1536527864</td><td>61</td><td>0</td></tr><tr><td>77714</td><td>&quot;HOCKEYSCHTICK&quot;</td><td>1137474000</td><td>1536497404</td><td>11104</td><td>451</td></tr><tr><td>&hellip;</td><td>&hellip;</td><td>&hellip;</td><td>&hellip;</td><td>&hellip;</td><td>&hellip;</td></tr><tr><td>77762</td><td>&quot;COOLIN86&quot;</td><td>1138303196</td><td>1536528275</td><td>40</td><td>7</td></tr><tr><td>77763</td><td>&quot;LUNCHY&quot;</td><td>1137599510</td><td>1536528275</td><td>65</td><td>0</td></tr><tr><td>77765</td><td>&quot;COMPOSTELLAS&quot;</td><td>1137474000</td><td>1536528276</td><td>6</td><td>0</td></tr><tr><td>77766</td><td>&quot;GENERICBOB&quot;</td><td>1137474000</td><td>1536528276</td><td>291</td><td>14</td></tr><tr><td>77768</td><td>&quot;TINHEADNED&quot;</td><td>1139665457</td><td>1536497404</td><td>4434</td><td>103</td></tr></tbody></table></div>"
      ],
      "text/plain": [
       "shape: (27, 6)\n",
       "┌───────┬───────────────────────────┬─────────────┬────────────┬───────────────┬────────────┐\n",
       "│ id    ┆ name                      ┆ created_utc ┆ updated_on ┆ comment_karma ┆ link_karma │\n",
       "│ ---   ┆ ---                       ┆ ---         ┆ ---        ┆ ---           ┆ ---        │\n",
       "│ i64   ┆ str                       ┆ i64         ┆ i64        ┆ i64           ┆ i64        │\n",
       "╞═══════╪═══════════════════════════╪═════════════╪════════════╪═══════════════╪════════════╡\n",
       "│ 6     ┆ TAOJIANLONG_JASONBROKEN   ┆ 1397113510  ┆ 1536527864 ┆ 4             ┆ 0          │\n",
       "│ 17    ┆ SSAIG_JASONBROKEN         ┆ 1397113544  ┆ 1536527864 ┆ 1             ┆ 0          │\n",
       "│ 19    ┆ FDBVFDSSDGFDS_JASONBROKEN ┆ 1397113552  ┆ 1536527864 ┆ 3             ┆ 0          │\n",
       "│ 37    ┆ IHATEWHOWEARE_JASONBROKEN ┆ 1397113636  ┆ 1536527864 ┆ 61            ┆ 0          │\n",
       "│ 77714 ┆ HOCKEYSCHTICK             ┆ 1137474000  ┆ 1536497404 ┆ 11104         ┆ 451        │\n",
       "│ …     ┆ …                         ┆ …           ┆ …          ┆ …             ┆ …          │\n",
       "│ 77762 ┆ COOLIN86                  ┆ 1138303196  ┆ 1536528275 ┆ 40            ┆ 7          │\n",
       "│ 77763 ┆ LUNCHY                    ┆ 1137599510  ┆ 1536528275 ┆ 65            ┆ 0          │\n",
       "│ 77765 ┆ COMPOSTELLAS              ┆ 1137474000  ┆ 1536528276 ┆ 6             ┆ 0          │\n",
       "│ 77766 ┆ GENERICBOB                ┆ 1137474000  ┆ 1536528276 ┆ 291           ┆ 14         │\n",
       "│ 77768 ┆ TINHEADNED                ┆ 1139665457  ┆ 1536497404 ┆ 4434          ┆ 103        │\n",
       "└───────┴───────────────────────────┴─────────────┴────────────┴───────────────┴────────────┘"
      ]
     },
     "execution_count": 97,
     "metadata": {},
     "output_type": "execute_result"
    }
   ],
   "source": [
    "q4"
   ]
  },
  {
   "cell_type": "markdown",
   "metadata": {},
   "source": [
    "Con el método predeterminado .collect, Polars procesa todos tus datos como un solo lote. Esto significa que todos los datos deben caber en la memoria disponible en el punto de mayor uso de memoria durante la consulta.\n",
    "\n",
    "Si tus datos requieren más memoria de la que tienes disponible, Polars puede procesar los datos en lotes utilizando el modo de streaming. Para usar el modo de streaming, simplemente debes pasar el argumento streaming=True al método .collect."
   ]
  },
  {
   "cell_type": "markdown",
   "metadata": {},
   "source": [
    "### Ejecución en datos parciales\n",
    "Mientras escribes, optimizas o verificas tu consulta en un conjunto de datos grande, consultar todos los datos disponibles puede llevar a un proceso de desarrollo lento.\n",
    "\n",
    "En su lugar, puedes ejecutar la consulta con el método .fetch. El método .fetch toma un parámetro n_rows e intenta “obtener” esa cantidad de filas de la fuente de datos. Sin embargo, el número de filas no puede garantizarse, ya que la API lazy no cuenta cuántas filas hay en cada etapa de la consulta.\n"
   ]
  },
  {
   "cell_type": "code",
   "execution_count": 98,
   "metadata": {},
   "outputs": [
    {
     "name": "stderr",
     "output_type": "stream",
     "text": [
      "/var/folders/tx/knx9c43n5fd4_nn752k9dxs00000gn/T/ipykernel_24162/595868360.py:5: DeprecationWarning: `LazyFrame.fetch` is deprecated. `LazyFrame.fetch` is deprecated; use `LazyFrame.collect` instead, in conjunction with a call to `head`.\n",
      "  .fetch(n_rows=int(100))\n"
     ]
    },
    {
     "data": {
      "text/html": [
       "<div><style>\n",
       ".dataframe > thead > tr,\n",
       ".dataframe > tbody > tr {\n",
       "  text-align: right;\n",
       "  white-space: pre-wrap;\n",
       "}\n",
       "</style>\n",
       "<small>shape: (27, 6)</small><table border=\"1\" class=\"dataframe\"><thead><tr><th>id</th><th>name</th><th>created_utc</th><th>updated_on</th><th>comment_karma</th><th>link_karma</th></tr><tr><td>i64</td><td>str</td><td>i64</td><td>i64</td><td>i64</td><td>i64</td></tr></thead><tbody><tr><td>6</td><td>&quot;TAOJIANLONG_JASONBROKEN&quot;</td><td>1397113510</td><td>1536527864</td><td>4</td><td>0</td></tr><tr><td>17</td><td>&quot;SSAIG_JASONBROKEN&quot;</td><td>1397113544</td><td>1536527864</td><td>1</td><td>0</td></tr><tr><td>19</td><td>&quot;FDBVFDSSDGFDS_JASONBROKEN&quot;</td><td>1397113552</td><td>1536527864</td><td>3</td><td>0</td></tr><tr><td>37</td><td>&quot;IHATEWHOWEARE_JASONBROKEN&quot;</td><td>1397113636</td><td>1536527864</td><td>61</td><td>0</td></tr><tr><td>77714</td><td>&quot;HOCKEYSCHTICK&quot;</td><td>1137474000</td><td>1536497404</td><td>11104</td><td>451</td></tr><tr><td>&hellip;</td><td>&hellip;</td><td>&hellip;</td><td>&hellip;</td><td>&hellip;</td><td>&hellip;</td></tr><tr><td>77762</td><td>&quot;COOLIN86&quot;</td><td>1138303196</td><td>1536528275</td><td>40</td><td>7</td></tr><tr><td>77763</td><td>&quot;LUNCHY&quot;</td><td>1137599510</td><td>1536528275</td><td>65</td><td>0</td></tr><tr><td>77765</td><td>&quot;COMPOSTELLAS&quot;</td><td>1137474000</td><td>1536528276</td><td>6</td><td>0</td></tr><tr><td>77766</td><td>&quot;GENERICBOB&quot;</td><td>1137474000</td><td>1536528276</td><td>291</td><td>14</td></tr><tr><td>77768</td><td>&quot;TINHEADNED&quot;</td><td>1139665457</td><td>1536497404</td><td>4434</td><td>103</td></tr></tbody></table></div>"
      ],
      "text/plain": [
       "shape: (27, 6)\n",
       "┌───────┬───────────────────────────┬─────────────┬────────────┬───────────────┬────────────┐\n",
       "│ id    ┆ name                      ┆ created_utc ┆ updated_on ┆ comment_karma ┆ link_karma │\n",
       "│ ---   ┆ ---                       ┆ ---         ┆ ---        ┆ ---           ┆ ---        │\n",
       "│ i64   ┆ str                       ┆ i64         ┆ i64        ┆ i64           ┆ i64        │\n",
       "╞═══════╪═══════════════════════════╪═════════════╪════════════╪═══════════════╪════════════╡\n",
       "│ 6     ┆ TAOJIANLONG_JASONBROKEN   ┆ 1397113510  ┆ 1536527864 ┆ 4             ┆ 0          │\n",
       "│ 17    ┆ SSAIG_JASONBROKEN         ┆ 1397113544  ┆ 1536527864 ┆ 1             ┆ 0          │\n",
       "│ 19    ┆ FDBVFDSSDGFDS_JASONBROKEN ┆ 1397113552  ┆ 1536527864 ┆ 3             ┆ 0          │\n",
       "│ 37    ┆ IHATEWHOWEARE_JASONBROKEN ┆ 1397113636  ┆ 1536527864 ┆ 61            ┆ 0          │\n",
       "│ 77714 ┆ HOCKEYSCHTICK             ┆ 1137474000  ┆ 1536497404 ┆ 11104         ┆ 451        │\n",
       "│ …     ┆ …                         ┆ …           ┆ …          ┆ …             ┆ …          │\n",
       "│ 77762 ┆ COOLIN86                  ┆ 1138303196  ┆ 1536528275 ┆ 40            ┆ 7          │\n",
       "│ 77763 ┆ LUNCHY                    ┆ 1137599510  ┆ 1536528275 ┆ 65            ┆ 0          │\n",
       "│ 77765 ┆ COMPOSTELLAS              ┆ 1137474000  ┆ 1536528276 ┆ 6             ┆ 0          │\n",
       "│ 77766 ┆ GENERICBOB                ┆ 1137474000  ┆ 1536528276 ┆ 291           ┆ 14         │\n",
       "│ 77768 ┆ TINHEADNED                ┆ 1139665457  ┆ 1536497404 ┆ 4434          ┆ 103        │\n",
       "└───────┴───────────────────────────┴─────────────┴────────────┴───────────────┴────────────┘"
      ]
     },
     "execution_count": 98,
     "metadata": {},
     "output_type": "execute_result"
    }
   ],
   "source": [
    "q9 = (\n",
    "    pl.scan_csv(f\"data/reddit.csv\")\n",
    "    .with_columns(pl.col(\"name\").str.to_uppercase())\n",
    "    .filter(pl.col(\"comment_karma\") > 0)\n",
    "    .fetch(n_rows=int(100))\n",
    ")\n",
    "q9"
   ]
  },
  {
   "cell_type": "code",
   "execution_count": 99,
   "metadata": {},
   "outputs": [
    {
     "data": {
      "text/html": [
       "<div><style>\n",
       ".dataframe > thead > tr,\n",
       ".dataframe > tbody > tr {\n",
       "  text-align: right;\n",
       "  white-space: pre-wrap;\n",
       "}\n",
       "</style>\n",
       "<small>shape: (27, 6)</small><table border=\"1\" class=\"dataframe\"><thead><tr><th>id</th><th>name</th><th>created_utc</th><th>updated_on</th><th>comment_karma</th><th>link_karma</th></tr><tr><td>i64</td><td>str</td><td>i64</td><td>i64</td><td>i64</td><td>i64</td></tr></thead><tbody><tr><td>6</td><td>&quot;TAOJIANLONG_JASONBROKEN&quot;</td><td>1397113510</td><td>1536527864</td><td>4</td><td>0</td></tr><tr><td>17</td><td>&quot;SSAIG_JASONBROKEN&quot;</td><td>1397113544</td><td>1536527864</td><td>1</td><td>0</td></tr><tr><td>19</td><td>&quot;FDBVFDSSDGFDS_JASONBROKEN&quot;</td><td>1397113552</td><td>1536527864</td><td>3</td><td>0</td></tr><tr><td>37</td><td>&quot;IHATEWHOWEARE_JASONBROKEN&quot;</td><td>1397113636</td><td>1536527864</td><td>61</td><td>0</td></tr><tr><td>77714</td><td>&quot;HOCKEYSCHTICK&quot;</td><td>1137474000</td><td>1536497404</td><td>11104</td><td>451</td></tr><tr><td>&hellip;</td><td>&hellip;</td><td>&hellip;</td><td>&hellip;</td><td>&hellip;</td><td>&hellip;</td></tr><tr><td>77762</td><td>&quot;COOLIN86&quot;</td><td>1138303196</td><td>1536528275</td><td>40</td><td>7</td></tr><tr><td>77763</td><td>&quot;LUNCHY&quot;</td><td>1137599510</td><td>1536528275</td><td>65</td><td>0</td></tr><tr><td>77765</td><td>&quot;COMPOSTELLAS&quot;</td><td>1137474000</td><td>1536528276</td><td>6</td><td>0</td></tr><tr><td>77766</td><td>&quot;GENERICBOB&quot;</td><td>1137474000</td><td>1536528276</td><td>291</td><td>14</td></tr><tr><td>77768</td><td>&quot;TINHEADNED&quot;</td><td>1139665457</td><td>1536497404</td><td>4434</td><td>103</td></tr></tbody></table></div>"
      ],
      "text/plain": [
       "shape: (27, 6)\n",
       "┌───────┬───────────────────────────┬─────────────┬────────────┬───────────────┬────────────┐\n",
       "│ id    ┆ name                      ┆ created_utc ┆ updated_on ┆ comment_karma ┆ link_karma │\n",
       "│ ---   ┆ ---                       ┆ ---         ┆ ---        ┆ ---           ┆ ---        │\n",
       "│ i64   ┆ str                       ┆ i64         ┆ i64        ┆ i64           ┆ i64        │\n",
       "╞═══════╪═══════════════════════════╪═════════════╪════════════╪═══════════════╪════════════╡\n",
       "│ 6     ┆ TAOJIANLONG_JASONBROKEN   ┆ 1397113510  ┆ 1536527864 ┆ 4             ┆ 0          │\n",
       "│ 17    ┆ SSAIG_JASONBROKEN         ┆ 1397113544  ┆ 1536527864 ┆ 1             ┆ 0          │\n",
       "│ 19    ┆ FDBVFDSSDGFDS_JASONBROKEN ┆ 1397113552  ┆ 1536527864 ┆ 3             ┆ 0          │\n",
       "│ 37    ┆ IHATEWHOWEARE_JASONBROKEN ┆ 1397113636  ┆ 1536527864 ┆ 61            ┆ 0          │\n",
       "│ 77714 ┆ HOCKEYSCHTICK             ┆ 1137474000  ┆ 1536497404 ┆ 11104         ┆ 451        │\n",
       "│ …     ┆ …                         ┆ …           ┆ …          ┆ …             ┆ …          │\n",
       "│ 77762 ┆ COOLIN86                  ┆ 1138303196  ┆ 1536528275 ┆ 40            ┆ 7          │\n",
       "│ 77763 ┆ LUNCHY                    ┆ 1137599510  ┆ 1536528275 ┆ 65            ┆ 0          │\n",
       "│ 77765 ┆ COMPOSTELLAS              ┆ 1137474000  ┆ 1536528276 ┆ 6             ┆ 0          │\n",
       "│ 77766 ┆ GENERICBOB                ┆ 1137474000  ┆ 1536528276 ┆ 291           ┆ 14         │\n",
       "│ 77768 ┆ TINHEADNED                ┆ 1139665457  ┆ 1536497404 ┆ 4434          ┆ 103        │\n",
       "└───────┴───────────────────────────┴─────────────┴────────────┴───────────────┴────────────┘"
      ]
     },
     "execution_count": 99,
     "metadata": {},
     "output_type": "execute_result"
    }
   ],
   "source": [
    "q9_2 = (\n",
    "    pl.scan_csv(f\"data/reddit.csv\")\n",
    "    .with_columns(pl.col(\"name\").str.to_uppercase())\n",
    "    .filter(pl.col(\"comment_karma\") > 0)\n",
    "    .collect()\n",
    "    .head(100)\n",
    ")\n",
    "q9_2"
   ]
  },
  {
   "cell_type": "markdown",
   "metadata": {},
   "source": [
    "# IO\n",
    "## csv"
   ]
  },
  {
   "cell_type": "code",
   "execution_count": 100,
   "metadata": {},
   "outputs": [],
   "source": [
    "df = pl.read_csv(\"data/reddit.csv\")"
   ]
  },
  {
   "cell_type": "code",
   "execution_count": 101,
   "metadata": {},
   "outputs": [],
   "source": [
    "df = pl.DataFrame({\"foo\": [1, 2, 3], \"bar\": [None, \"bak\", \"baz\"]})\n",
    "df.write_csv(\"data/ejemplo.csv\")"
   ]
  },
  {
   "cell_type": "code",
   "execution_count": 102,
   "metadata": {},
   "outputs": [],
   "source": [
    "df = pl.scan_csv(\"data/reddit.csv\")"
   ]
  },
  {
   "cell_type": "markdown",
   "metadata": {},
   "source": [
    "## Excel\n",
    "Polars no tiene un lector nativo de archivos excel, los motores disponibles son:\n",
    "* [xlsx2csv](https://github.com/dilshod/xlsx2csv): Este es el valor predeterminado actual.\n",
    "* [openpyxl](https://openpyxl.readthedocs.io/en/stable/): Generalmente más lento que xls2csv, pero puede ofrecer más flexibilidad para archivos que son difíciles de analizar.\n",
    "* [fastexcel](https://pypi.org/project/fastexcel/): Este lector está basado en [calamine](https://docs.rs/calamine/latest/calamine/) y suele ser el lector más rápido, pero tiene menos características que xls2csv.\n",
    "\n",
    "Aunque fastexcel no es el valor predeterminado en este momento, se recomienda intentar usar fastexcel primero y recurrir a xlsx2csv o openpyxl si encuentras problemas.\n",
    "\n",
    "Para utilizar uno de estos motores, el paquete de Python correspondiente debe estar instalado como una dependencia adicional."
   ]
  },
  {
   "cell_type": "code",
   "execution_count": 103,
   "metadata": {},
   "outputs": [],
   "source": [
    "archivo_excel = \"data/ejemplo.xlsx\"\n",
    "df = pl.read_excel(archivo_excel) #esto creo que es con fastexcel (calamine) ahora y no xlsx2csv"
   ]
  },
  {
   "cell_type": "code",
   "execution_count": 104,
   "metadata": {},
   "outputs": [
    {
     "name": "stdout",
     "output_type": "stream",
     "text": [
      "256 ms ± 1.67 ms per loop (mean ± std. dev. of 7 runs, 1 loop each)\n"
     ]
    }
   ],
   "source": [
    "%timeit pl.read_excel(archivo_excel)"
   ]
  },
  {
   "cell_type": "code",
   "execution_count": 105,
   "metadata": {},
   "outputs": [
    {
     "name": "stdout",
     "output_type": "stream",
     "text": [
      "2.19 s ± 5.72 ms per loop (mean ± std. dev. of 7 runs, 1 loop each)\n"
     ]
    }
   ],
   "source": [
    "%timeit pl.read_excel(archivo_excel, engine=\"xlsx2csv\")"
   ]
  },
  {
   "cell_type": "code",
   "execution_count": 106,
   "metadata": {},
   "outputs": [
    {
     "name": "stdout",
     "output_type": "stream",
     "text": [
      "3.16 s ± 6.69 ms per loop (mean ± std. dev. of 7 runs, 1 loop each)\n"
     ]
    }
   ],
   "source": [
    "%timeit pl.read_excel(archivo_excel, engine=\"openpyxl\")"
   ]
  },
  {
   "cell_type": "code",
   "execution_count": 107,
   "metadata": {},
   "outputs": [
    {
     "name": "stdout",
     "output_type": "stream",
     "text": [
      "256 ms ± 839 μs per loop (mean ± std. dev. of 7 runs, 1 loop each)\n"
     ]
    }
   ],
   "source": [
    "%timeit pl.read_excel(archivo_excel, engine=\"calamine\")"
   ]
  },
  {
   "cell_type": "code",
   "execution_count": 108,
   "metadata": {},
   "outputs": [
    {
     "data": {
      "text/html": [
       "<div><style>\n",
       ".dataframe > thead > tr,\n",
       ".dataframe > tbody > tr {\n",
       "  text-align: right;\n",
       "  white-space: pre-wrap;\n",
       "}\n",
       "</style>\n",
       "<small>shape: (144_384, 3)</small><table border=\"1\" class=\"dataframe\"><thead><tr><th>ID</th><th>FECHA</th><th>Resultado</th></tr><tr><td>i64</td><td>date</td><td>i64</td></tr></thead><tbody><tr><td>220918</td><td>2007-10-14</td><td>45756347</td></tr><tr><td>8006374</td><td>1999-04-09</td><td>41813113</td></tr><tr><td>2569010</td><td>1990-08-25</td><td>-26451348</td></tr><tr><td>263755</td><td>1993-04-25</td><td>11464181</td></tr><tr><td>3161483</td><td>2019-09-28</td><td>-29730597</td></tr><tr><td>&hellip;</td><td>&hellip;</td><td>&hellip;</td></tr><tr><td>2845943</td><td>1997-09-17</td><td>-48793896</td></tr><tr><td>4792999</td><td>1991-01-08</td><td>74785351</td></tr><tr><td>9530846</td><td>2001-06-23</td><td>80838619</td></tr><tr><td>8977863</td><td>1992-05-04</td><td>9668436</td></tr><tr><td>316294</td><td>2021-06-09</td><td>-62274799</td></tr></tbody></table></div>"
      ],
      "text/plain": [
       "shape: (144_384, 3)\n",
       "┌─────────┬────────────┬───────────┐\n",
       "│ ID      ┆ FECHA      ┆ Resultado │\n",
       "│ ---     ┆ ---        ┆ ---       │\n",
       "│ i64     ┆ date       ┆ i64       │\n",
       "╞═════════╪════════════╪═══════════╡\n",
       "│ 220918  ┆ 2007-10-14 ┆ 45756347  │\n",
       "│ 8006374 ┆ 1999-04-09 ┆ 41813113  │\n",
       "│ 2569010 ┆ 1990-08-25 ┆ -26451348 │\n",
       "│ 263755  ┆ 1993-04-25 ┆ 11464181  │\n",
       "│ 3161483 ┆ 2019-09-28 ┆ -29730597 │\n",
       "│ …       ┆ …          ┆ …         │\n",
       "│ 2845943 ┆ 1997-09-17 ┆ -48793896 │\n",
       "│ 4792999 ┆ 1991-01-08 ┆ 74785351  │\n",
       "│ 9530846 ┆ 2001-06-23 ┆ 80838619  │\n",
       "│ 8977863 ┆ 1992-05-04 ┆ 9668436   │\n",
       "│ 316294  ┆ 2021-06-09 ┆ -62274799 │\n",
       "└─────────┴────────────┴───────────┘"
      ]
     },
     "execution_count": 108,
     "metadata": {},
     "output_type": "execute_result"
    }
   ],
   "source": [
    "df"
   ]
  },
  {
   "cell_type": "markdown",
   "metadata": {},
   "source": [
    "Para escribir excel se usa xlsxwriter"
   ]
  },
  {
   "cell_type": "code",
   "execution_count": 109,
   "metadata": {},
   "outputs": [
    {
     "data": {
      "text/plain": [
       "<xlsxwriter.workbook.Workbook at 0x11f823650>"
      ]
     },
     "execution_count": 109,
     "metadata": {},
     "output_type": "execute_result"
    }
   ],
   "source": [
    "df = pl.DataFrame({\"foo\": [1, 2, 3], \"bar\": [None, \"bak\", \"baz\"]})\n",
    "df.write_excel(\"data/salida.xlsx\")"
   ]
  },
  {
   "cell_type": "code",
   "execution_count": 110,
   "metadata": {},
   "outputs": [
    {
     "data": {
      "text/plain": [
       "<xlsxwriter.workbook.Workbook at 0x15eb68e30>"
      ]
     },
     "execution_count": 110,
     "metadata": {},
     "output_type": "execute_result"
    }
   ],
   "source": [
    "df.write_excel(\"data/salida2.xlsx\")"
   ]
  },
  {
   "cell_type": "markdown",
   "metadata": {},
   "source": [
    "## Parquet\n",
    "Cargar o escribir archivos Parquet es extremadamente rápido, ya que la disposición de los datos en un DataFrame de Polars en memoria refleja la disposición de un archivo Parquet en el disco en muchos aspectos.\n",
    "\n",
    "A diferencia de CSV, Parquet es un formato columnar. Esto significa que los datos se almacenan en columnas en lugar de filas. Esta forma de almacenamiento es más eficiente, ya que permite una mejor compresión y un acceso más rápido a los datos"
   ]
  },
  {
   "cell_type": "code",
   "execution_count": 111,
   "metadata": {},
   "outputs": [],
   "source": [
    "df = pl.read_parquet(\"data/flights.parquet\")"
   ]
  },
  {
   "cell_type": "code",
   "execution_count": 112,
   "metadata": {},
   "outputs": [
    {
     "data": {
      "text/html": [
       "<div><style>\n",
       ".dataframe > thead > tr,\n",
       ".dataframe > tbody > tr {\n",
       "  text-align: right;\n",
       "  white-space: pre-wrap;\n",
       "}\n",
       "</style>\n",
       "<small>shape: (5, 7)</small><table border=\"1\" class=\"dataframe\"><thead><tr><th>FL_DATE</th><th>DEP_DELAY</th><th>ARR_DELAY</th><th>AIR_TIME</th><th>DISTANCE</th><th>DEP_TIME</th><th>ARR_TIME</th></tr><tr><td>date</td><td>i16</td><td>i16</td><td>i16</td><td>i16</td><td>f32</td><td>f32</td></tr></thead><tbody><tr><td>2006-01-01</td><td>5</td><td>19</td><td>350</td><td>2475</td><td>9.083333</td><td>12.483334</td></tr><tr><td>2006-01-02</td><td>167</td><td>216</td><td>343</td><td>2475</td><td>11.783334</td><td>15.766666</td></tr><tr><td>2006-01-03</td><td>-7</td><td>-2</td><td>344</td><td>2475</td><td>8.883333</td><td>12.133333</td></tr><tr><td>2006-01-04</td><td>-5</td><td>-13</td><td>331</td><td>2475</td><td>8.916667</td><td>11.95</td></tr><tr><td>2006-01-05</td><td>-3</td><td>-17</td><td>321</td><td>2475</td><td>8.95</td><td>11.883333</td></tr></tbody></table></div>"
      ],
      "text/plain": [
       "shape: (5, 7)\n",
       "┌────────────┬───────────┬───────────┬──────────┬──────────┬───────────┬───────────┐\n",
       "│ FL_DATE    ┆ DEP_DELAY ┆ ARR_DELAY ┆ AIR_TIME ┆ DISTANCE ┆ DEP_TIME  ┆ ARR_TIME  │\n",
       "│ ---        ┆ ---       ┆ ---       ┆ ---      ┆ ---      ┆ ---       ┆ ---       │\n",
       "│ date       ┆ i16       ┆ i16       ┆ i16      ┆ i16      ┆ f32       ┆ f32       │\n",
       "╞════════════╪═══════════╪═══════════╪══════════╪══════════╪═══════════╪═══════════╡\n",
       "│ 2006-01-01 ┆ 5         ┆ 19        ┆ 350      ┆ 2475     ┆ 9.083333  ┆ 12.483334 │\n",
       "│ 2006-01-02 ┆ 167       ┆ 216       ┆ 343      ┆ 2475     ┆ 11.783334 ┆ 15.766666 │\n",
       "│ 2006-01-03 ┆ -7        ┆ -2        ┆ 344      ┆ 2475     ┆ 8.883333  ┆ 12.133333 │\n",
       "│ 2006-01-04 ┆ -5        ┆ -13       ┆ 331      ┆ 2475     ┆ 8.916667  ┆ 11.95     │\n",
       "│ 2006-01-05 ┆ -3        ┆ -17       ┆ 321      ┆ 2475     ┆ 8.95      ┆ 11.883333 │\n",
       "└────────────┴───────────┴───────────┴──────────┴──────────┴───────────┴───────────┘"
      ]
     },
     "execution_count": 112,
     "metadata": {},
     "output_type": "execute_result"
    }
   ],
   "source": [
    "df.head()"
   ]
  },
  {
   "cell_type": "code",
   "execution_count": 113,
   "metadata": {},
   "outputs": [],
   "source": [
    "df = pl.DataFrame({\"foo\": [1, 2, 3], \"bar\": [None, \"bak\", \"baz\"]})\n",
    "df.write_parquet(\"data/ejemplo.parquet\")"
   ]
  },
  {
   "cell_type": "code",
   "execution_count": 114,
   "metadata": {},
   "outputs": [],
   "source": [
    "df = pl.scan_parquet(\"data/flights.parquet\")"
   ]
  },
  {
   "cell_type": "code",
   "execution_count": 115,
   "metadata": {},
   "outputs": [
    {
     "data": {
      "text/html": [
       "<h4>NAIVE QUERY PLAN</h4><p>run <b>LazyFrame.show_graph()</b> to see the optimized version</p><?xml version=\"1.0\" encoding=\"UTF-8\" standalone=\"no\"?>\n",
       "<!DOCTYPE svg PUBLIC \"-//W3C//DTD SVG 1.1//EN\"\n",
       " \"http://www.w3.org/Graphics/SVG/1.1/DTD/svg11.dtd\">\n",
       "<!-- Generated by graphviz version 12.1.0 (20240811.2233)\n",
       " -->\n",
       "<!-- Title: polars_query Pages: 1 -->\n",
       "<svg width=\"223pt\" height=\"49pt\"\n",
       " viewBox=\"0.00 0.00 222.75 49.00\" xmlns=\"http://www.w3.org/2000/svg\" xmlns:xlink=\"http://www.w3.org/1999/xlink\">\n",
       "<g id=\"graph0\" class=\"graph\" transform=\"scale(1 1) rotate(0) translate(4 45)\">\n",
       "<title>polars_query</title>\n",
       "<polygon fill=\"white\" stroke=\"none\" points=\"-4,4 -4,-45 218.75,-45 218.75,4 -4,4\"/>\n",
       "<!-- p1 -->\n",
       "<g id=\"node1\" class=\"node\">\n",
       "<title>p1</title>\n",
       "<polygon fill=\"none\" stroke=\"black\" points=\"214.75,-41 0,-41 0,0 214.75,0 214.75,-41\"/>\n",
       "<text text-anchor=\"middle\" x=\"107.38\" y=\"-23.7\" font-family=\"Times,serif\" font-size=\"14.00\">Parquet SCAN [data/flights.parquet]</text>\n",
       "<text text-anchor=\"middle\" x=\"107.38\" y=\"-7.2\" font-family=\"Times,serif\" font-size=\"14.00\">π */7;</text>\n",
       "</g>\n",
       "</g>\n",
       "</svg>\n"
      ],
      "text/plain": [
       "<LazyFrame at 0x113D2E7E0>"
      ]
     },
     "execution_count": 115,
     "metadata": {},
     "output_type": "execute_result"
    }
   ],
   "source": [
    "df"
   ]
  },
  {
   "cell_type": "markdown",
   "metadata": {},
   "source": [
    "## JSON"
   ]
  },
  {
   "cell_type": "code",
   "execution_count": 116,
   "metadata": {},
   "outputs": [],
   "source": [
    "json_file = \"data/testjson.json\"\n",
    "df = pl.read_json(json_file)"
   ]
  },
  {
   "cell_type": "code",
   "execution_count": 117,
   "metadata": {},
   "outputs": [
    {
     "data": {
      "text/html": [
       "<div><style>\n",
       ".dataframe > thead > tr,\n",
       ".dataframe > tbody > tr {\n",
       "  text-align: right;\n",
       "  white-space: pre-wrap;\n",
       "}\n",
       "</style>\n",
       "<small>shape: (1_584, 5)</small><table border=\"1\" class=\"dataframe\"><thead><tr><th>name</th><th>language</th><th>id</th><th>bio</th><th>version</th></tr><tr><td>str</td><td>str</td><td>str</td><td>str</td><td>f64</td></tr></thead><tbody><tr><td>&quot;Adeel Solangi&quot;</td><td>&quot;Sindhi&quot;</td><td>&quot;V59OF92YF627HFY0&quot;</td><td>&quot;Donec lobortis eleifend condim…</td><td>6.1</td></tr><tr><td>&quot;Afzal Ghaffar&quot;</td><td>&quot;Sindhi&quot;</td><td>&quot;ENTOCR13RSCLZ6KU&quot;</td><td>&quot;Aliquam sollicitudin ante ligu…</td><td>1.88</td></tr><tr><td>&quot;Aamir Solangi&quot;</td><td>&quot;Sindhi&quot;</td><td>&quot;IAKPO3R4761JDRVG&quot;</td><td>&quot;Vestibulum pharetra libero et …</td><td>7.27</td></tr><tr><td>&quot;Abla Dilmurat&quot;</td><td>&quot;Uyghur&quot;</td><td>&quot;5ZVOEPMJUI4MB4EN&quot;</td><td>&quot;Donec lobortis eleifend condim…</td><td>2.53</td></tr><tr><td>&quot;Adil Eli&quot;</td><td>&quot;Uyghur&quot;</td><td>&quot;6VTI8X6LL0MMPJCC&quot;</td><td>&quot;Vivamus id faucibus velit, id …</td><td>6.49</td></tr><tr><td>&hellip;</td><td>&hellip;</td><td>&hellip;</td><td>&hellip;</td><td>&hellip;</td></tr><tr><td>&quot;Bhupesh Menon&quot;</td><td>&quot;Hindi&quot;</td><td>&quot;0CEPNRDV98KT3ORP&quot;</td><td>&quot;Maecenas tempus neque ut portt…</td><td>2.69</td></tr><tr><td>&quot;Rohini Vasav&quot;</td><td>&quot;Hindi&quot;</td><td>&quot;UEFML43TCGS04KWM&quot;</td><td>&quot;Ut accumsan, est vel fringilla…</td><td>9.3</td></tr><tr><td>&quot;Sunil Kapoor&quot;</td><td>&quot;Hindi&quot;</td><td>&quot;VY2A0APGVHK5NAW2&quot;</td><td>&quot;Proin tempus eu risus nec matt…</td><td>8.04</td></tr><tr><td>&quot;Zamokuhle Zulu&quot;</td><td>&quot;isiZulu&quot;</td><td>&quot;XU7BX2F8M5PVZ1EF&quot;</td><td>&quot;Etiam congue dignissim volutpa…</td><td>8.39</td></tr><tr><td>&quot;Bhupesh Menon&quot;</td><td>&quot;Hindi&quot;</td><td>&quot;0CEPNRDV98KT3ORP&quot;</td><td>&quot;Maecenas tempus neque ut portt…</td><td>2.69</td></tr></tbody></table></div>"
      ],
      "text/plain": [
       "shape: (1_584, 5)\n",
       "┌────────────────┬──────────┬──────────────────┬─────────────────────────────────┬─────────┐\n",
       "│ name           ┆ language ┆ id               ┆ bio                             ┆ version │\n",
       "│ ---            ┆ ---      ┆ ---              ┆ ---                             ┆ ---     │\n",
       "│ str            ┆ str      ┆ str              ┆ str                             ┆ f64     │\n",
       "╞════════════════╪══════════╪══════════════════╪═════════════════════════════════╪═════════╡\n",
       "│ Adeel Solangi  ┆ Sindhi   ┆ V59OF92YF627HFY0 ┆ Donec lobortis eleifend condim… ┆ 6.1     │\n",
       "│ Afzal Ghaffar  ┆ Sindhi   ┆ ENTOCR13RSCLZ6KU ┆ Aliquam sollicitudin ante ligu… ┆ 1.88    │\n",
       "│ Aamir Solangi  ┆ Sindhi   ┆ IAKPO3R4761JDRVG ┆ Vestibulum pharetra libero et … ┆ 7.27    │\n",
       "│ Abla Dilmurat  ┆ Uyghur   ┆ 5ZVOEPMJUI4MB4EN ┆ Donec lobortis eleifend condim… ┆ 2.53    │\n",
       "│ Adil Eli       ┆ Uyghur   ┆ 6VTI8X6LL0MMPJCC ┆ Vivamus id faucibus velit, id … ┆ 6.49    │\n",
       "│ …              ┆ …        ┆ …                ┆ …                               ┆ …       │\n",
       "│ Bhupesh Menon  ┆ Hindi    ┆ 0CEPNRDV98KT3ORP ┆ Maecenas tempus neque ut portt… ┆ 2.69    │\n",
       "│ Rohini Vasav   ┆ Hindi    ┆ UEFML43TCGS04KWM ┆ Ut accumsan, est vel fringilla… ┆ 9.3     │\n",
       "│ Sunil Kapoor   ┆ Hindi    ┆ VY2A0APGVHK5NAW2 ┆ Proin tempus eu risus nec matt… ┆ 8.04    │\n",
       "│ Zamokuhle Zulu ┆ isiZulu  ┆ XU7BX2F8M5PVZ1EF ┆ Etiam congue dignissim volutpa… ┆ 8.39    │\n",
       "│ Bhupesh Menon  ┆ Hindi    ┆ 0CEPNRDV98KT3ORP ┆ Maecenas tempus neque ut portt… ┆ 2.69    │\n",
       "└────────────────┴──────────┴──────────────────┴─────────────────────────────────┴─────────┘"
      ]
     },
     "execution_count": 117,
     "metadata": {},
     "output_type": "execute_result"
    }
   ],
   "source": [
    "df"
   ]
  },
  {
   "cell_type": "code",
   "execution_count": 118,
   "metadata": {},
   "outputs": [
    {
     "data": {
      "text/html": [
       "<div><style>\n",
       ".dataframe > thead > tr,\n",
       ".dataframe > tbody > tr {\n",
       "  text-align: right;\n",
       "  white-space: pre-wrap;\n",
       "}\n",
       "</style>\n",
       "<small>shape: (5, 2)</small><table border=\"1\" class=\"dataframe\"><thead><tr><th>url</th><th>result</th></tr><tr><td>str</td><td>struct[4]</td></tr></thead><tbody><tr><td>&quot;https://www.yelp.com/search?fi…</td><td>{{&quot;https://www.yelp.com/search?find_desc=Desserts&amp;find_loc=San+Jose,+CA&amp;start=0&quot;,[{[{[{&quot;https://www.yelp.com/biz/milk-and-wood-san-jose?osq=Desserts&quot;,&quot;Milk &amp; Wood&quot;}]}, {[{&quot;https://www.yelp.com/biz/dzuis-cakes-and-desserts-san-jose?osq=Desserts&quot;,&quot;Dzui’s Cakes &amp; Desserts&quot;}]}, … {[{&quot;https://www.yelp.com/biz/anton-sv-p%C3%A2tisserie-san-jose-2?osq=Desserts&quot;,&quot;Anton SV Pâtisserie&quot;}]}]}]},{200,1513286383006},1513286383006,0}</td></tr><tr><td>&quot;https://www.yelp.com/search?fi…</td><td>{{&quot;https://www.yelp.com/search?find_desc=Desserts&amp;find_loc=San+Jose,+CA&amp;start=10&quot;,[{[{[{&quot;https://www.yelp.com/biz/oooh-san-jose-4?osq=Desserts&quot;,&quot;Oooh&quot;}]}, {[{&quot;https://www.yelp.com/biz/hannah-san-jose?osq=Desserts&quot;,&quot;Hannah&quot;}]}, … {[{&quot;https://www.yelp.com/biz/blackball-desserts-san-jose-san-jose?osq=Desserts&quot;,&quot;BlackBall Desserts San Jose&quot;}]}]}]},{200,1513286384917},1513286384917,1}</td></tr><tr><td>&quot;https://www.yelp.com/search?fi…</td><td>{{&quot;https://www.yelp.com/search?find_desc=Desserts&amp;find_loc=San+Jose,+CA&amp;start=20&quot;,[{[{[{&quot;https://www.yelp.com/biz/anton-sv-p%C3%A2tisserie-san-jose-2?osq=Desserts&quot;,&quot;Anton SV Pâtisserie&quot;}]}, {[{&quot;https://www.yelp.com/biz/soyful-desserts-san-jose-8?osq=Desserts&quot;,&quot;Soyful Desserts&quot;}]}, … {[{&quot;https://www.yelp.com/biz/j-sweets-san-jose-3?osq=Desserts&quot;,&quot;J.Sweets&quot;}]}]}]},{200,1513286395948},1513286395948,2}</td></tr><tr><td>&quot;https://www.yelp.com/search?fi…</td><td>{{&quot;https://www.yelp.com/search?find_desc=Desserts&amp;find_loc=San+Jose,+CA&amp;start=30&quot;,[{[{[{&quot;https://www.yelp.com/biz/treatbot-san-jose-2?osq=Desserts&quot;,&quot;Treatbot&quot;}]}, {[{&quot;https://www.yelp.com/biz/cream-san-jose?osq=Desserts&quot;,&quot;CREAM&quot;}]}, … {[{&quot;https://www.yelp.com/biz/san-jose-tofu-company-san-jose?osq=Desserts&quot;,&quot;San Jose Tofu Company&quot;}]}]}]},{200,1513286386420},1513286386420,3}</td></tr><tr><td>&quot;https://www.yelp.com/search?fi…</td><td>{{&quot;https://www.yelp.com/search?find_desc=Desserts&amp;find_loc=San+Jose,+CA&amp;start=40&quot;,[{[{[{&quot;https://www.yelp.com/biz/the-sweet-corner-san-jose?osq=Desserts&quot;,&quot;The Sweet Corner&quot;}]}, {[{&quot;https://www.yelp.com/biz/marco-polo-italian-ice-cream-san-jose-4?osq=Desserts&quot;,&quot;Marco Polo Italian Ice Cream&quot;}]}, … {[{&quot;https://www.yelp.com/biz/la-original-paleteria-y-neveria-san-jose?osq=Desserts&quot;,&quot;La Original Paleteria Y Neveria&quot;}]}]}]},{200,1513286387763},1513286387763,4}</td></tr></tbody></table></div>"
      ],
      "text/plain": [
       "shape: (5, 2)\n",
       "┌─────────────────────────────────┬─────────────────────────────────┐\n",
       "│ url                             ┆ result                          │\n",
       "│ ---                             ┆ ---                             │\n",
       "│ str                             ┆ struct[4]                       │\n",
       "╞═════════════════════════════════╪═════════════════════════════════╡\n",
       "│ https://www.yelp.com/search?fi… ┆ {{\"https://www.yelp.com/search… │\n",
       "│ https://www.yelp.com/search?fi… ┆ {{\"https://www.yelp.com/search… │\n",
       "│ https://www.yelp.com/search?fi… ┆ {{\"https://www.yelp.com/search… │\n",
       "│ https://www.yelp.com/search?fi… ┆ {{\"https://www.yelp.com/search… │\n",
       "│ https://www.yelp.com/search?fi… ┆ {{\"https://www.yelp.com/search… │\n",
       "└─────────────────────────────────┴─────────────────────────────────┘"
      ]
     },
     "execution_count": 118,
     "metadata": {},
     "output_type": "execute_result"
    }
   ],
   "source": [
    "ndjson_file = \"data/ndjson-sample.json\"\n",
    "df = pl.read_ndjson(ndjson_file) # \n",
    "df"
   ]
  },
  {
   "cell_type": "code",
   "execution_count": 119,
   "metadata": {},
   "outputs": [],
   "source": [
    "df = pl.DataFrame({\"foo\": [1, 2, 3], \"bar\": [None, \"bak\", \"baz\"]})\n",
    "df.write_json(\"data/prueba.json\")"
   ]
  },
  {
   "cell_type": "code",
   "execution_count": 120,
   "metadata": {},
   "outputs": [],
   "source": [
    "df = pl.scan_ndjson(ndjson_file) # SOLO PARA NDJSON"
   ]
  },
  {
   "cell_type": "code",
   "execution_count": 121,
   "metadata": {},
   "outputs": [
    {
     "data": {
      "text/html": [
       "<h4>NAIVE QUERY PLAN</h4><p>run <b>LazyFrame.show_graph()</b> to see the optimized version</p><?xml version=\"1.0\" encoding=\"UTF-8\" standalone=\"no\"?>\n",
       "<!DOCTYPE svg PUBLIC \"-//W3C//DTD SVG 1.1//EN\"\n",
       " \"http://www.w3.org/Graphics/SVG/1.1/DTD/svg11.dtd\">\n",
       "<!-- Generated by graphviz version 12.1.0 (20240811.2233)\n",
       " -->\n",
       "<!-- Title: polars_query Pages: 1 -->\n",
       "<svg width=\"252pt\" height=\"49pt\"\n",
       " viewBox=\"0.00 0.00 252.00 49.00\" xmlns=\"http://www.w3.org/2000/svg\" xmlns:xlink=\"http://www.w3.org/1999/xlink\">\n",
       "<g id=\"graph0\" class=\"graph\" transform=\"scale(1 1) rotate(0) translate(4 45)\">\n",
       "<title>polars_query</title>\n",
       "<polygon fill=\"white\" stroke=\"none\" points=\"-4,4 -4,-45 248,-45 248,4 -4,4\"/>\n",
       "<!-- p1 -->\n",
       "<g id=\"node1\" class=\"node\">\n",
       "<title>p1</title>\n",
       "<polygon fill=\"none\" stroke=\"black\" points=\"244,-41 0,-41 0,0 244,0 244,-41\"/>\n",
       "<text text-anchor=\"middle\" x=\"122\" y=\"-23.7\" font-family=\"Times,serif\" font-size=\"14.00\">NDJson SCAN [data/ndjson&#45;sample.json]</text>\n",
       "<text text-anchor=\"middle\" x=\"122\" y=\"-7.2\" font-family=\"Times,serif\" font-size=\"14.00\">π */2;</text>\n",
       "</g>\n",
       "</g>\n",
       "</svg>\n"
      ],
      "text/plain": [
       "<LazyFrame at 0x15B1AA480>"
      ]
     },
     "execution_count": 121,
     "metadata": {},
     "output_type": "execute_result"
    }
   ],
   "source": [
    "df"
   ]
  },
  {
   "cell_type": "markdown",
   "metadata": {},
   "source": [
    "## Multiple files"
   ]
  },
  {
   "cell_type": "code",
   "execution_count": 124,
   "metadata": {},
   "outputs": [],
   "source": [
    "# creando archivos\n",
    "for i in range(10):\n",
    "    archivo = f\"data/test_csv{i}.csv\"\n",
    "    df = pl.DataFrame({\"foo\": [1*(i+1), 2*(i+1), 3*(i+1)], \"bar\": [None, \"bak\", \"baz\"]})\n",
    "    df.write_csv(archivo)"
   ]
  },
  {
   "cell_type": "code",
   "execution_count": 125,
   "metadata": {},
   "outputs": [
    {
     "name": "stdout",
     "output_type": "stream",
     "text": [
      "shape: (30, 2)\n",
      "┌─────┬──────┐\n",
      "│ foo ┆ bar  │\n",
      "│ --- ┆ ---  │\n",
      "│ i64 ┆ str  │\n",
      "╞═════╪══════╡\n",
      "│ 1   ┆ null │\n",
      "│ 2   ┆ bak  │\n",
      "│ 3   ┆ baz  │\n",
      "│ 2   ┆ null │\n",
      "│ 4   ┆ bak  │\n",
      "│ …   ┆ …    │\n",
      "│ 18  ┆ bak  │\n",
      "│ 27  ┆ baz  │\n",
      "│ 10  ┆ null │\n",
      "│ 20  ┆ bak  │\n",
      "│ 30  ┆ baz  │\n",
      "└─────┴──────┘\n"
     ]
    }
   ],
   "source": [
    "df = pl.read_csv(\"data/test_csv*.csv\")\n",
    "print(df)"
   ]
  },
  {
   "cell_type": "code",
   "execution_count": 126,
   "metadata": {},
   "outputs": [
    {
     "data": {
      "image/svg+xml": [
       "<svg xmlns=\"http://www.w3.org/2000/svg\" xmlns:xlink=\"http://www.w3.org/1999/xlink\" width=\"283pt\" height=\"49pt\" viewBox=\"0.00 0.00 282.75 49.00\">\n",
       "<g id=\"graph0\" class=\"graph\" transform=\"scale(1 1) rotate(0) translate(4 45)\">\n",
       "<title>polars_query</title>\n",
       "<polygon fill=\"white\" stroke=\"none\" points=\"-4,4 -4,-45 278.75,-45 278.75,4 -4,4\"/>\n",
       "<!-- p1 -->\n",
       "<g id=\"node1\" class=\"node\">\n",
       "<title>p1</title>\n",
       "<polygon fill=\"none\" stroke=\"black\" points=\"274.75,-41 0,-41 0,0 274.75,0 274.75,-41\"/>\n",
       "<text text-anchor=\"middle\" x=\"137.38\" y=\"-23.7\" font-family=\"Times,serif\" font-size=\"14.00\">Csv SCAN [data/test_csv0.csv, ... 9 other files]</text>\n",
       "<text text-anchor=\"middle\" x=\"137.38\" y=\"-7.2\" font-family=\"Times,serif\" font-size=\"14.00\">π */2;</text>\n",
       "</g>\n",
       "</g>\n",
       "</svg>"
      ],
      "text/plain": [
       "<IPython.core.display.SVG object>"
      ]
     },
     "metadata": {},
     "output_type": "display_data"
    }
   ],
   "source": [
    "pl.scan_csv(\"data/test_csv*.csv\").show_graph()"
   ]
  },
  {
   "cell_type": "code",
   "execution_count": null,
   "metadata": {},
   "outputs": [],
   "source": []
  }
 ],
 "metadata": {
  "kernelspec": {
   "display_name": "Python 3 (ipykernel)",
   "language": "python",
   "name": "python3"
  },
  "language_info": {
   "codemirror_mode": {
    "name": "ipython",
    "version": 3
   },
   "file_extension": ".py",
   "mimetype": "text/x-python",
   "name": "python",
   "nbconvert_exporter": "python",
   "pygments_lexer": "ipython3",
   "version": "3.12.1"
  }
 },
 "nbformat": 4,
 "nbformat_minor": 4
}
