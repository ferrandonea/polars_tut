{
 "cells": [
  {
   "cell_type": "code",
   "execution_count": 1,
   "id": "c3885d36-30a7-4824-bbd8-fbb1d5d41493",
   "metadata": {},
   "outputs": [],
   "source": [
    "import polars as pl\n",
    "from datetime import date"
   ]
  },
  {
   "cell_type": "code",
   "execution_count": 2,
   "id": "75db4f9d-0149-492c-a61d-061ded2e3c0f",
   "metadata": {},
   "outputs": [
    {
     "data": {
      "text/plain": [
       "'1.4.1'"
      ]
     },
     "execution_count": 2,
     "metadata": {},
     "output_type": "execute_result"
    }
   ],
   "source": [
    "pl.__version__"
   ]
  },
  {
   "cell_type": "code",
   "execution_count": 3,
   "id": "92d707c3-15bd-4b0a-9513-c7a769657542",
   "metadata": {},
   "outputs": [
    {
     "name": "stdout",
     "output_type": "stream",
     "text": [
      "Python 3.12.1\n"
     ]
    }
   ],
   "source": [
    "!python --version"
   ]
  },
  {
   "cell_type": "code",
   "execution_count": 4,
   "id": "6a921b51-ebf7-4087-a1c2-4b2c95b096f6",
   "metadata": {},
   "outputs": [],
   "source": [
    "series = pl.Series(\"age\", [24,20,55,44,77,16])"
   ]
  },
  {
   "cell_type": "code",
   "execution_count": 5,
   "id": "9c0d39bb-4a04-40a3-9a66-4f9a179cf37f",
   "metadata": {},
   "outputs": [
    {
     "data": {
      "text/html": [
       "<div><style>\n",
       ".dataframe > thead > tr,\n",
       ".dataframe > tbody > tr {\n",
       "  text-align: right;\n",
       "  white-space: pre-wrap;\n",
       "}\n",
       "</style>\n",
       "<small>shape: (6,)</small><table border=\"1\" class=\"dataframe\"><thead><tr><th>age</th></tr><tr><td>i64</td></tr></thead><tbody><tr><td>24</td></tr><tr><td>20</td></tr><tr><td>55</td></tr><tr><td>44</td></tr><tr><td>77</td></tr><tr><td>16</td></tr></tbody></table></div>"
      ],
      "text/plain": [
       "shape: (6,)\n",
       "Series: 'age' [i64]\n",
       "[\n",
       "\t24\n",
       "\t20\n",
       "\t55\n",
       "\t44\n",
       "\t77\n",
       "\t16\n",
       "]"
      ]
     },
     "execution_count": 5,
     "metadata": {},
     "output_type": "execute_result"
    }
   ],
   "source": [
    "series"
   ]
  },
  {
   "cell_type": "code",
   "execution_count": 6,
   "id": "dd0d33b9-945e-44e2-a5a7-9a3cdf85b4a0",
   "metadata": {},
   "outputs": [
    {
     "data": {
      "text/plain": [
       "(77, 236, 16)"
      ]
     },
     "execution_count": 6,
     "metadata": {},
     "output_type": "execute_result"
    }
   ],
   "source": [
    "series.max(), series.sum(), series.min()"
   ]
  },
  {
   "cell_type": "code",
   "execution_count": 7,
   "id": "8612a3e6-48b0-499c-a64c-6bd32927e18e",
   "metadata": {},
   "outputs": [
    {
     "data": {
      "text/plain": [
       "['__abs__',\n",
       " '__add__',\n",
       " '__and__',\n",
       " '__annotations__',\n",
       " '__array__',\n",
       " '__array_ufunc__',\n",
       " '__arrow_c_stream__',\n",
       " '__bool__',\n",
       " '__class__',\n",
       " '__contains__',\n",
       " '__copy__',\n",
       " '__deepcopy__',\n",
       " '__delattr__',\n",
       " '__dict__',\n",
       " '__dir__',\n",
       " '__doc__',\n",
       " '__eq__',\n",
       " '__floordiv__',\n",
       " '__format__',\n",
       " '__ge__',\n",
       " '__getattribute__',\n",
       " '__getitem__',\n",
       " '__getstate__',\n",
       " '__gt__',\n",
       " '__hash__',\n",
       " '__init__',\n",
       " '__init_subclass__',\n",
       " '__invert__',\n",
       " '__iter__',\n",
       " '__le__',\n",
       " '__len__',\n",
       " '__lt__',\n",
       " '__matmul__',\n",
       " '__mod__',\n",
       " '__module__',\n",
       " '__mul__',\n",
       " '__ne__',\n",
       " '__neg__',\n",
       " '__new__',\n",
       " '__or__',\n",
       " '__pos__',\n",
       " '__pow__',\n",
       " '__radd__',\n",
       " '__rand__',\n",
       " '__reduce__',\n",
       " '__reduce_ex__',\n",
       " '__repr__',\n",
       " '__rfloordiv__',\n",
       " '__rmatmul__',\n",
       " '__rmod__',\n",
       " '__rmul__',\n",
       " '__ror__',\n",
       " '__rpow__',\n",
       " '__rsub__',\n",
       " '__rtruediv__',\n",
       " '__rxor__',\n",
       " '__setattr__',\n",
       " '__setitem__',\n",
       " '__setstate__',\n",
       " '__sizeof__',\n",
       " '__str__',\n",
       " '__sub__',\n",
       " '__subclasshook__',\n",
       " '__truediv__',\n",
       " '__weakref__',\n",
       " '__xor__',\n",
       " '_accessors',\n",
       " '_arithmetic',\n",
       " '_comp',\n",
       " '_export_arrow_to_c',\n",
       " '_from_buffer',\n",
       " '_from_buffers',\n",
       " '_from_pyseries',\n",
       " '_get_buffer_info',\n",
       " '_get_buffers',\n",
       " '_import_arrow_from_c',\n",
       " '_import_from_c',\n",
       " '_newest_compat_level',\n",
       " '_repr_html_',\n",
       " '_s',\n",
       " 'abs',\n",
       " 'alias',\n",
       " 'all',\n",
       " 'any',\n",
       " 'append',\n",
       " 'arccos',\n",
       " 'arccosh',\n",
       " 'arcsin',\n",
       " 'arcsinh',\n",
       " 'arctan',\n",
       " 'arctanh',\n",
       " 'arg_max',\n",
       " 'arg_min',\n",
       " 'arg_sort',\n",
       " 'arg_true',\n",
       " 'arg_unique',\n",
       " 'arr',\n",
       " 'bin',\n",
       " 'bottom_k',\n",
       " 'cast',\n",
       " 'cat',\n",
       " 'cbrt',\n",
       " 'ceil',\n",
       " 'chunk_lengths',\n",
       " 'clear',\n",
       " 'clip',\n",
       " 'clone',\n",
       " 'cos',\n",
       " 'cosh',\n",
       " 'cot',\n",
       " 'count',\n",
       " 'cum_count',\n",
       " 'cum_max',\n",
       " 'cum_min',\n",
       " 'cum_prod',\n",
       " 'cum_sum',\n",
       " 'cumulative_eval',\n",
       " 'cut',\n",
       " 'describe',\n",
       " 'diff',\n",
       " 'dot',\n",
       " 'drop_nans',\n",
       " 'drop_nulls',\n",
       " 'dt',\n",
       " 'dtype',\n",
       " 'entropy',\n",
       " 'eq',\n",
       " 'eq_missing',\n",
       " 'equals',\n",
       " 'estimated_size',\n",
       " 'ewm_mean',\n",
       " 'ewm_mean_by',\n",
       " 'ewm_std',\n",
       " 'ewm_var',\n",
       " 'exp',\n",
       " 'explode',\n",
       " 'extend',\n",
       " 'extend_constant',\n",
       " 'fill_nan',\n",
       " 'fill_null',\n",
       " 'filter',\n",
       " 'flags',\n",
       " 'floor',\n",
       " 'gather',\n",
       " 'gather_every',\n",
       " 'ge',\n",
       " 'get_chunks',\n",
       " 'gt',\n",
       " 'has_nulls',\n",
       " 'has_validity',\n",
       " 'hash',\n",
       " 'head',\n",
       " 'hist',\n",
       " 'implode',\n",
       " 'interpolate',\n",
       " 'interpolate_by',\n",
       " 'is_between',\n",
       " 'is_duplicated',\n",
       " 'is_empty',\n",
       " 'is_finite',\n",
       " 'is_first_distinct',\n",
       " 'is_in',\n",
       " 'is_infinite',\n",
       " 'is_last_distinct',\n",
       " 'is_nan',\n",
       " 'is_not_nan',\n",
       " 'is_not_null',\n",
       " 'is_null',\n",
       " 'is_sorted',\n",
       " 'is_unique',\n",
       " 'item',\n",
       " 'kurtosis',\n",
       " 'le',\n",
       " 'len',\n",
       " 'limit',\n",
       " 'list',\n",
       " 'log',\n",
       " 'log10',\n",
       " 'log1p',\n",
       " 'lower_bound',\n",
       " 'lt',\n",
       " 'map_elements',\n",
       " 'max',\n",
       " 'mean',\n",
       " 'median',\n",
       " 'min',\n",
       " 'mode',\n",
       " 'n_chunks',\n",
       " 'n_unique',\n",
       " 'name',\n",
       " 'nan_max',\n",
       " 'nan_min',\n",
       " 'ne',\n",
       " 'ne_missing',\n",
       " 'new_from_index',\n",
       " 'not_',\n",
       " 'null_count',\n",
       " 'pct_change',\n",
       " 'peak_max',\n",
       " 'peak_min',\n",
       " 'plot',\n",
       " 'pow',\n",
       " 'product',\n",
       " 'qcut',\n",
       " 'quantile',\n",
       " 'rank',\n",
       " 'rechunk',\n",
       " 'reinterpret',\n",
       " 'rename',\n",
       " 'replace',\n",
       " 'replace_strict',\n",
       " 'reshape',\n",
       " 'reverse',\n",
       " 'rle',\n",
       " 'rle_id',\n",
       " 'rolling_map',\n",
       " 'rolling_max',\n",
       " 'rolling_mean',\n",
       " 'rolling_median',\n",
       " 'rolling_min',\n",
       " 'rolling_quantile',\n",
       " 'rolling_skew',\n",
       " 'rolling_std',\n",
       " 'rolling_sum',\n",
       " 'rolling_var',\n",
       " 'round',\n",
       " 'round_sig_figs',\n",
       " 'sample',\n",
       " 'scatter',\n",
       " 'search_sorted',\n",
       " 'set',\n",
       " 'set_sorted',\n",
       " 'shape',\n",
       " 'shift',\n",
       " 'shrink_dtype',\n",
       " 'shrink_to_fit',\n",
       " 'shuffle',\n",
       " 'sign',\n",
       " 'sin',\n",
       " 'sinh',\n",
       " 'skew',\n",
       " 'slice',\n",
       " 'sort',\n",
       " 'sqrt',\n",
       " 'std',\n",
       " 'str',\n",
       " 'struct',\n",
       " 'sum',\n",
       " 'tail',\n",
       " 'tan',\n",
       " 'tanh',\n",
       " 'to_arrow',\n",
       " 'to_dummies',\n",
       " 'to_frame',\n",
       " 'to_init_repr',\n",
       " 'to_jax',\n",
       " 'to_list',\n",
       " 'to_numpy',\n",
       " 'to_pandas',\n",
       " 'to_physical',\n",
       " 'to_torch',\n",
       " 'top_k',\n",
       " 'unique',\n",
       " 'unique_counts',\n",
       " 'upper_bound',\n",
       " 'value_counts',\n",
       " 'var',\n",
       " 'zip_with']"
      ]
     },
     "execution_count": 7,
     "metadata": {},
     "output_type": "execute_result"
    }
   ],
   "source": [
    "dir(series)"
   ]
  },
  {
   "cell_type": "code",
   "execution_count": 8,
   "id": "23bce02a-557f-4f4b-a5c5-6b8ca29c3c42",
   "metadata": {},
   "outputs": [
    {
     "data": {
      "text/html": [
       "<div><style>\n",
       ".dataframe > thead > tr,\n",
       ".dataframe > tbody > tr {\n",
       "  text-align: right;\n",
       "  white-space: pre-wrap;\n",
       "}\n",
       "</style>\n",
       "<small>shape: (6,)</small><table border=\"1\" class=\"dataframe\"><thead><tr><th>age</th></tr><tr><td>i64</td></tr></thead><tbody><tr><td>16</td></tr><tr><td>20</td></tr><tr><td>24</td></tr><tr><td>44</td></tr><tr><td>55</td></tr><tr><td>77</td></tr></tbody></table></div>"
      ],
      "text/plain": [
       "shape: (6,)\n",
       "Series: 'age' [i64]\n",
       "[\n",
       "\t16\n",
       "\t20\n",
       "\t24\n",
       "\t44\n",
       "\t55\n",
       "\t77\n",
       "]"
      ]
     },
     "execution_count": 8,
     "metadata": {},
     "output_type": "execute_result"
    }
   ],
   "source": [
    "series.sort()"
   ]
  },
  {
   "cell_type": "code",
   "execution_count": 9,
   "id": "b3174cdb-f680-4445-9018-4131b4b77aa3",
   "metadata": {},
   "outputs": [
    {
     "data": {
      "text/html": [
       "<div><style>\n",
       ".dataframe > thead > tr,\n",
       ".dataframe > tbody > tr {\n",
       "  text-align: right;\n",
       "  white-space: pre-wrap;\n",
       "}\n",
       "</style>\n",
       "<small>shape: (6,)</small><table border=\"1\" class=\"dataframe\"><thead><tr><th>age</th></tr><tr><td>i64</td></tr></thead><tbody><tr><td>77</td></tr><tr><td>55</td></tr><tr><td>44</td></tr><tr><td>24</td></tr><tr><td>20</td></tr><tr><td>16</td></tr></tbody></table></div>"
      ],
      "text/plain": [
       "shape: (6,)\n",
       "Series: 'age' [i64]\n",
       "[\n",
       "\t77\n",
       "\t55\n",
       "\t44\n",
       "\t24\n",
       "\t20\n",
       "\t16\n",
       "]"
      ]
     },
     "execution_count": 9,
     "metadata": {},
     "output_type": "execute_result"
    }
   ],
   "source": [
    "series.sort(descending=True)"
   ]
  },
  {
   "cell_type": "code",
   "execution_count": 10,
   "id": "3c99c048-a73d-4291-b4bb-87320d5247f8",
   "metadata": {},
   "outputs": [
    {
     "data": {
      "text/plain": [
       "0    24\n",
       "1    20\n",
       "2    55\n",
       "3    44\n",
       "4    77\n",
       "5    16\n",
       "Name: age, dtype: int64"
      ]
     },
     "execution_count": 10,
     "metadata": {},
     "output_type": "execute_result"
    }
   ],
   "source": [
    "series.to_pandas()"
   ]
  },
  {
   "cell_type": "code",
   "execution_count": 11,
   "id": "89320087-6183-4027-9c9b-537747445bde",
   "metadata": {},
   "outputs": [],
   "source": [
    "df = pl.DataFrame({\n",
    "    \"Employee ID\": [1,2,3,4,5],\n",
    "    \"Name\" : [\"Alice\", \"Bob\", \"Charlie\", \"David\", \"Eve\"],\n",
    "    \"Age\": [29,34,31,28,42],\n",
    "    \"Department\": [\"HR\", \"Engineering\", \"Finance\", \"HR\", \"Finance\"],\n",
    "    \"Salary\": [50000., 75000., 60000., 58000., 85000.],\n",
    "    \"Start Date\": [date(2023,5,21), date(2019,8,14), date(2021,1,10), date(2018,11,3), date(2022,6,27)]\n",
    "    })"
   ]
  },
  {
   "cell_type": "code",
   "execution_count": 12,
   "id": "8c556158-4405-43a0-bcf7-c763f18dc844",
   "metadata": {},
   "outputs": [
    {
     "data": {
      "text/html": [
       "<div><style>\n",
       ".dataframe > thead > tr,\n",
       ".dataframe > tbody > tr {\n",
       "  text-align: right;\n",
       "  white-space: pre-wrap;\n",
       "}\n",
       "</style>\n",
       "<small>shape: (5, 6)</small><table border=\"1\" class=\"dataframe\"><thead><tr><th>Employee ID</th><th>Name</th><th>Age</th><th>Department</th><th>Salary</th><th>Start Date</th></tr><tr><td>i64</td><td>str</td><td>i64</td><td>str</td><td>f64</td><td>date</td></tr></thead><tbody><tr><td>1</td><td>&quot;Alice&quot;</td><td>29</td><td>&quot;HR&quot;</td><td>50000.0</td><td>2023-05-21</td></tr><tr><td>2</td><td>&quot;Bob&quot;</td><td>34</td><td>&quot;Engineering&quot;</td><td>75000.0</td><td>2019-08-14</td></tr><tr><td>3</td><td>&quot;Charlie&quot;</td><td>31</td><td>&quot;Finance&quot;</td><td>60000.0</td><td>2021-01-10</td></tr><tr><td>4</td><td>&quot;David&quot;</td><td>28</td><td>&quot;HR&quot;</td><td>58000.0</td><td>2018-11-03</td></tr><tr><td>5</td><td>&quot;Eve&quot;</td><td>42</td><td>&quot;Finance&quot;</td><td>85000.0</td><td>2022-06-27</td></tr></tbody></table></div>"
      ],
      "text/plain": [
       "shape: (5, 6)\n",
       "┌─────────────┬─────────┬─────┬─────────────┬─────────┬────────────┐\n",
       "│ Employee ID ┆ Name    ┆ Age ┆ Department  ┆ Salary  ┆ Start Date │\n",
       "│ ---         ┆ ---     ┆ --- ┆ ---         ┆ ---     ┆ ---        │\n",
       "│ i64         ┆ str     ┆ i64 ┆ str         ┆ f64     ┆ date       │\n",
       "╞═════════════╪═════════╪═════╪═════════════╪═════════╪════════════╡\n",
       "│ 1           ┆ Alice   ┆ 29  ┆ HR          ┆ 50000.0 ┆ 2023-05-21 │\n",
       "│ 2           ┆ Bob     ┆ 34  ┆ Engineering ┆ 75000.0 ┆ 2019-08-14 │\n",
       "│ 3           ┆ Charlie ┆ 31  ┆ Finance     ┆ 60000.0 ┆ 2021-01-10 │\n",
       "│ 4           ┆ David   ┆ 28  ┆ HR          ┆ 58000.0 ┆ 2018-11-03 │\n",
       "│ 5           ┆ Eve     ┆ 42  ┆ Finance     ┆ 85000.0 ┆ 2022-06-27 │\n",
       "└─────────────┴─────────┴─────┴─────────────┴─────────┴────────────┘"
      ]
     },
     "execution_count": 12,
     "metadata": {},
     "output_type": "execute_result"
    }
   ],
   "source": [
    "df"
   ]
  },
  {
   "cell_type": "code",
   "execution_count": 13,
   "id": "5b6f5b5b-c5f6-48f9-85be-b41b5622d9b5",
   "metadata": {},
   "outputs": [
    {
     "data": {
      "text/html": [
       "<div><style>\n",
       ".dataframe > thead > tr,\n",
       ".dataframe > tbody > tr {\n",
       "  text-align: right;\n",
       "  white-space: pre-wrap;\n",
       "}\n",
       "</style>\n",
       "<small>shape: (2, 6)</small><table border=\"1\" class=\"dataframe\"><thead><tr><th>Employee ID</th><th>Name</th><th>Age</th><th>Department</th><th>Salary</th><th>Start Date</th></tr><tr><td>i64</td><td>str</td><td>i64</td><td>str</td><td>f64</td><td>date</td></tr></thead><tbody><tr><td>1</td><td>&quot;Alice&quot;</td><td>29</td><td>&quot;HR&quot;</td><td>50000.0</td><td>2023-05-21</td></tr><tr><td>2</td><td>&quot;Bob&quot;</td><td>34</td><td>&quot;Engineering&quot;</td><td>75000.0</td><td>2019-08-14</td></tr></tbody></table></div>"
      ],
      "text/plain": [
       "shape: (2, 6)\n",
       "┌─────────────┬───────┬─────┬─────────────┬─────────┬────────────┐\n",
       "│ Employee ID ┆ Name  ┆ Age ┆ Department  ┆ Salary  ┆ Start Date │\n",
       "│ ---         ┆ ---   ┆ --- ┆ ---         ┆ ---     ┆ ---        │\n",
       "│ i64         ┆ str   ┆ i64 ┆ str         ┆ f64     ┆ date       │\n",
       "╞═════════════╪═══════╪═════╪═════════════╪═════════╪════════════╡\n",
       "│ 1           ┆ Alice ┆ 29  ┆ HR          ┆ 50000.0 ┆ 2023-05-21 │\n",
       "│ 2           ┆ Bob   ┆ 34  ┆ Engineering ┆ 75000.0 ┆ 2019-08-14 │\n",
       "└─────────────┴───────┴─────┴─────────────┴─────────┴────────────┘"
      ]
     },
     "execution_count": 13,
     "metadata": {},
     "output_type": "execute_result"
    }
   ],
   "source": [
    "df.head(2)"
   ]
  },
  {
   "cell_type": "code",
   "execution_count": 14,
   "id": "fad2b76d-e2bd-4b5d-8d3d-b5a3438deaae",
   "metadata": {},
   "outputs": [
    {
     "data": {
      "text/html": [
       "<div><style>\n",
       ".dataframe > thead > tr,\n",
       ".dataframe > tbody > tr {\n",
       "  text-align: right;\n",
       "  white-space: pre-wrap;\n",
       "}\n",
       "</style>\n",
       "<small>shape: (3, 6)</small><table border=\"1\" class=\"dataframe\"><thead><tr><th>Employee ID</th><th>Name</th><th>Age</th><th>Department</th><th>Salary</th><th>Start Date</th></tr><tr><td>i64</td><td>str</td><td>i64</td><td>str</td><td>f64</td><td>date</td></tr></thead><tbody><tr><td>2</td><td>&quot;Bob&quot;</td><td>34</td><td>&quot;Engineering&quot;</td><td>75000.0</td><td>2019-08-14</td></tr><tr><td>3</td><td>&quot;Charlie&quot;</td><td>31</td><td>&quot;Finance&quot;</td><td>60000.0</td><td>2021-01-10</td></tr><tr><td>1</td><td>&quot;Alice&quot;</td><td>29</td><td>&quot;HR&quot;</td><td>50000.0</td><td>2023-05-21</td></tr></tbody></table></div>"
      ],
      "text/plain": [
       "shape: (3, 6)\n",
       "┌─────────────┬─────────┬─────┬─────────────┬─────────┬────────────┐\n",
       "│ Employee ID ┆ Name    ┆ Age ┆ Department  ┆ Salary  ┆ Start Date │\n",
       "│ ---         ┆ ---     ┆ --- ┆ ---         ┆ ---     ┆ ---        │\n",
       "│ i64         ┆ str     ┆ i64 ┆ str         ┆ f64     ┆ date       │\n",
       "╞═════════════╪═════════╪═════╪═════════════╪═════════╪════════════╡\n",
       "│ 2           ┆ Bob     ┆ 34  ┆ Engineering ┆ 75000.0 ┆ 2019-08-14 │\n",
       "│ 3           ┆ Charlie ┆ 31  ┆ Finance     ┆ 60000.0 ┆ 2021-01-10 │\n",
       "│ 1           ┆ Alice   ┆ 29  ┆ HR          ┆ 50000.0 ┆ 2023-05-21 │\n",
       "└─────────────┴─────────┴─────┴─────────────┴─────────┴────────────┘"
      ]
     },
     "execution_count": 14,
     "metadata": {},
     "output_type": "execute_result"
    }
   ],
   "source": [
    "df.sample(3)"
   ]
  },
  {
   "cell_type": "code",
   "execution_count": 15,
   "id": "ddb71ac5-1baa-4113-8eeb-16811addffb9",
   "metadata": {},
   "outputs": [
    {
     "data": {
      "text/html": [
       "<div><style>\n",
       ".dataframe > thead > tr,\n",
       ".dataframe > tbody > tr {\n",
       "  text-align: right;\n",
       "  white-space: pre-wrap;\n",
       "}\n",
       "</style>\n",
       "<small>shape: (9, 7)</small><table border=\"1\" class=\"dataframe\"><thead><tr><th>statistic</th><th>Employee ID</th><th>Name</th><th>Age</th><th>Department</th><th>Salary</th><th>Start Date</th></tr><tr><td>str</td><td>f64</td><td>str</td><td>f64</td><td>str</td><td>f64</td><td>str</td></tr></thead><tbody><tr><td>&quot;count&quot;</td><td>5.0</td><td>&quot;5&quot;</td><td>5.0</td><td>&quot;5&quot;</td><td>5.0</td><td>&quot;5&quot;</td></tr><tr><td>&quot;null_count&quot;</td><td>0.0</td><td>&quot;0&quot;</td><td>0.0</td><td>&quot;0&quot;</td><td>0.0</td><td>&quot;0&quot;</td></tr><tr><td>&quot;mean&quot;</td><td>3.0</td><td>null</td><td>32.8</td><td>null</td><td>65600.0</td><td>&quot;2021-01-26 00:00:00&quot;</td></tr><tr><td>&quot;std&quot;</td><td>1.581139</td><td>null</td><td>5.630275</td><td>null</td><td>14117.365193</td><td>null</td></tr><tr><td>&quot;min&quot;</td><td>1.0</td><td>&quot;Alice&quot;</td><td>28.0</td><td>&quot;Engineering&quot;</td><td>50000.0</td><td>&quot;2018-11-03&quot;</td></tr><tr><td>&quot;25%&quot;</td><td>2.0</td><td>null</td><td>29.0</td><td>null</td><td>58000.0</td><td>&quot;2019-08-14&quot;</td></tr><tr><td>&quot;50%&quot;</td><td>3.0</td><td>null</td><td>31.0</td><td>null</td><td>60000.0</td><td>&quot;2021-01-10&quot;</td></tr><tr><td>&quot;75%&quot;</td><td>4.0</td><td>null</td><td>34.0</td><td>null</td><td>75000.0</td><td>&quot;2022-06-27&quot;</td></tr><tr><td>&quot;max&quot;</td><td>5.0</td><td>&quot;Eve&quot;</td><td>42.0</td><td>&quot;HR&quot;</td><td>85000.0</td><td>&quot;2023-05-21&quot;</td></tr></tbody></table></div>"
      ],
      "text/plain": [
       "shape: (9, 7)\n",
       "┌────────────┬─────────────┬───────┬──────────┬─────────────┬──────────────┬─────────────────────┐\n",
       "│ statistic  ┆ Employee ID ┆ Name  ┆ Age      ┆ Department  ┆ Salary       ┆ Start Date          │\n",
       "│ ---        ┆ ---         ┆ ---   ┆ ---      ┆ ---         ┆ ---          ┆ ---                 │\n",
       "│ str        ┆ f64         ┆ str   ┆ f64      ┆ str         ┆ f64          ┆ str                 │\n",
       "╞════════════╪═════════════╪═══════╪══════════╪═════════════╪══════════════╪═════════════════════╡\n",
       "│ count      ┆ 5.0         ┆ 5     ┆ 5.0      ┆ 5           ┆ 5.0          ┆ 5                   │\n",
       "│ null_count ┆ 0.0         ┆ 0     ┆ 0.0      ┆ 0           ┆ 0.0          ┆ 0                   │\n",
       "│ mean       ┆ 3.0         ┆ null  ┆ 32.8     ┆ null        ┆ 65600.0      ┆ 2021-01-26 00:00:00 │\n",
       "│ std        ┆ 1.581139    ┆ null  ┆ 5.630275 ┆ null        ┆ 14117.365193 ┆ null                │\n",
       "│ min        ┆ 1.0         ┆ Alice ┆ 28.0     ┆ Engineering ┆ 50000.0      ┆ 2018-11-03          │\n",
       "│ 25%        ┆ 2.0         ┆ null  ┆ 29.0     ┆ null        ┆ 58000.0      ┆ 2019-08-14          │\n",
       "│ 50%        ┆ 3.0         ┆ null  ┆ 31.0     ┆ null        ┆ 60000.0      ┆ 2021-01-10          │\n",
       "│ 75%        ┆ 4.0         ┆ null  ┆ 34.0     ┆ null        ┆ 75000.0      ┆ 2022-06-27          │\n",
       "│ max        ┆ 5.0         ┆ Eve   ┆ 42.0     ┆ HR          ┆ 85000.0      ┆ 2023-05-21          │\n",
       "└────────────┴─────────────┴───────┴──────────┴─────────────┴──────────────┴─────────────────────┘"
      ]
     },
     "execution_count": 15,
     "metadata": {},
     "output_type": "execute_result"
    }
   ],
   "source": [
    "df.describe()"
   ]
  },
  {
   "cell_type": "code",
   "execution_count": 16,
   "id": "6e958240-3eba-47b0-a885-1d2cbdb307d6",
   "metadata": {},
   "outputs": [
    {
     "data": {
      "text/plain": [
       "Schema([('Employee ID', Int64),\n",
       "        ('Name', String),\n",
       "        ('Age', Int64),\n",
       "        ('Department', String),\n",
       "        ('Salary', Float64),\n",
       "        ('Start Date', Date)])"
      ]
     },
     "execution_count": 16,
     "metadata": {},
     "output_type": "execute_result"
    }
   ],
   "source": [
    "df.schema"
   ]
  },
  {
   "cell_type": "code",
   "execution_count": 17,
   "id": "8ab87ea2-aa5a-4609-8b5a-40ccd90ae227",
   "metadata": {},
   "outputs": [],
   "source": [
    "df_selected = df.select([\"Name\", \"Age\"])"
   ]
  },
  {
   "cell_type": "code",
   "execution_count": 18,
   "id": "7c051f8e-404c-4e63-adde-be480f970fa4",
   "metadata": {},
   "outputs": [
    {
     "data": {
      "text/html": [
       "<div><style>\n",
       ".dataframe > thead > tr,\n",
       ".dataframe > tbody > tr {\n",
       "  text-align: right;\n",
       "  white-space: pre-wrap;\n",
       "}\n",
       "</style>\n",
       "<small>shape: (5, 2)</small><table border=\"1\" class=\"dataframe\"><thead><tr><th>Name</th><th>Age</th></tr><tr><td>str</td><td>i64</td></tr></thead><tbody><tr><td>&quot;Alice&quot;</td><td>29</td></tr><tr><td>&quot;Bob&quot;</td><td>34</td></tr><tr><td>&quot;Charlie&quot;</td><td>31</td></tr><tr><td>&quot;David&quot;</td><td>28</td></tr><tr><td>&quot;Eve&quot;</td><td>42</td></tr></tbody></table></div>"
      ],
      "text/plain": [
       "shape: (5, 2)\n",
       "┌─────────┬─────┐\n",
       "│ Name    ┆ Age │\n",
       "│ ---     ┆ --- │\n",
       "│ str     ┆ i64 │\n",
       "╞═════════╪═════╡\n",
       "│ Alice   ┆ 29  │\n",
       "│ Bob     ┆ 34  │\n",
       "│ Charlie ┆ 31  │\n",
       "│ David   ┆ 28  │\n",
       "│ Eve     ┆ 42  │\n",
       "└─────────┴─────┘"
      ]
     },
     "execution_count": 18,
     "metadata": {},
     "output_type": "execute_result"
    }
   ],
   "source": [
    "df_selected"
   ]
  },
  {
   "cell_type": "code",
   "execution_count": 19,
   "id": "bf9c1a6c-e9aa-4ecb-a08e-21ae62d02be9",
   "metadata": {},
   "outputs": [
    {
     "data": {
      "text/html": [
       "<div><style>\n",
       ".dataframe > thead > tr,\n",
       ".dataframe > tbody > tr {\n",
       "  text-align: right;\n",
       "  white-space: pre-wrap;\n",
       "}\n",
       "</style>\n",
       "<small>shape: (5, 3)</small><table border=\"1\" class=\"dataframe\"><thead><tr><th>Name</th><th>Age</th><th>Salary</th></tr><tr><td>str</td><td>i64</td><td>f64</td></tr></thead><tbody><tr><td>&quot;Alice&quot;</td><td>29</td><td>50000.0</td></tr><tr><td>&quot;Bob&quot;</td><td>34</td><td>75000.0</td></tr><tr><td>&quot;Charlie&quot;</td><td>31</td><td>60000.0</td></tr><tr><td>&quot;David&quot;</td><td>28</td><td>58000.0</td></tr><tr><td>&quot;Eve&quot;</td><td>42</td><td>85000.0</td></tr></tbody></table></div>"
      ],
      "text/plain": [
       "shape: (5, 3)\n",
       "┌─────────┬─────┬─────────┐\n",
       "│ Name    ┆ Age ┆ Salary  │\n",
       "│ ---     ┆ --- ┆ ---     │\n",
       "│ str     ┆ i64 ┆ f64     │\n",
       "╞═════════╪═════╪═════════╡\n",
       "│ Alice   ┆ 29  ┆ 50000.0 │\n",
       "│ Bob     ┆ 34  ┆ 75000.0 │\n",
       "│ Charlie ┆ 31  ┆ 60000.0 │\n",
       "│ David   ┆ 28  ┆ 58000.0 │\n",
       "│ Eve     ┆ 42  ┆ 85000.0 │\n",
       "└─────────┴─────┴─────────┘"
      ]
     },
     "execution_count": 19,
     "metadata": {},
     "output_type": "execute_result"
    }
   ],
   "source": [
    "df[\"Name\", \"Age\", \"Salary\"]"
   ]
  },
  {
   "cell_type": "code",
   "execution_count": 20,
   "id": "b4c3dd04-a689-4ced-934d-fa0e014eb470",
   "metadata": {},
   "outputs": [
    {
     "data": {
      "text/html": [
       "<div><style>\n",
       ".dataframe > thead > tr,\n",
       ".dataframe > tbody > tr {\n",
       "  text-align: right;\n",
       "  white-space: pre-wrap;\n",
       "}\n",
       "</style>\n",
       "<small>shape: (3, 6)</small><table border=\"1\" class=\"dataframe\"><thead><tr><th>Employee ID</th><th>Name</th><th>Age</th><th>Department</th><th>Salary</th><th>Start Date</th></tr><tr><td>i64</td><td>str</td><td>i64</td><td>str</td><td>f64</td><td>date</td></tr></thead><tbody><tr><td>2</td><td>&quot;Bob&quot;</td><td>34</td><td>&quot;Engineering&quot;</td><td>75000.0</td><td>2019-08-14</td></tr><tr><td>3</td><td>&quot;Charlie&quot;</td><td>31</td><td>&quot;Finance&quot;</td><td>60000.0</td><td>2021-01-10</td></tr><tr><td>5</td><td>&quot;Eve&quot;</td><td>42</td><td>&quot;Finance&quot;</td><td>85000.0</td><td>2022-06-27</td></tr></tbody></table></div>"
      ],
      "text/plain": [
       "shape: (3, 6)\n",
       "┌─────────────┬─────────┬─────┬─────────────┬─────────┬────────────┐\n",
       "│ Employee ID ┆ Name    ┆ Age ┆ Department  ┆ Salary  ┆ Start Date │\n",
       "│ ---         ┆ ---     ┆ --- ┆ ---         ┆ ---     ┆ ---        │\n",
       "│ i64         ┆ str     ┆ i64 ┆ str         ┆ f64     ┆ date       │\n",
       "╞═════════════╪═════════╪═════╪═════════════╪═════════╪════════════╡\n",
       "│ 2           ┆ Bob     ┆ 34  ┆ Engineering ┆ 75000.0 ┆ 2019-08-14 │\n",
       "│ 3           ┆ Charlie ┆ 31  ┆ Finance     ┆ 60000.0 ┆ 2021-01-10 │\n",
       "│ 5           ┆ Eve     ┆ 42  ┆ Finance     ┆ 85000.0 ┆ 2022-06-27 │\n",
       "└─────────────┴─────────┴─────┴─────────────┴─────────┴────────────┘"
      ]
     },
     "execution_count": 20,
     "metadata": {},
     "output_type": "execute_result"
    }
   ],
   "source": [
    "#Empleados que tienen más de 30 años\n",
    "df.filter(pl.col(\"Age\") > 30)"
   ]
  },
  {
   "cell_type": "code",
   "execution_count": 21,
   "id": "cbe6631f-3e16-44c8-848e-7ade3467a7d9",
   "metadata": {},
   "outputs": [
    {
     "data": {
      "text/html": [
       "<div><style>\n",
       ".dataframe > thead > tr,\n",
       ".dataframe > tbody > tr {\n",
       "  text-align: right;\n",
       "  white-space: pre-wrap;\n",
       "}\n",
       "</style>\n",
       "<small>shape: (2, 6)</small><table border=\"1\" class=\"dataframe\"><thead><tr><th>Employee ID</th><th>Name</th><th>Age</th><th>Department</th><th>Salary</th><th>Start Date</th></tr><tr><td>i64</td><td>str</td><td>i64</td><td>str</td><td>f64</td><td>date</td></tr></thead><tbody><tr><td>3</td><td>&quot;Charlie&quot;</td><td>31</td><td>&quot;Finance&quot;</td><td>60000.0</td><td>2021-01-10</td></tr><tr><td>5</td><td>&quot;Eve&quot;</td><td>42</td><td>&quot;Finance&quot;</td><td>85000.0</td><td>2022-06-27</td></tr></tbody></table></div>"
      ],
      "text/plain": [
       "shape: (2, 6)\n",
       "┌─────────────┬─────────┬─────┬────────────┬─────────┬────────────┐\n",
       "│ Employee ID ┆ Name    ┆ Age ┆ Department ┆ Salary  ┆ Start Date │\n",
       "│ ---         ┆ ---     ┆ --- ┆ ---        ┆ ---     ┆ ---        │\n",
       "│ i64         ┆ str     ┆ i64 ┆ str        ┆ f64     ┆ date       │\n",
       "╞═════════════╪═════════╪═════╪════════════╪═════════╪════════════╡\n",
       "│ 3           ┆ Charlie ┆ 31  ┆ Finance    ┆ 60000.0 ┆ 2021-01-10 │\n",
       "│ 5           ┆ Eve     ┆ 42  ┆ Finance    ┆ 85000.0 ┆ 2022-06-27 │\n",
       "└─────────────┴─────────┴─────┴────────────┴─────────┴────────────┘"
      ]
     },
     "execution_count": 21,
     "metadata": {},
     "output_type": "execute_result"
    }
   ],
   "source": [
    "df.filter(pl.col(\"Department\") ==  \"Finance\")"
   ]
  },
  {
   "cell_type": "code",
   "execution_count": 22,
   "id": "87ec235a-90ec-4808-b4e5-3f36fa8d5ad8",
   "metadata": {},
   "outputs": [
    {
     "data": {
      "text/html": [
       "<div><style>\n",
       ".dataframe > thead > tr,\n",
       ".dataframe > tbody > tr {\n",
       "  text-align: right;\n",
       "  white-space: pre-wrap;\n",
       "}\n",
       "</style>\n",
       "<small>shape: (3, 6)</small><table border=\"1\" class=\"dataframe\"><thead><tr><th>Employee ID</th><th>Name</th><th>Age</th><th>Department</th><th>Salary</th><th>Start Date</th></tr><tr><td>i64</td><td>str</td><td>i64</td><td>str</td><td>f64</td><td>date</td></tr></thead><tbody><tr><td>1</td><td>&quot;Alice&quot;</td><td>29</td><td>&quot;HR&quot;</td><td>50000.0</td><td>2023-05-21</td></tr><tr><td>2</td><td>&quot;Bob&quot;</td><td>34</td><td>&quot;Engineering&quot;</td><td>75000.0</td><td>2019-08-14</td></tr><tr><td>4</td><td>&quot;David&quot;</td><td>28</td><td>&quot;HR&quot;</td><td>58000.0</td><td>2018-11-03</td></tr></tbody></table></div>"
      ],
      "text/plain": [
       "shape: (3, 6)\n",
       "┌─────────────┬───────┬─────┬─────────────┬─────────┬────────────┐\n",
       "│ Employee ID ┆ Name  ┆ Age ┆ Department  ┆ Salary  ┆ Start Date │\n",
       "│ ---         ┆ ---   ┆ --- ┆ ---         ┆ ---     ┆ ---        │\n",
       "│ i64         ┆ str   ┆ i64 ┆ str         ┆ f64     ┆ date       │\n",
       "╞═════════════╪═══════╪═════╪═════════════╪═════════╪════════════╡\n",
       "│ 1           ┆ Alice ┆ 29  ┆ HR          ┆ 50000.0 ┆ 2023-05-21 │\n",
       "│ 2           ┆ Bob   ┆ 34  ┆ Engineering ┆ 75000.0 ┆ 2019-08-14 │\n",
       "│ 4           ┆ David ┆ 28  ┆ HR          ┆ 58000.0 ┆ 2018-11-03 │\n",
       "└─────────────┴───────┴─────┴─────────────┴─────────┴────────────┘"
      ]
     },
     "execution_count": 22,
     "metadata": {},
     "output_type": "execute_result"
    }
   ],
   "source": [
    "df.filter(pl.col(\"Department\") !=  \"Finance\")"
   ]
  },
  {
   "cell_type": "code",
   "execution_count": 23,
   "id": "f8874038-096a-4881-8421-90f876995a45",
   "metadata": {},
   "outputs": [
    {
     "data": {
      "text/html": [
       "<div><style>\n",
       ".dataframe > thead > tr,\n",
       ".dataframe > tbody > tr {\n",
       "  text-align: right;\n",
       "  white-space: pre-wrap;\n",
       "}\n",
       "</style>\n",
       "<small>shape: (1, 6)</small><table border=\"1\" class=\"dataframe\"><thead><tr><th>Employee ID</th><th>Name</th><th>Age</th><th>Department</th><th>Salary</th><th>Start Date</th></tr><tr><td>i64</td><td>str</td><td>i64</td><td>str</td><td>f64</td><td>date</td></tr></thead><tbody><tr><td>5</td><td>&quot;Eve&quot;</td><td>42</td><td>&quot;Finance&quot;</td><td>85000.0</td><td>2022-06-27</td></tr></tbody></table></div>"
      ],
      "text/plain": [
       "shape: (1, 6)\n",
       "┌─────────────┬──────┬─────┬────────────┬─────────┬────────────┐\n",
       "│ Employee ID ┆ Name ┆ Age ┆ Department ┆ Salary  ┆ Start Date │\n",
       "│ ---         ┆ ---  ┆ --- ┆ ---        ┆ ---     ┆ ---        │\n",
       "│ i64         ┆ str  ┆ i64 ┆ str        ┆ f64     ┆ date       │\n",
       "╞═════════════╪══════╪═════╪════════════╪═════════╪════════════╡\n",
       "│ 5           ┆ Eve  ┆ 42  ┆ Finance    ┆ 85000.0 ┆ 2022-06-27 │\n",
       "└─────────────┴──────┴─────┴────────────┴─────────┴────────────┘"
      ]
     },
     "execution_count": 23,
     "metadata": {},
     "output_type": "execute_result"
    }
   ],
   "source": [
    "df.filter(pl.col(\"Department\") ==  \"Finance\", pl.col(\"Salary\") > 62000)"
   ]
  },
  {
   "cell_type": "code",
   "execution_count": 24,
   "id": "d7ad4aee-9ae0-42b3-9182-84c564ab23fb",
   "metadata": {},
   "outputs": [
    {
     "data": {
      "text/html": [
       "<div><style>\n",
       ".dataframe > thead > tr,\n",
       ".dataframe > tbody > tr {\n",
       "  text-align: right;\n",
       "  white-space: pre-wrap;\n",
       "}\n",
       "</style>\n",
       "<small>shape: (5, 7)</small><table border=\"1\" class=\"dataframe\"><thead><tr><th>Employee ID</th><th>Name</th><th>Age</th><th>Department</th><th>Salary</th><th>Start Date</th><th>Monthly Salary</th></tr><tr><td>i64</td><td>str</td><td>i64</td><td>str</td><td>f64</td><td>date</td><td>f64</td></tr></thead><tbody><tr><td>1</td><td>&quot;Alice&quot;</td><td>29</td><td>&quot;HR&quot;</td><td>50000.0</td><td>2023-05-21</td><td>4166.666667</td></tr><tr><td>2</td><td>&quot;Bob&quot;</td><td>34</td><td>&quot;Engineering&quot;</td><td>75000.0</td><td>2019-08-14</td><td>6250.0</td></tr><tr><td>3</td><td>&quot;Charlie&quot;</td><td>31</td><td>&quot;Finance&quot;</td><td>60000.0</td><td>2021-01-10</td><td>5000.0</td></tr><tr><td>4</td><td>&quot;David&quot;</td><td>28</td><td>&quot;HR&quot;</td><td>58000.0</td><td>2018-11-03</td><td>4833.333333</td></tr><tr><td>5</td><td>&quot;Eve&quot;</td><td>42</td><td>&quot;Finance&quot;</td><td>85000.0</td><td>2022-06-27</td><td>7083.333333</td></tr></tbody></table></div>"
      ],
      "text/plain": [
       "shape: (5, 7)\n",
       "┌─────────────┬─────────┬─────┬─────────────┬─────────┬────────────┬────────────────┐\n",
       "│ Employee ID ┆ Name    ┆ Age ┆ Department  ┆ Salary  ┆ Start Date ┆ Monthly Salary │\n",
       "│ ---         ┆ ---     ┆ --- ┆ ---         ┆ ---     ┆ ---        ┆ ---            │\n",
       "│ i64         ┆ str     ┆ i64 ┆ str         ┆ f64     ┆ date       ┆ f64            │\n",
       "╞═════════════╪═════════╪═════╪═════════════╪═════════╪════════════╪════════════════╡\n",
       "│ 1           ┆ Alice   ┆ 29  ┆ HR          ┆ 50000.0 ┆ 2023-05-21 ┆ 4166.666667    │\n",
       "│ 2           ┆ Bob     ┆ 34  ┆ Engineering ┆ 75000.0 ┆ 2019-08-14 ┆ 6250.0         │\n",
       "│ 3           ┆ Charlie ┆ 31  ┆ Finance     ┆ 60000.0 ┆ 2021-01-10 ┆ 5000.0         │\n",
       "│ 4           ┆ David   ┆ 28  ┆ HR          ┆ 58000.0 ┆ 2018-11-03 ┆ 4833.333333    │\n",
       "│ 5           ┆ Eve     ┆ 42  ┆ Finance     ┆ 85000.0 ┆ 2022-06-27 ┆ 7083.333333    │\n",
       "└─────────────┴─────────┴─────┴─────────────┴─────────┴────────────┴────────────────┘"
      ]
     },
     "execution_count": 24,
     "metadata": {},
     "output_type": "execute_result"
    }
   ],
   "source": [
    "# Calculemos sueldo mensual\n",
    "df.with_columns((pl.col(\"Salary\") /12).alias(\"Monthly Salary\"))"
   ]
  },
  {
   "cell_type": "code",
   "execution_count": 25,
   "id": "2c36dd53-8bf3-4603-96a4-e6e2a9fafc4e",
   "metadata": {},
   "outputs": [
    {
     "data": {
      "text/html": [
       "<div><style>\n",
       ".dataframe > thead > tr,\n",
       ".dataframe > tbody > tr {\n",
       "  text-align: right;\n",
       "  white-space: pre-wrap;\n",
       "}\n",
       "</style>\n",
       "<small>shape: (5, 7)</small><table border=\"1\" class=\"dataframe\"><thead><tr><th>Employee ID</th><th>Name</th><th>Age</th><th>Department</th><th>Salary</th><th>Start Date</th><th>Monthly Salary</th></tr><tr><td>i64</td><td>str</td><td>i64</td><td>str</td><td>f64</td><td>date</td><td>f64</td></tr></thead><tbody><tr><td>1</td><td>&quot;Alice&quot;</td><td>29</td><td>&quot;HR&quot;</td><td>50000.0</td><td>2023-05-21</td><td>4166.7</td></tr><tr><td>2</td><td>&quot;Bob&quot;</td><td>34</td><td>&quot;Engineering&quot;</td><td>75000.0</td><td>2019-08-14</td><td>6250.0</td></tr><tr><td>3</td><td>&quot;Charlie&quot;</td><td>31</td><td>&quot;Finance&quot;</td><td>60000.0</td><td>2021-01-10</td><td>5000.0</td></tr><tr><td>4</td><td>&quot;David&quot;</td><td>28</td><td>&quot;HR&quot;</td><td>58000.0</td><td>2018-11-03</td><td>4833.3</td></tr><tr><td>5</td><td>&quot;Eve&quot;</td><td>42</td><td>&quot;Finance&quot;</td><td>85000.0</td><td>2022-06-27</td><td>7083.3</td></tr></tbody></table></div>"
      ],
      "text/plain": [
       "shape: (5, 7)\n",
       "┌─────────────┬─────────┬─────┬─────────────┬─────────┬────────────┬────────────────┐\n",
       "│ Employee ID ┆ Name    ┆ Age ┆ Department  ┆ Salary  ┆ Start Date ┆ Monthly Salary │\n",
       "│ ---         ┆ ---     ┆ --- ┆ ---         ┆ ---     ┆ ---        ┆ ---            │\n",
       "│ i64         ┆ str     ┆ i64 ┆ str         ┆ f64     ┆ date       ┆ f64            │\n",
       "╞═════════════╪═════════╪═════╪═════════════╪═════════╪════════════╪════════════════╡\n",
       "│ 1           ┆ Alice   ┆ 29  ┆ HR          ┆ 50000.0 ┆ 2023-05-21 ┆ 4166.7         │\n",
       "│ 2           ┆ Bob     ┆ 34  ┆ Engineering ┆ 75000.0 ┆ 2019-08-14 ┆ 6250.0         │\n",
       "│ 3           ┆ Charlie ┆ 31  ┆ Finance     ┆ 60000.0 ┆ 2021-01-10 ┆ 5000.0         │\n",
       "│ 4           ┆ David   ┆ 28  ┆ HR          ┆ 58000.0 ┆ 2018-11-03 ┆ 4833.3         │\n",
       "│ 5           ┆ Eve     ┆ 42  ┆ Finance     ┆ 85000.0 ┆ 2022-06-27 ┆ 7083.3         │\n",
       "└─────────────┴─────────┴─────┴─────────────┴─────────┴────────────┴────────────────┘"
      ]
     },
     "execution_count": 25,
     "metadata": {},
     "output_type": "execute_result"
    }
   ],
   "source": [
    "# Calculemos sueldo mensual redondeado\n",
    "df.with_columns((pl.col(\"Salary\") / 12).round(1).alias(\"Monthly Salary\"))"
   ]
  },
  {
   "cell_type": "code",
   "execution_count": 26,
   "id": "4eec0d8f-b280-4cf1-a19e-874f01ce575d",
   "metadata": {},
   "outputs": [
    {
     "data": {
      "text/html": [
       "<div><style>\n",
       ".dataframe > thead > tr,\n",
       ".dataframe > tbody > tr {\n",
       "  text-align: right;\n",
       "  white-space: pre-wrap;\n",
       "}\n",
       "</style>\n",
       "<small>shape: (5, 6)</small><table border=\"1\" class=\"dataframe\"><thead><tr><th>Employee ID</th><th>Name</th><th>Age</th><th>Department</th><th>Salary</th><th>Start Date</th></tr><tr><td>i64</td><td>str</td><td>i64</td><td>str</td><td>f64</td><td>date</td></tr></thead><tbody><tr><td>1</td><td>&quot;Alice&quot;</td><td>29</td><td>&quot;HR&quot;</td><td>50000.0</td><td>2023-05-21</td></tr><tr><td>2</td><td>&quot;Bob&quot;</td><td>34</td><td>&quot;Engineering&quot;</td><td>75000.0</td><td>2019-08-14</td></tr><tr><td>3</td><td>&quot;Charlie&quot;</td><td>31</td><td>&quot;Finance&quot;</td><td>60000.0</td><td>2021-01-10</td></tr><tr><td>4</td><td>&quot;David&quot;</td><td>28</td><td>&quot;HR&quot;</td><td>58000.0</td><td>2018-11-03</td></tr><tr><td>5</td><td>&quot;Eve&quot;</td><td>42</td><td>&quot;Finance&quot;</td><td>85000.0</td><td>2022-06-27</td></tr></tbody></table></div>"
      ],
      "text/plain": [
       "shape: (5, 6)\n",
       "┌─────────────┬─────────┬─────┬─────────────┬─────────┬────────────┐\n",
       "│ Employee ID ┆ Name    ┆ Age ┆ Department  ┆ Salary  ┆ Start Date │\n",
       "│ ---         ┆ ---     ┆ --- ┆ ---         ┆ ---     ┆ ---        │\n",
       "│ i64         ┆ str     ┆ i64 ┆ str         ┆ f64     ┆ date       │\n",
       "╞═════════════╪═════════╪═════╪═════════════╪═════════╪════════════╡\n",
       "│ 1           ┆ Alice   ┆ 29  ┆ HR          ┆ 50000.0 ┆ 2023-05-21 │\n",
       "│ 2           ┆ Bob     ┆ 34  ┆ Engineering ┆ 75000.0 ┆ 2019-08-14 │\n",
       "│ 3           ┆ Charlie ┆ 31  ┆ Finance     ┆ 60000.0 ┆ 2021-01-10 │\n",
       "│ 4           ┆ David   ┆ 28  ┆ HR          ┆ 58000.0 ┆ 2018-11-03 │\n",
       "│ 5           ┆ Eve     ┆ 42  ┆ Finance     ┆ 85000.0 ┆ 2022-06-27 │\n",
       "└─────────────┴─────────┴─────┴─────────────┴─────────┴────────────┘"
      ]
     },
     "execution_count": 26,
     "metadata": {},
     "output_type": "execute_result"
    }
   ],
   "source": [
    "# Esto no cambia el df\n",
    "df"
   ]
  },
  {
   "cell_type": "code",
   "execution_count": 27,
   "id": "6994ab64-8f8d-4b73-8892-90a5041e1655",
   "metadata": {},
   "outputs": [
    {
     "data": {
      "text/html": [
       "<div><style>\n",
       ".dataframe > thead > tr,\n",
       ".dataframe > tbody > tr {\n",
       "  text-align: right;\n",
       "  white-space: pre-wrap;\n",
       "}\n",
       "</style>\n",
       "<small>shape: (5, 7)</small><table border=\"1\" class=\"dataframe\"><thead><tr><th>Employee ID</th><th>Name</th><th>Age</th><th>Department</th><th>Salary</th><th>Start Date</th><th>Monthly Salary</th></tr><tr><td>i64</td><td>str</td><td>i64</td><td>str</td><td>f64</td><td>date</td><td>f64</td></tr></thead><tbody><tr><td>1</td><td>&quot;Alice&quot;</td><td>29</td><td>&quot;HR&quot;</td><td>50000.0</td><td>2023-05-21</td><td>4166.7</td></tr><tr><td>2</td><td>&quot;Bob&quot;</td><td>34</td><td>&quot;Engineering&quot;</td><td>75000.0</td><td>2019-08-14</td><td>6250.0</td></tr><tr><td>3</td><td>&quot;Charlie&quot;</td><td>31</td><td>&quot;Finance&quot;</td><td>60000.0</td><td>2021-01-10</td><td>5000.0</td></tr><tr><td>4</td><td>&quot;David&quot;</td><td>28</td><td>&quot;HR&quot;</td><td>58000.0</td><td>2018-11-03</td><td>4833.3</td></tr><tr><td>5</td><td>&quot;Eve&quot;</td><td>42</td><td>&quot;Finance&quot;</td><td>85000.0</td><td>2022-06-27</td><td>7083.3</td></tr></tbody></table></div>"
      ],
      "text/plain": [
       "shape: (5, 7)\n",
       "┌─────────────┬─────────┬─────┬─────────────┬─────────┬────────────┬────────────────┐\n",
       "│ Employee ID ┆ Name    ┆ Age ┆ Department  ┆ Salary  ┆ Start Date ┆ Monthly Salary │\n",
       "│ ---         ┆ ---     ┆ --- ┆ ---         ┆ ---     ┆ ---        ┆ ---            │\n",
       "│ i64         ┆ str     ┆ i64 ┆ str         ┆ f64     ┆ date       ┆ f64            │\n",
       "╞═════════════╪═════════╪═════╪═════════════╪═════════╪════════════╪════════════════╡\n",
       "│ 1           ┆ Alice   ┆ 29  ┆ HR          ┆ 50000.0 ┆ 2023-05-21 ┆ 4166.7         │\n",
       "│ 2           ┆ Bob     ┆ 34  ┆ Engineering ┆ 75000.0 ┆ 2019-08-14 ┆ 6250.0         │\n",
       "│ 3           ┆ Charlie ┆ 31  ┆ Finance     ┆ 60000.0 ┆ 2021-01-10 ┆ 5000.0         │\n",
       "│ 4           ┆ David   ┆ 28  ┆ HR          ┆ 58000.0 ┆ 2018-11-03 ┆ 4833.3         │\n",
       "│ 5           ┆ Eve     ┆ 42  ┆ Finance     ┆ 85000.0 ┆ 2022-06-27 ┆ 7083.3         │\n",
       "└─────────────┴─────────┴─────┴─────────────┴─────────┴────────────┴────────────────┘"
      ]
     },
     "execution_count": 27,
     "metadata": {},
     "output_type": "execute_result"
    }
   ],
   "source": [
    "df = df.with_columns((pl.col(\"Salary\") / 12).round(1).alias(\"Monthly Salary\"))\n",
    "df"
   ]
  },
  {
   "cell_type": "code",
   "execution_count": 28,
   "id": "8fb59d3e-aa0a-49a4-9210-099746637b5e",
   "metadata": {},
   "outputs": [
    {
     "data": {
      "text/html": [
       "<div><style>\n",
       ".dataframe > thead > tr,\n",
       ".dataframe > tbody > tr {\n",
       "  text-align: right;\n",
       "  white-space: pre-wrap;\n",
       "}\n",
       "</style>\n",
       "<small>shape: (5, 6)</small><table border=\"1\" class=\"dataframe\"><thead><tr><th>Employee ID</th><th>Name</th><th>Age</th><th>Department</th><th>Salary</th><th>Start Date</th></tr><tr><td>i64</td><td>str</td><td>i64</td><td>str</td><td>f64</td><td>date</td></tr></thead><tbody><tr><td>1</td><td>&quot;Alice&quot;</td><td>29</td><td>&quot;HR&quot;</td><td>50000.0</td><td>2023-05-21</td></tr><tr><td>2</td><td>&quot;Bob&quot;</td><td>34</td><td>&quot;Engineering&quot;</td><td>75000.0</td><td>2019-08-14</td></tr><tr><td>3</td><td>&quot;Charlie&quot;</td><td>31</td><td>&quot;Finance&quot;</td><td>60000.0</td><td>2021-01-10</td></tr><tr><td>4</td><td>&quot;David&quot;</td><td>28</td><td>&quot;HR&quot;</td><td>58000.0</td><td>2018-11-03</td></tr><tr><td>5</td><td>&quot;Eve&quot;</td><td>42</td><td>&quot;Finance&quot;</td><td>85000.0</td><td>2022-06-27</td></tr></tbody></table></div>"
      ],
      "text/plain": [
       "shape: (5, 6)\n",
       "┌─────────────┬─────────┬─────┬─────────────┬─────────┬────────────┐\n",
       "│ Employee ID ┆ Name    ┆ Age ┆ Department  ┆ Salary  ┆ Start Date │\n",
       "│ ---         ┆ ---     ┆ --- ┆ ---         ┆ ---     ┆ ---        │\n",
       "│ i64         ┆ str     ┆ i64 ┆ str         ┆ f64     ┆ date       │\n",
       "╞═════════════╪═════════╪═════╪═════════════╪═════════╪════════════╡\n",
       "│ 1           ┆ Alice   ┆ 29  ┆ HR          ┆ 50000.0 ┆ 2023-05-21 │\n",
       "│ 2           ┆ Bob     ┆ 34  ┆ Engineering ┆ 75000.0 ┆ 2019-08-14 │\n",
       "│ 3           ┆ Charlie ┆ 31  ┆ Finance     ┆ 60000.0 ┆ 2021-01-10 │\n",
       "│ 4           ┆ David   ┆ 28  ┆ HR          ┆ 58000.0 ┆ 2018-11-03 │\n",
       "│ 5           ┆ Eve     ┆ 42  ┆ Finance     ┆ 85000.0 ┆ 2022-06-27 │\n",
       "└─────────────┴─────────┴─────┴─────────────┴─────────┴────────────┘"
      ]
     },
     "execution_count": 28,
     "metadata": {},
     "output_type": "execute_result"
    }
   ],
   "source": [
    "# Borremos esa columna\n",
    "df.drop(\"Monthly Salary\")"
   ]
  },
  {
   "cell_type": "code",
   "execution_count": 29,
   "id": "c6cd1c4b-e68a-4356-b2b7-4a6afa5b076c",
   "metadata": {},
   "outputs": [
    {
     "data": {
      "text/html": [
       "<div><style>\n",
       ".dataframe > thead > tr,\n",
       ".dataframe > tbody > tr {\n",
       "  text-align: right;\n",
       "  white-space: pre-wrap;\n",
       "}\n",
       "</style>\n",
       "<small>shape: (5, 7)</small><table border=\"1\" class=\"dataframe\"><thead><tr><th>Employee ID</th><th>Name</th><th>Age</th><th>Department</th><th>Salary</th><th>Start Date</th><th>Monthly Salary</th></tr><tr><td>i64</td><td>str</td><td>i64</td><td>str</td><td>f64</td><td>date</td><td>f64</td></tr></thead><tbody><tr><td>1</td><td>&quot;Alice&quot;</td><td>29</td><td>&quot;HR&quot;</td><td>50000.0</td><td>2023-05-21</td><td>4166.7</td></tr><tr><td>2</td><td>&quot;Bob&quot;</td><td>34</td><td>&quot;Engineering&quot;</td><td>75000.0</td><td>2019-08-14</td><td>6250.0</td></tr><tr><td>3</td><td>&quot;Charlie&quot;</td><td>31</td><td>&quot;Finance&quot;</td><td>60000.0</td><td>2021-01-10</td><td>5000.0</td></tr><tr><td>4</td><td>&quot;David&quot;</td><td>28</td><td>&quot;HR&quot;</td><td>58000.0</td><td>2018-11-03</td><td>4833.3</td></tr><tr><td>5</td><td>&quot;Eve&quot;</td><td>42</td><td>&quot;Finance&quot;</td><td>85000.0</td><td>2022-06-27</td><td>7083.3</td></tr></tbody></table></div>"
      ],
      "text/plain": [
       "shape: (5, 7)\n",
       "┌─────────────┬─────────┬─────┬─────────────┬─────────┬────────────┬────────────────┐\n",
       "│ Employee ID ┆ Name    ┆ Age ┆ Department  ┆ Salary  ┆ Start Date ┆ Monthly Salary │\n",
       "│ ---         ┆ ---     ┆ --- ┆ ---         ┆ ---     ┆ ---        ┆ ---            │\n",
       "│ i64         ┆ str     ┆ i64 ┆ str         ┆ f64     ┆ date       ┆ f64            │\n",
       "╞═════════════╪═════════╪═════╪═════════════╪═════════╪════════════╪════════════════╡\n",
       "│ 1           ┆ Alice   ┆ 29  ┆ HR          ┆ 50000.0 ┆ 2023-05-21 ┆ 4166.7         │\n",
       "│ 2           ┆ Bob     ┆ 34  ┆ Engineering ┆ 75000.0 ┆ 2019-08-14 ┆ 6250.0         │\n",
       "│ 3           ┆ Charlie ┆ 31  ┆ Finance     ┆ 60000.0 ┆ 2021-01-10 ┆ 5000.0         │\n",
       "│ 4           ┆ David   ┆ 28  ┆ HR          ┆ 58000.0 ┆ 2018-11-03 ┆ 4833.3         │\n",
       "│ 5           ┆ Eve     ┆ 42  ┆ Finance     ┆ 85000.0 ┆ 2022-06-27 ┆ 7083.3         │\n",
       "└─────────────┴─────────┴─────┴─────────────┴─────────┴────────────┴────────────────┘"
      ]
     },
     "execution_count": 29,
     "metadata": {},
     "output_type": "execute_result"
    }
   ],
   "source": [
    "# No es inplace \n",
    "df"
   ]
  },
  {
   "cell_type": "code",
   "execution_count": 30,
   "id": "dead6bee-4f17-44bb-8cf9-b613d5982644",
   "metadata": {},
   "outputs": [],
   "source": [
    "df = df.drop(\"Monthly Salary\")"
   ]
  },
  {
   "cell_type": "code",
   "execution_count": 31,
   "id": "1fe1bee0-5267-4d26-b9ab-66022811ca3b",
   "metadata": {},
   "outputs": [
    {
     "data": {
      "text/html": [
       "<div><style>\n",
       ".dataframe > thead > tr,\n",
       ".dataframe > tbody > tr {\n",
       "  text-align: right;\n",
       "  white-space: pre-wrap;\n",
       "}\n",
       "</style>\n",
       "<small>shape: (5, 6)</small><table border=\"1\" class=\"dataframe\"><thead><tr><th>Employee ID</th><th>Name</th><th>Age</th><th>Department</th><th>Salary</th><th>Start Date</th></tr><tr><td>i64</td><td>str</td><td>i64</td><td>str</td><td>f64</td><td>date</td></tr></thead><tbody><tr><td>1</td><td>&quot;Alice&quot;</td><td>29</td><td>&quot;HR&quot;</td><td>50000.0</td><td>2023-05-21</td></tr><tr><td>2</td><td>&quot;Bob&quot;</td><td>34</td><td>&quot;Engineering&quot;</td><td>75000.0</td><td>2019-08-14</td></tr><tr><td>3</td><td>&quot;Charlie&quot;</td><td>31</td><td>&quot;Finance&quot;</td><td>60000.0</td><td>2021-01-10</td></tr><tr><td>4</td><td>&quot;David&quot;</td><td>28</td><td>&quot;HR&quot;</td><td>58000.0</td><td>2018-11-03</td></tr><tr><td>5</td><td>&quot;Eve&quot;</td><td>42</td><td>&quot;Finance&quot;</td><td>85000.0</td><td>2022-06-27</td></tr></tbody></table></div>"
      ],
      "text/plain": [
       "shape: (5, 6)\n",
       "┌─────────────┬─────────┬─────┬─────────────┬─────────┬────────────┐\n",
       "│ Employee ID ┆ Name    ┆ Age ┆ Department  ┆ Salary  ┆ Start Date │\n",
       "│ ---         ┆ ---     ┆ --- ┆ ---         ┆ ---     ┆ ---        │\n",
       "│ i64         ┆ str     ┆ i64 ┆ str         ┆ f64     ┆ date       │\n",
       "╞═════════════╪═════════╪═════╪═════════════╪═════════╪════════════╡\n",
       "│ 1           ┆ Alice   ┆ 29  ┆ HR          ┆ 50000.0 ┆ 2023-05-21 │\n",
       "│ 2           ┆ Bob     ┆ 34  ┆ Engineering ┆ 75000.0 ┆ 2019-08-14 │\n",
       "│ 3           ┆ Charlie ┆ 31  ┆ Finance     ┆ 60000.0 ┆ 2021-01-10 │\n",
       "│ 4           ┆ David   ┆ 28  ┆ HR          ┆ 58000.0 ┆ 2018-11-03 │\n",
       "│ 5           ┆ Eve     ┆ 42  ┆ Finance     ┆ 85000.0 ┆ 2022-06-27 │\n",
       "└─────────────┴─────────┴─────┴─────────────┴─────────┴────────────┘"
      ]
     },
     "execution_count": 31,
     "metadata": {},
     "output_type": "execute_result"
    }
   ],
   "source": [
    "df"
   ]
  },
  {
   "cell_type": "code",
   "execution_count": 32,
   "id": "86b5c10e-f66c-42c9-80fa-520e486dc5f7",
   "metadata": {},
   "outputs": [
    {
     "data": {
      "text/html": [
       "<div><style>\n",
       ".dataframe > thead > tr,\n",
       ".dataframe > tbody > tr {\n",
       "  text-align: right;\n",
       "  white-space: pre-wrap;\n",
       "}\n",
       "</style>\n",
       "<small>shape: (5, 6)</small><table border=\"1\" class=\"dataframe\"><thead><tr><th>Employee ID</th><th>Name</th><th>Age</th><th>Department</th><th>Salary</th><th>Start Date</th></tr><tr><td>i64</td><td>str</td><td>i64</td><td>str</td><td>f64</td><td>date</td></tr></thead><tbody><tr><td>1</td><td>&quot;Alice&quot;</td><td>29</td><td>&quot;HR&quot;</td><td>50000.0</td><td>2023-05-21</td></tr><tr><td>4</td><td>&quot;David&quot;</td><td>28</td><td>&quot;HR&quot;</td><td>58000.0</td><td>2018-11-03</td></tr><tr><td>3</td><td>&quot;Charlie&quot;</td><td>31</td><td>&quot;Finance&quot;</td><td>60000.0</td><td>2021-01-10</td></tr><tr><td>2</td><td>&quot;Bob&quot;</td><td>34</td><td>&quot;Engineering&quot;</td><td>75000.0</td><td>2019-08-14</td></tr><tr><td>5</td><td>&quot;Eve&quot;</td><td>42</td><td>&quot;Finance&quot;</td><td>85000.0</td><td>2022-06-27</td></tr></tbody></table></div>"
      ],
      "text/plain": [
       "shape: (5, 6)\n",
       "┌─────────────┬─────────┬─────┬─────────────┬─────────┬────────────┐\n",
       "│ Employee ID ┆ Name    ┆ Age ┆ Department  ┆ Salary  ┆ Start Date │\n",
       "│ ---         ┆ ---     ┆ --- ┆ ---         ┆ ---     ┆ ---        │\n",
       "│ i64         ┆ str     ┆ i64 ┆ str         ┆ f64     ┆ date       │\n",
       "╞═════════════╪═════════╪═════╪═════════════╪═════════╪════════════╡\n",
       "│ 1           ┆ Alice   ┆ 29  ┆ HR          ┆ 50000.0 ┆ 2023-05-21 │\n",
       "│ 4           ┆ David   ┆ 28  ┆ HR          ┆ 58000.0 ┆ 2018-11-03 │\n",
       "│ 3           ┆ Charlie ┆ 31  ┆ Finance     ┆ 60000.0 ┆ 2021-01-10 │\n",
       "│ 2           ┆ Bob     ┆ 34  ┆ Engineering ┆ 75000.0 ┆ 2019-08-14 │\n",
       "│ 5           ┆ Eve     ┆ 42  ┆ Finance     ┆ 85000.0 ┆ 2022-06-27 │\n",
       "└─────────────┴─────────┴─────┴─────────────┴─────────┴────────────┘"
      ]
     },
     "execution_count": 32,
     "metadata": {},
     "output_type": "execute_result"
    }
   ],
   "source": [
    "df.sort(\"Salary\")"
   ]
  },
  {
   "cell_type": "code",
   "execution_count": 33,
   "id": "6eac99ff-c51d-4fb4-bb43-ecc89be4919d",
   "metadata": {},
   "outputs": [
    {
     "data": {
      "text/html": [
       "<div><style>\n",
       ".dataframe > thead > tr,\n",
       ".dataframe > tbody > tr {\n",
       "  text-align: right;\n",
       "  white-space: pre-wrap;\n",
       "}\n",
       "</style>\n",
       "<small>shape: (5, 6)</small><table border=\"1\" class=\"dataframe\"><thead><tr><th>Employee ID</th><th>Name</th><th>Age</th><th>Department</th><th>Salary</th><th>Start Date</th></tr><tr><td>i64</td><td>str</td><td>i64</td><td>str</td><td>f64</td><td>date</td></tr></thead><tbody><tr><td>1</td><td>&quot;Alice&quot;</td><td>29</td><td>&quot;HR&quot;</td><td>50000.0</td><td>2023-05-21</td></tr><tr><td>5</td><td>&quot;Eve&quot;</td><td>42</td><td>&quot;Finance&quot;</td><td>85000.0</td><td>2022-06-27</td></tr><tr><td>3</td><td>&quot;Charlie&quot;</td><td>31</td><td>&quot;Finance&quot;</td><td>60000.0</td><td>2021-01-10</td></tr><tr><td>2</td><td>&quot;Bob&quot;</td><td>34</td><td>&quot;Engineering&quot;</td><td>75000.0</td><td>2019-08-14</td></tr><tr><td>4</td><td>&quot;David&quot;</td><td>28</td><td>&quot;HR&quot;</td><td>58000.0</td><td>2018-11-03</td></tr></tbody></table></div>"
      ],
      "text/plain": [
       "shape: (5, 6)\n",
       "┌─────────────┬─────────┬─────┬─────────────┬─────────┬────────────┐\n",
       "│ Employee ID ┆ Name    ┆ Age ┆ Department  ┆ Salary  ┆ Start Date │\n",
       "│ ---         ┆ ---     ┆ --- ┆ ---         ┆ ---     ┆ ---        │\n",
       "│ i64         ┆ str     ┆ i64 ┆ str         ┆ f64     ┆ date       │\n",
       "╞═════════════╪═════════╪═════╪═════════════╪═════════╪════════════╡\n",
       "│ 1           ┆ Alice   ┆ 29  ┆ HR          ┆ 50000.0 ┆ 2023-05-21 │\n",
       "│ 5           ┆ Eve     ┆ 42  ┆ Finance     ┆ 85000.0 ┆ 2022-06-27 │\n",
       "│ 3           ┆ Charlie ┆ 31  ┆ Finance     ┆ 60000.0 ┆ 2021-01-10 │\n",
       "│ 2           ┆ Bob     ┆ 34  ┆ Engineering ┆ 75000.0 ┆ 2019-08-14 │\n",
       "│ 4           ┆ David   ┆ 28  ┆ HR          ┆ 58000.0 ┆ 2018-11-03 │\n",
       "└─────────────┴─────────┴─────┴─────────────┴─────────┴────────────┘"
      ]
     },
     "execution_count": 33,
     "metadata": {},
     "output_type": "execute_result"
    }
   ],
   "source": [
    "df.sort(\"Start Date\", descending=True)"
   ]
  },
  {
   "cell_type": "code",
   "execution_count": 34,
   "id": "b52b03b1-6055-4b8b-bd11-0f1778fb5115",
   "metadata": {},
   "outputs": [
    {
     "data": {
      "text/plain": [
       "85000.0"
      ]
     },
     "execution_count": 34,
     "metadata": {},
     "output_type": "execute_result"
    }
   ],
   "source": [
    "df[\"Salary\"].max()"
   ]
  },
  {
   "cell_type": "code",
   "execution_count": 35,
   "id": "8bee5573-e7d0-44b0-a804-1f12c9b4cc8c",
   "metadata": {},
   "outputs": [
    {
     "data": {
      "text/plain": [
       "31.0"
      ]
     },
     "execution_count": 35,
     "metadata": {},
     "output_type": "execute_result"
    }
   ],
   "source": [
    "df[\"Age\"].median()"
   ]
  },
  {
   "cell_type": "code",
   "execution_count": 36,
   "id": "2d0470d5-ff7b-46f1-8686-afae68419705",
   "metadata": {},
   "outputs": [
    {
     "data": {
      "text/plain": [
       "85000.0"
      ]
     },
     "execution_count": 36,
     "metadata": {},
     "output_type": "execute_result"
    }
   ],
   "source": [
    "df.filter(pl.col(\"Age\") > 30)[\"Salary\"].max()"
   ]
  },
  {
   "cell_type": "code",
   "execution_count": 37,
   "id": "ce9f4484-5ab5-4f86-ad1d-59c25caaa3e1",
   "metadata": {},
   "outputs": [
    {
     "data": {
      "text/plain": [
       "float"
      ]
     },
     "execution_count": 37,
     "metadata": {},
     "output_type": "execute_result"
    }
   ],
   "source": [
    "type(df.filter(pl.col(\"Age\") > 30)[\"Salary\"].max())"
   ]
  },
  {
   "cell_type": "code",
   "execution_count": 38,
   "id": "419b3c19-8715-4fb7-9789-7f86dd755858",
   "metadata": {},
   "outputs": [
    {
     "data": {
      "text/plain": [
       "<polars.dataframe.group_by.GroupBy at 0x1162591f0>"
      ]
     },
     "execution_count": 38,
     "metadata": {},
     "output_type": "execute_result"
    }
   ],
   "source": [
    "df.group_by(\"Department\")"
   ]
  },
  {
   "cell_type": "code",
   "execution_count": 39,
   "id": "086094cb-bc86-4a46-bd5f-2acb77bb4066",
   "metadata": {},
   "outputs": [
    {
     "data": {
      "text/html": [
       "<div><style>\n",
       ".dataframe > thead > tr,\n",
       ".dataframe > tbody > tr {\n",
       "  text-align: right;\n",
       "  white-space: pre-wrap;\n",
       "}\n",
       "</style>\n",
       "<small>shape: (3, 2)</small><table border=\"1\" class=\"dataframe\"><thead><tr><th>Department</th><th>Avg. Salary</th></tr><tr><td>str</td><td>f64</td></tr></thead><tbody><tr><td>&quot;Finance&quot;</td><td>72500.0</td></tr><tr><td>&quot;Engineering&quot;</td><td>75000.0</td></tr><tr><td>&quot;HR&quot;</td><td>54000.0</td></tr></tbody></table></div>"
      ],
      "text/plain": [
       "shape: (3, 2)\n",
       "┌─────────────┬─────────────┐\n",
       "│ Department  ┆ Avg. Salary │\n",
       "│ ---         ┆ ---         │\n",
       "│ str         ┆ f64         │\n",
       "╞═════════════╪═════════════╡\n",
       "│ Finance     ┆ 72500.0     │\n",
       "│ Engineering ┆ 75000.0     │\n",
       "│ HR          ┆ 54000.0     │\n",
       "└─────────────┴─────────────┘"
      ]
     },
     "execution_count": 39,
     "metadata": {},
     "output_type": "execute_result"
    }
   ],
   "source": [
    "df.group_by(\"Department\").agg(\n",
    "    [pl.col(\"Salary\").mean().alias(\"Avg. Salary\")]\n",
    ")"
   ]
  },
  {
   "cell_type": "code",
   "execution_count": 40,
   "id": "d79c502c-bbdb-4879-a67e-5442d8bc5dcb",
   "metadata": {},
   "outputs": [
    {
     "data": {
      "text/html": [
       "<div><style>\n",
       ".dataframe > thead > tr,\n",
       ".dataframe > tbody > tr {\n",
       "  text-align: right;\n",
       "  white-space: pre-wrap;\n",
       "}\n",
       "</style>\n",
       "<small>shape: (3, 3)</small><table border=\"1\" class=\"dataframe\"><thead><tr><th>Department</th><th>Avg. Salary</th><th>Max Salary</th></tr><tr><td>str</td><td>f64</td><td>f64</td></tr></thead><tbody><tr><td>&quot;Engineering&quot;</td><td>75000.0</td><td>75000.0</td></tr><tr><td>&quot;Finance&quot;</td><td>72500.0</td><td>85000.0</td></tr><tr><td>&quot;HR&quot;</td><td>54000.0</td><td>58000.0</td></tr></tbody></table></div>"
      ],
      "text/plain": [
       "shape: (3, 3)\n",
       "┌─────────────┬─────────────┬────────────┐\n",
       "│ Department  ┆ Avg. Salary ┆ Max Salary │\n",
       "│ ---         ┆ ---         ┆ ---        │\n",
       "│ str         ┆ f64         ┆ f64        │\n",
       "╞═════════════╪═════════════╪════════════╡\n",
       "│ Engineering ┆ 75000.0     ┆ 75000.0    │\n",
       "│ Finance     ┆ 72500.0     ┆ 85000.0    │\n",
       "│ HR          ┆ 54000.0     ┆ 58000.0    │\n",
       "└─────────────┴─────────────┴────────────┘"
      ]
     },
     "execution_count": 40,
     "metadata": {},
     "output_type": "execute_result"
    }
   ],
   "source": [
    "df.group_by(\"Department\").agg([\n",
    "    pl.col(\"Salary\").mean().alias(\"Avg. Salary\"),\n",
    "    pl.col(\"Salary\").max().alias(\"Max Salary\")\n",
    "]\n",
    ")"
   ]
  },
  {
   "cell_type": "code",
   "execution_count": 41,
   "id": "b790dbeb-58dc-45a1-b283-bc8322a0d8ec",
   "metadata": {},
   "outputs": [
    {
     "data": {
      "text/html": [
       "<div><style>\n",
       ".dataframe > thead > tr,\n",
       ".dataframe > tbody > tr {\n",
       "  text-align: right;\n",
       "  white-space: pre-wrap;\n",
       "}\n",
       "</style>\n",
       "<small>shape: (3, 3)</small><table border=\"1\" class=\"dataframe\"><thead><tr><th>Department</th><th>Avg. Salary</th><th>Youngest Age</th></tr><tr><td>str</td><td>f64</td><td>i64</td></tr></thead><tbody><tr><td>&quot;Engineering&quot;</td><td>75000.0</td><td>34</td></tr><tr><td>&quot;Finance&quot;</td><td>72500.0</td><td>31</td></tr><tr><td>&quot;HR&quot;</td><td>54000.0</td><td>28</td></tr></tbody></table></div>"
      ],
      "text/plain": [
       "shape: (3, 3)\n",
       "┌─────────────┬─────────────┬──────────────┐\n",
       "│ Department  ┆ Avg. Salary ┆ Youngest Age │\n",
       "│ ---         ┆ ---         ┆ ---          │\n",
       "│ str         ┆ f64         ┆ i64          │\n",
       "╞═════════════╪═════════════╪══════════════╡\n",
       "│ Engineering ┆ 75000.0     ┆ 34           │\n",
       "│ Finance     ┆ 72500.0     ┆ 31           │\n",
       "│ HR          ┆ 54000.0     ┆ 28           │\n",
       "└─────────────┴─────────────┴──────────────┘"
      ]
     },
     "execution_count": 41,
     "metadata": {},
     "output_type": "execute_result"
    }
   ],
   "source": [
    "df.group_by(\"Department\").agg([\n",
    "    pl.col(\"Salary\").mean().alias(\"Avg. Salary\"),\n",
    "    pl.col(\"Age\").min().alias(\"Youngest Age\")\n",
    "]\n",
    ")"
   ]
  },
  {
   "cell_type": "code",
   "execution_count": 42,
   "id": "56f5c10d-567a-4959-8ba1-d90e0205b547",
   "metadata": {},
   "outputs": [],
   "source": [
    "df = pl.DataFrame({\n",
    "    \"Employee ID\": [1,2,3,4,5],\n",
    "    \"Name\" : [\"Alice\", \"Bob\", \"Charlie\", \"David\", \"Eve\"],\n",
    "    \"Age\": [29,34,31,28,42],\n",
    "    \"Department\": [\"HR\", \"Engineering\", \"Finance\", \"HR\", \"Finance\"],\n",
    "    \"Salary\": [50000., 75000., None, None, 85000.],\n",
    "    \"Start Date\": [date(2023,5,21), date(2019,8,14), date(2021,1,10), date(2018,11,3), date(2022,6,27)]\n",
    "    })"
   ]
  },
  {
   "cell_type": "code",
   "execution_count": 43,
   "id": "e5597d4f-c2e9-4965-9626-c767f8bbb3df",
   "metadata": {},
   "outputs": [
    {
     "data": {
      "text/html": [
       "<div><style>\n",
       ".dataframe > thead > tr,\n",
       ".dataframe > tbody > tr {\n",
       "  text-align: right;\n",
       "  white-space: pre-wrap;\n",
       "}\n",
       "</style>\n",
       "<small>shape: (5, 6)</small><table border=\"1\" class=\"dataframe\"><thead><tr><th>Employee ID</th><th>Name</th><th>Age</th><th>Department</th><th>Salary</th><th>Start Date</th></tr><tr><td>i64</td><td>str</td><td>i64</td><td>str</td><td>f64</td><td>date</td></tr></thead><tbody><tr><td>1</td><td>&quot;Alice&quot;</td><td>29</td><td>&quot;HR&quot;</td><td>50000.0</td><td>2023-05-21</td></tr><tr><td>2</td><td>&quot;Bob&quot;</td><td>34</td><td>&quot;Engineering&quot;</td><td>75000.0</td><td>2019-08-14</td></tr><tr><td>3</td><td>&quot;Charlie&quot;</td><td>31</td><td>&quot;Finance&quot;</td><td>null</td><td>2021-01-10</td></tr><tr><td>4</td><td>&quot;David&quot;</td><td>28</td><td>&quot;HR&quot;</td><td>null</td><td>2018-11-03</td></tr><tr><td>5</td><td>&quot;Eve&quot;</td><td>42</td><td>&quot;Finance&quot;</td><td>85000.0</td><td>2022-06-27</td></tr></tbody></table></div>"
      ],
      "text/plain": [
       "shape: (5, 6)\n",
       "┌─────────────┬─────────┬─────┬─────────────┬─────────┬────────────┐\n",
       "│ Employee ID ┆ Name    ┆ Age ┆ Department  ┆ Salary  ┆ Start Date │\n",
       "│ ---         ┆ ---     ┆ --- ┆ ---         ┆ ---     ┆ ---        │\n",
       "│ i64         ┆ str     ┆ i64 ┆ str         ┆ f64     ┆ date       │\n",
       "╞═════════════╪═════════╪═════╪═════════════╪═════════╪════════════╡\n",
       "│ 1           ┆ Alice   ┆ 29  ┆ HR          ┆ 50000.0 ┆ 2023-05-21 │\n",
       "│ 2           ┆ Bob     ┆ 34  ┆ Engineering ┆ 75000.0 ┆ 2019-08-14 │\n",
       "│ 3           ┆ Charlie ┆ 31  ┆ Finance     ┆ null    ┆ 2021-01-10 │\n",
       "│ 4           ┆ David   ┆ 28  ┆ HR          ┆ null    ┆ 2018-11-03 │\n",
       "│ 5           ┆ Eve     ┆ 42  ┆ Finance     ┆ 85000.0 ┆ 2022-06-27 │\n",
       "└─────────────┴─────────┴─────┴─────────────┴─────────┴────────────┘"
      ]
     },
     "execution_count": 43,
     "metadata": {},
     "output_type": "execute_result"
    }
   ],
   "source": [
    "df"
   ]
  },
  {
   "cell_type": "code",
   "execution_count": 44,
   "id": "39e6cc8d-3c83-470f-957d-546b32d0d12a",
   "metadata": {},
   "outputs": [
    {
     "data": {
      "text/html": [
       "<div><style>\n",
       ".dataframe > thead > tr,\n",
       ".dataframe > tbody > tr {\n",
       "  text-align: right;\n",
       "  white-space: pre-wrap;\n",
       "}\n",
       "</style>\n",
       "<small>shape: (1, 6)</small><table border=\"1\" class=\"dataframe\"><thead><tr><th>Employee ID</th><th>Name</th><th>Age</th><th>Department</th><th>Salary</th><th>Start Date</th></tr><tr><td>u32</td><td>u32</td><td>u32</td><td>u32</td><td>u32</td><td>u32</td></tr></thead><tbody><tr><td>0</td><td>0</td><td>0</td><td>0</td><td>2</td><td>0</td></tr></tbody></table></div>"
      ],
      "text/plain": [
       "shape: (1, 6)\n",
       "┌─────────────┬──────┬─────┬────────────┬────────┬────────────┐\n",
       "│ Employee ID ┆ Name ┆ Age ┆ Department ┆ Salary ┆ Start Date │\n",
       "│ ---         ┆ ---  ┆ --- ┆ ---        ┆ ---    ┆ ---        │\n",
       "│ u32         ┆ u32  ┆ u32 ┆ u32        ┆ u32    ┆ u32        │\n",
       "╞═════════════╪══════╪═════╪════════════╪════════╪════════════╡\n",
       "│ 0           ┆ 0    ┆ 0   ┆ 0          ┆ 2      ┆ 0          │\n",
       "└─────────────┴──────┴─────┴────────────┴────────┴────────────┘"
      ]
     },
     "execution_count": 44,
     "metadata": {},
     "output_type": "execute_result"
    }
   ],
   "source": [
    "df.null_count()"
   ]
  },
  {
   "cell_type": "code",
   "execution_count": 45,
   "id": "9e5c83f8-997e-4b36-8063-187ec80375e2",
   "metadata": {},
   "outputs": [
    {
     "data": {
      "text/html": [
       "<div><style>\n",
       ".dataframe > thead > tr,\n",
       ".dataframe > tbody > tr {\n",
       "  text-align: right;\n",
       "  white-space: pre-wrap;\n",
       "}\n",
       "</style>\n",
       "<small>shape: (5, 1)</small><table border=\"1\" class=\"dataframe\"><thead><tr><th>Salary</th></tr><tr><td>bool</td></tr></thead><tbody><tr><td>false</td></tr><tr><td>false</td></tr><tr><td>true</td></tr><tr><td>true</td></tr><tr><td>false</td></tr></tbody></table></div>"
      ],
      "text/plain": [
       "shape: (5, 1)\n",
       "┌────────┐\n",
       "│ Salary │\n",
       "│ ---    │\n",
       "│ bool   │\n",
       "╞════════╡\n",
       "│ false  │\n",
       "│ false  │\n",
       "│ true   │\n",
       "│ true   │\n",
       "│ false  │\n",
       "└────────┘"
      ]
     },
     "execution_count": 45,
     "metadata": {},
     "output_type": "execute_result"
    }
   ],
   "source": [
    "df.select(pl.col(\"Salary\").is_null())"
   ]
  },
  {
   "cell_type": "code",
   "execution_count": 46,
   "id": "68ae7c80-f17c-4a19-9e98-c5a4552ba9dc",
   "metadata": {},
   "outputs": [
    {
     "data": {
      "text/html": [
       "<div><style>\n",
       ".dataframe > thead > tr,\n",
       ".dataframe > tbody > tr {\n",
       "  text-align: right;\n",
       "  white-space: pre-wrap;\n",
       "}\n",
       "</style>\n",
       "<small>shape: (2, 6)</small><table border=\"1\" class=\"dataframe\"><thead><tr><th>Employee ID</th><th>Name</th><th>Age</th><th>Department</th><th>Salary</th><th>Start Date</th></tr><tr><td>i64</td><td>str</td><td>i64</td><td>str</td><td>f64</td><td>date</td></tr></thead><tbody><tr><td>3</td><td>&quot;Charlie&quot;</td><td>31</td><td>&quot;Finance&quot;</td><td>null</td><td>2021-01-10</td></tr><tr><td>4</td><td>&quot;David&quot;</td><td>28</td><td>&quot;HR&quot;</td><td>null</td><td>2018-11-03</td></tr></tbody></table></div>"
      ],
      "text/plain": [
       "shape: (2, 6)\n",
       "┌─────────────┬─────────┬─────┬────────────┬────────┬────────────┐\n",
       "│ Employee ID ┆ Name    ┆ Age ┆ Department ┆ Salary ┆ Start Date │\n",
       "│ ---         ┆ ---     ┆ --- ┆ ---        ┆ ---    ┆ ---        │\n",
       "│ i64         ┆ str     ┆ i64 ┆ str        ┆ f64    ┆ date       │\n",
       "╞═════════════╪═════════╪═════╪════════════╪════════╪════════════╡\n",
       "│ 3           ┆ Charlie ┆ 31  ┆ Finance    ┆ null   ┆ 2021-01-10 │\n",
       "│ 4           ┆ David   ┆ 28  ┆ HR         ┆ null   ┆ 2018-11-03 │\n",
       "└─────────────┴─────────┴─────┴────────────┴────────┴────────────┘"
      ]
     },
     "execution_count": 46,
     "metadata": {},
     "output_type": "execute_result"
    }
   ],
   "source": [
    "df.filter(pl.col(\"Salary\").is_null())"
   ]
  },
  {
   "cell_type": "code",
   "execution_count": 47,
   "id": "16693da8-363c-4343-a076-af881a3d1aca",
   "metadata": {},
   "outputs": [
    {
     "data": {
      "text/html": [
       "<div><style>\n",
       ".dataframe > thead > tr,\n",
       ".dataframe > tbody > tr {\n",
       "  text-align: right;\n",
       "  white-space: pre-wrap;\n",
       "}\n",
       "</style>\n",
       "<small>shape: (3, 6)</small><table border=\"1\" class=\"dataframe\"><thead><tr><th>Employee ID</th><th>Name</th><th>Age</th><th>Department</th><th>Salary</th><th>Start Date</th></tr><tr><td>i64</td><td>str</td><td>i64</td><td>str</td><td>f64</td><td>date</td></tr></thead><tbody><tr><td>1</td><td>&quot;Alice&quot;</td><td>29</td><td>&quot;HR&quot;</td><td>50000.0</td><td>2023-05-21</td></tr><tr><td>2</td><td>&quot;Bob&quot;</td><td>34</td><td>&quot;Engineering&quot;</td><td>75000.0</td><td>2019-08-14</td></tr><tr><td>5</td><td>&quot;Eve&quot;</td><td>42</td><td>&quot;Finance&quot;</td><td>85000.0</td><td>2022-06-27</td></tr></tbody></table></div>"
      ],
      "text/plain": [
       "shape: (3, 6)\n",
       "┌─────────────┬───────┬─────┬─────────────┬─────────┬────────────┐\n",
       "│ Employee ID ┆ Name  ┆ Age ┆ Department  ┆ Salary  ┆ Start Date │\n",
       "│ ---         ┆ ---   ┆ --- ┆ ---         ┆ ---     ┆ ---        │\n",
       "│ i64         ┆ str   ┆ i64 ┆ str         ┆ f64     ┆ date       │\n",
       "╞═════════════╪═══════╪═════╪═════════════╪═════════╪════════════╡\n",
       "│ 1           ┆ Alice ┆ 29  ┆ HR          ┆ 50000.0 ┆ 2023-05-21 │\n",
       "│ 2           ┆ Bob   ┆ 34  ┆ Engineering ┆ 75000.0 ┆ 2019-08-14 │\n",
       "│ 5           ┆ Eve   ┆ 42  ┆ Finance     ┆ 85000.0 ┆ 2022-06-27 │\n",
       "└─────────────┴───────┴─────┴─────────────┴─────────┴────────────┘"
      ]
     },
     "execution_count": 47,
     "metadata": {},
     "output_type": "execute_result"
    }
   ],
   "source": [
    "df.filter(pl.col(\"Salary\").is_not_null())"
   ]
  },
  {
   "cell_type": "code",
   "execution_count": 48,
   "id": "de59a342-6092-4f99-8e2d-290b82e28b3f",
   "metadata": {},
   "outputs": [
    {
     "data": {
      "text/html": [
       "<div><style>\n",
       ".dataframe > thead > tr,\n",
       ".dataframe > tbody > tr {\n",
       "  text-align: right;\n",
       "  white-space: pre-wrap;\n",
       "}\n",
       "</style>\n",
       "<small>shape: (5, 6)</small><table border=\"1\" class=\"dataframe\"><thead><tr><th>Employee ID</th><th>Name</th><th>Age</th><th>Department</th><th>Salary</th><th>Start Date</th></tr><tr><td>i64</td><td>str</td><td>i64</td><td>str</td><td>f64</td><td>date</td></tr></thead><tbody><tr><td>1</td><td>&quot;Alice&quot;</td><td>29</td><td>&quot;HR&quot;</td><td>50000.0</td><td>2023-05-21</td></tr><tr><td>2</td><td>&quot;Bob&quot;</td><td>34</td><td>&quot;Engineering&quot;</td><td>75000.0</td><td>2019-08-14</td></tr><tr><td>3</td><td>&quot;Charlie&quot;</td><td>31</td><td>&quot;Finance&quot;</td><td>50.0</td><td>2021-01-10</td></tr><tr><td>4</td><td>&quot;David&quot;</td><td>28</td><td>&quot;HR&quot;</td><td>50.0</td><td>2018-11-03</td></tr><tr><td>5</td><td>&quot;Eve&quot;</td><td>42</td><td>&quot;Finance&quot;</td><td>85000.0</td><td>2022-06-27</td></tr></tbody></table></div>"
      ],
      "text/plain": [
       "shape: (5, 6)\n",
       "┌─────────────┬─────────┬─────┬─────────────┬─────────┬────────────┐\n",
       "│ Employee ID ┆ Name    ┆ Age ┆ Department  ┆ Salary  ┆ Start Date │\n",
       "│ ---         ┆ ---     ┆ --- ┆ ---         ┆ ---     ┆ ---        │\n",
       "│ i64         ┆ str     ┆ i64 ┆ str         ┆ f64     ┆ date       │\n",
       "╞═════════════╪═════════╪═════╪═════════════╪═════════╪════════════╡\n",
       "│ 1           ┆ Alice   ┆ 29  ┆ HR          ┆ 50000.0 ┆ 2023-05-21 │\n",
       "│ 2           ┆ Bob     ┆ 34  ┆ Engineering ┆ 75000.0 ┆ 2019-08-14 │\n",
       "│ 3           ┆ Charlie ┆ 31  ┆ Finance     ┆ 50.0    ┆ 2021-01-10 │\n",
       "│ 4           ┆ David   ┆ 28  ┆ HR          ┆ 50.0    ┆ 2018-11-03 │\n",
       "│ 5           ┆ Eve     ┆ 42  ┆ Finance     ┆ 85000.0 ┆ 2022-06-27 │\n",
       "└─────────────┴─────────┴─────┴─────────────┴─────────┴────────────┘"
      ]
     },
     "execution_count": 48,
     "metadata": {},
     "output_type": "execute_result"
    }
   ],
   "source": [
    "df.with_columns(pl.col(\"Salary\").fill_null(pl.lit(50)))"
   ]
  },
  {
   "cell_type": "code",
   "execution_count": 49,
   "id": "80f95130-2e36-4e9b-a075-a3820fe93413",
   "metadata": {},
   "outputs": [
    {
     "data": {
      "text/html": [
       "<div><style>\n",
       ".dataframe > thead > tr,\n",
       ".dataframe > tbody > tr {\n",
       "  text-align: right;\n",
       "  white-space: pre-wrap;\n",
       "}\n",
       "</style>\n",
       "<small>shape: (5, 6)</small><table border=\"1\" class=\"dataframe\"><thead><tr><th>Employee ID</th><th>Name</th><th>Age</th><th>Department</th><th>Salary</th><th>Start Date</th></tr><tr><td>i64</td><td>str</td><td>i64</td><td>str</td><td>f64</td><td>date</td></tr></thead><tbody><tr><td>1</td><td>&quot;Alice&quot;</td><td>29</td><td>&quot;HR&quot;</td><td>50000.0</td><td>2023-05-21</td></tr><tr><td>2</td><td>&quot;Bob&quot;</td><td>34</td><td>&quot;Engineering&quot;</td><td>75000.0</td><td>2019-08-14</td></tr><tr><td>3</td><td>&quot;Charlie&quot;</td><td>31</td><td>&quot;Finance&quot;</td><td>50.0</td><td>2021-01-10</td></tr><tr><td>4</td><td>&quot;David&quot;</td><td>28</td><td>&quot;HR&quot;</td><td>50.0</td><td>2018-11-03</td></tr><tr><td>5</td><td>&quot;Eve&quot;</td><td>42</td><td>&quot;Finance&quot;</td><td>85000.0</td><td>2022-06-27</td></tr></tbody></table></div>"
      ],
      "text/plain": [
       "shape: (5, 6)\n",
       "┌─────────────┬─────────┬─────┬─────────────┬─────────┬────────────┐\n",
       "│ Employee ID ┆ Name    ┆ Age ┆ Department  ┆ Salary  ┆ Start Date │\n",
       "│ ---         ┆ ---     ┆ --- ┆ ---         ┆ ---     ┆ ---        │\n",
       "│ i64         ┆ str     ┆ i64 ┆ str         ┆ f64     ┆ date       │\n",
       "╞═════════════╪═════════╪═════╪═════════════╪═════════╪════════════╡\n",
       "│ 1           ┆ Alice   ┆ 29  ┆ HR          ┆ 50000.0 ┆ 2023-05-21 │\n",
       "│ 2           ┆ Bob     ┆ 34  ┆ Engineering ┆ 75000.0 ┆ 2019-08-14 │\n",
       "│ 3           ┆ Charlie ┆ 31  ┆ Finance     ┆ 50.0    ┆ 2021-01-10 │\n",
       "│ 4           ┆ David   ┆ 28  ┆ HR          ┆ 50.0    ┆ 2018-11-03 │\n",
       "│ 5           ┆ Eve     ┆ 42  ┆ Finance     ┆ 85000.0 ┆ 2022-06-27 │\n",
       "└─────────────┴─────────┴─────┴─────────────┴─────────┴────────────┘"
      ]
     },
     "execution_count": 49,
     "metadata": {},
     "output_type": "execute_result"
    }
   ],
   "source": [
    "df.with_columns(pl.col(\"Salary\").fill_null(50))"
   ]
  },
  {
   "cell_type": "code",
   "execution_count": 50,
   "id": "7ba1bdbd-a446-491b-ac9e-2eaf45bbeda0",
   "metadata": {},
   "outputs": [
    {
     "data": {
      "text/html": [
       "<div><style>\n",
       ".dataframe > thead > tr,\n",
       ".dataframe > tbody > tr {\n",
       "  text-align: right;\n",
       "  white-space: pre-wrap;\n",
       "}\n",
       "</style>\n",
       "<small>shape: (5, 6)</small><table border=\"1\" class=\"dataframe\"><thead><tr><th>Employee ID</th><th>Name</th><th>Age</th><th>Department</th><th>Salary</th><th>Start Date</th></tr><tr><td>i64</td><td>str</td><td>i64</td><td>str</td><td>f64</td><td>date</td></tr></thead><tbody><tr><td>1</td><td>&quot;Alice&quot;</td><td>29</td><td>&quot;HR&quot;</td><td>50000.0</td><td>2023-05-21</td></tr><tr><td>2</td><td>&quot;Bob&quot;</td><td>34</td><td>&quot;Engineering&quot;</td><td>75000.0</td><td>2019-08-14</td></tr><tr><td>3</td><td>&quot;Charlie&quot;</td><td>31</td><td>&quot;Finance&quot;</td><td>75000.0</td><td>2021-01-10</td></tr><tr><td>4</td><td>&quot;David&quot;</td><td>28</td><td>&quot;HR&quot;</td><td>75000.0</td><td>2018-11-03</td></tr><tr><td>5</td><td>&quot;Eve&quot;</td><td>42</td><td>&quot;Finance&quot;</td><td>85000.0</td><td>2022-06-27</td></tr></tbody></table></div>"
      ],
      "text/plain": [
       "shape: (5, 6)\n",
       "┌─────────────┬─────────┬─────┬─────────────┬─────────┬────────────┐\n",
       "│ Employee ID ┆ Name    ┆ Age ┆ Department  ┆ Salary  ┆ Start Date │\n",
       "│ ---         ┆ ---     ┆ --- ┆ ---         ┆ ---     ┆ ---        │\n",
       "│ i64         ┆ str     ┆ i64 ┆ str         ┆ f64     ┆ date       │\n",
       "╞═════════════╪═════════╪═════╪═════════════╪═════════╪════════════╡\n",
       "│ 1           ┆ Alice   ┆ 29  ┆ HR          ┆ 50000.0 ┆ 2023-05-21 │\n",
       "│ 2           ┆ Bob     ┆ 34  ┆ Engineering ┆ 75000.0 ┆ 2019-08-14 │\n",
       "│ 3           ┆ Charlie ┆ 31  ┆ Finance     ┆ 75000.0 ┆ 2021-01-10 │\n",
       "│ 4           ┆ David   ┆ 28  ┆ HR          ┆ 75000.0 ┆ 2018-11-03 │\n",
       "│ 5           ┆ Eve     ┆ 42  ┆ Finance     ┆ 85000.0 ┆ 2022-06-27 │\n",
       "└─────────────┴─────────┴─────┴─────────────┴─────────┴────────────┘"
      ]
     },
     "execution_count": 50,
     "metadata": {},
     "output_type": "execute_result"
    }
   ],
   "source": [
    "df.with_columns(pl.col(\"Salary\").fill_null(strategy=\"forward\"))"
   ]
  },
  {
   "cell_type": "code",
   "execution_count": 51,
   "id": "5e2da1d8-824a-4b75-807e-e8f497b76882",
   "metadata": {},
   "outputs": [
    {
     "data": {
      "text/html": [
       "<div><style>\n",
       ".dataframe > thead > tr,\n",
       ".dataframe > tbody > tr {\n",
       "  text-align: right;\n",
       "  white-space: pre-wrap;\n",
       "}\n",
       "</style>\n",
       "<small>shape: (5, 6)</small><table border=\"1\" class=\"dataframe\"><thead><tr><th>Employee ID</th><th>Name</th><th>Age</th><th>Department</th><th>Salary</th><th>Start Date</th></tr><tr><td>i64</td><td>str</td><td>i64</td><td>str</td><td>f64</td><td>date</td></tr></thead><tbody><tr><td>1</td><td>&quot;Alice&quot;</td><td>29</td><td>&quot;HR&quot;</td><td>50000.0</td><td>2023-05-21</td></tr><tr><td>2</td><td>&quot;Bob&quot;</td><td>34</td><td>&quot;Engineering&quot;</td><td>75000.0</td><td>2019-08-14</td></tr><tr><td>3</td><td>&quot;Charlie&quot;</td><td>31</td><td>&quot;Finance&quot;</td><td>85000.0</td><td>2021-01-10</td></tr><tr><td>4</td><td>&quot;David&quot;</td><td>28</td><td>&quot;HR&quot;</td><td>85000.0</td><td>2018-11-03</td></tr><tr><td>5</td><td>&quot;Eve&quot;</td><td>42</td><td>&quot;Finance&quot;</td><td>85000.0</td><td>2022-06-27</td></tr></tbody></table></div>"
      ],
      "text/plain": [
       "shape: (5, 6)\n",
       "┌─────────────┬─────────┬─────┬─────────────┬─────────┬────────────┐\n",
       "│ Employee ID ┆ Name    ┆ Age ┆ Department  ┆ Salary  ┆ Start Date │\n",
       "│ ---         ┆ ---     ┆ --- ┆ ---         ┆ ---     ┆ ---        │\n",
       "│ i64         ┆ str     ┆ i64 ┆ str         ┆ f64     ┆ date       │\n",
       "╞═════════════╪═════════╪═════╪═════════════╪═════════╪════════════╡\n",
       "│ 1           ┆ Alice   ┆ 29  ┆ HR          ┆ 50000.0 ┆ 2023-05-21 │\n",
       "│ 2           ┆ Bob     ┆ 34  ┆ Engineering ┆ 75000.0 ┆ 2019-08-14 │\n",
       "│ 3           ┆ Charlie ┆ 31  ┆ Finance     ┆ 85000.0 ┆ 2021-01-10 │\n",
       "│ 4           ┆ David   ┆ 28  ┆ HR          ┆ 85000.0 ┆ 2018-11-03 │\n",
       "│ 5           ┆ Eve     ┆ 42  ┆ Finance     ┆ 85000.0 ┆ 2022-06-27 │\n",
       "└─────────────┴─────────┴─────┴─────────────┴─────────┴────────────┘"
      ]
     },
     "execution_count": 51,
     "metadata": {},
     "output_type": "execute_result"
    }
   ],
   "source": [
    "df.with_columns(pl.col(\"Salary\").fill_null(strategy=\"backward\"))"
   ]
  },
  {
   "cell_type": "code",
   "execution_count": 52,
   "id": "2040930a-4804-4c99-a051-cc20f6e2e02e",
   "metadata": {},
   "outputs": [
    {
     "data": {
      "text/html": [
       "<div><style>\n",
       ".dataframe > thead > tr,\n",
       ".dataframe > tbody > tr {\n",
       "  text-align: right;\n",
       "  white-space: pre-wrap;\n",
       "}\n",
       "</style>\n",
       "<small>shape: (5, 6)</small><table border=\"1\" class=\"dataframe\"><thead><tr><th>Employee ID</th><th>Name</th><th>Age</th><th>Department</th><th>Salary</th><th>Start Date</th></tr><tr><td>i64</td><td>str</td><td>i64</td><td>str</td><td>f64</td><td>date</td></tr></thead><tbody><tr><td>1</td><td>&quot;Alice&quot;</td><td>29</td><td>&quot;HR&quot;</td><td>50000.0</td><td>2023-05-21</td></tr><tr><td>2</td><td>&quot;Bob&quot;</td><td>34</td><td>&quot;Engineering&quot;</td><td>75000.0</td><td>2019-08-14</td></tr><tr><td>3</td><td>&quot;Charlie&quot;</td><td>31</td><td>&quot;Finance&quot;</td><td>78333.333333</td><td>2021-01-10</td></tr><tr><td>4</td><td>&quot;David&quot;</td><td>28</td><td>&quot;HR&quot;</td><td>81666.666667</td><td>2018-11-03</td></tr><tr><td>5</td><td>&quot;Eve&quot;</td><td>42</td><td>&quot;Finance&quot;</td><td>85000.0</td><td>2022-06-27</td></tr></tbody></table></div>"
      ],
      "text/plain": [
       "shape: (5, 6)\n",
       "┌─────────────┬─────────┬─────┬─────────────┬──────────────┬────────────┐\n",
       "│ Employee ID ┆ Name    ┆ Age ┆ Department  ┆ Salary       ┆ Start Date │\n",
       "│ ---         ┆ ---     ┆ --- ┆ ---         ┆ ---          ┆ ---        │\n",
       "│ i64         ┆ str     ┆ i64 ┆ str         ┆ f64          ┆ date       │\n",
       "╞═════════════╪═════════╪═════╪═════════════╪══════════════╪════════════╡\n",
       "│ 1           ┆ Alice   ┆ 29  ┆ HR          ┆ 50000.0      ┆ 2023-05-21 │\n",
       "│ 2           ┆ Bob     ┆ 34  ┆ Engineering ┆ 75000.0      ┆ 2019-08-14 │\n",
       "│ 3           ┆ Charlie ┆ 31  ┆ Finance     ┆ 78333.333333 ┆ 2021-01-10 │\n",
       "│ 4           ┆ David   ┆ 28  ┆ HR          ┆ 81666.666667 ┆ 2018-11-03 │\n",
       "│ 5           ┆ Eve     ┆ 42  ┆ Finance     ┆ 85000.0      ┆ 2022-06-27 │\n",
       "└─────────────┴─────────┴─────┴─────────────┴──────────────┴────────────┘"
      ]
     },
     "execution_count": 52,
     "metadata": {},
     "output_type": "execute_result"
    }
   ],
   "source": [
    "df.with_columns(pl.col(\"Salary\").interpolate())"
   ]
  },
  {
   "cell_type": "code",
   "execution_count": 53,
   "id": "c143188e-d181-4c34-95a7-fcc5afe80953",
   "metadata": {},
   "outputs": [],
   "source": [
    "df.write_csv(\"employees.csv\")\n",
    "df.write_json(\"employees.json\")"
   ]
  },
  {
   "cell_type": "code",
   "execution_count": 54,
   "id": "36796b7d-3969-41f0-b8d3-494e13f10162",
   "metadata": {},
   "outputs": [
    {
     "data": {
      "text/html": [
       "<div><style>\n",
       ".dataframe > thead > tr,\n",
       ".dataframe > tbody > tr {\n",
       "  text-align: right;\n",
       "  white-space: pre-wrap;\n",
       "}\n",
       "</style>\n",
       "<small>shape: (5, 6)</small><table border=\"1\" class=\"dataframe\"><thead><tr><th>Employee ID</th><th>Name</th><th>Age</th><th>Department</th><th>Salary</th><th>Start Date</th></tr><tr><td>i64</td><td>str</td><td>i64</td><td>str</td><td>f64</td><td>str</td></tr></thead><tbody><tr><td>1</td><td>&quot;Alice&quot;</td><td>29</td><td>&quot;HR&quot;</td><td>50000.0</td><td>&quot;2023-05-21&quot;</td></tr><tr><td>2</td><td>&quot;Bob&quot;</td><td>34</td><td>&quot;Engineering&quot;</td><td>75000.0</td><td>&quot;2019-08-14&quot;</td></tr><tr><td>3</td><td>&quot;Charlie&quot;</td><td>31</td><td>&quot;Finance&quot;</td><td>null</td><td>&quot;2021-01-10&quot;</td></tr><tr><td>4</td><td>&quot;David&quot;</td><td>28</td><td>&quot;HR&quot;</td><td>null</td><td>&quot;2018-11-03&quot;</td></tr><tr><td>5</td><td>&quot;Eve&quot;</td><td>42</td><td>&quot;Finance&quot;</td><td>85000.0</td><td>&quot;2022-06-27&quot;</td></tr></tbody></table></div>"
      ],
      "text/plain": [
       "shape: (5, 6)\n",
       "┌─────────────┬─────────┬─────┬─────────────┬─────────┬────────────┐\n",
       "│ Employee ID ┆ Name    ┆ Age ┆ Department  ┆ Salary  ┆ Start Date │\n",
       "│ ---         ┆ ---     ┆ --- ┆ ---         ┆ ---     ┆ ---        │\n",
       "│ i64         ┆ str     ┆ i64 ┆ str         ┆ f64     ┆ str        │\n",
       "╞═════════════╪═════════╪═════╪═════════════╪═════════╪════════════╡\n",
       "│ 1           ┆ Alice   ┆ 29  ┆ HR          ┆ 50000.0 ┆ 2023-05-21 │\n",
       "│ 2           ┆ Bob     ┆ 34  ┆ Engineering ┆ 75000.0 ┆ 2019-08-14 │\n",
       "│ 3           ┆ Charlie ┆ 31  ┆ Finance     ┆ null    ┆ 2021-01-10 │\n",
       "│ 4           ┆ David   ┆ 28  ┆ HR          ┆ null    ┆ 2018-11-03 │\n",
       "│ 5           ┆ Eve     ┆ 42  ┆ Finance     ┆ 85000.0 ┆ 2022-06-27 │\n",
       "└─────────────┴─────────┴─────┴─────────────┴─────────┴────────────┘"
      ]
     },
     "execution_count": 54,
     "metadata": {},
     "output_type": "execute_result"
    }
   ],
   "source": [
    "df2= pl.read_csv(\"employees.csv\")\n",
    "df2 #ojo que start date ahora es string"
   ]
  },
  {
   "cell_type": "code",
   "execution_count": 58,
   "id": "95fe0206-bce0-4115-a218-e7a0612022ee",
   "metadata": {},
   "outputs": [
    {
     "data": {},
     "metadata": {},
     "output_type": "display_data"
    },
    {
     "data": {
      "application/vnd.holoviews_exec.v0+json": "",
      "text/html": [
       "<div id='p1069'>\n",
       "  <div id=\"ce85d92b-77fe-490c-aae7-145814235ec9\" data-root-id=\"p1069\" style=\"display: contents;\"></div>\n",
       "</div>\n",
       "<script type=\"application/javascript\">(function(root) {\n",
       "  var docs_json = {\"17f20b26-b03c-40bb-873c-57c328588803\":{\"version\":\"3.5.1\",\"title\":\"Bokeh Application\",\"roots\":[{\"type\":\"object\",\"name\":\"Row\",\"id\":\"p1069\",\"attributes\":{\"name\":\"Row01049\",\"tags\":[\"embedded\"],\"stylesheets\":[\"\\n:host(.pn-loading):before, .pn-loading:before {\\n  background-color: #c3c3c3;\\n  mask-size: auto calc(min(50%, 400px));\\n  -webkit-mask-size: auto calc(min(50%, 400px));\\n}\",{\"type\":\"object\",\"name\":\"ImportedStyleSheet\",\"id\":\"p1072\",\"attributes\":{\"url\":\"https://cdn.holoviz.org/panel/1.5.0-b.4/dist/css/loading.css\"}},{\"type\":\"object\",\"name\":\"ImportedStyleSheet\",\"id\":\"p1130\",\"attributes\":{\"url\":\"https://cdn.holoviz.org/panel/1.5.0-b.4/dist/css/listpanel.css\"}},{\"type\":\"object\",\"name\":\"ImportedStyleSheet\",\"id\":\"p1070\",\"attributes\":{\"url\":\"https://cdn.holoviz.org/panel/1.5.0-b.4/dist/bundled/theme/default.css\"}},{\"type\":\"object\",\"name\":\"ImportedStyleSheet\",\"id\":\"p1071\",\"attributes\":{\"url\":\"https://cdn.holoviz.org/panel/1.5.0-b.4/dist/bundled/theme/native.css\"}}],\"min_width\":700,\"margin\":0,\"sizing_mode\":\"stretch_width\",\"align\":\"start\",\"children\":[{\"type\":\"object\",\"name\":\"Spacer\",\"id\":\"p1073\",\"attributes\":{\"name\":\"HSpacer01056\",\"stylesheets\":[\"\\n:host(.pn-loading):before, .pn-loading:before {\\n  background-color: #c3c3c3;\\n  mask-size: auto calc(min(50%, 400px));\\n  -webkit-mask-size: auto calc(min(50%, 400px));\\n}\",{\"id\":\"p1072\"},{\"id\":\"p1070\"},{\"id\":\"p1071\"}],\"margin\":0,\"sizing_mode\":\"stretch_width\",\"align\":\"start\"}},{\"type\":\"object\",\"name\":\"Figure\",\"id\":\"p1081\",\"attributes\":{\"width\":700,\"height\":300,\"margin\":[5,10],\"sizing_mode\":\"fixed\",\"align\":\"start\",\"x_range\":{\"type\":\"object\",\"name\":\"Range1d\",\"id\":\"p1074\",\"attributes\":{\"tags\":[[[\"index\",null]],[]],\"start\":-0.17142857142857143,\"end\":4.171428571428572,\"reset_start\":-0.17142857142857143,\"reset_end\":4.171428571428572}},\"y_range\":{\"type\":\"object\",\"name\":\"Range1d\",\"id\":\"p1075\",\"attributes\":{\"tags\":[[[\"Age\",null]],{\"type\":\"map\",\"entries\":[[\"invert_yaxis\",false],[\"autorange\",false]]}],\"end\":43.4,\"reset_start\":0.0,\"reset_end\":43.4}},\"x_scale\":{\"type\":\"object\",\"name\":\"LinearScale\",\"id\":\"p1091\"},\"y_scale\":{\"type\":\"object\",\"name\":\"LinearScale\",\"id\":\"p1092\"},\"title\":{\"type\":\"object\",\"name\":\"Title\",\"id\":\"p1084\",\"attributes\":{\"text\":\"Age\",\"text_color\":\"black\",\"text_font_size\":\"12pt\"}},\"renderers\":[{\"type\":\"object\",\"name\":\"GlyphRenderer\",\"id\":\"p1123\",\"attributes\":{\"data_source\":{\"type\":\"object\",\"name\":\"ColumnDataSource\",\"id\":\"p1114\",\"attributes\":{\"selected\":{\"type\":\"object\",\"name\":\"Selection\",\"id\":\"p1115\",\"attributes\":{\"indices\":[],\"line_indices\":[]}},\"selection_policy\":{\"type\":\"object\",\"name\":\"UnionRenderers\",\"id\":\"p1116\"},\"data\":{\"type\":\"map\",\"entries\":[[\"index\",{\"type\":\"ndarray\",\"array\":{\"type\":\"bytes\",\"data\":\"AAAAAAEAAAACAAAAAwAAAAQAAAA=\"},\"shape\":[5],\"dtype\":\"int32\",\"order\":\"little\"}],[\"Age\",{\"type\":\"ndarray\",\"array\":{\"type\":\"bytes\",\"data\":\"HQAAACIAAAAfAAAAHAAAACoAAAA=\"},\"shape\":[5],\"dtype\":\"int32\",\"order\":\"little\"}]]}}},\"view\":{\"type\":\"object\",\"name\":\"CDSView\",\"id\":\"p1124\",\"attributes\":{\"filter\":{\"type\":\"object\",\"name\":\"AllIndices\",\"id\":\"p1125\"}}},\"glyph\":{\"type\":\"object\",\"name\":\"VBar\",\"id\":\"p1120\",\"attributes\":{\"tags\":[\"apply_ranges\"],\"x\":{\"type\":\"field\",\"field\":\"index\"},\"width\":{\"type\":\"value\",\"value\":0.8},\"top\":{\"type\":\"field\",\"field\":\"Age\"},\"fill_color\":{\"type\":\"value\",\"value\":\"#30a2da\"},\"hatch_color\":{\"type\":\"value\",\"value\":\"#30a2da\"}}},\"selection_glyph\":{\"type\":\"object\",\"name\":\"VBar\",\"id\":\"p1126\",\"attributes\":{\"tags\":[\"apply_ranges\"],\"x\":{\"type\":\"field\",\"field\":\"index\"},\"width\":{\"type\":\"value\",\"value\":0.8},\"bottom\":{\"type\":\"value\",\"value\":0},\"top\":{\"type\":\"field\",\"field\":\"Age\"},\"line_color\":{\"type\":\"value\",\"value\":\"black\"},\"line_alpha\":{\"type\":\"value\",\"value\":1.0},\"line_width\":{\"type\":\"value\",\"value\":1},\"line_join\":{\"type\":\"value\",\"value\":\"bevel\"},\"line_cap\":{\"type\":\"value\",\"value\":\"butt\"},\"line_dash\":{\"type\":\"value\",\"value\":[]},\"line_dash_offset\":{\"type\":\"value\",\"value\":0},\"fill_color\":{\"type\":\"value\",\"value\":\"#30a2da\"},\"fill_alpha\":{\"type\":\"value\",\"value\":1.0},\"hatch_color\":{\"type\":\"value\",\"value\":\"#30a2da\"},\"hatch_alpha\":{\"type\":\"value\",\"value\":1.0},\"hatch_scale\":{\"type\":\"value\",\"value\":12.0},\"hatch_pattern\":{\"type\":\"value\",\"value\":null},\"hatch_weight\":{\"type\":\"value\",\"value\":1.0}}},\"nonselection_glyph\":{\"type\":\"object\",\"name\":\"VBar\",\"id\":\"p1121\",\"attributes\":{\"tags\":[\"apply_ranges\"],\"x\":{\"type\":\"field\",\"field\":\"index\"},\"width\":{\"type\":\"value\",\"value\":0.8},\"top\":{\"type\":\"field\",\"field\":\"Age\"},\"line_alpha\":{\"type\":\"value\",\"value\":0.1},\"fill_color\":{\"type\":\"value\",\"value\":\"#30a2da\"},\"fill_alpha\":{\"type\":\"value\",\"value\":0.1},\"hatch_color\":{\"type\":\"value\",\"value\":\"#30a2da\"},\"hatch_alpha\":{\"type\":\"value\",\"value\":0.1}}},\"muted_glyph\":{\"type\":\"object\",\"name\":\"VBar\",\"id\":\"p1122\",\"attributes\":{\"tags\":[\"apply_ranges\"],\"x\":{\"type\":\"field\",\"field\":\"index\"},\"width\":{\"type\":\"value\",\"value\":0.8},\"top\":{\"type\":\"field\",\"field\":\"Age\"},\"line_alpha\":{\"type\":\"value\",\"value\":0.2},\"fill_color\":{\"type\":\"value\",\"value\":\"#30a2da\"},\"fill_alpha\":{\"type\":\"value\",\"value\":0.2},\"hatch_color\":{\"type\":\"value\",\"value\":\"#30a2da\"},\"hatch_alpha\":{\"type\":\"value\",\"value\":0.2}}}}}],\"toolbar\":{\"type\":\"object\",\"name\":\"Toolbar\",\"id\":\"p1090\",\"attributes\":{\"tools\":[{\"type\":\"object\",\"name\":\"WheelZoomTool\",\"id\":\"p1079\",\"attributes\":{\"tags\":[\"hv_created\"],\"renderers\":\"auto\",\"zoom_together\":\"none\"}},{\"type\":\"object\",\"name\":\"HoverTool\",\"id\":\"p1080\",\"attributes\":{\"tags\":[\"hv_created\"],\"renderers\":[{\"id\":\"p1123\"}],\"tooltips\":[[\"index\",\"@{index}\"],[\"Age\",\"@{Age}\"]]}},{\"type\":\"object\",\"name\":\"SaveTool\",\"id\":\"p1103\"},{\"type\":\"object\",\"name\":\"PanTool\",\"id\":\"p1104\"},{\"type\":\"object\",\"name\":\"BoxZoomTool\",\"id\":\"p1105\",\"attributes\":{\"overlay\":{\"type\":\"object\",\"name\":\"BoxAnnotation\",\"id\":\"p1106\",\"attributes\":{\"syncable\":false,\"line_color\":\"black\",\"line_alpha\":1.0,\"line_width\":2,\"line_dash\":[4,4],\"fill_color\":\"lightgrey\",\"fill_alpha\":0.5,\"level\":\"overlay\",\"visible\":false,\"left\":{\"type\":\"number\",\"value\":\"nan\"},\"right\":{\"type\":\"number\",\"value\":\"nan\"},\"top\":{\"type\":\"number\",\"value\":\"nan\"},\"bottom\":{\"type\":\"number\",\"value\":\"nan\"},\"left_units\":\"canvas\",\"right_units\":\"canvas\",\"top_units\":\"canvas\",\"bottom_units\":\"canvas\",\"handles\":{\"type\":\"object\",\"name\":\"BoxInteractionHandles\",\"id\":\"p1112\",\"attributes\":{\"all\":{\"type\":\"object\",\"name\":\"AreaVisuals\",\"id\":\"p1111\",\"attributes\":{\"fill_color\":\"white\",\"hover_fill_color\":\"lightgray\"}}}}}}}},{\"type\":\"object\",\"name\":\"ResetTool\",\"id\":\"p1113\"}],\"active_drag\":{\"id\":\"p1104\"},\"active_scroll\":{\"id\":\"p1079\"}}},\"left\":[{\"type\":\"object\",\"name\":\"LinearAxis\",\"id\":\"p1098\",\"attributes\":{\"ticker\":{\"type\":\"object\",\"name\":\"BasicTicker\",\"id\":\"p1099\",\"attributes\":{\"mantissas\":[1,2,5]}},\"formatter\":{\"type\":\"object\",\"name\":\"BasicTickFormatter\",\"id\":\"p1100\"},\"axis_label\":\"\",\"major_label_policy\":{\"type\":\"object\",\"name\":\"AllLabels\",\"id\":\"p1101\"}}}],\"below\":[{\"type\":\"object\",\"name\":\"LinearAxis\",\"id\":\"p1093\",\"attributes\":{\"ticker\":{\"type\":\"object\",\"name\":\"BasicTicker\",\"id\":\"p1094\",\"attributes\":{\"mantissas\":[1,2,5]}},\"formatter\":{\"type\":\"object\",\"name\":\"BasicTickFormatter\",\"id\":\"p1095\"},\"axis_label\":\"\",\"major_label_policy\":{\"type\":\"object\",\"name\":\"AllLabels\",\"id\":\"p1096\"}}}],\"center\":[{\"type\":\"object\",\"name\":\"Grid\",\"id\":\"p1097\",\"attributes\":{\"axis\":{\"id\":\"p1093\"},\"grid_line_color\":null}},{\"type\":\"object\",\"name\":\"Grid\",\"id\":\"p1102\",\"attributes\":{\"dimension\":1,\"axis\":{\"id\":\"p1098\"},\"grid_line_color\":null}}],\"min_border_top\":10,\"min_border_bottom\":10,\"min_border_left\":10,\"min_border_right\":10,\"output_backend\":\"webgl\"}},{\"type\":\"object\",\"name\":\"Spacer\",\"id\":\"p1128\",\"attributes\":{\"name\":\"HSpacer01057\",\"stylesheets\":[\"\\n:host(.pn-loading):before, .pn-loading:before {\\n  background-color: #c3c3c3;\\n  mask-size: auto calc(min(50%, 400px));\\n  -webkit-mask-size: auto calc(min(50%, 400px));\\n}\",{\"id\":\"p1072\"},{\"id\":\"p1070\"},{\"id\":\"p1071\"}],\"margin\":0,\"sizing_mode\":\"stretch_width\",\"align\":\"start\"}}]}}],\"defs\":[{\"type\":\"model\",\"name\":\"ReactiveHTML1\"},{\"type\":\"model\",\"name\":\"FlexBox1\",\"properties\":[{\"name\":\"align_content\",\"kind\":\"Any\",\"default\":\"flex-start\"},{\"name\":\"align_items\",\"kind\":\"Any\",\"default\":\"flex-start\"},{\"name\":\"flex_direction\",\"kind\":\"Any\",\"default\":\"row\"},{\"name\":\"flex_wrap\",\"kind\":\"Any\",\"default\":\"wrap\"},{\"name\":\"gap\",\"kind\":\"Any\",\"default\":\"\"},{\"name\":\"justify_content\",\"kind\":\"Any\",\"default\":\"flex-start\"}]},{\"type\":\"model\",\"name\":\"FloatPanel1\",\"properties\":[{\"name\":\"config\",\"kind\":\"Any\",\"default\":{\"type\":\"map\"}},{\"name\":\"contained\",\"kind\":\"Any\",\"default\":true},{\"name\":\"position\",\"kind\":\"Any\",\"default\":\"right-top\"},{\"name\":\"offsetx\",\"kind\":\"Any\",\"default\":null},{\"name\":\"offsety\",\"kind\":\"Any\",\"default\":null},{\"name\":\"theme\",\"kind\":\"Any\",\"default\":\"primary\"},{\"name\":\"status\",\"kind\":\"Any\",\"default\":\"normalized\"}]},{\"type\":\"model\",\"name\":\"GridStack1\",\"properties\":[{\"name\":\"mode\",\"kind\":\"Any\",\"default\":\"warn\"},{\"name\":\"ncols\",\"kind\":\"Any\",\"default\":null},{\"name\":\"nrows\",\"kind\":\"Any\",\"default\":null},{\"name\":\"allow_resize\",\"kind\":\"Any\",\"default\":true},{\"name\":\"allow_drag\",\"kind\":\"Any\",\"default\":true},{\"name\":\"state\",\"kind\":\"Any\",\"default\":[]}]},{\"type\":\"model\",\"name\":\"drag1\",\"properties\":[{\"name\":\"slider_width\",\"kind\":\"Any\",\"default\":5},{\"name\":\"slider_color\",\"kind\":\"Any\",\"default\":\"black\"},{\"name\":\"value\",\"kind\":\"Any\",\"default\":50}]},{\"type\":\"model\",\"name\":\"click1\",\"properties\":[{\"name\":\"terminal_output\",\"kind\":\"Any\",\"default\":\"\"},{\"name\":\"debug_name\",\"kind\":\"Any\",\"default\":\"\"},{\"name\":\"clears\",\"kind\":\"Any\",\"default\":0}]},{\"type\":\"model\",\"name\":\"FastWrapper1\",\"properties\":[{\"name\":\"object\",\"kind\":\"Any\",\"default\":null},{\"name\":\"style\",\"kind\":\"Any\",\"default\":null}]},{\"type\":\"model\",\"name\":\"NotificationAreaBase1\",\"properties\":[{\"name\":\"js_events\",\"kind\":\"Any\",\"default\":{\"type\":\"map\"}},{\"name\":\"position\",\"kind\":\"Any\",\"default\":\"bottom-right\"},{\"name\":\"_clear\",\"kind\":\"Any\",\"default\":0}]},{\"type\":\"model\",\"name\":\"NotificationArea1\",\"properties\":[{\"name\":\"js_events\",\"kind\":\"Any\",\"default\":{\"type\":\"map\"}},{\"name\":\"notifications\",\"kind\":\"Any\",\"default\":[]},{\"name\":\"position\",\"kind\":\"Any\",\"default\":\"bottom-right\"},{\"name\":\"_clear\",\"kind\":\"Any\",\"default\":0},{\"name\":\"types\",\"kind\":\"Any\",\"default\":[{\"type\":\"map\",\"entries\":[[\"type\",\"warning\"],[\"background\",\"#ffc107\"],[\"icon\",{\"type\":\"map\",\"entries\":[[\"className\",\"fas fa-exclamation-triangle\"],[\"tagName\",\"i\"],[\"color\",\"white\"]]}]]},{\"type\":\"map\",\"entries\":[[\"type\",\"info\"],[\"background\",\"#007bff\"],[\"icon\",{\"type\":\"map\",\"entries\":[[\"className\",\"fas fa-info-circle\"],[\"tagName\",\"i\"],[\"color\",\"white\"]]}]]}]}]},{\"type\":\"model\",\"name\":\"Notification\",\"properties\":[{\"name\":\"background\",\"kind\":\"Any\",\"default\":null},{\"name\":\"duration\",\"kind\":\"Any\",\"default\":3000},{\"name\":\"icon\",\"kind\":\"Any\",\"default\":null},{\"name\":\"message\",\"kind\":\"Any\",\"default\":\"\"},{\"name\":\"notification_type\",\"kind\":\"Any\",\"default\":null},{\"name\":\"_destroyed\",\"kind\":\"Any\",\"default\":false}]},{\"type\":\"model\",\"name\":\"TemplateActions1\",\"properties\":[{\"name\":\"open_modal\",\"kind\":\"Any\",\"default\":0},{\"name\":\"close_modal\",\"kind\":\"Any\",\"default\":0}]},{\"type\":\"model\",\"name\":\"BootstrapTemplateActions1\",\"properties\":[{\"name\":\"open_modal\",\"kind\":\"Any\",\"default\":0},{\"name\":\"close_modal\",\"kind\":\"Any\",\"default\":0}]},{\"type\":\"model\",\"name\":\"TemplateEditor1\",\"properties\":[{\"name\":\"layout\",\"kind\":\"Any\",\"default\":[]}]},{\"type\":\"model\",\"name\":\"MaterialTemplateActions1\",\"properties\":[{\"name\":\"open_modal\",\"kind\":\"Any\",\"default\":0},{\"name\":\"close_modal\",\"kind\":\"Any\",\"default\":0}]},{\"type\":\"model\",\"name\":\"request_value1\",\"properties\":[{\"name\":\"fill\",\"kind\":\"Any\",\"default\":\"none\"},{\"name\":\"_synced\",\"kind\":\"Any\",\"default\":null},{\"name\":\"_request_sync\",\"kind\":\"Any\",\"default\":0}]}]}};\n",
       "  var render_items = [{\"docid\":\"17f20b26-b03c-40bb-873c-57c328588803\",\"roots\":{\"p1069\":\"ce85d92b-77fe-490c-aae7-145814235ec9\"},\"root_ids\":[\"p1069\"]}];\n",
       "  var docs = Object.values(docs_json)\n",
       "  if (!docs) {\n",
       "    return\n",
       "  }\n",
       "  const py_version = docs[0].version.replace('rc', '-rc.').replace('.dev', '-dev.')\n",
       "  async function embed_document(root) {\n",
       "    var Bokeh = get_bokeh(root)\n",
       "    await Bokeh.embed.embed_items_notebook(docs_json, render_items);\n",
       "    for (const render_item of render_items) {\n",
       "      for (const root_id of render_item.root_ids) {\n",
       "\tconst id_el = document.getElementById(root_id)\n",
       "\tif (id_el.children.length && id_el.children[0].hasAttribute('data-root-id')) {\n",
       "\t  const root_el = id_el.children[0]\n",
       "\t  root_el.id = root_el.id + '-rendered'\n",
       "\t  for (const child of root_el.children) {\n",
       "            // Ensure JupyterLab does not capture keyboard shortcuts\n",
       "            // see: https://jupyterlab.readthedocs.io/en/4.1.x/extension/notebook.html#keyboard-interaction-model\n",
       "\t    child.setAttribute('data-lm-suppress-shortcuts', 'true')\n",
       "\t  }\n",
       "\t}\n",
       "      }\n",
       "    }\n",
       "  }\n",
       "  function get_bokeh(root) {\n",
       "    if (root.Bokeh === undefined) {\n",
       "      return null\n",
       "    } else if (root.Bokeh.version !== py_version) {\n",
       "      if (root.Bokeh.versions === undefined || !root.Bokeh.versions.has(py_version)) {\n",
       "\treturn null\n",
       "      }\n",
       "      return root.Bokeh.versions.get(py_version);\n",
       "    } else if (root.Bokeh.version === py_version) {\n",
       "      return root.Bokeh\n",
       "    }\n",
       "    return null\n",
       "  }\n",
       "  function is_loaded(root) {\n",
       "    var Bokeh = get_bokeh(root)\n",
       "    return (Bokeh != null && Bokeh.Panel !== undefined)\n",
       "  }\n",
       "  if (is_loaded(root)) {\n",
       "    embed_document(root);\n",
       "  } else {\n",
       "    var attempts = 0;\n",
       "    var timer = setInterval(function(root) {\n",
       "      if (is_loaded(root)) {\n",
       "        clearInterval(timer);\n",
       "        embed_document(root);\n",
       "      } else if (document.readyState == \"complete\") {\n",
       "        attempts++;\n",
       "        if (attempts > 200) {\n",
       "          clearInterval(timer);\n",
       "\t  var Bokeh = get_bokeh(root)\n",
       "\t  if (Bokeh == null || Bokeh.Panel == null) {\n",
       "            console.warn(\"Panel: ERROR: Unable to run Panel code because Bokeh or Panel library is missing\");\n",
       "\t  } else {\n",
       "\t    console.warn(\"Panel: WARNING: Attempting to render but not all required libraries could be resolved.\")\n",
       "\t    embed_document(root)\n",
       "\t  }\n",
       "        }\n",
       "      }\n",
       "    }, 25, root)\n",
       "  }\n",
       "})(window);</script>"
      ],
      "text/plain": [
       ":Bars   [index]   (Age)"
      ]
     },
     "execution_count": 58,
     "metadata": {
      "application/vnd.holoviews_exec.v0+json": {
       "id": "p1069"
      }
     },
     "output_type": "execute_result"
    }
   ],
   "source": [
    "df[\"Age\"].plot.bar()"
   ]
  },
  {
   "cell_type": "code",
   "execution_count": 59,
   "id": "23326329-c8bd-47ea-a77e-099e46196476",
   "metadata": {},
   "outputs": [],
   "source": [
    "df = pl.DataFrame({\n",
    "    \"Employee ID\": [1,2,3,4,5],\n",
    "    \"Name\" : [\"Alice\", \"Bob\", \"Charlie\", \"David\", \"Eve\"],\n",
    "    \"Age\": [29,34,31,28,42],\n",
    "    \"Department\": [\"HR\", \"Engineering\", \"Finance\", \"HR\", \"Finance\"],\n",
    "    \"Salary\": [50000., 75000., 60000., 58000., 85000.],\n",
    "    \"Start Date\": [date(2023,5,21), date(2019,8,14), date(2021,1,10), date(2018,11,3), date(2022,6,27)]\n",
    "    })"
   ]
  },
  {
   "cell_type": "code",
   "execution_count": 61,
   "id": "7aad1360-5498-4909-b8c9-9532ed66f794",
   "metadata": {},
   "outputs": [
    {
     "data": {},
     "metadata": {},
     "output_type": "display_data"
    },
    {
     "data": {
      "application/vnd.holoviews_exec.v0+json": "",
      "text/html": [
       "<div id='p1199'>\n",
       "  <div id=\"f8996e82-b717-4062-872b-68c0c529cd64\" data-root-id=\"p1199\" style=\"display: contents;\"></div>\n",
       "</div>\n",
       "<script type=\"application/javascript\">(function(root) {\n",
       "  var docs_json = {\"8fb46d24-5e8d-4e98-b29e-ecd191e61aeb\":{\"version\":\"3.5.1\",\"title\":\"Bokeh Application\",\"roots\":[{\"type\":\"object\",\"name\":\"Row\",\"id\":\"p1199\",\"attributes\":{\"name\":\"Row01354\",\"tags\":[\"embedded\"],\"stylesheets\":[\"\\n:host(.pn-loading):before, .pn-loading:before {\\n  background-color: #c3c3c3;\\n  mask-size: auto calc(min(50%, 400px));\\n  -webkit-mask-size: auto calc(min(50%, 400px));\\n}\",{\"type\":\"object\",\"name\":\"ImportedStyleSheet\",\"id\":\"p1202\",\"attributes\":{\"url\":\"https://cdn.holoviz.org/panel/1.5.0-b.4/dist/css/loading.css\"}},{\"type\":\"object\",\"name\":\"ImportedStyleSheet\",\"id\":\"p1330\",\"attributes\":{\"url\":\"https://cdn.holoviz.org/panel/1.5.0-b.4/dist/css/listpanel.css\"}},{\"type\":\"object\",\"name\":\"ImportedStyleSheet\",\"id\":\"p1200\",\"attributes\":{\"url\":\"https://cdn.holoviz.org/panel/1.5.0-b.4/dist/bundled/theme/default.css\"}},{\"type\":\"object\",\"name\":\"ImportedStyleSheet\",\"id\":\"p1201\",\"attributes\":{\"url\":\"https://cdn.holoviz.org/panel/1.5.0-b.4/dist/bundled/theme/native.css\"}}],\"min_width\":700,\"margin\":0,\"sizing_mode\":\"stretch_width\",\"align\":\"start\",\"children\":[{\"type\":\"object\",\"name\":\"Spacer\",\"id\":\"p1203\",\"attributes\":{\"name\":\"HSpacer01361\",\"stylesheets\":[\"\\n:host(.pn-loading):before, .pn-loading:before {\\n  background-color: #c3c3c3;\\n  mask-size: auto calc(min(50%, 400px));\\n  -webkit-mask-size: auto calc(min(50%, 400px));\\n}\",{\"id\":\"p1202\"},{\"id\":\"p1200\"},{\"id\":\"p1201\"}],\"margin\":0,\"sizing_mode\":\"stretch_width\",\"align\":\"start\"}},{\"type\":\"object\",\"name\":\"Figure\",\"id\":\"p1223\",\"attributes\":{\"width\":700,\"height\":300,\"margin\":[5,10],\"sizing_mode\":\"fixed\",\"align\":\"start\",\"x_range\":{\"type\":\"object\",\"name\":\"Range1d\",\"id\":\"p1204\",\"attributes\":{\"tags\":[[[\"Age\",null]],[]],\"start\":27.4,\"end\":42.6,\"reset_start\":27.4,\"reset_end\":42.6}},\"y_range\":{\"type\":\"object\",\"name\":\"Range1d\",\"id\":\"p1205\",\"attributes\":{\"tags\":[[[\"Salary\",null]],{\"type\":\"map\",\"entries\":[[\"invert_yaxis\",false],[\"autorange\",false]]}],\"start\":46500.0,\"end\":88500.0,\"reset_start\":46500.0,\"reset_end\":88500.0}},\"x_scale\":{\"type\":\"object\",\"name\":\"LinearScale\",\"id\":\"p1233\"},\"y_scale\":{\"type\":\"object\",\"name\":\"LinearScale\",\"id\":\"p1234\"},\"title\":{\"type\":\"object\",\"name\":\"Title\",\"id\":\"p1226\",\"attributes\":{\"text_color\":\"black\",\"text_font_size\":\"12pt\"}},\"renderers\":[{\"type\":\"object\",\"name\":\"GlyphRenderer\",\"id\":\"p1265\",\"attributes\":{\"name\":\"Alice\",\"data_source\":{\"type\":\"object\",\"name\":\"ColumnDataSource\",\"id\":\"p1256\",\"attributes\":{\"selected\":{\"type\":\"object\",\"name\":\"Selection\",\"id\":\"p1257\",\"attributes\":{\"indices\":[],\"line_indices\":[]}},\"selection_policy\":{\"type\":\"object\",\"name\":\"UnionRenderers\",\"id\":\"p1258\"},\"data\":{\"type\":\"map\",\"entries\":[[\"Age\",{\"type\":\"ndarray\",\"array\":{\"type\":\"bytes\",\"data\":\"HQAAAA==\"},\"shape\":[1],\"dtype\":\"int32\",\"order\":\"little\"}],[\"Salary\",{\"type\":\"ndarray\",\"array\":{\"type\":\"bytes\",\"data\":\"AAAAAABq6EA=\"},\"shape\":[1],\"dtype\":\"float64\",\"order\":\"little\"}],[\"Name\",[\"Alice\"]]]}}},\"view\":{\"type\":\"object\",\"name\":\"CDSView\",\"id\":\"p1266\",\"attributes\":{\"filter\":{\"type\":\"object\",\"name\":\"AllIndices\",\"id\":\"p1267\"}}},\"glyph\":{\"type\":\"object\",\"name\":\"Scatter\",\"id\":\"p1262\",\"attributes\":{\"tags\":[\"apply_ranges\"],\"x\":{\"type\":\"field\",\"field\":\"Age\"},\"y\":{\"type\":\"field\",\"field\":\"Salary\"},\"size\":{\"type\":\"value\",\"value\":5.477225575051661},\"line_color\":{\"type\":\"value\",\"value\":\"#30a2da\"},\"fill_color\":{\"type\":\"value\",\"value\":\"#30a2da\"},\"hatch_color\":{\"type\":\"value\",\"value\":\"#30a2da\"}}},\"selection_glyph\":{\"type\":\"object\",\"name\":\"Scatter\",\"id\":\"p1270\",\"attributes\":{\"tags\":[\"apply_ranges\"],\"x\":{\"type\":\"field\",\"field\":\"Age\"},\"y\":{\"type\":\"field\",\"field\":\"Salary\"},\"size\":{\"type\":\"value\",\"value\":5.477225575051661},\"angle\":{\"type\":\"value\",\"value\":0.0},\"line_color\":{\"type\":\"value\",\"value\":\"#30a2da\"},\"line_alpha\":{\"type\":\"value\",\"value\":1.0},\"line_width\":{\"type\":\"value\",\"value\":1},\"line_join\":{\"type\":\"value\",\"value\":\"bevel\"},\"line_cap\":{\"type\":\"value\",\"value\":\"butt\"},\"line_dash\":{\"type\":\"value\",\"value\":[]},\"line_dash_offset\":{\"type\":\"value\",\"value\":0},\"fill_color\":{\"type\":\"value\",\"value\":\"#30a2da\"},\"fill_alpha\":{\"type\":\"value\",\"value\":1.0},\"hatch_color\":{\"type\":\"value\",\"value\":\"#30a2da\"},\"hatch_alpha\":{\"type\":\"value\",\"value\":1.0},\"hatch_scale\":{\"type\":\"value\",\"value\":12.0},\"hatch_pattern\":{\"type\":\"value\",\"value\":null},\"hatch_weight\":{\"type\":\"value\",\"value\":1.0},\"marker\":{\"type\":\"value\",\"value\":\"circle\"}}},\"nonselection_glyph\":{\"type\":\"object\",\"name\":\"Scatter\",\"id\":\"p1263\",\"attributes\":{\"tags\":[\"apply_ranges\"],\"x\":{\"type\":\"field\",\"field\":\"Age\"},\"y\":{\"type\":\"field\",\"field\":\"Salary\"},\"size\":{\"type\":\"value\",\"value\":5.477225575051661},\"line_color\":{\"type\":\"value\",\"value\":\"#30a2da\"},\"line_alpha\":{\"type\":\"value\",\"value\":0.1},\"fill_color\":{\"type\":\"value\",\"value\":\"#30a2da\"},\"fill_alpha\":{\"type\":\"value\",\"value\":0.1},\"hatch_color\":{\"type\":\"value\",\"value\":\"#30a2da\"},\"hatch_alpha\":{\"type\":\"value\",\"value\":0.1}}},\"muted_glyph\":{\"type\":\"object\",\"name\":\"Scatter\",\"id\":\"p1264\",\"attributes\":{\"tags\":[\"apply_ranges\"],\"x\":{\"type\":\"field\",\"field\":\"Age\"},\"y\":{\"type\":\"field\",\"field\":\"Salary\"},\"size\":{\"type\":\"value\",\"value\":5.477225575051661},\"line_color\":{\"type\":\"value\",\"value\":\"#30a2da\"},\"line_alpha\":{\"type\":\"value\",\"value\":0.2},\"fill_color\":{\"type\":\"value\",\"value\":\"#30a2da\"},\"fill_alpha\":{\"type\":\"value\",\"value\":0.2},\"hatch_color\":{\"type\":\"value\",\"value\":\"#30a2da\"},\"hatch_alpha\":{\"type\":\"value\",\"value\":0.2}}}}},{\"type\":\"object\",\"name\":\"GlyphRenderer\",\"id\":\"p1280\",\"attributes\":{\"name\":\"Bob\",\"data_source\":{\"type\":\"object\",\"name\":\"ColumnDataSource\",\"id\":\"p1271\",\"attributes\":{\"selected\":{\"type\":\"object\",\"name\":\"Selection\",\"id\":\"p1272\",\"attributes\":{\"indices\":[],\"line_indices\":[]}},\"selection_policy\":{\"type\":\"object\",\"name\":\"UnionRenderers\",\"id\":\"p1273\"},\"data\":{\"type\":\"map\",\"entries\":[[\"Age\",{\"type\":\"ndarray\",\"array\":{\"type\":\"bytes\",\"data\":\"IgAAAA==\"},\"shape\":[1],\"dtype\":\"int32\",\"order\":\"little\"}],[\"Salary\",{\"type\":\"ndarray\",\"array\":{\"type\":\"bytes\",\"data\":\"AAAAAIBP8kA=\"},\"shape\":[1],\"dtype\":\"float64\",\"order\":\"little\"}],[\"Name\",[\"Bob\"]]]}}},\"view\":{\"type\":\"object\",\"name\":\"CDSView\",\"id\":\"p1281\",\"attributes\":{\"filter\":{\"type\":\"object\",\"name\":\"AllIndices\",\"id\":\"p1282\"}}},\"glyph\":{\"type\":\"object\",\"name\":\"Scatter\",\"id\":\"p1277\",\"attributes\":{\"tags\":[\"apply_ranges\"],\"x\":{\"type\":\"field\",\"field\":\"Age\"},\"y\":{\"type\":\"field\",\"field\":\"Salary\"},\"size\":{\"type\":\"value\",\"value\":5.477225575051661},\"line_color\":{\"type\":\"value\",\"value\":\"#fc4f30\"},\"fill_color\":{\"type\":\"value\",\"value\":\"#fc4f30\"},\"hatch_color\":{\"type\":\"value\",\"value\":\"#fc4f30\"}}},\"selection_glyph\":{\"type\":\"object\",\"name\":\"Scatter\",\"id\":\"p1284\",\"attributes\":{\"tags\":[\"apply_ranges\"],\"x\":{\"type\":\"field\",\"field\":\"Age\"},\"y\":{\"type\":\"field\",\"field\":\"Salary\"},\"size\":{\"type\":\"value\",\"value\":5.477225575051661},\"angle\":{\"type\":\"value\",\"value\":0.0},\"line_color\":{\"type\":\"value\",\"value\":\"#fc4f30\"},\"line_alpha\":{\"type\":\"value\",\"value\":1.0},\"line_width\":{\"type\":\"value\",\"value\":1},\"line_join\":{\"type\":\"value\",\"value\":\"bevel\"},\"line_cap\":{\"type\":\"value\",\"value\":\"butt\"},\"line_dash\":{\"type\":\"value\",\"value\":[]},\"line_dash_offset\":{\"type\":\"value\",\"value\":0},\"fill_color\":{\"type\":\"value\",\"value\":\"#fc4f30\"},\"fill_alpha\":{\"type\":\"value\",\"value\":1.0},\"hatch_color\":{\"type\":\"value\",\"value\":\"#fc4f30\"},\"hatch_alpha\":{\"type\":\"value\",\"value\":1.0},\"hatch_scale\":{\"type\":\"value\",\"value\":12.0},\"hatch_pattern\":{\"type\":\"value\",\"value\":null},\"hatch_weight\":{\"type\":\"value\",\"value\":1.0},\"marker\":{\"type\":\"value\",\"value\":\"circle\"}}},\"nonselection_glyph\":{\"type\":\"object\",\"name\":\"Scatter\",\"id\":\"p1278\",\"attributes\":{\"tags\":[\"apply_ranges\"],\"x\":{\"type\":\"field\",\"field\":\"Age\"},\"y\":{\"type\":\"field\",\"field\":\"Salary\"},\"size\":{\"type\":\"value\",\"value\":5.477225575051661},\"line_color\":{\"type\":\"value\",\"value\":\"#fc4f30\"},\"line_alpha\":{\"type\":\"value\",\"value\":0.1},\"fill_color\":{\"type\":\"value\",\"value\":\"#fc4f30\"},\"fill_alpha\":{\"type\":\"value\",\"value\":0.1},\"hatch_color\":{\"type\":\"value\",\"value\":\"#fc4f30\"},\"hatch_alpha\":{\"type\":\"value\",\"value\":0.1}}},\"muted_glyph\":{\"type\":\"object\",\"name\":\"Scatter\",\"id\":\"p1279\",\"attributes\":{\"tags\":[\"apply_ranges\"],\"x\":{\"type\":\"field\",\"field\":\"Age\"},\"y\":{\"type\":\"field\",\"field\":\"Salary\"},\"size\":{\"type\":\"value\",\"value\":5.477225575051661},\"line_color\":{\"type\":\"value\",\"value\":\"#fc4f30\"},\"line_alpha\":{\"type\":\"value\",\"value\":0.2},\"fill_color\":{\"type\":\"value\",\"value\":\"#fc4f30\"},\"fill_alpha\":{\"type\":\"value\",\"value\":0.2},\"hatch_color\":{\"type\":\"value\",\"value\":\"#fc4f30\"},\"hatch_alpha\":{\"type\":\"value\",\"value\":0.2}}}}},{\"type\":\"object\",\"name\":\"GlyphRenderer\",\"id\":\"p1294\",\"attributes\":{\"name\":\"Charlie\",\"data_source\":{\"type\":\"object\",\"name\":\"ColumnDataSource\",\"id\":\"p1285\",\"attributes\":{\"selected\":{\"type\":\"object\",\"name\":\"Selection\",\"id\":\"p1286\",\"attributes\":{\"indices\":[],\"line_indices\":[]}},\"selection_policy\":{\"type\":\"object\",\"name\":\"UnionRenderers\",\"id\":\"p1287\"},\"data\":{\"type\":\"map\",\"entries\":[[\"Age\",{\"type\":\"ndarray\",\"array\":{\"type\":\"bytes\",\"data\":\"HwAAAA==\"},\"shape\":[1],\"dtype\":\"int32\",\"order\":\"little\"}],[\"Salary\",{\"type\":\"ndarray\",\"array\":{\"type\":\"bytes\",\"data\":\"AAAAAABM7UA=\"},\"shape\":[1],\"dtype\":\"float64\",\"order\":\"little\"}],[\"Name\",[\"Charlie\"]]]}}},\"view\":{\"type\":\"object\",\"name\":\"CDSView\",\"id\":\"p1295\",\"attributes\":{\"filter\":{\"type\":\"object\",\"name\":\"AllIndices\",\"id\":\"p1296\"}}},\"glyph\":{\"type\":\"object\",\"name\":\"Scatter\",\"id\":\"p1291\",\"attributes\":{\"tags\":[\"apply_ranges\"],\"x\":{\"type\":\"field\",\"field\":\"Age\"},\"y\":{\"type\":\"field\",\"field\":\"Salary\"},\"size\":{\"type\":\"value\",\"value\":5.477225575051661},\"line_color\":{\"type\":\"value\",\"value\":\"#e5ae38\"},\"fill_color\":{\"type\":\"value\",\"value\":\"#e5ae38\"},\"hatch_color\":{\"type\":\"value\",\"value\":\"#e5ae38\"}}},\"selection_glyph\":{\"type\":\"object\",\"name\":\"Scatter\",\"id\":\"p1298\",\"attributes\":{\"tags\":[\"apply_ranges\"],\"x\":{\"type\":\"field\",\"field\":\"Age\"},\"y\":{\"type\":\"field\",\"field\":\"Salary\"},\"size\":{\"type\":\"value\",\"value\":5.477225575051661},\"angle\":{\"type\":\"value\",\"value\":0.0},\"line_color\":{\"type\":\"value\",\"value\":\"#e5ae38\"},\"line_alpha\":{\"type\":\"value\",\"value\":1.0},\"line_width\":{\"type\":\"value\",\"value\":1},\"line_join\":{\"type\":\"value\",\"value\":\"bevel\"},\"line_cap\":{\"type\":\"value\",\"value\":\"butt\"},\"line_dash\":{\"type\":\"value\",\"value\":[]},\"line_dash_offset\":{\"type\":\"value\",\"value\":0},\"fill_color\":{\"type\":\"value\",\"value\":\"#e5ae38\"},\"fill_alpha\":{\"type\":\"value\",\"value\":1.0},\"hatch_color\":{\"type\":\"value\",\"value\":\"#e5ae38\"},\"hatch_alpha\":{\"type\":\"value\",\"value\":1.0},\"hatch_scale\":{\"type\":\"value\",\"value\":12.0},\"hatch_pattern\":{\"type\":\"value\",\"value\":null},\"hatch_weight\":{\"type\":\"value\",\"value\":1.0},\"marker\":{\"type\":\"value\",\"value\":\"circle\"}}},\"nonselection_glyph\":{\"type\":\"object\",\"name\":\"Scatter\",\"id\":\"p1292\",\"attributes\":{\"tags\":[\"apply_ranges\"],\"x\":{\"type\":\"field\",\"field\":\"Age\"},\"y\":{\"type\":\"field\",\"field\":\"Salary\"},\"size\":{\"type\":\"value\",\"value\":5.477225575051661},\"line_color\":{\"type\":\"value\",\"value\":\"#e5ae38\"},\"line_alpha\":{\"type\":\"value\",\"value\":0.1},\"fill_color\":{\"type\":\"value\",\"value\":\"#e5ae38\"},\"fill_alpha\":{\"type\":\"value\",\"value\":0.1},\"hatch_color\":{\"type\":\"value\",\"value\":\"#e5ae38\"},\"hatch_alpha\":{\"type\":\"value\",\"value\":0.1}}},\"muted_glyph\":{\"type\":\"object\",\"name\":\"Scatter\",\"id\":\"p1293\",\"attributes\":{\"tags\":[\"apply_ranges\"],\"x\":{\"type\":\"field\",\"field\":\"Age\"},\"y\":{\"type\":\"field\",\"field\":\"Salary\"},\"size\":{\"type\":\"value\",\"value\":5.477225575051661},\"line_color\":{\"type\":\"value\",\"value\":\"#e5ae38\"},\"line_alpha\":{\"type\":\"value\",\"value\":0.2},\"fill_color\":{\"type\":\"value\",\"value\":\"#e5ae38\"},\"fill_alpha\":{\"type\":\"value\",\"value\":0.2},\"hatch_color\":{\"type\":\"value\",\"value\":\"#e5ae38\"},\"hatch_alpha\":{\"type\":\"value\",\"value\":0.2}}}}},{\"type\":\"object\",\"name\":\"GlyphRenderer\",\"id\":\"p1308\",\"attributes\":{\"name\":\"David\",\"data_source\":{\"type\":\"object\",\"name\":\"ColumnDataSource\",\"id\":\"p1299\",\"attributes\":{\"selected\":{\"type\":\"object\",\"name\":\"Selection\",\"id\":\"p1300\",\"attributes\":{\"indices\":[],\"line_indices\":[]}},\"selection_policy\":{\"type\":\"object\",\"name\":\"UnionRenderers\",\"id\":\"p1301\"},\"data\":{\"type\":\"map\",\"entries\":[[\"Age\",{\"type\":\"ndarray\",\"array\":{\"type\":\"bytes\",\"data\":\"HAAAAA==\"},\"shape\":[1],\"dtype\":\"int32\",\"order\":\"little\"}],[\"Salary\",{\"type\":\"ndarray\",\"array\":{\"type\":\"bytes\",\"data\":\"AAAAAABS7EA=\"},\"shape\":[1],\"dtype\":\"float64\",\"order\":\"little\"}],[\"Name\",[\"David\"]]]}}},\"view\":{\"type\":\"object\",\"name\":\"CDSView\",\"id\":\"p1309\",\"attributes\":{\"filter\":{\"type\":\"object\",\"name\":\"AllIndices\",\"id\":\"p1310\"}}},\"glyph\":{\"type\":\"object\",\"name\":\"Scatter\",\"id\":\"p1305\",\"attributes\":{\"tags\":[\"apply_ranges\"],\"x\":{\"type\":\"field\",\"field\":\"Age\"},\"y\":{\"type\":\"field\",\"field\":\"Salary\"},\"size\":{\"type\":\"value\",\"value\":5.477225575051661},\"line_color\":{\"type\":\"value\",\"value\":\"#6d904f\"},\"fill_color\":{\"type\":\"value\",\"value\":\"#6d904f\"},\"hatch_color\":{\"type\":\"value\",\"value\":\"#6d904f\"}}},\"selection_glyph\":{\"type\":\"object\",\"name\":\"Scatter\",\"id\":\"p1312\",\"attributes\":{\"tags\":[\"apply_ranges\"],\"x\":{\"type\":\"field\",\"field\":\"Age\"},\"y\":{\"type\":\"field\",\"field\":\"Salary\"},\"size\":{\"type\":\"value\",\"value\":5.477225575051661},\"angle\":{\"type\":\"value\",\"value\":0.0},\"line_color\":{\"type\":\"value\",\"value\":\"#6d904f\"},\"line_alpha\":{\"type\":\"value\",\"value\":1.0},\"line_width\":{\"type\":\"value\",\"value\":1},\"line_join\":{\"type\":\"value\",\"value\":\"bevel\"},\"line_cap\":{\"type\":\"value\",\"value\":\"butt\"},\"line_dash\":{\"type\":\"value\",\"value\":[]},\"line_dash_offset\":{\"type\":\"value\",\"value\":0},\"fill_color\":{\"type\":\"value\",\"value\":\"#6d904f\"},\"fill_alpha\":{\"type\":\"value\",\"value\":1.0},\"hatch_color\":{\"type\":\"value\",\"value\":\"#6d904f\"},\"hatch_alpha\":{\"type\":\"value\",\"value\":1.0},\"hatch_scale\":{\"type\":\"value\",\"value\":12.0},\"hatch_pattern\":{\"type\":\"value\",\"value\":null},\"hatch_weight\":{\"type\":\"value\",\"value\":1.0},\"marker\":{\"type\":\"value\",\"value\":\"circle\"}}},\"nonselection_glyph\":{\"type\":\"object\",\"name\":\"Scatter\",\"id\":\"p1306\",\"attributes\":{\"tags\":[\"apply_ranges\"],\"x\":{\"type\":\"field\",\"field\":\"Age\"},\"y\":{\"type\":\"field\",\"field\":\"Salary\"},\"size\":{\"type\":\"value\",\"value\":5.477225575051661},\"line_color\":{\"type\":\"value\",\"value\":\"#6d904f\"},\"line_alpha\":{\"type\":\"value\",\"value\":0.1},\"fill_color\":{\"type\":\"value\",\"value\":\"#6d904f\"},\"fill_alpha\":{\"type\":\"value\",\"value\":0.1},\"hatch_color\":{\"type\":\"value\",\"value\":\"#6d904f\"},\"hatch_alpha\":{\"type\":\"value\",\"value\":0.1}}},\"muted_glyph\":{\"type\":\"object\",\"name\":\"Scatter\",\"id\":\"p1307\",\"attributes\":{\"tags\":[\"apply_ranges\"],\"x\":{\"type\":\"field\",\"field\":\"Age\"},\"y\":{\"type\":\"field\",\"field\":\"Salary\"},\"size\":{\"type\":\"value\",\"value\":5.477225575051661},\"line_color\":{\"type\":\"value\",\"value\":\"#6d904f\"},\"line_alpha\":{\"type\":\"value\",\"value\":0.2},\"fill_color\":{\"type\":\"value\",\"value\":\"#6d904f\"},\"fill_alpha\":{\"type\":\"value\",\"value\":0.2},\"hatch_color\":{\"type\":\"value\",\"value\":\"#6d904f\"},\"hatch_alpha\":{\"type\":\"value\",\"value\":0.2}}}}},{\"type\":\"object\",\"name\":\"GlyphRenderer\",\"id\":\"p1322\",\"attributes\":{\"name\":\"Eve\",\"data_source\":{\"type\":\"object\",\"name\":\"ColumnDataSource\",\"id\":\"p1313\",\"attributes\":{\"selected\":{\"type\":\"object\",\"name\":\"Selection\",\"id\":\"p1314\",\"attributes\":{\"indices\":[],\"line_indices\":[]}},\"selection_policy\":{\"type\":\"object\",\"name\":\"UnionRenderers\",\"id\":\"p1315\"},\"data\":{\"type\":\"map\",\"entries\":[[\"Age\",{\"type\":\"ndarray\",\"array\":{\"type\":\"bytes\",\"data\":\"KgAAAA==\"},\"shape\":[1],\"dtype\":\"int32\",\"order\":\"little\"}],[\"Salary\",{\"type\":\"ndarray\",\"array\":{\"type\":\"bytes\",\"data\":\"AAAAAIDA9EA=\"},\"shape\":[1],\"dtype\":\"float64\",\"order\":\"little\"}],[\"Name\",[\"Eve\"]]]}}},\"view\":{\"type\":\"object\",\"name\":\"CDSView\",\"id\":\"p1323\",\"attributes\":{\"filter\":{\"type\":\"object\",\"name\":\"AllIndices\",\"id\":\"p1324\"}}},\"glyph\":{\"type\":\"object\",\"name\":\"Scatter\",\"id\":\"p1319\",\"attributes\":{\"tags\":[\"apply_ranges\"],\"x\":{\"type\":\"field\",\"field\":\"Age\"},\"y\":{\"type\":\"field\",\"field\":\"Salary\"},\"size\":{\"type\":\"value\",\"value\":5.477225575051661},\"line_color\":{\"type\":\"value\",\"value\":\"#8b8b8b\"},\"fill_color\":{\"type\":\"value\",\"value\":\"#8b8b8b\"},\"hatch_color\":{\"type\":\"value\",\"value\":\"#8b8b8b\"}}},\"selection_glyph\":{\"type\":\"object\",\"name\":\"Scatter\",\"id\":\"p1326\",\"attributes\":{\"tags\":[\"apply_ranges\"],\"x\":{\"type\":\"field\",\"field\":\"Age\"},\"y\":{\"type\":\"field\",\"field\":\"Salary\"},\"size\":{\"type\":\"value\",\"value\":5.477225575051661},\"angle\":{\"type\":\"value\",\"value\":0.0},\"line_color\":{\"type\":\"value\",\"value\":\"#8b8b8b\"},\"line_alpha\":{\"type\":\"value\",\"value\":1.0},\"line_width\":{\"type\":\"value\",\"value\":1},\"line_join\":{\"type\":\"value\",\"value\":\"bevel\"},\"line_cap\":{\"type\":\"value\",\"value\":\"butt\"},\"line_dash\":{\"type\":\"value\",\"value\":[]},\"line_dash_offset\":{\"type\":\"value\",\"value\":0},\"fill_color\":{\"type\":\"value\",\"value\":\"#8b8b8b\"},\"fill_alpha\":{\"type\":\"value\",\"value\":1.0},\"hatch_color\":{\"type\":\"value\",\"value\":\"#8b8b8b\"},\"hatch_alpha\":{\"type\":\"value\",\"value\":1.0},\"hatch_scale\":{\"type\":\"value\",\"value\":12.0},\"hatch_pattern\":{\"type\":\"value\",\"value\":null},\"hatch_weight\":{\"type\":\"value\",\"value\":1.0},\"marker\":{\"type\":\"value\",\"value\":\"circle\"}}},\"nonselection_glyph\":{\"type\":\"object\",\"name\":\"Scatter\",\"id\":\"p1320\",\"attributes\":{\"tags\":[\"apply_ranges\"],\"x\":{\"type\":\"field\",\"field\":\"Age\"},\"y\":{\"type\":\"field\",\"field\":\"Salary\"},\"size\":{\"type\":\"value\",\"value\":5.477225575051661},\"line_color\":{\"type\":\"value\",\"value\":\"#8b8b8b\"},\"line_alpha\":{\"type\":\"value\",\"value\":0.1},\"fill_color\":{\"type\":\"value\",\"value\":\"#8b8b8b\"},\"fill_alpha\":{\"type\":\"value\",\"value\":0.1},\"hatch_color\":{\"type\":\"value\",\"value\":\"#8b8b8b\"},\"hatch_alpha\":{\"type\":\"value\",\"value\":0.1}}},\"muted_glyph\":{\"type\":\"object\",\"name\":\"Scatter\",\"id\":\"p1321\",\"attributes\":{\"tags\":[\"apply_ranges\"],\"x\":{\"type\":\"field\",\"field\":\"Age\"},\"y\":{\"type\":\"field\",\"field\":\"Salary\"},\"size\":{\"type\":\"value\",\"value\":5.477225575051661},\"line_color\":{\"type\":\"value\",\"value\":\"#8b8b8b\"},\"line_alpha\":{\"type\":\"value\",\"value\":0.2},\"fill_color\":{\"type\":\"value\",\"value\":\"#8b8b8b\"},\"fill_alpha\":{\"type\":\"value\",\"value\":0.2},\"hatch_color\":{\"type\":\"value\",\"value\":\"#8b8b8b\"},\"hatch_alpha\":{\"type\":\"value\",\"value\":0.2}}}}}],\"toolbar\":{\"type\":\"object\",\"name\":\"Toolbar\",\"id\":\"p1232\",\"attributes\":{\"tools\":[{\"type\":\"object\",\"name\":\"WheelZoomTool\",\"id\":\"p1209\",\"attributes\":{\"tags\":[\"hv_created\"],\"renderers\":\"auto\",\"zoom_together\":\"none\"}},{\"type\":\"object\",\"name\":\"HoverTool\",\"id\":\"p1210\",\"attributes\":{\"tags\":[\"hv_created\"],\"renderers\":[{\"id\":\"p1265\"},{\"id\":\"p1280\"},{\"id\":\"p1294\"},{\"id\":\"p1308\"},{\"id\":\"p1322\"}],\"tooltips\":[[\"Name\",\"@{Name}\"],[\"Age\",\"@{Age}\"],[\"Salary\",\"@{Salary}\"]]}},{\"type\":\"object\",\"name\":\"SaveTool\",\"id\":\"p1245\"},{\"type\":\"object\",\"name\":\"PanTool\",\"id\":\"p1246\"},{\"type\":\"object\",\"name\":\"BoxZoomTool\",\"id\":\"p1247\",\"attributes\":{\"overlay\":{\"type\":\"object\",\"name\":\"BoxAnnotation\",\"id\":\"p1248\",\"attributes\":{\"syncable\":false,\"line_color\":\"black\",\"line_alpha\":1.0,\"line_width\":2,\"line_dash\":[4,4],\"fill_color\":\"lightgrey\",\"fill_alpha\":0.5,\"level\":\"overlay\",\"visible\":false,\"left\":{\"type\":\"number\",\"value\":\"nan\"},\"right\":{\"type\":\"number\",\"value\":\"nan\"},\"top\":{\"type\":\"number\",\"value\":\"nan\"},\"bottom\":{\"type\":\"number\",\"value\":\"nan\"},\"left_units\":\"canvas\",\"right_units\":\"canvas\",\"top_units\":\"canvas\",\"bottom_units\":\"canvas\",\"handles\":{\"type\":\"object\",\"name\":\"BoxInteractionHandles\",\"id\":\"p1254\",\"attributes\":{\"all\":{\"type\":\"object\",\"name\":\"AreaVisuals\",\"id\":\"p1253\",\"attributes\":{\"fill_color\":\"white\",\"hover_fill_color\":\"lightgray\"}}}}}}}},{\"type\":\"object\",\"name\":\"ResetTool\",\"id\":\"p1255\"}],\"active_drag\":{\"id\":\"p1246\"},\"active_scroll\":{\"id\":\"p1209\"}}},\"left\":[{\"type\":\"object\",\"name\":\"LinearAxis\",\"id\":\"p1240\",\"attributes\":{\"ticker\":{\"type\":\"object\",\"name\":\"BasicTicker\",\"id\":\"p1241\",\"attributes\":{\"mantissas\":[1,2,5]}},\"formatter\":{\"type\":\"object\",\"name\":\"BasicTickFormatter\",\"id\":\"p1242\"},\"axis_label\":\"Salary\",\"major_label_policy\":{\"type\":\"object\",\"name\":\"AllLabels\",\"id\":\"p1243\"}}}],\"right\":[{\"type\":\"object\",\"name\":\"Legend\",\"id\":\"p1268\",\"attributes\":{\"location\":[0,0],\"title\":\"Name\",\"click_policy\":\"mute\",\"items\":[{\"type\":\"object\",\"name\":\"LegendItem\",\"id\":\"p1269\",\"attributes\":{\"label\":{\"type\":\"value\",\"value\":\"Alice\"},\"renderers\":[{\"id\":\"p1265\"}]}},{\"type\":\"object\",\"name\":\"LegendItem\",\"id\":\"p1283\",\"attributes\":{\"label\":{\"type\":\"value\",\"value\":\"Bob\"},\"renderers\":[{\"id\":\"p1280\"}]}},{\"type\":\"object\",\"name\":\"LegendItem\",\"id\":\"p1297\",\"attributes\":{\"label\":{\"type\":\"value\",\"value\":\"Charlie\"},\"renderers\":[{\"id\":\"p1294\"}]}},{\"type\":\"object\",\"name\":\"LegendItem\",\"id\":\"p1311\",\"attributes\":{\"label\":{\"type\":\"value\",\"value\":\"David\"},\"renderers\":[{\"id\":\"p1308\"}]}},{\"type\":\"object\",\"name\":\"LegendItem\",\"id\":\"p1325\",\"attributes\":{\"label\":{\"type\":\"value\",\"value\":\"Eve\"},\"renderers\":[{\"id\":\"p1322\"}]}}]}}],\"below\":[{\"type\":\"object\",\"name\":\"LinearAxis\",\"id\":\"p1235\",\"attributes\":{\"ticker\":{\"type\":\"object\",\"name\":\"BasicTicker\",\"id\":\"p1236\",\"attributes\":{\"mantissas\":[1,2,5]}},\"formatter\":{\"type\":\"object\",\"name\":\"BasicTickFormatter\",\"id\":\"p1237\"},\"axis_label\":\"Age\",\"major_label_policy\":{\"type\":\"object\",\"name\":\"AllLabels\",\"id\":\"p1238\"}}}],\"center\":[{\"type\":\"object\",\"name\":\"Grid\",\"id\":\"p1239\",\"attributes\":{\"axis\":{\"id\":\"p1235\"},\"grid_line_color\":null}},{\"type\":\"object\",\"name\":\"Grid\",\"id\":\"p1244\",\"attributes\":{\"dimension\":1,\"axis\":{\"id\":\"p1240\"},\"grid_line_color\":null}}],\"min_border_top\":10,\"min_border_bottom\":10,\"min_border_left\":10,\"min_border_right\":10,\"output_backend\":\"webgl\"}},{\"type\":\"object\",\"name\":\"Spacer\",\"id\":\"p1328\",\"attributes\":{\"name\":\"HSpacer01362\",\"stylesheets\":[\"\\n:host(.pn-loading):before, .pn-loading:before {\\n  background-color: #c3c3c3;\\n  mask-size: auto calc(min(50%, 400px));\\n  -webkit-mask-size: auto calc(min(50%, 400px));\\n}\",{\"id\":\"p1202\"},{\"id\":\"p1200\"},{\"id\":\"p1201\"}],\"margin\":0,\"sizing_mode\":\"stretch_width\",\"align\":\"start\"}}]}}],\"defs\":[{\"type\":\"model\",\"name\":\"ReactiveHTML1\"},{\"type\":\"model\",\"name\":\"FlexBox1\",\"properties\":[{\"name\":\"align_content\",\"kind\":\"Any\",\"default\":\"flex-start\"},{\"name\":\"align_items\",\"kind\":\"Any\",\"default\":\"flex-start\"},{\"name\":\"flex_direction\",\"kind\":\"Any\",\"default\":\"row\"},{\"name\":\"flex_wrap\",\"kind\":\"Any\",\"default\":\"wrap\"},{\"name\":\"gap\",\"kind\":\"Any\",\"default\":\"\"},{\"name\":\"justify_content\",\"kind\":\"Any\",\"default\":\"flex-start\"}]},{\"type\":\"model\",\"name\":\"FloatPanel1\",\"properties\":[{\"name\":\"config\",\"kind\":\"Any\",\"default\":{\"type\":\"map\"}},{\"name\":\"contained\",\"kind\":\"Any\",\"default\":true},{\"name\":\"position\",\"kind\":\"Any\",\"default\":\"right-top\"},{\"name\":\"offsetx\",\"kind\":\"Any\",\"default\":null},{\"name\":\"offsety\",\"kind\":\"Any\",\"default\":null},{\"name\":\"theme\",\"kind\":\"Any\",\"default\":\"primary\"},{\"name\":\"status\",\"kind\":\"Any\",\"default\":\"normalized\"}]},{\"type\":\"model\",\"name\":\"GridStack1\",\"properties\":[{\"name\":\"mode\",\"kind\":\"Any\",\"default\":\"warn\"},{\"name\":\"ncols\",\"kind\":\"Any\",\"default\":null},{\"name\":\"nrows\",\"kind\":\"Any\",\"default\":null},{\"name\":\"allow_resize\",\"kind\":\"Any\",\"default\":true},{\"name\":\"allow_drag\",\"kind\":\"Any\",\"default\":true},{\"name\":\"state\",\"kind\":\"Any\",\"default\":[]}]},{\"type\":\"model\",\"name\":\"drag1\",\"properties\":[{\"name\":\"slider_width\",\"kind\":\"Any\",\"default\":5},{\"name\":\"slider_color\",\"kind\":\"Any\",\"default\":\"black\"},{\"name\":\"value\",\"kind\":\"Any\",\"default\":50}]},{\"type\":\"model\",\"name\":\"click1\",\"properties\":[{\"name\":\"terminal_output\",\"kind\":\"Any\",\"default\":\"\"},{\"name\":\"debug_name\",\"kind\":\"Any\",\"default\":\"\"},{\"name\":\"clears\",\"kind\":\"Any\",\"default\":0}]},{\"type\":\"model\",\"name\":\"FastWrapper1\",\"properties\":[{\"name\":\"object\",\"kind\":\"Any\",\"default\":null},{\"name\":\"style\",\"kind\":\"Any\",\"default\":null}]},{\"type\":\"model\",\"name\":\"NotificationAreaBase1\",\"properties\":[{\"name\":\"js_events\",\"kind\":\"Any\",\"default\":{\"type\":\"map\"}},{\"name\":\"position\",\"kind\":\"Any\",\"default\":\"bottom-right\"},{\"name\":\"_clear\",\"kind\":\"Any\",\"default\":0}]},{\"type\":\"model\",\"name\":\"NotificationArea1\",\"properties\":[{\"name\":\"js_events\",\"kind\":\"Any\",\"default\":{\"type\":\"map\"}},{\"name\":\"notifications\",\"kind\":\"Any\",\"default\":[]},{\"name\":\"position\",\"kind\":\"Any\",\"default\":\"bottom-right\"},{\"name\":\"_clear\",\"kind\":\"Any\",\"default\":0},{\"name\":\"types\",\"kind\":\"Any\",\"default\":[{\"type\":\"map\",\"entries\":[[\"type\",\"warning\"],[\"background\",\"#ffc107\"],[\"icon\",{\"type\":\"map\",\"entries\":[[\"className\",\"fas fa-exclamation-triangle\"],[\"tagName\",\"i\"],[\"color\",\"white\"]]}]]},{\"type\":\"map\",\"entries\":[[\"type\",\"info\"],[\"background\",\"#007bff\"],[\"icon\",{\"type\":\"map\",\"entries\":[[\"className\",\"fas fa-info-circle\"],[\"tagName\",\"i\"],[\"color\",\"white\"]]}]]}]}]},{\"type\":\"model\",\"name\":\"Notification\",\"properties\":[{\"name\":\"background\",\"kind\":\"Any\",\"default\":null},{\"name\":\"duration\",\"kind\":\"Any\",\"default\":3000},{\"name\":\"icon\",\"kind\":\"Any\",\"default\":null},{\"name\":\"message\",\"kind\":\"Any\",\"default\":\"\"},{\"name\":\"notification_type\",\"kind\":\"Any\",\"default\":null},{\"name\":\"_destroyed\",\"kind\":\"Any\",\"default\":false}]},{\"type\":\"model\",\"name\":\"TemplateActions1\",\"properties\":[{\"name\":\"open_modal\",\"kind\":\"Any\",\"default\":0},{\"name\":\"close_modal\",\"kind\":\"Any\",\"default\":0}]},{\"type\":\"model\",\"name\":\"BootstrapTemplateActions1\",\"properties\":[{\"name\":\"open_modal\",\"kind\":\"Any\",\"default\":0},{\"name\":\"close_modal\",\"kind\":\"Any\",\"default\":0}]},{\"type\":\"model\",\"name\":\"TemplateEditor1\",\"properties\":[{\"name\":\"layout\",\"kind\":\"Any\",\"default\":[]}]},{\"type\":\"model\",\"name\":\"MaterialTemplateActions1\",\"properties\":[{\"name\":\"open_modal\",\"kind\":\"Any\",\"default\":0},{\"name\":\"close_modal\",\"kind\":\"Any\",\"default\":0}]},{\"type\":\"model\",\"name\":\"request_value1\",\"properties\":[{\"name\":\"fill\",\"kind\":\"Any\",\"default\":\"none\"},{\"name\":\"_synced\",\"kind\":\"Any\",\"default\":null},{\"name\":\"_request_sync\",\"kind\":\"Any\",\"default\":0}]}]}};\n",
       "  var render_items = [{\"docid\":\"8fb46d24-5e8d-4e98-b29e-ecd191e61aeb\",\"roots\":{\"p1199\":\"f8996e82-b717-4062-872b-68c0c529cd64\"},\"root_ids\":[\"p1199\"]}];\n",
       "  var docs = Object.values(docs_json)\n",
       "  if (!docs) {\n",
       "    return\n",
       "  }\n",
       "  const py_version = docs[0].version.replace('rc', '-rc.').replace('.dev', '-dev.')\n",
       "  async function embed_document(root) {\n",
       "    var Bokeh = get_bokeh(root)\n",
       "    await Bokeh.embed.embed_items_notebook(docs_json, render_items);\n",
       "    for (const render_item of render_items) {\n",
       "      for (const root_id of render_item.root_ids) {\n",
       "\tconst id_el = document.getElementById(root_id)\n",
       "\tif (id_el.children.length && id_el.children[0].hasAttribute('data-root-id')) {\n",
       "\t  const root_el = id_el.children[0]\n",
       "\t  root_el.id = root_el.id + '-rendered'\n",
       "\t  for (const child of root_el.children) {\n",
       "            // Ensure JupyterLab does not capture keyboard shortcuts\n",
       "            // see: https://jupyterlab.readthedocs.io/en/4.1.x/extension/notebook.html#keyboard-interaction-model\n",
       "\t    child.setAttribute('data-lm-suppress-shortcuts', 'true')\n",
       "\t  }\n",
       "\t}\n",
       "      }\n",
       "    }\n",
       "  }\n",
       "  function get_bokeh(root) {\n",
       "    if (root.Bokeh === undefined) {\n",
       "      return null\n",
       "    } else if (root.Bokeh.version !== py_version) {\n",
       "      if (root.Bokeh.versions === undefined || !root.Bokeh.versions.has(py_version)) {\n",
       "\treturn null\n",
       "      }\n",
       "      return root.Bokeh.versions.get(py_version);\n",
       "    } else if (root.Bokeh.version === py_version) {\n",
       "      return root.Bokeh\n",
       "    }\n",
       "    return null\n",
       "  }\n",
       "  function is_loaded(root) {\n",
       "    var Bokeh = get_bokeh(root)\n",
       "    return (Bokeh != null && Bokeh.Panel !== undefined)\n",
       "  }\n",
       "  if (is_loaded(root)) {\n",
       "    embed_document(root);\n",
       "  } else {\n",
       "    var attempts = 0;\n",
       "    var timer = setInterval(function(root) {\n",
       "      if (is_loaded(root)) {\n",
       "        clearInterval(timer);\n",
       "        embed_document(root);\n",
       "      } else if (document.readyState == \"complete\") {\n",
       "        attempts++;\n",
       "        if (attempts > 200) {\n",
       "          clearInterval(timer);\n",
       "\t  var Bokeh = get_bokeh(root)\n",
       "\t  if (Bokeh == null || Bokeh.Panel == null) {\n",
       "            console.warn(\"Panel: ERROR: Unable to run Panel code because Bokeh or Panel library is missing\");\n",
       "\t  } else {\n",
       "\t    console.warn(\"Panel: WARNING: Attempting to render but not all required libraries could be resolved.\")\n",
       "\t    embed_document(root)\n",
       "\t  }\n",
       "        }\n",
       "      }\n",
       "    }, 25, root)\n",
       "  }\n",
       "})(window);</script>"
      ],
      "text/plain": [
       ":NdOverlay   [Name]\n",
       "   :Scatter   [Age]   (Salary)"
      ]
     },
     "execution_count": 61,
     "metadata": {
      "application/vnd.holoviews_exec.v0+json": {
       "id": "p1199"
      }
     },
     "output_type": "execute_result"
    }
   ],
   "source": [
    "df.plot.scatter(x=\"Age\", y=\"Salary\", by=\"Name\")"
   ]
  },
  {
   "cell_type": "code",
   "execution_count": null,
   "id": "171b34e2-8c7a-4e2a-a395-536fc178947a",
   "metadata": {},
   "outputs": [],
   "source": []
  }
 ],
 "metadata": {
  "kernelspec": {
   "display_name": "Python 3 (ipykernel)",
   "language": "python",
   "name": "python3"
  },
  "language_info": {
   "codemirror_mode": {
    "name": "ipython",
    "version": 3
   },
   "file_extension": ".py",
   "mimetype": "text/x-python",
   "name": "python",
   "nbconvert_exporter": "python",
   "pygments_lexer": "ipython3",
   "version": "3.12.1"
  }
 },
 "nbformat": 4,
 "nbformat_minor": 5
}
