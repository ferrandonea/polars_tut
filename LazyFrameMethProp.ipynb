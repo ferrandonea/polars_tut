{
 "cells": [
  {
   "cell_type": "code",
   "execution_count": 2,
   "id": "22e1e6d3-77b4-4102-8325-a43510cb6cb7",
   "metadata": {},
   "outputs": [],
   "source": [
    "import polars as pl"
   ]
  },
  {
   "cell_type": "markdown",
   "id": "dae6285c-f077-4884-b5ad-98566dadb7e6",
   "metadata": {},
   "source": [
    "# LazyFrame"
   ]
  },
  {
   "cell_type": "code",
   "execution_count": 3,
   "id": "7ca1cf3b-835c-46b5-971e-276b44fa0c5e",
   "metadata": {},
   "outputs": [
    {
     "data": {
      "text/html": [
       "<div><style>\n",
       ".dataframe > thead > tr,\n",
       ".dataframe > tbody > tr {\n",
       "  text-align: right;\n",
       "  white-space: pre-wrap;\n",
       "}\n",
       "</style>\n",
       "<small>shape: (2, 2)</small><table border=\"1\" class=\"dataframe\"><thead><tr><th>a</th><th>b</th></tr><tr><td>i64</td><td>i64</td></tr></thead><tbody><tr><td>1</td><td>3</td></tr><tr><td>2</td><td>4</td></tr></tbody></table></div>"
      ],
      "text/plain": [
       "shape: (2, 2)\n",
       "┌─────┬─────┐\n",
       "│ a   ┆ b   │\n",
       "│ --- ┆ --- │\n",
       "│ i64 ┆ i64 │\n",
       "╞═════╪═════╡\n",
       "│ 1   ┆ 3   │\n",
       "│ 2   ┆ 4   │\n",
       "└─────┴─────┘"
      ]
     },
     "execution_count": 3,
     "metadata": {},
     "output_type": "execute_result"
    }
   ],
   "source": [
    "data = {\"a\": [1, 2], \"b\": [3, 4]}\n",
    "lf = pl.LazyFrame(data)\n",
    "lf.collect()"
   ]
  },
  {
   "cell_type": "code",
   "execution_count": 4,
   "id": "55a08d9e-b4cd-4350-bf85-19908a2b4b5d",
   "metadata": {},
   "outputs": [
    {
     "data": {
      "text/plain": [
       "[Int64, Int64]"
      ]
     },
     "execution_count": 4,
     "metadata": {},
     "output_type": "execute_result"
    }
   ],
   "source": [
    "lf.collect_schema().dtypes()"
   ]
  },
  {
   "cell_type": "code",
   "execution_count": 5,
   "id": "660f05f1-d6a7-43c1-bdf6-91717be41a86",
   "metadata": {},
   "outputs": [
    {
     "data": {
      "text/html": [
       "<div><style>\n",
       ".dataframe > thead > tr,\n",
       ".dataframe > tbody > tr {\n",
       "  text-align: right;\n",
       "  white-space: pre-wrap;\n",
       "}\n",
       "</style>\n",
       "<small>shape: (2, 2)</small><table border=\"1\" class=\"dataframe\"><thead><tr><th>col1</th><th>col2</th></tr><tr><td>f32</td><td>i64</td></tr></thead><tbody><tr><td>0.0</td><td>3</td></tr><tr><td>2.0</td><td>7</td></tr></tbody></table></div>"
      ],
      "text/plain": [
       "shape: (2, 2)\n",
       "┌──────┬──────┐\n",
       "│ col1 ┆ col2 │\n",
       "│ ---  ┆ ---  │\n",
       "│ f32  ┆ i64  │\n",
       "╞══════╪══════╡\n",
       "│ 0.0  ┆ 3    │\n",
       "│ 2.0  ┆ 7    │\n",
       "└──────┴──────┘"
      ]
     },
     "execution_count": 5,
     "metadata": {},
     "output_type": "execute_result"
    }
   ],
   "source": [
    "data = {\"col1\": [0, 2], \"col2\": [3, 7]}\n",
    "lf2 = pl.LazyFrame(data, schema={\"col1\": pl.Float32, \"col2\": pl.Int64})\n",
    "lf2.collect()"
   ]
  },
  {
   "cell_type": "code",
   "execution_count": 6,
   "id": "542ea6b8-3996-4299-80da-9616173ff5c0",
   "metadata": {},
   "outputs": [
    {
     "data": {
      "text/html": [
       "<div><style>\n",
       ".dataframe > thead > tr,\n",
       ".dataframe > tbody > tr {\n",
       "  text-align: right;\n",
       "  white-space: pre-wrap;\n",
       "}\n",
       "</style>\n",
       "<small>shape: (2, 2)</small><table border=\"1\" class=\"dataframe\"><thead><tr><th>col1</th><th>col2</th></tr><tr><td>f32</td><td>i64</td></tr></thead><tbody><tr><td>1.0</td><td>3</td></tr><tr><td>2.0</td><td>4</td></tr></tbody></table></div>"
      ],
      "text/plain": [
       "shape: (2, 2)\n",
       "┌──────┬──────┐\n",
       "│ col1 ┆ col2 │\n",
       "│ ---  ┆ ---  │\n",
       "│ f32  ┆ i64  │\n",
       "╞══════╪══════╡\n",
       "│ 1.0  ┆ 3    │\n",
       "│ 2.0  ┆ 4    │\n",
       "└──────┴──────┘"
      ]
     },
     "execution_count": 6,
     "metadata": {},
     "output_type": "execute_result"
    }
   ],
   "source": [
    "data = {\"col1\": [1, 2], \"col2\": [3, 4]}\n",
    "lf3 = pl.LazyFrame(data, schema=[(\"col1\", pl.Float32), (\"col2\", pl.Int64)])\n",
    "lf3.collect()"
   ]
  },
  {
   "cell_type": "code",
   "execution_count": 7,
   "id": "c43d7a35-067b-4172-84ef-7506c829a487",
   "metadata": {},
   "outputs": [
    {
     "data": {
      "text/html": [
       "<div><style>\n",
       ".dataframe > thead > tr,\n",
       ".dataframe > tbody > tr {\n",
       "  text-align: right;\n",
       "  white-space: pre-wrap;\n",
       "}\n",
       "</style>\n",
       "<small>shape: (2, 2)</small><table border=\"1\" class=\"dataframe\"><thead><tr><th>col1</th><th>col2</th></tr><tr><td>f32</td><td>i64</td></tr></thead><tbody><tr><td>1.0</td><td>3</td></tr><tr><td>2.0</td><td>4</td></tr></tbody></table></div>"
      ],
      "text/plain": [
       "shape: (2, 2)\n",
       "┌──────┬──────┐\n",
       "│ col1 ┆ col2 │\n",
       "│ ---  ┆ ---  │\n",
       "│ f32  ┆ i64  │\n",
       "╞══════╪══════╡\n",
       "│ 1.0  ┆ 3    │\n",
       "│ 2.0  ┆ 4    │\n",
       "└──────┴──────┘"
      ]
     },
     "execution_count": 7,
     "metadata": {},
     "output_type": "execute_result"
    }
   ],
   "source": [
    "data = [\n",
    "    pl.Series(\"col1\", [1, 2], dtype=pl.Float32),\n",
    "    pl.Series(\"col2\", [3, 4], dtype=pl.Int64),\n",
    "]\n",
    "lf4 = pl.LazyFrame(data)\n",
    "lf4.collect()"
   ]
  },
  {
   "cell_type": "code",
   "execution_count": 8,
   "id": "bc621a94-64f4-47c4-bbbe-ecfb1617cd13",
   "metadata": {},
   "outputs": [
    {
     "data": {
      "text/html": [
       "<div><style>\n",
       ".dataframe > thead > tr,\n",
       ".dataframe > tbody > tr {\n",
       "  text-align: right;\n",
       "  white-space: pre-wrap;\n",
       "}\n",
       "</style>\n",
       "<small>shape: (2, 2)</small><table border=\"1\" class=\"dataframe\"><thead><tr><th>a</th><th>b</th></tr><tr><td>i64</td><td>i64</td></tr></thead><tbody><tr><td>1</td><td>3</td></tr><tr><td>2</td><td>4</td></tr></tbody></table></div>"
      ],
      "text/plain": [
       "shape: (2, 2)\n",
       "┌─────┬─────┐\n",
       "│ a   ┆ b   │\n",
       "│ --- ┆ --- │\n",
       "│ i64 ┆ i64 │\n",
       "╞═════╪═════╡\n",
       "│ 1   ┆ 3   │\n",
       "│ 2   ┆ 4   │\n",
       "└─────┴─────┘"
      ]
     },
     "execution_count": 8,
     "metadata": {},
     "output_type": "execute_result"
    }
   ],
   "source": [
    "import numpy as np\n",
    "data = np.array([(1, 2), (3, 4)], dtype=np.int64)\n",
    "lf5 = pl.LazyFrame(data, schema=[\"a\", \"b\"], orient=\"col\")\n",
    "lf5.collect()"
   ]
  },
  {
   "cell_type": "code",
   "execution_count": 9,
   "id": "87940c03-dd29-4dde-8ed1-b9d822256332",
   "metadata": {},
   "outputs": [
    {
     "data": {
      "text/html": [
       "<div><style>\n",
       ".dataframe > thead > tr,\n",
       ".dataframe > tbody > tr {\n",
       "  text-align: right;\n",
       "  white-space: pre-wrap;\n",
       "}\n",
       "</style>\n",
       "<small>shape: (2, 3)</small><table border=\"1\" class=\"dataframe\"><thead><tr><th>a</th><th>b</th><th>c</th></tr><tr><td>i64</td><td>i64</td><td>i64</td></tr></thead><tbody><tr><td>1</td><td>2</td><td>3</td></tr><tr><td>4</td><td>5</td><td>6</td></tr></tbody></table></div>"
      ],
      "text/plain": [
       "shape: (2, 3)\n",
       "┌─────┬─────┬─────┐\n",
       "│ a   ┆ b   ┆ c   │\n",
       "│ --- ┆ --- ┆ --- │\n",
       "│ i64 ┆ i64 ┆ i64 │\n",
       "╞═════╪═════╪═════╡\n",
       "│ 1   ┆ 2   ┆ 3   │\n",
       "│ 4   ┆ 5   ┆ 6   │\n",
       "└─────┴─────┴─────┘"
      ]
     },
     "execution_count": 9,
     "metadata": {},
     "output_type": "execute_result"
    }
   ],
   "source": [
    "data = [[1, 2, 3], [4, 5, 6]]\n",
    "lf6 = pl.LazyFrame(data, schema=[\"a\", \"b\", \"c\"], orient=\"row\")\n",
    "lf6.collect()"
   ]
  },
  {
   "cell_type": "markdown",
   "id": "40e3b201-ba50-4004-9e8f-88639cae456a",
   "metadata": {},
   "source": [
    "## Aggregation"
   ]
  },
  {
   "cell_type": "markdown",
   "id": "395ab9df-5d1a-4c3f-aa58-c7fff1468ecb",
   "metadata": {},
   "source": [
    "### count"
   ]
  },
  {
   "cell_type": "code",
   "execution_count": 10,
   "id": "7401fcc3-e94f-4cd8-8942-6d439918250f",
   "metadata": {},
   "outputs": [
    {
     "data": {
      "text/html": [
       "<div><style>\n",
       ".dataframe > thead > tr,\n",
       ".dataframe > tbody > tr {\n",
       "  text-align: right;\n",
       "  white-space: pre-wrap;\n",
       "}\n",
       "</style>\n",
       "<small>shape: (1, 3)</small><table border=\"1\" class=\"dataframe\"><thead><tr><th>a</th><th>b</th><th>c</th></tr><tr><td>u32</td><td>u32</td><td>u32</td></tr></thead><tbody><tr><td>4</td><td>3</td><td>0</td></tr></tbody></table></div>"
      ],
      "text/plain": [
       "shape: (1, 3)\n",
       "┌─────┬─────┬─────┐\n",
       "│ a   ┆ b   ┆ c   │\n",
       "│ --- ┆ --- ┆ --- │\n",
       "│ u32 ┆ u32 ┆ u32 │\n",
       "╞═════╪═════╪═════╡\n",
       "│ 4   ┆ 3   ┆ 0   │\n",
       "└─────┴─────┴─────┘"
      ]
     },
     "execution_count": 10,
     "metadata": {},
     "output_type": "execute_result"
    }
   ],
   "source": [
    "lf = pl.LazyFrame(\n",
    "    {\"a\": [1, 2, 3, 4], \"b\": [1, 2, 1, None], \"c\": [None, None, None, None]}\n",
    ")\n",
    "lf.count().collect()"
   ]
  },
  {
   "cell_type": "markdown",
   "id": "a90a496e-8171-4935-8e4e-af6f777bca2b",
   "metadata": {},
   "source": [
    "### max"
   ]
  },
  {
   "cell_type": "code",
   "execution_count": 12,
   "id": "63d1efdf-ccee-49bf-8e97-8fbf41f82263",
   "metadata": {},
   "outputs": [
    {
     "data": {
      "text/html": [
       "<div><style>\n",
       ".dataframe > thead > tr,\n",
       ".dataframe > tbody > tr {\n",
       "  text-align: right;\n",
       "  white-space: pre-wrap;\n",
       "}\n",
       "</style>\n",
       "<small>shape: (1, 2)</small><table border=\"1\" class=\"dataframe\"><thead><tr><th>a</th><th>b</th></tr><tr><td>i64</td><td>i64</td></tr></thead><tbody><tr><td>4</td><td>2</td></tr></tbody></table></div>"
      ],
      "text/plain": [
       "shape: (1, 2)\n",
       "┌─────┬─────┐\n",
       "│ a   ┆ b   │\n",
       "│ --- ┆ --- │\n",
       "│ i64 ┆ i64 │\n",
       "╞═════╪═════╡\n",
       "│ 4   ┆ 2   │\n",
       "└─────┴─────┘"
      ]
     },
     "execution_count": 12,
     "metadata": {},
     "output_type": "execute_result"
    }
   ],
   "source": [
    "lf = pl.LazyFrame(\n",
    "    {\n",
    "        \"a\": [1, 2, 3, 4],\n",
    "        \"b\": [1, 2, 1, 1],\n",
    "    }\n",
    ")\n",
    "lf.max().collect()"
   ]
  },
  {
   "cell_type": "markdown",
   "id": "ded82893-3b4f-4232-b1c5-2ab52f17e374",
   "metadata": {},
   "source": [
    "### mean"
   ]
  },
  {
   "cell_type": "code",
   "execution_count": 13,
   "id": "ce0749d4-415e-404b-9247-4ca55da64f6f",
   "metadata": {},
   "outputs": [
    {
     "data": {
      "text/html": [
       "<div><style>\n",
       ".dataframe > thead > tr,\n",
       ".dataframe > tbody > tr {\n",
       "  text-align: right;\n",
       "  white-space: pre-wrap;\n",
       "}\n",
       "</style>\n",
       "<small>shape: (1, 2)</small><table border=\"1\" class=\"dataframe\"><thead><tr><th>a</th><th>b</th></tr><tr><td>f64</td><td>f64</td></tr></thead><tbody><tr><td>2.5</td><td>1.25</td></tr></tbody></table></div>"
      ],
      "text/plain": [
       "shape: (1, 2)\n",
       "┌─────┬──────┐\n",
       "│ a   ┆ b    │\n",
       "│ --- ┆ ---  │\n",
       "│ f64 ┆ f64  │\n",
       "╞═════╪══════╡\n",
       "│ 2.5 ┆ 1.25 │\n",
       "└─────┴──────┘"
      ]
     },
     "execution_count": 13,
     "metadata": {},
     "output_type": "execute_result"
    }
   ],
   "source": [
    "lf = pl.LazyFrame(\n",
    "    {\n",
    "        \"a\": [1, 2, 3, 4],\n",
    "        \"b\": [1, 2, 1, 1],\n",
    "    }\n",
    ")\n",
    "lf.mean().collect()"
   ]
  },
  {
   "cell_type": "markdown",
   "id": "9d2ddbe5-ddbc-4f4f-873b-50063fc530bb",
   "metadata": {},
   "source": [
    "### median"
   ]
  },
  {
   "cell_type": "code",
   "execution_count": 14,
   "id": "5187c3e4-98ee-4e85-84e0-452ccf01ee23",
   "metadata": {},
   "outputs": [
    {
     "data": {
      "text/html": [
       "<div><style>\n",
       ".dataframe > thead > tr,\n",
       ".dataframe > tbody > tr {\n",
       "  text-align: right;\n",
       "  white-space: pre-wrap;\n",
       "}\n",
       "</style>\n",
       "<small>shape: (1, 2)</small><table border=\"1\" class=\"dataframe\"><thead><tr><th>a</th><th>b</th></tr><tr><td>f64</td><td>f64</td></tr></thead><tbody><tr><td>2.5</td><td>1.0</td></tr></tbody></table></div>"
      ],
      "text/plain": [
       "shape: (1, 2)\n",
       "┌─────┬─────┐\n",
       "│ a   ┆ b   │\n",
       "│ --- ┆ --- │\n",
       "│ f64 ┆ f64 │\n",
       "╞═════╪═════╡\n",
       "│ 2.5 ┆ 1.0 │\n",
       "└─────┴─────┘"
      ]
     },
     "execution_count": 14,
     "metadata": {},
     "output_type": "execute_result"
    }
   ],
   "source": [
    "lf = pl.LazyFrame(\n",
    "    {\n",
    "        \"a\": [1, 2, 3, 4],\n",
    "        \"b\": [1, 2, 1, 1],\n",
    "    }\n",
    ")\n",
    "lf.median().collect()"
   ]
  },
  {
   "cell_type": "markdown",
   "id": "032dab70-6326-4ccc-941f-624c3250bfd2",
   "metadata": {},
   "source": [
    "### min"
   ]
  },
  {
   "cell_type": "code",
   "execution_count": 15,
   "id": "b52cd4f0-f751-4447-8ca0-9223a72832a5",
   "metadata": {},
   "outputs": [
    {
     "data": {
      "text/html": [
       "<div><style>\n",
       ".dataframe > thead > tr,\n",
       ".dataframe > tbody > tr {\n",
       "  text-align: right;\n",
       "  white-space: pre-wrap;\n",
       "}\n",
       "</style>\n",
       "<small>shape: (1, 2)</small><table border=\"1\" class=\"dataframe\"><thead><tr><th>a</th><th>b</th></tr><tr><td>i64</td><td>i64</td></tr></thead><tbody><tr><td>1</td><td>1</td></tr></tbody></table></div>"
      ],
      "text/plain": [
       "shape: (1, 2)\n",
       "┌─────┬─────┐\n",
       "│ a   ┆ b   │\n",
       "│ --- ┆ --- │\n",
       "│ i64 ┆ i64 │\n",
       "╞═════╪═════╡\n",
       "│ 1   ┆ 1   │\n",
       "└─────┴─────┘"
      ]
     },
     "execution_count": 15,
     "metadata": {},
     "output_type": "execute_result"
    }
   ],
   "source": [
    "lf = pl.LazyFrame(\n",
    "    {\n",
    "        \"a\": [1, 2, 3, 4],\n",
    "        \"b\": [1, 2, 1, 1],\n",
    "    }\n",
    ")\n",
    "lf.min().collect()"
   ]
  },
  {
   "cell_type": "markdown",
   "id": "044c2ad8-6151-45e5-9961-193b19dfefcb",
   "metadata": {},
   "source": [
    "### null_count"
   ]
  },
  {
   "cell_type": "code",
   "execution_count": 16,
   "id": "52e22018-e5c0-447e-9718-cb20a44d8aa4",
   "metadata": {},
   "outputs": [
    {
     "data": {
      "text/html": [
       "<div><style>\n",
       ".dataframe > thead > tr,\n",
       ".dataframe > tbody > tr {\n",
       "  text-align: right;\n",
       "  white-space: pre-wrap;\n",
       "}\n",
       "</style>\n",
       "<small>shape: (3, 3)</small><table border=\"1\" class=\"dataframe\"><thead><tr><th>foo</th><th>bar</th><th>ham</th></tr><tr><td>i64</td><td>i64</td><td>str</td></tr></thead><tbody><tr><td>1</td><td>6</td><td>&quot;a&quot;</td></tr><tr><td>null</td><td>7</td><td>&quot;b&quot;</td></tr><tr><td>3</td><td>null</td><td>&quot;c&quot;</td></tr></tbody></table></div>"
      ],
      "text/plain": [
       "shape: (3, 3)\n",
       "┌──────┬──────┬─────┐\n",
       "│ foo  ┆ bar  ┆ ham │\n",
       "│ ---  ┆ ---  ┆ --- │\n",
       "│ i64  ┆ i64  ┆ str │\n",
       "╞══════╪══════╪═════╡\n",
       "│ 1    ┆ 6    ┆ a   │\n",
       "│ null ┆ 7    ┆ b   │\n",
       "│ 3    ┆ null ┆ c   │\n",
       "└──────┴──────┴─────┘"
      ]
     },
     "execution_count": 16,
     "metadata": {},
     "output_type": "execute_result"
    }
   ],
   "source": [
    "lf = pl.LazyFrame(\n",
    "    {\n",
    "        \"foo\": [1, None, 3],\n",
    "        \"bar\": [6, 7, None],\n",
    "        \"ham\": [\"a\", \"b\", \"c\"],\n",
    "    }\n",
    ")\n",
    "lf.collect()"
   ]
  },
  {
   "cell_type": "code",
   "execution_count": 18,
   "id": "e5f190f5-8e63-4604-a729-fbb1fd6d0df9",
   "metadata": {},
   "outputs": [
    {
     "data": {
      "text/html": [
       "<div><style>\n",
       ".dataframe > thead > tr,\n",
       ".dataframe > tbody > tr {\n",
       "  text-align: right;\n",
       "  white-space: pre-wrap;\n",
       "}\n",
       "</style>\n",
       "<small>shape: (1, 3)</small><table border=\"1\" class=\"dataframe\"><thead><tr><th>foo</th><th>bar</th><th>ham</th></tr><tr><td>u32</td><td>u32</td><td>u32</td></tr></thead><tbody><tr><td>1</td><td>1</td><td>0</td></tr></tbody></table></div>"
      ],
      "text/plain": [
       "shape: (1, 3)\n",
       "┌─────┬─────┬─────┐\n",
       "│ foo ┆ bar ┆ ham │\n",
       "│ --- ┆ --- ┆ --- │\n",
       "│ u32 ┆ u32 ┆ u32 │\n",
       "╞═════╪═════╪═════╡\n",
       "│ 1   ┆ 1   ┆ 0   │\n",
       "└─────┴─────┴─────┘"
      ]
     },
     "execution_count": 18,
     "metadata": {},
     "output_type": "execute_result"
    }
   ],
   "source": [
    "lf.null_count().collect()"
   ]
  },
  {
   "cell_type": "markdown",
   "id": "c33e1d13-0d4e-45da-89b7-6644cec4fd25",
   "metadata": {},
   "source": [
    "### quantile"
   ]
  },
  {
   "cell_type": "code",
   "execution_count": 19,
   "id": "c3992dba-b10b-4015-a38a-c92387bd28a2",
   "metadata": {},
   "outputs": [
    {
     "data": {
      "text/html": [
       "<div><style>\n",
       ".dataframe > thead > tr,\n",
       ".dataframe > tbody > tr {\n",
       "  text-align: right;\n",
       "  white-space: pre-wrap;\n",
       "}\n",
       "</style>\n",
       "<small>shape: (1, 2)</small><table border=\"1\" class=\"dataframe\"><thead><tr><th>a</th><th>b</th></tr><tr><td>f64</td><td>f64</td></tr></thead><tbody><tr><td>3.0</td><td>1.0</td></tr></tbody></table></div>"
      ],
      "text/plain": [
       "shape: (1, 2)\n",
       "┌─────┬─────┐\n",
       "│ a   ┆ b   │\n",
       "│ --- ┆ --- │\n",
       "│ f64 ┆ f64 │\n",
       "╞═════╪═════╡\n",
       "│ 3.0 ┆ 1.0 │\n",
       "└─────┴─────┘"
      ]
     },
     "execution_count": 19,
     "metadata": {},
     "output_type": "execute_result"
    }
   ],
   "source": [
    "lf = pl.LazyFrame(\n",
    "    {\n",
    "        \"a\": [1, 2, 3, 4],\n",
    "        \"b\": [1, 2, 1, 1],\n",
    "    }\n",
    ")\n",
    "lf.quantile(0.7).collect()"
   ]
  },
  {
   "cell_type": "code",
   "execution_count": 20,
   "id": "cdf4b0f4-424b-47a8-9a17-0c6c4bb8cf3b",
   "metadata": {},
   "outputs": [
    {
     "data": {
      "text/html": [
       "<h4>NAIVE QUERY PLAN</h4><p>run <b>LazyFrame.show_graph()</b> to see the optimized version</p><?xml version=\"1.0\" encoding=\"UTF-8\" standalone=\"no\"?>\n",
       "<!DOCTYPE svg PUBLIC \"-//W3C//DTD SVG 1.1//EN\"\n",
       " \"http://www.w3.org/Graphics/SVG/1.1/DTD/svg11.dtd\">\n",
       "<!-- Generated by graphviz version 12.1.0 (20240811.2233)\n",
       " -->\n",
       "<!-- Title: polars_query Pages: 1 -->\n",
       "<svg width=\"68pt\" height=\"138pt\"\n",
       " viewBox=\"0.00 0.00 67.50 137.50\" xmlns=\"http://www.w3.org/2000/svg\" xmlns:xlink=\"http://www.w3.org/1999/xlink\">\n",
       "<g id=\"graph0\" class=\"graph\" transform=\"scale(1 1) rotate(0) translate(4 133.5)\">\n",
       "<title>polars_query</title>\n",
       "<polygon fill=\"white\" stroke=\"none\" points=\"-4,4 -4,-133.5 63.5,-133.5 63.5,4 -4,4\"/>\n",
       "<!-- p1 -->\n",
       "<g id=\"node1\" class=\"node\">\n",
       "<title>p1</title>\n",
       "<polygon fill=\"none\" stroke=\"black\" points=\"56.75,-129.5 2.75,-129.5 2.75,-93.5 56.75,-93.5 56.75,-129.5\"/>\n",
       "<text text-anchor=\"middle\" x=\"29.75\" y=\"-106.45\" font-family=\"Times,serif\" font-size=\"14.00\">π 2/2</text>\n",
       "</g>\n",
       "<!-- p2 -->\n",
       "<g id=\"node2\" class=\"node\">\n",
       "<title>p2</title>\n",
       "<polygon fill=\"none\" stroke=\"black\" points=\"59.5,-57.5 0,-57.5 0,0 59.5,0 59.5,-57.5\"/>\n",
       "<text text-anchor=\"middle\" x=\"29.75\" y=\"-40.2\" font-family=\"Times,serif\" font-size=\"14.00\">TABLE</text>\n",
       "<text text-anchor=\"middle\" x=\"29.75\" y=\"-23.7\" font-family=\"Times,serif\" font-size=\"14.00\">π */2;</text>\n",
       "<text text-anchor=\"middle\" x=\"29.75\" y=\"-7.2\" font-family=\"Times,serif\" font-size=\"14.00\">σ None</text>\n",
       "</g>\n",
       "<!-- p1&#45;&#45;p2 -->\n",
       "<g id=\"edge1\" class=\"edge\">\n",
       "<title>p1&#45;&#45;p2</title>\n",
       "<path fill=\"none\" stroke=\"black\" d=\"M29.75,-93.38C29.75,-83.1 29.75,-69.77 29.75,-57.97\"/>\n",
       "</g>\n",
       "</g>\n",
       "</svg>\n"
      ],
      "text/plain": [
       "<LazyFrame at 0x1133CD2E0>"
      ]
     },
     "execution_count": 20,
     "metadata": {},
     "output_type": "execute_result"
    }
   ],
   "source": [
    "lf.quantile(0.2)"
   ]
  },
  {
   "cell_type": "code",
   "execution_count": 21,
   "id": "8f7c644d-8688-4189-abe9-a35f958b81e1",
   "metadata": {},
   "outputs": [
    {
     "data": {
      "text/html": [
       "<div><style>\n",
       ".dataframe > thead > tr,\n",
       ".dataframe > tbody > tr {\n",
       "  text-align: right;\n",
       "  white-space: pre-wrap;\n",
       "}\n",
       "</style>\n",
       "<small>shape: (1, 2)</small><table border=\"1\" class=\"dataframe\"><thead><tr><th>a</th><th>b</th></tr><tr><td>f64</td><td>f64</td></tr></thead><tbody><tr><td>2.0</td><td>1.0</td></tr></tbody></table></div>"
      ],
      "text/plain": [
       "shape: (1, 2)\n",
       "┌─────┬─────┐\n",
       "│ a   ┆ b   │\n",
       "│ --- ┆ --- │\n",
       "│ f64 ┆ f64 │\n",
       "╞═════╪═════╡\n",
       "│ 2.0 ┆ 1.0 │\n",
       "└─────┴─────┘"
      ]
     },
     "execution_count": 21,
     "metadata": {},
     "output_type": "execute_result"
    }
   ],
   "source": [
    "lf.quantile(0.2).collect()"
   ]
  },
  {
   "cell_type": "markdown",
   "id": "9a99eeee-810e-4507-b413-066067d57f3e",
   "metadata": {},
   "source": [
    "### std"
   ]
  },
  {
   "cell_type": "code",
   "execution_count": 22,
   "id": "407eaa1f-7e6e-4a80-9b7e-e57d8a734d5d",
   "metadata": {},
   "outputs": [
    {
     "data": {
      "text/html": [
       "<div><style>\n",
       ".dataframe > thead > tr,\n",
       ".dataframe > tbody > tr {\n",
       "  text-align: right;\n",
       "  white-space: pre-wrap;\n",
       "}\n",
       "</style>\n",
       "<small>shape: (1, 2)</small><table border=\"1\" class=\"dataframe\"><thead><tr><th>a</th><th>b</th></tr><tr><td>f64</td><td>f64</td></tr></thead><tbody><tr><td>1.290994</td><td>0.5</td></tr></tbody></table></div>"
      ],
      "text/plain": [
       "shape: (1, 2)\n",
       "┌──────────┬─────┐\n",
       "│ a        ┆ b   │\n",
       "│ ---      ┆ --- │\n",
       "│ f64      ┆ f64 │\n",
       "╞══════════╪═════╡\n",
       "│ 1.290994 ┆ 0.5 │\n",
       "└──────────┴─────┘"
      ]
     },
     "execution_count": 22,
     "metadata": {},
     "output_type": "execute_result"
    }
   ],
   "source": [
    "lf = pl.LazyFrame(\n",
    "    {\n",
    "        \"a\": [1, 2, 3, 4],\n",
    "        \"b\": [1, 2, 1, 1],\n",
    "    }\n",
    ")\n",
    "lf.std().collect()"
   ]
  },
  {
   "cell_type": "code",
   "execution_count": 23,
   "id": "e14ea104-8630-40b4-902c-a3467e187218",
   "metadata": {},
   "outputs": [
    {
     "data": {
      "text/html": [
       "<div><style>\n",
       ".dataframe > thead > tr,\n",
       ".dataframe > tbody > tr {\n",
       "  text-align: right;\n",
       "  white-space: pre-wrap;\n",
       "}\n",
       "</style>\n",
       "<small>shape: (1, 2)</small><table border=\"1\" class=\"dataframe\"><thead><tr><th>a</th><th>b</th></tr><tr><td>f64</td><td>f64</td></tr></thead><tbody><tr><td>1.118034</td><td>0.433013</td></tr></tbody></table></div>"
      ],
      "text/plain": [
       "shape: (1, 2)\n",
       "┌──────────┬──────────┐\n",
       "│ a        ┆ b        │\n",
       "│ ---      ┆ ---      │\n",
       "│ f64      ┆ f64      │\n",
       "╞══════════╪══════════╡\n",
       "│ 1.118034 ┆ 0.433013 │\n",
       "└──────────┴──────────┘"
      ]
     },
     "execution_count": 23,
     "metadata": {},
     "output_type": "execute_result"
    }
   ],
   "source": [
    "lf.std(ddof=0).collect()"
   ]
  },
  {
   "cell_type": "markdown",
   "id": "1b704f6c-b49e-4e28-b311-628ff30afc4f",
   "metadata": {},
   "source": [
    "### sum"
   ]
  },
  {
   "cell_type": "code",
   "execution_count": 24,
   "id": "65989804-1c45-41cc-9189-adcba615ed73",
   "metadata": {},
   "outputs": [
    {
     "data": {
      "text/html": [
       "<div><style>\n",
       ".dataframe > thead > tr,\n",
       ".dataframe > tbody > tr {\n",
       "  text-align: right;\n",
       "  white-space: pre-wrap;\n",
       "}\n",
       "</style>\n",
       "<small>shape: (1, 2)</small><table border=\"1\" class=\"dataframe\"><thead><tr><th>a</th><th>b</th></tr><tr><td>i64</td><td>i64</td></tr></thead><tbody><tr><td>10</td><td>5</td></tr></tbody></table></div>"
      ],
      "text/plain": [
       "shape: (1, 2)\n",
       "┌─────┬─────┐\n",
       "│ a   ┆ b   │\n",
       "│ --- ┆ --- │\n",
       "│ i64 ┆ i64 │\n",
       "╞═════╪═════╡\n",
       "│ 10  ┆ 5   │\n",
       "└─────┴─────┘"
      ]
     },
     "execution_count": 24,
     "metadata": {},
     "output_type": "execute_result"
    }
   ],
   "source": [
    "lf = pl.LazyFrame(\n",
    "    {\n",
    "        \"a\": [1, 2, 3, 4],\n",
    "        \"b\": [1, 2, 1, 1],\n",
    "    }\n",
    ")\n",
    "lf.sum().collect()"
   ]
  },
  {
   "cell_type": "markdown",
   "id": "07d98c0a-034e-4334-8d1f-8060719d43eb",
   "metadata": {},
   "source": [
    "### var"
   ]
  },
  {
   "cell_type": "code",
   "execution_count": 25,
   "id": "dfbc4757-5833-41a5-84d0-e89a1564b414",
   "metadata": {},
   "outputs": [
    {
     "data": {
      "text/html": [
       "<div><style>\n",
       ".dataframe > thead > tr,\n",
       ".dataframe > tbody > tr {\n",
       "  text-align: right;\n",
       "  white-space: pre-wrap;\n",
       "}\n",
       "</style>\n",
       "<small>shape: (1, 2)</small><table border=\"1\" class=\"dataframe\"><thead><tr><th>a</th><th>b</th></tr><tr><td>f64</td><td>f64</td></tr></thead><tbody><tr><td>1.666667</td><td>0.25</td></tr></tbody></table></div>"
      ],
      "text/plain": [
       "shape: (1, 2)\n",
       "┌──────────┬──────┐\n",
       "│ a        ┆ b    │\n",
       "│ ---      ┆ ---  │\n",
       "│ f64      ┆ f64  │\n",
       "╞══════════╪══════╡\n",
       "│ 1.666667 ┆ 0.25 │\n",
       "└──────────┴──────┘"
      ]
     },
     "execution_count": 25,
     "metadata": {},
     "output_type": "execute_result"
    }
   ],
   "source": [
    "lf = pl.LazyFrame(\n",
    "    {\n",
    "        \"a\": [1, 2, 3, 4],\n",
    "        \"b\": [1, 2, 1, 1],\n",
    "    }\n",
    ")\n",
    "lf.var().collect()"
   ]
  },
  {
   "cell_type": "code",
   "execution_count": 26,
   "id": "8ea05207-651f-493d-84f5-5d198d03067c",
   "metadata": {},
   "outputs": [
    {
     "data": {
      "text/html": [
       "<div><style>\n",
       ".dataframe > thead > tr,\n",
       ".dataframe > tbody > tr {\n",
       "  text-align: right;\n",
       "  white-space: pre-wrap;\n",
       "}\n",
       "</style>\n",
       "<small>shape: (1, 2)</small><table border=\"1\" class=\"dataframe\"><thead><tr><th>a</th><th>b</th></tr><tr><td>f64</td><td>f64</td></tr></thead><tbody><tr><td>1.25</td><td>0.1875</td></tr></tbody></table></div>"
      ],
      "text/plain": [
       "shape: (1, 2)\n",
       "┌──────┬────────┐\n",
       "│ a    ┆ b      │\n",
       "│ ---  ┆ ---    │\n",
       "│ f64  ┆ f64    │\n",
       "╞══════╪════════╡\n",
       "│ 1.25 ┆ 0.1875 │\n",
       "└──────┴────────┘"
      ]
     },
     "execution_count": 26,
     "metadata": {},
     "output_type": "execute_result"
    }
   ],
   "source": [
    "lf.var(ddof=0).collect()"
   ]
  },
  {
   "cell_type": "markdown",
   "id": "1b694c3e-c234-4b02-a2d6-ca933efaf70b",
   "metadata": {},
   "source": [
    "## Attributes"
   ]
  },
  {
   "cell_type": "markdown",
   "id": "77fe309e-be54-44b8-884b-354286a9cb16",
   "metadata": {},
   "source": [
    "### columns"
   ]
  },
  {
   "cell_type": "code",
   "execution_count": 27,
   "id": "50afd79a-5921-42dc-89dc-d7e1b93ee4f6",
   "metadata": {},
   "outputs": [
    {
     "name": "stderr",
     "output_type": "stream",
     "text": [
      "/var/folders/tx/knx9c43n5fd4_nn752k9dxs00000gn/T/ipykernel_3636/775135167.py:8: PerformanceWarning: Determining the column names of a LazyFrame requires resolving its schema, which is a potentially expensive operation. Use `LazyFrame.collect_schema().names()` to get the column names without this warning.\n",
      "  lf.columns\n"
     ]
    },
    {
     "data": {
      "text/plain": [
       "['foo', 'bar']"
      ]
     },
     "execution_count": 27,
     "metadata": {},
     "output_type": "execute_result"
    }
   ],
   "source": [
    "lf = pl.LazyFrame(\n",
    "    {\n",
    "        \"foo\": [1, 2, 3],\n",
    "        \"bar\": [6, 7, 8],\n",
    "        \"ham\": [\"a\", \"b\", \"c\"],\n",
    "    }\n",
    ").select(\"foo\", \"bar\")\n",
    "lf.columns  "
   ]
  },
  {
   "cell_type": "code",
   "execution_count": 29,
   "id": "1dc67878-2cd6-49db-b24b-03faef94c47a",
   "metadata": {},
   "outputs": [
    {
     "data": {
      "text/plain": [
       "['foo', 'bar']"
      ]
     },
     "execution_count": 29,
     "metadata": {},
     "output_type": "execute_result"
    }
   ],
   "source": [
    "lf.collect_schema().names()"
   ]
  },
  {
   "cell_type": "code",
   "execution_count": 30,
   "id": "15936b99-129d-4bb1-bb4e-102f5c33dc4f",
   "metadata": {},
   "outputs": [
    {
     "name": "stderr",
     "output_type": "stream",
     "text": [
      "<magic-timeit>:1: PerformanceWarning: Determining the column names of a LazyFrame requires resolving its schema, which is a potentially expensive operation. Use `LazyFrame.collect_schema().names()` to get the column names without this warning.\n"
     ]
    },
    {
     "name": "stdout",
     "output_type": "stream",
     "text": [
      "9.74 μs ± 1.2 μs per loop (mean ± std. dev. of 7 runs, 100,000 loops each)\n"
     ]
    }
   ],
   "source": [
    "%timeit lf.columns"
   ]
  },
  {
   "cell_type": "code",
   "execution_count": 31,
   "id": "db753fac-4543-45fd-ba6d-0b5c377fe2ac",
   "metadata": {},
   "outputs": [
    {
     "name": "stdout",
     "output_type": "stream",
     "text": [
      "1.12 μs ± 7.18 ns per loop (mean ± std. dev. of 7 runs, 1,000,000 loops each)\n"
     ]
    }
   ],
   "source": [
    "%timeit lf.collect_schema().names()"
   ]
  },
  {
   "cell_type": "markdown",
   "id": "a80f0f8f-e5e9-4b25-8632-b7a808141244",
   "metadata": {},
   "source": [
    "### schema"
   ]
  },
  {
   "cell_type": "code",
   "execution_count": 32,
   "id": "01ceabf0-33e6-4a0f-adc8-c91538ece053",
   "metadata": {},
   "outputs": [
    {
     "name": "stderr",
     "output_type": "stream",
     "text": [
      "/var/folders/tx/knx9c43n5fd4_nn752k9dxs00000gn/T/ipykernel_3636/2177650233.py:1: PerformanceWarning: Resolving the schema of a LazyFrame is a potentially expensive operation. Use `LazyFrame.collect_schema()` to get the schema without this warning.\n",
      "  lf.schema\n"
     ]
    },
    {
     "data": {
      "text/plain": [
       "Schema([('foo', Int64), ('bar', Int64)])"
      ]
     },
     "execution_count": 32,
     "metadata": {},
     "output_type": "execute_result"
    }
   ],
   "source": [
    "lf.schema"
   ]
  },
  {
   "cell_type": "code",
   "execution_count": 33,
   "id": "3dc03186-4028-46fb-aee2-55b96146f37b",
   "metadata": {},
   "outputs": [
    {
     "data": {
      "text/plain": [
       "Schema([('foo', Int64), ('bar', Int64)])"
      ]
     },
     "execution_count": 33,
     "metadata": {},
     "output_type": "execute_result"
    }
   ],
   "source": [
    "lf.collect_schema()"
   ]
  },
  {
   "cell_type": "code",
   "execution_count": 34,
   "id": "b8baa69e-be24-4cdb-bc6d-669ed70463a7",
   "metadata": {},
   "outputs": [
    {
     "name": "stderr",
     "output_type": "stream",
     "text": [
      "<magic-timeit>:1: PerformanceWarning: Resolving the schema of a LazyFrame is a potentially expensive operation. Use `LazyFrame.collect_schema()` to get the schema without this warning.\n"
     ]
    },
    {
     "name": "stdout",
     "output_type": "stream",
     "text": [
      "8.21 μs ± 670 ns per loop (mean ± std. dev. of 7 runs, 100,000 loops each)\n"
     ]
    }
   ],
   "source": [
    "%timeit lf.schema"
   ]
  },
  {
   "cell_type": "code",
   "execution_count": 35,
   "id": "5cf6679b-7eef-4359-a214-0e09bf9c745f",
   "metadata": {},
   "outputs": [
    {
     "name": "stdout",
     "output_type": "stream",
     "text": [
      "941 ns ± 2.38 ns per loop (mean ± std. dev. of 7 runs, 1,000,000 loops each)\n"
     ]
    }
   ],
   "source": [
    "%timeit lf.collect_schema()"
   ]
  },
  {
   "cell_type": "markdown",
   "id": "85c9a54e-d673-477e-ba32-d1befffda47e",
   "metadata": {},
   "source": [
    "### dtypes"
   ]
  },
  {
   "cell_type": "code",
   "execution_count": 36,
   "id": "67fedd7b-21a8-4344-a030-7decbbffbc6b",
   "metadata": {},
   "outputs": [
    {
     "name": "stderr",
     "output_type": "stream",
     "text": [
      "/var/folders/tx/knx9c43n5fd4_nn752k9dxs00000gn/T/ipykernel_3636/1684367775.py:1: PerformanceWarning: Determining the data types of a LazyFrame requires resolving its schema, which is a potentially expensive operation. Use `LazyFrame.collect_schema().dtypes()` to get the data types without this warning.\n",
      "  lf.dtypes\n"
     ]
    },
    {
     "data": {
      "text/plain": [
       "[Int64, Int64]"
      ]
     },
     "execution_count": 36,
     "metadata": {},
     "output_type": "execute_result"
    }
   ],
   "source": [
    "lf.dtypes"
   ]
  },
  {
   "cell_type": "code",
   "execution_count": 38,
   "id": "5f8f2a48-26ea-4b5d-b82c-a8b28ddf5e6d",
   "metadata": {},
   "outputs": [
    {
     "data": {
      "text/plain": [
       "[Int64, Int64]"
      ]
     },
     "execution_count": 38,
     "metadata": {},
     "output_type": "execute_result"
    }
   ],
   "source": [
    "lf.collect_schema().dtypes()"
   ]
  },
  {
   "cell_type": "markdown",
   "id": "2047f94a-6008-4201-bbd2-47d16301013d",
   "metadata": {},
   "source": [
    "## width"
   ]
  },
  {
   "cell_type": "code",
   "execution_count": 39,
   "id": "f6dffbe6-e8d0-4cbf-a137-69988e9aace9",
   "metadata": {},
   "outputs": [
    {
     "name": "stderr",
     "output_type": "stream",
     "text": [
      "/var/folders/tx/knx9c43n5fd4_nn752k9dxs00000gn/T/ipykernel_3636/3562805497.py:1: PerformanceWarning: Determining the width of a LazyFrame requires resolving its schema, which is a potentially expensive operation. Use `LazyFrame.collect_schema().len()` to get the width without this warning.\n",
      "  lf.width\n"
     ]
    },
    {
     "data": {
      "text/plain": [
       "2"
      ]
     },
     "execution_count": 39,
     "metadata": {},
     "output_type": "execute_result"
    }
   ],
   "source": [
    "lf.width"
   ]
  },
  {
   "cell_type": "code",
   "execution_count": 40,
   "id": "506e972d-b483-4958-b932-fbd7561c24d3",
   "metadata": {},
   "outputs": [
    {
     "data": {
      "text/plain": [
       "2"
      ]
     },
     "execution_count": 40,
     "metadata": {},
     "output_type": "execute_result"
    }
   ],
   "source": [
    "lf.collect_schema().len()"
   ]
  },
  {
   "cell_type": "markdown",
   "id": "ad30683e-6808-47d7-9616-f14cfa650923",
   "metadata": {},
   "source": [
    "## Descriptive"
   ]
  },
  {
   "cell_type": "markdown",
   "id": "6d6b4ca5-e6df-4e87-90df-c093f656687a",
   "metadata": {},
   "source": [
    "### describe\n",
    "This method does not maintain the laziness of the frame, and will collect the final result. This could potentially be an expensive operation.\n",
    "\n",
    "We do not guarantee the output of describe to be stable. It will show statistics that we deem informative, and may be updated in the future. Using describe programmatically (versus interactive exploration) is not recommended for this reason."
   ]
  },
  {
   "cell_type": "code",
   "execution_count": 42,
   "id": "3b427bb6-6f46-4424-ba22-95ea8fc8d367",
   "metadata": {},
   "outputs": [
    {
     "data": {
      "text/html": [
       "<div><style>\n",
       ".dataframe > thead > tr,\n",
       ".dataframe > tbody > tr {\n",
       "  text-align: right;\n",
       "  white-space: pre-wrap;\n",
       "}\n",
       "</style>\n",
       "<small>shape: (9, 3)</small><table border=\"1\" class=\"dataframe\"><thead><tr><th>statistic</th><th>foo</th><th>bar</th></tr><tr><td>str</td><td>f64</td><td>f64</td></tr></thead><tbody><tr><td>&quot;count&quot;</td><td>3.0</td><td>3.0</td></tr><tr><td>&quot;null_count&quot;</td><td>0.0</td><td>0.0</td></tr><tr><td>&quot;mean&quot;</td><td>2.0</td><td>7.0</td></tr><tr><td>&quot;std&quot;</td><td>1.0</td><td>1.0</td></tr><tr><td>&quot;min&quot;</td><td>1.0</td><td>6.0</td></tr><tr><td>&quot;25%&quot;</td><td>2.0</td><td>7.0</td></tr><tr><td>&quot;50%&quot;</td><td>2.0</td><td>7.0</td></tr><tr><td>&quot;75%&quot;</td><td>3.0</td><td>8.0</td></tr><tr><td>&quot;max&quot;</td><td>3.0</td><td>8.0</td></tr></tbody></table></div>"
      ],
      "text/plain": [
       "shape: (9, 3)\n",
       "┌────────────┬─────┬─────┐\n",
       "│ statistic  ┆ foo ┆ bar │\n",
       "│ ---        ┆ --- ┆ --- │\n",
       "│ str        ┆ f64 ┆ f64 │\n",
       "╞════════════╪═════╪═════╡\n",
       "│ count      ┆ 3.0 ┆ 3.0 │\n",
       "│ null_count ┆ 0.0 ┆ 0.0 │\n",
       "│ mean       ┆ 2.0 ┆ 7.0 │\n",
       "│ std        ┆ 1.0 ┆ 1.0 │\n",
       "│ min        ┆ 1.0 ┆ 6.0 │\n",
       "│ 25%        ┆ 2.0 ┆ 7.0 │\n",
       "│ 50%        ┆ 2.0 ┆ 7.0 │\n",
       "│ 75%        ┆ 3.0 ┆ 8.0 │\n",
       "│ max        ┆ 3.0 ┆ 8.0 │\n",
       "└────────────┴─────┴─────┘"
      ]
     },
     "execution_count": 42,
     "metadata": {},
     "output_type": "execute_result"
    }
   ],
   "source": [
    "lf.describe()"
   ]
  },
  {
   "cell_type": "code",
   "execution_count": 43,
   "id": "64af06ef-586e-40c2-8c3c-82f2f7edd83c",
   "metadata": {},
   "outputs": [],
   "source": [
    "from datetime import date, time\n",
    "lf = pl.LazyFrame(\n",
    "    {\n",
    "        \"float\": [1.0, 2.8, 3.0],\n",
    "        \"int\": [40, 50, None],\n",
    "        \"bool\": [True, False, True],\n",
    "        \"str\": [\"zz\", \"xx\", \"yy\"],\n",
    "        \"date\": [date(2020, 1, 1), date(2021, 7, 5), date(2022, 12, 31)],\n",
    "        \"time\": [time(10, 20, 30), time(14, 45, 50), time(23, 15, 10)],\n",
    "    }\n",
    ")"
   ]
  },
  {
   "cell_type": "code",
   "execution_count": 44,
   "id": "75dba0fb-f59b-4362-a9b9-1fb5787358e1",
   "metadata": {},
   "outputs": [
    {
     "data": {
      "text/html": [
       "<div><style>\n",
       ".dataframe > thead > tr,\n",
       ".dataframe > tbody > tr {\n",
       "  text-align: right;\n",
       "  white-space: pre-wrap;\n",
       "}\n",
       "</style>\n",
       "<small>shape: (9, 7)</small><table border=\"1\" class=\"dataframe\"><thead><tr><th>statistic</th><th>float</th><th>int</th><th>bool</th><th>str</th><th>date</th><th>time</th></tr><tr><td>str</td><td>f64</td><td>f64</td><td>f64</td><td>str</td><td>str</td><td>str</td></tr></thead><tbody><tr><td>&quot;count&quot;</td><td>3.0</td><td>2.0</td><td>3.0</td><td>&quot;3&quot;</td><td>&quot;3&quot;</td><td>&quot;3&quot;</td></tr><tr><td>&quot;null_count&quot;</td><td>0.0</td><td>1.0</td><td>0.0</td><td>&quot;0&quot;</td><td>&quot;0&quot;</td><td>&quot;0&quot;</td></tr><tr><td>&quot;mean&quot;</td><td>2.266667</td><td>45.0</td><td>0.666667</td><td>null</td><td>&quot;2021-07-02 16:00:00&quot;</td><td>&quot;16:07:10&quot;</td></tr><tr><td>&quot;std&quot;</td><td>1.101514</td><td>7.071068</td><td>null</td><td>null</td><td>null</td><td>null</td></tr><tr><td>&quot;min&quot;</td><td>1.0</td><td>40.0</td><td>0.0</td><td>&quot;xx&quot;</td><td>&quot;2020-01-01&quot;</td><td>&quot;10:20:30&quot;</td></tr><tr><td>&quot;25%&quot;</td><td>2.8</td><td>40.0</td><td>null</td><td>null</td><td>&quot;2021-07-05&quot;</td><td>&quot;14:45:50&quot;</td></tr><tr><td>&quot;50%&quot;</td><td>2.8</td><td>50.0</td><td>null</td><td>null</td><td>&quot;2021-07-05&quot;</td><td>&quot;14:45:50&quot;</td></tr><tr><td>&quot;75%&quot;</td><td>3.0</td><td>50.0</td><td>null</td><td>null</td><td>&quot;2022-12-31&quot;</td><td>&quot;23:15:10&quot;</td></tr><tr><td>&quot;max&quot;</td><td>3.0</td><td>50.0</td><td>1.0</td><td>&quot;zz&quot;</td><td>&quot;2022-12-31&quot;</td><td>&quot;23:15:10&quot;</td></tr></tbody></table></div>"
      ],
      "text/plain": [
       "shape: (9, 7)\n",
       "┌────────────┬──────────┬──────────┬──────────┬──────┬─────────────────────┬──────────┐\n",
       "│ statistic  ┆ float    ┆ int      ┆ bool     ┆ str  ┆ date                ┆ time     │\n",
       "│ ---        ┆ ---      ┆ ---      ┆ ---      ┆ ---  ┆ ---                 ┆ ---      │\n",
       "│ str        ┆ f64      ┆ f64      ┆ f64      ┆ str  ┆ str                 ┆ str      │\n",
       "╞════════════╪══════════╪══════════╪══════════╪══════╪═════════════════════╪══════════╡\n",
       "│ count      ┆ 3.0      ┆ 2.0      ┆ 3.0      ┆ 3    ┆ 3                   ┆ 3        │\n",
       "│ null_count ┆ 0.0      ┆ 1.0      ┆ 0.0      ┆ 0    ┆ 0                   ┆ 0        │\n",
       "│ mean       ┆ 2.266667 ┆ 45.0     ┆ 0.666667 ┆ null ┆ 2021-07-02 16:00:00 ┆ 16:07:10 │\n",
       "│ std        ┆ 1.101514 ┆ 7.071068 ┆ null     ┆ null ┆ null                ┆ null     │\n",
       "│ min        ┆ 1.0      ┆ 40.0     ┆ 0.0      ┆ xx   ┆ 2020-01-01          ┆ 10:20:30 │\n",
       "│ 25%        ┆ 2.8      ┆ 40.0     ┆ null     ┆ null ┆ 2021-07-05          ┆ 14:45:50 │\n",
       "│ 50%        ┆ 2.8      ┆ 50.0     ┆ null     ┆ null ┆ 2021-07-05          ┆ 14:45:50 │\n",
       "│ 75%        ┆ 3.0      ┆ 50.0     ┆ null     ┆ null ┆ 2022-12-31          ┆ 23:15:10 │\n",
       "│ max        ┆ 3.0      ┆ 50.0     ┆ 1.0      ┆ zz   ┆ 2022-12-31          ┆ 23:15:10 │\n",
       "└────────────┴──────────┴──────────┴──────────┴──────┴─────────────────────┴──────────┘"
      ]
     },
     "execution_count": 44,
     "metadata": {},
     "output_type": "execute_result"
    }
   ],
   "source": [
    "lf.describe()"
   ]
  },
  {
   "cell_type": "code",
   "execution_count": 46,
   "id": "1e0176fe-a23d-4a64-ac0e-f72751d33f82",
   "metadata": {},
   "outputs": [
    {
     "data": {
      "text/html": [
       "<div><style>\n",
       ".dataframe > thead > tr,\n",
       ".dataframe > tbody > tr {\n",
       "  text-align: right;\n",
       "  white-space: pre-wrap;\n",
       "}\n",
       "</style>\n",
       "<small>shape: (11, 7)</small><table border=\"1\" class=\"dataframe\"><thead><tr><th>statistic</th><th>float</th><th>int</th><th>bool</th><th>str</th><th>date</th><th>time</th></tr><tr><td>str</td><td>f64</td><td>f64</td><td>f64</td><td>str</td><td>str</td><td>str</td></tr></thead><tbody><tr><td>&quot;count&quot;</td><td>3.0</td><td>2.0</td><td>3.0</td><td>&quot;3&quot;</td><td>&quot;3&quot;</td><td>&quot;3&quot;</td></tr><tr><td>&quot;null_count&quot;</td><td>0.0</td><td>1.0</td><td>0.0</td><td>&quot;0&quot;</td><td>&quot;0&quot;</td><td>&quot;0&quot;</td></tr><tr><td>&quot;mean&quot;</td><td>2.266667</td><td>45.0</td><td>0.666667</td><td>null</td><td>&quot;2021-07-02 16:00:00&quot;</td><td>&quot;16:07:10&quot;</td></tr><tr><td>&quot;std&quot;</td><td>1.101514</td><td>7.071068</td><td>null</td><td>null</td><td>null</td><td>null</td></tr><tr><td>&quot;min&quot;</td><td>1.0</td><td>40.0</td><td>0.0</td><td>&quot;xx&quot;</td><td>&quot;2020-01-01&quot;</td><td>&quot;10:20:30&quot;</td></tr><tr><td>&hellip;</td><td>&hellip;</td><td>&hellip;</td><td>&hellip;</td><td>&hellip;</td><td>&hellip;</td><td>&hellip;</td></tr><tr><td>&quot;30%&quot;</td><td>2.08</td><td>43.0</td><td>null</td><td>null</td><td>&quot;2020-11-26&quot;</td><td>&quot;12:59:42&quot;</td></tr><tr><td>&quot;50%&quot;</td><td>2.8</td><td>45.0</td><td>null</td><td>null</td><td>&quot;2021-07-05&quot;</td><td>&quot;14:45:50&quot;</td></tr><tr><td>&quot;70%&quot;</td><td>2.88</td><td>47.0</td><td>null</td><td>null</td><td>&quot;2022-02-07&quot;</td><td>&quot;18:09:34&quot;</td></tr><tr><td>&quot;90%&quot;</td><td>2.96</td><td>49.0</td><td>null</td><td>null</td><td>&quot;2022-09-13&quot;</td><td>&quot;21:33:18&quot;</td></tr><tr><td>&quot;max&quot;</td><td>3.0</td><td>50.0</td><td>1.0</td><td>&quot;zz&quot;</td><td>&quot;2022-12-31&quot;</td><td>&quot;23:15:10&quot;</td></tr></tbody></table></div>"
      ],
      "text/plain": [
       "shape: (11, 7)\n",
       "┌────────────┬──────────┬──────────┬──────────┬──────┬─────────────────────┬──────────┐\n",
       "│ statistic  ┆ float    ┆ int      ┆ bool     ┆ str  ┆ date                ┆ time     │\n",
       "│ ---        ┆ ---      ┆ ---      ┆ ---      ┆ ---  ┆ ---                 ┆ ---      │\n",
       "│ str        ┆ f64      ┆ f64      ┆ f64      ┆ str  ┆ str                 ┆ str      │\n",
       "╞════════════╪══════════╪══════════╪══════════╪══════╪═════════════════════╪══════════╡\n",
       "│ count      ┆ 3.0      ┆ 2.0      ┆ 3.0      ┆ 3    ┆ 3                   ┆ 3        │\n",
       "│ null_count ┆ 0.0      ┆ 1.0      ┆ 0.0      ┆ 0    ┆ 0                   ┆ 0        │\n",
       "│ mean       ┆ 2.266667 ┆ 45.0     ┆ 0.666667 ┆ null ┆ 2021-07-02 16:00:00 ┆ 16:07:10 │\n",
       "│ std        ┆ 1.101514 ┆ 7.071068 ┆ null     ┆ null ┆ null                ┆ null     │\n",
       "│ min        ┆ 1.0      ┆ 40.0     ┆ 0.0      ┆ xx   ┆ 2020-01-01          ┆ 10:20:30 │\n",
       "│ …          ┆ …        ┆ …        ┆ …        ┆ …    ┆ …                   ┆ …        │\n",
       "│ 30%        ┆ 2.08     ┆ 43.0     ┆ null     ┆ null ┆ 2020-11-26          ┆ 12:59:42 │\n",
       "│ 50%        ┆ 2.8      ┆ 45.0     ┆ null     ┆ null ┆ 2021-07-05          ┆ 14:45:50 │\n",
       "│ 70%        ┆ 2.88     ┆ 47.0     ┆ null     ┆ null ┆ 2022-02-07          ┆ 18:09:34 │\n",
       "│ 90%        ┆ 2.96     ┆ 49.0     ┆ null     ┆ null ┆ 2022-09-13          ┆ 21:33:18 │\n",
       "│ max        ┆ 3.0      ┆ 50.0     ┆ 1.0      ┆ zz   ┆ 2022-12-31          ┆ 23:15:10 │\n",
       "└────────────┴──────────┴──────────┴──────────┴──────┴─────────────────────┴──────────┘"
      ]
     },
     "execution_count": 46,
     "metadata": {},
     "output_type": "execute_result"
    }
   ],
   "source": [
    "    lf.describe(\n",
    "        percentiles=[0.1, 0.3, 0.5, 0.7, 0.9],\n",
    "        interpolation=\"linear\",\n",
    "    )"
   ]
  },
  {
   "cell_type": "markdown",
   "id": "8080d4ad-d3d5-40bc-abde-19e4f41027bf",
   "metadata": {},
   "source": [
    "### explain"
   ]
  },
  {
   "cell_type": "code",
   "execution_count": 47,
   "id": "dee24d84-af88-46fa-9d88-fea7b70d8c90",
   "metadata": {},
   "outputs": [
    {
     "data": {
      "text/plain": [
       "'DF [\"float\", \"int\", \"bool\", \"str\"]; PROJECT */6 COLUMNS; SELECTION: None'"
      ]
     },
     "execution_count": 47,
     "metadata": {},
     "output_type": "execute_result"
    }
   ],
   "source": [
    "lf.explain()"
   ]
  },
  {
   "cell_type": "code",
   "execution_count": 48,
   "id": "9a8edbc5-60d4-432e-85ab-8ccb6754b3e1",
   "metadata": {},
   "outputs": [
    {
     "data": {
      "text/plain": [
       "'SORT BY [col(\"a\")]\\n  AGGREGATE\\n  \\t[col(\"b\").sum(), col(\"c\").sum()] BY [col(\"a\")] FROM\\n    DF [\"a\", \"b\", \"c\"]; PROJECT 3/3 COLUMNS; SELECTION: None'"
      ]
     },
     "execution_count": 48,
     "metadata": {},
     "output_type": "execute_result"
    }
   ],
   "source": [
    "lf = pl.LazyFrame(\n",
    "    {\n",
    "        \"a\": [\"a\", \"b\", \"a\", \"b\", \"b\", \"c\"],\n",
    "        \"b\": [1, 2, 3, 4, 5, 6],\n",
    "        \"c\": [6, 5, 4, 3, 2, 1],\n",
    "    }\n",
    ")\n",
    "lf.group_by(\"a\", maintain_order=True).agg(pl.all().sum()).sort(\n",
    "    \"a\"\n",
    ").explain()  "
   ]
  },
  {
   "cell_type": "code",
   "execution_count": null,
   "id": "b1d1db9f-0c45-4071-a775-2c5d32d623cc",
   "metadata": {},
   "outputs": [],
   "source": []
  }
 ],
 "metadata": {
  "kernelspec": {
   "display_name": "Python 3 (ipykernel)",
   "language": "python",
   "name": "python3"
  },
  "language_info": {
   "codemirror_mode": {
    "name": "ipython",
    "version": 3
   },
   "file_extension": ".py",
   "mimetype": "text/x-python",
   "name": "python",
   "nbconvert_exporter": "python",
   "pygments_lexer": "ipython3",
   "version": "3.12.1"
  }
 },
 "nbformat": 4,
 "nbformat_minor": 5
}
