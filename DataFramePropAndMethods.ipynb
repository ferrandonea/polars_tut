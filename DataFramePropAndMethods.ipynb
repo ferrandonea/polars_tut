{
 "cells": [
  {
   "cell_type": "code",
   "execution_count": 1,
   "id": "7b9571cc-c389-422a-9bde-90395e553c13",
   "metadata": {},
   "outputs": [],
   "source": [
    "import polars as pl"
   ]
  },
  {
   "cell_type": "markdown",
   "id": "a0af4d9c-1e5e-4229-8837-3dbe15f26176",
   "metadata": {},
   "source": [
    "# DataFrame\n",
    "https://docs.pola.rs/api/python/stable/reference/dataframe/index.html"
   ]
  },
  {
   "cell_type": "code",
   "execution_count": 2,
   "id": "f3297f97-9b9f-4ea9-9919-1b7e372a552b",
   "metadata": {},
   "outputs": [
    {
     "data": {
      "text/html": [
       "<div><style>\n",
       ".dataframe > thead > tr,\n",
       ".dataframe > tbody > tr {\n",
       "  text-align: right;\n",
       "  white-space: pre-wrap;\n",
       "}\n",
       "</style>\n",
       "<small>shape: (2, 2)</small><table border=\"1\" class=\"dataframe\"><thead><tr><th>a</th><th>b</th></tr><tr><td>i64</td><td>i64</td></tr></thead><tbody><tr><td>1</td><td>3</td></tr><tr><td>2</td><td>4</td></tr></tbody></table></div>"
      ],
      "text/plain": [
       "shape: (2, 2)\n",
       "┌─────┬─────┐\n",
       "│ a   ┆ b   │\n",
       "│ --- ┆ --- │\n",
       "│ i64 ┆ i64 │\n",
       "╞═════╪═════╡\n",
       "│ 1   ┆ 3   │\n",
       "│ 2   ┆ 4   │\n",
       "└─────┴─────┘"
      ]
     },
     "execution_count": 2,
     "metadata": {},
     "output_type": "execute_result"
    }
   ],
   "source": [
    "data = {\"a\": [1, 2], \"b\": [3, 4]}\n",
    "df = pl.DataFrame(data)\n",
    "df"
   ]
  },
  {
   "cell_type": "code",
   "execution_count": 3,
   "id": "48ff3703-8f55-4e53-a375-6e914e62765b",
   "metadata": {},
   "outputs": [
    {
     "data": {
      "text/plain": [
       "[Int64, Int64]"
      ]
     },
     "execution_count": 3,
     "metadata": {},
     "output_type": "execute_result"
    }
   ],
   "source": [
    "df.dtypes"
   ]
  },
  {
   "cell_type": "code",
   "execution_count": 4,
   "id": "431dbc17-3027-4fd7-9b1b-b6bd9d52ae32",
   "metadata": {},
   "outputs": [
    {
     "data": {
      "text/html": [
       "<div><style>\n",
       ".dataframe > thead > tr,\n",
       ".dataframe > tbody > tr {\n",
       "  text-align: right;\n",
       "  white-space: pre-wrap;\n",
       "}\n",
       "</style>\n",
       "<small>shape: (2, 2)</small><table border=\"1\" class=\"dataframe\"><thead><tr><th>col1</th><th>col2</th></tr><tr><td>f32</td><td>i64</td></tr></thead><tbody><tr><td>0.0</td><td>3</td></tr><tr><td>2.0</td><td>7</td></tr></tbody></table></div>"
      ],
      "text/plain": [
       "shape: (2, 2)\n",
       "┌──────┬──────┐\n",
       "│ col1 ┆ col2 │\n",
       "│ ---  ┆ ---  │\n",
       "│ f32  ┆ i64  │\n",
       "╞══════╪══════╡\n",
       "│ 0.0  ┆ 3    │\n",
       "│ 2.0  ┆ 7    │\n",
       "└──────┴──────┘"
      ]
     },
     "execution_count": 4,
     "metadata": {},
     "output_type": "execute_result"
    }
   ],
   "source": [
    "data = {\"col1\": [0, 2], \"col2\": [3, 7]}\n",
    "df2 = pl.DataFrame(data, schema={\"col1\": pl.Float32, \"col2\": pl.Int64})\n",
    "df2"
   ]
  },
  {
   "cell_type": "code",
   "execution_count": 5,
   "id": "36f6cc43-433b-42de-a71c-e7fa544d38bb",
   "metadata": {},
   "outputs": [
    {
     "data": {
      "text/html": [
       "<div><style>\n",
       ".dataframe > thead > tr,\n",
       ".dataframe > tbody > tr {\n",
       "  text-align: right;\n",
       "  white-space: pre-wrap;\n",
       "}\n",
       "</style>\n",
       "<small>shape: (2, 2)</small><table border=\"1\" class=\"dataframe\"><thead><tr><th>col1</th><th>col2</th></tr><tr><td>f32</td><td>i64</td></tr></thead><tbody><tr><td>1.0</td><td>3</td></tr><tr><td>2.0</td><td>4</td></tr></tbody></table></div>"
      ],
      "text/plain": [
       "shape: (2, 2)\n",
       "┌──────┬──────┐\n",
       "│ col1 ┆ col2 │\n",
       "│ ---  ┆ ---  │\n",
       "│ f32  ┆ i64  │\n",
       "╞══════╪══════╡\n",
       "│ 1.0  ┆ 3    │\n",
       "│ 2.0  ┆ 4    │\n",
       "└──────┴──────┘"
      ]
     },
     "execution_count": 5,
     "metadata": {},
     "output_type": "execute_result"
    }
   ],
   "source": [
    "data = {\"col1\": [1, 2], \"col2\": [3, 4]}\n",
    "df3 = pl.DataFrame(data, schema=[(\"col1\", pl.Float32), (\"col2\", pl.Int64)])\n",
    "df3"
   ]
  },
  {
   "cell_type": "code",
   "execution_count": 6,
   "id": "18844386-338e-4658-be10-959810606d38",
   "metadata": {},
   "outputs": [
    {
     "data": {
      "text/html": [
       "<div><style>\n",
       ".dataframe > thead > tr,\n",
       ".dataframe > tbody > tr {\n",
       "  text-align: right;\n",
       "  white-space: pre-wrap;\n",
       "}\n",
       "</style>\n",
       "<small>shape: (2, 2)</small><table border=\"1\" class=\"dataframe\"><thead><tr><th>col1</th><th>col2</th></tr><tr><td>f32</td><td>i64</td></tr></thead><tbody><tr><td>1.0</td><td>3</td></tr><tr><td>2.0</td><td>4</td></tr></tbody></table></div>"
      ],
      "text/plain": [
       "shape: (2, 2)\n",
       "┌──────┬──────┐\n",
       "│ col1 ┆ col2 │\n",
       "│ ---  ┆ ---  │\n",
       "│ f32  ┆ i64  │\n",
       "╞══════╪══════╡\n",
       "│ 1.0  ┆ 3    │\n",
       "│ 2.0  ┆ 4    │\n",
       "└──────┴──────┘"
      ]
     },
     "execution_count": 6,
     "metadata": {},
     "output_type": "execute_result"
    }
   ],
   "source": [
    "data = [\n",
    "    pl.Series(\"col1\", [1, 2], dtype=pl.Float32),\n",
    "    pl.Series(\"col2\", [3, 4], dtype=pl.Int64),\n",
    "]\n",
    "df4 = pl.DataFrame(data)\n",
    "df4"
   ]
  },
  {
   "cell_type": "code",
   "execution_count": 7,
   "id": "47b19380-9866-4448-a7a9-ed7ffdd3a162",
   "metadata": {},
   "outputs": [
    {
     "data": {
      "text/html": [
       "<div><style>\n",
       ".dataframe > thead > tr,\n",
       ".dataframe > tbody > tr {\n",
       "  text-align: right;\n",
       "  white-space: pre-wrap;\n",
       "}\n",
       "</style>\n",
       "<small>shape: (2, 2)</small><table border=\"1\" class=\"dataframe\"><thead><tr><th>a</th><th>b</th></tr><tr><td>i64</td><td>i64</td></tr></thead><tbody><tr><td>1</td><td>3</td></tr><tr><td>2</td><td>4</td></tr></tbody></table></div>"
      ],
      "text/plain": [
       "shape: (2, 2)\n",
       "┌─────┬─────┐\n",
       "│ a   ┆ b   │\n",
       "│ --- ┆ --- │\n",
       "│ i64 ┆ i64 │\n",
       "╞═════╪═════╡\n",
       "│ 1   ┆ 3   │\n",
       "│ 2   ┆ 4   │\n",
       "└─────┴─────┘"
      ]
     },
     "execution_count": 7,
     "metadata": {},
     "output_type": "execute_result"
    }
   ],
   "source": [
    "import numpy as np\n",
    "data = np.array([(1, 2), (3, 4)], dtype=np.int64)\n",
    "df5 = pl.DataFrame(data, schema=[\"a\", \"b\"], orient=\"col\")\n",
    "df5"
   ]
  },
  {
   "cell_type": "code",
   "execution_count": 8,
   "id": "d4f866d6-dad5-4f53-ad06-9c731d915159",
   "metadata": {},
   "outputs": [
    {
     "data": {
      "text/html": [
       "<div><style>\n",
       ".dataframe > thead > tr,\n",
       ".dataframe > tbody > tr {\n",
       "  text-align: right;\n",
       "  white-space: pre-wrap;\n",
       "}\n",
       "</style>\n",
       "<small>shape: (2, 3)</small><table border=\"1\" class=\"dataframe\"><thead><tr><th>a</th><th>b</th><th>c</th></tr><tr><td>i64</td><td>i64</td><td>i64</td></tr></thead><tbody><tr><td>1</td><td>2</td><td>3</td></tr><tr><td>4</td><td>5</td><td>6</td></tr></tbody></table></div>"
      ],
      "text/plain": [
       "shape: (2, 3)\n",
       "┌─────┬─────┬─────┐\n",
       "│ a   ┆ b   ┆ c   │\n",
       "│ --- ┆ --- ┆ --- │\n",
       "│ i64 ┆ i64 ┆ i64 │\n",
       "╞═════╪═════╪═════╡\n",
       "│ 1   ┆ 2   ┆ 3   │\n",
       "│ 4   ┆ 5   ┆ 6   │\n",
       "└─────┴─────┴─────┘"
      ]
     },
     "execution_count": 8,
     "metadata": {},
     "output_type": "execute_result"
    }
   ],
   "source": [
    "data = [[1, 2, 3], [4, 5, 6]]\n",
    "df6 = pl.DataFrame(data, schema=[\"a\", \"b\", \"c\"], orient=\"row\")\n",
    "df6"
   ]
  },
  {
   "cell_type": "markdown",
   "id": "fb811d36-5887-4dc2-8b7e-85848d4485a9",
   "metadata": {},
   "source": [
    "## approx_n_unique()  "
   ]
  },
  {
   "cell_type": "code",
   "execution_count": 9,
   "id": "cef8a20f-d27f-4b04-a4ff-d7aada0ffac6",
   "metadata": {},
   "outputs": [
    {
     "name": "stderr",
     "output_type": "stream",
     "text": [
      "/var/folders/tx/knx9c43n5fd4_nn752k9dxs00000gn/T/ipykernel_1962/1999384941.py:7: DeprecationWarning: `DataFrame.approx_n_unique` is deprecated. Use `select(pl.all().approx_n_unique())` instead.\n",
      "  df.approx_n_unique()\n",
      "/var/folders/tx/knx9c43n5fd4_nn752k9dxs00000gn/T/ipykernel_1962/1999384941.py:7: DeprecationWarning: `LazyFrame.approx_n_unique` is deprecated. Use `select(pl.all().approx_n_unique())` instead.\n",
      "  df.approx_n_unique()\n"
     ]
    },
    {
     "data": {
      "text/html": [
       "<div><style>\n",
       ".dataframe > thead > tr,\n",
       ".dataframe > tbody > tr {\n",
       "  text-align: right;\n",
       "  white-space: pre-wrap;\n",
       "}\n",
       "</style>\n",
       "<small>shape: (1, 2)</small><table border=\"1\" class=\"dataframe\"><thead><tr><th>a</th><th>b</th></tr><tr><td>u32</td><td>u32</td></tr></thead><tbody><tr><td>4</td><td>2</td></tr></tbody></table></div>"
      ],
      "text/plain": [
       "shape: (1, 2)\n",
       "┌─────┬─────┐\n",
       "│ a   ┆ b   │\n",
       "│ --- ┆ --- │\n",
       "│ u32 ┆ u32 │\n",
       "╞═════╪═════╡\n",
       "│ 4   ┆ 2   │\n",
       "└─────┴─────┘"
      ]
     },
     "execution_count": 9,
     "metadata": {},
     "output_type": "execute_result"
    }
   ],
   "source": [
    "df = pl.DataFrame(\n",
    "    {\n",
    "        \"a\": [1, 2, 3, 4],\n",
    "        \"b\": [1, 2, 1, 1],\n",
    "    }\n",
    ")\n",
    "df.approx_n_unique()  "
   ]
  },
  {
   "cell_type": "code",
   "execution_count": 10,
   "id": "6c1d736a-b1b8-40de-9a34-394067e6f8fd",
   "metadata": {},
   "outputs": [
    {
     "data": {
      "text/html": [
       "<div><style>\n",
       ".dataframe > thead > tr,\n",
       ".dataframe > tbody > tr {\n",
       "  text-align: right;\n",
       "  white-space: pre-wrap;\n",
       "}\n",
       "</style>\n",
       "<small>shape: (1, 2)</small><table border=\"1\" class=\"dataframe\"><thead><tr><th>a</th><th>b</th></tr><tr><td>u32</td><td>u32</td></tr></thead><tbody><tr><td>4</td><td>2</td></tr></tbody></table></div>"
      ],
      "text/plain": [
       "shape: (1, 2)\n",
       "┌─────┬─────┐\n",
       "│ a   ┆ b   │\n",
       "│ --- ┆ --- │\n",
       "│ u32 ┆ u32 │\n",
       "╞═════╪═════╡\n",
       "│ 4   ┆ 2   │\n",
       "└─────┴─────┘"
      ]
     },
     "execution_count": 10,
     "metadata": {},
     "output_type": "execute_result"
    }
   ],
   "source": [
    "df.select(pl.all().approx_n_unique())"
   ]
  },
  {
   "cell_type": "markdown",
   "id": "73534ab6-4479-47be-94b1-2348d978c014",
   "metadata": {},
   "source": [
    "## bottom_k"
   ]
  },
  {
   "cell_type": "code",
   "execution_count": 11,
   "id": "f7edef84-084c-450e-a945-a22329b01f05",
   "metadata": {},
   "outputs": [
    {
     "data": {
      "text/html": [
       "<div><style>\n",
       ".dataframe > thead > tr,\n",
       ".dataframe > tbody > tr {\n",
       "  text-align: right;\n",
       "  white-space: pre-wrap;\n",
       "}\n",
       "</style>\n",
       "<small>shape: (4, 2)</small><table border=\"1\" class=\"dataframe\"><thead><tr><th>a</th><th>b</th></tr><tr><td>str</td><td>i64</td></tr></thead><tbody><tr><td>&quot;b&quot;</td><td>1</td></tr><tr><td>&quot;a&quot;</td><td>1</td></tr><tr><td>&quot;c&quot;</td><td>1</td></tr><tr><td>&quot;a&quot;</td><td>2</td></tr></tbody></table></div>"
      ],
      "text/plain": [
       "shape: (4, 2)\n",
       "┌─────┬─────┐\n",
       "│ a   ┆ b   │\n",
       "│ --- ┆ --- │\n",
       "│ str ┆ i64 │\n",
       "╞═════╪═════╡\n",
       "│ b   ┆ 1   │\n",
       "│ a   ┆ 1   │\n",
       "│ c   ┆ 1   │\n",
       "│ a   ┆ 2   │\n",
       "└─────┴─────┘"
      ]
     },
     "execution_count": 11,
     "metadata": {},
     "output_type": "execute_result"
    }
   ],
   "source": [
    "df = pl.DataFrame(\n",
    "    {\n",
    "        \"a\": [\"a\", \"b\", \"a\", \"b\", \"b\", \"c\"],\n",
    "        \"b\": [2, 1, 1, 3, 2, 1],\n",
    "    }\n",
    ")\n",
    "df.bottom_k(4, by=\"b\")"
   ]
  },
  {
   "cell_type": "code",
   "execution_count": 12,
   "id": "b057ca4f-2b43-4337-9f8a-91e2622168d3",
   "metadata": {},
   "outputs": [
    {
     "data": {
      "text/html": [
       "<div><style>\n",
       ".dataframe > thead > tr,\n",
       ".dataframe > tbody > tr {\n",
       "  text-align: right;\n",
       "  white-space: pre-wrap;\n",
       "}\n",
       "</style>\n",
       "<small>shape: (4, 2)</small><table border=\"1\" class=\"dataframe\"><thead><tr><th>a</th><th>b</th></tr><tr><td>str</td><td>i64</td></tr></thead><tbody><tr><td>&quot;a&quot;</td><td>1</td></tr><tr><td>&quot;a&quot;</td><td>2</td></tr><tr><td>&quot;b&quot;</td><td>1</td></tr><tr><td>&quot;b&quot;</td><td>2</td></tr></tbody></table></div>"
      ],
      "text/plain": [
       "shape: (4, 2)\n",
       "┌─────┬─────┐\n",
       "│ a   ┆ b   │\n",
       "│ --- ┆ --- │\n",
       "│ str ┆ i64 │\n",
       "╞═════╪═════╡\n",
       "│ a   ┆ 1   │\n",
       "│ a   ┆ 2   │\n",
       "│ b   ┆ 1   │\n",
       "│ b   ┆ 2   │\n",
       "└─────┴─────┘"
      ]
     },
     "execution_count": 12,
     "metadata": {},
     "output_type": "execute_result"
    }
   ],
   "source": [
    "df.bottom_k(4, by=[\"a\", \"b\"])"
   ]
  },
  {
   "cell_type": "markdown",
   "id": "71cf673b-3f11-4a86-aac6-4c112744ed36",
   "metadata": {},
   "source": [
    "## cast"
   ]
  },
  {
   "cell_type": "code",
   "execution_count": 13,
   "id": "fe1495c1-0672-4d24-a325-c12177ce8110",
   "metadata": {},
   "outputs": [],
   "source": [
    "from datetime import date\n",
    "df = pl.DataFrame(\n",
    "    {\n",
    "        \"foo\": [1, 2, 3],\n",
    "        \"bar\": [6.0, 7.0, 8.0],\n",
    "        \"ham\": [date(2020, 1, 2), date(2021, 3, 4), date(2022, 5, 6)],\n",
    "    }\n",
    ")"
   ]
  },
  {
   "cell_type": "code",
   "execution_count": 14,
   "id": "7225b6a1-3bb4-4bff-ad29-8365eba50ce8",
   "metadata": {},
   "outputs": [
    {
     "data": {
      "text/html": [
       "<div><style>\n",
       ".dataframe > thead > tr,\n",
       ".dataframe > tbody > tr {\n",
       "  text-align: right;\n",
       "  white-space: pre-wrap;\n",
       "}\n",
       "</style>\n",
       "<small>shape: (3, 3)</small><table border=\"1\" class=\"dataframe\"><thead><tr><th>foo</th><th>bar</th><th>ham</th></tr><tr><td>f32</td><td>u8</td><td>date</td></tr></thead><tbody><tr><td>1.0</td><td>6</td><td>2020-01-02</td></tr><tr><td>2.0</td><td>7</td><td>2021-03-04</td></tr><tr><td>3.0</td><td>8</td><td>2022-05-06</td></tr></tbody></table></div>"
      ],
      "text/plain": [
       "shape: (3, 3)\n",
       "┌─────┬─────┬────────────┐\n",
       "│ foo ┆ bar ┆ ham        │\n",
       "│ --- ┆ --- ┆ ---        │\n",
       "│ f32 ┆ u8  ┆ date       │\n",
       "╞═════╪═════╪════════════╡\n",
       "│ 1.0 ┆ 6   ┆ 2020-01-02 │\n",
       "│ 2.0 ┆ 7   ┆ 2021-03-04 │\n",
       "│ 3.0 ┆ 8   ┆ 2022-05-06 │\n",
       "└─────┴─────┴────────────┘"
      ]
     },
     "execution_count": 14,
     "metadata": {},
     "output_type": "execute_result"
    }
   ],
   "source": [
    "df.cast({\"foo\": pl.Float32, \"bar\": pl.UInt8})"
   ]
  },
  {
   "cell_type": "code",
   "execution_count": 15,
   "id": "2226a038-912e-482d-bbd4-8fd569fc121b",
   "metadata": {},
   "outputs": [
    {
     "data": {
      "text/html": [
       "<div><style>\n",
       ".dataframe > thead > tr,\n",
       ".dataframe > tbody > tr {\n",
       "  text-align: right;\n",
       "  white-space: pre-wrap;\n",
       "}\n",
       "</style>\n",
       "<small>shape: (3, 3)</small><table border=\"1\" class=\"dataframe\"><thead><tr><th>foo</th><th>bar</th><th>ham</th></tr><tr><td>i64</td><td>f64</td><td>datetime[μs]</td></tr></thead><tbody><tr><td>1</td><td>6.0</td><td>2020-01-02 00:00:00</td></tr><tr><td>2</td><td>7.0</td><td>2021-03-04 00:00:00</td></tr><tr><td>3</td><td>8.0</td><td>2022-05-06 00:00:00</td></tr></tbody></table></div>"
      ],
      "text/plain": [
       "shape: (3, 3)\n",
       "┌─────┬─────┬─────────────────────┐\n",
       "│ foo ┆ bar ┆ ham                 │\n",
       "│ --- ┆ --- ┆ ---                 │\n",
       "│ i64 ┆ f64 ┆ datetime[μs]        │\n",
       "╞═════╪═════╪═════════════════════╡\n",
       "│ 1   ┆ 6.0 ┆ 2020-01-02 00:00:00 │\n",
       "│ 2   ┆ 7.0 ┆ 2021-03-04 00:00:00 │\n",
       "│ 3   ┆ 8.0 ┆ 2022-05-06 00:00:00 │\n",
       "└─────┴─────┴─────────────────────┘"
      ]
     },
     "execution_count": 15,
     "metadata": {},
     "output_type": "execute_result"
    }
   ],
   "source": [
    "df.cast({pl.Date: pl.Datetime})"
   ]
  },
  {
   "cell_type": "code",
   "execution_count": 16,
   "id": "3733d2af-3df0-452e-9298-af1a1b42def7",
   "metadata": {},
   "outputs": [
    {
     "data": {
      "text/html": [
       "<div><style>\n",
       ".dataframe > thead > tr,\n",
       ".dataframe > tbody > tr {\n",
       "  text-align: right;\n",
       "  white-space: pre-wrap;\n",
       "}\n",
       "</style>\n",
       "<small>shape: (3, 3)</small><table border=\"1\" class=\"dataframe\"><thead><tr><th>foo</th><th>bar</th><th>ham</th></tr><tr><td>u32</td><td>u32</td><td>str</td></tr></thead><tbody><tr><td>1</td><td>6</td><td>&quot;2020-01-02&quot;</td></tr><tr><td>2</td><td>7</td><td>&quot;2021-03-04&quot;</td></tr><tr><td>3</td><td>8</td><td>&quot;2022-05-06&quot;</td></tr></tbody></table></div>"
      ],
      "text/plain": [
       "shape: (3, 3)\n",
       "┌─────┬─────┬────────────┐\n",
       "│ foo ┆ bar ┆ ham        │\n",
       "│ --- ┆ --- ┆ ---        │\n",
       "│ u32 ┆ u32 ┆ str        │\n",
       "╞═════╪═════╪════════════╡\n",
       "│ 1   ┆ 6   ┆ 2020-01-02 │\n",
       "│ 2   ┆ 7   ┆ 2021-03-04 │\n",
       "│ 3   ┆ 8   ┆ 2022-05-06 │\n",
       "└─────┴─────┴────────────┘"
      ]
     },
     "execution_count": 16,
     "metadata": {},
     "output_type": "execute_result"
    }
   ],
   "source": [
    "import polars.selectors as cs\n",
    "df.cast({cs.numeric(): pl.UInt32, cs.temporal(): pl.String})"
   ]
  },
  {
   "cell_type": "code",
   "execution_count": 17,
   "id": "9dcd36a4-f418-428e-bfd5-c56b11e25fdc",
   "metadata": {},
   "outputs": [
    {
     "data": {
      "text/plain": [
       "{'foo': ['1', '2', '3'],\n",
       " 'bar': ['6.0', '7.0', '8.0'],\n",
       " 'ham': ['2020-01-02', '2021-03-04', '2022-05-06']}"
      ]
     },
     "execution_count": 17,
     "metadata": {},
     "output_type": "execute_result"
    }
   ],
   "source": [
    "df.cast(pl.String).to_dict(as_series=False)"
   ]
  },
  {
   "cell_type": "markdown",
   "id": "49e9e62f-b786-4c4d-801d-adb0a0a03268",
   "metadata": {},
   "source": [
    "## clear"
   ]
  },
  {
   "cell_type": "code",
   "execution_count": 18,
   "id": "59c6ee9b-a609-4dd8-aa77-1ace45dfdfde",
   "metadata": {},
   "outputs": [
    {
     "data": {
      "text/html": [
       "<div><style>\n",
       ".dataframe > thead > tr,\n",
       ".dataframe > tbody > tr {\n",
       "  text-align: right;\n",
       "  white-space: pre-wrap;\n",
       "}\n",
       "</style>\n",
       "<small>shape: (0, 3)</small><table border=\"1\" class=\"dataframe\"><thead><tr><th>a</th><th>b</th><th>c</th></tr><tr><td>i64</td><td>f64</td><td>bool</td></tr></thead><tbody></tbody></table></div>"
      ],
      "text/plain": [
       "shape: (0, 3)\n",
       "┌─────┬─────┬──────┐\n",
       "│ a   ┆ b   ┆ c    │\n",
       "│ --- ┆ --- ┆ ---  │\n",
       "│ i64 ┆ f64 ┆ bool │\n",
       "╞═════╪═════╪══════╡\n",
       "└─────┴─────┴──────┘"
      ]
     },
     "execution_count": 18,
     "metadata": {},
     "output_type": "execute_result"
    }
   ],
   "source": [
    "df = pl.DataFrame(\n",
    "    {\n",
    "        \"a\": [None, 2, 3, 4],\n",
    "        \"b\": [0.5, None, 2.5, 13],\n",
    "        \"c\": [True, True, False, None],\n",
    "    }\n",
    ")\n",
    "df.clear()"
   ]
  },
  {
   "cell_type": "code",
   "execution_count": 19,
   "id": "199aa0b2-323c-4eb1-ad96-6ccd2cd82711",
   "metadata": {},
   "outputs": [
    {
     "data": {
      "text/html": [
       "<div><style>\n",
       ".dataframe > thead > tr,\n",
       ".dataframe > tbody > tr {\n",
       "  text-align: right;\n",
       "  white-space: pre-wrap;\n",
       "}\n",
       "</style>\n",
       "<small>shape: (2, 3)</small><table border=\"1\" class=\"dataframe\"><thead><tr><th>a</th><th>b</th><th>c</th></tr><tr><td>i64</td><td>f64</td><td>bool</td></tr></thead><tbody><tr><td>null</td><td>null</td><td>null</td></tr><tr><td>null</td><td>null</td><td>null</td></tr></tbody></table></div>"
      ],
      "text/plain": [
       "shape: (2, 3)\n",
       "┌──────┬──────┬──────┐\n",
       "│ a    ┆ b    ┆ c    │\n",
       "│ ---  ┆ ---  ┆ ---  │\n",
       "│ i64  ┆ f64  ┆ bool │\n",
       "╞══════╪══════╪══════╡\n",
       "│ null ┆ null ┆ null │\n",
       "│ null ┆ null ┆ null │\n",
       "└──────┴──────┴──────┘"
      ]
     },
     "execution_count": 19,
     "metadata": {},
     "output_type": "execute_result"
    }
   ],
   "source": [
    "df.clear(n=2)"
   ]
  },
  {
   "cell_type": "markdown",
   "id": "f2b389da-dcbc-4674-bb3c-975b7db3473c",
   "metadata": {},
   "source": [
    "## clone"
   ]
  },
  {
   "cell_type": "code",
   "execution_count": 20,
   "id": "e671e50b-654a-447f-9cab-3a76c7ad1d2c",
   "metadata": {},
   "outputs": [
    {
     "data": {
      "text/html": [
       "<div><style>\n",
       ".dataframe > thead > tr,\n",
       ".dataframe > tbody > tr {\n",
       "  text-align: right;\n",
       "  white-space: pre-wrap;\n",
       "}\n",
       "</style>\n",
       "<small>shape: (4, 3)</small><table border=\"1\" class=\"dataframe\"><thead><tr><th>a</th><th>b</th><th>c</th></tr><tr><td>i64</td><td>f64</td><td>bool</td></tr></thead><tbody><tr><td>1</td><td>0.5</td><td>true</td></tr><tr><td>2</td><td>4.0</td><td>true</td></tr><tr><td>3</td><td>10.0</td><td>false</td></tr><tr><td>4</td><td>13.0</td><td>true</td></tr></tbody></table></div>"
      ],
      "text/plain": [
       "shape: (4, 3)\n",
       "┌─────┬──────┬───────┐\n",
       "│ a   ┆ b    ┆ c     │\n",
       "│ --- ┆ ---  ┆ ---   │\n",
       "│ i64 ┆ f64  ┆ bool  │\n",
       "╞═════╪══════╪═══════╡\n",
       "│ 1   ┆ 0.5  ┆ true  │\n",
       "│ 2   ┆ 4.0  ┆ true  │\n",
       "│ 3   ┆ 10.0 ┆ false │\n",
       "│ 4   ┆ 13.0 ┆ true  │\n",
       "└─────┴──────┴───────┘"
      ]
     },
     "execution_count": 20,
     "metadata": {},
     "output_type": "execute_result"
    }
   ],
   "source": [
    "df = pl.DataFrame(\n",
    "    {\n",
    "        \"a\": [1, 2, 3, 4],\n",
    "        \"b\": [0.5, 4, 10, 13],\n",
    "        \"c\": [True, True, False, True],\n",
    "    }\n",
    ")\n",
    "df.clone()"
   ]
  },
  {
   "cell_type": "markdown",
   "id": "af42bade-43c5-405b-9e68-483139e9fa8d",
   "metadata": {},
   "source": [
    "## collect_schema"
   ]
  },
  {
   "cell_type": "code",
   "execution_count": 21,
   "id": "b407f47d-9dd5-41ed-bdb1-6faa81e5211d",
   "metadata": {},
   "outputs": [
    {
     "data": {
      "text/plain": [
       "Schema([('foo', Int64), ('bar', Float64), ('ham', String)])"
      ]
     },
     "execution_count": 21,
     "metadata": {},
     "output_type": "execute_result"
    }
   ],
   "source": [
    "df = pl.DataFrame(\n",
    "    {\n",
    "        \"foo\": [1, 2, 3],\n",
    "        \"bar\": [6.0, 7.0, 8.0],\n",
    "        \"ham\": [\"a\", \"b\", \"c\"],\n",
    "    }\n",
    ")\n",
    "df.collect_schema()"
   ]
  },
  {
   "cell_type": "markdown",
   "id": "d991910c-8e64-4b0f-a32f-dc83a1c9ba28",
   "metadata": {},
   "source": [
    "## columns"
   ]
  },
  {
   "cell_type": "code",
   "execution_count": 22,
   "id": "dd971aaf-a8d0-4278-ae22-627cfaa3948d",
   "metadata": {},
   "outputs": [
    {
     "data": {
      "text/plain": [
       "['foo', 'bar', 'ham']"
      ]
     },
     "execution_count": 22,
     "metadata": {},
     "output_type": "execute_result"
    }
   ],
   "source": [
    "df = pl.DataFrame(\n",
    "    {\n",
    "        \"foo\": [1, 2, 3],\n",
    "        \"bar\": [6, 7, 8],\n",
    "        \"ham\": [\"a\", \"b\", \"c\"],\n",
    "    }\n",
    ")\n",
    "df.columns"
   ]
  },
  {
   "cell_type": "code",
   "execution_count": 23,
   "id": "4ed0e7f4-f010-404a-ab46-06efeb499e69",
   "metadata": {},
   "outputs": [
    {
     "data": {
      "text/html": [
       "<div><style>\n",
       ".dataframe > thead > tr,\n",
       ".dataframe > tbody > tr {\n",
       "  text-align: right;\n",
       "  white-space: pre-wrap;\n",
       "}\n",
       "</style>\n",
       "<small>shape: (3, 3)</small><table border=\"1\" class=\"dataframe\"><thead><tr><th>apple</th><th>banana</th><th>orange</th></tr><tr><td>i64</td><td>i64</td><td>str</td></tr></thead><tbody><tr><td>1</td><td>6</td><td>&quot;a&quot;</td></tr><tr><td>2</td><td>7</td><td>&quot;b&quot;</td></tr><tr><td>3</td><td>8</td><td>&quot;c&quot;</td></tr></tbody></table></div>"
      ],
      "text/plain": [
       "shape: (3, 3)\n",
       "┌───────┬────────┬────────┐\n",
       "│ apple ┆ banana ┆ orange │\n",
       "│ ---   ┆ ---    ┆ ---    │\n",
       "│ i64   ┆ i64    ┆ str    │\n",
       "╞═══════╪════════╪════════╡\n",
       "│ 1     ┆ 6      ┆ a      │\n",
       "│ 2     ┆ 7      ┆ b      │\n",
       "│ 3     ┆ 8      ┆ c      │\n",
       "└───────┴────────┴────────┘"
      ]
     },
     "execution_count": 23,
     "metadata": {},
     "output_type": "execute_result"
    }
   ],
   "source": [
    "df.columns = [\"apple\", \"banana\", \"orange\"]\n",
    "df"
   ]
  },
  {
   "cell_type": "markdown",
   "id": "98085370-4ce1-4eeb-a224-faae28c14ead",
   "metadata": {},
   "source": [
    "## corr"
   ]
  },
  {
   "cell_type": "code",
   "execution_count": 24,
   "id": "09339b60-1cea-4e34-9071-7b804a3b555d",
   "metadata": {},
   "outputs": [
    {
     "data": {
      "text/html": [
       "<div><style>\n",
       ".dataframe > thead > tr,\n",
       ".dataframe > tbody > tr {\n",
       "  text-align: right;\n",
       "  white-space: pre-wrap;\n",
       "}\n",
       "</style>\n",
       "<small>shape: (3, 3)</small><table border=\"1\" class=\"dataframe\"><thead><tr><th>foo</th><th>bar</th><th>ham</th></tr><tr><td>f64</td><td>f64</td><td>f64</td></tr></thead><tbody><tr><td>1.0</td><td>-1.0</td><td>1.0</td></tr><tr><td>-1.0</td><td>1.0</td><td>-1.0</td></tr><tr><td>1.0</td><td>-1.0</td><td>1.0</td></tr></tbody></table></div>"
      ],
      "text/plain": [
       "shape: (3, 3)\n",
       "┌──────┬──────┬──────┐\n",
       "│ foo  ┆ bar  ┆ ham  │\n",
       "│ ---  ┆ ---  ┆ ---  │\n",
       "│ f64  ┆ f64  ┆ f64  │\n",
       "╞══════╪══════╪══════╡\n",
       "│ 1.0  ┆ -1.0 ┆ 1.0  │\n",
       "│ -1.0 ┆ 1.0  ┆ -1.0 │\n",
       "│ 1.0  ┆ -1.0 ┆ 1.0  │\n",
       "└──────┴──────┴──────┘"
      ]
     },
     "execution_count": 24,
     "metadata": {},
     "output_type": "execute_result"
    }
   ],
   "source": [
    "df = pl.DataFrame({\"foo\": [1, 2, 3], \"bar\": [3, 2, 1], \"ham\": [7, 8, 9]})\n",
    "df.corr()"
   ]
  },
  {
   "cell_type": "markdown",
   "id": "15f1bc61-c55c-4b0b-a07f-ed51a788acd9",
   "metadata": {},
   "source": [
    "## count"
   ]
  },
  {
   "cell_type": "code",
   "execution_count": 25,
   "id": "400782be-20dd-4404-9922-2d8ff89c8a6b",
   "metadata": {},
   "outputs": [
    {
     "data": {
      "text/html": [
       "<div><style>\n",
       ".dataframe > thead > tr,\n",
       ".dataframe > tbody > tr {\n",
       "  text-align: right;\n",
       "  white-space: pre-wrap;\n",
       "}\n",
       "</style>\n",
       "<small>shape: (1, 3)</small><table border=\"1\" class=\"dataframe\"><thead><tr><th>a</th><th>b</th><th>c</th></tr><tr><td>u32</td><td>u32</td><td>u32</td></tr></thead><tbody><tr><td>4</td><td>3</td><td>0</td></tr></tbody></table></div>"
      ],
      "text/plain": [
       "shape: (1, 3)\n",
       "┌─────┬─────┬─────┐\n",
       "│ a   ┆ b   ┆ c   │\n",
       "│ --- ┆ --- ┆ --- │\n",
       "│ u32 ┆ u32 ┆ u32 │\n",
       "╞═════╪═════╪═════╡\n",
       "│ 4   ┆ 3   ┆ 0   │\n",
       "└─────┴─────┴─────┘"
      ]
     },
     "execution_count": 25,
     "metadata": {},
     "output_type": "execute_result"
    }
   ],
   "source": [
    "df = pl.DataFrame(\n",
    "    {\"a\": [1, 2, 3, 4], \"b\": [1, 2, 1, None], \"c\": [None, None, None, None]}\n",
    ")\n",
    "df.count()"
   ]
  },
  {
   "cell_type": "markdown",
   "id": "1cce86c7-ca43-4b94-a9a1-ce8f8f16011b",
   "metadata": {},
   "source": [
    "## describe"
   ]
  },
  {
   "cell_type": "code",
   "execution_count": 26,
   "id": "89b52478-7d01-403d-b332-de164779cb75",
   "metadata": {},
   "outputs": [],
   "source": [
    "from datetime import date, time\n",
    "df = pl.DataFrame(\n",
    "    {\n",
    "        \"float\": [1.0, 2.8, 3.0],\n",
    "        \"int\": [40, 50, None],\n",
    "        \"bool\": [True, False, True],\n",
    "        \"str\": [\"zz\", \"xx\", \"yy\"],\n",
    "        \"date\": [date(2020, 1, 1), date(2021, 7, 5), date(2022, 12, 31)],\n",
    "        \"time\": [time(10, 20, 30), time(14, 45, 50), time(23, 15, 10)],\n",
    "    }\n",
    ")"
   ]
  },
  {
   "cell_type": "code",
   "execution_count": 27,
   "id": "8fc863ed-db3c-4fa0-9e09-3ffef3684c98",
   "metadata": {},
   "outputs": [
    {
     "data": {
      "text/html": [
       "<div><style>\n",
       ".dataframe > thead > tr,\n",
       ".dataframe > tbody > tr {\n",
       "  text-align: right;\n",
       "  white-space: pre-wrap;\n",
       "}\n",
       "</style>\n",
       "<small>shape: (9, 7)</small><table border=\"1\" class=\"dataframe\"><thead><tr><th>statistic</th><th>float</th><th>int</th><th>bool</th><th>str</th><th>date</th><th>time</th></tr><tr><td>str</td><td>f64</td><td>f64</td><td>f64</td><td>str</td><td>str</td><td>str</td></tr></thead><tbody><tr><td>&quot;count&quot;</td><td>3.0</td><td>2.0</td><td>3.0</td><td>&quot;3&quot;</td><td>&quot;3&quot;</td><td>&quot;3&quot;</td></tr><tr><td>&quot;null_count&quot;</td><td>0.0</td><td>1.0</td><td>0.0</td><td>&quot;0&quot;</td><td>&quot;0&quot;</td><td>&quot;0&quot;</td></tr><tr><td>&quot;mean&quot;</td><td>2.266667</td><td>45.0</td><td>0.666667</td><td>null</td><td>&quot;2021-07-02 16:00:00&quot;</td><td>&quot;16:07:10&quot;</td></tr><tr><td>&quot;std&quot;</td><td>1.101514</td><td>7.071068</td><td>null</td><td>null</td><td>null</td><td>null</td></tr><tr><td>&quot;min&quot;</td><td>1.0</td><td>40.0</td><td>0.0</td><td>&quot;xx&quot;</td><td>&quot;2020-01-01&quot;</td><td>&quot;10:20:30&quot;</td></tr><tr><td>&quot;25%&quot;</td><td>2.8</td><td>40.0</td><td>null</td><td>null</td><td>&quot;2021-07-05&quot;</td><td>&quot;14:45:50&quot;</td></tr><tr><td>&quot;50%&quot;</td><td>2.8</td><td>50.0</td><td>null</td><td>null</td><td>&quot;2021-07-05&quot;</td><td>&quot;14:45:50&quot;</td></tr><tr><td>&quot;75%&quot;</td><td>3.0</td><td>50.0</td><td>null</td><td>null</td><td>&quot;2022-12-31&quot;</td><td>&quot;23:15:10&quot;</td></tr><tr><td>&quot;max&quot;</td><td>3.0</td><td>50.0</td><td>1.0</td><td>&quot;zz&quot;</td><td>&quot;2022-12-31&quot;</td><td>&quot;23:15:10&quot;</td></tr></tbody></table></div>"
      ],
      "text/plain": [
       "shape: (9, 7)\n",
       "┌────────────┬──────────┬──────────┬──────────┬──────┬─────────────────────┬──────────┐\n",
       "│ statistic  ┆ float    ┆ int      ┆ bool     ┆ str  ┆ date                ┆ time     │\n",
       "│ ---        ┆ ---      ┆ ---      ┆ ---      ┆ ---  ┆ ---                 ┆ ---      │\n",
       "│ str        ┆ f64      ┆ f64      ┆ f64      ┆ str  ┆ str                 ┆ str      │\n",
       "╞════════════╪══════════╪══════════╪══════════╪══════╪═════════════════════╪══════════╡\n",
       "│ count      ┆ 3.0      ┆ 2.0      ┆ 3.0      ┆ 3    ┆ 3                   ┆ 3        │\n",
       "│ null_count ┆ 0.0      ┆ 1.0      ┆ 0.0      ┆ 0    ┆ 0                   ┆ 0        │\n",
       "│ mean       ┆ 2.266667 ┆ 45.0     ┆ 0.666667 ┆ null ┆ 2021-07-02 16:00:00 ┆ 16:07:10 │\n",
       "│ std        ┆ 1.101514 ┆ 7.071068 ┆ null     ┆ null ┆ null                ┆ null     │\n",
       "│ min        ┆ 1.0      ┆ 40.0     ┆ 0.0      ┆ xx   ┆ 2020-01-01          ┆ 10:20:30 │\n",
       "│ 25%        ┆ 2.8      ┆ 40.0     ┆ null     ┆ null ┆ 2021-07-05          ┆ 14:45:50 │\n",
       "│ 50%        ┆ 2.8      ┆ 50.0     ┆ null     ┆ null ┆ 2021-07-05          ┆ 14:45:50 │\n",
       "│ 75%        ┆ 3.0      ┆ 50.0     ┆ null     ┆ null ┆ 2022-12-31          ┆ 23:15:10 │\n",
       "│ max        ┆ 3.0      ┆ 50.0     ┆ 1.0      ┆ zz   ┆ 2022-12-31          ┆ 23:15:10 │\n",
       "└────────────┴──────────┴──────────┴──────────┴──────┴─────────────────────┴──────────┘"
      ]
     },
     "execution_count": 27,
     "metadata": {},
     "output_type": "execute_result"
    }
   ],
   "source": [
    "df.describe()"
   ]
  },
  {
   "cell_type": "code",
   "execution_count": 28,
   "id": "c7570624-34c2-44ad-81ba-ed02f91bf06e",
   "metadata": {},
   "outputs": [
    {
     "name": "stdout",
     "output_type": "stream",
     "text": [
      "shape: (11, 7)\n",
      "┌────────────┬──────────┬──────────┬──────────┬──────┬─────────────────────┬──────────┐\n",
      "│ statistic  ┆ float    ┆ int      ┆ bool     ┆ str  ┆ date                ┆ time     │\n",
      "│ ---        ┆ ---      ┆ ---      ┆ ---      ┆ ---  ┆ ---                 ┆ ---      │\n",
      "│ str        ┆ f64      ┆ f64      ┆ f64      ┆ str  ┆ str                 ┆ str      │\n",
      "╞════════════╪══════════╪══════════╪══════════╪══════╪═════════════════════╪══════════╡\n",
      "│ count      ┆ 3.0      ┆ 2.0      ┆ 3.0      ┆ 3    ┆ 3                   ┆ 3        │\n",
      "│ null_count ┆ 0.0      ┆ 1.0      ┆ 0.0      ┆ 0    ┆ 0                   ┆ 0        │\n",
      "│ mean       ┆ 2.266667 ┆ 45.0     ┆ 0.666667 ┆ null ┆ 2021-07-02 16:00:00 ┆ 16:07:10 │\n",
      "│ std        ┆ 1.101514 ┆ 7.071068 ┆ null     ┆ null ┆ null                ┆ null     │\n",
      "│ min        ┆ 1.0      ┆ 40.0     ┆ 0.0      ┆ xx   ┆ 2020-01-01          ┆ 10:20:30 │\n",
      "│ 10%        ┆ 1.36     ┆ 41.0     ┆ null     ┆ null ┆ 2020-04-20          ┆ 11:13:34 │\n",
      "│ 30%        ┆ 2.08     ┆ 43.0     ┆ null     ┆ null ┆ 2020-11-26          ┆ 12:59:42 │\n",
      "│ 50%        ┆ 2.8      ┆ 45.0     ┆ null     ┆ null ┆ 2021-07-05          ┆ 14:45:50 │\n",
      "│ 70%        ┆ 2.88     ┆ 47.0     ┆ null     ┆ null ┆ 2022-02-07          ┆ 18:09:34 │\n",
      "│ 90%        ┆ 2.96     ┆ 49.0     ┆ null     ┆ null ┆ 2022-09-13          ┆ 21:33:18 │\n",
      "│ max        ┆ 3.0      ┆ 50.0     ┆ 1.0      ┆ zz   ┆ 2022-12-31          ┆ 23:15:10 │\n",
      "└────────────┴──────────┴──────────┴──────────┴──────┴─────────────────────┴──────────┘\n"
     ]
    }
   ],
   "source": [
    "with pl.Config(tbl_rows=12):\n",
    "    print(df.describe(\n",
    "        percentiles=[0.1, 0.3, 0.5, 0.7, 0.9],\n",
    "        interpolation=\"linear\",\n",
    "    ))\n"
   ]
  },
  {
   "cell_type": "markdown",
   "id": "69e09cd4-be68-4c33-80a8-9df967fc6c98",
   "metadata": {},
   "source": [
    "## drop"
   ]
  },
  {
   "cell_type": "code",
   "execution_count": 29,
   "id": "95ca2d7f-de67-4547-9544-a7cccfd05894",
   "metadata": {},
   "outputs": [
    {
     "data": {
      "text/html": [
       "<div><style>\n",
       ".dataframe > thead > tr,\n",
       ".dataframe > tbody > tr {\n",
       "  text-align: right;\n",
       "  white-space: pre-wrap;\n",
       "}\n",
       "</style>\n",
       "<small>shape: (3, 2)</small><table border=\"1\" class=\"dataframe\"><thead><tr><th>foo</th><th>bar</th></tr><tr><td>i64</td><td>f64</td></tr></thead><tbody><tr><td>1</td><td>6.0</td></tr><tr><td>2</td><td>7.0</td></tr><tr><td>3</td><td>8.0</td></tr></tbody></table></div>"
      ],
      "text/plain": [
       "shape: (3, 2)\n",
       "┌─────┬─────┐\n",
       "│ foo ┆ bar │\n",
       "│ --- ┆ --- │\n",
       "│ i64 ┆ f64 │\n",
       "╞═════╪═════╡\n",
       "│ 1   ┆ 6.0 │\n",
       "│ 2   ┆ 7.0 │\n",
       "│ 3   ┆ 8.0 │\n",
       "└─────┴─────┘"
      ]
     },
     "execution_count": 29,
     "metadata": {},
     "output_type": "execute_result"
    }
   ],
   "source": [
    "df = pl.DataFrame(\n",
    "    {\n",
    "        \"foo\": [1, 2, 3],\n",
    "        \"bar\": [6.0, 7.0, 8.0],\n",
    "        \"ham\": [\"a\", \"b\", \"c\"],\n",
    "    }\n",
    ")\n",
    "df.drop(\"ham\")"
   ]
  },
  {
   "cell_type": "code",
   "execution_count": 30,
   "id": "b52f981f-0f50-4bd6-80d9-adca76739c6a",
   "metadata": {},
   "outputs": [
    {
     "data": {
      "text/html": [
       "<div><style>\n",
       ".dataframe > thead > tr,\n",
       ".dataframe > tbody > tr {\n",
       "  text-align: right;\n",
       "  white-space: pre-wrap;\n",
       "}\n",
       "</style>\n",
       "<small>shape: (3, 1)</small><table border=\"1\" class=\"dataframe\"><thead><tr><th>foo</th></tr><tr><td>i64</td></tr></thead><tbody><tr><td>1</td></tr><tr><td>2</td></tr><tr><td>3</td></tr></tbody></table></div>"
      ],
      "text/plain": [
       "shape: (3, 1)\n",
       "┌─────┐\n",
       "│ foo │\n",
       "│ --- │\n",
       "│ i64 │\n",
       "╞═════╡\n",
       "│ 1   │\n",
       "│ 2   │\n",
       "│ 3   │\n",
       "└─────┘"
      ]
     },
     "execution_count": 30,
     "metadata": {},
     "output_type": "execute_result"
    }
   ],
   "source": [
    "df.drop([\"bar\", \"ham\"])"
   ]
  },
  {
   "cell_type": "code",
   "execution_count": 31,
   "id": "5dbe494a-b8ce-403a-8973-205bd714663c",
   "metadata": {},
   "outputs": [
    {
     "data": {
      "text/html": [
       "<div><style>\n",
       ".dataframe > thead > tr,\n",
       ".dataframe > tbody > tr {\n",
       "  text-align: right;\n",
       "  white-space: pre-wrap;\n",
       "}\n",
       "</style>\n",
       "<small>shape: (3, 1)</small><table border=\"1\" class=\"dataframe\"><thead><tr><th>ham</th></tr><tr><td>str</td></tr></thead><tbody><tr><td>&quot;a&quot;</td></tr><tr><td>&quot;b&quot;</td></tr><tr><td>&quot;c&quot;</td></tr></tbody></table></div>"
      ],
      "text/plain": [
       "shape: (3, 1)\n",
       "┌─────┐\n",
       "│ ham │\n",
       "│ --- │\n",
       "│ str │\n",
       "╞═════╡\n",
       "│ a   │\n",
       "│ b   │\n",
       "│ c   │\n",
       "└─────┘"
      ]
     },
     "execution_count": 31,
     "metadata": {},
     "output_type": "execute_result"
    }
   ],
   "source": [
    "import polars.selectors as cs\n",
    "df.drop(cs.numeric())"
   ]
  },
  {
   "cell_type": "code",
   "execution_count": 32,
   "id": "62959e1c-caa5-487e-9a19-4f495fd90fc4",
   "metadata": {},
   "outputs": [
    {
     "data": {
      "text/html": [
       "<div><style>\n",
       ".dataframe > thead > tr,\n",
       ".dataframe > tbody > tr {\n",
       "  text-align: right;\n",
       "  white-space: pre-wrap;\n",
       "}\n",
       "</style>\n",
       "<small>shape: (3, 1)</small><table border=\"1\" class=\"dataframe\"><thead><tr><th>bar</th></tr><tr><td>f64</td></tr></thead><tbody><tr><td>6.0</td></tr><tr><td>7.0</td></tr><tr><td>8.0</td></tr></tbody></table></div>"
      ],
      "text/plain": [
       "shape: (3, 1)\n",
       "┌─────┐\n",
       "│ bar │\n",
       "│ --- │\n",
       "│ f64 │\n",
       "╞═════╡\n",
       "│ 6.0 │\n",
       "│ 7.0 │\n",
       "│ 8.0 │\n",
       "└─────┘"
      ]
     },
     "execution_count": 32,
     "metadata": {},
     "output_type": "execute_result"
    }
   ],
   "source": [
    "df.drop(\"foo\", \"ham\")"
   ]
  },
  {
   "cell_type": "markdown",
   "id": "0d3cf7ce-cc75-4389-822a-78f06523f2b0",
   "metadata": {},
   "source": [
    "## drop_in_place"
   ]
  },
  {
   "cell_type": "code",
   "execution_count": 33,
   "id": "f27abffa-58c3-4f88-93fb-23ec6e65ce9f",
   "metadata": {},
   "outputs": [
    {
     "data": {
      "text/html": [
       "<div><style>\n",
       ".dataframe > thead > tr,\n",
       ".dataframe > tbody > tr {\n",
       "  text-align: right;\n",
       "  white-space: pre-wrap;\n",
       "}\n",
       "</style>\n",
       "<small>shape: (3,)</small><table border=\"1\" class=\"dataframe\"><thead><tr><th>ham</th></tr><tr><td>str</td></tr></thead><tbody><tr><td>&quot;a&quot;</td></tr><tr><td>&quot;b&quot;</td></tr><tr><td>&quot;c&quot;</td></tr></tbody></table></div>"
      ],
      "text/plain": [
       "shape: (3,)\n",
       "Series: 'ham' [str]\n",
       "[\n",
       "\t\"a\"\n",
       "\t\"b\"\n",
       "\t\"c\"\n",
       "]"
      ]
     },
     "execution_count": 33,
     "metadata": {},
     "output_type": "execute_result"
    }
   ],
   "source": [
    "df = pl.DataFrame(\n",
    "    {\n",
    "        \"foo\": [1, 2, 3],\n",
    "        \"bar\": [6, 7, 8],\n",
    "        \"ham\": [\"a\", \"b\", \"c\"],\n",
    "    }\n",
    ")\n",
    "df.drop_in_place(\"ham\")"
   ]
  },
  {
   "cell_type": "code",
   "execution_count": 34,
   "id": "0f2baf7c-67d0-4933-9da9-fc1152a2141c",
   "metadata": {},
   "outputs": [
    {
     "data": {
      "text/html": [
       "<div><style>\n",
       ".dataframe > thead > tr,\n",
       ".dataframe > tbody > tr {\n",
       "  text-align: right;\n",
       "  white-space: pre-wrap;\n",
       "}\n",
       "</style>\n",
       "<small>shape: (3, 2)</small><table border=\"1\" class=\"dataframe\"><thead><tr><th>foo</th><th>bar</th></tr><tr><td>i64</td><td>i64</td></tr></thead><tbody><tr><td>1</td><td>6</td></tr><tr><td>2</td><td>7</td></tr><tr><td>3</td><td>8</td></tr></tbody></table></div>"
      ],
      "text/plain": [
       "shape: (3, 2)\n",
       "┌─────┬─────┐\n",
       "│ foo ┆ bar │\n",
       "│ --- ┆ --- │\n",
       "│ i64 ┆ i64 │\n",
       "╞═════╪═════╡\n",
       "│ 1   ┆ 6   │\n",
       "│ 2   ┆ 7   │\n",
       "│ 3   ┆ 8   │\n",
       "└─────┴─────┘"
      ]
     },
     "execution_count": 34,
     "metadata": {},
     "output_type": "execute_result"
    }
   ],
   "source": [
    "df"
   ]
  },
  {
   "cell_type": "markdown",
   "id": "47b326b3-96b1-4e40-8e82-d9f1d31e9c6e",
   "metadata": {},
   "source": [
    "## drop_nulls"
   ]
  },
  {
   "cell_type": "code",
   "execution_count": 35,
   "id": "eb5789b0-5dcf-4d5a-884c-708ecf666e9a",
   "metadata": {},
   "outputs": [],
   "source": [
    "df = pl.DataFrame(\n",
    "    {\n",
    "        \"foo\": [1, 2, 3],\n",
    "        \"bar\": [6, None, 8],\n",
    "        \"ham\": [\"a\", \"b\", None],\n",
    "    }\n",
    ")"
   ]
  },
  {
   "cell_type": "code",
   "execution_count": 36,
   "id": "67e36179-86a2-42fe-8c87-ad7ec04a0b0a",
   "metadata": {},
   "outputs": [
    {
     "data": {
      "text/html": [
       "<div><style>\n",
       ".dataframe > thead > tr,\n",
       ".dataframe > tbody > tr {\n",
       "  text-align: right;\n",
       "  white-space: pre-wrap;\n",
       "}\n",
       "</style>\n",
       "<small>shape: (1, 3)</small><table border=\"1\" class=\"dataframe\"><thead><tr><th>foo</th><th>bar</th><th>ham</th></tr><tr><td>i64</td><td>i64</td><td>str</td></tr></thead><tbody><tr><td>1</td><td>6</td><td>&quot;a&quot;</td></tr></tbody></table></div>"
      ],
      "text/plain": [
       "shape: (1, 3)\n",
       "┌─────┬─────┬─────┐\n",
       "│ foo ┆ bar ┆ ham │\n",
       "│ --- ┆ --- ┆ --- │\n",
       "│ i64 ┆ i64 ┆ str │\n",
       "╞═════╪═════╪═════╡\n",
       "│ 1   ┆ 6   ┆ a   │\n",
       "└─────┴─────┴─────┘"
      ]
     },
     "execution_count": 36,
     "metadata": {},
     "output_type": "execute_result"
    }
   ],
   "source": [
    "df.drop_nulls()"
   ]
  },
  {
   "cell_type": "code",
   "execution_count": 37,
   "id": "eb8fc5a5-fc54-4563-ac29-7c32454d6ad0",
   "metadata": {},
   "outputs": [
    {
     "data": {
      "text/html": [
       "<div><style>\n",
       ".dataframe > thead > tr,\n",
       ".dataframe > tbody > tr {\n",
       "  text-align: right;\n",
       "  white-space: pre-wrap;\n",
       "}\n",
       "</style>\n",
       "<small>shape: (2, 3)</small><table border=\"1\" class=\"dataframe\"><thead><tr><th>foo</th><th>bar</th><th>ham</th></tr><tr><td>i64</td><td>i64</td><td>str</td></tr></thead><tbody><tr><td>1</td><td>6</td><td>&quot;a&quot;</td></tr><tr><td>3</td><td>8</td><td>null</td></tr></tbody></table></div>"
      ],
      "text/plain": [
       "shape: (2, 3)\n",
       "┌─────┬─────┬──────┐\n",
       "│ foo ┆ bar ┆ ham  │\n",
       "│ --- ┆ --- ┆ ---  │\n",
       "│ i64 ┆ i64 ┆ str  │\n",
       "╞═════╪═════╪══════╡\n",
       "│ 1   ┆ 6   ┆ a    │\n",
       "│ 3   ┆ 8   ┆ null │\n",
       "└─────┴─────┴──────┘"
      ]
     },
     "execution_count": 37,
     "metadata": {},
     "output_type": "execute_result"
    }
   ],
   "source": [
    "import polars.selectors as cs\n",
    "df.drop_nulls(subset=cs.integer())"
   ]
  },
  {
   "cell_type": "code",
   "execution_count": 38,
   "id": "ab9e1546-94c8-43b7-8da2-7c63952c4d21",
   "metadata": {},
   "outputs": [
    {
     "data": {
      "text/html": [
       "<div><style>\n",
       ".dataframe > thead > tr,\n",
       ".dataframe > tbody > tr {\n",
       "  text-align: right;\n",
       "  white-space: pre-wrap;\n",
       "}\n",
       "</style>\n",
       "<small>shape: (4, 3)</small><table border=\"1\" class=\"dataframe\"><thead><tr><th>a</th><th>b</th><th>c</th></tr><tr><td>null</td><td>i64</td><td>i64</td></tr></thead><tbody><tr><td>null</td><td>1</td><td>1</td></tr><tr><td>null</td><td>2</td><td>null</td></tr><tr><td>null</td><td>null</td><td>null</td></tr><tr><td>null</td><td>1</td><td>1</td></tr></tbody></table></div>"
      ],
      "text/plain": [
       "shape: (4, 3)\n",
       "┌──────┬──────┬──────┐\n",
       "│ a    ┆ b    ┆ c    │\n",
       "│ ---  ┆ ---  ┆ ---  │\n",
       "│ null ┆ i64  ┆ i64  │\n",
       "╞══════╪══════╪══════╡\n",
       "│ null ┆ 1    ┆ 1    │\n",
       "│ null ┆ 2    ┆ null │\n",
       "│ null ┆ null ┆ null │\n",
       "│ null ┆ 1    ┆ 1    │\n",
       "└──────┴──────┴──────┘"
      ]
     },
     "execution_count": 38,
     "metadata": {},
     "output_type": "execute_result"
    }
   ],
   "source": [
    "df = pl.DataFrame(\n",
    "    {\n",
    "        \"a\": [None, None, None, None],\n",
    "        \"b\": [1, 2, None, 1],\n",
    "        \"c\": [1, None, None, 1],\n",
    "    }\n",
    ")\n",
    "df"
   ]
  },
  {
   "cell_type": "code",
   "execution_count": 39,
   "id": "1a3741f6-eda2-4d03-956c-649e597d2483",
   "metadata": {},
   "outputs": [
    {
     "data": {
      "text/html": [
       "<div><style>\n",
       ".dataframe > thead > tr,\n",
       ".dataframe > tbody > tr {\n",
       "  text-align: right;\n",
       "  white-space: pre-wrap;\n",
       "}\n",
       "</style>\n",
       "<small>shape: (3, 3)</small><table border=\"1\" class=\"dataframe\"><thead><tr><th>a</th><th>b</th><th>c</th></tr><tr><td>null</td><td>i64</td><td>i64</td></tr></thead><tbody><tr><td>null</td><td>1</td><td>1</td></tr><tr><td>null</td><td>2</td><td>null</td></tr><tr><td>null</td><td>1</td><td>1</td></tr></tbody></table></div>"
      ],
      "text/plain": [
       "shape: (3, 3)\n",
       "┌──────┬─────┬──────┐\n",
       "│ a    ┆ b   ┆ c    │\n",
       "│ ---  ┆ --- ┆ ---  │\n",
       "│ null ┆ i64 ┆ i64  │\n",
       "╞══════╪═════╪══════╡\n",
       "│ null ┆ 1   ┆ 1    │\n",
       "│ null ┆ 2   ┆ null │\n",
       "│ null ┆ 1   ┆ 1    │\n",
       "└──────┴─────┴──────┘"
      ]
     },
     "execution_count": 39,
     "metadata": {},
     "output_type": "execute_result"
    }
   ],
   "source": [
    "df.filter(~pl.all_horizontal(pl.all().is_null()))"
   ]
  },
  {
   "cell_type": "code",
   "execution_count": 40,
   "id": "fd712b5c-b2ee-4b14-8ed0-ede53bd7b55a",
   "metadata": {},
   "outputs": [
    {
     "data": {
      "text/html": [
       "<div><style>\n",
       ".dataframe > thead > tr,\n",
       ".dataframe > tbody > tr {\n",
       "  text-align: right;\n",
       "  white-space: pre-wrap;\n",
       "}\n",
       "</style>\n",
       "<small>shape: (4, 2)</small><table border=\"1\" class=\"dataframe\"><thead><tr><th>b</th><th>c</th></tr><tr><td>i64</td><td>i64</td></tr></thead><tbody><tr><td>1</td><td>1</td></tr><tr><td>2</td><td>null</td></tr><tr><td>null</td><td>null</td></tr><tr><td>1</td><td>1</td></tr></tbody></table></div>"
      ],
      "text/plain": [
       "shape: (4, 2)\n",
       "┌──────┬──────┐\n",
       "│ b    ┆ c    │\n",
       "│ ---  ┆ ---  │\n",
       "│ i64  ┆ i64  │\n",
       "╞══════╪══════╡\n",
       "│ 1    ┆ 1    │\n",
       "│ 2    ┆ null │\n",
       "│ null ┆ null │\n",
       "│ 1    ┆ 1    │\n",
       "└──────┴──────┘"
      ]
     },
     "execution_count": 40,
     "metadata": {},
     "output_type": "execute_result"
    }
   ],
   "source": [
    "df[[s.name for s in df if not (s.null_count() == df.height)]]"
   ]
  },
  {
   "cell_type": "markdown",
   "id": "29124cfb-20bc-417d-91b9-a262465a2f12",
   "metadata": {},
   "source": [
    "## dtypes"
   ]
  },
  {
   "cell_type": "code",
   "execution_count": 41,
   "id": "51506045-6f19-48e8-96a7-f392d25ffcc2",
   "metadata": {},
   "outputs": [
    {
     "data": {
      "text/plain": [
       "[Int64, Float64, String]"
      ]
     },
     "execution_count": 41,
     "metadata": {},
     "output_type": "execute_result"
    }
   ],
   "source": [
    "df = pl.DataFrame(\n",
    "    {\n",
    "        \"foo\": [1, 2, 3],\n",
    "        \"bar\": [6.0, 7.0, 8.0],\n",
    "        \"ham\": [\"a\", \"b\", \"c\"],\n",
    "    }\n",
    ")\n",
    "df.dtypes"
   ]
  },
  {
   "cell_type": "markdown",
   "id": "dd38b16c-8990-43ea-9e83-8b9ccfae7867",
   "metadata": {},
   "source": [
    "## equals"
   ]
  },
  {
   "cell_type": "code",
   "execution_count": 42,
   "id": "c3fd3537-2fad-40ae-aea4-fc4c184b7c75",
   "metadata": {},
   "outputs": [
    {
     "name": "stdout",
     "output_type": "stream",
     "text": [
      "True\n",
      "False\n"
     ]
    }
   ],
   "source": [
    "df1 = pl.DataFrame(\n",
    "    {\n",
    "        \"foo\": [1, 2, 3],\n",
    "        \"bar\": [6.0, 7.0, 8.0],\n",
    "        \"ham\": [\"a\", \"b\", \"c\"],\n",
    "    }\n",
    ")\n",
    "df2 = pl.DataFrame(\n",
    "    {\n",
    "        \"foo\": [3, 2, 1],\n",
    "        \"bar\": [8.0, 7.0, 6.0],\n",
    "        \"ham\": [\"c\", \"b\", \"a\"],\n",
    "    }\n",
    ")\n",
    "print(df1.equals(df1))\n",
    "print(df1.equals(df2))"
   ]
  },
  {
   "cell_type": "markdown",
   "id": "54c5b776-7833-4474-9236-c450478de12f",
   "metadata": {},
   "source": [
    "## estimated_size"
   ]
  },
  {
   "cell_type": "code",
   "execution_count": 43,
   "id": "ac148f62-b382-4b2b-b70e-adf20d62a922",
   "metadata": {},
   "outputs": [
    {
     "data": {
      "text/plain": [
       "17888890"
      ]
     },
     "execution_count": 43,
     "metadata": {},
     "output_type": "execute_result"
    }
   ],
   "source": [
    "df = pl.DataFrame(\n",
    "    {\n",
    "        \"x\": list(reversed(range(1_000_000))),\n",
    "        \"y\": [v / 1000 for v in range(1_000_000)],\n",
    "        \"z\": [str(v) for v in range(1_000_000)],\n",
    "    },\n",
    "    schema=[(\"x\", pl.UInt32), (\"y\", pl.Float64), (\"z\", pl.String)],\n",
    ")\n",
    "df.estimated_size()"
   ]
  },
  {
   "cell_type": "code",
   "execution_count": 44,
   "id": "ffaa175a-2421-4b1f-a8df-308f1eca685b",
   "metadata": {},
   "outputs": [
    {
     "data": {
      "text/plain": [
       "17.0601749420166"
      ]
     },
     "execution_count": 44,
     "metadata": {},
     "output_type": "execute_result"
    }
   ],
   "source": [
    "df.estimated_size(\"mb\")"
   ]
  },
  {
   "cell_type": "code",
   "execution_count": 45,
   "id": "7ea6cf96-1945-4ddc-b894-0254f9ff0f1f",
   "metadata": {},
   "outputs": [
    {
     "data": {
      "text/plain": [
       "17469.619140625"
      ]
     },
     "execution_count": 45,
     "metadata": {},
     "output_type": "execute_result"
    }
   ],
   "source": [
    "df.estimated_size(\"kb\")"
   ]
  },
  {
   "cell_type": "code",
   "execution_count": 46,
   "id": "f7323c2d-2c7c-4ca1-8770-93f0b3626e10",
   "metadata": {},
   "outputs": [
    {
     "data": {
      "text/plain": [
       "0.016660327091813087"
      ]
     },
     "execution_count": 46,
     "metadata": {},
     "output_type": "execute_result"
    }
   ],
   "source": [
    "df.estimated_size(\"gb\")"
   ]
  },
  {
   "cell_type": "code",
   "execution_count": 47,
   "id": "dd12e1a8-a867-4866-b563-70c84c50752a",
   "metadata": {},
   "outputs": [
    {
     "data": {
      "text/plain": [
       "1.6269850675598718e-05"
      ]
     },
     "execution_count": 47,
     "metadata": {},
     "output_type": "execute_result"
    }
   ],
   "source": [
    "df.estimated_size(\"tb\")"
   ]
  },
  {
   "cell_type": "code",
   "execution_count": 48,
   "id": "ebb2d908-a263-40e7-b8ae-faf6911a4d85",
   "metadata": {},
   "outputs": [
    {
     "data": {
      "text/plain": [
       "float"
      ]
     },
     "execution_count": 48,
     "metadata": {},
     "output_type": "execute_result"
    }
   ],
   "source": [
    "type(df.estimated_size(\"mb\"))"
   ]
  },
  {
   "cell_type": "markdown",
   "id": "a954e671-bc2c-4591-9c05-90d757a14661",
   "metadata": {},
   "source": [
    "## explode"
   ]
  },
  {
   "cell_type": "code",
   "execution_count": 49,
   "id": "21c5a3dd-6ba1-43f1-8ffb-92281f0a7288",
   "metadata": {},
   "outputs": [
    {
     "data": {
      "text/html": [
       "<div><style>\n",
       ".dataframe > thead > tr,\n",
       ".dataframe > tbody > tr {\n",
       "  text-align: right;\n",
       "  white-space: pre-wrap;\n",
       "}\n",
       "</style>\n",
       "<small>shape: (4, 2)</small><table border=\"1\" class=\"dataframe\"><thead><tr><th>letters</th><th>numbers</th></tr><tr><td>str</td><td>list[i64]</td></tr></thead><tbody><tr><td>&quot;a&quot;</td><td>[1]</td></tr><tr><td>&quot;a&quot;</td><td>[2, 3]</td></tr><tr><td>&quot;b&quot;</td><td>[4, 5]</td></tr><tr><td>&quot;c&quot;</td><td>[6, 7, 8]</td></tr></tbody></table></div>"
      ],
      "text/plain": [
       "shape: (4, 2)\n",
       "┌─────────┬───────────┐\n",
       "│ letters ┆ numbers   │\n",
       "│ ---     ┆ ---       │\n",
       "│ str     ┆ list[i64] │\n",
       "╞═════════╪═══════════╡\n",
       "│ a       ┆ [1]       │\n",
       "│ a       ┆ [2, 3]    │\n",
       "│ b       ┆ [4, 5]    │\n",
       "│ c       ┆ [6, 7, 8] │\n",
       "└─────────┴───────────┘"
      ]
     },
     "execution_count": 49,
     "metadata": {},
     "output_type": "execute_result"
    }
   ],
   "source": [
    "df = pl.DataFrame(\n",
    "    {\n",
    "        \"letters\": [\"a\", \"a\", \"b\", \"c\"],\n",
    "        \"numbers\": [[1], [2, 3], [4, 5], [6, 7, 8]],\n",
    "    }\n",
    ")\n",
    "df"
   ]
  },
  {
   "cell_type": "code",
   "execution_count": 50,
   "id": "3c76b495-765c-44a6-b033-4bdcf05dbb2f",
   "metadata": {},
   "outputs": [
    {
     "data": {
      "text/html": [
       "<div><style>\n",
       ".dataframe > thead > tr,\n",
       ".dataframe > tbody > tr {\n",
       "  text-align: right;\n",
       "  white-space: pre-wrap;\n",
       "}\n",
       "</style>\n",
       "<small>shape: (8, 2)</small><table border=\"1\" class=\"dataframe\"><thead><tr><th>letters</th><th>numbers</th></tr><tr><td>str</td><td>i64</td></tr></thead><tbody><tr><td>&quot;a&quot;</td><td>1</td></tr><tr><td>&quot;a&quot;</td><td>2</td></tr><tr><td>&quot;a&quot;</td><td>3</td></tr><tr><td>&quot;b&quot;</td><td>4</td></tr><tr><td>&quot;b&quot;</td><td>5</td></tr><tr><td>&quot;c&quot;</td><td>6</td></tr><tr><td>&quot;c&quot;</td><td>7</td></tr><tr><td>&quot;c&quot;</td><td>8</td></tr></tbody></table></div>"
      ],
      "text/plain": [
       "shape: (8, 2)\n",
       "┌─────────┬─────────┐\n",
       "│ letters ┆ numbers │\n",
       "│ ---     ┆ ---     │\n",
       "│ str     ┆ i64     │\n",
       "╞═════════╪═════════╡\n",
       "│ a       ┆ 1       │\n",
       "│ a       ┆ 2       │\n",
       "│ a       ┆ 3       │\n",
       "│ b       ┆ 4       │\n",
       "│ b       ┆ 5       │\n",
       "│ c       ┆ 6       │\n",
       "│ c       ┆ 7       │\n",
       "│ c       ┆ 8       │\n",
       "└─────────┴─────────┘"
      ]
     },
     "execution_count": 50,
     "metadata": {},
     "output_type": "execute_result"
    }
   ],
   "source": [
    "df.explode(\"numbers\")"
   ]
  },
  {
   "cell_type": "markdown",
   "id": "5e4797d1-8a8b-4477-ace8-f8ca275bd24e",
   "metadata": {},
   "source": [
    "## extend"
   ]
  },
  {
   "cell_type": "code",
   "execution_count": 51,
   "id": "e81d6d1d-5bd4-4567-b8b4-378c4dc8f157",
   "metadata": {},
   "outputs": [
    {
     "data": {
      "text/html": [
       "<div><style>\n",
       ".dataframe > thead > tr,\n",
       ".dataframe > tbody > tr {\n",
       "  text-align: right;\n",
       "  white-space: pre-wrap;\n",
       "}\n",
       "</style>\n",
       "<small>shape: (6, 2)</small><table border=\"1\" class=\"dataframe\"><thead><tr><th>foo</th><th>bar</th></tr><tr><td>i64</td><td>i64</td></tr></thead><tbody><tr><td>1</td><td>4</td></tr><tr><td>2</td><td>5</td></tr><tr><td>3</td><td>6</td></tr><tr><td>10</td><td>40</td></tr><tr><td>20</td><td>50</td></tr><tr><td>30</td><td>60</td></tr></tbody></table></div>"
      ],
      "text/plain": [
       "shape: (6, 2)\n",
       "┌─────┬─────┐\n",
       "│ foo ┆ bar │\n",
       "│ --- ┆ --- │\n",
       "│ i64 ┆ i64 │\n",
       "╞═════╪═════╡\n",
       "│ 1   ┆ 4   │\n",
       "│ 2   ┆ 5   │\n",
       "│ 3   ┆ 6   │\n",
       "│ 10  ┆ 40  │\n",
       "│ 20  ┆ 50  │\n",
       "│ 30  ┆ 60  │\n",
       "└─────┴─────┘"
      ]
     },
     "execution_count": 51,
     "metadata": {},
     "output_type": "execute_result"
    }
   ],
   "source": [
    "df1 = pl.DataFrame({\"foo\": [1, 2, 3], \"bar\": [4, 5, 6]})\n",
    "df2 = pl.DataFrame({\"foo\": [10, 20, 30], \"bar\": [40, 50, 60]})\n",
    "df1.extend(df2)"
   ]
  },
  {
   "cell_type": "code",
   "execution_count": 52,
   "id": "54caedae-9347-41b2-892d-0630d6168798",
   "metadata": {},
   "outputs": [
    {
     "data": {
      "text/html": [
       "<div><style>\n",
       ".dataframe > thead > tr,\n",
       ".dataframe > tbody > tr {\n",
       "  text-align: right;\n",
       "  white-space: pre-wrap;\n",
       "}\n",
       "</style>\n",
       "<small>shape: (6, 2)</small><table border=\"1\" class=\"dataframe\"><thead><tr><th>foo</th><th>bar</th></tr><tr><td>i64</td><td>i64</td></tr></thead><tbody><tr><td>1</td><td>4</td></tr><tr><td>2</td><td>5</td></tr><tr><td>3</td><td>6</td></tr><tr><td>10</td><td>40</td></tr><tr><td>20</td><td>50</td></tr><tr><td>30</td><td>60</td></tr></tbody></table></div>"
      ],
      "text/plain": [
       "shape: (6, 2)\n",
       "┌─────┬─────┐\n",
       "│ foo ┆ bar │\n",
       "│ --- ┆ --- │\n",
       "│ i64 ┆ i64 │\n",
       "╞═════╪═════╡\n",
       "│ 1   ┆ 4   │\n",
       "│ 2   ┆ 5   │\n",
       "│ 3   ┆ 6   │\n",
       "│ 10  ┆ 40  │\n",
       "│ 20  ┆ 50  │\n",
       "│ 30  ┆ 60  │\n",
       "└─────┴─────┘"
      ]
     },
     "execution_count": 52,
     "metadata": {},
     "output_type": "execute_result"
    }
   ],
   "source": [
    "df1 #lo modifica in-place"
   ]
  },
  {
   "cell_type": "markdown",
   "id": "57ce5dc7-12ef-45d1-821a-34e65a631833",
   "metadata": {},
   "source": [
    "## fill_nan"
   ]
  },
  {
   "cell_type": "code",
   "execution_count": 53,
   "id": "494d16f4-683b-44e1-9d92-fc40275752bf",
   "metadata": {},
   "outputs": [
    {
     "data": {
      "text/html": [
       "<div><style>\n",
       ".dataframe > thead > tr,\n",
       ".dataframe > tbody > tr {\n",
       "  text-align: right;\n",
       "  white-space: pre-wrap;\n",
       "}\n",
       "</style>\n",
       "<small>shape: (4, 2)</small><table border=\"1\" class=\"dataframe\"><thead><tr><th>a</th><th>b</th></tr><tr><td>f64</td><td>f64</td></tr></thead><tbody><tr><td>1.5</td><td>0.5</td></tr><tr><td>2.0</td><td>4.0</td></tr><tr><td>99.0</td><td>99.0</td></tr><tr><td>4.0</td><td>13.0</td></tr></tbody></table></div>"
      ],
      "text/plain": [
       "shape: (4, 2)\n",
       "┌──────┬──────┐\n",
       "│ a    ┆ b    │\n",
       "│ ---  ┆ ---  │\n",
       "│ f64  ┆ f64  │\n",
       "╞══════╪══════╡\n",
       "│ 1.5  ┆ 0.5  │\n",
       "│ 2.0  ┆ 4.0  │\n",
       "│ 99.0 ┆ 99.0 │\n",
       "│ 4.0  ┆ 13.0 │\n",
       "└──────┴──────┘"
      ]
     },
     "execution_count": 53,
     "metadata": {},
     "output_type": "execute_result"
    }
   ],
   "source": [
    "df = pl.DataFrame(\n",
    "    {\n",
    "        \"a\": [1.5, 2, float(\"nan\"), 4],\n",
    "        \"b\": [0.5, 4, float(\"nan\"), 13],\n",
    "    }\n",
    ")\n",
    "df.fill_nan(99)"
   ]
  },
  {
   "cell_type": "code",
   "execution_count": 54,
   "id": "43d3316c-9d43-4351-aa0f-c952285269a7",
   "metadata": {},
   "outputs": [
    {
     "data": {
      "text/html": [
       "<div><style>\n",
       ".dataframe > thead > tr,\n",
       ".dataframe > tbody > tr {\n",
       "  text-align: right;\n",
       "  white-space: pre-wrap;\n",
       "}\n",
       "</style>\n",
       "<small>shape: (4, 2)</small><table border=\"1\" class=\"dataframe\"><thead><tr><th>a</th><th>b</th></tr><tr><td>f64</td><td>f64</td></tr></thead><tbody><tr><td>1.5</td><td>0.5</td></tr><tr><td>2.0</td><td>4.0</td></tr><tr><td>null</td><td>99.0</td></tr><tr><td>4.0</td><td>13.0</td></tr></tbody></table></div>"
      ],
      "text/plain": [
       "shape: (4, 2)\n",
       "┌──────┬──────┐\n",
       "│ a    ┆ b    │\n",
       "│ ---  ┆ ---  │\n",
       "│ f64  ┆ f64  │\n",
       "╞══════╪══════╡\n",
       "│ 1.5  ┆ 0.5  │\n",
       "│ 2.0  ┆ 4.0  │\n",
       "│ null ┆ 99.0 │\n",
       "│ 4.0  ┆ 13.0 │\n",
       "└──────┴──────┘"
      ]
     },
     "execution_count": 54,
     "metadata": {},
     "output_type": "execute_result"
    }
   ],
   "source": [
    "df = pl.DataFrame(\n",
    "    {\n",
    "        \"a\": [1.5, 2, None, 4],\n",
    "        \"b\": [0.5, 4, float(\"nan\"), 13],\n",
    "    }\n",
    ")\n",
    "df.fill_nan(99) # ESTO SOLO REEMPLAZA LOS NAN NO LOS NULLS"
   ]
  },
  {
   "cell_type": "markdown",
   "id": "0320d16e-0af8-4d61-90e3-a2b90c55dc1c",
   "metadata": {},
   "source": [
    "## fill_null"
   ]
  },
  {
   "cell_type": "code",
   "execution_count": 55,
   "id": "66dff290-9ad6-4e62-870c-500d8ba3b881",
   "metadata": {},
   "outputs": [
    {
     "data": {
      "text/html": [
       "<div><style>\n",
       ".dataframe > thead > tr,\n",
       ".dataframe > tbody > tr {\n",
       "  text-align: right;\n",
       "  white-space: pre-wrap;\n",
       "}\n",
       "</style>\n",
       "<small>shape: (4, 2)</small><table border=\"1\" class=\"dataframe\"><thead><tr><th>a</th><th>b</th></tr><tr><td>i64</td><td>f64</td></tr></thead><tbody><tr><td>1</td><td>0.5</td></tr><tr><td>2</td><td>4.0</td></tr><tr><td>null</td><td>null</td></tr><tr><td>4</td><td>13.0</td></tr></tbody></table></div>"
      ],
      "text/plain": [
       "shape: (4, 2)\n",
       "┌──────┬──────┐\n",
       "│ a    ┆ b    │\n",
       "│ ---  ┆ ---  │\n",
       "│ i64  ┆ f64  │\n",
       "╞══════╪══════╡\n",
       "│ 1    ┆ 0.5  │\n",
       "│ 2    ┆ 4.0  │\n",
       "│ null ┆ null │\n",
       "│ 4    ┆ 13.0 │\n",
       "└──────┴──────┘"
      ]
     },
     "execution_count": 55,
     "metadata": {},
     "output_type": "execute_result"
    }
   ],
   "source": [
    "df = pl.DataFrame(\n",
    "    {\n",
    "        \"a\": [1, 2, None, 4],\n",
    "        \"b\": [0.5, 4, None, 13],\n",
    "    }\n",
    ")\n",
    "\n",
    "df"
   ]
  },
  {
   "cell_type": "code",
   "execution_count": 56,
   "id": "ba386dcf-6f8b-4f4f-a4a7-3bb99fb2143a",
   "metadata": {},
   "outputs": [
    {
     "data": {
      "text/html": [
       "<div><style>\n",
       ".dataframe > thead > tr,\n",
       ".dataframe > tbody > tr {\n",
       "  text-align: right;\n",
       "  white-space: pre-wrap;\n",
       "}\n",
       "</style>\n",
       "<small>shape: (4, 2)</small><table border=\"1\" class=\"dataframe\"><thead><tr><th>a</th><th>b</th></tr><tr><td>i64</td><td>f64</td></tr></thead><tbody><tr><td>1</td><td>0.5</td></tr><tr><td>2</td><td>4.0</td></tr><tr><td>99</td><td>99.0</td></tr><tr><td>4</td><td>13.0</td></tr></tbody></table></div>"
      ],
      "text/plain": [
       "shape: (4, 2)\n",
       "┌─────┬──────┐\n",
       "│ a   ┆ b    │\n",
       "│ --- ┆ ---  │\n",
       "│ i64 ┆ f64  │\n",
       "╞═════╪══════╡\n",
       "│ 1   ┆ 0.5  │\n",
       "│ 2   ┆ 4.0  │\n",
       "│ 99  ┆ 99.0 │\n",
       "│ 4   ┆ 13.0 │\n",
       "└─────┴──────┘"
      ]
     },
     "execution_count": 56,
     "metadata": {},
     "output_type": "execute_result"
    }
   ],
   "source": [
    "df.fill_null(99)"
   ]
  },
  {
   "cell_type": "code",
   "execution_count": 57,
   "id": "6cb25054-1ce8-489f-9c25-b730f75968a0",
   "metadata": {},
   "outputs": [
    {
     "data": {
      "text/html": [
       "<div><style>\n",
       ".dataframe > thead > tr,\n",
       ".dataframe > tbody > tr {\n",
       "  text-align: right;\n",
       "  white-space: pre-wrap;\n",
       "}\n",
       "</style>\n",
       "<small>shape: (4, 2)</small><table border=\"1\" class=\"dataframe\"><thead><tr><th>a</th><th>b</th></tr><tr><td>i64</td><td>f64</td></tr></thead><tbody><tr><td>1</td><td>0.5</td></tr><tr><td>2</td><td>4.0</td></tr><tr><td>2</td><td>4.0</td></tr><tr><td>4</td><td>13.0</td></tr></tbody></table></div>"
      ],
      "text/plain": [
       "shape: (4, 2)\n",
       "┌─────┬──────┐\n",
       "│ a   ┆ b    │\n",
       "│ --- ┆ ---  │\n",
       "│ i64 ┆ f64  │\n",
       "╞═════╪══════╡\n",
       "│ 1   ┆ 0.5  │\n",
       "│ 2   ┆ 4.0  │\n",
       "│ 2   ┆ 4.0  │\n",
       "│ 4   ┆ 13.0 │\n",
       "└─────┴──────┘"
      ]
     },
     "execution_count": 57,
     "metadata": {},
     "output_type": "execute_result"
    }
   ],
   "source": [
    "df.fill_null(strategy=\"forward\")"
   ]
  },
  {
   "cell_type": "code",
   "execution_count": 58,
   "id": "ff848d64-0b83-4e0b-9380-d13829c9f0f3",
   "metadata": {},
   "outputs": [
    {
     "data": {
      "text/html": [
       "<div><style>\n",
       ".dataframe > thead > tr,\n",
       ".dataframe > tbody > tr {\n",
       "  text-align: right;\n",
       "  white-space: pre-wrap;\n",
       "}\n",
       "</style>\n",
       "<small>shape: (4, 2)</small><table border=\"1\" class=\"dataframe\"><thead><tr><th>a</th><th>b</th></tr><tr><td>i64</td><td>f64</td></tr></thead><tbody><tr><td>1</td><td>0.5</td></tr><tr><td>2</td><td>4.0</td></tr><tr><td>4</td><td>13.0</td></tr><tr><td>4</td><td>13.0</td></tr></tbody></table></div>"
      ],
      "text/plain": [
       "shape: (4, 2)\n",
       "┌─────┬──────┐\n",
       "│ a   ┆ b    │\n",
       "│ --- ┆ ---  │\n",
       "│ i64 ┆ f64  │\n",
       "╞═════╪══════╡\n",
       "│ 1   ┆ 0.5  │\n",
       "│ 2   ┆ 4.0  │\n",
       "│ 4   ┆ 13.0 │\n",
       "│ 4   ┆ 13.0 │\n",
       "└─────┴──────┘"
      ]
     },
     "execution_count": 58,
     "metadata": {},
     "output_type": "execute_result"
    }
   ],
   "source": [
    "df.fill_null(strategy=\"max\")"
   ]
  },
  {
   "cell_type": "code",
   "execution_count": 59,
   "id": "dbe2f439-98ba-462f-b040-be3121310afe",
   "metadata": {},
   "outputs": [
    {
     "data": {
      "text/html": [
       "<div><style>\n",
       ".dataframe > thead > tr,\n",
       ".dataframe > tbody > tr {\n",
       "  text-align: right;\n",
       "  white-space: pre-wrap;\n",
       "}\n",
       "</style>\n",
       "<small>shape: (4, 2)</small><table border=\"1\" class=\"dataframe\"><thead><tr><th>a</th><th>b</th></tr><tr><td>i64</td><td>f64</td></tr></thead><tbody><tr><td>1</td><td>0.5</td></tr><tr><td>2</td><td>4.0</td></tr><tr><td>0</td><td>0.0</td></tr><tr><td>4</td><td>13.0</td></tr></tbody></table></div>"
      ],
      "text/plain": [
       "shape: (4, 2)\n",
       "┌─────┬──────┐\n",
       "│ a   ┆ b    │\n",
       "│ --- ┆ ---  │\n",
       "│ i64 ┆ f64  │\n",
       "╞═════╪══════╡\n",
       "│ 1   ┆ 0.5  │\n",
       "│ 2   ┆ 4.0  │\n",
       "│ 0   ┆ 0.0  │\n",
       "│ 4   ┆ 13.0 │\n",
       "└─────┴──────┘"
      ]
     },
     "execution_count": 59,
     "metadata": {},
     "output_type": "execute_result"
    }
   ],
   "source": [
    "df.fill_null(strategy=\"zero\")"
   ]
  },
  {
   "cell_type": "markdown",
   "id": "1d0e3651-b28d-4fb0-9370-ec77afb172ee",
   "metadata": {},
   "source": [
    "## filter"
   ]
  },
  {
   "cell_type": "code",
   "execution_count": 60,
   "id": "a9836835-9b9d-4bc6-a4b8-219a84f0e669",
   "metadata": {},
   "outputs": [],
   "source": [
    "df = pl.DataFrame(\n",
    "    {\n",
    "        \"foo\": [1, 2, 3, None, 4, None, 0],\n",
    "        \"bar\": [6, 7, 8, None, None, 9, 0],\n",
    "        \"ham\": [\"a\", \"b\", \"c\", None, \"d\", \"e\", \"f\"],\n",
    "    }\n",
    ")"
   ]
  },
  {
   "cell_type": "code",
   "execution_count": 61,
   "id": "a251b1e3-35a5-476f-b220-986483eff8a7",
   "metadata": {},
   "outputs": [
    {
     "data": {
      "text/html": [
       "<div><style>\n",
       ".dataframe > thead > tr,\n",
       ".dataframe > tbody > tr {\n",
       "  text-align: right;\n",
       "  white-space: pre-wrap;\n",
       "}\n",
       "</style>\n",
       "<small>shape: (7, 3)</small><table border=\"1\" class=\"dataframe\"><thead><tr><th>foo</th><th>bar</th><th>ham</th></tr><tr><td>i64</td><td>i64</td><td>str</td></tr></thead><tbody><tr><td>1</td><td>6</td><td>&quot;a&quot;</td></tr><tr><td>2</td><td>7</td><td>&quot;b&quot;</td></tr><tr><td>3</td><td>8</td><td>&quot;c&quot;</td></tr><tr><td>null</td><td>null</td><td>null</td></tr><tr><td>4</td><td>null</td><td>&quot;d&quot;</td></tr><tr><td>null</td><td>9</td><td>&quot;e&quot;</td></tr><tr><td>0</td><td>0</td><td>&quot;f&quot;</td></tr></tbody></table></div>"
      ],
      "text/plain": [
       "shape: (7, 3)\n",
       "┌──────┬──────┬──────┐\n",
       "│ foo  ┆ bar  ┆ ham  │\n",
       "│ ---  ┆ ---  ┆ ---  │\n",
       "│ i64  ┆ i64  ┆ str  │\n",
       "╞══════╪══════╪══════╡\n",
       "│ 1    ┆ 6    ┆ a    │\n",
       "│ 2    ┆ 7    ┆ b    │\n",
       "│ 3    ┆ 8    ┆ c    │\n",
       "│ null ┆ null ┆ null │\n",
       "│ 4    ┆ null ┆ d    │\n",
       "│ null ┆ 9    ┆ e    │\n",
       "│ 0    ┆ 0    ┆ f    │\n",
       "└──────┴──────┴──────┘"
      ]
     },
     "execution_count": 61,
     "metadata": {},
     "output_type": "execute_result"
    }
   ],
   "source": [
    "df"
   ]
  },
  {
   "cell_type": "code",
   "execution_count": 62,
   "id": "2f492124-156e-43f9-a5db-4acd97124cae",
   "metadata": {},
   "outputs": [
    {
     "data": {
      "text/html": [
       "<div><style>\n",
       ".dataframe > thead > tr,\n",
       ".dataframe > tbody > tr {\n",
       "  text-align: right;\n",
       "  white-space: pre-wrap;\n",
       "}\n",
       "</style>\n",
       "<small>shape: (3, 3)</small><table border=\"1\" class=\"dataframe\"><thead><tr><th>foo</th><th>bar</th><th>ham</th></tr><tr><td>i64</td><td>i64</td><td>str</td></tr></thead><tbody><tr><td>2</td><td>7</td><td>&quot;b&quot;</td></tr><tr><td>3</td><td>8</td><td>&quot;c&quot;</td></tr><tr><td>4</td><td>null</td><td>&quot;d&quot;</td></tr></tbody></table></div>"
      ],
      "text/plain": [
       "shape: (3, 3)\n",
       "┌─────┬──────┬─────┐\n",
       "│ foo ┆ bar  ┆ ham │\n",
       "│ --- ┆ ---  ┆ --- │\n",
       "│ i64 ┆ i64  ┆ str │\n",
       "╞═════╪══════╪═════╡\n",
       "│ 2   ┆ 7    ┆ b   │\n",
       "│ 3   ┆ 8    ┆ c   │\n",
       "│ 4   ┆ null ┆ d   │\n",
       "└─────┴──────┴─────┘"
      ]
     },
     "execution_count": 62,
     "metadata": {},
     "output_type": "execute_result"
    }
   ],
   "source": [
    "df.filter(pl.col(\"foo\") > 1)"
   ]
  },
  {
   "cell_type": "code",
   "execution_count": 63,
   "id": "893940bd-97d9-4d87-9aea-225d00619f2f",
   "metadata": {},
   "outputs": [
    {
     "data": {
      "text/html": [
       "<div><style>\n",
       ".dataframe > thead > tr,\n",
       ".dataframe > tbody > tr {\n",
       "  text-align: right;\n",
       "  white-space: pre-wrap;\n",
       "}\n",
       "</style>\n",
       "<small>shape: (1, 3)</small><table border=\"1\" class=\"dataframe\"><thead><tr><th>foo</th><th>bar</th><th>ham</th></tr><tr><td>i64</td><td>i64</td><td>str</td></tr></thead><tbody><tr><td>1</td><td>6</td><td>&quot;a&quot;</td></tr></tbody></table></div>"
      ],
      "text/plain": [
       "shape: (1, 3)\n",
       "┌─────┬─────┬─────┐\n",
       "│ foo ┆ bar ┆ ham │\n",
       "│ --- ┆ --- ┆ --- │\n",
       "│ i64 ┆ i64 ┆ str │\n",
       "╞═════╪═════╪═════╡\n",
       "│ 1   ┆ 6   ┆ a   │\n",
       "└─────┴─────┴─────┘"
      ]
     },
     "execution_count": 63,
     "metadata": {},
     "output_type": "execute_result"
    }
   ],
   "source": [
    "df.filter((pl.col(\"foo\") < 3) & (pl.col(\"ham\") == \"a\"))"
   ]
  },
  {
   "cell_type": "code",
   "execution_count": 64,
   "id": "f012add8-c6a8-4f5b-ae0e-a3f1c748a4cd",
   "metadata": {},
   "outputs": [
    {
     "data": {
      "text/html": [
       "<div><style>\n",
       ".dataframe > thead > tr,\n",
       ".dataframe > tbody > tr {\n",
       "  text-align: right;\n",
       "  white-space: pre-wrap;\n",
       "}\n",
       "</style>\n",
       "<small>shape: (2, 3)</small><table border=\"1\" class=\"dataframe\"><thead><tr><th>foo</th><th>bar</th><th>ham</th></tr><tr><td>i64</td><td>i64</td><td>str</td></tr></thead><tbody><tr><td>1</td><td>6</td><td>&quot;a&quot;</td></tr><tr><td>3</td><td>8</td><td>&quot;c&quot;</td></tr></tbody></table></div>"
      ],
      "text/plain": [
       "shape: (2, 3)\n",
       "┌─────┬─────┬─────┐\n",
       "│ foo ┆ bar ┆ ham │\n",
       "│ --- ┆ --- ┆ --- │\n",
       "│ i64 ┆ i64 ┆ str │\n",
       "╞═════╪═════╪═════╡\n",
       "│ 1   ┆ 6   ┆ a   │\n",
       "│ 3   ┆ 8   ┆ c   │\n",
       "└─────┴─────┴─────┘"
      ]
     },
     "execution_count": 64,
     "metadata": {},
     "output_type": "execute_result"
    }
   ],
   "source": [
    "df.filter((pl.col(\"foo\") == 1) | (pl.col(\"ham\") == \"c\"))"
   ]
  },
  {
   "cell_type": "code",
   "execution_count": 65,
   "id": "19432c14-388a-4877-9cb0-0ffa79cb9ff9",
   "metadata": {},
   "outputs": [
    {
     "data": {
      "text/html": [
       "<div><style>\n",
       ".dataframe > thead > tr,\n",
       ".dataframe > tbody > tr {\n",
       "  text-align: right;\n",
       "  white-space: pre-wrap;\n",
       "}\n",
       "</style>\n",
       "<small>shape: (2, 3)</small><table border=\"1\" class=\"dataframe\"><thead><tr><th>foo</th><th>bar</th><th>ham</th></tr><tr><td>i64</td><td>i64</td><td>str</td></tr></thead><tbody><tr><td>1</td><td>6</td><td>&quot;a&quot;</td></tr><tr><td>0</td><td>0</td><td>&quot;f&quot;</td></tr></tbody></table></div>"
      ],
      "text/plain": [
       "shape: (2, 3)\n",
       "┌─────┬─────┬─────┐\n",
       "│ foo ┆ bar ┆ ham │\n",
       "│ --- ┆ --- ┆ --- │\n",
       "│ i64 ┆ i64 ┆ str │\n",
       "╞═════╪═════╪═════╡\n",
       "│ 1   ┆ 6   ┆ a   │\n",
       "│ 0   ┆ 0   ┆ f   │\n",
       "└─────┴─────┴─────┘"
      ]
     },
     "execution_count": 65,
     "metadata": {},
     "output_type": "execute_result"
    }
   ],
   "source": [
    "df.filter(\n",
    "    pl.col(\"foo\") <= 2,\n",
    "    ~pl.col(\"ham\").is_in([\"b\", \"c\"]),\n",
    ")"
   ]
  },
  {
   "cell_type": "code",
   "execution_count": 66,
   "id": "ffb41f46-d887-416d-85e7-d5953161113d",
   "metadata": {},
   "outputs": [
    {
     "data": {
      "text/html": [
       "<div><style>\n",
       ".dataframe > thead > tr,\n",
       ".dataframe > tbody > tr {\n",
       "  text-align: right;\n",
       "  white-space: pre-wrap;\n",
       "}\n",
       "</style>\n",
       "<small>shape: (1, 3)</small><table border=\"1\" class=\"dataframe\"><thead><tr><th>foo</th><th>bar</th><th>ham</th></tr><tr><td>i64</td><td>i64</td><td>str</td></tr></thead><tbody><tr><td>2</td><td>7</td><td>&quot;b&quot;</td></tr></tbody></table></div>"
      ],
      "text/plain": [
       "shape: (1, 3)\n",
       "┌─────┬─────┬─────┐\n",
       "│ foo ┆ bar ┆ ham │\n",
       "│ --- ┆ --- ┆ --- │\n",
       "│ i64 ┆ i64 ┆ str │\n",
       "╞═════╪═════╪═════╡\n",
       "│ 2   ┆ 7   ┆ b   │\n",
       "└─────┴─────┴─────┘"
      ]
     },
     "execution_count": 66,
     "metadata": {},
     "output_type": "execute_result"
    }
   ],
   "source": [
    "df.filter(foo=2, ham=\"b\")"
   ]
  },
  {
   "cell_type": "code",
   "execution_count": 67,
   "id": "f559616c-600a-482e-99cc-bb2b6f0bb025",
   "metadata": {},
   "outputs": [
    {
     "data": {
      "text/html": [
       "<div><style>\n",
       ".dataframe > thead > tr,\n",
       ".dataframe > tbody > tr {\n",
       "  text-align: right;\n",
       "  white-space: pre-wrap;\n",
       "}\n",
       "</style>\n",
       "<small>shape: (1, 3)</small><table border=\"1\" class=\"dataframe\"><thead><tr><th>foo</th><th>bar</th><th>ham</th></tr><tr><td>i64</td><td>i64</td><td>str</td></tr></thead><tbody><tr><td>0</td><td>0</td><td>&quot;f&quot;</td></tr></tbody></table></div>"
      ],
      "text/plain": [
       "shape: (1, 3)\n",
       "┌─────┬─────┬─────┐\n",
       "│ foo ┆ bar ┆ ham │\n",
       "│ --- ┆ --- ┆ --- │\n",
       "│ i64 ┆ i64 ┆ str │\n",
       "╞═════╪═════╪═════╡\n",
       "│ 0   ┆ 0   ┆ f   │\n",
       "└─────┴─────┴─────┘"
      ]
     },
     "execution_count": 67,
     "metadata": {},
     "output_type": "execute_result"
    }
   ],
   "source": [
    "df.filter(pl.col(\"foo\") == pl.col(\"bar\"))"
   ]
  },
  {
   "cell_type": "code",
   "execution_count": 68,
   "id": "1acade37-607e-448c-9af3-72a5c4dc4072",
   "metadata": {},
   "outputs": [
    {
     "data": {
      "text/html": [
       "<div><style>\n",
       ".dataframe > thead > tr,\n",
       ".dataframe > tbody > tr {\n",
       "  text-align: right;\n",
       "  white-space: pre-wrap;\n",
       "}\n",
       "</style>\n",
       "<small>shape: (3, 3)</small><table border=\"1\" class=\"dataframe\"><thead><tr><th>foo</th><th>bar</th><th>ham</th></tr><tr><td>i64</td><td>i64</td><td>str</td></tr></thead><tbody><tr><td>1</td><td>6</td><td>&quot;a&quot;</td></tr><tr><td>2</td><td>7</td><td>&quot;b&quot;</td></tr><tr><td>3</td><td>8</td><td>&quot;c&quot;</td></tr></tbody></table></div>"
      ],
      "text/plain": [
       "shape: (3, 3)\n",
       "┌─────┬─────┬─────┐\n",
       "│ foo ┆ bar ┆ ham │\n",
       "│ --- ┆ --- ┆ --- │\n",
       "│ i64 ┆ i64 ┆ str │\n",
       "╞═════╪═════╪═════╡\n",
       "│ 1   ┆ 6   ┆ a   │\n",
       "│ 2   ┆ 7   ┆ b   │\n",
       "│ 3   ┆ 8   ┆ c   │\n",
       "└─────┴─────┴─────┘"
      ]
     },
     "execution_count": 68,
     "metadata": {},
     "output_type": "execute_result"
    }
   ],
   "source": [
    "df.filter(pl.col(\"foo\") != pl.col(\"bar\"))"
   ]
  },
  {
   "cell_type": "code",
   "execution_count": 69,
   "id": "d7386566-6514-4f93-bb26-904e1f0562c5",
   "metadata": {},
   "outputs": [
    {
     "data": {
      "text/html": [
       "<div><style>\n",
       ".dataframe > thead > tr,\n",
       ".dataframe > tbody > tr {\n",
       "  text-align: right;\n",
       "  white-space: pre-wrap;\n",
       "}\n",
       "</style>\n",
       "<small>shape: (5, 3)</small><table border=\"1\" class=\"dataframe\"><thead><tr><th>foo</th><th>bar</th><th>ham</th></tr><tr><td>i64</td><td>i64</td><td>str</td></tr></thead><tbody><tr><td>1</td><td>6</td><td>&quot;a&quot;</td></tr><tr><td>2</td><td>7</td><td>&quot;b&quot;</td></tr><tr><td>3</td><td>8</td><td>&quot;c&quot;</td></tr><tr><td>4</td><td>null</td><td>&quot;d&quot;</td></tr><tr><td>null</td><td>9</td><td>&quot;e&quot;</td></tr></tbody></table></div>"
      ],
      "text/plain": [
       "shape: (5, 3)\n",
       "┌──────┬──────┬─────┐\n",
       "│ foo  ┆ bar  ┆ ham │\n",
       "│ ---  ┆ ---  ┆ --- │\n",
       "│ i64  ┆ i64  ┆ str │\n",
       "╞══════╪══════╪═════╡\n",
       "│ 1    ┆ 6    ┆ a   │\n",
       "│ 2    ┆ 7    ┆ b   │\n",
       "│ 3    ┆ 8    ┆ c   │\n",
       "│ 4    ┆ null ┆ d   │\n",
       "│ null ┆ 9    ┆ e   │\n",
       "└──────┴──────┴─────┘"
      ]
     },
     "execution_count": 69,
     "metadata": {},
     "output_type": "execute_result"
    }
   ],
   "source": [
    "df.filter(pl.col(\"foo\").ne_missing(pl.col(\"bar\")))"
   ]
  },
  {
   "cell_type": "markdown",
   "id": "4d29d76c-cedc-4bc1-8c75-382a1348d7b9",
   "metadata": {},
   "source": [
    "## fold"
   ]
  },
  {
   "cell_type": "code",
   "execution_count": 70,
   "id": "abd4a2aa-04a6-41bd-b36b-1ddb9ae30b2d",
   "metadata": {},
   "outputs": [
    {
     "data": {
      "text/html": [
       "<div><style>\n",
       ".dataframe > thead > tr,\n",
       ".dataframe > tbody > tr {\n",
       "  text-align: right;\n",
       "  white-space: pre-wrap;\n",
       "}\n",
       "</style>\n",
       "<small>shape: (3, 3)</small><table border=\"1\" class=\"dataframe\"><thead><tr><th>a</th><th>b</th><th>c</th></tr><tr><td>i64</td><td>i64</td><td>f64</td></tr></thead><tbody><tr><td>2</td><td>1</td><td>1.0</td></tr><tr><td>1</td><td>2</td><td>2.0</td></tr><tr><td>3</td><td>3</td><td>3.0</td></tr></tbody></table></div>"
      ],
      "text/plain": [
       "shape: (3, 3)\n",
       "┌─────┬─────┬─────┐\n",
       "│ a   ┆ b   ┆ c   │\n",
       "│ --- ┆ --- ┆ --- │\n",
       "│ i64 ┆ i64 ┆ f64 │\n",
       "╞═════╪═════╪═════╡\n",
       "│ 2   ┆ 1   ┆ 1.0 │\n",
       "│ 1   ┆ 2   ┆ 2.0 │\n",
       "│ 3   ┆ 3   ┆ 3.0 │\n",
       "└─────┴─────┴─────┘"
      ]
     },
     "execution_count": 70,
     "metadata": {},
     "output_type": "execute_result"
    }
   ],
   "source": [
    "df = pl.DataFrame(\n",
    "    {\n",
    "        \"a\": [2, 1, 3],\n",
    "        \"b\": [1, 2, 3],\n",
    "        \"c\": [1.0, 2.0, 3.0],\n",
    "    }\n",
    ")\n",
    "df"
   ]
  },
  {
   "cell_type": "code",
   "execution_count": 71,
   "id": "f2d2c3e1-0096-49dd-a433-739648944e84",
   "metadata": {},
   "outputs": [
    {
     "data": {
      "text/html": [
       "<div><style>\n",
       ".dataframe > thead > tr,\n",
       ".dataframe > tbody > tr {\n",
       "  text-align: right;\n",
       "  white-space: pre-wrap;\n",
       "}\n",
       "</style>\n",
       "<small>shape: (3,)</small><table border=\"1\" class=\"dataframe\"><thead><tr><th>a</th></tr><tr><td>f64</td></tr></thead><tbody><tr><td>4.0</td></tr><tr><td>5.0</td></tr><tr><td>9.0</td></tr></tbody></table></div>"
      ],
      "text/plain": [
       "shape: (3,)\n",
       "Series: 'a' [f64]\n",
       "[\n",
       "\t4.0\n",
       "\t5.0\n",
       "\t9.0\n",
       "]"
      ]
     },
     "execution_count": 71,
     "metadata": {},
     "output_type": "execute_result"
    }
   ],
   "source": [
    "df.fold(lambda s1, s2: s1 + s2)"
   ]
  },
  {
   "cell_type": "code",
   "execution_count": 72,
   "id": "e68e089c-5c93-4c95-a2bf-f7543a3af1d5",
   "metadata": {},
   "outputs": [
    {
     "data": {
      "text/html": [
       "<div><style>\n",
       ".dataframe > thead > tr,\n",
       ".dataframe > tbody > tr {\n",
       "  text-align: right;\n",
       "  white-space: pre-wrap;\n",
       "}\n",
       "</style>\n",
       "<small>shape: (3,)</small><table border=\"1\" class=\"dataframe\"><thead><tr><th>a</th></tr><tr><td>f64</td></tr></thead><tbody><tr><td>1.0</td></tr><tr><td>1.0</td></tr><tr><td>3.0</td></tr></tbody></table></div>"
      ],
      "text/plain": [
       "shape: (3,)\n",
       "Series: 'a' [f64]\n",
       "[\n",
       "\t1.0\n",
       "\t1.0\n",
       "\t3.0\n",
       "]"
      ]
     },
     "execution_count": 72,
     "metadata": {},
     "output_type": "execute_result"
    }
   ],
   "source": [
    "df = pl.DataFrame({\"a\": [2, 1, 3], \"b\": [1, 2, 3], \"c\": [1.0, 2.0, 3.0]})\n",
    "df.fold(lambda s1, s2: s1.zip_with(s1 < s2, s2))"
   ]
  },
  {
   "cell_type": "code",
   "execution_count": 73,
   "id": "a10cbd22-1b8d-42a1-ae85-3394a3d4915c",
   "metadata": {},
   "outputs": [
    {
     "data": {
      "text/html": [
       "<div><style>\n",
       ".dataframe > thead > tr,\n",
       ".dataframe > tbody > tr {\n",
       "  text-align: right;\n",
       "  white-space: pre-wrap;\n",
       "}\n",
       "</style>\n",
       "<small>shape: (3,)</small><table border=\"1\" class=\"dataframe\"><thead><tr><th>a</th></tr><tr><td>str</td></tr></thead><tbody><tr><td>&quot;foo11.0&quot;</td></tr><tr><td>&quot;bar22.0&quot;</td></tr><tr><td>null</td></tr></tbody></table></div>"
      ],
      "text/plain": [
       "shape: (3,)\n",
       "Series: 'a' [str]\n",
       "[\n",
       "\t\"foo11.0\"\n",
       "\t\"bar22.0\"\n",
       "\tnull\n",
       "]"
      ]
     },
     "execution_count": 73,
     "metadata": {},
     "output_type": "execute_result"
    }
   ],
   "source": [
    "df = pl.DataFrame(\n",
    "    {\n",
    "        \"a\": [\"foo\", \"bar\", None],\n",
    "        \"b\": [1, 2, 3],\n",
    "        \"c\": [1.0, 2.0, 3.0],\n",
    "    }\n",
    ")\n",
    "df.fold(lambda s1, s2: s1 + s2)"
   ]
  },
  {
   "cell_type": "code",
   "execution_count": 74,
   "id": "e9edbf0c-e7af-4443-9d56-641d9abc03a0",
   "metadata": {},
   "outputs": [
    {
     "data": {
      "text/html": [
       "<div><style>\n",
       ".dataframe > thead > tr,\n",
       ".dataframe > tbody > tr {\n",
       "  text-align: right;\n",
       "  white-space: pre-wrap;\n",
       "}\n",
       "</style>\n",
       "<small>shape: (3,)</small><table border=\"1\" class=\"dataframe\"><thead><tr><th>a</th></tr><tr><td>bool</td></tr></thead><tbody><tr><td>false</td></tr><tr><td>true</td></tr><tr><td>true</td></tr></tbody></table></div>"
      ],
      "text/plain": [
       "shape: (3,)\n",
       "Series: 'a' [bool]\n",
       "[\n",
       "\tfalse\n",
       "\ttrue\n",
       "\ttrue\n",
       "]"
      ]
     },
     "execution_count": 74,
     "metadata": {},
     "output_type": "execute_result"
    }
   ],
   "source": [
    "df = pl.DataFrame(\n",
    "    {\n",
    "        \"a\": [False, False, True],\n",
    "        \"b\": [False, True, False],\n",
    "    }\n",
    ")\n",
    "df.fold(lambda s1, s2: s1 | s2)"
   ]
  },
  {
   "cell_type": "markdown",
   "id": "baa00ef1-990f-4dfc-ac71-15d4bcff4911",
   "metadata": {},
   "source": [
    "## gather_every"
   ]
  },
  {
   "cell_type": "code",
   "execution_count": 75,
   "id": "cb4dab13-f64a-4ff0-be75-ef743f8a3be3",
   "metadata": {},
   "outputs": [
    {
     "data": {
      "text/html": [
       "<div><style>\n",
       ".dataframe > thead > tr,\n",
       ".dataframe > tbody > tr {\n",
       "  text-align: right;\n",
       "  white-space: pre-wrap;\n",
       "}\n",
       "</style>\n",
       "<small>shape: (4, 2)</small><table border=\"1\" class=\"dataframe\"><thead><tr><th>a</th><th>b</th></tr><tr><td>i64</td><td>i64</td></tr></thead><tbody><tr><td>1</td><td>5</td></tr><tr><td>2</td><td>6</td></tr><tr><td>3</td><td>7</td></tr><tr><td>4</td><td>8</td></tr></tbody></table></div>"
      ],
      "text/plain": [
       "shape: (4, 2)\n",
       "┌─────┬─────┐\n",
       "│ a   ┆ b   │\n",
       "│ --- ┆ --- │\n",
       "│ i64 ┆ i64 │\n",
       "╞═════╪═════╡\n",
       "│ 1   ┆ 5   │\n",
       "│ 2   ┆ 6   │\n",
       "│ 3   ┆ 7   │\n",
       "│ 4   ┆ 8   │\n",
       "└─────┴─────┘"
      ]
     },
     "execution_count": 75,
     "metadata": {},
     "output_type": "execute_result"
    }
   ],
   "source": [
    "s = pl.DataFrame({\"a\": [1, 2, 3, 4], \"b\": [5, 6, 7, 8]})\n",
    "s"
   ]
  },
  {
   "cell_type": "code",
   "execution_count": 76,
   "id": "384e3c06-40f6-4659-92f5-63d722713256",
   "metadata": {},
   "outputs": [
    {
     "data": {
      "text/html": [
       "<div><style>\n",
       ".dataframe > thead > tr,\n",
       ".dataframe > tbody > tr {\n",
       "  text-align: right;\n",
       "  white-space: pre-wrap;\n",
       "}\n",
       "</style>\n",
       "<small>shape: (2, 2)</small><table border=\"1\" class=\"dataframe\"><thead><tr><th>a</th><th>b</th></tr><tr><td>i64</td><td>i64</td></tr></thead><tbody><tr><td>1</td><td>5</td></tr><tr><td>3</td><td>7</td></tr></tbody></table></div>"
      ],
      "text/plain": [
       "shape: (2, 2)\n",
       "┌─────┬─────┐\n",
       "│ a   ┆ b   │\n",
       "│ --- ┆ --- │\n",
       "│ i64 ┆ i64 │\n",
       "╞═════╪═════╡\n",
       "│ 1   ┆ 5   │\n",
       "│ 3   ┆ 7   │\n",
       "└─────┴─────┘"
      ]
     },
     "execution_count": 76,
     "metadata": {},
     "output_type": "execute_result"
    }
   ],
   "source": [
    "s.gather_every(2)"
   ]
  },
  {
   "cell_type": "code",
   "execution_count": 77,
   "id": "faec01cb-4575-4df3-9343-b01191833a04",
   "metadata": {},
   "outputs": [
    {
     "data": {
      "text/html": [
       "<div><style>\n",
       ".dataframe > thead > tr,\n",
       ".dataframe > tbody > tr {\n",
       "  text-align: right;\n",
       "  white-space: pre-wrap;\n",
       "}\n",
       "</style>\n",
       "<small>shape: (1, 2)</small><table border=\"1\" class=\"dataframe\"><thead><tr><th>a</th><th>b</th></tr><tr><td>i64</td><td>i64</td></tr></thead><tbody><tr><td>1</td><td>5</td></tr></tbody></table></div>"
      ],
      "text/plain": [
       "shape: (1, 2)\n",
       "┌─────┬─────┐\n",
       "│ a   ┆ b   │\n",
       "│ --- ┆ --- │\n",
       "│ i64 ┆ i64 │\n",
       "╞═════╪═════╡\n",
       "│ 1   ┆ 5   │\n",
       "└─────┴─────┘"
      ]
     },
     "execution_count": 77,
     "metadata": {},
     "output_type": "execute_result"
    }
   ],
   "source": [
    "s.gather_every(13)"
   ]
  },
  {
   "cell_type": "code",
   "execution_count": 78,
   "id": "a99fead5-ef23-45f4-abc7-83f66769e4aa",
   "metadata": {},
   "outputs": [
    {
     "data": {
      "text/html": [
       "<div><style>\n",
       ".dataframe > thead > tr,\n",
       ".dataframe > tbody > tr {\n",
       "  text-align: right;\n",
       "  white-space: pre-wrap;\n",
       "}\n",
       "</style>\n",
       "<small>shape: (2, 2)</small><table border=\"1\" class=\"dataframe\"><thead><tr><th>a</th><th>b</th></tr><tr><td>i64</td><td>i64</td></tr></thead><tbody><tr><td>2</td><td>6</td></tr><tr><td>4</td><td>8</td></tr></tbody></table></div>"
      ],
      "text/plain": [
       "shape: (2, 2)\n",
       "┌─────┬─────┐\n",
       "│ a   ┆ b   │\n",
       "│ --- ┆ --- │\n",
       "│ i64 ┆ i64 │\n",
       "╞═════╪═════╡\n",
       "│ 2   ┆ 6   │\n",
       "│ 4   ┆ 8   │\n",
       "└─────┴─────┘"
      ]
     },
     "execution_count": 78,
     "metadata": {},
     "output_type": "execute_result"
    }
   ],
   "source": [
    "s.gather_every(2, offset=1)"
   ]
  },
  {
   "cell_type": "markdown",
   "id": "92c8bb1c-7199-49e4-b9dc-0f6a3568b325",
   "metadata": {},
   "source": [
    "## get_column"
   ]
  },
  {
   "cell_type": "code",
   "execution_count": 79,
   "id": "cf1dd243-cabd-4bf8-b52d-7dde45fc96b1",
   "metadata": {},
   "outputs": [
    {
     "data": {
      "text/html": [
       "<div><style>\n",
       ".dataframe > thead > tr,\n",
       ".dataframe > tbody > tr {\n",
       "  text-align: right;\n",
       "  white-space: pre-wrap;\n",
       "}\n",
       "</style>\n",
       "<small>shape: (3,)</small><table border=\"1\" class=\"dataframe\"><thead><tr><th>foo</th></tr><tr><td>i64</td></tr></thead><tbody><tr><td>1</td></tr><tr><td>2</td></tr><tr><td>3</td></tr></tbody></table></div>"
      ],
      "text/plain": [
       "shape: (3,)\n",
       "Series: 'foo' [i64]\n",
       "[\n",
       "\t1\n",
       "\t2\n",
       "\t3\n",
       "]"
      ]
     },
     "execution_count": 79,
     "metadata": {},
     "output_type": "execute_result"
    }
   ],
   "source": [
    "df = pl.DataFrame({\"foo\": [1, 2, 3], \"bar\": [4, 5, 6]})\n",
    "df.get_column(\"foo\")"
   ]
  },
  {
   "cell_type": "code",
   "execution_count": 80,
   "id": "6920e024-f6d4-4463-b69f-2cf9abccb5ef",
   "metadata": {},
   "outputs": [
    {
     "data": {
      "text/html": [
       "<div><style>\n",
       ".dataframe > thead > tr,\n",
       ".dataframe > tbody > tr {\n",
       "  text-align: right;\n",
       "  white-space: pre-wrap;\n",
       "}\n",
       "</style>\n",
       "<small>shape: (3,)</small><table border=\"1\" class=\"dataframe\"><thead><tr><th>baz</th></tr><tr><td>str</td></tr></thead><tbody><tr><td>&quot;?&quot;</td></tr><tr><td>&quot;?&quot;</td></tr><tr><td>&quot;?&quot;</td></tr></tbody></table></div>"
      ],
      "text/plain": [
       "shape: (3,)\n",
       "Series: 'baz' [str]\n",
       "[\n",
       "\t\"?\"\n",
       "\t\"?\"\n",
       "\t\"?\"\n",
       "]"
      ]
     },
     "execution_count": 80,
     "metadata": {},
     "output_type": "execute_result"
    }
   ],
   "source": [
    "df.get_column(\"baz\", default=pl.Series(\"baz\", [\"?\", \"?\", \"?\"]))"
   ]
  },
  {
   "cell_type": "code",
   "execution_count": 81,
   "id": "289a5186-b432-43be-a6b3-8df7df38b1f2",
   "metadata": {},
   "outputs": [
    {
     "data": {
      "text/plain": [
       "True"
      ]
     },
     "execution_count": 81,
     "metadata": {},
     "output_type": "execute_result"
    }
   ],
   "source": [
    "res = df.get_column(\"baz\", default=None)\n",
    "res is None"
   ]
  },
  {
   "cell_type": "code",
   "execution_count": 82,
   "id": "7fdc38ba-391b-4e98-892e-610b365b4ccf",
   "metadata": {},
   "outputs": [],
   "source": [
    "res"
   ]
  },
  {
   "cell_type": "markdown",
   "id": "348b7651-0bcd-481a-8db6-14af4c56f843",
   "metadata": {},
   "source": [
    "## get_column_index"
   ]
  },
  {
   "cell_type": "code",
   "execution_count": 83,
   "id": "4b04982f-8229-479b-990d-d4067bf88066",
   "metadata": {},
   "outputs": [],
   "source": [
    "df = pl.DataFrame(\n",
    "    {\"foo\": [1, 2, 3], \"bar\": [6, 7, 8], \"ham\": [\"a\", \"b\", \"c\"]}\n",
    ")"
   ]
  },
  {
   "cell_type": "code",
   "execution_count": 84,
   "id": "c1f9883c-55d6-4a17-8080-6ad11b50df01",
   "metadata": {},
   "outputs": [
    {
     "data": {
      "text/plain": [
       "2"
      ]
     },
     "execution_count": 84,
     "metadata": {},
     "output_type": "execute_result"
    }
   ],
   "source": [
    "df.get_column_index(\"ham\")"
   ]
  },
  {
   "cell_type": "code",
   "execution_count": 85,
   "id": "e95abd9e-2a44-42c0-9b20-430ca71256d1",
   "metadata": {},
   "outputs": [
    {
     "name": "stdout",
     "output_type": "stream",
     "text": [
      "\"sandwich\" not found\n"
     ]
    }
   ],
   "source": [
    "try:\n",
    "    df.get_column_index(\"sandwich\") \n",
    "except Exception  as e:\n",
    "    print (e)"
   ]
  },
  {
   "cell_type": "markdown",
   "id": "904bd52c-c451-4642-9abf-a50448735145",
   "metadata": {},
   "source": [
    "## get_columns\n",
    "Da una lista de Series"
   ]
  },
  {
   "cell_type": "code",
   "execution_count": 86,
   "id": "533d41b8-30d6-4fdc-8e96-dc067a188b9a",
   "metadata": {},
   "outputs": [
    {
     "data": {
      "text/plain": [
       "[shape: (3,)\n",
       " Series: 'foo' [i64]\n",
       " [\n",
       " \t1\n",
       " \t2\n",
       " \t3\n",
       " ],\n",
       " shape: (3,)\n",
       " Series: 'bar' [i64]\n",
       " [\n",
       " \t4\n",
       " \t5\n",
       " \t6\n",
       " ]]"
      ]
     },
     "execution_count": 86,
     "metadata": {},
     "output_type": "execute_result"
    }
   ],
   "source": [
    "df = pl.DataFrame({\"foo\": [1, 2, 3], \"bar\": [4, 5, 6]})\n",
    "df.get_columns()"
   ]
  },
  {
   "cell_type": "code",
   "execution_count": 87,
   "id": "d1254f1c-276e-48fe-a821-7d18ff97041a",
   "metadata": {},
   "outputs": [
    {
     "data": {
      "text/plain": [
       "[shape: (4,)\n",
       " Series: 'a' [i64]\n",
       " [\n",
       " \t1\n",
       " \t2\n",
       " \t3\n",
       " \t4\n",
       " ],\n",
       " shape: (4,)\n",
       " Series: 'b' [f64]\n",
       " [\n",
       " \t0.5\n",
       " \t4.0\n",
       " \t10.0\n",
       " \t13.0\n",
       " ],\n",
       " shape: (4,)\n",
       " Series: 'c' [bool]\n",
       " [\n",
       " \ttrue\n",
       " \ttrue\n",
       " \tfalse\n",
       " \ttrue\n",
       " ]]"
      ]
     },
     "execution_count": 87,
     "metadata": {},
     "output_type": "execute_result"
    }
   ],
   "source": [
    "df = pl.DataFrame(\n",
    "    {\n",
    "        \"a\": [1, 2, 3, 4],\n",
    "        \"b\": [0.5, 4, 10, 13],\n",
    "        \"c\": [True, True, False, True],\n",
    "    }\n",
    ")\n",
    "df.get_columns()"
   ]
  },
  {
   "cell_type": "markdown",
   "id": "c6231bac-9189-4f17-8ee5-d67d79c9cb43",
   "metadata": {},
   "source": [
    "## glimpse"
   ]
  },
  {
   "cell_type": "code",
   "execution_count": 88,
   "id": "5deb7ce5-4da7-4ebf-8e5f-818f2d2ca146",
   "metadata": {},
   "outputs": [
    {
     "name": "stdout",
     "output_type": "stream",
     "text": [
      "Rows: 3\n",
      "Columns: 6\n",
      "$ a  <f64> 1.0, 2.8, 3.0\n",
      "$ b  <i64> 4, 5, None\n",
      "$ c <bool> True, False, True\n",
      "$ d  <str> None, 'b', 'c'\n",
      "$ e  <str> 'usd', 'eur', None\n",
      "$ f <date> 2020-01-01, 2021-01-02, 2022-01-01\n",
      "\n"
     ]
    }
   ],
   "source": [
    "from datetime import date\n",
    "df = pl.DataFrame(\n",
    "    {\n",
    "        \"a\": [1.0, 2.8, 3.0],\n",
    "        \"b\": [4, 5, None],\n",
    "        \"c\": [True, False, True],\n",
    "        \"d\": [None, \"b\", \"c\"],\n",
    "        \"e\": [\"usd\", \"eur\", None],\n",
    "        \"f\": [date(2020, 1, 1), date(2021, 1, 2), date(2022, 1, 1)],\n",
    "    }\n",
    ")\n",
    "df.glimpse()"
   ]
  },
  {
   "cell_type": "markdown",
   "id": "405f57d4-c96b-490c-a96c-98cbec4f3f33",
   "metadata": {},
   "source": [
    "## group_by"
   ]
  },
  {
   "cell_type": "code",
   "execution_count": 89,
   "id": "66f80627-ac96-4e4f-a0eb-8f03f5648ca3",
   "metadata": {},
   "outputs": [
    {
     "data": {
      "text/html": [
       "<div><style>\n",
       ".dataframe > thead > tr,\n",
       ".dataframe > tbody > tr {\n",
       "  text-align: right;\n",
       "  white-space: pre-wrap;\n",
       "}\n",
       "</style>\n",
       "<small>shape: (5, 3)</small><table border=\"1\" class=\"dataframe\"><thead><tr><th>a</th><th>b</th><th>c</th></tr><tr><td>str</td><td>i64</td><td>i64</td></tr></thead><tbody><tr><td>&quot;a&quot;</td><td>1</td><td>5</td></tr><tr><td>&quot;b&quot;</td><td>2</td><td>4</td></tr><tr><td>&quot;a&quot;</td><td>1</td><td>3</td></tr><tr><td>&quot;b&quot;</td><td>3</td><td>2</td></tr><tr><td>&quot;c&quot;</td><td>3</td><td>1</td></tr></tbody></table></div>"
      ],
      "text/plain": [
       "shape: (5, 3)\n",
       "┌─────┬─────┬─────┐\n",
       "│ a   ┆ b   ┆ c   │\n",
       "│ --- ┆ --- ┆ --- │\n",
       "│ str ┆ i64 ┆ i64 │\n",
       "╞═════╪═════╪═════╡\n",
       "│ a   ┆ 1   ┆ 5   │\n",
       "│ b   ┆ 2   ┆ 4   │\n",
       "│ a   ┆ 1   ┆ 3   │\n",
       "│ b   ┆ 3   ┆ 2   │\n",
       "│ c   ┆ 3   ┆ 1   │\n",
       "└─────┴─────┴─────┘"
      ]
     },
     "execution_count": 89,
     "metadata": {},
     "output_type": "execute_result"
    }
   ],
   "source": [
    "df = pl.DataFrame(\n",
    "    {\n",
    "        \"a\": [\"a\", \"b\", \"a\", \"b\", \"c\"],\n",
    "        \"b\": [1, 2, 1, 3, 3],\n",
    "        \"c\": [5, 4, 3, 2, 1],\n",
    "    }\n",
    ")\n",
    "df"
   ]
  },
  {
   "cell_type": "code",
   "execution_count": 90,
   "id": "cc512c1a-3aa5-4d9c-a4e9-030df3ea8443",
   "metadata": {},
   "outputs": [
    {
     "data": {
      "text/html": [
       "<div><style>\n",
       ".dataframe > thead > tr,\n",
       ".dataframe > tbody > tr {\n",
       "  text-align: right;\n",
       "  white-space: pre-wrap;\n",
       "}\n",
       "</style>\n",
       "<small>shape: (3, 2)</small><table border=\"1\" class=\"dataframe\"><thead><tr><th>a</th><th>b</th></tr><tr><td>str</td><td>i64</td></tr></thead><tbody><tr><td>&quot;b&quot;</td><td>5</td></tr><tr><td>&quot;c&quot;</td><td>3</td></tr><tr><td>&quot;a&quot;</td><td>2</td></tr></tbody></table></div>"
      ],
      "text/plain": [
       "shape: (3, 2)\n",
       "┌─────┬─────┐\n",
       "│ a   ┆ b   │\n",
       "│ --- ┆ --- │\n",
       "│ str ┆ i64 │\n",
       "╞═════╪═════╡\n",
       "│ b   ┆ 5   │\n",
       "│ c   ┆ 3   │\n",
       "│ a   ┆ 2   │\n",
       "└─────┴─────┘"
      ]
     },
     "execution_count": 90,
     "metadata": {},
     "output_type": "execute_result"
    }
   ],
   "source": [
    "df.group_by(\"a\").agg(pl.col(\"b\").sum())  "
   ]
  },
  {
   "cell_type": "code",
   "execution_count": 91,
   "id": "2e22cb96-c4a0-4a33-a9ca-b6f97ca263ae",
   "metadata": {},
   "outputs": [
    {
     "data": {
      "text/html": [
       "<div><style>\n",
       ".dataframe > thead > tr,\n",
       ".dataframe > tbody > tr {\n",
       "  text-align: right;\n",
       "  white-space: pre-wrap;\n",
       "}\n",
       "</style>\n",
       "<small>shape: (3, 2)</small><table border=\"1\" class=\"dataframe\"><thead><tr><th>a</th><th>c</th></tr><tr><td>str</td><td>list[i64]</td></tr></thead><tbody><tr><td>&quot;a&quot;</td><td>[5, 3]</td></tr><tr><td>&quot;b&quot;</td><td>[4, 2]</td></tr><tr><td>&quot;c&quot;</td><td>[1]</td></tr></tbody></table></div>"
      ],
      "text/plain": [
       "shape: (3, 2)\n",
       "┌─────┬───────────┐\n",
       "│ a   ┆ c         │\n",
       "│ --- ┆ ---       │\n",
       "│ str ┆ list[i64] │\n",
       "╞═════╪═══════════╡\n",
       "│ a   ┆ [5, 3]    │\n",
       "│ b   ┆ [4, 2]    │\n",
       "│ c   ┆ [1]       │\n",
       "└─────┴───────────┘"
      ]
     },
     "execution_count": 91,
     "metadata": {},
     "output_type": "execute_result"
    }
   ],
   "source": [
    "df.group_by(\"a\", maintain_order=True).agg(pl.col(\"c\"))"
   ]
  },
  {
   "cell_type": "code",
   "execution_count": 92,
   "id": "c319939d-3dbf-4ca3-a5be-7ac72588d7c0",
   "metadata": {},
   "outputs": [
    {
     "data": {
      "text/html": [
       "<div><style>\n",
       ".dataframe > thead > tr,\n",
       ".dataframe > tbody > tr {\n",
       "  text-align: right;\n",
       "  white-space: pre-wrap;\n",
       "}\n",
       "</style>\n",
       "<small>shape: (4, 3)</small><table border=\"1\" class=\"dataframe\"><thead><tr><th>a</th><th>b</th><th>c</th></tr><tr><td>str</td><td>i64</td><td>i64</td></tr></thead><tbody><tr><td>&quot;b&quot;</td><td>3</td><td>2</td></tr><tr><td>&quot;c&quot;</td><td>3</td><td>1</td></tr><tr><td>&quot;b&quot;</td><td>2</td><td>4</td></tr><tr><td>&quot;a&quot;</td><td>1</td><td>5</td></tr></tbody></table></div>"
      ],
      "text/plain": [
       "shape: (4, 3)\n",
       "┌─────┬─────┬─────┐\n",
       "│ a   ┆ b   ┆ c   │\n",
       "│ --- ┆ --- ┆ --- │\n",
       "│ str ┆ i64 ┆ i64 │\n",
       "╞═════╪═════╪═════╡\n",
       "│ b   ┆ 3   ┆ 2   │\n",
       "│ c   ┆ 3   ┆ 1   │\n",
       "│ b   ┆ 2   ┆ 4   │\n",
       "│ a   ┆ 1   ┆ 5   │\n",
       "└─────┴─────┴─────┘"
      ]
     },
     "execution_count": 92,
     "metadata": {},
     "output_type": "execute_result"
    }
   ],
   "source": [
    "df.group_by([\"a\", \"b\"]).agg(pl.max(\"c\"))  "
   ]
  },
  {
   "cell_type": "code",
   "execution_count": 93,
   "id": "68219fa9-9abf-4075-8d5d-4efeb751cf9b",
   "metadata": {},
   "outputs": [
    {
     "data": {
      "text/html": [
       "<div><style>\n",
       ".dataframe > thead > tr,\n",
       ".dataframe > tbody > tr {\n",
       "  text-align: right;\n",
       "  white-space: pre-wrap;\n",
       "}\n",
       "</style>\n",
       "<small>shape: (3, 3)</small><table border=\"1\" class=\"dataframe\"><thead><tr><th>a</th><th>b</th><th>c</th></tr><tr><td>str</td><td>i64</td><td>f64</td></tr></thead><tbody><tr><td>&quot;b&quot;</td><td>1</td><td>3.0</td></tr><tr><td>&quot;c&quot;</td><td>1</td><td>1.0</td></tr><tr><td>&quot;a&quot;</td><td>0</td><td>4.0</td></tr></tbody></table></div>"
      ],
      "text/plain": [
       "shape: (3, 3)\n",
       "┌─────┬─────┬─────┐\n",
       "│ a   ┆ b   ┆ c   │\n",
       "│ --- ┆ --- ┆ --- │\n",
       "│ str ┆ i64 ┆ f64 │\n",
       "╞═════╪═════╪═════╡\n",
       "│ b   ┆ 1   ┆ 3.0 │\n",
       "│ c   ┆ 1   ┆ 1.0 │\n",
       "│ a   ┆ 0   ┆ 4.0 │\n",
       "└─────┴─────┴─────┘"
      ]
     },
     "execution_count": 93,
     "metadata": {},
     "output_type": "execute_result"
    }
   ],
   "source": [
    "df.group_by(\"a\", pl.col(\"b\") // 2).agg(pl.col(\"c\").mean())  "
   ]
  },
  {
   "cell_type": "code",
   "execution_count": 94,
   "id": "da6b72fc-2f9b-479f-870a-642feaa8c788",
   "metadata": {},
   "outputs": [
    {
     "name": "stdout",
     "output_type": "stream",
     "text": [
      "('b',)\n",
      "shape: (2, 3)\n",
      "┌─────┬─────┬─────┐\n",
      "│ a   ┆ b   ┆ c   │\n",
      "│ --- ┆ --- ┆ --- │\n",
      "│ str ┆ i64 ┆ i64 │\n",
      "╞═════╪═════╪═════╡\n",
      "│ b   ┆ 2   ┆ 4   │\n",
      "│ b   ┆ 3   ┆ 2   │\n",
      "└─────┴─────┴─────┘\n",
      "('a',)\n",
      "shape: (2, 3)\n",
      "┌─────┬─────┬─────┐\n",
      "│ a   ┆ b   ┆ c   │\n",
      "│ --- ┆ --- ┆ --- │\n",
      "│ str ┆ i64 ┆ i64 │\n",
      "╞═════╪═════╪═════╡\n",
      "│ a   ┆ 1   ┆ 5   │\n",
      "│ a   ┆ 1   ┆ 3   │\n",
      "└─────┴─────┴─────┘\n",
      "('c',)\n",
      "shape: (1, 3)\n",
      "┌─────┬─────┬─────┐\n",
      "│ a   ┆ b   ┆ c   │\n",
      "│ --- ┆ --- ┆ --- │\n",
      "│ str ┆ i64 ┆ i64 │\n",
      "╞═════╪═════╪═════╡\n",
      "│ c   ┆ 3   ┆ 1   │\n",
      "└─────┴─────┴─────┘\n"
     ]
    }
   ],
   "source": [
    "for name, data in df.group_by(\"a\"):  \n",
    "    print(name)\n",
    "    print(data)"
   ]
  },
  {
   "cell_type": "markdown",
   "id": "053a4bc6-e1f4-4d7d-983b-b6d6bdef04df",
   "metadata": {},
   "source": [
    "## group_by_dynamic"
   ]
  },
  {
   "cell_type": "code",
   "execution_count": 95,
   "id": "0fdbabe6-2316-402b-805c-88013b91100c",
   "metadata": {},
   "outputs": [
    {
     "data": {
      "text/html": [
       "<div><style>\n",
       ".dataframe > thead > tr,\n",
       ".dataframe > tbody > tr {\n",
       "  text-align: right;\n",
       "  white-space: pre-wrap;\n",
       "}\n",
       "</style>\n",
       "<small>shape: (7, 2)</small><table border=\"1\" class=\"dataframe\"><thead><tr><th>time</th><th>n</th></tr><tr><td>datetime[μs]</td><td>i64</td></tr></thead><tbody><tr><td>2021-12-16 00:00:00</td><td>0</td></tr><tr><td>2021-12-16 00:30:00</td><td>1</td></tr><tr><td>2021-12-16 01:00:00</td><td>2</td></tr><tr><td>2021-12-16 01:30:00</td><td>3</td></tr><tr><td>2021-12-16 02:00:00</td><td>4</td></tr><tr><td>2021-12-16 02:30:00</td><td>5</td></tr><tr><td>2021-12-16 03:00:00</td><td>6</td></tr></tbody></table></div>"
      ],
      "text/plain": [
       "shape: (7, 2)\n",
       "┌─────────────────────┬─────┐\n",
       "│ time                ┆ n   │\n",
       "│ ---                 ┆ --- │\n",
       "│ datetime[μs]        ┆ i64 │\n",
       "╞═════════════════════╪═════╡\n",
       "│ 2021-12-16 00:00:00 ┆ 0   │\n",
       "│ 2021-12-16 00:30:00 ┆ 1   │\n",
       "│ 2021-12-16 01:00:00 ┆ 2   │\n",
       "│ 2021-12-16 01:30:00 ┆ 3   │\n",
       "│ 2021-12-16 02:00:00 ┆ 4   │\n",
       "│ 2021-12-16 02:30:00 ┆ 5   │\n",
       "│ 2021-12-16 03:00:00 ┆ 6   │\n",
       "└─────────────────────┴─────┘"
      ]
     },
     "execution_count": 95,
     "metadata": {},
     "output_type": "execute_result"
    }
   ],
   "source": [
    "from datetime import datetime\n",
    "df = pl.DataFrame(\n",
    "    {\n",
    "        \"time\": pl.datetime_range(\n",
    "            start=datetime(2021, 12, 16),\n",
    "            end=datetime(2021, 12, 16, 3),\n",
    "            interval=\"30m\",\n",
    "            eager=True,\n",
    "        ),\n",
    "        \"n\": range(7),\n",
    "    }\n",
    ")\n",
    "df"
   ]
  },
  {
   "cell_type": "code",
   "execution_count": 96,
   "id": "e815797b-3c03-4ba9-843f-e4d71166fe57",
   "metadata": {},
   "outputs": [
    {
     "data": {
      "text/html": [
       "<div><style>\n",
       ".dataframe > thead > tr,\n",
       ".dataframe > tbody > tr {\n",
       "  text-align: right;\n",
       "  white-space: pre-wrap;\n",
       "}\n",
       "</style>\n",
       "<small>shape: (4, 2)</small><table border=\"1\" class=\"dataframe\"><thead><tr><th>time</th><th>n</th></tr><tr><td>datetime[μs]</td><td>list[i64]</td></tr></thead><tbody><tr><td>2021-12-15 23:00:00</td><td>[0]</td></tr><tr><td>2021-12-16 00:00:00</td><td>[1, 2]</td></tr><tr><td>2021-12-16 01:00:00</td><td>[3, 4]</td></tr><tr><td>2021-12-16 02:00:00</td><td>[5, 6]</td></tr></tbody></table></div>"
      ],
      "text/plain": [
       "shape: (4, 2)\n",
       "┌─────────────────────┬───────────┐\n",
       "│ time                ┆ n         │\n",
       "│ ---                 ┆ ---       │\n",
       "│ datetime[μs]        ┆ list[i64] │\n",
       "╞═════════════════════╪═══════════╡\n",
       "│ 2021-12-15 23:00:00 ┆ [0]       │\n",
       "│ 2021-12-16 00:00:00 ┆ [1, 2]    │\n",
       "│ 2021-12-16 01:00:00 ┆ [3, 4]    │\n",
       "│ 2021-12-16 02:00:00 ┆ [5, 6]    │\n",
       "└─────────────────────┴───────────┘"
      ]
     },
     "execution_count": 96,
     "metadata": {},
     "output_type": "execute_result"
    }
   ],
   "source": [
    "df.group_by_dynamic(\"time\", every=\"1h\", closed=\"right\").agg(pl.col(\"n\"))"
   ]
  },
  {
   "cell_type": "code",
   "execution_count": 97,
   "id": "38526b58-833f-4e41-af7a-f05bfe65e889",
   "metadata": {},
   "outputs": [
    {
     "data": {
      "text/html": [
       "<div><style>\n",
       ".dataframe > thead > tr,\n",
       ".dataframe > tbody > tr {\n",
       "  text-align: right;\n",
       "  white-space: pre-wrap;\n",
       "}\n",
       "</style>\n",
       "<small>shape: (7, 2)</small><table border=\"1\" class=\"dataframe\"><thead><tr><th>time</th><th>n</th></tr><tr><td>datetime[μs]</td><td>i64</td></tr></thead><tbody><tr><td>2021-12-15 23:00:00</td><td>0</td></tr><tr><td>2021-12-16 00:00:00</td><td>1</td></tr><tr><td>2021-12-16 00:00:00</td><td>2</td></tr><tr><td>2021-12-16 01:00:00</td><td>3</td></tr><tr><td>2021-12-16 01:00:00</td><td>4</td></tr><tr><td>2021-12-16 02:00:00</td><td>5</td></tr><tr><td>2021-12-16 02:00:00</td><td>6</td></tr></tbody></table></div>"
      ],
      "text/plain": [
       "shape: (7, 2)\n",
       "┌─────────────────────┬─────┐\n",
       "│ time                ┆ n   │\n",
       "│ ---                 ┆ --- │\n",
       "│ datetime[μs]        ┆ i64 │\n",
       "╞═════════════════════╪═════╡\n",
       "│ 2021-12-15 23:00:00 ┆ 0   │\n",
       "│ 2021-12-16 00:00:00 ┆ 1   │\n",
       "│ 2021-12-16 00:00:00 ┆ 2   │\n",
       "│ 2021-12-16 01:00:00 ┆ 3   │\n",
       "│ 2021-12-16 01:00:00 ┆ 4   │\n",
       "│ 2021-12-16 02:00:00 ┆ 5   │\n",
       "│ 2021-12-16 02:00:00 ┆ 6   │\n",
       "└─────────────────────┴─────┘"
      ]
     },
     "execution_count": 97,
     "metadata": {},
     "output_type": "execute_result"
    }
   ],
   "source": [
    "df.group_by_dynamic(\"time\", every=\"1h\", closed=\"right\").agg(pl.col(\"n\")).explode(\"n\")"
   ]
  },
  {
   "cell_type": "code",
   "execution_count": 98,
   "id": "693b25ea-82b4-4512-bb37-bbdc9a82c45f",
   "metadata": {},
   "outputs": [
    {
     "data": {
      "text/html": [
       "<div><style>\n",
       ".dataframe > thead > tr,\n",
       ".dataframe > tbody > tr {\n",
       "  text-align: right;\n",
       "  white-space: pre-wrap;\n",
       "}\n",
       "</style>\n",
       "<small>shape: (4, 4)</small><table border=\"1\" class=\"dataframe\"><thead><tr><th>_lower_boundary</th><th>_upper_boundary</th><th>time</th><th>n</th></tr><tr><td>datetime[μs]</td><td>datetime[μs]</td><td>datetime[μs]</td><td>f64</td></tr></thead><tbody><tr><td>2021-12-15 23:00:00</td><td>2021-12-16 00:00:00</td><td>2021-12-15 23:00:00</td><td>0.0</td></tr><tr><td>2021-12-16 00:00:00</td><td>2021-12-16 01:00:00</td><td>2021-12-16 00:00:00</td><td>1.5</td></tr><tr><td>2021-12-16 01:00:00</td><td>2021-12-16 02:00:00</td><td>2021-12-16 01:00:00</td><td>3.5</td></tr><tr><td>2021-12-16 02:00:00</td><td>2021-12-16 03:00:00</td><td>2021-12-16 02:00:00</td><td>5.5</td></tr></tbody></table></div>"
      ],
      "text/plain": [
       "shape: (4, 4)\n",
       "┌─────────────────────┬─────────────────────┬─────────────────────┬─────┐\n",
       "│ _lower_boundary     ┆ _upper_boundary     ┆ time                ┆ n   │\n",
       "│ ---                 ┆ ---                 ┆ ---                 ┆ --- │\n",
       "│ datetime[μs]        ┆ datetime[μs]        ┆ datetime[μs]        ┆ f64 │\n",
       "╞═════════════════════╪═════════════════════╪═════════════════════╪═════╡\n",
       "│ 2021-12-15 23:00:00 ┆ 2021-12-16 00:00:00 ┆ 2021-12-15 23:00:00 ┆ 0.0 │\n",
       "│ 2021-12-16 00:00:00 ┆ 2021-12-16 01:00:00 ┆ 2021-12-16 00:00:00 ┆ 1.5 │\n",
       "│ 2021-12-16 01:00:00 ┆ 2021-12-16 02:00:00 ┆ 2021-12-16 01:00:00 ┆ 3.5 │\n",
       "│ 2021-12-16 02:00:00 ┆ 2021-12-16 03:00:00 ┆ 2021-12-16 02:00:00 ┆ 5.5 │\n",
       "└─────────────────────┴─────────────────────┴─────────────────────┴─────┘"
      ]
     },
     "execution_count": 98,
     "metadata": {},
     "output_type": "execute_result"
    }
   ],
   "source": [
    "df.group_by_dynamic(\n",
    "    \"time\", every=\"1h\", include_boundaries=True, closed=\"right\"\n",
    ").agg(pl.col(\"n\").mean())"
   ]
  },
  {
   "cell_type": "code",
   "execution_count": 99,
   "id": "7e7d8f02-cf9d-4654-ba1a-69fe082a9524",
   "metadata": {},
   "outputs": [
    {
     "data": {
      "text/html": [
       "<div><style>\n",
       ".dataframe > thead > tr,\n",
       ".dataframe > tbody > tr {\n",
       "  text-align: right;\n",
       "  white-space: pre-wrap;\n",
       "}\n",
       "</style>\n",
       "<small>shape: (4, 2)</small><table border=\"1\" class=\"dataframe\"><thead><tr><th>time</th><th>n</th></tr><tr><td>datetime[μs]</td><td>list[i64]</td></tr></thead><tbody><tr><td>2021-12-16 00:00:00</td><td>[0, 1]</td></tr><tr><td>2021-12-16 01:00:00</td><td>[2, 3]</td></tr><tr><td>2021-12-16 02:00:00</td><td>[4, 5]</td></tr><tr><td>2021-12-16 03:00:00</td><td>[6]</td></tr></tbody></table></div>"
      ],
      "text/plain": [
       "shape: (4, 2)\n",
       "┌─────────────────────┬───────────┐\n",
       "│ time                ┆ n         │\n",
       "│ ---                 ┆ ---       │\n",
       "│ datetime[μs]        ┆ list[i64] │\n",
       "╞═════════════════════╪═══════════╡\n",
       "│ 2021-12-16 00:00:00 ┆ [0, 1]    │\n",
       "│ 2021-12-16 01:00:00 ┆ [2, 3]    │\n",
       "│ 2021-12-16 02:00:00 ┆ [4, 5]    │\n",
       "│ 2021-12-16 03:00:00 ┆ [6]       │\n",
       "└─────────────────────┴───────────┘"
      ]
     },
     "execution_count": 99,
     "metadata": {},
     "output_type": "execute_result"
    }
   ],
   "source": [
    "df.group_by_dynamic(\"time\", every=\"1h\", closed=\"left\").agg(pl.col(\"n\"))"
   ]
  },
  {
   "cell_type": "code",
   "execution_count": 100,
   "id": "c22f74e1-8aee-491f-9189-a3925f550b93",
   "metadata": {},
   "outputs": [
    {
     "data": {
      "text/html": [
       "<div><style>\n",
       ".dataframe > thead > tr,\n",
       ".dataframe > tbody > tr {\n",
       "  text-align: right;\n",
       "  white-space: pre-wrap;\n",
       "}\n",
       "</style>\n",
       "<small>shape: (4, 2)</small><table border=\"1\" class=\"dataframe\"><thead><tr><th>time</th><th>n</th></tr><tr><td>datetime[μs]</td><td>list[i64]</td></tr></thead><tbody><tr><td>2021-12-16 00:00:00</td><td>[0, 1, 2]</td></tr><tr><td>2021-12-16 01:00:00</td><td>[2, 3, 4]</td></tr><tr><td>2021-12-16 02:00:00</td><td>[4, 5, 6]</td></tr><tr><td>2021-12-16 03:00:00</td><td>[6]</td></tr></tbody></table></div>"
      ],
      "text/plain": [
       "shape: (4, 2)\n",
       "┌─────────────────────┬───────────┐\n",
       "│ time                ┆ n         │\n",
       "│ ---                 ┆ ---       │\n",
       "│ datetime[μs]        ┆ list[i64] │\n",
       "╞═════════════════════╪═══════════╡\n",
       "│ 2021-12-16 00:00:00 ┆ [0, 1, 2] │\n",
       "│ 2021-12-16 01:00:00 ┆ [2, 3, 4] │\n",
       "│ 2021-12-16 02:00:00 ┆ [4, 5, 6] │\n",
       "│ 2021-12-16 03:00:00 ┆ [6]       │\n",
       "└─────────────────────┴───────────┘"
      ]
     },
     "execution_count": 100,
     "metadata": {},
     "output_type": "execute_result"
    }
   ],
   "source": [
    "df.group_by_dynamic(\"time\", every=\"1h\", closed=\"both\").agg(pl.col(\"n\"))"
   ]
  },
  {
   "cell_type": "code",
   "execution_count": 101,
   "id": "bfa3bb67-7e07-4972-8e50-ed0a1caee9b1",
   "metadata": {},
   "outputs": [
    {
     "data": {
      "text/html": [
       "<div><style>\n",
       ".dataframe > thead > tr,\n",
       ".dataframe > tbody > tr {\n",
       "  text-align: right;\n",
       "  white-space: pre-wrap;\n",
       "}\n",
       "</style>\n",
       "<small>shape: (6, 5)</small><table border=\"1\" class=\"dataframe\"><thead><tr><th>groups</th><th>_lower_boundary</th><th>_upper_boundary</th><th>time</th><th>n</th></tr><tr><td>str</td><td>datetime[μs]</td><td>datetime[μs]</td><td>datetime[μs]</td><td>list[i64]</td></tr></thead><tbody><tr><td>&quot;a&quot;</td><td>2021-12-16 00:00:00</td><td>2021-12-16 01:00:00</td><td>2021-12-16 00:00:00</td><td>[0, 1, 2]</td></tr><tr><td>&quot;a&quot;</td><td>2021-12-16 01:00:00</td><td>2021-12-16 02:00:00</td><td>2021-12-16 01:00:00</td><td>[2]</td></tr><tr><td>&quot;a&quot;</td><td>2021-12-16 02:00:00</td><td>2021-12-16 03:00:00</td><td>2021-12-16 02:00:00</td><td>[5, 6]</td></tr><tr><td>&quot;a&quot;</td><td>2021-12-16 03:00:00</td><td>2021-12-16 04:00:00</td><td>2021-12-16 03:00:00</td><td>[6]</td></tr><tr><td>&quot;b&quot;</td><td>2021-12-16 01:00:00</td><td>2021-12-16 02:00:00</td><td>2021-12-16 01:00:00</td><td>[3, 4]</td></tr><tr><td>&quot;b&quot;</td><td>2021-12-16 02:00:00</td><td>2021-12-16 03:00:00</td><td>2021-12-16 02:00:00</td><td>[4]</td></tr></tbody></table></div>"
      ],
      "text/plain": [
       "shape: (6, 5)\n",
       "┌────────┬─────────────────────┬─────────────────────┬─────────────────────┬───────────┐\n",
       "│ groups ┆ _lower_boundary     ┆ _upper_boundary     ┆ time                ┆ n         │\n",
       "│ ---    ┆ ---                 ┆ ---                 ┆ ---                 ┆ ---       │\n",
       "│ str    ┆ datetime[μs]        ┆ datetime[μs]        ┆ datetime[μs]        ┆ list[i64] │\n",
       "╞════════╪═════════════════════╪═════════════════════╪═════════════════════╪═══════════╡\n",
       "│ a      ┆ 2021-12-16 00:00:00 ┆ 2021-12-16 01:00:00 ┆ 2021-12-16 00:00:00 ┆ [0, 1, 2] │\n",
       "│ a      ┆ 2021-12-16 01:00:00 ┆ 2021-12-16 02:00:00 ┆ 2021-12-16 01:00:00 ┆ [2]       │\n",
       "│ a      ┆ 2021-12-16 02:00:00 ┆ 2021-12-16 03:00:00 ┆ 2021-12-16 02:00:00 ┆ [5, 6]    │\n",
       "│ a      ┆ 2021-12-16 03:00:00 ┆ 2021-12-16 04:00:00 ┆ 2021-12-16 03:00:00 ┆ [6]       │\n",
       "│ b      ┆ 2021-12-16 01:00:00 ┆ 2021-12-16 02:00:00 ┆ 2021-12-16 01:00:00 ┆ [3, 4]    │\n",
       "│ b      ┆ 2021-12-16 02:00:00 ┆ 2021-12-16 03:00:00 ┆ 2021-12-16 02:00:00 ┆ [4]       │\n",
       "└────────┴─────────────────────┴─────────────────────┴─────────────────────┴───────────┘"
      ]
     },
     "execution_count": 101,
     "metadata": {},
     "output_type": "execute_result"
    }
   ],
   "source": [
    "df = df.with_columns(groups=pl.Series([\"a\", \"a\", \"a\", \"b\", \"b\", \"a\", \"a\"]))\n",
    "df\n",
    "df.group_by_dynamic(\n",
    "    \"time\",\n",
    "    every=\"1h\",\n",
    "    closed=\"both\",\n",
    "    group_by=\"groups\",\n",
    "    include_boundaries=True,\n",
    ").agg(pl.col(\"n\"))"
   ]
  },
  {
   "cell_type": "code",
   "execution_count": 102,
   "id": "33af2d72-a9fe-4d87-8e5b-e05a48c633cc",
   "metadata": {},
   "outputs": [
    {
     "data": {
      "text/html": [
       "<div><style>\n",
       ".dataframe > thead > tr,\n",
       ".dataframe > tbody > tr {\n",
       "  text-align: right;\n",
       "  white-space: pre-wrap;\n",
       "}\n",
       "</style>\n",
       "<small>shape: (4, 4)</small><table border=\"1\" class=\"dataframe\"><thead><tr><th>_lower_boundary</th><th>_upper_boundary</th><th>idx</th><th>A_agg_list</th></tr><tr><td>i64</td><td>i64</td><td>i64</td><td>list[str]</td></tr></thead><tbody><tr><td>-2</td><td>1</td><td>-2</td><td>[&quot;A&quot;, &quot;A&quot;]</td></tr><tr><td>0</td><td>3</td><td>0</td><td>[&quot;A&quot;, &quot;B&quot;, &quot;B&quot;]</td></tr><tr><td>2</td><td>5</td><td>2</td><td>[&quot;B&quot;, &quot;B&quot;, &quot;C&quot;]</td></tr><tr><td>4</td><td>7</td><td>4</td><td>[&quot;C&quot;]</td></tr></tbody></table></div>"
      ],
      "text/plain": [
       "shape: (4, 4)\n",
       "┌─────────────────┬─────────────────┬─────┬─────────────────┐\n",
       "│ _lower_boundary ┆ _upper_boundary ┆ idx ┆ A_agg_list      │\n",
       "│ ---             ┆ ---             ┆ --- ┆ ---             │\n",
       "│ i64             ┆ i64             ┆ i64 ┆ list[str]       │\n",
       "╞═════════════════╪═════════════════╪═════╪═════════════════╡\n",
       "│ -2              ┆ 1               ┆ -2  ┆ [\"A\", \"A\"]      │\n",
       "│ 0               ┆ 3               ┆ 0   ┆ [\"A\", \"B\", \"B\"] │\n",
       "│ 2               ┆ 5               ┆ 2   ┆ [\"B\", \"B\", \"C\"] │\n",
       "│ 4               ┆ 7               ┆ 4   ┆ [\"C\"]           │\n",
       "└─────────────────┴─────────────────┴─────┴─────────────────┘"
      ]
     },
     "execution_count": 102,
     "metadata": {},
     "output_type": "execute_result"
    }
   ],
   "source": [
    "df = pl.DataFrame(\n",
    "    {\n",
    "        \"idx\": pl.int_range(0, 6, eager=True),\n",
    "        \"A\": [\"A\", \"A\", \"B\", \"B\", \"B\", \"C\"],\n",
    "    }\n",
    ")\n",
    "(\n",
    "    df.group_by_dynamic(\n",
    "        \"idx\",\n",
    "        every=\"2i\",\n",
    "        period=\"3i\",\n",
    "        include_boundaries=True,\n",
    "        closed=\"right\",\n",
    "    ).agg(pl.col(\"A\").alias(\"A_agg_list\"))\n",
    ")"
   ]
  },
  {
   "cell_type": "markdown",
   "id": "3420c2bc-94a2-40c9-ad0c-7f1878cfe53d",
   "metadata": {},
   "source": [
    "## hash_rows"
   ]
  },
  {
   "cell_type": "code",
   "execution_count": 103,
   "id": "df86475d-096e-48f4-8245-6adda865e5fe",
   "metadata": {},
   "outputs": [
    {
     "data": {
      "text/html": [
       "<div><style>\n",
       ".dataframe > thead > tr,\n",
       ".dataframe > tbody > tr {\n",
       "  text-align: right;\n",
       "  white-space: pre-wrap;\n",
       "}\n",
       "</style>\n",
       "<small>shape: (4,)</small><table border=\"1\" class=\"dataframe\"><thead><tr><th></th></tr><tr><td>u64</td></tr></thead><tbody><tr><td>5692174756564014252</td></tr><tr><td>9054495949029828528</td></tr><tr><td>5854479387826384826</td></tr><tr><td>10886077968664496817</td></tr></tbody></table></div>"
      ],
      "text/plain": [
       "shape: (4,)\n",
       "Series: '' [u64]\n",
       "[\n",
       "\t5692174756564014252\n",
       "\t9054495949029828528\n",
       "\t5854479387826384826\n",
       "\t10886077968664496817\n",
       "]"
      ]
     },
     "execution_count": 103,
     "metadata": {},
     "output_type": "execute_result"
    }
   ],
   "source": [
    "df = pl.DataFrame(\n",
    "    {\n",
    "        \"foo\": [1, None, 3, 4],\n",
    "        \"ham\": [\"a\", \"b\", None, \"d\"],\n",
    "    }\n",
    ")\n",
    "df.hash_rows(seed=42)  "
   ]
  },
  {
   "cell_type": "markdown",
   "id": "3cecf795-5250-4289-b085-55384af4fc6e",
   "metadata": {},
   "source": [
    "## head"
   ]
  },
  {
   "cell_type": "code",
   "execution_count": 104,
   "id": "db2245b3-f893-44d9-a150-733b78fc8bdf",
   "metadata": {},
   "outputs": [
    {
     "data": {
      "text/html": [
       "<div><style>\n",
       ".dataframe > thead > tr,\n",
       ".dataframe > tbody > tr {\n",
       "  text-align: right;\n",
       "  white-space: pre-wrap;\n",
       "}\n",
       "</style>\n",
       "<small>shape: (3, 3)</small><table border=\"1\" class=\"dataframe\"><thead><tr><th>foo</th><th>bar</th><th>ham</th></tr><tr><td>i64</td><td>i64</td><td>str</td></tr></thead><tbody><tr><td>1</td><td>6</td><td>&quot;a&quot;</td></tr><tr><td>2</td><td>7</td><td>&quot;b&quot;</td></tr><tr><td>3</td><td>8</td><td>&quot;c&quot;</td></tr></tbody></table></div>"
      ],
      "text/plain": [
       "shape: (3, 3)\n",
       "┌─────┬─────┬─────┐\n",
       "│ foo ┆ bar ┆ ham │\n",
       "│ --- ┆ --- ┆ --- │\n",
       "│ i64 ┆ i64 ┆ str │\n",
       "╞═════╪═════╪═════╡\n",
       "│ 1   ┆ 6   ┆ a   │\n",
       "│ 2   ┆ 7   ┆ b   │\n",
       "│ 3   ┆ 8   ┆ c   │\n",
       "└─────┴─────┴─────┘"
      ]
     },
     "execution_count": 104,
     "metadata": {},
     "output_type": "execute_result"
    }
   ],
   "source": [
    "df = pl.DataFrame(\n",
    "    {\n",
    "        \"foo\": [1, 2, 3, 4, 5],\n",
    "        \"bar\": [6, 7, 8, 9, 10],\n",
    "        \"ham\": [\"a\", \"b\", \"c\", \"d\", \"e\"],\n",
    "    }\n",
    ")\n",
    "df.head(3)"
   ]
  },
  {
   "cell_type": "code",
   "execution_count": 105,
   "id": "2564401b-7a2d-4703-89e7-bce9305df577",
   "metadata": {},
   "outputs": [
    {
     "data": {
      "text/html": [
       "<div><style>\n",
       ".dataframe > thead > tr,\n",
       ".dataframe > tbody > tr {\n",
       "  text-align: right;\n",
       "  white-space: pre-wrap;\n",
       "}\n",
       "</style>\n",
       "<small>shape: (2, 3)</small><table border=\"1\" class=\"dataframe\"><thead><tr><th>foo</th><th>bar</th><th>ham</th></tr><tr><td>i64</td><td>i64</td><td>str</td></tr></thead><tbody><tr><td>1</td><td>6</td><td>&quot;a&quot;</td></tr><tr><td>2</td><td>7</td><td>&quot;b&quot;</td></tr></tbody></table></div>"
      ],
      "text/plain": [
       "shape: (2, 3)\n",
       "┌─────┬─────┬─────┐\n",
       "│ foo ┆ bar ┆ ham │\n",
       "│ --- ┆ --- ┆ --- │\n",
       "│ i64 ┆ i64 ┆ str │\n",
       "╞═════╪═════╪═════╡\n",
       "│ 1   ┆ 6   ┆ a   │\n",
       "│ 2   ┆ 7   ┆ b   │\n",
       "└─────┴─────┴─────┘"
      ]
     },
     "execution_count": 105,
     "metadata": {},
     "output_type": "execute_result"
    }
   ],
   "source": [
    "df.head(-3)"
   ]
  },
  {
   "cell_type": "markdown",
   "id": "81aac3e1-5c98-46d2-8496-4fde8d8ce025",
   "metadata": {},
   "source": [
    "## height"
   ]
  },
  {
   "cell_type": "code",
   "execution_count": 106,
   "id": "758b0d52-4234-401f-80b5-a18a8b49db43",
   "metadata": {},
   "outputs": [
    {
     "data": {
      "text/plain": [
       "5"
      ]
     },
     "execution_count": 106,
     "metadata": {},
     "output_type": "execute_result"
    }
   ],
   "source": [
    "df = pl.DataFrame({\"foo\": [1, 2, 3, 4, 5]})\n",
    "df.height"
   ]
  },
  {
   "cell_type": "markdown",
   "id": "5d3ac7cf-1ca9-4e13-9c3c-e351280b4c0a",
   "metadata": {},
   "source": [
    "## hstack"
   ]
  },
  {
   "cell_type": "code",
   "execution_count": 107,
   "id": "648c9e75-4fdf-4cca-ba7d-b9d09619b46a",
   "metadata": {},
   "outputs": [
    {
     "data": {
      "text/html": [
       "<div><style>\n",
       ".dataframe > thead > tr,\n",
       ".dataframe > tbody > tr {\n",
       "  text-align: right;\n",
       "  white-space: pre-wrap;\n",
       "}\n",
       "</style>\n",
       "<small>shape: (3, 3)</small><table border=\"1\" class=\"dataframe\"><thead><tr><th>foo</th><th>bar</th><th>ham</th></tr><tr><td>i64</td><td>i64</td><td>str</td></tr></thead><tbody><tr><td>1</td><td>6</td><td>&quot;a&quot;</td></tr><tr><td>2</td><td>7</td><td>&quot;b&quot;</td></tr><tr><td>3</td><td>8</td><td>&quot;c&quot;</td></tr></tbody></table></div>"
      ],
      "text/plain": [
       "shape: (3, 3)\n",
       "┌─────┬─────┬─────┐\n",
       "│ foo ┆ bar ┆ ham │\n",
       "│ --- ┆ --- ┆ --- │\n",
       "│ i64 ┆ i64 ┆ str │\n",
       "╞═════╪═════╪═════╡\n",
       "│ 1   ┆ 6   ┆ a   │\n",
       "│ 2   ┆ 7   ┆ b   │\n",
       "│ 3   ┆ 8   ┆ c   │\n",
       "└─────┴─────┴─────┘"
      ]
     },
     "execution_count": 107,
     "metadata": {},
     "output_type": "execute_result"
    }
   ],
   "source": [
    "df = pl.DataFrame(\n",
    "    {\n",
    "        \"foo\": [1, 2, 3],\n",
    "        \"bar\": [6, 7, 8],\n",
    "        \"ham\": [\"a\", \"b\", \"c\"],\n",
    "    }\n",
    ")\n",
    "df"
   ]
  },
  {
   "cell_type": "code",
   "execution_count": 108,
   "id": "9777a159-c44a-42f1-a519-927353eb07d2",
   "metadata": {},
   "outputs": [
    {
     "data": {
      "text/html": [
       "<div><style>\n",
       ".dataframe > thead > tr,\n",
       ".dataframe > tbody > tr {\n",
       "  text-align: right;\n",
       "  white-space: pre-wrap;\n",
       "}\n",
       "</style>\n",
       "<small>shape: (3,)</small><table border=\"1\" class=\"dataframe\"><thead><tr><th>apple</th></tr><tr><td>i64</td></tr></thead><tbody><tr><td>10</td></tr><tr><td>20</td></tr><tr><td>30</td></tr></tbody></table></div>"
      ],
      "text/plain": [
       "shape: (3,)\n",
       "Series: 'apple' [i64]\n",
       "[\n",
       "\t10\n",
       "\t20\n",
       "\t30\n",
       "]"
      ]
     },
     "execution_count": 108,
     "metadata": {},
     "output_type": "execute_result"
    }
   ],
   "source": [
    "x = pl.Series(\"apple\", [10, 20, 30])\n",
    "x"
   ]
  },
  {
   "cell_type": "code",
   "execution_count": 109,
   "id": "5187d009-1545-4c84-81e9-72ab1f74cf8b",
   "metadata": {},
   "outputs": [
    {
     "data": {
      "text/html": [
       "<div><style>\n",
       ".dataframe > thead > tr,\n",
       ".dataframe > tbody > tr {\n",
       "  text-align: right;\n",
       "  white-space: pre-wrap;\n",
       "}\n",
       "</style>\n",
       "<small>shape: (3, 4)</small><table border=\"1\" class=\"dataframe\"><thead><tr><th>foo</th><th>bar</th><th>ham</th><th>apple</th></tr><tr><td>i64</td><td>i64</td><td>str</td><td>i64</td></tr></thead><tbody><tr><td>1</td><td>6</td><td>&quot;a&quot;</td><td>10</td></tr><tr><td>2</td><td>7</td><td>&quot;b&quot;</td><td>20</td></tr><tr><td>3</td><td>8</td><td>&quot;c&quot;</td><td>30</td></tr></tbody></table></div>"
      ],
      "text/plain": [
       "shape: (3, 4)\n",
       "┌─────┬─────┬─────┬───────┐\n",
       "│ foo ┆ bar ┆ ham ┆ apple │\n",
       "│ --- ┆ --- ┆ --- ┆ ---   │\n",
       "│ i64 ┆ i64 ┆ str ┆ i64   │\n",
       "╞═════╪═════╪═════╪═══════╡\n",
       "│ 1   ┆ 6   ┆ a   ┆ 10    │\n",
       "│ 2   ┆ 7   ┆ b   ┆ 20    │\n",
       "│ 3   ┆ 8   ┆ c   ┆ 30    │\n",
       "└─────┴─────┴─────┴───────┘"
      ]
     },
     "execution_count": 109,
     "metadata": {},
     "output_type": "execute_result"
    }
   ],
   "source": [
    "df.hstack([x])"
   ]
  },
  {
   "cell_type": "markdown",
   "id": "0db351ef-ce44-46ef-ac8d-7553bb602827",
   "metadata": {},
   "source": [
    "## insert_column"
   ]
  },
  {
   "cell_type": "code",
   "execution_count": 110,
   "id": "6781f672-3260-42f2-ba55-c7ce28737bb2",
   "metadata": {},
   "outputs": [
    {
     "data": {
      "text/html": [
       "<div><style>\n",
       ".dataframe > thead > tr,\n",
       ".dataframe > tbody > tr {\n",
       "  text-align: right;\n",
       "  white-space: pre-wrap;\n",
       "}\n",
       "</style>\n",
       "<small>shape: (3, 2)</small><table border=\"1\" class=\"dataframe\"><thead><tr><th>foo</th><th>bar</th></tr><tr><td>i64</td><td>i64</td></tr></thead><tbody><tr><td>1</td><td>4</td></tr><tr><td>2</td><td>5</td></tr><tr><td>3</td><td>6</td></tr></tbody></table></div>"
      ],
      "text/plain": [
       "shape: (3, 2)\n",
       "┌─────┬─────┐\n",
       "│ foo ┆ bar │\n",
       "│ --- ┆ --- │\n",
       "│ i64 ┆ i64 │\n",
       "╞═════╪═════╡\n",
       "│ 1   ┆ 4   │\n",
       "│ 2   ┆ 5   │\n",
       "│ 3   ┆ 6   │\n",
       "└─────┴─────┘"
      ]
     },
     "execution_count": 110,
     "metadata": {},
     "output_type": "execute_result"
    }
   ],
   "source": [
    "df = pl.DataFrame({\"foo\": [1, 2, 3], \"bar\": [4, 5, 6]})\n",
    "df"
   ]
  },
  {
   "cell_type": "code",
   "execution_count": 111,
   "id": "53592616-5cd8-4fc4-94db-25afba973a77",
   "metadata": {},
   "outputs": [
    {
     "data": {
      "text/html": [
       "<div><style>\n",
       ".dataframe > thead > tr,\n",
       ".dataframe > tbody > tr {\n",
       "  text-align: right;\n",
       "  white-space: pre-wrap;\n",
       "}\n",
       "</style>\n",
       "<small>shape: (3,)</small><table border=\"1\" class=\"dataframe\"><thead><tr><th>baz</th></tr><tr><td>i64</td></tr></thead><tbody><tr><td>97</td></tr><tr><td>98</td></tr><tr><td>99</td></tr></tbody></table></div>"
      ],
      "text/plain": [
       "shape: (3,)\n",
       "Series: 'baz' [i64]\n",
       "[\n",
       "\t97\n",
       "\t98\n",
       "\t99\n",
       "]"
      ]
     },
     "execution_count": 111,
     "metadata": {},
     "output_type": "execute_result"
    }
   ],
   "source": [
    "s = pl.Series(\"baz\", [97, 98, 99])\n",
    "s"
   ]
  },
  {
   "cell_type": "code",
   "execution_count": 112,
   "id": "f80f0014-b223-465b-b02c-988041a5e3ca",
   "metadata": {},
   "outputs": [
    {
     "data": {
      "text/html": [
       "<div><style>\n",
       ".dataframe > thead > tr,\n",
       ".dataframe > tbody > tr {\n",
       "  text-align: right;\n",
       "  white-space: pre-wrap;\n",
       "}\n",
       "</style>\n",
       "<small>shape: (3, 3)</small><table border=\"1\" class=\"dataframe\"><thead><tr><th>foo</th><th>baz</th><th>bar</th></tr><tr><td>i64</td><td>i64</td><td>i64</td></tr></thead><tbody><tr><td>1</td><td>97</td><td>4</td></tr><tr><td>2</td><td>98</td><td>5</td></tr><tr><td>3</td><td>99</td><td>6</td></tr></tbody></table></div>"
      ],
      "text/plain": [
       "shape: (3, 3)\n",
       "┌─────┬─────┬─────┐\n",
       "│ foo ┆ baz ┆ bar │\n",
       "│ --- ┆ --- ┆ --- │\n",
       "│ i64 ┆ i64 ┆ i64 │\n",
       "╞═════╪═════╪═════╡\n",
       "│ 1   ┆ 97  ┆ 4   │\n",
       "│ 2   ┆ 98  ┆ 5   │\n",
       "│ 3   ┆ 99  ┆ 6   │\n",
       "└─────┴─────┴─────┘"
      ]
     },
     "execution_count": 112,
     "metadata": {},
     "output_type": "execute_result"
    }
   ],
   "source": [
    "df.insert_column(1, s)"
   ]
  },
  {
   "cell_type": "code",
   "execution_count": 113,
   "id": "0f02a0ec-92b4-49e1-9e50-ede45e7913e4",
   "metadata": {},
   "outputs": [
    {
     "data": {
      "text/html": [
       "<div><style>\n",
       ".dataframe > thead > tr,\n",
       ".dataframe > tbody > tr {\n",
       "  text-align: right;\n",
       "  white-space: pre-wrap;\n",
       "}\n",
       "</style>\n",
       "<small>shape: (4, 4)</small><table border=\"1\" class=\"dataframe\"><thead><tr><th>a</th><th>b</th><th>c</th><th>d</th></tr><tr><td>i64</td><td>f64</td><td>bool</td><td>f64</td></tr></thead><tbody><tr><td>1</td><td>0.5</td><td>true</td><td>-2.5</td></tr><tr><td>2</td><td>4.0</td><td>true</td><td>15.0</td></tr><tr><td>3</td><td>10.0</td><td>false</td><td>20.5</td></tr><tr><td>4</td><td>13.0</td><td>true</td><td>0.0</td></tr></tbody></table></div>"
      ],
      "text/plain": [
       "shape: (4, 4)\n",
       "┌─────┬──────┬───────┬──────┐\n",
       "│ a   ┆ b    ┆ c     ┆ d    │\n",
       "│ --- ┆ ---  ┆ ---   ┆ ---  │\n",
       "│ i64 ┆ f64  ┆ bool  ┆ f64  │\n",
       "╞═════╪══════╪═══════╪══════╡\n",
       "│ 1   ┆ 0.5  ┆ true  ┆ -2.5 │\n",
       "│ 2   ┆ 4.0  ┆ true  ┆ 15.0 │\n",
       "│ 3   ┆ 10.0 ┆ false ┆ 20.5 │\n",
       "│ 4   ┆ 13.0 ┆ true  ┆ 0.0  │\n",
       "└─────┴──────┴───────┴──────┘"
      ]
     },
     "execution_count": 113,
     "metadata": {},
     "output_type": "execute_result"
    }
   ],
   "source": [
    "df = pl.DataFrame(\n",
    "    {\n",
    "        \"a\": [1, 2, 3, 4],\n",
    "        \"b\": [0.5, 4, 10, 13],\n",
    "        \"c\": [True, True, False, True],\n",
    "    }\n",
    ")\n",
    "s = pl.Series(\"d\", [-2.5, 15, 20.5, 0])\n",
    "df.insert_column(3, s)"
   ]
  },
  {
   "cell_type": "markdown",
   "id": "790f27ff-85f2-4c8e-a64a-a2016172a11e",
   "metadata": {},
   "source": [
    "## interpolate"
   ]
  },
  {
   "cell_type": "code",
   "execution_count": 114,
   "id": "839293f3-524d-472e-bc4a-d33dd2f531da",
   "metadata": {},
   "outputs": [
    {
     "data": {
      "text/html": [
       "<div><style>\n",
       ".dataframe > thead > tr,\n",
       ".dataframe > tbody > tr {\n",
       "  text-align: right;\n",
       "  white-space: pre-wrap;\n",
       "}\n",
       "</style>\n",
       "<small>shape: (4, 3)</small><table border=\"1\" class=\"dataframe\"><thead><tr><th>foo</th><th>bar</th><th>baz</th></tr><tr><td>f64</td><td>f64</td><td>f64</td></tr></thead><tbody><tr><td>1.0</td><td>6.0</td><td>1.0</td></tr><tr><td>5.0</td><td>7.0</td><td>3.666667</td></tr><tr><td>9.0</td><td>9.0</td><td>6.333333</td></tr><tr><td>10.0</td><td>null</td><td>9.0</td></tr></tbody></table></div>"
      ],
      "text/plain": [
       "shape: (4, 3)\n",
       "┌──────┬──────┬──────────┐\n",
       "│ foo  ┆ bar  ┆ baz      │\n",
       "│ ---  ┆ ---  ┆ ---      │\n",
       "│ f64  ┆ f64  ┆ f64      │\n",
       "╞══════╪══════╪══════════╡\n",
       "│ 1.0  ┆ 6.0  ┆ 1.0      │\n",
       "│ 5.0  ┆ 7.0  ┆ 3.666667 │\n",
       "│ 9.0  ┆ 9.0  ┆ 6.333333 │\n",
       "│ 10.0 ┆ null ┆ 9.0      │\n",
       "└──────┴──────┴──────────┘"
      ]
     },
     "execution_count": 114,
     "metadata": {},
     "output_type": "execute_result"
    }
   ],
   "source": [
    "df = pl.DataFrame(\n",
    "    {\n",
    "        \"foo\": [1, None, 9, 10],\n",
    "        \"bar\": [6, 7, 9, None],\n",
    "        \"baz\": [1, None, None, 9],\n",
    "    }\n",
    ")\n",
    "df.interpolate()"
   ]
  },
  {
   "cell_type": "markdown",
   "id": "09d58ddd-5200-4a90-bbf8-abeee0af8d1f",
   "metadata": {},
   "source": [
    "## is_duplicated"
   ]
  },
  {
   "cell_type": "code",
   "execution_count": 115,
   "id": "157a8961-3aba-40b5-a665-e6a6f0ae7619",
   "metadata": {},
   "outputs": [
    {
     "data": {
      "text/html": [
       "<div><style>\n",
       ".dataframe > thead > tr,\n",
       ".dataframe > tbody > tr {\n",
       "  text-align: right;\n",
       "  white-space: pre-wrap;\n",
       "}\n",
       "</style>\n",
       "<small>shape: (4, 2)</small><table border=\"1\" class=\"dataframe\"><thead><tr><th>a</th><th>b</th></tr><tr><td>i64</td><td>str</td></tr></thead><tbody><tr><td>1</td><td>&quot;x&quot;</td></tr><tr><td>2</td><td>&quot;y&quot;</td></tr><tr><td>3</td><td>&quot;z&quot;</td></tr><tr><td>1</td><td>&quot;x&quot;</td></tr></tbody></table></div>"
      ],
      "text/plain": [
       "shape: (4, 2)\n",
       "┌─────┬─────┐\n",
       "│ a   ┆ b   │\n",
       "│ --- ┆ --- │\n",
       "│ i64 ┆ str │\n",
       "╞═════╪═════╡\n",
       "│ 1   ┆ x   │\n",
       "│ 2   ┆ y   │\n",
       "│ 3   ┆ z   │\n",
       "│ 1   ┆ x   │\n",
       "└─────┴─────┘"
      ]
     },
     "execution_count": 115,
     "metadata": {},
     "output_type": "execute_result"
    }
   ],
   "source": [
    "df = pl.DataFrame(\n",
    "    {\n",
    "        \"a\": [1, 2, 3, 1],\n",
    "        \"b\": [\"x\", \"y\", \"z\", \"x\"],\n",
    "    }\n",
    ")\n",
    "df"
   ]
  },
  {
   "cell_type": "code",
   "execution_count": 116,
   "id": "bd8042d5-c984-4c6b-9d18-083433c904e1",
   "metadata": {},
   "outputs": [
    {
     "data": {
      "text/html": [
       "<div><style>\n",
       ".dataframe > thead > tr,\n",
       ".dataframe > tbody > tr {\n",
       "  text-align: right;\n",
       "  white-space: pre-wrap;\n",
       "}\n",
       "</style>\n",
       "<small>shape: (4,)</small><table border=\"1\" class=\"dataframe\"><thead><tr><th></th></tr><tr><td>bool</td></tr></thead><tbody><tr><td>true</td></tr><tr><td>false</td></tr><tr><td>false</td></tr><tr><td>true</td></tr></tbody></table></div>"
      ],
      "text/plain": [
       "shape: (4,)\n",
       "Series: '' [bool]\n",
       "[\n",
       "\ttrue\n",
       "\tfalse\n",
       "\tfalse\n",
       "\ttrue\n",
       "]"
      ]
     },
     "execution_count": 116,
     "metadata": {},
     "output_type": "execute_result"
    }
   ],
   "source": [
    "df.is_duplicated()"
   ]
  },
  {
   "cell_type": "code",
   "execution_count": 117,
   "id": "6350b472-1743-400e-92a9-db28cda7c602",
   "metadata": {},
   "outputs": [
    {
     "data": {
      "text/html": [
       "<div><style>\n",
       ".dataframe > thead > tr,\n",
       ".dataframe > tbody > tr {\n",
       "  text-align: right;\n",
       "  white-space: pre-wrap;\n",
       "}\n",
       "</style>\n",
       "<small>shape: (2, 2)</small><table border=\"1\" class=\"dataframe\"><thead><tr><th>a</th><th>b</th></tr><tr><td>i64</td><td>str</td></tr></thead><tbody><tr><td>1</td><td>&quot;x&quot;</td></tr><tr><td>1</td><td>&quot;x&quot;</td></tr></tbody></table></div>"
      ],
      "text/plain": [
       "shape: (2, 2)\n",
       "┌─────┬─────┐\n",
       "│ a   ┆ b   │\n",
       "│ --- ┆ --- │\n",
       "│ i64 ┆ str │\n",
       "╞═════╪═════╡\n",
       "│ 1   ┆ x   │\n",
       "│ 1   ┆ x   │\n",
       "└─────┴─────┘"
      ]
     },
     "execution_count": 117,
     "metadata": {},
     "output_type": "execute_result"
    }
   ],
   "source": [
    "df.filter(df.is_duplicated())"
   ]
  },
  {
   "cell_type": "markdown",
   "id": "73339a4c-9efe-4635-9fa6-7fa4405682cd",
   "metadata": {},
   "source": [
    "## is_empty"
   ]
  },
  {
   "cell_type": "code",
   "execution_count": 118,
   "id": "d9524281-fc9c-4a40-9e79-c73458fea035",
   "metadata": {},
   "outputs": [
    {
     "data": {
      "text/plain": [
       "True"
      ]
     },
     "execution_count": 118,
     "metadata": {},
     "output_type": "execute_result"
    }
   ],
   "source": [
    "df = pl.DataFrame({\"foo\": [1, 2, 3], \"bar\": [4, 5, 6]})\n",
    "df.is_empty()\n",
    "df.filter(pl.col(\"foo\") > 99).is_empty()"
   ]
  },
  {
   "cell_type": "markdown",
   "id": "f52d89c6-c580-463c-9356-9b2d78c6a71f",
   "metadata": {},
   "source": [
    "## is_unique()"
   ]
  },
  {
   "cell_type": "code",
   "execution_count": 119,
   "id": "92c400b7-e906-4d11-8108-3e6714834d2c",
   "metadata": {},
   "outputs": [
    {
     "data": {
      "text/html": [
       "<div><style>\n",
       ".dataframe > thead > tr,\n",
       ".dataframe > tbody > tr {\n",
       "  text-align: right;\n",
       "  white-space: pre-wrap;\n",
       "}\n",
       "</style>\n",
       "<small>shape: (4, 2)</small><table border=\"1\" class=\"dataframe\"><thead><tr><th>a</th><th>b</th></tr><tr><td>i64</td><td>str</td></tr></thead><tbody><tr><td>1</td><td>&quot;x&quot;</td></tr><tr><td>2</td><td>&quot;y&quot;</td></tr><tr><td>3</td><td>&quot;z&quot;</td></tr><tr><td>1</td><td>&quot;x&quot;</td></tr></tbody></table></div>"
      ],
      "text/plain": [
       "shape: (4, 2)\n",
       "┌─────┬─────┐\n",
       "│ a   ┆ b   │\n",
       "│ --- ┆ --- │\n",
       "│ i64 ┆ str │\n",
       "╞═════╪═════╡\n",
       "│ 1   ┆ x   │\n",
       "│ 2   ┆ y   │\n",
       "│ 3   ┆ z   │\n",
       "│ 1   ┆ x   │\n",
       "└─────┴─────┘"
      ]
     },
     "execution_count": 119,
     "metadata": {},
     "output_type": "execute_result"
    }
   ],
   "source": [
    "df = pl.DataFrame(\n",
    "    {\n",
    "        \"a\": [1, 2, 3, 1],\n",
    "        \"b\": [\"x\", \"y\", \"z\", \"x\"],\n",
    "    }\n",
    ")\n",
    "df"
   ]
  },
  {
   "cell_type": "code",
   "execution_count": 120,
   "id": "68f3c9b6-47f1-450e-8fdb-3fc4ab67a29a",
   "metadata": {},
   "outputs": [
    {
     "data": {
      "text/html": [
       "<div><style>\n",
       ".dataframe > thead > tr,\n",
       ".dataframe > tbody > tr {\n",
       "  text-align: right;\n",
       "  white-space: pre-wrap;\n",
       "}\n",
       "</style>\n",
       "<small>shape: (4,)</small><table border=\"1\" class=\"dataframe\"><thead><tr><th></th></tr><tr><td>bool</td></tr></thead><tbody><tr><td>false</td></tr><tr><td>true</td></tr><tr><td>true</td></tr><tr><td>false</td></tr></tbody></table></div>"
      ],
      "text/plain": [
       "shape: (4,)\n",
       "Series: '' [bool]\n",
       "[\n",
       "\tfalse\n",
       "\ttrue\n",
       "\ttrue\n",
       "\tfalse\n",
       "]"
      ]
     },
     "execution_count": 120,
     "metadata": {},
     "output_type": "execute_result"
    }
   ],
   "source": [
    "df.is_unique()"
   ]
  },
  {
   "cell_type": "code",
   "execution_count": 121,
   "id": "8beb0438-3cda-48f9-a967-602f269dc984",
   "metadata": {},
   "outputs": [
    {
     "data": {
      "text/html": [
       "<div><style>\n",
       ".dataframe > thead > tr,\n",
       ".dataframe > tbody > tr {\n",
       "  text-align: right;\n",
       "  white-space: pre-wrap;\n",
       "}\n",
       "</style>\n",
       "<small>shape: (2, 2)</small><table border=\"1\" class=\"dataframe\"><thead><tr><th>a</th><th>b</th></tr><tr><td>i64</td><td>str</td></tr></thead><tbody><tr><td>2</td><td>&quot;y&quot;</td></tr><tr><td>3</td><td>&quot;z&quot;</td></tr></tbody></table></div>"
      ],
      "text/plain": [
       "shape: (2, 2)\n",
       "┌─────┬─────┐\n",
       "│ a   ┆ b   │\n",
       "│ --- ┆ --- │\n",
       "│ i64 ┆ str │\n",
       "╞═════╪═════╡\n",
       "│ 2   ┆ y   │\n",
       "│ 3   ┆ z   │\n",
       "└─────┴─────┘"
      ]
     },
     "execution_count": 121,
     "metadata": {},
     "output_type": "execute_result"
    }
   ],
   "source": [
    "df.filter(df.is_unique())"
   ]
  },
  {
   "cell_type": "markdown",
   "id": "575b2ba2-5af6-4eef-961b-687616879d47",
   "metadata": {},
   "source": [
    "## item\n",
    "Return the DataFrame as a scalar, or return the element at the given row/column."
   ]
  },
  {
   "cell_type": "code",
   "execution_count": 122,
   "id": "cd3db916-cbd6-468a-8688-af90c3a9a17a",
   "metadata": {},
   "outputs": [
    {
     "data": {
      "text/html": [
       "<div><style>\n",
       ".dataframe > thead > tr,\n",
       ".dataframe > tbody > tr {\n",
       "  text-align: right;\n",
       "  white-space: pre-wrap;\n",
       "}\n",
       "</style>\n",
       "<small>shape: (3, 2)</small><table border=\"1\" class=\"dataframe\"><thead><tr><th>a</th><th>b</th></tr><tr><td>i64</td><td>i64</td></tr></thead><tbody><tr><td>1</td><td>4</td></tr><tr><td>2</td><td>5</td></tr><tr><td>3</td><td>6</td></tr></tbody></table></div>"
      ],
      "text/plain": [
       "shape: (3, 2)\n",
       "┌─────┬─────┐\n",
       "│ a   ┆ b   │\n",
       "│ --- ┆ --- │\n",
       "│ i64 ┆ i64 │\n",
       "╞═════╪═════╡\n",
       "│ 1   ┆ 4   │\n",
       "│ 2   ┆ 5   │\n",
       "│ 3   ┆ 6   │\n",
       "└─────┴─────┘"
      ]
     },
     "execution_count": 122,
     "metadata": {},
     "output_type": "execute_result"
    }
   ],
   "source": [
    "df = pl.DataFrame({\"a\": [1, 2, 3], \"b\": [4, 5, 6]})\n",
    "df"
   ]
  },
  {
   "cell_type": "code",
   "execution_count": 123,
   "id": "3f996f7d-cc90-4400-9ca6-986f6994a9cd",
   "metadata": {},
   "outputs": [
    {
     "data": {
      "text/plain": [
       "32"
      ]
     },
     "execution_count": 123,
     "metadata": {},
     "output_type": "execute_result"
    }
   ],
   "source": [
    "df.select((pl.col(\"a\") * pl.col(\"b\")).sum()).item()"
   ]
  },
  {
   "cell_type": "code",
   "execution_count": 124,
   "id": "c055df97-ebe9-47c2-8934-61714de89c64",
   "metadata": {},
   "outputs": [
    {
     "data": {
      "text/plain": [
       "5"
      ]
     },
     "execution_count": 124,
     "metadata": {},
     "output_type": "execute_result"
    }
   ],
   "source": [
    "df.item(1, 1)"
   ]
  },
  {
   "cell_type": "code",
   "execution_count": 125,
   "id": "0c0fb62e-be87-4c2a-a220-6de1ce8efff1",
   "metadata": {},
   "outputs": [
    {
     "data": {
      "text/plain": [
       "6"
      ]
     },
     "execution_count": 125,
     "metadata": {},
     "output_type": "execute_result"
    }
   ],
   "source": [
    "df.item(2, \"b\")"
   ]
  },
  {
   "cell_type": "markdown",
   "id": "1b308c63-2da4-4ea7-8b7c-5d6294653070",
   "metadata": {},
   "source": [
    "## iter_columns"
   ]
  },
  {
   "cell_type": "code",
   "execution_count": 126,
   "id": "9c302a4c-6496-4610-80c8-7962b88d11e8",
   "metadata": {},
   "outputs": [
    {
     "data": {
      "text/plain": [
       "['a', 'b']"
      ]
     },
     "execution_count": 126,
     "metadata": {},
     "output_type": "execute_result"
    }
   ],
   "source": [
    "df = pl.DataFrame(\n",
    "    {\n",
    "        \"a\": [1, 3, 5],\n",
    "        \"b\": [2, 4, 6],\n",
    "    }\n",
    ")\n",
    "[s.name for s in df.iter_columns()]"
   ]
  },
  {
   "cell_type": "code",
   "execution_count": 127,
   "id": "20ce7f4d-d2fa-40ee-9120-7abedddf924a",
   "metadata": {},
   "outputs": [
    {
     "data": {
      "text/html": [
       "<div><style>\n",
       ".dataframe > thead > tr,\n",
       ".dataframe > tbody > tr {\n",
       "  text-align: right;\n",
       "  white-space: pre-wrap;\n",
       "}\n",
       "</style>\n",
       "<small>shape: (3, 2)</small><table border=\"1\" class=\"dataframe\"><thead><tr><th>a</th><th>b</th></tr><tr><td>i64</td><td>i64</td></tr></thead><tbody><tr><td>2</td><td>4</td></tr><tr><td>6</td><td>8</td></tr><tr><td>10</td><td>12</td></tr></tbody></table></div>"
      ],
      "text/plain": [
       "shape: (3, 2)\n",
       "┌─────┬─────┐\n",
       "│ a   ┆ b   │\n",
       "│ --- ┆ --- │\n",
       "│ i64 ┆ i64 │\n",
       "╞═════╪═════╡\n",
       "│ 2   ┆ 4   │\n",
       "│ 6   ┆ 8   │\n",
       "│ 10  ┆ 12  │\n",
       "└─────┴─────┘"
      ]
     },
     "execution_count": 127,
     "metadata": {},
     "output_type": "execute_result"
    }
   ],
   "source": [
    "# Do NOT do this\n",
    "pl.DataFrame(column * 2 for column in df.iter_columns())"
   ]
  },
  {
   "cell_type": "code",
   "execution_count": 128,
   "id": "84a7794f-f12b-4f7d-9918-8d5bc1973901",
   "metadata": {},
   "outputs": [
    {
     "data": {
      "text/html": [
       "<div><style>\n",
       ".dataframe > thead > tr,\n",
       ".dataframe > tbody > tr {\n",
       "  text-align: right;\n",
       "  white-space: pre-wrap;\n",
       "}\n",
       "</style>\n",
       "<small>shape: (3, 2)</small><table border=\"1\" class=\"dataframe\"><thead><tr><th>a</th><th>b</th></tr><tr><td>i64</td><td>i64</td></tr></thead><tbody><tr><td>2</td><td>4</td></tr><tr><td>6</td><td>8</td></tr><tr><td>10</td><td>12</td></tr></tbody></table></div>"
      ],
      "text/plain": [
       "shape: (3, 2)\n",
       "┌─────┬─────┐\n",
       "│ a   ┆ b   │\n",
       "│ --- ┆ --- │\n",
       "│ i64 ┆ i64 │\n",
       "╞═════╪═════╡\n",
       "│ 2   ┆ 4   │\n",
       "│ 6   ┆ 8   │\n",
       "│ 10  ┆ 12  │\n",
       "└─────┴─────┘"
      ]
     },
     "execution_count": 128,
     "metadata": {},
     "output_type": "execute_result"
    }
   ],
   "source": [
    "# USE THIS\n",
    "df.select(pl.all() * 2)"
   ]
  },
  {
   "cell_type": "markdown",
   "id": "001b7e0a-3b34-4e24-8b42-88cdd099090c",
   "metadata": {},
   "source": [
    "## iter_rows\n",
    "**Row iteration is not optimal as the underlying data is stored in columnar form; where possible, prefer export via one of the dedicated export/output methods that deals with columnar data**"
   ]
  },
  {
   "cell_type": "code",
   "execution_count": 129,
   "id": "85ae0e67-8623-47d0-a8fa-b7bd083a90aa",
   "metadata": {},
   "outputs": [],
   "source": [
    "df = pl.DataFrame(\n",
    "    {\n",
    "        \"a\": [1, 3, 5],\n",
    "        \"b\": [2, 4, 6],\n",
    "    }\n",
    ")\n"
   ]
  },
  {
   "cell_type": "code",
   "execution_count": 130,
   "id": "c2304142-c34f-4795-aaf8-015cafe8026b",
   "metadata": {},
   "outputs": [
    {
     "data": {
      "text/plain": [
       "[1, 3, 5]"
      ]
     },
     "execution_count": 130,
     "metadata": {},
     "output_type": "execute_result"
    }
   ],
   "source": [
    "[row[0] for row in df.iter_rows()]\n"
   ]
  },
  {
   "cell_type": "code",
   "execution_count": 131,
   "id": "ef2bf7a1-420d-4744-a3c4-db8324a295a1",
   "metadata": {},
   "outputs": [
    {
     "data": {
      "text/plain": [
       "[2, 4, 6]"
      ]
     },
     "execution_count": 131,
     "metadata": {},
     "output_type": "execute_result"
    }
   ],
   "source": [
    "[row[\"b\"] for row in df.iter_rows(named=True)]"
   ]
  },
  {
   "cell_type": "code",
   "execution_count": 132,
   "id": "1a5072c8-a429-486e-b9b4-82fb4246a780",
   "metadata": {},
   "outputs": [
    {
     "name": "stdout",
     "output_type": "stream",
     "text": [
      "ERROR: tuple indices must be integers or slices, not str\n"
     ]
    }
   ],
   "source": [
    "try:\n",
    "    [row[\"b\"] for row in df.iter_rows()]\n",
    "except Exception as e:\n",
    "    print (f\"ERROR: {e}\")"
   ]
  },
  {
   "cell_type": "markdown",
   "id": "3b26084a-edb1-4424-8f60-c47704608d2b",
   "metadata": {},
   "source": [
    "## iter_slices\n",
    "Returns a non-copying iterator of slices over the underlying DataFrame.\n",
    "\n",
    "Este ejemplo para cada slice, imprime el nombre del tipo de datos del slice, el índice del slice y el número de filas que contiene."
   ]
  },
  {
   "cell_type": "code",
   "execution_count": 133,
   "id": "94a79c7b-596e-4aa4-9844-ad3f8721562d",
   "metadata": {},
   "outputs": [
    {
     "name": "stdout",
     "output_type": "stream",
     "text": [
      "DataFrame:[0]:10000\n",
      "DataFrame:[1]:7500\n"
     ]
    }
   ],
   "source": [
    "from datetime import date\n",
    "df = pl.DataFrame(\n",
    "    data={\n",
    "        \"a\": range(17_500),\n",
    "        \"b\": date(2023, 1, 1),\n",
    "        \"c\": \"klmnoopqrstuvwxyz\",\n",
    "    },\n",
    "    schema_overrides={\"a\": pl.Int32},\n",
    ")\n",
    "for idx, frame in enumerate(df.iter_slices()):\n",
    "    print(f\"{type(frame).__name__}:[{idx}]:{len(frame)}\")"
   ]
  },
  {
   "cell_type": "code",
   "execution_count": 134,
   "id": "ccbc6e54-c9da-4ce8-817a-cbe697621872",
   "metadata": {},
   "outputs": [
    {
     "name": "stdout",
     "output_type": "stream",
     "text": [
      "a: int32\n",
      "b: date32[day]\n",
      "c: large_string\n",
      "<< 15000\n",
      "a: int32\n",
      "b: date32[day]\n",
      "c: large_string\n",
      "<< 2500\n"
     ]
    }
   ],
   "source": [
    "for frame in df.iter_slices(n_rows=15_000):\n",
    "    record_batch = frame.to_arrow().to_batches()[0] # Convierte el fragmento frame a un formato de Apache Arrow (Arrow Table) y luego lo convierte en un RecordBatch.\n",
    "    print(f\"{record_batch.schema}\\n<< {len(record_batch)}\") # Imprime el esquema del RecordBatch y el número de filas que contiene."
   ]
  },
  {
   "cell_type": "markdown",
   "id": "95708595-3971-4432-aabd-0f257297f957",
   "metadata": {},
   "source": [
    "## join"
   ]
  },
  {
   "cell_type": "code",
   "execution_count": 135,
   "id": "6210b483-2997-4558-9e42-e6092182bfe6",
   "metadata": {},
   "outputs": [
    {
     "data": {
      "text/plain": [
       "(shape: (3, 3)\n",
       " ┌─────┬─────┬─────┐\n",
       " │ foo ┆ bar ┆ ham │\n",
       " │ --- ┆ --- ┆ --- │\n",
       " │ i64 ┆ f64 ┆ str │\n",
       " ╞═════╪═════╪═════╡\n",
       " │ 1   ┆ 6.0 ┆ a   │\n",
       " │ 2   ┆ 7.0 ┆ b   │\n",
       " │ 3   ┆ 8.0 ┆ c   │\n",
       " └─────┴─────┴─────┘,\n",
       " shape: (3, 2)\n",
       " ┌───────┬─────┐\n",
       " │ apple ┆ ham │\n",
       " │ ---   ┆ --- │\n",
       " │ str   ┆ str │\n",
       " ╞═══════╪═════╡\n",
       " │ x     ┆ a   │\n",
       " │ y     ┆ b   │\n",
       " │ z     ┆ d   │\n",
       " └───────┴─────┘)"
      ]
     },
     "execution_count": 135,
     "metadata": {},
     "output_type": "execute_result"
    }
   ],
   "source": [
    "df = pl.DataFrame(\n",
    "    {\n",
    "        \"foo\": [1, 2, 3],\n",
    "        \"bar\": [6.0, 7.0, 8.0],\n",
    "        \"ham\": [\"a\", \"b\", \"c\"],\n",
    "    }\n",
    ")\n",
    "other_df = pl.DataFrame(\n",
    "    {\n",
    "        \"apple\": [\"x\", \"y\", \"z\"],\n",
    "        \"ham\": [\"a\", \"b\", \"d\"],\n",
    "    }\n",
    ")\n",
    "df, other_df"
   ]
  },
  {
   "cell_type": "code",
   "execution_count": 136,
   "id": "8aff0f12-55a9-4cba-a6b7-97c80f6b13bf",
   "metadata": {},
   "outputs": [
    {
     "data": {
      "text/html": [
       "<div><style>\n",
       ".dataframe > thead > tr,\n",
       ".dataframe > tbody > tr {\n",
       "  text-align: right;\n",
       "  white-space: pre-wrap;\n",
       "}\n",
       "</style>\n",
       "<small>shape: (2, 4)</small><table border=\"1\" class=\"dataframe\"><thead><tr><th>foo</th><th>bar</th><th>ham</th><th>apple</th></tr><tr><td>i64</td><td>f64</td><td>str</td><td>str</td></tr></thead><tbody><tr><td>1</td><td>6.0</td><td>&quot;a&quot;</td><td>&quot;x&quot;</td></tr><tr><td>2</td><td>7.0</td><td>&quot;b&quot;</td><td>&quot;y&quot;</td></tr></tbody></table></div>"
      ],
      "text/plain": [
       "shape: (2, 4)\n",
       "┌─────┬─────┬─────┬───────┐\n",
       "│ foo ┆ bar ┆ ham ┆ apple │\n",
       "│ --- ┆ --- ┆ --- ┆ ---   │\n",
       "│ i64 ┆ f64 ┆ str ┆ str   │\n",
       "╞═════╪═════╪═════╪═══════╡\n",
       "│ 1   ┆ 6.0 ┆ a   ┆ x     │\n",
       "│ 2   ┆ 7.0 ┆ b   ┆ y     │\n",
       "└─────┴─────┴─────┴───────┘"
      ]
     },
     "execution_count": 136,
     "metadata": {},
     "output_type": "execute_result"
    }
   ],
   "source": [
    "df.join(other_df, on=\"ham\")"
   ]
  },
  {
   "cell_type": "code",
   "execution_count": 137,
   "id": "c4a3c103-b057-420d-ba6f-b62bc77d171c",
   "metadata": {},
   "outputs": [
    {
     "data": {
      "text/html": [
       "<div><style>\n",
       ".dataframe > thead > tr,\n",
       ".dataframe > tbody > tr {\n",
       "  text-align: right;\n",
       "  white-space: pre-wrap;\n",
       "}\n",
       "</style>\n",
       "<small>shape: (4, 5)</small><table border=\"1\" class=\"dataframe\"><thead><tr><th>foo</th><th>bar</th><th>ham</th><th>apple</th><th>ham_right</th></tr><tr><td>i64</td><td>f64</td><td>str</td><td>str</td><td>str</td></tr></thead><tbody><tr><td>1</td><td>6.0</td><td>&quot;a&quot;</td><td>&quot;x&quot;</td><td>&quot;a&quot;</td></tr><tr><td>2</td><td>7.0</td><td>&quot;b&quot;</td><td>&quot;y&quot;</td><td>&quot;b&quot;</td></tr><tr><td>null</td><td>null</td><td>null</td><td>&quot;z&quot;</td><td>&quot;d&quot;</td></tr><tr><td>3</td><td>8.0</td><td>&quot;c&quot;</td><td>null</td><td>null</td></tr></tbody></table></div>"
      ],
      "text/plain": [
       "shape: (4, 5)\n",
       "┌──────┬──────┬──────┬───────┬───────────┐\n",
       "│ foo  ┆ bar  ┆ ham  ┆ apple ┆ ham_right │\n",
       "│ ---  ┆ ---  ┆ ---  ┆ ---   ┆ ---       │\n",
       "│ i64  ┆ f64  ┆ str  ┆ str   ┆ str       │\n",
       "╞══════╪══════╪══════╪═══════╪═══════════╡\n",
       "│ 1    ┆ 6.0  ┆ a    ┆ x     ┆ a         │\n",
       "│ 2    ┆ 7.0  ┆ b    ┆ y     ┆ b         │\n",
       "│ null ┆ null ┆ null ┆ z     ┆ d         │\n",
       "│ 3    ┆ 8.0  ┆ c    ┆ null  ┆ null      │\n",
       "└──────┴──────┴──────┴───────┴───────────┘"
      ]
     },
     "execution_count": 137,
     "metadata": {},
     "output_type": "execute_result"
    }
   ],
   "source": [
    "df.join(other_df, on=\"ham\", how=\"full\")"
   ]
  },
  {
   "cell_type": "code",
   "execution_count": 138,
   "id": "6625ebd1-7b15-46dc-86c8-2f0e9ccdd24a",
   "metadata": {},
   "outputs": [
    {
     "data": {
      "text/html": [
       "<div><style>\n",
       ".dataframe > thead > tr,\n",
       ".dataframe > tbody > tr {\n",
       "  text-align: right;\n",
       "  white-space: pre-wrap;\n",
       "}\n",
       "</style>\n",
       "<small>shape: (3, 4)</small><table border=\"1\" class=\"dataframe\"><thead><tr><th>foo</th><th>bar</th><th>ham</th><th>apple</th></tr><tr><td>i64</td><td>f64</td><td>str</td><td>str</td></tr></thead><tbody><tr><td>1</td><td>6.0</td><td>&quot;a&quot;</td><td>&quot;x&quot;</td></tr><tr><td>2</td><td>7.0</td><td>&quot;b&quot;</td><td>&quot;y&quot;</td></tr><tr><td>3</td><td>8.0</td><td>&quot;c&quot;</td><td>null</td></tr></tbody></table></div>"
      ],
      "text/plain": [
       "shape: (3, 4)\n",
       "┌─────┬─────┬─────┬───────┐\n",
       "│ foo ┆ bar ┆ ham ┆ apple │\n",
       "│ --- ┆ --- ┆ --- ┆ ---   │\n",
       "│ i64 ┆ f64 ┆ str ┆ str   │\n",
       "╞═════╪═════╪═════╪═══════╡\n",
       "│ 1   ┆ 6.0 ┆ a   ┆ x     │\n",
       "│ 2   ┆ 7.0 ┆ b   ┆ y     │\n",
       "│ 3   ┆ 8.0 ┆ c   ┆ null  │\n",
       "└─────┴─────┴─────┴───────┘"
      ]
     },
     "execution_count": 138,
     "metadata": {},
     "output_type": "execute_result"
    }
   ],
   "source": [
    "df.join(other_df, on=\"ham\", how=\"left\", coalesce=True)\n",
    "# coalesce=True: Esta opción (cuando está activada) hace que los valores de la columna del DataFrame original (df) \n",
    "# se mantengan en caso de que el valor correspondiente de la columna de other_df sea nulo. \n",
    "# En otras palabras, si hay una columna con el mismo nombre en ambos DataFrame, y la columna resultante del other_df es nula, \n",
    "# se mantendrá el valor de la columna original del df.\n"
   ]
  },
  {
   "cell_type": "code",
   "execution_count": 139,
   "id": "089f16c2-8861-46cc-b70c-8b182cc8d690",
   "metadata": {},
   "outputs": [
    {
     "data": {
      "text/html": [
       "<div><style>\n",
       ".dataframe > thead > tr,\n",
       ".dataframe > tbody > tr {\n",
       "  text-align: right;\n",
       "  white-space: pre-wrap;\n",
       "}\n",
       "</style>\n",
       "<small>shape: (2, 3)</small><table border=\"1\" class=\"dataframe\"><thead><tr><th>foo</th><th>bar</th><th>ham</th></tr><tr><td>i64</td><td>f64</td><td>str</td></tr></thead><tbody><tr><td>1</td><td>6.0</td><td>&quot;a&quot;</td></tr><tr><td>2</td><td>7.0</td><td>&quot;b&quot;</td></tr></tbody></table></div>"
      ],
      "text/plain": [
       "shape: (2, 3)\n",
       "┌─────┬─────┬─────┐\n",
       "│ foo ┆ bar ┆ ham │\n",
       "│ --- ┆ --- ┆ --- │\n",
       "│ i64 ┆ f64 ┆ str │\n",
       "╞═════╪═════╪═════╡\n",
       "│ 1   ┆ 6.0 ┆ a   │\n",
       "│ 2   ┆ 7.0 ┆ b   │\n",
       "└─────┴─────┴─────┘"
      ]
     },
     "execution_count": 139,
     "metadata": {},
     "output_type": "execute_result"
    }
   ],
   "source": [
    "df.join(other_df, on=\"ham\", how=\"semi\")"
   ]
  },
  {
   "cell_type": "code",
   "execution_count": 140,
   "id": "09031780-aea4-4ea6-9a0d-39c724e6e4a9",
   "metadata": {},
   "outputs": [
    {
     "data": {
      "text/html": [
       "<div><style>\n",
       ".dataframe > thead > tr,\n",
       ".dataframe > tbody > tr {\n",
       "  text-align: right;\n",
       "  white-space: pre-wrap;\n",
       "}\n",
       "</style>\n",
       "<small>shape: (1, 3)</small><table border=\"1\" class=\"dataframe\"><thead><tr><th>foo</th><th>bar</th><th>ham</th></tr><tr><td>i64</td><td>f64</td><td>str</td></tr></thead><tbody><tr><td>3</td><td>8.0</td><td>&quot;c&quot;</td></tr></tbody></table></div>"
      ],
      "text/plain": [
       "shape: (1, 3)\n",
       "┌─────┬─────┬─────┐\n",
       "│ foo ┆ bar ┆ ham │\n",
       "│ --- ┆ --- ┆ --- │\n",
       "│ i64 ┆ f64 ┆ str │\n",
       "╞═════╪═════╪═════╡\n",
       "│ 3   ┆ 8.0 ┆ c   │\n",
       "└─────┴─────┴─────┘"
      ]
     },
     "execution_count": 140,
     "metadata": {},
     "output_type": "execute_result"
    }
   ],
   "source": [
    "df.join(other_df, on=\"ham\", how=\"anti\")"
   ]
  },
  {
   "cell_type": "markdown",
   "id": "e5482dc6-7612-4291-81c9-a54b7705fd39",
   "metadata": {},
   "source": [
    "## join_asof\n",
    "This is similar to a left-join except that we match on nearest key rather than equal keys."
   ]
  },
  {
   "cell_type": "code",
   "execution_count": 141,
   "id": "9530d2ce-216a-4ae5-bdec-b062a77db858",
   "metadata": {},
   "outputs": [
    {
     "data": {
      "text/html": [
       "<div><style>\n",
       ".dataframe > thead > tr,\n",
       ".dataframe > tbody > tr {\n",
       "  text-align: right;\n",
       "  white-space: pre-wrap;\n",
       "}\n",
       "</style>\n",
       "<small>shape: (5, 2)</small><table border=\"1\" class=\"dataframe\"><thead><tr><th>date</th><th>gdp</th></tr><tr><td>date</td><td>i64</td></tr></thead><tbody><tr><td>2016-01-01</td><td>4164</td></tr><tr><td>2017-01-01</td><td>4411</td></tr><tr><td>2018-01-01</td><td>4566</td></tr><tr><td>2019-01-01</td><td>4696</td></tr><tr><td>2020-01-01</td><td>4827</td></tr></tbody></table></div>"
      ],
      "text/plain": [
       "shape: (5, 2)\n",
       "┌────────────┬──────┐\n",
       "│ date       ┆ gdp  │\n",
       "│ ---        ┆ ---  │\n",
       "│ date       ┆ i64  │\n",
       "╞════════════╪══════╡\n",
       "│ 2016-01-01 ┆ 4164 │\n",
       "│ 2017-01-01 ┆ 4411 │\n",
       "│ 2018-01-01 ┆ 4566 │\n",
       "│ 2019-01-01 ┆ 4696 │\n",
       "│ 2020-01-01 ┆ 4827 │\n",
       "└────────────┴──────┘"
      ]
     },
     "execution_count": 141,
     "metadata": {},
     "output_type": "execute_result"
    }
   ],
   "source": [
    "from datetime import date\n",
    "gdp = pl.DataFrame(\n",
    "    {\n",
    "        \"date\": pl.date_range(\n",
    "            date(2016, 1, 1),\n",
    "            date(2020, 1, 1),\n",
    "            \"1y\",\n",
    "            eager=True,\n",
    "        ),\n",
    "        \"gdp\": [4164, 4411, 4566, 4696, 4827],\n",
    "    }\n",
    ")\n",
    "gdp"
   ]
  },
  {
   "cell_type": "code",
   "execution_count": 142,
   "id": "fcce4a1c-c7f2-4c52-ad07-9206e9760791",
   "metadata": {},
   "outputs": [
    {
     "data": {
      "text/html": [
       "<div><style>\n",
       ".dataframe > thead > tr,\n",
       ".dataframe > tbody > tr {\n",
       "  text-align: right;\n",
       "  white-space: pre-wrap;\n",
       "}\n",
       "</style>\n",
       "<small>shape: (3, 2)</small><table border=\"1\" class=\"dataframe\"><thead><tr><th>date</th><th>population</th></tr><tr><td>date</td><td>f64</td></tr></thead><tbody><tr><td>2016-03-01</td><td>82.19</td></tr><tr><td>2018-08-01</td><td>82.66</td></tr><tr><td>2019-01-01</td><td>83.12</td></tr></tbody></table></div>"
      ],
      "text/plain": [
       "shape: (3, 2)\n",
       "┌────────────┬────────────┐\n",
       "│ date       ┆ population │\n",
       "│ ---        ┆ ---        │\n",
       "│ date       ┆ f64        │\n",
       "╞════════════╪════════════╡\n",
       "│ 2016-03-01 ┆ 82.19      │\n",
       "│ 2018-08-01 ┆ 82.66      │\n",
       "│ 2019-01-01 ┆ 83.12      │\n",
       "└────────────┴────────────┘"
      ]
     },
     "execution_count": 142,
     "metadata": {},
     "output_type": "execute_result"
    }
   ],
   "source": [
    "population = pl.DataFrame(\n",
    "    {\n",
    "        \"date\": [date(2016, 3, 1), date(2018, 8, 1), date(2019, 1, 1)],\n",
    "        \"population\": [82.19, 82.66, 83.12],\n",
    "    }\n",
    ").sort(\"date\")\n",
    "population"
   ]
  },
  {
   "cell_type": "code",
   "execution_count": 143,
   "id": "13ff6c60-342d-4f5a-b978-e465fdec478f",
   "metadata": {},
   "outputs": [
    {
     "data": {
      "text/html": [
       "<div><style>\n",
       ".dataframe > thead > tr,\n",
       ".dataframe > tbody > tr {\n",
       "  text-align: right;\n",
       "  white-space: pre-wrap;\n",
       "}\n",
       "</style>\n",
       "<small>shape: (3, 3)</small><table border=\"1\" class=\"dataframe\"><thead><tr><th>date</th><th>population</th><th>gdp</th></tr><tr><td>date</td><td>f64</td><td>i64</td></tr></thead><tbody><tr><td>2016-03-01</td><td>82.19</td><td>4164</td></tr><tr><td>2018-08-01</td><td>82.66</td><td>4566</td></tr><tr><td>2019-01-01</td><td>83.12</td><td>4696</td></tr></tbody></table></div>"
      ],
      "text/plain": [
       "shape: (3, 3)\n",
       "┌────────────┬────────────┬──────┐\n",
       "│ date       ┆ population ┆ gdp  │\n",
       "│ ---        ┆ ---        ┆ ---  │\n",
       "│ date       ┆ f64        ┆ i64  │\n",
       "╞════════════╪════════════╪══════╡\n",
       "│ 2016-03-01 ┆ 82.19      ┆ 4164 │\n",
       "│ 2018-08-01 ┆ 82.66      ┆ 4566 │\n",
       "│ 2019-01-01 ┆ 83.12      ┆ 4696 │\n",
       "└────────────┴────────────┴──────┘"
      ]
     },
     "execution_count": 143,
     "metadata": {},
     "output_type": "execute_result"
    }
   ],
   "source": [
    "# Note how the dates don’t quite match. If we join them using join_asof and strategy='backward', \n",
    "# then each date from population which doesn’t have an exact match is matched with the closest earlier date from gdp:\n",
    "population.join_asof(gdp, on=\"date\", strategy=\"backward\")"
   ]
  },
  {
   "cell_type": "markdown",
   "id": "20d2929e-152f-4a61-b3bf-8fb592d92748",
   "metadata": {},
   "source": [
    "Note how the dates don’t quite match. If we join them using join_asof and strategy='backward', \n",
    "then each date from population which doesn’t have an exact match is matched with the closest earlier date from gdp:\n",
    "\n",
    "Note how:\n",
    "\n",
    "date 2016-03-01 from population is matched with 2016-01-01 from gdp;\n",
    "\n",
    "date 2018-08-01 from population is matched with 2018-01-01 from gdp."
   ]
  },
  {
   "cell_type": "code",
   "execution_count": 144,
   "id": "725da5cf-2991-4897-b5ad-d12afdf591f8",
   "metadata": {},
   "outputs": [
    {
     "data": {
      "text/html": [
       "<div><style>\n",
       ".dataframe > thead > tr,\n",
       ".dataframe > tbody > tr {\n",
       "  text-align: right;\n",
       "  white-space: pre-wrap;\n",
       "}\n",
       "</style>\n",
       "<small>shape: (3, 3)</small><table border=\"1\" class=\"dataframe\"><thead><tr><th>date</th><th>population</th><th>gdp</th></tr><tr><td>date</td><td>f64</td><td>i64</td></tr></thead><tbody><tr><td>2016-03-01</td><td>82.19</td><td>4411</td></tr><tr><td>2018-08-01</td><td>82.66</td><td>4696</td></tr><tr><td>2019-01-01</td><td>83.12</td><td>4696</td></tr></tbody></table></div>"
      ],
      "text/plain": [
       "shape: (3, 3)\n",
       "┌────────────┬────────────┬──────┐\n",
       "│ date       ┆ population ┆ gdp  │\n",
       "│ ---        ┆ ---        ┆ ---  │\n",
       "│ date       ┆ f64        ┆ i64  │\n",
       "╞════════════╪════════════╪══════╡\n",
       "│ 2016-03-01 ┆ 82.19      ┆ 4411 │\n",
       "│ 2018-08-01 ┆ 82.66      ┆ 4696 │\n",
       "│ 2019-01-01 ┆ 83.12      ┆ 4696 │\n",
       "└────────────┴────────────┴──────┘"
      ]
     },
     "execution_count": 144,
     "metadata": {},
     "output_type": "execute_result"
    }
   ],
   "source": [
    "population.join_asof(gdp, on=\"date\", strategy=\"forward\")"
   ]
  },
  {
   "cell_type": "code",
   "execution_count": 145,
   "id": "0463c997-cd1b-486b-927e-e1e22e2febe6",
   "metadata": {},
   "outputs": [
    {
     "data": {
      "text/html": [
       "<div><style>\n",
       ".dataframe > thead > tr,\n",
       ".dataframe > tbody > tr {\n",
       "  text-align: right;\n",
       "  white-space: pre-wrap;\n",
       "}\n",
       "</style>\n",
       "<small>shape: (3, 3)</small><table border=\"1\" class=\"dataframe\"><thead><tr><th>date</th><th>population</th><th>gdp</th></tr><tr><td>date</td><td>f64</td><td>i64</td></tr></thead><tbody><tr><td>2016-03-01</td><td>82.19</td><td>4164</td></tr><tr><td>2018-08-01</td><td>82.66</td><td>4696</td></tr><tr><td>2019-01-01</td><td>83.12</td><td>4696</td></tr></tbody></table></div>"
      ],
      "text/plain": [
       "shape: (3, 3)\n",
       "┌────────────┬────────────┬──────┐\n",
       "│ date       ┆ population ┆ gdp  │\n",
       "│ ---        ┆ ---        ┆ ---  │\n",
       "│ date       ┆ f64        ┆ i64  │\n",
       "╞════════════╪════════════╪══════╡\n",
       "│ 2016-03-01 ┆ 82.19      ┆ 4164 │\n",
       "│ 2018-08-01 ┆ 82.66      ┆ 4696 │\n",
       "│ 2019-01-01 ┆ 83.12      ┆ 4696 │\n",
       "└────────────┴────────────┴──────┘"
      ]
     },
     "execution_count": 145,
     "metadata": {},
     "output_type": "execute_result"
    }
   ],
   "source": [
    "population.join_asof(gdp, on=\"date\", strategy=\"nearest\")"
   ]
  },
  {
   "cell_type": "markdown",
   "id": "76cbeedc-8eee-4ab0-9de8-314edb23b051",
   "metadata": {},
   "source": [
    "Finally, strategy='nearest' gives us a mix of the two results above, as each date from population which doesn’t have an exact match is matched with the closest date from gdp, regardless of whether it’s earlier or later:"
   ]
  },
  {
   "cell_type": "code",
   "execution_count": 146,
   "id": "0b84cfcc-5603-4659-ad73-feb14341a128",
   "metadata": {},
   "outputs": [
    {
     "data": {
      "text/html": [
       "<div><style>\n",
       ".dataframe > thead > tr,\n",
       ".dataframe > tbody > tr {\n",
       "  text-align: right;\n",
       "  white-space: pre-wrap;\n",
       "}\n",
       "</style>\n",
       "<small>shape: (6, 4)</small><table border=\"1\" class=\"dataframe\"><thead><tr><th>country</th><th>date</th><th>population</th><th>gdp</th></tr><tr><td>str</td><td>date</td><td>f64</td><td>i64</td></tr></thead><tbody><tr><td>&quot;Germany&quot;</td><td>2016-03-01</td><td>82.19</td><td>4164</td></tr><tr><td>&quot;Germany&quot;</td><td>2018-08-01</td><td>82.66</td><td>4696</td></tr><tr><td>&quot;Germany&quot;</td><td>2019-01-01</td><td>83.12</td><td>4696</td></tr><tr><td>&quot;Netherlands&quot;</td><td>2016-03-01</td><td>17.11</td><td>784</td></tr><tr><td>&quot;Netherlands&quot;</td><td>2018-08-01</td><td>17.32</td><td>910</td></tr><tr><td>&quot;Netherlands&quot;</td><td>2019-01-01</td><td>17.4</td><td>910</td></tr></tbody></table></div>"
      ],
      "text/plain": [
       "shape: (6, 4)\n",
       "┌─────────────┬────────────┬────────────┬──────┐\n",
       "│ country     ┆ date       ┆ population ┆ gdp  │\n",
       "│ ---         ┆ ---        ┆ ---        ┆ ---  │\n",
       "│ str         ┆ date       ┆ f64        ┆ i64  │\n",
       "╞═════════════╪════════════╪════════════╪══════╡\n",
       "│ Germany     ┆ 2016-03-01 ┆ 82.19      ┆ 4164 │\n",
       "│ Germany     ┆ 2018-08-01 ┆ 82.66      ┆ 4696 │\n",
       "│ Germany     ┆ 2019-01-01 ┆ 83.12      ┆ 4696 │\n",
       "│ Netherlands ┆ 2016-03-01 ┆ 17.11      ┆ 784  │\n",
       "│ Netherlands ┆ 2018-08-01 ┆ 17.32      ┆ 910  │\n",
       "│ Netherlands ┆ 2019-01-01 ┆ 17.4       ┆ 910  │\n",
       "└─────────────┴────────────┴────────────┴──────┘"
      ]
     },
     "execution_count": 146,
     "metadata": {},
     "output_type": "execute_result"
    }
   ],
   "source": [
    "gdp_dates = pl.date_range(  # fmt: skip\n",
    "    date(2016, 1, 1), date(2020, 1, 1), \"1y\", eager=True\n",
    ")\n",
    "gdp2 = pl.DataFrame(\n",
    "    {\n",
    "        \"country\": [\"Germany\"] * 5 + [\"Netherlands\"] * 5,\n",
    "        \"date\": pl.concat([gdp_dates, gdp_dates]),\n",
    "        \"gdp\": [4164, 4411, 4566, 4696, 4827, 784, 833, 914, 910, 909],\n",
    "    }\n",
    ").sort(\"country\", \"date\")\n",
    "gdp2\n",
    "pop2 = pl.DataFrame(\n",
    "    {\n",
    "        \"country\": [\"Germany\"] * 3 + [\"Netherlands\"] * 3,\n",
    "        \"date\": [\n",
    "            date(2016, 3, 1),\n",
    "            date(2018, 8, 1),\n",
    "            date(2019, 1, 1),\n",
    "            date(2016, 3, 1),\n",
    "            date(2018, 8, 1),\n",
    "            date(2019, 1, 1),\n",
    "        ],\n",
    "        \"population\": [82.19, 82.66, 83.12, 17.11, 17.32, 17.40],\n",
    "    }\n",
    ").sort(\"country\", \"date\")\n",
    "pop2\n",
    "pop2.join_asof(gdp2, by=\"country\", on=\"date\", strategy=\"nearest\")"
   ]
  },
  {
   "cell_type": "markdown",
   "id": "c4bccc88-ca17-4019-a4c8-483265c727f2",
   "metadata": {},
   "source": [
    "## lazy"
   ]
  },
  {
   "cell_type": "code",
   "execution_count": 147,
   "id": "5d1cf372-bac3-491d-acd4-a2b47b5a0ccc",
   "metadata": {},
   "outputs": [
    {
     "data": {
      "text/html": [
       "<h4>NAIVE QUERY PLAN</h4><p>run <b>LazyFrame.show_graph()</b> to see the optimized version</p><?xml version=\"1.0\" encoding=\"UTF-8\" standalone=\"no\"?>\n",
       "<!DOCTYPE svg PUBLIC \"-//W3C//DTD SVG 1.1//EN\"\n",
       " \"http://www.w3.org/Graphics/SVG/1.1/DTD/svg11.dtd\">\n",
       "<!-- Generated by graphviz version 12.1.0 (20240811.2233)\n",
       " -->\n",
       "<!-- Title: polars_query Pages: 1 -->\n",
       "<svg width=\"68pt\" height=\"66pt\"\n",
       " viewBox=\"0.00 0.00 67.50 65.50\" xmlns=\"http://www.w3.org/2000/svg\" xmlns:xlink=\"http://www.w3.org/1999/xlink\">\n",
       "<g id=\"graph0\" class=\"graph\" transform=\"scale(1 1) rotate(0) translate(4 61.5)\">\n",
       "<title>polars_query</title>\n",
       "<polygon fill=\"white\" stroke=\"none\" points=\"-4,4 -4,-61.5 63.5,-61.5 63.5,4 -4,4\"/>\n",
       "<!-- p1 -->\n",
       "<g id=\"node1\" class=\"node\">\n",
       "<title>p1</title>\n",
       "<polygon fill=\"none\" stroke=\"black\" points=\"59.5,-57.5 0,-57.5 0,0 59.5,0 59.5,-57.5\"/>\n",
       "<text text-anchor=\"middle\" x=\"29.75\" y=\"-40.2\" font-family=\"Times,serif\" font-size=\"14.00\">TABLE</text>\n",
       "<text text-anchor=\"middle\" x=\"29.75\" y=\"-23.7\" font-family=\"Times,serif\" font-size=\"14.00\">π */3;</text>\n",
       "<text text-anchor=\"middle\" x=\"29.75\" y=\"-7.2\" font-family=\"Times,serif\" font-size=\"14.00\">σ None</text>\n",
       "</g>\n",
       "</g>\n",
       "</svg>\n"
      ],
      "text/plain": [
       "<LazyFrame at 0x1171AA900>"
      ]
     },
     "execution_count": 147,
     "metadata": {},
     "output_type": "execute_result"
    }
   ],
   "source": [
    "df = pl.DataFrame(\n",
    "    {\n",
    "        \"a\": [None, 2, 3, 4],\n",
    "        \"b\": [0.5, None, 2.5, 13],\n",
    "        \"c\": [True, True, False, None],\n",
    "    }\n",
    ")\n",
    "df.lazy()  "
   ]
  },
  {
   "cell_type": "markdown",
   "id": "bb56f186-90b1-48d7-85fa-c903b7924bab",
   "metadata": {},
   "source": [
    "## limit"
   ]
  },
  {
   "cell_type": "code",
   "execution_count": 148,
   "id": "50e0fd22-e859-4c08-9c77-38c3719c7e6e",
   "metadata": {},
   "outputs": [
    {
     "data": {
      "text/html": [
       "<div><style>\n",
       ".dataframe > thead > tr,\n",
       ".dataframe > tbody > tr {\n",
       "  text-align: right;\n",
       "  white-space: pre-wrap;\n",
       "}\n",
       "</style>\n",
       "<small>shape: (5, 3)</small><table border=\"1\" class=\"dataframe\"><thead><tr><th>foo</th><th>bar</th><th>ham</th></tr><tr><td>i64</td><td>i64</td><td>str</td></tr></thead><tbody><tr><td>1</td><td>6</td><td>&quot;a&quot;</td></tr><tr><td>2</td><td>7</td><td>&quot;b&quot;</td></tr><tr><td>3</td><td>8</td><td>&quot;c&quot;</td></tr><tr><td>4</td><td>9</td><td>&quot;d&quot;</td></tr><tr><td>5</td><td>10</td><td>&quot;e&quot;</td></tr></tbody></table></div>"
      ],
      "text/plain": [
       "shape: (5, 3)\n",
       "┌─────┬─────┬─────┐\n",
       "│ foo ┆ bar ┆ ham │\n",
       "│ --- ┆ --- ┆ --- │\n",
       "│ i64 ┆ i64 ┆ str │\n",
       "╞═════╪═════╪═════╡\n",
       "│ 1   ┆ 6   ┆ a   │\n",
       "│ 2   ┆ 7   ┆ b   │\n",
       "│ 3   ┆ 8   ┆ c   │\n",
       "│ 4   ┆ 9   ┆ d   │\n",
       "│ 5   ┆ 10  ┆ e   │\n",
       "└─────┴─────┴─────┘"
      ]
     },
     "execution_count": 148,
     "metadata": {},
     "output_type": "execute_result"
    }
   ],
   "source": [
    "df = pl.DataFrame(\n",
    "    {\n",
    "        \"foo\": [1, 2, 3, 4, 5],\n",
    "        \"bar\": [6, 7, 8, 9, 10],\n",
    "        \"ham\": [\"a\", \"b\", \"c\", \"d\", \"e\"],\n",
    "    }\n",
    ")\n",
    "df"
   ]
  },
  {
   "cell_type": "code",
   "execution_count": 149,
   "id": "c09ef263-ae58-4e0b-9886-0a8c7e71a3f8",
   "metadata": {},
   "outputs": [
    {
     "data": {
      "text/html": [
       "<div><style>\n",
       ".dataframe > thead > tr,\n",
       ".dataframe > tbody > tr {\n",
       "  text-align: right;\n",
       "  white-space: pre-wrap;\n",
       "}\n",
       "</style>\n",
       "<small>shape: (3, 3)</small><table border=\"1\" class=\"dataframe\"><thead><tr><th>foo</th><th>bar</th><th>ham</th></tr><tr><td>i64</td><td>i64</td><td>str</td></tr></thead><tbody><tr><td>1</td><td>6</td><td>&quot;a&quot;</td></tr><tr><td>2</td><td>7</td><td>&quot;b&quot;</td></tr><tr><td>3</td><td>8</td><td>&quot;c&quot;</td></tr></tbody></table></div>"
      ],
      "text/plain": [
       "shape: (3, 3)\n",
       "┌─────┬─────┬─────┐\n",
       "│ foo ┆ bar ┆ ham │\n",
       "│ --- ┆ --- ┆ --- │\n",
       "│ i64 ┆ i64 ┆ str │\n",
       "╞═════╪═════╪═════╡\n",
       "│ 1   ┆ 6   ┆ a   │\n",
       "│ 2   ┆ 7   ┆ b   │\n",
       "│ 3   ┆ 8   ┆ c   │\n",
       "└─────┴─────┴─────┘"
      ]
     },
     "execution_count": 149,
     "metadata": {},
     "output_type": "execute_result"
    }
   ],
   "source": [
    "df.limit(3)"
   ]
  },
  {
   "cell_type": "code",
   "execution_count": 150,
   "id": "95541581-3a78-49d1-83d9-18b229f4dd09",
   "metadata": {},
   "outputs": [
    {
     "data": {
      "text/html": [
       "<div><style>\n",
       ".dataframe > thead > tr,\n",
       ".dataframe > tbody > tr {\n",
       "  text-align: right;\n",
       "  white-space: pre-wrap;\n",
       "}\n",
       "</style>\n",
       "<small>shape: (4, 3)</small><table border=\"1\" class=\"dataframe\"><thead><tr><th>foo</th><th>bar</th><th>ham</th></tr><tr><td>i64</td><td>i64</td><td>str</td></tr></thead><tbody><tr><td>1</td><td>6</td><td>&quot;a&quot;</td></tr><tr><td>2</td><td>7</td><td>&quot;b&quot;</td></tr><tr><td>3</td><td>8</td><td>&quot;c&quot;</td></tr><tr><td>4</td><td>9</td><td>&quot;d&quot;</td></tr></tbody></table></div>"
      ],
      "text/plain": [
       "shape: (4, 3)\n",
       "┌─────┬─────┬─────┐\n",
       "│ foo ┆ bar ┆ ham │\n",
       "│ --- ┆ --- ┆ --- │\n",
       "│ i64 ┆ i64 ┆ str │\n",
       "╞═════╪═════╪═════╡\n",
       "│ 1   ┆ 6   ┆ a   │\n",
       "│ 2   ┆ 7   ┆ b   │\n",
       "│ 3   ┆ 8   ┆ c   │\n",
       "│ 4   ┆ 9   ┆ d   │\n",
       "└─────┴─────┴─────┘"
      ]
     },
     "execution_count": 150,
     "metadata": {},
     "output_type": "execute_result"
    }
   ],
   "source": [
    "df.limit(-1)"
   ]
  },
  {
   "cell_type": "markdown",
   "id": "9c02412d-680b-4f84-a2cd-1117ae3f1d1d",
   "metadata": {},
   "source": [
    "## map_rows\n",
    "Apply a custom/user-defined function (UDF) over the rows of the DataFrame. **This method is much slower than the native expressions API. Only use it if you cannot implement your logic otherwise.**"
   ]
  },
  {
   "cell_type": "code",
   "execution_count": 151,
   "id": "1e6ffe7d-c36d-4a2e-86d9-4c0139ef4427",
   "metadata": {},
   "outputs": [
    {
     "data": {
      "text/html": [
       "<div><style>\n",
       ".dataframe > thead > tr,\n",
       ".dataframe > tbody > tr {\n",
       "  text-align: right;\n",
       "  white-space: pre-wrap;\n",
       "}\n",
       "</style>\n",
       "<small>shape: (3, 2)</small><table border=\"1\" class=\"dataframe\"><thead><tr><th>foo</th><th>bar</th></tr><tr><td>i64</td><td>i64</td></tr></thead><tbody><tr><td>1</td><td>-1</td></tr><tr><td>2</td><td>5</td></tr><tr><td>3</td><td>8</td></tr></tbody></table></div>"
      ],
      "text/plain": [
       "shape: (3, 2)\n",
       "┌─────┬─────┐\n",
       "│ foo ┆ bar │\n",
       "│ --- ┆ --- │\n",
       "│ i64 ┆ i64 │\n",
       "╞═════╪═════╡\n",
       "│ 1   ┆ -1  │\n",
       "│ 2   ┆ 5   │\n",
       "│ 3   ┆ 8   │\n",
       "└─────┴─────┘"
      ]
     },
     "execution_count": 151,
     "metadata": {},
     "output_type": "execute_result"
    }
   ],
   "source": [
    "df = pl.DataFrame({\"foo\": [1, 2, 3], \"bar\": [-1, 5, 8]})\n",
    "df"
   ]
  },
  {
   "cell_type": "code",
   "execution_count": 152,
   "id": "9a0c4930-34c7-4d68-903d-e81bd5217ff8",
   "metadata": {},
   "outputs": [
    {
     "data": {
      "text/html": [
       "<div><style>\n",
       ".dataframe > thead > tr,\n",
       ".dataframe > tbody > tr {\n",
       "  text-align: right;\n",
       "  white-space: pre-wrap;\n",
       "}\n",
       "</style>\n",
       "<small>shape: (3, 2)</small><table border=\"1\" class=\"dataframe\"><thead><tr><th>column_0</th><th>column_1</th></tr><tr><td>i64</td><td>i64</td></tr></thead><tbody><tr><td>2</td><td>-3</td></tr><tr><td>4</td><td>15</td></tr><tr><td>6</td><td>24</td></tr></tbody></table></div>"
      ],
      "text/plain": [
       "shape: (3, 2)\n",
       "┌──────────┬──────────┐\n",
       "│ column_0 ┆ column_1 │\n",
       "│ ---      ┆ ---      │\n",
       "│ i64      ┆ i64      │\n",
       "╞══════════╪══════════╡\n",
       "│ 2        ┆ -3       │\n",
       "│ 4        ┆ 15       │\n",
       "│ 6        ┆ 24       │\n",
       "└──────────┴──────────┘"
      ]
     },
     "execution_count": 152,
     "metadata": {},
     "output_type": "execute_result"
    }
   ],
   "source": [
    "df.map_rows(lambda t: (t[0] * 2, t[1] * 3))"
   ]
  },
  {
   "cell_type": "markdown",
   "id": "0227549f-159c-4ef5-adf5-716e5e08fc5a",
   "metadata": {},
   "source": [
    "Es mejor hacerlo asi "
   ]
  },
  {
   "cell_type": "code",
   "execution_count": 153,
   "id": "52663b7a-9cf8-4a28-b41f-ea4083f9f66f",
   "metadata": {},
   "outputs": [
    {
     "data": {
      "text/html": [
       "<div><style>\n",
       ".dataframe > thead > tr,\n",
       ".dataframe > tbody > tr {\n",
       "  text-align: right;\n",
       "  white-space: pre-wrap;\n",
       "}\n",
       "</style>\n",
       "<small>shape: (3, 2)</small><table border=\"1\" class=\"dataframe\"><thead><tr><th>foo</th><th>bar</th></tr><tr><td>i64</td><td>i64</td></tr></thead><tbody><tr><td>2</td><td>-3</td></tr><tr><td>4</td><td>15</td></tr><tr><td>6</td><td>24</td></tr></tbody></table></div>"
      ],
      "text/plain": [
       "shape: (3, 2)\n",
       "┌─────┬─────┐\n",
       "│ foo ┆ bar │\n",
       "│ --- ┆ --- │\n",
       "│ i64 ┆ i64 │\n",
       "╞═════╪═════╡\n",
       "│ 2   ┆ -3  │\n",
       "│ 4   ┆ 15  │\n",
       "│ 6   ┆ 24  │\n",
       "└─────┴─────┘"
      ]
     },
     "execution_count": 153,
     "metadata": {},
     "output_type": "execute_result"
    }
   ],
   "source": [
    "df.select(\n",
    "    pl.col(\"foo\") * 2,\n",
    "    pl.col(\"bar\") * 3,\n",
    ")  "
   ]
  },
  {
   "cell_type": "code",
   "execution_count": 154,
   "id": "c3aedef2-80b5-4672-84cb-bb0a70e9b119",
   "metadata": {},
   "outputs": [
    {
     "data": {
      "text/html": [
       "<div><style>\n",
       ".dataframe > thead > tr,\n",
       ".dataframe > tbody > tr {\n",
       "  text-align: right;\n",
       "  white-space: pre-wrap;\n",
       "}\n",
       "</style>\n",
       "<small>shape: (3, 1)</small><table border=\"1\" class=\"dataframe\"><thead><tr><th>map</th></tr><tr><td>i64</td></tr></thead><tbody><tr><td>1</td></tr><tr><td>9</td></tr><tr><td>14</td></tr></tbody></table></div>"
      ],
      "text/plain": [
       "shape: (3, 1)\n",
       "┌─────┐\n",
       "│ map │\n",
       "│ --- │\n",
       "│ i64 │\n",
       "╞═════╡\n",
       "│ 1   │\n",
       "│ 9   │\n",
       "│ 14  │\n",
       "└─────┘"
      ]
     },
     "execution_count": 154,
     "metadata": {},
     "output_type": "execute_result"
    }
   ],
   "source": [
    "df.map_rows(lambda t: (t[0] * 2 + t[1])) "
   ]
  },
  {
   "cell_type": "code",
   "execution_count": 155,
   "id": "45b54093-6c45-4aac-8fcf-2556678e8aef",
   "metadata": {},
   "outputs": [
    {
     "data": {
      "text/html": [
       "<div><style>\n",
       ".dataframe > thead > tr,\n",
       ".dataframe > tbody > tr {\n",
       "  text-align: right;\n",
       "  white-space: pre-wrap;\n",
       "}\n",
       "</style>\n",
       "<small>shape: (3, 1)</small><table border=\"1\" class=\"dataframe\"><thead><tr><th>foo</th></tr><tr><td>i64</td></tr></thead><tbody><tr><td>1</td></tr><tr><td>9</td></tr><tr><td>14</td></tr></tbody></table></div>"
      ],
      "text/plain": [
       "shape: (3, 1)\n",
       "┌─────┐\n",
       "│ foo │\n",
       "│ --- │\n",
       "│ i64 │\n",
       "╞═════╡\n",
       "│ 1   │\n",
       "│ 9   │\n",
       "│ 14  │\n",
       "└─────┘"
      ]
     },
     "execution_count": 155,
     "metadata": {},
     "output_type": "execute_result"
    }
   ],
   "source": [
    "df.select(pl.col(\"foo\") * 2 + pl.col(\"bar\"))  "
   ]
  },
  {
   "cell_type": "markdown",
   "id": "2c6802c0-a21f-4c36-ae31-4f9d78dba6f9",
   "metadata": {},
   "source": [
    "## max"
   ]
  },
  {
   "cell_type": "code",
   "execution_count": 156,
   "id": "557968aa-e9d1-4059-a8d3-80b4d3999e25",
   "metadata": {},
   "outputs": [
    {
     "data": {
      "text/html": [
       "<div><style>\n",
       ".dataframe > thead > tr,\n",
       ".dataframe > tbody > tr {\n",
       "  text-align: right;\n",
       "  white-space: pre-wrap;\n",
       "}\n",
       "</style>\n",
       "<small>shape: (1, 3)</small><table border=\"1\" class=\"dataframe\"><thead><tr><th>foo</th><th>bar</th><th>ham</th></tr><tr><td>i64</td><td>i64</td><td>str</td></tr></thead><tbody><tr><td>3</td><td>8</td><td>&quot;c&quot;</td></tr></tbody></table></div>"
      ],
      "text/plain": [
       "shape: (1, 3)\n",
       "┌─────┬─────┬─────┐\n",
       "│ foo ┆ bar ┆ ham │\n",
       "│ --- ┆ --- ┆ --- │\n",
       "│ i64 ┆ i64 ┆ str │\n",
       "╞═════╪═════╪═════╡\n",
       "│ 3   ┆ 8   ┆ c   │\n",
       "└─────┴─────┴─────┘"
      ]
     },
     "execution_count": 156,
     "metadata": {},
     "output_type": "execute_result"
    }
   ],
   "source": [
    "df = pl.DataFrame(\n",
    "    {\n",
    "        \"foo\": [1, 2, 3],\n",
    "        \"bar\": [6, 7, 8],\n",
    "        \"ham\": [\"a\", \"b\", \"c\"],\n",
    "    }\n",
    ")\n",
    "df.max()"
   ]
  },
  {
   "cell_type": "markdown",
   "id": "ba628634-75e5-4623-9d60-311ea4326663",
   "metadata": {},
   "source": [
    "## max_horizontal"
   ]
  },
  {
   "cell_type": "code",
   "execution_count": 157,
   "id": "889a0715-1595-40fc-8f47-e551ab6deb40",
   "metadata": {},
   "outputs": [
    {
     "data": {
      "text/html": [
       "<div><style>\n",
       ".dataframe > thead > tr,\n",
       ".dataframe > tbody > tr {\n",
       "  text-align: right;\n",
       "  white-space: pre-wrap;\n",
       "}\n",
       "</style>\n",
       "<small>shape: (3, 2)</small><table border=\"1\" class=\"dataframe\"><thead><tr><th>foo</th><th>bar</th></tr><tr><td>i64</td><td>f64</td></tr></thead><tbody><tr><td>10</td><td>4.0</td></tr><tr><td>2</td><td>5.0</td></tr><tr><td>3</td><td>6.0</td></tr></tbody></table></div>"
      ],
      "text/plain": [
       "shape: (3, 2)\n",
       "┌─────┬─────┐\n",
       "│ foo ┆ bar │\n",
       "│ --- ┆ --- │\n",
       "│ i64 ┆ f64 │\n",
       "╞═════╪═════╡\n",
       "│ 10  ┆ 4.0 │\n",
       "│ 2   ┆ 5.0 │\n",
       "│ 3   ┆ 6.0 │\n",
       "└─────┴─────┘"
      ]
     },
     "execution_count": 157,
     "metadata": {},
     "output_type": "execute_result"
    }
   ],
   "source": [
    "df = pl.DataFrame(\n",
    "    {\n",
    "        \"foo\": [10, 2, 3],\n",
    "        \"bar\": [4.0, 5.0, 6.0],\n",
    "    }\n",
    ")\n",
    "df"
   ]
  },
  {
   "cell_type": "code",
   "execution_count": 158,
   "id": "f6012347-9800-4277-9486-b45267d2f19c",
   "metadata": {},
   "outputs": [
    {
     "data": {
      "text/html": [
       "<div><style>\n",
       ".dataframe > thead > tr,\n",
       ".dataframe > tbody > tr {\n",
       "  text-align: right;\n",
       "  white-space: pre-wrap;\n",
       "}\n",
       "</style>\n",
       "<small>shape: (3,)</small><table border=\"1\" class=\"dataframe\"><thead><tr><th>max</th></tr><tr><td>f64</td></tr></thead><tbody><tr><td>10.0</td></tr><tr><td>5.0</td></tr><tr><td>6.0</td></tr></tbody></table></div>"
      ],
      "text/plain": [
       "shape: (3,)\n",
       "Series: 'max' [f64]\n",
       "[\n",
       "\t10.0\n",
       "\t5.0\n",
       "\t6.0\n",
       "]"
      ]
     },
     "execution_count": 158,
     "metadata": {},
     "output_type": "execute_result"
    }
   ],
   "source": [
    "df.max_horizontal()"
   ]
  },
  {
   "cell_type": "markdown",
   "id": "29f65cce-4478-4b5b-8b81-1980d8ff9545",
   "metadata": {},
   "source": [
    "## mean"
   ]
  },
  {
   "cell_type": "code",
   "execution_count": 159,
   "id": "e7dd990a-05b4-4281-860a-fa0edeac84d4",
   "metadata": {},
   "outputs": [
    {
     "data": {
      "text/html": [
       "<div><style>\n",
       ".dataframe > thead > tr,\n",
       ".dataframe > tbody > tr {\n",
       "  text-align: right;\n",
       "  white-space: pre-wrap;\n",
       "}\n",
       "</style>\n",
       "<small>shape: (1, 4)</small><table border=\"1\" class=\"dataframe\"><thead><tr><th>foo</th><th>bar</th><th>ham</th><th>spam</th></tr><tr><td>f64</td><td>f64</td><td>str</td><td>f64</td></tr></thead><tbody><tr><td>2.0</td><td>7.0</td><td>null</td><td>0.5</td></tr></tbody></table></div>"
      ],
      "text/plain": [
       "shape: (1, 4)\n",
       "┌─────┬─────┬──────┬──────┐\n",
       "│ foo ┆ bar ┆ ham  ┆ spam │\n",
       "│ --- ┆ --- ┆ ---  ┆ ---  │\n",
       "│ f64 ┆ f64 ┆ str  ┆ f64  │\n",
       "╞═════╪═════╪══════╪══════╡\n",
       "│ 2.0 ┆ 7.0 ┆ null ┆ 0.5  │\n",
       "└─────┴─────┴──────┴──────┘"
      ]
     },
     "execution_count": 159,
     "metadata": {},
     "output_type": "execute_result"
    }
   ],
   "source": [
    "df = pl.DataFrame(\n",
    "    {\n",
    "        \"foo\": [1, 2, 3],\n",
    "        \"bar\": [6, 7, 8],\n",
    "        \"ham\": [\"a\", \"b\", \"c\"],\n",
    "        \"spam\": [True, False, None],\n",
    "    }\n",
    ")\n",
    "df.mean()"
   ]
  },
  {
   "cell_type": "markdown",
   "id": "3f86711d-0a55-456f-a52b-583685ab90b3",
   "metadata": {},
   "source": [
    "## mean_horizontal"
   ]
  },
  {
   "cell_type": "code",
   "execution_count": 160,
   "id": "20591729-92b4-4120-a86d-32781d4c2e59",
   "metadata": {},
   "outputs": [
    {
     "data": {
      "text/html": [
       "<div><style>\n",
       ".dataframe > thead > tr,\n",
       ".dataframe > tbody > tr {\n",
       "  text-align: right;\n",
       "  white-space: pre-wrap;\n",
       "}\n",
       "</style>\n",
       "<small>shape: (3,)</small><table border=\"1\" class=\"dataframe\"><thead><tr><th>mean</th></tr><tr><td>f64</td></tr></thead><tbody><tr><td>2.5</td></tr><tr><td>3.5</td></tr><tr><td>4.5</td></tr></tbody></table></div>"
      ],
      "text/plain": [
       "shape: (3,)\n",
       "Series: 'mean' [f64]\n",
       "[\n",
       "\t2.5\n",
       "\t3.5\n",
       "\t4.5\n",
       "]"
      ]
     },
     "execution_count": 160,
     "metadata": {},
     "output_type": "execute_result"
    }
   ],
   "source": [
    "df = pl.DataFrame(\n",
    "    {\n",
    "        \"foo\": [1, 2, 3],\n",
    "        \"bar\": [4.0, 5.0, 6.0],\n",
    "    }\n",
    ")\n",
    "df.mean_horizontal()"
   ]
  },
  {
   "cell_type": "markdown",
   "id": "fc764542-8412-4d76-8314-edb72ad4bcfc",
   "metadata": {},
   "source": [
    "## median"
   ]
  },
  {
   "cell_type": "code",
   "execution_count": 161,
   "id": "d20f3cca-28b8-499d-86fc-bb0cfc52b085",
   "metadata": {},
   "outputs": [
    {
     "data": {
      "text/html": [
       "<div><style>\n",
       ".dataframe > thead > tr,\n",
       ".dataframe > tbody > tr {\n",
       "  text-align: right;\n",
       "  white-space: pre-wrap;\n",
       "}\n",
       "</style>\n",
       "<small>shape: (1, 3)</small><table border=\"1\" class=\"dataframe\"><thead><tr><th>foo</th><th>bar</th><th>ham</th></tr><tr><td>f64</td><td>f64</td><td>str</td></tr></thead><tbody><tr><td>2.0</td><td>7.0</td><td>null</td></tr></tbody></table></div>"
      ],
      "text/plain": [
       "shape: (1, 3)\n",
       "┌─────┬─────┬──────┐\n",
       "│ foo ┆ bar ┆ ham  │\n",
       "│ --- ┆ --- ┆ ---  │\n",
       "│ f64 ┆ f64 ┆ str  │\n",
       "╞═════╪═════╪══════╡\n",
       "│ 2.0 ┆ 7.0 ┆ null │\n",
       "└─────┴─────┴──────┘"
      ]
     },
     "execution_count": 161,
     "metadata": {},
     "output_type": "execute_result"
    }
   ],
   "source": [
    "df = pl.DataFrame(\n",
    "    {\n",
    "        \"foo\": [1, 2, 3],\n",
    "        \"bar\": [6, 7, 8],\n",
    "        \"ham\": [\"a\", \"b\", \"c\"],\n",
    "    }\n",
    ")\n",
    "df.median()"
   ]
  },
  {
   "cell_type": "markdown",
   "id": "92e00ba1-2a7f-404c-ac7e-3d132d2e762a",
   "metadata": {},
   "source": [
    "## merge_sorted\n",
    "Take two sorted DataFrames and merge them by the sorted key."
   ]
  },
  {
   "cell_type": "code",
   "execution_count": 162,
   "id": "42de5256-bc74-4639-9f5f-12b321910a08",
   "metadata": {},
   "outputs": [
    {
     "name": "stdout",
     "output_type": "stream",
     "text": [
      "df0=shape: (3, 2)\n",
      "┌───────┬─────┐\n",
      "│ name  ┆ age │\n",
      "│ ---   ┆ --- │\n",
      "│ str   ┆ i64 │\n",
      "╞═══════╪═════╡\n",
      "│ bob   ┆ 18  │\n",
      "│ steve ┆ 42  │\n",
      "│ elise ┆ 44  │\n",
      "└───────┴─────┘\n",
      "df1=shape: (4, 2)\n",
      "┌────────┬─────┐\n",
      "│ name   ┆ age │\n",
      "│ ---    ┆ --- │\n",
      "│ str    ┆ i64 │\n",
      "╞════════╪═════╡\n",
      "│ thomas ┆ 20  │\n",
      "│ anna   ┆ 21  │\n",
      "│ megan  ┆ 33  │\n",
      "│ steve  ┆ 42  │\n",
      "└────────┴─────┘\n"
     ]
    }
   ],
   "source": [
    "df0 = pl.DataFrame(\n",
    "    {\"name\": [\"steve\", \"elise\", \"bob\"], \"age\": [42, 44, 18]}\n",
    ").sort(\"age\")\n",
    "df1 = pl.DataFrame(\n",
    "    {\"name\": [\"anna\", \"megan\", \"steve\", \"thomas\"], \"age\": [21, 33, 42, 20]}\n",
    ").sort(\"age\")\n",
    "\n",
    "print (f\"{df0=}\")\n",
    "print (f\"{df1=}\")"
   ]
  },
  {
   "cell_type": "code",
   "execution_count": 163,
   "id": "28b278ec-f324-48ba-9987-964267898a24",
   "metadata": {},
   "outputs": [
    {
     "data": {
      "text/html": [
       "<div><style>\n",
       ".dataframe > thead > tr,\n",
       ".dataframe > tbody > tr {\n",
       "  text-align: right;\n",
       "  white-space: pre-wrap;\n",
       "}\n",
       "</style>\n",
       "<small>shape: (7, 2)</small><table border=\"1\" class=\"dataframe\"><thead><tr><th>name</th><th>age</th></tr><tr><td>str</td><td>i64</td></tr></thead><tbody><tr><td>&quot;bob&quot;</td><td>18</td></tr><tr><td>&quot;thomas&quot;</td><td>20</td></tr><tr><td>&quot;anna&quot;</td><td>21</td></tr><tr><td>&quot;megan&quot;</td><td>33</td></tr><tr><td>&quot;steve&quot;</td><td>42</td></tr><tr><td>&quot;steve&quot;</td><td>42</td></tr><tr><td>&quot;elise&quot;</td><td>44</td></tr></tbody></table></div>"
      ],
      "text/plain": [
       "shape: (7, 2)\n",
       "┌────────┬─────┐\n",
       "│ name   ┆ age │\n",
       "│ ---    ┆ --- │\n",
       "│ str    ┆ i64 │\n",
       "╞════════╪═════╡\n",
       "│ bob    ┆ 18  │\n",
       "│ thomas ┆ 20  │\n",
       "│ anna   ┆ 21  │\n",
       "│ megan  ┆ 33  │\n",
       "│ steve  ┆ 42  │\n",
       "│ steve  ┆ 42  │\n",
       "│ elise  ┆ 44  │\n",
       "└────────┴─────┘"
      ]
     },
     "execution_count": 163,
     "metadata": {},
     "output_type": "execute_result"
    }
   ],
   "source": [
    "df0.merge_sorted(df1, key=\"age\")"
   ]
  },
  {
   "cell_type": "code",
   "execution_count": 164,
   "id": "f8251707-1cf6-4574-98b4-ef3b7d32fcc7",
   "metadata": {},
   "outputs": [
    {
     "data": {
      "text/html": [
       "<div><style>\n",
       ".dataframe > thead > tr,\n",
       ".dataframe > tbody > tr {\n",
       "  text-align: right;\n",
       "  white-space: pre-wrap;\n",
       "}\n",
       "</style>\n",
       "<small>shape: (7, 2)</small><table border=\"1\" class=\"dataframe\"><thead><tr><th>name</th><th>age</th></tr><tr><td>str</td><td>i64</td></tr></thead><tbody><tr><td>&quot;bob&quot;</td><td>18</td></tr><tr><td>&quot;thomas&quot;</td><td>20</td></tr><tr><td>&quot;anna&quot;</td><td>21</td></tr><tr><td>&quot;megan&quot;</td><td>33</td></tr><tr><td>&quot;steve&quot;</td><td>42</td></tr><tr><td>&quot;steve&quot;</td><td>42</td></tr><tr><td>&quot;elise&quot;</td><td>44</td></tr></tbody></table></div>"
      ],
      "text/plain": [
       "shape: (7, 2)\n",
       "┌────────┬─────┐\n",
       "│ name   ┆ age │\n",
       "│ ---    ┆ --- │\n",
       "│ str    ┆ i64 │\n",
       "╞════════╪═════╡\n",
       "│ bob    ┆ 18  │\n",
       "│ thomas ┆ 20  │\n",
       "│ anna   ┆ 21  │\n",
       "│ megan  ┆ 33  │\n",
       "│ steve  ┆ 42  │\n",
       "│ steve  ┆ 42  │\n",
       "│ elise  ┆ 44  │\n",
       "└────────┴─────┘"
      ]
     },
     "execution_count": 164,
     "metadata": {},
     "output_type": "execute_result"
    }
   ],
   "source": [
    "df1.merge_sorted(df0, key=\"age\")"
   ]
  },
  {
   "cell_type": "markdown",
   "id": "db5c1dd2-0194-475f-938a-f3e780a451cf",
   "metadata": {},
   "source": [
    "## min"
   ]
  },
  {
   "cell_type": "code",
   "execution_count": 165,
   "id": "27c57f10-e714-4b0e-a779-7a672bf40698",
   "metadata": {},
   "outputs": [
    {
     "data": {
      "text/html": [
       "<div><style>\n",
       ".dataframe > thead > tr,\n",
       ".dataframe > tbody > tr {\n",
       "  text-align: right;\n",
       "  white-space: pre-wrap;\n",
       "}\n",
       "</style>\n",
       "<small>shape: (1, 3)</small><table border=\"1\" class=\"dataframe\"><thead><tr><th>foo</th><th>bar</th><th>ham</th></tr><tr><td>i64</td><td>i64</td><td>str</td></tr></thead><tbody><tr><td>1</td><td>6</td><td>&quot;a&quot;</td></tr></tbody></table></div>"
      ],
      "text/plain": [
       "shape: (1, 3)\n",
       "┌─────┬─────┬─────┐\n",
       "│ foo ┆ bar ┆ ham │\n",
       "│ --- ┆ --- ┆ --- │\n",
       "│ i64 ┆ i64 ┆ str │\n",
       "╞═════╪═════╪═════╡\n",
       "│ 1   ┆ 6   ┆ a   │\n",
       "└─────┴─────┴─────┘"
      ]
     },
     "execution_count": 165,
     "metadata": {},
     "output_type": "execute_result"
    }
   ],
   "source": [
    "df = pl.DataFrame(\n",
    "    {\n",
    "        \"foo\": [1, 2, 3],\n",
    "        \"bar\": [6, 7, 8],\n",
    "        \"ham\": [\"a\", \"b\", \"c\"],\n",
    "    }\n",
    ")\n",
    "df.min()"
   ]
  },
  {
   "cell_type": "markdown",
   "id": "8c16aa1d-b845-4b36-99d5-7faaa5ed5579",
   "metadata": {},
   "source": [
    "## min_horizontal"
   ]
  },
  {
   "cell_type": "code",
   "execution_count": 166,
   "id": "f1fb7bdc-fd96-47fc-8429-4a6e92b3492b",
   "metadata": {},
   "outputs": [
    {
     "data": {
      "text/html": [
       "<div><style>\n",
       ".dataframe > thead > tr,\n",
       ".dataframe > tbody > tr {\n",
       "  text-align: right;\n",
       "  white-space: pre-wrap;\n",
       "}\n",
       "</style>\n",
       "<small>shape: (3,)</small><table border=\"1\" class=\"dataframe\"><thead><tr><th>min</th></tr><tr><td>f64</td></tr></thead><tbody><tr><td>-1.0</td></tr><tr><td>2.0</td></tr><tr><td>3.0</td></tr></tbody></table></div>"
      ],
      "text/plain": [
       "shape: (3,)\n",
       "Series: 'min' [f64]\n",
       "[\n",
       "\t-1.0\n",
       "\t2.0\n",
       "\t3.0\n",
       "]"
      ]
     },
     "execution_count": 166,
     "metadata": {},
     "output_type": "execute_result"
    }
   ],
   "source": [
    "df = pl.DataFrame(\n",
    "    {\n",
    "        \"foo\": [-1, 2, 3],\n",
    "        \"bar\": [4.0, 5.0, 6.0],\n",
    "    }\n",
    ")\n",
    "df.min_horizontal()"
   ]
  },
  {
   "cell_type": "markdown",
   "id": "891b276a-f6f1-49d7-9f40-e44cd83330be",
   "metadata": {},
   "source": [
    "## n_chunks\n",
    "Esto es medio técnico y no sirve mucho ya que es una herramienta para evaluar y potencialmente mejorar la forma en que Polars maneja los datos en memoria."
   ]
  },
  {
   "cell_type": "code",
   "execution_count": 167,
   "id": "aa37b448-98a2-4784-b82b-dab949a9e52e",
   "metadata": {},
   "outputs": [
    {
     "data": {
      "text/html": [
       "<div><style>\n",
       ".dataframe > thead > tr,\n",
       ".dataframe > tbody > tr {\n",
       "  text-align: right;\n",
       "  white-space: pre-wrap;\n",
       "}\n",
       "</style>\n",
       "<small>shape: (4, 3)</small><table border=\"1\" class=\"dataframe\"><thead><tr><th>a</th><th>b</th><th>c</th></tr><tr><td>i64</td><td>f64</td><td>bool</td></tr></thead><tbody><tr><td>1</td><td>0.5</td><td>true</td></tr><tr><td>2</td><td>4.0</td><td>true</td></tr><tr><td>3</td><td>10.0</td><td>false</td></tr><tr><td>4</td><td>13.0</td><td>true</td></tr></tbody></table></div>"
      ],
      "text/plain": [
       "shape: (4, 3)\n",
       "┌─────┬──────┬───────┐\n",
       "│ a   ┆ b    ┆ c     │\n",
       "│ --- ┆ ---  ┆ ---   │\n",
       "│ i64 ┆ f64  ┆ bool  │\n",
       "╞═════╪══════╪═══════╡\n",
       "│ 1   ┆ 0.5  ┆ true  │\n",
       "│ 2   ┆ 4.0  ┆ true  │\n",
       "│ 3   ┆ 10.0 ┆ false │\n",
       "│ 4   ┆ 13.0 ┆ true  │\n",
       "└─────┴──────┴───────┘"
      ]
     },
     "execution_count": 167,
     "metadata": {},
     "output_type": "execute_result"
    }
   ],
   "source": [
    "df = pl.DataFrame(\n",
    "    {\n",
    "        \"a\": [1, 2, 3, 4],\n",
    "        \"b\": [0.5, 4, 10, 13],\n",
    "        \"c\": [True, True, False, True],\n",
    "    }\n",
    ")\n",
    "df"
   ]
  },
  {
   "cell_type": "code",
   "execution_count": 168,
   "id": "6b3de867-6fac-4410-ac27-1e28d113dd7a",
   "metadata": {},
   "outputs": [
    {
     "data": {
      "text/plain": [
       "1"
      ]
     },
     "execution_count": 168,
     "metadata": {},
     "output_type": "execute_result"
    }
   ],
   "source": [
    "df.n_chunks()\n"
   ]
  },
  {
   "cell_type": "code",
   "execution_count": 169,
   "id": "b08c014d-3541-462f-82b4-6b6af3984e70",
   "metadata": {},
   "outputs": [
    {
     "data": {
      "text/plain": [
       "[1, 1, 1]"
      ]
     },
     "execution_count": 169,
     "metadata": {},
     "output_type": "execute_result"
    }
   ],
   "source": [
    "df.n_chunks(strategy=\"all\")"
   ]
  },
  {
   "cell_type": "code",
   "execution_count": 170,
   "id": "99690bc7-72c3-4a23-a0b3-3427c0ecced2",
   "metadata": {},
   "outputs": [
    {
     "data": {
      "text/plain": [
       "1"
      ]
     },
     "execution_count": 170,
     "metadata": {},
     "output_type": "execute_result"
    }
   ],
   "source": [
    "df.n_chunks(strategy=\"first\")"
   ]
  },
  {
   "cell_type": "markdown",
   "id": "9165227b-f318-4121-98e5-e6d17fe7c660",
   "metadata": {},
   "source": [
    "## n_unique\n",
    "Return the number of unique rows, or the number of unique row-subsets.\n",
    "\n",
    "This method operates at the DataFrame level; to operate on subsets at the expression level you can make use of struct-packing instead, for example:"
   ]
  },
  {
   "cell_type": "code",
   "execution_count": 171,
   "id": "7d444d3a-82df-4d7a-92b7-60e37841848b",
   "metadata": {},
   "outputs": [],
   "source": [
    "expr_unique_subset = pl.struct(\"a\", \"b\").n_unique()"
   ]
  },
  {
   "cell_type": "code",
   "execution_count": 172,
   "id": "79870ee9-8ad0-4a80-9b3a-c9fddbf9843b",
   "metadata": {},
   "outputs": [
    {
     "data": {
      "text/html": [
       "<div><style>\n",
       ".dataframe > thead > tr,\n",
       ".dataframe > tbody > tr {\n",
       "  text-align: right;\n",
       "  white-space: pre-wrap;\n",
       "}\n",
       "</style>\n",
       "<small>shape: (2, 3)</small><table border=\"1\" class=\"dataframe\"><thead><tr><th>a</th><th>b</th><th>c</th></tr><tr><td>i64</td><td>i64</td><td>i64</td></tr></thead><tbody><tr><td>1</td><td>2</td><td>3</td></tr><tr><td>1</td><td>2</td><td>4</td></tr></tbody></table></div>"
      ],
      "text/plain": [
       "shape: (2, 3)\n",
       "┌─────┬─────┬─────┐\n",
       "│ a   ┆ b   ┆ c   │\n",
       "│ --- ┆ --- ┆ --- │\n",
       "│ i64 ┆ i64 ┆ i64 │\n",
       "╞═════╪═════╪═════╡\n",
       "│ 1   ┆ 2   ┆ 3   │\n",
       "│ 1   ┆ 2   ┆ 4   │\n",
       "└─────┴─────┴─────┘"
      ]
     },
     "execution_count": 172,
     "metadata": {},
     "output_type": "execute_result"
    }
   ],
   "source": [
    "df = pl.DataFrame(\n",
    "    [[1, 2, 3], [1, 2, 4]], schema=[\"a\", \"b\", \"c\"], orient=\"row\"\n",
    ")\n",
    "df"
   ]
  },
  {
   "cell_type": "code",
   "execution_count": 173,
   "id": "15aebd5e-b644-4ffb-ba2c-48f779f8a461",
   "metadata": {},
   "outputs": [
    {
     "data": {
      "text/html": [
       "<div><style>\n",
       ".dataframe > thead > tr,\n",
       ".dataframe > tbody > tr {\n",
       "  text-align: right;\n",
       "  white-space: pre-wrap;\n",
       "}\n",
       "</style>\n",
       "<small>shape: (1, 3)</small><table border=\"1\" class=\"dataframe\"><thead><tr><th>a</th><th>b</th><th>c</th></tr><tr><td>u32</td><td>u32</td><td>u32</td></tr></thead><tbody><tr><td>1</td><td>1</td><td>2</td></tr></tbody></table></div>"
      ],
      "text/plain": [
       "shape: (1, 3)\n",
       "┌─────┬─────┬─────┐\n",
       "│ a   ┆ b   ┆ c   │\n",
       "│ --- ┆ --- ┆ --- │\n",
       "│ u32 ┆ u32 ┆ u32 │\n",
       "╞═════╪═════╪═════╡\n",
       "│ 1   ┆ 1   ┆ 2   │\n",
       "└─────┴─────┴─────┘"
      ]
     },
     "execution_count": 173,
     "metadata": {},
     "output_type": "execute_result"
    }
   ],
   "source": [
    "df_nunique = df.select(pl.all().n_unique())\n",
    "df_nunique"
   ]
  },
  {
   "cell_type": "code",
   "execution_count": 174,
   "id": "fab75d8a-0f3a-40c7-8797-fad53d6354c1",
   "metadata": {},
   "outputs": [
    {
     "data": {
      "text/html": [
       "<div><style>\n",
       ".dataframe > thead > tr,\n",
       ".dataframe > tbody > tr {\n",
       "  text-align: right;\n",
       "  white-space: pre-wrap;\n",
       "}\n",
       "</style>\n",
       "<small>shape: (1, 3)</small><table border=\"1\" class=\"dataframe\"><thead><tr><th>a</th><th>b</th><th>c</th></tr><tr><td>i64</td><td>u32</td><td>u32</td></tr></thead><tbody><tr><td>1</td><td>1</td><td>2</td></tr></tbody></table></div>"
      ],
      "text/plain": [
       "shape: (1, 3)\n",
       "┌─────┬─────┬─────┐\n",
       "│ a   ┆ b   ┆ c   │\n",
       "│ --- ┆ --- ┆ --- │\n",
       "│ i64 ┆ u32 ┆ u32 │\n",
       "╞═════╪═════╪═════╡\n",
       "│ 1   ┆ 1   ┆ 2   │\n",
       "└─────┴─────┴─────┘"
      ]
     },
     "execution_count": 174,
     "metadata": {},
     "output_type": "execute_result"
    }
   ],
   "source": [
    "df_agg_nunique = df.group_by(\"a\").n_unique()\n",
    "df_agg_nunique"
   ]
  },
  {
   "cell_type": "code",
   "execution_count": 175,
   "id": "58961d5f-0dd2-4acc-a017-8c1c269c4e01",
   "metadata": {},
   "outputs": [
    {
     "data": {
      "text/plain": [
       "5"
      ]
     },
     "execution_count": 175,
     "metadata": {},
     "output_type": "execute_result"
    }
   ],
   "source": [
    "df = pl.DataFrame(\n",
    "    {\n",
    "        \"a\": [1, 1, 2, 3, 4, 5],\n",
    "        \"b\": [0.5, 0.5, 1.0, 2.0, 3.0, 3.0],\n",
    "        \"c\": [True, True, True, False, True, True],\n",
    "    }\n",
    ")\n",
    "df.n_unique()"
   ]
  },
  {
   "cell_type": "code",
   "execution_count": 176,
   "id": "0c633f11-7318-45a2-87da-34aafef50740",
   "metadata": {},
   "outputs": [
    {
     "data": {
      "text/plain": [
       "4"
      ]
     },
     "execution_count": 176,
     "metadata": {},
     "output_type": "execute_result"
    }
   ],
   "source": [
    "df.n_unique(subset=[\"b\", \"c\"])"
   ]
  },
  {
   "cell_type": "code",
   "execution_count": 177,
   "id": "b4a07a3e-4617-4e7e-b791-5ab833ee073f",
   "metadata": {},
   "outputs": [
    {
     "data": {
      "text/plain": [
       "3"
      ]
     },
     "execution_count": 177,
     "metadata": {},
     "output_type": "execute_result"
    }
   ],
   "source": [
    "df.n_unique(\n",
    "    subset=[\n",
    "        (pl.col(\"a\") // 2),\n",
    "        (pl.col(\"c\") | (pl.col(\"b\") >= 2)),\n",
    "    ],\n",
    ")"
   ]
  },
  {
   "cell_type": "markdown",
   "id": "57cebe89-73c3-4beb-9ae5-e072a39d414e",
   "metadata": {},
   "source": [
    "Esto calcula cuántas combinaciones únicas existen en el DataFrame para los siguientes criterios:\n",
    "- La primera expresión considera los valores de la columna \"a\" después de haber sido divididos entre 2 (y redondeados hacia abajo).\n",
    "- La segunda expresión toma el valor de \"c\" o la condición de que \"b\" sea mayor o igual a 2.\n",
    "Es decir, está buscando cuántas combinaciones únicas existen de (pl.col(\"a\") // 2) y (pl.col(\"c\") | (pl.col(\"b\") >= 2)) en todo el DataFrame.\n"
   ]
  },
  {
   "cell_type": "markdown",
   "id": "09aff157-a502-4ab8-b6e6-460abfc2c25b",
   "metadata": {},
   "source": [
    "## null_count"
   ]
  },
  {
   "cell_type": "code",
   "execution_count": 178,
   "id": "a20e1789-cbea-416c-a0de-7e0ecbd4e91f",
   "metadata": {},
   "outputs": [
    {
     "data": {
      "text/html": [
       "<div><style>\n",
       ".dataframe > thead > tr,\n",
       ".dataframe > tbody > tr {\n",
       "  text-align: right;\n",
       "  white-space: pre-wrap;\n",
       "}\n",
       "</style>\n",
       "<small>shape: (1, 3)</small><table border=\"1\" class=\"dataframe\"><thead><tr><th>foo</th><th>bar</th><th>ham</th></tr><tr><td>u32</td><td>u32</td><td>u32</td></tr></thead><tbody><tr><td>1</td><td>1</td><td>0</td></tr></tbody></table></div>"
      ],
      "text/plain": [
       "shape: (1, 3)\n",
       "┌─────┬─────┬─────┐\n",
       "│ foo ┆ bar ┆ ham │\n",
       "│ --- ┆ --- ┆ --- │\n",
       "│ u32 ┆ u32 ┆ u32 │\n",
       "╞═════╪═════╪═════╡\n",
       "│ 1   ┆ 1   ┆ 0   │\n",
       "└─────┴─────┴─────┘"
      ]
     },
     "execution_count": 178,
     "metadata": {},
     "output_type": "execute_result"
    }
   ],
   "source": [
    "df = pl.DataFrame(\n",
    "    {\n",
    "        \"foo\": [1, None, 3],\n",
    "        \"bar\": [6, 7, None],\n",
    "        \"ham\": [\"a\", \"b\", \"c\"],\n",
    "    }\n",
    ")\n",
    "df.null_count()"
   ]
  },
  {
   "cell_type": "markdown",
   "id": "821c3cc9-71e2-4c3b-bb57-4553ac7a153f",
   "metadata": {},
   "source": [
    "## partition_by"
   ]
  },
  {
   "cell_type": "code",
   "execution_count": 179,
   "id": "151f14b1-ea93-4ddc-9324-aa78f9212f7c",
   "metadata": {},
   "outputs": [
    {
     "data": {
      "text/plain": [
       "[shape: (2, 3)\n",
       " ┌─────┬─────┬─────┐\n",
       " │ a   ┆ b   ┆ c   │\n",
       " │ --- ┆ --- ┆ --- │\n",
       " │ str ┆ i64 ┆ i64 │\n",
       " ╞═════╪═════╪═════╡\n",
       " │ a   ┆ 1   ┆ 5   │\n",
       " │ a   ┆ 1   ┆ 3   │\n",
       " └─────┴─────┴─────┘,\n",
       " shape: (2, 3)\n",
       " ┌─────┬─────┬─────┐\n",
       " │ a   ┆ b   ┆ c   │\n",
       " │ --- ┆ --- ┆ --- │\n",
       " │ str ┆ i64 ┆ i64 │\n",
       " ╞═════╪═════╪═════╡\n",
       " │ b   ┆ 2   ┆ 4   │\n",
       " │ b   ┆ 3   ┆ 2   │\n",
       " └─────┴─────┴─────┘,\n",
       " shape: (1, 3)\n",
       " ┌─────┬─────┬─────┐\n",
       " │ a   ┆ b   ┆ c   │\n",
       " │ --- ┆ --- ┆ --- │\n",
       " │ str ┆ i64 ┆ i64 │\n",
       " ╞═════╪═════╪═════╡\n",
       " │ c   ┆ 3   ┆ 1   │\n",
       " └─────┴─────┴─────┘]"
      ]
     },
     "execution_count": 179,
     "metadata": {},
     "output_type": "execute_result"
    }
   ],
   "source": [
    "df = pl.DataFrame(\n",
    "    {\n",
    "        \"a\": [\"a\", \"b\", \"a\", \"b\", \"c\"],\n",
    "        \"b\": [1, 2, 1, 3, 3],\n",
    "        \"c\": [5, 4, 3, 2, 1],\n",
    "    }\n",
    ")\n",
    "df.partition_by(\"a\")  "
   ]
  },
  {
   "cell_type": "code",
   "execution_count": 180,
   "id": "d2324b5a-74c5-473c-862c-78a38ff7f114",
   "metadata": {},
   "outputs": [
    {
     "data": {
      "text/plain": [
       "[shape: (2, 3)\n",
       " ┌─────┬─────┬─────┐\n",
       " │ a   ┆ b   ┆ c   │\n",
       " │ --- ┆ --- ┆ --- │\n",
       " │ str ┆ i64 ┆ i64 │\n",
       " ╞═════╪═════╪═════╡\n",
       " │ a   ┆ 1   ┆ 5   │\n",
       " │ a   ┆ 1   ┆ 3   │\n",
       " └─────┴─────┴─────┘,\n",
       " shape: (1, 3)\n",
       " ┌─────┬─────┬─────┐\n",
       " │ a   ┆ b   ┆ c   │\n",
       " │ --- ┆ --- ┆ --- │\n",
       " │ str ┆ i64 ┆ i64 │\n",
       " ╞═════╪═════╪═════╡\n",
       " │ b   ┆ 2   ┆ 4   │\n",
       " └─────┴─────┴─────┘,\n",
       " shape: (1, 3)\n",
       " ┌─────┬─────┬─────┐\n",
       " │ a   ┆ b   ┆ c   │\n",
       " │ --- ┆ --- ┆ --- │\n",
       " │ str ┆ i64 ┆ i64 │\n",
       " ╞═════╪═════╪═════╡\n",
       " │ b   ┆ 3   ┆ 2   │\n",
       " └─────┴─────┴─────┘,\n",
       " shape: (1, 3)\n",
       " ┌─────┬─────┬─────┐\n",
       " │ a   ┆ b   ┆ c   │\n",
       " │ --- ┆ --- ┆ --- │\n",
       " │ str ┆ i64 ┆ i64 │\n",
       " ╞═════╪═════╪═════╡\n",
       " │ c   ┆ 3   ┆ 1   │\n",
       " └─────┴─────┴─────┘]"
      ]
     },
     "execution_count": 180,
     "metadata": {},
     "output_type": "execute_result"
    }
   ],
   "source": [
    "df.partition_by(\"a\", \"b\") "
   ]
  },
  {
   "cell_type": "code",
   "execution_count": 181,
   "id": "0908f9df-387d-42e9-9fdf-21cebeb6a4a4",
   "metadata": {},
   "outputs": [
    {
     "data": {
      "text/plain": [
       "{('a',): shape: (2, 3)\n",
       " ┌─────┬─────┬─────┐\n",
       " │ a   ┆ b   ┆ c   │\n",
       " │ --- ┆ --- ┆ --- │\n",
       " │ str ┆ i64 ┆ i64 │\n",
       " ╞═════╪═════╪═════╡\n",
       " │ a   ┆ 1   ┆ 5   │\n",
       " │ a   ┆ 1   ┆ 3   │\n",
       " └─────┴─────┴─────┘,\n",
       " ('b',): shape: (2, 3)\n",
       " ┌─────┬─────┬─────┐\n",
       " │ a   ┆ b   ┆ c   │\n",
       " │ --- ┆ --- ┆ --- │\n",
       " │ str ┆ i64 ┆ i64 │\n",
       " ╞═════╪═════╪═════╡\n",
       " │ b   ┆ 2   ┆ 4   │\n",
       " │ b   ┆ 3   ┆ 2   │\n",
       " └─────┴─────┴─────┘,\n",
       " ('c',): shape: (1, 3)\n",
       " ┌─────┬─────┬─────┐\n",
       " │ a   ┆ b   ┆ c   │\n",
       " │ --- ┆ --- ┆ --- │\n",
       " │ str ┆ i64 ┆ i64 │\n",
       " ╞═════╪═════╪═════╡\n",
       " │ c   ┆ 3   ┆ 1   │\n",
       " └─────┴─────┴─────┘}"
      ]
     },
     "execution_count": 181,
     "metadata": {},
     "output_type": "execute_result"
    }
   ],
   "source": [
    "import polars.selectors as cs\n",
    "df.partition_by(cs.string(), as_dict=True)"
   ]
  },
  {
   "cell_type": "code",
   "execution_count": 182,
   "id": "81a6fdbd-1e93-4717-b899-d15d1c1d4bc6",
   "metadata": {},
   "outputs": [
    {
     "data": {
      "text/plain": [
       "dict"
      ]
     },
     "execution_count": 182,
     "metadata": {},
     "output_type": "execute_result"
    }
   ],
   "source": [
    "type(df.partition_by(cs.string(), as_dict=True))"
   ]
  },
  {
   "cell_type": "code",
   "execution_count": 183,
   "id": "e2a61fa2-17c2-4e41-b589-8af01194e8a1",
   "metadata": {},
   "outputs": [
    {
     "data": {
      "text/plain": [
       "dict_values([shape: (2, 3)\n",
       "┌─────┬─────┬─────┐\n",
       "│ a   ┆ b   ┆ c   │\n",
       "│ --- ┆ --- ┆ --- │\n",
       "│ str ┆ i64 ┆ i64 │\n",
       "╞═════╪═════╪═════╡\n",
       "│ a   ┆ 1   ┆ 5   │\n",
       "│ a   ┆ 1   ┆ 3   │\n",
       "└─────┴─────┴─────┘, shape: (2, 3)\n",
       "┌─────┬─────┬─────┐\n",
       "│ a   ┆ b   ┆ c   │\n",
       "│ --- ┆ --- ┆ --- │\n",
       "│ str ┆ i64 ┆ i64 │\n",
       "╞═════╪═════╪═════╡\n",
       "│ b   ┆ 2   ┆ 4   │\n",
       "│ b   ┆ 3   ┆ 2   │\n",
       "└─────┴─────┴─────┘, shape: (1, 3)\n",
       "┌─────┬─────┬─────┐\n",
       "│ a   ┆ b   ┆ c   │\n",
       "│ --- ┆ --- ┆ --- │\n",
       "│ str ┆ i64 ┆ i64 │\n",
       "╞═════╪═════╪═════╡\n",
       "│ c   ┆ 3   ┆ 1   │\n",
       "└─────┴─────┴─────┘])"
      ]
     },
     "execution_count": 183,
     "metadata": {},
     "output_type": "execute_result"
    }
   ],
   "source": [
    "df.partition_by(cs.string(), as_dict=True).values()"
   ]
  },
  {
   "cell_type": "code",
   "execution_count": 184,
   "id": "2017fe92-af0f-444c-90c4-2624859dba4e",
   "metadata": {},
   "outputs": [
    {
     "data": {
      "text/plain": [
       "dict_keys([('a',), ('b',), ('c',)])"
      ]
     },
     "execution_count": 184,
     "metadata": {},
     "output_type": "execute_result"
    }
   ],
   "source": [
    "df.partition_by(cs.string(), as_dict=True).keys()"
   ]
  },
  {
   "cell_type": "markdown",
   "id": "0f550b49-e99d-40a3-9341-fefdcfb035dc",
   "metadata": {},
   "source": [
    "## pipe\n",
    "Offers a structured way to apply a sequence of user-defined functions (UDFs)."
   ]
  },
  {
   "cell_type": "code",
   "execution_count": 185,
   "id": "8d780100-b3f3-47f3-ab53-8f33c7161010",
   "metadata": {},
   "outputs": [
    {
     "data": {
      "text/html": [
       "<div><style>\n",
       ".dataframe > thead > tr,\n",
       ".dataframe > tbody > tr {\n",
       "  text-align: right;\n",
       "  white-space: pre-wrap;\n",
       "}\n",
       "</style>\n",
       "<small>shape: (4, 2)</small><table border=\"1\" class=\"dataframe\"><thead><tr><th>a</th><th>b</th></tr><tr><td>i64</td><td>str</td></tr></thead><tbody><tr><td>1</td><td>&quot;10&quot;</td></tr><tr><td>2</td><td>&quot;20&quot;</td></tr><tr><td>3</td><td>&quot;30&quot;</td></tr><tr><td>4</td><td>&quot;40&quot;</td></tr></tbody></table></div>"
      ],
      "text/plain": [
       "shape: (4, 2)\n",
       "┌─────┬─────┐\n",
       "│ a   ┆ b   │\n",
       "│ --- ┆ --- │\n",
       "│ i64 ┆ str │\n",
       "╞═════╪═════╡\n",
       "│ 1   ┆ 10  │\n",
       "│ 2   ┆ 20  │\n",
       "│ 3   ┆ 30  │\n",
       "│ 4   ┆ 40  │\n",
       "└─────┴─────┘"
      ]
     },
     "execution_count": 185,
     "metadata": {},
     "output_type": "execute_result"
    }
   ],
   "source": [
    "def cast_str_to_int(data, col_name):\n",
    "    return data.with_columns(pl.col(col_name).cast(pl.Int64))\n",
    "df = pl.DataFrame({\"a\": [1, 2, 3, 4], \"b\": [\"10\", \"20\", \"30\", \"40\"]})\n",
    "df"
   ]
  },
  {
   "cell_type": "code",
   "execution_count": 186,
   "id": "c7d67871-3789-4cfc-a032-ca82f6ecd665",
   "metadata": {},
   "outputs": [
    {
     "data": {
      "text/html": [
       "<div><style>\n",
       ".dataframe > thead > tr,\n",
       ".dataframe > tbody > tr {\n",
       "  text-align: right;\n",
       "  white-space: pre-wrap;\n",
       "}\n",
       "</style>\n",
       "<small>shape: (4, 2)</small><table border=\"1\" class=\"dataframe\"><thead><tr><th>a</th><th>b</th></tr><tr><td>i64</td><td>i64</td></tr></thead><tbody><tr><td>1</td><td>10</td></tr><tr><td>2</td><td>20</td></tr><tr><td>3</td><td>30</td></tr><tr><td>4</td><td>40</td></tr></tbody></table></div>"
      ],
      "text/plain": [
       "shape: (4, 2)\n",
       "┌─────┬─────┐\n",
       "│ a   ┆ b   │\n",
       "│ --- ┆ --- │\n",
       "│ i64 ┆ i64 │\n",
       "╞═════╪═════╡\n",
       "│ 1   ┆ 10  │\n",
       "│ 2   ┆ 20  │\n",
       "│ 3   ┆ 30  │\n",
       "│ 4   ┆ 40  │\n",
       "└─────┴─────┘"
      ]
     },
     "execution_count": 186,
     "metadata": {},
     "output_type": "execute_result"
    }
   ],
   "source": [
    "df.pipe(cast_str_to_int, col_name=\"b\")"
   ]
  },
  {
   "cell_type": "code",
   "execution_count": 187,
   "id": "10e887ce-2a5c-4ea5-948c-1a67b3db7c6c",
   "metadata": {},
   "outputs": [
    {
     "data": {
      "text/html": [
       "<div><style>\n",
       ".dataframe > thead > tr,\n",
       ".dataframe > tbody > tr {\n",
       "  text-align: right;\n",
       "  white-space: pre-wrap;\n",
       "}\n",
       "</style>\n",
       "<small>shape: (2, 2)</small><table border=\"1\" class=\"dataframe\"><thead><tr><th>b</th><th>a</th></tr><tr><td>i64</td><td>i64</td></tr></thead><tbody><tr><td>1</td><td>3</td></tr><tr><td>2</td><td>4</td></tr></tbody></table></div>"
      ],
      "text/plain": [
       "shape: (2, 2)\n",
       "┌─────┬─────┐\n",
       "│ b   ┆ a   │\n",
       "│ --- ┆ --- │\n",
       "│ i64 ┆ i64 │\n",
       "╞═════╪═════╡\n",
       "│ 1   ┆ 3   │\n",
       "│ 2   ┆ 4   │\n",
       "└─────┴─────┘"
      ]
     },
     "execution_count": 187,
     "metadata": {},
     "output_type": "execute_result"
    }
   ],
   "source": [
    "df = pl.DataFrame({\"b\": [1, 2], \"a\": [3, 4]})\n",
    "df\n"
   ]
  },
  {
   "cell_type": "code",
   "execution_count": 188,
   "id": "6c4a4202-83b4-48b6-9234-cc15868fc18a",
   "metadata": {},
   "outputs": [
    {
     "data": {
      "text/html": [
       "<div><style>\n",
       ".dataframe > thead > tr,\n",
       ".dataframe > tbody > tr {\n",
       "  text-align: right;\n",
       "  white-space: pre-wrap;\n",
       "}\n",
       "</style>\n",
       "<small>shape: (2, 2)</small><table border=\"1\" class=\"dataframe\"><thead><tr><th>a</th><th>b</th></tr><tr><td>i64</td><td>i64</td></tr></thead><tbody><tr><td>3</td><td>1</td></tr><tr><td>4</td><td>2</td></tr></tbody></table></div>"
      ],
      "text/plain": [
       "shape: (2, 2)\n",
       "┌─────┬─────┐\n",
       "│ a   ┆ b   │\n",
       "│ --- ┆ --- │\n",
       "│ i64 ┆ i64 │\n",
       "╞═════╪═════╡\n",
       "│ 3   ┆ 1   │\n",
       "│ 4   ┆ 2   │\n",
       "└─────┴─────┘"
      ]
     },
     "execution_count": 188,
     "metadata": {},
     "output_type": "execute_result"
    }
   ],
   "source": [
    "df.pipe(lambda tdf: tdf.select(sorted(tdf.columns)))"
   ]
  },
  {
   "cell_type": "markdown",
   "id": "f0d50419-2f45-4532-92e0-7cb7ec68bee9",
   "metadata": {},
   "source": [
    "## pivot\n",
    "**Only available in eager mode.**"
   ]
  },
  {
   "cell_type": "code",
   "execution_count": 189,
   "id": "bcdc2a86-9feb-443c-9abb-48e4657089a7",
   "metadata": {},
   "outputs": [
    {
     "data": {
      "text/html": [
       "<div><style>\n",
       ".dataframe > thead > tr,\n",
       ".dataframe > tbody > tr {\n",
       "  text-align: right;\n",
       "  white-space: pre-wrap;\n",
       "}\n",
       "</style>\n",
       "<small>shape: (4, 4)</small><table border=\"1\" class=\"dataframe\"><thead><tr><th>name</th><th>subject</th><th>test_1</th><th>test_2</th></tr><tr><td>str</td><td>str</td><td>i64</td><td>i64</td></tr></thead><tbody><tr><td>&quot;Cady&quot;</td><td>&quot;maths&quot;</td><td>98</td><td>100</td></tr><tr><td>&quot;Cady&quot;</td><td>&quot;physics&quot;</td><td>99</td><td>100</td></tr><tr><td>&quot;Karen&quot;</td><td>&quot;maths&quot;</td><td>61</td><td>60</td></tr><tr><td>&quot;Karen&quot;</td><td>&quot;physics&quot;</td><td>58</td><td>60</td></tr></tbody></table></div>"
      ],
      "text/plain": [
       "shape: (4, 4)\n",
       "┌───────┬─────────┬────────┬────────┐\n",
       "│ name  ┆ subject ┆ test_1 ┆ test_2 │\n",
       "│ ---   ┆ ---     ┆ ---    ┆ ---    │\n",
       "│ str   ┆ str     ┆ i64    ┆ i64    │\n",
       "╞═══════╪═════════╪════════╪════════╡\n",
       "│ Cady  ┆ maths   ┆ 98     ┆ 100    │\n",
       "│ Cady  ┆ physics ┆ 99     ┆ 100    │\n",
       "│ Karen ┆ maths   ┆ 61     ┆ 60     │\n",
       "│ Karen ┆ physics ┆ 58     ┆ 60     │\n",
       "└───────┴─────────┴────────┴────────┘"
      ]
     },
     "execution_count": 189,
     "metadata": {},
     "output_type": "execute_result"
    }
   ],
   "source": [
    "df = pl.DataFrame(\n",
    "    {\n",
    "        \"name\": [\"Cady\", \"Cady\", \"Karen\", \"Karen\"],\n",
    "        \"subject\": [\"maths\", \"physics\", \"maths\", \"physics\"],\n",
    "        \"test_1\": [98, 99, 61, 58],\n",
    "        \"test_2\": [100, 100, 60, 60],\n",
    "    }\n",
    ")\n",
    "df"
   ]
  },
  {
   "cell_type": "code",
   "execution_count": 190,
   "id": "6a98f02f-4e88-4157-9680-6790b4d94b24",
   "metadata": {},
   "outputs": [
    {
     "data": {
      "text/html": [
       "<div><style>\n",
       ".dataframe > thead > tr,\n",
       ".dataframe > tbody > tr {\n",
       "  text-align: right;\n",
       "  white-space: pre-wrap;\n",
       "}\n",
       "</style>\n",
       "<small>shape: (2, 3)</small><table border=\"1\" class=\"dataframe\"><thead><tr><th>name</th><th>maths</th><th>physics</th></tr><tr><td>str</td><td>i64</td><td>i64</td></tr></thead><tbody><tr><td>&quot;Cady&quot;</td><td>98</td><td>99</td></tr><tr><td>&quot;Karen&quot;</td><td>61</td><td>58</td></tr></tbody></table></div>"
      ],
      "text/plain": [
       "shape: (2, 3)\n",
       "┌───────┬───────┬─────────┐\n",
       "│ name  ┆ maths ┆ physics │\n",
       "│ ---   ┆ ---   ┆ ---     │\n",
       "│ str   ┆ i64   ┆ i64     │\n",
       "╞═══════╪═══════╪═════════╡\n",
       "│ Cady  ┆ 98    ┆ 99      │\n",
       "│ Karen ┆ 61    ┆ 58      │\n",
       "└───────┴───────┴─────────┘"
      ]
     },
     "execution_count": 190,
     "metadata": {},
     "output_type": "execute_result"
    }
   ],
   "source": [
    "df.pivot(\"subject\", index=\"name\", values=\"test_1\")"
   ]
  },
  {
   "cell_type": "code",
   "execution_count": 191,
   "id": "ed2dae20-bfd4-4ae5-9e42-5fc191a26068",
   "metadata": {},
   "outputs": [
    {
     "data": {
      "text/html": [
       "<div><style>\n",
       ".dataframe > thead > tr,\n",
       ".dataframe > tbody > tr {\n",
       "  text-align: right;\n",
       "  white-space: pre-wrap;\n",
       "}\n",
       "</style>\n",
       "<small>shape: (2, 5)</small><table border=\"1\" class=\"dataframe\"><thead><tr><th>name</th><th>test_1_maths</th><th>test_1_physics</th><th>test_2_maths</th><th>test_2_physics</th></tr><tr><td>str</td><td>i64</td><td>i64</td><td>i64</td><td>i64</td></tr></thead><tbody><tr><td>&quot;Cady&quot;</td><td>98</td><td>99</td><td>100</td><td>100</td></tr><tr><td>&quot;Karen&quot;</td><td>61</td><td>58</td><td>60</td><td>60</td></tr></tbody></table></div>"
      ],
      "text/plain": [
       "shape: (2, 5)\n",
       "┌───────┬──────────────┬────────────────┬──────────────┬────────────────┐\n",
       "│ name  ┆ test_1_maths ┆ test_1_physics ┆ test_2_maths ┆ test_2_physics │\n",
       "│ ---   ┆ ---          ┆ ---            ┆ ---          ┆ ---            │\n",
       "│ str   ┆ i64          ┆ i64            ┆ i64          ┆ i64            │\n",
       "╞═══════╪══════════════╪════════════════╪══════════════╪════════════════╡\n",
       "│ Cady  ┆ 98           ┆ 99             ┆ 100          ┆ 100            │\n",
       "│ Karen ┆ 61           ┆ 58             ┆ 60           ┆ 60             │\n",
       "└───────┴──────────────┴────────────────┴──────────────┴────────────────┘"
      ]
     },
     "execution_count": 191,
     "metadata": {},
     "output_type": "execute_result"
    }
   ],
   "source": [
    "import polars.selectors as cs\n",
    "df.pivot(\"subject\", values=cs.starts_with(\"test\"))"
   ]
  },
  {
   "cell_type": "markdown",
   "id": "93e102c1-e50d-4501-a4e4-ecbd59c7bd2d",
   "metadata": {},
   "source": [
    "If you end up with multiple values per cell, you can specify how to aggregate them with aggregate_function:\n",
    "\n"
   ]
  },
  {
   "cell_type": "code",
   "execution_count": 192,
   "id": "8ff81ecb-e36d-47d7-826c-76aa4f5af392",
   "metadata": {},
   "outputs": [
    {
     "data": {
      "text/html": [
       "<div><style>\n",
       ".dataframe > thead > tr,\n",
       ".dataframe > tbody > tr {\n",
       "  text-align: right;\n",
       "  white-space: pre-wrap;\n",
       "}\n",
       "</style>\n",
       "<small>shape: (2, 5)</small><table border=\"1\" class=\"dataframe\"><thead><tr><th>ix</th><th>foo_a</th><th>foo_b</th><th>bar_a</th><th>bar_b</th></tr><tr><td>i64</td><td>i64</td><td>i64</td><td>i64</td><td>i64</td></tr></thead><tbody><tr><td>1</td><td>1</td><td>7</td><td>2</td><td>9</td></tr><tr><td>2</td><td>4</td><td>1</td><td>0</td><td>4</td></tr></tbody></table></div>"
      ],
      "text/plain": [
       "shape: (2, 5)\n",
       "┌─────┬───────┬───────┬───────┬───────┐\n",
       "│ ix  ┆ foo_a ┆ foo_b ┆ bar_a ┆ bar_b │\n",
       "│ --- ┆ ---   ┆ ---   ┆ ---   ┆ ---   │\n",
       "│ i64 ┆ i64   ┆ i64   ┆ i64   ┆ i64   │\n",
       "╞═════╪═══════╪═══════╪═══════╪═══════╡\n",
       "│ 1   ┆ 1     ┆ 7     ┆ 2     ┆ 9     │\n",
       "│ 2   ┆ 4     ┆ 1     ┆ 0     ┆ 4     │\n",
       "└─────┴───────┴───────┴───────┴───────┘"
      ]
     },
     "execution_count": 192,
     "metadata": {},
     "output_type": "execute_result"
    }
   ],
   "source": [
    "df = pl.DataFrame(\n",
    "    {\n",
    "        \"ix\": [1, 1, 2, 2, 1, 2],\n",
    "        \"col\": [\"a\", \"a\", \"a\", \"a\", \"b\", \"b\"],\n",
    "        \"foo\": [0, 1, 2, 2, 7, 1],\n",
    "        \"bar\": [0, 2, 0, 0, 9, 4],\n",
    "    }\n",
    ")\n",
    "df.pivot(\"col\", index=\"ix\", aggregate_function=\"sum\")"
   ]
  },
  {
   "cell_type": "code",
   "execution_count": 193,
   "id": "c765d553-9462-43b9-9438-bc7913a24e80",
   "metadata": {},
   "outputs": [
    {
     "name": "stdout",
     "output_type": "stream",
     "text": [
      "ERROR: found multiple elements in the same group, please specify an aggregation function\n"
     ]
    }
   ],
   "source": [
    "try:\n",
    "    df.pivot(\"col\", index=\"ix\")\n",
    "except Exception as e:\n",
    "    print (f\"ERROR: {e}\")"
   ]
  },
  {
   "cell_type": "markdown",
   "id": "23150774-4848-4b94-abb8-70f8f2ff2073",
   "metadata": {},
   "source": [
    "You can also pass a custom aggregation function using polars.element():\n",
    "\n",
    "https://docs.pola.rs/api/python/stable/reference/expressions/api/polars.element.html#polars.element"
   ]
  },
  {
   "cell_type": "code",
   "execution_count": 194,
   "id": "efa3c234-4ea0-4513-a062-85fd066aa908",
   "metadata": {},
   "outputs": [
    {
     "data": {
      "text/html": [
       "<div><style>\n",
       ".dataframe > thead > tr,\n",
       ".dataframe > tbody > tr {\n",
       "  text-align: right;\n",
       "  white-space: pre-wrap;\n",
       "}\n",
       "</style>\n",
       "<small>shape: (2, 3)</small><table border=\"1\" class=\"dataframe\"><thead><tr><th>col1</th><th>x</th><th>y</th></tr><tr><td>str</td><td>f64</td><td>f64</td></tr></thead><tbody><tr><td>&quot;a&quot;</td><td>0.998347</td><td>null</td></tr><tr><td>&quot;b&quot;</td><td>0.964028</td><td>0.999954</td></tr></tbody></table></div>"
      ],
      "text/plain": [
       "shape: (2, 3)\n",
       "┌──────┬──────────┬──────────┐\n",
       "│ col1 ┆ x        ┆ y        │\n",
       "│ ---  ┆ ---      ┆ ---      │\n",
       "│ str  ┆ f64      ┆ f64      │\n",
       "╞══════╪══════════╪══════════╡\n",
       "│ a    ┆ 0.998347 ┆ null     │\n",
       "│ b    ┆ 0.964028 ┆ 0.999954 │\n",
       "└──────┴──────────┴──────────┘"
      ]
     },
     "execution_count": 194,
     "metadata": {},
     "output_type": "execute_result"
    }
   ],
   "source": [
    "df = pl.DataFrame(\n",
    "    {\n",
    "        \"col1\": [\"a\", \"a\", \"a\", \"b\", \"b\", \"b\"],\n",
    "        \"col2\": [\"x\", \"x\", \"x\", \"x\", \"y\", \"y\"],\n",
    "        \"col3\": [6, 7, 3, 2, 5, 7],\n",
    "    }\n",
    ")\n",
    "df.pivot(\n",
    "    \"col2\",\n",
    "    index=\"col1\",\n",
    "    values=\"col3\",\n",
    "    aggregate_function=pl.element().tanh().mean(),\n",
    ")"
   ]
  },
  {
   "cell_type": "markdown",
   "id": "21b9d453-4f96-462b-badc-06a2bbbbfee7",
   "metadata": {},
   "source": [
    "**Note that pivot is only available in eager mode. If you know the unique column values in advance, you can use polars.LazyFrame.group_by() to get the same result as above in lazy mode:**"
   ]
  },
  {
   "cell_type": "code",
   "execution_count": 195,
   "id": "2f3166c2-75b9-4252-aefa-b524e918e760",
   "metadata": {},
   "outputs": [
    {
     "data": {
      "text/html": [
       "<div><style>\n",
       ".dataframe > thead > tr,\n",
       ".dataframe > tbody > tr {\n",
       "  text-align: right;\n",
       "  white-space: pre-wrap;\n",
       "}\n",
       "</style>\n",
       "<small>shape: (2, 3)</small><table border=\"1\" class=\"dataframe\"><thead><tr><th>col1</th><th>x</th><th>y</th></tr><tr><td>str</td><td>f64</td><td>f64</td></tr></thead><tbody><tr><td>&quot;b&quot;</td><td>0.964028</td><td>0.999954</td></tr><tr><td>&quot;a&quot;</td><td>0.998347</td><td>null</td></tr></tbody></table></div>"
      ],
      "text/plain": [
       "shape: (2, 3)\n",
       "┌──────┬──────────┬──────────┐\n",
       "│ col1 ┆ x        ┆ y        │\n",
       "│ ---  ┆ ---      ┆ ---      │\n",
       "│ str  ┆ f64      ┆ f64      │\n",
       "╞══════╪══════════╪══════════╡\n",
       "│ b    ┆ 0.964028 ┆ 0.999954 │\n",
       "│ a    ┆ 0.998347 ┆ null     │\n",
       "└──────┴──────────┴──────────┘"
      ]
     },
     "execution_count": 195,
     "metadata": {},
     "output_type": "execute_result"
    }
   ],
   "source": [
    "index = pl.col(\"col1\")\n",
    "on = pl.col(\"col2\")\n",
    "values = pl.col(\"col3\")\n",
    "unique_column_values = [\"x\", \"y\"]\n",
    "aggregate_function = lambda col: col.tanh().mean()\n",
    "df.lazy().group_by(index).agg(\n",
    "    aggregate_function(values.filter(on == value)).alias(value)\n",
    "    for value in unique_column_values\n",
    ").collect()  "
   ]
  },
  {
   "cell_type": "markdown",
   "id": "62f8bd6a-dba1-4bfb-9029-85c8b2bb9518",
   "metadata": {},
   "source": [
    "## plot\n",
    "**This functionality is currently considered unstable. It may be changed at any point without it being considered a breaking change.**\n",
    "Polars does not implement plotting logic itself, but instead defers to hvplot. Please see the hvplot reference gallery for more information and documentation."
   ]
  },
  {
   "cell_type": "code",
   "execution_count": 196,
   "id": "b6c004e4-ab5b-4c78-8763-01dbaf1c7c77",
   "metadata": {},
   "outputs": [
    {
     "data": {
      "text/html": [
       "<script type=\"esms-options\">{\"shimMode\": true}</script><style>*[data-root-id],\n",
       "*[data-root-id] > * {\n",
       "  box-sizing: border-box;\n",
       "  font-family: var(--jp-ui-font-family);\n",
       "  font-size: var(--jp-ui-font-size1);\n",
       "  color: var(--vscode-editor-foreground, var(--jp-ui-font-color1));\n",
       "}\n",
       "\n",
       "/* Override VSCode background color */\n",
       ".cell-output-ipywidget-background:has(\n",
       "    > .cell-output-ipywidget-background > .lm-Widget > *[data-root-id]\n",
       "  ),\n",
       ".cell-output-ipywidget-background:has(> .lm-Widget > *[data-root-id]) {\n",
       "  background-color: transparent !important;\n",
       "}\n",
       "</style>"
      ]
     },
     "metadata": {},
     "output_type": "display_data"
    },
    {
     "data": {
      "application/javascript": [
       "(function(root) {\n",
       "  function now() {\n",
       "    return new Date();\n",
       "  }\n",
       "\n",
       "  var force = true;\n",
       "  var py_version = '3.5.1'.replace('rc', '-rc.').replace('.dev', '-dev.');\n",
       "  var reloading = false;\n",
       "  var Bokeh = root.Bokeh;\n",
       "\n",
       "  if (typeof (root._bokeh_timeout) === \"undefined\" || force) {\n",
       "    root._bokeh_timeout = Date.now() + 5000;\n",
       "    root._bokeh_failed_load = false;\n",
       "  }\n",
       "\n",
       "  function run_callbacks() {\n",
       "    try {\n",
       "      root._bokeh_onload_callbacks.forEach(function(callback) {\n",
       "        if (callback != null)\n",
       "          callback();\n",
       "      });\n",
       "    } finally {\n",
       "      delete root._bokeh_onload_callbacks;\n",
       "    }\n",
       "    console.debug(\"Bokeh: all callbacks have finished\");\n",
       "  }\n",
       "\n",
       "  function load_libs(css_urls, js_urls, js_modules, js_exports, callback) {\n",
       "    if (css_urls == null) css_urls = [];\n",
       "    if (js_urls == null) js_urls = [];\n",
       "    if (js_modules == null) js_modules = [];\n",
       "    if (js_exports == null) js_exports = {};\n",
       "\n",
       "    root._bokeh_onload_callbacks.push(callback);\n",
       "\n",
       "    if (root._bokeh_is_loading > 0) {\n",
       "      console.debug(\"Bokeh: BokehJS is being loaded, scheduling callback at\", now());\n",
       "      return null;\n",
       "    }\n",
       "    if (js_urls.length === 0 && js_modules.length === 0 && Object.keys(js_exports).length === 0) {\n",
       "      run_callbacks();\n",
       "      return null;\n",
       "    }\n",
       "    if (!reloading) {\n",
       "      console.debug(\"Bokeh: BokehJS not loaded, scheduling load and callback at\", now());\n",
       "    }\n",
       "\n",
       "    function on_load() {\n",
       "      root._bokeh_is_loading--;\n",
       "      if (root._bokeh_is_loading === 0) {\n",
       "        console.debug(\"Bokeh: all BokehJS libraries/stylesheets loaded\");\n",
       "        run_callbacks()\n",
       "      }\n",
       "    }\n",
       "    window._bokeh_on_load = on_load\n",
       "\n",
       "    function on_error() {\n",
       "      console.error(\"failed to load \" + url);\n",
       "    }\n",
       "\n",
       "    var skip = [];\n",
       "    if (window.requirejs) {\n",
       "      window.requirejs.config({'packages': {}, 'paths': {}, 'shim': {}});\n",
       "      root._bokeh_is_loading = css_urls.length + 0;\n",
       "    } else {\n",
       "      root._bokeh_is_loading = css_urls.length + js_urls.length + js_modules.length + Object.keys(js_exports).length;\n",
       "    }\n",
       "\n",
       "    var existing_stylesheets = []\n",
       "    var links = document.getElementsByTagName('link')\n",
       "    for (var i = 0; i < links.length; i++) {\n",
       "      var link = links[i]\n",
       "      if (link.href != null) {\n",
       "\texisting_stylesheets.push(link.href)\n",
       "      }\n",
       "    }\n",
       "    for (var i = 0; i < css_urls.length; i++) {\n",
       "      var url = css_urls[i];\n",
       "      if (existing_stylesheets.indexOf(url) !== -1) {\n",
       "\ton_load()\n",
       "\tcontinue;\n",
       "      }\n",
       "      const element = document.createElement(\"link\");\n",
       "      element.onload = on_load;\n",
       "      element.onerror = on_error;\n",
       "      element.rel = \"stylesheet\";\n",
       "      element.type = \"text/css\";\n",
       "      element.href = url;\n",
       "      console.debug(\"Bokeh: injecting link tag for BokehJS stylesheet: \", url);\n",
       "      document.body.appendChild(element);\n",
       "    }    var existing_scripts = []\n",
       "    var scripts = document.getElementsByTagName('script')\n",
       "    for (var i = 0; i < scripts.length; i++) {\n",
       "      var script = scripts[i]\n",
       "      if (script.src != null) {\n",
       "\texisting_scripts.push(script.src)\n",
       "      }\n",
       "    }\n",
       "    for (var i = 0; i < js_urls.length; i++) {\n",
       "      var url = js_urls[i];\n",
       "      if (skip.indexOf(url) !== -1 || existing_scripts.indexOf(url) !== -1) {\n",
       "\tif (!window.requirejs) {\n",
       "\t  on_load();\n",
       "\t}\n",
       "\tcontinue;\n",
       "      }\n",
       "      var element = document.createElement('script');\n",
       "      element.onload = on_load;\n",
       "      element.onerror = on_error;\n",
       "      element.async = false;\n",
       "      element.src = url;\n",
       "      console.debug(\"Bokeh: injecting script tag for BokehJS library: \", url);\n",
       "      document.head.appendChild(element);\n",
       "    }\n",
       "    for (var i = 0; i < js_modules.length; i++) {\n",
       "      var url = js_modules[i];\n",
       "      if (skip.indexOf(url) !== -1 || existing_scripts.indexOf(url) !== -1) {\n",
       "\tif (!window.requirejs) {\n",
       "\t  on_load();\n",
       "\t}\n",
       "\tcontinue;\n",
       "      }\n",
       "      var element = document.createElement('script');\n",
       "      element.onload = on_load;\n",
       "      element.onerror = on_error;\n",
       "      element.async = false;\n",
       "      element.src = url;\n",
       "      element.type = \"module\";\n",
       "      console.debug(\"Bokeh: injecting script tag for BokehJS library: \", url);\n",
       "      document.head.appendChild(element);\n",
       "    }\n",
       "    for (const name in js_exports) {\n",
       "      var url = js_exports[name];\n",
       "      if (skip.indexOf(url) >= 0 || root[name] != null) {\n",
       "\tif (!window.requirejs) {\n",
       "\t  on_load();\n",
       "\t}\n",
       "\tcontinue;\n",
       "      }\n",
       "      var element = document.createElement('script');\n",
       "      element.onerror = on_error;\n",
       "      element.async = false;\n",
       "      element.type = \"module\";\n",
       "      console.debug(\"Bokeh: injecting script tag for BokehJS library: \", url);\n",
       "      element.textContent = `\n",
       "      import ${name} from \"${url}\"\n",
       "      window.${name} = ${name}\n",
       "      window._bokeh_on_load()\n",
       "      `\n",
       "      document.head.appendChild(element);\n",
       "    }\n",
       "    if (!js_urls.length && !js_modules.length) {\n",
       "      on_load()\n",
       "    }\n",
       "  };\n",
       "\n",
       "  function inject_raw_css(css) {\n",
       "    const element = document.createElement(\"style\");\n",
       "    element.appendChild(document.createTextNode(css));\n",
       "    document.body.appendChild(element);\n",
       "  }\n",
       "\n",
       "  var js_urls = [\"https://cdn.bokeh.org/bokeh/release/bokeh-3.5.1.min.js\", \"https://cdn.bokeh.org/bokeh/release/bokeh-gl-3.5.1.min.js\", \"https://cdn.bokeh.org/bokeh/release/bokeh-widgets-3.5.1.min.js\", \"https://cdn.bokeh.org/bokeh/release/bokeh-tables-3.5.1.min.js\", \"https://cdn.holoviz.org/panel/1.5.0-b.4/dist/panel.min.js\"];\n",
       "  var js_modules = [\"https://cdn.holoviz.org/panel/1.5.0-b.4/dist/bundled/reactiveesm/es-module-shims@^1.10.0/dist/es-module-shims.min.js\"];\n",
       "  var js_exports = {};\n",
       "  var css_urls = [];\n",
       "  var inline_js = [    function(Bokeh) {\n",
       "      Bokeh.set_log_level(\"info\");\n",
       "    },\n",
       "function(Bokeh) {} // ensure no trailing comma for IE\n",
       "  ];\n",
       "\n",
       "  function run_inline_js() {\n",
       "    if ((root.Bokeh !== undefined) || (force === true)) {\n",
       "      for (var i = 0; i < inline_js.length; i++) {\n",
       "\ttry {\n",
       "          inline_js[i].call(root, root.Bokeh);\n",
       "\t} catch(e) {\n",
       "\t  if (!reloading) {\n",
       "\t    throw e;\n",
       "\t  }\n",
       "\t}\n",
       "      }\n",
       "      // Cache old bokeh versions\n",
       "      if (Bokeh != undefined && !reloading) {\n",
       "\tvar NewBokeh = root.Bokeh;\n",
       "\tif (Bokeh.versions === undefined) {\n",
       "\t  Bokeh.versions = new Map();\n",
       "\t}\n",
       "\tif (NewBokeh.version !== Bokeh.version) {\n",
       "\t  Bokeh.versions.set(NewBokeh.version, NewBokeh)\n",
       "\t}\n",
       "\troot.Bokeh = Bokeh;\n",
       "      }} else if (Date.now() < root._bokeh_timeout) {\n",
       "      setTimeout(run_inline_js, 100);\n",
       "    } else if (!root._bokeh_failed_load) {\n",
       "      console.log(\"Bokeh: BokehJS failed to load within specified timeout.\");\n",
       "      root._bokeh_failed_load = true;\n",
       "    }\n",
       "    root._bokeh_is_initializing = false\n",
       "  }\n",
       "\n",
       "  function load_or_wait() {\n",
       "    // Implement a backoff loop that tries to ensure we do not load multiple\n",
       "    // versions of Bokeh and its dependencies at the same time.\n",
       "    // In recent versions we use the root._bokeh_is_initializing flag\n",
       "    // to determine whether there is an ongoing attempt to initialize\n",
       "    // bokeh, however for backward compatibility we also try to ensure\n",
       "    // that we do not start loading a newer (Panel>=1.0 and Bokeh>3) version\n",
       "    // before older versions are fully initialized.\n",
       "    if (root._bokeh_is_initializing && Date.now() > root._bokeh_timeout) {\n",
       "      root._bokeh_is_initializing = false;\n",
       "      root._bokeh_onload_callbacks = undefined;\n",
       "      console.log(\"Bokeh: BokehJS was loaded multiple times but one version failed to initialize.\");\n",
       "      load_or_wait();\n",
       "    } else if (root._bokeh_is_initializing || (typeof root._bokeh_is_initializing === \"undefined\" && root._bokeh_onload_callbacks !== undefined)) {\n",
       "      setTimeout(load_or_wait, 100);\n",
       "    } else {\n",
       "      root._bokeh_is_initializing = true\n",
       "      root._bokeh_onload_callbacks = []\n",
       "      var bokeh_loaded = Bokeh != null && (Bokeh.version === py_version || (Bokeh.versions !== undefined && Bokeh.versions.has(py_version)));\n",
       "      if (!reloading && !bokeh_loaded) {\n",
       "\troot.Bokeh = undefined;\n",
       "      }\n",
       "      load_libs(css_urls, js_urls, js_modules, js_exports, function() {\n",
       "\tconsole.debug(\"Bokeh: BokehJS plotting callback run at\", now());\n",
       "\trun_inline_js();\n",
       "      });\n",
       "    }\n",
       "  }\n",
       "  // Give older versions of the autoload script a head-start to ensure\n",
       "  // they initialize before we start loading newer version.\n",
       "  setTimeout(load_or_wait, 100)\n",
       "}(window));"
      ],
      "application/vnd.holoviews_load.v0+json": "(function(root) {\n  function now() {\n    return new Date();\n  }\n\n  var force = true;\n  var py_version = '3.5.1'.replace('rc', '-rc.').replace('.dev', '-dev.');\n  var reloading = false;\n  var Bokeh = root.Bokeh;\n\n  if (typeof (root._bokeh_timeout) === \"undefined\" || force) {\n    root._bokeh_timeout = Date.now() + 5000;\n    root._bokeh_failed_load = false;\n  }\n\n  function run_callbacks() {\n    try {\n      root._bokeh_onload_callbacks.forEach(function(callback) {\n        if (callback != null)\n          callback();\n      });\n    } finally {\n      delete root._bokeh_onload_callbacks;\n    }\n    console.debug(\"Bokeh: all callbacks have finished\");\n  }\n\n  function load_libs(css_urls, js_urls, js_modules, js_exports, callback) {\n    if (css_urls == null) css_urls = [];\n    if (js_urls == null) js_urls = [];\n    if (js_modules == null) js_modules = [];\n    if (js_exports == null) js_exports = {};\n\n    root._bokeh_onload_callbacks.push(callback);\n\n    if (root._bokeh_is_loading > 0) {\n      console.debug(\"Bokeh: BokehJS is being loaded, scheduling callback at\", now());\n      return null;\n    }\n    if (js_urls.length === 0 && js_modules.length === 0 && Object.keys(js_exports).length === 0) {\n      run_callbacks();\n      return null;\n    }\n    if (!reloading) {\n      console.debug(\"Bokeh: BokehJS not loaded, scheduling load and callback at\", now());\n    }\n\n    function on_load() {\n      root._bokeh_is_loading--;\n      if (root._bokeh_is_loading === 0) {\n        console.debug(\"Bokeh: all BokehJS libraries/stylesheets loaded\");\n        run_callbacks()\n      }\n    }\n    window._bokeh_on_load = on_load\n\n    function on_error() {\n      console.error(\"failed to load \" + url);\n    }\n\n    var skip = [];\n    if (window.requirejs) {\n      window.requirejs.config({'packages': {}, 'paths': {}, 'shim': {}});\n      root._bokeh_is_loading = css_urls.length + 0;\n    } else {\n      root._bokeh_is_loading = css_urls.length + js_urls.length + js_modules.length + Object.keys(js_exports).length;\n    }\n\n    var existing_stylesheets = []\n    var links = document.getElementsByTagName('link')\n    for (var i = 0; i < links.length; i++) {\n      var link = links[i]\n      if (link.href != null) {\n\texisting_stylesheets.push(link.href)\n      }\n    }\n    for (var i = 0; i < css_urls.length; i++) {\n      var url = css_urls[i];\n      if (existing_stylesheets.indexOf(url) !== -1) {\n\ton_load()\n\tcontinue;\n      }\n      const element = document.createElement(\"link\");\n      element.onload = on_load;\n      element.onerror = on_error;\n      element.rel = \"stylesheet\";\n      element.type = \"text/css\";\n      element.href = url;\n      console.debug(\"Bokeh: injecting link tag for BokehJS stylesheet: \", url);\n      document.body.appendChild(element);\n    }    var existing_scripts = []\n    var scripts = document.getElementsByTagName('script')\n    for (var i = 0; i < scripts.length; i++) {\n      var script = scripts[i]\n      if (script.src != null) {\n\texisting_scripts.push(script.src)\n      }\n    }\n    for (var i = 0; i < js_urls.length; i++) {\n      var url = js_urls[i];\n      if (skip.indexOf(url) !== -1 || existing_scripts.indexOf(url) !== -1) {\n\tif (!window.requirejs) {\n\t  on_load();\n\t}\n\tcontinue;\n      }\n      var element = document.createElement('script');\n      element.onload = on_load;\n      element.onerror = on_error;\n      element.async = false;\n      element.src = url;\n      console.debug(\"Bokeh: injecting script tag for BokehJS library: \", url);\n      document.head.appendChild(element);\n    }\n    for (var i = 0; i < js_modules.length; i++) {\n      var url = js_modules[i];\n      if (skip.indexOf(url) !== -1 || existing_scripts.indexOf(url) !== -1) {\n\tif (!window.requirejs) {\n\t  on_load();\n\t}\n\tcontinue;\n      }\n      var element = document.createElement('script');\n      element.onload = on_load;\n      element.onerror = on_error;\n      element.async = false;\n      element.src = url;\n      element.type = \"module\";\n      console.debug(\"Bokeh: injecting script tag for BokehJS library: \", url);\n      document.head.appendChild(element);\n    }\n    for (const name in js_exports) {\n      var url = js_exports[name];\n      if (skip.indexOf(url) >= 0 || root[name] != null) {\n\tif (!window.requirejs) {\n\t  on_load();\n\t}\n\tcontinue;\n      }\n      var element = document.createElement('script');\n      element.onerror = on_error;\n      element.async = false;\n      element.type = \"module\";\n      console.debug(\"Bokeh: injecting script tag for BokehJS library: \", url);\n      element.textContent = `\n      import ${name} from \"${url}\"\n      window.${name} = ${name}\n      window._bokeh_on_load()\n      `\n      document.head.appendChild(element);\n    }\n    if (!js_urls.length && !js_modules.length) {\n      on_load()\n    }\n  };\n\n  function inject_raw_css(css) {\n    const element = document.createElement(\"style\");\n    element.appendChild(document.createTextNode(css));\n    document.body.appendChild(element);\n  }\n\n  var js_urls = [\"https://cdn.bokeh.org/bokeh/release/bokeh-3.5.1.min.js\", \"https://cdn.bokeh.org/bokeh/release/bokeh-gl-3.5.1.min.js\", \"https://cdn.bokeh.org/bokeh/release/bokeh-widgets-3.5.1.min.js\", \"https://cdn.bokeh.org/bokeh/release/bokeh-tables-3.5.1.min.js\", \"https://cdn.holoviz.org/panel/1.5.0-b.4/dist/panel.min.js\"];\n  var js_modules = [\"https://cdn.holoviz.org/panel/1.5.0-b.4/dist/bundled/reactiveesm/es-module-shims@^1.10.0/dist/es-module-shims.min.js\"];\n  var js_exports = {};\n  var css_urls = [];\n  var inline_js = [    function(Bokeh) {\n      Bokeh.set_log_level(\"info\");\n    },\nfunction(Bokeh) {} // ensure no trailing comma for IE\n  ];\n\n  function run_inline_js() {\n    if ((root.Bokeh !== undefined) || (force === true)) {\n      for (var i = 0; i < inline_js.length; i++) {\n\ttry {\n          inline_js[i].call(root, root.Bokeh);\n\t} catch(e) {\n\t  if (!reloading) {\n\t    throw e;\n\t  }\n\t}\n      }\n      // Cache old bokeh versions\n      if (Bokeh != undefined && !reloading) {\n\tvar NewBokeh = root.Bokeh;\n\tif (Bokeh.versions === undefined) {\n\t  Bokeh.versions = new Map();\n\t}\n\tif (NewBokeh.version !== Bokeh.version) {\n\t  Bokeh.versions.set(NewBokeh.version, NewBokeh)\n\t}\n\troot.Bokeh = Bokeh;\n      }} else if (Date.now() < root._bokeh_timeout) {\n      setTimeout(run_inline_js, 100);\n    } else if (!root._bokeh_failed_load) {\n      console.log(\"Bokeh: BokehJS failed to load within specified timeout.\");\n      root._bokeh_failed_load = true;\n    }\n    root._bokeh_is_initializing = false\n  }\n\n  function load_or_wait() {\n    // Implement a backoff loop that tries to ensure we do not load multiple\n    // versions of Bokeh and its dependencies at the same time.\n    // In recent versions we use the root._bokeh_is_initializing flag\n    // to determine whether there is an ongoing attempt to initialize\n    // bokeh, however for backward compatibility we also try to ensure\n    // that we do not start loading a newer (Panel>=1.0 and Bokeh>3) version\n    // before older versions are fully initialized.\n    if (root._bokeh_is_initializing && Date.now() > root._bokeh_timeout) {\n      root._bokeh_is_initializing = false;\n      root._bokeh_onload_callbacks = undefined;\n      console.log(\"Bokeh: BokehJS was loaded multiple times but one version failed to initialize.\");\n      load_or_wait();\n    } else if (root._bokeh_is_initializing || (typeof root._bokeh_is_initializing === \"undefined\" && root._bokeh_onload_callbacks !== undefined)) {\n      setTimeout(load_or_wait, 100);\n    } else {\n      root._bokeh_is_initializing = true\n      root._bokeh_onload_callbacks = []\n      var bokeh_loaded = Bokeh != null && (Bokeh.version === py_version || (Bokeh.versions !== undefined && Bokeh.versions.has(py_version)));\n      if (!reloading && !bokeh_loaded) {\n\troot.Bokeh = undefined;\n      }\n      load_libs(css_urls, js_urls, js_modules, js_exports, function() {\n\tconsole.debug(\"Bokeh: BokehJS plotting callback run at\", now());\n\trun_inline_js();\n      });\n    }\n  }\n  // Give older versions of the autoload script a head-start to ensure\n  // they initialize before we start loading newer version.\n  setTimeout(load_or_wait, 100)\n}(window));"
     },
     "metadata": {},
     "output_type": "display_data"
    },
    {
     "data": {
      "application/javascript": [
       "\n",
       "if ((window.PyViz === undefined) || (window.PyViz instanceof HTMLElement)) {\n",
       "  window.PyViz = {comms: {}, comm_status:{}, kernels:{}, receivers: {}, plot_index: []}\n",
       "}\n",
       "\n",
       "\n",
       "    function JupyterCommManager() {\n",
       "    }\n",
       "\n",
       "    JupyterCommManager.prototype.register_target = function(plot_id, comm_id, msg_handler) {\n",
       "      if (window.comm_manager || ((window.Jupyter !== undefined) && (Jupyter.notebook.kernel != null))) {\n",
       "        var comm_manager = window.comm_manager || Jupyter.notebook.kernel.comm_manager;\n",
       "        comm_manager.register_target(comm_id, function(comm) {\n",
       "          comm.on_msg(msg_handler);\n",
       "        });\n",
       "      } else if ((plot_id in window.PyViz.kernels) && (window.PyViz.kernels[plot_id])) {\n",
       "        window.PyViz.kernels[plot_id].registerCommTarget(comm_id, function(comm) {\n",
       "          comm.onMsg = msg_handler;\n",
       "        });\n",
       "      } else if (typeof google != 'undefined' && google.colab.kernel != null) {\n",
       "        google.colab.kernel.comms.registerTarget(comm_id, (comm) => {\n",
       "          var messages = comm.messages[Symbol.asyncIterator]();\n",
       "          function processIteratorResult(result) {\n",
       "            var message = result.value;\n",
       "            console.log(message)\n",
       "            var content = {data: message.data, comm_id};\n",
       "            var buffers = []\n",
       "            for (var buffer of message.buffers || []) {\n",
       "              buffers.push(new DataView(buffer))\n",
       "            }\n",
       "            var metadata = message.metadata || {};\n",
       "            var msg = {content, buffers, metadata}\n",
       "            msg_handler(msg);\n",
       "            return messages.next().then(processIteratorResult);\n",
       "          }\n",
       "          return messages.next().then(processIteratorResult);\n",
       "        })\n",
       "      }\n",
       "    }\n",
       "\n",
       "    JupyterCommManager.prototype.get_client_comm = function(plot_id, comm_id, msg_handler) {\n",
       "      if (comm_id in window.PyViz.comms) {\n",
       "        return window.PyViz.comms[comm_id];\n",
       "      } else if (window.comm_manager || ((window.Jupyter !== undefined) && (Jupyter.notebook.kernel != null))) {\n",
       "        var comm_manager = window.comm_manager || Jupyter.notebook.kernel.comm_manager;\n",
       "        var comm = comm_manager.new_comm(comm_id, {}, {}, {}, comm_id);\n",
       "        if (msg_handler) {\n",
       "          comm.on_msg(msg_handler);\n",
       "        }\n",
       "      } else if ((plot_id in window.PyViz.kernels) && (window.PyViz.kernels[plot_id])) {\n",
       "        var comm = window.PyViz.kernels[plot_id].connectToComm(comm_id);\n",
       "        comm.open();\n",
       "        if (msg_handler) {\n",
       "          comm.onMsg = msg_handler;\n",
       "        }\n",
       "      } else if (typeof google != 'undefined' && google.colab.kernel != null) {\n",
       "        var comm_promise = google.colab.kernel.comms.open(comm_id)\n",
       "        comm_promise.then((comm) => {\n",
       "          window.PyViz.comms[comm_id] = comm;\n",
       "          if (msg_handler) {\n",
       "            var messages = comm.messages[Symbol.asyncIterator]();\n",
       "            function processIteratorResult(result) {\n",
       "              var message = result.value;\n",
       "              var content = {data: message.data};\n",
       "              var metadata = message.metadata || {comm_id};\n",
       "              var msg = {content, metadata}\n",
       "              msg_handler(msg);\n",
       "              return messages.next().then(processIteratorResult);\n",
       "            }\n",
       "            return messages.next().then(processIteratorResult);\n",
       "          }\n",
       "        }) \n",
       "        var sendClosure = (data, metadata, buffers, disposeOnDone) => {\n",
       "          return comm_promise.then((comm) => {\n",
       "            comm.send(data, metadata, buffers, disposeOnDone);\n",
       "          });\n",
       "        };\n",
       "        var comm = {\n",
       "          send: sendClosure\n",
       "        };\n",
       "      }\n",
       "      window.PyViz.comms[comm_id] = comm;\n",
       "      return comm;\n",
       "    }\n",
       "    window.PyViz.comm_manager = new JupyterCommManager();\n",
       "    \n",
       "\n",
       "\n",
       "var JS_MIME_TYPE = 'application/javascript';\n",
       "var HTML_MIME_TYPE = 'text/html';\n",
       "var EXEC_MIME_TYPE = 'application/vnd.holoviews_exec.v0+json';\n",
       "var CLASS_NAME = 'output';\n",
       "\n",
       "/**\n",
       " * Render data to the DOM node\n",
       " */\n",
       "function render(props, node) {\n",
       "  var div = document.createElement(\"div\");\n",
       "  var script = document.createElement(\"script\");\n",
       "  node.appendChild(div);\n",
       "  node.appendChild(script);\n",
       "}\n",
       "\n",
       "/**\n",
       " * Handle when a new output is added\n",
       " */\n",
       "function handle_add_output(event, handle) {\n",
       "  var output_area = handle.output_area;\n",
       "  var output = handle.output;\n",
       "  if ((output.data == undefined) || (!output.data.hasOwnProperty(EXEC_MIME_TYPE))) {\n",
       "    return\n",
       "  }\n",
       "  var id = output.metadata[EXEC_MIME_TYPE][\"id\"];\n",
       "  var toinsert = output_area.element.find(\".\" + CLASS_NAME.split(' ')[0]);\n",
       "  if (id !== undefined) {\n",
       "    var nchildren = toinsert.length;\n",
       "    var html_node = toinsert[nchildren-1].children[0];\n",
       "    html_node.innerHTML = output.data[HTML_MIME_TYPE];\n",
       "    var scripts = [];\n",
       "    var nodelist = html_node.querySelectorAll(\"script\");\n",
       "    for (var i in nodelist) {\n",
       "      if (nodelist.hasOwnProperty(i)) {\n",
       "        scripts.push(nodelist[i])\n",
       "      }\n",
       "    }\n",
       "\n",
       "    scripts.forEach( function (oldScript) {\n",
       "      var newScript = document.createElement(\"script\");\n",
       "      var attrs = [];\n",
       "      var nodemap = oldScript.attributes;\n",
       "      for (var j in nodemap) {\n",
       "        if (nodemap.hasOwnProperty(j)) {\n",
       "          attrs.push(nodemap[j])\n",
       "        }\n",
       "      }\n",
       "      attrs.forEach(function(attr) { newScript.setAttribute(attr.name, attr.value) });\n",
       "      newScript.appendChild(document.createTextNode(oldScript.innerHTML));\n",
       "      oldScript.parentNode.replaceChild(newScript, oldScript);\n",
       "    });\n",
       "    if (JS_MIME_TYPE in output.data) {\n",
       "      toinsert[nchildren-1].children[1].textContent = output.data[JS_MIME_TYPE];\n",
       "    }\n",
       "    output_area._hv_plot_id = id;\n",
       "    if ((window.Bokeh !== undefined) && (id in Bokeh.index)) {\n",
       "      window.PyViz.plot_index[id] = Bokeh.index[id];\n",
       "    } else {\n",
       "      window.PyViz.plot_index[id] = null;\n",
       "    }\n",
       "  } else if (output.metadata[EXEC_MIME_TYPE][\"server_id\"] !== undefined) {\n",
       "    var bk_div = document.createElement(\"div\");\n",
       "    bk_div.innerHTML = output.data[HTML_MIME_TYPE];\n",
       "    var script_attrs = bk_div.children[0].attributes;\n",
       "    for (var i = 0; i < script_attrs.length; i++) {\n",
       "      toinsert[toinsert.length - 1].childNodes[1].setAttribute(script_attrs[i].name, script_attrs[i].value);\n",
       "    }\n",
       "    // store reference to server id on output_area\n",
       "    output_area._bokeh_server_id = output.metadata[EXEC_MIME_TYPE][\"server_id\"];\n",
       "  }\n",
       "}\n",
       "\n",
       "/**\n",
       " * Handle when an output is cleared or removed\n",
       " */\n",
       "function handle_clear_output(event, handle) {\n",
       "  var id = handle.cell.output_area._hv_plot_id;\n",
       "  var server_id = handle.cell.output_area._bokeh_server_id;\n",
       "  if (((id === undefined) || !(id in PyViz.plot_index)) && (server_id !== undefined)) { return; }\n",
       "  var comm = window.PyViz.comm_manager.get_client_comm(\"hv-extension-comm\", \"hv-extension-comm\", function () {});\n",
       "  if (server_id !== null) {\n",
       "    comm.send({event_type: 'server_delete', 'id': server_id});\n",
       "    return;\n",
       "  } else if (comm !== null) {\n",
       "    comm.send({event_type: 'delete', 'id': id});\n",
       "  }\n",
       "  delete PyViz.plot_index[id];\n",
       "  if ((window.Bokeh !== undefined) & (id in window.Bokeh.index)) {\n",
       "    var doc = window.Bokeh.index[id].model.document\n",
       "    doc.clear();\n",
       "    const i = window.Bokeh.documents.indexOf(doc);\n",
       "    if (i > -1) {\n",
       "      window.Bokeh.documents.splice(i, 1);\n",
       "    }\n",
       "  }\n",
       "}\n",
       "\n",
       "/**\n",
       " * Handle kernel restart event\n",
       " */\n",
       "function handle_kernel_cleanup(event, handle) {\n",
       "  delete PyViz.comms[\"hv-extension-comm\"];\n",
       "  window.PyViz.plot_index = {}\n",
       "}\n",
       "\n",
       "/**\n",
       " * Handle update_display_data messages\n",
       " */\n",
       "function handle_update_output(event, handle) {\n",
       "  handle_clear_output(event, {cell: {output_area: handle.output_area}})\n",
       "  handle_add_output(event, handle)\n",
       "}\n",
       "\n",
       "function register_renderer(events, OutputArea) {\n",
       "  function append_mime(data, metadata, element) {\n",
       "    // create a DOM node to render to\n",
       "    var toinsert = this.create_output_subarea(\n",
       "    metadata,\n",
       "    CLASS_NAME,\n",
       "    EXEC_MIME_TYPE\n",
       "    );\n",
       "    this.keyboard_manager.register_events(toinsert);\n",
       "    // Render to node\n",
       "    var props = {data: data, metadata: metadata[EXEC_MIME_TYPE]};\n",
       "    render(props, toinsert[0]);\n",
       "    element.append(toinsert);\n",
       "    return toinsert\n",
       "  }\n",
       "\n",
       "  events.on('output_added.OutputArea', handle_add_output);\n",
       "  events.on('output_updated.OutputArea', handle_update_output);\n",
       "  events.on('clear_output.CodeCell', handle_clear_output);\n",
       "  events.on('delete.Cell', handle_clear_output);\n",
       "  events.on('kernel_ready.Kernel', handle_kernel_cleanup);\n",
       "\n",
       "  OutputArea.prototype.register_mime_type(EXEC_MIME_TYPE, append_mime, {\n",
       "    safe: true,\n",
       "    index: 0\n",
       "  });\n",
       "}\n",
       "\n",
       "if (window.Jupyter !== undefined) {\n",
       "  try {\n",
       "    var events = require('base/js/events');\n",
       "    var OutputArea = require('notebook/js/outputarea').OutputArea;\n",
       "    if (OutputArea.prototype.mime_types().indexOf(EXEC_MIME_TYPE) == -1) {\n",
       "      register_renderer(events, OutputArea);\n",
       "    }\n",
       "  } catch(err) {\n",
       "  }\n",
       "}\n"
      ],
      "application/vnd.holoviews_load.v0+json": "\nif ((window.PyViz === undefined) || (window.PyViz instanceof HTMLElement)) {\n  window.PyViz = {comms: {}, comm_status:{}, kernels:{}, receivers: {}, plot_index: []}\n}\n\n\n    function JupyterCommManager() {\n    }\n\n    JupyterCommManager.prototype.register_target = function(plot_id, comm_id, msg_handler) {\n      if (window.comm_manager || ((window.Jupyter !== undefined) && (Jupyter.notebook.kernel != null))) {\n        var comm_manager = window.comm_manager || Jupyter.notebook.kernel.comm_manager;\n        comm_manager.register_target(comm_id, function(comm) {\n          comm.on_msg(msg_handler);\n        });\n      } else if ((plot_id in window.PyViz.kernels) && (window.PyViz.kernels[plot_id])) {\n        window.PyViz.kernels[plot_id].registerCommTarget(comm_id, function(comm) {\n          comm.onMsg = msg_handler;\n        });\n      } else if (typeof google != 'undefined' && google.colab.kernel != null) {\n        google.colab.kernel.comms.registerTarget(comm_id, (comm) => {\n          var messages = comm.messages[Symbol.asyncIterator]();\n          function processIteratorResult(result) {\n            var message = result.value;\n            console.log(message)\n            var content = {data: message.data, comm_id};\n            var buffers = []\n            for (var buffer of message.buffers || []) {\n              buffers.push(new DataView(buffer))\n            }\n            var metadata = message.metadata || {};\n            var msg = {content, buffers, metadata}\n            msg_handler(msg);\n            return messages.next().then(processIteratorResult);\n          }\n          return messages.next().then(processIteratorResult);\n        })\n      }\n    }\n\n    JupyterCommManager.prototype.get_client_comm = function(plot_id, comm_id, msg_handler) {\n      if (comm_id in window.PyViz.comms) {\n        return window.PyViz.comms[comm_id];\n      } else if (window.comm_manager || ((window.Jupyter !== undefined) && (Jupyter.notebook.kernel != null))) {\n        var comm_manager = window.comm_manager || Jupyter.notebook.kernel.comm_manager;\n        var comm = comm_manager.new_comm(comm_id, {}, {}, {}, comm_id);\n        if (msg_handler) {\n          comm.on_msg(msg_handler);\n        }\n      } else if ((plot_id in window.PyViz.kernels) && (window.PyViz.kernels[plot_id])) {\n        var comm = window.PyViz.kernels[plot_id].connectToComm(comm_id);\n        comm.open();\n        if (msg_handler) {\n          comm.onMsg = msg_handler;\n        }\n      } else if (typeof google != 'undefined' && google.colab.kernel != null) {\n        var comm_promise = google.colab.kernel.comms.open(comm_id)\n        comm_promise.then((comm) => {\n          window.PyViz.comms[comm_id] = comm;\n          if (msg_handler) {\n            var messages = comm.messages[Symbol.asyncIterator]();\n            function processIteratorResult(result) {\n              var message = result.value;\n              var content = {data: message.data};\n              var metadata = message.metadata || {comm_id};\n              var msg = {content, metadata}\n              msg_handler(msg);\n              return messages.next().then(processIteratorResult);\n            }\n            return messages.next().then(processIteratorResult);\n          }\n        }) \n        var sendClosure = (data, metadata, buffers, disposeOnDone) => {\n          return comm_promise.then((comm) => {\n            comm.send(data, metadata, buffers, disposeOnDone);\n          });\n        };\n        var comm = {\n          send: sendClosure\n        };\n      }\n      window.PyViz.comms[comm_id] = comm;\n      return comm;\n    }\n    window.PyViz.comm_manager = new JupyterCommManager();\n    \n\n\nvar JS_MIME_TYPE = 'application/javascript';\nvar HTML_MIME_TYPE = 'text/html';\nvar EXEC_MIME_TYPE = 'application/vnd.holoviews_exec.v0+json';\nvar CLASS_NAME = 'output';\n\n/**\n * Render data to the DOM node\n */\nfunction render(props, node) {\n  var div = document.createElement(\"div\");\n  var script = document.createElement(\"script\");\n  node.appendChild(div);\n  node.appendChild(script);\n}\n\n/**\n * Handle when a new output is added\n */\nfunction handle_add_output(event, handle) {\n  var output_area = handle.output_area;\n  var output = handle.output;\n  if ((output.data == undefined) || (!output.data.hasOwnProperty(EXEC_MIME_TYPE))) {\n    return\n  }\n  var id = output.metadata[EXEC_MIME_TYPE][\"id\"];\n  var toinsert = output_area.element.find(\".\" + CLASS_NAME.split(' ')[0]);\n  if (id !== undefined) {\n    var nchildren = toinsert.length;\n    var html_node = toinsert[nchildren-1].children[0];\n    html_node.innerHTML = output.data[HTML_MIME_TYPE];\n    var scripts = [];\n    var nodelist = html_node.querySelectorAll(\"script\");\n    for (var i in nodelist) {\n      if (nodelist.hasOwnProperty(i)) {\n        scripts.push(nodelist[i])\n      }\n    }\n\n    scripts.forEach( function (oldScript) {\n      var newScript = document.createElement(\"script\");\n      var attrs = [];\n      var nodemap = oldScript.attributes;\n      for (var j in nodemap) {\n        if (nodemap.hasOwnProperty(j)) {\n          attrs.push(nodemap[j])\n        }\n      }\n      attrs.forEach(function(attr) { newScript.setAttribute(attr.name, attr.value) });\n      newScript.appendChild(document.createTextNode(oldScript.innerHTML));\n      oldScript.parentNode.replaceChild(newScript, oldScript);\n    });\n    if (JS_MIME_TYPE in output.data) {\n      toinsert[nchildren-1].children[1].textContent = output.data[JS_MIME_TYPE];\n    }\n    output_area._hv_plot_id = id;\n    if ((window.Bokeh !== undefined) && (id in Bokeh.index)) {\n      window.PyViz.plot_index[id] = Bokeh.index[id];\n    } else {\n      window.PyViz.plot_index[id] = null;\n    }\n  } else if (output.metadata[EXEC_MIME_TYPE][\"server_id\"] !== undefined) {\n    var bk_div = document.createElement(\"div\");\n    bk_div.innerHTML = output.data[HTML_MIME_TYPE];\n    var script_attrs = bk_div.children[0].attributes;\n    for (var i = 0; i < script_attrs.length; i++) {\n      toinsert[toinsert.length - 1].childNodes[1].setAttribute(script_attrs[i].name, script_attrs[i].value);\n    }\n    // store reference to server id on output_area\n    output_area._bokeh_server_id = output.metadata[EXEC_MIME_TYPE][\"server_id\"];\n  }\n}\n\n/**\n * Handle when an output is cleared or removed\n */\nfunction handle_clear_output(event, handle) {\n  var id = handle.cell.output_area._hv_plot_id;\n  var server_id = handle.cell.output_area._bokeh_server_id;\n  if (((id === undefined) || !(id in PyViz.plot_index)) && (server_id !== undefined)) { return; }\n  var comm = window.PyViz.comm_manager.get_client_comm(\"hv-extension-comm\", \"hv-extension-comm\", function () {});\n  if (server_id !== null) {\n    comm.send({event_type: 'server_delete', 'id': server_id});\n    return;\n  } else if (comm !== null) {\n    comm.send({event_type: 'delete', 'id': id});\n  }\n  delete PyViz.plot_index[id];\n  if ((window.Bokeh !== undefined) & (id in window.Bokeh.index)) {\n    var doc = window.Bokeh.index[id].model.document\n    doc.clear();\n    const i = window.Bokeh.documents.indexOf(doc);\n    if (i > -1) {\n      window.Bokeh.documents.splice(i, 1);\n    }\n  }\n}\n\n/**\n * Handle kernel restart event\n */\nfunction handle_kernel_cleanup(event, handle) {\n  delete PyViz.comms[\"hv-extension-comm\"];\n  window.PyViz.plot_index = {}\n}\n\n/**\n * Handle update_display_data messages\n */\nfunction handle_update_output(event, handle) {\n  handle_clear_output(event, {cell: {output_area: handle.output_area}})\n  handle_add_output(event, handle)\n}\n\nfunction register_renderer(events, OutputArea) {\n  function append_mime(data, metadata, element) {\n    // create a DOM node to render to\n    var toinsert = this.create_output_subarea(\n    metadata,\n    CLASS_NAME,\n    EXEC_MIME_TYPE\n    );\n    this.keyboard_manager.register_events(toinsert);\n    // Render to node\n    var props = {data: data, metadata: metadata[EXEC_MIME_TYPE]};\n    render(props, toinsert[0]);\n    element.append(toinsert);\n    return toinsert\n  }\n\n  events.on('output_added.OutputArea', handle_add_output);\n  events.on('output_updated.OutputArea', handle_update_output);\n  events.on('clear_output.CodeCell', handle_clear_output);\n  events.on('delete.Cell', handle_clear_output);\n  events.on('kernel_ready.Kernel', handle_kernel_cleanup);\n\n  OutputArea.prototype.register_mime_type(EXEC_MIME_TYPE, append_mime, {\n    safe: true,\n    index: 0\n  });\n}\n\nif (window.Jupyter !== undefined) {\n  try {\n    var events = require('base/js/events');\n    var OutputArea = require('notebook/js/outputarea').OutputArea;\n    if (OutputArea.prototype.mime_types().indexOf(EXEC_MIME_TYPE) == -1) {\n      register_renderer(events, OutputArea);\n    }\n  } catch(err) {\n  }\n}\n"
     },
     "metadata": {},
     "output_type": "display_data"
    },
    {
     "data": {
      "application/vnd.holoviews_exec.v0+json": "",
      "text/html": [
       "<div id='p1002'>\n",
       "  <div id=\"b526d5eb-dab9-49b9-8a3b-cbe3e01ef10e\" data-root-id=\"p1002\" style=\"display: contents;\"></div>\n",
       "</div>\n",
       "<script type=\"application/javascript\">(function(root) {\n",
       "  var docs_json = {\"d4f20b48-945b-4e80-922b-907478f59adf\":{\"version\":\"3.5.1\",\"title\":\"Bokeh Application\",\"roots\":[{\"type\":\"object\",\"name\":\"panel.models.browser.BrowserInfo\",\"id\":\"p1002\"},{\"type\":\"object\",\"name\":\"panel.models.comm_manager.CommManager\",\"id\":\"p1003\",\"attributes\":{\"plot_id\":\"p1002\",\"comm_id\":\"5de31d2b86114a4bac4c9345acd8cce1\",\"client_comm_id\":\"7d6145abba9e49a39cbc253eb3a711fe\"}}],\"defs\":[{\"type\":\"model\",\"name\":\"ReactiveHTML1\"},{\"type\":\"model\",\"name\":\"FlexBox1\",\"properties\":[{\"name\":\"align_content\",\"kind\":\"Any\",\"default\":\"flex-start\"},{\"name\":\"align_items\",\"kind\":\"Any\",\"default\":\"flex-start\"},{\"name\":\"flex_direction\",\"kind\":\"Any\",\"default\":\"row\"},{\"name\":\"flex_wrap\",\"kind\":\"Any\",\"default\":\"wrap\"},{\"name\":\"gap\",\"kind\":\"Any\",\"default\":\"\"},{\"name\":\"justify_content\",\"kind\":\"Any\",\"default\":\"flex-start\"}]},{\"type\":\"model\",\"name\":\"FloatPanel1\",\"properties\":[{\"name\":\"config\",\"kind\":\"Any\",\"default\":{\"type\":\"map\"}},{\"name\":\"contained\",\"kind\":\"Any\",\"default\":true},{\"name\":\"position\",\"kind\":\"Any\",\"default\":\"right-top\"},{\"name\":\"offsetx\",\"kind\":\"Any\",\"default\":null},{\"name\":\"offsety\",\"kind\":\"Any\",\"default\":null},{\"name\":\"theme\",\"kind\":\"Any\",\"default\":\"primary\"},{\"name\":\"status\",\"kind\":\"Any\",\"default\":\"normalized\"}]},{\"type\":\"model\",\"name\":\"GridStack1\",\"properties\":[{\"name\":\"mode\",\"kind\":\"Any\",\"default\":\"warn\"},{\"name\":\"ncols\",\"kind\":\"Any\",\"default\":null},{\"name\":\"nrows\",\"kind\":\"Any\",\"default\":null},{\"name\":\"allow_resize\",\"kind\":\"Any\",\"default\":true},{\"name\":\"allow_drag\",\"kind\":\"Any\",\"default\":true},{\"name\":\"state\",\"kind\":\"Any\",\"default\":[]}]},{\"type\":\"model\",\"name\":\"drag1\",\"properties\":[{\"name\":\"slider_width\",\"kind\":\"Any\",\"default\":5},{\"name\":\"slider_color\",\"kind\":\"Any\",\"default\":\"black\"},{\"name\":\"value\",\"kind\":\"Any\",\"default\":50}]},{\"type\":\"model\",\"name\":\"click1\",\"properties\":[{\"name\":\"terminal_output\",\"kind\":\"Any\",\"default\":\"\"},{\"name\":\"debug_name\",\"kind\":\"Any\",\"default\":\"\"},{\"name\":\"clears\",\"kind\":\"Any\",\"default\":0}]},{\"type\":\"model\",\"name\":\"FastWrapper1\",\"properties\":[{\"name\":\"object\",\"kind\":\"Any\",\"default\":null},{\"name\":\"style\",\"kind\":\"Any\",\"default\":null}]},{\"type\":\"model\",\"name\":\"NotificationAreaBase1\",\"properties\":[{\"name\":\"js_events\",\"kind\":\"Any\",\"default\":{\"type\":\"map\"}},{\"name\":\"position\",\"kind\":\"Any\",\"default\":\"bottom-right\"},{\"name\":\"_clear\",\"kind\":\"Any\",\"default\":0}]},{\"type\":\"model\",\"name\":\"NotificationArea1\",\"properties\":[{\"name\":\"js_events\",\"kind\":\"Any\",\"default\":{\"type\":\"map\"}},{\"name\":\"notifications\",\"kind\":\"Any\",\"default\":[]},{\"name\":\"position\",\"kind\":\"Any\",\"default\":\"bottom-right\"},{\"name\":\"_clear\",\"kind\":\"Any\",\"default\":0},{\"name\":\"types\",\"kind\":\"Any\",\"default\":[{\"type\":\"map\",\"entries\":[[\"type\",\"warning\"],[\"background\",\"#ffc107\"],[\"icon\",{\"type\":\"map\",\"entries\":[[\"className\",\"fas fa-exclamation-triangle\"],[\"tagName\",\"i\"],[\"color\",\"white\"]]}]]},{\"type\":\"map\",\"entries\":[[\"type\",\"info\"],[\"background\",\"#007bff\"],[\"icon\",{\"type\":\"map\",\"entries\":[[\"className\",\"fas fa-info-circle\"],[\"tagName\",\"i\"],[\"color\",\"white\"]]}]]}]}]},{\"type\":\"model\",\"name\":\"Notification\",\"properties\":[{\"name\":\"background\",\"kind\":\"Any\",\"default\":null},{\"name\":\"duration\",\"kind\":\"Any\",\"default\":3000},{\"name\":\"icon\",\"kind\":\"Any\",\"default\":null},{\"name\":\"message\",\"kind\":\"Any\",\"default\":\"\"},{\"name\":\"notification_type\",\"kind\":\"Any\",\"default\":null},{\"name\":\"_destroyed\",\"kind\":\"Any\",\"default\":false}]},{\"type\":\"model\",\"name\":\"TemplateActions1\",\"properties\":[{\"name\":\"open_modal\",\"kind\":\"Any\",\"default\":0},{\"name\":\"close_modal\",\"kind\":\"Any\",\"default\":0}]},{\"type\":\"model\",\"name\":\"BootstrapTemplateActions1\",\"properties\":[{\"name\":\"open_modal\",\"kind\":\"Any\",\"default\":0},{\"name\":\"close_modal\",\"kind\":\"Any\",\"default\":0}]},{\"type\":\"model\",\"name\":\"TemplateEditor1\",\"properties\":[{\"name\":\"layout\",\"kind\":\"Any\",\"default\":[]}]},{\"type\":\"model\",\"name\":\"MaterialTemplateActions1\",\"properties\":[{\"name\":\"open_modal\",\"kind\":\"Any\",\"default\":0},{\"name\":\"close_modal\",\"kind\":\"Any\",\"default\":0}]},{\"type\":\"model\",\"name\":\"request_value1\",\"properties\":[{\"name\":\"fill\",\"kind\":\"Any\",\"default\":\"none\"},{\"name\":\"_synced\",\"kind\":\"Any\",\"default\":null},{\"name\":\"_request_sync\",\"kind\":\"Any\",\"default\":0}]}]}};\n",
       "  var render_items = [{\"docid\":\"d4f20b48-945b-4e80-922b-907478f59adf\",\"roots\":{\"p1002\":\"b526d5eb-dab9-49b9-8a3b-cbe3e01ef10e\"},\"root_ids\":[\"p1002\"]}];\n",
       "  var docs = Object.values(docs_json)\n",
       "  if (!docs) {\n",
       "    return\n",
       "  }\n",
       "  const py_version = docs[0].version.replace('rc', '-rc.').replace('.dev', '-dev.')\n",
       "  async function embed_document(root) {\n",
       "    var Bokeh = get_bokeh(root)\n",
       "    await Bokeh.embed.embed_items_notebook(docs_json, render_items);\n",
       "    for (const render_item of render_items) {\n",
       "      for (const root_id of render_item.root_ids) {\n",
       "\tconst id_el = document.getElementById(root_id)\n",
       "\tif (id_el.children.length && id_el.children[0].hasAttribute('data-root-id')) {\n",
       "\t  const root_el = id_el.children[0]\n",
       "\t  root_el.id = root_el.id + '-rendered'\n",
       "\t  for (const child of root_el.children) {\n",
       "            // Ensure JupyterLab does not capture keyboard shortcuts\n",
       "            // see: https://jupyterlab.readthedocs.io/en/4.1.x/extension/notebook.html#keyboard-interaction-model\n",
       "\t    child.setAttribute('data-lm-suppress-shortcuts', 'true')\n",
       "\t  }\n",
       "\t}\n",
       "      }\n",
       "    }\n",
       "  }\n",
       "  function get_bokeh(root) {\n",
       "    if (root.Bokeh === undefined) {\n",
       "      return null\n",
       "    } else if (root.Bokeh.version !== py_version) {\n",
       "      if (root.Bokeh.versions === undefined || !root.Bokeh.versions.has(py_version)) {\n",
       "\treturn null\n",
       "      }\n",
       "      return root.Bokeh.versions.get(py_version);\n",
       "    } else if (root.Bokeh.version === py_version) {\n",
       "      return root.Bokeh\n",
       "    }\n",
       "    return null\n",
       "  }\n",
       "  function is_loaded(root) {\n",
       "    var Bokeh = get_bokeh(root)\n",
       "    return (Bokeh != null && Bokeh.Panel !== undefined)\n",
       "  }\n",
       "  if (is_loaded(root)) {\n",
       "    embed_document(root);\n",
       "  } else {\n",
       "    var attempts = 0;\n",
       "    var timer = setInterval(function(root) {\n",
       "      if (is_loaded(root)) {\n",
       "        clearInterval(timer);\n",
       "        embed_document(root);\n",
       "      } else if (document.readyState == \"complete\") {\n",
       "        attempts++;\n",
       "        if (attempts > 200) {\n",
       "          clearInterval(timer);\n",
       "\t  var Bokeh = get_bokeh(root)\n",
       "\t  if (Bokeh == null || Bokeh.Panel == null) {\n",
       "            console.warn(\"Panel: ERROR: Unable to run Panel code because Bokeh or Panel library is missing\");\n",
       "\t  } else {\n",
       "\t    console.warn(\"Panel: WARNING: Attempting to render but not all required libraries could be resolved.\")\n",
       "\t    embed_document(root)\n",
       "\t  }\n",
       "        }\n",
       "      }\n",
       "    }, 25, root)\n",
       "  }\n",
       "})(window);</script>"
      ]
     },
     "metadata": {
      "application/vnd.holoviews_exec.v0+json": {
       "id": "p1002"
      }
     },
     "output_type": "display_data"
    },
    {
     "data": {},
     "metadata": {},
     "output_type": "display_data"
    },
    {
     "data": {
      "application/vnd.holoviews_exec.v0+json": "",
      "text/html": [
       "<div id='p1004'>\n",
       "  <div id=\"c0c0f8a2-d4c6-4690-90fe-77587311ab5e\" data-root-id=\"p1004\" style=\"display: contents;\"></div>\n",
       "</div>\n",
       "<script type=\"application/javascript\">(function(root) {\n",
       "  var docs_json = {\"d953af3b-041c-4372-8eef-b471d47bac71\":{\"version\":\"3.5.1\",\"title\":\"Bokeh Application\",\"roots\":[{\"type\":\"object\",\"name\":\"Row\",\"id\":\"p1004\",\"attributes\":{\"name\":\"Row00972\",\"tags\":[\"embedded\"],\"stylesheets\":[\"\\n:host(.pn-loading):before, .pn-loading:before {\\n  background-color: #c3c3c3;\\n  mask-size: auto calc(min(50%, 400px));\\n  -webkit-mask-size: auto calc(min(50%, 400px));\\n}\",{\"type\":\"object\",\"name\":\"ImportedStyleSheet\",\"id\":\"p1007\",\"attributes\":{\"url\":\"https://cdn.holoviz.org/panel/1.5.0-b.4/dist/css/loading.css\"}},{\"type\":\"object\",\"name\":\"ImportedStyleSheet\",\"id\":\"p1084\",\"attributes\":{\"url\":\"https://cdn.holoviz.org/panel/1.5.0-b.4/dist/css/listpanel.css\"}},{\"type\":\"object\",\"name\":\"ImportedStyleSheet\",\"id\":\"p1005\",\"attributes\":{\"url\":\"https://cdn.holoviz.org/panel/1.5.0-b.4/dist/bundled/theme/default.css\"}},{\"type\":\"object\",\"name\":\"ImportedStyleSheet\",\"id\":\"p1006\",\"attributes\":{\"url\":\"https://cdn.holoviz.org/panel/1.5.0-b.4/dist/bundled/theme/native.css\"}}],\"min_width\":700,\"margin\":0,\"sizing_mode\":\"stretch_width\",\"align\":\"start\",\"children\":[{\"type\":\"object\",\"name\":\"Spacer\",\"id\":\"p1008\",\"attributes\":{\"name\":\"HSpacer00979\",\"stylesheets\":[\"\\n:host(.pn-loading):before, .pn-loading:before {\\n  background-color: #c3c3c3;\\n  mask-size: auto calc(min(50%, 400px));\\n  -webkit-mask-size: auto calc(min(50%, 400px));\\n}\",{\"id\":\"p1007\"},{\"id\":\"p1005\"},{\"id\":\"p1006\"}],\"margin\":0,\"sizing_mode\":\"stretch_width\",\"align\":\"start\"}},{\"type\":\"object\",\"name\":\"Figure\",\"id\":\"p1019\",\"attributes\":{\"width\":700,\"height\":300,\"margin\":[5,10],\"sizing_mode\":\"fixed\",\"align\":\"start\",\"x_range\":{\"type\":\"object\",\"name\":\"Range1d\",\"id\":\"p1009\",\"attributes\":{\"tags\":[[[\"length\",null]],[]],\"start\":0.7857142857142857,\"end\":6.214285714285714,\"reset_start\":0.7857142857142857,\"reset_end\":6.214285714285714}},\"y_range\":{\"type\":\"object\",\"name\":\"Range1d\",\"id\":\"p1010\",\"attributes\":{\"tags\":[[[\"width\",null]],{\"type\":\"map\",\"entries\":[[\"invert_yaxis\",false],[\"autorange\",false]]}],\"start\":3.8,\"end\":6.2,\"reset_start\":3.8,\"reset_end\":6.2}},\"x_scale\":{\"type\":\"object\",\"name\":\"LinearScale\",\"id\":\"p1029\"},\"y_scale\":{\"type\":\"object\",\"name\":\"LinearScale\",\"id\":\"p1030\"},\"title\":{\"type\":\"object\",\"name\":\"Title\",\"id\":\"p1022\",\"attributes\":{\"text_color\":\"black\",\"text_font_size\":\"12pt\"}},\"renderers\":[{\"type\":\"object\",\"name\":\"GlyphRenderer\",\"id\":\"p1061\",\"attributes\":{\"name\":\"setosa\",\"data_source\":{\"type\":\"object\",\"name\":\"ColumnDataSource\",\"id\":\"p1052\",\"attributes\":{\"selected\":{\"type\":\"object\",\"name\":\"Selection\",\"id\":\"p1053\",\"attributes\":{\"indices\":[],\"line_indices\":[]}},\"selection_policy\":{\"type\":\"object\",\"name\":\"UnionRenderers\",\"id\":\"p1054\"},\"data\":{\"type\":\"map\",\"entries\":[[\"length\",{\"type\":\"ndarray\",\"array\":{\"type\":\"bytes\",\"data\":\"AQAAAAQAAAA=\"},\"shape\":[2],\"dtype\":\"int32\",\"order\":\"little\"}],[\"width\",{\"type\":\"ndarray\",\"array\":{\"type\":\"bytes\",\"data\":\"BAAAAAUAAAA=\"},\"shape\":[2],\"dtype\":\"int32\",\"order\":\"little\"}],[\"species\",[\"setosa\",\"setosa\"]]]}}},\"view\":{\"type\":\"object\",\"name\":\"CDSView\",\"id\":\"p1062\",\"attributes\":{\"filter\":{\"type\":\"object\",\"name\":\"AllIndices\",\"id\":\"p1063\"}}},\"glyph\":{\"type\":\"object\",\"name\":\"Scatter\",\"id\":\"p1058\",\"attributes\":{\"tags\":[\"apply_ranges\"],\"x\":{\"type\":\"field\",\"field\":\"length\"},\"y\":{\"type\":\"field\",\"field\":\"width\"},\"size\":{\"type\":\"value\",\"value\":5.477225575051661},\"line_color\":{\"type\":\"value\",\"value\":\"#30a2da\"},\"fill_color\":{\"type\":\"value\",\"value\":\"#30a2da\"},\"hatch_color\":{\"type\":\"value\",\"value\":\"#30a2da\"}}},\"selection_glyph\":{\"type\":\"object\",\"name\":\"Scatter\",\"id\":\"p1066\",\"attributes\":{\"tags\":[\"apply_ranges\"],\"x\":{\"type\":\"field\",\"field\":\"length\"},\"y\":{\"type\":\"field\",\"field\":\"width\"},\"size\":{\"type\":\"value\",\"value\":5.477225575051661},\"angle\":{\"type\":\"value\",\"value\":0.0},\"line_color\":{\"type\":\"value\",\"value\":\"#30a2da\"},\"line_alpha\":{\"type\":\"value\",\"value\":1.0},\"line_width\":{\"type\":\"value\",\"value\":1},\"line_join\":{\"type\":\"value\",\"value\":\"bevel\"},\"line_cap\":{\"type\":\"value\",\"value\":\"butt\"},\"line_dash\":{\"type\":\"value\",\"value\":[]},\"line_dash_offset\":{\"type\":\"value\",\"value\":0},\"fill_color\":{\"type\":\"value\",\"value\":\"#30a2da\"},\"fill_alpha\":{\"type\":\"value\",\"value\":1.0},\"hatch_color\":{\"type\":\"value\",\"value\":\"#30a2da\"},\"hatch_alpha\":{\"type\":\"value\",\"value\":1.0},\"hatch_scale\":{\"type\":\"value\",\"value\":12.0},\"hatch_pattern\":{\"type\":\"value\",\"value\":null},\"hatch_weight\":{\"type\":\"value\",\"value\":1.0},\"marker\":{\"type\":\"value\",\"value\":\"circle\"}}},\"nonselection_glyph\":{\"type\":\"object\",\"name\":\"Scatter\",\"id\":\"p1059\",\"attributes\":{\"tags\":[\"apply_ranges\"],\"x\":{\"type\":\"field\",\"field\":\"length\"},\"y\":{\"type\":\"field\",\"field\":\"width\"},\"size\":{\"type\":\"value\",\"value\":5.477225575051661},\"line_color\":{\"type\":\"value\",\"value\":\"#30a2da\"},\"line_alpha\":{\"type\":\"value\",\"value\":0.1},\"fill_color\":{\"type\":\"value\",\"value\":\"#30a2da\"},\"fill_alpha\":{\"type\":\"value\",\"value\":0.1},\"hatch_color\":{\"type\":\"value\",\"value\":\"#30a2da\"},\"hatch_alpha\":{\"type\":\"value\",\"value\":0.1}}},\"muted_glyph\":{\"type\":\"object\",\"name\":\"Scatter\",\"id\":\"p1060\",\"attributes\":{\"tags\":[\"apply_ranges\"],\"x\":{\"type\":\"field\",\"field\":\"length\"},\"y\":{\"type\":\"field\",\"field\":\"width\"},\"size\":{\"type\":\"value\",\"value\":5.477225575051661},\"line_color\":{\"type\":\"value\",\"value\":\"#30a2da\"},\"line_alpha\":{\"type\":\"value\",\"value\":0.2},\"fill_color\":{\"type\":\"value\",\"value\":\"#30a2da\"},\"fill_alpha\":{\"type\":\"value\",\"value\":0.2},\"hatch_color\":{\"type\":\"value\",\"value\":\"#30a2da\"},\"hatch_alpha\":{\"type\":\"value\",\"value\":0.2}}}}},{\"type\":\"object\",\"name\":\"GlyphRenderer\",\"id\":\"p1076\",\"attributes\":{\"name\":\"versicolor\",\"data_source\":{\"type\":\"object\",\"name\":\"ColumnDataSource\",\"id\":\"p1067\",\"attributes\":{\"selected\":{\"type\":\"object\",\"name\":\"Selection\",\"id\":\"p1068\",\"attributes\":{\"indices\":[],\"line_indices\":[]}},\"selection_policy\":{\"type\":\"object\",\"name\":\"UnionRenderers\",\"id\":\"p1069\"},\"data\":{\"type\":\"map\",\"entries\":[[\"length\",{\"type\":\"ndarray\",\"array\":{\"type\":\"bytes\",\"data\":\"BgAAAA==\"},\"shape\":[1],\"dtype\":\"int32\",\"order\":\"little\"}],[\"width\",{\"type\":\"ndarray\",\"array\":{\"type\":\"bytes\",\"data\":\"BgAAAA==\"},\"shape\":[1],\"dtype\":\"int32\",\"order\":\"little\"}],[\"species\",[\"versicolor\"]]]}}},\"view\":{\"type\":\"object\",\"name\":\"CDSView\",\"id\":\"p1077\",\"attributes\":{\"filter\":{\"type\":\"object\",\"name\":\"AllIndices\",\"id\":\"p1078\"}}},\"glyph\":{\"type\":\"object\",\"name\":\"Scatter\",\"id\":\"p1073\",\"attributes\":{\"tags\":[\"apply_ranges\"],\"x\":{\"type\":\"field\",\"field\":\"length\"},\"y\":{\"type\":\"field\",\"field\":\"width\"},\"size\":{\"type\":\"value\",\"value\":5.477225575051661},\"line_color\":{\"type\":\"value\",\"value\":\"#fc4f30\"},\"fill_color\":{\"type\":\"value\",\"value\":\"#fc4f30\"},\"hatch_color\":{\"type\":\"value\",\"value\":\"#fc4f30\"}}},\"selection_glyph\":{\"type\":\"object\",\"name\":\"Scatter\",\"id\":\"p1080\",\"attributes\":{\"tags\":[\"apply_ranges\"],\"x\":{\"type\":\"field\",\"field\":\"length\"},\"y\":{\"type\":\"field\",\"field\":\"width\"},\"size\":{\"type\":\"value\",\"value\":5.477225575051661},\"angle\":{\"type\":\"value\",\"value\":0.0},\"line_color\":{\"type\":\"value\",\"value\":\"#fc4f30\"},\"line_alpha\":{\"type\":\"value\",\"value\":1.0},\"line_width\":{\"type\":\"value\",\"value\":1},\"line_join\":{\"type\":\"value\",\"value\":\"bevel\"},\"line_cap\":{\"type\":\"value\",\"value\":\"butt\"},\"line_dash\":{\"type\":\"value\",\"value\":[]},\"line_dash_offset\":{\"type\":\"value\",\"value\":0},\"fill_color\":{\"type\":\"value\",\"value\":\"#fc4f30\"},\"fill_alpha\":{\"type\":\"value\",\"value\":1.0},\"hatch_color\":{\"type\":\"value\",\"value\":\"#fc4f30\"},\"hatch_alpha\":{\"type\":\"value\",\"value\":1.0},\"hatch_scale\":{\"type\":\"value\",\"value\":12.0},\"hatch_pattern\":{\"type\":\"value\",\"value\":null},\"hatch_weight\":{\"type\":\"value\",\"value\":1.0},\"marker\":{\"type\":\"value\",\"value\":\"circle\"}}},\"nonselection_glyph\":{\"type\":\"object\",\"name\":\"Scatter\",\"id\":\"p1074\",\"attributes\":{\"tags\":[\"apply_ranges\"],\"x\":{\"type\":\"field\",\"field\":\"length\"},\"y\":{\"type\":\"field\",\"field\":\"width\"},\"size\":{\"type\":\"value\",\"value\":5.477225575051661},\"line_color\":{\"type\":\"value\",\"value\":\"#fc4f30\"},\"line_alpha\":{\"type\":\"value\",\"value\":0.1},\"fill_color\":{\"type\":\"value\",\"value\":\"#fc4f30\"},\"fill_alpha\":{\"type\":\"value\",\"value\":0.1},\"hatch_color\":{\"type\":\"value\",\"value\":\"#fc4f30\"},\"hatch_alpha\":{\"type\":\"value\",\"value\":0.1}}},\"muted_glyph\":{\"type\":\"object\",\"name\":\"Scatter\",\"id\":\"p1075\",\"attributes\":{\"tags\":[\"apply_ranges\"],\"x\":{\"type\":\"field\",\"field\":\"length\"},\"y\":{\"type\":\"field\",\"field\":\"width\"},\"size\":{\"type\":\"value\",\"value\":5.477225575051661},\"line_color\":{\"type\":\"value\",\"value\":\"#fc4f30\"},\"line_alpha\":{\"type\":\"value\",\"value\":0.2},\"fill_color\":{\"type\":\"value\",\"value\":\"#fc4f30\"},\"fill_alpha\":{\"type\":\"value\",\"value\":0.2},\"hatch_color\":{\"type\":\"value\",\"value\":\"#fc4f30\"},\"hatch_alpha\":{\"type\":\"value\",\"value\":0.2}}}}}],\"toolbar\":{\"type\":\"object\",\"name\":\"Toolbar\",\"id\":\"p1028\",\"attributes\":{\"tools\":[{\"type\":\"object\",\"name\":\"WheelZoomTool\",\"id\":\"p1014\",\"attributes\":{\"tags\":[\"hv_created\"],\"renderers\":\"auto\",\"zoom_together\":\"none\"}},{\"type\":\"object\",\"name\":\"HoverTool\",\"id\":\"p1015\",\"attributes\":{\"tags\":[\"hv_created\"],\"renderers\":[{\"id\":\"p1061\"},{\"id\":\"p1076\"}],\"tooltips\":[[\"species\",\"@{species}\"],[\"length\",\"@{length}\"],[\"width\",\"@{width}\"]]}},{\"type\":\"object\",\"name\":\"SaveTool\",\"id\":\"p1041\"},{\"type\":\"object\",\"name\":\"PanTool\",\"id\":\"p1042\"},{\"type\":\"object\",\"name\":\"BoxZoomTool\",\"id\":\"p1043\",\"attributes\":{\"overlay\":{\"type\":\"object\",\"name\":\"BoxAnnotation\",\"id\":\"p1044\",\"attributes\":{\"syncable\":false,\"line_color\":\"black\",\"line_alpha\":1.0,\"line_width\":2,\"line_dash\":[4,4],\"fill_color\":\"lightgrey\",\"fill_alpha\":0.5,\"level\":\"overlay\",\"visible\":false,\"left\":{\"type\":\"number\",\"value\":\"nan\"},\"right\":{\"type\":\"number\",\"value\":\"nan\"},\"top\":{\"type\":\"number\",\"value\":\"nan\"},\"bottom\":{\"type\":\"number\",\"value\":\"nan\"},\"left_units\":\"canvas\",\"right_units\":\"canvas\",\"top_units\":\"canvas\",\"bottom_units\":\"canvas\",\"handles\":{\"type\":\"object\",\"name\":\"BoxInteractionHandles\",\"id\":\"p1050\",\"attributes\":{\"all\":{\"type\":\"object\",\"name\":\"AreaVisuals\",\"id\":\"p1049\",\"attributes\":{\"fill_color\":\"white\",\"hover_fill_color\":\"lightgray\"}}}}}}}},{\"type\":\"object\",\"name\":\"ResetTool\",\"id\":\"p1051\"}],\"active_drag\":{\"id\":\"p1042\"},\"active_scroll\":{\"id\":\"p1014\"}}},\"left\":[{\"type\":\"object\",\"name\":\"LinearAxis\",\"id\":\"p1036\",\"attributes\":{\"ticker\":{\"type\":\"object\",\"name\":\"BasicTicker\",\"id\":\"p1037\",\"attributes\":{\"mantissas\":[1,2,5]}},\"formatter\":{\"type\":\"object\",\"name\":\"BasicTickFormatter\",\"id\":\"p1038\"},\"axis_label\":\"width\",\"major_label_policy\":{\"type\":\"object\",\"name\":\"AllLabels\",\"id\":\"p1039\"}}}],\"right\":[{\"type\":\"object\",\"name\":\"Legend\",\"id\":\"p1064\",\"attributes\":{\"location\":[0,0],\"title\":\"species\",\"click_policy\":\"mute\",\"items\":[{\"type\":\"object\",\"name\":\"LegendItem\",\"id\":\"p1065\",\"attributes\":{\"label\":{\"type\":\"value\",\"value\":\"setosa\"},\"renderers\":[{\"id\":\"p1061\"}]}},{\"type\":\"object\",\"name\":\"LegendItem\",\"id\":\"p1079\",\"attributes\":{\"label\":{\"type\":\"value\",\"value\":\"versicolor\"},\"renderers\":[{\"id\":\"p1076\"}]}}]}}],\"below\":[{\"type\":\"object\",\"name\":\"LinearAxis\",\"id\":\"p1031\",\"attributes\":{\"ticker\":{\"type\":\"object\",\"name\":\"BasicTicker\",\"id\":\"p1032\",\"attributes\":{\"mantissas\":[1,2,5]}},\"formatter\":{\"type\":\"object\",\"name\":\"BasicTickFormatter\",\"id\":\"p1033\"},\"axis_label\":\"length\",\"major_label_policy\":{\"type\":\"object\",\"name\":\"AllLabels\",\"id\":\"p1034\"}}}],\"center\":[{\"type\":\"object\",\"name\":\"Grid\",\"id\":\"p1035\",\"attributes\":{\"axis\":{\"id\":\"p1031\"},\"grid_line_color\":null}},{\"type\":\"object\",\"name\":\"Grid\",\"id\":\"p1040\",\"attributes\":{\"dimension\":1,\"axis\":{\"id\":\"p1036\"},\"grid_line_color\":null}}],\"min_border_top\":10,\"min_border_bottom\":10,\"min_border_left\":10,\"min_border_right\":10,\"output_backend\":\"webgl\"}},{\"type\":\"object\",\"name\":\"Spacer\",\"id\":\"p1082\",\"attributes\":{\"name\":\"HSpacer00980\",\"stylesheets\":[\"\\n:host(.pn-loading):before, .pn-loading:before {\\n  background-color: #c3c3c3;\\n  mask-size: auto calc(min(50%, 400px));\\n  -webkit-mask-size: auto calc(min(50%, 400px));\\n}\",{\"id\":\"p1007\"},{\"id\":\"p1005\"},{\"id\":\"p1006\"}],\"margin\":0,\"sizing_mode\":\"stretch_width\",\"align\":\"start\"}}]}}],\"defs\":[{\"type\":\"model\",\"name\":\"ReactiveHTML1\"},{\"type\":\"model\",\"name\":\"FlexBox1\",\"properties\":[{\"name\":\"align_content\",\"kind\":\"Any\",\"default\":\"flex-start\"},{\"name\":\"align_items\",\"kind\":\"Any\",\"default\":\"flex-start\"},{\"name\":\"flex_direction\",\"kind\":\"Any\",\"default\":\"row\"},{\"name\":\"flex_wrap\",\"kind\":\"Any\",\"default\":\"wrap\"},{\"name\":\"gap\",\"kind\":\"Any\",\"default\":\"\"},{\"name\":\"justify_content\",\"kind\":\"Any\",\"default\":\"flex-start\"}]},{\"type\":\"model\",\"name\":\"FloatPanel1\",\"properties\":[{\"name\":\"config\",\"kind\":\"Any\",\"default\":{\"type\":\"map\"}},{\"name\":\"contained\",\"kind\":\"Any\",\"default\":true},{\"name\":\"position\",\"kind\":\"Any\",\"default\":\"right-top\"},{\"name\":\"offsetx\",\"kind\":\"Any\",\"default\":null},{\"name\":\"offsety\",\"kind\":\"Any\",\"default\":null},{\"name\":\"theme\",\"kind\":\"Any\",\"default\":\"primary\"},{\"name\":\"status\",\"kind\":\"Any\",\"default\":\"normalized\"}]},{\"type\":\"model\",\"name\":\"GridStack1\",\"properties\":[{\"name\":\"mode\",\"kind\":\"Any\",\"default\":\"warn\"},{\"name\":\"ncols\",\"kind\":\"Any\",\"default\":null},{\"name\":\"nrows\",\"kind\":\"Any\",\"default\":null},{\"name\":\"allow_resize\",\"kind\":\"Any\",\"default\":true},{\"name\":\"allow_drag\",\"kind\":\"Any\",\"default\":true},{\"name\":\"state\",\"kind\":\"Any\",\"default\":[]}]},{\"type\":\"model\",\"name\":\"drag1\",\"properties\":[{\"name\":\"slider_width\",\"kind\":\"Any\",\"default\":5},{\"name\":\"slider_color\",\"kind\":\"Any\",\"default\":\"black\"},{\"name\":\"value\",\"kind\":\"Any\",\"default\":50}]},{\"type\":\"model\",\"name\":\"click1\",\"properties\":[{\"name\":\"terminal_output\",\"kind\":\"Any\",\"default\":\"\"},{\"name\":\"debug_name\",\"kind\":\"Any\",\"default\":\"\"},{\"name\":\"clears\",\"kind\":\"Any\",\"default\":0}]},{\"type\":\"model\",\"name\":\"FastWrapper1\",\"properties\":[{\"name\":\"object\",\"kind\":\"Any\",\"default\":null},{\"name\":\"style\",\"kind\":\"Any\",\"default\":null}]},{\"type\":\"model\",\"name\":\"NotificationAreaBase1\",\"properties\":[{\"name\":\"js_events\",\"kind\":\"Any\",\"default\":{\"type\":\"map\"}},{\"name\":\"position\",\"kind\":\"Any\",\"default\":\"bottom-right\"},{\"name\":\"_clear\",\"kind\":\"Any\",\"default\":0}]},{\"type\":\"model\",\"name\":\"NotificationArea1\",\"properties\":[{\"name\":\"js_events\",\"kind\":\"Any\",\"default\":{\"type\":\"map\"}},{\"name\":\"notifications\",\"kind\":\"Any\",\"default\":[]},{\"name\":\"position\",\"kind\":\"Any\",\"default\":\"bottom-right\"},{\"name\":\"_clear\",\"kind\":\"Any\",\"default\":0},{\"name\":\"types\",\"kind\":\"Any\",\"default\":[{\"type\":\"map\",\"entries\":[[\"type\",\"warning\"],[\"background\",\"#ffc107\"],[\"icon\",{\"type\":\"map\",\"entries\":[[\"className\",\"fas fa-exclamation-triangle\"],[\"tagName\",\"i\"],[\"color\",\"white\"]]}]]},{\"type\":\"map\",\"entries\":[[\"type\",\"info\"],[\"background\",\"#007bff\"],[\"icon\",{\"type\":\"map\",\"entries\":[[\"className\",\"fas fa-info-circle\"],[\"tagName\",\"i\"],[\"color\",\"white\"]]}]]}]}]},{\"type\":\"model\",\"name\":\"Notification\",\"properties\":[{\"name\":\"background\",\"kind\":\"Any\",\"default\":null},{\"name\":\"duration\",\"kind\":\"Any\",\"default\":3000},{\"name\":\"icon\",\"kind\":\"Any\",\"default\":null},{\"name\":\"message\",\"kind\":\"Any\",\"default\":\"\"},{\"name\":\"notification_type\",\"kind\":\"Any\",\"default\":null},{\"name\":\"_destroyed\",\"kind\":\"Any\",\"default\":false}]},{\"type\":\"model\",\"name\":\"TemplateActions1\",\"properties\":[{\"name\":\"open_modal\",\"kind\":\"Any\",\"default\":0},{\"name\":\"close_modal\",\"kind\":\"Any\",\"default\":0}]},{\"type\":\"model\",\"name\":\"BootstrapTemplateActions1\",\"properties\":[{\"name\":\"open_modal\",\"kind\":\"Any\",\"default\":0},{\"name\":\"close_modal\",\"kind\":\"Any\",\"default\":0}]},{\"type\":\"model\",\"name\":\"TemplateEditor1\",\"properties\":[{\"name\":\"layout\",\"kind\":\"Any\",\"default\":[]}]},{\"type\":\"model\",\"name\":\"MaterialTemplateActions1\",\"properties\":[{\"name\":\"open_modal\",\"kind\":\"Any\",\"default\":0},{\"name\":\"close_modal\",\"kind\":\"Any\",\"default\":0}]},{\"type\":\"model\",\"name\":\"request_value1\",\"properties\":[{\"name\":\"fill\",\"kind\":\"Any\",\"default\":\"none\"},{\"name\":\"_synced\",\"kind\":\"Any\",\"default\":null},{\"name\":\"_request_sync\",\"kind\":\"Any\",\"default\":0}]}]}};\n",
       "  var render_items = [{\"docid\":\"d953af3b-041c-4372-8eef-b471d47bac71\",\"roots\":{\"p1004\":\"c0c0f8a2-d4c6-4690-90fe-77587311ab5e\"},\"root_ids\":[\"p1004\"]}];\n",
       "  var docs = Object.values(docs_json)\n",
       "  if (!docs) {\n",
       "    return\n",
       "  }\n",
       "  const py_version = docs[0].version.replace('rc', '-rc.').replace('.dev', '-dev.')\n",
       "  async function embed_document(root) {\n",
       "    var Bokeh = get_bokeh(root)\n",
       "    await Bokeh.embed.embed_items_notebook(docs_json, render_items);\n",
       "    for (const render_item of render_items) {\n",
       "      for (const root_id of render_item.root_ids) {\n",
       "\tconst id_el = document.getElementById(root_id)\n",
       "\tif (id_el.children.length && id_el.children[0].hasAttribute('data-root-id')) {\n",
       "\t  const root_el = id_el.children[0]\n",
       "\t  root_el.id = root_el.id + '-rendered'\n",
       "\t  for (const child of root_el.children) {\n",
       "            // Ensure JupyterLab does not capture keyboard shortcuts\n",
       "            // see: https://jupyterlab.readthedocs.io/en/4.1.x/extension/notebook.html#keyboard-interaction-model\n",
       "\t    child.setAttribute('data-lm-suppress-shortcuts', 'true')\n",
       "\t  }\n",
       "\t}\n",
       "      }\n",
       "    }\n",
       "  }\n",
       "  function get_bokeh(root) {\n",
       "    if (root.Bokeh === undefined) {\n",
       "      return null\n",
       "    } else if (root.Bokeh.version !== py_version) {\n",
       "      if (root.Bokeh.versions === undefined || !root.Bokeh.versions.has(py_version)) {\n",
       "\treturn null\n",
       "      }\n",
       "      return root.Bokeh.versions.get(py_version);\n",
       "    } else if (root.Bokeh.version === py_version) {\n",
       "      return root.Bokeh\n",
       "    }\n",
       "    return null\n",
       "  }\n",
       "  function is_loaded(root) {\n",
       "    var Bokeh = get_bokeh(root)\n",
       "    return (Bokeh != null && Bokeh.Panel !== undefined)\n",
       "  }\n",
       "  if (is_loaded(root)) {\n",
       "    embed_document(root);\n",
       "  } else {\n",
       "    var attempts = 0;\n",
       "    var timer = setInterval(function(root) {\n",
       "      if (is_loaded(root)) {\n",
       "        clearInterval(timer);\n",
       "        embed_document(root);\n",
       "      } else if (document.readyState == \"complete\") {\n",
       "        attempts++;\n",
       "        if (attempts > 200) {\n",
       "          clearInterval(timer);\n",
       "\t  var Bokeh = get_bokeh(root)\n",
       "\t  if (Bokeh == null || Bokeh.Panel == null) {\n",
       "            console.warn(\"Panel: ERROR: Unable to run Panel code because Bokeh or Panel library is missing\");\n",
       "\t  } else {\n",
       "\t    console.warn(\"Panel: WARNING: Attempting to render but not all required libraries could be resolved.\")\n",
       "\t    embed_document(root)\n",
       "\t  }\n",
       "        }\n",
       "      }\n",
       "    }, 25, root)\n",
       "  }\n",
       "})(window);</script>"
      ],
      "text/plain": [
       ":NdOverlay   [species]\n",
       "   :Scatter   [length]   (width)"
      ]
     },
     "execution_count": 196,
     "metadata": {
      "application/vnd.holoviews_exec.v0+json": {
       "id": "p1004"
      }
     },
     "output_type": "execute_result"
    }
   ],
   "source": [
    "df = pl.DataFrame(\n",
    "    {\n",
    "        \"length\": [1, 4, 6],\n",
    "        \"width\": [4, 5, 6],\n",
    "        \"species\": [\"setosa\", \"setosa\", \"versicolor\"],\n",
    "    }\n",
    ")\n",
    "df.plot.scatter(x=\"length\", y=\"width\", by=\"species\")  "
   ]
  },
  {
   "cell_type": "code",
   "execution_count": 197,
   "id": "1185719d-6a5b-448c-91af-7c82288cda9d",
   "metadata": {},
   "outputs": [
    {
     "data": {},
     "metadata": {},
     "output_type": "display_data"
    },
    {
     "data": {
      "application/vnd.holoviews_exec.v0+json": "",
      "text/html": [
       "<div id='p1090'>\n",
       "  <div id=\"d7fc88a5-c6d2-4dd4-8968-b30d598cc937\" data-root-id=\"p1090\" style=\"display: contents;\"></div>\n",
       "</div>\n",
       "<script type=\"application/javascript\">(function(root) {\n",
       "  var docs_json = {\"4b6567d3-824c-4113-89a0-95809581e6c4\":{\"version\":\"3.5.1\",\"title\":\"Bokeh Application\",\"roots\":[{\"type\":\"object\",\"name\":\"Row\",\"id\":\"p1090\",\"attributes\":{\"name\":\"Row01137\",\"tags\":[\"embedded\"],\"stylesheets\":[\"\\n:host(.pn-loading):before, .pn-loading:before {\\n  background-color: #c3c3c3;\\n  mask-size: auto calc(min(50%, 400px));\\n  -webkit-mask-size: auto calc(min(50%, 400px));\\n}\",{\"type\":\"object\",\"name\":\"ImportedStyleSheet\",\"id\":\"p1093\",\"attributes\":{\"url\":\"https://cdn.holoviz.org/panel/1.5.0-b.4/dist/css/loading.css\"}},{\"type\":\"object\",\"name\":\"ImportedStyleSheet\",\"id\":\"p1182\",\"attributes\":{\"url\":\"https://cdn.holoviz.org/panel/1.5.0-b.4/dist/css/listpanel.css\"}},{\"type\":\"object\",\"name\":\"ImportedStyleSheet\",\"id\":\"p1091\",\"attributes\":{\"url\":\"https://cdn.holoviz.org/panel/1.5.0-b.4/dist/bundled/theme/default.css\"}},{\"type\":\"object\",\"name\":\"ImportedStyleSheet\",\"id\":\"p1092\",\"attributes\":{\"url\":\"https://cdn.holoviz.org/panel/1.5.0-b.4/dist/bundled/theme/native.css\"}}],\"min_width\":700,\"margin\":0,\"sizing_mode\":\"stretch_width\",\"align\":\"start\",\"children\":[{\"type\":\"object\",\"name\":\"Spacer\",\"id\":\"p1094\",\"attributes\":{\"name\":\"HSpacer01144\",\"stylesheets\":[\"\\n:host(.pn-loading):before, .pn-loading:before {\\n  background-color: #c3c3c3;\\n  mask-size: auto calc(min(50%, 400px));\\n  -webkit-mask-size: auto calc(min(50%, 400px));\\n}\",{\"id\":\"p1093\"},{\"id\":\"p1091\"},{\"id\":\"p1092\"}],\"margin\":0,\"sizing_mode\":\"stretch_width\",\"align\":\"start\"}},{\"type\":\"object\",\"name\":\"Figure\",\"id\":\"p1105\",\"attributes\":{\"width\":700,\"height\":300,\"margin\":[5,10],\"sizing_mode\":\"fixed\",\"align\":\"start\",\"x_range\":{\"type\":\"object\",\"name\":\"Range1d\",\"id\":\"p1095\",\"attributes\":{\"tags\":[[[\"date\",null]],[]],\"start\":1577923200000.0,\"end\":1578096000000.0,\"reset_start\":1577923200000.0,\"reset_end\":1578096000000.0}},\"y_range\":{\"type\":\"object\",\"name\":\"Range1d\",\"id\":\"p1096\",\"attributes\":{\"tags\":[[[\"value\",null]],{\"type\":\"map\",\"entries\":[[\"invert_yaxis\",false],[\"autorange\",false]]}],\"start\":0.5,\"end\":6.5,\"reset_start\":0.5,\"reset_end\":6.5}},\"x_scale\":{\"type\":\"object\",\"name\":\"LinearScale\",\"id\":\"p1115\"},\"y_scale\":{\"type\":\"object\",\"name\":\"LinearScale\",\"id\":\"p1116\"},\"title\":{\"type\":\"object\",\"name\":\"Title\",\"id\":\"p1108\",\"attributes\":{\"text_color\":\"black\",\"text_font_size\":\"12pt\"}},\"renderers\":[{\"type\":\"object\",\"name\":\"GlyphRenderer\",\"id\":\"p1159\",\"attributes\":{\"name\":\"stock_1\",\"data_source\":{\"type\":\"object\",\"name\":\"ColumnDataSource\",\"id\":\"p1150\",\"attributes\":{\"selected\":{\"type\":\"object\",\"name\":\"Selection\",\"id\":\"p1151\",\"attributes\":{\"indices\":[],\"line_indices\":[]}},\"selection_policy\":{\"type\":\"object\",\"name\":\"UnionRenderers\",\"id\":\"p1152\"},\"data\":{\"type\":\"map\",\"entries\":[[\"date\",{\"type\":\"ndarray\",\"array\":{\"type\":\"bytes\",\"data\":\"AABA1Dj2dkIAAAA6i/Z2QgAAwJ/d9nZC\"},\"shape\":[3],\"dtype\":\"float64\",\"order\":\"little\"}],[\"value\",{\"type\":\"ndarray\",\"array\":{\"type\":\"bytes\",\"data\":\"AQAAAAQAAAAGAAAA\"},\"shape\":[3],\"dtype\":\"int32\",\"order\":\"little\"}],[\"Variable\",[\"stock_1\",\"stock_1\",\"stock_1\"]]]}}},\"view\":{\"type\":\"object\",\"name\":\"CDSView\",\"id\":\"p1160\",\"attributes\":{\"filter\":{\"type\":\"object\",\"name\":\"AllIndices\",\"id\":\"p1161\"}}},\"glyph\":{\"type\":\"object\",\"name\":\"Line\",\"id\":\"p1156\",\"attributes\":{\"tags\":[\"apply_ranges\"],\"x\":{\"type\":\"field\",\"field\":\"date\"},\"y\":{\"type\":\"field\",\"field\":\"value\"},\"line_color\":\"#30a2da\",\"line_width\":2}},\"selection_glyph\":{\"type\":\"object\",\"name\":\"Line\",\"id\":\"p1164\",\"attributes\":{\"tags\":[\"apply_ranges\"],\"x\":{\"type\":\"field\",\"field\":\"date\"},\"y\":{\"type\":\"field\",\"field\":\"value\"},\"line_color\":\"#30a2da\",\"line_width\":2}},\"nonselection_glyph\":{\"type\":\"object\",\"name\":\"Line\",\"id\":\"p1157\",\"attributes\":{\"tags\":[\"apply_ranges\"],\"x\":{\"type\":\"field\",\"field\":\"date\"},\"y\":{\"type\":\"field\",\"field\":\"value\"},\"line_color\":\"#30a2da\",\"line_alpha\":0.1,\"line_width\":2}},\"muted_glyph\":{\"type\":\"object\",\"name\":\"Line\",\"id\":\"p1158\",\"attributes\":{\"tags\":[\"apply_ranges\"],\"x\":{\"type\":\"field\",\"field\":\"date\"},\"y\":{\"type\":\"field\",\"field\":\"value\"},\"line_color\":\"#30a2da\",\"line_alpha\":0.2,\"line_width\":2}}}},{\"type\":\"object\",\"name\":\"GlyphRenderer\",\"id\":\"p1174\",\"attributes\":{\"name\":\"stock_2\",\"data_source\":{\"type\":\"object\",\"name\":\"ColumnDataSource\",\"id\":\"p1165\",\"attributes\":{\"selected\":{\"type\":\"object\",\"name\":\"Selection\",\"id\":\"p1166\",\"attributes\":{\"indices\":[],\"line_indices\":[]}},\"selection_policy\":{\"type\":\"object\",\"name\":\"UnionRenderers\",\"id\":\"p1167\"},\"data\":{\"type\":\"map\",\"entries\":[[\"date\",{\"type\":\"ndarray\",\"array\":{\"type\":\"bytes\",\"data\":\"AABA1Dj2dkIAAAA6i/Z2QgAAwJ/d9nZC\"},\"shape\":[3],\"dtype\":\"float64\",\"order\":\"little\"}],[\"value\",{\"type\":\"ndarray\",\"array\":{\"type\":\"bytes\",\"data\":\"AQAAAAUAAAACAAAA\"},\"shape\":[3],\"dtype\":\"int32\",\"order\":\"little\"}],[\"Variable\",[\"stock_2\",\"stock_2\",\"stock_2\"]]]}}},\"view\":{\"type\":\"object\",\"name\":\"CDSView\",\"id\":\"p1175\",\"attributes\":{\"filter\":{\"type\":\"object\",\"name\":\"AllIndices\",\"id\":\"p1176\"}}},\"glyph\":{\"type\":\"object\",\"name\":\"Line\",\"id\":\"p1171\",\"attributes\":{\"tags\":[\"apply_ranges\"],\"x\":{\"type\":\"field\",\"field\":\"date\"},\"y\":{\"type\":\"field\",\"field\":\"value\"},\"line_color\":\"#fc4f30\",\"line_width\":2}},\"selection_glyph\":{\"type\":\"object\",\"name\":\"Line\",\"id\":\"p1178\",\"attributes\":{\"tags\":[\"apply_ranges\"],\"x\":{\"type\":\"field\",\"field\":\"date\"},\"y\":{\"type\":\"field\",\"field\":\"value\"},\"line_color\":\"#fc4f30\",\"line_width\":2}},\"nonselection_glyph\":{\"type\":\"object\",\"name\":\"Line\",\"id\":\"p1172\",\"attributes\":{\"tags\":[\"apply_ranges\"],\"x\":{\"type\":\"field\",\"field\":\"date\"},\"y\":{\"type\":\"field\",\"field\":\"value\"},\"line_color\":\"#fc4f30\",\"line_alpha\":0.1,\"line_width\":2}},\"muted_glyph\":{\"type\":\"object\",\"name\":\"Line\",\"id\":\"p1173\",\"attributes\":{\"tags\":[\"apply_ranges\"],\"x\":{\"type\":\"field\",\"field\":\"date\"},\"y\":{\"type\":\"field\",\"field\":\"value\"},\"line_color\":\"#fc4f30\",\"line_alpha\":0.2,\"line_width\":2}}}}],\"toolbar\":{\"type\":\"object\",\"name\":\"Toolbar\",\"id\":\"p1114\",\"attributes\":{\"tools\":[{\"type\":\"object\",\"name\":\"WheelZoomTool\",\"id\":\"p1100\",\"attributes\":{\"tags\":[\"hv_created\"],\"renderers\":\"auto\",\"zoom_together\":\"none\"}},{\"type\":\"object\",\"name\":\"HoverTool\",\"id\":\"p1101\",\"attributes\":{\"tags\":[\"hv_created\"],\"renderers\":[{\"id\":\"p1159\"},{\"id\":\"p1174\"}],\"tooltips\":[[\"Variable\",\"@{Variable}\"],[\"date\",\"@{date}{%F %T}\"],[\"value\",\"@{value}\"]],\"formatters\":{\"type\":\"map\",\"entries\":[[\"@{date}\",\"datetime\"]]}}},{\"type\":\"object\",\"name\":\"SaveTool\",\"id\":\"p1139\"},{\"type\":\"object\",\"name\":\"PanTool\",\"id\":\"p1140\"},{\"type\":\"object\",\"name\":\"BoxZoomTool\",\"id\":\"p1141\",\"attributes\":{\"overlay\":{\"type\":\"object\",\"name\":\"BoxAnnotation\",\"id\":\"p1142\",\"attributes\":{\"syncable\":false,\"line_color\":\"black\",\"line_alpha\":1.0,\"line_width\":2,\"line_dash\":[4,4],\"fill_color\":\"lightgrey\",\"fill_alpha\":0.5,\"level\":\"overlay\",\"visible\":false,\"left\":{\"type\":\"number\",\"value\":\"nan\"},\"right\":{\"type\":\"number\",\"value\":\"nan\"},\"top\":{\"type\":\"number\",\"value\":\"nan\"},\"bottom\":{\"type\":\"number\",\"value\":\"nan\"},\"left_units\":\"canvas\",\"right_units\":\"canvas\",\"top_units\":\"canvas\",\"bottom_units\":\"canvas\",\"handles\":{\"type\":\"object\",\"name\":\"BoxInteractionHandles\",\"id\":\"p1148\",\"attributes\":{\"all\":{\"type\":\"object\",\"name\":\"AreaVisuals\",\"id\":\"p1147\",\"attributes\":{\"fill_color\":\"white\",\"hover_fill_color\":\"lightgray\"}}}}}}}},{\"type\":\"object\",\"name\":\"ResetTool\",\"id\":\"p1149\"}],\"active_drag\":{\"id\":\"p1140\"},\"active_scroll\":{\"id\":\"p1100\"}}},\"left\":[{\"type\":\"object\",\"name\":\"LinearAxis\",\"id\":\"p1134\",\"attributes\":{\"ticker\":{\"type\":\"object\",\"name\":\"BasicTicker\",\"id\":\"p1135\",\"attributes\":{\"mantissas\":[1,2,5]}},\"formatter\":{\"type\":\"object\",\"name\":\"BasicTickFormatter\",\"id\":\"p1136\"},\"axis_label\":\"\",\"major_label_policy\":{\"type\":\"object\",\"name\":\"AllLabels\",\"id\":\"p1137\"}}}],\"right\":[{\"type\":\"object\",\"name\":\"Legend\",\"id\":\"p1162\",\"attributes\":{\"location\":[0,0],\"title\":\"Variable\",\"click_policy\":\"mute\",\"items\":[{\"type\":\"object\",\"name\":\"LegendItem\",\"id\":\"p1163\",\"attributes\":{\"label\":{\"type\":\"value\",\"value\":\"stock_1\"},\"renderers\":[{\"id\":\"p1159\"}]}},{\"type\":\"object\",\"name\":\"LegendItem\",\"id\":\"p1177\",\"attributes\":{\"label\":{\"type\":\"value\",\"value\":\"stock_2\"},\"renderers\":[{\"id\":\"p1174\"}]}}]}}],\"below\":[{\"type\":\"object\",\"name\":\"DatetimeAxis\",\"id\":\"p1117\",\"attributes\":{\"ticker\":{\"type\":\"object\",\"name\":\"DatetimeTicker\",\"id\":\"p1118\",\"attributes\":{\"num_minor_ticks\":5,\"tickers\":[{\"type\":\"object\",\"name\":\"AdaptiveTicker\",\"id\":\"p1119\",\"attributes\":{\"num_minor_ticks\":0,\"mantissas\":[1,2,5],\"max_interval\":500.0}},{\"type\":\"object\",\"name\":\"AdaptiveTicker\",\"id\":\"p1120\",\"attributes\":{\"num_minor_ticks\":0,\"base\":60,\"mantissas\":[1,2,5,10,15,20,30],\"min_interval\":1000.0,\"max_interval\":1800000.0}},{\"type\":\"object\",\"name\":\"AdaptiveTicker\",\"id\":\"p1121\",\"attributes\":{\"num_minor_ticks\":0,\"base\":24,\"mantissas\":[1,2,4,6,8,12],\"min_interval\":3600000.0,\"max_interval\":43200000.0}},{\"type\":\"object\",\"name\":\"DaysTicker\",\"id\":\"p1122\",\"attributes\":{\"days\":[1,2,3,4,5,6,7,8,9,10,11,12,13,14,15,16,17,18,19,20,21,22,23,24,25,26,27,28,29,30,31]}},{\"type\":\"object\",\"name\":\"DaysTicker\",\"id\":\"p1123\",\"attributes\":{\"days\":[1,4,7,10,13,16,19,22,25,28]}},{\"type\":\"object\",\"name\":\"DaysTicker\",\"id\":\"p1124\",\"attributes\":{\"days\":[1,8,15,22]}},{\"type\":\"object\",\"name\":\"DaysTicker\",\"id\":\"p1125\",\"attributes\":{\"days\":[1,15]}},{\"type\":\"object\",\"name\":\"MonthsTicker\",\"id\":\"p1126\",\"attributes\":{\"months\":[0,1,2,3,4,5,6,7,8,9,10,11]}},{\"type\":\"object\",\"name\":\"MonthsTicker\",\"id\":\"p1127\",\"attributes\":{\"months\":[0,2,4,6,8,10]}},{\"type\":\"object\",\"name\":\"MonthsTicker\",\"id\":\"p1128\",\"attributes\":{\"months\":[0,4,8]}},{\"type\":\"object\",\"name\":\"MonthsTicker\",\"id\":\"p1129\",\"attributes\":{\"months\":[0,6]}},{\"type\":\"object\",\"name\":\"YearsTicker\",\"id\":\"p1130\"}]}},\"formatter\":{\"type\":\"object\",\"name\":\"DatetimeTickFormatter\",\"id\":\"p1131\"},\"axis_label\":\"date\",\"major_label_policy\":{\"type\":\"object\",\"name\":\"AllLabels\",\"id\":\"p1132\"}}}],\"center\":[{\"type\":\"object\",\"name\":\"Grid\",\"id\":\"p1133\",\"attributes\":{\"axis\":{\"id\":\"p1117\"},\"grid_line_color\":null}},{\"type\":\"object\",\"name\":\"Grid\",\"id\":\"p1138\",\"attributes\":{\"dimension\":1,\"axis\":{\"id\":\"p1134\"},\"grid_line_color\":null}}],\"min_border_top\":10,\"min_border_bottom\":10,\"min_border_left\":10,\"min_border_right\":10,\"output_backend\":\"webgl\"}},{\"type\":\"object\",\"name\":\"Spacer\",\"id\":\"p1180\",\"attributes\":{\"name\":\"HSpacer01145\",\"stylesheets\":[\"\\n:host(.pn-loading):before, .pn-loading:before {\\n  background-color: #c3c3c3;\\n  mask-size: auto calc(min(50%, 400px));\\n  -webkit-mask-size: auto calc(min(50%, 400px));\\n}\",{\"id\":\"p1093\"},{\"id\":\"p1091\"},{\"id\":\"p1092\"}],\"margin\":0,\"sizing_mode\":\"stretch_width\",\"align\":\"start\"}}]}}],\"defs\":[{\"type\":\"model\",\"name\":\"ReactiveHTML1\"},{\"type\":\"model\",\"name\":\"FlexBox1\",\"properties\":[{\"name\":\"align_content\",\"kind\":\"Any\",\"default\":\"flex-start\"},{\"name\":\"align_items\",\"kind\":\"Any\",\"default\":\"flex-start\"},{\"name\":\"flex_direction\",\"kind\":\"Any\",\"default\":\"row\"},{\"name\":\"flex_wrap\",\"kind\":\"Any\",\"default\":\"wrap\"},{\"name\":\"gap\",\"kind\":\"Any\",\"default\":\"\"},{\"name\":\"justify_content\",\"kind\":\"Any\",\"default\":\"flex-start\"}]},{\"type\":\"model\",\"name\":\"FloatPanel1\",\"properties\":[{\"name\":\"config\",\"kind\":\"Any\",\"default\":{\"type\":\"map\"}},{\"name\":\"contained\",\"kind\":\"Any\",\"default\":true},{\"name\":\"position\",\"kind\":\"Any\",\"default\":\"right-top\"},{\"name\":\"offsetx\",\"kind\":\"Any\",\"default\":null},{\"name\":\"offsety\",\"kind\":\"Any\",\"default\":null},{\"name\":\"theme\",\"kind\":\"Any\",\"default\":\"primary\"},{\"name\":\"status\",\"kind\":\"Any\",\"default\":\"normalized\"}]},{\"type\":\"model\",\"name\":\"GridStack1\",\"properties\":[{\"name\":\"mode\",\"kind\":\"Any\",\"default\":\"warn\"},{\"name\":\"ncols\",\"kind\":\"Any\",\"default\":null},{\"name\":\"nrows\",\"kind\":\"Any\",\"default\":null},{\"name\":\"allow_resize\",\"kind\":\"Any\",\"default\":true},{\"name\":\"allow_drag\",\"kind\":\"Any\",\"default\":true},{\"name\":\"state\",\"kind\":\"Any\",\"default\":[]}]},{\"type\":\"model\",\"name\":\"drag1\",\"properties\":[{\"name\":\"slider_width\",\"kind\":\"Any\",\"default\":5},{\"name\":\"slider_color\",\"kind\":\"Any\",\"default\":\"black\"},{\"name\":\"value\",\"kind\":\"Any\",\"default\":50}]},{\"type\":\"model\",\"name\":\"click1\",\"properties\":[{\"name\":\"terminal_output\",\"kind\":\"Any\",\"default\":\"\"},{\"name\":\"debug_name\",\"kind\":\"Any\",\"default\":\"\"},{\"name\":\"clears\",\"kind\":\"Any\",\"default\":0}]},{\"type\":\"model\",\"name\":\"FastWrapper1\",\"properties\":[{\"name\":\"object\",\"kind\":\"Any\",\"default\":null},{\"name\":\"style\",\"kind\":\"Any\",\"default\":null}]},{\"type\":\"model\",\"name\":\"NotificationAreaBase1\",\"properties\":[{\"name\":\"js_events\",\"kind\":\"Any\",\"default\":{\"type\":\"map\"}},{\"name\":\"position\",\"kind\":\"Any\",\"default\":\"bottom-right\"},{\"name\":\"_clear\",\"kind\":\"Any\",\"default\":0}]},{\"type\":\"model\",\"name\":\"NotificationArea1\",\"properties\":[{\"name\":\"js_events\",\"kind\":\"Any\",\"default\":{\"type\":\"map\"}},{\"name\":\"notifications\",\"kind\":\"Any\",\"default\":[]},{\"name\":\"position\",\"kind\":\"Any\",\"default\":\"bottom-right\"},{\"name\":\"_clear\",\"kind\":\"Any\",\"default\":0},{\"name\":\"types\",\"kind\":\"Any\",\"default\":[{\"type\":\"map\",\"entries\":[[\"type\",\"warning\"],[\"background\",\"#ffc107\"],[\"icon\",{\"type\":\"map\",\"entries\":[[\"className\",\"fas fa-exclamation-triangle\"],[\"tagName\",\"i\"],[\"color\",\"white\"]]}]]},{\"type\":\"map\",\"entries\":[[\"type\",\"info\"],[\"background\",\"#007bff\"],[\"icon\",{\"type\":\"map\",\"entries\":[[\"className\",\"fas fa-info-circle\"],[\"tagName\",\"i\"],[\"color\",\"white\"]]}]]}]}]},{\"type\":\"model\",\"name\":\"Notification\",\"properties\":[{\"name\":\"background\",\"kind\":\"Any\",\"default\":null},{\"name\":\"duration\",\"kind\":\"Any\",\"default\":3000},{\"name\":\"icon\",\"kind\":\"Any\",\"default\":null},{\"name\":\"message\",\"kind\":\"Any\",\"default\":\"\"},{\"name\":\"notification_type\",\"kind\":\"Any\",\"default\":null},{\"name\":\"_destroyed\",\"kind\":\"Any\",\"default\":false}]},{\"type\":\"model\",\"name\":\"TemplateActions1\",\"properties\":[{\"name\":\"open_modal\",\"kind\":\"Any\",\"default\":0},{\"name\":\"close_modal\",\"kind\":\"Any\",\"default\":0}]},{\"type\":\"model\",\"name\":\"BootstrapTemplateActions1\",\"properties\":[{\"name\":\"open_modal\",\"kind\":\"Any\",\"default\":0},{\"name\":\"close_modal\",\"kind\":\"Any\",\"default\":0}]},{\"type\":\"model\",\"name\":\"TemplateEditor1\",\"properties\":[{\"name\":\"layout\",\"kind\":\"Any\",\"default\":[]}]},{\"type\":\"model\",\"name\":\"MaterialTemplateActions1\",\"properties\":[{\"name\":\"open_modal\",\"kind\":\"Any\",\"default\":0},{\"name\":\"close_modal\",\"kind\":\"Any\",\"default\":0}]},{\"type\":\"model\",\"name\":\"request_value1\",\"properties\":[{\"name\":\"fill\",\"kind\":\"Any\",\"default\":\"none\"},{\"name\":\"_synced\",\"kind\":\"Any\",\"default\":null},{\"name\":\"_request_sync\",\"kind\":\"Any\",\"default\":0}]}]}};\n",
       "  var render_items = [{\"docid\":\"4b6567d3-824c-4113-89a0-95809581e6c4\",\"roots\":{\"p1090\":\"d7fc88a5-c6d2-4dd4-8968-b30d598cc937\"},\"root_ids\":[\"p1090\"]}];\n",
       "  var docs = Object.values(docs_json)\n",
       "  if (!docs) {\n",
       "    return\n",
       "  }\n",
       "  const py_version = docs[0].version.replace('rc', '-rc.').replace('.dev', '-dev.')\n",
       "  async function embed_document(root) {\n",
       "    var Bokeh = get_bokeh(root)\n",
       "    await Bokeh.embed.embed_items_notebook(docs_json, render_items);\n",
       "    for (const render_item of render_items) {\n",
       "      for (const root_id of render_item.root_ids) {\n",
       "\tconst id_el = document.getElementById(root_id)\n",
       "\tif (id_el.children.length && id_el.children[0].hasAttribute('data-root-id')) {\n",
       "\t  const root_el = id_el.children[0]\n",
       "\t  root_el.id = root_el.id + '-rendered'\n",
       "\t  for (const child of root_el.children) {\n",
       "            // Ensure JupyterLab does not capture keyboard shortcuts\n",
       "            // see: https://jupyterlab.readthedocs.io/en/4.1.x/extension/notebook.html#keyboard-interaction-model\n",
       "\t    child.setAttribute('data-lm-suppress-shortcuts', 'true')\n",
       "\t  }\n",
       "\t}\n",
       "      }\n",
       "    }\n",
       "  }\n",
       "  function get_bokeh(root) {\n",
       "    if (root.Bokeh === undefined) {\n",
       "      return null\n",
       "    } else if (root.Bokeh.version !== py_version) {\n",
       "      if (root.Bokeh.versions === undefined || !root.Bokeh.versions.has(py_version)) {\n",
       "\treturn null\n",
       "      }\n",
       "      return root.Bokeh.versions.get(py_version);\n",
       "    } else if (root.Bokeh.version === py_version) {\n",
       "      return root.Bokeh\n",
       "    }\n",
       "    return null\n",
       "  }\n",
       "  function is_loaded(root) {\n",
       "    var Bokeh = get_bokeh(root)\n",
       "    return (Bokeh != null && Bokeh.Panel !== undefined)\n",
       "  }\n",
       "  if (is_loaded(root)) {\n",
       "    embed_document(root);\n",
       "  } else {\n",
       "    var attempts = 0;\n",
       "    var timer = setInterval(function(root) {\n",
       "      if (is_loaded(root)) {\n",
       "        clearInterval(timer);\n",
       "        embed_document(root);\n",
       "      } else if (document.readyState == \"complete\") {\n",
       "        attempts++;\n",
       "        if (attempts > 200) {\n",
       "          clearInterval(timer);\n",
       "\t  var Bokeh = get_bokeh(root)\n",
       "\t  if (Bokeh == null || Bokeh.Panel == null) {\n",
       "            console.warn(\"Panel: ERROR: Unable to run Panel code because Bokeh or Panel library is missing\");\n",
       "\t  } else {\n",
       "\t    console.warn(\"Panel: WARNING: Attempting to render but not all required libraries could be resolved.\")\n",
       "\t    embed_document(root)\n",
       "\t  }\n",
       "        }\n",
       "      }\n",
       "    }, 25, root)\n",
       "  }\n",
       "})(window);</script>"
      ],
      "text/plain": [
       ":NdOverlay   [Variable]\n",
       "   :Curve   [date]   (value)"
      ]
     },
     "execution_count": 197,
     "metadata": {
      "application/vnd.holoviews_exec.v0+json": {
       "id": "p1090"
      }
     },
     "output_type": "execute_result"
    }
   ],
   "source": [
    "from datetime import date\n",
    "df = pl.DataFrame(\n",
    "    {\n",
    "        \"date\": [date(2020, 1, 2), date(2020, 1, 3), date(2020, 1, 4)],\n",
    "        \"stock_1\": [1, 4, 6],\n",
    "        \"stock_2\": [1, 5, 2],\n",
    "    }\n",
    ")\n",
    "df.plot.line(x=\"date\", y=[\"stock_1\", \"stock_2\"])  "
   ]
  },
  {
   "cell_type": "code",
   "execution_count": 198,
   "id": "41147424-da2a-480e-b077-d07829d3210d",
   "metadata": {},
   "outputs": [
    {
     "name": "stdout",
     "output_type": "stream",
     "text": [
      "\n",
      "The `scatter` plot visualizes your points as markers in 2D space. You can visualize\n",
      "one more dimension by using colors.\n",
      "\n",
      "The `scatter` plot is a good first way to plot data with non continuous axes.\n",
      "\n",
      "Reference: https://hvplot.holoviz.org/reference/tabular/scatter.html\n",
      "\n",
      "Parameters\n",
      "----------\n",
      "x : string, optional\n",
      "    Field name(s) to draw x-positions from. If not specified, the index is\n",
      "    used. Can refer to continuous and categorical data.\n",
      "y : string or list, optional\n",
      "    Field name(s) to draw y-positions from. If not specified, all numerical\n",
      "    fields are used.\n",
      "marker : string, optional\n",
      "    The marker shape specified above can be any supported by matplotlib, e.g. s, d, o etc.\n",
      "    See https://matplotlib.org/stable/api/markers_api.html.\n",
      "c : string, optional\n",
      "    A color or a Field name to draw the color of the marker from\n",
      "s : int, optional, also available as 'size'\n",
      "    The size of the marker\n",
      "by : string, optional\n",
      "    A single field or list of fields to group by. All the subgroups are visualized.\n",
      "groupby: string, list, optional\n",
      "    A single field or list of fields to group and filter by. Adds one or more widgets to\n",
      "    select the subgroup(s) to visualize.\n",
      "scale: number, optional\n",
      "    Scaling factor to apply to point scaling.\n",
      "logz : bool\n",
      "    Whether to apply log scaling to the z-axis. Default is False.\n",
      "color : str or array-like, optional.\n",
      "    The color for each of the series. Possible values are:\n",
      "\n",
      "    A single color string referred to by name, RGB or RGBA code, for instance 'red' or\n",
      "    '#a98d19.\n",
      "\n",
      "    A sequence of color strings referred to by name, RGB or RGBA code, which will be used\n",
      "    for each series recursively. For instance ['green','yellow'] each field’s line will be\n",
      "    filled in green or yellow, alternatively. If there is only a single series to be\n",
      "    plotted, then only the first color from the color list will be used.\n",
      "**kwds : optional\n",
      "    Additional keywords arguments are documented in `hvplot.help('scatter')`.\n",
      "\n",
      "Returns\n",
      "-------\n",
      "A Holoviews object. You can `print` the object to study its composition and run\n",
      "\n",
      ".. code-block::\n",
      "\n",
      "    import holoviews as hv\n",
      "    hv.help(the_holoviews_object)\n",
      "\n",
      "to learn more about its parameters and options.\n",
      "\n",
      "Example\n",
      "-------\n",
      "\n",
      ".. code-block::\n",
      "\n",
      "    import hvplot.pandas\n",
      "    import pandas as pd\n",
      "\n",
      "    df = pd.DataFrame(\n",
      "        {\n",
      "            \"actual\": [100, 150, 125, 140, 145, 135, 123],\n",
      "            \"forecast\": [90, 160, 125, 150, 141, 141, 120],\n",
      "            \"numerical\": [1.1, 1.9, 3.2, 3.8, 4.3, 5.0, 5.5],\n",
      "            \"date\": pd.date_range(\"2022-01-03\", \"2022-01-09\"),\n",
      "            \"string\": [\"Mon\", \"Tue\", \"Wed\", \"Thu\", \"Fri\", \"Sat\", \"Sun\"],\n",
      "        },\n",
      "    )\n",
      "    scatter = df.hvplot.scatter(\n",
      "        x=\"numerical\",\n",
      "        y=[\"actual\", \"forecast\"],\n",
      "        ylabel=\"value\",\n",
      "        legend=\"bottom\",\n",
      "        height=500,\n",
      "        color=[\"#f16a6f\", \"#1e85f7\"],\n",
      "        size=100,\n",
      "    )\n",
      "    scatter\n",
      "\n",
      "You can overlay the `scatter` markers on for example a `line` plot\n",
      "\n",
      ".. code-block::\n",
      "\n",
      "    line = df.hvplot.line(\n",
      "        x=\"numerical\", y=[\"actual\", \"forecast\"], color=[\"#f16a6f\", \"#1e85f7\"], line_width=5\n",
      "    )\n",
      "    scatter * line\n",
      "\n",
      "References\n",
      "----------\n",
      "\n",
      "- Bokeh: https://docs.bokeh.org/en/latest/docs/user_guide/plotting.html#scatter-markers\n",
      "- HoloViews: https://holoviews.org/reference/elements/matplotlib/Scatter.html\n",
      "- Pandas: https://pandas.pydata.org/docs/reference/api/pandas.DataFrame.plot.scatter.html\n",
      "- Plotly: https://plotly.com/python/line-and-scatter/\n",
      "- Matplotlib:  https://matplotlib.org/stable/api/_as_gen/matplotlib.pyplot.scatter.html\n",
      "- Seaborn: https://seaborn.pydata.org/generated/seaborn.scatterplot.html\n",
      "- Wiki: https://en.wikipedia.org/wiki/Scatter_plot\n",
      "\n",
      "\n",
      "Generic options\n",
      "---------------\n",
      "autorange (default=None): Literal['x', 'y'] | None\n",
      "    Whether to enable auto-ranging along the x- or y-axis when\n",
      "    zooming. Requires HoloViews >= 1.16.\n",
      "bgcolor (default=None): str\n",
      "    Background color of the data area of the plot\n",
      "clim: tuple\n",
      "    Lower and upper bound of the color scale\n",
      "cnorm (default='linear'): str\n",
      "    Color scaling which must be one of 'linear', 'log' or 'eq_hist'\n",
      "colorbar (default=False): boolean\n",
      "    Enables a colorbar\n",
      "fontscale: number\n",
      "    Scales the size of all fonts by the same amount, e.g. fontscale=1.5\n",
      "    enlarges all fonts (title, xticks, labels etc.) by 50%\n",
      "fontsize: number or dict\n",
      "    Set title, label and legend text to the same fontsize. Finer control\n",
      "    by using a dict: {'title': '15pt', 'ylabel': '5px', 'ticks': 20}\n",
      "flip_xaxis/flip_yaxis: boolean\n",
      "    Whether to flip the axis left to right or up and down respectively\n",
      "grid (default=False): boolean\n",
      "    Whether to show a grid\n",
      "hover : boolean\n",
      "    Whether to show hover tooltips, default is True unless datashade is\n",
      "    True in which case hover is False by default\n",
      "hover_cols (default=[]): list or str\n",
      "    Additional columns to add to the hover tool or 'all' which will\n",
      "    includes all columns (including indexes if use_index is True).\n",
      "invert (default=False): boolean\n",
      "    Swaps x- and y-axis\n",
      "frame_width/frame_height: int\n",
      "    The width and height of the data area of the plot\n",
      "legend (default=True): boolean or str\n",
      "    Whether to show a legend, or a legend position\n",
      "    ('top', 'bottom', 'left', 'right')\n",
      "logx/logy (default=False): boolean\n",
      "    Enables logarithmic x- and y-axis respectively\n",
      "logz (default=False): boolean\n",
      "    Enables logarithmic colormapping\n",
      "loglog (default=False): boolean\n",
      "    Enables logarithmic x- and y-axis\n",
      "max_width/max_height: int\n",
      "    The maximum width and height of the plot for responsive modes\n",
      "min_width/min_height: int\n",
      "    The minimum width and height of the plot for responsive modes\n",
      "padding: number or tuple\n",
      "    Fraction by which to increase auto-ranged extents to make\n",
      "    datapoints more visible around borders. Supports tuples to\n",
      "    specify different amount of padding for x- and y-axis and\n",
      "    tuples of tuples to specify different amounts of padding for\n",
      "    upper and lower bounds.\n",
      "rescale_discrete_levels (default=True): boolean\n",
      "    If `cnorm='eq_hist'` and there are only a few discrete values,\n",
      "    then `rescale_discrete_levels=True` (the default) decreases\n",
      "    the lower limit of the autoranged span so that the values are\n",
      "    rendering towards the (more visible) top of the `cmap` range,\n",
      "    thus avoiding washout of the lower values.  Has no effect if\n",
      "    `cnorm!=`eq_hist`.\n",
      "responsive: boolean\n",
      "    Whether the plot should responsively resize depending on the\n",
      "    size of the browser. Responsive mode will only work if at\n",
      "    least one dimension of the plot is left undefined, e.g. when\n",
      "    width and height or width and aspect are set the plot is set\n",
      "    to a fixed size, ignoring any responsive option.\n",
      "robust: bool\n",
      "    If True and clim are absent, the colormap range is computed\n",
      "    with 2nd and 98th percentiles instead of the extreme values\n",
      "    for image elements. For RGB elements, clips the \"RGB\", or\n",
      "    raw reflectance values between 2nd and 98th percentiles.\n",
      "    Follows the same logic as xarray's robust option.\n",
      "rot: number\n",
      "    Rotates the axis ticks along the x-axis by the specified\n",
      "    number of degrees.\n",
      "shared_axes (default=True): boolean\n",
      "    Whether to link axes between plots\n",
      "transforms (default={}): dict\n",
      "    A dictionary of HoloViews dim transforms to apply before plotting\n",
      "title (default=''): str\n",
      "    Title for the plot\n",
      "tools (default=[]): list\n",
      "    List of tool instances or strings (e.g. ['tap', 'box_select'])\n",
      "xaxis/yaxis: str or None\n",
      "    Whether to show the x/y-axis and whether to place it at the\n",
      "    'top'/'bottom' and 'left'/'right' respectively.\n",
      "xformatter/yformatter (default=None): str or TickFormatter\n",
      "    Formatter for the x-axis and y-axis (accepts printf formatter,\n",
      "    e.g. '%.3f', and bokeh TickFormatter)\n",
      "xlabel/ylabel/clabel (default=None): str\n",
      "    Axis labels for the x-axis, y-axis, and colorbar\n",
      "xlim/ylim (default=None): tuple or list\n",
      "    Plot limits of the x- and y-axis\n",
      "xticks/yticks (default=None): int or list\n",
      "    Ticks along x- and y-axis specified as an integer, list of\n",
      "    ticks positions, or list of tuples of the tick positions and labels\n",
      "width (default=700)/height (default=300): int\n",
      "    The width and height of the plot in pixels\n",
      "attr_labels (default=None): bool\n",
      "    Whether to use an xarray object's attributes as labels, defaults to\n",
      "    None to allow best effort without throwing a warning. Set to True\n",
      "    to see warning if the attrs can't be found, set to False to disable\n",
      "    the behavior.\n",
      "sort_date (default=True): bool\n",
      "    Whether to sort the x-axis by date before plotting\n",
      "symmetric (default=None): bool\n",
      "    Whether the data are symmetric around zero. If left unset, the data\n",
      "    will be checked for symmetry as long as the size is less than\n",
      "    ``check_symmetric_max``.\n",
      "check_symmetric_max (default=1000000):\n",
      "    Size above which to stop checking for symmetry by default on the data.\n",
      "\n",
      "Resampling options\n",
      "------------------\n",
      "aggregator (default=None):\n",
      "    Aggregator to use when applying rasterize or datashade operation\n",
      "    (valid options include 'mean', 'count', 'min', 'max' and more, and\n",
      "    datashader reduction objects)\n",
      "dynamic (default=True):\n",
      "    Whether to return a dynamic plot which sends updates on widget and\n",
      "    zoom/pan events or whether all the data should be embedded\n",
      "    (warning: for large groupby operations embedded data can become\n",
      "    very large if dynamic=False)\n",
      "datashade (default=False):\n",
      "    Whether to apply rasterization and shading (colormapping) using\n",
      "    the Datashader library, returning an RGB object instead of\n",
      "    individual points\n",
      "downsample (default=False):\n",
      "    Controls the application of downsampling to the plotted data,\n",
      "    which is particularly useful for large timeseries datasets to\n",
      "    reduce the amount of data sent to browser and improve\n",
      "    visualization performance. Requires HoloViews >= 1.16. Additional\n",
      "    dependencies: Installing the `tsdownsample` library is required\n",
      "    for using any downsampling methods other than the default 'lttb'.\n",
      "    Acceptable values:\n",
      "    - False: No downsampling is applied.\n",
      "    - True: Applies downsampling using HoloViews' default algorithm\n",
      "        (LTTB - Largest Triangle Three Buckets).\n",
      "    - 'lttb': Explicitly applies the Largest Triangle Three Buckets\n",
      "      algorithm.\n",
      "    - 'minmax': Applies the MinMax algorithm, selecting the minimum\n",
      "      and maximum values in each bin. Requires `tsdownsample`.\n",
      "    - 'm4': Applies the M4 algorithm, selecting the minimum, maximum,\n",
      "      first, and last values in each bin. Requires `tsdownsample`.\n",
      "    - 'minmax-lttb': Combines MinMax and LTTB algorithms for\n",
      "      downsampling, first applying MinMax to reduce to a preliminary\n",
      "      set of points, then LTTB for further reduction. Requires\n",
      "      `tsdownsample`.\n",
      "    Other string values corresponding to supported algorithms in\n",
      "    HoloViews may also be used.\n",
      "dynspread (default=False):\n",
      "    For plots generated with datashade=True or rasterize=True,\n",
      "    automatically increase the point size when the data is sparse\n",
      "    so that individual points become more visible\n",
      "rasterize (default=False):\n",
      "    Whether to apply rasterization using the Datashader library,\n",
      "    returning an aggregated Image (to be colormapped by the\n",
      "    plotting backend) instead of individual points\n",
      "resample_when (default=None):\n",
      "    Applies a resampling operation (datashade, rasterize or downsample) if\n",
      "    the number of individual data points present in the current zoom range\n",
      "    is above this threshold. The raw plot is displayed otherwise.\n",
      "x_sampling/y_sampling (default=None):\n",
      "    Specifies the smallest allowed sampling interval along the x/y axis.\n",
      "\n",
      "Geographic options\n",
      "------------------\n",
      "coastline (default=False):\n",
      "    Whether to display a coastline on top of the plot, setting\n",
      "    coastline='10m'/'50m'/'110m' specifies a specific scale.\n",
      "crs (default=None):\n",
      "    Coordinate reference system of the data (input projection) specified as a string\n",
      "    or integer EPSG code, a CRS or Proj pyproj object, a Cartopy\n",
      "    CRS object or class name, a WKT string, or a proj.4 string.\n",
      "    Defaults to PlateCarree.\n",
      "features (default=None): dict or list\n",
      "    A list of features or a dictionary of features and the scale\n",
      "    at which to render it. Available features include 'borders',\n",
      "    'coastline', 'lakes', 'land', 'ocean', 'rivers' and 'states'.\n",
      "    Available scales include '10m'/'50m'/'110m'.\n",
      "geo (default=False):\n",
      "    Whether the plot should be treated as geographic (and assume\n",
      "    PlateCarree, i.e. lat/lon coordinates).\n",
      "global_extent (default=False):\n",
      "    Whether to expand the plot extent to span the whole globe.\n",
      "project (default=False):\n",
      "    Whether to project the data before plotting (adds initial\n",
      "    overhead but avoids projecting data when plot is dynamically\n",
      "    updated).\n",
      "projection (default=None): str or Cartopy CRS\n",
      "    Coordinate reference system of the plot (output projection) specified as a string\n",
      "    or integer EPSG code, a CRS or Proj pyproj object, a Cartopy\n",
      "    CRS object or class name, a WKT string, or a proj.4 string.\n",
      "    Defaults to PlateCarree.\n",
      "tiles (default=False):\n",
      "    Whether to overlay the plot on a tile source:\n",
      "    - `True`: OpenStreetMap layer\n",
      "    - `xyzservices.TileProvider` instance (requires xyzservices to\n",
      "       be installed)\n",
      "    - a map string name based on one of the default layers made\n",
      "      available by HoloViews or GeoViews.\n",
      "    - a `holoviews.Tiles` or `geoviews.WMTS` instance or class\n",
      "tiles_opts (default=None): dict\n",
      "    Options to customize the tiles layer created when `tiles` is set,\n",
      "    e.g. `dict(alpha=0.5)`.\n",
      "\n",
      "Style options\n",
      "-------------\n",
      "\n",
      "alpha\n",
      "angle\n",
      "cmap\n",
      "color\n",
      "fill_alpha\n",
      "fill_color\n",
      "hit_dilation\n",
      "hover_alpha\n",
      "hover_color\n",
      "hover_fill_alpha\n",
      "hover_fill_color\n",
      "hover_line_alpha\n",
      "hover_line_cap\n",
      "hover_line_color\n",
      "hover_line_dash\n",
      "hover_line_dash_offset\n",
      "hover_line_join\n",
      "hover_line_width\n",
      "line_alpha\n",
      "line_cap\n",
      "line_color\n",
      "line_dash\n",
      "line_dash_offset\n",
      "line_join\n",
      "line_width\n",
      "marker\n",
      "muted\n",
      "muted_alpha\n",
      "muted_color\n",
      "muted_fill_alpha\n",
      "muted_fill_color\n",
      "muted_line_alpha\n",
      "muted_line_cap\n",
      "muted_line_color\n",
      "muted_line_dash\n",
      "muted_line_dash_offset\n",
      "muted_line_join\n",
      "muted_line_width\n",
      "nonselection_alpha\n",
      "nonselection_color\n",
      "nonselection_fill_alpha\n",
      "nonselection_fill_color\n",
      "nonselection_line_alpha\n",
      "nonselection_line_cap\n",
      "nonselection_line_color\n",
      "nonselection_line_dash\n",
      "nonselection_line_dash_offset\n",
      "nonselection_line_join\n",
      "nonselection_line_width\n",
      "palette\n",
      "selection_alpha\n",
      "selection_color\n",
      "selection_fill_alpha\n",
      "selection_fill_color\n",
      "selection_line_alpha\n",
      "selection_line_cap\n",
      "selection_line_color\n",
      "selection_line_dash\n",
      "selection_line_dash_offset\n",
      "selection_line_join\n",
      "selection_line_width\n",
      "size\n",
      "visible\n"
     ]
    }
   ],
   "source": [
    "import hvplot  \n",
    "hvplot.help(\"scatter\")  "
   ]
  },
  {
   "cell_type": "markdown",
   "id": "f9501cab-8175-4006-ad26-21d8572ae3aa",
   "metadata": {},
   "source": [
    "## product"
   ]
  },
  {
   "cell_type": "code",
   "execution_count": 199,
   "id": "daf33295-c959-4180-9be4-ddd54eb006bc",
   "metadata": {},
   "outputs": [],
   "source": [
    "df = pl.DataFrame(\n",
    "    {\n",
    "        \"a\": [1, 2, 3],\n",
    "        \"b\": [0.5, 4, 10],\n",
    "        \"c\": [True, True, False],\n",
    "    }\n",
    ")"
   ]
  },
  {
   "cell_type": "code",
   "execution_count": 200,
   "id": "6747e8ec-302a-4040-85cd-f5db0deef42d",
   "metadata": {},
   "outputs": [
    {
     "data": {
      "text/html": [
       "<div><style>\n",
       ".dataframe > thead > tr,\n",
       ".dataframe > tbody > tr {\n",
       "  text-align: right;\n",
       "  white-space: pre-wrap;\n",
       "}\n",
       "</style>\n",
       "<small>shape: (1, 3)</small><table border=\"1\" class=\"dataframe\"><thead><tr><th>a</th><th>b</th><th>c</th></tr><tr><td>i64</td><td>f64</td><td>i64</td></tr></thead><tbody><tr><td>6</td><td>20.0</td><td>0</td></tr></tbody></table></div>"
      ],
      "text/plain": [
       "shape: (1, 3)\n",
       "┌─────┬──────┬─────┐\n",
       "│ a   ┆ b    ┆ c   │\n",
       "│ --- ┆ ---  ┆ --- │\n",
       "│ i64 ┆ f64  ┆ i64 │\n",
       "╞═════╪══════╪═════╡\n",
       "│ 6   ┆ 20.0 ┆ 0   │\n",
       "└─────┴──────┴─────┘"
      ]
     },
     "execution_count": 200,
     "metadata": {},
     "output_type": "execute_result"
    }
   ],
   "source": [
    "df.product()"
   ]
  },
  {
   "cell_type": "markdown",
   "id": "1a0b0e8e-c31a-4ee0-9d32-6b1cec3e0ea3",
   "metadata": {},
   "source": [
    "## quantile"
   ]
  },
  {
   "cell_type": "code",
   "execution_count": 201,
   "id": "5cca14c2-9f39-42d5-a250-50e545d9cfac",
   "metadata": {},
   "outputs": [
    {
     "data": {
      "text/html": [
       "<div><style>\n",
       ".dataframe > thead > tr,\n",
       ".dataframe > tbody > tr {\n",
       "  text-align: right;\n",
       "  white-space: pre-wrap;\n",
       "}\n",
       "</style>\n",
       "<small>shape: (1, 3)</small><table border=\"1\" class=\"dataframe\"><thead><tr><th>foo</th><th>bar</th><th>ham</th></tr><tr><td>f64</td><td>f64</td><td>str</td></tr></thead><tbody><tr><td>2.0</td><td>7.0</td><td>null</td></tr></tbody></table></div>"
      ],
      "text/plain": [
       "shape: (1, 3)\n",
       "┌─────┬─────┬──────┐\n",
       "│ foo ┆ bar ┆ ham  │\n",
       "│ --- ┆ --- ┆ ---  │\n",
       "│ f64 ┆ f64 ┆ str  │\n",
       "╞═════╪═════╪══════╡\n",
       "│ 2.0 ┆ 7.0 ┆ null │\n",
       "└─────┴─────┴──────┘"
      ]
     },
     "execution_count": 201,
     "metadata": {},
     "output_type": "execute_result"
    }
   ],
   "source": [
    "df = pl.DataFrame(\n",
    "    {\n",
    "        \"foo\": [1, 2, 3],\n",
    "        \"bar\": [6, 7, 8],\n",
    "        \"ham\": [\"a\", \"b\", \"c\"],\n",
    "    }\n",
    ")\n",
    "df.quantile(0.5, \"nearest\")"
   ]
  },
  {
   "cell_type": "markdown",
   "id": "d9a4024f-0829-4075-bb36-a9a75ad05b55",
   "metadata": {},
   "source": [
    "## rename"
   ]
  },
  {
   "cell_type": "code",
   "execution_count": 202,
   "id": "58697475-a39e-4edf-9e8f-9f22fca1f67c",
   "metadata": {},
   "outputs": [
    {
     "data": {
      "text/html": [
       "<div><style>\n",
       ".dataframe > thead > tr,\n",
       ".dataframe > tbody > tr {\n",
       "  text-align: right;\n",
       "  white-space: pre-wrap;\n",
       "}\n",
       "</style>\n",
       "<small>shape: (3, 3)</small><table border=\"1\" class=\"dataframe\"><thead><tr><th>foo</th><th>bar</th><th>ham</th></tr><tr><td>i64</td><td>i64</td><td>str</td></tr></thead><tbody><tr><td>1</td><td>6</td><td>&quot;a&quot;</td></tr><tr><td>2</td><td>7</td><td>&quot;b&quot;</td></tr><tr><td>3</td><td>8</td><td>&quot;c&quot;</td></tr></tbody></table></div>"
      ],
      "text/plain": [
       "shape: (3, 3)\n",
       "┌─────┬─────┬─────┐\n",
       "│ foo ┆ bar ┆ ham │\n",
       "│ --- ┆ --- ┆ --- │\n",
       "│ i64 ┆ i64 ┆ str │\n",
       "╞═════╪═════╪═════╡\n",
       "│ 1   ┆ 6   ┆ a   │\n",
       "│ 2   ┆ 7   ┆ b   │\n",
       "│ 3   ┆ 8   ┆ c   │\n",
       "└─────┴─────┴─────┘"
      ]
     },
     "execution_count": 202,
     "metadata": {},
     "output_type": "execute_result"
    }
   ],
   "source": [
    "df = pl.DataFrame(\n",
    "    {\"foo\": [1, 2, 3], \"bar\": [6, 7, 8], \"ham\": [\"a\", \"b\", \"c\"]}\n",
    ")\n",
    "df"
   ]
  },
  {
   "cell_type": "code",
   "execution_count": 203,
   "id": "fb4dc3a2-6fb0-4c43-9b2d-5ca69954db31",
   "metadata": {},
   "outputs": [
    {
     "data": {
      "text/html": [
       "<div><style>\n",
       ".dataframe > thead > tr,\n",
       ".dataframe > tbody > tr {\n",
       "  text-align: right;\n",
       "  white-space: pre-wrap;\n",
       "}\n",
       "</style>\n",
       "<small>shape: (3, 3)</small><table border=\"1\" class=\"dataframe\"><thead><tr><th>apple</th><th>bar</th><th>ham</th></tr><tr><td>i64</td><td>i64</td><td>str</td></tr></thead><tbody><tr><td>1</td><td>6</td><td>&quot;a&quot;</td></tr><tr><td>2</td><td>7</td><td>&quot;b&quot;</td></tr><tr><td>3</td><td>8</td><td>&quot;c&quot;</td></tr></tbody></table></div>"
      ],
      "text/plain": [
       "shape: (3, 3)\n",
       "┌───────┬─────┬─────┐\n",
       "│ apple ┆ bar ┆ ham │\n",
       "│ ---   ┆ --- ┆ --- │\n",
       "│ i64   ┆ i64 ┆ str │\n",
       "╞═══════╪═════╪═════╡\n",
       "│ 1     ┆ 6   ┆ a   │\n",
       "│ 2     ┆ 7   ┆ b   │\n",
       "│ 3     ┆ 8   ┆ c   │\n",
       "└───────┴─────┴─────┘"
      ]
     },
     "execution_count": 203,
     "metadata": {},
     "output_type": "execute_result"
    }
   ],
   "source": [
    "df.rename({\"foo\": \"apple\"})"
   ]
  },
  {
   "cell_type": "code",
   "execution_count": 204,
   "id": "b946212c-b66d-4c76-9be0-158bcbe00c9d",
   "metadata": {},
   "outputs": [
    {
     "data": {
      "text/html": [
       "<div><style>\n",
       ".dataframe > thead > tr,\n",
       ".dataframe > tbody > tr {\n",
       "  text-align: right;\n",
       "  white-space: pre-wrap;\n",
       "}\n",
       "</style>\n",
       "<small>shape: (3, 3)</small><table border=\"1\" class=\"dataframe\"><thead><tr><th>coo</th><th>car</th><th>cam</th></tr><tr><td>i64</td><td>i64</td><td>str</td></tr></thead><tbody><tr><td>1</td><td>6</td><td>&quot;a&quot;</td></tr><tr><td>2</td><td>7</td><td>&quot;b&quot;</td></tr><tr><td>3</td><td>8</td><td>&quot;c&quot;</td></tr></tbody></table></div>"
      ],
      "text/plain": [
       "shape: (3, 3)\n",
       "┌─────┬─────┬─────┐\n",
       "│ coo ┆ car ┆ cam │\n",
       "│ --- ┆ --- ┆ --- │\n",
       "│ i64 ┆ i64 ┆ str │\n",
       "╞═════╪═════╪═════╡\n",
       "│ 1   ┆ 6   ┆ a   │\n",
       "│ 2   ┆ 7   ┆ b   │\n",
       "│ 3   ┆ 8   ┆ c   │\n",
       "└─────┴─────┴─────┘"
      ]
     },
     "execution_count": 204,
     "metadata": {},
     "output_type": "execute_result"
    }
   ],
   "source": [
    "df.rename(lambda column_name: \"c\" + column_name[1:])"
   ]
  },
  {
   "cell_type": "markdown",
   "id": "07fb4856-afd8-4931-9471-6b08e153e5fa",
   "metadata": {},
   "source": [
    "## replace_column"
   ]
  },
  {
   "cell_type": "code",
   "execution_count": 205,
   "id": "002ff938-c7e0-409b-b845-47406d493993",
   "metadata": {},
   "outputs": [
    {
     "data": {
      "text/html": [
       "<div><style>\n",
       ".dataframe > thead > tr,\n",
       ".dataframe > tbody > tr {\n",
       "  text-align: right;\n",
       "  white-space: pre-wrap;\n",
       "}\n",
       "</style>\n",
       "<small>shape: (3, 3)</small><table border=\"1\" class=\"dataframe\"><thead><tr><th>foo</th><th>bar</th><th>ham</th></tr><tr><td>i64</td><td>i64</td><td>str</td></tr></thead><tbody><tr><td>1</td><td>6</td><td>&quot;a&quot;</td></tr><tr><td>2</td><td>7</td><td>&quot;b&quot;</td></tr><tr><td>3</td><td>8</td><td>&quot;c&quot;</td></tr></tbody></table></div>"
      ],
      "text/plain": [
       "shape: (3, 3)\n",
       "┌─────┬─────┬─────┐\n",
       "│ foo ┆ bar ┆ ham │\n",
       "│ --- ┆ --- ┆ --- │\n",
       "│ i64 ┆ i64 ┆ str │\n",
       "╞═════╪═════╪═════╡\n",
       "│ 1   ┆ 6   ┆ a   │\n",
       "│ 2   ┆ 7   ┆ b   │\n",
       "│ 3   ┆ 8   ┆ c   │\n",
       "└─────┴─────┴─────┘"
      ]
     },
     "execution_count": 205,
     "metadata": {},
     "output_type": "execute_result"
    }
   ],
   "source": [
    "df = pl.DataFrame(\n",
    "    {\n",
    "        \"foo\": [1, 2, 3],\n",
    "        \"bar\": [6, 7, 8],\n",
    "        \"ham\": [\"a\", \"b\", \"c\"],\n",
    "    }\n",
    ")\n",
    "df"
   ]
  },
  {
   "cell_type": "code",
   "execution_count": 206,
   "id": "68210ad7-0070-4f96-993b-af65b0484593",
   "metadata": {},
   "outputs": [],
   "source": [
    "s = pl.Series(\"apple\", [10, 20, 30])"
   ]
  },
  {
   "cell_type": "code",
   "execution_count": 207,
   "id": "0a9c915c-7817-4f60-bc4b-84d5ff38eeea",
   "metadata": {},
   "outputs": [
    {
     "data": {
      "text/html": [
       "<div><style>\n",
       ".dataframe > thead > tr,\n",
       ".dataframe > tbody > tr {\n",
       "  text-align: right;\n",
       "  white-space: pre-wrap;\n",
       "}\n",
       "</style>\n",
       "<small>shape: (3, 3)</small><table border=\"1\" class=\"dataframe\"><thead><tr><th>apple</th><th>bar</th><th>ham</th></tr><tr><td>i64</td><td>i64</td><td>str</td></tr></thead><tbody><tr><td>10</td><td>6</td><td>&quot;a&quot;</td></tr><tr><td>20</td><td>7</td><td>&quot;b&quot;</td></tr><tr><td>30</td><td>8</td><td>&quot;c&quot;</td></tr></tbody></table></div>"
      ],
      "text/plain": [
       "shape: (3, 3)\n",
       "┌───────┬─────┬─────┐\n",
       "│ apple ┆ bar ┆ ham │\n",
       "│ ---   ┆ --- ┆ --- │\n",
       "│ i64   ┆ i64 ┆ str │\n",
       "╞═══════╪═════╪═════╡\n",
       "│ 10    ┆ 6   ┆ a   │\n",
       "│ 20    ┆ 7   ┆ b   │\n",
       "│ 30    ┆ 8   ┆ c   │\n",
       "└───────┴─────┴─────┘"
      ]
     },
     "execution_count": 207,
     "metadata": {},
     "output_type": "execute_result"
    }
   ],
   "source": [
    "df.replace_column(0, s)"
   ]
  },
  {
   "cell_type": "markdown",
   "id": "890ec2d1-acb5-4aa9-ac6a-4acb9515690b",
   "metadata": {},
   "source": [
    "## reverse"
   ]
  },
  {
   "cell_type": "code",
   "execution_count": 208,
   "id": "953c45e6-0233-4350-a800-2548e8e029c2",
   "metadata": {},
   "outputs": [
    {
     "data": {
      "text/html": [
       "<div><style>\n",
       ".dataframe > thead > tr,\n",
       ".dataframe > tbody > tr {\n",
       "  text-align: right;\n",
       "  white-space: pre-wrap;\n",
       "}\n",
       "</style>\n",
       "<small>shape: (3, 2)</small><table border=\"1\" class=\"dataframe\"><thead><tr><th>key</th><th>val</th></tr><tr><td>str</td><td>i64</td></tr></thead><tbody><tr><td>&quot;c&quot;</td><td>3</td></tr><tr><td>&quot;b&quot;</td><td>2</td></tr><tr><td>&quot;a&quot;</td><td>1</td></tr></tbody></table></div>"
      ],
      "text/plain": [
       "shape: (3, 2)\n",
       "┌─────┬─────┐\n",
       "│ key ┆ val │\n",
       "│ --- ┆ --- │\n",
       "│ str ┆ i64 │\n",
       "╞═════╪═════╡\n",
       "│ c   ┆ 3   │\n",
       "│ b   ┆ 2   │\n",
       "│ a   ┆ 1   │\n",
       "└─────┴─────┘"
      ]
     },
     "execution_count": 208,
     "metadata": {},
     "output_type": "execute_result"
    }
   ],
   "source": [
    "df = pl.DataFrame(\n",
    "    {\n",
    "        \"key\": [\"a\", \"b\", \"c\"],\n",
    "        \"val\": [1, 2, 3],\n",
    "    }\n",
    ")\n",
    "df.reverse()"
   ]
  },
  {
   "cell_type": "markdown",
   "id": "dcc6b2c0-f9c5-48a0-8c0e-55c3e0ddafe7",
   "metadata": {},
   "source": [
    "## rolling\n",
    "Create rolling groups based on a temporal or integer column.\n",
    "\n",
    "Different from a group_by_dynamic the windows are now determined by the individual values and are not of constant intervals. For constant intervals use DataFrame.group_by_dynamic().\n",
    "\n",
    "If you have a time series <t_0, t_1, ..., t_n>, then by default the windows created will be"
   ]
  },
  {
   "cell_type": "code",
   "execution_count": 209,
   "id": "3eee0457-c4bb-469b-99ca-4d1958fbe51c",
   "metadata": {},
   "outputs": [
    {
     "data": {
      "text/html": [
       "<div><style>\n",
       ".dataframe > thead > tr,\n",
       ".dataframe > tbody > tr {\n",
       "  text-align: right;\n",
       "  white-space: pre-wrap;\n",
       "}\n",
       "</style>\n",
       "<small>shape: (6, 2)</small><table border=\"1\" class=\"dataframe\"><thead><tr><th>dt</th><th>a</th></tr><tr><td>datetime[μs]</td><td>i64</td></tr></thead><tbody><tr><td>2020-01-01 13:45:48</td><td>3</td></tr><tr><td>2020-01-01 16:42:13</td><td>7</td></tr><tr><td>2020-01-01 16:45:09</td><td>5</td></tr><tr><td>2020-01-02 18:12:48</td><td>9</td></tr><tr><td>2020-01-03 19:45:32</td><td>2</td></tr><tr><td>2020-01-08 23:16:43</td><td>1</td></tr></tbody></table></div>"
      ],
      "text/plain": [
       "shape: (6, 2)\n",
       "┌─────────────────────┬─────┐\n",
       "│ dt                  ┆ a   │\n",
       "│ ---                 ┆ --- │\n",
       "│ datetime[μs]        ┆ i64 │\n",
       "╞═════════════════════╪═════╡\n",
       "│ 2020-01-01 13:45:48 ┆ 3   │\n",
       "│ 2020-01-01 16:42:13 ┆ 7   │\n",
       "│ 2020-01-01 16:45:09 ┆ 5   │\n",
       "│ 2020-01-02 18:12:48 ┆ 9   │\n",
       "│ 2020-01-03 19:45:32 ┆ 2   │\n",
       "│ 2020-01-08 23:16:43 ┆ 1   │\n",
       "└─────────────────────┴─────┘"
      ]
     },
     "execution_count": 209,
     "metadata": {},
     "output_type": "execute_result"
    }
   ],
   "source": [
    "dates = [\n",
    "    \"2020-01-01 13:45:48\",\n",
    "    \"2020-01-01 16:42:13\",\n",
    "    \"2020-01-01 16:45:09\",\n",
    "    \"2020-01-02 18:12:48\",\n",
    "    \"2020-01-03 19:45:32\",\n",
    "    \"2020-01-08 23:16:43\",\n",
    "]\n",
    "df = pl.DataFrame({\"dt\": dates, \"a\": [3, 7, 5, 9, 2, 1]}).with_columns(\n",
    "    pl.col(\"dt\").str.strptime(pl.Datetime).set_sorted()\n",
    ")\n",
    "df"
   ]
  },
  {
   "cell_type": "code",
   "execution_count": 210,
   "id": "81490009-434a-405d-8c06-42a5c0b025b3",
   "metadata": {},
   "outputs": [],
   "source": [
    "out = df.rolling(index_column=\"dt\", period=\"2d\").agg(\n",
    "    [\n",
    "        pl.sum(\"a\").alias(\"sum_a\"),\n",
    "        pl.min(\"a\").alias(\"min_a\"),\n",
    "        pl.max(\"a\").alias(\"max_a\"),\n",
    "    ]\n",
    ")"
   ]
  },
  {
   "cell_type": "code",
   "execution_count": 211,
   "id": "82e66f21-e156-447f-b716-39442a741701",
   "metadata": {},
   "outputs": [
    {
     "data": {
      "text/html": [
       "<div><style>\n",
       ".dataframe > thead > tr,\n",
       ".dataframe > tbody > tr {\n",
       "  text-align: right;\n",
       "  white-space: pre-wrap;\n",
       "}\n",
       "</style>\n",
       "<small>shape: (6, 4)</small><table border=\"1\" class=\"dataframe\"><thead><tr><th>dt</th><th>sum_a</th><th>min_a</th><th>max_a</th></tr><tr><td>datetime[μs]</td><td>i64</td><td>i64</td><td>i64</td></tr></thead><tbody><tr><td>2020-01-01 13:45:48</td><td>3</td><td>3</td><td>3</td></tr><tr><td>2020-01-01 16:42:13</td><td>10</td><td>3</td><td>7</td></tr><tr><td>2020-01-01 16:45:09</td><td>15</td><td>3</td><td>7</td></tr><tr><td>2020-01-02 18:12:48</td><td>24</td><td>3</td><td>9</td></tr><tr><td>2020-01-03 19:45:32</td><td>11</td><td>2</td><td>9</td></tr><tr><td>2020-01-08 23:16:43</td><td>1</td><td>1</td><td>1</td></tr></tbody></table></div>"
      ],
      "text/plain": [
       "shape: (6, 4)\n",
       "┌─────────────────────┬───────┬───────┬───────┐\n",
       "│ dt                  ┆ sum_a ┆ min_a ┆ max_a │\n",
       "│ ---                 ┆ ---   ┆ ---   ┆ ---   │\n",
       "│ datetime[μs]        ┆ i64   ┆ i64   ┆ i64   │\n",
       "╞═════════════════════╪═══════╪═══════╪═══════╡\n",
       "│ 2020-01-01 13:45:48 ┆ 3     ┆ 3     ┆ 3     │\n",
       "│ 2020-01-01 16:42:13 ┆ 10    ┆ 3     ┆ 7     │\n",
       "│ 2020-01-01 16:45:09 ┆ 15    ┆ 3     ┆ 7     │\n",
       "│ 2020-01-02 18:12:48 ┆ 24    ┆ 3     ┆ 9     │\n",
       "│ 2020-01-03 19:45:32 ┆ 11    ┆ 2     ┆ 9     │\n",
       "│ 2020-01-08 23:16:43 ┆ 1     ┆ 1     ┆ 1     │\n",
       "└─────────────────────┴───────┴───────┴───────┘"
      ]
     },
     "execution_count": 211,
     "metadata": {},
     "output_type": "execute_result"
    }
   ],
   "source": [
    "out"
   ]
  },
  {
   "cell_type": "code",
   "execution_count": 212,
   "id": "8fefc080-b857-47ac-ba1a-50636051a961",
   "metadata": {},
   "outputs": [],
   "source": [
    "assert out[\"sum_a\"].to_list() == [3, 10, 15, 24, 11, 1]"
   ]
  },
  {
   "cell_type": "code",
   "execution_count": 213,
   "id": "ad2e0b1b-c220-42c0-9544-989ce28a95a6",
   "metadata": {},
   "outputs": [],
   "source": [
    "assert out[\"max_a\"].to_list() == [3, 7, 7, 9, 9, 1]"
   ]
  },
  {
   "cell_type": "code",
   "execution_count": 214,
   "id": "ad57ee1f-bd3e-4dc9-ac09-05b0cefaf8ff",
   "metadata": {},
   "outputs": [],
   "source": [
    "assert out[\"min_a\"].to_list() == [3, 3, 3, 3, 2, 1]"
   ]
  },
  {
   "cell_type": "code",
   "execution_count": 215,
   "id": "ec57c41b-8682-4ff3-95a8-b457c0dcc720",
   "metadata": {},
   "outputs": [
    {
     "data": {
      "text/html": [
       "<div><style>\n",
       ".dataframe > thead > tr,\n",
       ".dataframe > tbody > tr {\n",
       "  text-align: right;\n",
       "  white-space: pre-wrap;\n",
       "}\n",
       "</style>\n",
       "<small>shape: (5, 2)</small><table border=\"1\" class=\"dataframe\"><thead><tr><th>int</th><th>value</th></tr><tr><td>i64</td><td>i64</td></tr></thead><tbody><tr><td>0</td><td>1</td></tr><tr><td>4</td><td>4</td></tr><tr><td>5</td><td>2</td></tr><tr><td>6</td><td>4</td></tr><tr><td>8</td><td>1</td></tr></tbody></table></div>"
      ],
      "text/plain": [
       "shape: (5, 2)\n",
       "┌─────┬───────┐\n",
       "│ int ┆ value │\n",
       "│ --- ┆ ---   │\n",
       "│ i64 ┆ i64   │\n",
       "╞═════╪═══════╡\n",
       "│ 0   ┆ 1     │\n",
       "│ 4   ┆ 4     │\n",
       "│ 5   ┆ 2     │\n",
       "│ 6   ┆ 4     │\n",
       "│ 8   ┆ 1     │\n",
       "└─────┴───────┘"
      ]
     },
     "execution_count": 215,
     "metadata": {},
     "output_type": "execute_result"
    }
   ],
   "source": [
    "df = pl.DataFrame({\"int\": [0, 4, 5, 6, 8], \"value\": [1, 4, 2, 4, 1]})\n",
    "df"
   ]
  },
  {
   "cell_type": "code",
   "execution_count": 216,
   "id": "9f3e4300-060e-4eca-b113-c17d574284a5",
   "metadata": {},
   "outputs": [
    {
     "data": {
      "text/html": [
       "<div><style>\n",
       ".dataframe > thead > tr,\n",
       ".dataframe > tbody > tr {\n",
       "  text-align: right;\n",
       "  white-space: pre-wrap;\n",
       "}\n",
       "</style>\n",
       "<small>shape: (5, 2)</small><table border=\"1\" class=\"dataframe\"><thead><tr><th>int</th><th>aggregated</th></tr><tr><td>i64</td><td>list[i64]</td></tr></thead><tbody><tr><td>0</td><td>[0]</td></tr><tr><td>4</td><td>[4]</td></tr><tr><td>5</td><td>[4, 5]</td></tr><tr><td>6</td><td>[4, 5, 6]</td></tr><tr><td>8</td><td>[6, 8]</td></tr></tbody></table></div>"
      ],
      "text/plain": [
       "shape: (5, 2)\n",
       "┌─────┬────────────┐\n",
       "│ int ┆ aggregated │\n",
       "│ --- ┆ ---        │\n",
       "│ i64 ┆ list[i64]  │\n",
       "╞═════╪════════════╡\n",
       "│ 0   ┆ [0]        │\n",
       "│ 4   ┆ [4]        │\n",
       "│ 5   ┆ [4, 5]     │\n",
       "│ 6   ┆ [4, 5, 6]  │\n",
       "│ 8   ┆ [6, 8]     │\n",
       "└─────┴────────────┘"
      ]
     },
     "execution_count": 216,
     "metadata": {},
     "output_type": "execute_result"
    }
   ],
   "source": [
    "df.rolling(\"int\", period=\"3i\").agg(pl.col(\"int\").alias(\"aggregated\"))"
   ]
  },
  {
   "cell_type": "markdown",
   "id": "fc0b506f-1753-4276-a686-edcedadf5525",
   "metadata": {},
   "source": [
    "## row\n",
    "Get the values of a single row, either by index or by predicate. **You should NEVER use this method to iterate over a DataFrame; if you require row-iteration you should strongly prefer use of iter_rows() instead.**"
   ]
  },
  {
   "cell_type": "code",
   "execution_count": 217,
   "id": "9f5bf29d-2a62-4283-a6c7-b171d54e7273",
   "metadata": {},
   "outputs": [
    {
     "data": {
      "text/plain": [
       "(3, 8, 'c')"
      ]
     },
     "execution_count": 217,
     "metadata": {},
     "output_type": "execute_result"
    }
   ],
   "source": [
    "df = pl.DataFrame(\n",
    "    {\n",
    "        \"foo\": [1, 2, 3],\n",
    "        \"bar\": [6, 7, 8],\n",
    "        \"ham\": [\"a\", \"b\", \"c\"],\n",
    "    }\n",
    ")\n",
    "df.row(2)"
   ]
  },
  {
   "cell_type": "code",
   "execution_count": 218,
   "id": "b8f9e579-0716-4e25-9bd0-e6922ab40fee",
   "metadata": {},
   "outputs": [
    {
     "data": {
      "text/plain": [
       "{'foo': 3, 'bar': 8, 'ham': 'c'}"
      ]
     },
     "execution_count": 218,
     "metadata": {},
     "output_type": "execute_result"
    }
   ],
   "source": [
    "df.row(2, named=True)"
   ]
  },
  {
   "cell_type": "code",
   "execution_count": 219,
   "id": "496f5657-4e72-401c-b3a9-3362a53957bc",
   "metadata": {},
   "outputs": [
    {
     "data": {
      "text/plain": [
       "(2, 7, 'b')"
      ]
     },
     "execution_count": 219,
     "metadata": {},
     "output_type": "execute_result"
    }
   ],
   "source": [
    "df.row(by_predicate=(pl.col(\"ham\") == \"b\"))"
   ]
  },
  {
   "cell_type": "markdown",
   "id": "bb24b82a-6687-4905-ae71-2811640f158d",
   "metadata": {},
   "source": [
    "## rows\n",
    "Returns all data in the DataFrame as a list of rows of python-native values. \n",
    "\n",
    "**Row-iteration is not optimal as the underlying data is stored in columnar form; where possible, prefer export via one of the dedicated export/output methods. You should also consider using iter_rows instead, to avoid materialising all the data at once; there is little performance difference between the two, but peak memory can be reduced if processing rows in batches.**"
   ]
  },
  {
   "cell_type": "code",
   "execution_count": 220,
   "id": "3a990980-00db-4d94-a4d6-29bfd51d42fa",
   "metadata": {},
   "outputs": [
    {
     "data": {
      "text/plain": [
       "[('a', 1, 0), ('b', 2, 3), ('b', 3, 6), ('a', 4, 9)]"
      ]
     },
     "execution_count": 220,
     "metadata": {},
     "output_type": "execute_result"
    }
   ],
   "source": [
    "df = pl.DataFrame(\n",
    "    {\n",
    "        \"x\": [\"a\", \"b\", \"b\", \"a\"],\n",
    "        \"y\": [1, 2, 3, 4],\n",
    "        \"z\": [0, 3, 6, 9],\n",
    "    }\n",
    ")\n",
    "df.rows()"
   ]
  },
  {
   "cell_type": "code",
   "execution_count": 221,
   "id": "cc1c3bb2-8668-461b-aea4-229d57b81821",
   "metadata": {},
   "outputs": [
    {
     "data": {
      "text/plain": [
       "[{'x': 'a', 'y': 1, 'z': 0},\n",
       " {'x': 'b', 'y': 2, 'z': 3},\n",
       " {'x': 'b', 'y': 3, 'z': 6},\n",
       " {'x': 'a', 'y': 4, 'z': 9}]"
      ]
     },
     "execution_count": 221,
     "metadata": {},
     "output_type": "execute_result"
    }
   ],
   "source": [
    "df.rows(named=True)"
   ]
  },
  {
   "cell_type": "markdown",
   "id": "30ff6478-0336-405f-914c-0728449eb09f",
   "metadata": {},
   "source": [
    "## rows_by_key"
   ]
  },
  {
   "cell_type": "code",
   "execution_count": 222,
   "id": "118eb0fa-c288-4d19-a9e8-c52bf1bb8848",
   "metadata": {},
   "outputs": [
    {
     "data": {
      "text/html": [
       "<div><style>\n",
       ".dataframe > thead > tr,\n",
       ".dataframe > tbody > tr {\n",
       "  text-align: right;\n",
       "  white-space: pre-wrap;\n",
       "}\n",
       "</style>\n",
       "<small>shape: (4, 4)</small><table border=\"1\" class=\"dataframe\"><thead><tr><th>w</th><th>x</th><th>y</th><th>z</th></tr><tr><td>str</td><td>str</td><td>f64</td><td>i64</td></tr></thead><tbody><tr><td>&quot;a&quot;</td><td>&quot;q&quot;</td><td>1.0</td><td>9</td></tr><tr><td>&quot;b&quot;</td><td>&quot;q&quot;</td><td>2.5</td><td>8</td></tr><tr><td>&quot;b&quot;</td><td>&quot;q&quot;</td><td>3.0</td><td>7</td></tr><tr><td>&quot;a&quot;</td><td>&quot;k&quot;</td><td>4.5</td><td>6</td></tr></tbody></table></div>"
      ],
      "text/plain": [
       "shape: (4, 4)\n",
       "┌─────┬─────┬─────┬─────┐\n",
       "│ w   ┆ x   ┆ y   ┆ z   │\n",
       "│ --- ┆ --- ┆ --- ┆ --- │\n",
       "│ str ┆ str ┆ f64 ┆ i64 │\n",
       "╞═════╪═════╪═════╪═════╡\n",
       "│ a   ┆ q   ┆ 1.0 ┆ 9   │\n",
       "│ b   ┆ q   ┆ 2.5 ┆ 8   │\n",
       "│ b   ┆ q   ┆ 3.0 ┆ 7   │\n",
       "│ a   ┆ k   ┆ 4.5 ┆ 6   │\n",
       "└─────┴─────┴─────┴─────┘"
      ]
     },
     "execution_count": 222,
     "metadata": {},
     "output_type": "execute_result"
    }
   ],
   "source": [
    "df = pl.DataFrame(\n",
    "    {\n",
    "        \"w\": [\"a\", \"b\", \"b\", \"a\"],\n",
    "        \"x\": [\"q\", \"q\", \"q\", \"k\"],\n",
    "        \"y\": [1.0, 2.5, 3.0, 4.5],\n",
    "        \"z\": [9, 8, 7, 6],\n",
    "    }\n",
    ")\n",
    "df"
   ]
  },
  {
   "cell_type": "code",
   "execution_count": 223,
   "id": "8c3b4abf-5759-4fc0-b785-915279d0364c",
   "metadata": {},
   "outputs": [
    {
     "data": {
      "text/plain": [
       "defaultdict(list,\n",
       "            {'a': [('q', 1.0, 9), ('k', 4.5, 6)],\n",
       "             'b': [('q', 2.5, 8), ('q', 3.0, 7)]})"
      ]
     },
     "execution_count": 223,
     "metadata": {},
     "output_type": "execute_result"
    }
   ],
   "source": [
    "df.rows_by_key(key=[\"w\"])"
   ]
  },
  {
   "cell_type": "code",
   "execution_count": 224,
   "id": "09d268bb-450f-4560-821e-0856c7108130",
   "metadata": {},
   "outputs": [
    {
     "data": {
      "text/plain": [
       "defaultdict(list,\n",
       "            {'a': [{'x': 'q', 'y': 1.0, 'z': 9}, {'x': 'k', 'y': 4.5, 'z': 6}],\n",
       "             'b': [{'x': 'q', 'y': 2.5, 'z': 8},\n",
       "              {'x': 'q', 'y': 3.0, 'z': 7}]})"
      ]
     },
     "execution_count": 224,
     "metadata": {},
     "output_type": "execute_result"
    }
   ],
   "source": [
    "df.rows_by_key(key=[\"w\"], named=True)"
   ]
  },
  {
   "cell_type": "code",
   "execution_count": 225,
   "id": "c6d70a76-b25a-42ad-9d76-ae2043902537",
   "metadata": {},
   "outputs": [
    {
     "data": {
      "text/plain": [
       "{9: ('a', 'q', 1.0),\n",
       " 8: ('b', 'q', 2.5),\n",
       " 7: ('b', 'q', 3.0),\n",
       " 6: ('a', 'k', 4.5)}"
      ]
     },
     "execution_count": 225,
     "metadata": {},
     "output_type": "execute_result"
    }
   ],
   "source": [
    "df.rows_by_key(key=[\"z\"], unique=True)"
   ]
  },
  {
   "cell_type": "code",
   "execution_count": 226,
   "id": "e67f62a7-4cbb-4629-97a0-7939f07976a5",
   "metadata": {},
   "outputs": [
    {
     "data": {
      "text/plain": [
       "{9: {'w': 'a', 'x': 'q', 'y': 1.0},\n",
       " 8: {'w': 'b', 'x': 'q', 'y': 2.5},\n",
       " 7: {'w': 'b', 'x': 'q', 'y': 3.0},\n",
       " 6: {'w': 'a', 'x': 'k', 'y': 4.5}}"
      ]
     },
     "execution_count": 226,
     "metadata": {},
     "output_type": "execute_result"
    }
   ],
   "source": [
    "df.rows_by_key(key=[\"z\"], named=True, unique=True)"
   ]
  },
  {
   "cell_type": "markdown",
   "id": "e637216d-b1c0-460d-a64a-68aa775371ab",
   "metadata": {},
   "source": [
    "## sample"
   ]
  },
  {
   "cell_type": "code",
   "execution_count": 227,
   "id": "94e71c4c-d8b7-4de7-8cbd-f74e48a8523c",
   "metadata": {},
   "outputs": [
    {
     "data": {
      "text/html": [
       "<div><style>\n",
       ".dataframe > thead > tr,\n",
       ".dataframe > tbody > tr {\n",
       "  text-align: right;\n",
       "  white-space: pre-wrap;\n",
       "}\n",
       "</style>\n",
       "<small>shape: (2, 3)</small><table border=\"1\" class=\"dataframe\"><thead><tr><th>foo</th><th>bar</th><th>ham</th></tr><tr><td>i64</td><td>i64</td><td>str</td></tr></thead><tbody><tr><td>1</td><td>6</td><td>&quot;a&quot;</td></tr><tr><td>3</td><td>8</td><td>&quot;c&quot;</td></tr></tbody></table></div>"
      ],
      "text/plain": [
       "shape: (2, 3)\n",
       "┌─────┬─────┬─────┐\n",
       "│ foo ┆ bar ┆ ham │\n",
       "│ --- ┆ --- ┆ --- │\n",
       "│ i64 ┆ i64 ┆ str │\n",
       "╞═════╪═════╪═════╡\n",
       "│ 1   ┆ 6   ┆ a   │\n",
       "│ 3   ┆ 8   ┆ c   │\n",
       "└─────┴─────┴─────┘"
      ]
     },
     "execution_count": 227,
     "metadata": {},
     "output_type": "execute_result"
    }
   ],
   "source": [
    "df = pl.DataFrame(\n",
    "    {\n",
    "        \"foo\": [1, 2, 3],\n",
    "        \"bar\": [6, 7, 8],\n",
    "        \"ham\": [\"a\", \"b\", \"c\"],\n",
    "    }\n",
    ")\n",
    "df.sample(n=2, seed=42)  "
   ]
  },
  {
   "cell_type": "markdown",
   "id": "9b8065db-af45-4e66-90c4-3166075df5a0",
   "metadata": {},
   "source": [
    "## schema"
   ]
  },
  {
   "cell_type": "code",
   "execution_count": 228,
   "id": "5ce79372-7996-4956-a384-28fc18e2fbaf",
   "metadata": {},
   "outputs": [
    {
     "data": {
      "text/plain": [
       "Schema([('foo', Int64), ('bar', Float64), ('ham', String)])"
      ]
     },
     "execution_count": 228,
     "metadata": {},
     "output_type": "execute_result"
    }
   ],
   "source": [
    "df = pl.DataFrame(\n",
    "    {\n",
    "        \"foo\": [1, 2, 3],\n",
    "        \"bar\": [6.0, 7.0, 8.0],\n",
    "        \"ham\": [\"a\", \"b\", \"c\"],\n",
    "    }\n",
    ")\n",
    "df.schema"
   ]
  },
  {
   "cell_type": "markdown",
   "id": "4edc7e28-4d37-4937-b62a-85393603392e",
   "metadata": {},
   "source": [
    "## select"
   ]
  },
  {
   "cell_type": "code",
   "execution_count": 229,
   "id": "bb98c1df-23bd-40af-9097-f8a0ea774972",
   "metadata": {},
   "outputs": [
    {
     "data": {
      "text/html": [
       "<div><style>\n",
       ".dataframe > thead > tr,\n",
       ".dataframe > tbody > tr {\n",
       "  text-align: right;\n",
       "  white-space: pre-wrap;\n",
       "}\n",
       "</style>\n",
       "<small>shape: (3, 3)</small><table border=\"1\" class=\"dataframe\"><thead><tr><th>foo</th><th>bar</th><th>ham</th></tr><tr><td>i64</td><td>i64</td><td>str</td></tr></thead><tbody><tr><td>1</td><td>6</td><td>&quot;a&quot;</td></tr><tr><td>2</td><td>7</td><td>&quot;b&quot;</td></tr><tr><td>3</td><td>8</td><td>&quot;c&quot;</td></tr></tbody></table></div>"
      ],
      "text/plain": [
       "shape: (3, 3)\n",
       "┌─────┬─────┬─────┐\n",
       "│ foo ┆ bar ┆ ham │\n",
       "│ --- ┆ --- ┆ --- │\n",
       "│ i64 ┆ i64 ┆ str │\n",
       "╞═════╪═════╪═════╡\n",
       "│ 1   ┆ 6   ┆ a   │\n",
       "│ 2   ┆ 7   ┆ b   │\n",
       "│ 3   ┆ 8   ┆ c   │\n",
       "└─────┴─────┴─────┘"
      ]
     },
     "execution_count": 229,
     "metadata": {},
     "output_type": "execute_result"
    }
   ],
   "source": [
    "df = pl.DataFrame(\n",
    "    {\n",
    "        \"foo\": [1, 2, 3],\n",
    "        \"bar\": [6, 7, 8],\n",
    "        \"ham\": [\"a\", \"b\", \"c\"],\n",
    "    }\n",
    ")\n",
    "df\n"
   ]
  },
  {
   "cell_type": "code",
   "execution_count": 230,
   "id": "17b90d75-e76b-4256-bf7f-11a1213153e3",
   "metadata": {},
   "outputs": [
    {
     "data": {
      "text/html": [
       "<div><style>\n",
       ".dataframe > thead > tr,\n",
       ".dataframe > tbody > tr {\n",
       "  text-align: right;\n",
       "  white-space: pre-wrap;\n",
       "}\n",
       "</style>\n",
       "<small>shape: (3, 1)</small><table border=\"1\" class=\"dataframe\"><thead><tr><th>foo</th></tr><tr><td>i64</td></tr></thead><tbody><tr><td>1</td></tr><tr><td>2</td></tr><tr><td>3</td></tr></tbody></table></div>"
      ],
      "text/plain": [
       "shape: (3, 1)\n",
       "┌─────┐\n",
       "│ foo │\n",
       "│ --- │\n",
       "│ i64 │\n",
       "╞═════╡\n",
       "│ 1   │\n",
       "│ 2   │\n",
       "│ 3   │\n",
       "└─────┘"
      ]
     },
     "execution_count": 230,
     "metadata": {},
     "output_type": "execute_result"
    }
   ],
   "source": [
    "df.select(\"foo\")"
   ]
  },
  {
   "cell_type": "code",
   "execution_count": 231,
   "id": "4d9d2c4d-6dbb-4cca-b862-9a62f2ac983c",
   "metadata": {},
   "outputs": [
    {
     "data": {
      "text/html": [
       "<div><style>\n",
       ".dataframe > thead > tr,\n",
       ".dataframe > tbody > tr {\n",
       "  text-align: right;\n",
       "  white-space: pre-wrap;\n",
       "}\n",
       "</style>\n",
       "<small>shape: (3, 1)</small><table border=\"1\" class=\"dataframe\"><thead><tr><th>foo</th></tr><tr><td>i64</td></tr></thead><tbody><tr><td>1</td></tr><tr><td>2</td></tr><tr><td>3</td></tr></tbody></table></div>"
      ],
      "text/plain": [
       "shape: (3, 1)\n",
       "┌─────┐\n",
       "│ foo │\n",
       "│ --- │\n",
       "│ i64 │\n",
       "╞═════╡\n",
       "│ 1   │\n",
       "│ 2   │\n",
       "│ 3   │\n",
       "└─────┘"
      ]
     },
     "execution_count": 231,
     "metadata": {},
     "output_type": "execute_result"
    }
   ],
   "source": [
    "df = pl.DataFrame(\n",
    "    {\n",
    "        \"foo\": [1, 2, 3],\n",
    "        \"bar\": [6, 7, 8],\n",
    "        \"ham\": [\"a\", \"b\", \"c\"],\n",
    "    }\n",
    ")\n",
    "df.select(\"foo\")"
   ]
  },
  {
   "cell_type": "code",
   "execution_count": 232,
   "id": "0fe54b5f-f1e5-4da7-a603-a20952451fba",
   "metadata": {},
   "outputs": [
    {
     "data": {
      "text/html": [
       "<div><style>\n",
       ".dataframe > thead > tr,\n",
       ".dataframe > tbody > tr {\n",
       "  text-align: right;\n",
       "  white-space: pre-wrap;\n",
       "}\n",
       "</style>\n",
       "<small>shape: (3, 2)</small><table border=\"1\" class=\"dataframe\"><thead><tr><th>foo</th><th>bar</th></tr><tr><td>i64</td><td>i64</td></tr></thead><tbody><tr><td>1</td><td>7</td></tr><tr><td>2</td><td>8</td></tr><tr><td>3</td><td>9</td></tr></tbody></table></div>"
      ],
      "text/plain": [
       "shape: (3, 2)\n",
       "┌─────┬─────┐\n",
       "│ foo ┆ bar │\n",
       "│ --- ┆ --- │\n",
       "│ i64 ┆ i64 │\n",
       "╞═════╪═════╡\n",
       "│ 1   ┆ 7   │\n",
       "│ 2   ┆ 8   │\n",
       "│ 3   ┆ 9   │\n",
       "└─────┴─────┘"
      ]
     },
     "execution_count": 232,
     "metadata": {},
     "output_type": "execute_result"
    }
   ],
   "source": [
    "df.select(pl.col(\"foo\"), pl.col(\"bar\") + 1)"
   ]
  },
  {
   "cell_type": "code",
   "execution_count": 233,
   "id": "1fedc28c-cdd4-4b74-b0ac-e532c06944c1",
   "metadata": {},
   "outputs": [
    {
     "data": {
      "text/html": [
       "<div><style>\n",
       ".dataframe > thead > tr,\n",
       ".dataframe > tbody > tr {\n",
       "  text-align: right;\n",
       "  white-space: pre-wrap;\n",
       "}\n",
       "</style>\n",
       "<small>shape: (3, 1)</small><table border=\"1\" class=\"dataframe\"><thead><tr><th>threshold</th></tr><tr><td>i32</td></tr></thead><tbody><tr><td>0</td></tr><tr><td>0</td></tr><tr><td>10</td></tr></tbody></table></div>"
      ],
      "text/plain": [
       "shape: (3, 1)\n",
       "┌───────────┐\n",
       "│ threshold │\n",
       "│ ---       │\n",
       "│ i32       │\n",
       "╞═══════════╡\n",
       "│ 0         │\n",
       "│ 0         │\n",
       "│ 10        │\n",
       "└───────────┘"
      ]
     },
     "execution_count": 233,
     "metadata": {},
     "output_type": "execute_result"
    }
   ],
   "source": [
    "df.select(threshold=pl.when(pl.col(\"foo\") > 2).then(10).otherwise(0))"
   ]
  },
  {
   "cell_type": "markdown",
   "id": "e5cb2551-5565-4236-adcb-b90f0d657e30",
   "metadata": {},
   "source": [
    "## set_sorted\n",
    "Indicate that one or multiple columns are sorted. **This can lead to incorrect results if the data is NOT sorted!! Use with care!**"
   ]
  },
  {
   "cell_type": "markdown",
   "id": "79feefcf-4648-4a34-b032-5fbbc308ac56",
   "metadata": {},
   "source": [
    "## shape"
   ]
  },
  {
   "cell_type": "code",
   "execution_count": 234,
   "id": "1ef2acea-1585-4e74-a52e-aeea3d76b354",
   "metadata": {},
   "outputs": [
    {
     "data": {
      "text/plain": [
       "(3, 3)"
      ]
     },
     "execution_count": 234,
     "metadata": {},
     "output_type": "execute_result"
    }
   ],
   "source": [
    "df.shape"
   ]
  },
  {
   "cell_type": "markdown",
   "id": "35963c5b-91f4-418b-a3db-cf696e3c6da4",
   "metadata": {},
   "source": [
    "## shift"
   ]
  },
  {
   "cell_type": "code",
   "execution_count": 235,
   "id": "11e81cc2-304d-4cfe-b491-8caa6eb67352",
   "metadata": {},
   "outputs": [
    {
     "data": {
      "text/html": [
       "<div><style>\n",
       ".dataframe > thead > tr,\n",
       ".dataframe > tbody > tr {\n",
       "  text-align: right;\n",
       "  white-space: pre-wrap;\n",
       "}\n",
       "</style>\n",
       "<small>shape: (4, 2)</small><table border=\"1\" class=\"dataframe\"><thead><tr><th>a</th><th>b</th></tr><tr><td>i64</td><td>i64</td></tr></thead><tbody><tr><td>null</td><td>null</td></tr><tr><td>1</td><td>5</td></tr><tr><td>2</td><td>6</td></tr><tr><td>3</td><td>7</td></tr></tbody></table></div>"
      ],
      "text/plain": [
       "shape: (4, 2)\n",
       "┌──────┬──────┐\n",
       "│ a    ┆ b    │\n",
       "│ ---  ┆ ---  │\n",
       "│ i64  ┆ i64  │\n",
       "╞══════╪══════╡\n",
       "│ null ┆ null │\n",
       "│ 1    ┆ 5    │\n",
       "│ 2    ┆ 6    │\n",
       "│ 3    ┆ 7    │\n",
       "└──────┴──────┘"
      ]
     },
     "execution_count": 235,
     "metadata": {},
     "output_type": "execute_result"
    }
   ],
   "source": [
    "df = pl.DataFrame(\n",
    "    {\n",
    "        \"a\": [1, 2, 3, 4],\n",
    "        \"b\": [5, 6, 7, 8],\n",
    "    }\n",
    ")\n",
    "df.shift()"
   ]
  },
  {
   "cell_type": "code",
   "execution_count": 236,
   "id": "77846f7f-0883-4f90-b164-5c5324525dee",
   "metadata": {},
   "outputs": [
    {
     "data": {
      "text/html": [
       "<div><style>\n",
       ".dataframe > thead > tr,\n",
       ".dataframe > tbody > tr {\n",
       "  text-align: right;\n",
       "  white-space: pre-wrap;\n",
       "}\n",
       "</style>\n",
       "<small>shape: (4, 2)</small><table border=\"1\" class=\"dataframe\"><thead><tr><th>a</th><th>b</th></tr><tr><td>i64</td><td>i64</td></tr></thead><tbody><tr><td>3</td><td>7</td></tr><tr><td>4</td><td>8</td></tr><tr><td>null</td><td>null</td></tr><tr><td>null</td><td>null</td></tr></tbody></table></div>"
      ],
      "text/plain": [
       "shape: (4, 2)\n",
       "┌──────┬──────┐\n",
       "│ a    ┆ b    │\n",
       "│ ---  ┆ ---  │\n",
       "│ i64  ┆ i64  │\n",
       "╞══════╪══════╡\n",
       "│ 3    ┆ 7    │\n",
       "│ 4    ┆ 8    │\n",
       "│ null ┆ null │\n",
       "│ null ┆ null │\n",
       "└──────┴──────┘"
      ]
     },
     "execution_count": 236,
     "metadata": {},
     "output_type": "execute_result"
    }
   ],
   "source": [
    "df.shift(-2)"
   ]
  },
  {
   "cell_type": "code",
   "execution_count": 237,
   "id": "2488c31f-6cce-4c34-8d98-08b6c189ae96",
   "metadata": {},
   "outputs": [
    {
     "data": {
      "text/html": [
       "<div><style>\n",
       ".dataframe > thead > tr,\n",
       ".dataframe > tbody > tr {\n",
       "  text-align: right;\n",
       "  white-space: pre-wrap;\n",
       "}\n",
       "</style>\n",
       "<small>shape: (4, 2)</small><table border=\"1\" class=\"dataframe\"><thead><tr><th>a</th><th>b</th></tr><tr><td>i64</td><td>i64</td></tr></thead><tbody><tr><td>3</td><td>7</td></tr><tr><td>4</td><td>8</td></tr><tr><td>100</td><td>100</td></tr><tr><td>100</td><td>100</td></tr></tbody></table></div>"
      ],
      "text/plain": [
       "shape: (4, 2)\n",
       "┌─────┬─────┐\n",
       "│ a   ┆ b   │\n",
       "│ --- ┆ --- │\n",
       "│ i64 ┆ i64 │\n",
       "╞═════╪═════╡\n",
       "│ 3   ┆ 7   │\n",
       "│ 4   ┆ 8   │\n",
       "│ 100 ┆ 100 │\n",
       "│ 100 ┆ 100 │\n",
       "└─────┴─────┘"
      ]
     },
     "execution_count": 237,
     "metadata": {},
     "output_type": "execute_result"
    }
   ],
   "source": [
    "df.shift(-2, fill_value=100)"
   ]
  },
  {
   "cell_type": "markdown",
   "id": "27a63f7e-e22b-46f4-93a7-b5c61882b444",
   "metadata": {},
   "source": [
    "## slice"
   ]
  },
  {
   "cell_type": "code",
   "execution_count": 238,
   "id": "67b3d590-fcac-4568-bfef-0099130add63",
   "metadata": {},
   "outputs": [
    {
     "data": {
      "text/html": [
       "<div><style>\n",
       ".dataframe > thead > tr,\n",
       ".dataframe > tbody > tr {\n",
       "  text-align: right;\n",
       "  white-space: pre-wrap;\n",
       "}\n",
       "</style>\n",
       "<small>shape: (2, 3)</small><table border=\"1\" class=\"dataframe\"><thead><tr><th>foo</th><th>bar</th><th>ham</th></tr><tr><td>i64</td><td>f64</td><td>str</td></tr></thead><tbody><tr><td>2</td><td>7.0</td><td>&quot;b&quot;</td></tr><tr><td>3</td><td>8.0</td><td>&quot;c&quot;</td></tr></tbody></table></div>"
      ],
      "text/plain": [
       "shape: (2, 3)\n",
       "┌─────┬─────┬─────┐\n",
       "│ foo ┆ bar ┆ ham │\n",
       "│ --- ┆ --- ┆ --- │\n",
       "│ i64 ┆ f64 ┆ str │\n",
       "╞═════╪═════╪═════╡\n",
       "│ 2   ┆ 7.0 ┆ b   │\n",
       "│ 3   ┆ 8.0 ┆ c   │\n",
       "└─────┴─────┴─────┘"
      ]
     },
     "execution_count": 238,
     "metadata": {},
     "output_type": "execute_result"
    }
   ],
   "source": [
    "df = pl.DataFrame(\n",
    "    {\n",
    "        \"foo\": [1, 2, 3],\n",
    "        \"bar\": [6.0, 7.0, 8.0],\n",
    "        \"ham\": [\"a\", \"b\", \"c\"],\n",
    "    }\n",
    ")\n",
    "df.slice(1, 2)"
   ]
  },
  {
   "cell_type": "markdown",
   "id": "b262f1c3-5397-483a-bb23-f2f3dab08c19",
   "metadata": {},
   "source": [
    "## sort"
   ]
  },
  {
   "cell_type": "code",
   "execution_count": 239,
   "id": "8ed56b89-e8dd-49f4-9f29-4ee0e8d1eb7b",
   "metadata": {},
   "outputs": [
    {
     "data": {
      "text/html": [
       "<div><style>\n",
       ".dataframe > thead > tr,\n",
       ".dataframe > tbody > tr {\n",
       "  text-align: right;\n",
       "  white-space: pre-wrap;\n",
       "}\n",
       "</style>\n",
       "<small>shape: (3, 3)</small><table border=\"1\" class=\"dataframe\"><thead><tr><th>a</th><th>b</th><th>c</th></tr><tr><td>i64</td><td>f64</td><td>str</td></tr></thead><tbody><tr><td>null</td><td>4.0</td><td>&quot;b&quot;</td></tr><tr><td>1</td><td>6.0</td><td>&quot;a&quot;</td></tr><tr><td>2</td><td>5.0</td><td>&quot;c&quot;</td></tr></tbody></table></div>"
      ],
      "text/plain": [
       "shape: (3, 3)\n",
       "┌──────┬─────┬─────┐\n",
       "│ a    ┆ b   ┆ c   │\n",
       "│ ---  ┆ --- ┆ --- │\n",
       "│ i64  ┆ f64 ┆ str │\n",
       "╞══════╪═════╪═════╡\n",
       "│ null ┆ 4.0 ┆ b   │\n",
       "│ 1    ┆ 6.0 ┆ a   │\n",
       "│ 2    ┆ 5.0 ┆ c   │\n",
       "└──────┴─────┴─────┘"
      ]
     },
     "execution_count": 239,
     "metadata": {},
     "output_type": "execute_result"
    }
   ],
   "source": [
    "df = pl.DataFrame(\n",
    "    {\n",
    "        \"a\": [1, 2, None],\n",
    "        \"b\": [6.0, 5.0, 4.0],\n",
    "        \"c\": [\"a\", \"c\", \"b\"],\n",
    "    }\n",
    ")\n",
    "df.sort(\"a\")"
   ]
  },
  {
   "cell_type": "code",
   "execution_count": 240,
   "id": "957524ab-9d6c-4395-b3ae-75f6b7f0567b",
   "metadata": {},
   "outputs": [
    {
     "data": {
      "text/html": [
       "<div><style>\n",
       ".dataframe > thead > tr,\n",
       ".dataframe > tbody > tr {\n",
       "  text-align: right;\n",
       "  white-space: pre-wrap;\n",
       "}\n",
       "</style>\n",
       "<small>shape: (3, 3)</small><table border=\"1\" class=\"dataframe\"><thead><tr><th>a</th><th>b</th><th>c</th></tr><tr><td>i64</td><td>f64</td><td>str</td></tr></thead><tbody><tr><td>2</td><td>5.0</td><td>&quot;c&quot;</td></tr><tr><td>1</td><td>6.0</td><td>&quot;a&quot;</td></tr><tr><td>null</td><td>4.0</td><td>&quot;b&quot;</td></tr></tbody></table></div>"
      ],
      "text/plain": [
       "shape: (3, 3)\n",
       "┌──────┬─────┬─────┐\n",
       "│ a    ┆ b   ┆ c   │\n",
       "│ ---  ┆ --- ┆ --- │\n",
       "│ i64  ┆ f64 ┆ str │\n",
       "╞══════╪═════╪═════╡\n",
       "│ 2    ┆ 5.0 ┆ c   │\n",
       "│ 1    ┆ 6.0 ┆ a   │\n",
       "│ null ┆ 4.0 ┆ b   │\n",
       "└──────┴─────┴─────┘"
      ]
     },
     "execution_count": 240,
     "metadata": {},
     "output_type": "execute_result"
    }
   ],
   "source": [
    "df.sort(pl.col(\"a\") + pl.col(\"b\") * 2, nulls_last=True)"
   ]
  },
  {
   "cell_type": "code",
   "execution_count": 241,
   "id": "19e060fb-5a54-4daf-9d08-9e884ccb1141",
   "metadata": {},
   "outputs": [
    {
     "data": {
      "text/html": [
       "<div><style>\n",
       ".dataframe > thead > tr,\n",
       ".dataframe > tbody > tr {\n",
       "  text-align: right;\n",
       "  white-space: pre-wrap;\n",
       "}\n",
       "</style>\n",
       "<small>shape: (3, 3)</small><table border=\"1\" class=\"dataframe\"><thead><tr><th>a</th><th>b</th><th>c</th></tr><tr><td>i64</td><td>f64</td><td>str</td></tr></thead><tbody><tr><td>2</td><td>5.0</td><td>&quot;c&quot;</td></tr><tr><td>null</td><td>4.0</td><td>&quot;b&quot;</td></tr><tr><td>1</td><td>6.0</td><td>&quot;a&quot;</td></tr></tbody></table></div>"
      ],
      "text/plain": [
       "shape: (3, 3)\n",
       "┌──────┬─────┬─────┐\n",
       "│ a    ┆ b   ┆ c   │\n",
       "│ ---  ┆ --- ┆ --- │\n",
       "│ i64  ┆ f64 ┆ str │\n",
       "╞══════╪═════╪═════╡\n",
       "│ 2    ┆ 5.0 ┆ c   │\n",
       "│ null ┆ 4.0 ┆ b   │\n",
       "│ 1    ┆ 6.0 ┆ a   │\n",
       "└──────┴─────┴─────┘"
      ]
     },
     "execution_count": 241,
     "metadata": {},
     "output_type": "execute_result"
    }
   ],
   "source": [
    "df.sort([\"c\", \"a\"], descending=True)"
   ]
  },
  {
   "cell_type": "code",
   "execution_count": 242,
   "id": "0d6ad820-d8af-4445-a02c-8ce90543435a",
   "metadata": {},
   "outputs": [
    {
     "data": {
      "text/html": [
       "<div><style>\n",
       ".dataframe > thead > tr,\n",
       ".dataframe > tbody > tr {\n",
       "  text-align: right;\n",
       "  white-space: pre-wrap;\n",
       "}\n",
       "</style>\n",
       "<small>shape: (3, 3)</small><table border=\"1\" class=\"dataframe\"><thead><tr><th>a</th><th>b</th><th>c</th></tr><tr><td>i64</td><td>f64</td><td>str</td></tr></thead><tbody><tr><td>1</td><td>6.0</td><td>&quot;a&quot;</td></tr><tr><td>null</td><td>4.0</td><td>&quot;b&quot;</td></tr><tr><td>2</td><td>5.0</td><td>&quot;c&quot;</td></tr></tbody></table></div>"
      ],
      "text/plain": [
       "shape: (3, 3)\n",
       "┌──────┬─────┬─────┐\n",
       "│ a    ┆ b   ┆ c   │\n",
       "│ ---  ┆ --- ┆ --- │\n",
       "│ i64  ┆ f64 ┆ str │\n",
       "╞══════╪═════╪═════╡\n",
       "│ 1    ┆ 6.0 ┆ a   │\n",
       "│ null ┆ 4.0 ┆ b   │\n",
       "│ 2    ┆ 5.0 ┆ c   │\n",
       "└──────┴─────┴─────┘"
      ]
     },
     "execution_count": 242,
     "metadata": {},
     "output_type": "execute_result"
    }
   ],
   "source": [
    "df.sort(\"c\", \"a\", descending=[False, True])"
   ]
  },
  {
   "cell_type": "markdown",
   "id": "9cad11da-96d9-468f-a3d2-49215668ddc9",
   "metadata": {},
   "source": [
    "## sql\n",
    "** es medio inestable esto **"
   ]
  },
  {
   "cell_type": "code",
   "execution_count": 243,
   "id": "c2987d0c-26d6-4d23-b6e2-5a8dc40cb18a",
   "metadata": {},
   "outputs": [
    {
     "data": {
      "text/html": [
       "<div><style>\n",
       ".dataframe > thead > tr,\n",
       ".dataframe > tbody > tr {\n",
       "  text-align: right;\n",
       "  white-space: pre-wrap;\n",
       "}\n",
       "</style>\n",
       "<small>shape: (3, 3)</small><table border=\"1\" class=\"dataframe\"><thead><tr><th>a</th><th>b</th><th>c</th></tr><tr><td>i64</td><td>str</td><td>date</td></tr></thead><tbody><tr><td>1</td><td>&quot;zz&quot;</td><td>1999-12-31</td></tr><tr><td>2</td><td>&quot;yy&quot;</td><td>2010-10-10</td></tr><tr><td>3</td><td>&quot;xx&quot;</td><td>2077-08-08</td></tr></tbody></table></div>"
      ],
      "text/plain": [
       "shape: (3, 3)\n",
       "┌─────┬─────┬────────────┐\n",
       "│ a   ┆ b   ┆ c          │\n",
       "│ --- ┆ --- ┆ ---        │\n",
       "│ i64 ┆ str ┆ date       │\n",
       "╞═════╪═════╪════════════╡\n",
       "│ 1   ┆ zz  ┆ 1999-12-31 │\n",
       "│ 2   ┆ yy  ┆ 2010-10-10 │\n",
       "│ 3   ┆ xx  ┆ 2077-08-08 │\n",
       "└─────┴─────┴────────────┘"
      ]
     },
     "execution_count": 243,
     "metadata": {},
     "output_type": "execute_result"
    }
   ],
   "source": [
    "from datetime import date\n",
    "df1 = pl.DataFrame(\n",
    "    {\n",
    "        \"a\": [1, 2, 3],\n",
    "        \"b\": [\"zz\", \"yy\", \"xx\"],\n",
    "        \"c\": [date(1999, 12, 31), date(2010, 10, 10), date(2077, 8, 8)],\n",
    "    }\n",
    ")\n",
    "df1"
   ]
  },
  {
   "cell_type": "code",
   "execution_count": 244,
   "id": "400f8111-80b9-4a63-956f-15aaa8ea2562",
   "metadata": {},
   "outputs": [
    {
     "data": {
      "text/html": [
       "<div><style>\n",
       ".dataframe > thead > tr,\n",
       ".dataframe > tbody > tr {\n",
       "  text-align: right;\n",
       "  white-space: pre-wrap;\n",
       "}\n",
       "</style>\n",
       "<small>shape: (2, 2)</small><table border=\"1\" class=\"dataframe\"><thead><tr><th>c</th><th>b</th></tr><tr><td>date</td><td>str</td></tr></thead><tbody><tr><td>2010-10-10</td><td>&quot;yy&quot;</td></tr><tr><td>2077-08-08</td><td>&quot;xx&quot;</td></tr></tbody></table></div>"
      ],
      "text/plain": [
       "shape: (2, 2)\n",
       "┌────────────┬─────┐\n",
       "│ c          ┆ b   │\n",
       "│ ---        ┆ --- │\n",
       "│ date       ┆ str │\n",
       "╞════════════╪═════╡\n",
       "│ 2010-10-10 ┆ yy  │\n",
       "│ 2077-08-08 ┆ xx  │\n",
       "└────────────┴─────┘"
      ]
     },
     "execution_count": 244,
     "metadata": {},
     "output_type": "execute_result"
    }
   ],
   "source": [
    "df1.sql(\"SELECT c, b FROM self WHERE a > 1\")"
   ]
  },
  {
   "cell_type": "code",
   "execution_count": 245,
   "id": "b5047f27-a4ac-4ad9-b391-1306b3c3b75a",
   "metadata": {},
   "outputs": [
    {
     "data": {
      "text/html": [
       "<div><style>\n",
       ".dataframe > thead > tr,\n",
       ".dataframe > tbody > tr {\n",
       "  text-align: right;\n",
       "  white-space: pre-wrap;\n",
       "}\n",
       "</style>\n",
       "<small>shape: (3, 5)</small><table border=\"1\" class=\"dataframe\"><thead><tr><th>a</th><th>a_is_even</th><th>b_b</th><th>year</th><th>zero</th></tr><tr><td>i64</td><td>bool</td><td>str</td><td>i32</td><td>f32</td></tr></thead><tbody><tr><td>1</td><td>false</td><td>&quot;zz:zz&quot;</td><td>1999</td><td>0.0</td></tr><tr><td>2</td><td>true</td><td>&quot;yy:yy&quot;</td><td>2010</td><td>0.0</td></tr><tr><td>3</td><td>false</td><td>&quot;xx:xx&quot;</td><td>2077</td><td>0.0</td></tr></tbody></table></div>"
      ],
      "text/plain": [
       "shape: (3, 5)\n",
       "┌─────┬───────────┬───────┬──────┬──────┐\n",
       "│ a   ┆ a_is_even ┆ b_b   ┆ year ┆ zero │\n",
       "│ --- ┆ ---       ┆ ---   ┆ ---  ┆ ---  │\n",
       "│ i64 ┆ bool      ┆ str   ┆ i32  ┆ f32  │\n",
       "╞═════╪═══════════╪═══════╪══════╪══════╡\n",
       "│ 1   ┆ false     ┆ zz:zz ┆ 1999 ┆ 0.0  │\n",
       "│ 2   ┆ true      ┆ yy:yy ┆ 2010 ┆ 0.0  │\n",
       "│ 3   ┆ false     ┆ xx:xx ┆ 2077 ┆ 0.0  │\n",
       "└─────┴───────────┴───────┴──────┴──────┘"
      ]
     },
     "execution_count": 245,
     "metadata": {},
     "output_type": "execute_result"
    }
   ],
   "source": [
    "df1.sql(\n",
    "    query='''\n",
    "        SELECT\n",
    "            a,\n",
    "            (a % 2 == 0) AS a_is_even,\n",
    "            CONCAT_WS(':', b, b) AS b_b,\n",
    "            EXTRACT(year FROM c) AS year,\n",
    "            0::float4 AS \"zero\",\n",
    "        FROM frame\n",
    "    ''',\n",
    "    table_name=\"frame\",\n",
    ")"
   ]
  },
  {
   "cell_type": "markdown",
   "id": "4cbce35e-13e5-444b-a880-8c239d2e0e91",
   "metadata": {},
   "source": [
    "## std"
   ]
  },
  {
   "cell_type": "code",
   "execution_count": 246,
   "id": "8fdfa221-98cb-471e-8523-f329f9286f3a",
   "metadata": {},
   "outputs": [
    {
     "data": {
      "text/html": [
       "<div><style>\n",
       ".dataframe > thead > tr,\n",
       ".dataframe > tbody > tr {\n",
       "  text-align: right;\n",
       "  white-space: pre-wrap;\n",
       "}\n",
       "</style>\n",
       "<small>shape: (1, 3)</small><table border=\"1\" class=\"dataframe\"><thead><tr><th>foo</th><th>bar</th><th>ham</th></tr><tr><td>f64</td><td>f64</td><td>str</td></tr></thead><tbody><tr><td>1.0</td><td>1.0</td><td>null</td></tr></tbody></table></div>"
      ],
      "text/plain": [
       "shape: (1, 3)\n",
       "┌─────┬─────┬──────┐\n",
       "│ foo ┆ bar ┆ ham  │\n",
       "│ --- ┆ --- ┆ ---  │\n",
       "│ f64 ┆ f64 ┆ str  │\n",
       "╞═════╪═════╪══════╡\n",
       "│ 1.0 ┆ 1.0 ┆ null │\n",
       "└─────┴─────┴──────┘"
      ]
     },
     "execution_count": 246,
     "metadata": {},
     "output_type": "execute_result"
    }
   ],
   "source": [
    "df = pl.DataFrame(\n",
    "    {\n",
    "        \"foo\": [1, 2, 3],\n",
    "        \"bar\": [6, 7, 8],\n",
    "        \"ham\": [\"a\", \"b\", \"c\"],\n",
    "    }\n",
    ")\n",
    "df.std()"
   ]
  },
  {
   "cell_type": "code",
   "execution_count": 247,
   "id": "c9163869-562f-43ef-a18e-30514c5a386a",
   "metadata": {},
   "outputs": [
    {
     "data": {
      "text/html": [
       "<div><style>\n",
       ".dataframe > thead > tr,\n",
       ".dataframe > tbody > tr {\n",
       "  text-align: right;\n",
       "  white-space: pre-wrap;\n",
       "}\n",
       "</style>\n",
       "<small>shape: (1, 3)</small><table border=\"1\" class=\"dataframe\"><thead><tr><th>foo</th><th>bar</th><th>ham</th></tr><tr><td>f64</td><td>f64</td><td>str</td></tr></thead><tbody><tr><td>0.816497</td><td>0.816497</td><td>null</td></tr></tbody></table></div>"
      ],
      "text/plain": [
       "shape: (1, 3)\n",
       "┌──────────┬──────────┬──────┐\n",
       "│ foo      ┆ bar      ┆ ham  │\n",
       "│ ---      ┆ ---      ┆ ---  │\n",
       "│ f64      ┆ f64      ┆ str  │\n",
       "╞══════════╪══════════╪══════╡\n",
       "│ 0.816497 ┆ 0.816497 ┆ null │\n",
       "└──────────┴──────────┴──────┘"
      ]
     },
     "execution_count": 247,
     "metadata": {},
     "output_type": "execute_result"
    }
   ],
   "source": [
    "df.std(ddof=0) #“Delta Degrees of Freedom”: the divisor used in the calculation is N - ddof, where N represents the number of elements. By default ddof is 1."
   ]
  },
  {
   "cell_type": "markdown",
   "id": "fb4b9b76-6ab8-487a-9364-70b932502d98",
   "metadata": {},
   "source": [
    "## style"
   ]
  },
  {
   "cell_type": "code",
   "execution_count": 248,
   "id": "e6452827-70f9-4451-bb81-778a5ff82ee1",
   "metadata": {},
   "outputs": [],
   "source": [
    "import polars.selectors as cs\n",
    "from great_tables import loc, style\n",
    "df = pl.DataFrame(\n",
    "    {\n",
    "        \"site_id\": [0, 1, 2],\n",
    "        \"measure_a\": [5, 4, 6],\n",
    "        \"measure_b\": [7, 3, 3],\n",
    "    }\n",
    ")"
   ]
  },
  {
   "cell_type": "code",
   "execution_count": 249,
   "id": "60ae2602-69a5-4ae2-b69b-cd2ea476cd67",
   "metadata": {},
   "outputs": [
    {
     "data": {
      "text/html": [
       "<div id=\"oayafywzfn\" style=\"padding-left:0px;padding-right:0px;padding-top:10px;padding-bottom:10px;overflow-x:auto;overflow-y:auto;width:auto;height:auto;\">\n",
       "<style>\n",
       "#oayafywzfn table {\n",
       "          font-family: -apple-system, BlinkMacSystemFont, 'Segoe UI', Roboto, Oxygen, Ubuntu, Cantarell, 'Helvetica Neue', 'Fira Sans', 'Droid Sans', Arial, sans-serif;\n",
       "          -webkit-font-smoothing: antialiased;\n",
       "          -moz-osx-font-smoothing: grayscale;\n",
       "        }\n",
       "\n",
       "#oayafywzfn thead, tbody, tfoot, tr, td, th { border-style: none; }\n",
       " tr { background-color: transparent; }\n",
       "#oayafywzfn p { margin: 0; padding: 0; }\n",
       " #oayafywzfn .gt_table { display: table; border-collapse: collapse; line-height: normal; margin-left: auto; margin-right: auto; color: #333333; font-size: 16px; font-weight: normal; font-style: normal; background-color: #FFFFFF; width: auto; border-top-style: solid; border-top-width: 2px; border-top-color: #A8A8A8; border-right-style: none; border-right-width: 2px; border-right-color: #D3D3D3; border-bottom-style: solid; border-bottom-width: 2px; border-bottom-color: #A8A8A8; border-left-style: none; border-left-width: 2px; border-left-color: #D3D3D3; }\n",
       " #oayafywzfn .gt_caption { padding-top: 4px; padding-bottom: 4px; }\n",
       " #oayafywzfn .gt_title { color: #333333; font-size: 125%; font-weight: initial; padding-top: 4px; padding-bottom: 4px; padding-left: 5px; padding-right: 5px; border-bottom-color: #FFFFFF; border-bottom-width: 0; }\n",
       " #oayafywzfn .gt_subtitle { color: #333333; font-size: 85%; font-weight: initial; padding-top: 3px; padding-bottom: 5px; padding-left: 5px; padding-right: 5px; border-top-color: #FFFFFF; border-top-width: 0; }\n",
       " #oayafywzfn .gt_heading { background-color: #FFFFFF; text-align: center; border-bottom-color: #FFFFFF; border-left-style: none; border-left-width: 1px; border-left-color: #D3D3D3; border-right-style: none; border-right-width: 1px; border-right-color: #D3D3D3; }\n",
       " #oayafywzfn .gt_bottom_border { border-bottom-style: solid; border-bottom-width: 2px; border-bottom-color: #D3D3D3; }\n",
       " #oayafywzfn .gt_col_headings { border-top-style: solid; border-top-width: 2px; border-top-color: #D3D3D3; border-bottom-style: solid; border-bottom-width: 2px; border-bottom-color: #D3D3D3; border-left-style: none; border-left-width: 1px; border-left-color: #D3D3D3; border-right-style: none; border-right-width: 1px; border-right-color: #D3D3D3; }\n",
       " #oayafywzfn .gt_col_heading { color: #333333; background-color: #FFFFFF; font-size: 100%; font-weight: normal; text-transform: inherit; border-left-style: none; border-left-width: 1px; border-left-color: #D3D3D3; border-right-style: none; border-right-width: 1px; border-right-color: #D3D3D3; vertical-align: bottom; padding-top: 5px; padding-bottom: 5px; padding-left: 5px; padding-right: 5px; overflow-x: hidden; }\n",
       " #oayafywzfn .gt_column_spanner_outer { color: #333333; background-color: #FFFFFF; font-size: 100%; font-weight: normal; text-transform: inherit; padding-top: 0; padding-bottom: 0; padding-left: 4px; padding-right: 4px; }\n",
       " #oayafywzfn .gt_column_spanner_outer:first-child { padding-left: 0; }\n",
       " #oayafywzfn .gt_column_spanner_outer:last-child { padding-right: 0; }\n",
       " #oayafywzfn .gt_column_spanner { border-bottom-style: solid; border-bottom-width: 2px; border-bottom-color: #D3D3D3; vertical-align: bottom; padding-top: 5px; padding-bottom: 5px; overflow-x: hidden; display: inline-block; width: 100%; }\n",
       " #oayafywzfn .gt_spanner_row { border-bottom-style: hidden; }\n",
       " #oayafywzfn .gt_group_heading { padding-top: 8px; padding-bottom: 8px; padding-left: 5px; padding-right: 5px; color: #333333; background-color: #FFFFFF; font-size: 100%; font-weight: initial; text-transform: inherit; border-top-style: solid; border-top-width: 2px; border-top-color: #D3D3D3; border-bottom-style: solid; border-bottom-width: 2px; border-bottom-color: #D3D3D3; border-left-style: none; border-left-width: 1px; border-left-color: #D3D3D3; border-right-style: none; border-right-width: 1px; border-right-color: #D3D3D3; vertical-align: middle; text-align: left; }\n",
       " #oayafywzfn .gt_empty_group_heading { padding: 0.5px; color: #333333; background-color: #FFFFFF; font-size: 100%; font-weight: initial; border-top-style: solid; border-top-width: 2px; border-top-color: #D3D3D3; border-bottom-style: solid; border-bottom-width: 2px; border-bottom-color: #D3D3D3; vertical-align: middle; }\n",
       " #oayafywzfn .gt_from_md> :first-child { margin-top: 0; }\n",
       " #oayafywzfn .gt_from_md> :last-child { margin-bottom: 0; }\n",
       " #oayafywzfn .gt_row { padding-top: 8px; padding-bottom: 8px; padding-left: 5px; padding-right: 5px; margin: 10px; border-top-style: solid; border-top-width: 1px; border-top-color: #D3D3D3; border-left-style: none; border-left-width: 1px; border-left-color: #D3D3D3; border-right-style: none; border-right-width: 1px; border-right-color: #D3D3D3; vertical-align: middle; overflow-x: hidden; }\n",
       " #oayafywzfn .gt_stub { color: #333333; background-color: #FFFFFF; font-size: 100%; font-weight: initial; text-transform: inherit; border-right-style: solid; border-right-width: 2px; border-right-color: #D3D3D3; padding-left: 5px; padding-right: 5px; }\n",
       " #oayafywzfn .gt_stub_row_group { color: #333333; background-color: #FFFFFF; font-size: 100%; font-weight: initial; text-transform: inherit; border-right-style: solid; border-right-width: 2px; border-right-color: #D3D3D3; padding-left: 5px; padding-right: 5px; vertical-align: top; }\n",
       " #oayafywzfn .gt_row_group_first td { border-top-width: 2px; }\n",
       " #oayafywzfn .gt_row_group_first th { border-top-width: 2px; }\n",
       " #oayafywzfn .gt_table_body { border-top-style: solid; border-top-width: 2px; border-top-color: #D3D3D3; border-bottom-style: solid; border-bottom-width: 2px; border-bottom-color: #D3D3D3; }\n",
       " #oayafywzfn .gt_sourcenotes { color: #333333; background-color: #FFFFFF; border-bottom-style: none; border-bottom-width: 2px; border-bottom-color: #D3D3D3; border-left-style: none; border-left-width: 2px; border-left-color: #D3D3D3; border-right-style: none; border-right-width: 2px; border-right-color: #D3D3D3; }\n",
       " #oayafywzfn .gt_sourcenote { font-size: 90%; padding-top: 4px; padding-bottom: 4px; padding-left: 5px; padding-right: 5px; text-align: left; }\n",
       " #oayafywzfn .gt_left { text-align: left; }\n",
       " #oayafywzfn .gt_center { text-align: center; }\n",
       " #oayafywzfn .gt_right { text-align: right; font-variant-numeric: tabular-nums; }\n",
       " #oayafywzfn .gt_font_normal { font-weight: normal; }\n",
       " #oayafywzfn .gt_font_bold { font-weight: bold; }\n",
       " #oayafywzfn .gt_font_italic { font-style: italic; }\n",
       " #oayafywzfn .gt_super { font-size: 65%; }\n",
       " #oayafywzfn .gt_footnote_marks { font-size: 75%; vertical-align: 0.4em; position: initial; }\n",
       " #oayafywzfn .gt_asterisk { font-size: 100%; vertical-align: 0; }\n",
       " \n",
       "</style>\n",
       "<table class=\"gt_table\" data-quarto-disable-processing=\"false\" data-quarto-bootstrap=\"false\">\n",
       "\n",
       "<tr class=\"gt_col_headings\">\n",
       "  <th class=\"gt_col_heading gt_columns_bottom_border gt_left\" rowspan=\"1\" colspan=\"1\" scope=\"col\" id=\"\"></th>\n",
       "  <th class=\"gt_col_heading gt_columns_bottom_border gt_right\" rowspan=\"1\" colspan=\"1\" scope=\"col\" id=\"measure_a\">measure_a</th>\n",
       "  <th class=\"gt_col_heading gt_columns_bottom_border gt_right\" rowspan=\"1\" colspan=\"1\" scope=\"col\" id=\"measure_b\">measure_b</th>\n",
       "</tr>\n",
       "<tbody class=\"gt_table_body\">\n",
       "  <tr>\n",
       "    <th class=\"gt_row gt_left gt_stub\">0</th>\n",
       "    <td class=\"gt_row gt_right\">5</td>\n",
       "    <td class=\"gt_row gt_right\">7</td>\n",
       "  </tr>\n",
       "  <tr>\n",
       "    <th class=\"gt_row gt_left gt_stub\">1</th>\n",
       "    <td class=\"gt_row gt_right\">4</td>\n",
       "    <td class=\"gt_row gt_right\">3</td>\n",
       "  </tr>\n",
       "  <tr>\n",
       "    <th class=\"gt_row gt_left gt_stub\">2</th>\n",
       "    <td class=\"gt_row gt_right\">6</td>\n",
       "    <td class=\"gt_row gt_right\">3</td>\n",
       "  </tr>\n",
       "</tbody>\n",
       "\n",
       "\n",
       "</table>\n",
       "\n",
       "</div>\n",
       "        "
      ],
      "text/plain": [
       "GT(_tbl_data=shape: (3, 3)\n",
       "┌─────────┬───────────┬───────────┐\n",
       "│ site_id ┆ measure_a ┆ measure_b │\n",
       "│ ---     ┆ ---       ┆ ---       │\n",
       "│ i64     ┆ i64       ┆ i64       │\n",
       "╞═════════╪═══════════╪═══════════╡\n",
       "│ 0       ┆ 5         ┆ 7         │\n",
       "│ 1       ┆ 4         ┆ 3         │\n",
       "│ 2       ┆ 6         ┆ 3         │\n",
       "└─────────┴───────────┴───────────┘, _body=<great_tables._gt_data.Body object at 0x11596cce0>, _boxhead=Boxhead([ColInfo(var='site_id', type=<ColInfoTypeEnum.stub: 2>, column_label='site_id', column_align='right', column_width=None), ColInfo(var='measure_a', type=<ColInfoTypeEnum.default: 1>, column_label='measure_a', column_align='right', column_width=None), ColInfo(var='measure_b', type=<ColInfoTypeEnum.default: 1>, column_label='measure_b', column_align='right', column_width=None)]), _stub=<great_tables._gt_data.Stub object at 0x107a6b6e0>, _spanners=Spanners([]), _heading=Heading(title=None, subtitle=None, preheader=None), _stubhead=None, _source_notes=[], _footnotes=[], _styles=[], _locale=<great_tables._gt_data.Locale object at 0x133716ba0>, _formats=[], _substitutions=[], _options=Options(table_id=OptionsInfo(scss=False, category='table', type='value', value=None), table_caption=OptionsInfo(scss=False, category='table', type='value', value=None), table_width=OptionsInfo(scss=True, category='table', type='px', value='auto'), table_layout=OptionsInfo(scss=True, category='table', type='value', value='fixed'), table_margin_left=OptionsInfo(scss=True, category='table', type='px', value='auto'), table_margin_right=OptionsInfo(scss=True, category='table', type='px', value='auto'), table_background_color=OptionsInfo(scss=True, category='table', type='value', value='#FFFFFF'), table_font_names=OptionsInfo(scss=False, category='table', type='values', value=['-apple-system', 'BlinkMacSystemFont', 'Segoe UI', 'Roboto', 'Oxygen', 'Ubuntu', 'Cantarell', 'Helvetica Neue', 'Fira Sans', 'Droid Sans', 'Arial', 'sans-serif']), table_font_size=OptionsInfo(scss=True, category='table', type='px', value='16px'), table_font_weight=OptionsInfo(scss=True, category='table', type='value', value='normal'), table_font_style=OptionsInfo(scss=True, category='table', type='value', value='normal'), table_font_color=OptionsInfo(scss=True, category='table', type='value', value='#333333'), table_font_color_light=OptionsInfo(scss=True, category='table', type='value', value='#FFFFFF'), table_border_top_include=OptionsInfo(scss=False, category='table', type='boolean', value=True), table_border_top_style=OptionsInfo(scss=True, category='table', type='value', value='solid'), table_border_top_width=OptionsInfo(scss=True, category='table', type='px', value='2px'), table_border_top_color=OptionsInfo(scss=True, category='table', type='value', value='#A8A8A8'), table_border_right_style=OptionsInfo(scss=True, category='table', type='value', value='none'), table_border_right_width=OptionsInfo(scss=True, category='table', type='px', value='2px'), table_border_right_color=OptionsInfo(scss=True, category='table', type='value', value='#D3D3D3'), table_border_bottom_include=OptionsInfo(scss=False, category='table', type='boolean', value=True), table_border_bottom_style=OptionsInfo(scss=True, category='table', type='value', value='solid'), table_border_bottom_width=OptionsInfo(scss=True, category='table', type='px', value='2px'), table_border_bottom_color=OptionsInfo(scss=True, category='table', type='value', value='#A8A8A8'), table_border_left_style=OptionsInfo(scss=True, category='table', type='value', value='none'), table_border_left_width=OptionsInfo(scss=True, category='table', type='px', value='2px'), table_border_left_color=OptionsInfo(scss=True, category='table', type='value', value='#D3D3D3'), heading_background_color=OptionsInfo(scss=True, category='heading', type='value', value=None), heading_align=OptionsInfo(scss=True, category='heading', type='value', value='center'), heading_title_font_size=OptionsInfo(scss=True, category='heading', type='px', value='125%'), heading_title_font_weight=OptionsInfo(scss=True, category='heading', type='value', value='initial'), heading_subtitle_font_size=OptionsInfo(scss=True, category='heading', type='px', value='85%'), heading_subtitle_font_weight=OptionsInfo(scss=True, category='heading', type='value', value='initial'), heading_padding=OptionsInfo(scss=True, category='heading', type='px', value='4px'), heading_padding_horizontal=OptionsInfo(scss=True, category='heading', type='px', value='5px'), heading_border_bottom_style=OptionsInfo(scss=True, category='heading', type='value', value='solid'), heading_border_bottom_width=OptionsInfo(scss=True, category='heading', type='px', value='2px'), heading_border_bottom_color=OptionsInfo(scss=True, category='heading', type='value', value='#D3D3D3'), heading_border_lr_style=OptionsInfo(scss=True, category='heading', type='value', value='none'), heading_border_lr_width=OptionsInfo(scss=True, category='heading', type='px', value='1px'), heading_border_lr_color=OptionsInfo(scss=True, category='heading', type='value', value='#D3D3D3'), column_labels_background_color=OptionsInfo(scss=True, category='column_labels', type='value', value=None), column_labels_font_size=OptionsInfo(scss=True, category='column_labels', type='px', value='100%'), column_labels_font_weight=OptionsInfo(scss=True, category='column_labels', type='value', value='normal'), column_labels_text_transform=OptionsInfo(scss=True, category='column_labels', type='value', value='inherit'), column_labels_padding=OptionsInfo(scss=True, category='column_labels', type='px', value='5px'), column_labels_padding_horizontal=OptionsInfo(scss=True, category='column_labels', type='px', value='5px'), column_labels_vlines_style=OptionsInfo(scss=True, category='table_body', type='value', value='none'), column_labels_vlines_width=OptionsInfo(scss=True, category='table_body', type='px', value='1px'), column_labels_vlines_color=OptionsInfo(scss=True, category='table_body', type='value', value='#D3D3D3'), column_labels_border_top_style=OptionsInfo(scss=True, category='column_labels', type='value', value='solid'), column_labels_border_top_width=OptionsInfo(scss=True, category='column_labels', type='px', value='2px'), column_labels_border_top_color=OptionsInfo(scss=True, category='column_labels', type='value', value='#D3D3D3'), column_labels_border_bottom_style=OptionsInfo(scss=True, category='column_labels', type='value', value='solid'), column_labels_border_bottom_width=OptionsInfo(scss=True, category='column_labels', type='px', value='2px'), column_labels_border_bottom_color=OptionsInfo(scss=True, category='column_labels', type='value', value='#D3D3D3'), column_labels_border_lr_style=OptionsInfo(scss=True, category='column_labels', type='value', value='none'), column_labels_border_lr_width=OptionsInfo(scss=True, category='column_labels', type='px', value='1px'), column_labels_border_lr_color=OptionsInfo(scss=True, category='column_labels', type='value', value='#D3D3D3'), column_labels_hidden=OptionsInfo(scss=False, category='column_labels', type='boolean', value=False), row_group_background_color=OptionsInfo(scss=True, category='row_group', type='value', value=None), row_group_font_size=OptionsInfo(scss=True, category='row_group', type='px', value='100%'), row_group_font_weight=OptionsInfo(scss=True, category='row_group', type='value', value='initial'), row_group_text_transform=OptionsInfo(scss=True, category='row_group', type='value', value='inherit'), row_group_padding=OptionsInfo(scss=True, category='row_group', type='px', value='8px'), row_group_padding_horizontal=OptionsInfo(scss=True, category='row_group', type='px', value='5px'), row_group_border_top_style=OptionsInfo(scss=True, category='row_group', type='value', value='solid'), row_group_border_top_width=OptionsInfo(scss=True, category='row_group', type='px', value='2px'), row_group_border_top_color=OptionsInfo(scss=True, category='row_group', type='value', value='#D3D3D3'), row_group_border_right_style=OptionsInfo(scss=True, category='row_group', type='value', value='none'), row_group_border_right_width=OptionsInfo(scss=True, category='row_group', type='px', value='1px'), row_group_border_right_color=OptionsInfo(scss=True, category='row_group', type='value', value='#D3D3D3'), row_group_border_bottom_style=OptionsInfo(scss=True, category='row_group', type='value', value='solid'), row_group_border_bottom_width=OptionsInfo(scss=True, category='row_group', type='px', value='2px'), row_group_border_bottom_color=OptionsInfo(scss=True, category='row_group', type='value', value='#D3D3D3'), row_group_border_left_style=OptionsInfo(scss=True, category='row_group', type='value', value='none'), row_group_border_left_width=OptionsInfo(scss=True, category='row_group', type='px', value='1px'), row_group_border_left_color=OptionsInfo(scss=True, category='row_group', type='value', value='#D3D3D3'), row_group_as_column=OptionsInfo(scss=False, category='row_group', type='boolean', value=False), table_body_hlines_style=OptionsInfo(scss=True, category='table_body', type='value', value='solid'), table_body_hlines_width=OptionsInfo(scss=True, category='table_body', type='px', value='1px'), table_body_hlines_color=OptionsInfo(scss=True, category='table_body', type='value', value='#D3D3D3'), table_body_vlines_style=OptionsInfo(scss=True, category='table_body', type='value', value='none'), table_body_vlines_width=OptionsInfo(scss=True, category='table_body', type='px', value='1px'), table_body_vlines_color=OptionsInfo(scss=True, category='table_body', type='value', value='#D3D3D3'), table_body_border_top_style=OptionsInfo(scss=True, category='table_body', type='value', value='solid'), table_body_border_top_width=OptionsInfo(scss=True, category='table_body', type='px', value='2px'), table_body_border_top_color=OptionsInfo(scss=True, category='table_body', type='value', value='#D3D3D3'), table_body_border_bottom_style=OptionsInfo(scss=True, category='table_body', type='value', value='solid'), table_body_border_bottom_width=OptionsInfo(scss=True, category='table_body', type='px', value='2px'), table_body_border_bottom_color=OptionsInfo(scss=True, category='table_body', type='value', value='#D3D3D3'), data_row_padding=OptionsInfo(scss=True, category='data_row', type='px', value='8px'), data_row_padding_horizontal=OptionsInfo(scss=True, category='data_row', type='px', value='5px'), stub_background_color=OptionsInfo(scss=True, category='stub', type='value', value=None), stub_font_size=OptionsInfo(scss=True, category='stub', type='px', value='100%'), stub_font_weight=OptionsInfo(scss=True, category='stub', type='value', value='initial'), stub_text_transform=OptionsInfo(scss=True, category='stub', type='value', value='inherit'), stub_border_style=OptionsInfo(scss=True, category='stub', type='value', value='solid'), stub_border_width=OptionsInfo(scss=True, category='stub', type='px', value='2px'), stub_border_color=OptionsInfo(scss=True, category='stub', type='value', value='#D3D3D3'), stub_row_group_background_color=OptionsInfo(scss=True, category='stub', type='value', value=None), stub_row_group_font_size=OptionsInfo(scss=True, category='stub', type='px', value='100%'), stub_row_group_font_weight=OptionsInfo(scss=True, category='stub', type='value', value='initial'), stub_row_group_text_transform=OptionsInfo(scss=True, category='stub', type='value', value='inherit'), stub_row_group_border_style=OptionsInfo(scss=True, category='stub', type='value', value='solid'), stub_row_group_border_width=OptionsInfo(scss=True, category='stub', type='px', value='2px'), stub_row_group_border_color=OptionsInfo(scss=True, category='stub', type='value', value='#D3D3D3'), source_notes_padding=OptionsInfo(scss=True, category='source_notes', type='px', value='4px'), source_notes_padding_horizontal=OptionsInfo(scss=True, category='source_notes', type='px', value='5px'), source_notes_background_color=OptionsInfo(scss=True, category='source_notes', type='value', value=None), source_notes_font_size=OptionsInfo(scss=True, category='source_notes', type='px', value='90%'), source_notes_border_bottom_style=OptionsInfo(scss=True, category='source_notes', type='value', value='none'), source_notes_border_bottom_width=OptionsInfo(scss=True, category='source_notes', type='px', value='2px'), source_notes_border_bottom_color=OptionsInfo(scss=True, category='source_notes', type='value', value='#D3D3D3'), source_notes_border_lr_style=OptionsInfo(scss=True, category='source_notes', type='value', value='none'), source_notes_border_lr_width=OptionsInfo(scss=True, category='source_notes', type='px', value='2px'), source_notes_border_lr_color=OptionsInfo(scss=True, category='source_notes', type='value', value='#D3D3D3'), source_notes_multiline=OptionsInfo(scss=False, category='source_notes', type='boolean', value=True), source_notes_sep=OptionsInfo(scss=False, category='source_notes', type='value', value=' '), container_width=OptionsInfo(scss=False, category='container', type='px', value='auto'), container_height=OptionsInfo(scss=False, category='container', type='px', value='auto'), container_padding_x=OptionsInfo(scss=False, category='container', type='px', value='0px'), container_padding_y=OptionsInfo(scss=False, category='container', type='px', value='10px'), container_overflow_x=OptionsInfo(scss=False, category='container', type='overflow', value='auto'), container_overflow_y=OptionsInfo(scss=False, category='container', type='overflow', value='auto'), quarto_disable_processing=OptionsInfo(scss=False, category='quarto', type='logical', value=False), quarto_use_bootstrap=OptionsInfo(scss=False, category='quarto', type='logical', value=False)), _has_built=False)"
      ]
     },
     "execution_count": 249,
     "metadata": {},
     "output_type": "execute_result"
    }
   ],
   "source": [
    "df.style.tab_stub(rowname_col=\"site_id\")  "
   ]
  },
  {
   "cell_type": "code",
   "execution_count": 250,
   "id": "1ba51577-4bef-4507-88d9-0579d86d645f",
   "metadata": {},
   "outputs": [
    {
     "data": {
      "text/html": [
       "<div id=\"abitkxgolw\" style=\"padding-left:0px;padding-right:0px;padding-top:10px;padding-bottom:10px;overflow-x:auto;overflow-y:auto;width:auto;height:auto;\">\n",
       "<style>\n",
       "#abitkxgolw table {\n",
       "          font-family: -apple-system, BlinkMacSystemFont, 'Segoe UI', Roboto, Oxygen, Ubuntu, Cantarell, 'Helvetica Neue', 'Fira Sans', 'Droid Sans', Arial, sans-serif;\n",
       "          -webkit-font-smoothing: antialiased;\n",
       "          -moz-osx-font-smoothing: grayscale;\n",
       "        }\n",
       "\n",
       "#abitkxgolw thead, tbody, tfoot, tr, td, th { border-style: none; }\n",
       " tr { background-color: transparent; }\n",
       "#abitkxgolw p { margin: 0; padding: 0; }\n",
       " #abitkxgolw .gt_table { display: table; border-collapse: collapse; line-height: normal; margin-left: auto; margin-right: auto; color: #333333; font-size: 16px; font-weight: normal; font-style: normal; background-color: #FFFFFF; width: auto; border-top-style: solid; border-top-width: 2px; border-top-color: #A8A8A8; border-right-style: none; border-right-width: 2px; border-right-color: #D3D3D3; border-bottom-style: solid; border-bottom-width: 2px; border-bottom-color: #A8A8A8; border-left-style: none; border-left-width: 2px; border-left-color: #D3D3D3; }\n",
       " #abitkxgolw .gt_caption { padding-top: 4px; padding-bottom: 4px; }\n",
       " #abitkxgolw .gt_title { color: #333333; font-size: 125%; font-weight: initial; padding-top: 4px; padding-bottom: 4px; padding-left: 5px; padding-right: 5px; border-bottom-color: #FFFFFF; border-bottom-width: 0; }\n",
       " #abitkxgolw .gt_subtitle { color: #333333; font-size: 85%; font-weight: initial; padding-top: 3px; padding-bottom: 5px; padding-left: 5px; padding-right: 5px; border-top-color: #FFFFFF; border-top-width: 0; }\n",
       " #abitkxgolw .gt_heading { background-color: #FFFFFF; text-align: center; border-bottom-color: #FFFFFF; border-left-style: none; border-left-width: 1px; border-left-color: #D3D3D3; border-right-style: none; border-right-width: 1px; border-right-color: #D3D3D3; }\n",
       " #abitkxgolw .gt_bottom_border { border-bottom-style: solid; border-bottom-width: 2px; border-bottom-color: #D3D3D3; }\n",
       " #abitkxgolw .gt_col_headings { border-top-style: solid; border-top-width: 2px; border-top-color: #D3D3D3; border-bottom-style: solid; border-bottom-width: 2px; border-bottom-color: #D3D3D3; border-left-style: none; border-left-width: 1px; border-left-color: #D3D3D3; border-right-style: none; border-right-width: 1px; border-right-color: #D3D3D3; }\n",
       " #abitkxgolw .gt_col_heading { color: #333333; background-color: #FFFFFF; font-size: 100%; font-weight: normal; text-transform: inherit; border-left-style: none; border-left-width: 1px; border-left-color: #D3D3D3; border-right-style: none; border-right-width: 1px; border-right-color: #D3D3D3; vertical-align: bottom; padding-top: 5px; padding-bottom: 5px; padding-left: 5px; padding-right: 5px; overflow-x: hidden; }\n",
       " #abitkxgolw .gt_column_spanner_outer { color: #333333; background-color: #FFFFFF; font-size: 100%; font-weight: normal; text-transform: inherit; padding-top: 0; padding-bottom: 0; padding-left: 4px; padding-right: 4px; }\n",
       " #abitkxgolw .gt_column_spanner_outer:first-child { padding-left: 0; }\n",
       " #abitkxgolw .gt_column_spanner_outer:last-child { padding-right: 0; }\n",
       " #abitkxgolw .gt_column_spanner { border-bottom-style: solid; border-bottom-width: 2px; border-bottom-color: #D3D3D3; vertical-align: bottom; padding-top: 5px; padding-bottom: 5px; overflow-x: hidden; display: inline-block; width: 100%; }\n",
       " #abitkxgolw .gt_spanner_row { border-bottom-style: hidden; }\n",
       " #abitkxgolw .gt_group_heading { padding-top: 8px; padding-bottom: 8px; padding-left: 5px; padding-right: 5px; color: #333333; background-color: #FFFFFF; font-size: 100%; font-weight: initial; text-transform: inherit; border-top-style: solid; border-top-width: 2px; border-top-color: #D3D3D3; border-bottom-style: solid; border-bottom-width: 2px; border-bottom-color: #D3D3D3; border-left-style: none; border-left-width: 1px; border-left-color: #D3D3D3; border-right-style: none; border-right-width: 1px; border-right-color: #D3D3D3; vertical-align: middle; text-align: left; }\n",
       " #abitkxgolw .gt_empty_group_heading { padding: 0.5px; color: #333333; background-color: #FFFFFF; font-size: 100%; font-weight: initial; border-top-style: solid; border-top-width: 2px; border-top-color: #D3D3D3; border-bottom-style: solid; border-bottom-width: 2px; border-bottom-color: #D3D3D3; vertical-align: middle; }\n",
       " #abitkxgolw .gt_from_md> :first-child { margin-top: 0; }\n",
       " #abitkxgolw .gt_from_md> :last-child { margin-bottom: 0; }\n",
       " #abitkxgolw .gt_row { padding-top: 8px; padding-bottom: 8px; padding-left: 5px; padding-right: 5px; margin: 10px; border-top-style: solid; border-top-width: 1px; border-top-color: #D3D3D3; border-left-style: none; border-left-width: 1px; border-left-color: #D3D3D3; border-right-style: none; border-right-width: 1px; border-right-color: #D3D3D3; vertical-align: middle; overflow-x: hidden; }\n",
       " #abitkxgolw .gt_stub { color: #333333; background-color: #FFFFFF; font-size: 100%; font-weight: initial; text-transform: inherit; border-right-style: solid; border-right-width: 2px; border-right-color: #D3D3D3; padding-left: 5px; padding-right: 5px; }\n",
       " #abitkxgolw .gt_stub_row_group { color: #333333; background-color: #FFFFFF; font-size: 100%; font-weight: initial; text-transform: inherit; border-right-style: solid; border-right-width: 2px; border-right-color: #D3D3D3; padding-left: 5px; padding-right: 5px; vertical-align: top; }\n",
       " #abitkxgolw .gt_row_group_first td { border-top-width: 2px; }\n",
       " #abitkxgolw .gt_row_group_first th { border-top-width: 2px; }\n",
       " #abitkxgolw .gt_table_body { border-top-style: solid; border-top-width: 2px; border-top-color: #D3D3D3; border-bottom-style: solid; border-bottom-width: 2px; border-bottom-color: #D3D3D3; }\n",
       " #abitkxgolw .gt_sourcenotes { color: #333333; background-color: #FFFFFF; border-bottom-style: none; border-bottom-width: 2px; border-bottom-color: #D3D3D3; border-left-style: none; border-left-width: 2px; border-left-color: #D3D3D3; border-right-style: none; border-right-width: 2px; border-right-color: #D3D3D3; }\n",
       " #abitkxgolw .gt_sourcenote { font-size: 90%; padding-top: 4px; padding-bottom: 4px; padding-left: 5px; padding-right: 5px; text-align: left; }\n",
       " #abitkxgolw .gt_left { text-align: left; }\n",
       " #abitkxgolw .gt_center { text-align: center; }\n",
       " #abitkxgolw .gt_right { text-align: right; font-variant-numeric: tabular-nums; }\n",
       " #abitkxgolw .gt_font_normal { font-weight: normal; }\n",
       " #abitkxgolw .gt_font_bold { font-weight: bold; }\n",
       " #abitkxgolw .gt_font_italic { font-style: italic; }\n",
       " #abitkxgolw .gt_super { font-size: 65%; }\n",
       " #abitkxgolw .gt_footnote_marks { font-size: 75%; vertical-align: 0.4em; position: initial; }\n",
       " #abitkxgolw .gt_asterisk { font-size: 100%; vertical-align: 0; }\n",
       " \n",
       "</style>\n",
       "<table class=\"gt_table\" data-quarto-disable-processing=\"false\" data-quarto-bootstrap=\"false\">\n",
       "\n",
       "<tr class=\"gt_col_headings\">\n",
       "  <th class=\"gt_col_heading gt_columns_bottom_border gt_right\" rowspan=\"1\" colspan=\"1\" scope=\"col\" id=\"site_id\">site_id</th>\n",
       "  <th class=\"gt_col_heading gt_columns_bottom_border gt_right\" rowspan=\"1\" colspan=\"1\" scope=\"col\" id=\"measure_a\">measure_a</th>\n",
       "  <th class=\"gt_col_heading gt_columns_bottom_border gt_right\" rowspan=\"1\" colspan=\"1\" scope=\"col\" id=\"measure_b\">measure_b</th>\n",
       "</tr>\n",
       "<tbody class=\"gt_table_body\">\n",
       "  <tr>\n",
       "    <td class=\"gt_row gt_right\">0</td>\n",
       "    <td class=\"gt_row gt_right\">5</td>\n",
       "    <td class=\"gt_row gt_right\">7</td>\n",
       "  </tr>\n",
       "  <tr>\n",
       "    <td class=\"gt_row gt_right\">1</td>\n",
       "    <td class=\"gt_row gt_right\">4</td>\n",
       "    <td class=\"gt_row gt_right\">3</td>\n",
       "  </tr>\n",
       "  <tr>\n",
       "    <td style=\"background-color: yellow;\" class=\"gt_row gt_right\">2</td>\n",
       "    <td style=\"background-color: yellow;\" class=\"gt_row gt_right\">6</td>\n",
       "    <td style=\"background-color: yellow;\" class=\"gt_row gt_right\">3</td>\n",
       "  </tr>\n",
       "</tbody>\n",
       "\n",
       "\n",
       "</table>\n",
       "\n",
       "</div>\n",
       "        "
      ],
      "text/plain": [
       "GT(_tbl_data=shape: (3, 3)\n",
       "┌─────────┬───────────┬───────────┐\n",
       "│ site_id ┆ measure_a ┆ measure_b │\n",
       "│ ---     ┆ ---       ┆ ---       │\n",
       "│ i64     ┆ i64       ┆ i64       │\n",
       "╞═════════╪═══════════╪═══════════╡\n",
       "│ 0       ┆ 5         ┆ 7         │\n",
       "│ 1       ┆ 4         ┆ 3         │\n",
       "│ 2       ┆ 6         ┆ 3         │\n",
       "└─────────┴───────────┴───────────┘, _body=<great_tables._gt_data.Body object at 0x133857920>, _boxhead=Boxhead([ColInfo(var='site_id', type=<ColInfoTypeEnum.default: 1>, column_label='site_id', column_align='right', column_width=None), ColInfo(var='measure_a', type=<ColInfoTypeEnum.default: 1>, column_label='measure_a', column_align='right', column_width=None), ColInfo(var='measure_b', type=<ColInfoTypeEnum.default: 1>, column_label='measure_b', column_align='right', column_width=None)]), _stub=<great_tables._gt_data.Stub object at 0x107aeb1a0>, _spanners=Spanners([]), _heading=Heading(title=None, subtitle=None, preheader=None), _stubhead=None, _source_notes=[], _footnotes=[], _styles=[StyleInfo(locname='data', locnum=5, grpname=None, colname='site_id', rownum=2, colnum=None, styles=[CellStyleFill(color='yellow')]), StyleInfo(locname='data', locnum=5, grpname=None, colname='measure_a', rownum=2, colnum=None, styles=[CellStyleFill(color='yellow')]), StyleInfo(locname='data', locnum=5, grpname=None, colname='measure_b', rownum=2, colnum=None, styles=[CellStyleFill(color='yellow')])], _locale=<great_tables._gt_data.Locale object at 0x1337da3c0>, _formats=[], _substitutions=[], _options=Options(table_id=OptionsInfo(scss=False, category='table', type='value', value=None), table_caption=OptionsInfo(scss=False, category='table', type='value', value=None), table_width=OptionsInfo(scss=True, category='table', type='px', value='auto'), table_layout=OptionsInfo(scss=True, category='table', type='value', value='fixed'), table_margin_left=OptionsInfo(scss=True, category='table', type='px', value='auto'), table_margin_right=OptionsInfo(scss=True, category='table', type='px', value='auto'), table_background_color=OptionsInfo(scss=True, category='table', type='value', value='#FFFFFF'), table_font_names=OptionsInfo(scss=False, category='table', type='values', value=['-apple-system', 'BlinkMacSystemFont', 'Segoe UI', 'Roboto', 'Oxygen', 'Ubuntu', 'Cantarell', 'Helvetica Neue', 'Fira Sans', 'Droid Sans', 'Arial', 'sans-serif']), table_font_size=OptionsInfo(scss=True, category='table', type='px', value='16px'), table_font_weight=OptionsInfo(scss=True, category='table', type='value', value='normal'), table_font_style=OptionsInfo(scss=True, category='table', type='value', value='normal'), table_font_color=OptionsInfo(scss=True, category='table', type='value', value='#333333'), table_font_color_light=OptionsInfo(scss=True, category='table', type='value', value='#FFFFFF'), table_border_top_include=OptionsInfo(scss=False, category='table', type='boolean', value=True), table_border_top_style=OptionsInfo(scss=True, category='table', type='value', value='solid'), table_border_top_width=OptionsInfo(scss=True, category='table', type='px', value='2px'), table_border_top_color=OptionsInfo(scss=True, category='table', type='value', value='#A8A8A8'), table_border_right_style=OptionsInfo(scss=True, category='table', type='value', value='none'), table_border_right_width=OptionsInfo(scss=True, category='table', type='px', value='2px'), table_border_right_color=OptionsInfo(scss=True, category='table', type='value', value='#D3D3D3'), table_border_bottom_include=OptionsInfo(scss=False, category='table', type='boolean', value=True), table_border_bottom_style=OptionsInfo(scss=True, category='table', type='value', value='solid'), table_border_bottom_width=OptionsInfo(scss=True, category='table', type='px', value='2px'), table_border_bottom_color=OptionsInfo(scss=True, category='table', type='value', value='#A8A8A8'), table_border_left_style=OptionsInfo(scss=True, category='table', type='value', value='none'), table_border_left_width=OptionsInfo(scss=True, category='table', type='px', value='2px'), table_border_left_color=OptionsInfo(scss=True, category='table', type='value', value='#D3D3D3'), heading_background_color=OptionsInfo(scss=True, category='heading', type='value', value=None), heading_align=OptionsInfo(scss=True, category='heading', type='value', value='center'), heading_title_font_size=OptionsInfo(scss=True, category='heading', type='px', value='125%'), heading_title_font_weight=OptionsInfo(scss=True, category='heading', type='value', value='initial'), heading_subtitle_font_size=OptionsInfo(scss=True, category='heading', type='px', value='85%'), heading_subtitle_font_weight=OptionsInfo(scss=True, category='heading', type='value', value='initial'), heading_padding=OptionsInfo(scss=True, category='heading', type='px', value='4px'), heading_padding_horizontal=OptionsInfo(scss=True, category='heading', type='px', value='5px'), heading_border_bottom_style=OptionsInfo(scss=True, category='heading', type='value', value='solid'), heading_border_bottom_width=OptionsInfo(scss=True, category='heading', type='px', value='2px'), heading_border_bottom_color=OptionsInfo(scss=True, category='heading', type='value', value='#D3D3D3'), heading_border_lr_style=OptionsInfo(scss=True, category='heading', type='value', value='none'), heading_border_lr_width=OptionsInfo(scss=True, category='heading', type='px', value='1px'), heading_border_lr_color=OptionsInfo(scss=True, category='heading', type='value', value='#D3D3D3'), column_labels_background_color=OptionsInfo(scss=True, category='column_labels', type='value', value=None), column_labels_font_size=OptionsInfo(scss=True, category='column_labels', type='px', value='100%'), column_labels_font_weight=OptionsInfo(scss=True, category='column_labels', type='value', value='normal'), column_labels_text_transform=OptionsInfo(scss=True, category='column_labels', type='value', value='inherit'), column_labels_padding=OptionsInfo(scss=True, category='column_labels', type='px', value='5px'), column_labels_padding_horizontal=OptionsInfo(scss=True, category='column_labels', type='px', value='5px'), column_labels_vlines_style=OptionsInfo(scss=True, category='table_body', type='value', value='none'), column_labels_vlines_width=OptionsInfo(scss=True, category='table_body', type='px', value='1px'), column_labels_vlines_color=OptionsInfo(scss=True, category='table_body', type='value', value='#D3D3D3'), column_labels_border_top_style=OptionsInfo(scss=True, category='column_labels', type='value', value='solid'), column_labels_border_top_width=OptionsInfo(scss=True, category='column_labels', type='px', value='2px'), column_labels_border_top_color=OptionsInfo(scss=True, category='column_labels', type='value', value='#D3D3D3'), column_labels_border_bottom_style=OptionsInfo(scss=True, category='column_labels', type='value', value='solid'), column_labels_border_bottom_width=OptionsInfo(scss=True, category='column_labels', type='px', value='2px'), column_labels_border_bottom_color=OptionsInfo(scss=True, category='column_labels', type='value', value='#D3D3D3'), column_labels_border_lr_style=OptionsInfo(scss=True, category='column_labels', type='value', value='none'), column_labels_border_lr_width=OptionsInfo(scss=True, category='column_labels', type='px', value='1px'), column_labels_border_lr_color=OptionsInfo(scss=True, category='column_labels', type='value', value='#D3D3D3'), column_labels_hidden=OptionsInfo(scss=False, category='column_labels', type='boolean', value=False), row_group_background_color=OptionsInfo(scss=True, category='row_group', type='value', value=None), row_group_font_size=OptionsInfo(scss=True, category='row_group', type='px', value='100%'), row_group_font_weight=OptionsInfo(scss=True, category='row_group', type='value', value='initial'), row_group_text_transform=OptionsInfo(scss=True, category='row_group', type='value', value='inherit'), row_group_padding=OptionsInfo(scss=True, category='row_group', type='px', value='8px'), row_group_padding_horizontal=OptionsInfo(scss=True, category='row_group', type='px', value='5px'), row_group_border_top_style=OptionsInfo(scss=True, category='row_group', type='value', value='solid'), row_group_border_top_width=OptionsInfo(scss=True, category='row_group', type='px', value='2px'), row_group_border_top_color=OptionsInfo(scss=True, category='row_group', type='value', value='#D3D3D3'), row_group_border_right_style=OptionsInfo(scss=True, category='row_group', type='value', value='none'), row_group_border_right_width=OptionsInfo(scss=True, category='row_group', type='px', value='1px'), row_group_border_right_color=OptionsInfo(scss=True, category='row_group', type='value', value='#D3D3D3'), row_group_border_bottom_style=OptionsInfo(scss=True, category='row_group', type='value', value='solid'), row_group_border_bottom_width=OptionsInfo(scss=True, category='row_group', type='px', value='2px'), row_group_border_bottom_color=OptionsInfo(scss=True, category='row_group', type='value', value='#D3D3D3'), row_group_border_left_style=OptionsInfo(scss=True, category='row_group', type='value', value='none'), row_group_border_left_width=OptionsInfo(scss=True, category='row_group', type='px', value='1px'), row_group_border_left_color=OptionsInfo(scss=True, category='row_group', type='value', value='#D3D3D3'), row_group_as_column=OptionsInfo(scss=False, category='row_group', type='boolean', value=False), table_body_hlines_style=OptionsInfo(scss=True, category='table_body', type='value', value='solid'), table_body_hlines_width=OptionsInfo(scss=True, category='table_body', type='px', value='1px'), table_body_hlines_color=OptionsInfo(scss=True, category='table_body', type='value', value='#D3D3D3'), table_body_vlines_style=OptionsInfo(scss=True, category='table_body', type='value', value='none'), table_body_vlines_width=OptionsInfo(scss=True, category='table_body', type='px', value='1px'), table_body_vlines_color=OptionsInfo(scss=True, category='table_body', type='value', value='#D3D3D3'), table_body_border_top_style=OptionsInfo(scss=True, category='table_body', type='value', value='solid'), table_body_border_top_width=OptionsInfo(scss=True, category='table_body', type='px', value='2px'), table_body_border_top_color=OptionsInfo(scss=True, category='table_body', type='value', value='#D3D3D3'), table_body_border_bottom_style=OptionsInfo(scss=True, category='table_body', type='value', value='solid'), table_body_border_bottom_width=OptionsInfo(scss=True, category='table_body', type='px', value='2px'), table_body_border_bottom_color=OptionsInfo(scss=True, category='table_body', type='value', value='#D3D3D3'), data_row_padding=OptionsInfo(scss=True, category='data_row', type='px', value='8px'), data_row_padding_horizontal=OptionsInfo(scss=True, category='data_row', type='px', value='5px'), stub_background_color=OptionsInfo(scss=True, category='stub', type='value', value=None), stub_font_size=OptionsInfo(scss=True, category='stub', type='px', value='100%'), stub_font_weight=OptionsInfo(scss=True, category='stub', type='value', value='initial'), stub_text_transform=OptionsInfo(scss=True, category='stub', type='value', value='inherit'), stub_border_style=OptionsInfo(scss=True, category='stub', type='value', value='solid'), stub_border_width=OptionsInfo(scss=True, category='stub', type='px', value='2px'), stub_border_color=OptionsInfo(scss=True, category='stub', type='value', value='#D3D3D3'), stub_row_group_background_color=OptionsInfo(scss=True, category='stub', type='value', value=None), stub_row_group_font_size=OptionsInfo(scss=True, category='stub', type='px', value='100%'), stub_row_group_font_weight=OptionsInfo(scss=True, category='stub', type='value', value='initial'), stub_row_group_text_transform=OptionsInfo(scss=True, category='stub', type='value', value='inherit'), stub_row_group_border_style=OptionsInfo(scss=True, category='stub', type='value', value='solid'), stub_row_group_border_width=OptionsInfo(scss=True, category='stub', type='px', value='2px'), stub_row_group_border_color=OptionsInfo(scss=True, category='stub', type='value', value='#D3D3D3'), source_notes_padding=OptionsInfo(scss=True, category='source_notes', type='px', value='4px'), source_notes_padding_horizontal=OptionsInfo(scss=True, category='source_notes', type='px', value='5px'), source_notes_background_color=OptionsInfo(scss=True, category='source_notes', type='value', value=None), source_notes_font_size=OptionsInfo(scss=True, category='source_notes', type='px', value='90%'), source_notes_border_bottom_style=OptionsInfo(scss=True, category='source_notes', type='value', value='none'), source_notes_border_bottom_width=OptionsInfo(scss=True, category='source_notes', type='px', value='2px'), source_notes_border_bottom_color=OptionsInfo(scss=True, category='source_notes', type='value', value='#D3D3D3'), source_notes_border_lr_style=OptionsInfo(scss=True, category='source_notes', type='value', value='none'), source_notes_border_lr_width=OptionsInfo(scss=True, category='source_notes', type='px', value='2px'), source_notes_border_lr_color=OptionsInfo(scss=True, category='source_notes', type='value', value='#D3D3D3'), source_notes_multiline=OptionsInfo(scss=False, category='source_notes', type='boolean', value=True), source_notes_sep=OptionsInfo(scss=False, category='source_notes', type='value', value=' '), container_width=OptionsInfo(scss=False, category='container', type='px', value='auto'), container_height=OptionsInfo(scss=False, category='container', type='px', value='auto'), container_padding_x=OptionsInfo(scss=False, category='container', type='px', value='0px'), container_padding_y=OptionsInfo(scss=False, category='container', type='px', value='10px'), container_overflow_x=OptionsInfo(scss=False, category='container', type='overflow', value='auto'), container_overflow_y=OptionsInfo(scss=False, category='container', type='overflow', value='auto'), quarto_disable_processing=OptionsInfo(scss=False, category='quarto', type='logical', value=False), quarto_use_bootstrap=OptionsInfo(scss=False, category='quarto', type='logical', value=False)), _has_built=False)"
      ]
     },
     "execution_count": 250,
     "metadata": {},
     "output_type": "execute_result"
    }
   ],
   "source": [
    "df.style.tab_style(\n",
    "    style.fill(\"yellow\"),\n",
    "    loc.body(rows=pl.col(\"measure_a\") == pl.col(\"measure_a\").max()),\n",
    ")  "
   ]
  },
  {
   "cell_type": "code",
   "execution_count": 251,
   "id": "f7b3c050-0bf8-4257-8355-c930202c1e5e",
   "metadata": {},
   "outputs": [
    {
     "data": {
      "text/html": [
       "<div id=\"agmukjfsic\" style=\"padding-left:0px;padding-right:0px;padding-top:10px;padding-bottom:10px;overflow-x:auto;overflow-y:auto;width:auto;height:auto;\">\n",
       "<style>\n",
       "#agmukjfsic table {\n",
       "          font-family: -apple-system, BlinkMacSystemFont, 'Segoe UI', Roboto, Oxygen, Ubuntu, Cantarell, 'Helvetica Neue', 'Fira Sans', 'Droid Sans', Arial, sans-serif;\n",
       "          -webkit-font-smoothing: antialiased;\n",
       "          -moz-osx-font-smoothing: grayscale;\n",
       "        }\n",
       "\n",
       "#agmukjfsic thead, tbody, tfoot, tr, td, th { border-style: none; }\n",
       " tr { background-color: transparent; }\n",
       "#agmukjfsic p { margin: 0; padding: 0; }\n",
       " #agmukjfsic .gt_table { display: table; border-collapse: collapse; line-height: normal; margin-left: auto; margin-right: auto; color: #333333; font-size: 16px; font-weight: normal; font-style: normal; background-color: #FFFFFF; width: auto; border-top-style: solid; border-top-width: 2px; border-top-color: #A8A8A8; border-right-style: none; border-right-width: 2px; border-right-color: #D3D3D3; border-bottom-style: solid; border-bottom-width: 2px; border-bottom-color: #A8A8A8; border-left-style: none; border-left-width: 2px; border-left-color: #D3D3D3; }\n",
       " #agmukjfsic .gt_caption { padding-top: 4px; padding-bottom: 4px; }\n",
       " #agmukjfsic .gt_title { color: #333333; font-size: 125%; font-weight: initial; padding-top: 4px; padding-bottom: 4px; padding-left: 5px; padding-right: 5px; border-bottom-color: #FFFFFF; border-bottom-width: 0; }\n",
       " #agmukjfsic .gt_subtitle { color: #333333; font-size: 85%; font-weight: initial; padding-top: 3px; padding-bottom: 5px; padding-left: 5px; padding-right: 5px; border-top-color: #FFFFFF; border-top-width: 0; }\n",
       " #agmukjfsic .gt_heading { background-color: #FFFFFF; text-align: center; border-bottom-color: #FFFFFF; border-left-style: none; border-left-width: 1px; border-left-color: #D3D3D3; border-right-style: none; border-right-width: 1px; border-right-color: #D3D3D3; }\n",
       " #agmukjfsic .gt_bottom_border { border-bottom-style: solid; border-bottom-width: 2px; border-bottom-color: #D3D3D3; }\n",
       " #agmukjfsic .gt_col_headings { border-top-style: solid; border-top-width: 2px; border-top-color: #D3D3D3; border-bottom-style: solid; border-bottom-width: 2px; border-bottom-color: #D3D3D3; border-left-style: none; border-left-width: 1px; border-left-color: #D3D3D3; border-right-style: none; border-right-width: 1px; border-right-color: #D3D3D3; }\n",
       " #agmukjfsic .gt_col_heading { color: #333333; background-color: #FFFFFF; font-size: 100%; font-weight: normal; text-transform: inherit; border-left-style: none; border-left-width: 1px; border-left-color: #D3D3D3; border-right-style: none; border-right-width: 1px; border-right-color: #D3D3D3; vertical-align: bottom; padding-top: 5px; padding-bottom: 5px; padding-left: 5px; padding-right: 5px; overflow-x: hidden; }\n",
       " #agmukjfsic .gt_column_spanner_outer { color: #333333; background-color: #FFFFFF; font-size: 100%; font-weight: normal; text-transform: inherit; padding-top: 0; padding-bottom: 0; padding-left: 4px; padding-right: 4px; }\n",
       " #agmukjfsic .gt_column_spanner_outer:first-child { padding-left: 0; }\n",
       " #agmukjfsic .gt_column_spanner_outer:last-child { padding-right: 0; }\n",
       " #agmukjfsic .gt_column_spanner { border-bottom-style: solid; border-bottom-width: 2px; border-bottom-color: #D3D3D3; vertical-align: bottom; padding-top: 5px; padding-bottom: 5px; overflow-x: hidden; display: inline-block; width: 100%; }\n",
       " #agmukjfsic .gt_spanner_row { border-bottom-style: hidden; }\n",
       " #agmukjfsic .gt_group_heading { padding-top: 8px; padding-bottom: 8px; padding-left: 5px; padding-right: 5px; color: #333333; background-color: #FFFFFF; font-size: 100%; font-weight: initial; text-transform: inherit; border-top-style: solid; border-top-width: 2px; border-top-color: #D3D3D3; border-bottom-style: solid; border-bottom-width: 2px; border-bottom-color: #D3D3D3; border-left-style: none; border-left-width: 1px; border-left-color: #D3D3D3; border-right-style: none; border-right-width: 1px; border-right-color: #D3D3D3; vertical-align: middle; text-align: left; }\n",
       " #agmukjfsic .gt_empty_group_heading { padding: 0.5px; color: #333333; background-color: #FFFFFF; font-size: 100%; font-weight: initial; border-top-style: solid; border-top-width: 2px; border-top-color: #D3D3D3; border-bottom-style: solid; border-bottom-width: 2px; border-bottom-color: #D3D3D3; vertical-align: middle; }\n",
       " #agmukjfsic .gt_from_md> :first-child { margin-top: 0; }\n",
       " #agmukjfsic .gt_from_md> :last-child { margin-bottom: 0; }\n",
       " #agmukjfsic .gt_row { padding-top: 8px; padding-bottom: 8px; padding-left: 5px; padding-right: 5px; margin: 10px; border-top-style: solid; border-top-width: 1px; border-top-color: #D3D3D3; border-left-style: none; border-left-width: 1px; border-left-color: #D3D3D3; border-right-style: none; border-right-width: 1px; border-right-color: #D3D3D3; vertical-align: middle; overflow-x: hidden; }\n",
       " #agmukjfsic .gt_stub { color: #333333; background-color: #FFFFFF; font-size: 100%; font-weight: initial; text-transform: inherit; border-right-style: solid; border-right-width: 2px; border-right-color: #D3D3D3; padding-left: 5px; padding-right: 5px; }\n",
       " #agmukjfsic .gt_stub_row_group { color: #333333; background-color: #FFFFFF; font-size: 100%; font-weight: initial; text-transform: inherit; border-right-style: solid; border-right-width: 2px; border-right-color: #D3D3D3; padding-left: 5px; padding-right: 5px; vertical-align: top; }\n",
       " #agmukjfsic .gt_row_group_first td { border-top-width: 2px; }\n",
       " #agmukjfsic .gt_row_group_first th { border-top-width: 2px; }\n",
       " #agmukjfsic .gt_table_body { border-top-style: solid; border-top-width: 2px; border-top-color: #D3D3D3; border-bottom-style: solid; border-bottom-width: 2px; border-bottom-color: #D3D3D3; }\n",
       " #agmukjfsic .gt_sourcenotes { color: #333333; background-color: #FFFFFF; border-bottom-style: none; border-bottom-width: 2px; border-bottom-color: #D3D3D3; border-left-style: none; border-left-width: 2px; border-left-color: #D3D3D3; border-right-style: none; border-right-width: 2px; border-right-color: #D3D3D3; }\n",
       " #agmukjfsic .gt_sourcenote { font-size: 90%; padding-top: 4px; padding-bottom: 4px; padding-left: 5px; padding-right: 5px; text-align: left; }\n",
       " #agmukjfsic .gt_left { text-align: left; }\n",
       " #agmukjfsic .gt_center { text-align: center; }\n",
       " #agmukjfsic .gt_right { text-align: right; font-variant-numeric: tabular-nums; }\n",
       " #agmukjfsic .gt_font_normal { font-weight: normal; }\n",
       " #agmukjfsic .gt_font_bold { font-weight: bold; }\n",
       " #agmukjfsic .gt_font_italic { font-style: italic; }\n",
       " #agmukjfsic .gt_super { font-size: 65%; }\n",
       " #agmukjfsic .gt_footnote_marks { font-size: 75%; vertical-align: 0.4em; position: initial; }\n",
       " #agmukjfsic .gt_asterisk { font-size: 100%; vertical-align: 0; }\n",
       " \n",
       "</style>\n",
       "<table class=\"gt_table\" data-quarto-disable-processing=\"false\" data-quarto-bootstrap=\"false\">\n",
       "\n",
       "<tr class=\"gt_col_headings gt_spanner_row\">\n",
       "  <th class=\"gt_col_heading gt_columns_bottom_border gt_right\" rowspan=\"2\" colspan=\"1\" scope=\"col\" id=\"site_id\">site_id</th>\n",
       "  <th class=\"gt_center gt_columns_top_border gt_column_spanner_outer\" rowspan=\"1\" colspan=\"2\" scope=\"colgroup\" id=\"Measures\">\n",
       "    <span class=\"gt_column_spanner\">Measures</span>\n",
       "  </th>\n",
       "</tr>\n",
       "<tr class=\"gt_col_headings\">\n",
       "  <th class=\"gt_col_heading gt_columns_bottom_border gt_right\" rowspan=\"1\" colspan=\"1\" scope=\"col\" id=\"measure_a\">measure_a</th>\n",
       "  <th class=\"gt_col_heading gt_columns_bottom_border gt_right\" rowspan=\"1\" colspan=\"1\" scope=\"col\" id=\"measure_b\">measure_b</th>\n",
       "</tr>\n",
       "<tbody class=\"gt_table_body\">\n",
       "  <tr>\n",
       "    <td class=\"gt_row gt_right\">0</td>\n",
       "    <td class=\"gt_row gt_right\">5</td>\n",
       "    <td class=\"gt_row gt_right\">7</td>\n",
       "  </tr>\n",
       "  <tr>\n",
       "    <td class=\"gt_row gt_right\">1</td>\n",
       "    <td class=\"gt_row gt_right\">4</td>\n",
       "    <td class=\"gt_row gt_right\">3</td>\n",
       "  </tr>\n",
       "  <tr>\n",
       "    <td class=\"gt_row gt_right\">2</td>\n",
       "    <td class=\"gt_row gt_right\">6</td>\n",
       "    <td class=\"gt_row gt_right\">3</td>\n",
       "  </tr>\n",
       "</tbody>\n",
       "\n",
       "\n",
       "</table>\n",
       "\n",
       "</div>\n",
       "        "
      ],
      "text/plain": [
       "GT(_tbl_data=shape: (3, 3)\n",
       "┌─────────┬───────────┬───────────┐\n",
       "│ site_id ┆ measure_a ┆ measure_b │\n",
       "│ ---     ┆ ---       ┆ ---       │\n",
       "│ i64     ┆ i64       ┆ i64       │\n",
       "╞═════════╪═══════════╪═══════════╡\n",
       "│ 0       ┆ 5         ┆ 7         │\n",
       "│ 1       ┆ 4         ┆ 3         │\n",
       "│ 2       ┆ 6         ┆ 3         │\n",
       "└─────────┴───────────┴───────────┘, _body=<great_tables._gt_data.Body object at 0x1130e91c0>, _boxhead=Boxhead([ColInfo(var='site_id', type=<ColInfoTypeEnum.default: 1>, column_label='site_id', column_align='right', column_width=None), ColInfo(var='measure_a', type=<ColInfoTypeEnum.default: 1>, column_label='measure_a', column_align='right', column_width=None), ColInfo(var='measure_b', type=<ColInfoTypeEnum.default: 1>, column_label='measure_b', column_align='right', column_width=None)]), _stub=<great_tables._gt_data.Stub object at 0x133ab9640>, _spanners=Spanners([SpannerInfo(spanner_id='Measures', spanner_level=0, spanner_label='Measures', spanner_units=None, spanner_pattern=None, vars=['measure_a', 'measure_b'], built=None)]), _heading=Heading(title=None, subtitle=None, preheader=None), _stubhead=None, _source_notes=[], _footnotes=[], _styles=[], _locale=<great_tables._gt_data.Locale object at 0x133ab9400>, _formats=[], _substitutions=[], _options=Options(table_id=OptionsInfo(scss=False, category='table', type='value', value=None), table_caption=OptionsInfo(scss=False, category='table', type='value', value=None), table_width=OptionsInfo(scss=True, category='table', type='px', value='auto'), table_layout=OptionsInfo(scss=True, category='table', type='value', value='fixed'), table_margin_left=OptionsInfo(scss=True, category='table', type='px', value='auto'), table_margin_right=OptionsInfo(scss=True, category='table', type='px', value='auto'), table_background_color=OptionsInfo(scss=True, category='table', type='value', value='#FFFFFF'), table_font_names=OptionsInfo(scss=False, category='table', type='values', value=['-apple-system', 'BlinkMacSystemFont', 'Segoe UI', 'Roboto', 'Oxygen', 'Ubuntu', 'Cantarell', 'Helvetica Neue', 'Fira Sans', 'Droid Sans', 'Arial', 'sans-serif']), table_font_size=OptionsInfo(scss=True, category='table', type='px', value='16px'), table_font_weight=OptionsInfo(scss=True, category='table', type='value', value='normal'), table_font_style=OptionsInfo(scss=True, category='table', type='value', value='normal'), table_font_color=OptionsInfo(scss=True, category='table', type='value', value='#333333'), table_font_color_light=OptionsInfo(scss=True, category='table', type='value', value='#FFFFFF'), table_border_top_include=OptionsInfo(scss=False, category='table', type='boolean', value=True), table_border_top_style=OptionsInfo(scss=True, category='table', type='value', value='solid'), table_border_top_width=OptionsInfo(scss=True, category='table', type='px', value='2px'), table_border_top_color=OptionsInfo(scss=True, category='table', type='value', value='#A8A8A8'), table_border_right_style=OptionsInfo(scss=True, category='table', type='value', value='none'), table_border_right_width=OptionsInfo(scss=True, category='table', type='px', value='2px'), table_border_right_color=OptionsInfo(scss=True, category='table', type='value', value='#D3D3D3'), table_border_bottom_include=OptionsInfo(scss=False, category='table', type='boolean', value=True), table_border_bottom_style=OptionsInfo(scss=True, category='table', type='value', value='solid'), table_border_bottom_width=OptionsInfo(scss=True, category='table', type='px', value='2px'), table_border_bottom_color=OptionsInfo(scss=True, category='table', type='value', value='#A8A8A8'), table_border_left_style=OptionsInfo(scss=True, category='table', type='value', value='none'), table_border_left_width=OptionsInfo(scss=True, category='table', type='px', value='2px'), table_border_left_color=OptionsInfo(scss=True, category='table', type='value', value='#D3D3D3'), heading_background_color=OptionsInfo(scss=True, category='heading', type='value', value=None), heading_align=OptionsInfo(scss=True, category='heading', type='value', value='center'), heading_title_font_size=OptionsInfo(scss=True, category='heading', type='px', value='125%'), heading_title_font_weight=OptionsInfo(scss=True, category='heading', type='value', value='initial'), heading_subtitle_font_size=OptionsInfo(scss=True, category='heading', type='px', value='85%'), heading_subtitle_font_weight=OptionsInfo(scss=True, category='heading', type='value', value='initial'), heading_padding=OptionsInfo(scss=True, category='heading', type='px', value='4px'), heading_padding_horizontal=OptionsInfo(scss=True, category='heading', type='px', value='5px'), heading_border_bottom_style=OptionsInfo(scss=True, category='heading', type='value', value='solid'), heading_border_bottom_width=OptionsInfo(scss=True, category='heading', type='px', value='2px'), heading_border_bottom_color=OptionsInfo(scss=True, category='heading', type='value', value='#D3D3D3'), heading_border_lr_style=OptionsInfo(scss=True, category='heading', type='value', value='none'), heading_border_lr_width=OptionsInfo(scss=True, category='heading', type='px', value='1px'), heading_border_lr_color=OptionsInfo(scss=True, category='heading', type='value', value='#D3D3D3'), column_labels_background_color=OptionsInfo(scss=True, category='column_labels', type='value', value=None), column_labels_font_size=OptionsInfo(scss=True, category='column_labels', type='px', value='100%'), column_labels_font_weight=OptionsInfo(scss=True, category='column_labels', type='value', value='normal'), column_labels_text_transform=OptionsInfo(scss=True, category='column_labels', type='value', value='inherit'), column_labels_padding=OptionsInfo(scss=True, category='column_labels', type='px', value='5px'), column_labels_padding_horizontal=OptionsInfo(scss=True, category='column_labels', type='px', value='5px'), column_labels_vlines_style=OptionsInfo(scss=True, category='table_body', type='value', value='none'), column_labels_vlines_width=OptionsInfo(scss=True, category='table_body', type='px', value='1px'), column_labels_vlines_color=OptionsInfo(scss=True, category='table_body', type='value', value='#D3D3D3'), column_labels_border_top_style=OptionsInfo(scss=True, category='column_labels', type='value', value='solid'), column_labels_border_top_width=OptionsInfo(scss=True, category='column_labels', type='px', value='2px'), column_labels_border_top_color=OptionsInfo(scss=True, category='column_labels', type='value', value='#D3D3D3'), column_labels_border_bottom_style=OptionsInfo(scss=True, category='column_labels', type='value', value='solid'), column_labels_border_bottom_width=OptionsInfo(scss=True, category='column_labels', type='px', value='2px'), column_labels_border_bottom_color=OptionsInfo(scss=True, category='column_labels', type='value', value='#D3D3D3'), column_labels_border_lr_style=OptionsInfo(scss=True, category='column_labels', type='value', value='none'), column_labels_border_lr_width=OptionsInfo(scss=True, category='column_labels', type='px', value='1px'), column_labels_border_lr_color=OptionsInfo(scss=True, category='column_labels', type='value', value='#D3D3D3'), column_labels_hidden=OptionsInfo(scss=False, category='column_labels', type='boolean', value=False), row_group_background_color=OptionsInfo(scss=True, category='row_group', type='value', value=None), row_group_font_size=OptionsInfo(scss=True, category='row_group', type='px', value='100%'), row_group_font_weight=OptionsInfo(scss=True, category='row_group', type='value', value='initial'), row_group_text_transform=OptionsInfo(scss=True, category='row_group', type='value', value='inherit'), row_group_padding=OptionsInfo(scss=True, category='row_group', type='px', value='8px'), row_group_padding_horizontal=OptionsInfo(scss=True, category='row_group', type='px', value='5px'), row_group_border_top_style=OptionsInfo(scss=True, category='row_group', type='value', value='solid'), row_group_border_top_width=OptionsInfo(scss=True, category='row_group', type='px', value='2px'), row_group_border_top_color=OptionsInfo(scss=True, category='row_group', type='value', value='#D3D3D3'), row_group_border_right_style=OptionsInfo(scss=True, category='row_group', type='value', value='none'), row_group_border_right_width=OptionsInfo(scss=True, category='row_group', type='px', value='1px'), row_group_border_right_color=OptionsInfo(scss=True, category='row_group', type='value', value='#D3D3D3'), row_group_border_bottom_style=OptionsInfo(scss=True, category='row_group', type='value', value='solid'), row_group_border_bottom_width=OptionsInfo(scss=True, category='row_group', type='px', value='2px'), row_group_border_bottom_color=OptionsInfo(scss=True, category='row_group', type='value', value='#D3D3D3'), row_group_border_left_style=OptionsInfo(scss=True, category='row_group', type='value', value='none'), row_group_border_left_width=OptionsInfo(scss=True, category='row_group', type='px', value='1px'), row_group_border_left_color=OptionsInfo(scss=True, category='row_group', type='value', value='#D3D3D3'), row_group_as_column=OptionsInfo(scss=False, category='row_group', type='boolean', value=False), table_body_hlines_style=OptionsInfo(scss=True, category='table_body', type='value', value='solid'), table_body_hlines_width=OptionsInfo(scss=True, category='table_body', type='px', value='1px'), table_body_hlines_color=OptionsInfo(scss=True, category='table_body', type='value', value='#D3D3D3'), table_body_vlines_style=OptionsInfo(scss=True, category='table_body', type='value', value='none'), table_body_vlines_width=OptionsInfo(scss=True, category='table_body', type='px', value='1px'), table_body_vlines_color=OptionsInfo(scss=True, category='table_body', type='value', value='#D3D3D3'), table_body_border_top_style=OptionsInfo(scss=True, category='table_body', type='value', value='solid'), table_body_border_top_width=OptionsInfo(scss=True, category='table_body', type='px', value='2px'), table_body_border_top_color=OptionsInfo(scss=True, category='table_body', type='value', value='#D3D3D3'), table_body_border_bottom_style=OptionsInfo(scss=True, category='table_body', type='value', value='solid'), table_body_border_bottom_width=OptionsInfo(scss=True, category='table_body', type='px', value='2px'), table_body_border_bottom_color=OptionsInfo(scss=True, category='table_body', type='value', value='#D3D3D3'), data_row_padding=OptionsInfo(scss=True, category='data_row', type='px', value='8px'), data_row_padding_horizontal=OptionsInfo(scss=True, category='data_row', type='px', value='5px'), stub_background_color=OptionsInfo(scss=True, category='stub', type='value', value=None), stub_font_size=OptionsInfo(scss=True, category='stub', type='px', value='100%'), stub_font_weight=OptionsInfo(scss=True, category='stub', type='value', value='initial'), stub_text_transform=OptionsInfo(scss=True, category='stub', type='value', value='inherit'), stub_border_style=OptionsInfo(scss=True, category='stub', type='value', value='solid'), stub_border_width=OptionsInfo(scss=True, category='stub', type='px', value='2px'), stub_border_color=OptionsInfo(scss=True, category='stub', type='value', value='#D3D3D3'), stub_row_group_background_color=OptionsInfo(scss=True, category='stub', type='value', value=None), stub_row_group_font_size=OptionsInfo(scss=True, category='stub', type='px', value='100%'), stub_row_group_font_weight=OptionsInfo(scss=True, category='stub', type='value', value='initial'), stub_row_group_text_transform=OptionsInfo(scss=True, category='stub', type='value', value='inherit'), stub_row_group_border_style=OptionsInfo(scss=True, category='stub', type='value', value='solid'), stub_row_group_border_width=OptionsInfo(scss=True, category='stub', type='px', value='2px'), stub_row_group_border_color=OptionsInfo(scss=True, category='stub', type='value', value='#D3D3D3'), source_notes_padding=OptionsInfo(scss=True, category='source_notes', type='px', value='4px'), source_notes_padding_horizontal=OptionsInfo(scss=True, category='source_notes', type='px', value='5px'), source_notes_background_color=OptionsInfo(scss=True, category='source_notes', type='value', value=None), source_notes_font_size=OptionsInfo(scss=True, category='source_notes', type='px', value='90%'), source_notes_border_bottom_style=OptionsInfo(scss=True, category='source_notes', type='value', value='none'), source_notes_border_bottom_width=OptionsInfo(scss=True, category='source_notes', type='px', value='2px'), source_notes_border_bottom_color=OptionsInfo(scss=True, category='source_notes', type='value', value='#D3D3D3'), source_notes_border_lr_style=OptionsInfo(scss=True, category='source_notes', type='value', value='none'), source_notes_border_lr_width=OptionsInfo(scss=True, category='source_notes', type='px', value='2px'), source_notes_border_lr_color=OptionsInfo(scss=True, category='source_notes', type='value', value='#D3D3D3'), source_notes_multiline=OptionsInfo(scss=False, category='source_notes', type='boolean', value=True), source_notes_sep=OptionsInfo(scss=False, category='source_notes', type='value', value=' '), container_width=OptionsInfo(scss=False, category='container', type='px', value='auto'), container_height=OptionsInfo(scss=False, category='container', type='px', value='auto'), container_padding_x=OptionsInfo(scss=False, category='container', type='px', value='0px'), container_padding_y=OptionsInfo(scss=False, category='container', type='px', value='10px'), container_overflow_x=OptionsInfo(scss=False, category='container', type='overflow', value='auto'), container_overflow_y=OptionsInfo(scss=False, category='container', type='overflow', value='auto'), quarto_disable_processing=OptionsInfo(scss=False, category='quarto', type='logical', value=False), quarto_use_bootstrap=OptionsInfo(scss=False, category='quarto', type='logical', value=False)), _has_built=False)"
      ]
     },
     "execution_count": 251,
     "metadata": {},
     "output_type": "execute_result"
    }
   ],
   "source": [
    "df.style.tab_spanner(\n",
    "    \"Measures\", cs.starts_with(\"measure\")\n",
    ")  "
   ]
  },
  {
   "cell_type": "code",
   "execution_count": 252,
   "id": "a7338632-3eae-4f27-b57c-a55e678a352e",
   "metadata": {},
   "outputs": [
    {
     "data": {
      "text/html": [
       "<div id=\"egiptmoqcy\" style=\"padding-left:0px;padding-right:0px;padding-top:10px;padding-bottom:10px;overflow-x:auto;overflow-y:auto;width:auto;height:auto;\">\n",
       "<style>\n",
       "#egiptmoqcy table {\n",
       "          font-family: -apple-system, BlinkMacSystemFont, 'Segoe UI', Roboto, Oxygen, Ubuntu, Cantarell, 'Helvetica Neue', 'Fira Sans', 'Droid Sans', Arial, sans-serif;\n",
       "          -webkit-font-smoothing: antialiased;\n",
       "          -moz-osx-font-smoothing: grayscale;\n",
       "        }\n",
       "\n",
       "#egiptmoqcy thead, tbody, tfoot, tr, td, th { border-style: none; }\n",
       " tr { background-color: transparent; }\n",
       "#egiptmoqcy p { margin: 0; padding: 0; }\n",
       " #egiptmoqcy .gt_table { display: table; border-collapse: collapse; line-height: normal; margin-left: auto; margin-right: auto; color: #333333; font-size: 16px; font-weight: normal; font-style: normal; background-color: #FFFFFF; width: auto; border-top-style: solid; border-top-width: 2px; border-top-color: #A8A8A8; border-right-style: none; border-right-width: 2px; border-right-color: #D3D3D3; border-bottom-style: solid; border-bottom-width: 2px; border-bottom-color: #A8A8A8; border-left-style: none; border-left-width: 2px; border-left-color: #D3D3D3; }\n",
       " #egiptmoqcy .gt_caption { padding-top: 4px; padding-bottom: 4px; }\n",
       " #egiptmoqcy .gt_title { color: #333333; font-size: 125%; font-weight: initial; padding-top: 4px; padding-bottom: 4px; padding-left: 5px; padding-right: 5px; border-bottom-color: #FFFFFF; border-bottom-width: 0; }\n",
       " #egiptmoqcy .gt_subtitle { color: #333333; font-size: 85%; font-weight: initial; padding-top: 3px; padding-bottom: 5px; padding-left: 5px; padding-right: 5px; border-top-color: #FFFFFF; border-top-width: 0; }\n",
       " #egiptmoqcy .gt_heading { background-color: #FFFFFF; text-align: center; border-bottom-color: #FFFFFF; border-left-style: none; border-left-width: 1px; border-left-color: #D3D3D3; border-right-style: none; border-right-width: 1px; border-right-color: #D3D3D3; }\n",
       " #egiptmoqcy .gt_bottom_border { border-bottom-style: solid; border-bottom-width: 2px; border-bottom-color: #D3D3D3; }\n",
       " #egiptmoqcy .gt_col_headings { border-top-style: solid; border-top-width: 2px; border-top-color: #D3D3D3; border-bottom-style: solid; border-bottom-width: 2px; border-bottom-color: #D3D3D3; border-left-style: none; border-left-width: 1px; border-left-color: #D3D3D3; border-right-style: none; border-right-width: 1px; border-right-color: #D3D3D3; }\n",
       " #egiptmoqcy .gt_col_heading { color: #333333; background-color: #FFFFFF; font-size: 100%; font-weight: normal; text-transform: inherit; border-left-style: none; border-left-width: 1px; border-left-color: #D3D3D3; border-right-style: none; border-right-width: 1px; border-right-color: #D3D3D3; vertical-align: bottom; padding-top: 5px; padding-bottom: 5px; padding-left: 5px; padding-right: 5px; overflow-x: hidden; }\n",
       " #egiptmoqcy .gt_column_spanner_outer { color: #333333; background-color: #FFFFFF; font-size: 100%; font-weight: normal; text-transform: inherit; padding-top: 0; padding-bottom: 0; padding-left: 4px; padding-right: 4px; }\n",
       " #egiptmoqcy .gt_column_spanner_outer:first-child { padding-left: 0; }\n",
       " #egiptmoqcy .gt_column_spanner_outer:last-child { padding-right: 0; }\n",
       " #egiptmoqcy .gt_column_spanner { border-bottom-style: solid; border-bottom-width: 2px; border-bottom-color: #D3D3D3; vertical-align: bottom; padding-top: 5px; padding-bottom: 5px; overflow-x: hidden; display: inline-block; width: 100%; }\n",
       " #egiptmoqcy .gt_spanner_row { border-bottom-style: hidden; }\n",
       " #egiptmoqcy .gt_group_heading { padding-top: 8px; padding-bottom: 8px; padding-left: 5px; padding-right: 5px; color: #333333; background-color: #FFFFFF; font-size: 100%; font-weight: initial; text-transform: inherit; border-top-style: solid; border-top-width: 2px; border-top-color: #D3D3D3; border-bottom-style: solid; border-bottom-width: 2px; border-bottom-color: #D3D3D3; border-left-style: none; border-left-width: 1px; border-left-color: #D3D3D3; border-right-style: none; border-right-width: 1px; border-right-color: #D3D3D3; vertical-align: middle; text-align: left; }\n",
       " #egiptmoqcy .gt_empty_group_heading { padding: 0.5px; color: #333333; background-color: #FFFFFF; font-size: 100%; font-weight: initial; border-top-style: solid; border-top-width: 2px; border-top-color: #D3D3D3; border-bottom-style: solid; border-bottom-width: 2px; border-bottom-color: #D3D3D3; vertical-align: middle; }\n",
       " #egiptmoqcy .gt_from_md> :first-child { margin-top: 0; }\n",
       " #egiptmoqcy .gt_from_md> :last-child { margin-bottom: 0; }\n",
       " #egiptmoqcy .gt_row { padding-top: 8px; padding-bottom: 8px; padding-left: 5px; padding-right: 5px; margin: 10px; border-top-style: solid; border-top-width: 1px; border-top-color: #D3D3D3; border-left-style: none; border-left-width: 1px; border-left-color: #D3D3D3; border-right-style: none; border-right-width: 1px; border-right-color: #D3D3D3; vertical-align: middle; overflow-x: hidden; }\n",
       " #egiptmoqcy .gt_stub { color: #333333; background-color: #FFFFFF; font-size: 100%; font-weight: initial; text-transform: inherit; border-right-style: solid; border-right-width: 2px; border-right-color: #D3D3D3; padding-left: 5px; padding-right: 5px; }\n",
       " #egiptmoqcy .gt_stub_row_group { color: #333333; background-color: #FFFFFF; font-size: 100%; font-weight: initial; text-transform: inherit; border-right-style: solid; border-right-width: 2px; border-right-color: #D3D3D3; padding-left: 5px; padding-right: 5px; vertical-align: top; }\n",
       " #egiptmoqcy .gt_row_group_first td { border-top-width: 2px; }\n",
       " #egiptmoqcy .gt_row_group_first th { border-top-width: 2px; }\n",
       " #egiptmoqcy .gt_table_body { border-top-style: solid; border-top-width: 2px; border-top-color: #D3D3D3; border-bottom-style: solid; border-bottom-width: 2px; border-bottom-color: #D3D3D3; }\n",
       " #egiptmoqcy .gt_sourcenotes { color: #333333; background-color: #FFFFFF; border-bottom-style: none; border-bottom-width: 2px; border-bottom-color: #D3D3D3; border-left-style: none; border-left-width: 2px; border-left-color: #D3D3D3; border-right-style: none; border-right-width: 2px; border-right-color: #D3D3D3; }\n",
       " #egiptmoqcy .gt_sourcenote { font-size: 90%; padding-top: 4px; padding-bottom: 4px; padding-left: 5px; padding-right: 5px; text-align: left; }\n",
       " #egiptmoqcy .gt_left { text-align: left; }\n",
       " #egiptmoqcy .gt_center { text-align: center; }\n",
       " #egiptmoqcy .gt_right { text-align: right; font-variant-numeric: tabular-nums; }\n",
       " #egiptmoqcy .gt_font_normal { font-weight: normal; }\n",
       " #egiptmoqcy .gt_font_bold { font-weight: bold; }\n",
       " #egiptmoqcy .gt_font_italic { font-style: italic; }\n",
       " #egiptmoqcy .gt_super { font-size: 65%; }\n",
       " #egiptmoqcy .gt_footnote_marks { font-size: 75%; vertical-align: 0.4em; position: initial; }\n",
       " #egiptmoqcy .gt_asterisk { font-size: 100%; vertical-align: 0; }\n",
       " \n",
       "</style>\n",
       "<table class=\"gt_table\" data-quarto-disable-processing=\"false\" data-quarto-bootstrap=\"false\">\n",
       "\n",
       "<tr class=\"gt_col_headings\">\n",
       "  <th class=\"gt_col_heading gt_columns_bottom_border gt_right\" rowspan=\"1\" colspan=\"1\" scope=\"col\" id=\"site_id\">site_id</th>\n",
       "  <th class=\"gt_col_heading gt_columns_bottom_border gt_right\" rowspan=\"1\" colspan=\"1\" scope=\"col\" id=\"measure_a\">measure_a</th>\n",
       "  <th class=\"gt_col_heading gt_columns_bottom_border gt_right\" rowspan=\"1\" colspan=\"1\" scope=\"col\" id=\"measure_b\">measure_b</th>\n",
       "</tr>\n",
       "<tbody class=\"gt_table_body\">\n",
       "  <tr>\n",
       "    <td class=\"gt_row gt_right\">0</td>\n",
       "    <td class=\"gt_row gt_right\">5</td>\n",
       "    <td class=\"gt_row gt_right\">7.00</td>\n",
       "  </tr>\n",
       "  <tr>\n",
       "    <td class=\"gt_row gt_right\">1</td>\n",
       "    <td class=\"gt_row gt_right\">4</td>\n",
       "    <td class=\"gt_row gt_right\">3.00</td>\n",
       "  </tr>\n",
       "  <tr>\n",
       "    <td class=\"gt_row gt_right\">2</td>\n",
       "    <td class=\"gt_row gt_right\">6</td>\n",
       "    <td class=\"gt_row gt_right\">3.00</td>\n",
       "  </tr>\n",
       "</tbody>\n",
       "\n",
       "\n",
       "</table>\n",
       "\n",
       "</div>\n",
       "        "
      ],
      "text/plain": [
       "GT(_tbl_data=shape: (3, 3)\n",
       "┌─────────┬───────────┬───────────┐\n",
       "│ site_id ┆ measure_a ┆ measure_b │\n",
       "│ ---     ┆ ---       ┆ ---       │\n",
       "│ i64     ┆ i64       ┆ i64       │\n",
       "╞═════════╪═══════════╪═══════════╡\n",
       "│ 0       ┆ 5         ┆ 7         │\n",
       "│ 1       ┆ 4         ┆ 3         │\n",
       "│ 2       ┆ 6         ┆ 3         │\n",
       "└─────────┴───────────┴───────────┘, _body=<great_tables._gt_data.Body object at 0x1338d93a0>, _boxhead=Boxhead([ColInfo(var='site_id', type=<ColInfoTypeEnum.default: 1>, column_label='site_id', column_align='right', column_width=None), ColInfo(var='measure_a', type=<ColInfoTypeEnum.default: 1>, column_label='measure_a', column_align='right', column_width=None), ColInfo(var='measure_b', type=<ColInfoTypeEnum.default: 1>, column_label='measure_b', column_align='right', column_width=None)]), _stub=<great_tables._gt_data.Stub object at 0x133aba660>, _spanners=Spanners([]), _heading=Heading(title=None, subtitle=None, preheader=None), _stubhead=None, _source_notes=[], _footnotes=[], _styles=[], _locale=<great_tables._gt_data.Locale object at 0x133857ad0>, _formats=[<great_tables._gt_data.FormatInfo object at 0x133a23380>], _substitutions=[], _options=Options(table_id=OptionsInfo(scss=False, category='table', type='value', value=None), table_caption=OptionsInfo(scss=False, category='table', type='value', value=None), table_width=OptionsInfo(scss=True, category='table', type='px', value='auto'), table_layout=OptionsInfo(scss=True, category='table', type='value', value='fixed'), table_margin_left=OptionsInfo(scss=True, category='table', type='px', value='auto'), table_margin_right=OptionsInfo(scss=True, category='table', type='px', value='auto'), table_background_color=OptionsInfo(scss=True, category='table', type='value', value='#FFFFFF'), table_font_names=OptionsInfo(scss=False, category='table', type='values', value=['-apple-system', 'BlinkMacSystemFont', 'Segoe UI', 'Roboto', 'Oxygen', 'Ubuntu', 'Cantarell', 'Helvetica Neue', 'Fira Sans', 'Droid Sans', 'Arial', 'sans-serif']), table_font_size=OptionsInfo(scss=True, category='table', type='px', value='16px'), table_font_weight=OptionsInfo(scss=True, category='table', type='value', value='normal'), table_font_style=OptionsInfo(scss=True, category='table', type='value', value='normal'), table_font_color=OptionsInfo(scss=True, category='table', type='value', value='#333333'), table_font_color_light=OptionsInfo(scss=True, category='table', type='value', value='#FFFFFF'), table_border_top_include=OptionsInfo(scss=False, category='table', type='boolean', value=True), table_border_top_style=OptionsInfo(scss=True, category='table', type='value', value='solid'), table_border_top_width=OptionsInfo(scss=True, category='table', type='px', value='2px'), table_border_top_color=OptionsInfo(scss=True, category='table', type='value', value='#A8A8A8'), table_border_right_style=OptionsInfo(scss=True, category='table', type='value', value='none'), table_border_right_width=OptionsInfo(scss=True, category='table', type='px', value='2px'), table_border_right_color=OptionsInfo(scss=True, category='table', type='value', value='#D3D3D3'), table_border_bottom_include=OptionsInfo(scss=False, category='table', type='boolean', value=True), table_border_bottom_style=OptionsInfo(scss=True, category='table', type='value', value='solid'), table_border_bottom_width=OptionsInfo(scss=True, category='table', type='px', value='2px'), table_border_bottom_color=OptionsInfo(scss=True, category='table', type='value', value='#A8A8A8'), table_border_left_style=OptionsInfo(scss=True, category='table', type='value', value='none'), table_border_left_width=OptionsInfo(scss=True, category='table', type='px', value='2px'), table_border_left_color=OptionsInfo(scss=True, category='table', type='value', value='#D3D3D3'), heading_background_color=OptionsInfo(scss=True, category='heading', type='value', value=None), heading_align=OptionsInfo(scss=True, category='heading', type='value', value='center'), heading_title_font_size=OptionsInfo(scss=True, category='heading', type='px', value='125%'), heading_title_font_weight=OptionsInfo(scss=True, category='heading', type='value', value='initial'), heading_subtitle_font_size=OptionsInfo(scss=True, category='heading', type='px', value='85%'), heading_subtitle_font_weight=OptionsInfo(scss=True, category='heading', type='value', value='initial'), heading_padding=OptionsInfo(scss=True, category='heading', type='px', value='4px'), heading_padding_horizontal=OptionsInfo(scss=True, category='heading', type='px', value='5px'), heading_border_bottom_style=OptionsInfo(scss=True, category='heading', type='value', value='solid'), heading_border_bottom_width=OptionsInfo(scss=True, category='heading', type='px', value='2px'), heading_border_bottom_color=OptionsInfo(scss=True, category='heading', type='value', value='#D3D3D3'), heading_border_lr_style=OptionsInfo(scss=True, category='heading', type='value', value='none'), heading_border_lr_width=OptionsInfo(scss=True, category='heading', type='px', value='1px'), heading_border_lr_color=OptionsInfo(scss=True, category='heading', type='value', value='#D3D3D3'), column_labels_background_color=OptionsInfo(scss=True, category='column_labels', type='value', value=None), column_labels_font_size=OptionsInfo(scss=True, category='column_labels', type='px', value='100%'), column_labels_font_weight=OptionsInfo(scss=True, category='column_labels', type='value', value='normal'), column_labels_text_transform=OptionsInfo(scss=True, category='column_labels', type='value', value='inherit'), column_labels_padding=OptionsInfo(scss=True, category='column_labels', type='px', value='5px'), column_labels_padding_horizontal=OptionsInfo(scss=True, category='column_labels', type='px', value='5px'), column_labels_vlines_style=OptionsInfo(scss=True, category='table_body', type='value', value='none'), column_labels_vlines_width=OptionsInfo(scss=True, category='table_body', type='px', value='1px'), column_labels_vlines_color=OptionsInfo(scss=True, category='table_body', type='value', value='#D3D3D3'), column_labels_border_top_style=OptionsInfo(scss=True, category='column_labels', type='value', value='solid'), column_labels_border_top_width=OptionsInfo(scss=True, category='column_labels', type='px', value='2px'), column_labels_border_top_color=OptionsInfo(scss=True, category='column_labels', type='value', value='#D3D3D3'), column_labels_border_bottom_style=OptionsInfo(scss=True, category='column_labels', type='value', value='solid'), column_labels_border_bottom_width=OptionsInfo(scss=True, category='column_labels', type='px', value='2px'), column_labels_border_bottom_color=OptionsInfo(scss=True, category='column_labels', type='value', value='#D3D3D3'), column_labels_border_lr_style=OptionsInfo(scss=True, category='column_labels', type='value', value='none'), column_labels_border_lr_width=OptionsInfo(scss=True, category='column_labels', type='px', value='1px'), column_labels_border_lr_color=OptionsInfo(scss=True, category='column_labels', type='value', value='#D3D3D3'), column_labels_hidden=OptionsInfo(scss=False, category='column_labels', type='boolean', value=False), row_group_background_color=OptionsInfo(scss=True, category='row_group', type='value', value=None), row_group_font_size=OptionsInfo(scss=True, category='row_group', type='px', value='100%'), row_group_font_weight=OptionsInfo(scss=True, category='row_group', type='value', value='initial'), row_group_text_transform=OptionsInfo(scss=True, category='row_group', type='value', value='inherit'), row_group_padding=OptionsInfo(scss=True, category='row_group', type='px', value='8px'), row_group_padding_horizontal=OptionsInfo(scss=True, category='row_group', type='px', value='5px'), row_group_border_top_style=OptionsInfo(scss=True, category='row_group', type='value', value='solid'), row_group_border_top_width=OptionsInfo(scss=True, category='row_group', type='px', value='2px'), row_group_border_top_color=OptionsInfo(scss=True, category='row_group', type='value', value='#D3D3D3'), row_group_border_right_style=OptionsInfo(scss=True, category='row_group', type='value', value='none'), row_group_border_right_width=OptionsInfo(scss=True, category='row_group', type='px', value='1px'), row_group_border_right_color=OptionsInfo(scss=True, category='row_group', type='value', value='#D3D3D3'), row_group_border_bottom_style=OptionsInfo(scss=True, category='row_group', type='value', value='solid'), row_group_border_bottom_width=OptionsInfo(scss=True, category='row_group', type='px', value='2px'), row_group_border_bottom_color=OptionsInfo(scss=True, category='row_group', type='value', value='#D3D3D3'), row_group_border_left_style=OptionsInfo(scss=True, category='row_group', type='value', value='none'), row_group_border_left_width=OptionsInfo(scss=True, category='row_group', type='px', value='1px'), row_group_border_left_color=OptionsInfo(scss=True, category='row_group', type='value', value='#D3D3D3'), row_group_as_column=OptionsInfo(scss=False, category='row_group', type='boolean', value=False), table_body_hlines_style=OptionsInfo(scss=True, category='table_body', type='value', value='solid'), table_body_hlines_width=OptionsInfo(scss=True, category='table_body', type='px', value='1px'), table_body_hlines_color=OptionsInfo(scss=True, category='table_body', type='value', value='#D3D3D3'), table_body_vlines_style=OptionsInfo(scss=True, category='table_body', type='value', value='none'), table_body_vlines_width=OptionsInfo(scss=True, category='table_body', type='px', value='1px'), table_body_vlines_color=OptionsInfo(scss=True, category='table_body', type='value', value='#D3D3D3'), table_body_border_top_style=OptionsInfo(scss=True, category='table_body', type='value', value='solid'), table_body_border_top_width=OptionsInfo(scss=True, category='table_body', type='px', value='2px'), table_body_border_top_color=OptionsInfo(scss=True, category='table_body', type='value', value='#D3D3D3'), table_body_border_bottom_style=OptionsInfo(scss=True, category='table_body', type='value', value='solid'), table_body_border_bottom_width=OptionsInfo(scss=True, category='table_body', type='px', value='2px'), table_body_border_bottom_color=OptionsInfo(scss=True, category='table_body', type='value', value='#D3D3D3'), data_row_padding=OptionsInfo(scss=True, category='data_row', type='px', value='8px'), data_row_padding_horizontal=OptionsInfo(scss=True, category='data_row', type='px', value='5px'), stub_background_color=OptionsInfo(scss=True, category='stub', type='value', value=None), stub_font_size=OptionsInfo(scss=True, category='stub', type='px', value='100%'), stub_font_weight=OptionsInfo(scss=True, category='stub', type='value', value='initial'), stub_text_transform=OptionsInfo(scss=True, category='stub', type='value', value='inherit'), stub_border_style=OptionsInfo(scss=True, category='stub', type='value', value='solid'), stub_border_width=OptionsInfo(scss=True, category='stub', type='px', value='2px'), stub_border_color=OptionsInfo(scss=True, category='stub', type='value', value='#D3D3D3'), stub_row_group_background_color=OptionsInfo(scss=True, category='stub', type='value', value=None), stub_row_group_font_size=OptionsInfo(scss=True, category='stub', type='px', value='100%'), stub_row_group_font_weight=OptionsInfo(scss=True, category='stub', type='value', value='initial'), stub_row_group_text_transform=OptionsInfo(scss=True, category='stub', type='value', value='inherit'), stub_row_group_border_style=OptionsInfo(scss=True, category='stub', type='value', value='solid'), stub_row_group_border_width=OptionsInfo(scss=True, category='stub', type='px', value='2px'), stub_row_group_border_color=OptionsInfo(scss=True, category='stub', type='value', value='#D3D3D3'), source_notes_padding=OptionsInfo(scss=True, category='source_notes', type='px', value='4px'), source_notes_padding_horizontal=OptionsInfo(scss=True, category='source_notes', type='px', value='5px'), source_notes_background_color=OptionsInfo(scss=True, category='source_notes', type='value', value=None), source_notes_font_size=OptionsInfo(scss=True, category='source_notes', type='px', value='90%'), source_notes_border_bottom_style=OptionsInfo(scss=True, category='source_notes', type='value', value='none'), source_notes_border_bottom_width=OptionsInfo(scss=True, category='source_notes', type='px', value='2px'), source_notes_border_bottom_color=OptionsInfo(scss=True, category='source_notes', type='value', value='#D3D3D3'), source_notes_border_lr_style=OptionsInfo(scss=True, category='source_notes', type='value', value='none'), source_notes_border_lr_width=OptionsInfo(scss=True, category='source_notes', type='px', value='2px'), source_notes_border_lr_color=OptionsInfo(scss=True, category='source_notes', type='value', value='#D3D3D3'), source_notes_multiline=OptionsInfo(scss=False, category='source_notes', type='boolean', value=True), source_notes_sep=OptionsInfo(scss=False, category='source_notes', type='value', value=' '), container_width=OptionsInfo(scss=False, category='container', type='px', value='auto'), container_height=OptionsInfo(scss=False, category='container', type='px', value='auto'), container_padding_x=OptionsInfo(scss=False, category='container', type='px', value='0px'), container_padding_y=OptionsInfo(scss=False, category='container', type='px', value='10px'), container_overflow_x=OptionsInfo(scss=False, category='container', type='overflow', value='auto'), container_overflow_y=OptionsInfo(scss=False, category='container', type='overflow', value='auto'), quarto_disable_processing=OptionsInfo(scss=False, category='quarto', type='logical', value=False), quarto_use_bootstrap=OptionsInfo(scss=False, category='quarto', type='logical', value=False)), _has_built=False)"
      ]
     },
     "execution_count": 252,
     "metadata": {},
     "output_type": "execute_result"
    }
   ],
   "source": [
    "df.style.fmt_number(\"measure_b\", decimals=2)  "
   ]
  },
  {
   "cell_type": "markdown",
   "id": "ad664f73-494b-4539-9419-729adff799ae",
   "metadata": {},
   "source": [
    "## sum"
   ]
  },
  {
   "cell_type": "code",
   "execution_count": 253,
   "id": "1a953226-07d2-4c86-b4ae-c6d6c832262a",
   "metadata": {},
   "outputs": [
    {
     "data": {
      "text/html": [
       "<div><style>\n",
       ".dataframe > thead > tr,\n",
       ".dataframe > tbody > tr {\n",
       "  text-align: right;\n",
       "  white-space: pre-wrap;\n",
       "}\n",
       "</style>\n",
       "<small>shape: (1, 3)</small><table border=\"1\" class=\"dataframe\"><thead><tr><th>foo</th><th>bar</th><th>ham</th></tr><tr><td>i64</td><td>i64</td><td>str</td></tr></thead><tbody><tr><td>6</td><td>21</td><td>null</td></tr></tbody></table></div>"
      ],
      "text/plain": [
       "shape: (1, 3)\n",
       "┌─────┬─────┬──────┐\n",
       "│ foo ┆ bar ┆ ham  │\n",
       "│ --- ┆ --- ┆ ---  │\n",
       "│ i64 ┆ i64 ┆ str  │\n",
       "╞═════╪═════╪══════╡\n",
       "│ 6   ┆ 21  ┆ null │\n",
       "└─────┴─────┴──────┘"
      ]
     },
     "execution_count": 253,
     "metadata": {},
     "output_type": "execute_result"
    }
   ],
   "source": [
    "df = pl.DataFrame(\n",
    "    {\n",
    "        \"foo\": [1, 2, 3],\n",
    "        \"bar\": [6, 7, 8],\n",
    "        \"ham\": [\"a\", \"b\", \"c\"],\n",
    "    }\n",
    ")\n",
    "df.sum()"
   ]
  },
  {
   "cell_type": "markdown",
   "id": "b6d84069-4615-4de0-bfc6-edbbed2eab9c",
   "metadata": {},
   "source": [
    "## sum_horizontal"
   ]
  },
  {
   "cell_type": "code",
   "execution_count": 254,
   "id": "d5b7710d-dede-4c4b-b19e-7539275e4cde",
   "metadata": {},
   "outputs": [
    {
     "data": {
      "text/html": [
       "<div><style>\n",
       ".dataframe > thead > tr,\n",
       ".dataframe > tbody > tr {\n",
       "  text-align: right;\n",
       "  white-space: pre-wrap;\n",
       "}\n",
       "</style>\n",
       "<small>shape: (3,)</small><table border=\"1\" class=\"dataframe\"><thead><tr><th>sum</th></tr><tr><td>f64</td></tr></thead><tbody><tr><td>5.0</td></tr><tr><td>7.0</td></tr><tr><td>9.0</td></tr></tbody></table></div>"
      ],
      "text/plain": [
       "shape: (3,)\n",
       "Series: 'sum' [f64]\n",
       "[\n",
       "\t5.0\n",
       "\t7.0\n",
       "\t9.0\n",
       "]"
      ]
     },
     "execution_count": 254,
     "metadata": {},
     "output_type": "execute_result"
    }
   ],
   "source": [
    "df = pl.DataFrame(\n",
    "    {\n",
    "        \"foo\": [1, 2, 3],\n",
    "        \"bar\": [4.0, 5.0, 6.0],\n",
    "    }\n",
    ")\n",
    "df.sum_horizontal()"
   ]
  },
  {
   "cell_type": "markdown",
   "id": "c174cc8f-ef93-43b9-9649-89ec51e4da2b",
   "metadata": {},
   "source": [
    "## tail"
   ]
  },
  {
   "cell_type": "code",
   "execution_count": 255,
   "id": "a3f7264c-47a3-460b-89e3-4ca5675a6529",
   "metadata": {},
   "outputs": [
    {
     "data": {
      "text/html": [
       "<div><style>\n",
       ".dataframe > thead > tr,\n",
       ".dataframe > tbody > tr {\n",
       "  text-align: right;\n",
       "  white-space: pre-wrap;\n",
       "}\n",
       "</style>\n",
       "<small>shape: (3, 3)</small><table border=\"1\" class=\"dataframe\"><thead><tr><th>foo</th><th>bar</th><th>ham</th></tr><tr><td>i64</td><td>i64</td><td>str</td></tr></thead><tbody><tr><td>3</td><td>8</td><td>&quot;c&quot;</td></tr><tr><td>4</td><td>9</td><td>&quot;d&quot;</td></tr><tr><td>5</td><td>10</td><td>&quot;e&quot;</td></tr></tbody></table></div>"
      ],
      "text/plain": [
       "shape: (3, 3)\n",
       "┌─────┬─────┬─────┐\n",
       "│ foo ┆ bar ┆ ham │\n",
       "│ --- ┆ --- ┆ --- │\n",
       "│ i64 ┆ i64 ┆ str │\n",
       "╞═════╪═════╪═════╡\n",
       "│ 3   ┆ 8   ┆ c   │\n",
       "│ 4   ┆ 9   ┆ d   │\n",
       "│ 5   ┆ 10  ┆ e   │\n",
       "└─────┴─────┴─────┘"
      ]
     },
     "execution_count": 255,
     "metadata": {},
     "output_type": "execute_result"
    }
   ],
   "source": [
    "df = pl.DataFrame(\n",
    "    {\n",
    "        \"foo\": [1, 2, 3, 4, 5],\n",
    "        \"bar\": [6, 7, 8, 9, 10],\n",
    "        \"ham\": [\"a\", \"b\", \"c\", \"d\", \"e\"],\n",
    "    }\n",
    ")\n",
    "df.tail(3)"
   ]
  },
  {
   "cell_type": "markdown",
   "id": "1a1c84ae-e086-4cab-aa2b-60e5fb48ab1f",
   "metadata": {},
   "source": [
    "## to_arrow"
   ]
  },
  {
   "cell_type": "code",
   "execution_count": 256,
   "id": "0ad045d7-2450-45dc-9a5e-d4a53706b117",
   "metadata": {},
   "outputs": [
    {
     "data": {
      "text/plain": [
       "pyarrow.Table\n",
       "foo: int64\n",
       "bar: large_string\n",
       "----\n",
       "foo: [[1,2,3,4,5,6]]\n",
       "bar: [[\"a\",\"b\",\"c\",\"d\",\"e\",\"f\"]]"
      ]
     },
     "execution_count": 256,
     "metadata": {},
     "output_type": "execute_result"
    }
   ],
   "source": [
    "df = pl.DataFrame(\n",
    "    {\"foo\": [1, 2, 3, 4, 5, 6], \"bar\": [\"a\", \"b\", \"c\", \"d\", \"e\", \"f\"]}\n",
    ")\n",
    "df.to_arrow()"
   ]
  },
  {
   "cell_type": "code",
   "execution_count": 257,
   "id": "3f7191c8-3146-49ef-995e-b49a11d8e96c",
   "metadata": {},
   "outputs": [
    {
     "data": {
      "text/plain": [
       "pyarrow.lib.Table"
      ]
     },
     "execution_count": 257,
     "metadata": {},
     "output_type": "execute_result"
    }
   ],
   "source": [
    "type(df.to_arrow())"
   ]
  },
  {
   "cell_type": "markdown",
   "id": "2f5dcbf6-114d-43a9-9255-193dc9162a68",
   "metadata": {},
   "source": [
    "## to_dict"
   ]
  },
  {
   "cell_type": "code",
   "execution_count": 258,
   "id": "1bbfd65b-d614-4a15-81bd-957024780287",
   "metadata": {},
   "outputs": [
    {
     "data": {
      "text/html": [
       "<div><style>\n",
       ".dataframe > thead > tr,\n",
       ".dataframe > tbody > tr {\n",
       "  text-align: right;\n",
       "  white-space: pre-wrap;\n",
       "}\n",
       "</style>\n",
       "<small>shape: (5, 5)</small><table border=\"1\" class=\"dataframe\"><thead><tr><th>A</th><th>fruits</th><th>B</th><th>cars</th><th>optional</th></tr><tr><td>i64</td><td>str</td><td>i64</td><td>str</td><td>i64</td></tr></thead><tbody><tr><td>1</td><td>&quot;banana&quot;</td><td>5</td><td>&quot;beetle&quot;</td><td>28</td></tr><tr><td>2</td><td>&quot;banana&quot;</td><td>4</td><td>&quot;audi&quot;</td><td>300</td></tr><tr><td>3</td><td>&quot;apple&quot;</td><td>3</td><td>&quot;beetle&quot;</td><td>null</td></tr><tr><td>4</td><td>&quot;apple&quot;</td><td>2</td><td>&quot;beetle&quot;</td><td>2</td></tr><tr><td>5</td><td>&quot;banana&quot;</td><td>1</td><td>&quot;beetle&quot;</td><td>-30</td></tr></tbody></table></div>"
      ],
      "text/plain": [
       "shape: (5, 5)\n",
       "┌─────┬────────┬─────┬────────┬──────────┐\n",
       "│ A   ┆ fruits ┆ B   ┆ cars   ┆ optional │\n",
       "│ --- ┆ ---    ┆ --- ┆ ---    ┆ ---      │\n",
       "│ i64 ┆ str    ┆ i64 ┆ str    ┆ i64      │\n",
       "╞═════╪════════╪═════╪════════╪══════════╡\n",
       "│ 1   ┆ banana ┆ 5   ┆ beetle ┆ 28       │\n",
       "│ 2   ┆ banana ┆ 4   ┆ audi   ┆ 300      │\n",
       "│ 3   ┆ apple  ┆ 3   ┆ beetle ┆ null     │\n",
       "│ 4   ┆ apple  ┆ 2   ┆ beetle ┆ 2        │\n",
       "│ 5   ┆ banana ┆ 1   ┆ beetle ┆ -30      │\n",
       "└─────┴────────┴─────┴────────┴──────────┘"
      ]
     },
     "execution_count": 258,
     "metadata": {},
     "output_type": "execute_result"
    }
   ],
   "source": [
    "df = pl.DataFrame(\n",
    "    {\n",
    "        \"A\": [1, 2, 3, 4, 5],\n",
    "        \"fruits\": [\"banana\", \"banana\", \"apple\", \"apple\", \"banana\"],\n",
    "        \"B\": [5, 4, 3, 2, 1],\n",
    "        \"cars\": [\"beetle\", \"audi\", \"beetle\", \"beetle\", \"beetle\"],\n",
    "        \"optional\": [28, 300, None, 2, -30],\n",
    "    }\n",
    ")\n",
    "df"
   ]
  },
  {
   "cell_type": "code",
   "execution_count": 259,
   "id": "9270a842-ece0-4d99-bbb8-837cc5d314e6",
   "metadata": {},
   "outputs": [
    {
     "data": {
      "text/plain": [
       "{'A': [1, 2, 3, 4, 5],\n",
       " 'fruits': ['banana', 'banana', 'apple', 'apple', 'banana'],\n",
       " 'B': [5, 4, 3, 2, 1],\n",
       " 'cars': ['beetle', 'audi', 'beetle', 'beetle', 'beetle'],\n",
       " 'optional': [28, 300, None, 2, -30]}"
      ]
     },
     "execution_count": 259,
     "metadata": {},
     "output_type": "execute_result"
    }
   ],
   "source": [
    "df.to_dict(as_series=False)"
   ]
  },
  {
   "cell_type": "code",
   "execution_count": 260,
   "id": "0f5e14de-d459-4af7-af95-d1bbecb6b5a2",
   "metadata": {},
   "outputs": [
    {
     "data": {
      "text/plain": [
       "{'A': shape: (5,)\n",
       " Series: 'A' [i64]\n",
       " [\n",
       " \t1\n",
       " \t2\n",
       " \t3\n",
       " \t4\n",
       " \t5\n",
       " ],\n",
       " 'fruits': shape: (5,)\n",
       " Series: 'fruits' [str]\n",
       " [\n",
       " \t\"banana\"\n",
       " \t\"banana\"\n",
       " \t\"apple\"\n",
       " \t\"apple\"\n",
       " \t\"banana\"\n",
       " ],\n",
       " 'B': shape: (5,)\n",
       " Series: 'B' [i64]\n",
       " [\n",
       " \t5\n",
       " \t4\n",
       " \t3\n",
       " \t2\n",
       " \t1\n",
       " ],\n",
       " 'cars': shape: (5,)\n",
       " Series: 'cars' [str]\n",
       " [\n",
       " \t\"beetle\"\n",
       " \t\"audi\"\n",
       " \t\"beetle\"\n",
       " \t\"beetle\"\n",
       " \t\"beetle\"\n",
       " ],\n",
       " 'optional': shape: (5,)\n",
       " Series: 'optional' [i64]\n",
       " [\n",
       " \t28\n",
       " \t300\n",
       " \tnull\n",
       " \t2\n",
       " \t-30\n",
       " ]}"
      ]
     },
     "execution_count": 260,
     "metadata": {},
     "output_type": "execute_result"
    }
   ],
   "source": [
    "df.to_dict(as_series=True)"
   ]
  },
  {
   "cell_type": "markdown",
   "id": "ca2cc947-17aa-4433-9d59-ed2b99fd3711",
   "metadata": {},
   "source": [
    "## to_dicts"
   ]
  },
  {
   "cell_type": "code",
   "execution_count": 261,
   "id": "f9ea348c-125b-4002-8722-f72a9eff0a81",
   "metadata": {},
   "outputs": [
    {
     "data": {
      "text/plain": [
       "[{'foo': 1, 'bar': 4}, {'foo': 2, 'bar': 5}, {'foo': 3, 'bar': 6}]"
      ]
     },
     "execution_count": 261,
     "metadata": {},
     "output_type": "execute_result"
    }
   ],
   "source": [
    "df = pl.DataFrame({\"foo\": [1, 2, 3], \"bar\": [4, 5, 6]})\n",
    "df.to_dicts()"
   ]
  },
  {
   "cell_type": "markdown",
   "id": "aca49652-b443-4fbc-ac88-99db94e753df",
   "metadata": {},
   "source": [
    "## to_dummies"
   ]
  },
  {
   "cell_type": "code",
   "execution_count": 262,
   "id": "672100f3-ed1b-4b1d-bcc1-842e45894757",
   "metadata": {},
   "outputs": [
    {
     "data": {
      "text/html": [
       "<div><style>\n",
       ".dataframe > thead > tr,\n",
       ".dataframe > tbody > tr {\n",
       "  text-align: right;\n",
       "  white-space: pre-wrap;\n",
       "}\n",
       "</style>\n",
       "<small>shape: (2, 6)</small><table border=\"1\" class=\"dataframe\"><thead><tr><th>foo_1</th><th>foo_2</th><th>bar_3</th><th>bar_4</th><th>ham_a</th><th>ham_b</th></tr><tr><td>u8</td><td>u8</td><td>u8</td><td>u8</td><td>u8</td><td>u8</td></tr></thead><tbody><tr><td>1</td><td>0</td><td>1</td><td>0</td><td>1</td><td>0</td></tr><tr><td>0</td><td>1</td><td>0</td><td>1</td><td>0</td><td>1</td></tr></tbody></table></div>"
      ],
      "text/plain": [
       "shape: (2, 6)\n",
       "┌───────┬───────┬───────┬───────┬───────┬───────┐\n",
       "│ foo_1 ┆ foo_2 ┆ bar_3 ┆ bar_4 ┆ ham_a ┆ ham_b │\n",
       "│ ---   ┆ ---   ┆ ---   ┆ ---   ┆ ---   ┆ ---   │\n",
       "│ u8    ┆ u8    ┆ u8    ┆ u8    ┆ u8    ┆ u8    │\n",
       "╞═══════╪═══════╪═══════╪═══════╪═══════╪═══════╡\n",
       "│ 1     ┆ 0     ┆ 1     ┆ 0     ┆ 1     ┆ 0     │\n",
       "│ 0     ┆ 1     ┆ 0     ┆ 1     ┆ 0     ┆ 1     │\n",
       "└───────┴───────┴───────┴───────┴───────┴───────┘"
      ]
     },
     "execution_count": 262,
     "metadata": {},
     "output_type": "execute_result"
    }
   ],
   "source": [
    "df = pl.DataFrame(\n",
    "    {\n",
    "        \"foo\": [1, 2],\n",
    "        \"bar\": [3, 4],\n",
    "        \"ham\": [\"a\", \"b\"],\n",
    "    }\n",
    ")\n",
    "df.to_dummies()"
   ]
  },
  {
   "cell_type": "code",
   "execution_count": 263,
   "id": "128048d9-4bca-4cb7-9490-5638a360d065",
   "metadata": {},
   "outputs": [
    {
     "data": {
      "text/html": [
       "<div><style>\n",
       ".dataframe > thead > tr,\n",
       ".dataframe > tbody > tr {\n",
       "  text-align: right;\n",
       "  white-space: pre-wrap;\n",
       "}\n",
       "</style>\n",
       "<small>shape: (2, 3)</small><table border=\"1\" class=\"dataframe\"><thead><tr><th>foo_2</th><th>bar_4</th><th>ham_b</th></tr><tr><td>u8</td><td>u8</td><td>u8</td></tr></thead><tbody><tr><td>0</td><td>0</td><td>0</td></tr><tr><td>1</td><td>1</td><td>1</td></tr></tbody></table></div>"
      ],
      "text/plain": [
       "shape: (2, 3)\n",
       "┌───────┬───────┬───────┐\n",
       "│ foo_2 ┆ bar_4 ┆ ham_b │\n",
       "│ ---   ┆ ---   ┆ ---   │\n",
       "│ u8    ┆ u8    ┆ u8    │\n",
       "╞═══════╪═══════╪═══════╡\n",
       "│ 0     ┆ 0     ┆ 0     │\n",
       "│ 1     ┆ 1     ┆ 1     │\n",
       "└───────┴───────┴───────┘"
      ]
     },
     "execution_count": 263,
     "metadata": {},
     "output_type": "execute_result"
    }
   ],
   "source": [
    "df.to_dummies(drop_first=True)"
   ]
  },
  {
   "cell_type": "code",
   "execution_count": 264,
   "id": "c2266a38-3723-49f5-96ed-84d2e623a829",
   "metadata": {},
   "outputs": [
    {
     "data": {
      "text/html": [
       "<div><style>\n",
       ".dataframe > thead > tr,\n",
       ".dataframe > tbody > tr {\n",
       "  text-align: right;\n",
       "  white-space: pre-wrap;\n",
       "}\n",
       "</style>\n",
       "<small>shape: (2, 5)</small><table border=\"1\" class=\"dataframe\"><thead><tr><th>foo:1</th><th>foo:2</th><th>bar:3</th><th>bar:4</th><th>ham</th></tr><tr><td>u8</td><td>u8</td><td>u8</td><td>u8</td><td>str</td></tr></thead><tbody><tr><td>1</td><td>0</td><td>1</td><td>0</td><td>&quot;a&quot;</td></tr><tr><td>0</td><td>1</td><td>0</td><td>1</td><td>&quot;b&quot;</td></tr></tbody></table></div>"
      ],
      "text/plain": [
       "shape: (2, 5)\n",
       "┌───────┬───────┬───────┬───────┬─────┐\n",
       "│ foo:1 ┆ foo:2 ┆ bar:3 ┆ bar:4 ┆ ham │\n",
       "│ ---   ┆ ---   ┆ ---   ┆ ---   ┆ --- │\n",
       "│ u8    ┆ u8    ┆ u8    ┆ u8    ┆ str │\n",
       "╞═══════╪═══════╪═══════╪═══════╪═════╡\n",
       "│ 1     ┆ 0     ┆ 1     ┆ 0     ┆ a   │\n",
       "│ 0     ┆ 1     ┆ 0     ┆ 1     ┆ b   │\n",
       "└───────┴───────┴───────┴───────┴─────┘"
      ]
     },
     "execution_count": 264,
     "metadata": {},
     "output_type": "execute_result"
    }
   ],
   "source": [
    "import polars.selectors as cs\n",
    "df.to_dummies(cs.integer(), separator=\":\")"
   ]
  },
  {
   "cell_type": "code",
   "execution_count": 265,
   "id": "a83ac468-d64b-4197-a143-38233101f82b",
   "metadata": {},
   "outputs": [
    {
     "data": {
      "text/html": [
       "<div><style>\n",
       ".dataframe > thead > tr,\n",
       ".dataframe > tbody > tr {\n",
       "  text-align: right;\n",
       "  white-space: pre-wrap;\n",
       "}\n",
       "</style>\n",
       "<small>shape: (2, 3)</small><table border=\"1\" class=\"dataframe\"><thead><tr><th>foo:2</th><th>bar:4</th><th>ham</th></tr><tr><td>u8</td><td>u8</td><td>str</td></tr></thead><tbody><tr><td>0</td><td>0</td><td>&quot;a&quot;</td></tr><tr><td>1</td><td>1</td><td>&quot;b&quot;</td></tr></tbody></table></div>"
      ],
      "text/plain": [
       "shape: (2, 3)\n",
       "┌───────┬───────┬─────┐\n",
       "│ foo:2 ┆ bar:4 ┆ ham │\n",
       "│ ---   ┆ ---   ┆ --- │\n",
       "│ u8    ┆ u8    ┆ str │\n",
       "╞═══════╪═══════╪═════╡\n",
       "│ 0     ┆ 0     ┆ a   │\n",
       "│ 1     ┆ 1     ┆ b   │\n",
       "└───────┴───────┴─────┘"
      ]
     },
     "execution_count": 265,
     "metadata": {},
     "output_type": "execute_result"
    }
   ],
   "source": [
    "df.to_dummies(cs.integer(), drop_first=True, separator=\":\")"
   ]
  },
  {
   "cell_type": "markdown",
   "id": "b9056594-04f8-40d5-a80e-cb45235c2ab6",
   "metadata": {},
   "source": [
    "## to_init_repr"
   ]
  },
  {
   "cell_type": "code",
   "execution_count": 266,
   "id": "b0f317cc-a5ea-4694-b041-3ded2e255071",
   "metadata": {},
   "outputs": [
    {
     "name": "stdout",
     "output_type": "stream",
     "text": [
      "pl.DataFrame(\n",
      "    [\n",
      "        pl.Series('foo', [1, 2, 3], dtype=pl.UInt8),\n",
      "        pl.Series('bar', [6.0, 7.0, 8.0], dtype=pl.Float32),\n",
      "        pl.Series('ham', ['a', 'b', 'c'], dtype=pl.String),\n",
      "    ]\n",
      ")\n",
      "\n"
     ]
    }
   ],
   "source": [
    "df = pl.DataFrame(\n",
    "    [\n",
    "        pl.Series(\"foo\", [1, 2, 3], dtype=pl.UInt8),\n",
    "        pl.Series(\"bar\", [6.0, 7.0, 8.0], dtype=pl.Float32),\n",
    "        pl.Series(\"ham\", [\"a\", \"b\", \"c\"], dtype=pl.String),\n",
    "    ]\n",
    ")\n",
    "print(df.to_init_repr())"
   ]
  },
  {
   "cell_type": "code",
   "execution_count": 267,
   "id": "fa926771-64c4-4a71-8d1e-f6c1b36a43d4",
   "metadata": {},
   "outputs": [
    {
     "data": {
      "text/plain": [
       "str"
      ]
     },
     "execution_count": 267,
     "metadata": {},
     "output_type": "execute_result"
    }
   ],
   "source": [
    "type(df.to_init_repr())"
   ]
  },
  {
   "cell_type": "code",
   "execution_count": 268,
   "id": "e650397a-c96b-4927-a8e2-d7aec4020bf5",
   "metadata": {},
   "outputs": [
    {
     "data": {
      "text/html": [
       "<div><style>\n",
       ".dataframe > thead > tr,\n",
       ".dataframe > tbody > tr {\n",
       "  text-align: right;\n",
       "  white-space: pre-wrap;\n",
       "}\n",
       "</style>\n",
       "<small>shape: (3, 3)</small><table border=\"1\" class=\"dataframe\"><thead><tr><th>foo</th><th>bar</th><th>ham</th></tr><tr><td>u8</td><td>f32</td><td>str</td></tr></thead><tbody><tr><td>1</td><td>6.0</td><td>&quot;a&quot;</td></tr><tr><td>2</td><td>7.0</td><td>&quot;b&quot;</td></tr><tr><td>3</td><td>8.0</td><td>&quot;c&quot;</td></tr></tbody></table></div>"
      ],
      "text/plain": [
       "shape: (3, 3)\n",
       "┌─────┬─────┬─────┐\n",
       "│ foo ┆ bar ┆ ham │\n",
       "│ --- ┆ --- ┆ --- │\n",
       "│ u8  ┆ f32 ┆ str │\n",
       "╞═════╪═════╪═════╡\n",
       "│ 1   ┆ 6.0 ┆ a   │\n",
       "│ 2   ┆ 7.0 ┆ b   │\n",
       "│ 3   ┆ 8.0 ┆ c   │\n",
       "└─────┴─────┴─────┘"
      ]
     },
     "execution_count": 268,
     "metadata": {},
     "output_type": "execute_result"
    }
   ],
   "source": [
    "df_from_str_repr = eval(df.to_init_repr())\n",
    "df_from_str_repr"
   ]
  },
  {
   "cell_type": "markdown",
   "id": "3345928c-e73a-4f84-a6ad-e3bf0746f45e",
   "metadata": {},
   "source": [
    "## to_numpy"
   ]
  },
  {
   "cell_type": "code",
   "execution_count": 269,
   "id": "050fa16b-dee9-40ac-8141-bc24f5bb45b7",
   "metadata": {},
   "outputs": [
    {
     "data": {
      "text/plain": [
       "array([[1],\n",
       "       [2],\n",
       "       [3]])"
      ]
     },
     "execution_count": 269,
     "metadata": {},
     "output_type": "execute_result"
    }
   ],
   "source": [
    "df = pl.DataFrame({\"a\": [1, 2, 3]})\n",
    "arr = df.to_numpy()\n",
    "arr"
   ]
  },
  {
   "cell_type": "code",
   "execution_count": 270,
   "id": "5e5910a0-9653-4f94-9377-2715afdbb58b",
   "metadata": {},
   "outputs": [
    {
     "data": {
      "text/plain": [
       "False"
      ]
     },
     "execution_count": 270,
     "metadata": {},
     "output_type": "execute_result"
    }
   ],
   "source": [
    "arr.flags.writeable"
   ]
  },
  {
   "cell_type": "code",
   "execution_count": 271,
   "id": "d574b181-07a6-4463-b89c-bd7d8cc4a2bb",
   "metadata": {},
   "outputs": [
    {
     "data": {
      "text/plain": [
       "True"
      ]
     },
     "execution_count": 271,
     "metadata": {},
     "output_type": "execute_result"
    }
   ],
   "source": [
    "df.to_numpy(writable=True).flags.writeable"
   ]
  },
  {
   "cell_type": "code",
   "execution_count": 272,
   "id": "1aef56a3-40c7-452f-80db-97c2110ec0b6",
   "metadata": {},
   "outputs": [
    {
     "data": {
      "text/plain": [
       "array([[ 1.,  4.],\n",
       "       [ 2.,  5.],\n",
       "       [nan,  6.]])"
      ]
     },
     "execution_count": 272,
     "metadata": {},
     "output_type": "execute_result"
    }
   ],
   "source": [
    "df = pl.DataFrame({\"a\": [1, 2, None], \"b\": [4.0, 5.0, 6.0]})\n",
    "df.to_numpy()"
   ]
  },
  {
   "cell_type": "code",
   "execution_count": 273,
   "id": "731cedb1-8ba0-4742-9340-03c98a06e085",
   "metadata": {},
   "outputs": [
    {
     "data": {
      "text/plain": [
       "True"
      ]
     },
     "execution_count": 273,
     "metadata": {},
     "output_type": "execute_result"
    }
   ],
   "source": [
    "df.to_numpy(order=\"c\").flags.c_contiguous"
   ]
  },
  {
   "cell_type": "code",
   "execution_count": 274,
   "id": "3d562678-e37f-4b47-a8ba-435aa32403d6",
   "metadata": {},
   "outputs": [
    {
     "data": {
      "text/plain": [
       "array([[1, 6.5, 'a'],\n",
       "       [2, 7.0, 'b'],\n",
       "       [3, 8.5, 'c']], dtype=object)"
      ]
     },
     "execution_count": 274,
     "metadata": {},
     "output_type": "execute_result"
    }
   ],
   "source": [
    "df = pl.DataFrame(\n",
    "    {\n",
    "        \"foo\": [1, 2, 3],\n",
    "        \"bar\": [6.5, 7.0, 8.5],\n",
    "        \"ham\": [\"a\", \"b\", \"c\"],\n",
    "    },\n",
    "    schema_overrides={\"foo\": pl.UInt8, \"bar\": pl.Float32},\n",
    ")\n",
    "df.to_numpy()"
   ]
  },
  {
   "cell_type": "code",
   "execution_count": 275,
   "id": "c7e161ef-eaf0-4ae7-a415-198d32d3eae7",
   "metadata": {},
   "outputs": [
    {
     "data": {
      "text/plain": [
       "array([(1, 6.5, 'a'), (2, 7. , 'b'), (3, 8.5, 'c')],\n",
       "      dtype=[('foo', 'u1'), ('bar', '<f4'), ('ham', '<U1')])"
      ]
     },
     "execution_count": 275,
     "metadata": {},
     "output_type": "execute_result"
    }
   ],
   "source": [
    "df.to_numpy(structured=True)"
   ]
  },
  {
   "cell_type": "markdown",
   "id": "80ba6130-54e8-4b77-8200-7d6a7380c7d4",
   "metadata": {},
   "source": [
    "## to_pandas"
   ]
  },
  {
   "cell_type": "code",
   "execution_count": 276,
   "id": "40db907f-5dc1-495c-8bcd-6215c5469b3e",
   "metadata": {},
   "outputs": [
    {
     "data": {
      "text/html": [
       "<div>\n",
       "<style scoped>\n",
       "    .dataframe tbody tr th:only-of-type {\n",
       "        vertical-align: middle;\n",
       "    }\n",
       "\n",
       "    .dataframe tbody tr th {\n",
       "        vertical-align: top;\n",
       "    }\n",
       "\n",
       "    .dataframe thead th {\n",
       "        text-align: right;\n",
       "    }\n",
       "</style>\n",
       "<table border=\"1\" class=\"dataframe\">\n",
       "  <thead>\n",
       "    <tr style=\"text-align: right;\">\n",
       "      <th></th>\n",
       "      <th>foo</th>\n",
       "      <th>bar</th>\n",
       "      <th>ham</th>\n",
       "    </tr>\n",
       "  </thead>\n",
       "  <tbody>\n",
       "    <tr>\n",
       "      <th>0</th>\n",
       "      <td>1</td>\n",
       "      <td>6.0</td>\n",
       "      <td>a</td>\n",
       "    </tr>\n",
       "    <tr>\n",
       "      <th>1</th>\n",
       "      <td>2</td>\n",
       "      <td>7.0</td>\n",
       "      <td>b</td>\n",
       "    </tr>\n",
       "    <tr>\n",
       "      <th>2</th>\n",
       "      <td>3</td>\n",
       "      <td>8.0</td>\n",
       "      <td>c</td>\n",
       "    </tr>\n",
       "  </tbody>\n",
       "</table>\n",
       "</div>"
      ],
      "text/plain": [
       "   foo  bar ham\n",
       "0    1  6.0   a\n",
       "1    2  7.0   b\n",
       "2    3  8.0   c"
      ]
     },
     "execution_count": 276,
     "metadata": {},
     "output_type": "execute_result"
    }
   ],
   "source": [
    "df = pl.DataFrame(\n",
    "    {\n",
    "        \"foo\": [1, 2, 3],\n",
    "        \"bar\": [6.0, 7.0, 8.0],\n",
    "        \"ham\": [\"a\", \"b\", \"c\"],\n",
    "    }\n",
    ")\n",
    "df.to_pandas()"
   ]
  },
  {
   "cell_type": "code",
   "execution_count": 277,
   "id": "7e08aa24-6395-4333-aa93-140fc638c87a",
   "metadata": {},
   "outputs": [
    {
     "data": {
      "text/html": [
       "<div>\n",
       "<style scoped>\n",
       "    .dataframe tbody tr th:only-of-type {\n",
       "        vertical-align: middle;\n",
       "    }\n",
       "\n",
       "    .dataframe tbody tr th {\n",
       "        vertical-align: top;\n",
       "    }\n",
       "\n",
       "    .dataframe thead th {\n",
       "        text-align: right;\n",
       "    }\n",
       "</style>\n",
       "<table border=\"1\" class=\"dataframe\">\n",
       "  <thead>\n",
       "    <tr style=\"text-align: right;\">\n",
       "      <th></th>\n",
       "      <th>foo</th>\n",
       "      <th>bar</th>\n",
       "      <th>ham</th>\n",
       "    </tr>\n",
       "  </thead>\n",
       "  <tbody>\n",
       "    <tr>\n",
       "      <th>0</th>\n",
       "      <td>1.0</td>\n",
       "      <td>6.0</td>\n",
       "      <td>None</td>\n",
       "    </tr>\n",
       "    <tr>\n",
       "      <th>1</th>\n",
       "      <td>2.0</td>\n",
       "      <td>NaN</td>\n",
       "      <td>b</td>\n",
       "    </tr>\n",
       "    <tr>\n",
       "      <th>2</th>\n",
       "      <td>NaN</td>\n",
       "      <td>8.0</td>\n",
       "      <td>c</td>\n",
       "    </tr>\n",
       "  </tbody>\n",
       "</table>\n",
       "</div>"
      ],
      "text/plain": [
       "   foo  bar   ham\n",
       "0  1.0  6.0  None\n",
       "1  2.0  NaN     b\n",
       "2  NaN  8.0     c"
      ]
     },
     "execution_count": 277,
     "metadata": {},
     "output_type": "execute_result"
    }
   ],
   "source": [
    "df = pl.DataFrame(\n",
    "    {\n",
    "        \"foo\": [1, 2, None],\n",
    "        \"bar\": [6.0, None, 8.0],\n",
    "        \"ham\": [None, \"b\", \"c\"],\n",
    "    }\n",
    ")\n",
    "df.to_pandas()"
   ]
  },
  {
   "cell_type": "code",
   "execution_count": 278,
   "id": "a499d44f-4754-4d7b-8ccf-b4baddc1826a",
   "metadata": {},
   "outputs": [
    {
     "data": {
      "text/plain": [
       "foo    float64\n",
       "bar    float64\n",
       "ham     object\n",
       "dtype: object"
      ]
     },
     "execution_count": 278,
     "metadata": {},
     "output_type": "execute_result"
    }
   ],
   "source": [
    "df.to_pandas(use_pyarrow_extension_array=True)\n",
    "_.dtypes"
   ]
  },
  {
   "cell_type": "markdown",
   "id": "b1f58a23-e779-48b5-b7c5-ac99d9d40e96",
   "metadata": {},
   "source": [
    "## to_series"
   ]
  },
  {
   "cell_type": "code",
   "execution_count": 279,
   "id": "73f57052-562f-4511-9c72-9f531a3af29f",
   "metadata": {},
   "outputs": [
    {
     "data": {
      "text/html": [
       "<div><style>\n",
       ".dataframe > thead > tr,\n",
       ".dataframe > tbody > tr {\n",
       "  text-align: right;\n",
       "  white-space: pre-wrap;\n",
       "}\n",
       "</style>\n",
       "<small>shape: (3,)</small><table border=\"1\" class=\"dataframe\"><thead><tr><th>ham</th></tr><tr><td>str</td></tr></thead><tbody><tr><td>&quot;a&quot;</td></tr><tr><td>&quot;b&quot;</td></tr><tr><td>&quot;c&quot;</td></tr></tbody></table></div>"
      ],
      "text/plain": [
       "shape: (3,)\n",
       "Series: 'ham' [str]\n",
       "[\n",
       "\t\"a\"\n",
       "\t\"b\"\n",
       "\t\"c\"\n",
       "]"
      ]
     },
     "execution_count": 279,
     "metadata": {},
     "output_type": "execute_result"
    }
   ],
   "source": [
    "df = pl.DataFrame(\n",
    "    {\n",
    "        \"foo\": [1, 2, 3],\n",
    "        \"bar\": [6, 7, 8],\n",
    "        \"ham\": [\"a\", \"b\", \"c\"],\n",
    "    }\n",
    ")\n",
    "df.to_series(2)"
   ]
  },
  {
   "cell_type": "code",
   "execution_count": 280,
   "id": "7d468643-0a69-4781-9e89-36410d5bc9f2",
   "metadata": {},
   "outputs": [
    {
     "data": {
      "text/html": [
       "<div><style>\n",
       ".dataframe > thead > tr,\n",
       ".dataframe > tbody > tr {\n",
       "  text-align: right;\n",
       "  white-space: pre-wrap;\n",
       "}\n",
       "</style>\n",
       "<small>shape: (3,)</small><table border=\"1\" class=\"dataframe\"><thead><tr><th>bar</th></tr><tr><td>i64</td></tr></thead><tbody><tr><td>6</td></tr><tr><td>7</td></tr><tr><td>8</td></tr></tbody></table></div>"
      ],
      "text/plain": [
       "shape: (3,)\n",
       "Series: 'bar' [i64]\n",
       "[\n",
       "\t6\n",
       "\t7\n",
       "\t8\n",
       "]"
      ]
     },
     "execution_count": 280,
     "metadata": {},
     "output_type": "execute_result"
    }
   ],
   "source": [
    "df.to_series(1)"
   ]
  },
  {
   "cell_type": "markdown",
   "id": "f68565fa-be7d-4727-82fb-62f3a484cd0b",
   "metadata": {},
   "source": [
    "## to_struct"
   ]
  },
  {
   "cell_type": "code",
   "execution_count": 281,
   "id": "adedb3d0-cc34-4312-b155-561f51659036",
   "metadata": {},
   "outputs": [
    {
     "data": {
      "text/html": [
       "<div><style>\n",
       ".dataframe > thead > tr,\n",
       ".dataframe > tbody > tr {\n",
       "  text-align: right;\n",
       "  white-space: pre-wrap;\n",
       "}\n",
       "</style>\n",
       "<small>shape: (5,)</small><table border=\"1\" class=\"dataframe\"><thead><tr><th>nums</th></tr><tr><td>struct[2]</td></tr></thead><tbody><tr><td>{1,&quot;one&quot;}</td></tr><tr><td>{2,&quot;two&quot;}</td></tr><tr><td>{3,&quot;three&quot;}</td></tr><tr><td>{4,&quot;four&quot;}</td></tr><tr><td>{5,&quot;five&quot;}</td></tr></tbody></table></div>"
      ],
      "text/plain": [
       "shape: (5,)\n",
       "Series: 'nums' [struct[2]]\n",
       "[\n",
       "\t{1,\"one\"}\n",
       "\t{2,\"two\"}\n",
       "\t{3,\"three\"}\n",
       "\t{4,\"four\"}\n",
       "\t{5,\"five\"}\n",
       "]"
      ]
     },
     "execution_count": 281,
     "metadata": {},
     "output_type": "execute_result"
    }
   ],
   "source": [
    "df = pl.DataFrame(\n",
    "    {\n",
    "        \"a\": [1, 2, 3, 4, 5],\n",
    "        \"b\": [\"one\", \"two\", \"three\", \"four\", \"five\"],\n",
    "    }\n",
    ")\n",
    "df.to_struct(\"nums\")"
   ]
  },
  {
   "cell_type": "markdown",
   "id": "43f99ae9-f3aa-4948-a144-9c5d7920c1c6",
   "metadata": {},
   "source": [
    "## top_k"
   ]
  },
  {
   "cell_type": "code",
   "execution_count": 282,
   "id": "2d0bbf05-5287-47d2-9a51-5fdeacc498cc",
   "metadata": {},
   "outputs": [],
   "source": [
    "df = pl.DataFrame(\n",
    "    {\n",
    "        \"a\": [\"a\", \"b\", \"a\", \"b\", \"b\", \"c\"],\n",
    "        \"b\": [2, 1, 1, 3, 2, 1],\n",
    "    }\n",
    ")"
   ]
  },
  {
   "cell_type": "code",
   "execution_count": 283,
   "id": "82a3886d-d1f5-4461-805b-d794b7282da0",
   "metadata": {},
   "outputs": [
    {
     "data": {
      "text/html": [
       "<div><style>\n",
       ".dataframe > thead > tr,\n",
       ".dataframe > tbody > tr {\n",
       "  text-align: right;\n",
       "  white-space: pre-wrap;\n",
       "}\n",
       "</style>\n",
       "<small>shape: (4, 2)</small><table border=\"1\" class=\"dataframe\"><thead><tr><th>a</th><th>b</th></tr><tr><td>str</td><td>i64</td></tr></thead><tbody><tr><td>&quot;b&quot;</td><td>3</td></tr><tr><td>&quot;a&quot;</td><td>2</td></tr><tr><td>&quot;b&quot;</td><td>2</td></tr><tr><td>&quot;b&quot;</td><td>1</td></tr></tbody></table></div>"
      ],
      "text/plain": [
       "shape: (4, 2)\n",
       "┌─────┬─────┐\n",
       "│ a   ┆ b   │\n",
       "│ --- ┆ --- │\n",
       "│ str ┆ i64 │\n",
       "╞═════╪═════╡\n",
       "│ b   ┆ 3   │\n",
       "│ a   ┆ 2   │\n",
       "│ b   ┆ 2   │\n",
       "│ b   ┆ 1   │\n",
       "└─────┴─────┘"
      ]
     },
     "execution_count": 283,
     "metadata": {},
     "output_type": "execute_result"
    }
   ],
   "source": [
    "df.top_k(4, by=\"b\")"
   ]
  },
  {
   "cell_type": "code",
   "execution_count": 284,
   "id": "23898399-f996-4fd1-b401-a746755493b6",
   "metadata": {},
   "outputs": [
    {
     "data": {
      "text/html": [
       "<div><style>\n",
       ".dataframe > thead > tr,\n",
       ".dataframe > tbody > tr {\n",
       "  text-align: right;\n",
       "  white-space: pre-wrap;\n",
       "}\n",
       "</style>\n",
       "<small>shape: (4, 2)</small><table border=\"1\" class=\"dataframe\"><thead><tr><th>a</th><th>b</th></tr><tr><td>str</td><td>i64</td></tr></thead><tbody><tr><td>&quot;b&quot;</td><td>3</td></tr><tr><td>&quot;b&quot;</td><td>2</td></tr><tr><td>&quot;a&quot;</td><td>2</td></tr><tr><td>&quot;c&quot;</td><td>1</td></tr></tbody></table></div>"
      ],
      "text/plain": [
       "shape: (4, 2)\n",
       "┌─────┬─────┐\n",
       "│ a   ┆ b   │\n",
       "│ --- ┆ --- │\n",
       "│ str ┆ i64 │\n",
       "╞═════╪═════╡\n",
       "│ b   ┆ 3   │\n",
       "│ b   ┆ 2   │\n",
       "│ a   ┆ 2   │\n",
       "│ c   ┆ 1   │\n",
       "└─────┴─────┘"
      ]
     },
     "execution_count": 284,
     "metadata": {},
     "output_type": "execute_result"
    }
   ],
   "source": [
    "df.top_k(4, by=[\"b\", \"a\"])"
   ]
  },
  {
   "cell_type": "markdown",
   "id": "832820e4-9608-4c34-b011-b21ed0abe6a1",
   "metadata": {},
   "source": [
    "## transpose"
   ]
  },
  {
   "cell_type": "code",
   "execution_count": 285,
   "id": "be6893f7-e871-4966-813e-e0966ebbab98",
   "metadata": {},
   "outputs": [
    {
     "data": {
      "text/html": [
       "<div><style>\n",
       ".dataframe > thead > tr,\n",
       ".dataframe > tbody > tr {\n",
       "  text-align: right;\n",
       "  white-space: pre-wrap;\n",
       "}\n",
       "</style>\n",
       "<small>shape: (3, 2)</small><table border=\"1\" class=\"dataframe\"><thead><tr><th>a</th><th>b</th></tr><tr><td>i64</td><td>i64</td></tr></thead><tbody><tr><td>1</td><td>4</td></tr><tr><td>2</td><td>5</td></tr><tr><td>3</td><td>6</td></tr></tbody></table></div>"
      ],
      "text/plain": [
       "shape: (3, 2)\n",
       "┌─────┬─────┐\n",
       "│ a   ┆ b   │\n",
       "│ --- ┆ --- │\n",
       "│ i64 ┆ i64 │\n",
       "╞═════╪═════╡\n",
       "│ 1   ┆ 4   │\n",
       "│ 2   ┆ 5   │\n",
       "│ 3   ┆ 6   │\n",
       "└─────┴─────┘"
      ]
     },
     "execution_count": 285,
     "metadata": {},
     "output_type": "execute_result"
    }
   ],
   "source": [
    "df = pl.DataFrame({\"a\": [1, 2, 3], \"b\": [4, 5, 6]})\n",
    "df"
   ]
  },
  {
   "cell_type": "code",
   "execution_count": 286,
   "id": "48606866-fa42-482f-aa1c-431b251123ce",
   "metadata": {},
   "outputs": [
    {
     "data": {
      "text/html": [
       "<div><style>\n",
       ".dataframe > thead > tr,\n",
       ".dataframe > tbody > tr {\n",
       "  text-align: right;\n",
       "  white-space: pre-wrap;\n",
       "}\n",
       "</style>\n",
       "<small>shape: (2, 4)</small><table border=\"1\" class=\"dataframe\"><thead><tr><th>column</th><th>column_0</th><th>column_1</th><th>column_2</th></tr><tr><td>str</td><td>i64</td><td>i64</td><td>i64</td></tr></thead><tbody><tr><td>&quot;a&quot;</td><td>1</td><td>2</td><td>3</td></tr><tr><td>&quot;b&quot;</td><td>4</td><td>5</td><td>6</td></tr></tbody></table></div>"
      ],
      "text/plain": [
       "shape: (2, 4)\n",
       "┌────────┬──────────┬──────────┬──────────┐\n",
       "│ column ┆ column_0 ┆ column_1 ┆ column_2 │\n",
       "│ ---    ┆ ---      ┆ ---      ┆ ---      │\n",
       "│ str    ┆ i64      ┆ i64      ┆ i64      │\n",
       "╞════════╪══════════╪══════════╪══════════╡\n",
       "│ a      ┆ 1        ┆ 2        ┆ 3        │\n",
       "│ b      ┆ 4        ┆ 5        ┆ 6        │\n",
       "└────────┴──────────┴──────────┴──────────┘"
      ]
     },
     "execution_count": 286,
     "metadata": {},
     "output_type": "execute_result"
    }
   ],
   "source": [
    "df.transpose(include_header=True)"
   ]
  },
  {
   "cell_type": "code",
   "execution_count": 287,
   "id": "967df78a-e0a5-490c-968e-66fd4c4568c1",
   "metadata": {},
   "outputs": [
    {
     "data": {
      "text/html": [
       "<div><style>\n",
       ".dataframe > thead > tr,\n",
       ".dataframe > tbody > tr {\n",
       "  text-align: right;\n",
       "  white-space: pre-wrap;\n",
       "}\n",
       "</style>\n",
       "<small>shape: (2, 3)</small><table border=\"1\" class=\"dataframe\"><thead><tr><th>x</th><th>y</th><th>z</th></tr><tr><td>i64</td><td>i64</td><td>i64</td></tr></thead><tbody><tr><td>1</td><td>2</td><td>3</td></tr><tr><td>4</td><td>5</td><td>6</td></tr></tbody></table></div>"
      ],
      "text/plain": [
       "shape: (2, 3)\n",
       "┌─────┬─────┬─────┐\n",
       "│ x   ┆ y   ┆ z   │\n",
       "│ --- ┆ --- ┆ --- │\n",
       "│ i64 ┆ i64 ┆ i64 │\n",
       "╞═════╪═════╪═════╡\n",
       "│ 1   ┆ 2   ┆ 3   │\n",
       "│ 4   ┆ 5   ┆ 6   │\n",
       "└─────┴─────┴─────┘"
      ]
     },
     "execution_count": 287,
     "metadata": {},
     "output_type": "execute_result"
    }
   ],
   "source": [
    "df.transpose(include_header=False, column_names=[\"x\", \"y\", \"z\"])"
   ]
  },
  {
   "cell_type": "code",
   "execution_count": 288,
   "id": "0b0f9ef5-5ea0-40a3-b39f-320724b2a7b8",
   "metadata": {},
   "outputs": [
    {
     "data": {
      "text/html": [
       "<div><style>\n",
       ".dataframe > thead > tr,\n",
       ".dataframe > tbody > tr {\n",
       "  text-align: right;\n",
       "  white-space: pre-wrap;\n",
       "}\n",
       "</style>\n",
       "<small>shape: (2, 4)</small><table border=\"1\" class=\"dataframe\"><thead><tr><th>foo</th><th>x</th><th>y</th><th>z</th></tr><tr><td>str</td><td>i64</td><td>i64</td><td>i64</td></tr></thead><tbody><tr><td>&quot;a&quot;</td><td>1</td><td>2</td><td>3</td></tr><tr><td>&quot;b&quot;</td><td>4</td><td>5</td><td>6</td></tr></tbody></table></div>"
      ],
      "text/plain": [
       "shape: (2, 4)\n",
       "┌─────┬─────┬─────┬─────┐\n",
       "│ foo ┆ x   ┆ y   ┆ z   │\n",
       "│ --- ┆ --- ┆ --- ┆ --- │\n",
       "│ str ┆ i64 ┆ i64 ┆ i64 │\n",
       "╞═════╪═════╪═════╪═════╡\n",
       "│ a   ┆ 1   ┆ 2   ┆ 3   │\n",
       "│ b   ┆ 4   ┆ 5   ┆ 6   │\n",
       "└─────┴─────┴─────┴─────┘"
      ]
     },
     "execution_count": 288,
     "metadata": {},
     "output_type": "execute_result"
    }
   ],
   "source": [
    "df.transpose(\n",
    "    include_header=True, header_name=\"foo\", column_names=[\"x\", \"y\", \"z\"]\n",
    ")"
   ]
  },
  {
   "cell_type": "code",
   "execution_count": 289,
   "id": "e9e7a148-3d37-425a-b79a-74e0ccc116c7",
   "metadata": {},
   "outputs": [
    {
     "data": {
      "text/html": [
       "<div><style>\n",
       ".dataframe > thead > tr,\n",
       ".dataframe > tbody > tr {\n",
       "  text-align: right;\n",
       "  white-space: pre-wrap;\n",
       "}\n",
       "</style>\n",
       "<small>shape: (2, 3)</small><table border=\"1\" class=\"dataframe\"><thead><tr><th>my_column_0</th><th>my_column_1</th><th>my_column_2</th></tr><tr><td>i64</td><td>i64</td><td>i64</td></tr></thead><tbody><tr><td>1</td><td>2</td><td>3</td></tr><tr><td>4</td><td>5</td><td>6</td></tr></tbody></table></div>"
      ],
      "text/plain": [
       "shape: (2, 3)\n",
       "┌─────────────┬─────────────┬─────────────┐\n",
       "│ my_column_0 ┆ my_column_1 ┆ my_column_2 │\n",
       "│ ---         ┆ ---         ┆ ---         │\n",
       "│ i64         ┆ i64         ┆ i64         │\n",
       "╞═════════════╪═════════════╪═════════════╡\n",
       "│ 1           ┆ 2           ┆ 3           │\n",
       "│ 4           ┆ 5           ┆ 6           │\n",
       "└─────────────┴─────────────┴─────────────┘"
      ]
     },
     "execution_count": 289,
     "metadata": {},
     "output_type": "execute_result"
    }
   ],
   "source": [
    "def name_generator():\n",
    "    base_name = \"my_column_\"\n",
    "    count = 0\n",
    "    while True:\n",
    "        yield f\"{base_name}{count}\"\n",
    "        count += 1\n",
    "df.transpose(include_header=False, column_names=name_generator())"
   ]
  },
  {
   "cell_type": "code",
   "execution_count": 290,
   "id": "8f9b27df-42ba-4cbd-86c5-adebcbe82e36",
   "metadata": {},
   "outputs": [
    {
     "data": {
      "text/html": [
       "<div><style>\n",
       ".dataframe > thead > tr,\n",
       ".dataframe > tbody > tr {\n",
       "  text-align: right;\n",
       "  white-space: pre-wrap;\n",
       "}\n",
       "</style>\n",
       "<small>shape: (2, 4)</small><table border=\"1\" class=\"dataframe\"><thead><tr><th>new_id</th><th>i</th><th>j</th><th>k</th></tr><tr><td>str</td><td>i64</td><td>i64</td><td>i64</td></tr></thead><tbody><tr><td>&quot;a&quot;</td><td>1</td><td>2</td><td>3</td></tr><tr><td>&quot;b&quot;</td><td>4</td><td>5</td><td>6</td></tr></tbody></table></div>"
      ],
      "text/plain": [
       "shape: (2, 4)\n",
       "┌────────┬─────┬─────┬─────┐\n",
       "│ new_id ┆ i   ┆ j   ┆ k   │\n",
       "│ ---    ┆ --- ┆ --- ┆ --- │\n",
       "│ str    ┆ i64 ┆ i64 ┆ i64 │\n",
       "╞════════╪═════╪═════╪═════╡\n",
       "│ a      ┆ 1   ┆ 2   ┆ 3   │\n",
       "│ b      ┆ 4   ┆ 5   ┆ 6   │\n",
       "└────────┴─────┴─────┴─────┘"
      ]
     },
     "execution_count": 290,
     "metadata": {},
     "output_type": "execute_result"
    }
   ],
   "source": [
    "df = pl.DataFrame(dict(id=[\"i\", \"j\", \"k\"], a=[1, 2, 3], b=[4, 5, 6]))\n",
    "df.transpose(column_names=\"id\")\n",
    "df.transpose(include_header=True, header_name=\"new_id\", column_names=\"id\")"
   ]
  },
  {
   "cell_type": "markdown",
   "id": "502aa597-2b8e-4191-8806-62a8d047e48c",
   "metadata": {},
   "source": [
    "## unique"
   ]
  },
  {
   "cell_type": "code",
   "execution_count": 291,
   "id": "7940bb64-38fc-4ec9-bc20-7568d0e88465",
   "metadata": {},
   "outputs": [
    {
     "data": {
      "text/html": [
       "<div><style>\n",
       ".dataframe > thead > tr,\n",
       ".dataframe > tbody > tr {\n",
       "  text-align: right;\n",
       "  white-space: pre-wrap;\n",
       "}\n",
       "</style>\n",
       "<small>shape: (3, 3)</small><table border=\"1\" class=\"dataframe\"><thead><tr><th>foo</th><th>bar</th><th>ham</th></tr><tr><td>i64</td><td>str</td><td>str</td></tr></thead><tbody><tr><td>1</td><td>&quot;a&quot;</td><td>&quot;b&quot;</td></tr><tr><td>2</td><td>&quot;a&quot;</td><td>&quot;b&quot;</td></tr><tr><td>3</td><td>&quot;a&quot;</td><td>&quot;b&quot;</td></tr></tbody></table></div>"
      ],
      "text/plain": [
       "shape: (3, 3)\n",
       "┌─────┬─────┬─────┐\n",
       "│ foo ┆ bar ┆ ham │\n",
       "│ --- ┆ --- ┆ --- │\n",
       "│ i64 ┆ str ┆ str │\n",
       "╞═════╪═════╪═════╡\n",
       "│ 1   ┆ a   ┆ b   │\n",
       "│ 2   ┆ a   ┆ b   │\n",
       "│ 3   ┆ a   ┆ b   │\n",
       "└─────┴─────┴─────┘"
      ]
     },
     "execution_count": 291,
     "metadata": {},
     "output_type": "execute_result"
    }
   ],
   "source": [
    "df = pl.DataFrame(\n",
    "    {\n",
    "        \"foo\": [1, 2, 3, 1],\n",
    "        \"bar\": [\"a\", \"a\", \"a\", \"a\"],\n",
    "        \"ham\": [\"b\", \"b\", \"b\", \"b\"],\n",
    "    }\n",
    ")\n",
    "df.unique(maintain_order=True)\n"
   ]
  },
  {
   "cell_type": "code",
   "execution_count": 292,
   "id": "7b653851-c67f-4948-a3f3-ccbd3bab0c0e",
   "metadata": {},
   "outputs": [
    {
     "data": {
      "text/html": [
       "<div><style>\n",
       ".dataframe > thead > tr,\n",
       ".dataframe > tbody > tr {\n",
       "  text-align: right;\n",
       "  white-space: pre-wrap;\n",
       "}\n",
       "</style>\n",
       "<small>shape: (1, 3)</small><table border=\"1\" class=\"dataframe\"><thead><tr><th>foo</th><th>bar</th><th>ham</th></tr><tr><td>i64</td><td>str</td><td>str</td></tr></thead><tbody><tr><td>1</td><td>&quot;a&quot;</td><td>&quot;b&quot;</td></tr></tbody></table></div>"
      ],
      "text/plain": [
       "shape: (1, 3)\n",
       "┌─────┬─────┬─────┐\n",
       "│ foo ┆ bar ┆ ham │\n",
       "│ --- ┆ --- ┆ --- │\n",
       "│ i64 ┆ str ┆ str │\n",
       "╞═════╪═════╪═════╡\n",
       "│ 1   ┆ a   ┆ b   │\n",
       "└─────┴─────┴─────┘"
      ]
     },
     "execution_count": 292,
     "metadata": {},
     "output_type": "execute_result"
    }
   ],
   "source": [
    "df.unique(subset=[\"bar\", \"ham\"], maintain_order=True)\n"
   ]
  },
  {
   "cell_type": "code",
   "execution_count": 293,
   "id": "a79eace7-6bec-40c1-9123-14b3176a752d",
   "metadata": {},
   "outputs": [
    {
     "data": {
      "text/html": [
       "<div><style>\n",
       ".dataframe > thead > tr,\n",
       ".dataframe > tbody > tr {\n",
       "  text-align: right;\n",
       "  white-space: pre-wrap;\n",
       "}\n",
       "</style>\n",
       "<small>shape: (3, 3)</small><table border=\"1\" class=\"dataframe\"><thead><tr><th>foo</th><th>bar</th><th>ham</th></tr><tr><td>i64</td><td>str</td><td>str</td></tr></thead><tbody><tr><td>2</td><td>&quot;a&quot;</td><td>&quot;b&quot;</td></tr><tr><td>3</td><td>&quot;a&quot;</td><td>&quot;b&quot;</td></tr><tr><td>1</td><td>&quot;a&quot;</td><td>&quot;b&quot;</td></tr></tbody></table></div>"
      ],
      "text/plain": [
       "shape: (3, 3)\n",
       "┌─────┬─────┬─────┐\n",
       "│ foo ┆ bar ┆ ham │\n",
       "│ --- ┆ --- ┆ --- │\n",
       "│ i64 ┆ str ┆ str │\n",
       "╞═════╪═════╪═════╡\n",
       "│ 2   ┆ a   ┆ b   │\n",
       "│ 3   ┆ a   ┆ b   │\n",
       "│ 1   ┆ a   ┆ b   │\n",
       "└─────┴─────┴─────┘"
      ]
     },
     "execution_count": 293,
     "metadata": {},
     "output_type": "execute_result"
    }
   ],
   "source": [
    "df.unique(keep=\"last\", maintain_order=True)"
   ]
  },
  {
   "cell_type": "markdown",
   "id": "532f8385-7191-4a88-a675-0bdb540a1f09",
   "metadata": {},
   "source": [
    "## unnest"
   ]
  },
  {
   "cell_type": "code",
   "execution_count": 294,
   "id": "7f8b0f4a-8a14-4ea0-b89f-ecc01c67d62e",
   "metadata": {},
   "outputs": [
    {
     "data": {
      "text/html": [
       "<div><style>\n",
       ".dataframe > thead > tr,\n",
       ".dataframe > tbody > tr {\n",
       "  text-align: right;\n",
       "  white-space: pre-wrap;\n",
       "}\n",
       "</style>\n",
       "<small>shape: (2, 3)</small><table border=\"1\" class=\"dataframe\"><thead><tr><th>before</th><th>t_struct</th><th>after</th></tr><tr><td>str</td><td>struct[4]</td><td>str</td></tr></thead><tbody><tr><td>&quot;foo&quot;</td><td>{1,&quot;a&quot;,true,[1, 2]}</td><td>&quot;baz&quot;</td></tr><tr><td>&quot;bar&quot;</td><td>{2,&quot;b&quot;,null,[3]}</td><td>&quot;womp&quot;</td></tr></tbody></table></div>"
      ],
      "text/plain": [
       "shape: (2, 3)\n",
       "┌────────┬─────────────────────┬───────┐\n",
       "│ before ┆ t_struct            ┆ after │\n",
       "│ ---    ┆ ---                 ┆ ---   │\n",
       "│ str    ┆ struct[4]           ┆ str   │\n",
       "╞════════╪═════════════════════╪═══════╡\n",
       "│ foo    ┆ {1,\"a\",true,[1, 2]} ┆ baz   │\n",
       "│ bar    ┆ {2,\"b\",null,[3]}    ┆ womp  │\n",
       "└────────┴─────────────────────┴───────┘"
      ]
     },
     "execution_count": 294,
     "metadata": {},
     "output_type": "execute_result"
    }
   ],
   "source": [
    "df = pl.DataFrame(\n",
    "    {\n",
    "        \"before\": [\"foo\", \"bar\"],\n",
    "        \"t_a\": [1, 2],\n",
    "        \"t_b\": [\"a\", \"b\"],\n",
    "        \"t_c\": [True, None],\n",
    "        \"t_d\": [[1, 2], [3]],\n",
    "        \"after\": [\"baz\", \"womp\"],\n",
    "    }\n",
    ").select(\"before\", pl.struct(pl.col(\"^t_.$\")).alias(\"t_struct\"), \"after\")\n",
    "df\n"
   ]
  },
  {
   "cell_type": "code",
   "execution_count": 295,
   "id": "216c7979-431e-4f6b-977e-f0657b8c5dd6",
   "metadata": {},
   "outputs": [
    {
     "data": {
      "text/html": [
       "<div><style>\n",
       ".dataframe > thead > tr,\n",
       ".dataframe > tbody > tr {\n",
       "  text-align: right;\n",
       "  white-space: pre-wrap;\n",
       "}\n",
       "</style>\n",
       "<small>shape: (2, 6)</small><table border=\"1\" class=\"dataframe\"><thead><tr><th>before</th><th>t_a</th><th>t_b</th><th>t_c</th><th>t_d</th><th>after</th></tr><tr><td>str</td><td>i64</td><td>str</td><td>bool</td><td>list[i64]</td><td>str</td></tr></thead><tbody><tr><td>&quot;foo&quot;</td><td>1</td><td>&quot;a&quot;</td><td>true</td><td>[1, 2]</td><td>&quot;baz&quot;</td></tr><tr><td>&quot;bar&quot;</td><td>2</td><td>&quot;b&quot;</td><td>null</td><td>[3]</td><td>&quot;womp&quot;</td></tr></tbody></table></div>"
      ],
      "text/plain": [
       "shape: (2, 6)\n",
       "┌────────┬─────┬─────┬──────┬───────────┬───────┐\n",
       "│ before ┆ t_a ┆ t_b ┆ t_c  ┆ t_d       ┆ after │\n",
       "│ ---    ┆ --- ┆ --- ┆ ---  ┆ ---       ┆ ---   │\n",
       "│ str    ┆ i64 ┆ str ┆ bool ┆ list[i64] ┆ str   │\n",
       "╞════════╪═════╪═════╪══════╪═══════════╪═══════╡\n",
       "│ foo    ┆ 1   ┆ a   ┆ true ┆ [1, 2]    ┆ baz   │\n",
       "│ bar    ┆ 2   ┆ b   ┆ null ┆ [3]       ┆ womp  │\n",
       "└────────┴─────┴─────┴──────┴───────────┴───────┘"
      ]
     },
     "execution_count": 295,
     "metadata": {},
     "output_type": "execute_result"
    }
   ],
   "source": [
    "df.unnest(\"t_struct\")"
   ]
  },
  {
   "cell_type": "markdown",
   "id": "b839f916-c12e-46fc-9212-6026339f268d",
   "metadata": {},
   "source": [
    "## unpivot"
   ]
  },
  {
   "cell_type": "code",
   "execution_count": 296,
   "id": "9ffe43e5-5206-4c4f-8fd6-20b275504e93",
   "metadata": {},
   "outputs": [
    {
     "data": {
      "text/html": [
       "<div><style>\n",
       ".dataframe > thead > tr,\n",
       ".dataframe > tbody > tr {\n",
       "  text-align: right;\n",
       "  white-space: pre-wrap;\n",
       "}\n",
       "</style>\n",
       "<small>shape: (3, 3)</small><table border=\"1\" class=\"dataframe\"><thead><tr><th>a</th><th>b</th><th>c</th></tr><tr><td>str</td><td>i64</td><td>i64</td></tr></thead><tbody><tr><td>&quot;x&quot;</td><td>1</td><td>2</td></tr><tr><td>&quot;y&quot;</td><td>3</td><td>4</td></tr><tr><td>&quot;z&quot;</td><td>5</td><td>6</td></tr></tbody></table></div>"
      ],
      "text/plain": [
       "shape: (3, 3)\n",
       "┌─────┬─────┬─────┐\n",
       "│ a   ┆ b   ┆ c   │\n",
       "│ --- ┆ --- ┆ --- │\n",
       "│ str ┆ i64 ┆ i64 │\n",
       "╞═════╪═════╪═════╡\n",
       "│ x   ┆ 1   ┆ 2   │\n",
       "│ y   ┆ 3   ┆ 4   │\n",
       "│ z   ┆ 5   ┆ 6   │\n",
       "└─────┴─────┴─────┘"
      ]
     },
     "execution_count": 296,
     "metadata": {},
     "output_type": "execute_result"
    }
   ],
   "source": [
    "df = pl.DataFrame(\n",
    "    {\n",
    "        \"a\": [\"x\", \"y\", \"z\"],\n",
    "        \"b\": [1, 3, 5],\n",
    "        \"c\": [2, 4, 6],\n",
    "    }\n",
    ")\n",
    "df\n"
   ]
  },
  {
   "cell_type": "code",
   "execution_count": 297,
   "id": "e636975b-c582-40d6-819a-3fb0976c3e58",
   "metadata": {},
   "outputs": [
    {
     "data": {
      "text/html": [
       "<div><style>\n",
       ".dataframe > thead > tr,\n",
       ".dataframe > tbody > tr {\n",
       "  text-align: right;\n",
       "  white-space: pre-wrap;\n",
       "}\n",
       "</style>\n",
       "<small>shape: (6, 3)</small><table border=\"1\" class=\"dataframe\"><thead><tr><th>a</th><th>variable</th><th>value</th></tr><tr><td>str</td><td>str</td><td>i64</td></tr></thead><tbody><tr><td>&quot;x&quot;</td><td>&quot;b&quot;</td><td>1</td></tr><tr><td>&quot;y&quot;</td><td>&quot;b&quot;</td><td>3</td></tr><tr><td>&quot;z&quot;</td><td>&quot;b&quot;</td><td>5</td></tr><tr><td>&quot;x&quot;</td><td>&quot;c&quot;</td><td>2</td></tr><tr><td>&quot;y&quot;</td><td>&quot;c&quot;</td><td>4</td></tr><tr><td>&quot;z&quot;</td><td>&quot;c&quot;</td><td>6</td></tr></tbody></table></div>"
      ],
      "text/plain": [
       "shape: (6, 3)\n",
       "┌─────┬──────────┬───────┐\n",
       "│ a   ┆ variable ┆ value │\n",
       "│ --- ┆ ---      ┆ ---   │\n",
       "│ str ┆ str      ┆ i64   │\n",
       "╞═════╪══════════╪═══════╡\n",
       "│ x   ┆ b        ┆ 1     │\n",
       "│ y   ┆ b        ┆ 3     │\n",
       "│ z   ┆ b        ┆ 5     │\n",
       "│ x   ┆ c        ┆ 2     │\n",
       "│ y   ┆ c        ┆ 4     │\n",
       "│ z   ┆ c        ┆ 6     │\n",
       "└─────┴──────────┴───────┘"
      ]
     },
     "execution_count": 297,
     "metadata": {},
     "output_type": "execute_result"
    }
   ],
   "source": [
    "import polars.selectors as cs\n",
    "df.unpivot(cs.numeric(), index=\"a\")"
   ]
  },
  {
   "cell_type": "markdown",
   "id": "2cd8fa52-b8be-448b-9048-29927d6662fa",
   "metadata": {},
   "source": [
    "## unstack"
   ]
  },
  {
   "cell_type": "code",
   "execution_count": 298,
   "id": "832c72a8-1076-41c5-b88f-7e8f4514681a",
   "metadata": {},
   "outputs": [
    {
     "data": {
      "text/html": [
       "<div><style>\n",
       ".dataframe > thead > tr,\n",
       ".dataframe > tbody > tr {\n",
       "  text-align: right;\n",
       "  white-space: pre-wrap;\n",
       "}\n",
       "</style>\n",
       "<small>shape: (8, 3)</small><table border=\"1\" class=\"dataframe\"><thead><tr><th>x</th><th>y</th><th>z</th></tr><tr><td>str</td><td>i64</td><td>list[u8]</td></tr></thead><tbody><tr><td>&quot;A&quot;</td><td>1</td><td>[1, 2]</td></tr><tr><td>&quot;B&quot;</td><td>2</td><td>[2, 3]</td></tr><tr><td>&quot;C&quot;</td><td>3</td><td>[3, 4]</td></tr><tr><td>&quot;D&quot;</td><td>4</td><td>[4, 5]</td></tr><tr><td>&quot;E&quot;</td><td>5</td><td>[5, 6]</td></tr><tr><td>&quot;F&quot;</td><td>6</td><td>[6, 7]</td></tr><tr><td>&quot;G&quot;</td><td>7</td><td>[7, 8]</td></tr><tr><td>&quot;H&quot;</td><td>8</td><td>[8, 9]</td></tr></tbody></table></div>"
      ],
      "text/plain": [
       "shape: (8, 3)\n",
       "┌─────┬─────┬──────────┐\n",
       "│ x   ┆ y   ┆ z        │\n",
       "│ --- ┆ --- ┆ ---      │\n",
       "│ str ┆ i64 ┆ list[u8] │\n",
       "╞═════╪═════╪══════════╡\n",
       "│ A   ┆ 1   ┆ [1, 2]   │\n",
       "│ B   ┆ 2   ┆ [2, 3]   │\n",
       "│ C   ┆ 3   ┆ [3, 4]   │\n",
       "│ D   ┆ 4   ┆ [4, 5]   │\n",
       "│ E   ┆ 5   ┆ [5, 6]   │\n",
       "│ F   ┆ 6   ┆ [6, 7]   │\n",
       "│ G   ┆ 7   ┆ [7, 8]   │\n",
       "│ H   ┆ 8   ┆ [8, 9]   │\n",
       "└─────┴─────┴──────────┘"
      ]
     },
     "execution_count": 298,
     "metadata": {},
     "output_type": "execute_result"
    }
   ],
   "source": [
    "from string import ascii_uppercase\n",
    "df = pl.DataFrame(\n",
    "    {\n",
    "        \"x\": list(ascii_uppercase[0:8]),\n",
    "        \"y\": pl.int_range(1, 9, eager=True),\n",
    "    }\n",
    ").with_columns(\n",
    "    z=pl.int_ranges(pl.col(\"y\"), pl.col(\"y\") + 2, dtype=pl.UInt8),\n",
    ")\n",
    "df"
   ]
  },
  {
   "cell_type": "code",
   "execution_count": 299,
   "id": "88860d7c-62de-47aa-b852-4449eb7c6b7d",
   "metadata": {},
   "outputs": [
    {
     "data": {
      "text/html": [
       "<div><style>\n",
       ".dataframe > thead > tr,\n",
       ".dataframe > tbody > tr {\n",
       "  text-align: right;\n",
       "  white-space: pre-wrap;\n",
       "}\n",
       "</style>\n",
       "<small>shape: (4, 6)</small><table border=\"1\" class=\"dataframe\"><thead><tr><th>x_0</th><th>x_1</th><th>y_0</th><th>y_1</th><th>z_0</th><th>z_1</th></tr><tr><td>str</td><td>str</td><td>i64</td><td>i64</td><td>list[u8]</td><td>list[u8]</td></tr></thead><tbody><tr><td>&quot;A&quot;</td><td>&quot;E&quot;</td><td>1</td><td>5</td><td>[1, 2]</td><td>[5, 6]</td></tr><tr><td>&quot;B&quot;</td><td>&quot;F&quot;</td><td>2</td><td>6</td><td>[2, 3]</td><td>[6, 7]</td></tr><tr><td>&quot;C&quot;</td><td>&quot;G&quot;</td><td>3</td><td>7</td><td>[3, 4]</td><td>[7, 8]</td></tr><tr><td>&quot;D&quot;</td><td>&quot;H&quot;</td><td>4</td><td>8</td><td>[4, 5]</td><td>[8, 9]</td></tr></tbody></table></div>"
      ],
      "text/plain": [
       "shape: (4, 6)\n",
       "┌─────┬─────┬─────┬─────┬──────────┬──────────┐\n",
       "│ x_0 ┆ x_1 ┆ y_0 ┆ y_1 ┆ z_0      ┆ z_1      │\n",
       "│ --- ┆ --- ┆ --- ┆ --- ┆ ---      ┆ ---      │\n",
       "│ str ┆ str ┆ i64 ┆ i64 ┆ list[u8] ┆ list[u8] │\n",
       "╞═════╪═════╪═════╪═════╪══════════╪══════════╡\n",
       "│ A   ┆ E   ┆ 1   ┆ 5   ┆ [1, 2]   ┆ [5, 6]   │\n",
       "│ B   ┆ F   ┆ 2   ┆ 6   ┆ [2, 3]   ┆ [6, 7]   │\n",
       "│ C   ┆ G   ┆ 3   ┆ 7   ┆ [3, 4]   ┆ [7, 8]   │\n",
       "│ D   ┆ H   ┆ 4   ┆ 8   ┆ [4, 5]   ┆ [8, 9]   │\n",
       "└─────┴─────┴─────┴─────┴──────────┴──────────┘"
      ]
     },
     "execution_count": 299,
     "metadata": {},
     "output_type": "execute_result"
    }
   ],
   "source": [
    "df.unstack(step=4, how=\"vertical\")"
   ]
  },
  {
   "cell_type": "code",
   "execution_count": 300,
   "id": "75ac7033-7d3f-4fd3-afac-c20f6f1cd1cf",
   "metadata": {},
   "outputs": [
    {
     "data": {
      "text/html": [
       "<div><style>\n",
       ".dataframe > thead > tr,\n",
       ".dataframe > tbody > tr {\n",
       "  text-align: right;\n",
       "  white-space: pre-wrap;\n",
       "}\n",
       "</style>\n",
       "<small>shape: (2, 12)</small><table border=\"1\" class=\"dataframe\"><thead><tr><th>x_0</th><th>x_1</th><th>x_2</th><th>x_3</th><th>y_0</th><th>y_1</th><th>y_2</th><th>y_3</th><th>z_0</th><th>z_1</th><th>z_2</th><th>z_3</th></tr><tr><td>str</td><td>str</td><td>str</td><td>str</td><td>i64</td><td>i64</td><td>i64</td><td>i64</td><td>list[u8]</td><td>list[u8]</td><td>list[u8]</td><td>list[u8]</td></tr></thead><tbody><tr><td>&quot;A&quot;</td><td>&quot;C&quot;</td><td>&quot;E&quot;</td><td>&quot;G&quot;</td><td>1</td><td>3</td><td>5</td><td>7</td><td>[1, 2]</td><td>[3, 4]</td><td>[5, 6]</td><td>[7, 8]</td></tr><tr><td>&quot;B&quot;</td><td>&quot;D&quot;</td><td>&quot;F&quot;</td><td>&quot;H&quot;</td><td>2</td><td>4</td><td>6</td><td>8</td><td>[2, 3]</td><td>[4, 5]</td><td>[6, 7]</td><td>[8, 9]</td></tr></tbody></table></div>"
      ],
      "text/plain": [
       "shape: (2, 12)\n",
       "┌─────┬─────┬─────┬─────┬───┬──────────┬──────────┬──────────┬──────────┐\n",
       "│ x_0 ┆ x_1 ┆ x_2 ┆ x_3 ┆ … ┆ z_0      ┆ z_1      ┆ z_2      ┆ z_3      │\n",
       "│ --- ┆ --- ┆ --- ┆ --- ┆   ┆ ---      ┆ ---      ┆ ---      ┆ ---      │\n",
       "│ str ┆ str ┆ str ┆ str ┆   ┆ list[u8] ┆ list[u8] ┆ list[u8] ┆ list[u8] │\n",
       "╞═════╪═════╪═════╪═════╪═══╪══════════╪══════════╪══════════╪══════════╡\n",
       "│ A   ┆ C   ┆ E   ┆ G   ┆ … ┆ [1, 2]   ┆ [3, 4]   ┆ [5, 6]   ┆ [7, 8]   │\n",
       "│ B   ┆ D   ┆ F   ┆ H   ┆ … ┆ [2, 3]   ┆ [4, 5]   ┆ [6, 7]   ┆ [8, 9]   │\n",
       "└─────┴─────┴─────┴─────┴───┴──────────┴──────────┴──────────┴──────────┘"
      ]
     },
     "execution_count": 300,
     "metadata": {},
     "output_type": "execute_result"
    }
   ],
   "source": [
    "df.unstack(step=2, how=\"vertical\")"
   ]
  },
  {
   "cell_type": "code",
   "execution_count": 301,
   "id": "aaeaf6c6-af39-45d4-968d-41439b2527e1",
   "metadata": {},
   "outputs": [
    {
     "data": {
      "text/html": [
       "<div><style>\n",
       ".dataframe > thead > tr,\n",
       ".dataframe > tbody > tr {\n",
       "  text-align: right;\n",
       "  white-space: pre-wrap;\n",
       "}\n",
       "</style>\n",
       "<small>shape: (4, 6)</small><table border=\"1\" class=\"dataframe\"><thead><tr><th>x_0</th><th>x_1</th><th>y_0</th><th>y_1</th><th>z_0</th><th>z_1</th></tr><tr><td>str</td><td>str</td><td>i64</td><td>i64</td><td>list[u8]</td><td>list[u8]</td></tr></thead><tbody><tr><td>&quot;A&quot;</td><td>&quot;B&quot;</td><td>1</td><td>2</td><td>[1, 2]</td><td>[2, 3]</td></tr><tr><td>&quot;C&quot;</td><td>&quot;D&quot;</td><td>3</td><td>4</td><td>[3, 4]</td><td>[4, 5]</td></tr><tr><td>&quot;E&quot;</td><td>&quot;F&quot;</td><td>5</td><td>6</td><td>[5, 6]</td><td>[6, 7]</td></tr><tr><td>&quot;G&quot;</td><td>&quot;H&quot;</td><td>7</td><td>8</td><td>[7, 8]</td><td>[8, 9]</td></tr></tbody></table></div>"
      ],
      "text/plain": [
       "shape: (4, 6)\n",
       "┌─────┬─────┬─────┬─────┬──────────┬──────────┐\n",
       "│ x_0 ┆ x_1 ┆ y_0 ┆ y_1 ┆ z_0      ┆ z_1      │\n",
       "│ --- ┆ --- ┆ --- ┆ --- ┆ ---      ┆ ---      │\n",
       "│ str ┆ str ┆ i64 ┆ i64 ┆ list[u8] ┆ list[u8] │\n",
       "╞═════╪═════╪═════╪═════╪══════════╪══════════╡\n",
       "│ A   ┆ B   ┆ 1   ┆ 2   ┆ [1, 2]   ┆ [2, 3]   │\n",
       "│ C   ┆ D   ┆ 3   ┆ 4   ┆ [3, 4]   ┆ [4, 5]   │\n",
       "│ E   ┆ F   ┆ 5   ┆ 6   ┆ [5, 6]   ┆ [6, 7]   │\n",
       "│ G   ┆ H   ┆ 7   ┆ 8   ┆ [7, 8]   ┆ [8, 9]   │\n",
       "└─────┴─────┴─────┴─────┴──────────┴──────────┘"
      ]
     },
     "execution_count": 301,
     "metadata": {},
     "output_type": "execute_result"
    }
   ],
   "source": [
    "df.unstack(step=2, how=\"horizontal\")"
   ]
  },
  {
   "cell_type": "code",
   "execution_count": 302,
   "id": "fd6b1d1b-8ed4-43c2-b316-7da67eff6696",
   "metadata": {},
   "outputs": [
    {
     "data": {
      "text/html": [
       "<div><style>\n",
       ".dataframe > thead > tr,\n",
       ".dataframe > tbody > tr {\n",
       "  text-align: right;\n",
       "  white-space: pre-wrap;\n",
       "}\n",
       "</style>\n",
       "<small>shape: (5, 2)</small><table border=\"1\" class=\"dataframe\"><thead><tr><th>y_0</th><th>y_1</th></tr><tr><td>i64</td><td>i64</td></tr></thead><tbody><tr><td>1</td><td>6</td></tr><tr><td>2</td><td>7</td></tr><tr><td>3</td><td>8</td></tr><tr><td>4</td><td>0</td></tr><tr><td>5</td><td>0</td></tr></tbody></table></div>"
      ],
      "text/plain": [
       "shape: (5, 2)\n",
       "┌─────┬─────┐\n",
       "│ y_0 ┆ y_1 │\n",
       "│ --- ┆ --- │\n",
       "│ i64 ┆ i64 │\n",
       "╞═════╪═════╡\n",
       "│ 1   ┆ 6   │\n",
       "│ 2   ┆ 7   │\n",
       "│ 3   ┆ 8   │\n",
       "│ 4   ┆ 0   │\n",
       "│ 5   ┆ 0   │\n",
       "└─────┴─────┘"
      ]
     },
     "execution_count": 302,
     "metadata": {},
     "output_type": "execute_result"
    }
   ],
   "source": [
    "import polars.selectors as cs\n",
    "df.unstack(step=5, columns=cs.numeric(), fill_values=0)"
   ]
  },
  {
   "cell_type": "markdown",
   "id": "6eb6fd72-b2da-4c8a-92d5-f12a6610742e",
   "metadata": {},
   "source": [
    "## update"
   ]
  },
  {
   "cell_type": "code",
   "execution_count": 303,
   "id": "e8191978-8e3f-4c82-a863-4ff49a51937d",
   "metadata": {},
   "outputs": [],
   "source": [
    "df = pl.DataFrame(\n",
    "    {\n",
    "        \"A\": [1, 2, 3, 4],\n",
    "        \"B\": [400, 500, 600, 700],\n",
    "    }\n",
    ")\n",
    "new_df = pl.DataFrame(\n",
    "    {\n",
    "        \"B\": [-66, None, -99],\n",
    "        \"C\": [5, 3, 1],\n",
    "    }\n",
    ")"
   ]
  },
  {
   "cell_type": "code",
   "execution_count": 304,
   "id": "c5a88bd7-a7fd-4750-be58-51249517569d",
   "metadata": {},
   "outputs": [
    {
     "data": {
      "text/html": [
       "<div><style>\n",
       ".dataframe > thead > tr,\n",
       ".dataframe > tbody > tr {\n",
       "  text-align: right;\n",
       "  white-space: pre-wrap;\n",
       "}\n",
       "</style>\n",
       "<small>shape: (4, 2)</small><table border=\"1\" class=\"dataframe\"><thead><tr><th>A</th><th>B</th></tr><tr><td>i64</td><td>i64</td></tr></thead><tbody><tr><td>1</td><td>400</td></tr><tr><td>2</td><td>500</td></tr><tr><td>3</td><td>600</td></tr><tr><td>4</td><td>700</td></tr></tbody></table></div>"
      ],
      "text/plain": [
       "shape: (4, 2)\n",
       "┌─────┬─────┐\n",
       "│ A   ┆ B   │\n",
       "│ --- ┆ --- │\n",
       "│ i64 ┆ i64 │\n",
       "╞═════╪═════╡\n",
       "│ 1   ┆ 400 │\n",
       "│ 2   ┆ 500 │\n",
       "│ 3   ┆ 600 │\n",
       "│ 4   ┆ 700 │\n",
       "└─────┴─────┘"
      ]
     },
     "execution_count": 304,
     "metadata": {},
     "output_type": "execute_result"
    }
   ],
   "source": [
    "df"
   ]
  },
  {
   "cell_type": "code",
   "execution_count": 305,
   "id": "14c3467d-2a5e-4750-b47a-daa070c3c396",
   "metadata": {},
   "outputs": [
    {
     "data": {
      "text/html": [
       "<div><style>\n",
       ".dataframe > thead > tr,\n",
       ".dataframe > tbody > tr {\n",
       "  text-align: right;\n",
       "  white-space: pre-wrap;\n",
       "}\n",
       "</style>\n",
       "<small>shape: (3, 2)</small><table border=\"1\" class=\"dataframe\"><thead><tr><th>B</th><th>C</th></tr><tr><td>i64</td><td>i64</td></tr></thead><tbody><tr><td>-66</td><td>5</td></tr><tr><td>null</td><td>3</td></tr><tr><td>-99</td><td>1</td></tr></tbody></table></div>"
      ],
      "text/plain": [
       "shape: (3, 2)\n",
       "┌──────┬─────┐\n",
       "│ B    ┆ C   │\n",
       "│ ---  ┆ --- │\n",
       "│ i64  ┆ i64 │\n",
       "╞══════╪═════╡\n",
       "│ -66  ┆ 5   │\n",
       "│ null ┆ 3   │\n",
       "│ -99  ┆ 1   │\n",
       "└──────┴─────┘"
      ]
     },
     "execution_count": 305,
     "metadata": {},
     "output_type": "execute_result"
    }
   ],
   "source": [
    "new_df"
   ]
  },
  {
   "cell_type": "code",
   "execution_count": 306,
   "id": "aae99947-77b6-4d40-925f-bdad12244d9a",
   "metadata": {},
   "outputs": [
    {
     "data": {
      "text/html": [
       "<div><style>\n",
       ".dataframe > thead > tr,\n",
       ".dataframe > tbody > tr {\n",
       "  text-align: right;\n",
       "  white-space: pre-wrap;\n",
       "}\n",
       "</style>\n",
       "<small>shape: (4, 2)</small><table border=\"1\" class=\"dataframe\"><thead><tr><th>A</th><th>B</th></tr><tr><td>i64</td><td>i64</td></tr></thead><tbody><tr><td>1</td><td>-66</td></tr><tr><td>2</td><td>500</td></tr><tr><td>3</td><td>-99</td></tr><tr><td>4</td><td>700</td></tr></tbody></table></div>"
      ],
      "text/plain": [
       "shape: (4, 2)\n",
       "┌─────┬─────┐\n",
       "│ A   ┆ B   │\n",
       "│ --- ┆ --- │\n",
       "│ i64 ┆ i64 │\n",
       "╞═════╪═════╡\n",
       "│ 1   ┆ -66 │\n",
       "│ 2   ┆ 500 │\n",
       "│ 3   ┆ -99 │\n",
       "│ 4   ┆ 700 │\n",
       "└─────┴─────┘"
      ]
     },
     "execution_count": 306,
     "metadata": {},
     "output_type": "execute_result"
    }
   ],
   "source": [
    "df.update(new_df)"
   ]
  },
  {
   "cell_type": "code",
   "execution_count": 307,
   "id": "08346884-3b51-40e5-93fc-a390d423797f",
   "metadata": {},
   "outputs": [
    {
     "data": {
      "text/html": [
       "<div><style>\n",
       ".dataframe > thead > tr,\n",
       ".dataframe > tbody > tr {\n",
       "  text-align: right;\n",
       "  white-space: pre-wrap;\n",
       "}\n",
       "</style>\n",
       "<small>shape: (3, 2)</small><table border=\"1\" class=\"dataframe\"><thead><tr><th>A</th><th>B</th></tr><tr><td>i64</td><td>i64</td></tr></thead><tbody><tr><td>1</td><td>-66</td></tr><tr><td>2</td><td>500</td></tr><tr><td>3</td><td>-99</td></tr></tbody></table></div>"
      ],
      "text/plain": [
       "shape: (3, 2)\n",
       "┌─────┬─────┐\n",
       "│ A   ┆ B   │\n",
       "│ --- ┆ --- │\n",
       "│ i64 ┆ i64 │\n",
       "╞═════╪═════╡\n",
       "│ 1   ┆ -66 │\n",
       "│ 2   ┆ 500 │\n",
       "│ 3   ┆ -99 │\n",
       "└─────┴─────┘"
      ]
     },
     "execution_count": 307,
     "metadata": {},
     "output_type": "execute_result"
    }
   ],
   "source": [
    "df.update(new_df, how=\"inner\")"
   ]
  },
  {
   "cell_type": "code",
   "execution_count": 308,
   "id": "96e9cedb-f841-4183-af55-6f86ab641b09",
   "metadata": {},
   "outputs": [
    {
     "data": {
      "text/html": [
       "<div><style>\n",
       ".dataframe > thead > tr,\n",
       ".dataframe > tbody > tr {\n",
       "  text-align: right;\n",
       "  white-space: pre-wrap;\n",
       "}\n",
       "</style>\n",
       "<small>shape: (5, 2)</small><table border=\"1\" class=\"dataframe\"><thead><tr><th>A</th><th>B</th></tr><tr><td>i64</td><td>i64</td></tr></thead><tbody><tr><td>1</td><td>-99</td></tr><tr><td>2</td><td>500</td></tr><tr><td>3</td><td>600</td></tr><tr><td>4</td><td>700</td></tr><tr><td>5</td><td>-66</td></tr></tbody></table></div>"
      ],
      "text/plain": [
       "shape: (5, 2)\n",
       "┌─────┬─────┐\n",
       "│ A   ┆ B   │\n",
       "│ --- ┆ --- │\n",
       "│ i64 ┆ i64 │\n",
       "╞═════╪═════╡\n",
       "│ 1   ┆ -99 │\n",
       "│ 2   ┆ 500 │\n",
       "│ 3   ┆ 600 │\n",
       "│ 4   ┆ 700 │\n",
       "│ 5   ┆ -66 │\n",
       "└─────┴─────┘"
      ]
     },
     "execution_count": 308,
     "metadata": {},
     "output_type": "execute_result"
    }
   ],
   "source": [
    "df.update(new_df, left_on=[\"A\"], right_on=[\"C\"], how=\"full\")"
   ]
  },
  {
   "cell_type": "code",
   "execution_count": 309,
   "id": "3c1f8df3-54bb-417c-a2a8-8940550dc9bf",
   "metadata": {},
   "outputs": [
    {
     "data": {
      "text/html": [
       "<div><style>\n",
       ".dataframe > thead > tr,\n",
       ".dataframe > tbody > tr {\n",
       "  text-align: right;\n",
       "  white-space: pre-wrap;\n",
       "}\n",
       "</style>\n",
       "<small>shape: (5, 2)</small><table border=\"1\" class=\"dataframe\"><thead><tr><th>A</th><th>B</th></tr><tr><td>i64</td><td>i64</td></tr></thead><tbody><tr><td>1</td><td>-99</td></tr><tr><td>2</td><td>500</td></tr><tr><td>3</td><td>null</td></tr><tr><td>4</td><td>700</td></tr><tr><td>5</td><td>-66</td></tr></tbody></table></div>"
      ],
      "text/plain": [
       "shape: (5, 2)\n",
       "┌─────┬──────┐\n",
       "│ A   ┆ B    │\n",
       "│ --- ┆ ---  │\n",
       "│ i64 ┆ i64  │\n",
       "╞═════╪══════╡\n",
       "│ 1   ┆ -99  │\n",
       "│ 2   ┆ 500  │\n",
       "│ 3   ┆ null │\n",
       "│ 4   ┆ 700  │\n",
       "│ 5   ┆ -66  │\n",
       "└─────┴──────┘"
      ]
     },
     "execution_count": 309,
     "metadata": {},
     "output_type": "execute_result"
    }
   ],
   "source": [
    "df.update(new_df, left_on=\"A\", right_on=\"C\", how=\"full\", include_nulls=True)"
   ]
  },
  {
   "cell_type": "markdown",
   "id": "953eaae7-213b-416a-b947-e8a16d520ac6",
   "metadata": {},
   "source": [
    "## unsample"
   ]
  },
  {
   "cell_type": "code",
   "execution_count": 310,
   "id": "bb460312-58d3-40b8-ae99-ecc93f99c512",
   "metadata": {},
   "outputs": [
    {
     "data": {
      "text/html": [
       "<div><style>\n",
       ".dataframe > thead > tr,\n",
       ".dataframe > tbody > tr {\n",
       "  text-align: right;\n",
       "  white-space: pre-wrap;\n",
       "}\n",
       "</style>\n",
       "<small>shape: (4, 3)</small><table border=\"1\" class=\"dataframe\"><thead><tr><th>time</th><th>groups</th><th>values</th></tr><tr><td>datetime[μs]</td><td>str</td><td>i64</td></tr></thead><tbody><tr><td>2021-02-01 00:00:00</td><td>&quot;A&quot;</td><td>0</td></tr><tr><td>2021-04-01 00:00:00</td><td>&quot;B&quot;</td><td>1</td></tr><tr><td>2021-05-01 00:00:00</td><td>&quot;A&quot;</td><td>2</td></tr><tr><td>2021-06-01 00:00:00</td><td>&quot;B&quot;</td><td>3</td></tr></tbody></table></div>"
      ],
      "text/plain": [
       "shape: (4, 3)\n",
       "┌─────────────────────┬────────┬────────┐\n",
       "│ time                ┆ groups ┆ values │\n",
       "│ ---                 ┆ ---    ┆ ---    │\n",
       "│ datetime[μs]        ┆ str    ┆ i64    │\n",
       "╞═════════════════════╪════════╪════════╡\n",
       "│ 2021-02-01 00:00:00 ┆ A      ┆ 0      │\n",
       "│ 2021-04-01 00:00:00 ┆ B      ┆ 1      │\n",
       "│ 2021-05-01 00:00:00 ┆ A      ┆ 2      │\n",
       "│ 2021-06-01 00:00:00 ┆ B      ┆ 3      │\n",
       "└─────────────────────┴────────┴────────┘"
      ]
     },
     "execution_count": 310,
     "metadata": {},
     "output_type": "execute_result"
    }
   ],
   "source": [
    "from datetime import datetime\n",
    "df = pl.DataFrame(\n",
    "    {\n",
    "        \"time\": [\n",
    "            datetime(2021, 2, 1),\n",
    "            datetime(2021, 4, 1),\n",
    "            datetime(2021, 5, 1),\n",
    "            datetime(2021, 6, 1),\n",
    "        ],\n",
    "        \"groups\": [\"A\", \"B\", \"A\", \"B\"],\n",
    "        \"values\": [0, 1, 2, 3],\n",
    "    }\n",
    ").set_sorted(\"time\")\n",
    "df"
   ]
  },
  {
   "cell_type": "code",
   "execution_count": 311,
   "id": "32dc6da3-c540-4acf-97fe-6f33cadbf50a",
   "metadata": {},
   "outputs": [
    {
     "data": {
      "text/html": [
       "<div><style>\n",
       ".dataframe > thead > tr,\n",
       ".dataframe > tbody > tr {\n",
       "  text-align: right;\n",
       "  white-space: pre-wrap;\n",
       "}\n",
       "</style>\n",
       "<small>shape: (7, 3)</small><table border=\"1\" class=\"dataframe\"><thead><tr><th>time</th><th>groups</th><th>values</th></tr><tr><td>datetime[μs]</td><td>str</td><td>i64</td></tr></thead><tbody><tr><td>2021-02-01 00:00:00</td><td>&quot;A&quot;</td><td>0</td></tr><tr><td>2021-03-01 00:00:00</td><td>&quot;A&quot;</td><td>0</td></tr><tr><td>2021-04-01 00:00:00</td><td>&quot;A&quot;</td><td>0</td></tr><tr><td>2021-05-01 00:00:00</td><td>&quot;A&quot;</td><td>2</td></tr><tr><td>2021-04-01 00:00:00</td><td>&quot;B&quot;</td><td>1</td></tr><tr><td>2021-05-01 00:00:00</td><td>&quot;B&quot;</td><td>1</td></tr><tr><td>2021-06-01 00:00:00</td><td>&quot;B&quot;</td><td>3</td></tr></tbody></table></div>"
      ],
      "text/plain": [
       "shape: (7, 3)\n",
       "┌─────────────────────┬────────┬────────┐\n",
       "│ time                ┆ groups ┆ values │\n",
       "│ ---                 ┆ ---    ┆ ---    │\n",
       "│ datetime[μs]        ┆ str    ┆ i64    │\n",
       "╞═════════════════════╪════════╪════════╡\n",
       "│ 2021-02-01 00:00:00 ┆ A      ┆ 0      │\n",
       "│ 2021-03-01 00:00:00 ┆ A      ┆ 0      │\n",
       "│ 2021-04-01 00:00:00 ┆ A      ┆ 0      │\n",
       "│ 2021-05-01 00:00:00 ┆ A      ┆ 2      │\n",
       "│ 2021-04-01 00:00:00 ┆ B      ┆ 1      │\n",
       "│ 2021-05-01 00:00:00 ┆ B      ┆ 1      │\n",
       "│ 2021-06-01 00:00:00 ┆ B      ┆ 3      │\n",
       "└─────────────────────┴────────┴────────┘"
      ]
     },
     "execution_count": 311,
     "metadata": {},
     "output_type": "execute_result"
    }
   ],
   "source": [
    "df.upsample(\n",
    "    time_column=\"time\", every=\"1mo\", group_by=\"groups\", maintain_order=True\n",
    ").select(pl.all().forward_fill())"
   ]
  },
  {
   "cell_type": "markdown",
   "id": "12442fe7-4765-485f-bb2d-bc36b4e74c2c",
   "metadata": {},
   "source": [
    "## var"
   ]
  },
  {
   "cell_type": "code",
   "execution_count": 315,
   "id": "b799be5a-aa45-4a7e-9cd9-d77e041f17e3",
   "metadata": {},
   "outputs": [
    {
     "data": {
      "text/html": [
       "<div><style>\n",
       ".dataframe > thead > tr,\n",
       ".dataframe > tbody > tr {\n",
       "  text-align: right;\n",
       "  white-space: pre-wrap;\n",
       "}\n",
       "</style>\n",
       "<small>shape: (1, 3)</small><table border=\"1\" class=\"dataframe\"><thead><tr><th>foo</th><th>bar</th><th>ham</th></tr><tr><td>f64</td><td>f64</td><td>str</td></tr></thead><tbody><tr><td>1.0</td><td>1.0</td><td>null</td></tr></tbody></table></div>"
      ],
      "text/plain": [
       "shape: (1, 3)\n",
       "┌─────┬─────┬──────┐\n",
       "│ foo ┆ bar ┆ ham  │\n",
       "│ --- ┆ --- ┆ ---  │\n",
       "│ f64 ┆ f64 ┆ str  │\n",
       "╞═════╪═════╪══════╡\n",
       "│ 1.0 ┆ 1.0 ┆ null │\n",
       "└─────┴─────┴──────┘"
      ]
     },
     "execution_count": 315,
     "metadata": {},
     "output_type": "execute_result"
    }
   ],
   "source": [
    "df = pl.DataFrame(\n",
    "    {\n",
    "        \"foo\": [1, 2, 3],\n",
    "        \"bar\": [6, 7, 8],\n",
    "        \"ham\": [\"a\", \"b\", \"c\"],\n",
    "    }\n",
    ")\n",
    "df.var()"
   ]
  },
  {
   "cell_type": "code",
   "execution_count": 316,
   "id": "cca2d70f-76fc-4f3b-bc54-928df88c9fe8",
   "metadata": {},
   "outputs": [
    {
     "data": {
      "text/html": [
       "<div><style>\n",
       ".dataframe > thead > tr,\n",
       ".dataframe > tbody > tr {\n",
       "  text-align: right;\n",
       "  white-space: pre-wrap;\n",
       "}\n",
       "</style>\n",
       "<small>shape: (1, 3)</small><table border=\"1\" class=\"dataframe\"><thead><tr><th>foo</th><th>bar</th><th>ham</th></tr><tr><td>f64</td><td>f64</td><td>str</td></tr></thead><tbody><tr><td>0.666667</td><td>0.666667</td><td>null</td></tr></tbody></table></div>"
      ],
      "text/plain": [
       "shape: (1, 3)\n",
       "┌──────────┬──────────┬──────┐\n",
       "│ foo      ┆ bar      ┆ ham  │\n",
       "│ ---      ┆ ---      ┆ ---  │\n",
       "│ f64      ┆ f64      ┆ str  │\n",
       "╞══════════╪══════════╪══════╡\n",
       "│ 0.666667 ┆ 0.666667 ┆ null │\n",
       "└──────────┴──────────┴──────┘"
      ]
     },
     "execution_count": 316,
     "metadata": {},
     "output_type": "execute_result"
    }
   ],
   "source": [
    "df.var(ddof=0)\n",
    "\n"
   ]
  },
  {
   "cell_type": "markdown",
   "id": "be6b7772-ff00-4183-8e3c-792a58b38b81",
   "metadata": {},
   "source": [
    "## vstack"
   ]
  },
  {
   "cell_type": "code",
   "execution_count": 317,
   "id": "28ed409b-e161-4d72-b2b9-6af254060cd2",
   "metadata": {},
   "outputs": [
    {
     "data": {
      "text/html": [
       "<div><style>\n",
       ".dataframe > thead > tr,\n",
       ".dataframe > tbody > tr {\n",
       "  text-align: right;\n",
       "  white-space: pre-wrap;\n",
       "}\n",
       "</style>\n",
       "<small>shape: (4, 3)</small><table border=\"1\" class=\"dataframe\"><thead><tr><th>foo</th><th>bar</th><th>ham</th></tr><tr><td>i64</td><td>i64</td><td>str</td></tr></thead><tbody><tr><td>1</td><td>6</td><td>&quot;a&quot;</td></tr><tr><td>2</td><td>7</td><td>&quot;b&quot;</td></tr><tr><td>3</td><td>8</td><td>&quot;c&quot;</td></tr><tr><td>4</td><td>9</td><td>&quot;d&quot;</td></tr></tbody></table></div>"
      ],
      "text/plain": [
       "shape: (4, 3)\n",
       "┌─────┬─────┬─────┐\n",
       "│ foo ┆ bar ┆ ham │\n",
       "│ --- ┆ --- ┆ --- │\n",
       "│ i64 ┆ i64 ┆ str │\n",
       "╞═════╪═════╪═════╡\n",
       "│ 1   ┆ 6   ┆ a   │\n",
       "│ 2   ┆ 7   ┆ b   │\n",
       "│ 3   ┆ 8   ┆ c   │\n",
       "│ 4   ┆ 9   ┆ d   │\n",
       "└─────┴─────┴─────┘"
      ]
     },
     "execution_count": 317,
     "metadata": {},
     "output_type": "execute_result"
    }
   ],
   "source": [
    "df1 = pl.DataFrame(\n",
    "    {\n",
    "        \"foo\": [1, 2],\n",
    "        \"bar\": [6, 7],\n",
    "        \"ham\": [\"a\", \"b\"],\n",
    "    }\n",
    ")\n",
    "df2 = pl.DataFrame(\n",
    "    {\n",
    "        \"foo\": [3, 4],\n",
    "        \"bar\": [8, 9],\n",
    "        \"ham\": [\"c\", \"d\"],\n",
    "    }\n",
    ")\n",
    "df1.vstack(df2)"
   ]
  },
  {
   "cell_type": "markdown",
   "id": "3c2b283f-b07b-4a6a-adc0-74046deef7ca",
   "metadata": {},
   "source": [
    "## with_columns"
   ]
  },
  {
   "cell_type": "code",
   "execution_count": 319,
   "id": "5b79bd6f-618c-4b2f-b690-fae66f0e1bd2",
   "metadata": {},
   "outputs": [
    {
     "data": {
      "text/html": [
       "<div><style>\n",
       ".dataframe > thead > tr,\n",
       ".dataframe > tbody > tr {\n",
       "  text-align: right;\n",
       "  white-space: pre-wrap;\n",
       "}\n",
       "</style>\n",
       "<small>shape: (4, 3)</small><table border=\"1\" class=\"dataframe\"><thead><tr><th>a</th><th>b</th><th>c</th></tr><tr><td>i64</td><td>f64</td><td>bool</td></tr></thead><tbody><tr><td>1</td><td>0.5</td><td>true</td></tr><tr><td>2</td><td>4.0</td><td>true</td></tr><tr><td>3</td><td>10.0</td><td>false</td></tr><tr><td>4</td><td>13.0</td><td>true</td></tr></tbody></table></div>"
      ],
      "text/plain": [
       "shape: (4, 3)\n",
       "┌─────┬──────┬───────┐\n",
       "│ a   ┆ b    ┆ c     │\n",
       "│ --- ┆ ---  ┆ ---   │\n",
       "│ i64 ┆ f64  ┆ bool  │\n",
       "╞═════╪══════╪═══════╡\n",
       "│ 1   ┆ 0.5  ┆ true  │\n",
       "│ 2   ┆ 4.0  ┆ true  │\n",
       "│ 3   ┆ 10.0 ┆ false │\n",
       "│ 4   ┆ 13.0 ┆ true  │\n",
       "└─────┴──────┴───────┘"
      ]
     },
     "execution_count": 319,
     "metadata": {},
     "output_type": "execute_result"
    }
   ],
   "source": [
    "df = pl.DataFrame(\n",
    "    {\n",
    "        \"a\": [1, 2, 3, 4],\n",
    "        \"b\": [0.5, 4, 10, 13],\n",
    "        \"c\": [True, True, False, True],\n",
    "    }\n",
    ")\n",
    "df"
   ]
  },
  {
   "cell_type": "code",
   "execution_count": 320,
   "id": "7f1d926c-2490-46ac-b93c-0186fbb9891d",
   "metadata": {},
   "outputs": [
    {
     "data": {
      "text/html": [
       "<div><style>\n",
       ".dataframe > thead > tr,\n",
       ".dataframe > tbody > tr {\n",
       "  text-align: right;\n",
       "  white-space: pre-wrap;\n",
       "}\n",
       "</style>\n",
       "<small>shape: (4, 4)</small><table border=\"1\" class=\"dataframe\"><thead><tr><th>a</th><th>b</th><th>c</th><th>a^2</th></tr><tr><td>i64</td><td>f64</td><td>bool</td><td>i64</td></tr></thead><tbody><tr><td>1</td><td>0.5</td><td>true</td><td>1</td></tr><tr><td>2</td><td>4.0</td><td>true</td><td>4</td></tr><tr><td>3</td><td>10.0</td><td>false</td><td>9</td></tr><tr><td>4</td><td>13.0</td><td>true</td><td>16</td></tr></tbody></table></div>"
      ],
      "text/plain": [
       "shape: (4, 4)\n",
       "┌─────┬──────┬───────┬─────┐\n",
       "│ a   ┆ b    ┆ c     ┆ a^2 │\n",
       "│ --- ┆ ---  ┆ ---   ┆ --- │\n",
       "│ i64 ┆ f64  ┆ bool  ┆ i64 │\n",
       "╞═════╪══════╪═══════╪═════╡\n",
       "│ 1   ┆ 0.5  ┆ true  ┆ 1   │\n",
       "│ 2   ┆ 4.0  ┆ true  ┆ 4   │\n",
       "│ 3   ┆ 10.0 ┆ false ┆ 9   │\n",
       "│ 4   ┆ 13.0 ┆ true  ┆ 16  │\n",
       "└─────┴──────┴───────┴─────┘"
      ]
     },
     "execution_count": 320,
     "metadata": {},
     "output_type": "execute_result"
    }
   ],
   "source": [
    "df.with_columns((pl.col(\"a\") ** 2).alias(\"a^2\"))"
   ]
  },
  {
   "cell_type": "code",
   "execution_count": 321,
   "id": "4d408d82-655a-4359-ba88-db2168e6caf1",
   "metadata": {},
   "outputs": [
    {
     "data": {
      "text/html": [
       "<div><style>\n",
       ".dataframe > thead > tr,\n",
       ".dataframe > tbody > tr {\n",
       "  text-align: right;\n",
       "  white-space: pre-wrap;\n",
       "}\n",
       "</style>\n",
       "<small>shape: (4, 3)</small><table border=\"1\" class=\"dataframe\"><thead><tr><th>a</th><th>b</th><th>c</th></tr><tr><td>f64</td><td>f64</td><td>bool</td></tr></thead><tbody><tr><td>1.0</td><td>0.5</td><td>true</td></tr><tr><td>2.0</td><td>4.0</td><td>true</td></tr><tr><td>3.0</td><td>10.0</td><td>false</td></tr><tr><td>4.0</td><td>13.0</td><td>true</td></tr></tbody></table></div>"
      ],
      "text/plain": [
       "shape: (4, 3)\n",
       "┌─────┬──────┬───────┐\n",
       "│ a   ┆ b    ┆ c     │\n",
       "│ --- ┆ ---  ┆ ---   │\n",
       "│ f64 ┆ f64  ┆ bool  │\n",
       "╞═════╪══════╪═══════╡\n",
       "│ 1.0 ┆ 0.5  ┆ true  │\n",
       "│ 2.0 ┆ 4.0  ┆ true  │\n",
       "│ 3.0 ┆ 10.0 ┆ false │\n",
       "│ 4.0 ┆ 13.0 ┆ true  │\n",
       "└─────┴──────┴───────┘"
      ]
     },
     "execution_count": 321,
     "metadata": {},
     "output_type": "execute_result"
    }
   ],
   "source": [
    "df.with_columns(pl.col(\"a\").cast(pl.Float64))"
   ]
  },
  {
   "cell_type": "code",
   "execution_count": 323,
   "id": "6adc4d17-7b69-44dd-b5fc-1febdbfabe8d",
   "metadata": {},
   "outputs": [
    {
     "data": {
      "text/html": [
       "<div><style>\n",
       ".dataframe > thead > tr,\n",
       ".dataframe > tbody > tr {\n",
       "  text-align: right;\n",
       "  white-space: pre-wrap;\n",
       "}\n",
       "</style>\n",
       "<small>shape: (4, 6)</small><table border=\"1\" class=\"dataframe\"><thead><tr><th>a</th><th>b</th><th>c</th><th>a^2</th><th>b/2</th><th>not c</th></tr><tr><td>i64</td><td>f64</td><td>bool</td><td>i64</td><td>f64</td><td>bool</td></tr></thead><tbody><tr><td>1</td><td>0.5</td><td>true</td><td>1</td><td>0.25</td><td>false</td></tr><tr><td>2</td><td>4.0</td><td>true</td><td>4</td><td>2.0</td><td>false</td></tr><tr><td>3</td><td>10.0</td><td>false</td><td>9</td><td>5.0</td><td>true</td></tr><tr><td>4</td><td>13.0</td><td>true</td><td>16</td><td>6.5</td><td>false</td></tr></tbody></table></div>"
      ],
      "text/plain": [
       "shape: (4, 6)\n",
       "┌─────┬──────┬───────┬─────┬──────┬───────┐\n",
       "│ a   ┆ b    ┆ c     ┆ a^2 ┆ b/2  ┆ not c │\n",
       "│ --- ┆ ---  ┆ ---   ┆ --- ┆ ---  ┆ ---   │\n",
       "│ i64 ┆ f64  ┆ bool  ┆ i64 ┆ f64  ┆ bool  │\n",
       "╞═════╪══════╪═══════╪═════╪══════╪═══════╡\n",
       "│ 1   ┆ 0.5  ┆ true  ┆ 1   ┆ 0.25 ┆ false │\n",
       "│ 2   ┆ 4.0  ┆ true  ┆ 4   ┆ 2.0  ┆ false │\n",
       "│ 3   ┆ 10.0 ┆ false ┆ 9   ┆ 5.0  ┆ true  │\n",
       "│ 4   ┆ 13.0 ┆ true  ┆ 16  ┆ 6.5  ┆ false │\n",
       "└─────┴──────┴───────┴─────┴──────┴───────┘"
      ]
     },
     "execution_count": 323,
     "metadata": {},
     "output_type": "execute_result"
    }
   ],
   "source": [
    "df.with_columns(\n",
    "    (pl.col(\"a\") ** 2).alias(\"a^2\"),\n",
    "    (pl.col(\"b\") / 2).alias(\"b/2\"),\n",
    "    (pl.col(\"c\").not_()).alias(\"not c\"),\n",
    ")"
   ]
  },
  {
   "cell_type": "code",
   "execution_count": 324,
   "id": "094dfad3-120a-4a32-b6df-e5979f5c7492",
   "metadata": {},
   "outputs": [
    {
     "data": {
      "text/html": [
       "<div><style>\n",
       ".dataframe > thead > tr,\n",
       ".dataframe > tbody > tr {\n",
       "  text-align: right;\n",
       "  white-space: pre-wrap;\n",
       "}\n",
       "</style>\n",
       "<small>shape: (4, 6)</small><table border=\"1\" class=\"dataframe\"><thead><tr><th>a</th><th>b</th><th>c</th><th>a^2</th><th>b/2</th><th>not c</th></tr><tr><td>i64</td><td>f64</td><td>bool</td><td>i64</td><td>f64</td><td>bool</td></tr></thead><tbody><tr><td>1</td><td>0.5</td><td>true</td><td>1</td><td>0.25</td><td>false</td></tr><tr><td>2</td><td>4.0</td><td>true</td><td>4</td><td>2.0</td><td>false</td></tr><tr><td>3</td><td>10.0</td><td>false</td><td>9</td><td>5.0</td><td>true</td></tr><tr><td>4</td><td>13.0</td><td>true</td><td>16</td><td>6.5</td><td>false</td></tr></tbody></table></div>"
      ],
      "text/plain": [
       "shape: (4, 6)\n",
       "┌─────┬──────┬───────┬─────┬──────┬───────┐\n",
       "│ a   ┆ b    ┆ c     ┆ a^2 ┆ b/2  ┆ not c │\n",
       "│ --- ┆ ---  ┆ ---   ┆ --- ┆ ---  ┆ ---   │\n",
       "│ i64 ┆ f64  ┆ bool  ┆ i64 ┆ f64  ┆ bool  │\n",
       "╞═════╪══════╪═══════╪═════╪══════╪═══════╡\n",
       "│ 1   ┆ 0.5  ┆ true  ┆ 1   ┆ 0.25 ┆ false │\n",
       "│ 2   ┆ 4.0  ┆ true  ┆ 4   ┆ 2.0  ┆ false │\n",
       "│ 3   ┆ 10.0 ┆ false ┆ 9   ┆ 5.0  ┆ true  │\n",
       "│ 4   ┆ 13.0 ┆ true  ┆ 16  ┆ 6.5  ┆ false │\n",
       "└─────┴──────┴───────┴─────┴──────┴───────┘"
      ]
     },
     "execution_count": 324,
     "metadata": {},
     "output_type": "execute_result"
    }
   ],
   "source": [
    "df.with_columns(\n",
    "    [\n",
    "        (pl.col(\"a\") ** 2).alias(\"a^2\"),\n",
    "        (pl.col(\"b\") / 2).alias(\"b/2\"),\n",
    "        (pl.col(\"c\").not_()).alias(\"not c\"),\n",
    "    ]\n",
    ")"
   ]
  },
  {
   "cell_type": "code",
   "execution_count": 325,
   "id": "69875bf6-9499-48e4-bc09-168a74c4d646",
   "metadata": {},
   "outputs": [
    {
     "data": {
      "text/html": [
       "<div><style>\n",
       ".dataframe > thead > tr,\n",
       ".dataframe > tbody > tr {\n",
       "  text-align: right;\n",
       "  white-space: pre-wrap;\n",
       "}\n",
       "</style>\n",
       "<small>shape: (4, 5)</small><table border=\"1\" class=\"dataframe\"><thead><tr><th>a</th><th>b</th><th>c</th><th>ab</th><th>not_c</th></tr><tr><td>i64</td><td>f64</td><td>bool</td><td>f64</td><td>bool</td></tr></thead><tbody><tr><td>1</td><td>0.5</td><td>true</td><td>0.5</td><td>false</td></tr><tr><td>2</td><td>4.0</td><td>true</td><td>8.0</td><td>false</td></tr><tr><td>3</td><td>10.0</td><td>false</td><td>30.0</td><td>true</td></tr><tr><td>4</td><td>13.0</td><td>true</td><td>52.0</td><td>false</td></tr></tbody></table></div>"
      ],
      "text/plain": [
       "shape: (4, 5)\n",
       "┌─────┬──────┬───────┬──────┬───────┐\n",
       "│ a   ┆ b    ┆ c     ┆ ab   ┆ not_c │\n",
       "│ --- ┆ ---  ┆ ---   ┆ ---  ┆ ---   │\n",
       "│ i64 ┆ f64  ┆ bool  ┆ f64  ┆ bool  │\n",
       "╞═════╪══════╪═══════╪══════╪═══════╡\n",
       "│ 1   ┆ 0.5  ┆ true  ┆ 0.5  ┆ false │\n",
       "│ 2   ┆ 4.0  ┆ true  ┆ 8.0  ┆ false │\n",
       "│ 3   ┆ 10.0 ┆ false ┆ 30.0 ┆ true  │\n",
       "│ 4   ┆ 13.0 ┆ true  ┆ 52.0 ┆ false │\n",
       "└─────┴──────┴───────┴──────┴───────┘"
      ]
     },
     "execution_count": 325,
     "metadata": {},
     "output_type": "execute_result"
    }
   ],
   "source": [
    "df.with_columns(\n",
    "    ab=pl.col(\"a\") * pl.col(\"b\"),\n",
    "    not_c=pl.col(\"c\").not_(),\n",
    ")"
   ]
  },
  {
   "cell_type": "markdown",
   "id": "e7cf94b8-30d0-4dd4-9721-2cfa415f9f12",
   "metadata": {},
   "source": [
    "## with_row_index"
   ]
  },
  {
   "cell_type": "code",
   "execution_count": 326,
   "id": "9685caf0-fc5d-4816-8e21-2b283eecbb2d",
   "metadata": {},
   "outputs": [
    {
     "data": {
      "text/html": [
       "<div><style>\n",
       ".dataframe > thead > tr,\n",
       ".dataframe > tbody > tr {\n",
       "  text-align: right;\n",
       "  white-space: pre-wrap;\n",
       "}\n",
       "</style>\n",
       "<small>shape: (3, 2)</small><table border=\"1\" class=\"dataframe\"><thead><tr><th>a</th><th>b</th></tr><tr><td>i64</td><td>i64</td></tr></thead><tbody><tr><td>1</td><td>2</td></tr><tr><td>3</td><td>4</td></tr><tr><td>5</td><td>6</td></tr></tbody></table></div>"
      ],
      "text/plain": [
       "shape: (3, 2)\n",
       "┌─────┬─────┐\n",
       "│ a   ┆ b   │\n",
       "│ --- ┆ --- │\n",
       "│ i64 ┆ i64 │\n",
       "╞═════╪═════╡\n",
       "│ 1   ┆ 2   │\n",
       "│ 3   ┆ 4   │\n",
       "│ 5   ┆ 6   │\n",
       "└─────┴─────┘"
      ]
     },
     "execution_count": 326,
     "metadata": {},
     "output_type": "execute_result"
    }
   ],
   "source": [
    "df = pl.DataFrame(\n",
    "    {\n",
    "        \"a\": [1, 3, 5],\n",
    "        \"b\": [2, 4, 6],\n",
    "    }\n",
    ")\n",
    "df"
   ]
  },
  {
   "cell_type": "code",
   "execution_count": 327,
   "id": "f9f26086-5a10-45f0-b287-28edf2b3db2d",
   "metadata": {},
   "outputs": [
    {
     "data": {
      "text/html": [
       "<div><style>\n",
       ".dataframe > thead > tr,\n",
       ".dataframe > tbody > tr {\n",
       "  text-align: right;\n",
       "  white-space: pre-wrap;\n",
       "}\n",
       "</style>\n",
       "<small>shape: (3, 3)</small><table border=\"1\" class=\"dataframe\"><thead><tr><th>index</th><th>a</th><th>b</th></tr><tr><td>u32</td><td>i64</td><td>i64</td></tr></thead><tbody><tr><td>0</td><td>1</td><td>2</td></tr><tr><td>1</td><td>3</td><td>4</td></tr><tr><td>2</td><td>5</td><td>6</td></tr></tbody></table></div>"
      ],
      "text/plain": [
       "shape: (3, 3)\n",
       "┌───────┬─────┬─────┐\n",
       "│ index ┆ a   ┆ b   │\n",
       "│ ---   ┆ --- ┆ --- │\n",
       "│ u32   ┆ i64 ┆ i64 │\n",
       "╞═══════╪═════╪═════╡\n",
       "│ 0     ┆ 1   ┆ 2   │\n",
       "│ 1     ┆ 3   ┆ 4   │\n",
       "│ 2     ┆ 5   ┆ 6   │\n",
       "└───────┴─────┴─────┘"
      ]
     },
     "execution_count": 327,
     "metadata": {},
     "output_type": "execute_result"
    }
   ],
   "source": [
    "df.with_row_index()"
   ]
  },
  {
   "cell_type": "code",
   "execution_count": 328,
   "id": "fae129d4-30bb-4147-8d8c-9a52f1e40055",
   "metadata": {},
   "outputs": [
    {
     "data": {
      "text/html": [
       "<div><style>\n",
       ".dataframe > thead > tr,\n",
       ".dataframe > tbody > tr {\n",
       "  text-align: right;\n",
       "  white-space: pre-wrap;\n",
       "}\n",
       "</style>\n",
       "<small>shape: (3, 3)</small><table border=\"1\" class=\"dataframe\"><thead><tr><th>id</th><th>a</th><th>b</th></tr><tr><td>u32</td><td>i64</td><td>i64</td></tr></thead><tbody><tr><td>1000</td><td>1</td><td>2</td></tr><tr><td>1001</td><td>3</td><td>4</td></tr><tr><td>1002</td><td>5</td><td>6</td></tr></tbody></table></div>"
      ],
      "text/plain": [
       "shape: (3, 3)\n",
       "┌──────┬─────┬─────┐\n",
       "│ id   ┆ a   ┆ b   │\n",
       "│ ---  ┆ --- ┆ --- │\n",
       "│ u32  ┆ i64 ┆ i64 │\n",
       "╞══════╪═════╪═════╡\n",
       "│ 1000 ┆ 1   ┆ 2   │\n",
       "│ 1001 ┆ 3   ┆ 4   │\n",
       "│ 1002 ┆ 5   ┆ 6   │\n",
       "└──────┴─────┴─────┘"
      ]
     },
     "execution_count": 328,
     "metadata": {},
     "output_type": "execute_result"
    }
   ],
   "source": [
    "df.with_row_index(\"id\", offset=1000)"
   ]
  },
  {
   "cell_type": "markdown",
   "id": "897c0643-8384-4557-87f7-e404b60309ea",
   "metadata": {},
   "source": [
    "## write_excel"
   ]
  },
  {
   "cell_type": "code",
   "execution_count": 329,
   "id": "48a80cc7-0edc-4044-9394-3f71ef170510",
   "metadata": {},
   "outputs": [
    {
     "data": {
      "text/html": [
       "<div><style>\n",
       ".dataframe > thead > tr,\n",
       ".dataframe > tbody > tr {\n",
       "  text-align: right;\n",
       "  white-space: pre-wrap;\n",
       "}\n",
       "</style>\n",
       "<small>shape: (3, 3)</small><table border=\"1\" class=\"dataframe\"><thead><tr><th>dtm</th><th>num</th><th>val</th></tr><tr><td>date</td><td>f64</td><td>i64</td></tr></thead><tbody><tr><td>2023-01-01</td><td>-183.966931</td><td>10000</td></tr><tr><td>2023-01-02</td><td>-491.479253</td><td>20000</td></tr><tr><td>2023-01-03</td><td>-475.673878</td><td>30000</td></tr></tbody></table></div>"
      ],
      "text/plain": [
       "shape: (3, 3)\n",
       "┌────────────┬─────────────┬───────┐\n",
       "│ dtm        ┆ num         ┆ val   │\n",
       "│ ---        ┆ ---         ┆ ---   │\n",
       "│ date       ┆ f64         ┆ i64   │\n",
       "╞════════════╪═════════════╪═══════╡\n",
       "│ 2023-01-01 ┆ -183.966931 ┆ 10000 │\n",
       "│ 2023-01-02 ┆ -491.479253 ┆ 20000 │\n",
       "│ 2023-01-03 ┆ -475.673878 ┆ 30000 │\n",
       "└────────────┴─────────────┴───────┘"
      ]
     },
     "execution_count": 329,
     "metadata": {},
     "output_type": "execute_result"
    }
   ],
   "source": [
    "from random import uniform\n",
    "from datetime import date\n",
    "df = pl.DataFrame(\n",
    "    {\n",
    "        \"dtm\": [date(2023, 1, 1), date(2023, 1, 2), date(2023, 1, 3)],\n",
    "        \"num\": [uniform(-500, 500), uniform(-500, 500), uniform(-500, 500)],\n",
    "        \"val\": [10_000, 20_000, 30_000],\n",
    "    }\n",
    ")\n",
    "df"
   ]
  },
  {
   "cell_type": "code",
   "execution_count": 330,
   "id": "18270d86-f341-4023-a858-4f274fd09bd9",
   "metadata": {},
   "outputs": [
    {
     "data": {
      "text/plain": [
       "<xlsxwriter.workbook.Workbook at 0x133714980>"
      ]
     },
     "execution_count": 330,
     "metadata": {},
     "output_type": "execute_result"
    }
   ],
   "source": [
    "df.write_excel(column_totals=True, autofit=True)  \n",
    "# escribe a dataframe.xlsx"
   ]
  },
  {
   "cell_type": "code",
   "execution_count": 331,
   "id": "87468e7a-f0c0-4e06-a004-a02c49e0b7df",
   "metadata": {},
   "outputs": [
    {
     "data": {
      "text/plain": [
       "<xlsxwriter.workbook.Workbook at 0x133bea780>"
      ]
     },
     "execution_count": 331,
     "metadata": {},
     "output_type": "execute_result"
    }
   ],
   "source": [
    "df.write_excel(  \n",
    "    position=\"B4\",\n",
    "    table_style=\"Table Style Light 16\",\n",
    "    dtype_formats={pl.Date: \"mm/dd/yyyy\"},\n",
    "    column_totals={\"num\": \"average\"},\n",
    "    float_precision=6,\n",
    "    autofit=True,\n",
    ")"
   ]
  },
  {
   "cell_type": "code",
   "execution_count": 332,
   "id": "1c62d835-63f8-41f5-8ca0-c2d9009874e7",
   "metadata": {},
   "outputs": [],
   "source": [
    "from xlsxwriter import Workbook\n",
    "with Workbook(\"data/multi_frame.xlsx\") as wb:  \n",
    "    # basic/default conditional formatting\n",
    "    df.write_excel(\n",
    "        workbook=wb,\n",
    "        worksheet=\"data\",\n",
    "        position=(3, 1),  # specify position as (row,col) coordinates\n",
    "        conditional_formats={\"num\": \"3_color_scale\", \"val\": \"data_bar\"},\n",
    "        table_style=\"Table Style Medium 4\",\n",
    "    )\n",
    "    # advanced conditional formatting, custom styles\n",
    "    df.write_excel(\n",
    "        workbook=wb,\n",
    "        worksheet=\"data\",\n",
    "        position=(len(df) + 7, 1),\n",
    "        table_style={\n",
    "            \"style\": \"Table Style Light 4\",\n",
    "            \"first_column\": True,\n",
    "        },\n",
    "        conditional_formats={\n",
    "            \"num\": {\n",
    "                \"type\": \"3_color_scale\",\n",
    "                \"min_color\": \"#76933c\",\n",
    "                \"mid_color\": \"#c4d79b\",\n",
    "                \"max_color\": \"#ebf1de\",\n",
    "            },\n",
    "            \"val\": {\n",
    "                \"type\": \"data_bar\",\n",
    "                \"data_bar_2010\": True,\n",
    "                \"bar_color\": \"#9bbb59\",\n",
    "                \"bar_negative_color_same\": True,\n",
    "                \"bar_negative_border_color_same\": True,\n",
    "            },\n",
    "        },\n",
    "        column_formats={\"num\": \"#,##0.000;[White]-#,##0.000\"},\n",
    "        column_widths={\"val\": 125},\n",
    "        autofit=True,\n",
    "    )\n",
    "    # add some table titles (with a custom format)\n",
    "    ws = wb.get_worksheet_by_name(\"data\")\n",
    "    fmt_title = wb.add_format(\n",
    "        {\n",
    "            \"font_color\": \"#4f6228\",\n",
    "            \"font_size\": 12,\n",
    "            \"italic\": True,\n",
    "            \"bold\": True,\n",
    "        }\n",
    "    )\n",
    "    ws.write(2, 1, \"Basic/default conditional formatting\", fmt_title)\n",
    "    ws.write(len(df) + 6, 1, \"Customised conditional formatting\", fmt_title)"
   ]
  },
  {
   "cell_type": "code",
   "execution_count": 333,
   "id": "35c826a1-e2a5-4c59-9334-cc80cd33b2af",
   "metadata": {},
   "outputs": [
    {
     "data": {
      "text/plain": [
       "<xlsxwriter.workbook.Workbook at 0x1337175f0>"
      ]
     },
     "execution_count": 333,
     "metadata": {},
     "output_type": "execute_result"
    }
   ],
   "source": [
    "df = pl.DataFrame(\n",
    "    {\n",
    "        \"id\": [\"aaa\", \"bbb\", \"ccc\", \"ddd\", \"eee\"],\n",
    "        \"q1\": [100, 55, -20, 0, 35],\n",
    "        \"q2\": [30, -10, 15, 60, 20],\n",
    "        \"q3\": [-50, 0, 40, 80, 80],\n",
    "        \"q4\": [75, 55, 25, -10, -55],\n",
    "    }\n",
    ")\n",
    "df.write_excel(  \n",
    "    table_style=\"Table Style Light 2\",\n",
    "    # apply accounting format to all flavours of integer\n",
    "    dtype_formats={dt: \"#,##0_);(#,##0)\" for dt in [pl.Int32, pl.Int64]},\n",
    "    sparklines={\n",
    "        # default options; just provide source cols\n",
    "        \"trend\": [\"q1\", \"q2\", \"q3\", \"q4\"],\n",
    "        # customized sparkline type, with positioning directive\n",
    "        \"+/-\": {\n",
    "            \"columns\": [\"q1\", \"q2\", \"q3\", \"q4\"],\n",
    "            \"insert_after\": \"id\",\n",
    "            \"type\": \"win_loss\",\n",
    "        },\n",
    "    },\n",
    "    conditional_formats={\n",
    "        # create a unified multi-column heatmap\n",
    "        (\"q1\", \"q2\", \"q3\", \"q4\"): {\n",
    "            \"type\": \"2_color_scale\",\n",
    "            \"min_color\": \"#95b3d7\",\n",
    "            \"max_color\": \"#ffffff\",\n",
    "        },\n",
    "    },\n",
    "    column_totals=[\"q1\", \"q2\", \"q3\", \"q4\"],\n",
    "    row_totals=True,\n",
    "    hide_gridlines=True,\n",
    ")"
   ]
  },
  {
   "cell_type": "code",
   "execution_count": 334,
   "id": "1a35414c-4148-49c5-85e9-81723109c9ab",
   "metadata": {},
   "outputs": [
    {
     "data": {
      "text/plain": [
       "<xlsxwriter.workbook.Workbook at 0x133beb830>"
      ]
     },
     "execution_count": 334,
     "metadata": {},
     "output_type": "execute_result"
    }
   ],
   "source": [
    "df = pl.DataFrame(\n",
    "    {\n",
    "        \"id\": [\"a123\", \"b345\", \"c567\", \"d789\", \"e101\"],\n",
    "        \"points\": [99, 45, 50, 85, 35],\n",
    "    }\n",
    ")\n",
    "df.write_excel(  \n",
    "    table_style={\n",
    "        \"style\": \"Table Style Medium 15\",\n",
    "        \"first_column\": True,\n",
    "    },\n",
    "    column_formats={\n",
    "        \"id\": {\"font\": \"Consolas\"},\n",
    "        \"points\": {\"align\": \"center\"},\n",
    "        \"z-score\": {\"align\": \"center\"},\n",
    "    },\n",
    "    column_totals=\"average\",\n",
    "    formulas={\n",
    "        \"z-score\": {\n",
    "            # use structured references to refer to the table columns and 'totals' row\n",
    "            \"formula\": \"=STANDARDIZE([@points], [[#Totals],[points]], STDEV([points]))\",\n",
    "            \"insert_after\": \"points\",\n",
    "            \"return_dtype\": pl.Float64,\n",
    "        }\n",
    "    },\n",
    "    hide_gridlines=True,\n",
    "    sheet_zoom=125,\n",
    ")"
   ]
  },
  {
   "cell_type": "code",
   "execution_count": 336,
   "id": "0d5e9a47-11a9-46af-8e22-2a53afd89934",
   "metadata": {},
   "outputs": [],
   "source": [
    "with Workbook(\"data/basic_chart.xlsx\") as wb:  \n",
    "    # create worksheet object and write frame data to it\n",
    "    ws = wb.add_worksheet(\"demo\")\n",
    "    df.write_excel(\n",
    "        workbook=wb,\n",
    "        worksheet=ws,\n",
    "        table_name=\"DataTable\",\n",
    "        table_style=\"Table Style Medium 26\",\n",
    "        hide_gridlines=True,\n",
    "    )\n",
    "    # create chart object, point to the written table\n",
    "    # data using structured references, and style it\n",
    "    chart = wb.add_chart({\"type\": \"column\"})\n",
    "    chart.set_title({\"name\": \"Example Chart\"})\n",
    "    chart.set_legend({\"none\": True})\n",
    "    chart.set_style(38)\n",
    "    chart.add_series(\n",
    "        {  # note the use of structured references\n",
    "            \"values\": \"=DataTable[points]\",\n",
    "            \"categories\": \"=DataTable[id]\",\n",
    "            \"data_labels\": {\"value\": True},\n",
    "        }\n",
    "    )\n",
    "    # add chart to the worksheet\n",
    "    ws.insert_chart(\"D1\", chart)"
   ]
  },
  {
   "cell_type": "markdown",
   "id": "e5caf1b5-f700-4484-b199-7e6fd9126d7b",
   "metadata": {},
   "source": [
    "## write_json"
   ]
  },
  {
   "cell_type": "code",
   "execution_count": 337,
   "id": "48a9e4f8-bdee-488e-a1fe-4fff94a2f533",
   "metadata": {},
   "outputs": [
    {
     "data": {
      "text/plain": [
       "'[{\"foo\":1,\"bar\":6},{\"foo\":2,\"bar\":7},{\"foo\":3,\"bar\":8}]'"
      ]
     },
     "execution_count": 337,
     "metadata": {},
     "output_type": "execute_result"
    }
   ],
   "source": [
    "df = pl.DataFrame(\n",
    "    {\n",
    "        \"foo\": [1, 2, 3],\n",
    "        \"bar\": [6, 7, 8],\n",
    "    }\n",
    ")\n",
    "df.write_json()"
   ]
  },
  {
   "cell_type": "markdown",
   "id": "4c68ab9d-1777-4294-a025-ef53a878281f",
   "metadata": {},
   "source": [
    "## write_ndjson"
   ]
  },
  {
   "cell_type": "code",
   "execution_count": 338,
   "id": "8dd0bdee-eac3-4825-9661-d4d4ebe4b5fc",
   "metadata": {},
   "outputs": [
    {
     "data": {
      "text/plain": [
       "'{\"foo\":1,\"bar\":6}\\n{\"foo\":2,\"bar\":7}\\n{\"foo\":3,\"bar\":8}\\n'"
      ]
     },
     "execution_count": 338,
     "metadata": {},
     "output_type": "execute_result"
    }
   ],
   "source": [
    "df = pl.DataFrame(\n",
    "    {\n",
    "        \"foo\": [1, 2, 3],\n",
    "        \"bar\": [6, 7, 8],\n",
    "    }\n",
    ")\n",
    "df.write_ndjson()"
   ]
  },
  {
   "cell_type": "markdown",
   "id": "ab5503ea-1c34-4c71-80ef-48d7a26585f4",
   "metadata": {},
   "source": [
    "## write_parquet"
   ]
  },
  {
   "cell_type": "code",
   "execution_count": 344,
   "id": "fa9f224d-9c87-47fc-9f32-60ba97a0251d",
   "metadata": {},
   "outputs": [],
   "source": [
    "from pathlib import Path\n",
    "dirpath = Path(\"data/\")\n",
    "df = pl.DataFrame(\n",
    "    {\n",
    "        \"foo\": [1, 2, 3, 4, 5],\n",
    "        \"bar\": [6, 7, 8, 9, 10],\n",
    "        \"ham\": [\"a\", \"b\", \"c\", \"d\", \"e\"],\n",
    "    }\n",
    ")\n",
    "path = dirpath / \"new_file.parquet\"\n",
    "df.write_parquet(path)"
   ]
  },
  {
   "cell_type": "code",
   "execution_count": null,
   "id": "7fd3f570-fe3c-4cac-b072-bc7bd138fa25",
   "metadata": {},
   "outputs": [],
   "source": []
  }
 ],
 "metadata": {
  "kernelspec": {
   "display_name": "Python 3 (ipykernel)",
   "language": "python",
   "name": "python3"
  },
  "language_info": {
   "codemirror_mode": {
    "name": "ipython",
    "version": 3
   },
   "file_extension": ".py",
   "mimetype": "text/x-python",
   "name": "python",
   "nbconvert_exporter": "python",
   "pygments_lexer": "ipython3",
   "version": "3.12.1"
  }
 },
 "nbformat": 4,
 "nbformat_minor": 5
}
