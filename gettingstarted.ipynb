{
 "cells": [
  {
   "cell_type": "code",
   "execution_count": 99,
   "metadata": {},
   "outputs": [],
   "source": [
    "import polars as pl\n",
    "import numpy as np\n",
    "from datetime import datetime"
   ]
  },
  {
   "cell_type": "markdown",
   "metadata": {},
   "source": [
    "# Declarando"
   ]
  },
  {
   "cell_type": "code",
   "execution_count": 100,
   "metadata": {},
   "outputs": [
    {
     "data": {
      "text/html": [
       "<div><style>\n",
       ".dataframe > thead > tr,\n",
       ".dataframe > tbody > tr {\n",
       "  text-align: right;\n",
       "  white-space: pre-wrap;\n",
       "}\n",
       "</style>\n",
       "<small>shape: (5_000, 3)</small><table border=\"1\" class=\"dataframe\"><thead><tr><th>metraje</th><th>año</th><th>tipo</th></tr><tr><td>f64</td><td>i64</td><td>str</td></tr></thead><tbody><tr><td>212.258777</td><td>1982</td><td>&quot;C&quot;</td></tr><tr><td>307.561004</td><td>2019</td><td>&quot;C&quot;</td></tr><tr><td>170.564597</td><td>2007</td><td>&quot;A&quot;</td></tr><tr><td>268.532959</td><td>1988</td><td>&quot;A&quot;</td></tr><tr><td>61.959826</td><td>2006</td><td>&quot;A&quot;</td></tr><tr><td>&hellip;</td><td>&hellip;</td><td>&hellip;</td></tr><tr><td>213.130726</td><td>1993</td><td>&quot;C&quot;</td></tr><tr><td>122.661835</td><td>2003</td><td>&quot;C&quot;</td></tr><tr><td>17.268618</td><td>2018</td><td>&quot;C&quot;</td></tr><tr><td>1118.426685</td><td>2019</td><td>&quot;C&quot;</td></tr><tr><td>206.003503</td><td>2006</td><td>&quot;C&quot;</td></tr></tbody></table></div>"
      ],
      "text/plain": [
       "shape: (5_000, 3)\n",
       "┌─────────────┬──────┬──────┐\n",
       "│ metraje     ┆ año  ┆ tipo │\n",
       "│ ---         ┆ ---  ┆ ---  │\n",
       "│ f64         ┆ i64  ┆ str  │\n",
       "╞═════════════╪══════╪══════╡\n",
       "│ 212.258777  ┆ 1982 ┆ C    │\n",
       "│ 307.561004  ┆ 2019 ┆ C    │\n",
       "│ 170.564597  ┆ 2007 ┆ A    │\n",
       "│ 268.532959  ┆ 1988 ┆ A    │\n",
       "│ 61.959826   ┆ 2006 ┆ A    │\n",
       "│ …           ┆ …    ┆ …    │\n",
       "│ 213.130726  ┆ 1993 ┆ C    │\n",
       "│ 122.661835  ┆ 2003 ┆ C    │\n",
       "│ 17.268618   ┆ 2018 ┆ C    │\n",
       "│ 1118.426685 ┆ 2019 ┆ C    │\n",
       "│ 206.003503  ┆ 2006 ┆ C    │\n",
       "└─────────────┴──────┴──────┘"
      ]
     },
     "execution_count": 100,
     "metadata": {},
     "output_type": "execute_result"
    }
   ],
   "source": [
    "num_filas = 5_000\n",
    "rng = np.random.default_rng(seed=7)\n",
    "\n",
    "datos_edificios = {\n",
    "    \"metraje\" : rng.exponential(scale = 300, size=num_filas),\n",
    "    \"año\": rng.integers(low=1980, high=2024, size= num_filas),\n",
    "    \"tipo\": rng.choice([\"A\", \"B\", \"C\"], size = num_filas)\n",
    "}\n",
    "\n",
    "edificios = pl.DataFrame(data=datos_edificios)\n",
    "edificios"
   ]
  },
  {
   "cell_type": "markdown",
   "metadata": {},
   "source": [
    "Existen métodos para explorar datos, que muchos son similares a ```pandas```. Los tipos de datos son de ```pyarrow```."
   ]
  },
  {
   "cell_type": "code",
   "execution_count": 101,
   "metadata": {},
   "outputs": [
    {
     "data": {
      "text/plain": [
       "Schema([('metraje', Float64), ('año', Int64), ('tipo', String)])"
      ]
     },
     "execution_count": 101,
     "metadata": {},
     "output_type": "execute_result"
    }
   ],
   "source": [
    "edificios.schema"
   ]
  },
  {
   "cell_type": "code",
   "execution_count": 102,
   "metadata": {},
   "outputs": [
    {
     "data": {
      "text/html": [
       "<div><style>\n",
       ".dataframe > thead > tr,\n",
       ".dataframe > tbody > tr {\n",
       "  text-align: right;\n",
       "  white-space: pre-wrap;\n",
       "}\n",
       "</style>\n",
       "<small>shape: (5, 3)</small><table border=\"1\" class=\"dataframe\"><thead><tr><th>metraje</th><th>año</th><th>tipo</th></tr><tr><td>f64</td><td>i64</td><td>str</td></tr></thead><tbody><tr><td>212.258777</td><td>1982</td><td>&quot;C&quot;</td></tr><tr><td>307.561004</td><td>2019</td><td>&quot;C&quot;</td></tr><tr><td>170.564597</td><td>2007</td><td>&quot;A&quot;</td></tr><tr><td>268.532959</td><td>1988</td><td>&quot;A&quot;</td></tr><tr><td>61.959826</td><td>2006</td><td>&quot;A&quot;</td></tr></tbody></table></div>"
      ],
      "text/plain": [
       "shape: (5, 3)\n",
       "┌────────────┬──────┬──────┐\n",
       "│ metraje    ┆ año  ┆ tipo │\n",
       "│ ---        ┆ ---  ┆ ---  │\n",
       "│ f64        ┆ i64  ┆ str  │\n",
       "╞════════════╪══════╪══════╡\n",
       "│ 212.258777 ┆ 1982 ┆ C    │\n",
       "│ 307.561004 ┆ 2019 ┆ C    │\n",
       "│ 170.564597 ┆ 2007 ┆ A    │\n",
       "│ 268.532959 ┆ 1988 ┆ A    │\n",
       "│ 61.959826  ┆ 2006 ┆ A    │\n",
       "└────────────┴──────┴──────┘"
      ]
     },
     "execution_count": 102,
     "metadata": {},
     "output_type": "execute_result"
    }
   ],
   "source": [
    "edificios.head()"
   ]
  },
  {
   "cell_type": "code",
   "execution_count": 103,
   "metadata": {},
   "outputs": [
    {
     "data": {
      "text/html": [
       "<div><style>\n",
       ".dataframe > thead > tr,\n",
       ".dataframe > tbody > tr {\n",
       "  text-align: right;\n",
       "  white-space: pre-wrap;\n",
       "}\n",
       "</style>\n",
       "<small>shape: (9, 4)</small><table border=\"1\" class=\"dataframe\"><thead><tr><th>statistic</th><th>metraje</th><th>año</th><th>tipo</th></tr><tr><td>str</td><td>f64</td><td>f64</td><td>str</td></tr></thead><tbody><tr><td>&quot;count&quot;</td><td>5000.0</td><td>5000.0</td><td>&quot;5000&quot;</td></tr><tr><td>&quot;null_count&quot;</td><td>0.0</td><td>0.0</td><td>&quot;0&quot;</td></tr><tr><td>&quot;mean&quot;</td><td>298.228337</td><td>2001.5494</td><td>null</td></tr><tr><td>&quot;std&quot;</td><td>304.992471</td><td>12.676312</td><td>null</td></tr><tr><td>&quot;min&quot;</td><td>0.339977</td><td>1980.0</td><td>&quot;A&quot;</td></tr><tr><td>&quot;25%&quot;</td><td>86.042265</td><td>1990.0</td><td>null</td></tr><tr><td>&quot;50%&quot;</td><td>200.822089</td><td>2002.0</td><td>null</td></tr><tr><td>&quot;75%&quot;</td><td>402.872935</td><td>2012.0</td><td>null</td></tr><tr><td>&quot;max&quot;</td><td>2792.338175</td><td>2023.0</td><td>&quot;C&quot;</td></tr></tbody></table></div>"
      ],
      "text/plain": [
       "shape: (9, 4)\n",
       "┌────────────┬─────────────┬───────────┬──────┐\n",
       "│ statistic  ┆ metraje     ┆ año       ┆ tipo │\n",
       "│ ---        ┆ ---         ┆ ---       ┆ ---  │\n",
       "│ str        ┆ f64         ┆ f64       ┆ str  │\n",
       "╞════════════╪═════════════╪═══════════╪══════╡\n",
       "│ count      ┆ 5000.0      ┆ 5000.0    ┆ 5000 │\n",
       "│ null_count ┆ 0.0         ┆ 0.0       ┆ 0    │\n",
       "│ mean       ┆ 298.228337  ┆ 2001.5494 ┆ null │\n",
       "│ std        ┆ 304.992471  ┆ 12.676312 ┆ null │\n",
       "│ min        ┆ 0.339977    ┆ 1980.0    ┆ A    │\n",
       "│ 25%        ┆ 86.042265   ┆ 1990.0    ┆ null │\n",
       "│ 50%        ┆ 200.822089  ┆ 2002.0    ┆ null │\n",
       "│ 75%        ┆ 402.872935  ┆ 2012.0    ┆ null │\n",
       "│ max        ┆ 2792.338175 ┆ 2023.0    ┆ C    │\n",
       "└────────────┴─────────────┴───────────┴──────┘"
      ]
     },
     "execution_count": 103,
     "metadata": {},
     "output_type": "execute_result"
    }
   ],
   "source": [
    "edificios.describe()"
   ]
  },
  {
   "cell_type": "markdown",
   "metadata": {},
   "source": [
    "# Contexto y expresiones\n",
    "Expresiones son las transformaciones que se hacen en las columnas de datos, incluyendo operaciones matemáticas, agregaciones, comparaciones, manipulación de texto, etc\n",
    "\n",
    "Un contexto se refiere al ambiente específico en que una expresión es evaluada. Existen 3 contextos principales:\n",
    "* **Selección**: Seleccionar columnas de un dataframe.\n",
    "* **Filtro**: Reducir al dataframe extrayendo filas que cumplan una condición.\n",
    "* **Agrupación**: Hacer resúmenes de subgrupos de los datos."
   ]
  },
  {
   "cell_type": "code",
   "execution_count": 104,
   "metadata": {},
   "outputs": [
    {
     "data": {
      "text/html": [
       "<div><style>\n",
       ".dataframe > thead > tr,\n",
       ".dataframe > tbody > tr {\n",
       "  text-align: right;\n",
       "  white-space: pre-wrap;\n",
       "}\n",
       "</style>\n",
       "<small>shape: (5_000, 1)</small><table border=\"1\" class=\"dataframe\"><thead><tr><th>metraje</th></tr><tr><td>f64</td></tr></thead><tbody><tr><td>212.258777</td></tr><tr><td>307.561004</td></tr><tr><td>170.564597</td></tr><tr><td>268.532959</td></tr><tr><td>61.959826</td></tr><tr><td>&hellip;</td></tr><tr><td>213.130726</td></tr><tr><td>122.661835</td></tr><tr><td>17.268618</td></tr><tr><td>1118.426685</td></tr><tr><td>206.003503</td></tr></tbody></table></div>"
      ],
      "text/plain": [
       "shape: (5_000, 1)\n",
       "┌─────────────┐\n",
       "│ metraje     │\n",
       "│ ---         │\n",
       "│ f64         │\n",
       "╞═════════════╡\n",
       "│ 212.258777  │\n",
       "│ 307.561004  │\n",
       "│ 170.564597  │\n",
       "│ 268.532959  │\n",
       "│ 61.959826   │\n",
       "│ …           │\n",
       "│ 213.130726  │\n",
       "│ 122.661835  │\n",
       "│ 17.268618   │\n",
       "│ 1118.426685 │\n",
       "│ 206.003503  │\n",
       "└─────────────┘"
      ]
     },
     "execution_count": 104,
     "metadata": {},
     "output_type": "execute_result"
    }
   ],
   "source": [
    "edificios.select(\"metraje\")"
   ]
  },
  {
   "cell_type": "code",
   "execution_count": 105,
   "metadata": {},
   "outputs": [
    {
     "data": {
      "text/html": [
       "<div><style>\n",
       ".dataframe > thead > tr,\n",
       ".dataframe > tbody > tr {\n",
       "  text-align: right;\n",
       "  white-space: pre-wrap;\n",
       "}\n",
       "</style>\n",
       "<small>shape: (5_000, 1)</small><table border=\"1\" class=\"dataframe\"><thead><tr><th>metraje</th></tr><tr><td>f64</td></tr></thead><tbody><tr><td>212.258777</td></tr><tr><td>307.561004</td></tr><tr><td>170.564597</td></tr><tr><td>268.532959</td></tr><tr><td>61.959826</td></tr><tr><td>&hellip;</td></tr><tr><td>213.130726</td></tr><tr><td>122.661835</td></tr><tr><td>17.268618</td></tr><tr><td>1118.426685</td></tr><tr><td>206.003503</td></tr></tbody></table></div>"
      ],
      "text/plain": [
       "shape: (5_000, 1)\n",
       "┌─────────────┐\n",
       "│ metraje     │\n",
       "│ ---         │\n",
       "│ f64         │\n",
       "╞═════════════╡\n",
       "│ 212.258777  │\n",
       "│ 307.561004  │\n",
       "│ 170.564597  │\n",
       "│ 268.532959  │\n",
       "│ 61.959826   │\n",
       "│ …           │\n",
       "│ 213.130726  │\n",
       "│ 122.661835  │\n",
       "│ 17.268618   │\n",
       "│ 1118.426685 │\n",
       "│ 206.003503  │\n",
       "└─────────────┘"
      ]
     },
     "execution_count": 105,
     "metadata": {},
     "output_type": "execute_result"
    }
   ],
   "source": [
    "edificios.select(pl.col(\"metraje\"))"
   ]
  },
  {
   "cell_type": "markdown",
   "metadata": {},
   "source": [
    "La segunda forma usando ```pl.col``` te permite encadenar manipulaciones en la columna, por ejemplo dividir el metraje por 100"
   ]
  },
  {
   "cell_type": "code",
   "execution_count": 106,
   "metadata": {},
   "outputs": [
    {
     "data": {
      "text/html": [
       "<div><style>\n",
       ".dataframe > thead > tr,\n",
       ".dataframe > tbody > tr {\n",
       "  text-align: right;\n",
       "  white-space: pre-wrap;\n",
       "}\n",
       "</style>\n",
       "<small>shape: (5_000, 1)</small><table border=\"1\" class=\"dataframe\"><thead><tr><th>metraje</th></tr><tr><td>f64</td></tr></thead><tbody><tr><td>0.0034</td></tr><tr><td>0.003456</td></tr><tr><td>0.004287</td></tr><tr><td>0.004316</td></tr><tr><td>0.004514</td></tr><tr><td>&hellip;</td></tr><tr><td>20.79575</td></tr><tr><td>21.742617</td></tr><tr><td>22.888708</td></tr><tr><td>24.941827</td></tr><tr><td>27.923382</td></tr></tbody></table></div>"
      ],
      "text/plain": [
       "shape: (5_000, 1)\n",
       "┌───────────┐\n",
       "│ metraje   │\n",
       "│ ---       │\n",
       "│ f64       │\n",
       "╞═══════════╡\n",
       "│ 0.0034    │\n",
       "│ 0.003456  │\n",
       "│ 0.004287  │\n",
       "│ 0.004316  │\n",
       "│ 0.004514  │\n",
       "│ …         │\n",
       "│ 20.79575  │\n",
       "│ 21.742617 │\n",
       "│ 22.888708 │\n",
       "│ 24.941827 │\n",
       "│ 27.923382 │\n",
       "└───────────┘"
      ]
     },
     "execution_count": 106,
     "metadata": {},
     "output_type": "execute_result"
    }
   ],
   "source": [
    "edificios.select(pl.col(\"metraje\").sort() / 100)"
   ]
  },
  {
   "cell_type": "markdown",
   "metadata": {},
   "source": [
    "Podemos también filtrar"
   ]
  },
  {
   "cell_type": "code",
   "execution_count": 107,
   "metadata": {},
   "outputs": [
    {
     "data": {
      "text/html": [
       "<div><style>\n",
       ".dataframe > thead > tr,\n",
       ".dataframe > tbody > tr {\n",
       "  text-align: right;\n",
       "  white-space: pre-wrap;\n",
       "}\n",
       "</style>\n",
       "<small>shape: (902, 3)</small><table border=\"1\" class=\"dataframe\"><thead><tr><th>metraje</th><th>año</th><th>tipo</th></tr><tr><td>f64</td><td>i64</td><td>str</td></tr></thead><tbody><tr><td>307.561004</td><td>2019</td><td>&quot;C&quot;</td></tr><tr><td>1015.091205</td><td>2016</td><td>&quot;B&quot;</td></tr><tr><td>172.599827</td><td>2022</td><td>&quot;A&quot;</td></tr><tr><td>220.757182</td><td>2020</td><td>&quot;A&quot;</td></tr><tr><td>75.103604</td><td>2016</td><td>&quot;C&quot;</td></tr><tr><td>&hellip;</td><td>&hellip;</td><td>&hellip;</td></tr><tr><td>95.661883</td><td>2019</td><td>&quot;B&quot;</td></tr><tr><td>516.747999</td><td>2016</td><td>&quot;C&quot;</td></tr><tr><td>740.445452</td><td>2023</td><td>&quot;B&quot;</td></tr><tr><td>17.268618</td><td>2018</td><td>&quot;C&quot;</td></tr><tr><td>1118.426685</td><td>2019</td><td>&quot;C&quot;</td></tr></tbody></table></div>"
      ],
      "text/plain": [
       "shape: (902, 3)\n",
       "┌─────────────┬──────┬──────┐\n",
       "│ metraje     ┆ año  ┆ tipo │\n",
       "│ ---         ┆ ---  ┆ ---  │\n",
       "│ f64         ┆ i64  ┆ str  │\n",
       "╞═════════════╪══════╪══════╡\n",
       "│ 307.561004  ┆ 2019 ┆ C    │\n",
       "│ 1015.091205 ┆ 2016 ┆ B    │\n",
       "│ 172.599827  ┆ 2022 ┆ A    │\n",
       "│ 220.757182  ┆ 2020 ┆ A    │\n",
       "│ 75.103604   ┆ 2016 ┆ C    │\n",
       "│ …           ┆ …    ┆ …    │\n",
       "│ 95.661883   ┆ 2019 ┆ B    │\n",
       "│ 516.747999  ┆ 2016 ┆ C    │\n",
       "│ 740.445452  ┆ 2023 ┆ B    │\n",
       "│ 17.268618   ┆ 2018 ┆ C    │\n",
       "│ 1118.426685 ┆ 2019 ┆ C    │\n",
       "└─────────────┴──────┴──────┘"
      ]
     },
     "execution_count": 107,
     "metadata": {},
     "output_type": "execute_result"
    }
   ],
   "source": [
    "edificios.filter(pl.col(\"año\") > 2015)"
   ]
  },
  {
   "cell_type": "code",
   "execution_count": 108,
   "metadata": {},
   "outputs": [
    {
     "data": {
      "text/html": [
       "<div><style>\n",
       ".dataframe > thead > tr,\n",
       ".dataframe > tbody > tr {\n",
       "  text-align: right;\n",
       "  white-space: pre-wrap;\n",
       "}\n",
       "</style>\n",
       "<small>shape: (1, 1)</small><table border=\"1\" class=\"dataframe\"><thead><tr><th>año</th></tr><tr><td>i64</td></tr></thead><tbody><tr><td>2016</td></tr></tbody></table></div>"
      ],
      "text/plain": [
       "shape: (1, 1)\n",
       "┌──────┐\n",
       "│ año  │\n",
       "│ ---  │\n",
       "│ i64  │\n",
       "╞══════╡\n",
       "│ 2016 │\n",
       "└──────┘"
      ]
     },
     "execution_count": 108,
     "metadata": {},
     "output_type": "execute_result"
    }
   ],
   "source": [
    "edificios.filter(pl.col(\"año\") > 2015).select(pl.col(\"año\").min())"
   ]
  },
  {
   "cell_type": "markdown",
   "metadata": {},
   "source": [
    "Puedo hacer agrupaciones o ```group_by```"
   ]
  },
  {
   "cell_type": "code",
   "execution_count": 109,
   "metadata": {},
   "outputs": [
    {
     "data": {
      "text/html": [
       "<div><style>\n",
       ".dataframe > thead > tr,\n",
       ".dataframe > tbody > tr {\n",
       "  text-align: right;\n",
       "  white-space: pre-wrap;\n",
       "}\n",
       "</style>\n",
       "<small>shape: (3, 4)</small><table border=\"1\" class=\"dataframe\"><thead><tr><th>tipo</th><th>mts promedio</th><th>año medio</th><th>len</th></tr><tr><td>str</td><td>f64</td><td>f64</td><td>u32</td></tr></thead><tbody><tr><td>&quot;C&quot;</td><td>300.0</td><td>2002.0</td><td>1692</td></tr><tr><td>&quot;A&quot;</td><td>296.9</td><td>2003.0</td><td>1653</td></tr><tr><td>&quot;B&quot;</td><td>297.8</td><td>2002.0</td><td>1655</td></tr></tbody></table></div>"
      ],
      "text/plain": [
       "shape: (3, 4)\n",
       "┌──────┬──────────────┬───────────┬──────┐\n",
       "│ tipo ┆ mts promedio ┆ año medio ┆ len  │\n",
       "│ ---  ┆ ---          ┆ ---       ┆ ---  │\n",
       "│ str  ┆ f64          ┆ f64       ┆ u32  │\n",
       "╞══════╪══════════════╪═══════════╪══════╡\n",
       "│ C    ┆ 300.0        ┆ 2002.0    ┆ 1692 │\n",
       "│ A    ┆ 296.9        ┆ 2003.0    ┆ 1653 │\n",
       "│ B    ┆ 297.8        ┆ 2002.0    ┆ 1655 │\n",
       "└──────┴──────────────┴───────────┴──────┘"
      ]
     },
     "execution_count": 109,
     "metadata": {},
     "output_type": "execute_result"
    }
   ],
   "source": [
    "(edificios.group_by(\"tipo\")\n",
    " .agg([\n",
    "     pl.mean(\"metraje\").round(1).alias(\"mts promedio\"),\n",
    "     pl.median(\"año\").round(1).alias(\"año medio\"),\n",
    "     pl.len()\n",
    " ])\n",
    ")"
   ]
  },
  {
   "cell_type": "markdown",
   "metadata": {},
   "source": [
    "# Lazy API\n",
    "Permite hacer operaciones sin correrlas inmediatamente, eso permite optimizarlas antes de ejecución y ver potenciales errores. Además permite hacer consultas en dataframes que no caben dentro de la memoria de manera más eficiente.\n",
    "\n",
    "```LazyFrame``` es el objeto que se usa y existen diferentes formas de crearlos"
   ]
  },
  {
   "cell_type": "code",
   "execution_count": 110,
   "metadata": {},
   "outputs": [
    {
     "data": {
      "text/html": [
       "<h4>NAIVE QUERY PLAN</h4><p>run <b>LazyFrame.show_graph()</b> to see the optimized version</p><?xml version=\"1.0\" encoding=\"UTF-8\" standalone=\"no\"?>\n",
       "<!DOCTYPE svg PUBLIC \"-//W3C//DTD SVG 1.1//EN\"\n",
       " \"http://www.w3.org/Graphics/SVG/1.1/DTD/svg11.dtd\">\n",
       "<!-- Generated by graphviz version 12.1.0 (20240811.2233)\n",
       " -->\n",
       "<!-- Title: polars_query Pages: 1 -->\n",
       "<svg width=\"68pt\" height=\"66pt\"\n",
       " viewBox=\"0.00 0.00 67.50 65.50\" xmlns=\"http://www.w3.org/2000/svg\" xmlns:xlink=\"http://www.w3.org/1999/xlink\">\n",
       "<g id=\"graph0\" class=\"graph\" transform=\"scale(1 1) rotate(0) translate(4 61.5)\">\n",
       "<title>polars_query</title>\n",
       "<polygon fill=\"white\" stroke=\"none\" points=\"-4,4 -4,-61.5 63.5,-61.5 63.5,4 -4,4\"/>\n",
       "<!-- p1 -->\n",
       "<g id=\"node1\" class=\"node\">\n",
       "<title>p1</title>\n",
       "<polygon fill=\"none\" stroke=\"black\" points=\"59.5,-57.5 0,-57.5 0,0 59.5,0 59.5,-57.5\"/>\n",
       "<text text-anchor=\"middle\" x=\"29.75\" y=\"-40.2\" font-family=\"Times,serif\" font-size=\"14.00\">TABLE</text>\n",
       "<text text-anchor=\"middle\" x=\"29.75\" y=\"-23.7\" font-family=\"Times,serif\" font-size=\"14.00\">π */4;</text>\n",
       "<text text-anchor=\"middle\" x=\"29.75\" y=\"-7.2\" font-family=\"Times,serif\" font-size=\"14.00\">σ None</text>\n",
       "</g>\n",
       "</g>\n",
       "</svg>\n"
      ],
      "text/plain": [
       "<LazyFrame at 0x1604D1E20>"
      ]
     },
     "execution_count": 110,
     "metadata": {},
     "output_type": "execute_result"
    }
   ],
   "source": [
    "# creamos variable precio\n",
    "datos_edificios[\"precio\"] = rng.exponential(scale=100_000_000, size = num_filas)\n",
    "\n",
    "edificios_lazy = pl.LazyFrame(datos_edificios)\n",
    "edificios_lazy"
   ]
  },
  {
   "cell_type": "code",
   "execution_count": 111,
   "metadata": {},
   "outputs": [
    {
     "data": {
      "text/html": [
       "<h4>NAIVE QUERY PLAN</h4><p>run <b>LazyFrame.show_graph()</b> to see the optimized version</p><?xml version=\"1.0\" encoding=\"UTF-8\" standalone=\"no\"?>\n",
       "<!DOCTYPE svg PUBLIC \"-//W3C//DTD SVG 1.1//EN\"\n",
       " \"http://www.w3.org/Graphics/SVG/1.1/DTD/svg11.dtd\">\n",
       "<!-- Generated by graphviz version 12.1.0 (20240811.2233)\n",
       " -->\n",
       "<!-- Title: polars_query Pages: 1 -->\n",
       "<svg width=\"440pt\" height=\"282pt\"\n",
       " viewBox=\"0.00 0.00 439.50 281.50\" xmlns=\"http://www.w3.org/2000/svg\" xmlns:xlink=\"http://www.w3.org/1999/xlink\">\n",
       "<g id=\"graph0\" class=\"graph\" transform=\"scale(1 1) rotate(0) translate(4 277.5)\">\n",
       "<title>polars_query</title>\n",
       "<polygon fill=\"white\" stroke=\"none\" points=\"-4,4 -4,-277.5 435.5,-277.5 435.5,4 -4,4\"/>\n",
       "<!-- p1 -->\n",
       "<g id=\"node1\" class=\"node\">\n",
       "<title>p1</title>\n",
       "<polygon fill=\"none\" stroke=\"black\" points=\"322.75,-273.5 108.75,-273.5 108.75,-237.5 322.75,-237.5 322.75,-273.5\"/>\n",
       "<text text-anchor=\"middle\" x=\"215.75\" y=\"-250.45\" font-family=\"Times,serif\" font-size=\"14.00\">FILTER BY [(col(&quot;año&quot;)) &lt; (2010)]</text>\n",
       "</g>\n",
       "<!-- p2 -->\n",
       "<g id=\"node2\" class=\"node\">\n",
       "<title>p2</title>\n",
       "<polygon fill=\"none\" stroke=\"black\" points=\"354.25,-201.5 77.25,-201.5 77.25,-165.5 354.25,-165.5 354.25,-201.5\"/>\n",
       "<text text-anchor=\"middle\" x=\"215.75\" y=\"-178.45\" font-family=\"Times,serif\" font-size=\"14.00\">FILTER BY [(col(&quot;precio_m2&quot;)) &gt; (100000.0)]</text>\n",
       "</g>\n",
       "<!-- p1&#45;&#45;p2 -->\n",
       "<g id=\"edge1\" class=\"edge\">\n",
       "<title>p1&#45;&#45;p2</title>\n",
       "<path fill=\"none\" stroke=\"black\" d=\"M215.75,-237.2C215.75,-226.35 215.75,-212.42 215.75,-201.6\"/>\n",
       "</g>\n",
       "<!-- p3 -->\n",
       "<g id=\"node3\" class=\"node\">\n",
       "<title>p3</title>\n",
       "<polygon fill=\"none\" stroke=\"black\" points=\"431.5,-129.5 0,-129.5 0,-93.5 431.5,-93.5 431.5,-129.5\"/>\n",
       "<text text-anchor=\"middle\" x=\"215.75\" y=\"-106.45\" font-family=\"Times,serif\" font-size=\"14.00\">WITH COLUMNS [[(col(&quot;precio&quot;)) / (col(&quot;metraje&quot;))].alias(&quot;precio_m2&quot;)]</text>\n",
       "</g>\n",
       "<!-- p2&#45;&#45;p3 -->\n",
       "<g id=\"edge2\" class=\"edge\">\n",
       "<title>p2&#45;&#45;p3</title>\n",
       "<path fill=\"none\" stroke=\"black\" d=\"M215.75,-165.2C215.75,-154.35 215.75,-140.42 215.75,-129.6\"/>\n",
       "</g>\n",
       "<!-- p4 -->\n",
       "<g id=\"node4\" class=\"node\">\n",
       "<title>p4</title>\n",
       "<polygon fill=\"none\" stroke=\"black\" points=\"245.5,-57.5 186,-57.5 186,0 245.5,0 245.5,-57.5\"/>\n",
       "<text text-anchor=\"middle\" x=\"215.75\" y=\"-40.2\" font-family=\"Times,serif\" font-size=\"14.00\">TABLE</text>\n",
       "<text text-anchor=\"middle\" x=\"215.75\" y=\"-23.7\" font-family=\"Times,serif\" font-size=\"14.00\">π */4;</text>\n",
       "<text text-anchor=\"middle\" x=\"215.75\" y=\"-7.2\" font-family=\"Times,serif\" font-size=\"14.00\">σ None</text>\n",
       "</g>\n",
       "<!-- p3&#45;&#45;p4 -->\n",
       "<g id=\"edge3\" class=\"edge\">\n",
       "<title>p3&#45;&#45;p4</title>\n",
       "<path fill=\"none\" stroke=\"black\" d=\"M215.75,-93.38C215.75,-83.1 215.75,-69.77 215.75,-57.97\"/>\n",
       "</g>\n",
       "</g>\n",
       "</svg>\n"
      ],
      "text/plain": [
       "<LazyFrame at 0x1604D0F20>"
      ]
     },
     "execution_count": 111,
     "metadata": {},
     "output_type": "execute_result"
    }
   ],
   "source": [
    "lazy_query = (\n",
    "    edificios_lazy\n",
    "    .with_columns(\n",
    "        (pl.col(\"precio\") / pl.col(\"metraje\")).alias(\"precio_m2\")\n",
    "    )\n",
    "    .filter(pl.col(\"precio_m2\") > 100_000)\n",
    "    .filter(pl.col(\"año\") < 2010)\n",
    ")\n",
    "lazy_query"
   ]
  },
  {
   "cell_type": "code",
   "execution_count": 112,
   "metadata": {},
   "outputs": [
    {
     "data": {
      "image/svg+xml": [
       "<svg xmlns=\"http://www.w3.org/2000/svg\" xmlns:xlink=\"http://www.w3.org/1999/xlink\" width=\"440pt\" height=\"210pt\" viewBox=\"0.00 0.00 439.50 209.50\">\n",
       "<g id=\"graph0\" class=\"graph\" transform=\"scale(1 1) rotate(0) translate(4 205.5)\">\n",
       "<title>polars_query</title>\n",
       "<polygon fill=\"white\" stroke=\"none\" points=\"-4,4 -4,-205.5 435.5,-205.5 435.5,4 -4,4\"/>\n",
       "<!-- p1 -->\n",
       "<g id=\"node1\" class=\"node\">\n",
       "<title>p1</title>\n",
       "<polygon fill=\"none\" stroke=\"black\" points=\"354.25,-201.5 77.25,-201.5 77.25,-165.5 354.25,-165.5 354.25,-201.5\"/>\n",
       "<text text-anchor=\"middle\" x=\"215.75\" y=\"-178.45\" font-family=\"Times,serif\" font-size=\"14.00\">FILTER BY [(col(&quot;precio_m2&quot;)) &gt; (100000.0)]</text>\n",
       "</g>\n",
       "<!-- p2 -->\n",
       "<g id=\"node2\" class=\"node\">\n",
       "<title>p2</title>\n",
       "<polygon fill=\"none\" stroke=\"black\" points=\"431.5,-129.5 0,-129.5 0,-93.5 431.5,-93.5 431.5,-129.5\"/>\n",
       "<text text-anchor=\"middle\" x=\"215.75\" y=\"-106.45\" font-family=\"Times,serif\" font-size=\"14.00\">WITH COLUMNS [[(col(&quot;precio&quot;)) / (col(&quot;metraje&quot;))].alias(&quot;precio_m2&quot;)]</text>\n",
       "</g>\n",
       "<!-- p1&#45;&#45;p2 -->\n",
       "<g id=\"edge1\" class=\"edge\">\n",
       "<title>p1--p2</title>\n",
       "<path fill=\"none\" stroke=\"black\" d=\"M215.75,-165.2C215.75,-154.35 215.75,-140.42 215.75,-129.6\"/>\n",
       "</g>\n",
       "<!-- p3 -->\n",
       "<g id=\"node3\" class=\"node\">\n",
       "<title>p3</title>\n",
       "<polygon fill=\"none\" stroke=\"black\" points=\"292.75,-57.5 138.75,-57.5 138.75,0 292.75,0 292.75,-57.5\"/>\n",
       "<text text-anchor=\"middle\" x=\"215.75\" y=\"-40.2\" font-family=\"Times,serif\" font-size=\"14.00\">TABLE</text>\n",
       "<text text-anchor=\"middle\" x=\"215.75\" y=\"-23.7\" font-family=\"Times,serif\" font-size=\"14.00\">π */4;</text>\n",
       "<text text-anchor=\"middle\" x=\"215.75\" y=\"-7.2\" font-family=\"Times,serif\" font-size=\"14.00\">σ [(col(&quot;año&quot;)) &lt; (2010)]</text>\n",
       "</g>\n",
       "<!-- p2&#45;&#45;p3 -->\n",
       "<g id=\"edge2\" class=\"edge\">\n",
       "<title>p2--p3</title>\n",
       "<path fill=\"none\" stroke=\"black\" d=\"M215.75,-93.38C215.75,-83.1 215.75,-69.77 215.75,-57.97\"/>\n",
       "</g>\n",
       "</g>\n",
       "</svg>"
      ],
      "text/plain": [
       "<IPython.core.display.SVG object>"
      ]
     },
     "metadata": {},
     "output_type": "display_data"
    }
   ],
   "source": [
    "lazy_query.show_graph()"
   ]
  },
  {
   "cell_type": "markdown",
   "metadata": {},
   "source": [
    "Esto explica que hace internamente ```polars``` para hacer la consulta.\n",
    "\n",
    "Para ejecutarla se usa ```collect()```"
   ]
  },
  {
   "cell_type": "code",
   "execution_count": 113,
   "metadata": {},
   "outputs": [
    {
     "data": {
      "text/html": [
       "<div><style>\n",
       ".dataframe > thead > tr,\n",
       ".dataframe > tbody > tr {\n",
       "  text-align: right;\n",
       "  white-space: pre-wrap;\n",
       "}\n",
       "</style>\n",
       "<small>shape: (2_678, 5)</small><table border=\"1\" class=\"dataframe\"><thead><tr><th>metraje</th><th>año</th><th>tipo</th><th>precio</th><th>precio_m2</th></tr><tr><td>f64</td><td>i64</td><td>str</td><td>f64</td><td>f64</td></tr></thead><tbody><tr><td>212.258777</td><td>1982</td><td>&quot;C&quot;</td><td>2.2064e7</td><td>103950.853854</td></tr><tr><td>170.564597</td><td>2007</td><td>&quot;A&quot;</td><td>2.9574e7</td><td>173387.199516</td></tr><tr><td>61.959826</td><td>2006</td><td>&quot;A&quot;</td><td>2.3924e8</td><td>3.8612e6</td></tr><tr><td>2.926088</td><td>1999</td><td>&quot;A&quot;</td><td>2.0970e8</td><td>7.1666e7</td></tr><tr><td>842.764729</td><td>1994</td><td>&quot;B&quot;</td><td>9.0218e7</td><td>107050.139414</td></tr><tr><td>&hellip;</td><td>&hellip;</td><td>&hellip;</td><td>&hellip;</td><td>&hellip;</td></tr><tr><td>27.066478</td><td>1998</td><td>&quot;B&quot;</td><td>1.1429e8</td><td>4.2225e6</td></tr><tr><td>279.834009</td><td>1991</td><td>&quot;A&quot;</td><td>1.1977e8</td><td>428018.490627</td></tr><tr><td>213.130726</td><td>1993</td><td>&quot;C&quot;</td><td>3.7365e7</td><td>175316.233029</td></tr><tr><td>122.661835</td><td>2003</td><td>&quot;C&quot;</td><td>3.8405e7</td><td>313099.658009</td></tr><tr><td>206.003503</td><td>2006</td><td>&quot;C&quot;</td><td>1.2064e8</td><td>585597.427767</td></tr></tbody></table></div>"
      ],
      "text/plain": [
       "shape: (2_678, 5)\n",
       "┌────────────┬──────┬──────┬──────────┬───────────────┐\n",
       "│ metraje    ┆ año  ┆ tipo ┆ precio   ┆ precio_m2     │\n",
       "│ ---        ┆ ---  ┆ ---  ┆ ---      ┆ ---           │\n",
       "│ f64        ┆ i64  ┆ str  ┆ f64      ┆ f64           │\n",
       "╞════════════╪══════╪══════╪══════════╪═══════════════╡\n",
       "│ 212.258777 ┆ 1982 ┆ C    ┆ 2.2064e7 ┆ 103950.853854 │\n",
       "│ 170.564597 ┆ 2007 ┆ A    ┆ 2.9574e7 ┆ 173387.199516 │\n",
       "│ 61.959826  ┆ 2006 ┆ A    ┆ 2.3924e8 ┆ 3.8612e6      │\n",
       "│ 2.926088   ┆ 1999 ┆ A    ┆ 2.0970e8 ┆ 7.1666e7      │\n",
       "│ 842.764729 ┆ 1994 ┆ B    ┆ 9.0218e7 ┆ 107050.139414 │\n",
       "│ …          ┆ …    ┆ …    ┆ …        ┆ …             │\n",
       "│ 27.066478  ┆ 1998 ┆ B    ┆ 1.1429e8 ┆ 4.2225e6      │\n",
       "│ 279.834009 ┆ 1991 ┆ A    ┆ 1.1977e8 ┆ 428018.490627 │\n",
       "│ 213.130726 ┆ 1993 ┆ C    ┆ 3.7365e7 ┆ 175316.233029 │\n",
       "│ 122.661835 ┆ 2003 ┆ C    ┆ 3.8405e7 ┆ 313099.658009 │\n",
       "│ 206.003503 ┆ 2006 ┆ C    ┆ 1.2064e8 ┆ 585597.427767 │\n",
       "└────────────┴──────┴──────┴──────────┴───────────────┘"
      ]
     },
     "execution_count": 113,
     "metadata": {},
     "output_type": "execute_result"
    }
   ],
   "source": [
    "(lazy_query.collect())"
   ]
  },
  {
   "cell_type": "code",
   "execution_count": 114,
   "metadata": {},
   "outputs": [
    {
     "data": {
      "text/html": [
       "<div><style>\n",
       ".dataframe > thead > tr,\n",
       ".dataframe > tbody > tr {\n",
       "  text-align: right;\n",
       "  white-space: pre-wrap;\n",
       "}\n",
       "</style>\n",
       "<small>shape: (2_678, 2)</small><table border=\"1\" class=\"dataframe\"><thead><tr><th>precio_m2</th><th>año</th></tr><tr><td>f64</td><td>i64</td></tr></thead><tbody><tr><td>103950.853854</td><td>1982</td></tr><tr><td>173387.199516</td><td>2007</td></tr><tr><td>3.8612e6</td><td>2006</td></tr><tr><td>7.1666e7</td><td>1999</td></tr><tr><td>107050.139414</td><td>1994</td></tr><tr><td>&hellip;</td><td>&hellip;</td></tr><tr><td>4.2225e6</td><td>1998</td></tr><tr><td>428018.490627</td><td>1991</td></tr><tr><td>175316.233029</td><td>1993</td></tr><tr><td>313099.658009</td><td>2003</td></tr><tr><td>585597.427767</td><td>2006</td></tr></tbody></table></div>"
      ],
      "text/plain": [
       "shape: (2_678, 2)\n",
       "┌───────────────┬──────┐\n",
       "│ precio_m2     ┆ año  │\n",
       "│ ---           ┆ ---  │\n",
       "│ f64           ┆ i64  │\n",
       "╞═══════════════╪══════╡\n",
       "│ 103950.853854 ┆ 1982 │\n",
       "│ 173387.199516 ┆ 2007 │\n",
       "│ 3.8612e6      ┆ 2006 │\n",
       "│ 7.1666e7      ┆ 1999 │\n",
       "│ 107050.139414 ┆ 1994 │\n",
       "│ …             ┆ …    │\n",
       "│ 4.2225e6      ┆ 1998 │\n",
       "│ 428018.490627 ┆ 1991 │\n",
       "│ 175316.233029 ┆ 1993 │\n",
       "│ 313099.658009 ┆ 2003 │\n",
       "│ 585597.427767 ┆ 2006 │\n",
       "└───────────────┴──────┘"
      ]
     },
     "execution_count": 114,
     "metadata": {},
     "output_type": "execute_result"
    }
   ],
   "source": [
    "(lazy_query\n",
    " .collect()\n",
    " .select(pl.col([\"precio_m2\", \"año\"]))\n",
    ")"
   ]
  },
  {
   "cell_type": "code",
   "execution_count": 115,
   "metadata": {},
   "outputs": [
    {
     "data": {
      "text/html": [
       "<div><style>\n",
       ".dataframe > thead > tr,\n",
       ".dataframe > tbody > tr {\n",
       "  text-align: right;\n",
       "  white-space: pre-wrap;\n",
       "}\n",
       "</style>\n",
       "<small>shape: (9, 3)</small><table border=\"1\" class=\"dataframe\"><thead><tr><th>statistic</th><th>precio_m2</th><th>año</th></tr><tr><td>str</td><td>f64</td><td>f64</td></tr></thead><tbody><tr><td>&quot;count&quot;</td><td>2678.0</td><td>2678.0</td></tr><tr><td>&quot;null_count&quot;</td><td>0.0</td><td>0.0</td></tr><tr><td>&quot;mean&quot;</td><td>3.4124e6</td><td>1994.714712</td></tr><tr><td>&quot;std&quot;</td><td>2.4323e7</td><td>8.796034</td></tr><tr><td>&quot;min&quot;</td><td>100027.263081</td><td>1980.0</td></tr><tr><td>&quot;25%&quot;</td><td>241045.156977</td><td>1987.0</td></tr><tr><td>&quot;50%&quot;</td><td>543350.608691</td><td>1995.0</td></tr><tr><td>&quot;75%&quot;</td><td>1.4526e6</td><td>2003.0</td></tr><tr><td>&quot;max&quot;</td><td>8.1156e8</td><td>2009.0</td></tr></tbody></table></div>"
      ],
      "text/plain": [
       "shape: (9, 3)\n",
       "┌────────────┬───────────────┬─────────────┐\n",
       "│ statistic  ┆ precio_m2     ┆ año         │\n",
       "│ ---        ┆ ---           ┆ ---         │\n",
       "│ str        ┆ f64           ┆ f64         │\n",
       "╞════════════╪═══════════════╪═════════════╡\n",
       "│ count      ┆ 2678.0        ┆ 2678.0      │\n",
       "│ null_count ┆ 0.0           ┆ 0.0         │\n",
       "│ mean       ┆ 3.4124e6      ┆ 1994.714712 │\n",
       "│ std        ┆ 2.4323e7      ┆ 8.796034    │\n",
       "│ min        ┆ 100027.263081 ┆ 1980.0      │\n",
       "│ 25%        ┆ 241045.156977 ┆ 1987.0      │\n",
       "│ 50%        ┆ 543350.608691 ┆ 1995.0      │\n",
       "│ 75%        ┆ 1.4526e6      ┆ 2003.0      │\n",
       "│ max        ┆ 8.1156e8      ┆ 2009.0      │\n",
       "└────────────┴───────────────┴─────────────┘"
      ]
     },
     "execution_count": 115,
     "metadata": {},
     "output_type": "execute_result"
    }
   ],
   "source": [
    "(lazy_query\n",
    " .collect()\n",
    " .select(pl.col([\"precio_m2\", \"año\"]))\n",
    " .describe()\n",
    ")"
   ]
  },
  {
   "cell_type": "markdown",
   "metadata": {},
   "source": [
    "## Datos externos lazy\n",
    "Tradicionalmente se leen todos los datos del csv o fuente externa antes de hacer cualquier procesamiento, pero con el formato lazy se minimiza lo que se lee y se procesa sólo cuando es necesario.\n",
    "\n",
    "Ejemplo con datos de autos eléctricos yankis"
   ]
  },
  {
   "cell_type": "code",
   "execution_count": 116,
   "metadata": {},
   "outputs": [],
   "source": [
    "# Bajando datos\n",
    "import requests, pathlib\n",
    "\n",
    "def bajar_archivo(file_url: str, local_file_path: pathlib.Path) -> None:\n",
    "    response = requests.get(file_url)\n",
    "    if response: \n",
    "        local_file_path.write_bytes(response.content)\n",
    "        print (f\"Archivo bajado en {local_file_path}\")\n",
    "    else:\n",
    "        raise requests.exceptions.RequestException(f\"Fallo en la descarga, código HTTP: {response.status_code}\")"
   ]
  },
  {
   "cell_type": "code",
   "execution_count": 117,
   "metadata": {},
   "outputs": [
    {
     "name": "stdout",
     "output_type": "stream",
     "text": [
      "Archivo electric_cars.csv ya existe\n"
     ]
    }
   ],
   "source": [
    "url = \"https://data.wa.gov/api/views/f6w7-q2d2/rows.csv?accessType=DOWNLOAD\"\n",
    "nombre_archivo = \"electric_cars.csv\"\n",
    "local_file_path = pathlib.Path(nombre_archivo)\n",
    "if not local_file_path.exists():\n",
    "    bajar_archivo(url, local_file_path)\n",
    "else:\n",
    "    print (f\"Archivo {nombre_archivo} ya existe\")"
   ]
  },
  {
   "cell_type": "code",
   "execution_count": 118,
   "metadata": {},
   "outputs": [
    {
     "data": {
      "text/html": [
       "<h4>NAIVE QUERY PLAN</h4><p>run <b>LazyFrame.show_graph()</b> to see the optimized version</p><?xml version=\"1.0\" encoding=\"UTF-8\" standalone=\"no\"?>\n",
       "<!DOCTYPE svg PUBLIC \"-//W3C//DTD SVG 1.1//EN\"\n",
       " \"http://www.w3.org/Graphics/SVG/1.1/DTD/svg11.dtd\">\n",
       "<!-- Generated by graphviz version 12.1.0 (20240811.2233)\n",
       " -->\n",
       "<!-- Title: polars_query Pages: 1 -->\n",
       "<svg width=\"188pt\" height=\"49pt\"\n",
       " viewBox=\"0.00 0.00 187.50 49.00\" xmlns=\"http://www.w3.org/2000/svg\" xmlns:xlink=\"http://www.w3.org/1999/xlink\">\n",
       "<g id=\"graph0\" class=\"graph\" transform=\"scale(1 1) rotate(0) translate(4 45)\">\n",
       "<title>polars_query</title>\n",
       "<polygon fill=\"white\" stroke=\"none\" points=\"-4,4 -4,-45 183.5,-45 183.5,4 -4,4\"/>\n",
       "<!-- p1 -->\n",
       "<g id=\"node1\" class=\"node\">\n",
       "<title>p1</title>\n",
       "<polygon fill=\"none\" stroke=\"black\" points=\"179.5,-41 0,-41 0,0 179.5,0 179.5,-41\"/>\n",
       "<text text-anchor=\"middle\" x=\"89.75\" y=\"-23.7\" font-family=\"Times,serif\" font-size=\"14.00\">Csv SCAN [electric_cars.csv]</text>\n",
       "<text text-anchor=\"middle\" x=\"89.75\" y=\"-7.2\" font-family=\"Times,serif\" font-size=\"14.00\">π */17;</text>\n",
       "</g>\n",
       "</g>\n",
       "</svg>\n"
      ],
      "text/plain": [
       "<LazyFrame at 0x13FFD6300>"
      ]
     },
     "execution_count": 118,
     "metadata": {},
     "output_type": "execute_result"
    }
   ],
   "source": [
    "lazy_car_data = pl.scan_csv(local_file_path)\n",
    "lazy_car_data"
   ]
  },
  {
   "cell_type": "code",
   "execution_count": 119,
   "metadata": {},
   "outputs": [
    {
     "name": "stderr",
     "output_type": "stream",
     "text": [
      "/var/folders/tx/knx9c43n5fd4_nn752k9dxs00000gn/T/ipykernel_3727/3946365031.py:1: PerformanceWarning: Resolving the schema of a LazyFrame is a potentially expensive operation. Use `LazyFrame.collect_schema()` to get the schema without this warning.\n",
      "  lazy_car_data.schema\n"
     ]
    },
    {
     "data": {
      "text/plain": [
       "Schema([('VIN (1-10)', String),\n",
       "        ('County', String),\n",
       "        ('City', String),\n",
       "        ('State', String),\n",
       "        ('Postal Code', Int64),\n",
       "        ('Model Year', Int64),\n",
       "        ('Make', String),\n",
       "        ('Model', String),\n",
       "        ('Electric Vehicle Type', String),\n",
       "        ('Clean Alternative Fuel Vehicle (CAFV) Eligibility', String),\n",
       "        ('Electric Range', Int64),\n",
       "        ('Base MSRP', Int64),\n",
       "        ('Legislative District', Int64),\n",
       "        ('DOL Vehicle ID', Int64),\n",
       "        ('Vehicle Location', String),\n",
       "        ('Electric Utility', String),\n",
       "        ('2020 Census Tract', Int64)])"
      ]
     },
     "execution_count": 119,
     "metadata": {},
     "output_type": "execute_result"
    }
   ],
   "source": [
    "lazy_car_data.schema"
   ]
  },
  {
   "cell_type": "code",
   "execution_count": 120,
   "metadata": {},
   "outputs": [
    {
     "data": {
      "text/html": [
       "<div><style>\n",
       ".dataframe > thead > tr,\n",
       ".dataframe > tbody > tr {\n",
       "  text-align: right;\n",
       "  white-space: pre-wrap;\n",
       "}\n",
       "</style>\n",
       "<small>shape: (3, 5)</small><table border=\"1\" class=\"dataframe\"><thead><tr><th>State</th><th>Make</th><th>Average Electric Range</th><th>Oldest Model Year</th><th>Number of Cars</th></tr><tr><td>str</td><td>str</td><td>f64</td><td>i64</td><td>u32</td></tr></thead><tbody><tr><td>&quot;WA&quot;</td><td>&quot;JAGUAR&quot;</td><td>204.504202</td><td>2019</td><td>238</td></tr><tr><td>&quot;TX&quot;</td><td>&quot;TESLA&quot;</td><td>113.923077</td><td>2018</td><td>13</td></tr><tr><td>&quot;FL&quot;</td><td>&quot;TESLA&quot;</td><td>104.428571</td><td>2019</td><td>7</td></tr></tbody></table></div>"
      ],
      "text/plain": [
       "shape: (3, 5)\n",
       "┌───────┬────────┬────────────────────────┬───────────────────┬────────────────┐\n",
       "│ State ┆ Make   ┆ Average Electric Range ┆ Oldest Model Year ┆ Number of Cars │\n",
       "│ ---   ┆ ---    ┆ ---                    ┆ ---               ┆ ---            │\n",
       "│ str   ┆ str    ┆ f64                    ┆ i64               ┆ u32            │\n",
       "╞═══════╪════════╪════════════════════════╪═══════════════════╪════════════════╡\n",
       "│ WA    ┆ JAGUAR ┆ 204.504202             ┆ 2019              ┆ 238            │\n",
       "│ TX    ┆ TESLA  ┆ 113.923077             ┆ 2018              ┆ 13             │\n",
       "│ FL    ┆ TESLA  ┆ 104.428571             ┆ 2019              ┆ 7              │\n",
       "└───────┴────────┴────────────────────────┴───────────────────┴────────────────┘"
      ]
     },
     "execution_count": 120,
     "metadata": {},
     "output_type": "execute_result"
    }
   ],
   "source": [
    "lazy_car_query = (\n",
    "    lazy_car_data\n",
    "    .filter((pl.col(\"Model Year\") >= 2018))\n",
    "    .filter(\n",
    "        pl.col(\"Electric Vehicle Type\") == \"Battery Electric Vehicle (BEV)\"\n",
    "    )\n",
    "    .group_by([\"State\", \"Make\"])\n",
    "    .agg(\n",
    "        pl.mean(\"Electric Range\").alias(\"Average Electric Range\"),\n",
    "        pl.min(\"Model Year\").alias(\"Oldest Model Year\"),\n",
    "        pl.len().alias(\"Number of Cars\"),\n",
    "    )\n",
    "    .filter(pl.col(\"Average Electric Range\") > 100)\n",
    "    .filter(pl.col(\"Number of Cars\") > 5)\n",
    "    .sort(pl.col(\"Number of Cars\"), descending=True)\n",
    ")\n",
    "\n",
    "lazy_car_query.collect()"
   ]
  },
  {
   "cell_type": "markdown",
   "metadata": {},
   "source": [
    "No se hace ningún cálculo pesado hasta que llamamos a ```collect()```"
   ]
  },
  {
   "cell_type": "markdown",
   "metadata": {},
   "source": [
    "# Integraciones\n",
    "## Fuentes de datos"
   ]
  },
  {
   "cell_type": "code",
   "execution_count": 121,
   "metadata": {},
   "outputs": [],
   "source": [
    "import polars as pl\n",
    "\n",
    "data = pl.DataFrame({\n",
    "    \"A\": [1, 2, 3, 4, 5],\n",
    "    \"B\": [6, 7, 8, 9, 10],\n",
    "})\n",
    "\n",
    "data.write_csv(\"data.csv\")\n",
    "data.write_ndjson(\"data.json\")\n",
    "data.write_parquet(\"data.parquet\")"
   ]
  },
  {
   "cell_type": "code",
   "execution_count": 122,
   "metadata": {},
   "outputs": [
    {
     "name": "stderr",
     "output_type": "stream",
     "text": [
      "/var/folders/tx/knx9c43n5fd4_nn752k9dxs00000gn/T/ipykernel_3727/2993282625.py:3: PerformanceWarning: Resolving the schema of a LazyFrame is a potentially expensive operation. Use `LazyFrame.collect_schema()` to get the schema without this warning.\n",
      "  data_csv_lazy.schema\n"
     ]
    },
    {
     "data": {
      "text/plain": [
       "Schema([('A', Int64), ('B', Int64)])"
      ]
     },
     "execution_count": 122,
     "metadata": {},
     "output_type": "execute_result"
    }
   ],
   "source": [
    "data_csv = pl.read_csv(\"data.csv\")\n",
    "data_csv_lazy = pl.scan_csv(\"data.csv\")\n",
    "data_csv_lazy.schema\n"
   ]
  },
  {
   "cell_type": "code",
   "execution_count": 123,
   "metadata": {},
   "outputs": [
    {
     "name": "stderr",
     "output_type": "stream",
     "text": [
      "/var/folders/tx/knx9c43n5fd4_nn752k9dxs00000gn/T/ipykernel_3727/32618361.py:3: PerformanceWarning: Resolving the schema of a LazyFrame is a potentially expensive operation. Use `LazyFrame.collect_schema()` to get the schema without this warning.\n",
      "  data_json_lazy.schema\n"
     ]
    },
    {
     "data": {
      "text/plain": [
       "Schema([('A', Int64), ('B', Int64)])"
      ]
     },
     "execution_count": 123,
     "metadata": {},
     "output_type": "execute_result"
    }
   ],
   "source": [
    "data_json = pl.read_ndjson(\"data.json\")\n",
    "data_json_lazy = pl.scan_ndjson(\"data.json\")\n",
    "data_json_lazy.schema"
   ]
  },
  {
   "cell_type": "code",
   "execution_count": 124,
   "metadata": {},
   "outputs": [
    {
     "name": "stderr",
     "output_type": "stream",
     "text": [
      "/var/folders/tx/knx9c43n5fd4_nn752k9dxs00000gn/T/ipykernel_3727/1889960607.py:3: PerformanceWarning: Resolving the schema of a LazyFrame is a potentially expensive operation. Use `LazyFrame.collect_schema()` to get the schema without this warning.\n",
      "  data_parquet_lazy.schema\n"
     ]
    },
    {
     "data": {
      "text/plain": [
       "Schema([('A', Int64), ('B', Int64)])"
      ]
     },
     "execution_count": 124,
     "metadata": {},
     "output_type": "execute_result"
    }
   ],
   "source": [
    "data_parquet = pl.read_parquet(\"data.parquet\")\n",
    "data_parquet_lazy = pl.scan_parquet(\"data.parquet\")\n",
    "data_parquet_lazy.schema\n"
   ]
  },
  {
   "cell_type": "markdown",
   "metadata": {},
   "source": [
    "## Objetos python"
   ]
  },
  {
   "cell_type": "code",
   "execution_count": 125,
   "metadata": {},
   "outputs": [],
   "source": [
    "import numpy as np\n",
    "import pandas as pd\n",
    "import polars as pl\n",
    "\n",
    "polars_data = pl.DataFrame({\n",
    "    \"A\": [1, 2, 3, 4, 5],\n",
    "    \"B\": [6, 7, 8, 9, 10]\n",
    "})\n",
    "\n",
    "pandas_data = pd.DataFrame({\n",
    "    \"A\": [1, 2, 3, 4, 5],\n",
    "    \"B\": [6, 7, 8, 9, 10]\n",
    "})\n",
    "\n",
    "numpy_data = np.array([\n",
    "    [1, 2, 3, 4, 5],\n",
    "    [6, 7, 8, 9, 10]\n",
    "]).T"
   ]
  },
  {
   "cell_type": "code",
   "execution_count": 126,
   "metadata": {},
   "outputs": [
    {
     "data": {
      "text/html": [
       "<div><style>\n",
       ".dataframe > thead > tr,\n",
       ".dataframe > tbody > tr {\n",
       "  text-align: right;\n",
       "  white-space: pre-wrap;\n",
       "}\n",
       "</style>\n",
       "<small>shape: (5, 2)</small><table border=\"1\" class=\"dataframe\"><thead><tr><th>A</th><th>B</th></tr><tr><td>i64</td><td>i64</td></tr></thead><tbody><tr><td>1</td><td>6</td></tr><tr><td>2</td><td>7</td></tr><tr><td>3</td><td>8</td></tr><tr><td>4</td><td>9</td></tr><tr><td>5</td><td>10</td></tr></tbody></table></div>"
      ],
      "text/plain": [
       "shape: (5, 2)\n",
       "┌─────┬─────┐\n",
       "│ A   ┆ B   │\n",
       "│ --- ┆ --- │\n",
       "│ i64 ┆ i64 │\n",
       "╞═════╪═════╡\n",
       "│ 1   ┆ 6   │\n",
       "│ 2   ┆ 7   │\n",
       "│ 3   ┆ 8   │\n",
       "│ 4   ┆ 9   │\n",
       "│ 5   ┆ 10  │\n",
       "└─────┴─────┘"
      ]
     },
     "execution_count": 126,
     "metadata": {},
     "output_type": "execute_result"
    }
   ],
   "source": [
    "pl.from_pandas(pandas_data)"
   ]
  },
  {
   "cell_type": "code",
   "execution_count": 127,
   "metadata": {},
   "outputs": [
    {
     "data": {
      "text/html": [
       "<div><style>\n",
       ".dataframe > thead > tr,\n",
       ".dataframe > tbody > tr {\n",
       "  text-align: right;\n",
       "  white-space: pre-wrap;\n",
       "}\n",
       "</style>\n",
       "<small>shape: (5, 2)</small><table border=\"1\" class=\"dataframe\"><thead><tr><th>column_0</th><th>column_1</th></tr><tr><td>i64</td><td>i64</td></tr></thead><tbody><tr><td>1</td><td>6</td></tr><tr><td>2</td><td>7</td></tr><tr><td>3</td><td>8</td></tr><tr><td>4</td><td>9</td></tr><tr><td>5</td><td>10</td></tr></tbody></table></div>"
      ],
      "text/plain": [
       "shape: (5, 2)\n",
       "┌──────────┬──────────┐\n",
       "│ column_0 ┆ column_1 │\n",
       "│ ---      ┆ ---      │\n",
       "│ i64      ┆ i64      │\n",
       "╞══════════╪══════════╡\n",
       "│ 1        ┆ 6        │\n",
       "│ 2        ┆ 7        │\n",
       "│ 3        ┆ 8        │\n",
       "│ 4        ┆ 9        │\n",
       "│ 5        ┆ 10       │\n",
       "└──────────┴──────────┘"
      ]
     },
     "execution_count": 127,
     "metadata": {},
     "output_type": "execute_result"
    }
   ],
   "source": [
    "pl.from_numpy(numpy_data)"
   ]
  },
  {
   "cell_type": "code",
   "execution_count": 128,
   "metadata": {},
   "outputs": [
    {
     "data": {
      "text/html": [
       "<div><style>\n",
       ".dataframe > thead > tr,\n",
       ".dataframe > tbody > tr {\n",
       "  text-align: right;\n",
       "  white-space: pre-wrap;\n",
       "}\n",
       "</style>\n",
       "<small>shape: (5, 2)</small><table border=\"1\" class=\"dataframe\"><thead><tr><th>A</th><th>B</th></tr><tr><td>i16</td><td>i16</td></tr></thead><tbody><tr><td>1</td><td>6</td></tr><tr><td>2</td><td>7</td></tr><tr><td>3</td><td>8</td></tr><tr><td>4</td><td>9</td></tr><tr><td>5</td><td>10</td></tr></tbody></table></div>"
      ],
      "text/plain": [
       "shape: (5, 2)\n",
       "┌─────┬─────┐\n",
       "│ A   ┆ B   │\n",
       "│ --- ┆ --- │\n",
       "│ i16 ┆ i16 │\n",
       "╞═════╪═════╡\n",
       "│ 1   ┆ 6   │\n",
       "│ 2   ┆ 7   │\n",
       "│ 3   ┆ 8   │\n",
       "│ 4   ┆ 9   │\n",
       "│ 5   ┆ 10  │\n",
       "└─────┴─────┘"
      ]
     },
     "execution_count": 128,
     "metadata": {},
     "output_type": "execute_result"
    }
   ],
   "source": [
    "pl.from_numpy(numpy_data, schema={\"A\": pl.Int16, \"B\": pl.Int16})"
   ]
  },
  {
   "cell_type": "code",
   "execution_count": 129,
   "metadata": {},
   "outputs": [
    {
     "data": {
      "text/html": [
       "<div>\n",
       "<style scoped>\n",
       "    .dataframe tbody tr th:only-of-type {\n",
       "        vertical-align: middle;\n",
       "    }\n",
       "\n",
       "    .dataframe tbody tr th {\n",
       "        vertical-align: top;\n",
       "    }\n",
       "\n",
       "    .dataframe thead th {\n",
       "        text-align: right;\n",
       "    }\n",
       "</style>\n",
       "<table border=\"1\" class=\"dataframe\">\n",
       "  <thead>\n",
       "    <tr style=\"text-align: right;\">\n",
       "      <th></th>\n",
       "      <th>A</th>\n",
       "      <th>B</th>\n",
       "    </tr>\n",
       "  </thead>\n",
       "  <tbody>\n",
       "    <tr>\n",
       "      <th>0</th>\n",
       "      <td>1</td>\n",
       "      <td>6</td>\n",
       "    </tr>\n",
       "    <tr>\n",
       "      <th>1</th>\n",
       "      <td>2</td>\n",
       "      <td>7</td>\n",
       "    </tr>\n",
       "    <tr>\n",
       "      <th>2</th>\n",
       "      <td>3</td>\n",
       "      <td>8</td>\n",
       "    </tr>\n",
       "    <tr>\n",
       "      <th>3</th>\n",
       "      <td>4</td>\n",
       "      <td>9</td>\n",
       "    </tr>\n",
       "    <tr>\n",
       "      <th>4</th>\n",
       "      <td>5</td>\n",
       "      <td>10</td>\n",
       "    </tr>\n",
       "  </tbody>\n",
       "</table>\n",
       "</div>"
      ],
      "text/plain": [
       "   A   B\n",
       "0  1   6\n",
       "1  2   7\n",
       "2  3   8\n",
       "3  4   9\n",
       "4  5  10"
      ]
     },
     "execution_count": 129,
     "metadata": {},
     "output_type": "execute_result"
    }
   ],
   "source": [
    "polars_data.to_pandas()"
   ]
  },
  {
   "cell_type": "code",
   "execution_count": 130,
   "metadata": {},
   "outputs": [
    {
     "data": {
      "text/plain": [
       "array([[ 1,  6],\n",
       "       [ 2,  7],\n",
       "       [ 3,  8],\n",
       "       [ 4,  9],\n",
       "       [ 5, 10]])"
      ]
     },
     "execution_count": 130,
     "metadata": {},
     "output_type": "execute_result"
    }
   ],
   "source": [
    "polars_data.to_numpy()"
   ]
  },
  {
   "cell_type": "markdown",
   "metadata": {},
   "source": [
    "# Joins\n",
    "## Inner\n",
    "Produce un DataFrame que contiene solo las filas donde la clave de unión existe en ambos DataFrames."
   ]
  },
  {
   "cell_type": "code",
   "execution_count": 131,
   "metadata": {},
   "outputs": [
    {
     "name": "stdout",
     "output_type": "stream",
     "text": [
      "shape: (3, 2)\n",
      "┌─────────────┬─────────┐\n",
      "│ customer_id ┆ name    │\n",
      "│ ---         ┆ ---     │\n",
      "│ i64         ┆ str     │\n",
      "╞═════════════╪═════════╡\n",
      "│ 1           ┆ Alice   │\n",
      "│ 2           ┆ Bob     │\n",
      "│ 3           ┆ Charlie │\n",
      "└─────────────┴─────────┘\n"
     ]
    }
   ],
   "source": [
    "df_customers = pl.DataFrame(\n",
    "    {\n",
    "        \"customer_id\": [1, 2, 3],\n",
    "        \"name\": [\"Alice\", \"Bob\", \"Charlie\"],\n",
    "    }\n",
    ")\n",
    "print(df_customers)"
   ]
  },
  {
   "cell_type": "code",
   "execution_count": 132,
   "metadata": {},
   "outputs": [
    {
     "name": "stdout",
     "output_type": "stream",
     "text": [
      "shape: (3, 3)\n",
      "┌──────────┬─────────────┬────────┐\n",
      "│ order_id ┆ customer_id ┆ amount │\n",
      "│ ---      ┆ ---         ┆ ---    │\n",
      "│ str      ┆ i64         ┆ i64    │\n",
      "╞══════════╪═════════════╪════════╡\n",
      "│ a        ┆ 1           ┆ 100    │\n",
      "│ b        ┆ 2           ┆ 200    │\n",
      "│ c        ┆ 2           ┆ 300    │\n",
      "└──────────┴─────────────┴────────┘\n"
     ]
    }
   ],
   "source": [
    "df_orders = pl.DataFrame(\n",
    "    {\n",
    "        \"order_id\": [\"a\", \"b\", \"c\"],\n",
    "        \"customer_id\": [1, 2, 2],\n",
    "        \"amount\": [100, 200, 300],\n",
    "    }\n",
    ")\n",
    "print(df_orders)"
   ]
  },
  {
   "cell_type": "code",
   "execution_count": 133,
   "metadata": {},
   "outputs": [
    {
     "data": {
      "text/html": [
       "<div><style>\n",
       ".dataframe > thead > tr,\n",
       ".dataframe > tbody > tr {\n",
       "  text-align: right;\n",
       "  white-space: pre-wrap;\n",
       "}\n",
       "</style>\n",
       "<small>shape: (3, 4)</small><table border=\"1\" class=\"dataframe\"><thead><tr><th>customer_id</th><th>name</th><th>order_id</th><th>amount</th></tr><tr><td>i64</td><td>str</td><td>str</td><td>i64</td></tr></thead><tbody><tr><td>1</td><td>&quot;Alice&quot;</td><td>&quot;a&quot;</td><td>100</td></tr><tr><td>2</td><td>&quot;Bob&quot;</td><td>&quot;b&quot;</td><td>200</td></tr><tr><td>2</td><td>&quot;Bob&quot;</td><td>&quot;c&quot;</td><td>300</td></tr></tbody></table></div>"
      ],
      "text/plain": [
       "shape: (3, 4)\n",
       "┌─────────────┬───────┬──────────┬────────┐\n",
       "│ customer_id ┆ name  ┆ order_id ┆ amount │\n",
       "│ ---         ┆ ---   ┆ ---      ┆ ---    │\n",
       "│ i64         ┆ str   ┆ str      ┆ i64    │\n",
       "╞═════════════╪═══════╪══════════╪════════╡\n",
       "│ 1           ┆ Alice ┆ a        ┆ 100    │\n",
       "│ 2           ┆ Bob   ┆ b        ┆ 200    │\n",
       "│ 2           ┆ Bob   ┆ c        ┆ 300    │\n",
       "└─────────────┴───────┴──────────┴────────┘"
      ]
     },
     "execution_count": 133,
     "metadata": {},
     "output_type": "execute_result"
    }
   ],
   "source": [
    "df_customers.join(df_orders, on=\"customer_id\", how=\"inner\")"
   ]
  },
  {
   "cell_type": "markdown",
   "metadata": {},
   "source": [
    "## Left (outer) join\n",
    "Produce un DataFrame que contiene todas las filas del DataFrame de la izquierda y solo las filas del DataFrame de la derecha donde la clave de unión existe en el DataFrame de la izquierda. Si tomamos el ejemplo anterior y queremos obtener un DataFrame con todos los clientes y sus pedidos asociados (independientemente de si han realizado un pedido o no), podemos hacer una unión izquierda:"
   ]
  },
  {
   "cell_type": "code",
   "execution_count": 134,
   "metadata": {},
   "outputs": [
    {
     "data": {
      "text/html": [
       "<div><style>\n",
       ".dataframe > thead > tr,\n",
       ".dataframe > tbody > tr {\n",
       "  text-align: right;\n",
       "  white-space: pre-wrap;\n",
       "}\n",
       "</style>\n",
       "<small>shape: (4, 4)</small><table border=\"1\" class=\"dataframe\"><thead><tr><th>customer_id</th><th>name</th><th>order_id</th><th>amount</th></tr><tr><td>i64</td><td>str</td><td>str</td><td>i64</td></tr></thead><tbody><tr><td>1</td><td>&quot;Alice&quot;</td><td>&quot;a&quot;</td><td>100</td></tr><tr><td>2</td><td>&quot;Bob&quot;</td><td>&quot;b&quot;</td><td>200</td></tr><tr><td>2</td><td>&quot;Bob&quot;</td><td>&quot;c&quot;</td><td>300</td></tr><tr><td>3</td><td>&quot;Charlie&quot;</td><td>null</td><td>null</td></tr></tbody></table></div>"
      ],
      "text/plain": [
       "shape: (4, 4)\n",
       "┌─────────────┬─────────┬──────────┬────────┐\n",
       "│ customer_id ┆ name    ┆ order_id ┆ amount │\n",
       "│ ---         ┆ ---     ┆ ---      ┆ ---    │\n",
       "│ i64         ┆ str     ┆ str      ┆ i64    │\n",
       "╞═════════════╪═════════╪══════════╪════════╡\n",
       "│ 1           ┆ Alice   ┆ a        ┆ 100    │\n",
       "│ 2           ┆ Bob     ┆ b        ┆ 200    │\n",
       "│ 2           ┆ Bob     ┆ c        ┆ 300    │\n",
       "│ 3           ┆ Charlie ┆ null     ┆ null   │\n",
       "└─────────────┴─────────┴──────────┴────────┘"
      ]
     },
     "execution_count": 134,
     "metadata": {},
     "output_type": "execute_result"
    }
   ],
   "source": [
    "df_customers.join(df_orders, on=\"customer_id\", how=\"left\")"
   ]
  },
  {
   "cell_type": "markdown",
   "metadata": {},
   "source": [
    "## Right (outer) join"
   ]
  },
  {
   "cell_type": "code",
   "execution_count": 135,
   "metadata": {},
   "outputs": [
    {
     "data": {
      "text/html": [
       "<div><style>\n",
       ".dataframe > thead > tr,\n",
       ".dataframe > tbody > tr {\n",
       "  text-align: right;\n",
       "  white-space: pre-wrap;\n",
       "}\n",
       "</style>\n",
       "<small>shape: (4, 4)</small><table border=\"1\" class=\"dataframe\"><thead><tr><th>order_id</th><th>amount</th><th>customer_id</th><th>name</th></tr><tr><td>str</td><td>i64</td><td>i64</td><td>str</td></tr></thead><tbody><tr><td>&quot;a&quot;</td><td>100</td><td>1</td><td>&quot;Alice&quot;</td></tr><tr><td>&quot;b&quot;</td><td>200</td><td>2</td><td>&quot;Bob&quot;</td></tr><tr><td>&quot;c&quot;</td><td>300</td><td>2</td><td>&quot;Bob&quot;</td></tr><tr><td>null</td><td>null</td><td>3</td><td>&quot;Charlie&quot;</td></tr></tbody></table></div>"
      ],
      "text/plain": [
       "shape: (4, 4)\n",
       "┌──────────┬────────┬─────────────┬─────────┐\n",
       "│ order_id ┆ amount ┆ customer_id ┆ name    │\n",
       "│ ---      ┆ ---    ┆ ---         ┆ ---     │\n",
       "│ str      ┆ i64    ┆ i64         ┆ str     │\n",
       "╞══════════╪════════╪═════════════╪═════════╡\n",
       "│ a        ┆ 100    ┆ 1           ┆ Alice   │\n",
       "│ b        ┆ 200    ┆ 2           ┆ Bob     │\n",
       "│ c        ┆ 300    ┆ 2           ┆ Bob     │\n",
       "│ null     ┆ null   ┆ 3           ┆ Charlie │\n",
       "└──────────┴────────┴─────────────┴─────────┘"
      ]
     },
     "execution_count": 135,
     "metadata": {},
     "output_type": "execute_result"
    }
   ],
   "source": [
    "df_orders.join(df_customers, on=\"customer_id\", how=\"right\")"
   ]
  },
  {
   "cell_type": "markdown",
   "metadata": {},
   "source": [
    "## Outer join\n",
    "Produce un DataFrame que contiene todas las filas de ambos DataFrames. Las columnas son nulas si la clave de unión no existe en el DataFrame de origen. Realizar una unión externa completa en los dos DataFrames anteriores produce un DataFrame similar a la unión izquierda:"
   ]
  },
  {
   "cell_type": "code",
   "execution_count": 136,
   "metadata": {},
   "outputs": [
    {
     "data": {
      "text/html": [
       "<div><style>\n",
       ".dataframe > thead > tr,\n",
       ".dataframe > tbody > tr {\n",
       "  text-align: right;\n",
       "  white-space: pre-wrap;\n",
       "}\n",
       "</style>\n",
       "<small>shape: (4, 5)</small><table border=\"1\" class=\"dataframe\"><thead><tr><th>customer_id</th><th>name</th><th>order_id</th><th>customer_id_right</th><th>amount</th></tr><tr><td>i64</td><td>str</td><td>str</td><td>i64</td><td>i64</td></tr></thead><tbody><tr><td>1</td><td>&quot;Alice&quot;</td><td>&quot;a&quot;</td><td>1</td><td>100</td></tr><tr><td>2</td><td>&quot;Bob&quot;</td><td>&quot;b&quot;</td><td>2</td><td>200</td></tr><tr><td>2</td><td>&quot;Bob&quot;</td><td>&quot;c&quot;</td><td>2</td><td>300</td></tr><tr><td>3</td><td>&quot;Charlie&quot;</td><td>null</td><td>null</td><td>null</td></tr></tbody></table></div>"
      ],
      "text/plain": [
       "shape: (4, 5)\n",
       "┌─────────────┬─────────┬──────────┬───────────────────┬────────┐\n",
       "│ customer_id ┆ name    ┆ order_id ┆ customer_id_right ┆ amount │\n",
       "│ ---         ┆ ---     ┆ ---      ┆ ---               ┆ ---    │\n",
       "│ i64         ┆ str     ┆ str      ┆ i64               ┆ i64    │\n",
       "╞═════════════╪═════════╪══════════╪═══════════════════╪════════╡\n",
       "│ 1           ┆ Alice   ┆ a        ┆ 1                 ┆ 100    │\n",
       "│ 2           ┆ Bob     ┆ b        ┆ 2                 ┆ 200    │\n",
       "│ 2           ┆ Bob     ┆ c        ┆ 2                 ┆ 300    │\n",
       "│ 3           ┆ Charlie ┆ null     ┆ null              ┆ null   │\n",
       "└─────────────┴─────────┴──────────┴───────────────────┴────────┘"
      ]
     },
     "execution_count": 136,
     "metadata": {},
     "output_type": "execute_result"
    }
   ],
   "source": [
    "df_customers.join(df_orders, on=\"customer_id\", how=\"full\")"
   ]
  },
  {
   "cell_type": "code",
   "execution_count": 137,
   "metadata": {},
   "outputs": [
    {
     "data": {
      "text/html": [
       "<div><style>\n",
       ".dataframe > thead > tr,\n",
       ".dataframe > tbody > tr {\n",
       "  text-align: right;\n",
       "  white-space: pre-wrap;\n",
       "}\n",
       "</style>\n",
       "<small>shape: (4, 4)</small><table border=\"1\" class=\"dataframe\"><thead><tr><th>customer_id</th><th>name</th><th>order_id</th><th>amount</th></tr><tr><td>i64</td><td>str</td><td>str</td><td>i64</td></tr></thead><tbody><tr><td>1</td><td>&quot;Alice&quot;</td><td>&quot;a&quot;</td><td>100</td></tr><tr><td>2</td><td>&quot;Bob&quot;</td><td>&quot;b&quot;</td><td>200</td></tr><tr><td>2</td><td>&quot;Bob&quot;</td><td>&quot;c&quot;</td><td>300</td></tr><tr><td>3</td><td>&quot;Charlie&quot;</td><td>null</td><td>null</td></tr></tbody></table></div>"
      ],
      "text/plain": [
       "shape: (4, 4)\n",
       "┌─────────────┬─────────┬──────────┬────────┐\n",
       "│ customer_id ┆ name    ┆ order_id ┆ amount │\n",
       "│ ---         ┆ ---     ┆ ---      ┆ ---    │\n",
       "│ i64         ┆ str     ┆ str      ┆ i64    │\n",
       "╞═════════════╪═════════╪══════════╪════════╡\n",
       "│ 1           ┆ Alice   ┆ a        ┆ 100    │\n",
       "│ 2           ┆ Bob     ┆ b        ┆ 200    │\n",
       "│ 2           ┆ Bob     ┆ c        ┆ 300    │\n",
       "│ 3           ┆ Charlie ┆ null     ┆ null   │\n",
       "└─────────────┴─────────┴──────────┴────────┘"
      ]
     },
     "execution_count": 137,
     "metadata": {},
     "output_type": "execute_result"
    }
   ],
   "source": [
    "df_customers.join(\n",
    "    df_orders, on=\"customer_id\", how=\"full\", coalesce=True\n",
    ")"
   ]
  },
  {
   "cell_type": "markdown",
   "metadata": {},
   "source": [
    "## Cross join"
   ]
  },
  {
   "cell_type": "code",
   "execution_count": 138,
   "metadata": {},
   "outputs": [
    {
     "data": {
      "text/html": [
       "<div><style>\n",
       ".dataframe > thead > tr,\n",
       ".dataframe > tbody > tr {\n",
       "  text-align: right;\n",
       "  white-space: pre-wrap;\n",
       "}\n",
       "</style>\n",
       "<small>shape: (3, 1)</small><table border=\"1\" class=\"dataframe\"><thead><tr><th>color</th></tr><tr><td>str</td></tr></thead><tbody><tr><td>&quot;red&quot;</td></tr><tr><td>&quot;blue&quot;</td></tr><tr><td>&quot;green&quot;</td></tr></tbody></table></div>"
      ],
      "text/plain": [
       "shape: (3, 1)\n",
       "┌───────┐\n",
       "│ color │\n",
       "│ ---   │\n",
       "│ str   │\n",
       "╞═══════╡\n",
       "│ red   │\n",
       "│ blue  │\n",
       "│ green │\n",
       "└───────┘"
      ]
     },
     "execution_count": 138,
     "metadata": {},
     "output_type": "execute_result"
    }
   ],
   "source": [
    "df_colors = pl.DataFrame(\n",
    "    {\n",
    "        \"color\": [\"red\", \"blue\", \"green\"],\n",
    "    }\n",
    ")\n",
    "df_colors"
   ]
  },
  {
   "cell_type": "code",
   "execution_count": 139,
   "metadata": {},
   "outputs": [
    {
     "data": {
      "text/html": [
       "<div><style>\n",
       ".dataframe > thead > tr,\n",
       ".dataframe > tbody > tr {\n",
       "  text-align: right;\n",
       "  white-space: pre-wrap;\n",
       "}\n",
       "</style>\n",
       "<small>shape: (3, 1)</small><table border=\"1\" class=\"dataframe\"><thead><tr><th>size</th></tr><tr><td>str</td></tr></thead><tbody><tr><td>&quot;S&quot;</td></tr><tr><td>&quot;M&quot;</td></tr><tr><td>&quot;L&quot;</td></tr></tbody></table></div>"
      ],
      "text/plain": [
       "shape: (3, 1)\n",
       "┌──────┐\n",
       "│ size │\n",
       "│ ---  │\n",
       "│ str  │\n",
       "╞══════╡\n",
       "│ S    │\n",
       "│ M    │\n",
       "│ L    │\n",
       "└──────┘"
      ]
     },
     "execution_count": 139,
     "metadata": {},
     "output_type": "execute_result"
    }
   ],
   "source": [
    "df_sizes = pl.DataFrame(\n",
    "    {\n",
    "        \"size\": [\"S\", \"M\", \"L\"],\n",
    "    }\n",
    ")\n",
    "df_sizes"
   ]
  },
  {
   "cell_type": "code",
   "execution_count": 140,
   "metadata": {},
   "outputs": [
    {
     "data": {
      "text/html": [
       "<div><style>\n",
       ".dataframe > thead > tr,\n",
       ".dataframe > tbody > tr {\n",
       "  text-align: right;\n",
       "  white-space: pre-wrap;\n",
       "}\n",
       "</style>\n",
       "<small>shape: (9, 2)</small><table border=\"1\" class=\"dataframe\"><thead><tr><th>color</th><th>size</th></tr><tr><td>str</td><td>str</td></tr></thead><tbody><tr><td>&quot;red&quot;</td><td>&quot;S&quot;</td></tr><tr><td>&quot;red&quot;</td><td>&quot;M&quot;</td></tr><tr><td>&quot;red&quot;</td><td>&quot;L&quot;</td></tr><tr><td>&quot;blue&quot;</td><td>&quot;S&quot;</td></tr><tr><td>&quot;blue&quot;</td><td>&quot;M&quot;</td></tr><tr><td>&quot;blue&quot;</td><td>&quot;L&quot;</td></tr><tr><td>&quot;green&quot;</td><td>&quot;S&quot;</td></tr><tr><td>&quot;green&quot;</td><td>&quot;M&quot;</td></tr><tr><td>&quot;green&quot;</td><td>&quot;L&quot;</td></tr></tbody></table></div>"
      ],
      "text/plain": [
       "shape: (9, 2)\n",
       "┌───────┬──────┐\n",
       "│ color ┆ size │\n",
       "│ ---   ┆ ---  │\n",
       "│ str   ┆ str  │\n",
       "╞═══════╪══════╡\n",
       "│ red   ┆ S    │\n",
       "│ red   ┆ M    │\n",
       "│ red   ┆ L    │\n",
       "│ blue  ┆ S    │\n",
       "│ blue  ┆ M    │\n",
       "│ blue  ┆ L    │\n",
       "│ green ┆ S    │\n",
       "│ green ┆ M    │\n",
       "│ green ┆ L    │\n",
       "└───────┴──────┘"
      ]
     },
     "execution_count": 140,
     "metadata": {},
     "output_type": "execute_result"
    }
   ],
   "source": [
    "df_colors.join(df_sizes, how=\"cross\")"
   ]
  },
  {
   "cell_type": "markdown",
   "metadata": {},
   "source": [
    "## Semi join\n",
    "Devuelve todas las filas del DataFrame de la izquierda en las que la clave de unión también está presente en el DataFrame de la derecha. Considera el siguiente escenario: una empresa de alquiler de autos tiene un DataFrame que muestra los autos que posee, donde cada auto tiene un ID único."
   ]
  },
  {
   "cell_type": "code",
   "execution_count": 141,
   "metadata": {},
   "outputs": [
    {
     "data": {
      "text/html": [
       "<div><style>\n",
       ".dataframe > thead > tr,\n",
       ".dataframe > tbody > tr {\n",
       "  text-align: right;\n",
       "  white-space: pre-wrap;\n",
       "}\n",
       "</style>\n",
       "<small>shape: (3, 2)</small><table border=\"1\" class=\"dataframe\"><thead><tr><th>id</th><th>make</th></tr><tr><td>str</td><td>str</td></tr></thead><tbody><tr><td>&quot;a&quot;</td><td>&quot;ford&quot;</td></tr><tr><td>&quot;b&quot;</td><td>&quot;toyota&quot;</td></tr><tr><td>&quot;c&quot;</td><td>&quot;bmw&quot;</td></tr></tbody></table></div>"
      ],
      "text/plain": [
       "shape: (3, 2)\n",
       "┌─────┬────────┐\n",
       "│ id  ┆ make   │\n",
       "│ --- ┆ ---    │\n",
       "│ str ┆ str    │\n",
       "╞═════╪════════╡\n",
       "│ a   ┆ ford   │\n",
       "│ b   ┆ toyota │\n",
       "│ c   ┆ bmw    │\n",
       "└─────┴────────┘"
      ]
     },
     "execution_count": 141,
     "metadata": {},
     "output_type": "execute_result"
    }
   ],
   "source": [
    "df_cars = pl.DataFrame(\n",
    "    {\n",
    "        \"id\": [\"a\", \"b\", \"c\"],\n",
    "        \"make\": [\"ford\", \"toyota\", \"bmw\"],\n",
    "    }\n",
    ")\n",
    "df_cars"
   ]
  },
  {
   "cell_type": "code",
   "execution_count": 142,
   "metadata": {},
   "outputs": [
    {
     "data": {
      "text/html": [
       "<div><style>\n",
       ".dataframe > thead > tr,\n",
       ".dataframe > tbody > tr {\n",
       "  text-align: right;\n",
       "  white-space: pre-wrap;\n",
       "}\n",
       "</style>\n",
       "<small>shape: (2, 2)</small><table border=\"1\" class=\"dataframe\"><thead><tr><th>id</th><th>cost</th></tr><tr><td>str</td><td>i64</td></tr></thead><tbody><tr><td>&quot;c&quot;</td><td>100</td></tr><tr><td>&quot;c&quot;</td><td>200</td></tr></tbody></table></div>"
      ],
      "text/plain": [
       "shape: (2, 2)\n",
       "┌─────┬──────┐\n",
       "│ id  ┆ cost │\n",
       "│ --- ┆ ---  │\n",
       "│ str ┆ i64  │\n",
       "╞═════╪══════╡\n",
       "│ c   ┆ 100  │\n",
       "│ c   ┆ 200  │\n",
       "└─────┴──────┘"
      ]
     },
     "execution_count": 142,
     "metadata": {},
     "output_type": "execute_result"
    }
   ],
   "source": [
    "df_repairs = pl.DataFrame(\n",
    "    {\n",
    "        \"id\": [\"c\", \"c\"],\n",
    "        \"cost\": [100, 200],\n",
    "    }\n",
    ")\n",
    "df_repairs"
   ]
  },
  {
   "cell_type": "markdown",
   "metadata": {},
   "source": [
    "Quieres responder a esta pregunta: ¿cuáles de los autos han tenido reparaciones realizadas?\n",
    "\n",
    "Una inner join no responde directamente a esta pregunta, ya que produce un DataFrame con múltiples filas para cada auto que ha tenido múltiples trabajos de reparación."
   ]
  },
  {
   "cell_type": "code",
   "execution_count": 143,
   "metadata": {},
   "outputs": [
    {
     "data": {
      "text/html": [
       "<div><style>\n",
       ".dataframe > thead > tr,\n",
       ".dataframe > tbody > tr {\n",
       "  text-align: right;\n",
       "  white-space: pre-wrap;\n",
       "}\n",
       "</style>\n",
       "<small>shape: (2, 3)</small><table border=\"1\" class=\"dataframe\"><thead><tr><th>id</th><th>make</th><th>cost</th></tr><tr><td>str</td><td>str</td><td>i64</td></tr></thead><tbody><tr><td>&quot;c&quot;</td><td>&quot;bmw&quot;</td><td>100</td></tr><tr><td>&quot;c&quot;</td><td>&quot;bmw&quot;</td><td>200</td></tr></tbody></table></div>"
      ],
      "text/plain": [
       "shape: (2, 3)\n",
       "┌─────┬──────┬──────┐\n",
       "│ id  ┆ make ┆ cost │\n",
       "│ --- ┆ ---  ┆ ---  │\n",
       "│ str ┆ str  ┆ i64  │\n",
       "╞═════╪══════╪══════╡\n",
       "│ c   ┆ bmw  ┆ 100  │\n",
       "│ c   ┆ bmw  ┆ 200  │\n",
       "└─────┴──────┴──────┘"
      ]
     },
     "execution_count": 143,
     "metadata": {},
     "output_type": "execute_result"
    }
   ],
   "source": [
    "df_cars.join(df_repairs, on=\"id\", how=\"inner\")"
   ]
  },
  {
   "cell_type": "code",
   "execution_count": 144,
   "metadata": {},
   "outputs": [
    {
     "data": {
      "text/html": [
       "<div><style>\n",
       ".dataframe > thead > tr,\n",
       ".dataframe > tbody > tr {\n",
       "  text-align: right;\n",
       "  white-space: pre-wrap;\n",
       "}\n",
       "</style>\n",
       "<small>shape: (1, 2)</small><table border=\"1\" class=\"dataframe\"><thead><tr><th>id</th><th>make</th></tr><tr><td>str</td><td>str</td></tr></thead><tbody><tr><td>&quot;c&quot;</td><td>&quot;bmw&quot;</td></tr></tbody></table></div>"
      ],
      "text/plain": [
       "shape: (1, 2)\n",
       "┌─────┬──────┐\n",
       "│ id  ┆ make │\n",
       "│ --- ┆ ---  │\n",
       "│ str ┆ str  │\n",
       "╞═════╪══════╡\n",
       "│ c   ┆ bmw  │\n",
       "└─────┴──────┘"
      ]
     },
     "execution_count": 144,
     "metadata": {},
     "output_type": "execute_result"
    }
   ],
   "source": [
    "df_cars.join(df_repairs, on=\"id\", how=\"semi\")"
   ]
  },
  {
   "cell_type": "markdown",
   "metadata": {},
   "source": [
    "## Anti join\n",
    "Continuando con este ejemplo, una pregunta alternativa podría ser: ¿cuáles de los autos no han tenido un trabajo de reparación realizado? Una unión anti produce un DataFrame que muestra todos los autos de df_cars donde el ID no está presente en el DataFrame df_repairs."
   ]
  },
  {
   "cell_type": "code",
   "execution_count": 145,
   "metadata": {},
   "outputs": [
    {
     "data": {
      "text/html": [
       "<div><style>\n",
       ".dataframe > thead > tr,\n",
       ".dataframe > tbody > tr {\n",
       "  text-align: right;\n",
       "  white-space: pre-wrap;\n",
       "}\n",
       "</style>\n",
       "<small>shape: (2, 2)</small><table border=\"1\" class=\"dataframe\"><thead><tr><th>id</th><th>make</th></tr><tr><td>str</td><td>str</td></tr></thead><tbody><tr><td>&quot;a&quot;</td><td>&quot;ford&quot;</td></tr><tr><td>&quot;b&quot;</td><td>&quot;toyota&quot;</td></tr></tbody></table></div>"
      ],
      "text/plain": [
       "shape: (2, 2)\n",
       "┌─────┬────────┐\n",
       "│ id  ┆ make   │\n",
       "│ --- ┆ ---    │\n",
       "│ str ┆ str    │\n",
       "╞═════╪════════╡\n",
       "│ a   ┆ ford   │\n",
       "│ b   ┆ toyota │\n",
       "└─────┴────────┘"
      ]
     },
     "execution_count": 145,
     "metadata": {},
     "output_type": "execute_result"
    }
   ],
   "source": [
    "df_cars.join(df_repairs, on=\"id\", how=\"anti\")"
   ]
  },
  {
   "cell_type": "markdown",
   "metadata": {},
   "source": [
    "## Asof join\n",
    "Es similar a una left join, excepto que se empareja con la clave más cercana en lugar de claves iguales. En Polars, podemos hacer una unión “asof” con el método join_asof.\n",
    "\n",
    "Considera el siguiente escenario: un corredor de bolsa tiene un DataFrame llamado df_trades que muestra las transacciones que ha realizado para diferentes acciones."
   ]
  },
  {
   "cell_type": "code",
   "execution_count": 146,
   "metadata": {},
   "outputs": [
    {
     "data": {
      "text/html": [
       "<div><style>\n",
       ".dataframe > thead > tr,\n",
       ".dataframe > tbody > tr {\n",
       "  text-align: right;\n",
       "  white-space: pre-wrap;\n",
       "}\n",
       "</style>\n",
       "<small>shape: (4, 3)</small><table border=\"1\" class=\"dataframe\"><thead><tr><th>time</th><th>stock</th><th>trade</th></tr><tr><td>datetime[μs]</td><td>str</td><td>i64</td></tr></thead><tbody><tr><td>2020-01-01 09:01:00</td><td>&quot;A&quot;</td><td>101</td></tr><tr><td>2020-01-01 09:01:00</td><td>&quot;B&quot;</td><td>299</td></tr><tr><td>2020-01-01 09:03:00</td><td>&quot;B&quot;</td><td>301</td></tr><tr><td>2020-01-01 09:06:00</td><td>&quot;C&quot;</td><td>500</td></tr></tbody></table></div>"
      ],
      "text/plain": [
       "shape: (4, 3)\n",
       "┌─────────────────────┬───────┬───────┐\n",
       "│ time                ┆ stock ┆ trade │\n",
       "│ ---                 ┆ ---   ┆ ---   │\n",
       "│ datetime[μs]        ┆ str   ┆ i64   │\n",
       "╞═════════════════════╪═══════╪═══════╡\n",
       "│ 2020-01-01 09:01:00 ┆ A     ┆ 101   │\n",
       "│ 2020-01-01 09:01:00 ┆ B     ┆ 299   │\n",
       "│ 2020-01-01 09:03:00 ┆ B     ┆ 301   │\n",
       "│ 2020-01-01 09:06:00 ┆ C     ┆ 500   │\n",
       "└─────────────────────┴───────┴───────┘"
      ]
     },
     "execution_count": 146,
     "metadata": {},
     "output_type": "execute_result"
    }
   ],
   "source": [
    "df_trades = pl.DataFrame(\n",
    "    {\n",
    "        \"time\": [\n",
    "            datetime(2020, 1, 1, 9, 1, 0),\n",
    "            datetime(2020, 1, 1, 9, 1, 0),\n",
    "            datetime(2020, 1, 1, 9, 3, 0),\n",
    "            datetime(2020, 1, 1, 9, 6, 0),\n",
    "        ],\n",
    "        \"stock\": [\"A\", \"B\", \"B\", \"C\"],\n",
    "        \"trade\": [101, 299, 301, 500],\n",
    "    }\n",
    ")\n",
    "df_trades"
   ]
  },
  {
   "cell_type": "markdown",
   "metadata": {},
   "source": [
    "El corredor de bolsa tiene otro DataFrame llamado df_quotes que muestra los precios que ha cotizado para estas acciones."
   ]
  },
  {
   "cell_type": "code",
   "execution_count": 148,
   "metadata": {},
   "outputs": [
    {
     "data": {
      "text/html": [
       "<div><style>\n",
       ".dataframe > thead > tr,\n",
       ".dataframe > tbody > tr {\n",
       "  text-align: right;\n",
       "  white-space: pre-wrap;\n",
       "}\n",
       "</style>\n",
       "<small>shape: (4, 3)</small><table border=\"1\" class=\"dataframe\"><thead><tr><th>time</th><th>stock</th><th>quote</th></tr><tr><td>datetime[μs]</td><td>str</td><td>i64</td></tr></thead><tbody><tr><td>2020-01-01 09:00:00</td><td>&quot;A&quot;</td><td>100</td></tr><tr><td>2020-01-01 09:02:00</td><td>&quot;B&quot;</td><td>300</td></tr><tr><td>2020-01-01 09:04:00</td><td>&quot;C&quot;</td><td>501</td></tr><tr><td>2020-01-01 09:06:00</td><td>&quot;A&quot;</td><td>102</td></tr></tbody></table></div>"
      ],
      "text/plain": [
       "shape: (4, 3)\n",
       "┌─────────────────────┬───────┬───────┐\n",
       "│ time                ┆ stock ┆ quote │\n",
       "│ ---                 ┆ ---   ┆ ---   │\n",
       "│ datetime[μs]        ┆ str   ┆ i64   │\n",
       "╞═════════════════════╪═══════╪═══════╡\n",
       "│ 2020-01-01 09:00:00 ┆ A     ┆ 100   │\n",
       "│ 2020-01-01 09:02:00 ┆ B     ┆ 300   │\n",
       "│ 2020-01-01 09:04:00 ┆ C     ┆ 501   │\n",
       "│ 2020-01-01 09:06:00 ┆ A     ┆ 102   │\n",
       "└─────────────────────┴───────┴───────┘"
      ]
     },
     "execution_count": 148,
     "metadata": {},
     "output_type": "execute_result"
    }
   ],
   "source": [
    "df_quotes = pl.DataFrame(\n",
    "    {\n",
    "        \"time\": [\n",
    "            datetime(2020, 1, 1, 9, 0, 0),\n",
    "            datetime(2020, 1, 1, 9, 2, 0),\n",
    "            datetime(2020, 1, 1, 9, 4, 0),\n",
    "            datetime(2020, 1, 1, 9, 6, 0),\n",
    "        ],\n",
    "        \"stock\": [\"A\", \"B\", \"C\", \"A\"],\n",
    "        \"quote\": [100, 300, 501, 102],\n",
    "    }\n",
    ")\n",
    "df_quotes"
   ]
  },
  {
   "cell_type": "markdown",
   "metadata": {},
   "source": [
    "Queremos producir un DataFrame que muestre, para cada transacción, la cotización más reciente proporcionada antes de la transacción. Haces esto con join_asof (usando la estrategia predeterminada strategy=\"backward\"). Para evitar unir transacciones de una acción con una cotización de otra, debes especificar una unión preliminar exacta en la columna de acciones con by=\"stock\"."
   ]
  },
  {
   "cell_type": "code",
   "execution_count": 149,
   "metadata": {},
   "outputs": [
    {
     "data": {
      "text/html": [
       "<div><style>\n",
       ".dataframe > thead > tr,\n",
       ".dataframe > tbody > tr {\n",
       "  text-align: right;\n",
       "  white-space: pre-wrap;\n",
       "}\n",
       "</style>\n",
       "<small>shape: (4, 4)</small><table border=\"1\" class=\"dataframe\"><thead><tr><th>time</th><th>stock</th><th>trade</th><th>quote</th></tr><tr><td>datetime[μs]</td><td>str</td><td>i64</td><td>i64</td></tr></thead><tbody><tr><td>2020-01-01 09:01:00</td><td>&quot;A&quot;</td><td>101</td><td>100</td></tr><tr><td>2020-01-01 09:01:00</td><td>&quot;B&quot;</td><td>299</td><td>null</td></tr><tr><td>2020-01-01 09:03:00</td><td>&quot;B&quot;</td><td>301</td><td>300</td></tr><tr><td>2020-01-01 09:06:00</td><td>&quot;C&quot;</td><td>500</td><td>501</td></tr></tbody></table></div>"
      ],
      "text/plain": [
       "shape: (4, 4)\n",
       "┌─────────────────────┬───────┬───────┬───────┐\n",
       "│ time                ┆ stock ┆ trade ┆ quote │\n",
       "│ ---                 ┆ ---   ┆ ---   ┆ ---   │\n",
       "│ datetime[μs]        ┆ str   ┆ i64   ┆ i64   │\n",
       "╞═════════════════════╪═══════╪═══════╪═══════╡\n",
       "│ 2020-01-01 09:01:00 ┆ A     ┆ 101   ┆ 100   │\n",
       "│ 2020-01-01 09:01:00 ┆ B     ┆ 299   ┆ null  │\n",
       "│ 2020-01-01 09:03:00 ┆ B     ┆ 301   ┆ 300   │\n",
       "│ 2020-01-01 09:06:00 ┆ C     ┆ 500   ┆ 501   │\n",
       "└─────────────────────┴───────┴───────┴───────┘"
      ]
     },
     "execution_count": 149,
     "metadata": {},
     "output_type": "execute_result"
    }
   ],
   "source": [
    "df_trades.join_asof(df_quotes, on=\"time\", by=\"stock\")"
   ]
  },
  {
   "cell_type": "markdown",
   "metadata": {},
   "source": [
    "Si queremos asegurar de que solo se unan las cotizaciones dentro de un cierto rango de tiempo a las transacciones, especificamos el argumento tolerance. En este caso, queremos asegurarnos de que la última cotización anterior esté dentro de 1 minuto de la transacción, por lo que establecemos tolerance = \"1m\"."
   ]
  },
  {
   "cell_type": "code",
   "execution_count": 150,
   "metadata": {},
   "outputs": [
    {
     "data": {
      "text/html": [
       "<div><style>\n",
       ".dataframe > thead > tr,\n",
       ".dataframe > tbody > tr {\n",
       "  text-align: right;\n",
       "  white-space: pre-wrap;\n",
       "}\n",
       "</style>\n",
       "<small>shape: (4, 4)</small><table border=\"1\" class=\"dataframe\"><thead><tr><th>time</th><th>stock</th><th>trade</th><th>quote</th></tr><tr><td>datetime[μs]</td><td>str</td><td>i64</td><td>i64</td></tr></thead><tbody><tr><td>2020-01-01 09:01:00</td><td>&quot;A&quot;</td><td>101</td><td>100</td></tr><tr><td>2020-01-01 09:01:00</td><td>&quot;B&quot;</td><td>299</td><td>null</td></tr><tr><td>2020-01-01 09:03:00</td><td>&quot;B&quot;</td><td>301</td><td>300</td></tr><tr><td>2020-01-01 09:06:00</td><td>&quot;C&quot;</td><td>500</td><td>null</td></tr></tbody></table></div>"
      ],
      "text/plain": [
       "shape: (4, 4)\n",
       "┌─────────────────────┬───────┬───────┬───────┐\n",
       "│ time                ┆ stock ┆ trade ┆ quote │\n",
       "│ ---                 ┆ ---   ┆ ---   ┆ ---   │\n",
       "│ datetime[μs]        ┆ str   ┆ i64   ┆ i64   │\n",
       "╞═════════════════════╪═══════╪═══════╪═══════╡\n",
       "│ 2020-01-01 09:01:00 ┆ A     ┆ 101   ┆ 100   │\n",
       "│ 2020-01-01 09:01:00 ┆ B     ┆ 299   ┆ null  │\n",
       "│ 2020-01-01 09:03:00 ┆ B     ┆ 301   ┆ 300   │\n",
       "│ 2020-01-01 09:06:00 ┆ C     ┆ 500   ┆ null  │\n",
       "└─────────────────────┴───────┴───────┴───────┘"
      ]
     },
     "execution_count": 150,
     "metadata": {},
     "output_type": "execute_result"
    }
   ],
   "source": [
    "df_trades.join_asof(\n",
    "    df_quotes, on=\"time\", by=\"stock\", tolerance=\"1m\"\n",
    ")"
   ]
  },
  {
   "cell_type": "code",
   "execution_count": null,
   "metadata": {},
   "outputs": [],
   "source": []
  }
 ],
 "metadata": {
  "kernelspec": {
   "display_name": "Python 3 (ipykernel)",
   "language": "python",
   "name": "python3"
  },
  "language_info": {
   "codemirror_mode": {
    "name": "ipython",
    "version": 3
   },
   "file_extension": ".py",
   "mimetype": "text/x-python",
   "name": "python",
   "nbconvert_exporter": "python",
   "pygments_lexer": "ipython3",
   "version": "3.12.1"
  }
 },
 "nbformat": 4,
 "nbformat_minor": 4
}
